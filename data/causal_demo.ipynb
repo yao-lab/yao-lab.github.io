{
 "cells": [
  {
   "cell_type": "code",
   "execution_count": 162,
   "metadata": {},
   "outputs": [],
   "source": [
    "%matplotlib inline\n",
    "\n",
    "import numpy as np\n",
    "from pyprimal import Dantzig\n",
    "import matplotlib\n",
    "import matplotlib.pyplot as plt\n",
    "import math\n",
    "import cvxpy as cp\n",
    "#pip install pyprimal"
   ]
  },
  {
   "cell_type": "markdown",
   "metadata": {},
   "source": [
    "# Causal Dantzig 复现\n"
   ]
  },
  {
   "cell_type": "markdown",
   "metadata": {},
   "source": [
    "## 简单数据集 \n",
    "### 直接求Inverse"
   ]
  },
  {
   "cell_type": "markdown",
   "metadata": {},
   "source": [
    "数据生成\n",
    "此处的causal factor为第二个factor对应index是1"
   ]
  },
  {
   "cell_type": "code",
   "execution_count": 163,
   "metadata": {},
   "outputs": [],
   "source": [
    "def simple_dataset():\n",
    "    n = 1000\n",
    "    eta = np.random.multivariate_normal(mean = np.zeros((5,)), cov=np.eye(5), size=(n,))\n",
    "    \n",
    "    sigma = [0, 1, 4]\n",
    "    \n",
    "    data ={}\n",
    "    for i in [1, 2]:\n",
    "        data['X'+ str(i)] = np.zeros((n,3))\n",
    "        data['Y'+ str(i)]  = np.zeros((n,1))\n",
    "        data['X'+ str(i)][:,1] = eta[:, 0] + sigma[i] * eta[:, 3]\n",
    "        data['Y'+ str(i)] = data['X'+ str(i)][:,1] + eta[:, 0] +eta[:, 1] \n",
    "        data['X'+ str(i)][:,0] = data['Y'+ str(i)].ravel() +  data['X'+ str(i)][:,1] + sigma[i] * eta[:, 2]\n",
    "        data['X'+ str(i)][:,2] =  data['X'+ str(i)][:,0]  +   eta[:, 0] + sigma[i] * eta[:, 4]\n",
    "    return data"
   ]
  },
  {
   "cell_type": "markdown",
   "metadata": {},
   "source": [
    "Dantzig $\\beta=G^{-1}Z$"
   ]
  },
  {
   "cell_type": "code",
   "execution_count": 164,
   "metadata": {},
   "outputs": [],
   "source": [
    "class Unregularized_Dantzig(object):\n",
    "    def __init__(self, X1, Y1, X2, Y2):\n",
    "       \n",
    "        self.X1=X1\n",
    "        self.Y1=Y1\n",
    "        self.X2=X2\n",
    "        self.Y2=Y2\n",
    "        assert(len(self.X1)==len(self.Y1))\n",
    "        assert(len(self.X2)==len(self.Y2))\n",
    "        self.env_num=2\n",
    "        \n",
    "    def solve(self):\n",
    "        ## cal gram matrix \n",
    "        G = np.matmul(self.X1.transpose(), self.X1)/len(self.X1) -  np.matmul(self.X2.transpose(), self.X2)/len(self.X2)\n",
    "        Z = np.matmul(self.X1.transpose(), self.Y1)/len(self.X1) -  np.matmul(self.X2.transpose(), self.Y2)/len(self.X2)\n",
    "        beta = np.matmul(np.linalg.inv(G), Z)\n",
    "        print(((Z - np.matmul(G, beta))**2 / 2).sum())\n",
    "        return beta\n",
    "        "
   ]
  },
  {
   "cell_type": "markdown",
   "metadata": {},
   "source": [
    "求解"
   ]
  },
  {
   "cell_type": "code",
   "execution_count": 165,
   "metadata": {},
   "outputs": [
    {
     "name": "stdout",
     "output_type": "stream",
     "text": [
      "5.064487011518896e-28\n",
      "Weight :  [ 2.83552476e-03  9.92465488e-01 -8.00929938e-04]\n"
     ]
    }
   ],
   "source": [
    "data = simple_dataset()\n",
    "unreg_dangtzig = Unregularized_Dantzig(X1=data['X1'], Y1=data['Y1'],X2=data['X2'], Y2=data['Y2'])\n",
    "beta = unreg_dangtzig.solve()\n",
    "print('Weight : ', beta)"
   ]
  },
  {
   "cell_type": "markdown",
   "metadata": {},
   "source": [
    "## 高维数据\n",
    "$min \\|\\beta \\|_1 \\quad s.t. \\quad \\| Z-G\\beta\\|_{\\infty} \\leq \\lambda$"
   ]
  },
  {
   "cell_type": "markdown",
   "metadata": {},
   "source": [
    "数据生成\n",
    "此处的causal factor为第二个factor对应index是1"
   ]
  },
  {
   "cell_type": "code",
   "execution_count": 166,
   "metadata": {},
   "outputs": [],
   "source": [
    "def high_dim_dataset(n=100, p=200):\n",
    "    eta = np.random.randn(n,p)\n",
    "    delta = np.random.randn(n,p)*2.5\n",
    "    etay =  np.random.randn(n,)\n",
    "    data ={}\n",
    "    data['X1'] = np.zeros((n,p))\n",
    "    data['Y1']  = np.zeros((n,1))\n",
    "    data['X2'] = np.zeros((n,p))\n",
    "    data['Y2']  = np.zeros((n,1))\n",
    "    \n",
    "    data['X1'][:, 0] = eta[:, 0]\n",
    "    data['X2'][:, 0] = eta[:, 0] +delta[:, 0]\n",
    "    \n",
    "    data['X1'][:, 1] = eta[:, 1] +data['X1'][:, 0] \n",
    "    data['X2'][:, 1] = eta[:, 1] +data['X2'][:, 0] + delta[:, 1]\n",
    "\n",
    "    data['Y1']  =data['X1'][:, 1] + etay\n",
    "    data['Y2']  = data['X2'][:, 1] + etay    \n",
    "    data['X1'][:, 2] = eta[:, 2] +data['Y1']\n",
    "    data['X2'][:, 2] = eta[:, 2] +data['Y2'] + delta[:, 2]\n",
    "    \n",
    "    for k in range(3, p):\n",
    "        data['X1'][:, k] = eta[:, k] +data['X1'][:, k-1] \n",
    "        data['X2'][:, k] = eta[:, k] +data['X2'][:, k-1] +  delta[:, k]\n",
    "        \n",
    "    return data"
   ]
  },
  {
   "cell_type": "markdown",
   "metadata": {},
   "source": [
    "Dantzig求解"
   ]
  },
  {
   "cell_type": "code",
   "execution_count": 167,
   "metadata": {},
   "outputs": [],
   "source": [
    "class Regularized_Dantzig(object):\n",
    "    def __init__(self, X1, Y1, X2, Y2):\n",
    "        mean = np.mean(np.vstack([X1, X2]), 0)\n",
    "        mean_y = np.mean(np.vstack([Y1, Y2]), 0)\n",
    "        X1, X2 = X1-mean, X2-mean\n",
    "        Y1, Y2 = Y1-mean_y, Y2-mean_y\n",
    "        scale =   np.sqrt(np.mean(X1**2, 0)) +  np.sqrt(np.mean(X2**2, 0))\n",
    "        scale /= 2\n",
    "        self.X1=X1/scale\n",
    "        self.Y1=Y1\n",
    "        self.X2=X2/scale\n",
    "        self.Y2=Y2\n",
    "    def solve(self):\n",
    "        G = np.matmul(self.X1.transpose(), self.X1)/len(self.X1) -  np.matmul(self.X2.transpose(), self.X2)/len(self.X2)\n",
    "        Z = np.matmul(self.X1.transpose(), self.Y1)/len(self.X1) -  np.matmul(self.X2.transpose(), self.Y2)/len(self.X2)\n",
    "        G  = (G- np.mean(G,0 ))/np.std(G,0 )\n",
    "        Z  = (Z- np.mean(Z, 0))/np.std(Z, 0)\n",
    "        solver = Dantzig(G,Z)\n",
    "        solver.train()\n",
    "        result = solver.coef()\n",
    "      \n",
    "        the_list = np.array((result['theta_list']))\n",
    "        for i in the_list:\n",
    "            if np.sum(i) > 0:\n",
    "                print(\"最早出现的weight\" , i)\n",
    "                break\n",
    "        solver.plot(mode=\"regpath\") \n",
    "        return result"
   ]
  },
  {
   "cell_type": "code",
   "execution_count": 168,
   "metadata": {},
   "outputs": [
    {
     "name": "stdout",
     "output_type": "stream",
     "text": [
      "最早出现的weight [0.         0.81825661 0.         0.         0.         0.\n",
      " 0.         0.         0.         0.         0.         0.\n",
      " 0.         0.         0.         0.         0.         0.\n",
      " 0.         0.         0.         0.         0.         0.\n",
      " 0.         0.         0.         0.         0.         0.\n",
      " 0.         0.         0.         0.         0.         0.\n",
      " 0.         0.         0.         0.         0.         0.\n",
      " 0.         0.         0.         0.         0.         0.\n",
      " 0.         0.         0.         0.         0.         0.\n",
      " 0.         0.         0.         0.         0.         0.\n",
      " 0.         0.         0.         0.         0.         0.\n",
      " 0.         0.         0.         0.         0.         0.\n",
      " 0.         0.         0.         0.         0.         0.\n",
      " 0.         0.         0.         0.         0.         0.\n",
      " 0.         0.         0.         0.         0.         0.\n",
      " 0.         0.         0.         0.         0.         0.\n",
      " 0.         0.         0.         0.         0.         0.\n",
      " 0.         0.         0.         0.         0.         0.\n",
      " 0.         0.         0.         0.         0.         0.\n",
      " 0.         0.         0.         0.         0.         0.\n",
      " 0.         0.         0.         0.         0.         0.\n",
      " 0.         0.         0.         0.         0.         0.\n",
      " 0.         0.         0.         0.         0.         0.\n",
      " 0.         0.         0.         0.         0.         0.\n",
      " 0.         0.         0.         0.         0.         0.\n",
      " 0.         0.         0.         0.         0.         0.\n",
      " 0.         0.         0.         0.         0.         0.\n",
      " 0.         0.         0.         0.         0.         0.\n",
      " 0.         0.         0.         0.         0.         0.\n",
      " 0.         0.         0.         0.         0.         0.\n",
      " 0.         0.         0.         0.         0.         0.\n",
      " 0.         0.         0.         0.         0.         0.\n",
      " 0.         0.         0.         0.         0.         0.\n",
      " 0.         0.        ]\n"
     ]
    },
    {
     "data": {
      "image/png": "[encoded data removed]",
      "text/plain": [
       "<Figure size 432x288 with 1 Axes>"
      ]
     },
     "metadata": {
      "needs_background": "light"
     },
     "output_type": "display_data"
    }
   ],
   "source": [
    "data = high_dim_dataset()\n",
    "# data = simple_dataset()\n",
    "regu_dantzig = Regularized_Dantzig(X1=data['X1'], Y1=data['Y1'],X2=data['X2'], Y2=data['Y2'])\n",
    "weight = regu_dantzig.solve()\n"
   ]
  },
  {
   "cell_type": "markdown",
   "metadata": {},
   "source": [
    "## LBI 求解\n",
    "$min \\|Z - G\\beta\\|_{\\infty}^2 + \\lambda \\| \\beta\\|_1$"
   ]
  },
  {
   "cell_type": "code",
   "execution_count": 169,
   "metadata": {},
   "outputs": [],
   "source": [
    "class LBI(object):\n",
    "    def __init__(self, X1, Y1, X2, Y2):\n",
    "        mean = np.mean(np.vstack([X1, X2]), 0)\n",
    "        mean_y = np.mean(np.vstack([Y1, Y2]), 0)\n",
    "        X1, X2 = X1-mean, X2-mean\n",
    "        Y1, Y2 = Y1-mean_y, Y2-mean_y\n",
    "        scale =   np.sqrt(np.mean(X1**2, 0)) +  np.sqrt(np.mean(X2**2, 0))\n",
    "        scale /= 2\n",
    "        self.X1=X1/scale\n",
    "        self.Y1=Y1\n",
    "        self.X2=X2/scale\n",
    "        self.Y2=Y2\n",
    "    def solve(self, kappa=100):\n",
    "        # cal G and Z\n",
    "        G = np.matmul(self.X1.transpose(), self.X1)/len(self.X1) -  np.matmul(self.X2.transpose(), self.X2)/len(self.X2)\n",
    "        Z = np.matmul(self.X1.transpose(), self.Y1)/len(self.X1) -  np.matmul(self.X2.transpose(), self.Y2)/len(self.X2)\n",
    "        G  = (G- np.mean(G,0 ))/np.std(G,0 )\n",
    "        Z  = (Z- np.mean(Z, 0))/np.std(Z, 0)\n",
    "        p = G.shape[1]\n",
    "        weight = np.zeros((p,))\n",
    "        kappa =kappa\n",
    "        L_list = []\n",
    "        n = G.shape[0]\n",
    "        p = G.shape[1]\n",
    "        weight = np.zeros((p,))\n",
    "        z = np.zeros((p,))\n",
    "        path = []\n",
    "        selection_list  = []\n",
    "        selection_epoch_list = []\n",
    "        res = np.matmul(G, weight) - Z\n",
    "        max_index = np.random.choice(np.where(np.abs(res) == np.abs(res).max())[0])\n",
    "        H = np.matmul(G.transpose(), G/p)\n",
    "        _,d,_ = np.linalg.svd(H)\n",
    "        s = d[max_index]\n",
    "        alpha =1/(s*kappa) \n",
    "        inf_n  = np.max(np.abs(res))\n",
    "        ga = np.zeros(res.shape[0], )\n",
    "        max_index = np.random.choice(np.where(np.abs(res) == np.abs(res).max())[0])\n",
    "        ga[max_index] = np.sign(res[max_index])\n",
    "        grad =  inf_n* (np.matmul(G.transpose(), ga).ravel())/p\n",
    "        grad_m = np.max(np.abs(grad))\n",
    "        z -= grad/grad_m\n",
    "        count = 0 \n",
    "        while True:\n",
    "            res = np.matmul(G, weight) - Z\n",
    "            max_index = np.random.choice(np.where(np.abs(res) == np.abs(res).max())[0])\n",
    "            H = np.matmul(G.transpose(), G/p)\n",
    "            _,d,_ = np.linalg.svd(H)\n",
    "            s =d[max_index]\n",
    "            alpha =1/(s*kappa) \n",
    "            L = np.linalg.norm((Z - np.matmul(G, weight)), np.inf)**2\n",
    "            res = np.matmul(G, weight) - Z\n",
    "            inf_n  = np.max(np.abs(res))\n",
    "            ga = np.zeros(res.shape[0], )\n",
    "            max_index = np.random.choice(np.where(np.abs(res) == np.abs(res).max())[0])\n",
    "            ga[max_index] = np.sign(res[max_index])\n",
    "            grad = 2* inf_n* (np.matmul(G.transpose(), ga).ravel())/p\n",
    "            z = z  -alpha *grad\n",
    "            weight = kappa * np.sign(z) * np.clip(np.abs(z)-1, 0,10000000)\n",
    "            w_r = weight.ravel()\n",
    "            non_zero_list = [k for k in range(len(w_r)) if w_r[k] !=0 ]\n",
    "            for ke in non_zero_list:\n",
    "                if ke not in selection_list:\n",
    "                    selection_list.append(ke)\n",
    "                    selection_epoch_list.append(count+1)\n",
    "            count += 1\n",
    "            L_list.append(L)\n",
    "            path.append(weight)\n",
    "            if count > 100:\n",
    "                break\n",
    "            if np.max(grad) < 1e-3:\n",
    "                break\n",
    "        print(weight)\n",
    "        path = np.array(path)\n",
    "#         print(path.shape)\n",
    "        plt.figure()\n",
    "        for i in range(path.shape[1]):\n",
    "            if i==1:\n",
    "                plt.plot(range(len(path[:,i])),path[:,i], label=\"causal_\" + str(i))\n",
    "                plt.legend()\n",
    "            else:\n",
    "                plt.plot(range(len(path[:,i])),path[:,i])\n",
    "                \n",
    "                \n",
    "            \n",
    "        plt.show()\n",
    "            \n",
    "        "
   ]
  },
  {
   "cell_type": "code",
   "execution_count": 170,
   "metadata": {},
   "outputs": [
    {
     "name": "stdout",
     "output_type": "stream",
     "text": [
      "[ 0.          0.44907114  0.          0.          0.          0.\n",
      " -0.         -0.         -0.         -0.         -0.         -0.\n",
      " -0.         -0.         -0.         -0.         -0.         -0.\n",
      " -0.         -0.         -0.         -0.         -0.         -0.\n",
      " -0.         -0.         -0.         -0.         -0.         -0.\n",
      " -0.         -0.         -0.         -0.         -0.         -0.\n",
      " -0.         -0.         -0.         -0.         -0.         -0.\n",
      " -0.         -0.         -0.         -0.         -0.         -0.\n",
      " -0.         -0.         -0.         -0.         -0.         -0.\n",
      " -0.         -0.         -0.         -0.         -0.         -0.\n",
      " -0.         -0.         -0.         -0.         -0.         -0.\n",
      " -0.         -0.         -0.         -0.         -0.         -0.\n",
      " -0.         -0.         -0.         -0.         -0.         -0.\n",
      " -0.         -0.         -0.         -0.         -0.         -0.\n",
      " -0.         -0.         -0.         -0.         -0.         -0.\n",
      " -0.         -0.         -0.         -0.         -0.         -0.\n",
      " -0.         -0.         -0.         -0.         -0.         -0.\n",
      " -0.         -0.         -0.         -0.         -0.         -0.\n",
      " -0.         -0.         -0.         -0.         -0.         -0.\n",
      " -0.         -0.         -0.         -0.         -0.         -0.\n",
      " -0.         -0.         -0.         -0.         -0.         -0.\n",
      " -0.         -0.         -0.         -0.         -0.         -0.\n",
      " -0.         -0.         -0.         -0.         -0.         -0.\n",
      " -0.         -0.         -0.         -0.         -0.         -0.\n",
      " -0.         -0.         -0.         -0.         -0.         -0.\n",
      " -0.         -0.         -0.         -0.         -0.         -0.\n",
      " -0.         -0.         -0.         -0.         -0.         -0.\n",
      " -0.         -0.         -0.         -0.         -0.         -0.\n",
      " -0.         -0.         -0.         -0.         -0.         -0.\n",
      " -0.         -0.         -0.         -0.         -0.         -0.\n",
      " -0.         -0.         -0.         -0.         -0.         -0.\n",
      " -0.         -0.         -0.         -0.         -0.         -0.\n",
      " -0.         -0.         -0.         -0.         -0.         -0.\n",
      " -0.         -0.        ]\n"
     ]
    },
    {
     "data": {
      "image/png": "[encoded data removed]",
      "text/plain": [
       "<Figure size 432x288 with 1 Axes>"
      ]
     },
     "metadata": {
      "needs_background": "light"
     },
     "output_type": "display_data"
    }
   ],
   "source": [
    "data = high_dim_dataset()\n",
    "regu_dantzig = LBI(X1=data['X1'], Y1=data['Y1'],X2=data['X2'], Y2=data['Y2'])\n",
    "weight = regu_dantzig.solve()\n"
   ]
  },
  {
   "cell_type": "markdown",
   "metadata": {},
   "source": [
    "## 基于ISS求解的LBI\n",
    "$min \\|Z - G\\beta\\|_{\\infty} + \\lambda \\| \\beta\\|_1$"
   ]
  },
  {
   "cell_type": "code",
   "execution_count": 171,
   "metadata": {},
   "outputs": [],
   "source": [
    "class LBI_ISS(object):\n",
    "    def __init__(self, X1, Y1, X2, Y2):\n",
    "        mean = np.mean(np.vstack([X1, X2]), 0)\n",
    "        mean_y = np.mean(np.vstack([Y1, Y2]), 0)\n",
    "        X1, X2 = X1-mean, X2-mean\n",
    "        Y1, Y2 = Y1-mean_y, Y2-mean_y\n",
    "        scale =   np.sqrt(np.mean(X1**2, 0)) +  np.sqrt(np.mean(X2**2, 0))\n",
    "        scale /= 2\n",
    "        self.X1=X1/scale\n",
    "        self.Y1=Y1\n",
    "        self.X2=X2/scale\n",
    "        self.Y2=Y2\n",
    "    \n",
    "    def update_t(self, rho, weight, grad):\n",
    "        t=np.inf\n",
    "        for i in range(len(grad)):\n",
    "            if weight[i] > 0:\n",
    "                t_tmp = (1 -rho[i])/grad[i]\n",
    "                t = min(t_tmp, t)\n",
    "            elif  weight[i] < 0:\n",
    "                t_tmp = (-1 -rho[i])/grad[i]\n",
    "                t = min(t_tmp, t)\n",
    "            else:\n",
    "                if grad[i] > 0:\n",
    "                    t_tmp = (1 -rho[i])/grad[i]\n",
    "                    t = min(t_tmp, t)\n",
    "                elif grad[i] < 0:\n",
    "                    t_tmp = (-1 -rho[i])/grad[i]\n",
    "                    t = min(t_tmp, t)\n",
    "                else:\n",
    "                    if np.abs(rho[i]) > 1:\n",
    "                        return None\n",
    "        if t>0:\n",
    "            return t\n",
    "        else:\n",
    "            return None\n",
    "                  \n",
    "    def solve(self, ):\n",
    "        # cal G and Z\n",
    "        G = np.matmul(self.X1.transpose(), self.X1)/len(self.X1) -  np.matmul(self.X2.transpose(), self.X2)/len(self.X2)\n",
    "        Z = np.matmul(self.X1.transpose(), self.Y1)/len(self.X1) -  np.matmul(self.X2.transpose(), self.Y2)/len(self.X2)\n",
    "        G  = (G- np.mean(G,0 ))/np.std(G,0 )\n",
    "        Z  = (Z- np.mean(Z, 0))/np.std(Z, 0)\n",
    "        p = G.shape[1]\n",
    "        weight = np.zeros((p,))\n",
    "        L_list = []\n",
    "        n = G.shape[0]\n",
    "        p = G.shape[1]\n",
    "        path = []\n",
    "        selection_list  = []\n",
    "        selection_epoch_list = []\n",
    "        count = 0\n",
    "        t=[0]\n",
    "        path.append(np.zeros(p,))\n",
    "        rho = [np.zeros(p,)]\n",
    "        while True:\n",
    "            loss = np.linalg.norm(np.matmul(G, weight) - Z, np.inf)\n",
    "            res = -np.matmul(G, weight) +Z\n",
    "#             print(\"Residue\", res)\n",
    "#             print(\"Loss : \", loss)\n",
    "            if loss < 1e-3:\n",
    "                break\n",
    "            max_index = np.random.choice(np.where(np.abs(res) == np.abs(res).max())[0])\n",
    "            ga = np.zeros(res.shape[0], )\n",
    "            \n",
    "            max_index = np.random.choice(np.where(np.abs(res) == np.abs(res).max())[0])\n",
    "            ga[max_index] = np.sign(res[max_index])\n",
    "            grad = np.matmul(G.transpose(), ga).ravel()\n",
    "            if np.max(np.abs(grad)) < 1e-5:\n",
    "                print(\"Gradient : \", grad)\n",
    "                break\n",
    "            ## solve for t\n",
    "            t_new = self.update_t(rho[count], weight, grad)\n",
    "#             print(\"rho : \", rho[count])\n",
    "#             print(\"grad : \", grad)\n",
    "            if t_new == None or t_new == np.inf:\n",
    "                print(\"Cannot Get Feasible t\")\n",
    "                print(weight)\n",
    "                \n",
    "                break\n",
    "            print(\"t : \", t_new)\n",
    "            if t_new < 1e-5:\n",
    "                break\n",
    "            t.append(t_new)\n",
    "            rho_new = rho[count] + t_new * grad\n",
    "            rho.append(rho_new)\n",
    "            S_ind = [ i for i in range(len(rho_new)) if math.isclose(rho_new[i],1.0,rel_tol=1e-5) ]            \n",
    "            if len(S_ind) == 0:\n",
    "                break\n",
    "            ### solve\n",
    "            constraint= []\n",
    "            G_new = G[:,S_ind]\n",
    "            if len(S_ind) == 1:\n",
    "                G_new = G_new.reshape(len(G), 1)\n",
    "            one_vector = np.array(rho_new)[S_ind]\n",
    "            beta = cp.Variable(len(S_ind))\n",
    "            constraint.append(cp.multiply(beta, one_vector)>=0)\n",
    "            prob = cp.Problem(cp.Minimize(cp.atoms.norm_inf(G_new@beta - Z)),\n",
    "                 constraint)\n",
    "            prob.solve()\n",
    "            weight[S_ind] = np.array(beta.value).ravel()\n",
    "            count += 1\n",
    "#             print(weight)\n",
    "            path.append(weight)\n",
    "            \n",
    "        the_list = np.array(path) \n",
    "        path = np.array(path)\n",
    "\n",
    "        plt.figure()\n",
    "        for i in range(path.shape[1]):\n",
    "            if i in[1]:\n",
    "                plt.plot(range(len(path[:,i])),path[:,i], label=\"causal_\" + str(i))\n",
    "                plt.legend()\n",
    "            else:\n",
    "                plt.plot(range(len(path[:,i])),path[:,i])\n",
    "                \n",
    "                \n",
    "            \n",
    "        plt.show()\n",
    "            \n",
    "     \n",
    "        \n",
    "        \n",
    "        \n",
    "        \n",
    "        \n",
    "        \n",
    "   "
   ]
  },
  {
   "cell_type": "code",
   "execution_count": 172,
   "metadata": {},
   "outputs": [
    {
     "name": "stdout",
     "output_type": "stream",
     "text": [
      "t :  0.20659790429529487\n",
      "Cannot Get Feasible t\n",
      "[0.         0.96820688 0.         0.         0.         0.\n",
      " 0.         0.         0.         0.         0.         0.\n",
      " 0.         0.         0.         0.         0.         0.\n",
      " 0.         0.         0.         0.         0.         0.\n",
      " 0.         0.         0.         0.         0.         0.\n",
      " 0.         0.         0.         0.         0.         0.\n",
      " 0.         0.         0.         0.         0.         0.\n",
      " 0.         0.         0.         0.         0.         0.\n",
      " 0.         0.         0.         0.         0.         0.\n",
      " 0.         0.         0.         0.         0.         0.\n",
      " 0.         0.         0.         0.         0.         0.\n",
      " 0.         0.         0.         0.         0.         0.\n",
      " 0.         0.         0.         0.         0.         0.\n",
      " 0.         0.         0.         0.         0.         0.\n",
      " 0.         0.         0.         0.         0.         0.\n",
      " 0.         0.         0.         0.         0.         0.\n",
      " 0.         0.         0.         0.         0.         0.\n",
      " 0.         0.         0.         0.         0.         0.\n",
      " 0.         0.         0.         0.         0.         0.\n",
      " 0.         0.         0.         0.         0.         0.\n",
      " 0.         0.         0.         0.         0.         0.\n",
      " 0.         0.         0.         0.         0.         0.\n",
      " 0.         0.         0.         0.         0.         0.\n",
      " 0.         0.         0.         0.         0.         0.\n",
      " 0.         0.         0.         0.         0.         0.\n",
      " 0.         0.         0.         0.         0.         0.\n",
      " 0.         0.         0.         0.         0.         0.\n",
      " 0.         0.         0.         0.         0.         0.\n",
      " 0.         0.         0.         0.         0.         0.\n",
      " 0.         0.         0.         0.         0.         0.\n",
      " 0.         0.         0.         0.         0.         0.\n",
      " 0.         0.         0.         0.         0.         0.\n",
      " 0.         0.         0.         0.         0.         0.\n",
      " 0.         0.        ]\n"
     ]
    },
    {
     "data": {
      "image/png": "[encoded data removed]",
      "text/plain": [
       "<Figure size 432x288 with 1 Axes>"
      ]
     },
     "metadata": {
      "needs_background": "light"
     },
     "output_type": "display_data"
    }
   ],
   "source": [
    "data = high_dim_dataset()\n",
    "regu_dantzig = LBI_ISS(X1=data['X1'], Y1=data['Y1'],X2=data['X2'], Y2=data['Y2'])\n",
    "regu_dantzig.solve()\n"
   ]
  },
  {
   "cell_type": "markdown",
   "metadata": {},
   "source": [
    " ## ISS 正常变量选择的例子\n",
    " $min \\|Y - X\\beta\\|_{2}^2 + \\lambda \\| \\beta\\|_1$\n",
    " oracle set 为 index 对应 1 2 3  第 2 3 4 个"
   ]
  },
  {
   "cell_type": "code",
   "execution_count": 173,
   "metadata": {},
   "outputs": [],
   "source": [
    "def simple_dataset_new(n=100, p=10):\n",
    "    data ={}\n",
    "    etay =  np.random.randn(n,)\n",
    "    eta = np.random.randn(n,p)\n",
    "    data['X1'] = eta\n",
    "    data['Y1'] = eta[:,1] +etay + eta[:,2] + eta[:,3]\n",
    "    \n",
    "    return data"
   ]
  },
  {
   "cell_type": "code",
   "execution_count": 176,
   "metadata": {},
   "outputs": [],
   "source": [
    "import copy\n",
    "class LBI_ISS_L2(object):\n",
    "    def __init__(self, X1, Y1):\n",
    "        self.X1=X1\n",
    "        self.Y1=Y1\n",
    "   \n",
    "    def update_t(self, rho, weight, grad):\n",
    "        t=np.inf\n",
    "        for i in range(len(grad)):\n",
    "            if weight[i] > 0:\n",
    "                if np.abs(grad[i]) > 1e-3:\n",
    "                    t_tmp = (1 -rho[i])/grad[i]\n",
    "                    t = min(t_tmp, t)\n",
    "            elif  weight[i] < 0:\n",
    "                if np.abs(grad[i]) > 1e-3:\n",
    "                    t_tmp = (-1 -rho[i])/grad[i]\n",
    "                    t = min(t_tmp, t)\n",
    "            else:\n",
    "                if grad[i] > 0:\n",
    "                    t_tmp = (1 -rho[i])/grad[i]\n",
    "                    t = min(t_tmp, t)\n",
    "                elif grad[i] < 0:\n",
    "                    t_tmp = (-1 -rho[i])/grad[i]\n",
    "                    t = min(t_tmp, t)\n",
    "                else:\n",
    "                    if np.abs(rho[i]) > 1:\n",
    "                        return None\n",
    "        if t>0:\n",
    "            return t\n",
    "        else:\n",
    "            return None\n",
    "            \n",
    "    def solve(self):\n",
    "        # cal G and Z\n",
    "        G = self.X1\n",
    "        Z = self.Y1\n",
    "        G  = (G- np.mean(G,0 ))/np.std(G,0 )\n",
    "        Z  = (Z- np.mean(Z, 0))/np.std(Z, 0)\n",
    "        p = G.shape[1]\n",
    "        weight = np.zeros((p,))\n",
    "        L_list = []\n",
    "        n = G.shape[0]\n",
    "        p = G.shape[1]\n",
    "        weight = np.zeros((p,))\n",
    "        path = []\n",
    "        count = 0\n",
    "        t=[0]\n",
    "        rho = [np.zeros(p,)]\n",
    "        while True:\n",
    "            res =- np.matmul(G, weight) + Z\n",
    "            max_index = np.random.choice(np.where(np.abs(res) == np.abs(res).max())[0])\n",
    "            grad = np.matmul(G.transpose(), res).ravel()\n",
    "            grad[np.abs(grad)<1e-3]=0\n",
    "\n",
    "            if np.max(np.abs(grad)) < 1e-5:\n",
    "                print(\"Gradient : \", grad)\n",
    "                break\n",
    "            ## solve for t\n",
    "            t_new = self.update_t(rho[count], weight, grad)\n",
    "            # print(\"rho : \", rho[count])\n",
    "            # print(\"grad : \", grad)\n",
    "            if t_new == None or t_new == np.inf:\n",
    "                print(\"Cannot Get Feasible t\")\n",
    "#                 print(weight)\n",
    "                break\n",
    "            # print(\"t : \", t_new)\n",
    "            if t_new < 1e-5:\n",
    "                break\n",
    "            t.append(t_new)\n",
    "            rho_new = rho[count] + t_new * grad\n",
    "            rho.append(rho_new)\n",
    "            # print(\"rho : \", rho_new)\n",
    "            S_ind = [ i for i in range(len(rho_new)) if math.isclose(rho_new[i],1.0,rel_tol=1e-5) ]            \n",
    "            if len(S_ind) == 0:\n",
    "                break\n",
    "            ### solve\n",
    "            constraint= []\n",
    "            G_new = G[:,S_ind]\n",
    "            if len(S_ind) == 1:\n",
    "                G_new = G_new.reshape(len(G), 1)\n",
    "            one_vector = np.array(rho_new)[S_ind]\n",
    "            beta = cp.Variable(len(S_ind))\n",
    "            constraint.append(cp.multiply(beta, one_vector)>=0)\n",
    "            prob = cp.Problem(cp.Minimize(cp.atoms.norm2(G_new@beta - Z)),\n",
    "                 constraint)\n",
    "            prob.solve()\n",
    "            \n",
    "            weight[S_ind] = np.array(beta.value).ravel()\n",
    "            count += 1\n",
    "            weight_ = copy.deepcopy(weight)\n",
    "            path.append(weight_)\n",
    "        path = np.array(path)\n",
    "\n",
    "        plt.figure()\n",
    "        for i in range(path.shape[1]):\n",
    "            if i in[1,2,3]:\n",
    "                plt.plot(range(len(path[:,i])),path[:,i], label=\"causal_\" + str(i))\n",
    "                plt.legend()\n",
    "            else:\n",
    "                plt.plot(range(len(path[:,i])),path[:,i])\n",
    "                \n",
    "                \n",
    "            \n",
    "        plt.show()\n",
    "            \n",
    "     \n",
    "        \n",
    "        \n",
    "        \n",
    "        return weight\n",
    "\n",
    "      "
   ]
  },
  {
   "cell_type": "code",
   "execution_count": 177,
   "metadata": {},
   "outputs": [
    {
     "name": "stdout",
     "output_type": "stream",
     "text": [
      "Cannot Get Feasible t\n"
     ]
    },
    {
     "data": {
      "image/png": "[encoded data removed]",
      "text/plain": [
       "<Figure size 432x288 with 1 Axes>"
      ]
     },
     "metadata": {
      "needs_background": "light"
     },
     "output_type": "display_data"
    },
    {
     "name": "stdout",
     "output_type": "stream",
     "text": [
      "[0.         0.52344892 0.59262941 0.49070739 0.         0.\n",
      " 0.         0.         0.         0.        ]\n"
     ]
    }
   ],
   "source": [
    "data = simple_dataset_new()\n",
    "lbi = LBI_ISS_L2(X1=data['X1'], Y1=data['Y1'])\n",
    "beta = lbi.solve()\n",
    "print(beta)"
   ]
  },
  {
   "cell_type": "code",
   "execution_count": null,
   "metadata": {},
   "outputs": [],
   "source": []
  },
  {
   "cell_type": "code",
   "execution_count": null,
   "metadata": {},
   "outputs": [],
   "source": []
  },
  {
   "cell_type": "code",
   "execution_count": null,
   "metadata": {},
   "outputs": [],
   "source": []
  }
 ],
 "metadata": {
  "kernelspec": {
   "display_name": "Python 3",
   "language": "python",
   "name": "python3"
  },
  "language_info": {
   "codemirror_mode": {
    "name": "ipython",
    "version": 3
   },
   "file_extension": ".py",
   "mimetype": "text/x-python",
   "name": "python",
   "nbconvert_exporter": "python",
   "pygments_lexer": "ipython3",
   "version": "3.8.5"
  }
 },
 "nbformat": 4,
 "nbformat_minor": 4
}
