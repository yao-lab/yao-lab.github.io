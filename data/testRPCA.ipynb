{
  "nbformat": 4,
  "nbformat_minor": 0,
  "metadata": {
    "colab": {
      "provenance": []
    },
    "kernelspec": {
      "name": "python3",
      "display_name": "Python 3"
    },
    "language_info": {
      "name": "python"
    }
  },
  "cells": [
    {
      "cell_type": "markdown",
      "source": [
        "# Demonstration of Robust PCA using cvxpy"
      ],
      "metadata": {
        "id": "DraQGuP2viME"
      }
    },
    {
      "cell_type": "code",
      "execution_count": 1,
      "metadata": {
        "id": "__GoPrULvNe2"
      },
      "outputs": [],
      "source": [
        "import cvxpy as cp\n",
        "import numpy as np\n"
      ]
    },
    {
      "cell_type": "code",
      "source": [
        "# Construct a random 20-by-20 Gaussian matrix and construct a rank-1 matrix using its top-1 singular vectors\n",
        "R = np.random.randn(20, 20)\n",
        "U, S, Vt = np.linalg.svd(R, full_matrices=False)\n",
        "L0 = np.outer(U[:, 0], Vt[0, :])\n",
        "\n",
        "# Construct a 90% uniformly sparse matrix\n",
        "E0 = np.random.rand(20, 20)\n",
        "S0 = 1 * (E0 > 0.9)\n",
        "X = L0 + S0\n",
        "\n",
        "# Choose the regularization parameter\n",
        "lambda_val = 0.25  # try different lambda #1/np.sqrt(20)\n"
      ],
      "metadata": {
        "id": "gyyRlIycv0_0"
      },
      "execution_count": 2,
      "outputs": []
    },
    {
      "cell_type": "code",
      "source": [
        "# Define and solve the cvxpy problem\n",
        "L = cp.Variable((20, 20))\n",
        "S = cp.Variable((20, 20))\n",
        "W1 = cp.Variable((20, 20), symmetric=True)\n",
        "W2 = cp.Variable((20, 20), symmetric=True)\n",
        "Y = cp.Variable((40, 40), symmetric=True)\n",
        "\n",
        "constraints = [\n",
        "    L + S >= X - 1e-5,\n",
        "    L + S <= X + 1e-5,\n",
        "    Y == cp.bmat([[W1, L.T], [L, W2]]),\n",
        "    Y >> 0  # PSD constraint\n",
        "]\n",
        "\n",
        "objective = cp.Minimize(0.5 * cp.trace(W1) + 0.5 * cp.trace(W2) + lambda_val * cp.pnorm(S, 1)) # note that np.norm(X_2,1) is matrix-1 norm, np.pnorm(X_2,1) is vectorized 1-norm.\n",
        "prob = cp.Problem(objective, constraints)\n",
        "prob.solve()\n",
        "\n",
        "# The difference between sparse solution S and true S0\n",
        "print('||S-S0||_infty:')\n",
        "print(np.linalg.norm(S.value - S0, np.inf))\n",
        "# The difference between the low rank solution L and true L0\n",
        "print('||L-L0||:')\n",
        "print(np.linalg.norm(L.value - L0))"
      ],
      "metadata": {
        "colab": {
          "base_uri": "https://localhost:8080/"
        },
        "id": "yXQz2zxov_n7",
        "outputId": "8e87f62e-afed-4466-de18-e8658d8de444"
      },
      "execution_count": 3,
      "outputs": [
        {
          "output_type": "stream",
          "name": "stdout",
          "text": [
            "||S-S0||_infty:\n",
            "0.00017785020835689246\n",
            "||L-L0||:\n",
            "0.0001922178946376474\n"
          ]
        }
      ]
    },
    {
      "cell_type": "code",
      "source": [
        "# Another simple cvxpy implementation directly using matrix nuclear norm\n",
        "X_1 = cp.Variable((20, 20))\n",
        "X_2 = cp.Variable((20, 20))\n",
        "\n",
        "objective_nuc = cp.Minimize(cp.normNuc(X_1) + lambda_val * cp.pnorm(X_2, 1)) # note that np.norm(X_2,1) is matrix-1 norm, np.pnorm(X_2,1) is vectorized 1-norm.\n",
        "constraints_nuc = [\n",
        "    X_1 + X_2 == X\n",
        "]\n",
        "prob_nuc = cp.Problem(objective_nuc, constraints_nuc)\n",
        "prob_nuc.solve(solver=cp.SCS, verbose=True)\n",
        "\n",
        "# The difference between sparse solution X_2 and true S0\n",
        "print('||X_2-S0||_infty:')\n",
        "print(np.linalg.norm(X_2.value - S0, np.inf))\n",
        "# The difference between the low rank solution X_1 and true L0\n",
        "print('||X_1-L0||:')\n",
        "print(np.linalg.norm(X_1.value - L0))"
      ],
      "metadata": {
        "colab": {
          "base_uri": "https://localhost:8080/"
        },
        "id": "2kMnh_pBwK_D",
        "outputId": "e748c600-8553-46b3-9cdb-63f768f5d27b"
      },
      "execution_count": 4,
      "outputs": [
        {
          "output_type": "stream",
          "name": "stdout",
          "text": [
            "===============================================================================\n",
            "                                     CVXPY                                     \n",
            "                                     v1.3.3                                    \n",
            "===============================================================================\n",
            "(CVXPY) Mar 14 05:51:54 AM: Your problem has 800 variables, 1 constraints, and 0 parameters.\n",
            "(CVXPY) Mar 14 05:51:54 AM: It is compliant with the following grammars: DCP, DQCP\n",
            "(CVXPY) Mar 14 05:51:54 AM: (If you need to solve this problem multiple times, but with different data, consider using parameters.)\n",
            "(CVXPY) Mar 14 05:51:54 AM: CVXPY will first compile your problem; then, it will invoke a numerical solver to obtain a solution.\n",
            "-------------------------------------------------------------------------------\n",
            "                                  Compilation                                  \n",
            "-------------------------------------------------------------------------------\n",
            "(CVXPY) Mar 14 05:51:54 AM: Compiling problem (target solver=SCS).\n",
            "(CVXPY) Mar 14 05:51:54 AM: Reduction chain: Dcp2Cone -> CvxAttr2Constr -> ConeMatrixStuffing -> SCS\n",
            "(CVXPY) Mar 14 05:51:54 AM: Applying reduction Dcp2Cone\n",
            "(CVXPY) Mar 14 05:51:54 AM: Applying reduction CvxAttr2Constr\n",
            "(CVXPY) Mar 14 05:51:54 AM: Applying reduction ConeMatrixStuffing\n",
            "(CVXPY) Mar 14 05:51:54 AM: Applying reduction SCS\n",
            "(CVXPY) Mar 14 05:51:54 AM: Finished problem compilation (took 4.017e-02 seconds).\n",
            "-------------------------------------------------------------------------------\n",
            "                                Numerical solver                               \n",
            "-------------------------------------------------------------------------------\n",
            "(CVXPY) Mar 14 05:51:54 AM: Invoking solver SCS  to obtain a solution.\n",
            "------------------------------------------------------------------\n",
            "\t       SCS v3.2.4 - Splitting Conic Solver\n",
            "\t(c) Brendan O'Donoghue, Stanford University, 2012\n",
            "------------------------------------------------------------------\n",
            "problem:  variables n: 1620, constraints m: 2020\n",
            "cones: \t  z: primal zero / dual free vars: 400\n",
            "\t  l: linear vars: 800\n",
            "\t  s: psd vars: 820, ssize: 1\n",
            "settings: eps_abs: 1.0e-05, eps_rel: 1.0e-05, eps_infeas: 1.0e-07\n",
            "\t  alpha: 1.50, scale: 1.00e-01, adaptive_scale: 1\n",
            "\t  max_iters: 100000, normalize: 1, rho_x: 1.00e-06\n",
            "\t  acceleration_lookback: 10, acceleration_interval: 10\n",
            "lin-sys:  sparse-direct-amd-qdldl\n",
            "\t  nnz(A): 3220, nnz(P): 0\n",
            "------------------------------------------------------------------\n",
            " iter | pri res | dua res |   gap   |   obj   |  scale  | time (s)\n",
            "------------------------------------------------------------------\n",
            "     0| 1.41e+01  5.00e-01  6.42e+02 -3.15e+02  1.00e-01  5.93e-02 \n",
            "   175| 2.59e-05  3.19e-07  1.18e-06  1.07e+01  1.00e-01  1.39e-01 \n",
            "------------------------------------------------------------------\n",
            "status:  solved\n",
            "timings: total: 1.39e-01s = setup: 1.34e-02s + solve: 1.26e-01s\n",
            "\t lin-sys: 9.82e-03s, cones: 6.62e-02s, accel: 1.30e-03s\n",
            "------------------------------------------------------------------\n",
            "objective = 10.749999\n",
            "------------------------------------------------------------------\n",
            "-------------------------------------------------------------------------------\n",
            "                                    Summary                                    \n",
            "-------------------------------------------------------------------------------\n",
            "(CVXPY) Mar 14 05:51:54 AM: Problem status: optimal\n",
            "(CVXPY) Mar 14 05:51:54 AM: Optimal value: 1.075e+01\n",
            "(CVXPY) Mar 14 05:51:54 AM: Compilation took 4.017e-02 seconds\n",
            "(CVXPY) Mar 14 05:51:54 AM: Solver (including time spent in interface) took 1.455e-01 seconds\n",
            "||X_2-S0||_infty:\n",
            "0.00020296805699382918\n",
            "||X_1-L0||:\n",
            "0.00017298647212908325\n"
          ]
        }
      ]
    }
  ]
}