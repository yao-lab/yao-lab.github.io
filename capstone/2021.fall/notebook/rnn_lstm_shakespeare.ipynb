{
 "cells": [
  {
   "cell_type": "code",
   "execution_count": 1,
   "metadata": {},
   "outputs": [],
   "source": [
    "# implementation of a character-based RNN to generate sonnets\n",
    "import numpy as np\n",
    "import random\n",
    "import string\n",
    "from keras.models import Sequential, load_model\n",
    "from keras.layers import Dense, Embedding, Lambda\n",
    "from keras.layers import SimpleRNN,LSTM\n",
    "from keras.callbacks import LambdaCallback, EarlyStopping"
   ]
  },
  {
   "cell_type": "code",
   "execution_count": 2,
   "metadata": {},
   "outputs": [],
   "source": [
    "def preprocess(filename=\"shakespeare.txt\", seq_length=40, step=5):\n",
    "    '''\n",
    "    returns semi-redundant sequences their outputs \n",
    "    seq_length: number of characters in each sequence\n",
    "    step: gets every [step] sequence  \n",
    "    '''\n",
    "\n",
    "    # puts all data into text string  \n",
    "    file = open(filename, \"r\")\n",
    "    text = \"\"\n",
    "    for line in file:\n",
    "        line = line.lstrip(' ').rstrip(' ')\n",
    "        if line != '\\n' and not line[0].isdigit():\n",
    "            line.translate(str.maketrans('', '', string.punctuation))\n",
    "            text += line.lower()\n",
    "\n",
    "    # make char to index and index to char dictionary \n",
    "    characters = sorted(list(set(text)))\n",
    "    char_indices_dict = dict((c, i) for i, c in enumerate(characters))\n",
    "    indices_char_dict = dict((i, c) for i, c in enumerate(characters))\n",
    "    #print(char_indices_dict)\n",
    "\n",
    "    # makes every [step] char sequences of length seq_length and their outputs\n",
    "    sequences = []\n",
    "    next_chars = [] # next char that seq in sequences generates\n",
    "    #print(repr(text[len(text) - 200:]))\n",
    "    for i in range(0, len(text) - seq_length, step):\n",
    "        #print(i, seq, text[i : i + seq_length])\n",
    "        sequences.append(text[i : i + seq_length])\n",
    "        next_chars.append(text[i + seq_length])\n",
    "\n",
    "    # put sequences and outputs into np array\n",
    "    x = np.zeros((len(sequences), seq_length, len(characters)))\n",
    "    y = np.zeros((len(sequences), len(characters)), dtype=np.bool)\n",
    "    for i, sequence in enumerate(sequences):\n",
    "        for t, char in enumerate(sequence):\n",
    "            x[i, t, char_indices_dict[char]] = 1\n",
    "        y[i, char_indices_dict[next_chars[i]]] = 1\n",
    "\n",
    "    return x, y, sequences, indices_char_dict, char_indices_dict, text"
   ]
  },
  {
   "cell_type": "code",
   "execution_count": 3,
   "metadata": {},
   "outputs": [],
   "source": [
    "#seq_length: number of characters in each sequence\n",
    "#step: gets every [step] sequence  \n",
    "\n",
    "seq_length=40\n",
    "step=5    \n",
    "filename=\"shakespeare.txt\"\n",
    "# puts all data into text string  \n",
    "file = open(filename, \"r\")\n",
    "text = \"\"\n",
    "for line in file:\n",
    "    line = line.lstrip(' ').rstrip(' ')\n",
    "    if line != '\\n' and not line[0].isdigit():\n",
    "        line.translate(str.maketrans('', '', string.punctuation))\n",
    "        text += line.lower()"
   ]
  },
  {
   "cell_type": "code",
   "execution_count": 4,
   "metadata": {},
   "outputs": [
    {
     "name": "stdout",
     "output_type": "stream",
     "text": [
      "{'\\n': 0, ' ': 1, '!': 2, \"'\": 3, '(': 4, ')': 5, ',': 6, '-': 7, '.': 8, ':': 9, ';': 10, '?': 11, 'a': 12, 'b': 13, 'c': 14, 'd': 15, 'e': 16, 'f': 17, 'g': 18, 'h': 19, 'i': 20, 'j': 21, 'k': 22, 'l': 23, 'm': 24, 'n': 25, 'o': 26, 'p': 27, 'q': 28, 'r': 29, 's': 30, 't': 31, 'u': 32, 'v': 33, 'w': 34, 'x': 35, 'y': 36, 'z': 37}\n"
     ]
    }
   ],
   "source": [
    "# make char to index and index to char dictionary \n",
    "characters = sorted(list(set(text)))\n",
    "char_indices_dict = dict((c, i) for i, c in enumerate(characters))\n",
    "indices_char_dict = dict((i, c) for i, c in enumerate(characters))\n",
    "print(char_indices_dict)"
   ]
  },
  {
   "cell_type": "code",
   "execution_count": 5,
   "metadata": {},
   "outputs": [
    {
     "name": "stdout",
     "output_type": "stream",
     "text": [
      "\"fire took heat perpetual,\\ngrowing a bath and healthful remedy,\\nfor men discased, but i my mistress' thrall,\\ncame there for cure and this by that i prove,\\nlove's fire heats water, water cools not love.\"\n"
     ]
    }
   ],
   "source": [
    "# makes every [step] char sequences of length seq_length and their outputs\n",
    "sequences = []\n",
    "next_chars = [] # next char that seq in sequences generates\n",
    "print(repr(text[len(text) - 200:]))\n",
    "for i in range(0, len(text) - seq_length, step):\n",
    "    sequences.append(text[i : i + seq_length])\n",
    "    next_chars.append(text[i + seq_length])"
   ]
  },
  {
   "cell_type": "code",
   "execution_count": 6,
   "metadata": {},
   "outputs": [],
   "source": [
    "# put sequences and outputs into np array\n",
    "x = np.zeros((len(sequences), seq_length, len(characters)))\n",
    "y = np.zeros((len(sequences), len(characters)), dtype=np.bool)\n",
    "for i, sequence in enumerate(sequences):\n",
    "    for t, char in enumerate(sequence):\n",
    "        x[i, t, char_indices_dict[char]] = 1\n",
    "    y[i, char_indices_dict[next_chars[i]]] = 1"
   ]
  },
  {
   "cell_type": "code",
   "execution_count": 7,
   "metadata": {},
   "outputs": [],
   "source": [
    "# using rnn to build model\n",
    "def make_rnn(temperature=1.0):\n",
    "    model = Sequential()\n",
    "    model.add(SimpleRNN(100))\n",
    "    # add temperature (controls variance)\n",
    "    model.add(Lambda(lambda x: x / temperature))\n",
    "    model.add(Dense(len(indices_char_dict), activation='softmax'))\n",
    "    model.compile(loss='categorical_crossentropy', optimizer='rmsprop', metrics=['accuracy'])\n",
    "    return model\n",
    "\n",
    "def make_lstm(temperature=1.0):\n",
    "    model = Sequential()\n",
    "    model.add(LSTM(100))\n",
    "    # add temperature (controls variance)\n",
    "    model.add(Lambda(lambda x: x / temperature))\n",
    "    model.add(Dense(len(indices_char_dict), activation='softmax'))  \n",
    "    model.compile(loss='categorical_crossentropy', optimizer='rmsprop', metrics=['accuracy'])\n",
    "    return model"
   ]
  },
  {
   "cell_type": "code",
   "execution_count": 24,
   "metadata": {},
   "outputs": [
    {
     "name": "stdout",
     "output_type": "stream",
     "text": [
      "model summary for rnn \n",
      "\n",
      "Model: \"sequential_3\"\n",
      "_________________________________________________________________\n",
      "Layer (type)                 Output Shape              Param #   \n",
      "=================================================================\n",
      "simple_rnn_1 (SimpleRNN)     (18727, 100)              13900     \n",
      "_________________________________________________________________\n",
      "lambda_3 (Lambda)            (18727, 100)              0         \n",
      "_________________________________________________________________\n",
      "dense_3 (Dense)              (18727, 38)               3838      \n",
      "=================================================================\n",
      "Total params: 17,738\n",
      "Trainable params: 17,738\n",
      "Non-trainable params: 0\n",
      "_________________________________________________________________\n"
     ]
    }
   ],
   "source": [
    "# model summary for RNN\n",
    "x, y, sequences, indices_char_dict, char_indices_dict, text = preprocess()\n",
    "print('model summary for rnn \\n')\n",
    "rnn_model=make_rnn(0.2)\n",
    "rnn_model.build(x.shape)\n",
    "rnn_model.summary()"
   ]
  },
  {
   "cell_type": "code",
   "execution_count": 23,
   "metadata": {},
   "outputs": [
    {
     "name": "stdout",
     "output_type": "stream",
     "text": [
      "model summary for lstm \n",
      "\n",
      "Model: \"sequential_2\"\n",
      "_________________________________________________________________\n",
      "Layer (type)                 Output Shape              Param #   \n",
      "=================================================================\n",
      "lstm_1 (LSTM)                (18727, 200)              191200    \n",
      "_________________________________________________________________\n",
      "lambda_2 (Lambda)            (18727, 200)              0         \n",
      "_________________________________________________________________\n",
      "dense_2 (Dense)              (18727, 38)               7638      \n",
      "=================================================================\n",
      "Total params: 198,838\n",
      "Trainable params: 198,838\n",
      "Non-trainable params: 0\n",
      "_________________________________________________________________\n"
     ]
    }
   ],
   "source": [
    "# model summary for lstm\n",
    "print('model summary for lstm \\n')\n",
    "lstm_model=make_lstm(0.2)\n",
    "lstm_model.build(x.shape)\n",
    "lstm_model.summary()"
   ]
  },
  {
   "cell_type": "code",
   "execution_count": 11,
   "metadata": {},
   "outputs": [
    {
     "name": "stdout",
     "output_type": "stream",
     "text": [
      "Epoch 1/50\n",
      "586/586 [==============================] - 22s 29ms/step - loss: 3.0426 - accuracy: 0.2082\n",
      "Epoch 2/50\n",
      "586/586 [==============================] - 17s 30ms/step - loss: 2.3086 - accuracy: 0.3315\n",
      "Epoch 3/50\n",
      "586/586 [==============================] - 18s 30ms/step - loss: 2.1998 - accuracy: 0.3548\n",
      "Epoch 4/50\n",
      "586/586 [==============================] - 18s 30ms/step - loss: 2.1598 - accuracy: 0.3616\n",
      "Epoch 5/50\n",
      "586/586 [==============================] - 18s 30ms/step - loss: 2.1037 - accuracy: 0.3761\n",
      "Epoch 6/50\n",
      "586/586 [==============================] - 18s 30ms/step - loss: 2.0998 - accuracy: 0.3756\n",
      "Epoch 7/50\n",
      "586/586 [==============================] - 18s 30ms/step - loss: 2.0587 - accuracy: 0.3765\n",
      "Epoch 8/50\n",
      "586/586 [==============================] - 18s 30ms/step - loss: 2.0823 - accuracy: 0.3749\n",
      "Epoch 9/50\n",
      "586/586 [==============================] - 17s 30ms/step - loss: 2.0641 - accuracy: 0.3736\n",
      "Epoch 10/50\n",
      "586/586 [==============================] - 17s 29ms/step - loss: 2.0405 - accuracy: 0.3883\n",
      "Epoch 11/50\n",
      "586/586 [==============================] - 18s 30ms/step - loss: 2.0370 - accuracy: 0.3895\n",
      "Epoch 12/50\n",
      "586/586 [==============================] - 17s 29ms/step - loss: 2.0427 - accuracy: 0.3888\n",
      "Epoch 13/50\n",
      "586/586 [==============================] - 18s 30ms/step - loss: 2.0247 - accuracy: 0.3939\n",
      "Epoch 14/50\n",
      "586/586 [==============================] - 18s 30ms/step - loss: 2.0130 - accuracy: 0.3957\n",
      "Epoch 15/50\n",
      "586/586 [==============================] - 18s 30ms/step - loss: 2.0098 - accuracy: 0.3936\n",
      "Epoch 16/50\n",
      "586/586 [==============================] - 18s 30ms/step - loss: 2.0188 - accuracy: 0.3967\n",
      "Epoch 17/50\n",
      "586/586 [==============================] - 17s 30ms/step - loss: 1.9982 - accuracy: 0.3999\n",
      "Epoch 18/50\n",
      "586/586 [==============================] - 18s 30ms/step - loss: 1.9873 - accuracy: 0.4004\n",
      "Epoch 19/50\n",
      "586/586 [==============================] - 18s 30ms/step - loss: 1.9745 - accuracy: 0.3984\n",
      "Epoch 20/50\n",
      "586/586 [==============================] - 18s 30ms/step - loss: 1.9811 - accuracy: 0.4022\n",
      "Epoch 21/50\n",
      "586/586 [==============================] - 18s 30ms/step - loss: 1.9719 - accuracy: 0.4059\n",
      "Epoch 22/50\n",
      "586/586 [==============================] - 17s 29ms/step - loss: 1.9642 - accuracy: 0.4090\n",
      "Epoch 23/50\n",
      "586/586 [==============================] - 18s 30ms/step - loss: 1.9377 - accuracy: 0.4163\n",
      "Epoch 24/50\n",
      "586/586 [==============================] - 18s 30ms/step - loss: 1.9273 - accuracy: 0.4127\n",
      "Epoch 25/50\n",
      "586/586 [==============================] - 17s 30ms/step - loss: 1.9070 - accuracy: 0.4236\n",
      "Epoch 26/50\n",
      "586/586 [==============================] - 17s 30ms/step - loss: 1.8896 - accuracy: 0.4223\n",
      "Epoch 27/50\n",
      "586/586 [==============================] - 17s 29ms/step - loss: 1.9114 - accuracy: 0.4235\n",
      "Epoch 28/50\n",
      "586/586 [==============================] - 17s 29ms/step - loss: 1.8923 - accuracy: 0.4244\n",
      "Epoch 29/50\n",
      "586/586 [==============================] - 17s 29ms/step - loss: 1.8844 - accuracy: 0.4309\n",
      "Epoch 30/50\n",
      "586/586 [==============================] - 17s 29ms/step - loss: 1.8647 - accuracy: 0.4284\n",
      "Epoch 31/50\n",
      "586/586 [==============================] - 17s 30ms/step - loss: 1.8553 - accuracy: 0.4354\n",
      "Epoch 32/50\n",
      "586/586 [==============================] - 17s 29ms/step - loss: 1.8362 - accuracy: 0.4427\n",
      "Epoch 33/50\n",
      "586/586 [==============================] - 18s 30ms/step - loss: 1.8473 - accuracy: 0.4376\n",
      "Epoch 34/50\n",
      "586/586 [==============================] - 17s 30ms/step - loss: 1.8090 - accuracy: 0.4532\n",
      "Epoch 35/50\n",
      "586/586 [==============================] - 17s 29ms/step - loss: 1.8093 - accuracy: 0.4490\n",
      "Epoch 36/50\n",
      "586/586 [==============================] - 17s 29ms/step - loss: 1.8089 - accuracy: 0.4485\n",
      "Epoch 37/50\n",
      "586/586 [==============================] - 17s 29ms/step - loss: 1.7997 - accuracy: 0.4491\n",
      "Epoch 38/50\n",
      "586/586 [==============================] - 17s 29ms/step - loss: 1.7671 - accuracy: 0.4621\n",
      "Epoch 39/50\n",
      "586/586 [==============================] - 17s 30ms/step - loss: 1.7785 - accuracy: 0.4585\n",
      "Epoch 40/50\n",
      "586/586 [==============================] - 17s 29ms/step - loss: 1.7445 - accuracy: 0.4701\n",
      "Epoch 41/50\n",
      "586/586 [==============================] - 18s 30ms/step - loss: 1.7314 - accuracy: 0.4733\n",
      "Epoch 42/50\n",
      "586/586 [==============================] - 17s 29ms/step - loss: 1.7420 - accuracy: 0.4683\n",
      "Epoch 43/50\n",
      "586/586 [==============================] - 17s 30ms/step - loss: 1.7041 - accuracy: 0.4807\n",
      "Epoch 44/50\n",
      "586/586 [==============================] - 17s 30ms/step - loss: 1.6905 - accuracy: 0.4757\n",
      "Epoch 45/50\n",
      "586/586 [==============================] - 17s 29ms/step - loss: 1.6927 - accuracy: 0.4790\n",
      "Epoch 46/50\n",
      "586/586 [==============================] - 17s 29ms/step - loss: 1.6745 - accuracy: 0.4856\n",
      "Epoch 47/50\n",
      "586/586 [==============================] - 17s 29ms/step - loss: 1.6756 - accuracy: 0.4914\n",
      "Epoch 48/50\n",
      "586/586 [==============================] - 17s 30ms/step - loss: 1.6371 - accuracy: 0.5035\n",
      "Epoch 49/50\n",
      "586/586 [==============================] - 17s 30ms/step - loss: 1.6358 - accuracy: 0.4972\n",
      "Epoch 50/50\n",
      "586/586 [==============================] - 18s 30ms/step - loss: 1.6211 - accuracy: 0.5018\n"
     ]
    }
   ],
   "source": [
    "# training for RNN\n",
    "\n",
    "earlyStopping = EarlyStopping(monitor='loss', patience=3, verbose=1, mode='auto')\n",
    "rnn_history=rnn_model.fit(x, y, epochs=50, verbose=1, callbacks=[earlyStopping])\n",
    "rnn_model.save('rnn.h5')"
   ]
  },
  {
   "cell_type": "code",
   "execution_count": 10,
   "metadata": {},
   "outputs": [
    {
     "name": "stdout",
     "output_type": "stream",
     "text": [
      "Epoch 1/50\n",
      "586/586 [==============================] - 27s 6ms/step - loss: 2.8025 - accuracy: 0.2195\n",
      "Epoch 2/50\n",
      "586/586 [==============================] - 4s 7ms/step - loss: 2.2302 - accuracy: 0.3461\n",
      "Epoch 3/50\n",
      "586/586 [==============================] - 4s 7ms/step - loss: 2.0961 - accuracy: 0.3788\n",
      "Epoch 4/50\n",
      "586/586 [==============================] - 4s 7ms/step - loss: 1.9680 - accuracy: 0.4157\n",
      "Epoch 5/50\n",
      "586/586 [==============================] - 4s 7ms/step - loss: 1.9022 - accuracy: 0.4259\n",
      "Epoch 6/50\n",
      "586/586 [==============================] - 4s 7ms/step - loss: 1.8031 - accuracy: 0.4549\n",
      "Epoch 7/50\n",
      "586/586 [==============================] - 4s 7ms/step - loss: 1.7342 - accuracy: 0.4665\n",
      "Epoch 8/50\n",
      "586/586 [==============================] - 4s 6ms/step - loss: 1.6398 - accuracy: 0.4949\n",
      "Epoch 9/50\n",
      "586/586 [==============================] - 4s 7ms/step - loss: 1.5843 - accuracy: 0.5131\n",
      "Epoch 10/50\n",
      "586/586 [==============================] - 4s 7ms/step - loss: 1.4957 - accuracy: 0.5343\n",
      "Epoch 11/50\n",
      "586/586 [==============================] - 4s 6ms/step - loss: 1.3803 - accuracy: 0.5702\n",
      "Epoch 12/50\n",
      "586/586 [==============================] - 4s 6ms/step - loss: 1.2501 - accuracy: 0.6101\n",
      "Epoch 13/50\n",
      "586/586 [==============================] - 4s 7ms/step - loss: 1.1308 - accuracy: 0.6526\n",
      "Epoch 14/50\n",
      "586/586 [==============================] - 4s 7ms/step - loss: 1.0235 - accuracy: 0.6844\n",
      "Epoch 15/50\n",
      "586/586 [==============================] - 4s 7ms/step - loss: 0.8921 - accuracy: 0.7325\n",
      "Epoch 16/50\n",
      "586/586 [==============================] - 4s 6ms/step - loss: 0.7641 - accuracy: 0.7698\n",
      "Epoch 17/50\n",
      "586/586 [==============================] - 4s 6ms/step - loss: 0.6324 - accuracy: 0.8135\n",
      "Epoch 18/50\n",
      "586/586 [==============================] - 4s 7ms/step - loss: 0.5253 - accuracy: 0.8473\n",
      "Epoch 19/50\n",
      "586/586 [==============================] - 4s 7ms/step - loss: 0.4277 - accuracy: 0.8848\n",
      "Epoch 20/50\n",
      "586/586 [==============================] - 4s 6ms/step - loss: 0.3459 - accuracy: 0.9072\n",
      "Epoch 21/50\n",
      "586/586 [==============================] - 4s 7ms/step - loss: 0.2840 - accuracy: 0.9320\n",
      "Epoch 22/50\n",
      "586/586 [==============================] - 4s 7ms/step - loss: 0.2232 - accuracy: 0.9472\n",
      "Epoch 23/50\n",
      "586/586 [==============================] - 4s 7ms/step - loss: 0.1913 - accuracy: 0.9564\n",
      "Epoch 24/50\n",
      "586/586 [==============================] - 4s 7ms/step - loss: 0.1543 - accuracy: 0.9669\n",
      "Epoch 25/50\n",
      "586/586 [==============================] - 4s 6ms/step - loss: 0.1373 - accuracy: 0.9710\n",
      "Epoch 26/50\n",
      "586/586 [==============================] - 4s 6ms/step - loss: 0.1221 - accuracy: 0.9737\n",
      "Epoch 27/50\n",
      "586/586 [==============================] - 3s 6ms/step - loss: 0.1090 - accuracy: 0.9750\n",
      "Epoch 28/50\n",
      "586/586 [==============================] - 3s 6ms/step - loss: 0.1047 - accuracy: 0.9755\n",
      "Epoch 29/50\n",
      "586/586 [==============================] - 3s 6ms/step - loss: 0.0902 - accuracy: 0.9803\n",
      "Epoch 30/50\n",
      "586/586 [==============================] - 4s 6ms/step - loss: 0.0862 - accuracy: 0.9819\n",
      "Epoch 31/50\n",
      "586/586 [==============================] - 4s 6ms/step - loss: 0.0816 - accuracy: 0.9818\n",
      "Epoch 32/50\n",
      "586/586 [==============================] - 3s 6ms/step - loss: 0.0775 - accuracy: 0.9830\n",
      "Epoch 33/50\n",
      "586/586 [==============================] - 3s 6ms/step - loss: 0.0741 - accuracy: 0.9825\n",
      "Epoch 34/50\n",
      "586/586 [==============================] - 4s 6ms/step - loss: 0.0634 - accuracy: 0.9871\n",
      "Epoch 35/50\n",
      "586/586 [==============================] - 4s 6ms/step - loss: 0.0628 - accuracy: 0.9853\n",
      "Epoch 36/50\n",
      "586/586 [==============================] - 4s 7ms/step - loss: 0.0632 - accuracy: 0.9851\n",
      "Epoch 37/50\n",
      "586/586 [==============================] - 4s 7ms/step - loss: 0.0554 - accuracy: 0.9876\n",
      "Epoch 38/50\n",
      "586/586 [==============================] - 4s 6ms/step - loss: 0.0550 - accuracy: 0.9876\n",
      "Epoch 39/50\n",
      "586/586 [==============================] - 4s 7ms/step - loss: 0.0558 - accuracy: 0.9857\n",
      "Epoch 40/50\n",
      "586/586 [==============================] - 4s 7ms/step - loss: 0.0565 - accuracy: 0.9853\n",
      "Epoch 41/50\n",
      "586/586 [==============================] - 4s 7ms/step - loss: 0.0560 - accuracy: 0.9856\n",
      "Epoch 42/50\n",
      "586/586 [==============================] - 4s 7ms/step - loss: 0.0515 - accuracy: 0.9872\n",
      "Epoch 43/50\n",
      "586/586 [==============================] - 4s 7ms/step - loss: 0.0482 - accuracy: 0.9883\n",
      "Epoch 44/50\n",
      "586/586 [==============================] - 4s 7ms/step - loss: 0.0463 - accuracy: 0.9880\n",
      "Epoch 45/50\n",
      "586/586 [==============================] - 4s 7ms/step - loss: 0.0445 - accuracy: 0.9891\n",
      "Epoch 46/50\n",
      "586/586 [==============================] - 4s 7ms/step - loss: 0.0431 - accuracy: 0.9897\n",
      "Epoch 47/50\n",
      "586/586 [==============================] - 4s 7ms/step - loss: 0.0451 - accuracy: 0.9890\n",
      "Epoch 48/50\n",
      "586/586 [==============================] - 4s 7ms/step - loss: 0.0433 - accuracy: 0.9899\n",
      "Epoch 49/50\n",
      "586/586 [==============================] - 4s 7ms/step - loss: 0.0407 - accuracy: 0.9897\n",
      "Epoch 50/50\n",
      "586/586 [==============================] - 4s 7ms/step - loss: 0.0381 - accuracy: 0.9914\n"
     ]
    }
   ],
   "source": [
    "#  training for LSTM\n",
    "earlyStopping = EarlyStopping(monitor='loss', patience=3, verbose=1, mode='auto')\n",
    "lstm_history=lstm_model.fit(x, y, epochs=50, verbose=1, callbacks=[earlyStopping])\n",
    "lstm_model.save('lstm.h5')"
   ]
  },
  {
   "cell_type": "code",
   "execution_count": 13,
   "metadata": {},
   "outputs": [
    {
     "data": {
      "image/png": "[encoded data removed]",
      "text/plain": [
       "<Figure size 432x288 with 1 Axes>"
      ]
     },
     "metadata": {
      "needs_background": "light"
     },
     "output_type": "display_data"
    }
   ],
   "source": [
    "import matplotlib.pyplot as plt\n",
    "# plot accuracy\n",
    "plt.plot(lstm_history.history['accuracy'])\n",
    "plt.plot(rnn_history.history['accuracy'])\n",
    "plt.title('training accuracy')\n",
    "plt.ylabel('Accuracy')\n",
    "plt.xlabel('Epoch')\n",
    "plt.legend(['LSTM', 'RNN'], loc='upper left')\n",
    "plt.show()"
   ]
  },
  {
   "cell_type": "code",
   "execution_count": 14,
   "metadata": {},
   "outputs": [
    {
     "data": {
      "image/png": "[encoded data removed]",
      "text/plain": [
       "<Figure size 432x288 with 1 Axes>"
      ]
     },
     "metadata": {
      "needs_background": "light"
     },
     "output_type": "display_data"
    }
   ],
   "source": [
    "# plot loss\n",
    "plt.plot(lstm_history.history['loss'])\n",
    "plt.plot(rnn_history.history['loss'])\n",
    "plt.title('training loss')\n",
    "plt.ylabel('loss')\n",
    "plt.xlabel('Epoch')\n",
    "plt.legend(['LSTM', 'RNN'], loc='upper left')\n",
    "plt.show()"
   ]
  },
  {
   "cell_type": "code",
   "execution_count": 15,
   "metadata": {},
   "outputs": [],
   "source": [
    "def generate_sonnet(model_choice='rnn'):\n",
    "\n",
    "    if model_choice=='rnn':\n",
    "        model = load_model('rnn.h5')\n",
    "    elif model_choice=='lstm':\n",
    "        model = load_model('lstm.h5')\n",
    "    sonnet = []\n",
    "    \n",
    "    seq = \"shall i compare thee to a summer's day?\\n\"\n",
    "    sonnet.append(seq)\n",
    "    for _ in range(13):\n",
    "        line = \"\"\n",
    "        for i in range(40):\n",
    "            x = np.zeros((1, len(seq), len(indices_char_dict)))\n",
    "            for t, index in enumerate(seq):\n",
    "                x[0, t, char_indices_dict[index]] = 1.\n",
    "\n",
    "            prediction = model.predict(x, verbose=0)[0]\n",
    "            index = np.argmax(prediction)\n",
    "            char = indices_char_dict[index]\n",
    "            line += char\n",
    "            seq = seq[1:] + char\n",
    "\n",
    "        sonnet.append(line)\n",
    "    return sonnet"
   ]
  },
  {
   "cell_type": "code",
   "execution_count": 19,
   "metadata": {},
   "outputs": [
    {
     "name": "stdout",
     "output_type": "stream",
     "text": [
      "sonnet by rnn: \n",
      "\n",
      "shall i compare thee to a summer's day?\n",
      "\n",
      "who har for my mathy sweet of the willon\n",
      "g,\n",
      "with in thy mine rare mand the for th\n",
      "ou doth nought, and of and,\n",
      "and the rear\n",
      "the i not searn is with this can\n",
      "wher i \n",
      "am the from should that thou destare,\n",
      "an\n",
      "d that thou a to growerthou doth nour wi\n",
      "st,\n",
      "the will this thy swall by the fart \n",
      "which the but tom seare coude,\n",
      "and he fo\n",
      "r thy leart the with nought love,\n",
      "the wi\n",
      "ll this thy swall by the fart which the \n",
      "but tom seare coude,\n",
      "and he for thy lear\n",
      "t the with nought love,\n",
      "the will this th\n",
      "y swall by the fart which the but tom se\n"
     ]
    }
   ],
   "source": [
    "sonnet=generate_sonnet('rnn')\n",
    "print('sonnet by rnn: \\n')\n",
    "for line in sonnet:\n",
    "    print(line)"
   ]
  },
  {
   "cell_type": "code",
   "execution_count": 22,
   "metadata": {},
   "outputs": [
    {
     "name": "stdout",
     "output_type": "stream",
     "text": [
      "sonnet by lstm: \n",
      "\n",
      "shall i compare thee to a summer's day?\n",
      "\n",
      "why shand o the more do so an in the lin\n",
      "g.\n",
      "and of the remooh dooms fragest thind\n",
      " appire,\n",
      "and the faire of the fould that\n",
      " heart\n",
      "wost o thou stellst in hoscas yea\n",
      "re,\n",
      "and to the would that thou art as a \n",
      "curuse,\n",
      "of ,hy reasong bange there thes \n",
      "farted to my love,\n",
      "that thy sell han why\n",
      " bothe sam a rece day\n",
      ", time mud love in\n",
      "s fairs of thine should hast ince,\n",
      "thou \n",
      "stange to glves to a mm boldenss beed,\n",
      "t\n",
      "he bring beaut of heart, in in a woulds \n",
      "if is halllly:\n",
      "a thee, will nair woinney\n",
      ",\n",
      "my lovely my love me as wite on my mis\n"
     ]
    }
   ],
   "source": [
    "sonnet=generate_sonnet('lstm')\n",
    "\n",
    "print('sonnet by lstm: \\n')\n",
    "for line in sonnet:\n",
    "    print(line)"
   ]
  }
 ],
 "metadata": {
  "interpreter": {
   "hash": "772508630a427619dd49b8cfe9c2ae7d9dbaeae5c7cd5fb2ab9db30424e7636a"
  },
  "kernelspec": {
   "display_name": "Python 3.6.13 64-bit ('python36': conda)",
   "name": "python3"
  },
  "language_info": {
   "codemirror_mode": {
    "name": "ipython",
    "version": 3
   },
   "file_extension": ".py",
   "mimetype": "text/x-python",
   "name": "python",
   "nbconvert_exporter": "python",
   "pygments_lexer": "ipython3",
   "version": "3.6.13"
  },
  "orig_nbformat": 4
 },
 "nbformat": 4,
 "nbformat_minor": 2
}
