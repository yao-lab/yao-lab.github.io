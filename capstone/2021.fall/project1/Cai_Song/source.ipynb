{
  "nbformat": 4,
  "nbformat_minor": 0,
  "metadata": {
    "colab": {
      "name": "Copy of math4995_prj1.ipynb",
      "provenance": [],
      "collapsed_sections": []
    },
    "kernelspec": {
      "display_name": "Python 3",
      "language": "python",
      "name": "python3"
    },
    "language_info": {
      "codemirror_mode": {
        "name": "ipython",
        "version": 3
      },
      "file_extension": ".py",
      "mimetype": "text/x-python",
      "name": "python",
      "nbconvert_exporter": "python",
      "pygments_lexer": "ipython3",
      "version": "3.7.6"
    }
  },
  "cells": [
    {
      "cell_type": "markdown",
      "metadata": {
        "id": "869dVGCh0OfM"
      },
      "source": [
        "# 1. Import Package & Dataset"
      ]
    },
    {
      "cell_type": "code",
      "metadata": {
        "colab": {
          "base_uri": "https://localhost:8080/"
        },
        "id": "fm3_b4hw06SR",
        "outputId": "b83ac1bd-eb71-427e-dc7d-92451c490a25"
      },
      "source": [
        "from google.colab import drive\n",
        "drive.mount('/content/drive')"
      ],
      "execution_count": null,
      "outputs": [
        {
          "output_type": "stream",
          "name": "stdout",
          "text": [
            "Mounted at /content/drive\n"
          ]
        }
      ]
    },
    {
      "cell_type": "code",
      "metadata": {
        "id": "UpXh13hAyAJt"
      },
      "source": [
        "#libraries\n",
        "import matplotlib \n",
        "import numpy as np\n",
        "import pandas as pd\n",
        "import matplotlib.pyplot as plt\n",
        "import seaborn as sns\n",
        "from statsmodels.stats.outliers_influence import variance_inflation_factor\n",
        "from statsmodels.tools.tools import add_constant\n",
        "import statsmodels.api as sm\n",
        "from statsmodels.formula.api import ols\n",
        "from random import sample\n",
        "\n",
        "import graphviz\n",
        "import pydot\n",
        "from IPython.display import Image\n",
        "from sklearn.model_selection import train_test_split, cross_val_score, GridSearchCV\n",
        "from six import StringIO\n",
        "from sklearn.tree import DecisionTreeRegressor, DecisionTreeClassifier, export_graphviz\n",
        "from sklearn.ensemble import BaggingClassifier, RandomForestClassifier, BaggingRegressor, RandomForestRegressor, GradientBoostingRegressor,RandomForestClassifier\n",
        "from sklearn.inspection import plot_partial_dependence\n",
        "from sklearn.metrics import confusion_matrix, classification_report, mean_squared_error\n",
        "from sklearn.model_selection import KFold"
      ],
      "execution_count": null,
      "outputs": []
    },
    {
      "cell_type": "code",
      "metadata": {
        "id": "LK63AkleUhIc"
      },
      "source": [
        "import scipy\n",
        "\n",
        "import statsmodels.api as sm\n",
        "\n",
        "import matplotlib.pyplot as plt\n",
        "import seaborn as sns\n",
        "#import glmnet as gln\n",
        "\n",
        "from tqdm.notebook import tqdm # a python package that provides progress bars for iterables\n",
        "from operator import itemgetter\n",
        "from itertools import combinations\n",
        "\n",
        "from sklearn.preprocessing import scale \n",
        "#from sklearn import cross_validation\n",
        "from sklearn.linear_model import LinearRegression, Ridge, RidgeCV, Lasso, LassoCV\n",
        "from sklearn.decomposition import PCA\n",
        "from sklearn.cross_decomposition import PLSRegression\n",
        "#from sklearn.cross_validation import KFold\n",
        "from sklearn.metrics import mean_squared_error"
      ],
      "execution_count": null,
      "outputs": []
    },
    {
      "cell_type": "code",
      "metadata": {
        "id": "LJLLsva-UhIe"
      },
      "source": [
        "import sklearn.linear_model as skl_lm\n",
        "from sklearn.discriminant_analysis import LinearDiscriminantAnalysis\n",
        "from sklearn.discriminant_analysis import QuadraticDiscriminantAnalysis\n",
        "from sklearn.metrics import confusion_matrix, classification_report, precision_score, roc_curve, auc\n",
        "from sklearn import preprocessing\n",
        "from sklearn import neighbors\n",
        "\n",
        "import statsmodels.api as sm\n",
        "import statsmodels.formula.api as smf"
      ],
      "execution_count": null,
      "outputs": []
    },
    {
      "cell_type": "code",
      "metadata": {
        "id": "iVkpLTGUyGrb"
      },
      "source": [
        "#import data\n",
        "train = pd.read_csv('titanic/train.csv')\n",
        "test = pd.read_csv('titanic/test.csv')\n",
        "test_id = test['PassengerId']"
      ],
      "execution_count": null,
      "outputs": []
    },
    {
      "cell_type": "code",
      "metadata": {
        "colab": {
          "base_uri": "https://localhost:8080/",
          "height": 496
        },
        "id": "acqcnxR3yhka",
        "outputId": "13f0e699-603b-4dfa-a9e5-10383cac85de"
      },
      "source": [
        "train.head()"
      ],
      "execution_count": null,
      "outputs": [
        {
          "data": {
            "text/html": [
              "<div>\n",
              "<style scoped>\n",
              "    .dataframe tbody tr th:only-of-type {\n",
              "        vertical-align: middle;\n",
              "    }\n",
              "\n",
              "    .dataframe tbody tr th {\n",
              "        vertical-align: top;\n",
              "    }\n",
              "\n",
              "    .dataframe thead th {\n",
              "        text-align: right;\n",
              "    }\n",
              "</style>\n",
              "<table border=\"1\" class=\"dataframe\">\n",
              "  <thead>\n",
              "    <tr style=\"text-align: right;\">\n",
              "      <th></th>\n",
              "      <th>PassengerId</th>\n",
              "      <th>Survived</th>\n",
              "      <th>Pclass</th>\n",
              "      <th>Name</th>\n",
              "      <th>Sex</th>\n",
              "      <th>Age</th>\n",
              "      <th>SibSp</th>\n",
              "      <th>Parch</th>\n",
              "      <th>Ticket</th>\n",
              "      <th>Fare</th>\n",
              "      <th>Cabin</th>\n",
              "      <th>Embarked</th>\n",
              "    </tr>\n",
              "  </thead>\n",
              "  <tbody>\n",
              "    <tr>\n",
              "      <th>0</th>\n",
              "      <td>1</td>\n",
              "      <td>0</td>\n",
              "      <td>3</td>\n",
              "      <td>Braund, Mr. Owen Harris</td>\n",
              "      <td>male</td>\n",
              "      <td>22.0</td>\n",
              "      <td>1</td>\n",
              "      <td>0</td>\n",
              "      <td>A/5 21171</td>\n",
              "      <td>7.2500</td>\n",
              "      <td>NaN</td>\n",
              "      <td>S</td>\n",
              "    </tr>\n",
              "    <tr>\n",
              "      <th>1</th>\n",
              "      <td>2</td>\n",
              "      <td>1</td>\n",
              "      <td>1</td>\n",
              "      <td>Cumings, Mrs. John Bradley (Florence Briggs Th...</td>\n",
              "      <td>female</td>\n",
              "      <td>38.0</td>\n",
              "      <td>1</td>\n",
              "      <td>0</td>\n",
              "      <td>PC 17599</td>\n",
              "      <td>71.2833</td>\n",
              "      <td>C85</td>\n",
              "      <td>C</td>\n",
              "    </tr>\n",
              "    <tr>\n",
              "      <th>2</th>\n",
              "      <td>3</td>\n",
              "      <td>1</td>\n",
              "      <td>3</td>\n",
              "      <td>Heikkinen, Miss. Laina</td>\n",
              "      <td>female</td>\n",
              "      <td>26.0</td>\n",
              "      <td>0</td>\n",
              "      <td>0</td>\n",
              "      <td>STON/O2. 3101282</td>\n",
              "      <td>7.9250</td>\n",
              "      <td>NaN</td>\n",
              "      <td>S</td>\n",
              "    </tr>\n",
              "    <tr>\n",
              "      <th>3</th>\n",
              "      <td>4</td>\n",
              "      <td>1</td>\n",
              "      <td>1</td>\n",
              "      <td>Futrelle, Mrs. Jacques Heath (Lily May Peel)</td>\n",
              "      <td>female</td>\n",
              "      <td>35.0</td>\n",
              "      <td>1</td>\n",
              "      <td>0</td>\n",
              "      <td>113803</td>\n",
              "      <td>53.1000</td>\n",
              "      <td>C123</td>\n",
              "      <td>S</td>\n",
              "    </tr>\n",
              "    <tr>\n",
              "      <th>4</th>\n",
              "      <td>5</td>\n",
              "      <td>0</td>\n",
              "      <td>3</td>\n",
              "      <td>Allen, Mr. William Henry</td>\n",
              "      <td>male</td>\n",
              "      <td>35.0</td>\n",
              "      <td>0</td>\n",
              "      <td>0</td>\n",
              "      <td>373450</td>\n",
              "      <td>8.0500</td>\n",
              "      <td>NaN</td>\n",
              "      <td>S</td>\n",
              "    </tr>\n",
              "  </tbody>\n",
              "</table>\n",
              "</div>"
            ],
            "text/plain": [
              "   PassengerId  Survived  Pclass  \\\n",
              "0            1         0       3   \n",
              "1            2         1       1   \n",
              "2            3         1       3   \n",
              "3            4         1       1   \n",
              "4            5         0       3   \n",
              "\n",
              "                                                Name     Sex   Age  SibSp  \\\n",
              "0                            Braund, Mr. Owen Harris    male  22.0      1   \n",
              "1  Cumings, Mrs. John Bradley (Florence Briggs Th...  female  38.0      1   \n",
              "2                             Heikkinen, Miss. Laina  female  26.0      0   \n",
              "3       Futrelle, Mrs. Jacques Heath (Lily May Peel)  female  35.0      1   \n",
              "4                           Allen, Mr. William Henry    male  35.0      0   \n",
              "\n",
              "   Parch            Ticket     Fare Cabin Embarked  \n",
              "0      0         A/5 21171   7.2500   NaN        S  \n",
              "1      0          PC 17599  71.2833   C85        C  \n",
              "2      0  STON/O2. 3101282   7.9250   NaN        S  \n",
              "3      0            113803  53.1000  C123        S  \n",
              "4      0            373450   8.0500   NaN        S  "
            ]
          },
          "execution_count": 221,
          "metadata": {},
          "output_type": "execute_result"
        }
      ]
    },
    {
      "cell_type": "code",
      "metadata": {
        "colab": {
          "base_uri": "https://localhost:8080/",
          "height": 445
        },
        "id": "wssQvGoW0KM1",
        "outputId": "d0a078cf-30f4-43e1-9097-138862dcd1f5"
      },
      "source": [
        "test.head()"
      ],
      "execution_count": null,
      "outputs": [
        {
          "data": {
            "text/html": [
              "<div>\n",
              "<style scoped>\n",
              "    .dataframe tbody tr th:only-of-type {\n",
              "        vertical-align: middle;\n",
              "    }\n",
              "\n",
              "    .dataframe tbody tr th {\n",
              "        vertical-align: top;\n",
              "    }\n",
              "\n",
              "    .dataframe thead th {\n",
              "        text-align: right;\n",
              "    }\n",
              "</style>\n",
              "<table border=\"1\" class=\"dataframe\">\n",
              "  <thead>\n",
              "    <tr style=\"text-align: right;\">\n",
              "      <th></th>\n",
              "      <th>PassengerId</th>\n",
              "      <th>Pclass</th>\n",
              "      <th>Name</th>\n",
              "      <th>Sex</th>\n",
              "      <th>Age</th>\n",
              "      <th>SibSp</th>\n",
              "      <th>Parch</th>\n",
              "      <th>Ticket</th>\n",
              "      <th>Fare</th>\n",
              "      <th>Cabin</th>\n",
              "      <th>Embarked</th>\n",
              "    </tr>\n",
              "  </thead>\n",
              "  <tbody>\n",
              "    <tr>\n",
              "      <th>0</th>\n",
              "      <td>892</td>\n",
              "      <td>3</td>\n",
              "      <td>Kelly, Mr. James</td>\n",
              "      <td>male</td>\n",
              "      <td>34.5</td>\n",
              "      <td>0</td>\n",
              "      <td>0</td>\n",
              "      <td>330911</td>\n",
              "      <td>7.8292</td>\n",
              "      <td>NaN</td>\n",
              "      <td>Q</td>\n",
              "    </tr>\n",
              "    <tr>\n",
              "      <th>1</th>\n",
              "      <td>893</td>\n",
              "      <td>3</td>\n",
              "      <td>Wilkes, Mrs. James (Ellen Needs)</td>\n",
              "      <td>female</td>\n",
              "      <td>47.0</td>\n",
              "      <td>1</td>\n",
              "      <td>0</td>\n",
              "      <td>363272</td>\n",
              "      <td>7.0000</td>\n",
              "      <td>NaN</td>\n",
              "      <td>S</td>\n",
              "    </tr>\n",
              "    <tr>\n",
              "      <th>2</th>\n",
              "      <td>894</td>\n",
              "      <td>2</td>\n",
              "      <td>Myles, Mr. Thomas Francis</td>\n",
              "      <td>male</td>\n",
              "      <td>62.0</td>\n",
              "      <td>0</td>\n",
              "      <td>0</td>\n",
              "      <td>240276</td>\n",
              "      <td>9.6875</td>\n",
              "      <td>NaN</td>\n",
              "      <td>Q</td>\n",
              "    </tr>\n",
              "    <tr>\n",
              "      <th>3</th>\n",
              "      <td>895</td>\n",
              "      <td>3</td>\n",
              "      <td>Wirz, Mr. Albert</td>\n",
              "      <td>male</td>\n",
              "      <td>27.0</td>\n",
              "      <td>0</td>\n",
              "      <td>0</td>\n",
              "      <td>315154</td>\n",
              "      <td>8.6625</td>\n",
              "      <td>NaN</td>\n",
              "      <td>S</td>\n",
              "    </tr>\n",
              "    <tr>\n",
              "      <th>4</th>\n",
              "      <td>896</td>\n",
              "      <td>3</td>\n",
              "      <td>Hirvonen, Mrs. Alexander (Helga E Lindqvist)</td>\n",
              "      <td>female</td>\n",
              "      <td>22.0</td>\n",
              "      <td>1</td>\n",
              "      <td>1</td>\n",
              "      <td>3101298</td>\n",
              "      <td>12.2875</td>\n",
              "      <td>NaN</td>\n",
              "      <td>S</td>\n",
              "    </tr>\n",
              "  </tbody>\n",
              "</table>\n",
              "</div>"
            ],
            "text/plain": [
              "   PassengerId  Pclass                                          Name     Sex  \\\n",
              "0          892       3                              Kelly, Mr. James    male   \n",
              "1          893       3              Wilkes, Mrs. James (Ellen Needs)  female   \n",
              "2          894       2                     Myles, Mr. Thomas Francis    male   \n",
              "3          895       3                              Wirz, Mr. Albert    male   \n",
              "4          896       3  Hirvonen, Mrs. Alexander (Helga E Lindqvist)  female   \n",
              "\n",
              "    Age  SibSp  Parch   Ticket     Fare Cabin Embarked  \n",
              "0  34.5      0      0   330911   7.8292   NaN        Q  \n",
              "1  47.0      1      0   363272   7.0000   NaN        S  \n",
              "2  62.0      0      0   240276   9.6875   NaN        Q  \n",
              "3  27.0      0      0   315154   8.6625   NaN        S  \n",
              "4  22.0      1      1  3101298  12.2875   NaN        S  "
            ]
          },
          "execution_count": 65,
          "metadata": {},
          "output_type": "execute_result"
        }
      ]
    },
    {
      "cell_type": "markdown",
      "metadata": {
        "id": "xJsLwGJuykiK"
      },
      "source": [
        "# 2. Data"
      ]
    },
    {
      "cell_type": "markdown",
      "metadata": {
        "id": "WPcmV2vrywie"
      },
      "source": [
        "## 2.1 Data Overview\n",
        "* Survived : Response Variable\n",
        "* Sex : Categorical Variable\n",
        "* Carbin : Categorical Variable\n",
        "* Embarked : Categorical Variable\n",
        "* Pclass : Categorical Variable\n",
        "* Age :  Numerical Variable\n",
        "* SibSp\t: Numerical Variable\n",
        "* Parch : Numerical Variable\n",
        "* Fare : Numerical Variable\n"
      ]
    },
    {
      "cell_type": "code",
      "metadata": {
        "colab": {
          "base_uri": "https://localhost:8080/",
          "height": 337
        },
        "id": "0fOjF21k2l9D",
        "outputId": "54a4a3f0-02d7-45cb-ba71-bbd78c1fb7f7"
      },
      "source": [
        "train.describe()"
      ],
      "execution_count": null,
      "outputs": [
        {
          "data": {
            "text/html": [
              "<div>\n",
              "<style scoped>\n",
              "    .dataframe tbody tr th:only-of-type {\n",
              "        vertical-align: middle;\n",
              "    }\n",
              "\n",
              "    .dataframe tbody tr th {\n",
              "        vertical-align: top;\n",
              "    }\n",
              "\n",
              "    .dataframe thead th {\n",
              "        text-align: right;\n",
              "    }\n",
              "</style>\n",
              "<table border=\"1\" class=\"dataframe\">\n",
              "  <thead>\n",
              "    <tr style=\"text-align: right;\">\n",
              "      <th></th>\n",
              "      <th>Survived</th>\n",
              "      <th>Pclass</th>\n",
              "      <th>Sex</th>\n",
              "      <th>Age</th>\n",
              "      <th>SibSp</th>\n",
              "      <th>Parch</th>\n",
              "      <th>Fare</th>\n",
              "      <th>Fam_count</th>\n",
              "      <th>isAlone</th>\n",
              "      <th>F_pp</th>\n",
              "      <th>Pclass_1</th>\n",
              "      <th>Pclass_2</th>\n",
              "      <th>Embarked_S</th>\n",
              "      <th>Embarked_C</th>\n",
              "    </tr>\n",
              "  </thead>\n",
              "  <tbody>\n",
              "    <tr>\n",
              "      <th>count</th>\n",
              "      <td>891.000000</td>\n",
              "      <td>891.000000</td>\n",
              "      <td>891.000000</td>\n",
              "      <td>891.000000</td>\n",
              "      <td>891.000000</td>\n",
              "      <td>891.000000</td>\n",
              "      <td>891.000000</td>\n",
              "      <td>891.000000</td>\n",
              "      <td>891.000000</td>\n",
              "      <td>891.000000</td>\n",
              "      <td>891.000000</td>\n",
              "      <td>891.000000</td>\n",
              "      <td>891.0</td>\n",
              "      <td>891.0</td>\n",
              "    </tr>\n",
              "    <tr>\n",
              "      <th>mean</th>\n",
              "      <td>0.383838</td>\n",
              "      <td>2.308642</td>\n",
              "      <td>0.647587</td>\n",
              "      <td>29.489981</td>\n",
              "      <td>0.523008</td>\n",
              "      <td>0.381594</td>\n",
              "      <td>32.665804</td>\n",
              "      <td>0.904602</td>\n",
              "      <td>0.397306</td>\n",
              "      <td>25.921534</td>\n",
              "      <td>0.242424</td>\n",
              "      <td>0.206510</td>\n",
              "      <td>0.0</td>\n",
              "      <td>0.0</td>\n",
              "    </tr>\n",
              "    <tr>\n",
              "      <th>std</th>\n",
              "      <td>0.486592</td>\n",
              "      <td>0.836071</td>\n",
              "      <td>0.477990</td>\n",
              "      <td>13.615985</td>\n",
              "      <td>1.102743</td>\n",
              "      <td>0.806057</td>\n",
              "      <td>49.518987</td>\n",
              "      <td>1.613459</td>\n",
              "      <td>0.489615</td>\n",
              "      <td>43.530183</td>\n",
              "      <td>0.428790</td>\n",
              "      <td>0.405028</td>\n",
              "      <td>0.0</td>\n",
              "      <td>0.0</td>\n",
              "    </tr>\n",
              "    <tr>\n",
              "      <th>min</th>\n",
              "      <td>0.000000</td>\n",
              "      <td>1.000000</td>\n",
              "      <td>0.000000</td>\n",
              "      <td>0.420000</td>\n",
              "      <td>0.000000</td>\n",
              "      <td>0.000000</td>\n",
              "      <td>4.012500</td>\n",
              "      <td>0.000000</td>\n",
              "      <td>0.000000</td>\n",
              "      <td>1.320833</td>\n",
              "      <td>0.000000</td>\n",
              "      <td>0.000000</td>\n",
              "      <td>0.0</td>\n",
              "      <td>0.0</td>\n",
              "    </tr>\n",
              "    <tr>\n",
              "      <th>25%</th>\n",
              "      <td>0.000000</td>\n",
              "      <td>2.000000</td>\n",
              "      <td>0.000000</td>\n",
              "      <td>21.000000</td>\n",
              "      <td>0.000000</td>\n",
              "      <td>0.000000</td>\n",
              "      <td>7.925000</td>\n",
              "      <td>0.000000</td>\n",
              "      <td>0.000000</td>\n",
              "      <td>7.795800</td>\n",
              "      <td>0.000000</td>\n",
              "      <td>0.000000</td>\n",
              "      <td>0.0</td>\n",
              "      <td>0.0</td>\n",
              "    </tr>\n",
              "    <tr>\n",
              "      <th>50%</th>\n",
              "      <td>0.000000</td>\n",
              "      <td>3.000000</td>\n",
              "      <td>1.000000</td>\n",
              "      <td>28.000000</td>\n",
              "      <td>0.000000</td>\n",
              "      <td>0.000000</td>\n",
              "      <td>15.100000</td>\n",
              "      <td>0.000000</td>\n",
              "      <td>0.000000</td>\n",
              "      <td>10.500000</td>\n",
              "      <td>0.000000</td>\n",
              "      <td>0.000000</td>\n",
              "      <td>0.0</td>\n",
              "      <td>0.0</td>\n",
              "    </tr>\n",
              "    <tr>\n",
              "      <th>75%</th>\n",
              "      <td>1.000000</td>\n",
              "      <td>3.000000</td>\n",
              "      <td>1.000000</td>\n",
              "      <td>36.000000</td>\n",
              "      <td>1.000000</td>\n",
              "      <td>0.000000</td>\n",
              "      <td>31.000000</td>\n",
              "      <td>1.000000</td>\n",
              "      <td>1.000000</td>\n",
              "      <td>26.550000</td>\n",
              "      <td>0.000000</td>\n",
              "      <td>0.000000</td>\n",
              "      <td>0.0</td>\n",
              "      <td>0.0</td>\n",
              "    </tr>\n",
              "    <tr>\n",
              "      <th>max</th>\n",
              "      <td>1.000000</td>\n",
              "      <td>3.000000</td>\n",
              "      <td>1.000000</td>\n",
              "      <td>80.000000</td>\n",
              "      <td>8.000000</td>\n",
              "      <td>6.000000</td>\n",
              "      <td>512.329200</td>\n",
              "      <td>10.000000</td>\n",
              "      <td>1.000000</td>\n",
              "      <td>512.329200</td>\n",
              "      <td>1.000000</td>\n",
              "      <td>1.000000</td>\n",
              "      <td>0.0</td>\n",
              "      <td>0.0</td>\n",
              "    </tr>\n",
              "  </tbody>\n",
              "</table>\n",
              "</div>"
            ],
            "text/plain": [
              "         Survived      Pclass         Sex         Age       SibSp       Parch  \\\n",
              "count  891.000000  891.000000  891.000000  891.000000  891.000000  891.000000   \n",
              "mean     0.383838    2.308642    0.647587   29.489981    0.523008    0.381594   \n",
              "std      0.486592    0.836071    0.477990   13.615985    1.102743    0.806057   \n",
              "min      0.000000    1.000000    0.000000    0.420000    0.000000    0.000000   \n",
              "25%      0.000000    2.000000    0.000000   21.000000    0.000000    0.000000   \n",
              "50%      0.000000    3.000000    1.000000   28.000000    0.000000    0.000000   \n",
              "75%      1.000000    3.000000    1.000000   36.000000    1.000000    0.000000   \n",
              "max      1.000000    3.000000    1.000000   80.000000    8.000000    6.000000   \n",
              "\n",
              "             Fare   Fam_count     isAlone        F_pp    Pclass_1    Pclass_2  \\\n",
              "count  891.000000  891.000000  891.000000  891.000000  891.000000  891.000000   \n",
              "mean    32.665804    0.904602    0.397306   25.921534    0.242424    0.206510   \n",
              "std     49.518987    1.613459    0.489615   43.530183    0.428790    0.405028   \n",
              "min      4.012500    0.000000    0.000000    1.320833    0.000000    0.000000   \n",
              "25%      7.925000    0.000000    0.000000    7.795800    0.000000    0.000000   \n",
              "50%     15.100000    0.000000    0.000000   10.500000    0.000000    0.000000   \n",
              "75%     31.000000    1.000000    1.000000   26.550000    0.000000    0.000000   \n",
              "max    512.329200   10.000000    1.000000  512.329200    1.000000    1.000000   \n",
              "\n",
              "       Embarked_S  Embarked_C  \n",
              "count       891.0       891.0  \n",
              "mean          0.0         0.0  \n",
              "std           0.0         0.0  \n",
              "min           0.0         0.0  \n",
              "25%           0.0         0.0  \n",
              "50%           0.0         0.0  \n",
              "75%           0.0         0.0  \n",
              "max           0.0         0.0  "
            ]
          },
          "execution_count": 251,
          "metadata": {},
          "output_type": "execute_result"
        }
      ]
    },
    {
      "cell_type": "markdown",
      "metadata": {
        "id": "eLIN0sSBV0rz"
      },
      "source": [
        "Sex & Age"
      ]
    },
    {
      "cell_type": "code",
      "metadata": {
        "colab": {
          "base_uri": "https://localhost:8080/",
          "height": 454
        },
        "id": "8Ys-6wsYOCFF",
        "outputId": "dd30e943-0804-4ede-af44-468ff12b92b1"
      },
      "source": [
        "survived = 'survived'\n",
        "not_survived = 'not survived'\n",
        "fig, axes = plt.subplots(nrows=1, ncols=2,figsize=(10, 4))\n",
        "women = train[train['Sex']=='female']\n",
        "men = train[train['Sex']=='male']\n",
        "ax = sns.distplot(women[women['Survived']==1].Age.dropna(), bins=18, label = survived, ax = axes[0], kde =False)\n",
        "ax = sns.distplot(women[women['Survived']==0].Age.dropna(), bins=40, label = not_survived, ax = axes[0], kde =False)\n",
        "ax.legend()\n",
        "ax.set_title('Female')\n",
        "ax = sns.distplot(men[men['Survived']==1].Age.dropna(), bins=18, label = survived, ax = axes[1], kde = False)\n",
        "ax = sns.distplot(men[men['Survived']==0].Age.dropna(), bins=40, label = not_survived, ax = axes[1], kde = False)\n",
        "ax.legend()\n",
        "_ = ax.set_title('Male')"
      ],
      "execution_count": null,
      "outputs": [
        {
          "output_type": "stream",
          "name": "stderr",
          "text": [
            "/usr/local/lib/python3.7/dist-packages/seaborn/distributions.py:2619: FutureWarning: `distplot` is a deprecated function and will be removed in a future version. Please adapt your code to use either `displot` (a figure-level function with similar flexibility) or `histplot` (an axes-level function for histograms).\n",
            "  warnings.warn(msg, FutureWarning)\n",
            "/usr/local/lib/python3.7/dist-packages/seaborn/distributions.py:2619: FutureWarning: `distplot` is a deprecated function and will be removed in a future version. Please adapt your code to use either `displot` (a figure-level function with similar flexibility) or `histplot` (an axes-level function for histograms).\n",
            "  warnings.warn(msg, FutureWarning)\n",
            "/usr/local/lib/python3.7/dist-packages/seaborn/distributions.py:2619: FutureWarning: `distplot` is a deprecated function and will be removed in a future version. Please adapt your code to use either `displot` (a figure-level function with similar flexibility) or `histplot` (an axes-level function for histograms).\n",
            "  warnings.warn(msg, FutureWarning)\n",
            "/usr/local/lib/python3.7/dist-packages/seaborn/distributions.py:2619: FutureWarning: `distplot` is a deprecated function and will be removed in a future version. Please adapt your code to use either `displot` (a figure-level function with similar flexibility) or `histplot` (an axes-level function for histograms).\n",
            "  warnings.warn(msg, FutureWarning)\n"
          ]
        },
        {
          "output_type": "display_data",
          "data": {
            "image/png": "[encoded data removed]",
            "text/plain": [
              "<Figure size 720x288 with 2 Axes>"
            ]
          },
          "metadata": {
            "needs_background": "light"
          }
        }
      ]
    },
    {
      "cell_type": "markdown",
      "metadata": {
        "id": "pYIYQfXOV6Yg"
      },
      "source": [
        "Embarked, Pclass and Sex"
      ]
    },
    {
      "cell_type": "code",
      "metadata": {
        "colab": {
          "base_uri": "https://localhost:8080/",
          "height": 1000
        },
        "id": "aS3in1idNmhW",
        "outputId": "1b2892cd-699d-48fa-9f43-f38b51d9bb3d"
      },
      "source": [
        "sns.barplot(x='Pclass', y='Survived', data=train)\n",
        "FacetGrid = sns.FacetGrid(train, row='Embarked', size=4.5, aspect=1.6)\n",
        "FacetGrid.map(sns.pointplot, 'Pclass', 'Survived', 'Sex', palette=None,  order=None, hue_order=None )\n",
        "FacetGrid.add_legend()"
      ],
      "execution_count": null,
      "outputs": [
        {
          "output_type": "stream",
          "name": "stderr",
          "text": [
            "/usr/local/lib/python3.7/dist-packages/seaborn/axisgrid.py:337: UserWarning: The `size` parameter has been renamed to `height`; please update your code.\n",
            "  warnings.warn(msg, UserWarning)\n"
          ]
        },
        {
          "output_type": "execute_result",
          "data": {
            "text/plain": [
              "<seaborn.axisgrid.FacetGrid at 0x7f3556c8b910>"
            ]
          },
          "metadata": {},
          "execution_count": 11
        },
        {
          "output_type": "display_data",
          "data": {
            "image/png": "[encoded data removed]",
            "text/plain": [
              "<Figure size 432x288 with 1 Axes>"
            ]
          },
          "metadata": {
            "needs_background": "light"
          }
        },
        {
          "output_type": "display_data",
          "data": {
            "image/png": "[encoded data removed]",
            "text/plain": [
              "<Figure size 588.9x972 with 3 Axes>"
            ]
          },
          "metadata": {
            "needs_background": "light"
          }
        }
      ]
    },
    {
      "cell_type": "markdown",
      "metadata": {
        "id": "0WrnrL5IWC5y"
      },
      "source": [
        "SibSp and Parch"
      ]
    },
    {
      "cell_type": "code",
      "metadata": {
        "colab": {
          "base_uri": "https://localhost:8080/",
          "height": 458
        },
        "id": "Wzh-ALG_NqfQ",
        "outputId": "8963761e-8ea9-4f1d-ba5b-d54df8cebb29"
      },
      "source": [
        "data = [train, test]\n",
        "for dataset in data:\n",
        "    dataset['relatives'] = dataset['SibSp'] + dataset['Parch']\n",
        "    dataset.loc[dataset['relatives'] > 0, 'not_alone'] = 0\n",
        "    dataset.loc[dataset['relatives'] == 0, 'not_alone'] = 1\n",
        "    dataset['not_alone'] = dataset['not_alone'].astype(int)\n",
        "# train['not_alone'].value_counts()\n",
        "\n",
        "axes = sns.factorplot('relatives','Survived', \n",
        "                      data=train, aspect = 2.5, )"
      ],
      "execution_count": null,
      "outputs": [
        {
          "output_type": "stream",
          "name": "stderr",
          "text": [
            "/usr/local/lib/python3.7/dist-packages/seaborn/categorical.py:3717: UserWarning: The `factorplot` function has been renamed to `catplot`. The original name will be removed in a future release. Please update your code. Note that the default `kind` in `factorplot` (`'point'`) has changed `'strip'` in `catplot`.\n",
            "  warnings.warn(msg)\n",
            "/usr/local/lib/python3.7/dist-packages/seaborn/_decorators.py:43: FutureWarning: Pass the following variables as keyword args: x, y. From version 0.12, the only valid positional argument will be `data`, and passing other arguments without an explicit keyword will result in an error or misinterpretation.\n",
            "  FutureWarning\n"
          ]
        },
        {
          "output_type": "display_data",
          "data": {
            "image/png": "[encoded data removed]",
            "text/plain": [
              "<Figure size 900x360 with 1 Axes>"
            ]
          },
          "metadata": {
            "needs_background": "light"
          }
        }
      ]
    },
    {
      "cell_type": "code",
      "metadata": {
        "colab": {
          "base_uri": "https://localhost:8080/",
          "height": 584
        },
        "id": "5YASLZkQNTaP",
        "outputId": "51c28f92-2631-4bc4-c37d-867ecff39c11"
      },
      "source": [
        "plt.figure(figsize=(10, 10))\n",
        "# Numeric columns of the dataset\n",
        "numeric_col1 = ['Survived', 'Age','SibSp','Parch','Fare']\n",
        " \n",
        "# Correlation Matrix formation\n",
        "corr_matrix = train.loc[:,numeric_col1].corr()\n",
        " \n",
        "#Using heatmap to visualize the correlation matrix\n",
        "ax = sns.heatmap(\n",
        "    corr_matrix, \n",
        "    vmin=-1, vmax=1, center=0,\n",
        "    cmap=sns.diverging_palette(20, 220, n=200),\n",
        "    square=True,\n",
        "    annot = True\n",
        ")\n",
        "ax.set_xticklabels(\n",
        "    ax.get_xticklabels(),\n",
        "    rotation=45,\n",
        "    horizontalalignment='right'\n",
        ");\n",
        "#ref: https://towardsdatascience.com/better-heatmaps-and-correlation-matrix-plots-in-python-41445d0f2bec"
      ],
      "execution_count": null,
      "outputs": [
        {
          "data": {
            "image/png": "[encoded data removed]",
            "text/plain": [
              "<Figure size 720x720 with 2 Axes>"
            ]
          },
          "metadata": {
            "needs_background": "light"
          },
          "output_type": "display_data"
        }
      ]
    },
    {
      "cell_type": "code",
      "metadata": {
        "colab": {
          "base_uri": "https://localhost:8080/",
          "height": 589
        },
        "id": "DPhU9_ffdjNA",
        "outputId": "f55f620e-ee3d-4582-c8e9-bdcc7bcd78ff"
      },
      "source": [
        "plt.figure(figsize=(10, 10))\n",
        "numeric_col2 = ['Survived', 'Sex', 'Age','SibSp','Parch','Fare', 'Pclass_1','Pclass_2','F_pp']\n",
        "# Correlation Matrix formation\n",
        "corr_matrix = train.loc[:,numeric_col2].corr()\n",
        " \n",
        "#Using heatmap to visualize the correlation matrix\n",
        "ax = sns.heatmap(\n",
        "    corr_matrix, \n",
        "    vmin=-1, vmax=1, center=0,\n",
        "    cmap=sns.diverging_palette(20, 220, n=200),\n",
        "    square=True,\n",
        "    annot = True\n",
        ")\n",
        "ax.set_xticklabels(\n",
        "    ax.get_xticklabels(),\n",
        "    rotation=45,\n",
        "    horizontalalignment='right'\n",
        ");"
      ],
      "execution_count": null,
      "outputs": [
        {
          "data": {
            "image/png": "[encoded data removed]",
            "text/plain": [
              "<Figure size 720x720 with 2 Axes>"
            ]
          },
          "metadata": {
            "needs_background": "light"
          },
          "output_type": "display_data"
        }
      ]
    },
    {
      "cell_type": "code",
      "metadata": {
        "id": "KH9hAUOkUhIy"
      },
      "source": [
        "#train['Pclass_1'] = train['Pclass_1'].astype('category')\n",
        "#train['Pclass_2'] = train['Pclass_2'].astype('category')\n",
        "#train['Embarked_S'] = train['Embarked_S'].astype('category')\n",
        "#train['Embarked_C'] = train['Embarked_C'].astype('category')\n",
        "\n",
        "#test['Pclass_1'] = test['Pclass_1'].astype('category')\n",
        "#test['Pclass_2'] = test['Pclass_2'].astype('category')\n",
        "#test['Embarked_S'] = test['Embarked_S'].astype('category')\n",
        "#test['Embarked_C'] =test['Embarked_C'].astype('category')\n",
        "\n",
        "cate_cols = ['Pclass','Sex','Embarked','Pclass_1','Pclass_2','Embarked_S','Embarked_C']\n",
        "for i in range(len(cate_cols)):\n",
        "    col = cate_cols[i]\n",
        "    train[col] = train[col].astype('category')\n",
        "    test[col] = test[col].astype('category')"
      ],
      "execution_count": null,
      "outputs": []
    },
    {
      "cell_type": "code",
      "metadata": {
        "id": "u6ispwCeUhIy",
        "outputId": "2362c16b-dffc-48dd-dbf7-c937027f9bac"
      },
      "source": [
        "train.head()"
      ],
      "execution_count": null,
      "outputs": [
        {
          "data": {
            "text/html": [
              "<div>\n",
              "<style scoped>\n",
              "    .dataframe tbody tr th:only-of-type {\n",
              "        vertical-align: middle;\n",
              "    }\n",
              "\n",
              "    .dataframe tbody tr th {\n",
              "        vertical-align: top;\n",
              "    }\n",
              "\n",
              "    .dataframe thead th {\n",
              "        text-align: right;\n",
              "    }\n",
              "</style>\n",
              "<table border=\"1\" class=\"dataframe\">\n",
              "  <thead>\n",
              "    <tr style=\"text-align: right;\">\n",
              "      <th></th>\n",
              "      <th>Survived</th>\n",
              "      <th>Pclass</th>\n",
              "      <th>Sex</th>\n",
              "      <th>Age</th>\n",
              "      <th>SibSp</th>\n",
              "      <th>Parch</th>\n",
              "      <th>Fare</th>\n",
              "      <th>Embarked</th>\n",
              "      <th>Fam_count</th>\n",
              "      <th>isAlone</th>\n",
              "      <th>F_pp</th>\n",
              "      <th>Pclass_1</th>\n",
              "      <th>Pclass_2</th>\n",
              "      <th>Embarked_S</th>\n",
              "      <th>Embarked_C</th>\n",
              "    </tr>\n",
              "  </thead>\n",
              "  <tbody>\n",
              "    <tr>\n",
              "      <th>0</th>\n",
              "      <td>0</td>\n",
              "      <td>3</td>\n",
              "      <td>1</td>\n",
              "      <td>22.0</td>\n",
              "      <td>1</td>\n",
              "      <td>0</td>\n",
              "      <td>7.2500</td>\n",
              "      <td>S</td>\n",
              "      <td>1</td>\n",
              "      <td>1</td>\n",
              "      <td>7.2500</td>\n",
              "      <td>0</td>\n",
              "      <td>0</td>\n",
              "      <td>0</td>\n",
              "      <td>0</td>\n",
              "    </tr>\n",
              "    <tr>\n",
              "      <th>1</th>\n",
              "      <td>1</td>\n",
              "      <td>1</td>\n",
              "      <td>0</td>\n",
              "      <td>38.0</td>\n",
              "      <td>1</td>\n",
              "      <td>0</td>\n",
              "      <td>71.2833</td>\n",
              "      <td>C</td>\n",
              "      <td>1</td>\n",
              "      <td>1</td>\n",
              "      <td>71.2833</td>\n",
              "      <td>1</td>\n",
              "      <td>0</td>\n",
              "      <td>0</td>\n",
              "      <td>0</td>\n",
              "    </tr>\n",
              "    <tr>\n",
              "      <th>2</th>\n",
              "      <td>1</td>\n",
              "      <td>3</td>\n",
              "      <td>0</td>\n",
              "      <td>26.0</td>\n",
              "      <td>0</td>\n",
              "      <td>0</td>\n",
              "      <td>7.9250</td>\n",
              "      <td>S</td>\n",
              "      <td>0</td>\n",
              "      <td>0</td>\n",
              "      <td>7.9250</td>\n",
              "      <td>0</td>\n",
              "      <td>0</td>\n",
              "      <td>0</td>\n",
              "      <td>0</td>\n",
              "    </tr>\n",
              "    <tr>\n",
              "      <th>3</th>\n",
              "      <td>1</td>\n",
              "      <td>1</td>\n",
              "      <td>0</td>\n",
              "      <td>35.0</td>\n",
              "      <td>1</td>\n",
              "      <td>0</td>\n",
              "      <td>53.1000</td>\n",
              "      <td>S</td>\n",
              "      <td>1</td>\n",
              "      <td>1</td>\n",
              "      <td>53.1000</td>\n",
              "      <td>1</td>\n",
              "      <td>0</td>\n",
              "      <td>0</td>\n",
              "      <td>0</td>\n",
              "    </tr>\n",
              "    <tr>\n",
              "      <th>4</th>\n",
              "      <td>0</td>\n",
              "      <td>3</td>\n",
              "      <td>1</td>\n",
              "      <td>35.0</td>\n",
              "      <td>0</td>\n",
              "      <td>0</td>\n",
              "      <td>8.0500</td>\n",
              "      <td>S</td>\n",
              "      <td>0</td>\n",
              "      <td>0</td>\n",
              "      <td>8.0500</td>\n",
              "      <td>0</td>\n",
              "      <td>0</td>\n",
              "      <td>0</td>\n",
              "      <td>0</td>\n",
              "    </tr>\n",
              "  </tbody>\n",
              "</table>\n",
              "</div>"
            ],
            "text/plain": [
              "   Survived  Pclass  Sex   Age  SibSp  Parch     Fare Embarked  Fam_count  \\\n",
              "0         0       3    1  22.0      1      0   7.2500        S          1   \n",
              "1         1       1    0  38.0      1      0  71.2833        C          1   \n",
              "2         1       3    0  26.0      0      0   7.9250        S          0   \n",
              "3         1       1    0  35.0      1      0  53.1000        S          1   \n",
              "4         0       3    1  35.0      0      0   8.0500        S          0   \n",
              "\n",
              "   isAlone     F_pp  Pclass_1  Pclass_2  Embarked_S  Embarked_C  \n",
              "0        1   7.2500         0         0           0           0  \n",
              "1        1  71.2833         1         0           0           0  \n",
              "2        0   7.9250         0         0           0           0  \n",
              "3        1  53.1000         1         0           0           0  \n",
              "4        0   8.0500         0         0           0           0  "
            ]
          },
          "execution_count": 255,
          "metadata": {},
          "output_type": "execute_result"
        }
      ]
    },
    {
      "cell_type": "code",
      "metadata": {
        "id": "ReStHjZKUhIz"
      },
      "source": [
        "#finalized the dataset\n",
        "X = train.drop(['Pclass','Embarked','Survived'],axis = 1)\n",
        "y = train['Survived']"
      ],
      "execution_count": null,
      "outputs": []
    },
    {
      "cell_type": "markdown",
      "metadata": {
        "id": "I4JDcDwz86gC"
      },
      "source": [
        "## 2.2 Data Cleaning and Processing\n",
        "(1) Remove *PassengerId*, *Name* and *Ticket* since they are less correlated with survival state.\n",
        "\n",
        "(2) Deal with some Na values in the datasets\n",
        "\n",
        "(3) Decide which variables to be treated as categorical variables and process them"
      ]
    },
    {
      "cell_type": "markdown",
      "metadata": {
        "id": "7VPUizYjUhIn"
      },
      "source": [
        "(1) Removal"
      ]
    },
    {
      "cell_type": "code",
      "metadata": {
        "id": "P7lCIYNebzbd"
      },
      "source": [
        "tr_Cabin = train['Cabin']\n",
        "train.drop(['PassengerId', 'Name', 'Ticket','Cabin'],axis = 1, inplace=True)\n",
        "te_Cabin = test['Cabin']\n",
        "test.drop(['PassengerId', 'Name', 'Ticket','Cabin'],axis = 1, inplace=True)"
      ],
      "execution_count": null,
      "outputs": []
    },
    {
      "cell_type": "markdown",
      "metadata": {
        "id": "tWI2vQ_TUhIp"
      },
      "source": [
        "(2) Fill NA"
      ]
    },
    {
      "cell_type": "code",
      "metadata": {
        "id": "QjW4t1mj0leb"
      },
      "source": [
        "total = train.isnull().sum().sort_values(ascending=False)\n",
        "percent_1 = train.isnull().sum()/train.isnull().count()*100\n",
        "percent_2 = (round(percent_1, 1)).sort_values(ascending=False)\n",
        "missing_data = pd.concat([total, percent_2], axis=1, keys=['Total', '%'])\n",
        "missing_data.head(len(percent_1))"
      ],
      "execution_count": null,
      "outputs": []
    },
    {
      "cell_type": "code",
      "metadata": {
        "colab": {
          "base_uri": "https://localhost:8080/"
        },
        "id": "NFyslD0k-MDo",
        "outputId": "ae165e5a-588c-43b7-b959-0ec74e2e9cc8"
      },
      "source": [
        "#which cols contain na?\n",
        "pd.isnull(train).sum()>0"
      ],
      "execution_count": null,
      "outputs": [
        {
          "data": {
            "text/plain": [
              "Survived    False\n",
              "Pclass      False\n",
              "Sex         False\n",
              "Age          True\n",
              "SibSp       False\n",
              "Parch       False\n",
              "Fare        False\n",
              "Embarked     True\n",
              "dtype: bool"
            ]
          },
          "execution_count": 223,
          "metadata": {},
          "output_type": "execute_result"
        }
      ]
    },
    {
      "cell_type": "code",
      "metadata": {
        "colab": {
          "base_uri": "https://localhost:8080/"
        },
        "id": "2xnd9w-kb4n7",
        "outputId": "dedf3848-0672-46e4-a4f5-fd10325a4f9b"
      },
      "source": [
        "pd.isnull(test).sum()>0"
      ],
      "execution_count": null,
      "outputs": [
        {
          "data": {
            "text/plain": [
              "Pclass      False\n",
              "Sex         False\n",
              "Age          True\n",
              "SibSp       False\n",
              "Parch       False\n",
              "Fare         True\n",
              "Embarked    False\n",
              "dtype: bool"
            ]
          },
          "execution_count": 224,
          "metadata": {},
          "output_type": "execute_result"
        }
      ]
    },
    {
      "cell_type": "code",
      "metadata": {
        "id": "_EBXkyi-UhIr"
      },
      "source": [
        "#Fill Na in train_embarked\n",
        "train['Age'].fillna(-1, inplace = True)\n",
        "test['Age'].fillna(-1, inplace = True)\n",
        "train[train.isna().any(axis=1)]"
      ],
      "execution_count": null,
      "outputs": []
    },
    {
      "cell_type": "code",
      "metadata": {
        "id": "q7i3jX3OUhIr",
        "outputId": "3ab9d8ba-d44e-415c-e761-df529769db74"
      },
      "source": [
        "df1 = train[['Fare','Embarked']]\n",
        "df2 = test[['Fare','Embarked']]\n",
        "df = pd.concat([df1,df2],axis = 0)\n",
        "g = df.groupby('Embarked')\n",
        "g.mean()"
      ],
      "execution_count": null,
      "outputs": [
        {
          "data": {
            "text/html": [
              "<div>\n",
              "<style scoped>\n",
              "    .dataframe tbody tr th:only-of-type {\n",
              "        vertical-align: middle;\n",
              "    }\n",
              "\n",
              "    .dataframe tbody tr th {\n",
              "        vertical-align: top;\n",
              "    }\n",
              "\n",
              "    .dataframe thead th {\n",
              "        text-align: right;\n",
              "    }\n",
              "</style>\n",
              "<table border=\"1\" class=\"dataframe\">\n",
              "  <thead>\n",
              "    <tr style=\"text-align: right;\">\n",
              "      <th></th>\n",
              "      <th>Fare</th>\n",
              "    </tr>\n",
              "    <tr>\n",
              "      <th>Embarked</th>\n",
              "      <th></th>\n",
              "    </tr>\n",
              "  </thead>\n",
              "  <tbody>\n",
              "    <tr>\n",
              "      <th>C</th>\n",
              "      <td>62.336267</td>\n",
              "    </tr>\n",
              "    <tr>\n",
              "      <th>Q</th>\n",
              "      <td>12.409012</td>\n",
              "    </tr>\n",
              "    <tr>\n",
              "      <th>S</th>\n",
              "      <td>27.418824</td>\n",
              "    </tr>\n",
              "  </tbody>\n",
              "</table>\n",
              "</div>"
            ],
            "text/plain": [
              "               Fare\n",
              "Embarked           \n",
              "C         62.336267\n",
              "Q         12.409012\n",
              "S         27.418824"
            ]
          },
          "execution_count": 226,
          "metadata": {},
          "output_type": "execute_result"
        }
      ]
    },
    {
      "cell_type": "code",
      "metadata": {
        "id": "c7FR1sdDUhIs"
      },
      "source": [
        "train['Embarked'].fillna('C', inplace = True)"
      ],
      "execution_count": null,
      "outputs": []
    },
    {
      "cell_type": "code",
      "metadata": {
        "id": "bmS1CShDUhIs"
      },
      "source": [
        "#Deal with train/test_Fare ==0\n",
        "train.loc[(train['Fare']==0),'Fare'] = 27.418824\n",
        "test.loc[(test['Fare']==0),'Fare'] = 27.418824\n",
        "\n",
        "#Deal with test_Fare = Na\n",
        "test['Fare'].fillna(27.419460, inplace = True)"
      ],
      "execution_count": null,
      "outputs": []
    },
    {
      "cell_type": "markdown",
      "metadata": {
        "id": "LuK7JJhfRydt"
      },
      "source": [
        "Converting Features"
      ]
    },
    {
      "cell_type": "markdown",
      "metadata": {
        "id": "yjqiqkwp39QR"
      },
      "source": [
        "Name"
      ]
    },
    {
      "cell_type": "code",
      "metadata": {
        "id": "-8p6_jI9R_68"
      },
      "source": [
        "data = [train, test]\n",
        "titles = {\"Mr\": 1, \"Miss\": 2, \"Mrs\": 3, \"Master\": 4, \"Rare\": 5}\n",
        "\n",
        "for dataset in data:\n",
        "    # extract titles\n",
        "    dataset['Title'] = dataset.Name.str.extract(' ([A-Za-z]+)\\.', expand=False)\n",
        "    # replace titles with a more common title or as Rare\n",
        "    dataset['Title'] = dataset['Title'].replace(['Lady', 'Countess','Capt', 'Col','Don', 'Dr',\\\n",
        "                                            'Major', 'Rev', 'Sir', 'Jonkheer', 'Dona'], 'Rare')\n",
        "    dataset['Title'] = dataset['Title'].replace('Mlle', 'Miss')\n",
        "    dataset['Title'] = dataset['Title'].replace('Ms', 'Miss')\n",
        "    dataset['Title'] = dataset['Title'].replace('Mme', 'Mrs')\n",
        "    # convert titles into numbers\n",
        "    dataset['Title'] = dataset['Title'].map(titles)\n",
        "    # filling NaN with 0, to get safe\n",
        "    dataset['Title'] = dataset['Title'].fillna(0)\n",
        "train = train.drop(['Name'], axis=1)\n",
        "test = test.drop(['Name'], axis=1)"
      ],
      "execution_count": null,
      "outputs": []
    },
    {
      "cell_type": "markdown",
      "metadata": {
        "id": "5xhuChKl3_7s"
      },
      "source": [
        "Creating New feature"
      ]
    },
    {
      "cell_type": "markdown",
      "metadata": {
        "id": "7HMSuaqp29x0"
      },
      "source": [
        "Fam_count"
      ]
    },
    {
      "cell_type": "code",
      "metadata": {
        "id": "sWOU5QgyUhIt"
      },
      "source": [
        "train['Fam_count'] = train['Parch'] + train['SibSp']  \n",
        "test['Fam_count'] = test['Parch'] + test['SibSp']  \n",
        "train['isAlone'] =  (train['Fam_count'] > 0)*1\n",
        "test['isAlone'] =  (test['Fam_count'] > 0)*1\n",
        "#fare per person\n",
        "train['F_pp'] = train['Fare']/train['Fam_count'] \n",
        "test['F_pp'] =  test['Fare']/test['Fam_count'] "
      ],
      "execution_count": null,
      "outputs": []
    },
    {
      "cell_type": "markdown",
      "metadata": {
        "id": "e0mF-_KT3A1D"
      },
      "source": [
        "F_pp"
      ]
    },
    {
      "cell_type": "code",
      "metadata": {
        "id": "_-DoOqktUhIt"
      },
      "source": [
        "for i in range(train.shape[0]):\n",
        "    if train.F_pp[i] == float('inf'):\n",
        "        #train.F_pp[i] = train.Fare[i] \n",
        "        train.loc[i,'F_pp'] = train.loc[i,'Fare']\n",
        "        \n",
        "for i in range(test.shape[0]):\n",
        "    if test.F_pp[i] == float('inf'):\n",
        "        test.loc[i,'F_pp'] = test.loc[i,'Fare']"
      ],
      "execution_count": null,
      "outputs": []
    },
    {
      "cell_type": "markdown",
      "metadata": {
        "id": "Xo2dqJpmUhIt"
      },
      "source": [
        "Fill Na in Age"
      ]
    },
    {
      "cell_type": "code",
      "metadata": {
        "id": "VqPB0hT8J73i"
      },
      "source": [
        "# Replace NaN in Age with median\n",
        "# train['Age'].fillna(train['Age'].median(), inplace = True)\n",
        "# test['Age'].fillna(train['Age'].median(), inplace = True) #?\n",
        "\n",
        "# test['Fare'].fillna(train['Fare'].median(), inplace = True)  #?"
      ],
      "execution_count": null,
      "outputs": []
    },
    {
      "cell_type": "code",
      "metadata": {
        "id": "TJPC5AChUhIu"
      },
      "source": [
        "train['Sex']=(train['Sex']=='male')*1\n",
        "test['Sex']=(test['Sex']=='male')*1"
      ],
      "execution_count": null,
      "outputs": []
    },
    {
      "cell_type": "code",
      "metadata": {
        "id": "qAy4mKtfUhIv"
      },
      "source": [
        "train['Pclass_1'] = (train['Pclass']==1)*1\n",
        "train['Pclass_2'] = (train['Pclass']==2)*1\n",
        "train['Embarked_S'] = (train['Embarked']=='S')*1\n",
        "train['Embarked_C'] = (train['Embarked']=='C')*1\n",
        "\n",
        "test['Pclass_1'] = (test['Pclass']==1)*1\n",
        "test['Pclass_2'] = (test['Pclass']==2)*1\n",
        "test['Embarked_S'] = (test['Embarked']=='S')*1\n",
        "test['Embarked_C'] = (test['Embarked']=='C')*1"
      ],
      "execution_count": null,
      "outputs": []
    },
    {
      "cell_type": "code",
      "metadata": {
        "id": "0CYZNhs7UhIv"
      },
      "source": [
        "df1 = train.drop('Survived',axis = 1)\n",
        "total =pd.concat([df1,test],axis = 0)\n",
        "\n",
        "age_na = total.loc[total['Age'] == -1]\n",
        "age_na = age_na.drop(['Age'],axis = 1)\n",
        "age_notna  = total.drop(total[total['Age'] == -1].index)"
      ],
      "execution_count": null,
      "outputs": []
    },
    {
      "cell_type": "code",
      "metadata": {
        "id": "YBWaHh7JUhIv"
      },
      "source": [
        "X_train = age_notna[['Sex','SibSp','Parch','Fare','Pclass_1','Pclass_2','Embarked_S','Embarked_C']]\n",
        "y_train = age_notna[['Age']]\n",
        "\n",
        "X_pred = age_na[['Sex','SibSp','Parch','Fare','Pclass_1','Pclass_2','Embarked_S','Embarked_C']]"
      ],
      "execution_count": null,
      "outputs": []
    },
    {
      "cell_type": "code",
      "metadata": {
        "id": "RrAch0VcUhIw",
        "outputId": "f1f2f346-3cae-4868-adca-6aef0f527601"
      },
      "source": [
        "regr1 = RandomForestRegressor(max_features=6, random_state=1)\n",
        "regr1.fit(X_train, y_train)\n",
        "pred = regr1.predict(X_pred)"
      ],
      "execution_count": null,
      "outputs": [
        {
          "name": "stderr",
          "output_type": "stream",
          "text": [
            "/opt/anaconda3/lib/python3.7/site-packages/ipykernel_launcher.py:2: DataConversionWarning: A column-vector y was passed when a 1d array was expected. Please change the shape of y to (n_samples,), for example using ravel().\n",
            "  \n"
          ]
        }
      ]
    },
    {
      "cell_type": "code",
      "metadata": {
        "id": "ac3Ar6cmUhIw"
      },
      "source": [
        "count = 0\n",
        "for i in range(train.shape[0]):\n",
        "    if train.Age[i] == -1:\n",
        "        train.loc[i,'Age'] = pred[count]\n",
        "        count += 1\n",
        "\n",
        "for i in range(test.shape[0]):\n",
        "    if test.Age[i] == -1:\n",
        "        test.loc[i,'Age'] = pred[count]\n",
        "        count += 1    "
      ],
      "execution_count": null,
      "outputs": []
    },
    {
      "cell_type": "code",
      "metadata": {
        "id": "Lsw3v07Nib3k"
      },
      "source": [
        "#combo = [train, test]\n",
        "#for item in combo:\n",
        "#   item['Embarked'] = item['Embarked'].map( {'S': 1, 'C': 2, 'Q': 3} ).astype(int)"
      ],
      "execution_count": null,
      "outputs": []
    },
    {
      "cell_type": "code",
      "metadata": {
        "id": "5JqcNA2HZBP6"
      },
      "source": [
        "#create a categorical variables called age_group\n",
        "#labels=['{0} - {1}'.format(i,i+9) for i in range(0,100,10)]\n",
        "#train['Age_group'] = pd.cut(train['Age'],range(0,105,10),right=False,labels=labels)\n",
        "#test['Age_group'] = pd.cut(test['Age'],range(0,105,10),right=False,labels=labels)"
      ],
      "execution_count": null,
      "outputs": []
    },
    {
      "cell_type": "markdown",
      "metadata": {
        "id": "JzEwJPKxTBJ5"
      },
      "source": [
        "Categories"
      ]
    },
    {
      "cell_type": "code",
      "metadata": {
        "id": "OnzDvoGKSNOc"
      },
      "source": [
        "for dataset in data:\n",
        "    dataset['Age'] = dataset['Age'].astype(int)\n",
        "    dataset.loc[ dataset['Age'] <= 11, 'Age'] = 0\n",
        "    dataset.loc[(dataset['Age'] > 11) & (dataset['Age'] <= 18), 'Age'] = 1\n",
        "    dataset.loc[(dataset['Age'] > 18) & (dataset['Age'] <= 22), 'Age'] = 2\n",
        "    dataset.loc[(dataset['Age'] > 22) & (dataset['Age'] <= 27), 'Age'] = 3\n",
        "    dataset.loc[(dataset['Age'] > 27) & (dataset['Age'] <= 33), 'Age'] = 4\n",
        "    dataset.loc[(dataset['Age'] > 33) & (dataset['Age'] <= 40), 'Age'] = 5\n",
        "    dataset.loc[(dataset['Age'] > 40) & (dataset['Age'] <= 66), 'Age'] = 6\n",
        "    dataset.loc[ dataset['Age'] > 66, 'Age'] = 6"
      ],
      "execution_count": null,
      "outputs": []
    },
    {
      "cell_type": "code",
      "metadata": {
        "id": "ivVxpCN3SPT1"
      },
      "source": [
        "for dataset in data:\n",
        "    dataset['Fare'] = dataset['Fare'].fillna(0)\n",
        "    dataset['Fare'] = dataset['Fare'].astype(int)\n",
        "\n",
        "for dataset in data:\n",
        "    dataset.loc[ dataset['Fare'] <= 7.91, 'Fare'] = 0\n",
        "    dataset.loc[(dataset['Fare'] > 7.91) & (dataset['Fare'] <= 14.454), 'Fare'] = 1\n",
        "    dataset.loc[(dataset['Fare'] > 14.454) & (dataset['Fare'] <= 31), 'Fare']   = 2\n",
        "    dataset.loc[(dataset['Fare'] > 31) & (dataset['Fare'] <= 99), 'Fare']   = 3\n",
        "    dataset.loc[(dataset['Fare'] > 99) & (dataset['Fare'] <= 250), 'Fare']   = 4\n",
        "    dataset.loc[ dataset['Fare'] > 250, 'Fare'] = 5\n",
        "    dataset['Fare'] = dataset['Fare'].astype(int)"
      ],
      "execution_count": null,
      "outputs": []
    },
    {
      "cell_type": "markdown",
      "metadata": {
        "id": "kQSw4L5zUhIz"
      },
      "source": [
        "# 3. Model"
      ]
    },
    {
      "cell_type": "markdown",
      "metadata": {
        "id": "_Uu8eAcX4P_H"
      },
      "source": [
        "### 3.0 Model Comparison"
      ]
    },
    {
      "cell_type": "code",
      "metadata": {
        "id": "BiuF0D_6eUG5"
      },
      "source": [
        "X_train = train.drop(\"Survived\", axis=1)\n",
        "Y_train = train[\"Survived\"]\n",
        "X_test  = test.drop(\"PassengerId\", axis=1).copy()"
      ],
      "execution_count": null,
      "outputs": []
    },
    {
      "cell_type": "markdown",
      "metadata": {
        "id": "d3oqXm2kd85y"
      },
      "source": [
        "Random Forest"
      ]
    },
    {
      "cell_type": "code",
      "metadata": {
        "colab": {
          "base_uri": "https://localhost:8080/"
        },
        "id": "nzxE_zkKd_th",
        "outputId": "75b8f7d4-0976-403b-ef18-8138bc1da4d9"
      },
      "source": [
        "rf_acc_list = np.zeros(5)\n",
        "for i in range(5):\n",
        "    random_forest = RandomForestClassifier(n_estimators=100)\n",
        "    rf_acc_list[i] =cross_val_score(random_forest, X_train, Y_train, cv=5).mean()\n",
        "\n",
        "print(np.mean(rf_acc_list))\n",
        "print(np.std(rf_acc_list))"
      ],
      "execution_count": null,
      "outputs": [
        {
          "output_type": "stream",
          "name": "stdout",
          "text": [
            "0.8217927311530978\n",
            "0.0008391895435205904\n"
          ]
        }
      ]
    },
    {
      "cell_type": "markdown",
      "metadata": {
        "id": "Ijsn6r3thV7_"
      },
      "source": [
        "Logistic Regression"
      ]
    },
    {
      "cell_type": "code",
      "metadata": {
        "colab": {
          "base_uri": "https://localhost:8080/"
        },
        "id": "Su66qmmQhLVX",
        "outputId": "9b6c1955-73f7-494e-bb4e-66f3661365c8"
      },
      "source": [
        "lr_acc_list = np.zeros(5)\n",
        "for i in range(5):\n",
        "    logreg = LogisticRegression()\n",
        "    lr_acc_list[i] =cross_val_score(logreg, X_train, Y_train, cv=5).mean()\n",
        "\n",
        "print(np.mean(lr_acc_list))\n",
        "print(np.std(lr_acc_list))"
      ],
      "execution_count": null,
      "outputs": [
        {
          "output_type": "stream",
          "name": "stdout",
          "text": [
            "0.8159249262444291\n",
            "0.0\n"
          ]
        }
      ]
    },
    {
      "cell_type": "markdown",
      "metadata": {
        "id": "wgzlO1qsh0LI"
      },
      "source": [
        "Linear Support Vector Machine"
      ]
    },
    {
      "cell_type": "code",
      "metadata": {
        "colab": {
          "base_uri": "https://localhost:8080/"
        },
        "id": "dHj5FSMyhxzn",
        "outputId": "668f541a-fa0a-48c1-ee4f-1c52337afee2"
      },
      "source": [
        "svm_acc_list = np.zeros(5)\n",
        "for i in range(5):\n",
        "    linear_svc = LinearSVC()\n",
        "    svm_acc_list[i] =cross_val_score(linear_svc, X_train, Y_train, cv=5).mean()\n",
        "\n",
        "print(np.mean(svm_acc_list))\n",
        "print(np.std(svm_acc_list))"
      ],
      "execution_count": null,
      "outputs": [
        {
          "output_type": "stream",
          "name": "stdout",
          "text": [
            "0.80739815454146\n",
            "0.0005504471332096716\n"
          ]
        }
      ]
    },
    {
      "cell_type": "markdown",
      "metadata": {
        "id": "9r_y6-f8jF1v"
      },
      "source": [
        "Decision Tree"
      ]
    },
    {
      "cell_type": "code",
      "metadata": {
        "colab": {
          "base_uri": "https://localhost:8080/"
        },
        "id": "jKWJ2wYGjEv_",
        "outputId": "b14ae138-6b8a-49b7-bc1a-14078cbcc1e3"
      },
      "source": [
        "dt_acc_list = np.zeros(5)\n",
        "for i in range(5):\n",
        "    decision_tree = DecisionTreeClassifier(max_leaf_nodes=15)\n",
        "    dt_acc_list[i] =cross_val_score(decision_tree, X_train, Y_train, cv=5).mean()\n",
        "\n",
        "print(np.mean(dt_acc_list))\n",
        "print(np.std(dt_acc_list))"
      ],
      "execution_count": null,
      "outputs": [
        {
          "output_type": "stream",
          "name": "stdout",
          "text": [
            "0.8110062142991652\n",
            "0.0005504471332096716\n"
          ]
        }
      ]
    },
    {
      "cell_type": "markdown",
      "metadata": {
        "id": "wTP9XBS-j7xY"
      },
      "source": [
        "K Nearest Neighbor"
      ]
    },
    {
      "cell_type": "code",
      "metadata": {
        "colab": {
          "base_uri": "https://localhost:8080/"
        },
        "id": "jDSSaFEQj7Oe",
        "outputId": "5c1f1721-c848-45c8-8ec8-ba5f116257fd"
      },
      "source": [
        "knn_acc_list = np.zeros(5)\n",
        "for i in range(5):\n",
        "    knn = KNeighborsClassifier(n_neighbors = 3)\n",
        "    knn_acc_list[i] =cross_val_score(knn, X_train, Y_train, cv=5).mean()\n",
        "\n",
        "print(np.mean(knn_acc_list))\n",
        "print(np.std(knn_acc_list))"
      ],
      "execution_count": null,
      "outputs": [
        {
          "output_type": "stream",
          "name": "stdout",
          "text": [
            "0.8013872324398971\n",
            "0.0\n"
          ]
        }
      ]
    },
    {
      "cell_type": "markdown",
      "metadata": {
        "id": "4wonwXaXUhIz"
      },
      "source": [
        "### 3.1 Random Forest"
      ]
    },
    {
      "cell_type": "code",
      "metadata": {
        "id": "tyRshGT5UhIz"
      },
      "source": [
        "rf_acc = 0\n",
        "rf_model = RandomForestClassifier(max_features=6, random_state=1)\n",
        "rf_acc =cross_val_score(rf_model, X, y, cv=5).mean()"
      ],
      "execution_count": null,
      "outputs": []
    },
    {
      "cell_type": "code",
      "metadata": {
        "id": "hQAP4JeeUhI0",
        "outputId": "a314acca-5b94-4a48-f1aa-47f967c4d720"
      },
      "source": [
        "rf_acc"
      ],
      "execution_count": null,
      "outputs": [
        {
          "data": {
            "text/plain": [
              "0.8069989328981231"
            ]
          },
          "execution_count": 285,
          "metadata": {},
          "output_type": "execute_result"
        }
      ]
    },
    {
      "cell_type": "code",
      "metadata": {
        "id": "g4ZpO8hCUhI0"
      },
      "source": [
        "#tunning paramters\n",
        "criteria = ['gini','entropy']\n",
        "max_feature = range(1,12)\n",
        "min_samples_splits = [1,20,40,60,80]\n",
        "min_samples_leafs = [1,20,40,60,80]"
      ],
      "execution_count": null,
      "outputs": []
    },
    {
      "cell_type": "code",
      "metadata": {
        "id": "DcA5jPUYUhI0"
      },
      "source": [
        "rf_acc = np.zeros(6)\n",
        "for i in range(7,13):\n",
        "    rf_model = RandomForestClassifier(max_features=i, random_state=1)\n",
        "    rf_acc[i-7] =cross_val_score(rf_model, X, y, cv=5).mean()"
      ],
      "execution_count": null,
      "outputs": []
    },
    {
      "cell_type": "code",
      "metadata": {
        "id": "ohhVwlZQUhI0",
        "outputId": "69fa463a-d58b-4bb2-ae8c-238ab28a3f1a"
      },
      "source": [
        "rf_acc"
      ],
      "execution_count": null,
      "outputs": [
        {
          "data": {
            "text/plain": [
              "array([0.81150587, 0.80586278, 0.81483899, 0.81148704, 0.81036972,\n",
              "       0.81708618, 0.        ])"
            ]
          },
          "execution_count": 295,
          "metadata": {},
          "output_type": "execute_result"
        }
      ]
    },
    {
      "cell_type": "code",
      "metadata": {
        "id": "s5zr-VX0UhI0"
      },
      "source": [
        "min_samples_splits = [5,10,20,40,60,80]\n",
        "rf_acc = np.zeros(len(min_samples_splits))\n",
        "for i in range(len(min_samples_splits)):\n",
        "    j = min_samples_splits[i]\n",
        "    rf_model = RandomForestClassifier(max_features=12, random_state=1,min_samples_split = j)\n",
        "    rf_acc[i] =cross_val_score(rf_model, X, y, cv=5).mean()"
      ],
      "execution_count": null,
      "outputs": []
    },
    {
      "cell_type": "code",
      "metadata": {
        "id": "HKC04uuXUhI1",
        "outputId": "c860b097-6c12-42c1-9149-ad556b73d616"
      },
      "source": [
        "rf_acc "
      ],
      "execution_count": null,
      "outputs": [
        {
          "data": {
            "text/plain": [
              "array([0.83166782, 0.84402109, 0.83170548, 0.81595003, 0.80254849,\n",
              "       0.80029502])"
            ]
          },
          "execution_count": 306,
          "metadata": {},
          "output_type": "execute_result"
        }
      ]
    },
    {
      "cell_type": "code",
      "metadata": {
        "id": "yHzh8ZwzUhI1",
        "outputId": "967f3c5b-9730-493f-8275-e5864fed2477"
      },
      "source": [
        "#final parameter: max_features=12, min_samples_split = 10\n",
        "rf_model = RandomForestClassifier(max_features=12, random_state=1,min_samples_split = 10)\n",
        "rf_model.fit(X,y)"
      ],
      "execution_count": null,
      "outputs": [
        {
          "data": {
            "text/plain": [
              "RandomForestClassifier(bootstrap=True, ccp_alpha=0.0, class_weight=None,\n",
              "                       criterion='gini', max_depth=None, max_features=12,\n",
              "                       max_leaf_nodes=None, max_samples=None,\n",
              "                       min_impurity_decrease=0.0, min_impurity_split=None,\n",
              "                       min_samples_leaf=1, min_samples_split=10,\n",
              "                       min_weight_fraction_leaf=0.0, n_estimators=100,\n",
              "                       n_jobs=None, oob_score=False, random_state=1, verbose=0,\n",
              "                       warm_start=False)"
            ]
          },
          "execution_count": 345,
          "metadata": {},
          "output_type": "execute_result"
        }
      ]
    },
    {
      "cell_type": "code",
      "metadata": {
        "id": "CgD1dfqGUhI1",
        "outputId": "c464814c-89d0-4fb9-e1d9-169786ec7d26"
      },
      "source": [
        "Importance = pd.DataFrame({'Importance':rf_model.feature_importances_*100}, index=X.columns)\n",
        "Importance.sort_values('Importance', axis=0, ascending=True).plot(kind='barh', color='r', )\n",
        "plt.xlabel('Variable Importance')\n",
        "plt.gca().legend_ = None"
      ],
      "execution_count": null,
      "outputs": [
        {
          "data": {
            "image/png": "[encoded data removed]",
            "text/plain": [
              "<Figure size 432x288 with 1 Axes>"
            ]
          },
          "metadata": {
            "needs_background": "light"
          },
          "output_type": "display_data"
        }
      ]
    },
    {
      "cell_type": "code",
      "metadata": {
        "id": "_2Wo1p2jUhI1",
        "outputId": "cb920126-4061-4b50-d58a-e283ae968ca0"
      },
      "source": [
        "train.head()"
      ],
      "execution_count": null,
      "outputs": [
        {
          "data": {
            "text/html": [
              "<div>\n",
              "<style scoped>\n",
              "    .dataframe tbody tr th:only-of-type {\n",
              "        vertical-align: middle;\n",
              "    }\n",
              "\n",
              "    .dataframe tbody tr th {\n",
              "        vertical-align: top;\n",
              "    }\n",
              "\n",
              "    .dataframe thead th {\n",
              "        text-align: right;\n",
              "    }\n",
              "</style>\n",
              "<table border=\"1\" class=\"dataframe\">\n",
              "  <thead>\n",
              "    <tr style=\"text-align: right;\">\n",
              "      <th></th>\n",
              "      <th>Survived</th>\n",
              "      <th>Pclass</th>\n",
              "      <th>Sex</th>\n",
              "      <th>Age</th>\n",
              "      <th>SibSp</th>\n",
              "      <th>Parch</th>\n",
              "      <th>Fare</th>\n",
              "      <th>Embarked</th>\n",
              "      <th>Fam_count</th>\n",
              "      <th>isAlone</th>\n",
              "      <th>F_pp</th>\n",
              "      <th>Pclass_1</th>\n",
              "      <th>Pclass_2</th>\n",
              "      <th>Embarked_S</th>\n",
              "      <th>Embarked_C</th>\n",
              "    </tr>\n",
              "  </thead>\n",
              "  <tbody>\n",
              "    <tr>\n",
              "      <th>0</th>\n",
              "      <td>0</td>\n",
              "      <td>3</td>\n",
              "      <td>1</td>\n",
              "      <td>22.0</td>\n",
              "      <td>1</td>\n",
              "      <td>0</td>\n",
              "      <td>7.2500</td>\n",
              "      <td>S</td>\n",
              "      <td>1</td>\n",
              "      <td>1</td>\n",
              "      <td>7.2500</td>\n",
              "      <td>0</td>\n",
              "      <td>0</td>\n",
              "      <td>0</td>\n",
              "      <td>0</td>\n",
              "    </tr>\n",
              "    <tr>\n",
              "      <th>1</th>\n",
              "      <td>1</td>\n",
              "      <td>1</td>\n",
              "      <td>0</td>\n",
              "      <td>38.0</td>\n",
              "      <td>1</td>\n",
              "      <td>0</td>\n",
              "      <td>71.2833</td>\n",
              "      <td>C</td>\n",
              "      <td>1</td>\n",
              "      <td>1</td>\n",
              "      <td>71.2833</td>\n",
              "      <td>1</td>\n",
              "      <td>0</td>\n",
              "      <td>0</td>\n",
              "      <td>0</td>\n",
              "    </tr>\n",
              "    <tr>\n",
              "      <th>2</th>\n",
              "      <td>1</td>\n",
              "      <td>3</td>\n",
              "      <td>0</td>\n",
              "      <td>26.0</td>\n",
              "      <td>0</td>\n",
              "      <td>0</td>\n",
              "      <td>7.9250</td>\n",
              "      <td>S</td>\n",
              "      <td>0</td>\n",
              "      <td>0</td>\n",
              "      <td>7.9250</td>\n",
              "      <td>0</td>\n",
              "      <td>0</td>\n",
              "      <td>0</td>\n",
              "      <td>0</td>\n",
              "    </tr>\n",
              "    <tr>\n",
              "      <th>3</th>\n",
              "      <td>1</td>\n",
              "      <td>1</td>\n",
              "      <td>0</td>\n",
              "      <td>35.0</td>\n",
              "      <td>1</td>\n",
              "      <td>0</td>\n",
              "      <td>53.1000</td>\n",
              "      <td>S</td>\n",
              "      <td>1</td>\n",
              "      <td>1</td>\n",
              "      <td>53.1000</td>\n",
              "      <td>1</td>\n",
              "      <td>0</td>\n",
              "      <td>0</td>\n",
              "      <td>0</td>\n",
              "    </tr>\n",
              "    <tr>\n",
              "      <th>4</th>\n",
              "      <td>0</td>\n",
              "      <td>3</td>\n",
              "      <td>1</td>\n",
              "      <td>35.0</td>\n",
              "      <td>0</td>\n",
              "      <td>0</td>\n",
              "      <td>8.0500</td>\n",
              "      <td>S</td>\n",
              "      <td>0</td>\n",
              "      <td>0</td>\n",
              "      <td>8.0500</td>\n",
              "      <td>0</td>\n",
              "      <td>0</td>\n",
              "      <td>0</td>\n",
              "      <td>0</td>\n",
              "    </tr>\n",
              "  </tbody>\n",
              "</table>\n",
              "</div>"
            ],
            "text/plain": [
              "   Survived  Pclass  Sex   Age  SibSp  Parch     Fare Embarked  Fam_count  \\\n",
              "0         0       3    1  22.0      1      0   7.2500        S          1   \n",
              "1         1       1    0  38.0      1      0  71.2833        C          1   \n",
              "2         1       3    0  26.0      0      0   7.9250        S          0   \n",
              "3         1       1    0  35.0      1      0  53.1000        S          1   \n",
              "4         0       3    1  35.0      0      0   8.0500        S          0   \n",
              "\n",
              "   isAlone     F_pp  Pclass_1  Pclass_2  Embarked_S  Embarked_C  \n",
              "0        1   7.2500         0         0           0           0  \n",
              "1        1  71.2833         1         0           0           0  \n",
              "2        0   7.9250         0         0           0           0  \n",
              "3        1  53.1000         1         0           0           0  \n",
              "4        0   8.0500         0         0           0           0  "
            ]
          },
          "execution_count": 387,
          "metadata": {},
          "output_type": "execute_result"
        }
      ]
    },
    {
      "cell_type": "code",
      "metadata": {
        "id": "1meu1K3eUhI1",
        "outputId": "f4c39193-64b1-4a05-f9ad-3382467eb4c0"
      },
      "source": [
        "test.head()"
      ],
      "execution_count": null,
      "outputs": [
        {
          "data": {
            "text/html": [
              "<div>\n",
              "<style scoped>\n",
              "    .dataframe tbody tr th:only-of-type {\n",
              "        vertical-align: middle;\n",
              "    }\n",
              "\n",
              "    .dataframe tbody tr th {\n",
              "        vertical-align: top;\n",
              "    }\n",
              "\n",
              "    .dataframe thead th {\n",
              "        text-align: right;\n",
              "    }\n",
              "</style>\n",
              "<table border=\"1\" class=\"dataframe\">\n",
              "  <thead>\n",
              "    <tr style=\"text-align: right;\">\n",
              "      <th></th>\n",
              "      <th>Pclass</th>\n",
              "      <th>Sex</th>\n",
              "      <th>Age</th>\n",
              "      <th>SibSp</th>\n",
              "      <th>Parch</th>\n",
              "      <th>Fare</th>\n",
              "      <th>Embarked</th>\n",
              "      <th>Fam_count</th>\n",
              "      <th>isAlone</th>\n",
              "      <th>F_pp</th>\n",
              "      <th>Pclass_1</th>\n",
              "      <th>Pclass_2</th>\n",
              "      <th>Embarked_S</th>\n",
              "      <th>Embarked_C</th>\n",
              "    </tr>\n",
              "  </thead>\n",
              "  <tbody>\n",
              "    <tr>\n",
              "      <th>0</th>\n",
              "      <td>3</td>\n",
              "      <td>1</td>\n",
              "      <td>34.5</td>\n",
              "      <td>0</td>\n",
              "      <td>0</td>\n",
              "      <td>7.8292</td>\n",
              "      <td>Q</td>\n",
              "      <td>0</td>\n",
              "      <td>0</td>\n",
              "      <td>7.82920</td>\n",
              "      <td>0</td>\n",
              "      <td>0</td>\n",
              "      <td>0</td>\n",
              "      <td>0</td>\n",
              "    </tr>\n",
              "    <tr>\n",
              "      <th>1</th>\n",
              "      <td>3</td>\n",
              "      <td>0</td>\n",
              "      <td>47.0</td>\n",
              "      <td>1</td>\n",
              "      <td>0</td>\n",
              "      <td>7.0000</td>\n",
              "      <td>S</td>\n",
              "      <td>1</td>\n",
              "      <td>1</td>\n",
              "      <td>7.00000</td>\n",
              "      <td>0</td>\n",
              "      <td>0</td>\n",
              "      <td>0</td>\n",
              "      <td>0</td>\n",
              "    </tr>\n",
              "    <tr>\n",
              "      <th>2</th>\n",
              "      <td>2</td>\n",
              "      <td>1</td>\n",
              "      <td>62.0</td>\n",
              "      <td>0</td>\n",
              "      <td>0</td>\n",
              "      <td>9.6875</td>\n",
              "      <td>Q</td>\n",
              "      <td>0</td>\n",
              "      <td>0</td>\n",
              "      <td>9.68750</td>\n",
              "      <td>0</td>\n",
              "      <td>1</td>\n",
              "      <td>0</td>\n",
              "      <td>0</td>\n",
              "    </tr>\n",
              "    <tr>\n",
              "      <th>3</th>\n",
              "      <td>3</td>\n",
              "      <td>1</td>\n",
              "      <td>27.0</td>\n",
              "      <td>0</td>\n",
              "      <td>0</td>\n",
              "      <td>8.6625</td>\n",
              "      <td>S</td>\n",
              "      <td>0</td>\n",
              "      <td>0</td>\n",
              "      <td>8.66250</td>\n",
              "      <td>0</td>\n",
              "      <td>0</td>\n",
              "      <td>0</td>\n",
              "      <td>0</td>\n",
              "    </tr>\n",
              "    <tr>\n",
              "      <th>4</th>\n",
              "      <td>3</td>\n",
              "      <td>0</td>\n",
              "      <td>22.0</td>\n",
              "      <td>1</td>\n",
              "      <td>1</td>\n",
              "      <td>12.2875</td>\n",
              "      <td>S</td>\n",
              "      <td>2</td>\n",
              "      <td>1</td>\n",
              "      <td>6.14375</td>\n",
              "      <td>0</td>\n",
              "      <td>0</td>\n",
              "      <td>0</td>\n",
              "      <td>0</td>\n",
              "    </tr>\n",
              "  </tbody>\n",
              "</table>\n",
              "</div>"
            ],
            "text/plain": [
              "   Pclass  Sex   Age  SibSp  Parch     Fare Embarked  Fam_count  isAlone  \\\n",
              "0       3    1  34.5      0      0   7.8292        Q          0        0   \n",
              "1       3    0  47.0      1      0   7.0000        S          1        1   \n",
              "2       2    1  62.0      0      0   9.6875        Q          0        0   \n",
              "3       3    1  27.0      0      0   8.6625        S          0        0   \n",
              "4       3    0  22.0      1      1  12.2875        S          2        1   \n",
              "\n",
              "      F_pp  Pclass_1  Pclass_2  Embarked_S  Embarked_C  \n",
              "0  7.82920         0         0           0           0  \n",
              "1  7.00000         0         0           0           0  \n",
              "2  9.68750         0         1           0           0  \n",
              "3  8.66250         0         0           0           0  \n",
              "4  6.14375         0         0           0           0  "
            ]
          },
          "execution_count": 388,
          "metadata": {},
          "output_type": "execute_result"
        }
      ]
    },
    {
      "cell_type": "code",
      "metadata": {
        "id": "kupdijJTUhI2",
        "outputId": "24a23797-908d-4a87-810c-9bf66ece9367"
      },
      "source": [
        "X.head()"
      ],
      "execution_count": null,
      "outputs": [
        {
          "data": {
            "text/html": [
              "<div>\n",
              "<style scoped>\n",
              "    .dataframe tbody tr th:only-of-type {\n",
              "        vertical-align: middle;\n",
              "    }\n",
              "\n",
              "    .dataframe tbody tr th {\n",
              "        vertical-align: top;\n",
              "    }\n",
              "\n",
              "    .dataframe thead th {\n",
              "        text-align: right;\n",
              "    }\n",
              "</style>\n",
              "<table border=\"1\" class=\"dataframe\">\n",
              "  <thead>\n",
              "    <tr style=\"text-align: right;\">\n",
              "      <th></th>\n",
              "      <th>Sex</th>\n",
              "      <th>Age</th>\n",
              "      <th>SibSp</th>\n",
              "      <th>Parch</th>\n",
              "      <th>Fare</th>\n",
              "      <th>Fam_count</th>\n",
              "      <th>isAlone</th>\n",
              "      <th>F_pp</th>\n",
              "      <th>Pclass_1</th>\n",
              "      <th>Pclass_2</th>\n",
              "      <th>Embarked_S</th>\n",
              "      <th>Embarked_C</th>\n",
              "    </tr>\n",
              "  </thead>\n",
              "  <tbody>\n",
              "    <tr>\n",
              "      <th>0</th>\n",
              "      <td>1</td>\n",
              "      <td>22.0</td>\n",
              "      <td>1</td>\n",
              "      <td>0</td>\n",
              "      <td>7.2500</td>\n",
              "      <td>1</td>\n",
              "      <td>1</td>\n",
              "      <td>7.2500</td>\n",
              "      <td>0</td>\n",
              "      <td>0</td>\n",
              "      <td>0</td>\n",
              "      <td>0</td>\n",
              "    </tr>\n",
              "    <tr>\n",
              "      <th>1</th>\n",
              "      <td>0</td>\n",
              "      <td>38.0</td>\n",
              "      <td>1</td>\n",
              "      <td>0</td>\n",
              "      <td>71.2833</td>\n",
              "      <td>1</td>\n",
              "      <td>1</td>\n",
              "      <td>71.2833</td>\n",
              "      <td>1</td>\n",
              "      <td>0</td>\n",
              "      <td>0</td>\n",
              "      <td>0</td>\n",
              "    </tr>\n",
              "    <tr>\n",
              "      <th>2</th>\n",
              "      <td>0</td>\n",
              "      <td>26.0</td>\n",
              "      <td>0</td>\n",
              "      <td>0</td>\n",
              "      <td>7.9250</td>\n",
              "      <td>0</td>\n",
              "      <td>0</td>\n",
              "      <td>7.9250</td>\n",
              "      <td>0</td>\n",
              "      <td>0</td>\n",
              "      <td>0</td>\n",
              "      <td>0</td>\n",
              "    </tr>\n",
              "    <tr>\n",
              "      <th>3</th>\n",
              "      <td>0</td>\n",
              "      <td>35.0</td>\n",
              "      <td>1</td>\n",
              "      <td>0</td>\n",
              "      <td>53.1000</td>\n",
              "      <td>1</td>\n",
              "      <td>1</td>\n",
              "      <td>53.1000</td>\n",
              "      <td>1</td>\n",
              "      <td>0</td>\n",
              "      <td>0</td>\n",
              "      <td>0</td>\n",
              "    </tr>\n",
              "    <tr>\n",
              "      <th>4</th>\n",
              "      <td>1</td>\n",
              "      <td>35.0</td>\n",
              "      <td>0</td>\n",
              "      <td>0</td>\n",
              "      <td>8.0500</td>\n",
              "      <td>0</td>\n",
              "      <td>0</td>\n",
              "      <td>8.0500</td>\n",
              "      <td>0</td>\n",
              "      <td>0</td>\n",
              "      <td>0</td>\n",
              "      <td>0</td>\n",
              "    </tr>\n",
              "  </tbody>\n",
              "</table>\n",
              "</div>"
            ],
            "text/plain": [
              "   Sex   Age  SibSp  Parch     Fare  Fam_count  isAlone     F_pp  Pclass_1  \\\n",
              "0    1  22.0      1      0   7.2500          1        1   7.2500         0   \n",
              "1    0  38.0      1      0  71.2833          1        1  71.2833         1   \n",
              "2    0  26.0      0      0   7.9250          0        0   7.9250         0   \n",
              "3    0  35.0      1      0  53.1000          1        1  53.1000         1   \n",
              "4    1  35.0      0      0   8.0500          0        0   8.0500         0   \n",
              "\n",
              "   Pclass_2  Embarked_S  Embarked_C  \n",
              "0         0           0           0  \n",
              "1         0           0           0  \n",
              "2         0           0           0  \n",
              "3         0           0           0  \n",
              "4         0           0           0  "
            ]
          },
          "execution_count": 389,
          "metadata": {},
          "output_type": "execute_result"
        }
      ]
    },
    {
      "cell_type": "code",
      "metadata": {
        "id": "qJ4JYnA3UhI2"
      },
      "source": [
        "#make prediction\n",
        "X_test = test.drop(['Pclass','Embarked'],axis = 1)\n",
        "y_pred = rf_model.predict(X_test)"
      ],
      "execution_count": null,
      "outputs": []
    },
    {
      "cell_type": "code",
      "metadata": {
        "id": "RPtgXBTZUhI2"
      },
      "source": [
        "#temp \n",
        "#test1 = pd.read_csv('titanic/test.csv')\n",
        "#test1.head()\n",
        "#test_id = test1['PassengerId']"
      ],
      "execution_count": null,
      "outputs": []
    },
    {
      "cell_type": "code",
      "metadata": {
        "id": "-Y11AgAYUhI2"
      },
      "source": [
        " # Write to csv       \n",
        "df1 = pd.DataFrame({'PassengerId' : test_id,'Survived': y_pred})\n",
        "df1.to_csv(\"result.csv\",index=False,sep=',')"
      ],
      "execution_count": null,
      "outputs": []
    },
    {
      "cell_type": "markdown",
      "metadata": {
        "id": "E8-kP0OyUhI2"
      },
      "source": [
        "### 3.2 Decision Trees"
      ]
    },
    {
      "cell_type": "code",
      "metadata": {
        "id": "pX5KBu6qUhI3",
        "outputId": "5593eafc-f811-4200-d58e-bcc2c0e27d7b"
      },
      "source": [
        "regr = DecisionTreeClassifier(max_leaf_nodes=15, random_state=0)\n",
        "tuned_parameters = {'ccp_alpha': np.logspace(-4, 1, 50)}\n",
        "\n",
        "# search the parameter space with cross-validation\n",
        "n_folds = 5\n",
        "regressor = GridSearchCV(regr, tuned_parameters, cv=n_folds, scoring='neg_mean_squared_error')\n",
        "regressor.fit(X, y)"
      ],
      "execution_count": null,
      "outputs": [
        {
          "data": {
            "text/plain": [
              "GridSearchCV(cv=5, error_score=nan,\n",
              "             estimator=DecisionTreeClassifier(ccp_alpha=0.0, class_weight=None,\n",
              "                                              criterion='gini', max_depth=None,\n",
              "                                              max_features=None,\n",
              "                                              max_leaf_nodes=15,\n",
              "                                              min_impurity_decrease=0.0,\n",
              "                                              min_impurity_split=None,\n",
              "                                              min_samples_leaf=1,\n",
              "                                              min_samples_split=2,\n",
              "                                              min_weight_fraction_leaf=0.0,\n",
              "                                              presort='deprecated',\n",
              "                                              random_state=0, splitter='best'),\n",
              "             iid='depreca...\n",
              "       1.84206997e-01, 2.32995181e-01, 2.94705170e-01, 3.72759372e-01,\n",
              "       4.71486636e-01, 5.96362332e-01, 7.54312006e-01, 9.54095476e-01,\n",
              "       1.20679264e+00, 1.52641797e+00, 1.93069773e+00, 2.44205309e+00,\n",
              "       3.08884360e+00, 3.90693994e+00, 4.94171336e+00, 6.25055193e+00,\n",
              "       7.90604321e+00, 1.00000000e+01])},\n",
              "             pre_dispatch='2*n_jobs', refit=True, return_train_score=False,\n",
              "             scoring='neg_mean_squared_error', verbose=0)"
            ]
          },
          "execution_count": 329,
          "metadata": {},
          "output_type": "execute_result"
        }
      ]
    },
    {
      "cell_type": "code",
      "metadata": {
        "id": "saU4Zm-6UhI3",
        "outputId": "abe43203-fa5f-45bd-ff39-3117eb79e4e0"
      },
      "source": [
        "# Choose the best CV parameters\n",
        "regressor.best_params_\n",
        "# The estimator at the CV best model\n",
        "best_regr = regressor.best_estimator_\n",
        "best_regr.fit(X, y)"
      ],
      "execution_count": null,
      "outputs": [
        {
          "data": {
            "text/plain": [
              "DecisionTreeClassifier(ccp_alpha=0.006866488450042998, class_weight=None,\n",
              "                       criterion='gini', max_depth=None, max_features=None,\n",
              "                       max_leaf_nodes=15, min_impurity_decrease=0.0,\n",
              "                       min_impurity_split=None, min_samples_leaf=1,\n",
              "                       min_samples_split=2, min_weight_fraction_leaf=0.0,\n",
              "                       presort='deprecated', random_state=0, splitter='best')"
            ]
          },
          "execution_count": 340,
          "metadata": {},
          "output_type": "execute_result"
        }
      ]
    },
    {
      "cell_type": "code",
      "metadata": {
        "id": "Ak3MCVGYUhI3",
        "outputId": "bfa9ae7c-29db-46e5-b82b-e843ffc432ca"
      },
      "source": [
        "best_regr.score(X,y)"
      ],
      "execution_count": null,
      "outputs": [
        {
          "data": {
            "text/plain": [
              "0.8305274971941639"
            ]
          },
          "execution_count": 341,
          "metadata": {},
          "output_type": "execute_result"
        }
      ]
    },
    {
      "cell_type": "code",
      "metadata": {
        "id": "sYGWqTa5UhI4",
        "outputId": "bc778f8e-0c85-42df-8119-d44544751e46"
      },
      "source": [
        "print(classification_report(y, best_regr.predict(X)))"
      ],
      "execution_count": null,
      "outputs": [
        {
          "name": "stdout",
          "output_type": "stream",
          "text": [
            "              precision    recall  f1-score   support\n",
            "\n",
            "           0       0.84      0.90      0.87       549\n",
            "           1       0.81      0.73      0.77       342\n",
            "\n",
            "    accuracy                           0.83       891\n",
            "   macro avg       0.83      0.81      0.82       891\n",
            "weighted avg       0.83      0.83      0.83       891\n",
            "\n"
          ]
        }
      ]
    },
    {
      "cell_type": "markdown",
      "metadata": {
        "id": "pPxgxiumUhI4"
      },
      "source": [
        "### 3.3 Logistic Regression"
      ]
    },
    {
      "cell_type": "code",
      "metadata": {
        "id": "iKhAsmsGUhI4",
        "outputId": "c0676ea9-6ef6-4d2a-8e03-d7e96fe40dd1"
      },
      "source": [
        "# Using newton-cg solver, the coefficients are equal/closest to the ones in the book. \n",
        "# I do not know the details on the differences between the solvers.\n",
        "clf = skl_lm.LogisticRegression(solver='newton-cg')\n",
        "#X_train = df.balance.values.reshape(-1,1)\n",
        "clf.fit(X,y)\n",
        "print(clf)\n",
        "print('classes: ',clf.classes_)\n",
        "print('coefficients: ',clf.coef_)\n",
        "print('intercept :', clf.intercept_)"
      ],
      "execution_count": null,
      "outputs": [
        {
          "name": "stdout",
          "output_type": "stream",
          "text": [
            "LogisticRegression(C=1.0, class_weight=None, dual=False, fit_intercept=True,\n",
            "                   intercept_scaling=1, l1_ratio=None, max_iter=100,\n",
            "                   multi_class='auto', n_jobs=None, penalty='l2',\n",
            "                   random_state=None, solver='newton-cg', tol=0.0001, verbose=0,\n",
            "                   warm_start=False)\n",
            "classes:  [0 1]\n",
            "coefficients:  [[-2.51439339e+00 -4.14451537e-02 -2.96068078e-01  2.68925577e-02\n",
            "   1.37934127e-03 -2.69175521e-01  7.18372129e-01  1.15479638e-03\n",
            "   2.08171149e+00  1.02105620e+00  0.00000000e+00  0.00000000e+00]]\n",
            "intercept : [1.51612927]\n"
          ]
        }
      ]
    },
    {
      "cell_type": "code",
      "metadata": {
        "id": "QR9gckd5UhI4",
        "outputId": "538ef400-59bb-4209-b8a1-694b10ca1815"
      },
      "source": [
        "clf.score(X,y)"
      ],
      "execution_count": null,
      "outputs": [
        {
          "data": {
            "text/plain": [
              "0.8058361391694725"
            ]
          },
          "execution_count": 369,
          "metadata": {},
          "output_type": "execute_result"
        }
      ]
    },
    {
      "cell_type": "markdown",
      "metadata": {
        "id": "I-VtqIEdUhI4"
      },
      "source": [
        "#### (1) Backward Selection"
      ]
    },
    {
      "cell_type": "code",
      "metadata": {
        "id": "_wh0C1ZLUhI5"
      },
      "source": [
        "#Copyright 2019 Sinan Talha Hascelik\n",
        "#https://github.com/talhahascelik/python_stepwiseSelection/blob/master/test.py\n",
        "#Licensed under the Apache License, Version 2.0 (the \"License\");\n",
        "#you may not use this file except in compliance with the License.\n",
        "#You may obtain a copy of the License at\n",
        "#\n",
        "#    http://www.apache.org/licenses/LICENSE-2.0\n",
        "#\n",
        "#Unless required by applicable law or agreed to in writing, software\n",
        "#distributed under the License is distributed on an \"AS IS\" BASIS,\n",
        "#WITHOUT WARRANTIES OR CONDITIONS OF ANY KIND, either express or implied.\n",
        "#See the License for the specific language governing permissions and\n",
        "#limitations under the License.\n",
        "\n",
        "import numpy as np\n",
        "import pandas as pd\n",
        "\n",
        "def forwardSelection(X, y, model_type =\"linear\",elimination_criteria = \"aic\", varchar_process = \"dummy_dropfirst\", sl=0.05):\n",
        "    \"\"\"\n",
        "    Forward Selection is a function, based on regression models, that returns significant features and selection iterations.\\n\n",
        "    Required Libraries: pandas, numpy, statmodels\n",
        "    \n",
        "    Parameters\n",
        "    ----------\n",
        "    X : Independent variables (Pandas Dataframe)\\n\n",
        "    y : Dependent variable (Pandas Series, Pandas Dataframe)\\n\n",
        "    model_type : 'linear' or 'logistic'\\n\n",
        "    elimination_criteria : 'aic', 'bic', 'r2', 'adjr2' or None\\n\n",
        "        'aic' refers Akaike information criterion\\n\n",
        "        'bic' refers Bayesian information criterion\\n\n",
        "        'r2' refers R-squared (Only works on linear model type)\\n\n",
        "        'r2' refers Adjusted R-squared (Only works on linear model type)\\n\n",
        "    varchar_process : 'drop', 'dummy' or 'dummy_dropfirst'\\n\n",
        "        'drop' drops varchar features\\n\n",
        "        'dummy' creates dummies for all levels of all varchars\\n\n",
        "        'dummy_dropfirst' creates dummies for all levels of all varchars, and drops first levels\\n\n",
        "    sl : Significance Level (default: 0.05)\\n\n",
        "    \n",
        "    Returns\n",
        "    -------\n",
        "    columns(list), iteration_logs(str)\\n\\n\n",
        "    Not Returns a Model\n",
        "    \n",
        "    Tested On\n",
        "    ---------\n",
        "    Python v3.6.7, Pandas v0.23.4, Numpy v1.15.04, StatModels v0.9.0\n",
        "    \n",
        "    See Also\n",
        "    --------\n",
        "    https://en.wikipedia.org/wiki/Stepwise_regression\n",
        "    \"\"\"\n",
        "    X = __varcharProcessing__(X,varchar_process = varchar_process)\n",
        "    return __forwardSelectionRaw__(X, y, model_type = model_type,elimination_criteria = elimination_criteria , sl=sl)\n",
        "    \n",
        "def backwardSelection(X, y, model_type =\"linear\",elimination_criteria = \"aic\", varchar_process = \"dummy_dropfirst\", sl=0.05):\n",
        "    \"\"\"\n",
        "    Backward Selection is a function, based on regression models, that returns significant features and selection iterations.\\n\n",
        "    Required Libraries: pandas, numpy, statmodels\n",
        "    \n",
        "    Parameters\n",
        "    ----------\n",
        "    X : Independent variables (Pandas Dataframe)\\n\n",
        "    y : Dependent variable (Pandas Series, Pandas Dataframe)\\n\n",
        "    model_type : 'linear' or 'logistic'\\n\n",
        "    elimination_criteria : 'aic', 'bic', 'r2', 'adjr2' or None\\n\n",
        "        'aic' refers Akaike information criterion\\n\n",
        "        'bic' refers Bayesian information criterion\\n\n",
        "        'r2' refers R-squared (Only works on linear model type)\\n\n",
        "        'r2' refers Adjusted R-squared (Only works on linear model type)\\n\n",
        "    varchar_process : 'drop', 'dummy' or 'dummy_dropfirst'\\n\n",
        "        'drop' drops varchar features\\n\n",
        "        'dummy' creates dummies for all levels of all varchars\\n\n",
        "        'dummy_dropfirst' creates dummies for all levels of all varchars, and drops first levels\\n\n",
        "    sl : Significance Level (default: 0.05)\\n\n",
        "    \n",
        "    Returns\n",
        "    -------\n",
        "    columns(list), iteration_logs(str)\\n\\n\n",
        "    Not Returns a Model\n",
        "    \n",
        "    Tested On\n",
        "    ---------\n",
        "    Python v3.6.7, Pandas v0.23.4, Numpy v1.15.04, StatModels v0.9.0\n",
        "    \n",
        "    See Also\n",
        "    --------\n",
        "    https://en.wikipedia.org/wiki/Stepwise_regression    \n",
        "    \"\"\"\n",
        "    X = __varcharProcessing__(X,varchar_process = varchar_process)\n",
        "    return __backwardSelectionRaw__(X, y, model_type = model_type,elimination_criteria = elimination_criteria , sl=sl)\n",
        "\n",
        "def __varcharProcessing__(X, varchar_process = \"dummy_dropfirst\"):\n",
        "    \n",
        "    dtypes = X.dtypes\n",
        "    if varchar_process == \"drop\":   \n",
        "        X = X.drop(columns = dtypes[dtypes == np.object].index.tolist())\n",
        "        #print(\"Character Variables (Dropped):\", dtypes[dtypes == np.object].index.tolist())\n",
        "    elif varchar_process == \"dummy\":\n",
        "        X = pd.get_dummies(X,drop_first=False)\n",
        "        #print(\"Character Variables (Dummies Generated):\", dtypes[dtypes == np.object].index.tolist())\n",
        "    elif varchar_process == \"dummy_dropfirst\":\n",
        "        X = pd.get_dummies(X,drop_first=True)\n",
        "        #print(\"Character Variables (Dummies Generated, First Dummies Dropped):\", dtypes[dtypes == np.object].index.tolist())\n",
        "    else: \n",
        "        X = pd.get_dummies(X,drop_first=True)\n",
        "        #print(\"Character Variables (Dummies Generated, First Dummies Dropped):\", dtypes[dtypes == np.object].index.tolist())\n",
        "    \n",
        "    X[\"intercept\"] = 1\n",
        "    cols = X.columns.tolist()\n",
        "    cols = cols[-1:] + cols[:-1]\n",
        "    X = X[cols]\n",
        "    \n",
        "    return X\n",
        "\n",
        "def __forwardSelectionRaw__(X, y, model_type =\"linear\",elimination_criteria = \"aic\", sl=0.05):\n",
        "\n",
        "    iterations_log = \"\"\n",
        "    cols = X.columns.tolist()\n",
        "    \n",
        "    def regressor(y,X, model_type=model_type):\n",
        "        if model_type == \"linear\":\n",
        "            regressor = sm.OLS(y, X).fit()\n",
        "        elif model_type == \"logistic\":\n",
        "            regressor = sm.Logit(y, X).fit()\n",
        "        else:\n",
        "            print(\"\\nWrong Model Type : \"+ model_type +\"\\nLinear model type is seleted.\")\n",
        "            model_type = \"linear\"\n",
        "            regressor = sm.OLS(y, X).fit()\n",
        "        return regressor\n",
        "    \n",
        "    selected_cols = [\"intercept\"]\n",
        "    other_cols = cols.copy()\n",
        "    other_cols.remove(\"intercept\")\n",
        "    \n",
        "    model = regressor(y, X[selected_cols])\n",
        "    \n",
        "    if elimination_criteria == \"aic\":\n",
        "        criteria = model.aic\n",
        "    elif elimination_criteria == \"bic\":\n",
        "        criteria = model.bic\n",
        "    elif elimination_criteria == \"r2\" and model_type ==\"linear\":\n",
        "        criteria = model.rsquared\n",
        "    elif elimination_criteria == \"adjr2\" and model_type ==\"linear\":\n",
        "        criteria = model.rsquared_adj\n",
        "    \n",
        "    \n",
        "    for i in range(X.shape[1]):\n",
        "        pvals = pd.DataFrame(columns = [\"Cols\",\"Pval\"])\n",
        "        for j in other_cols:\n",
        "            model = regressor(y, X[selected_cols+[j]])\n",
        "            pvals = pvals.append(pd.DataFrame([[j, model.pvalues[j]]],columns = [\"Cols\",\"Pval\"]),ignore_index=True)\n",
        "        pvals = pvals.sort_values(by = [\"Pval\"]).reset_index(drop=True)\n",
        "        pvals = pvals[pvals.Pval<=sl]\n",
        "        if pvals.shape[0] > 0:\n",
        "            \n",
        "            model = regressor(y, X[selected_cols+[pvals[\"Cols\"][0]]])\n",
        "            iterations_log += str(\"\\nEntered : \"+pvals[\"Cols\"][0] + \"\\n\")    \n",
        "            iterations_log += \"\\n\\n\"+str(model.summary())+\"\\nAIC: \"+ str(model.aic) + \"\\nBIC: \"+ str(model.bic)+\"\\n\\n\"\n",
        "                    \n",
        "        \n",
        "            if  elimination_criteria == \"aic\":\n",
        "                new_criteria = model.aic\n",
        "                if new_criteria < criteria:\n",
        "                    #print(\"Entered :\", pvals[\"Cols\"][0], \"\\tAIC :\", model.aic)\n",
        "                    selected_cols.append(pvals[\"Cols\"][0])\n",
        "                    other_cols.remove(pvals[\"Cols\"][0])\n",
        "                    criteria = new_criteria\n",
        "                else:\n",
        "                    #print(\"break : Criteria\")\n",
        "                    break\n",
        "            elif  elimination_criteria == \"bic\":\n",
        "                new_criteria = model.bic\n",
        "                if new_criteria < criteria:\n",
        "                    #print(\"Entered :\", pvals[\"Cols\"][0], \"\\tBIC :\", model.bic)\n",
        "                    selected_cols.append(pvals[\"Cols\"][0])\n",
        "                    other_cols.remove(pvals[\"Cols\"][0])\n",
        "                    criteria = new_criteria\n",
        "                else:\n",
        "                    #print(\"break : Criteria\")\n",
        "                    break        \n",
        "            elif  elimination_criteria == \"r2\" and model_type ==\"linear\":\n",
        "                new_criteria = model.rsquared\n",
        "                if new_criteria > criteria:\n",
        "                    #print(\"Entered :\", pvals[\"Cols\"][0], \"\\tR2 :\", model.rsquared)\n",
        "                    selected_cols.append(pvals[\"Cols\"][0])\n",
        "                    other_cols.remove(pvals[\"Cols\"][0])\n",
        "                    criteria = new_criteria\n",
        "                else:\n",
        "                    #print(\"break : Criteria\")\n",
        "                    break           \n",
        "            elif  elimination_criteria == \"adjr2\" and model_type ==\"linear\":\n",
        "                new_criteria = model.rsquared_adj\n",
        "                if new_criteria > criteria:\n",
        "                    #print(\"Entered :\", pvals[\"Cols\"][0], \"\\tAdjR2 :\", model.rsquared_adj)\n",
        "                    selected_cols.append(pvals[\"Cols\"][0])\n",
        "                    other_cols.remove(pvals[\"Cols\"][0])\n",
        "                    criteria = new_criteria\n",
        "                else:\n",
        "                    #print(\"Break : Criteria\")\n",
        "                    break\n",
        "            else:\n",
        "                #print(\"Entered :\", pvals[\"Cols\"][0])\n",
        "                selected_cols.append(pvals[\"Cols\"][0])\n",
        "                other_cols.remove(pvals[\"Cols\"][0])            \n",
        "                \n",
        "        else:\n",
        "            #print(\"Break : Significance Level\")\n",
        "            break\n",
        "        \n",
        "    model = regressor(y, X[selected_cols])\n",
        "    if elimination_criteria == \"aic\":\n",
        "        criteria = model.aic\n",
        "    elif elimination_criteria == \"bic\":\n",
        "        criteria = model.bic\n",
        "    elif elimination_criteria == \"r2\" and model_type ==\"linear\":\n",
        "        criteria = model.rsquared\n",
        "    elif elimination_criteria == \"adjr2\" and model_type ==\"linear\":\n",
        "        criteria = model.rsquared_adj\n",
        "    \n",
        "    print(model.summary())\n",
        "    print(\"AIC: \"+str(model.aic))\n",
        "    print(\"BIC: \"+str(model.bic))\n",
        "    print(\"Final Variables:\", selected_cols)\n",
        "\n",
        "    return selected_cols #, iterations_log\n",
        "\n",
        "def __backwardSelectionRaw__(X, y, model_type =\"linear\",elimination_criteria = \"aic\", sl=0.05):\n",
        "    \n",
        "    iterations_log = \"\"\n",
        "    last_eleminated = \"\"    \n",
        "    cols = X.columns.tolist()\n",
        "\n",
        "    def regressor(y,X, model_type=model_type):\n",
        "        if model_type ==\"linear\":\n",
        "            regressor = sm.OLS(y, X).fit()\n",
        "        elif model_type == \"logistic\":\n",
        "            regressor = sm.Logit(y, X).fit()\n",
        "        else:\n",
        "            #print(\"\\nWrong Model Type : \"+ model_type +\"\\nLinear model type is seleted.\")\n",
        "            model_type = \"linear\"\n",
        "            regressor = sm.OLS(y, X).fit()\n",
        "        return regressor\n",
        "    for i in range(X.shape[1]):\n",
        "        if i != 0 :          \n",
        "            if elimination_criteria == \"aic\":\n",
        "                criteria = model.aic\n",
        "                new_model = regressor(y,X)\n",
        "                new_criteria = new_model.aic\n",
        "                if criteria < new_criteria:\n",
        "                    #print(\"Regained : \", last_eleminated)\n",
        "                    iterations_log += \"\\n\"+str(new_model.summary())+\"\\nAIC: \"+ str(new_model.aic) + \"\\nBIC: \"+ str(new_model.bic)+\"\\n\"\n",
        "                    iterations_log += str(\"\\n\\nRegained : \"+last_eleminated + \"\\n\\n\")\n",
        "                    break  \n",
        "            elif elimination_criteria == \"bic\":\n",
        "                criteria = model.bic\n",
        "                new_model = regressor(y,X)\n",
        "                new_criteria = new_model.bic\n",
        "                if criteria < new_criteria:\n",
        "                    #print(\"Regained : \", last_eleminated)\n",
        "                    iterations_log += \"\\n\"+str(new_model.summary())+\"\\nAIC: \"+ str(new_model.aic) + \"\\nBIC: \"+ str(new_model.bic)+\"\\n\"\n",
        "                    iterations_log += str(\"\\n\\nRegained : \"+last_eleminated + \"\\n\\n\")\n",
        "                    break  \n",
        "            elif elimination_criteria == \"adjr2\" and model_type ==\"linear\":\n",
        "                criteria = model.rsquared_adj\n",
        "                new_model = regressor(y,X)\n",
        "                new_criteria = new_model.rsquared_adj\n",
        "                if criteria > new_criteria:\n",
        "                    #print(\"Regained : \", last_eleminated)\n",
        "                    iterations_log += \"\\n\"+str(new_model.summary())+\"\\nAIC: \"+ str(new_model.aic) + \"\\nBIC: \"+ str(new_model.bic)+\"\\n\"\n",
        "                    iterations_log += str(\"\\n\\nRegained : \"+last_eleminated + \"\\n\\n\")\n",
        "                    break  \n",
        "            elif elimination_criteria == \"r2\" and model_type ==\"linear\":\n",
        "                criteria = model.rsquared\n",
        "                new_model = regressor(y,X)\n",
        "                new_criteria = new_model.rsquared\n",
        "                if criteria > new_criteria:\n",
        "                    #print(\"Regained : \", last_eleminated)\n",
        "                    iterations_log += \"\\n\"+str(new_model.summary())+\"\\nAIC: \"+ str(new_model.aic) + \"\\nBIC: \"+ str(new_model.bic)+\"\\n\"\n",
        "                    iterations_log += str(\"\\n\\nRegained : \"+last_eleminated + \"\\n\\n\")\n",
        "                    break   \n",
        "            else: \n",
        "                new_model = regressor(y,X)\n",
        "            model = new_model\n",
        "            iterations_log += \"\\n\"+str(model.summary())+\"\\nAIC: \"+ str(model.aic) + \"\\nBIC: \"+ str(model.bic)+\"\\n\"\n",
        "        else:\n",
        "            model = regressor(y,X)\n",
        "            iterations_log += \"\\n\"+str(model.summary())+\"\\nAIC: \"+ str(model.aic) + \"\\nBIC: \"+ str(model.bic)+\"\\n\"\n",
        "        maxPval = max(model.pvalues)\n",
        "        cols = X.columns.tolist()\n",
        "        if maxPval > sl:\n",
        "            for j in cols:\n",
        "                if (model.pvalues[j] == maxPval):\n",
        "                    #print(\"Eliminated :\" ,j)\n",
        "                    iterations_log += str(\"\\n\\nEliminated : \"+j+ \"\\n\\n\")\n",
        "                    \n",
        "                    del X[j]\n",
        "                    last_eleminated = j\n",
        "        else:\n",
        "            break\n",
        "    print(str(model.summary())+\"\\nAIC: \"+ str(model.aic) + \"\\nBIC: \"+ str(model.bic))\n",
        "    print(\"Final Variables:\", cols)\n",
        "    iterations_log += \"\\n\"+str(model.summary())+\"\\nAIC: \"+ str(model.aic) + \"\\nBIC: \"+ str(model.bic)+\"\\n\"\n",
        "    return cols #, iterations_log"
      ],
      "execution_count": null,
      "outputs": []
    },
    {
      "cell_type": "code",
      "metadata": {
        "id": "aaCiUbZuUhI5",
        "outputId": "59032588-fe85-4a19-8db0-87dff2a93031"
      },
      "source": [
        "train.head()"
      ],
      "execution_count": null,
      "outputs": [
        {
          "data": {
            "text/html": [
              "<div>\n",
              "<style scoped>\n",
              "    .dataframe tbody tr th:only-of-type {\n",
              "        vertical-align: middle;\n",
              "    }\n",
              "\n",
              "    .dataframe tbody tr th {\n",
              "        vertical-align: top;\n",
              "    }\n",
              "\n",
              "    .dataframe thead th {\n",
              "        text-align: right;\n",
              "    }\n",
              "</style>\n",
              "<table border=\"1\" class=\"dataframe\">\n",
              "  <thead>\n",
              "    <tr style=\"text-align: right;\">\n",
              "      <th></th>\n",
              "      <th>Survived</th>\n",
              "      <th>Pclass</th>\n",
              "      <th>Sex</th>\n",
              "      <th>Age</th>\n",
              "      <th>SibSp</th>\n",
              "      <th>Parch</th>\n",
              "      <th>Fare</th>\n",
              "      <th>Embarked</th>\n",
              "      <th>Fam_count</th>\n",
              "      <th>isAlone</th>\n",
              "      <th>F_pp</th>\n",
              "      <th>Pclass_1</th>\n",
              "      <th>Pclass_2</th>\n",
              "      <th>Embarked_S</th>\n",
              "      <th>Embarked_C</th>\n",
              "    </tr>\n",
              "  </thead>\n",
              "  <tbody>\n",
              "    <tr>\n",
              "      <th>0</th>\n",
              "      <td>0</td>\n",
              "      <td>3</td>\n",
              "      <td>1</td>\n",
              "      <td>22.0</td>\n",
              "      <td>1</td>\n",
              "      <td>0</td>\n",
              "      <td>7.2500</td>\n",
              "      <td>S</td>\n",
              "      <td>1</td>\n",
              "      <td>1</td>\n",
              "      <td>7.2500</td>\n",
              "      <td>0</td>\n",
              "      <td>0</td>\n",
              "      <td>0</td>\n",
              "      <td>0</td>\n",
              "    </tr>\n",
              "    <tr>\n",
              "      <th>1</th>\n",
              "      <td>1</td>\n",
              "      <td>1</td>\n",
              "      <td>0</td>\n",
              "      <td>38.0</td>\n",
              "      <td>1</td>\n",
              "      <td>0</td>\n",
              "      <td>71.2833</td>\n",
              "      <td>C</td>\n",
              "      <td>1</td>\n",
              "      <td>1</td>\n",
              "      <td>71.2833</td>\n",
              "      <td>1</td>\n",
              "      <td>0</td>\n",
              "      <td>0</td>\n",
              "      <td>0</td>\n",
              "    </tr>\n",
              "    <tr>\n",
              "      <th>2</th>\n",
              "      <td>1</td>\n",
              "      <td>3</td>\n",
              "      <td>0</td>\n",
              "      <td>26.0</td>\n",
              "      <td>0</td>\n",
              "      <td>0</td>\n",
              "      <td>7.9250</td>\n",
              "      <td>S</td>\n",
              "      <td>0</td>\n",
              "      <td>0</td>\n",
              "      <td>7.9250</td>\n",
              "      <td>0</td>\n",
              "      <td>0</td>\n",
              "      <td>0</td>\n",
              "      <td>0</td>\n",
              "    </tr>\n",
              "    <tr>\n",
              "      <th>3</th>\n",
              "      <td>1</td>\n",
              "      <td>1</td>\n",
              "      <td>0</td>\n",
              "      <td>35.0</td>\n",
              "      <td>1</td>\n",
              "      <td>0</td>\n",
              "      <td>53.1000</td>\n",
              "      <td>S</td>\n",
              "      <td>1</td>\n",
              "      <td>1</td>\n",
              "      <td>53.1000</td>\n",
              "      <td>1</td>\n",
              "      <td>0</td>\n",
              "      <td>0</td>\n",
              "      <td>0</td>\n",
              "    </tr>\n",
              "    <tr>\n",
              "      <th>4</th>\n",
              "      <td>0</td>\n",
              "      <td>3</td>\n",
              "      <td>1</td>\n",
              "      <td>35.0</td>\n",
              "      <td>0</td>\n",
              "      <td>0</td>\n",
              "      <td>8.0500</td>\n",
              "      <td>S</td>\n",
              "      <td>0</td>\n",
              "      <td>0</td>\n",
              "      <td>8.0500</td>\n",
              "      <td>0</td>\n",
              "      <td>0</td>\n",
              "      <td>0</td>\n",
              "      <td>0</td>\n",
              "    </tr>\n",
              "  </tbody>\n",
              "</table>\n",
              "</div>"
            ],
            "text/plain": [
              "   Survived  Pclass  Sex   Age  SibSp  Parch     Fare Embarked  Fam_count  \\\n",
              "0         0       3    1  22.0      1      0   7.2500        S          1   \n",
              "1         1       1    0  38.0      1      0  71.2833        C          1   \n",
              "2         1       3    0  26.0      0      0   7.9250        S          0   \n",
              "3         1       1    0  35.0      1      0  53.1000        S          1   \n",
              "4         0       3    1  35.0      0      0   8.0500        S          0   \n",
              "\n",
              "   isAlone     F_pp  Pclass_1  Pclass_2  Embarked_S  Embarked_C  \n",
              "0        1   7.2500         0         0           0           0  \n",
              "1        1  71.2833         1         0           0           0  \n",
              "2        0   7.9250         0         0           0           0  \n",
              "3        1  53.1000         1         0           0           0  \n",
              "4        0   8.0500         0         0           0           0  "
            ]
          },
          "execution_count": 378,
          "metadata": {},
          "output_type": "execute_result"
        }
      ]
    },
    {
      "cell_type": "code",
      "metadata": {
        "id": "hcaeMSjhUhI6",
        "outputId": "2d321f6f-f6c1-47d7-9dee-e0ad7d0c887d"
      },
      "source": [
        "X.head()"
      ],
      "execution_count": null,
      "outputs": [
        {
          "data": {
            "text/html": [
              "<div>\n",
              "<style scoped>\n",
              "    .dataframe tbody tr th:only-of-type {\n",
              "        vertical-align: middle;\n",
              "    }\n",
              "\n",
              "    .dataframe tbody tr th {\n",
              "        vertical-align: top;\n",
              "    }\n",
              "\n",
              "    .dataframe thead th {\n",
              "        text-align: right;\n",
              "    }\n",
              "</style>\n",
              "<table border=\"1\" class=\"dataframe\">\n",
              "  <thead>\n",
              "    <tr style=\"text-align: right;\">\n",
              "      <th></th>\n",
              "      <th>Sex</th>\n",
              "      <th>Age</th>\n",
              "      <th>SibSp</th>\n",
              "      <th>Parch</th>\n",
              "      <th>Fare</th>\n",
              "      <th>Fam_count</th>\n",
              "      <th>isAlone</th>\n",
              "      <th>F_pp</th>\n",
              "      <th>Pclass_1</th>\n",
              "      <th>Pclass_2</th>\n",
              "      <th>Embarked_S</th>\n",
              "      <th>Embarked_C</th>\n",
              "    </tr>\n",
              "  </thead>\n",
              "  <tbody>\n",
              "    <tr>\n",
              "      <th>0</th>\n",
              "      <td>1</td>\n",
              "      <td>22.0</td>\n",
              "      <td>1</td>\n",
              "      <td>0</td>\n",
              "      <td>7.2500</td>\n",
              "      <td>1</td>\n",
              "      <td>1</td>\n",
              "      <td>7.2500</td>\n",
              "      <td>0</td>\n",
              "      <td>0</td>\n",
              "      <td>0</td>\n",
              "      <td>0</td>\n",
              "    </tr>\n",
              "    <tr>\n",
              "      <th>1</th>\n",
              "      <td>0</td>\n",
              "      <td>38.0</td>\n",
              "      <td>1</td>\n",
              "      <td>0</td>\n",
              "      <td>71.2833</td>\n",
              "      <td>1</td>\n",
              "      <td>1</td>\n",
              "      <td>71.2833</td>\n",
              "      <td>1</td>\n",
              "      <td>0</td>\n",
              "      <td>0</td>\n",
              "      <td>0</td>\n",
              "    </tr>\n",
              "    <tr>\n",
              "      <th>2</th>\n",
              "      <td>0</td>\n",
              "      <td>26.0</td>\n",
              "      <td>0</td>\n",
              "      <td>0</td>\n",
              "      <td>7.9250</td>\n",
              "      <td>0</td>\n",
              "      <td>0</td>\n",
              "      <td>7.9250</td>\n",
              "      <td>0</td>\n",
              "      <td>0</td>\n",
              "      <td>0</td>\n",
              "      <td>0</td>\n",
              "    </tr>\n",
              "    <tr>\n",
              "      <th>3</th>\n",
              "      <td>0</td>\n",
              "      <td>35.0</td>\n",
              "      <td>1</td>\n",
              "      <td>0</td>\n",
              "      <td>53.1000</td>\n",
              "      <td>1</td>\n",
              "      <td>1</td>\n",
              "      <td>53.1000</td>\n",
              "      <td>1</td>\n",
              "      <td>0</td>\n",
              "      <td>0</td>\n",
              "      <td>0</td>\n",
              "    </tr>\n",
              "    <tr>\n",
              "      <th>4</th>\n",
              "      <td>1</td>\n",
              "      <td>35.0</td>\n",
              "      <td>0</td>\n",
              "      <td>0</td>\n",
              "      <td>8.0500</td>\n",
              "      <td>0</td>\n",
              "      <td>0</td>\n",
              "      <td>8.0500</td>\n",
              "      <td>0</td>\n",
              "      <td>0</td>\n",
              "      <td>0</td>\n",
              "      <td>0</td>\n",
              "    </tr>\n",
              "  </tbody>\n",
              "</table>\n",
              "</div>"
            ],
            "text/plain": [
              "   Sex   Age  SibSp  Parch     Fare  Fam_count  isAlone     F_pp  Pclass_1  \\\n",
              "0    1  22.0      1      0   7.2500          1        1   7.2500         0   \n",
              "1    0  38.0      1      0  71.2833          1        1  71.2833         1   \n",
              "2    0  26.0      0      0   7.9250          0        0   7.9250         0   \n",
              "3    0  35.0      1      0  53.1000          1        1  53.1000         1   \n",
              "4    1  35.0      0      0   8.0500          0        0   8.0500         0   \n",
              "\n",
              "   Pclass_2  Embarked_S  Embarked_C  \n",
              "0         0           0           0  \n",
              "1         0           0           0  \n",
              "2         0           0           0  \n",
              "3         0           0           0  \n",
              "4         0           0           0  "
            ]
          },
          "execution_count": 379,
          "metadata": {},
          "output_type": "execute_result"
        }
      ]
    },
    {
      "cell_type": "code",
      "metadata": {
        "id": "2VyiFL_5UhI6",
        "outputId": "ec2c6368-5dfe-49d5-f37d-1f5ab2bae2cc"
      },
      "source": [
        "X_train = train.drop(['Survived','Pclass_1','Pclass_2','Embarked_S','Embarked_C'],axis = 1)\n",
        "final_vars, iterations_logs = backwardSelection(X_train,y, model_type=\"logistic\")"
      ],
      "execution_count": null,
      "outputs": [
        {
          "name": "stdout",
          "output_type": "stream",
          "text": [
            "Character Variables (Dummies Generated, First Dummies Dropped): ['Embarked']\n",
            "Optimization terminated successfully.\n",
            "         Current function value: 0.433016\n",
            "         Iterations 8\n",
            "Eliminated : Parch\n",
            "Optimization terminated successfully.\n",
            "         Current function value: 0.433016\n",
            "         Iterations 7\n",
            "Eliminated : Fare\n",
            "Optimization terminated successfully.\n",
            "         Current function value: 0.433018\n",
            "         Iterations 7\n",
            "Eliminated : Embarked_Q\n",
            "Optimization terminated successfully.\n",
            "         Current function value: 0.433082\n",
            "         Iterations 7\n",
            "Eliminated : F_pp\n",
            "Optimization terminated successfully.\n",
            "         Current function value: 0.433159\n",
            "         Iterations 7\n",
            "Eliminated : Embarked_S\n",
            "Optimization terminated successfully.\n",
            "         Current function value: 0.434696\n",
            "         Iterations 7\n",
            "Regained :  Embarked_S\n",
            "                           Logit Regression Results                           \n",
            "==============================================================================\n",
            "Dep. Variable:               Survived   No. Observations:                  891\n",
            "Model:                          Logit   Df Residuals:                      883\n",
            "Method:                           MLE   Df Model:                            7\n",
            "Date:                Wed, 29 Sep 2021   Pseudo R-squ.:                  0.3495\n",
            "Time:                        21:12:54   Log-Likelihood:                -385.95\n",
            "converged:                       True   LL-Null:                       -593.33\n",
            "Covariance Type:            nonrobust   LLR p-value:                 1.624e-85\n",
            "==============================================================================\n",
            "                 coef    std err          z      P>|z|      [0.025      0.975]\n",
            "------------------------------------------------------------------------------\n",
            "intercept      5.4359      0.548      9.923      0.000       4.362       6.510\n",
            "Pclass        -1.2007      0.131     -9.191      0.000      -1.457      -0.945\n",
            "Sex           -2.6127      0.201    -13.022      0.000      -3.006      -2.219\n",
            "Age           -0.0441      0.008     -5.458      0.000      -0.060      -0.028\n",
            "SibSp         -0.3267      0.195     -1.679      0.093      -0.708       0.055\n",
            "Fam_count     -0.2316      0.136     -1.705      0.088      -0.498       0.035\n",
            "isAlone        0.7119      0.281      2.535      0.011       0.162       1.262\n",
            "Embarked_S    -0.3348      0.202     -1.659      0.097      -0.730       0.061\n",
            "==============================================================================\n",
            "AIC: 787.8900966025296\n",
            "BIC: 826.2288520222961\n",
            "Final Variables: ['intercept', 'Pclass', 'Sex', 'Age', 'SibSp', 'Fam_count', 'isAlone', 'Embarked_S']\n"
          ]
        }
      ]
    },
    {
      "cell_type": "code",
      "metadata": {
        "id": "gdjl60XmUhI6",
        "outputId": "ea585803-9c20-490b-a0c4-851ec0579a5a"
      },
      "source": [
        "X_train = train[ [ 'Pclass', 'Sex', 'Age', 'SibSp', 'Fam_count', 'isAlone', 'Embarked_S']]\n",
        "logit2 = skl_lm.LogisticRegression(solver='newton-cg')\n",
        "#X_train = df.balance.values.reshape(-1,1)\n",
        "logit2.fit(X_train,y)\n",
        "logit2.score(X_train,y)"
      ],
      "execution_count": null,
      "outputs": [
        {
          "data": {
            "text/plain": [
              "0.8092031425364759"
            ]
          },
          "execution_count": 386,
          "metadata": {},
          "output_type": "execute_result"
        }
      ]
    },
    {
      "cell_type": "code",
      "metadata": {
        "id": "xX2n0UtKUhI6",
        "outputId": "3b89c722-0b0c-4306-899e-69d891e18582"
      },
      "source": [
        "X_train = train.drop(['Survived','Pclass','Embarked'],axis = 1)\n",
        "final_vars, iterations_logs = backwardSelection(X_train,y, model_type=\"logistic\")"
      ],
      "execution_count": null,
      "outputs": [
        {
          "name": "stdout",
          "output_type": "stream",
          "text": [
            "Character Variables (Dummies Generated, First Dummies Dropped): []\n",
            "Optimization terminated successfully.\n",
            "         Current function value: 0.432988\n",
            "         Iterations 9\n"
          ]
        },
        {
          "name": "stderr",
          "output_type": "stream",
          "text": [
            "/opt/anaconda3/lib/python3.7/site-packages/statsmodels/base/model.py:1354: RuntimeWarning: invalid value encountered in sqrt\n",
            "  bse_ = np.sqrt(np.diag(self.cov_params()))\n"
          ]
        },
        {
          "name": "stdout",
          "output_type": "stream",
          "text": [
            "Eliminated : Fare\n",
            "Optimization terminated successfully.\n",
            "         Current function value: 0.432991\n",
            "         Iterations 8\n",
            "Eliminated : Parch\n",
            "Optimization terminated successfully.\n",
            "         Current function value: 0.432991\n",
            "         Iterations 7\n",
            "Eliminated : Embarked_C\n",
            "Optimization terminated successfully.\n",
            "         Current function value: 0.433056\n",
            "         Iterations 7\n",
            "Eliminated : F_pp\n",
            "Optimization terminated successfully.\n",
            "         Current function value: 0.433149\n",
            "         Iterations 7\n",
            "Eliminated : Embarked_S\n",
            "Optimization terminated successfully.\n",
            "         Current function value: 0.434650\n",
            "         Iterations 7\n",
            "Regained :  Embarked_S\n",
            "                           Logit Regression Results                           \n",
            "==============================================================================\n",
            "Dep. Variable:               Survived   No. Observations:                  891\n",
            "Model:                          Logit   Df Residuals:                      882\n",
            "Method:                           MLE   Df Model:                            8\n",
            "Date:                Fri, 01 Oct 2021   Pseudo R-squ.:                  0.3495\n",
            "Time:                        21:34:30   Log-Likelihood:                -385.94\n",
            "converged:                       True   LL-Null:                       -593.33\n",
            "Covariance Type:            nonrobust   LLR p-value:                 1.286e-84\n",
            "==============================================================================\n",
            "                 coef    std err          z      P>|z|      [0.025      0.975]\n",
            "------------------------------------------------------------------------------\n",
            "intercept      1.8287      0.315      5.806      0.000       1.211       2.446\n",
            "Sex           -2.6113      0.201    -12.997      0.000      -3.005      -2.218\n",
            "Age           -0.0440      0.008     -5.401      0.000      -0.060      -0.028\n",
            "SibSp         -0.3254      0.195     -1.670      0.095      -0.707       0.056\n",
            "Fam_count     -0.2310      0.136     -1.699      0.089      -0.497       0.035\n",
            "isAlone        0.7100      0.281      2.526      0.012       0.159       1.261\n",
            "Pclass_1       2.3948      0.266      9.011      0.000       1.874       2.916\n",
            "Pclass_2       1.2277      0.236      5.206      0.000       0.765       1.690\n",
            "Embarked_S    -0.3420      0.208     -1.641      0.101      -0.750       0.067\n",
            "==============================================================================\n",
            "AIC: 789.8712640655958\n",
            "BIC: 833.0023639128331\n",
            "Final Variables: ['intercept', 'Sex', 'Age', 'SibSp', 'Fam_count', 'isAlone', 'Pclass_1', 'Pclass_2', 'Embarked_S']\n"
          ]
        }
      ]
    },
    {
      "cell_type": "code",
      "metadata": {
        "id": "9j61AbxIUhI6",
        "outputId": "e757aa8e-9d99-4eae-b7c7-232d13e7afa7"
      },
      "source": [
        "X_train = train[ [ 'Sex', 'Age', 'SibSp', 'Fam_count', 'isAlone', 'Pclass_1', 'Pclass_2', 'Embarked_S']]\n",
        "logit2 = skl_lm.LogisticRegression(solver='newton-cg')\n",
        "#X_train = df.balance.values.reshape(-1,1)\n",
        "logit2.fit(X_train,y)\n",
        "logit2.score(X_train,y)"
      ],
      "execution_count": null,
      "outputs": [
        {
          "data": {
            "text/plain": [
              "0.8092031425364759"
            ]
          },
          "execution_count": 444,
          "metadata": {},
          "output_type": "execute_result"
        }
      ]
    },
    {
      "cell_type": "markdown",
      "metadata": {
        "id": "vf0M77bAUhI7"
      },
      "source": [
        "#### (2) Forward Selection"
      ]
    },
    {
      "cell_type": "code",
      "metadata": {
        "scrolled": false,
        "id": "0QctfKKfUhI7",
        "outputId": "0d99392b-5111-4383-e5c7-888fbb692981"
      },
      "source": [
        "X_train = train.drop(['Survived','Pclass','Embarked'],axis = 1)\n",
        "final_vars = forwardSelection(X_train,y, model_type=\"logistic\")"
      ],
      "execution_count": null,
      "outputs": [
        {
          "name": "stdout",
          "output_type": "stream",
          "text": [
            "Optimization terminated successfully.\n",
            "         Current function value: 0.665912\n",
            "         Iterations 4\n",
            "Optimization terminated successfully.\n",
            "         Current function value: 0.515041\n",
            "         Iterations 5\n",
            "Optimization terminated successfully.\n",
            "         Current function value: 0.663094\n",
            "         Iterations 4\n",
            "Optimization terminated successfully.\n",
            "         Current function value: 0.665272\n",
            "         Iterations 4\n",
            "Optimization terminated successfully.\n",
            "         Current function value: 0.662650\n",
            "         Iterations 4\n",
            "Optimization terminated successfully.\n",
            "         Current function value: 0.628930\n",
            "         Iterations 6\n",
            "Optimization terminated successfully.\n",
            "         Current function value: 0.665774\n",
            "         Iterations 4\n",
            "Optimization terminated successfully.\n",
            "         Current function value: 0.645319\n",
            "         Iterations 5\n",
            "Optimization terminated successfully.\n",
            "         Current function value: 0.623341\n",
            "         Iterations 6\n",
            "Optimization terminated successfully.\n",
            "         Current function value: 0.625851\n",
            "         Iterations 5\n",
            "Optimization terminated successfully.\n",
            "         Current function value: 0.661627\n",
            "         Iterations 4\n",
            "Optimization terminated successfully.\n",
            "         Current function value: 0.653987\n",
            "         Iterations 4\n",
            "Optimization terminated successfully.\n",
            "         Current function value: 0.651027\n",
            "         Iterations 4\n",
            "Optimization terminated successfully.\n",
            "         Current function value: 0.515041\n",
            "         Iterations 5\n",
            "Optimization terminated successfully.\n",
            "         Current function value: 0.515004\n",
            "         Iterations 5\n",
            "Optimization terminated successfully.\n",
            "         Current function value: 0.507684\n",
            "         Iterations 6\n",
            "Optimization terminated successfully.\n",
            "         Current function value: 0.513147\n",
            "         Iterations 5\n",
            "Optimization terminated successfully.\n",
            "         Current function value: 0.496751\n",
            "         Iterations 6\n",
            "Optimization terminated successfully.\n",
            "         Current function value: 0.508489\n",
            "         Iterations 6\n",
            "Optimization terminated successfully.\n",
            "         Current function value: 0.513916\n",
            "         Iterations 5\n",
            "Optimization terminated successfully.\n",
            "         Current function value: 0.488375\n",
            "         Iterations 6\n",
            "Optimization terminated successfully.\n",
            "         Current function value: 0.477324\n",
            "         Iterations 6\n",
            "Optimization terminated successfully.\n",
            "         Current function value: 0.512682\n",
            "         Iterations 5\n",
            "Optimization terminated successfully.\n",
            "         Current function value: 0.509694\n",
            "         Iterations 5\n",
            "Optimization terminated successfully.\n",
            "         Current function value: 0.504117\n",
            "         Iterations 6\n",
            "Optimization terminated successfully.\n",
            "         Current function value: 0.477324\n",
            "         Iterations 6\n",
            "Optimization terminated successfully.\n",
            "         Current function value: 0.467943\n",
            "         Iterations 6\n",
            "Optimization terminated successfully.\n",
            "         Current function value: 0.471570\n",
            "         Iterations 6\n",
            "Optimization terminated successfully.\n",
            "         Current function value: 0.475961\n",
            "         Iterations 6\n",
            "Optimization terminated successfully.\n",
            "         Current function value: 0.476702\n",
            "         Iterations 6\n",
            "Optimization terminated successfully.\n",
            "         Current function value: 0.472303\n",
            "         Iterations 6\n",
            "Optimization terminated successfully.\n",
            "         Current function value: 0.477054\n",
            "         Iterations 6\n",
            "Optimization terminated successfully.\n",
            "         Current function value: 0.474890\n",
            "         Iterations 6\n",
            "Optimization terminated successfully.\n",
            "         Current function value: 0.464023\n",
            "         Iterations 6\n",
            "Optimization terminated successfully.\n",
            "         Current function value: 0.475342\n",
            "         Iterations 6\n",
            "Optimization terminated successfully.\n",
            "         Current function value: 0.474627\n",
            "         Iterations 6\n",
            "Optimization terminated successfully.\n",
            "         Current function value: 0.464023\n",
            "         Iterations 6\n",
            "Optimization terminated successfully.\n",
            "         Current function value: 0.449861\n",
            "         Iterations 6\n",
            "Optimization terminated successfully.\n",
            "         Current function value: 0.459679\n",
            "         Iterations 6\n",
            "Optimization terminated successfully.\n",
            "         Current function value: 0.462995\n",
            "         Iterations 6\n",
            "Optimization terminated successfully.\n",
            "         Current function value: 0.463731\n",
            "         Iterations 6\n",
            "Optimization terminated successfully.\n",
            "         Current function value: 0.460224\n",
            "         Iterations 6\n",
            "Optimization terminated successfully.\n",
            "         Current function value: 0.463875\n",
            "         Iterations 6\n",
            "Optimization terminated successfully.\n",
            "         Current function value: 0.462497\n",
            "         Iterations 6\n",
            "Optimization terminated successfully.\n",
            "         Current function value: 0.459588\n",
            "         Iterations 6\n",
            "Optimization terminated successfully.\n",
            "         Current function value: 0.460624\n",
            "         Iterations 6\n",
            "Optimization terminated successfully.\n",
            "         Current function value: 0.449861\n",
            "         Iterations 6\n",
            "Optimization terminated successfully.\n",
            "         Current function value: 0.439204\n",
            "         Iterations 6\n",
            "Optimization terminated successfully.\n",
            "         Current function value: 0.447305\n",
            "         Iterations 6\n",
            "Optimization terminated successfully.\n",
            "         Current function value: 0.449853\n",
            "         Iterations 6\n",
            "Optimization terminated successfully.\n",
            "         Current function value: 0.440461\n",
            "         Iterations 6\n",
            "Optimization terminated successfully.\n",
            "         Current function value: 0.449498\n",
            "         Iterations 6\n",
            "Optimization terminated successfully.\n",
            "         Current function value: 0.449018\n",
            "         Iterations 6\n",
            "Optimization terminated successfully.\n",
            "         Current function value: 0.446102\n",
            "         Iterations 6\n",
            "Optimization terminated successfully.\n",
            "         Current function value: 0.447772\n",
            "         Iterations 6\n",
            "Optimization terminated successfully.\n",
            "         Current function value: 0.439204\n",
            "         Iterations 6\n",
            "Optimization terminated successfully.\n",
            "         Current function value: 0.438906\n",
            "         Iterations 6\n",
            "Optimization terminated successfully.\n",
            "         Current function value: 0.438965\n",
            "         Iterations 6\n",
            "Optimization terminated successfully.\n",
            "         Current function value: 0.438906\n",
            "         Iterations 6\n",
            "Optimization terminated successfully.\n",
            "         Current function value: 0.436669\n",
            "         Iterations 6\n",
            "Optimization terminated successfully.\n",
            "         Current function value: 0.438626\n",
            "         Iterations 6\n",
            "Optimization terminated successfully.\n",
            "         Current function value: 0.437037\n",
            "         Iterations 6\n",
            "Optimization terminated successfully.\n",
            "         Current function value: 0.437938\n",
            "         Iterations 6\n",
            "Optimization terminated successfully.\n",
            "         Current function value: 0.436669\n",
            "         Iterations 6\n",
            "Optimization terminated successfully.\n",
            "         Current function value: 0.434650\n",
            "         Iterations 7\n",
            "Optimization terminated successfully.\n",
            "         Current function value: 0.436611\n",
            "         Iterations 6\n",
            "Optimization terminated successfully.\n",
            "         Current function value: 0.434650\n",
            "         Iterations 7\n",
            "Optimization terminated successfully.\n",
            "         Current function value: 0.436352\n",
            "         Iterations 6\n",
            "Optimization terminated successfully.\n",
            "         Current function value: 0.434847\n",
            "         Iterations 6\n",
            "Optimization terminated successfully.\n",
            "         Current function value: 0.435872\n",
            "         Iterations 6\n",
            "Optimization terminated successfully.\n",
            "         Current function value: 0.436669\n",
            "         Iterations 6\n",
            "                           Logit Regression Results                           \n",
            "==============================================================================\n",
            "Dep. Variable:               Survived   No. Observations:                  891\n",
            "Model:                          Logit   Df Residuals:                      884\n",
            "Method:                           MLE   Df Model:                            6\n",
            "Date:                Fri, 01 Oct 2021   Pseudo R-squ.:                  0.3443\n",
            "Time:                        22:48:44   Log-Likelihood:                -389.07\n",
            "converged:                       True   LL-Null:                       -593.33\n",
            "Covariance Type:            nonrobust   LLR p-value:                 4.134e-85\n",
            "==============================================================================\n",
            "                 coef    std err          z      P>|z|      [0.025      0.975]\n",
            "------------------------------------------------------------------------------\n",
            "intercept      1.5974      0.290      5.508      0.000       1.029       2.166\n",
            "Sex           -2.6058      0.198    -13.154      0.000      -2.994      -2.218\n",
            "Pclass_1       2.4761      0.265      9.358      0.000       1.957       2.995\n",
            "Pclass_2       1.1816      0.231      5.117      0.000       0.729       1.634\n",
            "Age           -0.0449      0.008     -5.544      0.000      -0.061      -0.029\n",
            "SibSp         -0.5851      0.144     -4.053      0.000      -0.868      -0.302\n",
            "isAlone        0.5229      0.248      2.110      0.035       0.037       1.008\n",
            "==============================================================================\n",
            "AIC: 792.1434046677282\n",
            "BIC: 825.6898156600239\n",
            "Final Variables: ['intercept', 'Sex', 'Pclass_1', 'Pclass_2', 'Age', 'SibSp', 'isAlone']\n"
          ]
        }
      ]
    },
    {
      "cell_type": "code",
      "metadata": {
        "id": "eXZIwbbPUhI7",
        "outputId": "018994a5-17f0-4459-ab18-a6024c96ba8f"
      },
      "source": [
        "X_train = train[['Sex', 'Pclass', 'Age', 'SibSp', 'isAlone']]\n",
        "logit2 = skl_lm.LogisticRegression(solver='newton-cg')\n",
        "#X_train = df.balance.values.reshape(-1,1)\n",
        "logit2.fit(X_train,y)\n",
        "logit2.score(X_train,y)"
      ],
      "execution_count": null,
      "outputs": [
        {
          "data": {
            "text/plain": [
              "0.8103254769921436"
            ]
          },
          "execution_count": 446,
          "metadata": {},
          "output_type": "execute_result"
        }
      ]
    },
    {
      "cell_type": "code",
      "metadata": {
        "id": "GkWB_3QHUhI7"
      },
      "source": [
        "# iterations\n",
        "nrep = 200\n",
        "#best_attr = list()\n",
        "rss_fw = list()\n",
        "\n",
        "X_t = train.drop(['Survived','Pclass_1','Pclass_2','Embarked_S','Embarked_C'],axis = 1)\n",
        "\n",
        "for i in range(nrep):\n",
        "    err = 0\n",
        "    print(i)\n",
        "    #sampling\n",
        "    index = sample(range(891),int(891*0.8))\n",
        "    X_tr  = X_t.loc[index]\n",
        "    y_tr = train['Survived'].loc[index]\n",
        "    X_valid = X_t.drop(index,axis = 0)\n",
        "    y_valid = train['Survived'].drop(index,axis = 0)\n",
        "    \n",
        "    #fit on the training set, get the final parameters\n",
        "    final_vars = forwardSelection(X_tr,y_tr, model_type=\"logistic\")\n",
        "    final_vars.remove('intercept') \n",
        "    \n",
        "    #fit on the validation set\n",
        "    #X_val = X_valid[final_vars]\n",
        "    X_val = train[final_vars].drop(index,axis = 0)\n",
        "    logit_fw = skl_lm.LogisticRegression(solver='newton-cg')\n",
        "    logit_fw.fit(X_val,y_valid)\n",
        "    err = logit_fw.score(X_val,y_valid)\n",
        "    rss_fw.append(err)"
      ],
      "execution_count": null,
      "outputs": []
    },
    {
      "cell_type": "code",
      "metadata": {
        "id": "pPdb_oPjUhI7",
        "outputId": "623c5e17-8e2c-4a37-b314-784cc7362902"
      },
      "source": [
        "len(rss_fw)"
      ],
      "execution_count": null,
      "outputs": [
        {
          "data": {
            "text/plain": [
              "20"
            ]
          },
          "execution_count": 515,
          "metadata": {},
          "output_type": "execute_result"
        }
      ]
    },
    {
      "cell_type": "code",
      "metadata": {
        "id": "w6r_YNorUhI8",
        "outputId": "32192b33-fa78-4b64-bbb7-e8ce5d87782f"
      },
      "source": [
        "rss_fw"
      ],
      "execution_count": null,
      "outputs": [
        {
          "data": {
            "text/plain": [
              "[0.8324022346368715,\n",
              " 0.7821229050279329,\n",
              " 0.8212290502793296,\n",
              " 0.8044692737430168,\n",
              " 0.8044692737430168,\n",
              " 0.8100558659217877,\n",
              " 0.8268156424581006,\n",
              " 0.8212290502793296,\n",
              " 0.7932960893854749,\n",
              " 0.8100558659217877,\n",
              " 0.8435754189944135,\n",
              " 0.8044692737430168,\n",
              " 0.8268156424581006,\n",
              " 0.8994413407821229,\n",
              " 0.8100558659217877,\n",
              " 0.8156424581005587,\n",
              " 0.8324022346368715,\n",
              " 0.8156424581005587,\n",
              " 0.776536312849162,\n",
              " 0.8435754189944135]"
            ]
          },
          "execution_count": 516,
          "metadata": {},
          "output_type": "execute_result"
        }
      ]
    },
    {
      "cell_type": "code",
      "metadata": {
        "id": "VO5xzP7fUhI8",
        "outputId": "13ef61e9-3366-4d99-eb9b-033bcbf0a105"
      },
      "source": [
        "np.mean(rss_fw)"
      ],
      "execution_count": null,
      "outputs": [
        {
          "data": {
            "text/plain": [
              "0.8187150837988828"
            ]
          },
          "execution_count": 520,
          "metadata": {},
          "output_type": "execute_result"
        }
      ]
    },
    {
      "cell_type": "code",
      "metadata": {
        "id": "gqH2eAQrUhI8"
      },
      "source": [
        ""
      ],
      "execution_count": null,
      "outputs": []
    }
  ]
}