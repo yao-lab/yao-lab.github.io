{
 "cells": [
  {
   "cell_type": "code",
   "execution_count": 19,
   "metadata": {
    "_cell_guid": "b1076dfc-b9ad-4769-8c92-a6c4dae69d19",
    "_uuid": "8f2839f25d086af736a60e9eeb907d3b93b6e0e5",
    "execution": {
     "iopub.execute_input": "2021-10-03T07:26:01.521966Z",
     "iopub.status.busy": "2021-10-03T07:26:01.521649Z",
     "iopub.status.idle": "2021-10-03T07:26:01.531470Z",
     "shell.execute_reply": "2021-10-03T07:26:01.530674Z",
     "shell.execute_reply.started": "2021-10-03T07:26:01.521933Z"
    }
   },
   "outputs": [
    {
     "name": "stdout",
     "output_type": "stream",
     "text": [
      "/kaggle/input/home-credit-default-risk/sample_submission.csv\n",
      "/kaggle/input/home-credit-default-risk/bureau_balance.csv\n",
      "/kaggle/input/home-credit-default-risk/POS_CASH_balance.csv\n",
      "/kaggle/input/home-credit-default-risk/application_train.csv\n",
      "/kaggle/input/home-credit-default-risk/HomeCredit_columns_description.csv\n",
      "/kaggle/input/home-credit-default-risk/application_test.csv\n",
      "/kaggle/input/home-credit-default-risk/previous_application.csv\n",
      "/kaggle/input/home-credit-default-risk/credit_card_balance.csv\n",
      "/kaggle/input/home-credit-default-risk/installments_payments.csv\n",
      "/kaggle/input/home-credit-default-risk/bureau.csv\n"
     ]
    }
   ],
   "source": [
    "# This Python 3 environment comes with many helpful analytics libraries installed\n",
    "# It is defined by the kaggle/python Docker image: https://github.com/kaggle/docker-python\n",
    "# For example, here's several helpful packages to load\n",
    "\n",
    "import numpy as np # linear algebra\n",
    "import pandas as pd # data processing, CSV file I/O (e.g. pd.read_csv)\n",
    "\n",
    "# Input data files are available in the read-only \"../input/\" directory\n",
    "# For example, running this (by clicking run or pressing Shift+Enter) will list all files under the input directory\n",
    "\n",
    "import os\n",
    "for dirname, _, filenames in os.walk('/kaggle/input'):\n",
    "    for filename in filenames:\n",
    "        print(os.path.join(dirname, filename))\n",
    "\n",
    "# You can write up to 20GB to the current directory (/kaggle/working/) that gets preserved as output when you create a version using \"Save & Run All\" \n",
    "# You can also write temporary files to /kaggle/temp/, but they won't be saved outside of the current session"
   ]
  },
  {
   "cell_type": "code",
   "execution_count": 20,
   "metadata": {
    "execution": {
     "iopub.execute_input": "2021-10-03T07:26:01.560732Z",
     "iopub.status.busy": "2021-10-03T07:26:01.560260Z",
     "iopub.status.idle": "2021-10-03T07:26:08.111062Z",
     "shell.execute_reply": "2021-10-03T07:26:08.110313Z",
     "shell.execute_reply.started": "2021-10-03T07:26:01.560689Z"
    }
   },
   "outputs": [],
   "source": [
    "input_path = \"/kaggle/input/home-credit-default-risk/\"\n",
    "'''sample_submission = pd.read_csv(input_path + \"sample_submission.csv\")\n",
    "bureau_balance = pd.read_csv(input_path + \"bureau_balance.csv\")\n",
    "POS_CASH_balance = pd.read_csv(input_path + \"POS_CASH_balance.csv\")'''\n",
    "application_train = pd.read_csv(input_path + \"application_train.csv\")\n",
    "application_test = pd.read_csv(input_path + \"application_test.csv\")\n",
    "'''with open(input_path + \"HomeCredit_columns_description.csv\",encoding = \"utf-8\", errors = \"ignore\") as f:\n",
    "    HomeCredit_columns_description = f.read()\n",
    "HomeCredit_columns_description = pd.read_csv(input_path + \"HomeCredit_columns_description.csv\", encoding = \"ISO-8859-1\")\n",
    "application_test = pd.read_csv(input_path + \"application_test.csv\")\n",
    "previous_application = pd.read_csv(input_path + \"previous_application.csv\")\n",
    "credit_card_balance = pd.read_csv(input_path + \"credit_card_balance.csv\")\n",
    "installments_payments = pd.read_csv(input_path + \"installments_payments.csv\")'''\n",
    "bureau = pd.read_csv(input_path + \"bureau.csv\")"
   ]
  },
  {
   "cell_type": "code",
   "execution_count": 21,
   "metadata": {
    "execution": {
     "iopub.execute_input": "2021-10-03T07:26:08.113171Z",
     "iopub.status.busy": "2021-10-03T07:26:08.112718Z",
     "iopub.status.idle": "2021-10-03T07:26:08.119400Z",
     "shell.execute_reply": "2021-10-03T07:26:08.118482Z",
     "shell.execute_reply.started": "2021-10-03T07:26:08.113133Z"
    }
   },
   "outputs": [
    {
     "data": {
      "text/plain": [
       "'sample_submission.duplicated()\\nbureau_balance.duplicated()\\nPOS_CASH_balance.duplicated()\\napplication_train.duplicated()\\nHomeCredit_columns_description.duplicated()\\napplication_test.duplicated()\\nprevious_application.duplicated()\\ncredit_card_balance.duplicated()\\ninstallments_payments.duplicated()\\nbureau.duplicated()'"
      ]
     },
     "execution_count": 21,
     "metadata": {},
     "output_type": "execute_result"
    }
   ],
   "source": [
    "'''sample_submission.duplicated()\n",
    "bureau_balance.duplicated()\n",
    "POS_CASH_balance.duplicated()\n",
    "application_train.duplicated()\n",
    "HomeCredit_columns_description.duplicated()\n",
    "application_test.duplicated()\n",
    "previous_application.duplicated()\n",
    "credit_card_balance.duplicated()\n",
    "installments_payments.duplicated()\n",
    "bureau.duplicated()'''"
   ]
  },
  {
   "cell_type": "code",
   "execution_count": 22,
   "metadata": {
    "execution": {
     "iopub.execute_input": "2021-10-03T07:26:08.121363Z",
     "iopub.status.busy": "2021-10-03T07:26:08.120720Z",
     "iopub.status.idle": "2021-10-03T07:26:08.133376Z",
     "shell.execute_reply": "2021-10-03T07:26:08.132886Z",
     "shell.execute_reply.started": "2021-10-03T07:26:08.121322Z"
    }
   },
   "outputs": [],
   "source": [
    "import pandas as pd\n",
    "import numpy as np\n",
    "\n",
    "# matplotlib and seaborn for plotting\n",
    "import matplotlib.pyplot as plt\n",
    "import seaborn as sns\n",
    "import lightgbm as lgb\n",
    "\n",
    "from sklearn.model_selection import KFold\n",
    "from sklearn.metrics import roc_auc_score\n",
    "from sklearn.preprocessing import LabelEncoder, StandardScaler\n",
    "from sklearn.linear_model import SGDClassifier\n",
    "from sklearn.ensemble import AdaBoostClassifier\n",
    "from sklearn.naive_bayes import GaussianNB\n",
    "from sklearn.naive_bayes import BernoulliNB\n",
    "\n",
    "from sklearn.pipeline import make_pipeline\n",
    "from sklearn.utils import resample\n",
    "\n",
    "import gc\n",
    "\n",
    "import matplotlib.pyplot as plt\n",
    "plt.style.use('fivethirtyeight')"
   ]
  },
  {
   "cell_type": "code",
   "execution_count": 23,
   "metadata": {
    "execution": {
     "iopub.execute_input": "2021-10-03T07:26:08.135921Z",
     "iopub.status.busy": "2021-10-03T07:26:08.135103Z",
     "iopub.status.idle": "2021-10-03T07:26:08.274817Z",
     "shell.execute_reply": "2021-10-03T07:26:08.274013Z",
     "shell.execute_reply.started": "2021-10-03T07:26:08.135882Z"
    }
   },
   "outputs": [
    {
     "data": {
      "text/html": [
       "<div>\n",
       "<style scoped>\n",
       "    .dataframe tbody tr th:only-of-type {\n",
       "        vertical-align: middle;\n",
       "    }\n",
       "\n",
       "    .dataframe tbody tr th {\n",
       "        vertical-align: top;\n",
       "    }\n",
       "\n",
       "    .dataframe thead th {\n",
       "        text-align: right;\n",
       "    }\n",
       "</style>\n",
       "<table border=\"1\" class=\"dataframe\">\n",
       "  <thead>\n",
       "    <tr style=\"text-align: right;\">\n",
       "      <th></th>\n",
       "      <th>SK_ID_CURR</th>\n",
       "      <th>previous_loan_counts</th>\n",
       "    </tr>\n",
       "  </thead>\n",
       "  <tbody>\n",
       "    <tr>\n",
       "      <th>0</th>\n",
       "      <td>100001</td>\n",
       "      <td>7</td>\n",
       "    </tr>\n",
       "    <tr>\n",
       "      <th>1</th>\n",
       "      <td>100002</td>\n",
       "      <td>8</td>\n",
       "    </tr>\n",
       "    <tr>\n",
       "      <th>2</th>\n",
       "      <td>100003</td>\n",
       "      <td>4</td>\n",
       "    </tr>\n",
       "    <tr>\n",
       "      <th>3</th>\n",
       "      <td>100004</td>\n",
       "      <td>2</td>\n",
       "    </tr>\n",
       "    <tr>\n",
       "      <th>4</th>\n",
       "      <td>100005</td>\n",
       "      <td>3</td>\n",
       "    </tr>\n",
       "  </tbody>\n",
       "</table>\n",
       "</div>"
      ],
      "text/plain": [
       "   SK_ID_CURR  previous_loan_counts\n",
       "0      100001                     7\n",
       "1      100002                     8\n",
       "2      100003                     4\n",
       "3      100004                     2\n",
       "4      100005                     3"
      ]
     },
     "execution_count": 23,
     "metadata": {},
     "output_type": "execute_result"
    }
   ],
   "source": [
    "# Groupby the client id (SK_ID_CURR), count the number of previous loans, and rename the column\n",
    "previous_loan_counts = bureau.groupby('SK_ID_CURR', as_index=False)['SK_ID_BUREAU'].count().rename(columns = {'SK_ID_BUREAU': 'previous_loan_counts'})\n",
    "previous_loan_counts.head()"
   ]
  },
  {
   "cell_type": "code",
   "execution_count": 24,
   "metadata": {
    "execution": {
     "iopub.execute_input": "2021-10-03T07:26:08.276291Z",
     "iopub.status.busy": "2021-10-03T07:26:08.275997Z",
     "iopub.status.idle": "2021-10-03T07:26:09.503519Z",
     "shell.execute_reply": "2021-10-03T07:26:09.502810Z",
     "shell.execute_reply.started": "2021-10-03T07:26:08.276254Z"
    }
   },
   "outputs": [
    {
     "data": {
      "text/html": [
       "<div>\n",
       "<style scoped>\n",
       "    .dataframe tbody tr th:only-of-type {\n",
       "        vertical-align: middle;\n",
       "    }\n",
       "\n",
       "    .dataframe tbody tr th {\n",
       "        vertical-align: top;\n",
       "    }\n",
       "\n",
       "    .dataframe thead th {\n",
       "        text-align: right;\n",
       "    }\n",
       "</style>\n",
       "<table border=\"1\" class=\"dataframe\">\n",
       "  <thead>\n",
       "    <tr style=\"text-align: right;\">\n",
       "      <th></th>\n",
       "      <th>SK_ID_CURR</th>\n",
       "      <th>TARGET</th>\n",
       "      <th>NAME_CONTRACT_TYPE</th>\n",
       "      <th>CODE_GENDER</th>\n",
       "      <th>FLAG_OWN_CAR</th>\n",
       "      <th>FLAG_OWN_REALTY</th>\n",
       "      <th>CNT_CHILDREN</th>\n",
       "      <th>AMT_INCOME_TOTAL</th>\n",
       "      <th>AMT_CREDIT</th>\n",
       "      <th>AMT_ANNUITY</th>\n",
       "      <th>...</th>\n",
       "      <th>FLAG_DOCUMENT_19</th>\n",
       "      <th>FLAG_DOCUMENT_20</th>\n",
       "      <th>FLAG_DOCUMENT_21</th>\n",
       "      <th>AMT_REQ_CREDIT_BUREAU_HOUR</th>\n",
       "      <th>AMT_REQ_CREDIT_BUREAU_DAY</th>\n",
       "      <th>AMT_REQ_CREDIT_BUREAU_WEEK</th>\n",
       "      <th>AMT_REQ_CREDIT_BUREAU_MON</th>\n",
       "      <th>AMT_REQ_CREDIT_BUREAU_QRT</th>\n",
       "      <th>AMT_REQ_CREDIT_BUREAU_YEAR</th>\n",
       "      <th>previous_loan_counts</th>\n",
       "    </tr>\n",
       "  </thead>\n",
       "  <tbody>\n",
       "    <tr>\n",
       "      <th>0</th>\n",
       "      <td>100002</td>\n",
       "      <td>1</td>\n",
       "      <td>Cash loans</td>\n",
       "      <td>M</td>\n",
       "      <td>N</td>\n",
       "      <td>Y</td>\n",
       "      <td>0</td>\n",
       "      <td>202500.0</td>\n",
       "      <td>406597.5</td>\n",
       "      <td>24700.5</td>\n",
       "      <td>...</td>\n",
       "      <td>0</td>\n",
       "      <td>0</td>\n",
       "      <td>0</td>\n",
       "      <td>0.0</td>\n",
       "      <td>0.0</td>\n",
       "      <td>0.0</td>\n",
       "      <td>0.0</td>\n",
       "      <td>0.0</td>\n",
       "      <td>1.0</td>\n",
       "      <td>8.0</td>\n",
       "    </tr>\n",
       "    <tr>\n",
       "      <th>1</th>\n",
       "      <td>100003</td>\n",
       "      <td>0</td>\n",
       "      <td>Cash loans</td>\n",
       "      <td>F</td>\n",
       "      <td>N</td>\n",
       "      <td>N</td>\n",
       "      <td>0</td>\n",
       "      <td>270000.0</td>\n",
       "      <td>1293502.5</td>\n",
       "      <td>35698.5</td>\n",
       "      <td>...</td>\n",
       "      <td>0</td>\n",
       "      <td>0</td>\n",
       "      <td>0</td>\n",
       "      <td>0.0</td>\n",
       "      <td>0.0</td>\n",
       "      <td>0.0</td>\n",
       "      <td>0.0</td>\n",
       "      <td>0.0</td>\n",
       "      <td>0.0</td>\n",
       "      <td>4.0</td>\n",
       "    </tr>\n",
       "    <tr>\n",
       "      <th>2</th>\n",
       "      <td>100004</td>\n",
       "      <td>0</td>\n",
       "      <td>Revolving loans</td>\n",
       "      <td>M</td>\n",
       "      <td>Y</td>\n",
       "      <td>Y</td>\n",
       "      <td>0</td>\n",
       "      <td>67500.0</td>\n",
       "      <td>135000.0</td>\n",
       "      <td>6750.0</td>\n",
       "      <td>...</td>\n",
       "      <td>0</td>\n",
       "      <td>0</td>\n",
       "      <td>0</td>\n",
       "      <td>0.0</td>\n",
       "      <td>0.0</td>\n",
       "      <td>0.0</td>\n",
       "      <td>0.0</td>\n",
       "      <td>0.0</td>\n",
       "      <td>0.0</td>\n",
       "      <td>2.0</td>\n",
       "    </tr>\n",
       "    <tr>\n",
       "      <th>3</th>\n",
       "      <td>100006</td>\n",
       "      <td>0</td>\n",
       "      <td>Cash loans</td>\n",
       "      <td>F</td>\n",
       "      <td>N</td>\n",
       "      <td>Y</td>\n",
       "      <td>0</td>\n",
       "      <td>135000.0</td>\n",
       "      <td>312682.5</td>\n",
       "      <td>29686.5</td>\n",
       "      <td>...</td>\n",
       "      <td>0</td>\n",
       "      <td>0</td>\n",
       "      <td>0</td>\n",
       "      <td>NaN</td>\n",
       "      <td>NaN</td>\n",
       "      <td>NaN</td>\n",
       "      <td>NaN</td>\n",
       "      <td>NaN</td>\n",
       "      <td>NaN</td>\n",
       "      <td>0.0</td>\n",
       "    </tr>\n",
       "    <tr>\n",
       "      <th>4</th>\n",
       "      <td>100007</td>\n",
       "      <td>0</td>\n",
       "      <td>Cash loans</td>\n",
       "      <td>M</td>\n",
       "      <td>N</td>\n",
       "      <td>Y</td>\n",
       "      <td>0</td>\n",
       "      <td>121500.0</td>\n",
       "      <td>513000.0</td>\n",
       "      <td>21865.5</td>\n",
       "      <td>...</td>\n",
       "      <td>0</td>\n",
       "      <td>0</td>\n",
       "      <td>0</td>\n",
       "      <td>0.0</td>\n",
       "      <td>0.0</td>\n",
       "      <td>0.0</td>\n",
       "      <td>0.0</td>\n",
       "      <td>0.0</td>\n",
       "      <td>0.0</td>\n",
       "      <td>1.0</td>\n",
       "    </tr>\n",
       "  </tbody>\n",
       "</table>\n",
       "<p>5 rows × 123 columns</p>\n",
       "</div>"
      ],
      "text/plain": [
       "   SK_ID_CURR  TARGET NAME_CONTRACT_TYPE CODE_GENDER FLAG_OWN_CAR  \\\n",
       "0      100002       1         Cash loans           M            N   \n",
       "1      100003       0         Cash loans           F            N   \n",
       "2      100004       0    Revolving loans           M            Y   \n",
       "3      100006       0         Cash loans           F            N   \n",
       "4      100007       0         Cash loans           M            N   \n",
       "\n",
       "  FLAG_OWN_REALTY  CNT_CHILDREN  AMT_INCOME_TOTAL  AMT_CREDIT  AMT_ANNUITY  \\\n",
       "0               Y             0          202500.0    406597.5      24700.5   \n",
       "1               N             0          270000.0   1293502.5      35698.5   \n",
       "2               Y             0           67500.0    135000.0       6750.0   \n",
       "3               Y             0          135000.0    312682.5      29686.5   \n",
       "4               Y             0          121500.0    513000.0      21865.5   \n",
       "\n",
       "   ...  FLAG_DOCUMENT_19 FLAG_DOCUMENT_20 FLAG_DOCUMENT_21  \\\n",
       "0  ...                 0                0                0   \n",
       "1  ...                 0                0                0   \n",
       "2  ...                 0                0                0   \n",
       "3  ...                 0                0                0   \n",
       "4  ...                 0                0                0   \n",
       "\n",
       "  AMT_REQ_CREDIT_BUREAU_HOUR AMT_REQ_CREDIT_BUREAU_DAY  \\\n",
       "0                        0.0                       0.0   \n",
       "1                        0.0                       0.0   \n",
       "2                        0.0                       0.0   \n",
       "3                        NaN                       NaN   \n",
       "4                        0.0                       0.0   \n",
       "\n",
       "  AMT_REQ_CREDIT_BUREAU_WEEK  AMT_REQ_CREDIT_BUREAU_MON  \\\n",
       "0                        0.0                        0.0   \n",
       "1                        0.0                        0.0   \n",
       "2                        0.0                        0.0   \n",
       "3                        NaN                        NaN   \n",
       "4                        0.0                        0.0   \n",
       "\n",
       "   AMT_REQ_CREDIT_BUREAU_QRT  AMT_REQ_CREDIT_BUREAU_YEAR  previous_loan_counts  \n",
       "0                        0.0                         1.0                   8.0  \n",
       "1                        0.0                         0.0                   4.0  \n",
       "2                        0.0                         0.0                   2.0  \n",
       "3                        NaN                         NaN                   0.0  \n",
       "4                        0.0                         0.0                   1.0  \n",
       "\n",
       "[5 rows x 123 columns]"
      ]
     },
     "execution_count": 24,
     "metadata": {},
     "output_type": "execute_result"
    }
   ],
   "source": [
    "# Join to the training dataframe\n",
    "train = application_train.merge(previous_loan_counts, on = 'SK_ID_CURR', how = 'left')\n",
    "\n",
    "# Fill the missing values with 0 \n",
    "train['previous_loan_counts'] = train['previous_loan_counts'].fillna(0)\n",
    "train.head()"
   ]
  },
  {
   "cell_type": "code",
   "execution_count": null,
   "metadata": {},
   "outputs": [],
   "source": []
  },
  {
   "cell_type": "code",
   "execution_count": 25,
   "metadata": {
    "execution": {
     "iopub.execute_input": "2021-10-03T07:26:09.505016Z",
     "iopub.status.busy": "2021-10-03T07:26:09.504780Z",
     "iopub.status.idle": "2021-10-03T07:26:09.527465Z",
     "shell.execute_reply": "2021-10-03T07:26:09.526704Z",
     "shell.execute_reply.started": "2021-10-03T07:26:09.504991Z"
    }
   },
   "outputs": [],
   "source": [
    "def model(features, test_features, encoding = 'ohe', n_folds = 5, classifier = \"lgd\"):\n",
    "    \n",
    "    # Extract the ids\n",
    "    train_ids = features['SK_ID_CURR']\n",
    "    test_ids = test_features['SK_ID_CURR']\n",
    "    \n",
    "    # Extract the labels for training\n",
    "    labels = features['TARGET']\n",
    "    \n",
    "    # Remove the ids and target\n",
    "    features = features.drop(columns = ['SK_ID_CURR', 'TARGET'])\n",
    "    test_features = test_features.drop(columns = ['SK_ID_CURR'])\n",
    "      \n",
    "    \n",
    "    # One Hot Encoding\n",
    "    if encoding == 'ohe':\n",
    "        features = pd.get_dummies(features)\n",
    "        test_features = pd.get_dummies(test_features)\n",
    "        \n",
    "        # Align the dataframes by the columns\n",
    "        features, test_features = features.align(test_features, join = 'inner', axis = 1)\n",
    "        \n",
    "        # No categorical indices to record\n",
    "        cat_indices = 'auto'\n",
    "    \n",
    "    # Integer label encoding\n",
    "    elif encoding == 'le':\n",
    "        \n",
    "        # Create a label encoder\n",
    "        label_encoder = LabelEncoder()\n",
    "        \n",
    "        # List for storing categorical indices\n",
    "        cat_indices = []\n",
    "        \n",
    "        # Iterate through each column\n",
    "        for i, col in enumerate(features):\n",
    "            if features[col].dtype == 'object':\n",
    "                # Map the categorical features to integers\n",
    "                features[col] = label_encoder.fit_transform(np.array(features[col].astype(str)).reshape((-1,)))\n",
    "                test_features[col] = label_encoder.transform(np.array(test_features[col].astype(str)).reshape((-1,)))\n",
    "\n",
    "                # Record the categorical indices\n",
    "                cat_indices.append(i)\n",
    "     # Catch error if label encoding scheme is not valid\n",
    "    else:\n",
    "        raise ValueError(\"Encoding must be either 'ohe' or 'le'\")\n",
    "    print(\"finished encoding\")\n",
    "        \n",
    "    print('Training Data Shape: ', features.shape)\n",
    "    print('Testing Data Shape: ', test_features.shape)\n",
    "    \n",
    "    # Extract feature names\n",
    "    feature_names = list(features.columns)\n",
    "    \n",
    "    # Convert to np arrays\n",
    "    features = np.array(features)\n",
    "    test_features = np.array(test_features)\n",
    "    \n",
    "    # Create the kfold object\n",
    "    k_fold = KFold(n_splits = n_folds, shuffle = False, random_state = 50)\n",
    "    \n",
    "    # Empty array for feature importances\n",
    "    feature_importance_values = np.zeros(len(feature_names))\n",
    "    \n",
    "    # Empty array for test predictions\n",
    "    test_predictions = np.zeros(test_features.shape[0])\n",
    "    \n",
    "    # Empty array for out of fold validation predictions\n",
    "    out_of_fold = np.zeros(features.shape[0])\n",
    "    \n",
    "    # Lists for recording validation and training scores\n",
    "    valid_scores = []\n",
    "    train_scores = []\n",
    "    # Iterate through each fold\n",
    "    print(\"start modelling\")\n",
    "    for train_indices, valid_indices in k_fold.split(features):\n",
    "        \n",
    "        # Training data for the fold\n",
    "        train_features, train_labels = features[train_indices], labels[train_indices]\n",
    "        # Validation data for the fold\n",
    "        valid_features, valid_labels = features[valid_indices], labels[valid_indices]\n",
    "        if classifier == \"lgd\":\n",
    "            # Create the model\n",
    "            model = lgb.LGBMClassifier(n_estimators=10000, objective = 'binary', \n",
    "                                       class_weight = 'balanced', learning_rate = 0.05, \n",
    "                                       reg_alpha = 0.1, reg_lambda = 0.1, \n",
    "                                       subsample = 0.8, n_jobs = -1, random_state = 50)\n",
    "\n",
    "            # Train the model\n",
    "            model.fit(train_features, train_labels, eval_metric = 'auc',\n",
    "                      eval_set = [(valid_features, valid_labels), (train_features, train_labels)],\n",
    "                      eval_names = ['valid', 'train'], categorical_feature = cat_indices,\n",
    "                      early_stopping_rounds = 100, verbose = 200)\n",
    "            # Record the best iteration\n",
    "            best_iteration = model.best_iteration_\n",
    "\n",
    "            # Record the feature importances\n",
    "            feature_importance_values += model.feature_importances_ / k_fold.n_splits\n",
    "        elif classifier == \"sgd\":\n",
    "            # Create the model\n",
    "            model = make_pipeline(StandardScaler(),SGDClassifier(loss = \"log\", penalty = \"elasticnet\",\n",
    "                                 early_stopping = True,validation_fraction = 0.2,class_weight = \"balanced\"))\n",
    "            # Train the model\n",
    "            #train_features = np.append(train_features,test_features)\n",
    "            #train_labels = np.append(train_labels,valid_labels)\n",
    "            model.fit(train_features, train_labels)\n",
    "        elif classifier ==\"ada\":\n",
    "            #train_features = np.append(train_features,test_features)\n",
    "            #train_labels = np.append(train_labels,valid_labels)\n",
    "            model = AdaBoostClassifier(n_estimators=100, random_state=4995)\n",
    "            model.fit(train_features,train_labels)\n",
    "            \n",
    "        elif classifier == \"bnb\":\n",
    "            model = BernoulliNB()\n",
    "            model.fit(train_features,train_labels)\n",
    "            \n",
    "        elif classifier == \"gnb\":\n",
    "            model = GaussianNB()\n",
    "            model.fit(train_features,train_labels)\n",
    "        \n",
    "        # Make predictions\n",
    "        test_predictions += model.predict_proba(test_features)[:, 1] / k_fold.n_splits\n",
    "       # Record the out of fold predictions\n",
    "        out_of_fold[valid_indices] = model.predict_proba(valid_features)[:, 1]     \n",
    "        if classifier == \"lgd\":\n",
    "\n",
    "            # Record the best score\n",
    "            valid_score = model.best_score_['valid']['auc']\n",
    "            train_score = model.best_score_['train']['auc']\n",
    "\n",
    "            valid_scores.append(valid_score)\n",
    "            train_scores.append(train_score)\n",
    "        \n",
    "            # Clean up memory\n",
    "            gc.enable()\n",
    "            del model, train_features, valid_features\n",
    "            gc.collect()\n",
    "        #elif classifier ==\"sgd\" or classifier ==\"ada\" or classifier :\n",
    "        else:\n",
    "            valid_score = model.score(valid_features,valid_labels)\n",
    "            valid_scores.append(valid_score) \n",
    "            \n",
    "        print(\"finish fold\")\n",
    "    print(\"start prediction\")       \n",
    "    # Make the submission dataframe\n",
    "    submission = pd.DataFrame({'SK_ID_CURR': test_ids, 'TARGET': test_predictions})\n",
    "    \n",
    "\n",
    "    \n",
    "    # Overall validation score\n",
    "    valid_auc = roc_auc_score(labels, out_of_fold)\n",
    "    \n",
    "    # Add the overall scores to the metrics\n",
    "    valid_scores.append(valid_auc)\n",
    "    fold_names=[]\n",
    "    if classifier == \"lgd\":\n",
    "        train_scores.append(np.mean(train_scores))\n",
    "        # Make the feature importance dataframe\n",
    "        feature_importances = pd.DataFrame({'feature': feature_names, 'importance': feature_importance_values})\n",
    "        # Needed for creating dataframe of validation scores\n",
    "        fold_names = list(range(n_folds))\n",
    "        fold_names.append('overall')\n",
    "    \n",
    "        # Dataframe of validation scores\n",
    "        metrics = pd.DataFrame({'fold': fold_names,\n",
    "                                'train': train_scores,\n",
    "                                'valid': valid_scores}) \n",
    "    #elif classifier ==\"sgd\" or classifier ==\"ada\":\n",
    "    else:\n",
    "        metrics = pd.DataFrame({\n",
    "                        'valid': valid_scores})\n",
    "        feature_importances = \"not avaliable\"\n",
    "    \n",
    "    return submission, feature_importances, metrics"
   ]
  },
  {
   "cell_type": "code",
   "execution_count": 26,
   "metadata": {
    "execution": {
     "iopub.execute_input": "2021-10-03T07:26:09.528742Z",
     "iopub.status.busy": "2021-10-03T07:26:09.528516Z",
     "iopub.status.idle": "2021-10-03T07:26:09.538881Z",
     "shell.execute_reply": "2021-10-03T07:26:09.538176Z",
     "shell.execute_reply.started": "2021-10-03T07:26:09.528719Z"
    }
   },
   "outputs": [],
   "source": [
    "def plot_feature_importances(df):\n",
    "\n",
    "    \n",
    "    # Sort features according to importance\n",
    "    df = df.sort_values('importance', ascending = False).reset_index()\n",
    "    \n",
    "    # Normalize the feature importances to add up to one\n",
    "    df['importance_normalized'] = df['importance'] / df['importance'].sum()\n",
    "\n",
    "    # Make a horizontal bar chart of feature importances\n",
    "    plt.figure(figsize = (10, 6))\n",
    "    ax = plt.subplot()\n",
    "    ax.invert_xaxis() \n",
    "    # Need to reverse the index to plot most important on top\n",
    "    ax.barh(list(reversed(list(df.index[:15]))), \n",
    "            df['importance_normalized'].head(15), \n",
    "            align = 'center', edgecolor = 'blue', color=\"green\")\n",
    "    # Set the yticks and labels\n",
    "    ax.set_yticks(list(reversed(list(df.index[:15]))))\n",
    "    ax.set_yticklabels(df['feature'].head(15))\n",
    "    ax.yaxis.set_label_position(\"right\")\n",
    "    ax.yaxis.tick_right()\n",
    "    \n",
    "    # Plot labeling\n",
    "    plt.xlabel('Normalized Importance'); plt.title(f'Top {len(df)} Importance Features')\n",
    "    plt.show()\n",
    "    \n",
    "    return df"
   ]
  },
  {
   "cell_type": "code",
   "execution_count": 27,
   "metadata": {
    "execution": {
     "iopub.execute_input": "2021-10-03T07:26:09.540105Z",
     "iopub.status.busy": "2021-10-03T07:26:09.539840Z",
     "iopub.status.idle": "2021-10-03T07:28:50.586675Z",
     "shell.execute_reply": "2021-10-03T07:28:50.585815Z",
     "shell.execute_reply.started": "2021-10-03T07:26:09.540079Z"
    }
   },
   "outputs": [
    {
     "name": "stdout",
     "output_type": "stream",
     "text": [
      "finished encoding\n",
      "Training Data Shape:  (307511, 241)\n",
      "Testing Data Shape:  (48744, 241)\n"
     ]
    },
    {
     "name": "stderr",
     "output_type": "stream",
     "text": [
      "/opt/conda/lib/python3.7/site-packages/sklearn/model_selection/_split.py:297: FutureWarning: Setting a random_state has no effect since shuffle is False. This will raise an error in 0.24. You should leave random_state to its default (None), or set shuffle=True.\n",
      "  FutureWarning\n"
     ]
    },
    {
     "name": "stdout",
     "output_type": "stream",
     "text": [
      "start modelling\n",
      "Training until validation scores don't improve for 100 rounds\n",
      "[200]\ttrain's auc: 0.798402\ttrain's binary_logloss: 0.548246\tvalid's auc: 0.760094\tvalid's binary_logloss: 0.561937\n",
      "Early stopping, best iteration is:\n",
      "[270]\ttrain's auc: 0.809955\ttrain's binary_logloss: 0.536899\tvalid's auc: 0.760435\tvalid's binary_logloss: 0.55484\n",
      "finish fold\n",
      "Training until validation scores don't improve for 100 rounds\n",
      "[200]\ttrain's auc: 0.798514\ttrain's binary_logloss: 0.548241\tvalid's auc: 0.761102\tvalid's binary_logloss: 0.566424\n",
      "Early stopping, best iteration is:\n",
      "[223]\ttrain's auc: 0.802473\ttrain's binary_logloss: 0.544332\tvalid's auc: 0.761328\tvalid's binary_logloss: 0.564145\n",
      "finish fold\n",
      "Training until validation scores don't improve for 100 rounds\n",
      "[200]\ttrain's auc: 0.799641\ttrain's binary_logloss: 0.546889\tvalid's auc: 0.750166\tvalid's binary_logloss: 0.564526\n",
      "Early stopping, best iteration is:\n",
      "[224]\ttrain's auc: 0.803744\ttrain's binary_logloss: 0.542767\tvalid's auc: 0.750327\tvalid's binary_logloss: 0.56206\n",
      "finish fold\n",
      "Training until validation scores don't improve for 100 rounds\n",
      "[200]\ttrain's auc: 0.798146\ttrain's binary_logloss: 0.548898\tvalid's auc: 0.760594\tvalid's binary_logloss: 0.561966\n",
      "Early stopping, best iteration is:\n",
      "[270]\ttrain's auc: 0.809674\ttrain's binary_logloss: 0.537558\tvalid's auc: 0.760824\tvalid's binary_logloss: 0.555305\n",
      "finish fold\n",
      "Training until validation scores don't improve for 100 rounds\n",
      "[200]\ttrain's auc: 0.797904\ttrain's binary_logloss: 0.548939\tvalid's auc: 0.760804\tvalid's binary_logloss: 0.562506\n",
      "[400]\ttrain's auc: 0.827441\ttrain's binary_logloss: 0.519709\tvalid's auc: 0.761454\tvalid's binary_logloss: 0.544715\n",
      "Early stopping, best iteration is:\n",
      "[410]\ttrain's auc: 0.828844\ttrain's binary_logloss: 0.518306\tvalid's auc: 0.761533\tvalid's binary_logloss: 0.543805\n",
      "finish fold\n",
      "start prediction\n"
     ]
    }
   ],
   "source": [
    "#originalData_ohe_lgd model\n",
    "submission, fi, metrics = model(application_train, application_test)\n",
    "submission.to_csv('base_ohe_lgd.csv', index = False)"
   ]
  },
  {
   "cell_type": "code",
   "execution_count": 28,
   "metadata": {
    "execution": {
     "iopub.execute_input": "2021-10-03T07:28:50.588355Z",
     "iopub.status.busy": "2021-10-03T07:28:50.588076Z",
     "iopub.status.idle": "2021-10-03T07:31:21.649320Z",
     "shell.execute_reply": "2021-10-03T07:31:21.648589Z",
     "shell.execute_reply.started": "2021-10-03T07:28:50.588320Z"
    }
   },
   "outputs": [
    {
     "name": "stdout",
     "output_type": "stream",
     "text": [
      "finished encoding\n",
      "Training Data Shape:  (307511, 120)\n",
      "Testing Data Shape:  (48744, 120)\n"
     ]
    },
    {
     "name": "stderr",
     "output_type": "stream",
     "text": [
      "/opt/conda/lib/python3.7/site-packages/sklearn/model_selection/_split.py:297: FutureWarning: Setting a random_state has no effect since shuffle is False. This will raise an error in 0.24. You should leave random_state to its default (None), or set shuffle=True.\n",
      "  FutureWarning\n"
     ]
    },
    {
     "name": "stdout",
     "output_type": "stream",
     "text": [
      "start modelling\n"
     ]
    },
    {
     "name": "stderr",
     "output_type": "stream",
     "text": [
      "/opt/conda/lib/python3.7/site-packages/lightgbm/basic.py:1702: UserWarning: Using categorical_feature in Dataset.\n",
      "  _log_warning('Using categorical_feature in Dataset.')\n",
      "/opt/conda/lib/python3.7/site-packages/lightgbm/basic.py:1706: UserWarning: categorical_feature in Dataset is overridden.\n",
      "New categorical_feature is [0, 1, 2, 3, 9, 10, 11, 12, 13, 26, 30, 38, 84, 85, 87, 88]\n",
      "  'New categorical_feature is {}'.format(sorted(list(categorical_feature))))\n",
      "/opt/conda/lib/python3.7/site-packages/lightgbm/basic.py:1433: UserWarning: Overriding the parameters from Reference Dataset.\n",
      "  _log_warning('Overriding the parameters from Reference Dataset.')\n",
      "/opt/conda/lib/python3.7/site-packages/lightgbm/basic.py:1245: UserWarning: categorical_column in param dict is overridden.\n",
      "  _log_warning('{} in param dict is overridden.'.format(cat_alias))\n"
     ]
    },
    {
     "name": "stdout",
     "output_type": "stream",
     "text": [
      "Training until validation scores don't improve for 100 rounds\n",
      "[200]\ttrain's auc: 0.807347\ttrain's binary_logloss: 0.540021\tvalid's auc: 0.758436\tvalid's binary_logloss: 0.557524\n",
      "Early stopping, best iteration is:\n",
      "[225]\ttrain's auc: 0.812018\ttrain's binary_logloss: 0.535411\tvalid's auc: 0.758591\tvalid's binary_logloss: 0.554653\n",
      "finish fold\n"
     ]
    },
    {
     "name": "stderr",
     "output_type": "stream",
     "text": [
      "/opt/conda/lib/python3.7/site-packages/lightgbm/basic.py:1702: UserWarning: Using categorical_feature in Dataset.\n",
      "  _log_warning('Using categorical_feature in Dataset.')\n",
      "/opt/conda/lib/python3.7/site-packages/lightgbm/basic.py:1706: UserWarning: categorical_feature in Dataset is overridden.\n",
      "New categorical_feature is [0, 1, 2, 3, 9, 10, 11, 12, 13, 26, 30, 38, 84, 85, 87, 88]\n",
      "  'New categorical_feature is {}'.format(sorted(list(categorical_feature))))\n",
      "/opt/conda/lib/python3.7/site-packages/lightgbm/basic.py:1433: UserWarning: Overriding the parameters from Reference Dataset.\n",
      "  _log_warning('Overriding the parameters from Reference Dataset.')\n",
      "/opt/conda/lib/python3.7/site-packages/lightgbm/basic.py:1245: UserWarning: categorical_column in param dict is overridden.\n",
      "  _log_warning('{} in param dict is overridden.'.format(cat_alias))\n"
     ]
    },
    {
     "name": "stdout",
     "output_type": "stream",
     "text": [
      "Training until validation scores don't improve for 100 rounds\n",
      "[200]\ttrain's auc: 0.807294\ttrain's binary_logloss: 0.54039\tvalid's auc: 0.758585\tvalid's binary_logloss: 0.561813\n",
      "Early stopping, best iteration is:\n",
      "[258]\ttrain's auc: 0.81794\ttrain's binary_logloss: 0.529628\tvalid's auc: 0.758883\tvalid's binary_logloss: 0.555314\n",
      "finish fold\n"
     ]
    },
    {
     "name": "stderr",
     "output_type": "stream",
     "text": [
      "/opt/conda/lib/python3.7/site-packages/lightgbm/basic.py:1702: UserWarning: Using categorical_feature in Dataset.\n",
      "  _log_warning('Using categorical_feature in Dataset.')\n",
      "/opt/conda/lib/python3.7/site-packages/lightgbm/basic.py:1706: UserWarning: categorical_feature in Dataset is overridden.\n",
      "New categorical_feature is [0, 1, 2, 3, 9, 10, 11, 12, 13, 26, 30, 38, 84, 85, 87, 88]\n",
      "  'New categorical_feature is {}'.format(sorted(list(categorical_feature))))\n",
      "/opt/conda/lib/python3.7/site-packages/lightgbm/basic.py:1433: UserWarning: Overriding the parameters from Reference Dataset.\n",
      "  _log_warning('Overriding the parameters from Reference Dataset.')\n",
      "/opt/conda/lib/python3.7/site-packages/lightgbm/basic.py:1245: UserWarning: categorical_column in param dict is overridden.\n",
      "  _log_warning('{} in param dict is overridden.'.format(cat_alias))\n"
     ]
    },
    {
     "name": "stdout",
     "output_type": "stream",
     "text": [
      "Training until validation scores don't improve for 100 rounds\n",
      "[200]\ttrain's auc: 0.809185\ttrain's binary_logloss: 0.538262\tvalid's auc: 0.749823\tvalid's binary_logloss: 0.558875\n",
      "Early stopping, best iteration is:\n",
      "[244]\ttrain's auc: 0.8174\ttrain's binary_logloss: 0.529937\tvalid's auc: 0.749996\tvalid's binary_logloss: 0.553627\n",
      "finish fold\n"
     ]
    },
    {
     "name": "stderr",
     "output_type": "stream",
     "text": [
      "/opt/conda/lib/python3.7/site-packages/lightgbm/basic.py:1702: UserWarning: Using categorical_feature in Dataset.\n",
      "  _log_warning('Using categorical_feature in Dataset.')\n",
      "/opt/conda/lib/python3.7/site-packages/lightgbm/basic.py:1706: UserWarning: categorical_feature in Dataset is overridden.\n",
      "New categorical_feature is [0, 1, 2, 3, 9, 10, 11, 12, 13, 26, 30, 38, 84, 85, 87, 88]\n",
      "  'New categorical_feature is {}'.format(sorted(list(categorical_feature))))\n",
      "/opt/conda/lib/python3.7/site-packages/lightgbm/basic.py:1433: UserWarning: Overriding the parameters from Reference Dataset.\n",
      "  _log_warning('Overriding the parameters from Reference Dataset.')\n",
      "/opt/conda/lib/python3.7/site-packages/lightgbm/basic.py:1245: UserWarning: categorical_column in param dict is overridden.\n",
      "  _log_warning('{} in param dict is overridden.'.format(cat_alias))\n"
     ]
    },
    {
     "name": "stdout",
     "output_type": "stream",
     "text": [
      "Training until validation scores don't improve for 100 rounds\n",
      "[200]\ttrain's auc: 0.806824\ttrain's binary_logloss: 0.540941\tvalid's auc: 0.758217\tvalid's binary_logloss: 0.557292\n",
      "Early stopping, best iteration is:\n",
      "[171]\ttrain's auc: 0.801047\ttrain's binary_logloss: 0.546705\tvalid's auc: 0.758741\tvalid's binary_logloss: 0.560803\n",
      "finish fold\n"
     ]
    },
    {
     "name": "stderr",
     "output_type": "stream",
     "text": [
      "/opt/conda/lib/python3.7/site-packages/lightgbm/basic.py:1702: UserWarning: Using categorical_feature in Dataset.\n",
      "  _log_warning('Using categorical_feature in Dataset.')\n",
      "/opt/conda/lib/python3.7/site-packages/lightgbm/basic.py:1706: UserWarning: categorical_feature in Dataset is overridden.\n",
      "New categorical_feature is [0, 1, 2, 3, 9, 10, 11, 12, 13, 26, 30, 38, 84, 85, 87, 88]\n",
      "  'New categorical_feature is {}'.format(sorted(list(categorical_feature))))\n",
      "/opt/conda/lib/python3.7/site-packages/lightgbm/basic.py:1433: UserWarning: Overriding the parameters from Reference Dataset.\n",
      "  _log_warning('Overriding the parameters from Reference Dataset.')\n",
      "/opt/conda/lib/python3.7/site-packages/lightgbm/basic.py:1245: UserWarning: categorical_column in param dict is overridden.\n",
      "  _log_warning('{} in param dict is overridden.'.format(cat_alias))\n"
     ]
    },
    {
     "name": "stdout",
     "output_type": "stream",
     "text": [
      "Training until validation scores don't improve for 100 rounds\n",
      "[200]\ttrain's auc: 0.807167\ttrain's binary_logloss: 0.540867\tvalid's auc: 0.760093\tvalid's binary_logloss: 0.557786\n",
      "Early stopping, best iteration is:\n",
      "[271]\ttrain's auc: 0.819621\ttrain's binary_logloss: 0.528354\tvalid's auc: 0.760518\tvalid's binary_logloss: 0.550222\n",
      "finish fold\n",
      "start prediction\n"
     ]
    }
   ],
   "source": [
    "#originalData_le_lgd model\n",
    "submission_le, fi_le, metrics_le = model(application_train, application_test,encoding = \"le\")\n",
    "submission.to_csv('base_le_lgd.csv', index = False)"
   ]
  },
  {
   "cell_type": "code",
   "execution_count": 29,
   "metadata": {
    "execution": {
     "iopub.execute_input": "2021-10-03T07:31:21.652961Z",
     "iopub.status.busy": "2021-10-03T07:31:21.652660Z",
     "iopub.status.idle": "2021-10-03T07:31:22.348759Z",
     "shell.execute_reply": "2021-10-03T07:31:22.347888Z",
     "shell.execute_reply.started": "2021-10-03T07:31:21.652932Z"
    }
   },
   "outputs": [],
   "source": [
    "#Filling NaNs\n",
    "_train = train.fillna(0)\n",
    "_test = application_test.fillna(0)"
   ]
  },
  {
   "cell_type": "code",
   "execution_count": 30,
   "metadata": {
    "execution": {
     "iopub.execute_input": "2021-10-03T07:31:22.350158Z",
     "iopub.status.busy": "2021-10-03T07:31:22.349918Z",
     "iopub.status.idle": "2021-10-03T07:32:00.940652Z",
     "shell.execute_reply": "2021-10-03T07:32:00.939726Z",
     "shell.execute_reply.started": "2021-10-03T07:31:22.350131Z"
    }
   },
   "outputs": [
    {
     "name": "stdout",
     "output_type": "stream",
     "text": [
      "finished encoding\n",
      "Training Data Shape:  (307511, 247)\n",
      "Testing Data Shape:  (48744, 247)\n"
     ]
    },
    {
     "name": "stderr",
     "output_type": "stream",
     "text": [
      "/opt/conda/lib/python3.7/site-packages/sklearn/model_selection/_split.py:297: FutureWarning: Setting a random_state has no effect since shuffle is False. This will raise an error in 0.24. You should leave random_state to its default (None), or set shuffle=True.\n",
      "  FutureWarning\n"
     ]
    },
    {
     "name": "stdout",
     "output_type": "stream",
     "text": [
      "start modelling\n",
      "finish fold\n",
      "finish fold\n",
      "finish fold\n",
      "finish fold\n",
      "finish fold\n",
      "start prediction\n"
     ]
    }
   ],
   "source": [
    "#DataWithPreviousLoan_ohe_sgd model\n",
    "submission_sgd, fi_sgd, metrics_sgd = model(_train, _test,encoding = \"ohe\",classifier = \"sgd\")\n",
    "submission_sgd.to_csv('base_ohe_sgd.csv', index = False)"
   ]
  },
  {
   "cell_type": "code",
   "execution_count": 31,
   "metadata": {
    "execution": {
     "iopub.execute_input": "2021-10-03T07:32:00.941978Z",
     "iopub.status.busy": "2021-10-03T07:32:00.941745Z",
     "iopub.status.idle": "2021-10-03T07:49:52.432842Z",
     "shell.execute_reply": "2021-10-03T07:49:52.432017Z",
     "shell.execute_reply.started": "2021-10-03T07:32:00.941954Z"
    }
   },
   "outputs": [
    {
     "name": "stdout",
     "output_type": "stream",
     "text": [
      "finished encoding\n",
      "Training Data Shape:  (307511, 247)\n",
      "Testing Data Shape:  (48744, 247)\n"
     ]
    },
    {
     "name": "stderr",
     "output_type": "stream",
     "text": [
      "/opt/conda/lib/python3.7/site-packages/sklearn/model_selection/_split.py:297: FutureWarning: Setting a random_state has no effect since shuffle is False. This will raise an error in 0.24. You should leave random_state to its default (None), or set shuffle=True.\n",
      "  FutureWarning\n"
     ]
    },
    {
     "name": "stdout",
     "output_type": "stream",
     "text": [
      "start modelling\n",
      "finish fold\n",
      "finish fold\n",
      "finish fold\n",
      "finish fold\n",
      "finish fold\n",
      "start prediction\n"
     ]
    }
   ],
   "source": [
    "#DataWithPreviousLoan_ohe_ada model\n",
    "submission_ada, fi_ada, metrics_ada = model(_train, _test,encoding = \"ohe\",classifier = \"ada\")\n",
    "submission_ada.to_csv('base_ohe_ada.csv', index = False)"
   ]
  },
  {
   "cell_type": "code",
   "execution_count": 32,
   "metadata": {
    "execution": {
     "iopub.execute_input": "2021-10-03T07:49:52.434163Z",
     "iopub.status.busy": "2021-10-03T07:49:52.433948Z",
     "iopub.status.idle": "2021-10-03T07:50:04.007331Z",
     "shell.execute_reply": "2021-10-03T07:50:04.006477Z",
     "shell.execute_reply.started": "2021-10-03T07:49:52.434138Z"
    }
   },
   "outputs": [
    {
     "name": "stdout",
     "output_type": "stream",
     "text": [
      "finished encoding\n",
      "Training Data Shape:  (307511, 247)\n",
      "Testing Data Shape:  (48744, 247)\n"
     ]
    },
    {
     "name": "stderr",
     "output_type": "stream",
     "text": [
      "/opt/conda/lib/python3.7/site-packages/sklearn/model_selection/_split.py:297: FutureWarning: Setting a random_state has no effect since shuffle is False. This will raise an error in 0.24. You should leave random_state to its default (None), or set shuffle=True.\n",
      "  FutureWarning\n"
     ]
    },
    {
     "name": "stdout",
     "output_type": "stream",
     "text": [
      "start modelling\n",
      "finish fold\n",
      "finish fold\n",
      "finish fold\n",
      "finish fold\n",
      "finish fold\n",
      "start prediction\n"
     ]
    }
   ],
   "source": [
    "#Bernoulli Naive Bayes\n",
    "submission_bnb, fi_bnb, metrics_bnb = model(_train, _test,encoding = \"ohe\",classifier = \"bnb\")\n",
    "submission_bnb.to_csv('base_ohe_bnb.csv', index = False)"
   ]
  },
  {
   "cell_type": "code",
   "execution_count": 33,
   "metadata": {
    "execution": {
     "iopub.execute_input": "2021-10-03T07:50:04.009286Z",
     "iopub.status.busy": "2021-10-03T07:50:04.008569Z",
     "iopub.status.idle": "2021-10-03T07:50:16.641133Z",
     "shell.execute_reply": "2021-10-03T07:50:16.640526Z",
     "shell.execute_reply.started": "2021-10-03T07:50:04.009252Z"
    }
   },
   "outputs": [
    {
     "name": "stdout",
     "output_type": "stream",
     "text": [
      "finished encoding\n",
      "Training Data Shape:  (307511, 247)\n",
      "Testing Data Shape:  (48744, 247)\n"
     ]
    },
    {
     "name": "stderr",
     "output_type": "stream",
     "text": [
      "/opt/conda/lib/python3.7/site-packages/sklearn/model_selection/_split.py:297: FutureWarning: Setting a random_state has no effect since shuffle is False. This will raise an error in 0.24. You should leave random_state to its default (None), or set shuffle=True.\n",
      "  FutureWarning\n"
     ]
    },
    {
     "name": "stdout",
     "output_type": "stream",
     "text": [
      "start modelling\n",
      "finish fold\n",
      "finish fold\n",
      "finish fold\n",
      "finish fold\n",
      "finish fold\n",
      "start prediction\n"
     ]
    }
   ],
   "source": [
    "#Gaussian Naive Bayes\n",
    "submission_gnb, fi_gnb, metrics_gnb = model(_train, _test,encoding = \"ohe\",classifier = \"gnb\")\n",
    "submission_gnb.to_csv('base_ohe_gnb.csv', index = False)"
   ]
  },
  {
   "cell_type": "code",
   "execution_count": 34,
   "metadata": {
    "execution": {
     "iopub.execute_input": "2021-10-03T07:50:16.642502Z",
     "iopub.status.busy": "2021-10-03T07:50:16.642006Z",
     "iopub.status.idle": "2021-10-03T07:50:16.680824Z",
     "shell.execute_reply": "2021-10-03T07:50:16.680013Z",
     "shell.execute_reply.started": "2021-10-03T07:50:16.642472Z"
    }
   },
   "outputs": [
    {
     "name": "stderr",
     "output_type": "stream",
     "text": [
      "/opt/conda/lib/python3.7/site-packages/pandas/core/internals/construction.py:540: VisibleDeprecationWarning: Creating an ndarray from ragged nested sequences (which is a list-or-tuple of lists-or-tuples-or ndarrays with different lengths or shapes) is deprecated. If you meant to do this, you must specify 'dtype=object' when creating the ndarray\n",
      "  values = np.array([convert(v) for v in values])\n"
     ]
    }
   ],
   "source": [
    "#save result\n",
    "result = pd.DataFrame([submission, fi, metrics])\n",
    "result_le = pd.DataFrame([submission_le, fi_le, metrics_le])\n",
    "result_sgd = pd.DataFrame([submission_sgd, fi_sgd, metrics_sgd])\n",
    "result_ada = pd.DataFrame([submission_ada, fi_ada, metrics_ada])\n",
    "result_bnb = pd.DataFrame([submission_bnb, fi_bnb, metrics_bnb])\n",
    "result_gnb = pd.DataFrame([submission_gnb, fi_gnb, metrics_gnb])\n",
    "result = pd.concat([result,result_le,result_sgd,result_ada,result_bnb,result_gnb],axis=1,keys=['ohe','le','sgd','bnb','gnb'])\n",
    "result.to_csv(\"result.csv\",index=False)"
   ]
  },
  {
   "cell_type": "code",
   "execution_count": 35,
   "metadata": {
    "execution": {
     "iopub.execute_input": "2021-10-03T07:50:16.682102Z",
     "iopub.status.busy": "2021-10-03T07:50:16.681880Z",
     "iopub.status.idle": "2021-10-03T07:50:27.722314Z",
     "shell.execute_reply": "2021-10-03T07:50:27.721504Z",
     "shell.execute_reply.started": "2021-10-03T07:50:16.682078Z"
    }
   },
   "outputs": [
    {
     "data": {
      "text/html": [
       "<div>\n",
       "<style scoped>\n",
       "    .dataframe tbody tr th:only-of-type {\n",
       "        vertical-align: middle;\n",
       "    }\n",
       "\n",
       "    .dataframe tbody tr th {\n",
       "        vertical-align: top;\n",
       "    }\n",
       "\n",
       "    .dataframe thead th {\n",
       "        text-align: right;\n",
       "    }\n",
       "</style>\n",
       "<table border=\"1\" class=\"dataframe\">\n",
       "  <thead>\n",
       "    <tr style=\"text-align: right;\">\n",
       "      <th></th>\n",
       "      <th>TARGET</th>\n",
       "    </tr>\n",
       "  </thead>\n",
       "  <tbody>\n",
       "    <tr>\n",
       "      <th>TARGET</th>\n",
       "      <td>1.000000</td>\n",
       "    </tr>\n",
       "    <tr>\n",
       "      <th>DAYS_BIRTH</th>\n",
       "      <td>0.078239</td>\n",
       "    </tr>\n",
       "    <tr>\n",
       "      <th>REGION_RATING_CLIENT_W_CITY</th>\n",
       "      <td>0.060893</td>\n",
       "    </tr>\n",
       "    <tr>\n",
       "      <th>REGION_RATING_CLIENT</th>\n",
       "      <td>0.058899</td>\n",
       "    </tr>\n",
       "    <tr>\n",
       "      <th>DAYS_LAST_PHONE_CHANGE</th>\n",
       "      <td>0.055218</td>\n",
       "    </tr>\n",
       "    <tr>\n",
       "      <th>DAYS_ID_PUBLISH</th>\n",
       "      <td>0.051457</td>\n",
       "    </tr>\n",
       "    <tr>\n",
       "      <th>REG_CITY_NOT_WORK_CITY</th>\n",
       "      <td>0.050994</td>\n",
       "    </tr>\n",
       "    <tr>\n",
       "      <th>FLAG_EMP_PHONE</th>\n",
       "      <td>0.045982</td>\n",
       "    </tr>\n",
       "    <tr>\n",
       "      <th>REG_CITY_NOT_LIVE_CITY</th>\n",
       "      <td>0.044395</td>\n",
       "    </tr>\n",
       "    <tr>\n",
       "      <th>FLAG_DOCUMENT_3</th>\n",
       "      <td>0.044346</td>\n",
       "    </tr>\n",
       "  </tbody>\n",
       "</table>\n",
       "</div>"
      ],
      "text/plain": [
       "                               TARGET\n",
       "TARGET                       1.000000\n",
       "DAYS_BIRTH                   0.078239\n",
       "REGION_RATING_CLIENT_W_CITY  0.060893\n",
       "REGION_RATING_CLIENT         0.058899\n",
       "DAYS_LAST_PHONE_CHANGE       0.055218\n",
       "DAYS_ID_PUBLISH              0.051457\n",
       "REG_CITY_NOT_WORK_CITY       0.050994\n",
       "FLAG_EMP_PHONE               0.045982\n",
       "REG_CITY_NOT_LIVE_CITY       0.044395\n",
       "FLAG_DOCUMENT_3              0.044346"
      ]
     },
     "execution_count": 35,
     "metadata": {},
     "output_type": "execute_result"
    }
   ],
   "source": [
    "#start feature selection\n",
    "corr = train.corr()\n",
    "corr = corr.sort_values('TARGET', ascending = False)\n",
    "\n",
    "# Ten most positive correlations\n",
    "pd.DataFrame(corr['TARGET'].head(10))"
   ]
  },
  {
   "cell_type": "code",
   "execution_count": 36,
   "metadata": {
    "execution": {
     "iopub.execute_input": "2021-10-03T07:50:27.723695Z",
     "iopub.status.busy": "2021-10-03T07:50:27.723478Z",
     "iopub.status.idle": "2021-10-03T07:50:34.249902Z",
     "shell.execute_reply": "2021-10-03T07:50:34.249034Z",
     "shell.execute_reply.started": "2021-10-03T07:50:27.723672Z"
    }
   },
   "outputs": [
    {
     "data": {
      "image/png": "[encoded data removed]",
      "text/plain": [
       "<Figure size 432x288 with 2 Axes>"
      ]
     },
     "metadata": {},
     "output_type": "display_data"
    }
   ],
   "source": [
    "#plotting heatmap for correlation\n",
    "mask = np.triu(np.ones_like(corr, dtype=bool))\n",
    "cmap = sns.diverging_palette(230, 20, as_cmap=True)\n",
    "sns.set(font_scale=0.1)\n",
    "sns.heatmap(corr, mask=mask, cmap=cmap, square=True)\n",
    "plt.show()"
   ]
  },
  {
   "cell_type": "code",
   "execution_count": 37,
   "metadata": {
    "execution": {
     "iopub.execute_input": "2021-10-03T07:50:34.251355Z",
     "iopub.status.busy": "2021-10-03T07:50:34.251146Z",
     "iopub.status.idle": "2021-10-03T07:50:34.274335Z",
     "shell.execute_reply": "2021-10-03T07:50:34.273498Z",
     "shell.execute_reply.started": "2021-10-03T07:50:34.251332Z"
    }
   },
   "outputs": [],
   "source": [
    "# Set the threshold\n",
    "threshold = 0.8\n",
    "\n",
    "# Empty dictionary to hold correlated variables\n",
    "above_threshold_vars = {}\n",
    "\n",
    "# For each column, record the variables that are above the threshold\n",
    "for col in corr:\n",
    "    above_threshold_vars[col] = list(corr.index[corr[col] > threshold])"
   ]
  },
  {
   "cell_type": "code",
   "execution_count": 38,
   "metadata": {
    "execution": {
     "iopub.execute_input": "2021-10-03T07:50:34.275946Z",
     "iopub.status.busy": "2021-10-03T07:50:34.275717Z",
     "iopub.status.idle": "2021-10-03T07:50:34.282030Z",
     "shell.execute_reply": "2021-10-03T07:50:34.281251Z",
     "shell.execute_reply.started": "2021-10-03T07:50:34.275921Z"
    }
   },
   "outputs": [
    {
     "name": "stdout",
     "output_type": "stream",
     "text": [
      "Number of columns to remove:  39\n"
     ]
    }
   ],
   "source": [
    "# Track columns to remove and columns already examined\n",
    "cols_to_remove = []\n",
    "cols_seen = []\n",
    "cols_to_remove_pair = []\n",
    "\n",
    "# Iterate through columns and correlated columns\n",
    "for key, value in above_threshold_vars.items():\n",
    "    # Keep track of columns already examined\n",
    "    cols_seen.append(key)\n",
    "    for x in value:\n",
    "        if x == key:\n",
    "            next\n",
    "        else:\n",
    "            # Only want to remove one in a pair\n",
    "            if x not in cols_seen:\n",
    "                cols_to_remove.append(x)\n",
    "                cols_to_remove_pair.append(key)\n",
    "            \n",
    "cols_to_remove = list(set(cols_to_remove))\n",
    "print('Number of columns to remove: ', len(cols_to_remove))"
   ]
  },
  {
   "cell_type": "code",
   "execution_count": 39,
   "metadata": {
    "execution": {
     "iopub.execute_input": "2021-10-03T07:50:34.283549Z",
     "iopub.status.busy": "2021-10-03T07:50:34.282978Z",
     "iopub.status.idle": "2021-10-03T07:50:34.385971Z",
     "shell.execute_reply": "2021-10-03T07:50:34.385182Z",
     "shell.execute_reply.started": "2021-10-03T07:50:34.283516Z"
    }
   },
   "outputs": [],
   "source": [
    "#dataset after remove high corr var\n",
    "train_corr_removed = train.drop(columns = cols_to_remove)\n",
    "test_corr_removed = application_test.drop(columns = cols_to_remove)"
   ]
  },
  {
   "cell_type": "code",
   "execution_count": 40,
   "metadata": {
    "execution": {
     "iopub.execute_input": "2021-10-03T07:50:34.387288Z",
     "iopub.status.busy": "2021-10-03T07:50:34.387078Z",
     "iopub.status.idle": "2021-10-03T07:52:37.277565Z",
     "shell.execute_reply": "2021-10-03T07:52:37.276936Z",
     "shell.execute_reply.started": "2021-10-03T07:50:34.387266Z"
    }
   },
   "outputs": [
    {
     "name": "stdout",
     "output_type": "stream",
     "text": [
      "finished encoding\n",
      "Training Data Shape:  (307511, 202)\n",
      "Testing Data Shape:  (48744, 202)\n"
     ]
    },
    {
     "name": "stderr",
     "output_type": "stream",
     "text": [
      "/opt/conda/lib/python3.7/site-packages/sklearn/model_selection/_split.py:297: FutureWarning: Setting a random_state has no effect since shuffle is False. This will raise an error in 0.24. You should leave random_state to its default (None), or set shuffle=True.\n",
      "  FutureWarning\n"
     ]
    },
    {
     "name": "stdout",
     "output_type": "stream",
     "text": [
      "start modelling\n",
      "Training until validation scores don't improve for 100 rounds\n",
      "[200]\ttrain's auc: 0.794189\ttrain's binary_logloss: 0.552165\tvalid's auc: 0.75706\tvalid's binary_logloss: 0.565158\n",
      "[400]\ttrain's auc: 0.823256\ttrain's binary_logloss: 0.523883\tvalid's auc: 0.757152\tvalid's binary_logloss: 0.547397\n",
      "Early stopping, best iteration is:\n",
      "[307]\ttrain's auc: 0.810724\ttrain's binary_logloss: 0.536144\tvalid's auc: 0.757533\tvalid's binary_logloss: 0.555092\n",
      "finish fold\n",
      "Training until validation scores don't improve for 100 rounds\n",
      "[200]\ttrain's auc: 0.794814\ttrain's binary_logloss: 0.551788\tvalid's auc: 0.757196\tvalid's binary_logloss: 0.569725\n",
      "Early stopping, best iteration is:\n",
      "[273]\ttrain's auc: 0.806473\ttrain's binary_logloss: 0.540561\tvalid's auc: 0.757443\tvalid's binary_logloss: 0.563151\n",
      "finish fold\n",
      "Training until validation scores don't improve for 100 rounds\n",
      "[200]\ttrain's auc: 0.795987\ttrain's binary_logloss: 0.550226\tvalid's auc: 0.747509\tvalid's binary_logloss: 0.567672\n",
      "Early stopping, best iteration is:\n",
      "[260]\ttrain's auc: 0.805484\ttrain's binary_logloss: 0.540918\tvalid's auc: 0.747786\tvalid's binary_logloss: 0.562104\n",
      "finish fold\n",
      "Training until validation scores don't improve for 100 rounds\n",
      "[200]\ttrain's auc: 0.794297\ttrain's binary_logloss: 0.552267\tvalid's auc: 0.757794\tvalid's binary_logloss: 0.565023\n",
      "Early stopping, best iteration is:\n",
      "[243]\ttrain's auc: 0.801202\ttrain's binary_logloss: 0.545665\tvalid's auc: 0.757984\tvalid's binary_logloss: 0.561002\n",
      "finish fold\n",
      "Training until validation scores don't improve for 100 rounds\n",
      "[200]\ttrain's auc: 0.794318\ttrain's binary_logloss: 0.552085\tvalid's auc: 0.757266\tvalid's binary_logloss: 0.565783\n",
      "Early stopping, best iteration is:\n",
      "[244]\ttrain's auc: 0.801409\ttrain's binary_logloss: 0.545259\tvalid's auc: 0.757724\tvalid's binary_logloss: 0.561632\n",
      "finish fold\n",
      "start prediction\n"
     ]
    }
   ],
   "source": [
    "#remove_cor_ohe_lgd model  #score = 0.74232\n",
    "submission_cor, fi_cor, metrics_cor = model(train_corr_removed, test_corr_removed)\n",
    "submission_cor.to_csv('corr_ohe_lgd.csv', index = False)"
   ]
  },
  {
   "cell_type": "code",
   "execution_count": 41,
   "metadata": {
    "execution": {
     "iopub.execute_input": "2021-10-03T07:52:37.279296Z",
     "iopub.status.busy": "2021-10-03T07:52:37.278590Z",
     "iopub.status.idle": "2021-10-03T07:52:37.550585Z",
     "shell.execute_reply": "2021-10-03T07:52:37.549701Z",
     "shell.execute_reply.started": "2021-10-03T07:52:37.279250Z"
    }
   },
   "outputs": [
    {
     "data": {
      "image/png": "[encoded data removed]",
      "text/plain": [
       "<Figure size 720x432 with 1 Axes>"
      ]
     },
     "metadata": {},
     "output_type": "display_data"
    }
   ],
   "source": [
    "#The top 10 important feature \n",
    "fi_cor_sorted = plot_feature_importances(fi_cor.sort_values(\"importance\",ascending=False).head(20))\n",
    "top_10_features = fi_cor_sorted.head(10)[\"feature\"]\n",
    "\n",
    "#dataset after remove high corr var\n",
    "top_10_features = np.append(top_10_features.values,\"SK_ID_CURR\")\n",
    "test_10_features = test_corr_removed[top_10_features]\n",
    "train_10_features = train_corr_removed[np.append(top_10_features,\"TARGET\")]"
   ]
  },
  {
   "cell_type": "code",
   "execution_count": 42,
   "metadata": {
    "execution": {
     "iopub.execute_input": "2021-10-03T07:52:37.552018Z",
     "iopub.status.busy": "2021-10-03T07:52:37.551769Z",
     "iopub.status.idle": "2021-10-03T07:53:49.090674Z",
     "shell.execute_reply": "2021-10-03T07:53:49.089816Z",
     "shell.execute_reply.started": "2021-10-03T07:52:37.551990Z"
    }
   },
   "outputs": [
    {
     "name": "stdout",
     "output_type": "stream",
     "text": [
      "finished encoding\n",
      "Training Data Shape:  (307511, 10)\n",
      "Testing Data Shape:  (48744, 10)\n",
      "start modelling\n"
     ]
    },
    {
     "name": "stderr",
     "output_type": "stream",
     "text": [
      "/opt/conda/lib/python3.7/site-packages/sklearn/model_selection/_split.py:297: FutureWarning: Setting a random_state has no effect since shuffle is False. This will raise an error in 0.24. You should leave random_state to its default (None), or set shuffle=True.\n",
      "  FutureWarning\n"
     ]
    },
    {
     "name": "stdout",
     "output_type": "stream",
     "text": [
      "Training until validation scores don't improve for 100 rounds\n",
      "[200]\ttrain's auc: 0.776096\ttrain's binary_logloss: 0.568921\tvalid's auc: 0.742108\tvalid's binary_logloss: 0.579161\n",
      "Early stopping, best iteration is:\n",
      "[152]\ttrain's auc: 0.769371\ttrain's binary_logloss: 0.575202\tvalid's auc: 0.74251\tvalid's binary_logloss: 0.582759\n",
      "finish fold\n",
      "Training until validation scores don't improve for 100 rounds\n",
      "[200]\ttrain's auc: 0.77617\ttrain's binary_logloss: 0.569122\tvalid's auc: 0.744329\tvalid's binary_logloss: 0.584267\n",
      "Early stopping, best iteration is:\n",
      "[252]\ttrain's auc: 0.783518\ttrain's binary_logloss: 0.562239\tvalid's auc: 0.744611\tvalid's binary_logloss: 0.580414\n",
      "finish fold\n",
      "Training until validation scores don't improve for 100 rounds\n",
      "[200]\ttrain's auc: 0.777243\ttrain's binary_logloss: 0.567825\tvalid's auc: 0.736145\tvalid's binary_logloss: 0.581074\n",
      "Early stopping, best iteration is:\n",
      "[174]\ttrain's auc: 0.773649\ttrain's binary_logloss: 0.571245\tvalid's auc: 0.736195\tvalid's binary_logloss: 0.583001\n",
      "finish fold\n",
      "Training until validation scores don't improve for 100 rounds\n",
      "[200]\ttrain's auc: 0.775865\ttrain's binary_logloss: 0.56942\tvalid's auc: 0.745999\tvalid's binary_logloss: 0.579222\n",
      "Early stopping, best iteration is:\n",
      "[236]\ttrain's auc: 0.780862\ttrain's binary_logloss: 0.564785\tvalid's auc: 0.746122\tvalid's binary_logloss: 0.57648\n",
      "finish fold\n",
      "Training until validation scores don't improve for 100 rounds\n",
      "[200]\ttrain's auc: 0.775558\ttrain's binary_logloss: 0.569257\tvalid's auc: 0.746607\tvalid's binary_logloss: 0.58043\n",
      "Early stopping, best iteration is:\n",
      "[286]\ttrain's auc: 0.787095\ttrain's binary_logloss: 0.55861\tvalid's auc: 0.747002\tvalid's binary_logloss: 0.574157\n",
      "finish fold\n",
      "start prediction\n"
     ]
    }
   ],
   "source": [
    "#10_features_ohe_lgd model #score = 0.73086\n",
    "submission_10, fi_10, metrics_10 = model(train_10_features, test_10_features)\n",
    "submission_10.to_csv('10_features_ohe_lgd.csv', index = False)"
   ]
  },
  {
   "cell_type": "code",
   "execution_count": 43,
   "metadata": {
    "execution": {
     "iopub.execute_input": "2021-10-03T07:53:49.092395Z",
     "iopub.status.busy": "2021-10-03T07:53:49.092116Z",
     "iopub.status.idle": "2021-10-03T07:53:49.122571Z",
     "shell.execute_reply": "2021-10-03T07:53:49.121749Z",
     "shell.execute_reply.started": "2021-10-03T07:53:49.092358Z"
    }
   },
   "outputs": [],
   "source": [
    "#The top 20 important feature  \n",
    "top_20_features = fi_cor_sorted[\"feature\"]\n",
    "\n",
    "#dataset after remove high corr var\n",
    "top_20_features = np.append(top_20_features.values,\"SK_ID_CURR\")\n",
    "test_20_features = test_corr_removed[top_20_features]\n",
    "train_20_features = train_corr_removed[np.append(top_20_features,\"TARGET\")]"
   ]
  },
  {
   "cell_type": "code",
   "execution_count": 44,
   "metadata": {
    "execution": {
     "iopub.execute_input": "2021-10-03T07:53:49.124110Z",
     "iopub.status.busy": "2021-10-03T07:53:49.123878Z",
     "iopub.status.idle": "2021-10-03T07:55:16.113758Z",
     "shell.execute_reply": "2021-10-03T07:55:16.113062Z",
     "shell.execute_reply.started": "2021-10-03T07:53:49.124084Z"
    }
   },
   "outputs": [
    {
     "name": "stdout",
     "output_type": "stream",
     "text": [
      "finished encoding\n",
      "Training Data Shape:  (307511, 20)\n",
      "Testing Data Shape:  (48744, 20)\n",
      "start modelling\n"
     ]
    },
    {
     "name": "stderr",
     "output_type": "stream",
     "text": [
      "/opt/conda/lib/python3.7/site-packages/sklearn/model_selection/_split.py:297: FutureWarning: Setting a random_state has no effect since shuffle is False. This will raise an error in 0.24. You should leave random_state to its default (None), or set shuffle=True.\n",
      "  FutureWarning\n"
     ]
    },
    {
     "name": "stdout",
     "output_type": "stream",
     "text": [
      "Training until validation scores don't improve for 100 rounds\n",
      "[200]\ttrain's auc: 0.784322\ttrain's binary_logloss: 0.561589\tvalid's auc: 0.74645\tvalid's binary_logloss: 0.574037\n",
      "Early stopping, best iteration is:\n",
      "[166]\ttrain's auc: 0.778768\ttrain's binary_logloss: 0.566852\tvalid's auc: 0.74677\tvalid's binary_logloss: 0.576912\n",
      "finish fold\n",
      "Training until validation scores don't improve for 100 rounds\n",
      "[200]\ttrain's auc: 0.784243\ttrain's binary_logloss: 0.561825\tvalid's auc: 0.748851\tvalid's binary_logloss: 0.578902\n",
      "[400]\ttrain's auc: 0.812816\ttrain's binary_logloss: 0.534828\tvalid's auc: 0.74864\tvalid's binary_logloss: 0.563288\n",
      "Early stopping, best iteration is:\n",
      "[318]\ttrain's auc: 0.802122\ttrain's binary_logloss: 0.54504\tvalid's auc: 0.749004\tvalid's binary_logloss: 0.569353\n",
      "finish fold\n",
      "Training until validation scores don't improve for 100 rounds\n",
      "[200]\ttrain's auc: 0.785701\ttrain's binary_logloss: 0.560257\tvalid's auc: 0.738043\tvalid's binary_logloss: 0.575902\n",
      "Early stopping, best iteration is:\n",
      "[154]\ttrain's auc: 0.778133\ttrain's binary_logloss: 0.56743\tvalid's auc: 0.738501\tvalid's binary_logloss: 0.580045\n",
      "finish fold\n",
      "Training until validation scores don't improve for 100 rounds\n",
      "[200]\ttrain's auc: 0.783812\ttrain's binary_logloss: 0.562239\tvalid's auc: 0.747977\tvalid's binary_logloss: 0.574709\n",
      "Early stopping, best iteration is:\n",
      "[234]\ttrain's auc: 0.789232\ttrain's binary_logloss: 0.55716\tvalid's auc: 0.748251\tvalid's binary_logloss: 0.571646\n",
      "finish fold\n",
      "Training until validation scores don't improve for 100 rounds\n",
      "[200]\ttrain's auc: 0.78405\ttrain's binary_logloss: 0.562005\tvalid's auc: 0.748451\tvalid's binary_logloss: 0.575262\n",
      "[400]\ttrain's auc: 0.812277\ttrain's binary_logloss: 0.535383\tvalid's auc: 0.748456\tvalid's binary_logloss: 0.559351\n",
      "Early stopping, best iteration is:\n",
      "[328]\ttrain's auc: 0.80292\ttrain's binary_logloss: 0.544269\tvalid's auc: 0.749006\tvalid's binary_logloss: 0.56467\n",
      "finish fold\n",
      "start prediction\n"
     ]
    }
   ],
   "source": [
    "#20_features_ohe_lgd model #score = 0.73327\n",
    "submission_20, fi_20, metrics_20 = model(train_20_features, test_20_features)\n",
    "submission_20.to_csv('20_features_ohe_lgd.csv', index = False)"
   ]
  },
  {
   "cell_type": "code",
   "execution_count": 45,
   "metadata": {
    "execution": {
     "iopub.execute_input": "2021-10-03T07:55:16.115244Z",
     "iopub.status.busy": "2021-10-03T07:55:16.114997Z",
     "iopub.status.idle": "2021-10-03T07:56:27.269533Z",
     "shell.execute_reply": "2021-10-03T07:56:27.268845Z",
     "shell.execute_reply.started": "2021-10-03T07:55:16.115217Z"
    }
   },
   "outputs": [
    {
     "name": "stdout",
     "output_type": "stream",
     "text": [
      "finished encoding\n",
      "Training Data Shape:  (307511, 10)\n",
      "Testing Data Shape:  (48744, 10)\n",
      "start modelling\n"
     ]
    },
    {
     "name": "stderr",
     "output_type": "stream",
     "text": [
      "/opt/conda/lib/python3.7/site-packages/sklearn/model_selection/_split.py:297: FutureWarning: Setting a random_state has no effect since shuffle is False. This will raise an error in 0.24. You should leave random_state to its default (None), or set shuffle=True.\n",
      "  FutureWarning\n"
     ]
    },
    {
     "name": "stdout",
     "output_type": "stream",
     "text": [
      "Training until validation scores don't improve for 100 rounds\n",
      "[200]\ttrain's auc: 0.776096\ttrain's binary_logloss: 0.568921\tvalid's auc: 0.742108\tvalid's binary_logloss: 0.579161\n",
      "Early stopping, best iteration is:\n",
      "[152]\ttrain's auc: 0.769371\ttrain's binary_logloss: 0.575202\tvalid's auc: 0.74251\tvalid's binary_logloss: 0.582759\n",
      "finish fold\n",
      "Training until validation scores don't improve for 100 rounds\n",
      "[200]\ttrain's auc: 0.77617\ttrain's binary_logloss: 0.569122\tvalid's auc: 0.744329\tvalid's binary_logloss: 0.584267\n",
      "Early stopping, best iteration is:\n",
      "[252]\ttrain's auc: 0.783518\ttrain's binary_logloss: 0.562239\tvalid's auc: 0.744611\tvalid's binary_logloss: 0.580414\n",
      "finish fold\n",
      "Training until validation scores don't improve for 100 rounds\n",
      "[200]\ttrain's auc: 0.777243\ttrain's binary_logloss: 0.567825\tvalid's auc: 0.736145\tvalid's binary_logloss: 0.581074\n",
      "Early stopping, best iteration is:\n",
      "[174]\ttrain's auc: 0.773649\ttrain's binary_logloss: 0.571245\tvalid's auc: 0.736195\tvalid's binary_logloss: 0.583001\n",
      "finish fold\n",
      "Training until validation scores don't improve for 100 rounds\n",
      "[200]\ttrain's auc: 0.775865\ttrain's binary_logloss: 0.56942\tvalid's auc: 0.745999\tvalid's binary_logloss: 0.579222\n",
      "Early stopping, best iteration is:\n",
      "[236]\ttrain's auc: 0.780862\ttrain's binary_logloss: 0.564785\tvalid's auc: 0.746122\tvalid's binary_logloss: 0.57648\n",
      "finish fold\n",
      "Training until validation scores don't improve for 100 rounds\n",
      "[200]\ttrain's auc: 0.775558\ttrain's binary_logloss: 0.569257\tvalid's auc: 0.746607\tvalid's binary_logloss: 0.58043\n",
      "Early stopping, best iteration is:\n",
      "[286]\ttrain's auc: 0.787095\ttrain's binary_logloss: 0.55861\tvalid's auc: 0.747002\tvalid's binary_logloss: 0.574157\n",
      "finish fold\n",
      "start prediction\n"
     ]
    }
   ],
   "source": [
    "#The top 10 important feature in application train\n",
    "top_10_features = fi_cor_sorted.head(10)[\"feature\"]\n",
    "\n",
    "#dataset after remove high corr var\n",
    "top_10_features = np.append(top_10_features.values,\"SK_ID_CURR\")\n",
    "test_10_features = application_test[top_10_features]\n",
    "train_10_features = application_train[np.append(top_10_features,\"TARGET\")]\n",
    "\n",
    "#10_app_features_ohe_lgd model #score = \n",
    "submission_10, fi_10, metrics_10 = model(train_10_features, test_10_features)\n",
    "submission_10.to_csv('10_app_features_ohe_lgd.csv', index = False)"
   ]
  },
  {
   "cell_type": "code",
   "execution_count": 46,
   "metadata": {
    "execution": {
     "iopub.execute_input": "2021-10-03T07:56:27.271622Z",
     "iopub.status.busy": "2021-10-03T07:56:27.271026Z",
     "iopub.status.idle": "2021-10-03T07:57:54.189302Z",
     "shell.execute_reply": "2021-10-03T07:57:54.188512Z",
     "shell.execute_reply.started": "2021-10-03T07:56:27.271576Z"
    }
   },
   "outputs": [
    {
     "name": "stdout",
     "output_type": "stream",
     "text": [
      "finished encoding\n",
      "Training Data Shape:  (307511, 20)\n",
      "Testing Data Shape:  (48744, 20)\n",
      "start modelling\n"
     ]
    },
    {
     "name": "stderr",
     "output_type": "stream",
     "text": [
      "/opt/conda/lib/python3.7/site-packages/sklearn/model_selection/_split.py:297: FutureWarning: Setting a random_state has no effect since shuffle is False. This will raise an error in 0.24. You should leave random_state to its default (None), or set shuffle=True.\n",
      "  FutureWarning\n"
     ]
    },
    {
     "name": "stdout",
     "output_type": "stream",
     "text": [
      "Training until validation scores don't improve for 100 rounds\n",
      "[200]\ttrain's auc: 0.784322\ttrain's binary_logloss: 0.561589\tvalid's auc: 0.74645\tvalid's binary_logloss: 0.574037\n",
      "Early stopping, best iteration is:\n",
      "[166]\ttrain's auc: 0.778768\ttrain's binary_logloss: 0.566852\tvalid's auc: 0.74677\tvalid's binary_logloss: 0.576912\n",
      "finish fold\n",
      "Training until validation scores don't improve for 100 rounds\n",
      "[200]\ttrain's auc: 0.784243\ttrain's binary_logloss: 0.561825\tvalid's auc: 0.748851\tvalid's binary_logloss: 0.578902\n",
      "[400]\ttrain's auc: 0.812816\ttrain's binary_logloss: 0.534828\tvalid's auc: 0.74864\tvalid's binary_logloss: 0.563288\n",
      "Early stopping, best iteration is:\n",
      "[318]\ttrain's auc: 0.802122\ttrain's binary_logloss: 0.54504\tvalid's auc: 0.749004\tvalid's binary_logloss: 0.569353\n",
      "finish fold\n",
      "Training until validation scores don't improve for 100 rounds\n",
      "[200]\ttrain's auc: 0.785701\ttrain's binary_logloss: 0.560257\tvalid's auc: 0.738043\tvalid's binary_logloss: 0.575902\n",
      "Early stopping, best iteration is:\n",
      "[154]\ttrain's auc: 0.778133\ttrain's binary_logloss: 0.56743\tvalid's auc: 0.738501\tvalid's binary_logloss: 0.580045\n",
      "finish fold\n",
      "Training until validation scores don't improve for 100 rounds\n",
      "[200]\ttrain's auc: 0.783812\ttrain's binary_logloss: 0.562239\tvalid's auc: 0.747977\tvalid's binary_logloss: 0.574709\n",
      "Early stopping, best iteration is:\n",
      "[234]\ttrain's auc: 0.789232\ttrain's binary_logloss: 0.55716\tvalid's auc: 0.748251\tvalid's binary_logloss: 0.571646\n",
      "finish fold\n",
      "Training until validation scores don't improve for 100 rounds\n",
      "[200]\ttrain's auc: 0.78405\ttrain's binary_logloss: 0.562005\tvalid's auc: 0.748451\tvalid's binary_logloss: 0.575262\n",
      "[400]\ttrain's auc: 0.812277\ttrain's binary_logloss: 0.535383\tvalid's auc: 0.748456\tvalid's binary_logloss: 0.559351\n",
      "Early stopping, best iteration is:\n",
      "[328]\ttrain's auc: 0.80292\ttrain's binary_logloss: 0.544269\tvalid's auc: 0.749006\tvalid's binary_logloss: 0.56467\n",
      "finish fold\n",
      "start prediction\n"
     ]
    }
   ],
   "source": [
    "#The top 20 important feature \n",
    "top_20_features = fi_cor_sorted[\"feature\"]\n",
    "\n",
    "#dataset after remove high corr var\n",
    "top_20_features = np.append(top_20_features.values,\"SK_ID_CURR\")\n",
    "test_20_features = application_test[top_20_features]\n",
    "train_20_features = application_train[np.append(top_20_features,\"TARGET\")]\n",
    "\n",
    "#20_features_ohe_lgd model in application train #score = \n",
    "submission_20, fi_20, metrics_20 = model(train_20_features, test_20_features)\n",
    "submission_20.to_csv('20_app_features_ohe_lgd.csv', index = False)"
   ]
  },
  {
   "cell_type": "code",
   "execution_count": null,
   "metadata": {},
   "outputs": [],
   "source": []
  },
  {
   "cell_type": "code",
   "execution_count": null,
   "metadata": {},
   "outputs": [],
   "source": []
  }
 ],
 "metadata": {
  "kernelspec": {
   "display_name": "Python 3",
   "language": "python",
   "name": "python3"
  },
  "language_info": {
   "codemirror_mode": {
    "name": "ipython",
    "version": 3
   },
   "file_extension": ".py",
   "mimetype": "text/x-python",
   "name": "python",
   "nbconvert_exporter": "python",
   "pygments_lexer": "ipython3",
   "version": "3.8.8"
  }
 },
 "nbformat": 4,
 "nbformat_minor": 4
}
