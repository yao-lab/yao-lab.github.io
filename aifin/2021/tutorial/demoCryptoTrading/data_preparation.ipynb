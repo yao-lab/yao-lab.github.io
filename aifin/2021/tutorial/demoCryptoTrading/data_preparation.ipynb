{
 "cells": [
  {
   "cell_type": "code",
   "execution_count": 1,
   "metadata": {},
   "outputs": [],
   "source": [
    "from datetime import *\n",
    "import pandas as pd\n",
    "import glob\n",
    "import warnings\n",
    "import os\n",
    "from os.path import *\n",
    "from datetime import datetime"
   ]
  },
  {
   "cell_type": "code",
   "execution_count": 2,
   "metadata": {},
   "outputs": [],
   "source": [
    "warnings.filterwarnings('ignore')"
   ]
  },
  {
   "cell_type": "code",
   "execution_count": 3,
   "metadata": {},
   "outputs": [],
   "source": [
    "data_path = '/Users/kakusou/Desktop/Crypto/data/'\n",
    "\n",
    "# for file in os.listdir(data_path):\n",
    "#     if file=='.DS_Store': continue\n",
    "#     df = pd.read_csv(join(data_path, file))\n",
    "#     # translate time\n",
    "#     df['time'] = pd.to_datetime(df['Open time']/1000, unit='s')\n",
    "#     df = df[['time','Open', 'High', 'Low', 'Close', 'Volume']]\n",
    "#     df = df.sort_values(by='time')\n",
    "#     df = df.reset_index(drop=True)\n",
    "#     # save\n",
    "#     df.to_csv(join(data_path, \"1_\"+file),index=False)"
   ]
  },
  {
   "cell_type": "markdown",
   "metadata": {},
   "source": [
    "# csv -> Format 1"
   ]
  },
  {
   "cell_type": "code",
   "execution_count": 4,
   "metadata": {},
   "outputs": [],
   "source": [
    "# train\n",
    "train_start_time = \"2019-01-31 16:00:00\"\n",
    "train_end_time = \"2021-04-19 00:00:00\"\n",
    "# backtest\n",
    "backtest_start_time = \"2021-04-19 00:00:00\"\n",
    "backtest_end_time = \"2021-05-03 00:00:00\""
   ]
  },
  {
   "cell_type": "code",
   "execution_count": 5,
   "metadata": {},
   "outputs": [],
   "source": [
    "train_format1_path = join(data_path, 'train_data_format1_week_final.h5')\n",
    "train_format2_path = join(data_path, 'train_data_format2_week_final.h5')\n",
    "backtest_format1_path = join(data_path, 'backtest_data_format1_week_final.h5')\n",
    "backtest_format2_path = join(data_path, 'backtest_data_format2_week_final.h5')"
   ]
  },
  {
   "cell_type": "code",
   "execution_count": 6,
   "metadata": {},
   "outputs": [],
   "source": [
    "train_h5data = pd.HDFStore(train_format1_path)\n",
    "backtest_h5data = pd.HDFStore(backtest_format1_path)"
   ]
  },
  {
   "cell_type": "code",
   "execution_count": 7,
   "metadata": {},
   "outputs": [
    {
     "data": {
      "text/plain": [
       "['LTCUSDT_1m_20190201_20210503.csv',\n",
       " 'XRPUSDT_1m_20190201_20210503.csv',\n",
       " 'BTCUSDT_1m_20190201_20210503.csv',\n",
       " 'ETHUSDT_1m_20190201_20210503.csv']"
      ]
     },
     "execution_count": 7,
     "metadata": {},
     "output_type": "execute_result"
    }
   ],
   "source": [
    "from os import listdir\n",
    "from os.path import isfile, join\n",
    "file_list = [f for f in listdir(data_path) if isfile(join(data_path, f)) and '.csv' in f] \n",
    "file_list"
   ]
  },
  {
   "cell_type": "code",
   "execution_count": 8,
   "metadata": {},
   "outputs": [
    {
     "name": "stdout",
     "output_type": "stream",
     "text": [
      "LTCUSDT.csv\n",
      "XRPUSDT.csv\n",
      "BTCUSDT.csv\n",
      "ETHUSDT.csv\n"
     ]
    }
   ],
   "source": [
    "for file in file_list:\n",
    "    symbol = file.split(sep=\"_\")[0]+'.csv'\n",
    "    df = pd.read_csv(data_path + file, parse_dates=[\"time\"])\n",
    "    train_df = df[(df.time >= train_start_time) & (df.time < train_end_time)]\n",
    "    backtest_df = df[(df.time >= backtest_start_time) & (df.time < backtest_end_time)]\n",
    "    train_df.set_index(keys=\"time\", drop=True, inplace=True)\n",
    "    backtest_df.set_index(keys=\"time\", drop=True, inplace=True)\n",
    "    train_h5data[symbol] = train_df\n",
    "    backtest_h5data[symbol] = backtest_df\n",
    "    print(symbol)"
   ]
  },
  {
   "cell_type": "code",
   "execution_count": 9,
   "metadata": {},
   "outputs": [],
   "source": [
    "train_h5data.close()\n",
    "backtest_h5data.close()"
   ]
  },
  {
   "cell_type": "markdown",
   "metadata": {},
   "source": [
    "# Format 1 -> Format 2"
   ]
  },
  {
   "cell_type": "code",
   "execution_count": 10,
   "metadata": {},
   "outputs": [],
   "source": [
    "import h5py"
   ]
  },
  {
   "cell_type": "code",
   "execution_count": 11,
   "metadata": {},
   "outputs": [],
   "source": [
    "def read_h5(path, dtype='dataframe'):\n",
    "    assert dtype in ['dataframe', 'nparray'], \"You didn't get the right dtype\"\n",
    "    dataList = list()\n",
    "    keys = list()\n",
    "    \n",
    "    f = h5py.File(path, 'r')\n",
    "    for key in f.keys():\n",
    "        keys.append(key)\n",
    "    f.close()\n",
    "    \n",
    "    for key in keys:\n",
    "        if dtype=='dataframe':\n",
    "            dataList.append(pd.read_hdf(path, key))\n",
    "        else:\n",
    "            dataList.append(pd.read_hdf(path, key).values)\n",
    "                        \n",
    "    return dataList, keys"
   ]
  },
  {
   "cell_type": "code",
   "execution_count": 12,
   "metadata": {},
   "outputs": [],
   "source": [
    "from tqdm import tqdm\n",
    "def convert_format(format1_path, format2_path):\n",
    "    (l, keys) = read_h5(format1_path)\n",
    "    index = l[0].index.unique()\n",
    "    h5f = h5py.File(format2_path, 'w')\n",
    "    for i in tqdm(index):\n",
    "        min_data = l[0].loc[[i]]\n",
    "        for j in range(1, len(l)):\n",
    "            min_data = min_data.append(l[j].loc[[i]])\n",
    "        h5f.create_dataset(str(i), data=min_data.values)\n",
    "    h5f.close()"
   ]
  },
  {
   "cell_type": "code",
   "execution_count": 13,
   "metadata": {},
   "outputs": [
    {
     "name": "stderr",
     "output_type": "stream",
     "text": [
      "100%|██████████| 19566/19566 [01:00<00:00, 322.20it/s]\n"
     ]
    }
   ],
   "source": [
    "convert_format(backtest_format1_path, backtest_format2_path)"
   ]
  },
  {
   "cell_type": "code",
   "execution_count": null,
   "metadata": {},
   "outputs": [],
   "source": []
  }
 ],
 "metadata": {
  "kernelspec": {
   "display_name": "Python 3",
   "language": "python",
   "name": "python3"
  },
  "language_info": {
   "codemirror_mode": {
    "name": "ipython",
    "version": 3
   },
   "file_extension": ".py",
   "mimetype": "text/x-python",
   "name": "python",
   "nbconvert_exporter": "python",
   "pygments_lexer": "ipython3",
   "version": "3.7.3"
  }
 },
 "nbformat": 4,
 "nbformat_minor": 2
}
