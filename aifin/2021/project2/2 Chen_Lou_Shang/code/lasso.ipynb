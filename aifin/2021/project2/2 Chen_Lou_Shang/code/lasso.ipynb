{
 "cells": [
  {
   "cell_type": "code",
   "execution_count": 1,
   "metadata": {
    "execution": {
     "iopub.execute_input": "2021-11-14T01:15:41.187614Z",
     "iopub.status.busy": "2021-11-14T01:15:41.187265Z",
     "iopub.status.idle": "2021-11-14T01:15:43.124328Z",
     "shell.execute_reply": "2021-11-14T01:15:43.123169Z",
     "shell.execute_reply.started": "2021-11-14T01:15:41.187522Z"
    }
   },
   "outputs": [],
   "source": [
    "import string\n",
    "import os\n",
    "import pandas as pd\n",
    "import datetime\n",
    "import numpy as np\n",
    "import statsmodels.api as sm\n",
    "import math\n",
    "from scipy.linalg import svd\n",
    "#import Functions as Fun\n",
    "import scipy.linalg as la\n",
    "import scipy.sparse.linalg as sla"
   ]
  },
  {
   "cell_type": "code",
   "execution_count": null,
   "metadata": {
    "execution": {
     "iopub.execute_input": "2021-11-13T02:35:45.046597Z",
     "iopub.status.busy": "2021-11-13T02:35:45.046066Z",
     "iopub.status.idle": "2021-11-13T02:35:45.05059Z",
     "shell.execute_reply": "2021-11-13T02:35:45.04962Z",
     "shell.execute_reply.started": "2021-11-13T02:35:45.046561Z"
    }
   },
   "outputs": [],
   "source": [
    "import warnings\n",
    "warnings.filterwarnings('ignore')\n",
    "warnings.simplefilter('ignore')"
   ]
  },
  {
   "cell_type": "code",
   "execution_count": null,
   "metadata": {
    "execution": {
     "iopub.execute_input": "2021-11-13T02:35:46.997393Z",
     "iopub.status.busy": "2021-11-13T02:35:46.997088Z",
     "iopub.status.idle": "2021-11-13T02:35:47.001869Z",
     "shell.execute_reply": "2021-11-13T02:35:47.001003Z",
     "shell.execute_reply.started": "2021-11-13T02:35:46.99736Z"
    }
   },
   "outputs": [],
   "source": [
    "###Some parameters\n",
    "mu=0.2;\n",
    "tol=1e-10;\n"
   ]
  },
  {
   "cell_type": "code",
   "execution_count": null,
   "metadata": {
    "execution": {
     "iopub.execute_input": "2021-11-13T02:35:49.503377Z",
     "iopub.status.busy": "2021-11-13T02:35:49.502728Z",
     "iopub.status.idle": "2021-11-13T02:35:51.71315Z",
     "shell.execute_reply": "2021-11-13T02:35:51.712453Z",
     "shell.execute_reply.started": "2021-11-13T02:35:49.503338Z"
    }
   },
   "outputs": [],
   "source": [
    "X_all = pd.read_csv('../input/project2/X_cleaned.csv')\n",
    "Y_all = pd.read_csv('../input/project2/Y_cleaned.csv')\n",
    "Date_index = pd.read_csv('../input/project2/Date_list.csv')\n",
    "Date_index['DATE']=pd.to_datetime(Date_index['DATE'])"
   ]
  },
  {
   "cell_type": "code",
   "execution_count": null,
   "metadata": {
    "execution": {
     "iopub.execute_input": "2021-11-13T02:36:20.343448Z",
     "iopub.status.busy": "2021-11-13T02:36:20.342845Z",
     "iopub.status.idle": "2021-11-13T02:36:20.353896Z",
     "shell.execute_reply": "2021-11-13T02:36:20.35332Z",
     "shell.execute_reply.started": "2021-11-13T02:36:20.343396Z"
    }
   },
   "outputs": [],
   "source": [
    "####for training\n",
    "nums= 30\n",
    "start_dates = [pd.to_datetime('1957-03-01')+pd.offsets.DateOffset(years=x) for x in range(nums) ]"
   ]
  },
  {
   "cell_type": "code",
   "execution_count": null,
   "metadata": {
    "execution": {
     "iopub.execute_input": "2021-11-13T02:36:23.132731Z",
     "iopub.status.busy": "2021-11-13T02:36:23.131961Z",
     "iopub.status.idle": "2021-11-13T02:36:23.137073Z",
     "shell.execute_reply": "2021-11-13T02:36:23.136324Z",
     "shell.execute_reply.started": "2021-11-13T02:36:23.13268Z"
    }
   },
   "outputs": [],
   "source": [
    "from sklearn.linear_model import Lasso"
   ]
  },
  {
   "cell_type": "code",
   "execution_count": null,
   "metadata": {
    "execution": {
     "iopub.execute_input": "2021-11-13T02:47:53.292803Z",
     "iopub.status.busy": "2021-11-13T02:47:53.292376Z",
     "iopub.status.idle": "2021-11-13T02:47:53.303272Z",
     "shell.execute_reply": "2021-11-13T02:47:53.302549Z",
     "shell.execute_reply.started": "2021-11-13T02:47:53.292761Z"
    }
   },
   "outputs": [],
   "source": [
    "####f_gradh\n",
    "def f_gradh(w,X,y,mu):\n",
    "    r = np.matmul(X,w)-y['RET']\n",
    "    ind0 = np.where(abs(r)<= mu)\n",
    "    ind0 = pd.Series(np.asarray(ind0)[0])\n",
    "    ind1 = np.where(r>mu)\n",
    "    ind1 = pd.Series(np.asarray(ind1)[0])\n",
    "\n",
    "    indf1 = np.where(r< (-mu))\n",
    "    indf1 = pd.Series(np.array(indf1)[0])\n",
    "    grad = np.matmul(np.transpose(X.iloc[ind0,:]),(np.matmul(X.iloc[ind0,:],w)-y.iloc[ind0,0]))+np.matmul(np.transpose(mu*X.iloc[ind1,:]),np.ones(len(ind1)))-np.matmul(np.transpose(mu*X.iloc[indf1,:]),np.ones(len(indf1)))\n",
    "    return grad"
   ]
  },
  {
   "cell_type": "code",
   "execution_count": null,
   "metadata": {
    "execution": {
     "iopub.execute_input": "2021-11-13T02:38:43.997397Z",
     "iopub.status.busy": "2021-11-13T02:38:43.996486Z",
     "iopub.status.idle": "2021-11-13T02:38:44.007043Z",
     "shell.execute_reply": "2021-11-13T02:38:44.006328Z",
     "shell.execute_reply.started": "2021-11-13T02:38:43.997363Z"
    }
   },
   "outputs": [],
   "source": [
    "### proximal_l   only for lasso\n",
    "\n",
    "def proximalH_l(groups,nc,xtest,mtrain,ytest,w,X,y,mu,tol,L,l2,func):\n",
    "    w= np.asarray(w[0])\n",
    "    dim = X.shape[0]\n",
    "    max_iter = 3000\n",
    "    gamma= 1/L\n",
    "    l1 = l2\n",
    "\n",
    "    v= w\n",
    "    yhatbig1=np.matmul(xtest,w) + mtrain.values\n",
    "    r20=lossh(yhatbig1,ytest,mu)\n",
    "    for t in range(max_iter):\n",
    "        vold=v\n",
    "        w_perv=w\n",
    "        w= np.asarray(v-(gamma*f_gradh(v,X,y,mu)))\n",
    "        mu1=l1*gamma\n",
    "        w=func(groups,nc,w,mu1)\n",
    "        w = np.asarray([float(w1) for w1 in w])\n",
    "        v=w + t/(t+3)*(w-w_perv)\n",
    "        if ((np.linalg.norm(v-vold)**2) < ((np.linalg.norm(vold)**2)*tol) or np.sum(abs(v-vold))==0):\n",
    "            break\n",
    "    return v"
   ]
  },
  {
   "cell_type": "code",
   "execution_count": null,
   "metadata": {
    "execution": {
     "iopub.execute_input": "2021-11-13T02:39:48.95282Z",
     "iopub.status.busy": "2021-11-13T02:39:48.950915Z",
     "iopub.status.idle": "2021-11-13T02:39:48.958568Z",
     "shell.execute_reply": "2021-11-13T02:39:48.957883Z",
     "shell.execute_reply.started": "2021-11-13T02:39:48.952774Z"
    }
   },
   "outputs": [],
   "source": [
    "###soft_threshodl\n",
    "\n",
    "def soft_threshodl(groups,nc,w,mu):\n",
    "    val =[float(np.sign(w1)*np.max(np.abs(w1)-mu,0)) for w1 in w]\n",
    "    return np.array(val).reshape((len(val),1))"
   ]
  },
  {
   "cell_type": "code",
   "execution_count": null,
   "metadata": {
    "execution": {
     "iopub.execute_input": "2021-11-13T02:41:41.37086Z",
     "iopub.status.busy": "2021-11-13T02:41:41.370579Z",
     "iopub.status.idle": "2021-11-13T02:41:41.377175Z",
     "shell.execute_reply": "2021-11-13T02:41:41.376529Z",
     "shell.execute_reply.started": "2021-11-13T02:41:41.370831Z"
    }
   },
   "outputs": [],
   "source": [
    "####lossh\n",
    "def lossh(y,yhat,mu):\n",
    "    r= abs(yhat['RET']-y)\n",
    "    l= np.zeros(len(r))\n",
    "    ind = (r>mu)\n",
    "    l[ind] = 2*mu*r[ind]-mu*mu\n",
    "    ind = (r<= mu)\n",
    "    l[ind]  = r[ind]*r[ind]\n",
    "    return np.mean(l)"
   ]
  },
  {
   "cell_type": "code",
   "execution_count": null,
   "metadata": {
    "execution": {
     "iopub.execute_input": "2021-11-13T02:48:57.126486Z",
     "iopub.status.busy": "2021-11-13T02:48:57.126198Z",
     "iopub.status.idle": "2021-11-13T04:27:25.719646Z",
     "shell.execute_reply": "2021-11-13T04:27:25.718727Z",
     "shell.execute_reply.started": "2021-11-13T02:48:57.126458Z"
    }
   },
   "outputs": [],
   "source": [
    "for m in range(len(start_dates)):\n",
    "\n",
    "    start_date = start_dates[m]\n",
    "\n",
    "    end_date =  start_date + pd.offsets.DateOffset(years=18)\n",
    "\n",
    "    ind_training = (start_date < Date_index['DATE']) & (Date_index['DATE'] < end_date)\n",
    "\n",
    "    ytrain = Y_all[ind_training]\n",
    "\n",
    "    xtrain = X_all[ind_training]\n",
    "\n",
    "    ####for validation\n",
    "\n",
    "    start_date =  end_date\n",
    "    end_date = start_date + pd.offsets.DateOffset(years=12)\n",
    "\n",
    "    ind_vali = (start_date < Date_index['DATE']) & (Date_index['DATE'] < end_date)\n",
    "\n",
    "    ytest = Y_all[ind_vali]\n",
    "    xtest= X_all[ind_vali]\n",
    "\n",
    "    #####for test  oos\n",
    "\n",
    "    start_date =  end_date\n",
    "    end_date = start_date + pd.offsets.DateOffset(years=1)\n",
    "    ind_test = (start_date < Date_index['DATE']) & (Date_index['DATE'] < end_date)\n",
    "    #print(type(ind_test))\n",
    "    yoos = Y_all[ind_test]\n",
    "    xoos= X_all[ind_test]\n",
    "\n",
    "    #######Monthly Demean %%%\n",
    "    ytrain_demean= ytrain - np.mean(ytrain);\n",
    "    ytest_demean=ytest-np.mean(ytest);\n",
    "    mtrain=np.mean(ytrain);\n",
    "    mtest=np.mean(ytest);\n",
    "\n",
    "    sd=np.zeros(len(xtrain.columns)) #dim of sd? sd for each characteristics\n",
    "    for i in range(len(xtrain.columns)):\n",
    "        s=np.std(xtrain.iloc[:,[i]])\n",
    "        colnames = xtrain.columns\n",
    "        if s.values > 0:\n",
    "            colname = colnames[i]\n",
    "            xtrain.loc[:,colname]=xtrain[colname]/s.values\n",
    "            xtest.loc[:,colname]=xtest.loc[:,colname]/s.values\n",
    "            xoos.loc[:,colname]=xoos.loc[:,colname]/s.values\n",
    "            sd[i]=s.values\n",
    "    XX =np.matmul(np.transpose(xtrain),xtrain)\n",
    "    U,S,V=svd(XX)\n",
    "    #### singular value decomposition such that XX=U*S*V'\n",
    "    L=S[0]\n",
    "    ###disp 'Lasso L = '\n",
    "    ####disp(L)\n",
    "    Y=ytrain_demean;\n",
    "    XY= np.matmul(np.transpose(xtrain),Y)\n",
    "    groups=0\n",
    "    nc=0\n",
    "            \n",
    "    #### Start to Train %%%\n",
    "   \n",
    "    lamv=np.arange(-2,4,0.1)\n",
    "    alpha=1\n",
    "    r=np.zeros((3,len(lamv)))\n",
    "    y_ret=ytest['RET'].reset_index(drop=True)\n",
    "    y_ret1=ytrain['RET'].reset_index(drop=True)\n",
    "    y_ret2=yoos['RET'].reset_index(drop=True)\n",
    "\n",
    "\n",
    "    for j in range(len(lamv)):\n",
    "        l2=10**lamv[j]\n",
    "        lasso = Lasso(alpha=l2)\n",
    "        yhatres= lasso.fit(xtrain,ytrain_demean)\n",
    "        yhatbig1= yhatres.predict(xtest)+ mtrain.values\n",
    "        yhatbig1=pd.Series(yhatbig1.flatten())\n",
    "        #prediction for oos\n",
    "        r[0,j]=1-sum((yhatbig1-y_ret)**2)/sum((y_ret-mtrain.values)**2) # oos r2\n",
    "        yhatbig1=yhatres.predict(xtrain) + mtrain.values\n",
    "        yhatbig1=pd.Series(yhatbig1.flatten())\n",
    "        r[1,j]=1-(yhatbig1-y_ret1).pow(2).sum()/sum(pow(y_ret1-mtrain.values,2))\n",
    "        yhatbig1=yhatres.predict(xoos) + mtrain.values\n",
    "        yhatbig1=pd.Series(yhatbig1.flatten())\n",
    "        r[2,j]=1-(yhatbig1-y_ret2).pow(2).sum()/sum(pow(y_ret1-mtrain.values,2))\n",
    "        \n",
    "\n",
    "\n",
    "    r2_oos=r[2,np.argmax(r[0,:])]\n",
    "    r2_is=r[1,np.argmax(r[0,:])]\n",
    "    l2=10**lamv[np.argmax(r[0,:])]\n",
    "    lasso = Lasso(alpha=l2)\n",
    "    yhatres= lasso.fit(xtrain,ytrain_demean)\n",
    "    b=pd.DataFrame(yhatres.coef_)\n",
    "\n",
    "    print('LASSO R2 : '+np.str0(r2_oos))\n",
    "    print('LASSO R2_is : '+np.str0(r2_is))\n",
    "    \n",
    "    b=proximalH_l(groups,nc,xtest,mtrain,ytest,b,xtrain,ytrain_demean,mu,tol,L,l2,soft_threshodl)\n",
    "    yhatbig1 = np.matmul(xoos,b)+mtrain.values\n",
    "    r2_oos=1- np.linalg.norm(yhatbig1-yoos['RET'])**2 / np.linalg.norm((yoos['RET']-mtrain.values))**2\n",
    "    yhatbig1 = np.matmul(xtrain,b) + mtrain.values\n",
    "    r2_is = 1 - np.linalg.norm(yhatbig1-ytrain['RET'])**2 / np.linalg.norm((ytrain['RET']-mtrain.values))**2\n",
    "    b=pd.DataFrame(b)\n",
    "    print('LASSO+H R2 : '+np.str0(r2_oos) )"
   ]
  },
  {
   "cell_type": "markdown",
   "metadata": {},
   "source": [
    "<!--\n",
    "LASSO R2 : 0.5618758011505414\n",
    "LASSO R2_is : -2.220446049250313e-15\n",
    "LASSO+H R2 : -13231.55186630835\n",
    "LASSO R2 : 0.791334380349793\n",
    "LASSO R2_is : -8.215650382226158e-15\n",
    "LASSO+H R2 : -113.37696994403363\n",
    "LASSO R2 : 0.8135787276602633\n",
    "LASSO R2_is : -1.1546319456101628e-14\n",
    "LASSO+H R2 : -91.19932662279655\n",
    "LASSO R2 : 0.6712708722341254\n",
    "LASSO R2_is : -3.774758283725532e-15\n",
    "LASSO+H R2 : -15.808291531700895\n",
    "LASSO R2 : 0.6175672682393455\n",
    "LASSO R2_is : -1.532107773982716e-14\n",
    "LASSO+H R2 : -21.61501816034154\n",
    "LASSO R2 : 0.8836687807482796\n",
    "LASSO R2_is : -4.440892098500626e-15\n",
    "LASSO+H R2 : -18.26452482482396\n",
    "LASSO R2 : 0.8816018788115152\n",
    "LASSO R2_is : 1.2878587085651816e-14\n",
    "LASSO+H R2 : -25.858466116550805\n",
    "LASSO R2 : 0.8764023940613506\n",
    "LASSO R2_is : 6.994405055138486e-15\n",
    "LASSO+H R2 : -5.364301724927666\n",
    "LASSO R2 : 0.8988952383748445\n",
    "LASSO R2_is : 4.9960036108132044e-15\n",
    "LASSO+H R2 : -363.6111906558954\n",
    "LASSO R2 : 0.899925812234136\n",
    "LASSO R2_is : -1.509903313490213e-14\n",
    "LASSO+H R2 : -1017.5354692534502\n",
    "LASSO R2 : 0.865727115062263\n",
    "LASSO R2_is : -1.9761969838327786e-14\n",
    "LASSO+H R2 : -850.4572946395298\n",
    "LASSO R2 : 0.7540483035933313\n",
    "LASSO R2_is : -7.549516567451064e-15\n",
    "LASSO+H R2 : -336.8435648490142\n",
    "LASSO R2 : 0.7127222900468251\n",
    "LASSO R2_is : 1.2323475573339238e-14\n",
    "LASSO+H R2 : -33.337338998110056\n",
    "LASSO R2 : 0.7481107564855115\n",
    "LASSO R2_is : 2.7755575615628914e-14\n",
    "LASSO+H R2 : -1.600554753481911\n",
    "LASSO R2 : 0.8404789635637873\n",
    "LASSO R2_is : 1.609823385706477e-14\n",
    "LASSO+H R2 : -0.755792227907494\n",
    "LASSO R2 : 0.8826133198528734\n",
    "LASSO R2_is : 1.8762769116165146e-14\n",
    "LASSO+H R2 : -0.21801419827355994\n",
    "LASSO R2 : 0.9268850337157866\n",
    "LASSO R2_is : 1.942890293094024e-14\n",
    "LASSO+H R2 : -0.30450809678394086\n",
    "LASSO R2 : 0.9707383241426257\n",
    "LASSO R2_is : 5.995204332975845e-15\n",
    "LASSO+H R2 : -0.3218146800467754\n",
    "LASSO R2 : 0.9668265383494759\n",
    "LASSO R2_is : 2.0872192862952943e-14\n",
    "LASSO+H R2 : -0.1213886217808704\n",
    "LASSO R2 : 0.9669078058373662\n",
    "LASSO R2_is : -2.4424906541753444e-14\n",
    "LASSO+H R2 : -0.05936537507378947\n",
    "LASSO R2 : 0.9677117757903464\n",
    "LASSO R2_is : 4.1300296516055823e-14\n",
    "LASSO+H R2 : -0.000747564974955317\n",
    "LASSO R2 : 0.9356136435388934\n",
    "LASSO R2_is : -3.6193270602780103e-14\n",
    "LASSO+H R2 : 0.0630407116565862\n",
    "LASSO R2 : 0.9255911956162547\n",
    "LASSO R2_is : 2.7533531010703882e-14\n",
    "LASSO+H R2 : -0.07201033541048174\n",
    "LASSO R2 : 0.9773278842816471\n",
    "LASSO R2_is : -5.5067062021407764e-14\n",
    "LASSO+H R2 : -0.022548647087312634\n",
    "LASSO R2 : 0.9681875663118822\n",
    "LASSO R2_is : -5.773159728050814e-15\n",
    "LASSO+H R2 : 0.005209634458331003\n",
    "LASSO R2 : 0.9807186885727028\n",
    "LASSO R2_is : 1.4099832412739488e-14\n",
    "LASSO+H R2 : -0.048136228116649526\n",
    "LASSO R2 : 0.9823491892298412\n",
    "LASSO R2_is : 4.107825191113079e-15\n",
    "LASSO+H R2 : 0.0004107272280275964\n",
    "LASSO R2 : 0.9861978426740109\n",
    "LASSO R2_is : -2.220446049250313e-14\n",
    "LASSO+H R2 : -0.019839744688194605\n",
    "LASSO R2 : 0.982101122170377\n",
    "LASSO R2_is : -3.774758283725532e-15\n",
    "LASSO+H R2 : 0.02037271028373233\n",
    "LASSO R2 : 0.9813564358962984\n",
    "LASSO R2_is : 1.1657341758564144e-14\n",
    "LASSO+H R2 : -0.02952216878173264"
   ]
  }
 ],
 "metadata": {
  "kernelspec": {
   "display_name": "Python 3",
   "language": "python",
   "name": "python3"
  },
  "language_info": {
   "codemirror_mode": {
    "name": "ipython",
    "version": 3
   },
   "file_extension": ".py",
   "mimetype": "text/x-python",
   "name": "python",
   "nbconvert_exporter": "python",
   "pygments_lexer": "ipython3",
   "version": "3.7.1"
  }
 },
 "nbformat": 4,
 "nbformat_minor": 4
}
