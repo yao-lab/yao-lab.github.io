{
 "cells": [
  {
   "cell_type": "code",
   "execution_count": null,
   "metadata": {
    "_cell_guid": "b1076dfc-b9ad-4769-8c92-a6c4dae69d19",
    "_uuid": "8f2839f25d086af736a60e9eeb907d3b93b6e0e5"
   },
   "outputs": [],
   "source": [
    "# This Python 3 environment comes with many helpful analytics libraries installed\n",
    "# It is defined by the kaggle/python Docker image: https://github.com/kaggle/docker-python\n",
    "# For example, here's several helpful packages to load\n",
    "\n",
    "import numpy as np # linear algebra\n",
    "import pandas as pd # data processing, CSV file I/O (e.g. pd.read_csv)\n",
    "\n",
    "# Input data files are available in the read-only \"../input/\" directory\n",
    "# For example, running this (by clicking run or pressing Shift+Enter) will list all files under the input directory\n",
    "\n",
    "import os\n",
    "for dirname, _, filenames in os.walk('/kaggle/input'):\n",
    "    for filename in filenames:\n",
    "        print(os.path.join(dirname, filename))\n",
    "\n",
    "# You can write up to 20GB to the current directory (/kaggle/working/) that gets preserved as output when you create a version using \"Save & Run All\" \n",
    "# You can also write temporary files to /kaggle/temp/, but they won't be saved outside of the current session"
   ]
  },
  {
   "cell_type": "code",
   "execution_count": null,
   "metadata": {
    "execution": {
     "iopub.execute_input": "2021-11-13T02:55:28.457094Z",
     "iopub.status.busy": "2021-11-13T02:55:28.456817Z",
     "iopub.status.idle": "2021-11-13T02:55:28.462616Z",
     "shell.execute_reply": "2021-11-13T02:55:28.461638Z",
     "shell.execute_reply.started": "2021-11-13T02:55:28.457063Z"
    }
   },
   "outputs": [],
   "source": [
    "import string\n",
    "import os\n",
    "import pandas as pd\n",
    "import datetime\n",
    "import numpy as np\n",
    "import statsmodels.api as sm\n",
    "import math\n",
    "from scipy.linalg import svd\n",
    "import scipy.linalg as la\n",
    "import scipy.sparse.linalg as sla"
   ]
  },
  {
   "cell_type": "code",
   "execution_count": null,
   "metadata": {
    "execution": {
     "iopub.execute_input": "2021-11-13T02:55:30.666711Z",
     "iopub.status.busy": "2021-11-13T02:55:30.666424Z",
     "iopub.status.idle": "2021-11-13T02:55:30.671482Z",
     "shell.execute_reply": "2021-11-13T02:55:30.670424Z",
     "shell.execute_reply.started": "2021-11-13T02:55:30.66668Z"
    }
   },
   "outputs": [],
   "source": [
    "import warnings\n",
    "warnings.filterwarnings('ignore')\n",
    "warnings.simplefilter('ignore')"
   ]
  },
  {
   "cell_type": "code",
   "execution_count": null,
   "metadata": {
    "execution": {
     "iopub.execute_input": "2021-11-13T02:55:32.807678Z",
     "iopub.status.busy": "2021-11-13T02:55:32.806961Z",
     "iopub.status.idle": "2021-11-13T02:55:32.811873Z",
     "shell.execute_reply": "2021-11-13T02:55:32.810855Z",
     "shell.execute_reply.started": "2021-11-13T02:55:32.807643Z"
    }
   },
   "outputs": [],
   "source": [
    "mu=0.2\n",
    "tol=1e-10"
   ]
  },
  {
   "cell_type": "code",
   "execution_count": null,
   "metadata": {
    "execution": {
     "iopub.execute_input": "2021-11-13T02:55:35.341174Z",
     "iopub.status.busy": "2021-11-13T02:55:35.340859Z",
     "iopub.status.idle": "2021-11-13T02:55:35.346412Z",
     "shell.execute_reply": "2021-11-13T02:55:35.345707Z",
     "shell.execute_reply.started": "2021-11-13T02:55:35.34114Z"
    }
   },
   "outputs": [],
   "source": [
    "def sq(a,b,step):\n",
    "    r = a\n",
    "    new = a\n",
    "    for i in range(10000):\n",
    "        new = new + step\n",
    "        if new <= b:\n",
    "            r = r+ new\n",
    "        else:\n",
    "            break\n",
    "    return r"
   ]
  },
  {
   "cell_type": "code",
   "execution_count": null,
   "metadata": {
    "execution": {
     "iopub.execute_input": "2021-11-13T02:55:37.530794Z",
     "iopub.status.busy": "2021-11-13T02:55:37.530501Z",
     "iopub.status.idle": "2021-11-13T02:55:37.535487Z",
     "shell.execute_reply": "2021-11-13T02:55:37.534221Z",
     "shell.execute_reply.started": "2021-11-13T02:55:37.530762Z"
    }
   },
   "outputs": [],
   "source": [
    "def soft_threshodr(groups,nc,w,mu):\n",
    "    return w/(1+mu)"
   ]
  },
  {
   "cell_type": "code",
   "execution_count": null,
   "metadata": {
    "execution": {
     "iopub.execute_input": "2021-11-13T02:55:39.853732Z",
     "iopub.status.busy": "2021-11-13T02:55:39.853421Z",
     "iopub.status.idle": "2021-11-13T02:55:39.861624Z",
     "shell.execute_reply": "2021-11-13T02:55:39.860625Z",
     "shell.execute_reply.started": "2021-11-13T02:55:39.853701Z"
    }
   },
   "outputs": [],
   "source": [
    "def soft_threshodl(groups,nc,w,mu):\n",
    "    val =[float(np.sign(w1)*np.max(np.abs(w1)-mu,0)) for w1 in w]\n",
    "    return np.array(val).reshape((len(val),1))"
   ]
  },
  {
   "cell_type": "code",
   "execution_count": null,
   "metadata": {
    "execution": {
     "iopub.execute_input": "2021-11-13T02:55:56.669969Z",
     "iopub.status.busy": "2021-11-13T02:55:56.669693Z",
     "iopub.status.idle": "2021-11-13T02:55:56.676051Z",
     "shell.execute_reply": "2021-11-13T02:55:56.675066Z",
     "shell.execute_reply.started": "2021-11-13T02:55:56.669939Z"
    }
   },
   "outputs": [],
   "source": [
    "def soft_threshode(groups,nc,w,mu):\n",
    "    val =[float(np.sign(w1)*np.max(np.abs(w1)-0.5*mu,0))/(1+0.5*mu) for w1 in w]\n",
    "    return np.array(val).reshape((len(val),1))"
   ]
  },
  {
   "cell_type": "code",
   "execution_count": null,
   "metadata": {
    "execution": {
     "iopub.execute_input": "2021-11-13T02:55:59.00664Z",
     "iopub.status.busy": "2021-11-13T02:55:59.006104Z",
     "iopub.status.idle": "2021-11-13T02:55:59.01321Z",
     "shell.execute_reply": "2021-11-13T02:55:59.01241Z",
     "shell.execute_reply.started": "2021-11-13T02:55:59.006606Z"
    }
   },
   "outputs": [],
   "source": [
    "def soft_threshodg(groups,nc,w,mu):\n",
    "    w1 = w\n",
    "    for i in range(nc):\n",
    "        ind = (groups == i)\n",
    "        wg = w1[ind,:]\n",
    "        nn= np.size(wg)\n",
    "        n2 = math.sqrt(sum(pow(wg,2)))\n",
    "        if n2 < mu :\n",
    "            w1[ind,:] = zeros(nn,1)\n",
    "        else:\n",
    "            w1[ind,:] = wg - mu*wg/n2\n",
    "\n",
    "    return w1"
   ]
  },
  {
   "cell_type": "code",
   "execution_count": null,
   "metadata": {
    "execution": {
     "iopub.execute_input": "2021-11-13T02:56:01.473713Z",
     "iopub.status.busy": "2021-11-13T02:56:01.473398Z",
     "iopub.status.idle": "2021-11-13T02:56:01.47992Z",
     "shell.execute_reply": "2021-11-13T02:56:01.478851Z",
     "shell.execute_reply.started": "2021-11-13T02:56:01.473679Z"
    }
   },
   "outputs": [],
   "source": [
    "def lossh(y,yhat,mu):\n",
    "    r= abs(yhat['RET']-y)\n",
    "    l= np.zeros(len(r))\n",
    "    ind = (r>mu)\n",
    "    l[ind] = 2*mu*r[ind]-mu*mu\n",
    "    ind = (r<= mu)\n",
    "    l[ind]  = r[ind]*r[ind]\n",
    "    return np.mean(l)"
   ]
  },
  {
   "cell_type": "code",
   "execution_count": null,
   "metadata": {
    "execution": {
     "iopub.execute_input": "2021-11-13T02:56:04.560053Z",
     "iopub.status.busy": "2021-11-13T02:56:04.559619Z",
     "iopub.status.idle": "2021-11-13T02:56:04.568484Z",
     "shell.execute_reply": "2021-11-13T02:56:04.567619Z",
     "shell.execute_reply.started": "2021-11-13T02:56:04.559991Z"
    }
   },
   "outputs": [],
   "source": [
    "def f_gradh(w,X,y,mu):\n",
    "    r = np.matmul(X,w)-y['RET']\n",
    "    ind0 = np.where(abs(r)<= mu)\n",
    "    ind0 = pd.Series(np.asarray(ind0)[0])\n",
    "    ind1 = np.where(r>mu)\n",
    "    ind1 = pd.Series(np.asarray(ind1)[0])\n",
    "\n",
    "    indf1 = np.where(r< (-mu))\n",
    "    indf1 = pd.Series(np.array(indf1)[0])\n",
    "    grad = np.matmul(np.transpose(X.iloc[ind0,:]),(np.matmul(X.iloc[ind0,:],w)-y.iloc[ind0,0]))+np.matmul(np.transpose(mu*X.iloc[ind1,:]),np.ones(len(ind1)))-np.matmul(np.transpose(mu*X.iloc[indf1,:]),np.ones(len(indf1)))\n",
    "    return grad"
   ]
  },
  {
   "cell_type": "code",
   "execution_count": null,
   "metadata": {
    "execution": {
     "iopub.execute_input": "2021-11-13T02:56:08.064014Z",
     "iopub.status.busy": "2021-11-13T02:56:08.063728Z",
     "iopub.status.idle": "2021-11-13T02:56:08.07317Z",
     "shell.execute_reply": "2021-11-13T02:56:08.072262Z",
     "shell.execute_reply.started": "2021-11-13T02:56:08.063981Z"
    }
   },
   "outputs": [],
   "source": [
    "def proximalH_l(groups,nc,xtest,mtrain,ytest,w,X,y,mu,tol,L,l2,func):\n",
    "    w= np.asarray(w[0])\n",
    "    dim = X.shape[0]\n",
    "    max_iter = 3000\n",
    "    gamma= 1/L\n",
    "    l1 = l2\n",
    "\n",
    "    v= w\n",
    "    yhatbig1=np.matmul(xtest,w) + mtrain.values\n",
    "    r20=lossh(yhatbig1,ytest,mu)\n",
    "    for t in range(max_iter):\n",
    "        vold=v\n",
    "        w_perv=w\n",
    "        w= np.asarray(v-(gamma*f_gradh(v,X,y,mu)))\n",
    "        mu1=l1*gamma\n",
    "        w=func(groups,nc,w,mu1)\n",
    "        w = np.asarray([float(w1) for w1 in w])\n",
    "        v=w + t/(t+3)*(w-w_perv)\n",
    "        if ((np.linalg.norm(v-vold)**2) < ((np.linalg.norm(vold)**2)*tol) or np.sum(abs(v-vold))==0):\n",
    "            break\n",
    "    return v"
   ]
  },
  {
   "cell_type": "code",
   "execution_count": null,
   "metadata": {
    "execution": {
     "iopub.execute_input": "2021-11-13T02:56:10.814016Z",
     "iopub.status.busy": "2021-11-13T02:56:10.813689Z",
     "iopub.status.idle": "2021-11-13T02:56:13.044435Z",
     "shell.execute_reply": "2021-11-13T02:56:13.043626Z",
     "shell.execute_reply.started": "2021-11-13T02:56:10.813983Z"
    }
   },
   "outputs": [],
   "source": [
    "X_all = pd.read_csv('../input/project2/X_cleaned.csv')\n",
    "Y_all = pd.read_csv('../input/project2/Y_cleaned.csv')\n",
    "Date_index = pd.read_csv('../input/project2/Date_list.csv')\n",
    "Date_index['DATE']=pd.to_datetime(Date_index['DATE'])"
   ]
  },
  {
   "cell_type": "code",
   "execution_count": null,
   "metadata": {
    "execution": {
     "iopub.execute_input": "2021-11-13T02:56:15.058396Z",
     "iopub.status.busy": "2021-11-13T02:56:15.058119Z",
     "iopub.status.idle": "2021-11-13T02:56:15.07075Z",
     "shell.execute_reply": "2021-11-13T02:56:15.070069Z",
     "shell.execute_reply.started": "2021-11-13T02:56:15.058365Z"
    }
   },
   "outputs": [],
   "source": [
    "nums= 30\n",
    "start_dates = [pd.to_datetime('1957-03-01')+pd.offsets.DateOffset(years=x) for x in range(nums) ]"
   ]
  },
  {
   "cell_type": "code",
   "execution_count": null,
   "metadata": {
    "execution": {
     "iopub.execute_input": "2021-11-13T03:00:32.732899Z",
     "iopub.status.busy": "2021-11-13T03:00:32.732534Z",
     "iopub.status.idle": "2021-11-13T03:00:32.919282Z",
     "shell.execute_reply": "2021-11-13T03:00:32.918635Z",
     "shell.execute_reply.started": "2021-11-13T03:00:32.732865Z"
    }
   },
   "outputs": [],
   "source": [
    "from sklearn.linear_model import Ridge"
   ]
  },
  {
   "cell_type": "code",
   "execution_count": null,
   "metadata": {
    "execution": {
     "iopub.execute_input": "2021-11-13T03:09:53.07738Z",
     "iopub.status.busy": "2021-11-13T03:09:53.076946Z",
     "iopub.status.idle": "2021-11-13T03:43:12.24007Z",
     "shell.execute_reply": "2021-11-13T03:43:12.238882Z",
     "shell.execute_reply.started": "2021-11-13T03:09:53.077341Z"
    }
   },
   "outputs": [],
   "source": [
    "for m in range(len(start_dates)):\n",
    "\n",
    "    start_date = start_dates[m]\n",
    "\n",
    "    end_date =  start_date + pd.offsets.DateOffset(years=18)\n",
    "\n",
    "    ind_training = (start_date < Date_index['DATE']) & (Date_index['DATE'] < end_date)\n",
    "\n",
    "    ytrain = Y_all[ind_training]\n",
    "\n",
    "    xtrain = X_all[ind_training]\n",
    "\n",
    "    ####for validation\n",
    "\n",
    "    start_date =  end_date\n",
    "    end_date = start_date + pd.offsets.DateOffset(years=12)\n",
    "\n",
    "    ind_vali = (start_date < Date_index['DATE']) & (Date_index['DATE'] < end_date)\n",
    "\n",
    "    ytest = Y_all[ind_vali]\n",
    "    xtest= X_all[ind_vali]\n",
    "\n",
    "    #####for test  oos\n",
    "\n",
    "    start_date =  end_date\n",
    "    end_date = start_date + pd.offsets.DateOffset(years=1)\n",
    "    ind_test = (start_date < Date_index['DATE']) & (Date_index['DATE'] < end_date)\n",
    "    #print(type(ind_test))\n",
    "    yoos = Y_all[ind_test]\n",
    "    xoos= X_all[ind_test]\n",
    "\n",
    "    #######Monthly Demean %%%\n",
    "    ytrain_demean= ytrain - np.mean(ytrain);\n",
    "    ytest_demean=ytest-np.mean(ytest);\n",
    "    mtrain=np.mean(ytrain);\n",
    "    mtest=np.mean(ytest);\n",
    "\n",
    "    sd=np.zeros(len(xtrain.columns)) #dim of sd? sd for each characteristics\n",
    "    for i in range(len(xtrain.columns)):\n",
    "        s=np.std(xtrain.iloc[:,[i]])\n",
    "        colnames = xtrain.columns\n",
    "        if s.values > 0:\n",
    "            colname = colnames[i]\n",
    "            xtrain.loc[:,colname]=xtrain[colname]/s.values\n",
    "            xtest.loc[:,colname]=xtest.loc[:,colname]/s.values\n",
    "            xoos.loc[:,colname]=xoos.loc[:,colname]/s.values\n",
    "            sd[i]=s.values\n",
    "    XX =np.matmul(np.transpose(xtrain),xtrain)\n",
    "    U,S,V=svd(XX)\n",
    "    #### singular value decomposition such that XX=U*S*V'\n",
    "    L=S[0]\n",
    "    ###disp 'Lasso L = '\n",
    "    ####disp(L)\n",
    "    Y=ytrain_demean;\n",
    "    XY= np.matmul(np.transpose(xtrain),Y)\n",
    "    groups=0\n",
    "    nc=0\n",
    "            \n",
    "    #### Start to Train %%%\n",
    "   \n",
    "    lamv=np.arange(-2,4,0.1)\n",
    "    alpha=1\n",
    "    r=np.zeros((3,len(lamv)))\n",
    "    y_ret=ytest['RET'].reset_index(drop=True)\n",
    "    y_ret1=ytrain['RET'].reset_index(drop=True)\n",
    "    y_ret2=yoos['RET'].reset_index(drop=True)\n",
    "\n",
    "\n",
    "    for j in range(len(lamv)):\n",
    "        l2=10**lamv[j]\n",
    "        ridge = Ridge(alpha=l2)\n",
    "        yhatres= ridge.fit(xtrain,ytrain_demean)\n",
    "        yhatbig1= yhatres.predict(xtest)+ mtrain.values\n",
    "        yhatbig1=pd.Series(yhatbig1.flatten())\n",
    "        #prediction for oos\n",
    "        r[0,j]=1-sum((yhatbig1-y_ret)**2)/sum((y_ret-mtrain.values)**2) # oos r2\n",
    "        yhatbig1=yhatres.predict(xtrain) + mtrain.values\n",
    "        yhatbig1=pd.Series(yhatbig1.flatten())\n",
    "        r[1,j]=1-(yhatbig1-y_ret1).pow(2).sum()/sum(pow(y_ret1-mtrain.values,2))\n",
    "        yhatbig1=yhatres.predict(xoos) + mtrain.values\n",
    "        yhatbig1=pd.Series(yhatbig1.flatten())\n",
    "        r[2,j]=1-(yhatbig1-y_ret2).pow(2).sum()/sum(pow(y_ret1-mtrain.values,2))\n",
    "        \n",
    "\n",
    "\n",
    "    r2_oos=r[2,np.argmax(r[0,:])]\n",
    "    r2_is=r[1,np.argmax(r[0,:])]\n",
    "    l2=10**lamv[np.argmax(r[0,:])]\n",
    "    ridge = Ridge(alpha=l2)\n",
    "    yhatres= ridge.fit(xtrain,ytrain_demean)\n",
    "    b=np.transpose(pd.DataFrame(yhatres.coef_))\n",
    "\n",
    "    print('Ridge R2 : '+np.str0(r2_oos))\n",
    "    print('Ridge R2_is : '+np.str0(r2_is))\n",
    "    \n",
    "    b=proximalH_l(groups,nc,xtest,mtrain,ytest,b,xtrain,ytrain_demean,mu,tol,L,l2,soft_threshodr)\n",
    "    yhatbig1 = np.matmul(xoos,b)+mtrain.values\n",
    "    r2_oos=1- np.linalg.norm(yhatbig1-yoos['RET'])**2 / np.linalg.norm((yoos['RET']-mtrain.values))**2\n",
    "    yhatbig1 = np.matmul(xtrain,b) + mtrain.values\n",
    "    r2_is = 1 - np.linalg.norm(yhatbig1-ytrain['RET'])**2 / np.linalg.norm((ytrain['RET']-mtrain.values))**2\n",
    "    b=pd.DataFrame(b)\n",
    "    print('Ridge+H R2 : '+np.str0(r2_oos) )\n"
   ]
  },
  {
   "cell_type": "markdown",
   "metadata": {},
   "source": [
    "<!--\n",
    "Ridge R2 : -19.034196220925942\n",
    "Ridge R2_is : 0.035349434130731106\n",
    "Ridge+H R2 : -17.501737814113433\n",
    "Ridge R2 : -12.910768168878079\n",
    "Ridge R2_is : 0.03527324928405795\n",
    "Ridge+H R2 : -35.98689618678933\n",
    "Ridge R2 : -17.05457450724823\n",
    "Ridge R2_is : 0.028753100845712365\n",
    "Ridge+H R2 : -57.43926042959815\n",
    "Ridge R2 : -2.9969986169883276\n",
    "Ridge R2_is : 0.023825688049056604\n",
    "Ridge+H R2 : -7.577399616660996\n",
    "Ridge R2 : -4.196540033700964\n",
    "Ridge R2_is : 0.02361850774258789\n",
    "Ridge+H R2 : -9.23062135162839\n",
    "Ridge R2 : -0.3583109123851591\n",
    "Ridge R2_is : 0.023038316068705322\n",
    "Ridge+H R2 : -7.800839536986771\n",
    "Ridge R2 : 0.36521100664056827\n",
    "Ridge R2_is : 0.031951522800620746\n",
    "Ridge+H R2 : -4.156820771943164\n",
    "Ridge R2 : 0.6750825428874229\n",
    "Ridge R2_is : 0.029658242640348775\n",
    "Ridge+H R2 : -1.6698026266497838\n",
    "Ridge R2 : -14.71290112464295\n",
    "Ridge R2_is : 0.022469555546845155\n",
    "Ridge+H R2 : -183.53292503680217\n",
    "Ridge R2 : -38.13920889618736\n",
    "Ridge R2_is : 0.021034908350779702\n",
    "Ridge+H R2 : -445.08845639123405\n",
    "Ridge R2 : -17.937382706911965\n",
    "Ridge R2_is : 0.02102078296773946\n",
    "Ridge+H R2 : -155.04078503084432\n",
    "Ridge R2 : -10.079618144023074\n",
    "Ridge R2_is : 0.018501208664726043\n",
    "Ridge+H R2 : -51.05704837307169\n",
    "Ridge R2 : 0.710433716936004\n",
    "Ridge R2_is : 0.022749367298982692\n",
    "Ridge+H R2 : -0.039412394762196046\n",
    "Ridge R2 : 0.7424448138074125\n",
    "Ridge R2_is : 0.01642371019805966\n",
    "Ridge+H R2 : 0.01827194765815965\n",
    "Ridge R2 : 0.7784773753024488\n",
    "Ridge R2_is : 0.01884469362071084\n",
    "Ridge+H R2 : -0.2858895957968526\n",
    "Ridge R2 : 0.8751263376960323\n",
    "Ridge R2_is : 0.013599409301093601\n",
    "Ridge+H R2 : -0.10174897865962862\n",
    "Ridge R2 : 0.9201239391760959\n",
    "Ridge R2_is : 0.01211348314127525\n",
    "Ridge+H R2 : -0.17854314270278904\n",
    "Ridge R2 : 0.9665378020714807\n",
    "Ridge R2_is : 0.013849495393693845\n",
    "Ridge+H R2 : -0.039202535946227135\n",
    "Ridge R2 : 0.9648804921962102\n",
    "Ridge R2_is : 0.013114213348095705\n",
    "Ridge+H R2 : -0.07070048234214754\n",
    "Ridge R2 : 0.9665688852274836\n",
    "Ridge R2_is : 0.0113891693283098\n",
    "Ridge+H R2 : -0.007943495660429845\n",
    "Ridge R2 : 0.9669171056715198\n",
    "Ridge R2_is : 0.01109225389038515\n",
    "Ridge+H R2 : 0.03663313848262573\n",
    "Ridge R2 : 0.9369748072345325\n",
    "Ridge R2_is : 0.011403164414350409\n",
    "Ridge+H R2 : 0.059553202076599865\n",
    "Ridge R2 : 0.9239101128729279\n",
    "Ridge R2_is : 0.010663564112960322\n",
    "Ridge+H R2 : -0.05637369731097408\n",
    "Ridge R2 : 0.9769584754262143\n",
    "Ridge R2_is : 0.010332686539059721\n",
    "Ridge+H R2 : -0.014766029696281047\n",
    "Ridge R2 : 0.9682478017024312\n",
    "Ridge R2_is : 0.009582509705564402\n",
    "Ridge+H R2 : 0.006587775212602676\n",
    "Ridge R2 : 0.9798597771906581\n",
    "Ridge R2_is : 0.01176364635870264\n",
    "Ridge+H R2 : -0.022830398601165758\n",
    "Ridge R2 : 0.9824622755382778\n",
    "Ridge R2_is : 0.010234203762411131\n",
    "Ridge+H R2 : -0.005372790628242585\n",
    "Ridge R2 : 0.9860036244786758\n",
    "Ridge R2_is : 0.009885420848224191\n",
    "Ridge+H R2 : -0.006925459699056891\n",
    "Ridge R2 : 0.9822007192460156\n",
    "Ridge R2_is : 0.009503454580352733\n",
    "Ridge+H R2 : 0.02226009659137107\n",
    "Ridge R2 : 0.9809069700044362\n",
    "Ridge R2_is : 0.010652251952294689\n",
    "Ridge+H R2 : -0.02067784062624356"
   ]
  }
 ],
 "metadata": {
  "kernelspec": {
   "display_name": "Python 3",
   "language": "python",
   "name": "python3"
  },
  "language_info": {
   "codemirror_mode": {
    "name": "ipython",
    "version": 3
   },
   "file_extension": ".py",
   "mimetype": "text/x-python",
   "name": "python",
   "nbconvert_exporter": "python",
   "pygments_lexer": "ipython3",
   "version": "3.7.1"
  }
 },
 "nbformat": 4,
 "nbformat_minor": 4
}
