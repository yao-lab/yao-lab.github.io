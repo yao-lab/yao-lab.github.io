{
 "cells": [
  {
   "cell_type": "code",
   "execution_count": null,
   "metadata": {
    "_cell_guid": "b1076dfc-b9ad-4769-8c92-a6c4dae69d19",
    "_uuid": "8f2839f25d086af736a60e9eeb907d3b93b6e0e5"
   },
   "outputs": [],
   "source": [
    "# This Python 3 environment comes with many helpful analytics libraries installed\n",
    "# It is defined by the kaggle/python Docker image: https://github.com/kaggle/docker-python\n",
    "# For example, here's several helpful packages to load\n",
    "\n",
    "import numpy as np # linear algebra\n",
    "import pandas as pd # data processing, CSV file I/O (e.g. pd.read_csv)\n",
    "\n",
    "# Input data files are available in the read-only \"../input/\" directory\n",
    "# For example, running this (by clicking run or pressing Shift+Enter) will list all files under the input directory\n",
    "\n",
    "import os\n",
    "for dirname, _, filenames in os.walk('/kaggle/input'):\n",
    "    for filename in filenames:\n",
    "        print(os.path.join(dirname, filename))\n",
    "\n",
    "# You can write up to 20GB to the current directory (/kaggle/working/) that gets preserved as output when you create a version using \"Save & Run All\" \n",
    "# You can also write temporary files to /kaggle/temp/, but they won't be saved outside of the current session"
   ]
  },
  {
   "cell_type": "code",
   "execution_count": null,
   "metadata": {
    "execution": {
     "iopub.execute_input": "2021-11-13T03:53:02.458603Z",
     "iopub.status.busy": "2021-11-13T03:53:02.45819Z",
     "iopub.status.idle": "2021-11-13T03:53:04.076792Z",
     "shell.execute_reply": "2021-11-13T03:53:04.075816Z",
     "shell.execute_reply.started": "2021-11-13T03:53:02.45848Z"
    }
   },
   "outputs": [],
   "source": [
    "import string\n",
    "import os\n",
    "import pandas as pd\n",
    "import datetime\n",
    "import numpy as np\n",
    "import statsmodels.api as sm\n",
    "import math\n",
    "from scipy.linalg import svd\n",
    "#import Functions as Fun\n",
    "import scipy.linalg as la\n",
    "import scipy.sparse.linalg as sla"
   ]
  },
  {
   "cell_type": "code",
   "execution_count": null,
   "metadata": {
    "execution": {
     "iopub.execute_input": "2021-11-13T03:54:54.943186Z",
     "iopub.status.busy": "2021-11-13T03:54:54.942914Z",
     "iopub.status.idle": "2021-11-13T03:54:54.947589Z",
     "shell.execute_reply": "2021-11-13T03:54:54.947044Z",
     "shell.execute_reply.started": "2021-11-13T03:54:54.943154Z"
    }
   },
   "outputs": [],
   "source": [
    "import warnings\n",
    "warnings.filterwarnings('ignore')\n",
    "warnings.simplefilter('ignore')"
   ]
  },
  {
   "cell_type": "code",
   "execution_count": null,
   "metadata": {
    "execution": {
     "iopub.execute_input": "2021-11-13T03:55:05.686945Z",
     "iopub.status.busy": "2021-11-13T03:55:05.686641Z",
     "iopub.status.idle": "2021-11-13T03:55:05.69118Z",
     "shell.execute_reply": "2021-11-13T03:55:05.690346Z",
     "shell.execute_reply.started": "2021-11-13T03:55:05.686913Z"
    }
   },
   "outputs": [],
   "source": [
    "###Some parameters\n",
    "mu=0.2;\n",
    "tol=1e-10;"
   ]
  },
  {
   "cell_type": "code",
   "execution_count": null,
   "metadata": {
    "execution": {
     "iopub.execute_input": "2021-11-13T03:55:28.749801Z",
     "iopub.status.busy": "2021-11-13T03:55:28.749261Z",
     "iopub.status.idle": "2021-11-13T03:55:31.049574Z",
     "shell.execute_reply": "2021-11-13T03:55:31.048795Z",
     "shell.execute_reply.started": "2021-11-13T03:55:28.74976Z"
    }
   },
   "outputs": [],
   "source": [
    "X_all = pd.read_csv('../input/project2/X_cleaned.csv')\n",
    "Y_all = pd.read_csv('../input/project2/Y_cleaned.csv')\n",
    "Date_index = pd.read_csv('../input/project2/Date_list.csv')\n",
    "Date_index['DATE']=pd.to_datetime(Date_index['DATE'])"
   ]
  },
  {
   "cell_type": "code",
   "execution_count": null,
   "metadata": {
    "execution": {
     "iopub.execute_input": "2021-11-13T03:55:41.811624Z",
     "iopub.status.busy": "2021-11-13T03:55:41.81136Z",
     "iopub.status.idle": "2021-11-13T03:55:41.822197Z",
     "shell.execute_reply": "2021-11-13T03:55:41.821635Z",
     "shell.execute_reply.started": "2021-11-13T03:55:41.811597Z"
    }
   },
   "outputs": [],
   "source": [
    "####for training\n",
    "nums= 30\n",
    "start_dates = [pd.to_datetime('1957-03-01')+pd.offsets.DateOffset(years=x) for x in range(nums) ]"
   ]
  },
  {
   "cell_type": "code",
   "execution_count": null,
   "metadata": {
    "execution": {
     "iopub.execute_input": "2021-11-13T03:56:14.454024Z",
     "iopub.status.busy": "2021-11-13T03:56:14.453727Z",
     "iopub.status.idle": "2021-11-13T03:56:14.458087Z",
     "shell.execute_reply": "2021-11-13T03:56:14.457215Z",
     "shell.execute_reply.started": "2021-11-13T03:56:14.453992Z"
    }
   },
   "outputs": [],
   "source": [
    "from sklearn.linear_model import ElasticNet"
   ]
  },
  {
   "cell_type": "code",
   "execution_count": null,
   "metadata": {
    "execution": {
     "iopub.execute_input": "2021-11-13T03:57:06.402693Z",
     "iopub.status.busy": "2021-11-13T03:57:06.402384Z",
     "iopub.status.idle": "2021-11-13T03:57:06.412466Z",
     "shell.execute_reply": "2021-11-13T03:57:06.41162Z",
     "shell.execute_reply.started": "2021-11-13T03:57:06.402655Z"
    }
   },
   "outputs": [],
   "source": [
    "####f_gradh\n",
    "def f_gradh(w,X,y,mu):\n",
    "    r = np.matmul(X,w)-y['RET']\n",
    "    ind0 = np.where(abs(r)<= mu)\n",
    "    ind0 = pd.Series(np.asarray(ind0)[0])\n",
    "    ind1 = np.where(r>mu)\n",
    "    ind1 = pd.Series(np.asarray(ind1)[0])\n",
    "\n",
    "    indf1 = np.where(r< (-mu))\n",
    "    indf1 = pd.Series(np.array(indf1)[0])\n",
    "    grad = np.matmul(np.transpose(X.iloc[ind0,:]),(np.matmul(X.iloc[ind0,:],w)-y.iloc[ind0,0]))+np.matmul(np.transpose(mu*X.iloc[ind1,:]),np.ones(len(ind1)))-np.matmul(np.transpose(mu*X.iloc[indf1,:]),np.ones(len(indf1)))\n",
    "    return grad"
   ]
  },
  {
   "cell_type": "code",
   "execution_count": null,
   "metadata": {
    "execution": {
     "iopub.execute_input": "2021-11-13T03:57:22.702626Z",
     "iopub.status.busy": "2021-11-13T03:57:22.701971Z",
     "iopub.status.idle": "2021-11-13T03:57:22.710917Z",
     "shell.execute_reply": "2021-11-13T03:57:22.710398Z",
     "shell.execute_reply.started": "2021-11-13T03:57:22.702593Z"
    }
   },
   "outputs": [],
   "source": [
    "### proximal_l   only for lasso\n",
    "\n",
    "def proximalH_l(groups,nc,xtest,mtrain,ytest,w,X,y,mu,tol,L,l2,func):\n",
    "    w= np.asarray(w[0])\n",
    "    dim = X.shape[0]\n",
    "    max_iter = 3000\n",
    "    gamma= 1/L\n",
    "    l1 = l2\n",
    "\n",
    "    v= w\n",
    "    yhatbig1=np.matmul(xtest,w) + mtrain.values\n",
    "    r20=lossh(yhatbig1,ytest,mu)\n",
    "    for t in range(max_iter):\n",
    "        vold=v\n",
    "        w_perv=w\n",
    "        w= np.asarray(v-(gamma*f_gradh(v,X,y,mu)))\n",
    "        mu1=l1*gamma\n",
    "        w=func(groups,nc,w,mu1)\n",
    "        w = np.asarray([float(w1) for w1 in w])\n",
    "        v=w + t/(t+3)*(w-w_perv)\n",
    "        if ((np.linalg.norm(v-vold)**2) < ((np.linalg.norm(vold)**2)*tol) or np.sum(abs(v-vold))==0):\n",
    "            break\n",
    "    return v"
   ]
  },
  {
   "cell_type": "code",
   "execution_count": null,
   "metadata": {
    "execution": {
     "iopub.execute_input": "2021-11-13T03:58:10.167955Z",
     "iopub.status.busy": "2021-11-13T03:58:10.167543Z",
     "iopub.status.idle": "2021-11-13T03:58:10.172352Z",
     "shell.execute_reply": "2021-11-13T03:58:10.171821Z",
     "shell.execute_reply.started": "2021-11-13T03:58:10.167925Z"
    }
   },
   "outputs": [],
   "source": [
    "def soft_threshode(groups,nc,w,mu):\n",
    "    val =[float(np.sign(w1)*np.max(np.abs(w1)-0.5*mu,0))/(1+0.5*mu) for w1 in w]\n",
    "    return np.array(val).reshape((len(val),1))"
   ]
  },
  {
   "cell_type": "code",
   "execution_count": null,
   "metadata": {
    "execution": {
     "iopub.execute_input": "2021-11-13T03:58:18.54049Z",
     "iopub.status.busy": "2021-11-13T03:58:18.540167Z",
     "iopub.status.idle": "2021-11-13T03:58:18.545758Z",
     "shell.execute_reply": "2021-11-13T03:58:18.545172Z",
     "shell.execute_reply.started": "2021-11-13T03:58:18.540457Z"
    }
   },
   "outputs": [],
   "source": [
    "####lossh\n",
    "def lossh(y,yhat,mu):\n",
    "    r= abs(yhat['RET']-y)\n",
    "    l= np.zeros(len(r))\n",
    "    ind = (r>mu)\n",
    "    l[ind] = 2*mu*r[ind]-mu*mu\n",
    "    ind = (r<= mu)\n",
    "    l[ind]  = r[ind]*r[ind]\n",
    "    return np.mean(l)"
   ]
  },
  {
   "cell_type": "code",
   "execution_count": null,
   "metadata": {
    "execution": {
     "iopub.execute_input": "2021-11-13T04:00:32.909241Z",
     "iopub.status.busy": "2021-11-13T04:00:32.908861Z",
     "iopub.status.idle": "2021-11-13T05:32:57.416849Z",
     "shell.execute_reply": "2021-11-13T05:32:57.41521Z",
     "shell.execute_reply.started": "2021-11-13T04:00:32.909212Z"
    }
   },
   "outputs": [],
   "source": [
    "for m in range(len(start_dates)):\n",
    "\n",
    "    start_date = start_dates[m]\n",
    "\n",
    "    end_date =  start_date + pd.offsets.DateOffset(years=18)\n",
    "\n",
    "    ind_training = (start_date < Date_index['DATE']) & (Date_index['DATE'] < end_date)\n",
    "\n",
    "    ytrain = Y_all[ind_training]\n",
    "\n",
    "    xtrain = X_all[ind_training]\n",
    "\n",
    "    ####for validation\n",
    "\n",
    "    start_date =  end_date\n",
    "    end_date = start_date + pd.offsets.DateOffset(years=12)\n",
    "\n",
    "    ind_vali = (start_date < Date_index['DATE']) & (Date_index['DATE'] < end_date)\n",
    "\n",
    "    ytest = Y_all[ind_vali]\n",
    "    xtest= X_all[ind_vali]\n",
    "\n",
    "    #####for test  oos\n",
    "\n",
    "    start_date =  end_date\n",
    "    end_date = start_date + pd.offsets.DateOffset(years=1)\n",
    "    ind_test = (start_date < Date_index['DATE']) & (Date_index['DATE'] < end_date)\n",
    "    #print(type(ind_test))\n",
    "    yoos = Y_all[ind_test]\n",
    "    xoos= X_all[ind_test]\n",
    "\n",
    "    #######Monthly Demean %%%\n",
    "    ytrain_demean= ytrain - np.mean(ytrain);\n",
    "    ytest_demean=ytest-np.mean(ytest);\n",
    "    mtrain=np.mean(ytrain);\n",
    "    mtest=np.mean(ytest);\n",
    "\n",
    "    sd=np.zeros(len(xtrain.columns)) #dim of sd? sd for each characteristics\n",
    "    for i in range(len(xtrain.columns)):\n",
    "        s=np.std(xtrain.iloc[:,[i]])\n",
    "        colnames = xtrain.columns\n",
    "        if s.values > 0:\n",
    "            colname = colnames[i]\n",
    "            xtrain.loc[:,colname]=xtrain[colname]/s.values\n",
    "            xtest.loc[:,colname]=xtest.loc[:,colname]/s.values\n",
    "            xoos.loc[:,colname]=xoos.loc[:,colname]/s.values\n",
    "            sd[i]=s.values\n",
    "    XX =np.matmul(np.transpose(xtrain),xtrain)\n",
    "    U,S,V=svd(XX)\n",
    "    #### singular value decomposition such that XX=U*S*V'\n",
    "    L=S[0]\n",
    "    ###disp 'Lasso L = '\n",
    "    ####disp(L)\n",
    "    Y=ytrain_demean;\n",
    "    XY= np.matmul(np.transpose(xtrain),Y)\n",
    "    groups=0\n",
    "    nc=0\n",
    "            \n",
    "    #### Start to Train %%%\n",
    "   \n",
    "    lamv=np.arange(-2,4,0.1)\n",
    "    alpha=1\n",
    "    r=np.zeros((3,len(lamv)))\n",
    "    y_ret=ytest['RET'].reset_index(drop=True)\n",
    "    y_ret1=ytrain['RET'].reset_index(drop=True)\n",
    "    y_ret2=yoos['RET'].reset_index(drop=True)\n",
    "\n",
    "\n",
    "    for j in range(len(lamv)):\n",
    "        l2=10**lamv[j]\n",
    "        ela = ElasticNet(alpha=l2)\n",
    "        yhatres= ela.fit(xtrain,ytrain_demean)\n",
    "        yhatbig1= yhatres.predict(xtest)+ mtrain.values\n",
    "        yhatbig1=pd.Series(yhatbig1.flatten())\n",
    "        #prediction for oos\n",
    "        r[0,j]=1-sum((yhatbig1-y_ret)**2)/sum((y_ret-mtrain.values)**2) # oos r2\n",
    "        yhatbig1=yhatres.predict(xtrain) + mtrain.values\n",
    "        yhatbig1=pd.Series(yhatbig1.flatten())\n",
    "        r[1,j]=1-(yhatbig1-y_ret1).pow(2).sum()/sum(pow(y_ret1-mtrain.values,2))\n",
    "        yhatbig1=yhatres.predict(xoos) + mtrain.values\n",
    "        yhatbig1=pd.Series(yhatbig1.flatten())\n",
    "        r[2,j]=1-(yhatbig1-y_ret2).pow(2).sum()/sum(pow(y_ret1-mtrain.values,2))\n",
    "        \n",
    "\n",
    "\n",
    "    r2_oos=r[2,np.argmax(r[0,:])]\n",
    "    r2_is=r[1,np.argmax(r[0,:])]\n",
    "    l2=10**lamv[np.argmax(r[0,:])]\n",
    "    ela = ElasticNet(alpha=l2)\n",
    "    yhatres= ela.fit(xtrain,ytrain_demean)\n",
    "    b=pd.DataFrame(yhatres.coef_)\n",
    "\n",
    "    print('ElasticNet R2 : '+np.str0(r2_oos))\n",
    "    print('ElasticNet R2_is : '+np.str0(r2_is))\n",
    "    \n",
    "    b=proximalH_l(groups,nc,xtest,mtrain,ytest,b,xtrain,ytrain_demean,mu,tol,L,l2,soft_threshode)\n",
    "    yhatbig1 = np.matmul(xoos,b)+mtrain.values\n",
    "    r2_oos=1- np.linalg.norm(yhatbig1-yoos['RET'])**2 / np.linalg.norm((yoos['RET']-mtrain.values))**2\n",
    "    yhatbig1 = np.matmul(xtrain,b) + mtrain.values\n",
    "    r2_is = 1 - np.linalg.norm(yhatbig1-ytrain['RET'])**2 / np.linalg.norm((ytrain['RET']-mtrain.values))**2\n",
    "    b=pd.DataFrame(b)\n",
    "    print('ElasticNet+H R2 : '+np.str0(r2_oos) )"
   ]
  },
  {
   "cell_type": "markdown",
   "metadata": {},
   "source": [
    "<!--\n",
    "ElasticNet R2 : 0.5618758011505414\n",
    "ElasticNet R2_is : -2.220446049250313e-15\n",
    "ElasticNet+H R2 : -13121.323802022502\n",
    "ElasticNet R2 : 0.791334380349793\n",
    "ElasticNet R2_is : -8.215650382226158e-15\n",
    "ElasticNet+H R2 : -113.37234414760036\n",
    "ElasticNet R2 : 0.8135787276602633\n",
    "ElasticNet R2_is : -1.1546319456101628e-14\n",
    "ElasticNet+H R2 : -91.19080867215344\n",
    "ElasticNet R2 : 0.6712708722341254\n",
    "ElasticNet R2_is : -3.774758283725532e-15\n",
    "ElasticNet+H R2 : -15.793990883867338\n",
    "ElasticNet R2 : 0.6175672682393455\n",
    "ElasticNet R2_is : -1.532107773982716e-14\n",
    "ElasticNet+H R2 : -21.52230169537312\n",
    "ElasticNet R2 : 0.8836687807482796\n",
    "ElasticNet R2_is : -4.440892098500626e-15\n",
    "ElasticNet+H R2 : -18.25769669932044\n",
    "ElasticNet R2 : 0.8815876009027938\n",
    "ElasticNet R2_is : 0.00020507051532769882\n",
    "ElasticNet+H R2 : -26.26540468678037\n",
    "ElasticNet R2 : 0.8765587519765801\n",
    "ElasticNet R2_is : 0.001220492915689042\n",
    "ElasticNet+H R2 : -5.495280831041644\n",
    "ElasticNet R2 : 0.8988952383748445\n",
    "ElasticNet R2_is : 4.9960036108132044e-15\n",
    "ElasticNet+H R2 : -364.8598241324494\n",
    "ElasticNet R2 : 0.8999340719197466\n",
    "ElasticNet R2_is : 0.0002704780123873318\n",
    "ElasticNet+H R2 : -1027.9753459091569\n",
    "ElasticNet R2 : 0.865727115062263\n",
    "ElasticNet R2_is : -1.9761969838327786e-14\n",
    "ElasticNet+H R2 : -854.1775414685286\n",
    "ElasticNet R2 : 0.7540878589259792\n",
    "ElasticNet R2_is : 0.0004816581349025295\n",
    "ElasticNet+H R2 : -340.529106996444\n",
    "ElasticNet R2 : 0.7126218628264784\n",
    "ElasticNet R2_is : 0.0003371469231333579\n",
    "ElasticNet+H R2 : -33.85961171256544\n",
    "ElasticNet R2 : 0.7481664079562618\n",
    "ElasticNet R2_is : 0.0004619973591408755\n",
    "ElasticNet+H R2 : -1.6036605062709004\n",
    "ElasticNet R2 : 0.8404811598033325\n",
    "ElasticNet R2_is : 1.4886460452667727e-05\n",
    "ElasticNet+H R2 : -0.7569714690251894\n",
    "ElasticNet R2 : 0.8826477189068416\n",
    "ElasticNet R2_is : 0.00016391367003343316\n",
    "ElasticNet+H R2 : -0.21870007621187404\n",
    "ElasticNet R2 : 0.9268850337157866\n",
    "ElasticNet R2_is : 1.942890293094024e-14\n",
    "ElasticNet+H R2 : -0.304601033459343\n",
    "ElasticNet R2 : 0.9707250199351023\n",
    "ElasticNet R2_is : 0.00035364970119189376\n",
    "ElasticNet+H R2 : -0.32248926044618154\n",
    "ElasticNet R2 : 0.9668228418145308\n",
    "ElasticNet R2_is : 0.0003691852151842534\n",
    "ElasticNet+H R2 : -0.12132326718114128\n",
    "ElasticNet R2 : 0.9669078058373662\n",
    "ElasticNet R2_is : -2.4424906541753444e-14\n",
    "ElasticNet+H R2 : -0.0594399269676853\n",
    "ElasticNet R2 : 0.9677117757903464\n",
    "ElasticNet R2_is : 4.1300296516055823e-14\n",
    "ElasticNet+H R2 : -0.0007711499818248146\n",
    "ElasticNet R2 : 0.935613606584905\n",
    "ElasticNet R2_is : 3.3721166043720885e-05\n",
    "ElasticNet+H R2 : 0.06300133574686329\n",
    "ElasticNet R2 : 0.9255911956162547\n",
    "ElasticNet R2_is : 2.7533531010703882e-14\n",
    "ElasticNet+H R2 : -0.07202489821094837\n",
    "ElasticNet R2 : 0.9773278842816471\n",
    "ElasticNet R2_is : -5.5067062021407764e-14\n",
    "ElasticNet+H R2 : -0.02259912775478634\n",
    "ElasticNet R2 : 0.9681833508388836\n",
    "ElasticNet R2_is : 4.809087418067293e-05\n",
    "ElasticNet+H R2 : 0.0051879715355065414\n",
    "ElasticNet R2 : 0.9807186885727028\n",
    "ElasticNet R2_is : 1.4099832412739488e-14\n",
    "ElasticNet+H R2 : -0.04816241710728475\n",
    "ElasticNet R2 : 0.9823593490279904\n",
    "ElasticNet R2_is : 8.588274160148401e-05\n",
    "ElasticNet+H R2 : 0.0003337987212145288\n",
    "ElasticNet R2 : 0.9861978426740109\n",
    "ElasticNet R2_is : -2.220446049250313e-14\n",
    "ElasticNet+H R2 : -0.01987068025980987\n",
    "ElasticNet R2 : 0.982101122170377\n",
    "ElasticNet R2_is : -3.774758283725532e-15\n",
    "ElasticNet+H R2 : 0.020377712284700977\n",
    "ElasticNet R2 : 0.9813495401178732\n",
    "ElasticNet R2_is : 0.00048718748368536957\n",
    "ElasticNet+H R2 : -0.02952531772544109"
   ]
  },
  {
   "cell_type": "code",
   "execution_count": null,
   "metadata": {},
   "outputs": [],
   "source": []
  }
 ],
 "metadata": {
  "kernelspec": {
   "display_name": "Python 3",
   "language": "python",
   "name": "python3"
  },
  "language_info": {
   "codemirror_mode": {
    "name": "ipython",
    "version": 3
   },
   "file_extension": ".py",
   "mimetype": "text/x-python",
   "name": "python",
   "nbconvert_exporter": "python",
   "pygments_lexer": "ipython3",
   "version": "3.7.1"
  }
 },
 "nbformat": 4,
 "nbformat_minor": 4
}
