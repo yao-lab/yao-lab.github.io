{
 "cells": [
  {
   "cell_type": "code",
   "execution_count": null,
   "metadata": {
    "execution": {
     "iopub.execute_input": "2021-11-12T03:57:37.993012Z",
     "iopub.status.busy": "2021-11-12T03:57:37.992644Z",
     "iopub.status.idle": "2021-11-12T03:57:39.64089Z",
     "shell.execute_reply": "2021-11-12T03:57:39.639906Z",
     "shell.execute_reply.started": "2021-11-12T03:57:37.992926Z"
    }
   },
   "outputs": [],
   "source": [
    "import string\n",
    "import os\n",
    "import pandas as pd\n",
    "import datetime\n",
    "import numpy as np\n",
    "import statsmodels.api as sm\n",
    "import math\n",
    "from scipy.linalg import svd\n",
    "#import Functions as Fun\n",
    "import scipy.linalg as la\n",
    "import scipy.sparse.linalg as sla"
   ]
  },
  {
   "cell_type": "code",
   "execution_count": null,
   "metadata": {
    "execution": {
     "iopub.execute_input": "2021-11-12T03:57:41.613299Z",
     "iopub.status.busy": "2021-11-12T03:57:41.613034Z",
     "iopub.status.idle": "2021-11-12T03:57:41.617881Z",
     "shell.execute_reply": "2021-11-12T03:57:41.617084Z",
     "shell.execute_reply.started": "2021-11-12T03:57:41.613268Z"
    }
   },
   "outputs": [],
   "source": [
    "import warnings\n",
    "warnings.filterwarnings('ignore')\n",
    "warnings.simplefilter('ignore')"
   ]
  },
  {
   "cell_type": "code",
   "execution_count": null,
   "metadata": {
    "execution": {
     "iopub.execute_input": "2021-11-12T03:57:44.003119Z",
     "iopub.status.busy": "2021-11-12T03:57:44.002566Z",
     "iopub.status.idle": "2021-11-12T03:57:46.366312Z",
     "shell.execute_reply": "2021-11-12T03:57:46.365429Z",
     "shell.execute_reply.started": "2021-11-12T03:57:44.00308Z"
    }
   },
   "outputs": [],
   "source": [
    "X_all = pd.read_csv('../input/project2/X_cleaned.csv')\n",
    "Y_all = pd.read_csv('../input/project2/Y_cleaned.csv')\n",
    "Date_index = pd.read_csv('../input/project2/Date_list.csv')\n",
    "Date_index['DATE']=pd.to_datetime(Date_index['DATE'])"
   ]
  },
  {
   "cell_type": "code",
   "execution_count": null,
   "metadata": {
    "execution": {
     "iopub.execute_input": "2021-11-12T03:58:12.715609Z",
     "iopub.status.busy": "2021-11-12T03:58:12.714831Z",
     "iopub.status.idle": "2021-11-12T03:58:12.734868Z",
     "shell.execute_reply": "2021-11-12T03:58:12.73397Z",
     "shell.execute_reply.started": "2021-11-12T03:58:12.715563Z"
    }
   },
   "outputs": [],
   "source": [
    "start_date = pd.to_datetime('1957-03-01')\n",
    "end_date =  start_date + pd.offsets.DateOffset(years=18)\n",
    "ind_training = (start_date < Date_index['DATE']) & (Date_index['DATE'] < end_date)\n",
    "ytrain = Y_all[ind_training]\n",
    "xtrain = X_all[ind_training]"
   ]
  },
  {
   "cell_type": "code",
   "execution_count": null,
   "metadata": {
    "execution": {
     "iopub.execute_input": "2021-11-12T03:58:30.744Z",
     "iopub.status.busy": "2021-11-12T03:58:30.743691Z",
     "iopub.status.idle": "2021-11-12T03:58:30.758977Z",
     "shell.execute_reply": "2021-11-12T03:58:30.757761Z",
     "shell.execute_reply.started": "2021-11-12T03:58:30.743967Z"
    }
   },
   "outputs": [],
   "source": [
    "start_date =  end_date\n",
    "end_date = start_date + pd.offsets.DateOffset(years=12)\n",
    "ind_vali = (start_date < Date_index['DATE']) & (Date_index['DATE'] < end_date)\n",
    "ytest = Y_all[ind_vali]\n",
    "xtest= X_all[ind_vali]"
   ]
  },
  {
   "cell_type": "code",
   "execution_count": null,
   "metadata": {
    "execution": {
     "iopub.execute_input": "2021-11-12T03:58:47.141154Z",
     "iopub.status.busy": "2021-11-12T03:58:47.140345Z",
     "iopub.status.idle": "2021-11-12T03:58:47.16664Z",
     "shell.execute_reply": "2021-11-12T03:58:47.165692Z",
     "shell.execute_reply.started": "2021-11-12T03:58:47.141107Z"
    }
   },
   "outputs": [],
   "source": [
    "start_date =  end_date\n",
    "end_date = start_date + pd.offsets.DateOffset(years=30)\n",
    "ind_test = (start_date < Date_index['DATE']) & (Date_index['DATE'] < end_date)\n",
    "#print(type(ind_test))\n",
    "yoos = Y_all[ind_test]\n",
    "xoos= X_all[ind_test]"
   ]
  },
  {
   "cell_type": "code",
   "execution_count": null,
   "metadata": {
    "execution": {
     "iopub.execute_input": "2021-11-12T04:03:30.952346Z",
     "iopub.status.busy": "2021-11-12T04:03:30.952018Z",
     "iopub.status.idle": "2021-11-12T04:03:31.133969Z",
     "shell.execute_reply": "2021-11-12T04:03:31.133068Z",
     "shell.execute_reply.started": "2021-11-12T04:03:30.952311Z"
    }
   },
   "outputs": [],
   "source": [
    "from sklearn.linear_model import Ridge"
   ]
  },
  {
   "cell_type": "code",
   "execution_count": null,
   "metadata": {
    "execution": {
     "iopub.execute_input": "2021-11-12T04:03:36.204718Z",
     "iopub.status.busy": "2021-11-12T04:03:36.203563Z",
     "iopub.status.idle": "2021-11-12T04:03:36.575342Z",
     "shell.execute_reply": "2021-11-12T04:03:36.574497Z",
     "shell.execute_reply.started": "2021-11-12T04:03:36.204638Z"
    }
   },
   "outputs": [],
   "source": [
    "#######Monthly Demean %%%\n",
    "ytrain_demean= ytrain - np.mean(ytrain);\n",
    "ytest_demean=ytest-np.mean(ytest);\n",
    "mtrain=np.mean(ytrain);\n",
    "mtest=np.mean(ytest);\n",
    "\n",
    "sd=np.zeros(len(xtrain.columns)) #dim of sd? sd for each characteristics\n",
    "for i in range(len(xtrain.columns)):\n",
    "    s=np.std(xtrain.iloc[:,[i]])\n",
    "    colnames = xtrain.columns\n",
    "    if s.values > 0:\n",
    "        colname = colnames[i]\n",
    "        xtrain.loc[:,colname]=xtrain[colname]/s.values\n",
    "        xtest.loc[:,colname]=xtest.loc[:,colname]/s.values\n",
    "        xoos.loc[:,colname]=xoos.loc[:,colname]/s.values\n",
    "        sd[i]=s.values\n",
    "    #### Start to Train %%%\n",
    "    #model fitting\n",
    "\n",
    "lamv=np.arange(-2,4,0.1)\n",
    "alpha=1\n",
    "r=np.zeros((3,len(lamv)))\n",
    "y_ret=yoos['RET'].reset_index(drop=True)\n",
    "y_ret1=ytrain['RET'].reset_index(drop=True)\n",
    "y_ret2=ytest['RET'].reset_index(drop=True)\n"
   ]
  },
  {
   "cell_type": "code",
   "execution_count": null,
   "metadata": {
    "execution": {
     "iopub.execute_input": "2021-11-12T04:03:43.304545Z",
     "iopub.status.busy": "2021-11-12T04:03:43.30347Z",
     "iopub.status.idle": "2021-11-12T04:03:50.651561Z",
     "shell.execute_reply": "2021-11-12T04:03:50.650631Z",
     "shell.execute_reply.started": "2021-11-12T04:03:43.304488Z"
    }
   },
   "outputs": [],
   "source": [
    "for j in range(len(lamv)):\n",
    "    l2=10**lamv[j]\n",
    "    ridge = Ridge(alpha=l2)\n",
    "    yhatres= ridge.fit(xtrain,ytrain_demean)\n",
    "    \n",
    "    yhatbig1= yhatres.predict(xtest)+ mtrain.values\n",
    "    yhatbig1=pd.Series(yhatbig1.flatten())\n",
    "    r[0,j]=1-sum((yhatbig1-y_ret2)**2)/sum((y_ret2-mtrain.values)**2) \n",
    "    \n",
    "    yhatbig1=yhatres.predict(xtrain) + mtrain.values\n",
    "    yhatbig1=pd.Series(yhatbig1.flatten())\n",
    "    r[1,j]=1-(yhatbig1-y_ret1).pow(2).sum()/sum(pow(y_ret1-mtrain.values,2))\n",
    "    \n",
    "    yhatbig1=yhatres.predict(xoos) + mtrain.values\n",
    "    yhatbig1=pd.Series(yhatbig1.flatten())\n",
    "    r[2,j]=1-sum((yhatbig1-y_ret)**2)/sum((y_ret-mtrain.values)**2)\n",
    "\n",
    "\n",
    "r2_oos=r[2,np.argmax(r[0,:])]\n",
    "r2_is=r[1,np.argmax(r[0,:])]\n",
    "l2=10**lamv[np.argmax(r[0,:])]\n",
    "print('r2_oos:'+np.str0(r2_oos))"
   ]
  },
  {
   "cell_type": "code",
   "execution_count": null,
   "metadata": {
    "execution": {
     "iopub.execute_input": "2021-11-12T04:06:03.611291Z",
     "iopub.status.busy": "2021-11-12T04:06:03.610708Z",
     "iopub.status.idle": "2021-11-12T04:24:02.994747Z",
     "shell.execute_reply": "2021-11-12T04:24:02.993892Z",
     "shell.execute_reply.started": "2021-11-12T04:06:03.611242Z"
    }
   },
   "outputs": [],
   "source": [
    "for i in range(len(X_all.columns)):\n",
    "        xtrain_1=xtrain.drop(columns=[X_all.columns[i]])\n",
    "        xtest_1=xtest.drop(columns=[X_all.columns[i]])\n",
    "        xoos_1= xoos.drop(columns=[X_all.columns[i]])\n",
    "        \n",
    "        lamv=np.arange(-2,4,0.1)\n",
    "        alpha=1\n",
    "        r=np.zeros((3,len(lamv)))\n",
    "        y_ret=yoos['RET'].reset_index(drop=True)\n",
    "        y_ret1=ytrain['RET'].reset_index(drop=True)\n",
    "        y_ret2=ytest['RET'].reset_index(drop=True)\n",
    "\n",
    "\n",
    "        for j in range(len(lamv)):\n",
    "            l2=10**lamv[j]\n",
    "            ridge = Ridge(alpha=l2)\n",
    "            yhatres= ridge.fit(xtrain_1,ytrain_demean)\n",
    "            \n",
    "            yhatbig1= yhatres.predict(xtest_1)+ mtrain.values\n",
    "            yhatbig1=pd.Series(yhatbig1.flatten())\n",
    "            r[0,j]=1-sum((yhatbig1-y_ret2)**2)/sum((y_ret2-mtrain.values)**2)\n",
    "            \n",
    "            yhatbig1=yhatres.predict(xtrain_1) + mtrain.values\n",
    "            yhatbig1=pd.Series(yhatbig1.flatten())\n",
    "            r[1,j]=1-(yhatbig1-y_ret1).pow(2).sum()/sum(pow(y_ret1-mtrain.values,2))\n",
    "            \n",
    "            yhatbig1=yhatres.predict(xoos_1) + mtrain.values\n",
    "            yhatbig1=pd.Series(yhatbig1.flatten())\n",
    "            r[2,j]=1-sum((yhatbig1-y_ret)**2)/sum((y_ret-mtrain.values)**2)\n",
    "            \n",
    "\n",
    "        r2_oos_1=r[2,np.argmax(r[0,:])]\n",
    "        l2=10**lamv[np.argmax(r[0,:])]\n",
    "        \n",
    "        d=r2_oos-r2_oos_1\n",
    "        print(X_all.columns[i]+':'+np.str0(d))\n"
   ]
  },
  {
   "cell_type": "markdown",
   "metadata": {},
   "source": [
    "<!--\n",
    "beta:-4.196077164298913\n",
    "betasq:-20.017853973033198\n",
    "chmom:-13.869830809933774\n",
    "dolvol:674.645307093182\n",
    "idiovol:55.8835101347795\n",
    "indmom:181.8716420403871\n",
    "mom1m:-2391.870468121262\n",
    "mom6m:83.69082459850324\n",
    "mom12m:49.11506304379873\n",
    "mom36m:47.74877162298071\n",
    "pricedelay:18.88163791894476\n",
    "turn:-3.8489216333036893\n",
    "absacc:89.85183998235152\n",
    "acc:60.30084910678852\n",
    "age:232.9500460492054\n",
    "agr:21.123519215077977\n",
    "cashdebt:159.8668742142254\n",
    "cashpr:238.1565357313957\n",
    "cfp:35.31192071102123\n",
    "cfp_ia:-30.413314909746987\n",
    "chatoia:209.44781613680243\n",
    "chcsho:78.04607184873021\n",
    "chempia:60.99763918566896\n",
    "chinv:-107.41713972100843\n",
    "chpmia:57.749147206042835\n",
    "convind:-45.792169259388174\n",
    "currat:115.72544283904426\n",
    "depr:-32.082533087886986\n",
    "divi:-18.789584441306943\n",
    "divo:125.57451701069658\n",
    "dy:593.3677316693938\n",
    "egr:69.90587310535193\n",
    "ep:139.77067957504187\n",
    "gma:8.14839935668715\n",
    "grcapx:626.8969955528955\n",
    "grltnoa:-38.768435354024405\n",
    "herf:15.19522776901431\n",
    "hire:-166.89846328249405\n",
    "invest:-76.01871651178226\n",
    "lev:502.41574192197004\n",
    "lgr:-52.39464602465159\n",
    "mve_ia:-89.80064833176584\n",
    "operprof:-6.021213490785158\n",
    "orgcap:-210.0081194275699\n",
    "pchcapx_ia:28.34184716216987\n",
    "pchcurrat:-91.4344400577611\n",
    "pchdepr:-30.652838289097417\n",
    "pchgm_pchsale:118.69969519779261\n",
    "pchquick:-32.67463321157993\n",
    "pchsale_pchinvt:-44.545291228292626\n",
    "pchsale_pchrect:-76.22169891990052\n",
    "pchsale_pchxsga:60.499765452652355\n",
    "pchsaleinv:-32.94777329760109\n",
    "pctacc:172.93595188668405\n",
    "ps:-25.300703159977274\n",
    "quick:40.51706448781624\n",
    "rd:18.88068081792153\n",
    "rd_mve:115.2990804429428\n",
    "rd_sale:44.51519569703669\n",
    "realestate:0.0\n",
    "roic:-4.5379351619121735\n",
    "salecash:-4.583299838297535\n",
    "saleinv:-27.48258093723416\n",
    "salerec:-4.229880833765492\n",
    "secured:0.0\n",
    "securedind:0.0\n",
    "sgr:107.94584636765649\n",
    "sin:0.0\n",
    "sp:128.685464692011\n",
    "tang:526.925481190483\n",
    "tb:-10.843630101277085\n",
    "aeavol:148.0985291078614\n",
    "cash:-1151.8465734600613\n",
    "chtx:1627.8419003401505\n",
    "cinvest:3748.597686090754\n",
    "ear:-84.84174972368783\n",
    "nincr:-62.91191619435267\n",
    "roaq:382.3567176011711\n",
    "roavol:-827.4262426019777\n",
    "roeq:-554.7557873754195\n",
    "rsup:-281.3735012145771\n",
    "stdacc:-14590.373214082963\n",
    "stdcf:-24451.606329504764\n",
    "ms:-292.69271072329866\n",
    "baspread:855.1387758443307\n",
    "ill:-301.19509004761494\n",
    "maxret:67.75045178907749\n",
    "retvol:712.826657675585\n",
    "std_dolvol:123.57874405625626\n",
    "std_turn:-361.88497287268547\n",
    "zerotrade:143.96634013445873\n",
    "bm:433.5498843666719\n",
    "bm_ia:108.7504320854423\n",
    "sic2_10:0.0\n",
    "sic2_13:135.88794020145724\n",
    "sic2_15:353.0432767190141\n",
    "sic2_17:0.0\n",
    "sic2_20:17.636425607161073\n",
    "sic2_22:17.98834225419705\n",
    "sic2_23:371.3908806231775\n",
    "sic2_24:141.35341669246554\n",
    "sic2_25:0.0\n",
    "sic2_26:69.9692062444883\n",
    "sic2_27:23.385667960887076\n",
    "sic2_28:243.77939655012597\n",
    "sic2_29:-191.74906103934336\n",
    "sic2_30:-87.24047058444557\n",
    "sic2_32:94.22552696445928\n",
    "sic2_33:-7.977295418168069\n",
    "sic2_34:31.019423529134656\n",
    "sic2_35:80.08055244494608\n",
    "sic2_36:52.378799401267315\n",
    "sic2_37:43.10794804905163\n",
    "sic2_38:113.66365818832128\n",
    "sic2_39:48.81558140151901\n",
    "sic2_40:-6.654723651125096\n",
    "sic2_41:0.0\n",
    "sic2_42:0.0\n",
    "sic2_44:107.7650885529365\n",
    "sic2_45:-12.41655333154631\n",
    "sic2_47:0.0\n",
    "sic2_48:0.0\n",
    "sic2_49:4.888183194110752\n",
    "sic2_50:22.10089544759103\n",
    "sic2_51:0.0\n",
    "sic2_52:0.0\n",
    "sic2_53:0.0\n",
    "sic2_54:7.615614876536711\n",
    "sic2_56:0.0\n",
    "sic2_57:0.0\n",
    "sic2_58:-22.001768900510797\n",
    "sic2_59:79.2642332446485\n",
    "sic2_60:54.6169499571115\n",
    "sic2_61:56.66219064636243\n",
    "sic2_62:4.215477459751128\n",
    "sic2_63:-19.38716955689597\n",
    "sic2_64:0.0\n",
    "sic2_65:240.17341550799028\n",
    "sic2_67:-98.80909630588576\n",
    "sic2_70:0.0\n",
    "sic2_72:0.0\n",
    "sic2_73:-2.065557213005377\n",
    "sic2_75:0.870048494747607\n",
    "sic2_78:52.45424535443453\n",
    "sic2_79:0.0\n",
    "sic2_80:0.0\n",
    "sic2_87:-62.89841065360088\n",
    "sic2_99:0.0"
   ]
  }
 ],
 "metadata": {
  "kernelspec": {
   "display_name": "Python 3",
   "language": "python",
   "name": "python3"
  },
  "language_info": {
   "codemirror_mode": {
    "name": "ipython",
    "version": 3
   },
   "file_extension": ".py",
   "mimetype": "text/x-python",
   "name": "python",
   "nbconvert_exporter": "python",
   "pygments_lexer": "ipython3",
   "version": "3.7.1"
  }
 },
 "nbformat": 4,
 "nbformat_minor": 4
}
