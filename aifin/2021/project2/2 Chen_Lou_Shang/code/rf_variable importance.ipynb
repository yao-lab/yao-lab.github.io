{
 "cells": [
  {
   "cell_type": "code",
   "execution_count": null,
   "metadata": {
    "_cell_guid": "b1076dfc-b9ad-4769-8c92-a6c4dae69d19",
    "_uuid": "8f2839f25d086af736a60e9eeb907d3b93b6e0e5"
   },
   "outputs": [],
   "source": [
    "# This Python 3 environment comes with many helpful analytics libraries installed\n",
    "# It is defined by the kaggle/python Docker image: https://github.com/kaggle/docker-python\n",
    "# For example, here's several helpful packages to load\n",
    "\n",
    "import numpy as np # linear algebra\n",
    "import pandas as pd # data processing, CSV file I/O (e.g. pd.read_csv)\n",
    "\n",
    "# Input data files are available in the read-only \"../input/\" directory\n",
    "# For example, running this (by clicking run or pressing Shift+Enter) will list all files under the input directory\n",
    "\n",
    "import os\n",
    "for dirname, _, filenames in os.walk('/kaggle/input'):\n",
    "    for filename in filenames:\n",
    "        print(os.path.join(dirname, filename))\n",
    "\n",
    "# You can write up to 20GB to the current directory (/kaggle/working/) that gets preserved as output when you create a version using \"Save & Run All\" \n",
    "# You can also write temporary files to /kaggle/temp/, but they won't be saved outside of the current session"
   ]
  },
  {
   "cell_type": "code",
   "execution_count": null,
   "metadata": {
    "execution": {
     "iopub.execute_input": "2021-11-13T04:32:35.886434Z",
     "iopub.status.busy": "2021-11-13T04:32:35.885566Z",
     "iopub.status.idle": "2021-11-13T04:32:37.776923Z",
     "shell.execute_reply": "2021-11-13T04:32:37.775962Z",
     "shell.execute_reply.started": "2021-11-13T04:32:35.886289Z"
    }
   },
   "outputs": [],
   "source": [
    "import string\n",
    "import os\n",
    "import datetime\n",
    "import numpy as np\n",
    "import pandas as pd\n",
    "import statsmodels.api as sm\n",
    "import math\n",
    "from scipy.linalg import svd\n",
    "from sklearn import ensemble\n",
    "import scipy.linalg as la\n",
    "import scipy.sparse.linalg as sla\n",
    "from sklearn.model_selection import train_test_split, GridSearchCV, cross_val_score\n",
    "from time import time\n",
    "from sklearn import metrics"
   ]
  },
  {
   "cell_type": "code",
   "execution_count": null,
   "metadata": {
    "execution": {
     "iopub.execute_input": "2021-11-13T04:32:40.914584Z",
     "iopub.status.busy": "2021-11-13T04:32:40.91431Z",
     "iopub.status.idle": "2021-11-13T04:32:40.918819Z",
     "shell.execute_reply": "2021-11-13T04:32:40.917625Z",
     "shell.execute_reply.started": "2021-11-13T04:32:40.914556Z"
    }
   },
   "outputs": [],
   "source": [
    "import warnings\n",
    "warnings.filterwarnings('ignore')\n",
    "warnings.simplefilter('ignore')"
   ]
  },
  {
   "cell_type": "code",
   "execution_count": null,
   "metadata": {
    "execution": {
     "iopub.execute_input": "2021-11-13T04:32:43.079914Z",
     "iopub.status.busy": "2021-11-13T04:32:43.078944Z",
     "iopub.status.idle": "2021-11-13T04:32:45.513038Z",
     "shell.execute_reply": "2021-11-13T04:32:45.512188Z",
     "shell.execute_reply.started": "2021-11-13T04:32:43.079872Z"
    }
   },
   "outputs": [],
   "source": [
    "X_all = pd.read_csv('../input/project2/X_cleaned.csv')\n",
    "Y_all = pd.read_csv('../input/project2/Y_cleaned.csv')\n",
    "Date_index = pd.read_csv('../input/project2/Date_list.csv')\n",
    "Date_index['DATE']=pd.to_datetime(Date_index['DATE'])"
   ]
  },
  {
   "cell_type": "code",
   "execution_count": null,
   "metadata": {
    "execution": {
     "iopub.execute_input": "2021-11-13T04:33:08.530216Z",
     "iopub.status.busy": "2021-11-13T04:33:08.529286Z",
     "iopub.status.idle": "2021-11-13T04:33:08.546385Z",
     "shell.execute_reply": "2021-11-13T04:33:08.545432Z",
     "shell.execute_reply.started": "2021-11-13T04:33:08.530166Z"
    }
   },
   "outputs": [],
   "source": [
    "start_date = pd.to_datetime('1957-03-01')\n",
    "end_date =  start_date + pd.offsets.DateOffset(years=18)\n",
    "ind_training = (start_date < Date_index['DATE']) & (Date_index['DATE'] < end_date)\n",
    "ytrain = Y_all[ind_training]\n",
    "xtrain = X_all[ind_training]"
   ]
  },
  {
   "cell_type": "code",
   "execution_count": null,
   "metadata": {
    "execution": {
     "iopub.execute_input": "2021-11-13T04:33:11.118263Z",
     "iopub.status.busy": "2021-11-13T04:33:11.117692Z",
     "iopub.status.idle": "2021-11-13T04:33:11.135411Z",
     "shell.execute_reply": "2021-11-13T04:33:11.134645Z",
     "shell.execute_reply.started": "2021-11-13T04:33:11.118225Z"
    }
   },
   "outputs": [],
   "source": [
    "start_date =  end_date\n",
    "end_date = start_date + pd.offsets.DateOffset(years=12)\n",
    "ind_vali = (start_date < Date_index['DATE']) & (Date_index['DATE'] < end_date)\n",
    "ytest = Y_all[ind_vali]\n",
    "xtest= X_all[ind_vali]"
   ]
  },
  {
   "cell_type": "code",
   "execution_count": null,
   "metadata": {
    "execution": {
     "iopub.execute_input": "2021-11-13T04:33:13.192568Z",
     "iopub.status.busy": "2021-11-13T04:33:13.192294Z",
     "iopub.status.idle": "2021-11-13T04:33:13.223453Z",
     "shell.execute_reply": "2021-11-13T04:33:13.222688Z",
     "shell.execute_reply.started": "2021-11-13T04:33:13.192541Z"
    }
   },
   "outputs": [],
   "source": [
    "start_date =  end_date\n",
    "end_date = start_date + pd.offsets.DateOffset(years=30)\n",
    "ind_test = (start_date < Date_index['DATE']) & (Date_index['DATE'] < end_date)\n",
    "#print(type(ind_test))\n",
    "yoos = Y_all[ind_test]\n",
    "xoos= X_all[ind_test]"
   ]
  },
  {
   "cell_type": "code",
   "execution_count": null,
   "metadata": {
    "execution": {
     "iopub.execute_input": "2021-11-13T04:33:15.341633Z",
     "iopub.status.busy": "2021-11-13T04:33:15.341335Z",
     "iopub.status.idle": "2021-11-13T04:33:16.048781Z",
     "shell.execute_reply": "2021-11-13T04:33:16.048119Z",
     "shell.execute_reply.started": "2021-11-13T04:33:15.341607Z"
    }
   },
   "outputs": [],
   "source": [
    "#######Monthly Demean %%%\n",
    "ytrain_demean= ytrain - np.mean(ytrain);\n",
    "ytest_demean=ytest-np.mean(ytest);\n",
    "mtrain=np.mean(ytrain);\n",
    "mtest=np.mean(ytest);\n",
    "\n",
    "sd=np.zeros(len(xtrain.columns)) #dim of sd? sd for each characteristics\n",
    "for i in range(len(xtrain.columns)):\n",
    "    s=np.std(xtrain.iloc[:,[i]])\n",
    "    colnames = xtrain.columns\n",
    "    if s.values > 0:\n",
    "        colname = colnames[i]\n",
    "        xtrain.loc[:,colname]=xtrain[colname]/s.values\n",
    "        xtest.loc[:,colname]=xtest.loc[:,colname]/s.values\n",
    "        xoos.loc[:,colname]=xoos.loc[:,colname]/s.values\n",
    "        sd[i]=s.values\n",
    "    #### Start to Train %%%\n",
    "    #model fitting"
   ]
  },
  {
   "cell_type": "code",
   "execution_count": null,
   "metadata": {
    "execution": {
     "iopub.execute_input": "2021-11-13T04:33:18.115435Z",
     "iopub.status.busy": "2021-11-13T04:33:18.11514Z",
     "iopub.status.idle": "2021-11-13T04:33:18.120121Z",
     "shell.execute_reply": "2021-11-13T04:33:18.119137Z",
     "shell.execute_reply.started": "2021-11-13T04:33:18.115406Z"
    }
   },
   "outputs": [],
   "source": [
    "def fw2(x):\n",
    "    maximum = max(map(max,x))\n",
    "    p = np.where(x == maximum)\n",
    "    return p"
   ]
  },
  {
   "cell_type": "code",
   "execution_count": null,
   "metadata": {
    "execution": {
     "iopub.execute_input": "2021-11-13T04:33:20.516759Z",
     "iopub.status.busy": "2021-11-13T04:33:20.516425Z",
     "iopub.status.idle": "2021-11-13T04:36:20.471603Z",
     "shell.execute_reply": "2021-11-13T04:36:20.470965Z",
     "shell.execute_reply.started": "2021-11-13T04:33:20.516713Z"
    }
   },
   "outputs": [],
   "source": [
    "###Number of predictors\n",
    "nump = xtrain.shape[1]\n",
    "######num of predictors to sample\n",
    "lamv = np.arange(10,nump,50)\n",
    "###try\n",
    "#lamv = [100]\n",
    "\n",
    "##num of trees\n",
    "ne=100\n",
    "####maximum of split\n",
    "\n",
    "lamc = [2,4,8,16,32]\n",
    "####try\n",
    "#lamc = [8];\n",
    "r = np.zeros((len(lamv),len(lamc),3))\n",
    "\n",
    "for n1 in range(len(lamv)):\n",
    "    nf=lamv[n1]\n",
    "    for n2 in range(len(lamc)):\n",
    "        nc = lamc[n2]\n",
    "        clf = ensemble.RandomForestRegressor(n_estimators = ne,max_features = nf,max_depth= nc)\n",
    "\n",
    "        clffit = clf.fit(xtrain,np.ravel(ytrain))\n",
    "        yhatbig1 = clffit.predict(xtest)\n",
    "        r[n1,n2,0]=1 - np.linalg.norm(yhatbig1-ytest['RET'])**2 / np.linalg.norm((ytest['RET']-mtrain.values))**2\n",
    "        yhatbig1= clffit.predict(xoos)\n",
    "        r[n1,n2,1]=1-np.linalg.norm((yhatbig1-yoos['RET']))**2/np.linalg.norm((yoos['RET']-mtrain.values))**2\n",
    "        yhatbig1= clffit.predict(xtrain)\n",
    "        r[n1,n2,2]=1-np.linalg.norm((yhatbig1-ytrain['RET']))**2/np.linalg.norm((ytrain['RET']-mtrain.values))**2\n",
    "\n",
    "fw_2 = fw2(r[:,:,0])\n",
    "r2_oos=r[fw_2[0][0],fw_2[1][0],1]\n",
    "r2_is=r[fw_2[0][0],fw_2[1][0],2]\n",
    "print('RF R2 : '+np.str0(r2_oos))\n"
   ]
  },
  {
   "cell_type": "code",
   "execution_count": null,
   "metadata": {
    "execution": {
     "iopub.execute_input": "2021-11-12T07:33:42.678253Z",
     "iopub.status.busy": "2021-11-12T07:33:42.677943Z"
    }
   },
   "outputs": [],
   "source": [
    "for i in range(len(X_all.columns)):\n",
    "    xtrain_1=xtrain.drop(columns=[X_all.columns[i]])\n",
    "    xtest_1=xtest.drop(columns=[X_all.columns[i]])\n",
    "    xoos_1= xoos.drop(columns=[X_all.columns[i]])\n",
    "    \n",
    "    ###Number of predictors\n",
    "    nump = xtrain_1.shape[1]\n",
    "    ######num of predictors to sample\n",
    "    lamv = np.arange(10,nump,50)\n",
    "    ###try\n",
    "    #lamv = [100]\n",
    "\n",
    "    ##num of trees\n",
    "    ne=100\n",
    "    ####maximum of split\n",
    "\n",
    "    lamc = [2,4,8,16,32]\n",
    "    ####try\n",
    "    #lamc = [8];\n",
    "    r = np.zeros((len(lamv),len(lamc),3))\n",
    "\n",
    "    for n1 in range(len(lamv)):\n",
    "        nf=lamv[n1]\n",
    "        for n2 in range(len(lamc)):\n",
    "            nc = lamc[n2]\n",
    "            clf = ensemble.RandomForestRegressor(n_estimators = ne,max_features = nf,max_depth= nc)\n",
    "\n",
    "            clffit = clf.fit(xtrain_1,np.ravel(ytrain))\n",
    "            yhatbig1 = clffit.predict(xtest_1)\n",
    "            r[n1,n2,0]=1 - np.linalg.norm(yhatbig1-ytest['RET'])**2 / np.linalg.norm((ytest['RET']-mtrain.values))**2\n",
    "            yhatbig1= clffit.predict(xoos_1)\n",
    "            r[n1,n2,1]=1-np.linalg.norm((yhatbig1-yoos['RET']))**2/np.linalg.norm((yoos['RET']-mtrain.values))**2\n",
    "            yhatbig1= clffit.predict(xtrain_1)\n",
    "            r[n1,n2,2]=1-np.linalg.norm((yhatbig1-ytrain['RET']))**2/np.linalg.norm((ytrain['RET']-mtrain.values))**2\n",
    "\n",
    "    fw_2 = fw2(r[:,:,0])\n",
    "    r2_oos_1=r[fw_2[0][0],fw_2[1][0],1]\n",
    "    r2_is_1=r[fw_2[0][0],fw_2[1][0],2]\n",
    "    d=r2_oos-r2_oos_1\n",
    "    print(X_all.columns[i]+':'+np.str0(d))\n",
    "\n",
    "        "
   ]
  },
  {
   "cell_type": "markdown",
   "metadata": {},
   "source": [
    "<!--\n",
    "beta:0.029227020177641894\n",
    "betasq:0.0760829365645983\n",
    "chmom:0.01926140345542926\n",
    "dolvol:-0.03608237769034006\n",
    "idiovol:-0.048767954736835595\n",
    "indmom:-0.003641258117789592\n",
    "mom1m:0.02669423380766922\n",
    "mom6m:0.05441371398067152\n",
    "mom12m:0.0005489330941026438\n",
    "mom36m:-0.00503827854663097\n",
    "pricedelay:0.047043385087462086\n",
    "turn:-0.021599761408751084\n",
    "absacc:-0.01035980692004923\n",
    "acc:0.027893754854211528\n",
    "age:0.10377845482227399\n",
    "agr:0.03917949358500428\n",
    "cashdebt:0.06501226959723794\n",
    "cashpr:0.012597490220743968\n",
    "cfp:0.019567109408422434\n",
    "cfp_ia:0.01596782659532625\n",
    "chatoia:-0.058749088754847856\n",
    "chcsho:0.06248248719981264\n",
    "chempia:0.004264217968765527\n",
    "chinv:0.009298144964421384\n",
    "chpmia:0.05156191982383951\n",
    "convind:0.013648186899199999\n",
    "currat:0.15715009316430062\n",
    "depr:0.04816170052441193\n",
    "divi:0.04299246238447196\n",
    "divo:0.052028077613764934\n",
    "dy:-0.0054784649061097035\n",
    "egr:0.09048540559299667\n",
    "ep:0.00836078992044098\n",
    "gma:-0.011308012267343237\n",
    "grcapx:0.013316311208009246\n",
    "grltnoa:0.0196532608753075\n",
    "herf:0.015571488533427269\n",
    "hire:0.07372218174202061\n",
    "invest:-0.015174370365575784\n",
    "lev:0.07585975513994003\n",
    "lgr:-0.019568063312263906\n",
    "mve_ia:0.06318789210059284\n",
    "operprof:-0.061236108231405684\n",
    "orgcap:0.00653854670320686\n",
    "pchcapx_ia:0.1717634971427877\n",
    "pchcurrat:0.025431084561027717\n",
    "pchdepr:0.020683425819052914\n",
    "pchgm_pchsale:0.003022032165736377\n",
    "pchquick:0.03612448967634063\n",
    "pchsale_pchinvt:-0.056254991845593905\n",
    "pchsale_pchrect:-0.054743732655047506\n",
    "pchsale_pchxsga:0.06615908509864532\n",
    "pchsaleinv:-0.04908425499449387\n",
    "pctacc:0.042881893831892004\n",
    "ps:-0.009579618859268946\n",
    "quick:0.03563523965716553\n",
    "rd:-0.01611751056699795\n",
    "rd_mve:-0.005532613552249099\n",
    "rd_sale:-0.03356283732852239\n",
    "realestate:-0.004785266885392714\n",
    "roic:0.07115423698835666\n",
    "salecash:-0.00980512123837518\n",
    "saleinv:-0.014041229246911868\n",
    "salerec:0.03545924710162973\n",
    "secured:0.03406607676964457\n",
    "securedind:0.0349718549737843\n",
    "sgr:0.036378012543789806\n",
    "sin:-0.03314444100740288\n",
    "sp:0.03947604531904925\n",
    "tang:-0.06037105667268916\n",
    "tb:-0.007526825534889703\n",
    "aeavol:-0.009239045431428172\n",
    "cash:-0.07063354753531681\n",
    "chtx:0.031558900836135884\n",
    "cinvest:-0.0029453777778121193\n",
    "ear:0.056845777849523715\n",
    "nincr:0.032874842449877706\n",
    "roaq:0.006271384868989038\n",
    "roavol:0.0011673053921730236\n",
    "roeq:0.023403922529807275\n",
    "rsup:0.060899627159751946\n",
    "stdacc:-0.051937594076731264\n",
    "stdcf:-0.05345967912475169\n",
    "ms:0.04553522549059785\n",
    "baspread:0.004767782704576229\n",
    "ill:0.03631967490735488\n",
    "maxret:0.02620839765683436\n",
    "retvol:-0.021583696172512434\n",
    "std_dolvol:-0.008652650033020404\n",
    "std_turn:-0.03169950736719618\n",
    "zerotrade:-0.0004310199442363327\n",
    "bm:-0.004485533348450588\n",
    "bm_ia:0.013903133882749996\n",
    "sic2_10:0.017751690196417647\n",
    "sic2_13:0.09484817414722668\n",
    "sic2_15:0.044093131876905334\n",
    "sic2_17:0.0447916667670587\n",
    "sic2_20:0.019278951553208135\n",
    "sic2_22:-0.007349424206752442\n",
    "sic2_23:-0.0262330657114187\n",
    "sic2_24:-0.03214185009070647\n",
    "sic2_25:0.02066260574576151\n",
    "sic2_26:0.034143320788051934\n",
    "sic2_27:0.03835294796106714\n",
    "sic2_28:0.06423122840019446\n",
    "sic2_29:-0.023095514234823034\n",
    "sic2_30:0.053323680477443514\n",
    "sic2_32:-0.023180794633780977\n",
    "sic2_33:0.011730115703527222\n",
    "sic2_34:-0.012186811226454708\n",
    "sic2_35:-0.036829144823282256\n",
    "sic2_36:0.03898851363310274\n",
    "sic2_37:-0.004767997139897506\n",
    "sic2_38:-0.03799596711021702\n",
    "sic2_39:0.024383966795524126\n",
    "sic2_40:0.03838971298569893\n",
    "sic2_41:0.2250304018924869\n",
    "sic2_42:0.021515734691873067\n",
    "sic2_44:0.014452860818104263\n",
    "sic2_45:0.018638157403672695\n",
    "sic2_47:0.08182080038717698\n",
    "sic2_48:0.07050294008732894\n",
    "sic2_49:0.023291220093931475\n",
    "sic2_50:0.014959823392025617\n",
    "sic2_51:0.024926050217622064\n",
    "sic2_52:-0.019527757722915373\n",
    "sic2_53:-0.004776893007423899\n",
    "sic2_54:0.015693662673298192\n",
    "sic2_56:0.04574846140741662\n",
    "sic2_57:0.05885801864369711\n",
    "sic2_58:-0.04298649644175567\n",
    "sic2_59:0.046626860438435225\n",
    "sic2_60:-0.031305105760051744\n",
    "sic2_61:-0.014212826720917171\n",
    "sic2_62:0.023338997708871823\n",
    "sic2_63:-0.03403597116376944\n",
    "sic2_64:0.024476203687678444\n",
    "sic2_65:-0.023189517054938102\n",
    "sic2_67:-0.021460287197457406\n",
    "sic2_70:-0.04912905570749371\n",
    "sic2_72:0.0043986664934045905"
   ]
  },
  {
   "cell_type": "code",
   "execution_count": null,
   "metadata": {
    "execution": {
     "iopub.execute_input": "2021-11-13T04:40:34.143544Z",
     "iopub.status.busy": "2021-11-13T04:40:34.142718Z",
     "iopub.status.idle": "2021-11-13T05:00:59.687076Z",
     "shell.execute_reply": "2021-11-13T05:00:59.685998Z",
     "shell.execute_reply.started": "2021-11-13T04:40:34.143502Z"
    }
   },
   "outputs": [],
   "source": [
    "# kaggle cloud is interropted so we run the code in another process\n",
    "for i in range(len(X_all.columns)-141):\n",
    "    xtrain_1=xtrain.drop(columns=[X_all.columns[i+141]])\n",
    "    xtest_1=xtest.drop(columns=[X_all.columns[i+141]])\n",
    "    xoos_1= xoos.drop(columns=[X_all.columns[i+141]])\n",
    "    \n",
    "    ###Number of predictors\n",
    "    nump = xtrain_1.shape[1]\n",
    "    ######num of predictors to sample\n",
    "    lamv = np.arange(10,nump,50)\n",
    "    ###try\n",
    "    #lamv = [100]\n",
    "\n",
    "    ##num of trees\n",
    "    ne=100\n",
    "    ####maximum of split\n",
    "\n",
    "    lamc = [2,4,8,16,32]\n",
    "    ####try\n",
    "    #lamc = [8];\n",
    "    r = np.zeros((len(lamv),len(lamc),3))\n",
    "\n",
    "    for n1 in range(len(lamv)):\n",
    "        nf=lamv[n1]\n",
    "        for n2 in range(len(lamc)):\n",
    "            nc = lamc[n2]\n",
    "            clf = ensemble.RandomForestRegressor(n_estimators = ne,max_features = nf,max_depth= nc)\n",
    "\n",
    "            clffit = clf.fit(xtrain_1,np.ravel(ytrain))\n",
    "            yhatbig1 = clffit.predict(xtest_1)\n",
    "            r[n1,n2,0]=1 - np.linalg.norm(yhatbig1-ytest['RET'])**2 / np.linalg.norm((ytest['RET']-mtrain.values))**2\n",
    "            yhatbig1= clffit.predict(xoos_1)\n",
    "            r[n1,n2,1]=1-np.linalg.norm((yhatbig1-yoos['RET']))**2/np.linalg.norm((yoos['RET']-mtrain.values))**2\n",
    "            yhatbig1= clffit.predict(xtrain_1)\n",
    "            r[n1,n2,2]=1-np.linalg.norm((yhatbig1-ytrain['RET']))**2/np.linalg.norm((ytrain['RET']-mtrain.values))**2\n",
    "\n",
    "    fw_2 = fw2(r[:,:,0])\n",
    "    r2_oos_1=r[fw_2[0][0],fw_2[1][0],1]\n",
    "    r2_is_1=r[fw_2[0][0],fw_2[1][0],2]\n",
    "    d=r2_oos-r2_oos_1\n",
    "    print(X_all.columns[i+141]+':'+np.str0(d))\n"
   ]
  },
  {
   "cell_type": "markdown",
   "metadata": {},
   "source": [
    "<!--\n",
    "sic2_73:0.006055869428575056\n",
    "sic2_75:-0.08242972297501239\n",
    "sic2_78:0.008387160021703144\n",
    "sic2_79:0.021940562981372258\n",
    "sic2_80:-0.030618373120196107\n",
    "sic2_87:-0.040437031598137496\n",
    "sic2_99:-0.0448481341271294"
   ]
  }
 ],
 "metadata": {
  "kernelspec": {
   "display_name": "Python 3",
   "language": "python",
   "name": "python3"
  },
  "language_info": {
   "codemirror_mode": {
    "name": "ipython",
    "version": 3
   },
   "file_extension": ".py",
   "mimetype": "text/x-python",
   "name": "python",
   "nbconvert_exporter": "python",
   "pygments_lexer": "ipython3",
   "version": "3.7.1"
  }
 },
 "nbformat": 4,
 "nbformat_minor": 4
}
