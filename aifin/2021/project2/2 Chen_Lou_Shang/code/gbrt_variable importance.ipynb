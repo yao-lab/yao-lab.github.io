{
 "cells": [
  {
   "cell_type": "code",
   "execution_count": null,
   "metadata": {
    "execution": {
     "iopub.execute_input": "2021-11-12T07:35:57.913349Z",
     "iopub.status.busy": "2021-11-12T07:35:57.912721Z",
     "iopub.status.idle": "2021-11-12T07:36:00.053417Z",
     "shell.execute_reply": "2021-11-12T07:36:00.052424Z",
     "shell.execute_reply.started": "2021-11-12T07:35:57.913241Z"
    }
   },
   "outputs": [],
   "source": [
    "import string\n",
    "import os\n",
    "import datetime\n",
    "import numpy as np\n",
    "import pandas as pd\n",
    "import statsmodels.api as sm\n",
    "import math\n",
    "from scipy.linalg import svd\n",
    "from sklearn import ensemble\n",
    "import scipy.linalg as la\n",
    "import scipy.sparse.linalg as sla\n",
    "from sklearn.model_selection import train_test_split, GridSearchCV, cross_val_score\n",
    "from time import time\n",
    "from sklearn import metrics"
   ]
  },
  {
   "cell_type": "code",
   "execution_count": null,
   "metadata": {
    "execution": {
     "iopub.execute_input": "2021-11-12T07:36:40.707546Z",
     "iopub.status.busy": "2021-11-12T07:36:40.707239Z",
     "iopub.status.idle": "2021-11-12T07:36:40.713257Z",
     "shell.execute_reply": "2021-11-12T07:36:40.711664Z",
     "shell.execute_reply.started": "2021-11-12T07:36:40.707514Z"
    }
   },
   "outputs": [],
   "source": [
    "import warnings\n",
    "warnings.filterwarnings('ignore')\n",
    "warnings.simplefilter('ignore')"
   ]
  },
  {
   "cell_type": "code",
   "execution_count": null,
   "metadata": {
    "execution": {
     "iopub.execute_input": "2021-11-12T07:37:05.764332Z",
     "iopub.status.busy": "2021-11-12T07:37:05.764049Z",
     "iopub.status.idle": "2021-11-12T07:37:08.236511Z",
     "shell.execute_reply": "2021-11-12T07:37:08.235769Z",
     "shell.execute_reply.started": "2021-11-12T07:37:05.764301Z"
    }
   },
   "outputs": [],
   "source": [
    "X_all = pd.read_csv('../input/project2/X_cleaned.csv')\n",
    "Y_all = pd.read_csv('../input/project2/Y_cleaned.csv')\n",
    "Date_index = pd.read_csv('../input/project2/Date_list.csv')\n",
    "Date_index['DATE']=pd.to_datetime(Date_index['DATE'])"
   ]
  },
  {
   "cell_type": "code",
   "execution_count": null,
   "metadata": {
    "execution": {
     "iopub.execute_input": "2021-11-12T07:37:23.679104Z",
     "iopub.status.busy": "2021-11-12T07:37:23.67824Z",
     "iopub.status.idle": "2021-11-12T07:37:23.695328Z",
     "shell.execute_reply": "2021-11-12T07:37:23.694477Z",
     "shell.execute_reply.started": "2021-11-12T07:37:23.679064Z"
    }
   },
   "outputs": [],
   "source": [
    "start_date = pd.to_datetime('1957-03-01')\n",
    "end_date =  start_date + pd.offsets.DateOffset(years=18)\n",
    "ind_training = (start_date < Date_index['DATE']) & (Date_index['DATE'] < end_date)\n",
    "ytrain = Y_all[ind_training]\n",
    "xtrain = X_all[ind_training]"
   ]
  },
  {
   "cell_type": "code",
   "execution_count": null,
   "metadata": {
    "execution": {
     "iopub.execute_input": "2021-11-12T07:37:34.641619Z",
     "iopub.status.busy": "2021-11-12T07:37:34.641006Z",
     "iopub.status.idle": "2021-11-12T07:37:34.655022Z",
     "shell.execute_reply": "2021-11-12T07:37:34.654291Z",
     "shell.execute_reply.started": "2021-11-12T07:37:34.641568Z"
    }
   },
   "outputs": [],
   "source": [
    "start_date =  end_date\n",
    "end_date = start_date + pd.offsets.DateOffset(years=12)\n",
    "ind_vali = (start_date < Date_index['DATE']) & (Date_index['DATE'] < end_date)\n",
    "ytest = Y_all[ind_vali]\n",
    "xtest= X_all[ind_vali]"
   ]
  },
  {
   "cell_type": "code",
   "execution_count": null,
   "metadata": {
    "execution": {
     "iopub.execute_input": "2021-11-12T07:37:45.215347Z",
     "iopub.status.busy": "2021-11-12T07:37:45.214686Z",
     "iopub.status.idle": "2021-11-12T07:37:45.238566Z",
     "shell.execute_reply": "2021-11-12T07:37:45.237649Z",
     "shell.execute_reply.started": "2021-11-12T07:37:45.2153Z"
    }
   },
   "outputs": [],
   "source": [
    "start_date =  end_date\n",
    "end_date = start_date + pd.offsets.DateOffset(years=30)\n",
    "ind_test = (start_date < Date_index['DATE']) & (Date_index['DATE'] < end_date)\n",
    "#print(type(ind_test))\n",
    "yoos = Y_all[ind_test]\n",
    "xoos= X_all[ind_test]"
   ]
  },
  {
   "cell_type": "code",
   "execution_count": null,
   "metadata": {
    "execution": {
     "iopub.execute_input": "2021-11-12T07:38:03.502072Z",
     "iopub.status.busy": "2021-11-12T07:38:03.501453Z",
     "iopub.status.idle": "2021-11-12T07:38:04.440027Z",
     "shell.execute_reply": "2021-11-12T07:38:04.438907Z",
     "shell.execute_reply.started": "2021-11-12T07:38:03.50203Z"
    }
   },
   "outputs": [],
   "source": [
    "#######Monthly Demean %%%\n",
    "ytrain_demean= ytrain - np.mean(ytrain);\n",
    "ytest_demean=ytest-np.mean(ytest);\n",
    "mtrain=np.mean(ytrain);\n",
    "mtest=np.mean(ytest);\n",
    "\n",
    "sd=np.zeros(len(xtrain.columns)) #dim of sd? sd for each characteristics\n",
    "for i in range(len(xtrain.columns)):\n",
    "    s=np.std(xtrain.iloc[:,[i]])\n",
    "    colnames = xtrain.columns\n",
    "    if s.values > 0:\n",
    "        colname = colnames[i]\n",
    "        xtrain.loc[:,colname]=xtrain[colname]/s.values\n",
    "        xtest.loc[:,colname]=xtest.loc[:,colname]/s.values\n",
    "        xoos.loc[:,colname]=xoos.loc[:,colname]/s.values\n",
    "        sd[i]=s.values\n",
    "    #### Start to Train %%%\n",
    "    #model fitting"
   ]
  },
  {
   "cell_type": "code",
   "execution_count": null,
   "metadata": {
    "execution": {
     "iopub.execute_input": "2021-11-12T07:40:56.04232Z",
     "iopub.status.busy": "2021-11-12T07:40:56.04196Z",
     "iopub.status.idle": "2021-11-12T07:41:21.46657Z",
     "shell.execute_reply": "2021-11-12T07:41:21.465691Z",
     "shell.execute_reply.started": "2021-11-12T07:40:56.042279Z"
    }
   },
   "outputs": [],
   "source": [
    "lamv=np.arange(-1,0,0.2)\n",
    "    #lamv = -0.6\n",
    "\n",
    "r=np.zeros((len(lamv),3))\n",
    "\n",
    "for n1 in range(len(lamv)):\n",
    "    lr=10**lamv[n1]\n",
    "    alpha=2\n",
    "    ne=50\n",
    "    clf = ensemble.GradientBoostingRegressor(loss = 'ls',learning_rate =lr,n_estimators = ne,criterion = 'friedman_mse',max_depth = 2)\n",
    "    clffit = clf.fit(xtrain,np.ravel(ytrain))\n",
    "    yhatbig1 = clffit.predict(xtest)\n",
    "    r[n1,0]=1 - np.linalg.norm(yhatbig1-ytest['RET'])**2 / np.linalg.norm((ytest['RET']-mtrain.values))**2\n",
    "    yhatbig1= clffit.predict(xoos)\n",
    "    r[n1,1]=1-np.linalg.norm((yhatbig1-yoos['RET']))**2/np.linalg.norm((yoos['RET']-mtrain.values))**2\n",
    "    yhatbig1= clffit.predict(xtrain)\n",
    "    r[n1,2]=1-np.linalg.norm((yhatbig1-ytrain['RET']))**2/np.linalg.norm((ytrain['RET']-mtrain.values))**2\n",
    "\n",
    "r2_oos=r[np.argmax(r[:,0]),1]\n",
    "r2_is=r[np.argmax(r[:,0]),2]\n",
    "print('GBRT R2 : '+np.str0(r2_oos) )"
   ]
  },
  {
   "cell_type": "code",
   "execution_count": null,
   "metadata": {
    "execution": {
     "iopub.execute_input": "2021-11-12T07:49:42.206957Z",
     "iopub.status.busy": "2021-11-12T07:49:42.206631Z",
     "iopub.status.idle": "2021-11-12T08:51:52.678663Z",
     "shell.execute_reply": "2021-11-12T08:51:52.67732Z",
     "shell.execute_reply.started": "2021-11-12T07:49:42.206927Z"
    }
   },
   "outputs": [],
   "source": [
    "for i in range(len(X_all.columns)):\n",
    "    xtrain_1=xtrain.drop(columns=[X_all.columns[i]])\n",
    "    xtest_1=xtest.drop(columns=[X_all.columns[i]])\n",
    "    xoos_1= xoos.drop(columns=[X_all.columns[i]])\n",
    "    \n",
    "    lamv=np.arange(-1,0,0.2)\n",
    "    #lamv = -0.6\n",
    "\n",
    "    r=np.zeros((len(lamv),3))\n",
    "\n",
    "    for n1 in range(len(lamv)):\n",
    "        lr=10**lamv[n1]\n",
    "        alpha=2\n",
    "        ne=50\n",
    "        clf = ensemble.GradientBoostingRegressor(loss = 'ls',learning_rate =lr,n_estimators = ne,criterion = 'friedman_mse',max_depth = 2)\n",
    "        clffit = clf.fit(xtrain_1,np.ravel(ytrain))\n",
    "        yhatbig1 = clffit.predict(xtest_1)\n",
    "        r[n1,0]=1 - np.linalg.norm(yhatbig1-ytest['RET'])**2 / np.linalg.norm((ytest['RET']-mtrain.values))**2\n",
    "        yhatbig1= clffit.predict(xoos_1)\n",
    "        r[n1,1]=1-np.linalg.norm((yhatbig1-yoos['RET']))**2/np.linalg.norm((yoos['RET']-mtrain.values))**2\n",
    "        yhatbig1= clffit.predict(xtrain_1)\n",
    "        r[n1,2]=1-np.linalg.norm((yhatbig1-ytrain['RET']))**2/np.linalg.norm((ytrain['RET']-mtrain.values))**2\n",
    "\n",
    "    r2_oos_1=r[np.argmax(r[:,0]),1]\n",
    "    r2_is_1=r[np.argmax(r[:,0]),2]\n",
    "    d=r2_oos-r2_oos_1\n",
    "    print(X_all.columns[i]+':'+np.str0(d))"
   ]
  },
  {
   "cell_type": "markdown",
   "metadata": {},
   "source": [
    "<!--\n",
    "beta:0.08161700490291413\n",
    "betasq:-0.19268278289813434\n",
    "chmom:-0.020923252826167804\n",
    "dolvol:-0.12781794858805373\n",
    "idiovol:-0.22363859661838514\n",
    "indmom:-0.03625675816535656\n",
    "mom1m:0.03556924168681741\n",
    "mom6m:-0.056875415400727825\n",
    "mom12m:-0.16815955022771956\n",
    "mom36m:0.07324836324374706\n",
    "pricedelay:-0.00023237962716127214\n",
    "turn:-0.04542008082879789\n",
    "absacc:-0.12718875857158762\n",
    "acc:-0.07774959550190541\n",
    "age:-0.14947300202164948\n",
    "agr:0.10561211167343387\n",
    "cashdebt:-0.0414941385970522\n",
    "cashpr:0.05833135293142311\n",
    "cfp:-0.023556726017946783\n",
    "cfp_ia:-0.0942818125004683\n",
    "chatoia:-0.11846718306835635\n",
    "chcsho:-0.07081942904391658\n",
    "chempia:-0.28261229377499664\n",
    "chinv:-0.20345544456457265\n",
    "chpmia:-0.19814693482513235\n",
    "convind:0.004702192804389327\n",
    "currat:-0.1263059017308783\n",
    "depr:-0.1463340997062601\n",
    "divi:-0.02372441580849305\n",
    "divo:-0.05561388690798408\n",
    "dy:-0.07304196867430868\n",
    "egr:-0.027545577089882034\n",
    "ep:-0.19357724242494978\n",
    "gma:-0.22766746536537896\n",
    "grcapx:0.14278501950492295\n",
    "grltnoa:-0.05398517803893066\n",
    "herf:-0.12042199368842788\n",
    "hire:-0.023717201583850933\n",
    "invest:-0.13791957500086482\n",
    "lev:-0.14157085935840863\n",
    "lgr:-0.30320679956250185\n",
    "mve_ia:-0.19322601124103977\n",
    "operprof:-0.135416822337441\n",
    "orgcap:-0.2370250387465811\n",
    "pchcapx_ia:-0.041121465851054584\n",
    "pchcurrat:-0.02910783677481099\n",
    "pchdepr:-0.007571524773971827\n",
    "pchgm_pchsale:-0.1794899874400726\n",
    "pchquick:-0.15985486096200052\n",
    "pchsale_pchinvt:-0.15707858189646284\n",
    "pchsale_pchrect:-0.1885917089263156\n",
    "pchsale_pchxsga:-0.060549314690300005\n",
    "pchsaleinv:-0.23841771222533126\n",
    "pctacc:-0.22753963993315107\n",
    "ps:0.17420869189338983\n",
    "quick:-0.22396476295815937\n",
    "rd:-0.26567147814547587\n",
    "rd_mve:0.03156951437191946\n",
    "rd_sale:-0.15289279611047402\n",
    "realestate:-0.10451560645979718\n",
    "roic:-0.14493583388228792\n",
    "salecash:0.13142690238182952\n",
    "saleinv:-0.12958173717870336\n",
    "salerec:-0.14559483075849178\n",
    "secured:-0.22456905843292363\n",
    "securedind:-0.12143871805930306\n",
    "sgr:-0.032531666763630174\n",
    "sin:-0.05180608979542045\n",
    "sp:-0.1196901309874483\n",
    "tang:-0.11940907423509461\n",
    "tb:0.011844295164260554\n",
    "aeavol:-0.10316739095209071\n",
    "cash:-0.07101769502519639\n",
    "chtx:-0.07161122645779505\n",
    "cinvest:0.06561325592531819\n",
    "ear:-0.0034493010131289026\n",
    "nincr:-0.22201963078539366\n",
    "roaq:-0.15121483344200204\n",
    "roavol:-0.11064924696753753\n",
    "roeq:-0.35138049666605164\n",
    "rsup:-0.15767044356740811\n",
    "stdacc:-0.09712427642220156\n",
    "stdcf:-0.12095717422169727\n",
    "ms:0.0007879174352170004\n",
    "baspread:-0.1644322563681695\n",
    "ill:0.14059608276133018\n",
    "maxret:-0.221929687920694\n",
    "retvol:-0.030525044818140223\n",
    "std_dolvol:-0.04067477565258759\n",
    "std_turn:-0.20263326259204817\n",
    "zerotrade:-0.12423475576629928\n",
    "bm:-0.06006498046053865\n",
    "bm_ia:-0.20364758844626696\n",
    "sic2_10:-0.05415765653852356\n",
    "sic2_13:-0.1293714609170311\n",
    "sic2_15:-0.015989226050264538\n",
    "sic2_17:-0.2030986775769983\n",
    "sic2_20:-0.12850983872877952\n",
    "sic2_22:-0.014829030683344069\n",
    "sic2_23:-0.09768237166161375\n",
    "sic2_24:-0.12673288221314438\n",
    "sic2_25:-0.22564746831190474\n",
    "sic2_26:-0.058479373798578926\n",
    "sic2_27:-0.11721453932164883\n",
    "sic2_28:-0.15922068291750158\n",
    "sic2_29:-0.22740683137037498\n",
    "sic2_30:-0.13368833660774238\n",
    "sic2_32:-0.08705304754768317\n",
    "sic2_33:-0.10327292577891489\n",
    "sic2_34:-0.024624200083044112\n",
    "sic2_35:-0.05960715073177081\n",
    "sic2_36:-0.23866156186536003\n",
    "sic2_37:-0.13002327255597645\n",
    "sic2_38:-0.023109167347349135\n",
    "sic2_39:-0.05987123202320932\n",
    "sic2_40:-0.11408672346073923\n",
    "sic2_41:-0.22839734719251004\n",
    "sic2_42:-0.13503583560935173\n",
    "sic2_44:-0.01292650451952504\n",
    "sic2_45:-0.14418877814478437\n",
    "sic2_47:-0.22735120602070102\n",
    "sic2_48:-0.024539251728568523\n",
    "sic2_49:0.08996350433278621\n",
    "sic2_50:-0.12004672142063999\n",
    "sic2_51:0.08522370525493539\n",
    "sic2_52:-0.16178175476440293\n",
    "sic2_53:0.07633418350004506\n",
    "sic2_54:-0.020585846543067277\n",
    "sic2_56:-0.035990880089967536\n",
    "sic2_57:-0.017065085237424782\n",
    "sic2_58:-0.1345626014470156\n",
    "sic2_59:-0.12116320180962914\n",
    "sic2_60:-0.05293653350904837\n",
    "sic2_61:-0.13429148303017202\n",
    "sic2_62:-0.06070723758026553\n",
    "sic2_63:-0.03340023199721065\n",
    "sic2_64:-0.11498582287188786\n",
    "sic2_65:-0.12601581524718908\n",
    "sic2_67:0.16790956516501998\n",
    "sic2_70:-0.10277825327818091\n",
    "sic2_72:0.083650138336119\n",
    "sic2_73:-0.2278274468910655\n",
    "sic2_75:-0.20210396743555803\n",
    "sic2_78:-0.02123175076104955\n",
    "sic2_79:-0.1997230291940837\n",
    "sic2_80:-0.12828062702496323\n",
    "sic2_87:-0.22689562601043933\n",
    "sic2_99:-0.15518220055535403"
   ]
  }
 ],
 "metadata": {
  "kernelspec": {
   "display_name": "Python 3",
   "language": "python",
   "name": "python3"
  },
  "language_info": {
   "codemirror_mode": {
    "name": "ipython",
    "version": 3
   },
   "file_extension": ".py",
   "mimetype": "text/x-python",
   "name": "python",
   "nbconvert_exporter": "python",
   "pygments_lexer": "ipython3",
   "version": "3.7.1"
  }
 },
 "nbformat": 4,
 "nbformat_minor": 4
}
