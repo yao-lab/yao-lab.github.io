{
 "cells": [
  {
   "cell_type": "code",
   "execution_count": 1,
   "id": "586fb720",
   "metadata": {},
   "outputs": [],
   "source": [
    "import pandas as pd\n",
    "import numpy as np\n",
    "import os.path as op\n",
    "import functools\n",
    "import sys\n",
    "\n",
    "import matplotlib.pyplot as plt\n",
    "import torch\n",
    "import torch.nn as nn\n",
    "import torch.optim as optim\n",
    "import tqdm\n",
    "\n",
    "IMAGE_WIDTH = {5: 15, 20: 60, 60: 180}\n",
    "IMAGE_HEIGHT = {5: 32, 20: 64, 60: 96}   "
   ]
  },
  {
   "cell_type": "markdown",
   "id": "018f4397",
   "metadata": {},
   "source": [
    "### Model development"
   ]
  },
  {
   "cell_type": "code",
   "execution_count": 16,
   "id": "a051025a",
   "metadata": {},
   "outputs": [
    {
     "name": "stdout",
     "output_type": "stream",
     "text": [
      "CNN(\n",
      "  (conv1): Conv2d(1, 64, kernel_size=(5, 3), stride=(3, 1), padding=(16, 1), dilation=(2, 1))\n",
      "  (norm1): BatchNorm2d(64, eps=1e-05, momentum=0.1, affine=True, track_running_stats=True)\n",
      "  (relu1): LeakyReLU(negative_slope=0.01)\n",
      "  (pool1): MaxPool2d(kernel_size=(2, 1), stride=(2, 1), padding=0, dilation=1, ceil_mode=False)\n",
      "  (conv2): Conv2d(64, 128, kernel_size=(5, 3), stride=(1, 1), padding=(2, 1))\n",
      "  (norm2): BatchNorm2d(128, eps=1e-05, momentum=0.1, affine=True, track_running_stats=True)\n",
      "  (relu2): LeakyReLU(negative_slope=0.01)\n",
      "  (pool2): MaxPool2d(kernel_size=(2, 1), stride=(2, 1), padding=0, dilation=1, ceil_mode=False)\n",
      "  (conv3): Conv2d(128, 256, kernel_size=(5, 3), stride=(1, 1), padding=(2, 1))\n",
      "  (norm3): BatchNorm2d(256, eps=1e-05, momentum=0.1, affine=True, track_running_stats=True)\n",
      "  (relu3): LeakyReLU(negative_slope=0.01)\n",
      "  (pool3): MaxPool2d(kernel_size=(2, 1), stride=(2, 1), padding=0, dilation=1, ceil_mode=False)\n",
      "  (dropout): Dropout(p=0.5, inplace=False)\n",
      "  (fc1): Linear(in_features=46080, out_features=2, bias=True)\n",
      "  (out): Softmax(dim=1)\n",
      ")\n"
     ]
    }
   ],
   "source": [
    "from torch.nn import Module\n",
    "from torch import nn\n",
    "\n",
    "class CNN(Module):\n",
    "    def __init__(self):\n",
    "        super(CNN, self).__init__()\n",
    "        self.conv1 = nn.Conv2d(in_channels = 1, out_channels=64, kernel_size=(5, 3), stride = (3,1), padding= (16,1), dilation = (2,1)) \n",
    "        self.norm1 = nn.BatchNorm2d(64)\n",
    "        self.relu1 = nn.LeakyReLU(0.01)\n",
    "        self.pool1 = nn.MaxPool2d(kernel_size = (2,1))\n",
    "        self.conv2 = nn.Conv2d(in_channels = 64, out_channels=128, kernel_size=(5, 3), stride = 1, padding= (2,1))\n",
    "        self.norm2 = nn.BatchNorm2d(128)\n",
    "        self.relu2 = nn.LeakyReLU(0.01)\n",
    "        self.pool2 = nn.MaxPool2d(kernel_size = (2,1))\n",
    "        self.conv3 = nn.Conv2d(in_channels = 128, out_channels=256, kernel_size=(5, 3), stride = 1, padding= (2,1))\n",
    "        self.norm3 = nn.BatchNorm2d(256)\n",
    "        self.relu3 = nn.LeakyReLU(0.01)\n",
    "        self.pool3 = nn.MaxPool2d(kernel_size = (2,1))\n",
    "        self.dropout = nn.Dropout(0.5)\n",
    "        self.fc1 = nn.Linear(46080, 2)\n",
    "        self.out = nn.Softmax(dim = 1)\n",
    "\n",
    "    def forward(self, x):\n",
    "        y = self.conv1(x)\n",
    "        y = self.norm1(y)\n",
    "        y = self.relu1(y)\n",
    "        y = self.pool1(y)\n",
    "        y = self.conv2(y)\n",
    "        y = self.norm2(y)\n",
    "        y = self.relu2(y)\n",
    "        y = self.pool2(y)\n",
    "        y = self.conv3(y)\n",
    "        y = self.norm3(y)\n",
    "        y = self.relu3(y)\n",
    "        y = self.pool3(y)\n",
    "        y = y.view(y.size()[0],-1)\n",
    "        y = self.dropout(y)\n",
    "        y = self.fc1(y)\n",
    "        y = self.out(y)\n",
    "        return y\n",
    "\n",
    "net = CNN()\n",
    "print(net)"
   ]
  },
  {
   "cell_type": "code",
   "execution_count": 3,
   "id": "fba97e41",
   "metadata": {},
   "outputs": [
    {
     "name": "stdout",
     "output_type": "stream",
     "text": [
      "----------------------------------------------------------------\n",
      "        Layer (type)               Output Shape         Param #\n",
      "================================================================\n",
      "            Conv2d-1           [-1, 64, 30, 60]           1,024\n",
      "       BatchNorm2d-2           [-1, 64, 30, 60]             128\n",
      "         LeakyReLU-3           [-1, 64, 30, 60]               0\n",
      "         MaxPool2d-4           [-1, 64, 15, 60]               0\n",
      "            Conv2d-5          [-1, 128, 15, 60]         123,008\n",
      "       BatchNorm2d-6          [-1, 128, 15, 60]             256\n",
      "         LeakyReLU-7          [-1, 128, 15, 60]               0\n",
      "         MaxPool2d-8           [-1, 128, 7, 60]               0\n",
      "            Conv2d-9           [-1, 256, 7, 60]         491,776\n",
      "      BatchNorm2d-10           [-1, 256, 7, 60]             512\n",
      "        LeakyReLU-11           [-1, 256, 7, 60]               0\n",
      "        MaxPool2d-12           [-1, 256, 3, 60]               0\n",
      "          Dropout-13                [-1, 46080]               0\n",
      "           Linear-14                    [-1, 2]          92,162\n",
      "          Softmax-15                    [-1, 2]               0\n",
      "================================================================\n",
      "Total params: 708,866\n",
      "Trainable params: 708,866\n",
      "Non-trainable params: 0\n",
      "----------------------------------------------------------------\n",
      "Input size (MB): 0.01\n",
      "Forward/backward pass size (MB): 9.29\n",
      "Params size (MB): 2.70\n",
      "Estimated Total Size (MB): 12.01\n",
      "----------------------------------------------------------------\n"
     ]
    }
   ],
   "source": [
    "from torchsummary import summary\n",
    "\n",
    "summary(net, input_size=(1,64,60), device=\"cpu\")"
   ]
  },
  {
   "cell_type": "markdown",
   "id": "21f0873f",
   "metadata": {},
   "source": [
    "### Adopt CrossEntropyLoss, Adam optimizer with learning rate 10-5"
   ]
  },
  {
   "cell_type": "code",
   "execution_count": 18,
   "id": "eb15fff7",
   "metadata": {},
   "outputs": [],
   "source": [
    "optimizer = optim.Adam(net.parameters(),lr = 0.00001)\n",
    "criterion = nn.CrossEntropyLoss()\n",
    "device = torch.device('cuda' if torch.cuda.is_available() else 'cpu')\n",
    "\n",
    "net = net.to(device)\n",
    "criterion = criterion.to(device)"
   ]
  },
  {
   "cell_type": "code",
   "execution_count": 11,
   "id": "e330a32f",
   "metadata": {
    "scrolled": true
   },
   "outputs": [
    {
     "name": "stdout",
     "output_type": "stream",
     "text": [
      "2000\n",
      "2001\n",
      "2002\n",
      "2003\n",
      "2004\n",
      "2005\n",
      "2006\n",
      "2007\n",
      "2008\n",
      "2009\n",
      "2010\n",
      "2011\n",
      "2012\n",
      "2013\n",
      "2014\n",
      "2015\n",
      "2016\n",
      "2017\n",
      "2018\n",
      "2019\n"
     ]
    },
    {
     "data": {
      "text/plain": [
       "(1502123, 64, 60)"
      ]
     },
     "execution_count": 11,
     "metadata": {},
     "output_type": "execute_result"
    }
   ],
   "source": [
    "test =[]\n",
    "y_test = pd.DataFrame()\n",
    "for year in range(2000,2020):\n",
    "    print(year)\n",
    "    train = np.memmap(op.join(\"./img_data/monthly_20d/\", f\"20d_month_has_vb_[20]_ma_{year}_images.dat\"), dtype=np.uint8, mode='r+').reshape(\\\n",
    "                        (-1, IMAGE_HEIGHT[20], IMAGE_WIDTH[20]))\n",
    "    test.append(train)\n",
    "    label_df_train = pd.read_feather(op.join(\"./img_data/monthly_20d/\", f\"20d_month_has_vb_[20]_ma_{year}_labels_w_delay.feather\"))['Ret_20d']\n",
    "    y_test= pd.concat([y_test,label_df_train],axis= 0)\n",
    "test = np.concatenate(test, axis=0, out=None)\n",
    "test.shape"
   ]
  },
  {
   "cell_type": "code",
   "execution_count": 12,
   "id": "182f2ea3",
   "metadata": {},
   "outputs": [],
   "source": [
    "import torch.utils.data as Data\n",
    "from torch.utils.data import TensorDataset\n",
    "BATCH_SIZE = 128\n",
    "def labeling(x):\n",
    "    if x>0:\n",
    "        return 0\n",
    "    else:\n",
    "        return 1\n",
    "y_test.columns = ['Ret_20d']\n",
    "y_test = y_test['Ret_20d'].apply(labeling)\n",
    "y_test = np.array(y_test).reshape((-1,1))\n",
    "\n",
    "x_test = torch.Tensor(test)\n",
    "y_test = torch.Tensor(y_test)\n",
    "\n",
    "test_loader = Data.DataLoader(dataset=TensorDataset(x_test, y_test), \\\n",
    "                               batch_size=BATCH_SIZE, shuffle=True)"
   ]
  },
  {
   "cell_type": "code",
   "execution_count": 15,
   "id": "364d98fe",
   "metadata": {},
   "outputs": [
    {
     "data": {
      "text/plain": [
       "141"
      ]
     },
     "execution_count": 15,
     "metadata": {},
     "output_type": "execute_result"
    }
   ],
   "source": [
    "import gc\n",
    "gc.collect()"
   ]
  },
  {
   "cell_type": "code",
   "execution_count": 24,
   "id": "f6ed61ca",
   "metadata": {},
   "outputs": [
    {
     "name": "stdout",
     "output_type": "stream",
     "text": [
      "|Batch| 0 |loss_test| 0.7172368168830872 |test_acc| tensor(0.5469)\n",
      "|Batch| 100 |loss_test| 0.7197215557098389 |test_acc| tensor(0.5859)\n",
      "|Batch| 200 |loss_test| 0.7050319910049438 |test_acc| tensor(0.5391)\n",
      "|Batch| 300 |loss_test| 0.7936943173408508 |test_acc| tensor(0.4297)\n",
      "|Batch| 400 |loss_test| 0.7536314129829407 |test_acc| tensor(0.5156)\n",
      "|Batch| 500 |loss_test| 0.7434335350990295 |test_acc| tensor(0.5312)\n",
      "|Batch| 600 |loss_test| 0.76297926902771 |test_acc| tensor(0.4766)\n",
      "|Batch| 700 |loss_test| 0.696584939956665 |test_acc| tensor(0.5703)\n",
      "|Batch| 800 |loss_test| 0.7282213568687439 |test_acc| tensor(0.5312)\n",
      "|Batch| 900 |loss_test| 0.7502193450927734 |test_acc| tensor(0.4844)\n",
      "|Batch| 1000 |loss_test| 0.7977944612503052 |test_acc| tensor(0.4062)\n",
      "|Batch| 1100 |loss_test| 0.7411459684371948 |test_acc| tensor(0.4609)\n",
      "|Batch| 1200 |loss_test| 0.7153287529945374 |test_acc| tensor(0.5469)\n",
      "|Batch| 1300 |loss_test| 0.739177942276001 |test_acc| tensor(0.4844)\n",
      "|Batch| 1400 |loss_test| 0.6813021898269653 |test_acc| tensor(0.5625)\n",
      "|Batch| 1500 |loss_test| 0.749649703502655 |test_acc| tensor(0.4922)\n",
      "|Batch| 1600 |loss_test| 0.7373279929161072 |test_acc| tensor(0.5000)\n",
      "|Batch| 1700 |loss_test| 0.7000125050544739 |test_acc| tensor(0.5547)\n",
      "|Batch| 1800 |loss_test| 0.6870332956314087 |test_acc| tensor(0.5781)\n",
      "|Batch| 1900 |loss_test| 0.6766915321350098 |test_acc| tensor(0.5859)\n",
      "|Batch| 2000 |loss_test| 0.7556934952735901 |test_acc| tensor(0.5234)\n",
      "|Batch| 2100 |loss_test| 0.681300163269043 |test_acc| tensor(0.6016)\n",
      "|Batch| 2200 |loss_test| 0.7280625104904175 |test_acc| tensor(0.5156)\n",
      "|Batch| 2300 |loss_test| 0.7261143326759338 |test_acc| tensor(0.5312)\n",
      "|Batch| 2400 |loss_test| 0.7720531821250916 |test_acc| tensor(0.4766)\n",
      "|Batch| 2500 |loss_test| 0.7385141849517822 |test_acc| tensor(0.4922)\n",
      "|Batch| 2600 |loss_test| 0.7908342480659485 |test_acc| tensor(0.4453)\n",
      "|Batch| 2700 |loss_test| 0.6834516525268555 |test_acc| tensor(0.6094)\n",
      "|Batch| 2800 |loss_test| 0.7374110817909241 |test_acc| tensor(0.5156)\n",
      "|Batch| 2900 |loss_test| 0.7671058773994446 |test_acc| tensor(0.4922)\n",
      "|Batch| 3000 |loss_test| 0.8103023171424866 |test_acc| tensor(0.4219)\n",
      "|Batch| 3100 |loss_test| 0.7022247910499573 |test_acc| tensor(0.5781)\n",
      "|Batch| 3200 |loss_test| 0.725060760974884 |test_acc| tensor(0.5547)\n",
      "|Batch| 3300 |loss_test| 0.7545602917671204 |test_acc| tensor(0.5000)\n",
      "|Batch| 3400 |loss_test| 0.7260191440582275 |test_acc| tensor(0.5547)\n",
      "|Batch| 3500 |loss_test| 0.7223427295684814 |test_acc| tensor(0.5547)\n",
      "|Batch| 3600 |loss_test| 0.7094935178756714 |test_acc| tensor(0.5391)\n",
      "|Batch| 3700 |loss_test| 0.7450574040412903 |test_acc| tensor(0.5000)\n",
      "|Batch| 3800 |loss_test| 0.7411677241325378 |test_acc| tensor(0.5000)\n",
      "|Batch| 3900 |loss_test| 0.7654703855514526 |test_acc| tensor(0.4766)\n",
      "|Batch| 4000 |loss_test| 0.7088103294372559 |test_acc| tensor(0.5469)\n",
      "|Batch| 4100 |loss_test| 0.7060024738311768 |test_acc| tensor(0.5625)\n",
      "|Batch| 4200 |loss_test| 0.7059075236320496 |test_acc| tensor(0.5781)\n",
      "|Batch| 4300 |loss_test| 0.7764941453933716 |test_acc| tensor(0.4453)\n",
      "|Batch| 4400 |loss_test| 0.726073682308197 |test_acc| tensor(0.5391)\n",
      "|Batch| 4500 |loss_test| 0.7918225526809692 |test_acc| tensor(0.4453)\n",
      "|Batch| 4600 |loss_test| 0.7675230503082275 |test_acc| tensor(0.4688)\n",
      "|Batch| 4700 |loss_test| 0.7868642807006836 |test_acc| tensor(0.4375)\n",
      "|Batch| 4800 |loss_test| 0.6862711310386658 |test_acc| tensor(0.5703)\n",
      "|Batch| 4900 |loss_test| 0.7625388503074646 |test_acc| tensor(0.5078)\n",
      "|Batch| 5000 |loss_test| 0.6973129510879517 |test_acc| tensor(0.5781)\n",
      "|Batch| 5100 |loss_test| 0.7195407748222351 |test_acc| tensor(0.5547)\n",
      "|Batch| 5200 |loss_test| 0.748977780342102 |test_acc| tensor(0.5000)\n",
      "|Batch| 5300 |loss_test| 0.693143904209137 |test_acc| tensor(0.5156)\n",
      "|Batch| 5400 |loss_test| 0.7724905014038086 |test_acc| tensor(0.4453)\n",
      "|Batch| 5500 |loss_test| 0.7274892330169678 |test_acc| tensor(0.5391)\n",
      "|Batch| 5600 |loss_test| 0.828244149684906 |test_acc| tensor(0.4062)\n",
      "|Batch| 5700 |loss_test| 0.7571051716804504 |test_acc| tensor(0.4688)\n",
      "|Batch| 5800 |loss_test| 0.7699571847915649 |test_acc| tensor(0.4609)\n",
      "|Batch| 5900 |loss_test| 0.7455248236656189 |test_acc| tensor(0.4922)\n",
      "|Batch| 6000 |loss_test| 0.7462992668151855 |test_acc| tensor(0.5000)\n",
      "|Batch| 6100 |loss_test| 0.7552161812782288 |test_acc| tensor(0.4844)\n",
      "|Batch| 6200 |loss_test| 0.7713143229484558 |test_acc| tensor(0.4062)\n",
      "|Batch| 6300 |loss_test| 0.7323483824729919 |test_acc| tensor(0.4766)\n",
      "|Batch| 6400 |loss_test| 0.720759928226471 |test_acc| tensor(0.5234)\n",
      "|Batch| 6500 |loss_test| 0.7550283670425415 |test_acc| tensor(0.4766)\n",
      "|Batch| 6600 |loss_test| 0.7859783172607422 |test_acc| tensor(0.4453)\n",
      "|Batch| 6700 |loss_test| 0.6910249590873718 |test_acc| tensor(0.6172)\n",
      "|Batch| 6800 |loss_test| 0.7001020908355713 |test_acc| tensor(0.5859)\n",
      "|Batch| 6900 |loss_test| 0.7119686007499695 |test_acc| tensor(0.5859)\n",
      "|Batch| 7000 |loss_test| 0.7324872016906738 |test_acc| tensor(0.5234)\n",
      "|Batch| 7100 |loss_test| 0.6729974746704102 |test_acc| tensor(0.6094)\n",
      "|Batch| 7200 |loss_test| 0.745457649230957 |test_acc| tensor(0.5312)\n",
      "|Batch| 7300 |loss_test| 0.7740925550460815 |test_acc| tensor(0.5000)\n",
      "|Batch| 7400 |loss_test| 0.6933055520057678 |test_acc| tensor(0.5781)\n",
      "|Batch| 7500 |loss_test| 0.732489824295044 |test_acc| tensor(0.5000)\n",
      "|Batch| 7600 |loss_test| 0.7255223989486694 |test_acc| tensor(0.5000)\n",
      "|Batch| 7700 |loss_test| 0.7770863771438599 |test_acc| tensor(0.4219)\n",
      "|Batch| 7800 |loss_test| 0.6953856945037842 |test_acc| tensor(0.5547)\n",
      "|Batch| 7900 |loss_test| 0.7392374873161316 |test_acc| tensor(0.5547)\n",
      "|Batch| 8000 |loss_test| 0.7193168997764587 |test_acc| tensor(0.5469)\n",
      "|Batch| 8100 |loss_test| 0.7038415670394897 |test_acc| tensor(0.5625)\n",
      "|Batch| 8200 |loss_test| 0.7441717386245728 |test_acc| tensor(0.4766)\n",
      "|Batch| 8300 |loss_test| 0.776602029800415 |test_acc| tensor(0.4219)\n",
      "|Batch| 8400 |loss_test| 0.7723265290260315 |test_acc| tensor(0.4453)\n",
      "|Batch| 8500 |loss_test| 0.7277259230613708 |test_acc| tensor(0.5156)\n",
      "|Batch| 8600 |loss_test| 0.7333292961120605 |test_acc| tensor(0.5156)\n",
      "|Batch| 8700 |loss_test| 0.760878324508667 |test_acc| tensor(0.4844)\n",
      "|Batch| 8800 |loss_test| 0.7075005769729614 |test_acc| tensor(0.5703)\n",
      "|Batch| 8900 |loss_test| 0.7159980535507202 |test_acc| tensor(0.5234)\n",
      "|Batch| 9000 |loss_test| 0.7016957402229309 |test_acc| tensor(0.5938)\n",
      "|Batch| 9100 |loss_test| 0.732471764087677 |test_acc| tensor(0.5312)\n",
      "|Batch| 9200 |loss_test| 0.751985490322113 |test_acc| tensor(0.5078)\n",
      "|Batch| 9300 |loss_test| 0.7523138523101807 |test_acc| tensor(0.4844)\n",
      "|Batch| 9400 |loss_test| 0.7422277927398682 |test_acc| tensor(0.4844)\n",
      "|Batch| 9500 |loss_test| 0.7233653664588928 |test_acc| tensor(0.5000)\n",
      "|Batch| 9600 |loss_test| 0.7212353944778442 |test_acc| tensor(0.5391)\n",
      "|Batch| 9700 |loss_test| 0.7485422492027283 |test_acc| tensor(0.4766)\n",
      "|Batch| 9800 |loss_test| 0.7185325622558594 |test_acc| tensor(0.5547)\n",
      "|Batch| 9900 |loss_test| 0.6888858079910278 |test_acc| tensor(0.5859)\n",
      "|Batch| 10000 |loss_test| 0.8026434183120728 |test_acc| tensor(0.4453)\n",
      "|Batch| 10100 |loss_test| 0.7689710259437561 |test_acc| tensor(0.4531)\n",
      "|Batch| 10200 |loss_test| 0.7353630065917969 |test_acc| tensor(0.5078)\n",
      "|Batch| 10300 |loss_test| 0.7091851234436035 |test_acc| tensor(0.5312)\n",
      "|Batch| 10400 |loss_test| 0.728269100189209 |test_acc| tensor(0.5078)\n",
      "|Batch| 10500 |loss_test| 0.698294460773468 |test_acc| tensor(0.5391)\n",
      "|Batch| 10600 |loss_test| 0.7174434661865234 |test_acc| tensor(0.5625)\n",
      "|Batch| 10700 |loss_test| 0.7679160833358765 |test_acc| tensor(0.5312)\n",
      "|Batch| 10800 |loss_test| 0.7504228949546814 |test_acc| tensor(0.4766)\n",
      "|Batch| 10900 |loss_test| 0.7470265626907349 |test_acc| tensor(0.4844)\n",
      "|Batch| 11000 |loss_test| 0.6738790273666382 |test_acc| tensor(0.5859)\n",
      "|Batch| 11100 |loss_test| 0.7674259543418884 |test_acc| tensor(0.4375)\n",
      "|Batch| 11200 |loss_test| 0.7582565546035767 |test_acc| tensor(0.5234)\n",
      "|Batch| 11300 |loss_test| 0.6983935236930847 |test_acc| tensor(0.5469)\n",
      "|Batch| 11400 |loss_test| 0.7159999012947083 |test_acc| tensor(0.5234)\n",
      "|Batch| 11500 |loss_test| 0.7086788415908813 |test_acc| tensor(0.5547)\n",
      "|Batch| 11600 |loss_test| 0.784989595413208 |test_acc| tensor(0.4297)\n",
      "|Batch| 11700 |loss_test| 0.7316949963569641 |test_acc| tensor(0.4922)\n"
     ]
    }
   ],
   "source": [
    "net.load_state_dict(torch.load('./model/cnn_checkpoint.pt'))\n",
    "loss_test = []\n",
    "acc_test = []\n",
    "prediction = []\n",
    "y_res = []\n",
    "for test_step, (b_x,b_y) in enumerate(test_loader):\n",
    "    b_x = b_x.to(device)\n",
    "    b_y = b_y.to(device)\n",
    "    b_y = b_y.reshape(b_y.size()[0],)\n",
    "    b_x = torch.unsqueeze(b_x,dim=1).float()\n",
    "    output = net(b_x)\n",
    "    loss = criterion(output, b_y.reshape(b_y.size()[0],).long())\n",
    "\n",
    "    pred_y = torch.max(output,1)[1].data\n",
    "    total_val = b_y.size(0)\n",
    "    correct_val = (pred_y == b_y).squeeze().sum()\n",
    "    acc = correct_val/float(total_val)\n",
    "    \n",
    "    loss_test.append(loss.item())\n",
    "    acc_test.append(acc)\n",
    "    if test_step%100==0:\n",
    "        print('|Batch|',test_step, '|loss_test|', loss.item(), '|test_acc|', acc)"
   ]
  },
  {
   "cell_type": "code",
   "execution_count": 25,
   "id": "4a00a370",
   "metadata": {},
   "outputs": [
    {
     "data": {
      "text/plain": [
       "0.7399745654281744"
      ]
     },
     "execution_count": 25,
     "metadata": {},
     "output_type": "execute_result"
    }
   ],
   "source": [
    "np.mean(loss_test)"
   ]
  },
  {
   "cell_type": "code",
   "execution_count": 26,
   "id": "52e39b60",
   "metadata": {},
   "outputs": [
    {
     "data": {
      "text/plain": [
       "0.5097207"
      ]
     },
     "execution_count": 26,
     "metadata": {},
     "output_type": "execute_result"
    }
   ],
   "source": [
    "np.mean(acc_test)"
   ]
  },
  {
   "cell_type": "code",
   "execution_count": 28,
   "id": "5e460d3d",
   "metadata": {},
   "outputs": [
    {
     "data": {
      "text/plain": [
       "0.50714844"
      ]
     },
     "execution_count": 28,
     "metadata": {},
     "output_type": "execute_result"
    }
   ],
   "source": [
    "np.mean(acc_test[:1000])"
   ]
  },
  {
   "cell_type": "code",
   "execution_count": 29,
   "id": "b2ab156a",
   "metadata": {},
   "outputs": [
    {
     "data": {
      "text/plain": [
       "[<matplotlib.lines.Line2D at 0x21784e998e0>]"
      ]
     },
     "execution_count": 29,
     "metadata": {},
     "output_type": "execute_result"
    },
    {
     "data": {
      "image/png": "[encoded data removed]",
      "text/plain": [
       "<Figure size 432x288 with 1 Axes>"
      ]
     },
     "metadata": {
      "needs_background": "light"
     },
     "output_type": "display_data"
    }
   ],
   "source": [
    "plt.plot(acc_test)"
   ]
  },
  {
   "cell_type": "code",
   "execution_count": null,
   "id": "c8343eed",
   "metadata": {},
   "outputs": [],
   "source": []
  }
 ],
 "metadata": {
  "kernelspec": {
   "display_name": "Python 3",
   "language": "python",
   "name": "python3"
  },
  "language_info": {
   "codemirror_mode": {
    "name": "ipython",
    "version": 3
   },
   "file_extension": ".py",
   "mimetype": "text/x-python",
   "name": "python",
   "nbconvert_exporter": "python",
   "pygments_lexer": "ipython3",
   "version": "3.8.8"
  }
 },
 "nbformat": 4,
 "nbformat_minor": 5
}
