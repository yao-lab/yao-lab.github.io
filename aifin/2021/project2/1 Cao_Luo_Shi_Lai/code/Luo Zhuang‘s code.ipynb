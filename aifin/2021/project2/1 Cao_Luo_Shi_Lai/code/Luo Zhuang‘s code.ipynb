{
 "cells": [
  {
   "cell_type": "code",
   "execution_count": 2,
   "metadata": {},
   "outputs": [],
   "source": [
    "import pandas as pd\n",
    "import numpy as np\n",
    "import os.path as op\n",
    "\n",
    "IMAGE_WIDTH = {5: 15, 20: 60, 60: 180}\n",
    "IMAGE_HEIGHT = {5: 32, 20: 64, 60: 96}    "
   ]
  },
  {
   "cell_type": "code",
   "execution_count": 6,
   "metadata": {},
   "outputs": [],
   "source": [
    "#Construct 20d CNN \n",
    "import torch\n",
    "import torch.nn as nn\n",
    "\n",
    "class CNN_20D(nn.Module):\n",
    "    '''\n",
    "    The input Image size is batchsize*1*64*60\n",
    "    '''\n",
    "    def __init__(self):\n",
    "        super(CNN_20D, self).__init__()\n",
    "        self.cnn_block1 = CNN_Block(in_channels=1, out_channels=64, kernel_size=[5, 3], stride=[3,1], padding=[7,1]\n",
    "                                    , pooling_size=[2, 1], dilation=[2,1], negative_slope=0.01)\n",
    "        self.cnn_block2 = CNN_Block(in_channels=64, out_channels=128, kernel_size=[5, 3]\n",
    "                                    , pooling_size=[2, 1], negative_slope=0.01)\n",
    "        self.cnn_block3 = CNN_Block(in_channels=128, out_channels=256, kernel_size=[5, 3]\n",
    "                                    , pooling_size=[2, 1], negative_slope=0.01)\n",
    "        self.linear = nn.Linear(\n",
    "            in_features=46080, out_features=2)\n",
    "\n",
    "    def forward(self, x):\n",
    "        x = self.cnn_block1(x)\n",
    "        x = self.cnn_block2(x)\n",
    "        x = self.cnn_block3(x)\n",
    "        x = x.view(x.size(0), -1)\n",
    "        x = self.linear(x)\n",
    "        # x = F.softmax(x)\n",
    "        return x\n",
    "\n",
    "    \n",
    "    \n",
    "class CNN_Block(nn.Module):\n",
    "    def __init__(self, in_channels, out_channels, kernel_size=[5, 3],stride=1,padding=[2,1],pooling_size=[2,1],dilation=1,negative_slope=0.01):\n",
    "        super(CNN_Block, self).__init__()\n",
    "        self.conv = nn.Conv2d(in_channels=in_channels, out_channels=out_channels,\n",
    "                         kernel_size=kernel_size, stride=stride, padding=padding,dilation=dilation)\n",
    "        self.max_pooling = nn.MaxPool2d(kernel_size=pooling_size)\n",
    "        self.LReLU = nn.LeakyReLU(negative_slope)\n",
    "\n",
    "    def forward(self, x):\n",
    "        x = self.conv(x)\n",
    "        x = self.LReLU(x)\n",
    "        x = self.max_pooling(x)\n",
    "        return x"
   ]
  },
  {
   "cell_type": "code",
   "execution_count": 201,
   "metadata": {},
   "outputs": [
    {
     "name": "stdout",
     "output_type": "stream",
     "text": [
      "==========================================================================================\n",
      "Layer (type:depth-idx)                   Output Shape              Param #\n",
      "==========================================================================================\n",
      "├─CNN_Block: 1-1                         [-1, 64, 12, 60]          --\n",
      "|    └─Conv2d: 2-1                       [-1, 64, 24, 60]          1,024\n",
      "|    └─LeakyReLU: 2-2                    [-1, 64, 24, 60]          --\n",
      "|    └─MaxPool2d: 2-3                    [-1, 64, 12, 60]          --\n",
      "├─CNN_Block: 1-2                         [-1, 128, 6, 60]          --\n",
      "|    └─Conv2d: 2-4                       [-1, 128, 12, 60]         123,008\n",
      "|    └─LeakyReLU: 2-5                    [-1, 128, 12, 60]         --\n",
      "|    └─MaxPool2d: 2-6                    [-1, 128, 6, 60]          --\n",
      "├─CNN_Block: 1-3                         [-1, 256, 3, 60]          --\n",
      "|    └─Conv2d: 2-7                       [-1, 256, 6, 60]          491,776\n",
      "|    └─LeakyReLU: 2-8                    [-1, 256, 6, 60]          --\n",
      "|    └─MaxPool2d: 2-9                    [-1, 256, 3, 60]          --\n",
      "├─Linear: 1-4                            [-1, 2]                   92,162\n",
      "==========================================================================================\n",
      "Total params: 707,970\n",
      "Trainable params: 707,970\n",
      "Non-trainable params: 0\n",
      "Total mult-adds (M): 267.51\n",
      "==========================================================================================\n",
      "Input size (MB): 0.01\n",
      "Forward/backward pass size (MB): 2.11\n",
      "Params size (MB): 2.70\n",
      "Estimated Total Size (MB): 4.82\n",
      "==========================================================================================\n"
     ]
    },
    {
     "data": {
      "text/plain": [
       "==========================================================================================\n",
       "Layer (type:depth-idx)                   Output Shape              Param #\n",
       "==========================================================================================\n",
       "├─CNN_Block: 1-1                         [-1, 64, 12, 60]          --\n",
       "|    └─Conv2d: 2-1                       [-1, 64, 24, 60]          1,024\n",
       "|    └─LeakyReLU: 2-2                    [-1, 64, 24, 60]          --\n",
       "|    └─MaxPool2d: 2-3                    [-1, 64, 12, 60]          --\n",
       "├─CNN_Block: 1-2                         [-1, 128, 6, 60]          --\n",
       "|    └─Conv2d: 2-4                       [-1, 128, 12, 60]         123,008\n",
       "|    └─LeakyReLU: 2-5                    [-1, 128, 12, 60]         --\n",
       "|    └─MaxPool2d: 2-6                    [-1, 128, 6, 60]          --\n",
       "├─CNN_Block: 1-3                         [-1, 256, 3, 60]          --\n",
       "|    └─Conv2d: 2-7                       [-1, 256, 6, 60]          491,776\n",
       "|    └─LeakyReLU: 2-8                    [-1, 256, 6, 60]          --\n",
       "|    └─MaxPool2d: 2-9                    [-1, 256, 3, 60]          --\n",
       "├─Linear: 1-4                            [-1, 2]                   92,162\n",
       "==========================================================================================\n",
       "Total params: 707,970\n",
       "Trainable params: 707,970\n",
       "Non-trainable params: 0\n",
       "Total mult-adds (M): 267.51\n",
       "==========================================================================================\n",
       "Input size (MB): 0.01\n",
       "Forward/backward pass size (MB): 2.11\n",
       "Params size (MB): 2.70\n",
       "Estimated Total Size (MB): 4.82\n",
       "=========================================================================================="
      ]
     },
     "execution_count": 201,
     "metadata": {},
     "output_type": "execute_result"
    }
   ],
   "source": [
    "from torchsummary import summary\n",
    "device = torch.device(\"cuda\" if torch.cuda.is_available() else \"cpu\") # PyTorch v0.4.0\n",
    "model = CNN_20D().to(device)\n",
    "summary(model,(1,64,60))"
   ]
  },
  {
   "cell_type": "code",
   "execution_count": 7,
   "metadata": {},
   "outputs": [],
   "source": [
    "model = torch.load('./model_last.pkl')"
   ]
  },
  {
   "cell_type": "code",
   "execution_count": 11,
   "metadata": {},
   "outputs": [
    {
     "data": {
      "text/plain": [
       "CNN_20D(\n",
       "  (cnn_block1): CNN_Block(\n",
       "    (conv): Conv2d(1, 64, kernel_size=(5, 3), stride=(3, 1), padding=(7, 1), dilation=(2, 1))\n",
       "    (max_pooling): MaxPool2d(kernel_size=[2, 1], stride=[2, 1], padding=0, dilation=1, ceil_mode=False)\n",
       "    (LReLU): LeakyReLU(negative_slope=0.01)\n",
       "  )\n",
       "  (cnn_block2): CNN_Block(\n",
       "    (conv): Conv2d(64, 128, kernel_size=(5, 3), stride=(1, 1), padding=(2, 1))\n",
       "    (max_pooling): MaxPool2d(kernel_size=[2, 1], stride=[2, 1], padding=0, dilation=1, ceil_mode=False)\n",
       "    (LReLU): LeakyReLU(negative_slope=0.01)\n",
       "  )\n",
       "  (cnn_block3): CNN_Block(\n",
       "    (conv): Conv2d(128, 256, kernel_size=(5, 3), stride=(1, 1), padding=(2, 1))\n",
       "    (max_pooling): MaxPool2d(kernel_size=[2, 1], stride=[2, 1], padding=0, dilation=1, ceil_mode=False)\n",
       "    (LReLU): LeakyReLU(negative_slope=0.01)\n",
       "  )\n",
       "  (linear): Linear(in_features=46080, out_features=2, bias=True)\n",
       ")"
      ]
     },
     "execution_count": 11,
     "metadata": {},
     "output_type": "execute_result"
    }
   ],
   "source": [
    "model.eval()"
   ]
  },
  {
   "cell_type": "code",
   "execution_count": 82,
   "metadata": {},
   "outputs": [
    {
     "data": {
      "text/plain": [
       "True"
      ]
     },
     "execution_count": 82,
     "metadata": {},
     "output_type": "execute_result"
    }
   ],
   "source": [
    "# 对单个图像可视化\n",
    "from pytorch_grad_cam import GradCAM, ScoreCAM, GradCAMPlusPlus, AblationCAM, XGradCAM, EigenCAM\n",
    "from pytorch_grad_cam.utils.image import show_cam_on_image, \\\n",
    "                                         deprocess_image, \\\n",
    "                                         preprocess_image\n",
    "from torchvision.models import resnet50\n",
    "import cv2\n",
    "import numpy as np\n",
    "import os\n",
    "\n",
    "os.environ[\"KMP_DUPLICATE_LIB_OK\"]=\"TRUE\"\n",
    "#model = torch.load('model_v1.pkl')\n",
    "# 2.选择目标层\n",
    "target_layers = [model.cnn_block1]\n",
    "# 3. 构建输入图像的Tensor形式\n",
    "\n",
    "year = 2019\n",
    "images = np.memmap(op.join(\"./img_data/monthly_20d\", f\"20d_month_has_vb_[20]_ma_{year}_images.dat\"), dtype=np.uint8, mode='r').reshape(\n",
    "                        (-1, 64, 60))\n",
    "im_tensor=torch.from_numpy(images)/255\n",
    "im_tensor=im_tensor.reshape(len(images),1,64,60)\n",
    "input_tensor = im_tensor[32455]\n",
    "input_tensor = input_tensor.reshape(1,1,64,60)\n",
    "\n",
    "rgb_img = cv2.cvtColor(images[32455], cv2.COLOR_GRAY2BGR)\n",
    "rgb_img = np.float32(rgb_img) / 255\n",
    "\n",
    "# # preprocess_image作用：归一化图像，并转成tensor\n",
    "# input_tensor = preprocess_image(rgb_img, mean=[0.485, 0.456, 0.406],\n",
    "#                                              std=[0.229, 0.224, 0.225])   # torch.Size([1, 3, 224, 224])\n",
    "\n",
    "# 4.初始化GradCAM，包括模型，目标层以及是否使用cuda\n",
    "cam = GradCAM(model=model, target_layers=target_layers, use_cuda=False)\n",
    "\n",
    "# 5.选定目标类别，如果不设置，则默认为分数最高的那一类\n",
    "target_category = None # 281\n",
    "\n",
    "# 6. 计算cam\n",
    "grayscale_cam = cam(input_tensor=input_tensor.cuda() , target_category=target_category)  # [batch, 224,224]\n",
    "\n",
    "# 7.展示热力图并保存, grayscale_cam是一个batch的结果，只能选择一张进行展示\n",
    "grayscale_cam = grayscale_cam[0]\n",
    "visualization = show_cam_on_image(rgb_img, grayscale_cam)  # (224, 224, 3)\n",
    "cv2.imwrite(f'32455-1.jpg', visualization)"
   ]
  },
  {
   "cell_type": "code",
   "execution_count": 71,
   "metadata": {},
   "outputs": [
    {
     "data": {
      "text/plain": [
       "(64, 60, 3)"
      ]
     },
     "execution_count": 71,
     "metadata": {},
     "output_type": "execute_result"
    }
   ],
   "source": [
    "# image_path = './both.png'\n",
    "# rgb_img = cv2.imread(image_path, 1)[:, :, ::-1]   # 1是读取rgb\n",
    "\n",
    "rgb_img = cv2.cvtColor(images[0], cv2.COLOR_GRAY2BGR)\n",
    "rgb_img = np.float32(rgb_img) / 255\n",
    "rgb_img.shape"
   ]
  },
  {
   "cell_type": "code",
   "execution_count": 3,
   "metadata": {
    "scrolled": true
   },
   "outputs": [
    {
     "name": "stdout",
     "output_type": "stream",
     "text": [
      "5\n"
     ]
    },
    {
     "data": {
      "image/png": "[encoded data removed]",
      "text/plain": [
       "<Figure size 216x230.4 with 1 Axes>"
      ]
     },
     "metadata": {},
     "output_type": "display_data"
    },
    {
     "name": "stdout",
     "output_type": "stream",
     "text": [
      "36\n"
     ]
    },
    {
     "data": {
      "text/plain": [
       "<Figure size 432x288 with 0 Axes>"
      ]
     },
     "metadata": {},
     "output_type": "display_data"
    },
    {
     "data": {
      "image/png": "[encoded data removed]",
      "text/plain": [
       "<Figure size 216x230.4 with 1 Axes>"
      ]
     },
     "metadata": {},
     "output_type": "display_data"
    },
    {
     "name": "stdout",
     "output_type": "stream",
     "text": [
      "8084\n"
     ]
    },
    {
     "data": {
      "text/plain": [
       "<Figure size 432x288 with 0 Axes>"
      ]
     },
     "metadata": {},
     "output_type": "display_data"
    },
    {
     "data": {
      "image/png": "[encoded data removed]",
      "text/plain": [
       "<Figure size 216x230.4 with 1 Axes>"
      ]
     },
     "metadata": {},
     "output_type": "display_data"
    },
    {
     "name": "stdout",
     "output_type": "stream",
     "text": [
      "10021\n"
     ]
    },
    {
     "data": {
      "text/plain": [
       "<Figure size 432x288 with 0 Axes>"
      ]
     },
     "metadata": {},
     "output_type": "display_data"
    },
    {
     "data": {
      "image/png": "[encoded data removed]",
      "text/plain": [
       "<Figure size 216x230.4 with 1 Axes>"
      ]
     },
     "metadata": {},
     "output_type": "display_data"
    },
    {
     "name": "stdout",
     "output_type": "stream",
     "text": [
      "20454\n"
     ]
    },
    {
     "data": {
      "text/plain": [
       "<Figure size 432x288 with 0 Axes>"
      ]
     },
     "metadata": {},
     "output_type": "display_data"
    },
    {
     "data": {
      "image/png": "[encoded data removed]",
      "text/plain": [
       "<Figure size 216x230.4 with 1 Axes>"
      ]
     },
     "metadata": {},
     "output_type": "display_data"
    },
    {
     "data": {
      "text/plain": [
       "<Figure size 432x288 with 0 Axes>"
      ]
     },
     "metadata": {},
     "output_type": "display_data"
    }
   ],
   "source": [
    "year = 2019\n",
    "images = np.memmap(op.join(\"./img_data/monthly_20d\", f\"20d_month_has_vb_[20]_ma_{year}_images.dat\"), dtype=np.uint8, mode='r').reshape(\n",
    "                        (-1, IMAGE_HEIGHT[20], IMAGE_WIDTH[20]))\n",
    "from matplotlib import pyplot as plt\n",
    "for i in [5,36,8084,10021,20454]:\n",
    "    print(i)\n",
    "    plt.figure(figsize=(3, 3.2))\n",
    "    plt.imshow(images[i], cmap='gray')\n",
    "    plt.xticks([])  #去掉横坐标值\n",
    "    plt.yticks([])\n",
    "    plt.show()\n",
    "    plt.savefig(str(i)+'-0.jpg', bbox_inches='tight')"
   ]
  },
  {
   "cell_type": "code",
   "execution_count": null,
   "metadata": {},
   "outputs": [],
   "source": []
  }
 ],
 "metadata": {
  "kernelspec": {
   "display_name": "Python 3 (ipykernel)",
   "language": "python",
   "name": "python3"
  },
  "language_info": {
   "codemirror_mode": {
    "name": "ipython",
    "version": 3
   },
   "file_extension": ".py",
   "mimetype": "text/x-python",
   "name": "python",
   "nbconvert_exporter": "python",
   "pygments_lexer": "ipython3",
   "version": "3.8.8"
  }
 },
 "nbformat": 4,
 "nbformat_minor": 2
}
