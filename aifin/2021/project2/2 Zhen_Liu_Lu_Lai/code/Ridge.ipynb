{
 "cells": [
  {
   "cell_type": "code",
   "execution_count": 1,
   "id": "4f6d97a5",
   "metadata": {},
   "outputs": [],
   "source": [
    "import pandas as pd\n",
    "import numpy as np\n",
    "import seaborn as sns\n",
    "import matplotlib.pyplot as plt\n",
    "\n",
    "plt.style.use('fivethirtyeight')\n",
    "\n",
    "import warnings\n",
    "warnings.filterwarnings(\"ignore\")\n",
    "\n",
    "import tqdm\n",
    "pd.set_option(\"display.max_columns\",None)"
   ]
  },
  {
   "cell_type": "code",
   "execution_count": 2,
   "id": "ca9a7e1f",
   "metadata": {},
   "outputs": [],
   "source": [
    "data=pd.read_csv(\"C:\\\\Users\\\\qluaj\\\\Downloads\\\\datashare\\\\GKX_20201231.csv\")"
   ]
  },
  {
   "cell_type": "code",
   "execution_count": 3,
   "id": "e13f5773",
   "metadata": {},
   "outputs": [
    {
     "data": {
      "text/html": [
       "<div>\n",
       "<style scoped>\n",
       "    .dataframe tbody tr th:only-of-type {\n",
       "        vertical-align: middle;\n",
       "    }\n",
       "\n",
       "    .dataframe tbody tr th {\n",
       "        vertical-align: top;\n",
       "    }\n",
       "\n",
       "    .dataframe thead th {\n",
       "        text-align: right;\n",
       "    }\n",
       "</style>\n",
       "<table border=\"1\" class=\"dataframe\">\n",
       "  <thead>\n",
       "    <tr style=\"text-align: right;\">\n",
       "      <th></th>\n",
       "      <th>permno</th>\n",
       "      <th>DATE</th>\n",
       "      <th>mvel1</th>\n",
       "      <th>RET</th>\n",
       "      <th>prc</th>\n",
       "      <th>SHROUT</th>\n",
       "      <th>beta</th>\n",
       "      <th>betasq</th>\n",
       "      <th>chmom</th>\n",
       "      <th>dolvol</th>\n",
       "      <th>idiovol</th>\n",
       "      <th>indmom</th>\n",
       "      <th>mom1m</th>\n",
       "      <th>mom6m</th>\n",
       "      <th>mom12m</th>\n",
       "      <th>mom36m</th>\n",
       "      <th>mve0</th>\n",
       "      <th>pricedelay</th>\n",
       "      <th>turn</th>\n",
       "      <th>absacc</th>\n",
       "      <th>acc</th>\n",
       "      <th>age</th>\n",
       "      <th>agr</th>\n",
       "      <th>cashdebt</th>\n",
       "      <th>cashpr</th>\n",
       "      <th>cfp</th>\n",
       "      <th>cfp_ia</th>\n",
       "      <th>chatoia</th>\n",
       "      <th>chcsho</th>\n",
       "      <th>chempia</th>\n",
       "      <th>chinv</th>\n",
       "      <th>chpmia</th>\n",
       "      <th>convind</th>\n",
       "      <th>currat</th>\n",
       "      <th>depr</th>\n",
       "      <th>divi</th>\n",
       "      <th>divo</th>\n",
       "      <th>dy</th>\n",
       "      <th>egr</th>\n",
       "      <th>ep</th>\n",
       "      <th>gma</th>\n",
       "      <th>grcapx</th>\n",
       "      <th>grltnoa</th>\n",
       "      <th>herf</th>\n",
       "      <th>hire</th>\n",
       "      <th>invest</th>\n",
       "      <th>lev</th>\n",
       "      <th>lgr</th>\n",
       "      <th>mve_ia</th>\n",
       "      <th>operprof</th>\n",
       "      <th>orgcap</th>\n",
       "      <th>pchcapx_ia</th>\n",
       "      <th>pchcurrat</th>\n",
       "      <th>pchdepr</th>\n",
       "      <th>pchgm_pchsale</th>\n",
       "      <th>pchquick</th>\n",
       "      <th>pchsale_pchinvt</th>\n",
       "      <th>pchsale_pchrect</th>\n",
       "      <th>pchsale_pchxsga</th>\n",
       "      <th>pchsaleinv</th>\n",
       "      <th>pctacc</th>\n",
       "      <th>ps</th>\n",
       "      <th>quick</th>\n",
       "      <th>rd</th>\n",
       "      <th>rd_mve</th>\n",
       "      <th>rd_sale</th>\n",
       "      <th>realestate</th>\n",
       "      <th>roic</th>\n",
       "      <th>salecash</th>\n",
       "      <th>saleinv</th>\n",
       "      <th>salerec</th>\n",
       "      <th>secured</th>\n",
       "      <th>securedind</th>\n",
       "      <th>sgr</th>\n",
       "      <th>sin</th>\n",
       "      <th>sp</th>\n",
       "      <th>tang</th>\n",
       "      <th>tb</th>\n",
       "      <th>aeavol</th>\n",
       "      <th>cash</th>\n",
       "      <th>chtx</th>\n",
       "      <th>cinvest</th>\n",
       "      <th>ear</th>\n",
       "      <th>nincr</th>\n",
       "      <th>roaq</th>\n",
       "      <th>roavol</th>\n",
       "      <th>roeq</th>\n",
       "      <th>rsup</th>\n",
       "      <th>stdacc</th>\n",
       "      <th>stdcf</th>\n",
       "      <th>ms</th>\n",
       "      <th>baspread</th>\n",
       "      <th>ill</th>\n",
       "      <th>maxret</th>\n",
       "      <th>retvol</th>\n",
       "      <th>std_dolvol</th>\n",
       "      <th>std_turn</th>\n",
       "      <th>zerotrade</th>\n",
       "      <th>sic2</th>\n",
       "      <th>bm</th>\n",
       "      <th>bm_ia</th>\n",
       "    </tr>\n",
       "  </thead>\n",
       "  <tbody>\n",
       "    <tr>\n",
       "      <th>0</th>\n",
       "      <td>10006</td>\n",
       "      <td>19260130</td>\n",
       "      <td>65400.0</td>\n",
       "      <td>0.032732</td>\n",
       "      <td>110.2500</td>\n",
       "      <td>600</td>\n",
       "      <td>NaN</td>\n",
       "      <td>NaN</td>\n",
       "      <td>NaN</td>\n",
       "      <td>NaN</td>\n",
       "      <td>NaN</td>\n",
       "      <td>NaN</td>\n",
       "      <td>NaN</td>\n",
       "      <td>NaN</td>\n",
       "      <td>NaN</td>\n",
       "      <td>NaN</td>\n",
       "      <td>66150.00</td>\n",
       "      <td>NaN</td>\n",
       "      <td>NaN</td>\n",
       "      <td>NaN</td>\n",
       "      <td>NaN</td>\n",
       "      <td>NaN</td>\n",
       "      <td>NaN</td>\n",
       "      <td>NaN</td>\n",
       "      <td>NaN</td>\n",
       "      <td>NaN</td>\n",
       "      <td>NaN</td>\n",
       "      <td>NaN</td>\n",
       "      <td>NaN</td>\n",
       "      <td>NaN</td>\n",
       "      <td>NaN</td>\n",
       "      <td>NaN</td>\n",
       "      <td>NaN</td>\n",
       "      <td>NaN</td>\n",
       "      <td>NaN</td>\n",
       "      <td>NaN</td>\n",
       "      <td>NaN</td>\n",
       "      <td>NaN</td>\n",
       "      <td>NaN</td>\n",
       "      <td>NaN</td>\n",
       "      <td>NaN</td>\n",
       "      <td>NaN</td>\n",
       "      <td>NaN</td>\n",
       "      <td>NaN</td>\n",
       "      <td>NaN</td>\n",
       "      <td>NaN</td>\n",
       "      <td>NaN</td>\n",
       "      <td>NaN</td>\n",
       "      <td>NaN</td>\n",
       "      <td>NaN</td>\n",
       "      <td>NaN</td>\n",
       "      <td>NaN</td>\n",
       "      <td>NaN</td>\n",
       "      <td>NaN</td>\n",
       "      <td>NaN</td>\n",
       "      <td>NaN</td>\n",
       "      <td>NaN</td>\n",
       "      <td>NaN</td>\n",
       "      <td>NaN</td>\n",
       "      <td>NaN</td>\n",
       "      <td>NaN</td>\n",
       "      <td>NaN</td>\n",
       "      <td>NaN</td>\n",
       "      <td>NaN</td>\n",
       "      <td>NaN</td>\n",
       "      <td>NaN</td>\n",
       "      <td>NaN</td>\n",
       "      <td>NaN</td>\n",
       "      <td>NaN</td>\n",
       "      <td>NaN</td>\n",
       "      <td>NaN</td>\n",
       "      <td>NaN</td>\n",
       "      <td>NaN</td>\n",
       "      <td>NaN</td>\n",
       "      <td>NaN</td>\n",
       "      <td>NaN</td>\n",
       "      <td>NaN</td>\n",
       "      <td>NaN</td>\n",
       "      <td>NaN</td>\n",
       "      <td>NaN</td>\n",
       "      <td>NaN</td>\n",
       "      <td>NaN</td>\n",
       "      <td>NaN</td>\n",
       "      <td>NaN</td>\n",
       "      <td>NaN</td>\n",
       "      <td>NaN</td>\n",
       "      <td>NaN</td>\n",
       "      <td>NaN</td>\n",
       "      <td>NaN</td>\n",
       "      <td>NaN</td>\n",
       "      <td>NaN</td>\n",
       "      <td>0.006857</td>\n",
       "      <td>NaN</td>\n",
       "      <td>NaN</td>\n",
       "      <td>NaN</td>\n",
       "      <td>NaN</td>\n",
       "      <td>NaN</td>\n",
       "      <td>0.000066</td>\n",
       "      <td>NaN</td>\n",
       "      <td>NaN</td>\n",
       "      <td>NaN</td>\n",
       "    </tr>\n",
       "    <tr>\n",
       "      <th>1</th>\n",
       "      <td>10022</td>\n",
       "      <td>19260130</td>\n",
       "      <td>11200.0</td>\n",
       "      <td>0.017857</td>\n",
       "      <td>57.0000</td>\n",
       "      <td>200</td>\n",
       "      <td>NaN</td>\n",
       "      <td>NaN</td>\n",
       "      <td>NaN</td>\n",
       "      <td>NaN</td>\n",
       "      <td>NaN</td>\n",
       "      <td>NaN</td>\n",
       "      <td>NaN</td>\n",
       "      <td>NaN</td>\n",
       "      <td>NaN</td>\n",
       "      <td>NaN</td>\n",
       "      <td>11400.00</td>\n",
       "      <td>NaN</td>\n",
       "      <td>NaN</td>\n",
       "      <td>NaN</td>\n",
       "      <td>NaN</td>\n",
       "      <td>NaN</td>\n",
       "      <td>NaN</td>\n",
       "      <td>NaN</td>\n",
       "      <td>NaN</td>\n",
       "      <td>NaN</td>\n",
       "      <td>NaN</td>\n",
       "      <td>NaN</td>\n",
       "      <td>NaN</td>\n",
       "      <td>NaN</td>\n",
       "      <td>NaN</td>\n",
       "      <td>NaN</td>\n",
       "      <td>NaN</td>\n",
       "      <td>NaN</td>\n",
       "      <td>NaN</td>\n",
       "      <td>NaN</td>\n",
       "      <td>NaN</td>\n",
       "      <td>NaN</td>\n",
       "      <td>NaN</td>\n",
       "      <td>NaN</td>\n",
       "      <td>NaN</td>\n",
       "      <td>NaN</td>\n",
       "      <td>NaN</td>\n",
       "      <td>NaN</td>\n",
       "      <td>NaN</td>\n",
       "      <td>NaN</td>\n",
       "      <td>NaN</td>\n",
       "      <td>NaN</td>\n",
       "      <td>NaN</td>\n",
       "      <td>NaN</td>\n",
       "      <td>NaN</td>\n",
       "      <td>NaN</td>\n",
       "      <td>NaN</td>\n",
       "      <td>NaN</td>\n",
       "      <td>NaN</td>\n",
       "      <td>NaN</td>\n",
       "      <td>NaN</td>\n",
       "      <td>NaN</td>\n",
       "      <td>NaN</td>\n",
       "      <td>NaN</td>\n",
       "      <td>NaN</td>\n",
       "      <td>NaN</td>\n",
       "      <td>NaN</td>\n",
       "      <td>NaN</td>\n",
       "      <td>NaN</td>\n",
       "      <td>NaN</td>\n",
       "      <td>NaN</td>\n",
       "      <td>NaN</td>\n",
       "      <td>NaN</td>\n",
       "      <td>NaN</td>\n",
       "      <td>NaN</td>\n",
       "      <td>NaN</td>\n",
       "      <td>NaN</td>\n",
       "      <td>NaN</td>\n",
       "      <td>NaN</td>\n",
       "      <td>NaN</td>\n",
       "      <td>NaN</td>\n",
       "      <td>NaN</td>\n",
       "      <td>NaN</td>\n",
       "      <td>NaN</td>\n",
       "      <td>NaN</td>\n",
       "      <td>NaN</td>\n",
       "      <td>NaN</td>\n",
       "      <td>NaN</td>\n",
       "      <td>NaN</td>\n",
       "      <td>NaN</td>\n",
       "      <td>NaN</td>\n",
       "      <td>NaN</td>\n",
       "      <td>NaN</td>\n",
       "      <td>NaN</td>\n",
       "      <td>NaN</td>\n",
       "      <td>0.018018</td>\n",
       "      <td>NaN</td>\n",
       "      <td>NaN</td>\n",
       "      <td>NaN</td>\n",
       "      <td>NaN</td>\n",
       "      <td>NaN</td>\n",
       "      <td>0.000003</td>\n",
       "      <td>NaN</td>\n",
       "      <td>NaN</td>\n",
       "      <td>NaN</td>\n",
       "    </tr>\n",
       "    <tr>\n",
       "      <th>2</th>\n",
       "      <td>10030</td>\n",
       "      <td>19260130</td>\n",
       "      <td>23400.0</td>\n",
       "      <td>0.161667</td>\n",
       "      <td>174.2500</td>\n",
       "      <td>156</td>\n",
       "      <td>NaN</td>\n",
       "      <td>NaN</td>\n",
       "      <td>NaN</td>\n",
       "      <td>NaN</td>\n",
       "      <td>NaN</td>\n",
       "      <td>NaN</td>\n",
       "      <td>NaN</td>\n",
       "      <td>NaN</td>\n",
       "      <td>NaN</td>\n",
       "      <td>NaN</td>\n",
       "      <td>27183.00</td>\n",
       "      <td>NaN</td>\n",
       "      <td>NaN</td>\n",
       "      <td>NaN</td>\n",
       "      <td>NaN</td>\n",
       "      <td>NaN</td>\n",
       "      <td>NaN</td>\n",
       "      <td>NaN</td>\n",
       "      <td>NaN</td>\n",
       "      <td>NaN</td>\n",
       "      <td>NaN</td>\n",
       "      <td>NaN</td>\n",
       "      <td>NaN</td>\n",
       "      <td>NaN</td>\n",
       "      <td>NaN</td>\n",
       "      <td>NaN</td>\n",
       "      <td>NaN</td>\n",
       "      <td>NaN</td>\n",
       "      <td>NaN</td>\n",
       "      <td>NaN</td>\n",
       "      <td>NaN</td>\n",
       "      <td>NaN</td>\n",
       "      <td>NaN</td>\n",
       "      <td>NaN</td>\n",
       "      <td>NaN</td>\n",
       "      <td>NaN</td>\n",
       "      <td>NaN</td>\n",
       "      <td>NaN</td>\n",
       "      <td>NaN</td>\n",
       "      <td>NaN</td>\n",
       "      <td>NaN</td>\n",
       "      <td>NaN</td>\n",
       "      <td>NaN</td>\n",
       "      <td>NaN</td>\n",
       "      <td>NaN</td>\n",
       "      <td>NaN</td>\n",
       "      <td>NaN</td>\n",
       "      <td>NaN</td>\n",
       "      <td>NaN</td>\n",
       "      <td>NaN</td>\n",
       "      <td>NaN</td>\n",
       "      <td>NaN</td>\n",
       "      <td>NaN</td>\n",
       "      <td>NaN</td>\n",
       "      <td>NaN</td>\n",
       "      <td>NaN</td>\n",
       "      <td>NaN</td>\n",
       "      <td>NaN</td>\n",
       "      <td>NaN</td>\n",
       "      <td>NaN</td>\n",
       "      <td>NaN</td>\n",
       "      <td>NaN</td>\n",
       "      <td>NaN</td>\n",
       "      <td>NaN</td>\n",
       "      <td>NaN</td>\n",
       "      <td>NaN</td>\n",
       "      <td>NaN</td>\n",
       "      <td>NaN</td>\n",
       "      <td>NaN</td>\n",
       "      <td>NaN</td>\n",
       "      <td>NaN</td>\n",
       "      <td>NaN</td>\n",
       "      <td>NaN</td>\n",
       "      <td>NaN</td>\n",
       "      <td>NaN</td>\n",
       "      <td>NaN</td>\n",
       "      <td>NaN</td>\n",
       "      <td>NaN</td>\n",
       "      <td>NaN</td>\n",
       "      <td>NaN</td>\n",
       "      <td>NaN</td>\n",
       "      <td>NaN</td>\n",
       "      <td>NaN</td>\n",
       "      <td>NaN</td>\n",
       "      <td>NaN</td>\n",
       "      <td>0.004158</td>\n",
       "      <td>NaN</td>\n",
       "      <td>NaN</td>\n",
       "      <td>NaN</td>\n",
       "      <td>NaN</td>\n",
       "      <td>NaN</td>\n",
       "      <td>0.000023</td>\n",
       "      <td>NaN</td>\n",
       "      <td>NaN</td>\n",
       "      <td>NaN</td>\n",
       "    </tr>\n",
       "    <tr>\n",
       "      <th>3</th>\n",
       "      <td>10049</td>\n",
       "      <td>19260130</td>\n",
       "      <td>18500.0</td>\n",
       "      <td>0.141892</td>\n",
       "      <td>83.5000</td>\n",
       "      <td>250</td>\n",
       "      <td>NaN</td>\n",
       "      <td>NaN</td>\n",
       "      <td>NaN</td>\n",
       "      <td>NaN</td>\n",
       "      <td>NaN</td>\n",
       "      <td>NaN</td>\n",
       "      <td>NaN</td>\n",
       "      <td>NaN</td>\n",
       "      <td>NaN</td>\n",
       "      <td>NaN</td>\n",
       "      <td>20875.00</td>\n",
       "      <td>NaN</td>\n",
       "      <td>NaN</td>\n",
       "      <td>NaN</td>\n",
       "      <td>NaN</td>\n",
       "      <td>NaN</td>\n",
       "      <td>NaN</td>\n",
       "      <td>NaN</td>\n",
       "      <td>NaN</td>\n",
       "      <td>NaN</td>\n",
       "      <td>NaN</td>\n",
       "      <td>NaN</td>\n",
       "      <td>NaN</td>\n",
       "      <td>NaN</td>\n",
       "      <td>NaN</td>\n",
       "      <td>NaN</td>\n",
       "      <td>NaN</td>\n",
       "      <td>NaN</td>\n",
       "      <td>NaN</td>\n",
       "      <td>NaN</td>\n",
       "      <td>NaN</td>\n",
       "      <td>NaN</td>\n",
       "      <td>NaN</td>\n",
       "      <td>NaN</td>\n",
       "      <td>NaN</td>\n",
       "      <td>NaN</td>\n",
       "      <td>NaN</td>\n",
       "      <td>NaN</td>\n",
       "      <td>NaN</td>\n",
       "      <td>NaN</td>\n",
       "      <td>NaN</td>\n",
       "      <td>NaN</td>\n",
       "      <td>NaN</td>\n",
       "      <td>NaN</td>\n",
       "      <td>NaN</td>\n",
       "      <td>NaN</td>\n",
       "      <td>NaN</td>\n",
       "      <td>NaN</td>\n",
       "      <td>NaN</td>\n",
       "      <td>NaN</td>\n",
       "      <td>NaN</td>\n",
       "      <td>NaN</td>\n",
       "      <td>NaN</td>\n",
       "      <td>NaN</td>\n",
       "      <td>NaN</td>\n",
       "      <td>NaN</td>\n",
       "      <td>NaN</td>\n",
       "      <td>NaN</td>\n",
       "      <td>NaN</td>\n",
       "      <td>NaN</td>\n",
       "      <td>NaN</td>\n",
       "      <td>NaN</td>\n",
       "      <td>NaN</td>\n",
       "      <td>NaN</td>\n",
       "      <td>NaN</td>\n",
       "      <td>NaN</td>\n",
       "      <td>NaN</td>\n",
       "      <td>NaN</td>\n",
       "      <td>NaN</td>\n",
       "      <td>NaN</td>\n",
       "      <td>NaN</td>\n",
       "      <td>NaN</td>\n",
       "      <td>NaN</td>\n",
       "      <td>NaN</td>\n",
       "      <td>NaN</td>\n",
       "      <td>NaN</td>\n",
       "      <td>NaN</td>\n",
       "      <td>NaN</td>\n",
       "      <td>NaN</td>\n",
       "      <td>NaN</td>\n",
       "      <td>NaN</td>\n",
       "      <td>NaN</td>\n",
       "      <td>NaN</td>\n",
       "      <td>NaN</td>\n",
       "      <td>NaN</td>\n",
       "      <td>0.006780</td>\n",
       "      <td>NaN</td>\n",
       "      <td>NaN</td>\n",
       "      <td>NaN</td>\n",
       "      <td>NaN</td>\n",
       "      <td>NaN</td>\n",
       "      <td>0.000022</td>\n",
       "      <td>NaN</td>\n",
       "      <td>NaN</td>\n",
       "      <td>NaN</td>\n",
       "    </tr>\n",
       "    <tr>\n",
       "      <th>4</th>\n",
       "      <td>10057</td>\n",
       "      <td>19260130</td>\n",
       "      <td>6125.0</td>\n",
       "      <td>-0.035714</td>\n",
       "      <td>11.8125</td>\n",
       "      <td>500</td>\n",
       "      <td>NaN</td>\n",
       "      <td>NaN</td>\n",
       "      <td>NaN</td>\n",
       "      <td>NaN</td>\n",
       "      <td>NaN</td>\n",
       "      <td>NaN</td>\n",
       "      <td>NaN</td>\n",
       "      <td>NaN</td>\n",
       "      <td>NaN</td>\n",
       "      <td>NaN</td>\n",
       "      <td>5906.25</td>\n",
       "      <td>NaN</td>\n",
       "      <td>NaN</td>\n",
       "      <td>NaN</td>\n",
       "      <td>NaN</td>\n",
       "      <td>NaN</td>\n",
       "      <td>NaN</td>\n",
       "      <td>NaN</td>\n",
       "      <td>NaN</td>\n",
       "      <td>NaN</td>\n",
       "      <td>NaN</td>\n",
       "      <td>NaN</td>\n",
       "      <td>NaN</td>\n",
       "      <td>NaN</td>\n",
       "      <td>NaN</td>\n",
       "      <td>NaN</td>\n",
       "      <td>NaN</td>\n",
       "      <td>NaN</td>\n",
       "      <td>NaN</td>\n",
       "      <td>NaN</td>\n",
       "      <td>NaN</td>\n",
       "      <td>NaN</td>\n",
       "      <td>NaN</td>\n",
       "      <td>NaN</td>\n",
       "      <td>NaN</td>\n",
       "      <td>NaN</td>\n",
       "      <td>NaN</td>\n",
       "      <td>NaN</td>\n",
       "      <td>NaN</td>\n",
       "      <td>NaN</td>\n",
       "      <td>NaN</td>\n",
       "      <td>NaN</td>\n",
       "      <td>NaN</td>\n",
       "      <td>NaN</td>\n",
       "      <td>NaN</td>\n",
       "      <td>NaN</td>\n",
       "      <td>NaN</td>\n",
       "      <td>NaN</td>\n",
       "      <td>NaN</td>\n",
       "      <td>NaN</td>\n",
       "      <td>NaN</td>\n",
       "      <td>NaN</td>\n",
       "      <td>NaN</td>\n",
       "      <td>NaN</td>\n",
       "      <td>NaN</td>\n",
       "      <td>NaN</td>\n",
       "      <td>NaN</td>\n",
       "      <td>NaN</td>\n",
       "      <td>NaN</td>\n",
       "      <td>NaN</td>\n",
       "      <td>NaN</td>\n",
       "      <td>NaN</td>\n",
       "      <td>NaN</td>\n",
       "      <td>NaN</td>\n",
       "      <td>NaN</td>\n",
       "      <td>NaN</td>\n",
       "      <td>NaN</td>\n",
       "      <td>NaN</td>\n",
       "      <td>NaN</td>\n",
       "      <td>NaN</td>\n",
       "      <td>NaN</td>\n",
       "      <td>NaN</td>\n",
       "      <td>NaN</td>\n",
       "      <td>NaN</td>\n",
       "      <td>NaN</td>\n",
       "      <td>NaN</td>\n",
       "      <td>NaN</td>\n",
       "      <td>NaN</td>\n",
       "      <td>NaN</td>\n",
       "      <td>NaN</td>\n",
       "      <td>NaN</td>\n",
       "      <td>NaN</td>\n",
       "      <td>NaN</td>\n",
       "      <td>NaN</td>\n",
       "      <td>NaN</td>\n",
       "      <td>0.071795</td>\n",
       "      <td>NaN</td>\n",
       "      <td>NaN</td>\n",
       "      <td>NaN</td>\n",
       "      <td>NaN</td>\n",
       "      <td>NaN</td>\n",
       "      <td>0.000010</td>\n",
       "      <td>NaN</td>\n",
       "      <td>NaN</td>\n",
       "      <td>NaN</td>\n",
       "    </tr>\n",
       "  </tbody>\n",
       "</table>\n",
       "</div>"
      ],
      "text/plain": [
       "   permno      DATE    mvel1       RET       prc  SHROUT  beta  betasq  chmom  \\\n",
       "0   10006  19260130  65400.0  0.032732  110.2500     600   NaN     NaN    NaN   \n",
       "1   10022  19260130  11200.0  0.017857   57.0000     200   NaN     NaN    NaN   \n",
       "2   10030  19260130  23400.0  0.161667  174.2500     156   NaN     NaN    NaN   \n",
       "3   10049  19260130  18500.0  0.141892   83.5000     250   NaN     NaN    NaN   \n",
       "4   10057  19260130   6125.0 -0.035714   11.8125     500   NaN     NaN    NaN   \n",
       "\n",
       "   dolvol  idiovol  indmom  mom1m  mom6m  mom12m  mom36m      mve0  \\\n",
       "0     NaN      NaN     NaN    NaN    NaN     NaN     NaN  66150.00   \n",
       "1     NaN      NaN     NaN    NaN    NaN     NaN     NaN  11400.00   \n",
       "2     NaN      NaN     NaN    NaN    NaN     NaN     NaN  27183.00   \n",
       "3     NaN      NaN     NaN    NaN    NaN     NaN     NaN  20875.00   \n",
       "4     NaN      NaN     NaN    NaN    NaN     NaN     NaN   5906.25   \n",
       "\n",
       "   pricedelay  turn  absacc  acc  age  agr  cashdebt  cashpr  cfp  cfp_ia  \\\n",
       "0         NaN   NaN     NaN  NaN  NaN  NaN       NaN     NaN  NaN     NaN   \n",
       "1         NaN   NaN     NaN  NaN  NaN  NaN       NaN     NaN  NaN     NaN   \n",
       "2         NaN   NaN     NaN  NaN  NaN  NaN       NaN     NaN  NaN     NaN   \n",
       "3         NaN   NaN     NaN  NaN  NaN  NaN       NaN     NaN  NaN     NaN   \n",
       "4         NaN   NaN     NaN  NaN  NaN  NaN       NaN     NaN  NaN     NaN   \n",
       "\n",
       "   chatoia  chcsho  chempia  chinv  chpmia  convind  currat  depr  divi  divo  \\\n",
       "0      NaN     NaN      NaN    NaN     NaN      NaN     NaN   NaN   NaN   NaN   \n",
       "1      NaN     NaN      NaN    NaN     NaN      NaN     NaN   NaN   NaN   NaN   \n",
       "2      NaN     NaN      NaN    NaN     NaN      NaN     NaN   NaN   NaN   NaN   \n",
       "3      NaN     NaN      NaN    NaN     NaN      NaN     NaN   NaN   NaN   NaN   \n",
       "4      NaN     NaN      NaN    NaN     NaN      NaN     NaN   NaN   NaN   NaN   \n",
       "\n",
       "   dy  egr  ep  gma  grcapx  grltnoa  herf  hire  invest  lev  lgr  mve_ia  \\\n",
       "0 NaN  NaN NaN  NaN     NaN      NaN   NaN   NaN     NaN  NaN  NaN     NaN   \n",
       "1 NaN  NaN NaN  NaN     NaN      NaN   NaN   NaN     NaN  NaN  NaN     NaN   \n",
       "2 NaN  NaN NaN  NaN     NaN      NaN   NaN   NaN     NaN  NaN  NaN     NaN   \n",
       "3 NaN  NaN NaN  NaN     NaN      NaN   NaN   NaN     NaN  NaN  NaN     NaN   \n",
       "4 NaN  NaN NaN  NaN     NaN      NaN   NaN   NaN     NaN  NaN  NaN     NaN   \n",
       "\n",
       "   operprof  orgcap  pchcapx_ia  pchcurrat  pchdepr  pchgm_pchsale  pchquick  \\\n",
       "0       NaN     NaN         NaN        NaN      NaN            NaN       NaN   \n",
       "1       NaN     NaN         NaN        NaN      NaN            NaN       NaN   \n",
       "2       NaN     NaN         NaN        NaN      NaN            NaN       NaN   \n",
       "3       NaN     NaN         NaN        NaN      NaN            NaN       NaN   \n",
       "4       NaN     NaN         NaN        NaN      NaN            NaN       NaN   \n",
       "\n",
       "   pchsale_pchinvt  pchsale_pchrect  pchsale_pchxsga  pchsaleinv  pctacc  ps  \\\n",
       "0              NaN              NaN              NaN         NaN     NaN NaN   \n",
       "1              NaN              NaN              NaN         NaN     NaN NaN   \n",
       "2              NaN              NaN              NaN         NaN     NaN NaN   \n",
       "3              NaN              NaN              NaN         NaN     NaN NaN   \n",
       "4              NaN              NaN              NaN         NaN     NaN NaN   \n",
       "\n",
       "   quick  rd  rd_mve  rd_sale  realestate  roic  salecash  saleinv  salerec  \\\n",
       "0    NaN NaN     NaN      NaN         NaN   NaN       NaN      NaN      NaN   \n",
       "1    NaN NaN     NaN      NaN         NaN   NaN       NaN      NaN      NaN   \n",
       "2    NaN NaN     NaN      NaN         NaN   NaN       NaN      NaN      NaN   \n",
       "3    NaN NaN     NaN      NaN         NaN   NaN       NaN      NaN      NaN   \n",
       "4    NaN NaN     NaN      NaN         NaN   NaN       NaN      NaN      NaN   \n",
       "\n",
       "   secured  securedind  sgr  sin  sp  tang  tb  aeavol  cash  chtx  cinvest  \\\n",
       "0      NaN         NaN  NaN  NaN NaN   NaN NaN     NaN   NaN   NaN      NaN   \n",
       "1      NaN         NaN  NaN  NaN NaN   NaN NaN     NaN   NaN   NaN      NaN   \n",
       "2      NaN         NaN  NaN  NaN NaN   NaN NaN     NaN   NaN   NaN      NaN   \n",
       "3      NaN         NaN  NaN  NaN NaN   NaN NaN     NaN   NaN   NaN      NaN   \n",
       "4      NaN         NaN  NaN  NaN NaN   NaN NaN     NaN   NaN   NaN      NaN   \n",
       "\n",
       "   ear  nincr  roaq  roavol  roeq  rsup  stdacc  stdcf  ms  baspread  ill  \\\n",
       "0  NaN    NaN   NaN     NaN   NaN   NaN     NaN    NaN NaN  0.006857  NaN   \n",
       "1  NaN    NaN   NaN     NaN   NaN   NaN     NaN    NaN NaN  0.018018  NaN   \n",
       "2  NaN    NaN   NaN     NaN   NaN   NaN     NaN    NaN NaN  0.004158  NaN   \n",
       "3  NaN    NaN   NaN     NaN   NaN   NaN     NaN    NaN NaN  0.006780  NaN   \n",
       "4  NaN    NaN   NaN     NaN   NaN   NaN     NaN    NaN NaN  0.071795  NaN   \n",
       "\n",
       "   maxret  retvol  std_dolvol  std_turn  zerotrade  sic2  bm  bm_ia  \n",
       "0     NaN     NaN         NaN       NaN   0.000066   NaN NaN    NaN  \n",
       "1     NaN     NaN         NaN       NaN   0.000003   NaN NaN    NaN  \n",
       "2     NaN     NaN         NaN       NaN   0.000023   NaN NaN    NaN  \n",
       "3     NaN     NaN         NaN       NaN   0.000022   NaN NaN    NaN  \n",
       "4     NaN     NaN         NaN       NaN   0.000010   NaN NaN    NaN  "
      ]
     },
     "metadata": {},
     "output_type": "display_data"
    }
   ],
   "source": [
    "display(data.head())"
   ]
  },
  {
   "cell_type": "code",
   "execution_count": 20,
   "id": "2cf4117c",
   "metadata": {},
   "outputs": [
    {
     "data": {
      "text/plain": [
       "((618127, 101), (847106, 101), (81177, 101))"
      ]
     },
     "execution_count": 20,
     "metadata": {},
     "output_type": "execute_result"
    }
   ],
   "source": [
    "df_train1=data[(data.DATE>=19600101)&(data.DATE<19780101)]\n",
    "df_validation1=data[(data.DATE>=19780101)&(data.DATE<19900101)]\n",
    "df_test1=data[(data.DATE>=19900101)&(data.DATE<19910101)]\n",
    "df_train=df_train1.copy()\n",
    "df_validation=df_validation1.copy()\n",
    "df_test=df_test1.copy()\n",
    "df_train.shape,df_validation.shape,df_test.shape"
   ]
  },
  {
   "cell_type": "code",
   "execution_count": 5,
   "id": "d5cb71b6",
   "metadata": {},
   "outputs": [],
   "source": [
    "def missing_values_table(df):\n",
    "    missing_value = df.isnull().sum() \n",
    "    missing_rate = 100 * df.isnull().sum() / len(df) \n",
    "    missing_table = pd.concat([missing_value, missing_rate], axis = 1) \n",
    "    missing_table_ren_columns = missing_table.rename(columns = {0:'Missing Values',\n",
    "                                                               1:'Missing Rate'})\n",
    "    missing_table_ren_columns = missing_table_ren_columns[\n",
    "        missing_table_ren_columns.iloc[:,1] != 0].sort_values('Missing Rate',ascending=False).round(1)\n",
    "    return missing_table_ren_columns\n",
    "\n",
    "def missing_value_filling(df):\n",
    "    missing_train=missing_values_table(df)\n",
    "    missing_columns_low = pd.DataFrame(missing_train[missing_train['Missing Rate'] < 50])\n",
    "    missing_columns_high = pd.DataFrame(missing_train[missing_train['Missing Rate'] >= 50])\n",
    "    data=pd.DataFrame(df.interpolate())\n",
    "    data[missing_columns_low.index].fillna(data.mean(),inplace=True)\n",
    "    data[missing_columns_high.index].fillna(data.mode(),inplace=True)\n",
    "    data.fillna(0,inplace=True)\n",
    "    data=pd.DataFrame(data)\n",
    "    return data"
   ]
  },
  {
   "cell_type": "code",
   "execution_count": 21,
   "id": "77122b68",
   "metadata": {},
   "outputs": [],
   "source": [
    "df_train=missing_value_filling(df_train)\n",
    "df_validation=missing_value_filling(df_validation)\n",
    "df_test=missing_value_filling(df_test)"
   ]
  },
  {
   "cell_type": "code",
   "execution_count": 17,
   "id": "6ebbb813",
   "metadata": {},
   "outputs": [],
   "source": [
    "#Normalize the data\n",
    "from sklearn.preprocessing import StandardScaler,MinMaxScaler\n",
    "\n",
    "from sklearn.linear_model import LinearRegression,Lasso,Ridge,ElasticNet\n",
    "\n",
    "from sklearn.metrics import r2_score"
   ]
  },
  {
   "cell_type": "code",
   "execution_count": 18,
   "id": "f6e328d4",
   "metadata": {},
   "outputs": [],
   "source": [
    "#Define out-of-sample R-square\n",
    "def rsquare_oos(ytrue,ypred):\n",
    "    dif2=np.sum(np.power(ytrue-ypred,2))\n",
    "    return 1-dif2/np.sum(np.power(ytrue,2))"
   ]
  },
  {
   "cell_type": "code",
   "execution_count": 22,
   "id": "6193e16d",
   "metadata": {},
   "outputs": [
    {
     "data": {
      "text/plain": [
       "345009    0.005155\n",
       "345010    0.138889\n",
       "345011   -0.045455\n",
       "345012   -0.015000\n",
       "345013   -0.020785\n",
       "            ...   \n",
       "963131   -0.137931\n",
       "963132   -0.084706\n",
       "963133    0.021154\n",
       "963134    0.030769\n",
       "963135    0.061538\n",
       "Name: RET, Length: 618127, dtype: float64"
      ]
     },
     "execution_count": 22,
     "metadata": {},
     "output_type": "execute_result"
    }
   ],
   "source": [
    "df_train['RET']"
   ]
  },
  {
   "cell_type": "code",
   "execution_count": 23,
   "id": "2efa8228",
   "metadata": {},
   "outputs": [],
   "source": [
    "scaler=StandardScaler()\n",
    "minmax=MinMaxScaler()\n",
    "\n",
    "X_train=df_train.drop(\"RET\",axis=1).copy()\n",
    "X_train=scaler.fit_transform(X_train)\n",
    "X_validation=df_validation.drop(\"RET\",axis=1).copy()\n",
    "X_validation=scaler.transform(X_validation)\n",
    "X_test=df_test.drop(\"RET\",axis=1).copy()\n",
    "X_test=scaler.transform(X_test)\n",
    "\n",
    "y_train=df_train[[\"RET\"]].copy()\n",
    "y_validation=df_validation[[\"RET\"]].copy()\n",
    "y_test=df_test[[\"RET\"]].copy()\n",
    "y_train=scaler.fit_transform(y_train)\n",
    "y_test=scaler.transform(y_test)\n",
    "y_validation=scaler.transform(y_validation)"
   ]
  },
  {
   "cell_type": "code",
   "execution_count": 25,
   "id": "121cccd6",
   "metadata": {},
   "outputs": [
    {
     "name": "stdout",
     "output_type": "stream",
     "text": [
      "[[-0.19762858]\n",
      " [ 0.08310658]\n",
      " [-0.70040898]\n",
      " ...\n",
      " [-1.32118223]\n",
      " [-1.45096644]\n",
      " [-0.06407258]]\n"
     ]
    }
   ],
   "source": [
    "print(y_test)"
   ]
  },
  {
   "cell_type": "code",
   "execution_count": 26,
   "id": "2939ad42",
   "metadata": {},
   "outputs": [],
   "source": [
    "def fit_model1(model,X_train,y_train,alphas=[0.0001,0.005,0.001,0.05,0.01,0.1]):\n",
    "    models={}\n",
    "    \n",
    "    for a in tqdm.tqdm(alphas):\n",
    "        m=model(alpha=a,random_state=1)\n",
    "        m.fit(X_train,y_train)\n",
    "        models[a]=m\n",
    "    return models\n",
    "    "
   ]
  },
  {
   "cell_type": "code",
   "execution_count": 27,
   "id": "31c3c478",
   "metadata": {},
   "outputs": [
    {
     "name": "stderr",
     "output_type": "stream",
     "text": [
      "100%|████████████████████████████████████████████████████████████████████████████████████| 6/6 [00:02<00:00,  2.24it/s]\n"
     ]
    },
    {
     "data": {
      "text/plain": [
       "{0.001: Ridge(alpha=0.001, random_state=1),\n",
       " 0.01: Ridge(alpha=0.01, random_state=1),\n",
       " 0.1: Ridge(alpha=0.1, random_state=1),\n",
       " 1: Ridge(alpha=1, random_state=1),\n",
       " 10: Ridge(alpha=10, random_state=1),\n",
       " 100: Ridge(alpha=100, random_state=1)}"
      ]
     },
     "execution_count": 27,
     "metadata": {},
     "output_type": "execute_result"
    }
   ],
   "source": [
    "ridge_models=fit_model1(Ridge,X_train,y_train,alphas=[0.001,0.01,0.1,1,10,100]) \n",
    "ridge_models"
   ]
  },
  {
   "cell_type": "code",
   "execution_count": 29,
   "id": "562c71bd",
   "metadata": {},
   "outputs": [
    {
     "data": {
      "text/html": [
       "<div>\n",
       "<style scoped>\n",
       "    .dataframe tbody tr th:only-of-type {\n",
       "        vertical-align: middle;\n",
       "    }\n",
       "\n",
       "    .dataframe tbody tr th {\n",
       "        vertical-align: top;\n",
       "    }\n",
       "\n",
       "    .dataframe thead th {\n",
       "        text-align: right;\n",
       "    }\n",
       "</style>\n",
       "<table border=\"1\" class=\"dataframe\">\n",
       "  <thead>\n",
       "    <tr style=\"text-align: right;\">\n",
       "      <th></th>\n",
       "      <th>model</th>\n",
       "      <th>alpha</th>\n",
       "      <th>number of features</th>\n",
       "      <th>score_validation</th>\n",
       "      <th>score_test</th>\n",
       "    </tr>\n",
       "  </thead>\n",
       "  <tbody>\n",
       "    <tr>\n",
       "      <th>0</th>\n",
       "      <td>ridge</td>\n",
       "      <td>0.001</td>\n",
       "      <td>97</td>\n",
       "      <td>-0.121240</td>\n",
       "      <td>-0.216540</td>\n",
       "    </tr>\n",
       "    <tr>\n",
       "      <th>1</th>\n",
       "      <td>ridge</td>\n",
       "      <td>0.010</td>\n",
       "      <td>97</td>\n",
       "      <td>-0.121240</td>\n",
       "      <td>-0.216540</td>\n",
       "    </tr>\n",
       "    <tr>\n",
       "      <th>2</th>\n",
       "      <td>ridge</td>\n",
       "      <td>0.100</td>\n",
       "      <td>97</td>\n",
       "      <td>-0.121235</td>\n",
       "      <td>-0.216534</td>\n",
       "    </tr>\n",
       "    <tr>\n",
       "      <th>3</th>\n",
       "      <td>ridge</td>\n",
       "      <td>1.000</td>\n",
       "      <td>97</td>\n",
       "      <td>-0.121188</td>\n",
       "      <td>-0.216484</td>\n",
       "    </tr>\n",
       "    <tr>\n",
       "      <th>4</th>\n",
       "      <td>ridge</td>\n",
       "      <td>10.000</td>\n",
       "      <td>97</td>\n",
       "      <td>-0.120718</td>\n",
       "      <td>-0.215982</td>\n",
       "    </tr>\n",
       "    <tr>\n",
       "      <th>5</th>\n",
       "      <td>ridge</td>\n",
       "      <td>100.000</td>\n",
       "      <td>97</td>\n",
       "      <td>-0.116305</td>\n",
       "      <td>-0.211268</td>\n",
       "    </tr>\n",
       "  </tbody>\n",
       "</table>\n",
       "</div>"
      ],
      "text/plain": [
       "   model    alpha  number of features  score_validation  score_test\n",
       "0  ridge    0.001                  97         -0.121240   -0.216540\n",
       "1  ridge    0.010                  97         -0.121240   -0.216540\n",
       "2  ridge    0.100                  97         -0.121235   -0.216534\n",
       "3  ridge    1.000                  97         -0.121188   -0.216484\n",
       "4  ridge   10.000                  97         -0.120718   -0.215982\n",
       "5  ridge  100.000                  97         -0.116305   -0.211268"
      ]
     },
     "execution_count": 29,
     "metadata": {},
     "output_type": "execute_result"
    }
   ],
   "source": [
    "ridge_scores=[]\n",
    "for k,v in ridge_models.items():\n",
    "    y_train_pred=v.predict(X_train)\n",
    "    score_train=rsquare_oos(y_train,y_train_pred)\n",
    "    \n",
    "    y_validation_pred=v.predict(X_validation)\n",
    "    score_validation=rsquare_oos(y_validation,y_validation_pred)\n",
    "    \n",
    "    y_test_pred=v.predict(X_test)\n",
    "    score_test=rsquare_oos(y_test,y_test_pred)\n",
    "    \n",
    "    ridge_scores.append({\"model\":\"ridge\",\n",
    "                         \"alpha\":k,\n",
    "                         \"number of features\":np.sum(v.coef_!=0),\n",
    "                         \"score_validation\":score_validation,\n",
    "                         \"score_test\":score_test})\n",
    "    \n",
    "df_ridge_scores=pd.DataFrame(ridge_scores)\n",
    "df_ridge_scores"
   ]
  },
  {
   "cell_type": "code",
   "execution_count": 31,
   "id": "cab39e26",
   "metadata": {},
   "outputs": [
    {
     "data": {
      "text/html": [
       "<div>\n",
       "<style scoped>\n",
       "    .dataframe tbody tr th:only-of-type {\n",
       "        vertical-align: middle;\n",
       "    }\n",
       "\n",
       "    .dataframe tbody tr th {\n",
       "        vertical-align: top;\n",
       "    }\n",
       "\n",
       "    .dataframe thead th {\n",
       "        text-align: right;\n",
       "    }\n",
       "</style>\n",
       "<table border=\"1\" class=\"dataframe\">\n",
       "  <thead>\n",
       "    <tr style=\"text-align: right;\">\n",
       "      <th></th>\n",
       "      <th>model</th>\n",
       "      <th>alpha</th>\n",
       "      <th>number of features</th>\n",
       "      <th>score_validation</th>\n",
       "      <th>score_test</th>\n",
       "    </tr>\n",
       "  </thead>\n",
       "  <tbody>\n",
       "    <tr>\n",
       "      <th>5</th>\n",
       "      <td>ridge</td>\n",
       "      <td>100.0</td>\n",
       "      <td>97</td>\n",
       "      <td>-0.116305</td>\n",
       "      <td>-0.211268</td>\n",
       "    </tr>\n",
       "  </tbody>\n",
       "</table>\n",
       "</div>"
      ],
      "text/plain": [
       "   model  alpha  number of features  score_validation  score_test\n",
       "5  ridge  100.0                  97         -0.116305   -0.211268"
      ]
     },
     "execution_count": 31,
     "metadata": {},
     "output_type": "execute_result"
    }
   ],
   "source": [
    "best_m=df_ridge_scores[df_ridge_scores['score_validation']==df_ridge_scores['score_validation'].max()]\n",
    "best_m"
   ]
  },
  {
   "cell_type": "code",
   "execution_count": 33,
   "id": "394f9448",
   "metadata": {},
   "outputs": [],
   "source": [
    "#The recursive performance evaluation scheme\n",
    "alpha_list=[0]*31\n",
    "validation_score=[0]*31\n",
    "test_score=[0]*31\n",
    "num_features=[0]*31"
   ]
  },
  {
   "cell_type": "code",
   "execution_count": 34,
   "id": "55782cd1",
   "metadata": {},
   "outputs": [
    {
     "name": "stdout",
     "output_type": "stream",
     "text": [
      "Evaluation Window 0:\n",
      "Train data:1960-1978\n",
      "Valuation data:1978-1990\n",
      "Test data:1990-1991\n"
     ]
    },
    {
     "name": "stderr",
     "output_type": "stream",
     "text": [
      "100%|████████████████████████████████████████████████████████████████████████████████████| 6/6 [00:02<00:00,  2.36it/s]\n"
     ]
    },
    {
     "name": "stdout",
     "output_type": "stream",
     "text": [
      "Evaluation Window 1:\n",
      "Train data:1960-1979\n",
      "Valuation data:1979-1991\n",
      "Test data:1991-1992\n"
     ]
    },
    {
     "name": "stderr",
     "output_type": "stream",
     "text": [
      "100%|████████████████████████████████████████████████████████████████████████████████████| 6/6 [00:02<00:00,  2.18it/s]\n"
     ]
    },
    {
     "name": "stdout",
     "output_type": "stream",
     "text": [
      "Evaluation Window 2:\n",
      "Train data:1960-1980\n",
      "Valuation data:1980-1992\n",
      "Test data:1992-1993\n"
     ]
    },
    {
     "name": "stderr",
     "output_type": "stream",
     "text": [
      "100%|████████████████████████████████████████████████████████████████████████████████████| 6/6 [00:06<00:00,  1.09s/it]\n"
     ]
    },
    {
     "name": "stdout",
     "output_type": "stream",
     "text": [
      "Evaluation Window 3:\n",
      "Train data:1960-1981\n",
      "Valuation data:1981-1993\n",
      "Test data:1993-1994\n"
     ]
    },
    {
     "name": "stderr",
     "output_type": "stream",
     "text": [
      "100%|████████████████████████████████████████████████████████████████████████████████████| 6/6 [00:07<00:00,  1.18s/it]\n"
     ]
    },
    {
     "name": "stdout",
     "output_type": "stream",
     "text": [
      "Evaluation Window 4:\n",
      "Train data:1960-1982\n",
      "Valuation data:1982-1994\n",
      "Test data:1994-1995\n"
     ]
    },
    {
     "name": "stderr",
     "output_type": "stream",
     "text": [
      "100%|████████████████████████████████████████████████████████████████████████████████████| 6/6 [00:03<00:00,  1.69it/s]\n"
     ]
    },
    {
     "name": "stdout",
     "output_type": "stream",
     "text": [
      "Evaluation Window 5:\n",
      "Train data:1960-1983\n",
      "Valuation data:1983-1995\n",
      "Test data:1995-1996\n"
     ]
    },
    {
     "name": "stderr",
     "output_type": "stream",
     "text": [
      "100%|████████████████████████████████████████████████████████████████████████████████████| 6/6 [00:03<00:00,  1.57it/s]\n"
     ]
    },
    {
     "name": "stdout",
     "output_type": "stream",
     "text": [
      "Evaluation Window 6:\n",
      "Train data:1960-1984\n",
      "Valuation data:1984-1996\n",
      "Test data:1996-1997\n"
     ]
    },
    {
     "name": "stderr",
     "output_type": "stream",
     "text": [
      "100%|████████████████████████████████████████████████████████████████████████████████████| 6/6 [00:03<00:00,  1.52it/s]\n"
     ]
    },
    {
     "name": "stdout",
     "output_type": "stream",
     "text": [
      "Evaluation Window 7:\n",
      "Train data:1960-1985\n",
      "Valuation data:1985-1997\n",
      "Test data:1997-1998\n"
     ]
    },
    {
     "name": "stderr",
     "output_type": "stream",
     "text": [
      "100%|████████████████████████████████████████████████████████████████████████████████████| 6/6 [00:04<00:00,  1.41it/s]\n"
     ]
    },
    {
     "name": "stdout",
     "output_type": "stream",
     "text": [
      "Evaluation Window 8:\n",
      "Train data:1960-1986\n",
      "Valuation data:1986-1998\n",
      "Test data:1998-1999\n"
     ]
    },
    {
     "name": "stderr",
     "output_type": "stream",
     "text": [
      "100%|████████████████████████████████████████████████████████████████████████████████████| 6/6 [00:04<00:00,  1.30it/s]\n"
     ]
    },
    {
     "name": "stdout",
     "output_type": "stream",
     "text": [
      "Evaluation Window 9:\n",
      "Train data:1960-1987\n",
      "Valuation data:1987-1999\n",
      "Test data:1999-2000\n"
     ]
    },
    {
     "name": "stderr",
     "output_type": "stream",
     "text": [
      "100%|████████████████████████████████████████████████████████████████████████████████████| 6/6 [00:04<00:00,  1.24it/s]\n"
     ]
    },
    {
     "name": "stdout",
     "output_type": "stream",
     "text": [
      "Evaluation Window 10:\n",
      "Train data:1960-1988\n",
      "Valuation data:1988-2000\n",
      "Test data:2000-2001\n"
     ]
    },
    {
     "name": "stderr",
     "output_type": "stream",
     "text": [
      "100%|████████████████████████████████████████████████████████████████████████████████████| 6/6 [00:05<00:00,  1.13it/s]\n"
     ]
    },
    {
     "name": "stdout",
     "output_type": "stream",
     "text": [
      "Evaluation Window 11:\n",
      "Train data:1960-1989\n",
      "Valuation data:1989-2001\n",
      "Test data:2001-2002\n"
     ]
    },
    {
     "name": "stderr",
     "output_type": "stream",
     "text": [
      "100%|████████████████████████████████████████████████████████████████████████████████████| 6/6 [00:05<00:00,  1.06it/s]\n"
     ]
    },
    {
     "name": "stdout",
     "output_type": "stream",
     "text": [
      "Evaluation Window 12:\n",
      "Train data:1960-1990\n",
      "Valuation data:1990-2002\n",
      "Test data:2002-2003\n"
     ]
    },
    {
     "name": "stderr",
     "output_type": "stream",
     "text": [
      "100%|████████████████████████████████████████████████████████████████████████████████████| 6/6 [00:05<00:00,  1.02it/s]\n"
     ]
    },
    {
     "name": "stdout",
     "output_type": "stream",
     "text": [
      "Evaluation Window 13:\n",
      "Train data:1960-1991\n",
      "Valuation data:1991-2003\n",
      "Test data:2003-2004\n"
     ]
    },
    {
     "name": "stderr",
     "output_type": "stream",
     "text": [
      "100%|████████████████████████████████████████████████████████████████████████████████████| 6/6 [00:06<00:00,  1.04s/it]\n"
     ]
    },
    {
     "name": "stdout",
     "output_type": "stream",
     "text": [
      "Evaluation Window 14:\n",
      "Train data:1960-1992\n",
      "Valuation data:1992-2004\n",
      "Test data:2004-2005\n"
     ]
    },
    {
     "name": "stderr",
     "output_type": "stream",
     "text": [
      "100%|████████████████████████████████████████████████████████████████████████████████████| 6/6 [00:06<00:00,  1.10s/it]\n"
     ]
    },
    {
     "name": "stdout",
     "output_type": "stream",
     "text": [
      "Evaluation Window 15:\n",
      "Train data:1960-1993\n",
      "Valuation data:1993-2005\n",
      "Test data:2005-2006\n"
     ]
    },
    {
     "name": "stderr",
     "output_type": "stream",
     "text": [
      "100%|████████████████████████████████████████████████████████████████████████████████████| 6/6 [00:06<00:00,  1.13s/it]\n"
     ]
    },
    {
     "name": "stdout",
     "output_type": "stream",
     "text": [
      "Evaluation Window 16:\n",
      "Train data:1960-1994\n",
      "Valuation data:1994-2006\n",
      "Test data:2006-2007\n"
     ]
    },
    {
     "name": "stderr",
     "output_type": "stream",
     "text": [
      "100%|████████████████████████████████████████████████████████████████████████████████████| 6/6 [00:07<00:00,  1.20s/it]\n"
     ]
    },
    {
     "name": "stdout",
     "output_type": "stream",
     "text": [
      "Evaluation Window 17:\n",
      "Train data:1960-1995\n",
      "Valuation data:1995-2007\n",
      "Test data:2007-2008\n"
     ]
    },
    {
     "name": "stderr",
     "output_type": "stream",
     "text": [
      "100%|████████████████████████████████████████████████████████████████████████████████████| 6/6 [00:07<00:00,  1.29s/it]\n"
     ]
    },
    {
     "name": "stdout",
     "output_type": "stream",
     "text": [
      "Evaluation Window 18:\n",
      "Train data:1960-1996\n",
      "Valuation data:1996-2008\n",
      "Test data:2008-2009\n"
     ]
    },
    {
     "name": "stderr",
     "output_type": "stream",
     "text": [
      "100%|████████████████████████████████████████████████████████████████████████████████████| 6/6 [00:07<00:00,  1.31s/it]\n"
     ]
    },
    {
     "name": "stdout",
     "output_type": "stream",
     "text": [
      "Evaluation Window 19:\n",
      "Train data:1960-1997\n",
      "Valuation data:1997-2009\n",
      "Test data:2009-2010\n"
     ]
    },
    {
     "name": "stderr",
     "output_type": "stream",
     "text": [
      "100%|████████████████████████████████████████████████████████████████████████████████████| 6/6 [00:08<00:00,  1.43s/it]\n"
     ]
    },
    {
     "name": "stdout",
     "output_type": "stream",
     "text": [
      "Evaluation Window 20:\n",
      "Train data:1960-1998\n",
      "Valuation data:1998-2010\n",
      "Test data:2010-2011\n"
     ]
    },
    {
     "name": "stderr",
     "output_type": "stream",
     "text": [
      "100%|████████████████████████████████████████████████████████████████████████████████████| 6/6 [00:09<00:00,  1.55s/it]\n"
     ]
    },
    {
     "name": "stdout",
     "output_type": "stream",
     "text": [
      "Evaluation Window 21:\n",
      "Train data:1960-1999\n",
      "Valuation data:1999-2011\n",
      "Test data:2011-2012\n"
     ]
    },
    {
     "name": "stderr",
     "output_type": "stream",
     "text": [
      "100%|████████████████████████████████████████████████████████████████████████████████████| 6/6 [00:09<00:00,  1.55s/it]\n"
     ]
    },
    {
     "name": "stdout",
     "output_type": "stream",
     "text": [
      "Evaluation Window 22:\n",
      "Train data:1960-2000\n",
      "Valuation data:2000-2012\n",
      "Test data:2012-2013\n"
     ]
    },
    {
     "name": "stderr",
     "output_type": "stream",
     "text": [
      "100%|████████████████████████████████████████████████████████████████████████████████████| 6/6 [00:09<00:00,  1.64s/it]\n"
     ]
    },
    {
     "name": "stdout",
     "output_type": "stream",
     "text": [
      "Evaluation Window 23:\n",
      "Train data:1960-2001\n",
      "Valuation data:2001-2013\n",
      "Test data:2013-2014\n"
     ]
    },
    {
     "name": "stderr",
     "output_type": "stream",
     "text": [
      "100%|████████████████████████████████████████████████████████████████████████████████████| 6/6 [00:10<00:00,  1.70s/it]\n"
     ]
    },
    {
     "name": "stdout",
     "output_type": "stream",
     "text": [
      "Evaluation Window 24:\n",
      "Train data:1960-2002\n",
      "Valuation data:2002-2014\n",
      "Test data:2014-2015\n"
     ]
    },
    {
     "name": "stderr",
     "output_type": "stream",
     "text": [
      "100%|████████████████████████████████████████████████████████████████████████████████████| 6/6 [00:10<00:00,  1.76s/it]\n"
     ]
    },
    {
     "name": "stdout",
     "output_type": "stream",
     "text": [
      "Evaluation Window 25:\n",
      "Train data:1960-2003\n",
      "Valuation data:2003-2015\n",
      "Test data:2015-2016\n"
     ]
    },
    {
     "name": "stderr",
     "output_type": "stream",
     "text": [
      "100%|████████████████████████████████████████████████████████████████████████████████████| 6/6 [00:10<00:00,  1.83s/it]\n"
     ]
    },
    {
     "name": "stdout",
     "output_type": "stream",
     "text": [
      "Evaluation Window 26:\n",
      "Train data:1960-2004\n",
      "Valuation data:2004-2016\n",
      "Test data:2016-2017\n"
     ]
    },
    {
     "name": "stderr",
     "output_type": "stream",
     "text": [
      "100%|████████████████████████████████████████████████████████████████████████████████████| 6/6 [00:11<00:00,  1.87s/it]\n"
     ]
    },
    {
     "name": "stdout",
     "output_type": "stream",
     "text": [
      "Evaluation Window 27:\n",
      "Train data:1960-2005\n",
      "Valuation data:2005-2017\n",
      "Test data:2017-2018\n"
     ]
    },
    {
     "name": "stderr",
     "output_type": "stream",
     "text": [
      "100%|████████████████████████████████████████████████████████████████████████████████████| 6/6 [00:11<00:00,  1.92s/it]\n"
     ]
    },
    {
     "name": "stdout",
     "output_type": "stream",
     "text": [
      "Evaluation Window 28:\n",
      "Train data:1960-2006\n",
      "Valuation data:2006-2018\n",
      "Test data:2018-2019\n"
     ]
    },
    {
     "name": "stderr",
     "output_type": "stream",
     "text": [
      "100%|████████████████████████████████████████████████████████████████████████████████████| 6/6 [00:12<00:00,  2.01s/it]\n"
     ]
    },
    {
     "name": "stdout",
     "output_type": "stream",
     "text": [
      "Evaluation Window 29:\n",
      "Train data:1960-2007\n",
      "Valuation data:2007-2019\n",
      "Test data:2019-2020\n"
     ]
    },
    {
     "name": "stderr",
     "output_type": "stream",
     "text": [
      "100%|████████████████████████████████████████████████████████████████████████████████████| 6/6 [00:12<00:00,  2.03s/it]\n"
     ]
    },
    {
     "name": "stdout",
     "output_type": "stream",
     "text": [
      "Evaluation Window 30:\n",
      "Train data:1960-2008\n",
      "Valuation data:2008-2020\n",
      "Test data:2020-2021\n"
     ]
    },
    {
     "name": "stderr",
     "output_type": "stream",
     "text": [
      "100%|████████████████████████████████████████████████████████████████████████████████████| 6/6 [00:12<00:00,  2.13s/it]\n"
     ]
    }
   ],
   "source": [
    "for i in range(0,31):\n",
    "    print('Evaluation Window {}:\\nTrain data:1960-{}\\nValuation data:{}-{}\\nTest data:{}-{}'.format(i,1978+i,1978+i,1990+i,1990+i,1991+i))\n",
    "    data_train=data[(data.DATE>=19600101)&(data.DATE<19780101+i*10000)]\n",
    "    data_validation=data[(data.DATE>=19780101+i*10000)&(data.DATE<19900101+i*10000)]\n",
    "    data_test=data[(data.DATE>=19900101+i*10000)&(data.DATE<19910101+i*10000)]\n",
    "    data_train=missing_value_filling(data_train)\n",
    "    data_validation=missing_value_filling(data_validation)\n",
    "    data_test=missing_value_filling(data_test)\n",
    "    \n",
    "    #Normalize\n",
    "    X_train=data_train.drop(\"RET\",axis=1).copy()\n",
    "    X_train=scaler.fit_transform(X_train)\n",
    "    X_validation=data_validation.drop(\"RET\",axis=1).copy()\n",
    "    X_validation=scaler.transform(X_validation)\n",
    "    X_test=data_test.drop(\"RET\",axis=1).copy()\n",
    "    X_test=scaler.transform(X_test)\n",
    "\n",
    "    y_train=data_train[[\"RET\"]].copy()\n",
    "    y_validation=data_validation[[\"RET\"]].copy()\n",
    "    y_test=data_test[[\"RET\"]].copy()\n",
    "    y_train=scaler.fit_transform(y_train)\n",
    "    y_test=scaler.transform(y_test)\n",
    "    y_validation=scaler.transform(y_validation)    \n",
    "    \n",
    "    ridge_models_for=fit_model1(Ridge,X_train,y_train,alphas=[0.001,0.01,0.1,1,10,100]) \n",
    "    ridge_scores_for=[]\n",
    "    for k,v in ridge_models_for.items():\n",
    "        y_validation_pred=v.predict(X_validation)\n",
    "        score_validation=rsquare_oos(y_validation,y_validation_pred)\n",
    "        y_test_pred=v.predict(X_test)\n",
    "        score_test=rsquare_oos(y_test,y_test_pred)\n",
    "        \n",
    "        ridge_scores_for.append({\"model\":\"ridge\",\n",
    "                             \"alpha\":k,\n",
    "                             \"number of features\":np.sum(v.coef_!=0),\n",
    "                             \"score_validation\":score_validation,\n",
    "                             \"score_test\":score_test})\n",
    "        \n",
    "    df_ridge_scores_for=pd.DataFrame(ridge_scores_for)\n",
    "    \n",
    "    best_model=df_ridge_scores_for[df_ridge_scores_for['score_validation']==df_ridge_scores_for['score_validation'].max()]\n",
    "    alpha_list[i]=best_model['alpha'].values.tolist()\n",
    "    validation_score[i]=best_model['score_validation'].values.tolist()\n",
    "    test_score[i]=best_model['score_test'].values.tolist()\n",
    "    num_features[i]=best_model['number of features'].values.tolist()\n",
    "    \n",
    "    del data_train,data_validation,data_test,X_train,y_train,X_test,y_test,X_validation,y_validation\n",
    "    del ridge_models_for,ridge_scores_for,df_ridge_scores_for,best_model\n",
    "                         \n",
    "    \n"
   ]
  },
  {
   "cell_type": "code",
   "execution_count": 35,
   "id": "d5290525",
   "metadata": {},
   "outputs": [],
   "source": [
    "test_score_=test_score.copy()\n",
    "validation_score_=validation_score.copy()\n",
    "alpha_list_=alpha_list.copy()\n",
    "num_features=num_features.copy()"
   ]
  },
  {
   "cell_type": "code",
   "execution_count": 40,
   "id": "e8586522",
   "metadata": {},
   "outputs": [
    {
     "data": {
      "text/plain": [
       "[[-0.21126759839746123],\n",
       " [-0.1347175575783408],\n",
       " [-0.5007091359080278],\n",
       " [-2.1441014066625104],\n",
       " [-1.037477229128685],\n",
       " [-1.1882725971494956],\n",
       " [-1.6361709629000454],\n",
       " [-2.378437345644493],\n",
       " [-2.864127424710565],\n",
       " [-2.065845870814155],\n",
       " [-1.7921159292430637],\n",
       " [-1.0986135841968983],\n",
       " [-0.7162186460451243],\n",
       " [-0.7006170955764968],\n",
       " [-1.1941896647419301],\n",
       " [-1.814516409218038],\n",
       " [-1.8250245164800796],\n",
       " [-2.3607885155002504],\n",
       " [-0.7093062391529701],\n",
       " [-0.11822040370631992],\n",
       " [-0.28885078609696246],\n",
       " [-0.16662705316857962],\n",
       " [-0.167029620602426],\n",
       " [-0.11179084898530167],\n",
       " [-0.1864844579720526],\n",
       " [-0.13380706198369152],\n",
       " [-0.1313270475948165],\n",
       " [-0.2934055079549349],\n",
       " [-0.24121898804329933],\n",
       " [-0.4044679025208209],\n",
       " [-0.0377051184143975]]"
      ]
     },
     "execution_count": 40,
     "metadata": {},
     "output_type": "execute_result"
    }
   ],
   "source": [
    "test_score_"
   ]
  },
  {
   "cell_type": "code",
   "execution_count": 41,
   "id": "b12e1363",
   "metadata": {},
   "outputs": [
    {
     "data": {
      "text/plain": [
       "[[-0.11630535318174084],\n",
       " [-0.14653256436279483],\n",
       " [-0.17079382841132462],\n",
       " [-0.2512235327396788],\n",
       " [-0.16921317252411483],\n",
       " [-0.1858683628103588],\n",
       " [-0.23684958852238913],\n",
       " [-0.29359739922648287],\n",
       " [-0.40921397393876524],\n",
       " [-0.5286244442157471],\n",
       " [-0.6652779831096407],\n",
       " [-0.5317600025313391],\n",
       " [-0.3463402083580511],\n",
       " [-0.31156098110266983],\n",
       " [-0.28225002929644183],\n",
       " [-0.2758569367139565],\n",
       " [-0.27693961314989],\n",
       " [-0.26824412519569574],\n",
       " [-0.2646000011245173],\n",
       " [-0.22824596687511867],\n",
       " [-0.12819685300967176],\n",
       " [-0.049191516704057525],\n",
       " [-0.022262772832960298],\n",
       " [-0.005707543934815096],\n",
       " [-0.009371662354866528],\n",
       " [-0.023451109470213227],\n",
       " [-0.036741197577399465],\n",
       " [-0.04073825685953336],\n",
       " [-0.0410390138194614],\n",
       " [-0.0428939584135235],\n",
       " [-0.05381434684326836]]"
      ]
     },
     "execution_count": 41,
     "metadata": {},
     "output_type": "execute_result"
    }
   ],
   "source": [
    "validation_score_"
   ]
  },
  {
   "cell_type": "code",
   "execution_count": 42,
   "id": "bfab3c91",
   "metadata": {},
   "outputs": [
    {
     "data": {
      "text/plain": [
       "[[97],\n",
       " [97],\n",
       " [97],\n",
       " [97],\n",
       " [99],\n",
       " [99],\n",
       " [99],\n",
       " [99],\n",
       " [100],\n",
       " [100],\n",
       " [100],\n",
       " [100],\n",
       " [100],\n",
       " [100],\n",
       " [100],\n",
       " [100],\n",
       " [100],\n",
       " [100],\n",
       " [100],\n",
       " [100],\n",
       " [100],\n",
       " [100],\n",
       " [100],\n",
       " [100],\n",
       " [100],\n",
       " [100],\n",
       " [100],\n",
       " [100],\n",
       " [100],\n",
       " [100],\n",
       " [100]]"
      ]
     },
     "execution_count": 42,
     "metadata": {},
     "output_type": "execute_result"
    }
   ],
   "source": [
    "num_features"
   ]
  },
  {
   "cell_type": "code",
   "execution_count": 44,
   "id": "60a80a37",
   "metadata": {},
   "outputs": [],
   "source": [
    "pd.DataFrame(test_score_).to_csv(\"C:\\\\Users\\\\qluaj\\\\Downloads\\\\datashare\\\\ridge_test.csv\")\n",
    "pd.DataFrame(validation_score_).to_csv(\"C:\\\\Users\\\\qluaj\\\\Downloads\\\\datashare\\\\ridge_val.csv\")\n",
    "pd.DataFrame(num_features).to_csv(\"C:\\\\Users\\\\qluaj\\\\Downloads\\\\datashare\\\\ridge_num.csv\")"
   ]
  },
  {
   "cell_type": "code",
   "execution_count": null,
   "id": "327f5706",
   "metadata": {},
   "outputs": [],
   "source": []
  }
 ],
 "metadata": {
  "kernelspec": {
   "display_name": "Python 3",
   "language": "python",
   "name": "python3"
  },
  "language_info": {
   "codemirror_mode": {
    "name": "ipython",
    "version": 3
   },
   "file_extension": ".py",
   "mimetype": "text/x-python",
   "name": "python",
   "nbconvert_exporter": "python",
   "pygments_lexer": "ipython3",
   "version": "3.8.8"
  }
 },
 "nbformat": 4,
 "nbformat_minor": 5
}
