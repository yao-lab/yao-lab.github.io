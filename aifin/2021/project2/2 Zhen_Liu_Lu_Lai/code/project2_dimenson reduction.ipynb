{
 "cells": [
  {
   "cell_type": "code",
   "execution_count": 1,
   "metadata": {
    "colab": {
     "base_uri": "https://localhost:8080/"
    },
    "executionInfo": {
     "elapsed": 1311,
     "status": "ok",
     "timestamp": 1636876142639,
     "user": {
      "displayName": "MAFM HKUST",
      "photoUrl": "https://lh3.googleusercontent.com/a/default-user=s64",
      "userId": "10894348893487959051"
     },
     "user_tz": -480
    },
    "id": "P-sok9_BPRsE",
    "outputId": "c1f078d2-3c18-4d22-9006-ab841eb2bc2a"
   },
   "outputs": [],
   "source": [
    "import pandas as pd\n",
    "import numpy as np\n",
    "from sklearn.preprocessing import StandardScaler\n",
    "import statsmodels.api as sm\n",
    "from sklearn.cross_decomposition import PLSRegression\n",
    "from sklearn.decomposition import PCA"
   ]
  },
  {
   "cell_type": "code",
   "execution_count": 2,
   "metadata": {
    "colab": {
     "base_uri": "https://localhost:8080/",
     "height": 338
    },
    "executionInfo": {
     "elapsed": 65079,
     "status": "ok",
     "timestamp": 1636876207712,
     "user": {
      "displayName": "MAFM HKUST",
      "photoUrl": "https://lh3.googleusercontent.com/a/default-user=s64",
      "userId": "10894348893487959051"
     },
     "user_tz": -480
    },
    "id": "NUGmdsD8iyC0",
    "outputId": "085085dc-0c76-4ba5-eaa7-1a1a9f14553d"
   },
   "outputs": [
    {
     "data": {
      "text/html": [
       "<div>\n",
       "<style scoped>\n",
       "    .dataframe tbody tr th:only-of-type {\n",
       "        vertical-align: middle;\n",
       "    }\n",
       "\n",
       "    .dataframe tbody tr th {\n",
       "        vertical-align: top;\n",
       "    }\n",
       "\n",
       "    .dataframe thead th {\n",
       "        text-align: right;\n",
       "    }\n",
       "</style>\n",
       "<table border=\"1\" class=\"dataframe\">\n",
       "  <thead>\n",
       "    <tr style=\"text-align: right;\">\n",
       "      <th></th>\n",
       "      <th>permno</th>\n",
       "      <th>DATE</th>\n",
       "      <th>mvel1</th>\n",
       "      <th>RET</th>\n",
       "      <th>prc</th>\n",
       "      <th>SHROUT</th>\n",
       "      <th>beta</th>\n",
       "      <th>betasq</th>\n",
       "      <th>chmom</th>\n",
       "      <th>dolvol</th>\n",
       "      <th>...</th>\n",
       "      <th>baspread</th>\n",
       "      <th>ill</th>\n",
       "      <th>maxret</th>\n",
       "      <th>retvol</th>\n",
       "      <th>std_dolvol</th>\n",
       "      <th>std_turn</th>\n",
       "      <th>zerotrade</th>\n",
       "      <th>sic2</th>\n",
       "      <th>bm</th>\n",
       "      <th>bm_ia</th>\n",
       "    </tr>\n",
       "  </thead>\n",
       "  <tbody>\n",
       "    <tr>\n",
       "      <th>0</th>\n",
       "      <td>10006</td>\n",
       "      <td>19600129</td>\n",
       "      <td>68773.00</td>\n",
       "      <td>0.005155</td>\n",
       "      <td>48.750</td>\n",
       "      <td>1418</td>\n",
       "      <td>1.158041</td>\n",
       "      <td>1.341058</td>\n",
       "      <td>-0.078184</td>\n",
       "      <td>9.474396</td>\n",
       "      <td>...</td>\n",
       "      <td>0.015272</td>\n",
       "      <td>2.059137e-07</td>\n",
       "      <td>0.033943</td>\n",
       "      <td>0.015149</td>\n",
       "      <td>0.591078</td>\n",
       "      <td>0.533983</td>\n",
       "      <td>9.859742e-08</td>\n",
       "      <td>37.0</td>\n",
       "      <td>NaN</td>\n",
       "      <td>NaN</td>\n",
       "    </tr>\n",
       "    <tr>\n",
       "      <th>1</th>\n",
       "      <td>10014</td>\n",
       "      <td>19600129</td>\n",
       "      <td>9823.50</td>\n",
       "      <td>0.138889</td>\n",
       "      <td>5.125</td>\n",
       "      <td>2183</td>\n",
       "      <td>1.838109</td>\n",
       "      <td>3.378645</td>\n",
       "      <td>-0.506541</td>\n",
       "      <td>7.946573</td>\n",
       "      <td>...</td>\n",
       "      <td>0.035918</td>\n",
       "      <td>1.906160e-06</td>\n",
       "      <td>0.028571</td>\n",
       "      <td>0.021261</td>\n",
       "      <td>0.491650</td>\n",
       "      <td>0.481666</td>\n",
       "      <td>8.535634e-08</td>\n",
       "      <td>NaN</td>\n",
       "      <td>NaN</td>\n",
       "      <td>NaN</td>\n",
       "    </tr>\n",
       "    <tr>\n",
       "      <th>2</th>\n",
       "      <td>10022</td>\n",
       "      <td>19600129</td>\n",
       "      <td>21133.75</td>\n",
       "      <td>-0.045455</td>\n",
       "      <td>13.125</td>\n",
       "      <td>1537</td>\n",
       "      <td>1.157077</td>\n",
       "      <td>1.338827</td>\n",
       "      <td>-0.374534</td>\n",
       "      <td>8.507143</td>\n",
       "      <td>...</td>\n",
       "      <td>0.022607</td>\n",
       "      <td>6.754297e-07</td>\n",
       "      <td>0.040000</td>\n",
       "      <td>0.026199</td>\n",
       "      <td>0.877110</td>\n",
       "      <td>1.639491</td>\n",
       "      <td>5.271194e-08</td>\n",
       "      <td>NaN</td>\n",
       "      <td>NaN</td>\n",
       "      <td>NaN</td>\n",
       "    </tr>\n",
       "    <tr>\n",
       "      <th>3</th>\n",
       "      <td>10030</td>\n",
       "      <td>19600129</td>\n",
       "      <td>81200.00</td>\n",
       "      <td>-0.015000</td>\n",
       "      <td>49.250</td>\n",
       "      <td>1624</td>\n",
       "      <td>1.327625</td>\n",
       "      <td>1.762587</td>\n",
       "      <td>-0.186923</td>\n",
       "      <td>9.550378</td>\n",
       "      <td>...</td>\n",
       "      <td>0.014960</td>\n",
       "      <td>4.355397e-07</td>\n",
       "      <td>0.038462</td>\n",
       "      <td>0.020206</td>\n",
       "      <td>0.936132</td>\n",
       "      <td>0.771756</td>\n",
       "      <td>1.102852e-07</td>\n",
       "      <td>NaN</td>\n",
       "      <td>NaN</td>\n",
       "      <td>NaN</td>\n",
       "    </tr>\n",
       "    <tr>\n",
       "      <th>4</th>\n",
       "      <td>10057</td>\n",
       "      <td>19600129</td>\n",
       "      <td>27062.50</td>\n",
       "      <td>-0.020785</td>\n",
       "      <td>53.000</td>\n",
       "      <td>500</td>\n",
       "      <td>1.194604</td>\n",
       "      <td>1.427080</td>\n",
       "      <td>-0.293635</td>\n",
       "      <td>8.138565</td>\n",
       "      <td>...</td>\n",
       "      <td>0.002941</td>\n",
       "      <td>3.479863e-07</td>\n",
       "      <td>0.018692</td>\n",
       "      <td>0.006685</td>\n",
       "      <td>0.451979</td>\n",
       "      <td>0.190010</td>\n",
       "      <td>9.545457e-01</td>\n",
       "      <td>NaN</td>\n",
       "      <td>NaN</td>\n",
       "      <td>NaN</td>\n",
       "    </tr>\n",
       "  </tbody>\n",
       "</table>\n",
       "<p>5 rows × 101 columns</p>\n",
       "</div>"
      ],
      "text/plain": [
       "   permno      DATE     mvel1       RET     prc  SHROUT      beta    betasq  \\\n",
       "0   10006  19600129  68773.00  0.005155  48.750    1418  1.158041  1.341058   \n",
       "1   10014  19600129   9823.50  0.138889   5.125    2183  1.838109  3.378645   \n",
       "2   10022  19600129  21133.75 -0.045455  13.125    1537  1.157077  1.338827   \n",
       "3   10030  19600129  81200.00 -0.015000  49.250    1624  1.327625  1.762587   \n",
       "4   10057  19600129  27062.50 -0.020785  53.000     500  1.194604  1.427080   \n",
       "\n",
       "      chmom    dolvol  ...  baspread           ill    maxret    retvol  \\\n",
       "0 -0.078184  9.474396  ...  0.015272  2.059137e-07  0.033943  0.015149   \n",
       "1 -0.506541  7.946573  ...  0.035918  1.906160e-06  0.028571  0.021261   \n",
       "2 -0.374534  8.507143  ...  0.022607  6.754297e-07  0.040000  0.026199   \n",
       "3 -0.186923  9.550378  ...  0.014960  4.355397e-07  0.038462  0.020206   \n",
       "4 -0.293635  8.138565  ...  0.002941  3.479863e-07  0.018692  0.006685   \n",
       "\n",
       "   std_dolvol  std_turn     zerotrade  sic2  bm  bm_ia  \n",
       "0    0.591078  0.533983  9.859742e-08  37.0 NaN    NaN  \n",
       "1    0.491650  0.481666  8.535634e-08   NaN NaN    NaN  \n",
       "2    0.877110  1.639491  5.271194e-08   NaN NaN    NaN  \n",
       "3    0.936132  0.771756  1.102852e-07   NaN NaN    NaN  \n",
       "4    0.451979  0.190010  9.545457e-01   NaN NaN    NaN  \n",
       "\n",
       "[5 rows x 101 columns]"
      ]
     },
     "execution_count": 2,
     "metadata": {},
     "output_type": "execute_result"
    }
   ],
   "source": [
    "df = pd.read_csv(\"GKX_20201231.csv\")\n",
    "df = df[df[\"DATE\"] >= 19600101].reset_index(drop = True) #选取1960年之后的数据\n",
    "df.head()"
   ]
  },
  {
   "cell_type": "code",
   "execution_count": 3,
   "metadata": {
    "executionInfo": {
     "elapsed": 4,
     "status": "ok",
     "timestamp": 1636876209551,
     "user": {
      "displayName": "MAFM HKUST",
      "photoUrl": "https://lh3.googleusercontent.com/a/default-user=s64",
      "userId": "10894348893487959051"
     },
     "user_tz": -480
    },
    "id": "8BcPGC63i203"
   },
   "outputs": [],
   "source": [
    "#划分train/validation/test\n",
    "#输入测试集的年份，返回三个集合\n",
    "def split_function(year_of_test):\n",
    "  end_of_test = (year_of_test+1)*10000\n",
    "  end_of_validation = year_of_test*10000\n",
    "  start_of_validation = (year_of_test-12)*10000\n",
    "  Train = df[df[\"DATE\"] < start_of_validation]\n",
    "  Validation = df[(df[\"DATE\"] > start_of_validation)&(df[\"DATE\"] < end_of_validation)]\n",
    "  Test = df[(df[\"DATE\"] > end_of_validation)&(df[\"DATE\"] < end_of_test)]\n",
    "  return Train,Validation,Test"
   ]
  },
  {
   "cell_type": "code",
   "execution_count": 4,
   "metadata": {
    "executionInfo": {
     "elapsed": 2,
     "status": "ok",
     "timestamp": 1636876212873,
     "user": {
      "displayName": "MAFM HKUST",
      "photoUrl": "https://lh3.googleusercontent.com/a/default-user=s64",
      "userId": "10894348893487959051"
     },
     "user_tz": -480
    },
    "id": "7-ow6Nm6aTle"
   },
   "outputs": [],
   "source": [
    "#缺失值大于50%的指标，缺失值用0填充\n",
    "def fillna_by_zero_of_columns(df):\n",
    "    for column in list(df.columns[df.isnull().sum() > len(df)*0.5]):\n",
    "        df[column].fillna(0.00001, inplace=True)\n",
    "    return df"
   ]
  },
  {
   "cell_type": "code",
   "execution_count": 5,
   "metadata": {
    "executionInfo": {
     "elapsed": 3,
     "status": "ok",
     "timestamp": 1636876213333,
     "user": {
      "displayName": "MAFM HKUST",
      "photoUrl": "https://lh3.googleusercontent.com/a/default-user=s64",
      "userId": "10894348893487959051"
     },
     "user_tz": -480
    },
    "id": "92Yqpw39aUx9"
   },
   "outputs": [],
   "source": [
    "#缺失值小于50%的指标，缺失值用均值填充\n",
    "def fillna_by_mean_of_columns(df):\n",
    "    for column in list(df.columns[df.isnull().sum() < len(df)*0.5]):\n",
    "        mean_val = df[column].mean()\n",
    "        df[column].fillna(mean_val, inplace=True)\n",
    "    return df"
   ]
  },
  {
   "cell_type": "code",
   "execution_count": 6,
   "metadata": {
    "executionInfo": {
     "elapsed": 3886,
     "status": "ok",
     "timestamp": 1636876220871,
     "user": {
      "displayName": "MAFM HKUST",
      "photoUrl": "https://lh3.googleusercontent.com/a/default-user=s64",
      "userId": "10894348893487959051"
     },
     "user_tz": -480
    },
    "id": "E9WCCa0wayQm"
   },
   "outputs": [],
   "source": [
    "#数据缺失值处理\n",
    "fillna_by_zero_of_columns(df)\n",
    "fillna_by_mean_of_columns(df)\n",
    "\n",
    "# Normalized the data\n",
    "scaler = StandardScaler()\n"
   ]
  },
  {
   "cell_type": "code",
   "execution_count": 7,
   "metadata": {
    "executionInfo": {
     "elapsed": 769,
     "status": "ok",
     "timestamp": 1636876225989,
     "user": {
      "displayName": "MAFM HKUST",
      "photoUrl": "https://lh3.googleusercontent.com/a/default-user=s64",
      "userId": "10894348893487959051"
     },
     "user_tz": -480
    },
    "id": "rH_EskrrbKAe"
   },
   "outputs": [],
   "source": [
    " #定义计算out of sample R square函数\n",
    "errs=[]\n",
    "def error(ypred,ytrue): \n",
    "  dif2=np.sum(np.power(ytrue-ypred,2))\n",
    "  return 1-dif2/np.sum(np.power(ytrue,2))"
   ]
  },
  {
   "cell_type": "code",
   "execution_count": null,
   "metadata": {
    "id": "qnLRKPeWaJTq"
   },
   "outputs": [],
   "source": [
    "#PCA 初始化\n",
    "pca=PCA(copy=True,n_components=0.80)\n",
    "components=[]\n",
    "year_of_validation_start=[]\n",
    "year_of_test_start=[]\n",
    "rsquare_oos_validation=[]\n",
    "rsquare_oos_test=[]\n",
    "#计算PCA函数\n",
    "for i in range(30):\n",
    "      year_of_validation_start.append(1990-12+i)\n",
    "      year_of_test_start.append(1990+i)\n",
    "      x_train=split_function(1990+i)[0].drop(['RET'],axis=1)\n",
    "      scaler.fit(x_train)\n",
    "      x_train=scaler.transform(x_train)  ##标准化x_train\n",
    "      y_train=split_function(1990+i)[0]['RET']\n",
    "      y_mean= np.mean(y_train)\n",
    "      y_std = np.std(y_train)\n",
    "      y_train=np.array((y_train-y_mean)/y_std )  ##标准化y_train\n",
    "      x_validation=split_function(1990+i)[1].drop(['RET'],axis=1)\n",
    "      scaler.fit(x_validation)\n",
    "      x_validation=scaler.transform(x_validation)  ##标准化x_validation\n",
    "      y_validation=split_function(1990+i)[1]['RET']\n",
    "      y_mean2= np.mean(y_validation)\n",
    "      y_std2 = np.std(y_validation)\n",
    "      y_validation=np.array((y_validation-y_mean2)/y_std2 )  ##标准化y_validation\n",
    "      x_test=split_function(1990+i)[2].drop(['RET'],axis=1)\n",
    "      scaler.fit(x_test)\n",
    "      x_test=scaler.transform(x_test)  ##标准化x_test\n",
    "      y_test=split_function(1990+i)[2]['RET']\n",
    "      y_mean3= np.mean(y_test)\n",
    "      y_std3 = np.std(y_test)\n",
    "      y_test=np.array((y_test-y_mean3)/y_std3 )  ##标准化y_test\n",
    "      pca.fit(x_train, y_train)\n",
    "      components.append(pca.n_components_)\n",
    "      x_train = pca.transform(x_train)\n",
    "      ols = sm.OLS(y_train,x_train).fit()\n",
    "      x_validation=pca.transform(x_validation)  ##x_validation拟合pca\n",
    "      y_validation_pre = ols.predict(x_validation).flatten()\n",
    "      x_test=pca.transform(x_test)        ##x_test拟合pca\n",
    "      y_test_pre = ols.predict(x_test).flatten()\n",
    "      rsquare_oos_validation.append(error(y_validation_pre,y_validation))\n",
    "      rsquare_oos_test.append(error(y_test_pre,y_test))\n",
    "      del x_train\n",
    "      del y_train\n",
    "      del x_validation\n",
    "      del y_validation\n",
    "      del x_test\n",
    "      del y_test\n",
    "\n",
    "\n"
   ]
  },
  {
   "cell_type": "code",
   "execution_count": null,
   "metadata": {
    "id": "L24ooGCJMnc8"
   },
   "outputs": [],
   "source": [
    "year_of_validation_start"
   ]
  },
  {
   "cell_type": "code",
   "execution_count": null,
   "metadata": {
    "colab": {
     "base_uri": "https://localhost:8080/"
    },
    "executionInfo": {
     "elapsed": 5,
     "status": "ok",
     "timestamp": 1636688386913,
     "user": {
      "displayName": "MAFM HKUST",
      "photoUrl": "https://lh3.googleusercontent.com/a/default-user=s64",
      "userId": "10894348893487959051"
     },
     "user_tz": -480
    },
    "id": "6iFTDeFTLMld",
    "outputId": "8d8cb603-5e9d-46a2-b9ce-e00da7b62690"
   },
   "outputs": [
    {
     "data": {
      "text/plain": [
       "[-0.005306077643253415,\n",
       " -0.0045180155706994185,\n",
       " -0.005520640462510329,\n",
       " -0.0034778778856929815,\n",
       " -0.0013943087001941912,\n",
       " -0.0016036554684946136,\n",
       " 0.00017934879683467742,\n",
       " 0.0003665905605629849,\n",
       " 0.0010244068417090135,\n",
       " 0.0007793387202500446,\n",
       " 0.0006278043483689544,\n",
       " 0.0006157727565794247,\n",
       " 0.000502689336594031,\n",
       " 0.0018320238981218706,\n",
       " 0.00177126238781955,\n",
       " 0.0014519612660763848,\n",
       " 0.0011684337444336501,\n",
       " 0.001030549879609044,\n",
       " 0.0011544592935154308,\n",
       " 0.0005423291815711551,\n",
       " 0.00037127016785287736,\n",
       " 0.00047903851795161323,\n",
       " -0.0001100779866900492,\n",
       " 0.0016891888600922833,\n",
       " -0.00015651923320780803,\n",
       " -0.001373738725838125,\n",
       " -0.0008453009496429686,\n",
       " -0.0007070360229795014,\n",
       " -0.000745732210707839,\n",
       " -0.0004971382055958262]"
      ]
     },
     "execution_count": 21,
     "metadata": {},
     "output_type": "execute_result"
    }
   ],
   "source": [
    "rsquare_oos_validation"
   ]
  },
  {
   "cell_type": "code",
   "execution_count": null,
   "metadata": {
    "colab": {
     "base_uri": "https://localhost:8080/"
    },
    "executionInfo": {
     "elapsed": 857,
     "status": "ok",
     "timestamp": 1636687490563,
     "user": {
      "displayName": "MAFM HKUST",
      "photoUrl": "https://lh3.googleusercontent.com/a/default-user=s64",
      "userId": "10894348893487959051"
     },
     "user_tz": -480
    },
    "id": "Id77AW7pLP4v",
    "outputId": "23b059e2-1a20-4f57-ca47-415af3c06ae5"
   },
   "outputs": [
    {
     "data": {
      "text/plain": [
       "[-0.0036840059716529705,\n",
       " -0.0008200416617936135,\n",
       " 0.0074004728626017036,\n",
       " 0.00500792271489825,\n",
       " 0.001828432692646098,\n",
       " -0.0017018193870870224,\n",
       " 0.0004030455846242287,\n",
       " 0.0005351019223243103,\n",
       " -0.0012922093172365035,\n",
       " -0.0004294797859396571,\n",
       " 0.0010054504834607902,\n",
       " 0.0024731418616976697,\n",
       " 0.008834269750201407,\n",
       " -0.006622085618061435,\n",
       " -0.0007596434468579716,\n",
       " -7.771021226932184e-05,\n",
       " -0.003371928356469933,\n",
       " -0.006513651384279617,\n",
       " -0.005641062299593935,\n",
       " -0.0008308793137632442,\n",
       " 0.0013551068732193805,\n",
       " -0.0044890395105665615,\n",
       " 0.0015681869106789481,\n",
       " 0.004301420309453019,\n",
       " -0.0024537928066701298,\n",
       " -9.31101338330631e-05,\n",
       " -0.0011222994569604072,\n",
       " -0.0013448643132905058,\n",
       " -0.002832925998695446,\n",
       " 0.0012105736951680823]"
      ]
     },
     "execution_count": 12,
     "metadata": {},
     "output_type": "execute_result"
    }
   ],
   "source": [
    "rsquare_oos_test"
   ]
  },
  {
   "cell_type": "code",
   "execution_count": null,
   "metadata": {
    "colab": {
     "base_uri": "https://localhost:8080/"
    },
    "executionInfo": {
     "elapsed": 849,
     "status": "ok",
     "timestamp": 1636687722035,
     "user": {
      "displayName": "MAFM HKUST",
      "photoUrl": "https://lh3.googleusercontent.com/a/default-user=s64",
      "userId": "10894348893487959051"
     },
     "user_tz": -480
    },
    "id": "MwDBgZf9LUCG",
    "outputId": "fb5e0e67-42b0-44d9-a18f-f1ec53bb9abf"
   },
   "outputs": [
    {
     "data": {
      "text/plain": [
       "array([47, 48, 47, 48, 49, 50, 50, 51, 52, 52, 53, 54, 54, 54, 54, 54, 55,\n",
       "       55, 55, 55, 55, 55, 55, 55, 55, 55, 55, 55, 55, 55])"
      ]
     },
     "execution_count": 17,
     "metadata": {},
     "output_type": "execute_result"
    }
   ],
   "source": [
    "components_= np.array(components)\n",
    "components_"
   ]
  },
  {
   "cell_type": "code",
   "execution_count": 8,
   "metadata": {},
   "outputs": [],
   "source": [
    "##计算PCR模型的feature importance (已经得到R2最大值为test=2002,n_components=54)\n",
    "\n",
    "x_train=split_function(2002)[0].drop(['RET'],axis=1)\n",
    "scaler.fit(x_train)\n",
    "x_train=scaler.transform(x_train)  ##标准化x_train\n",
    "y_train=split_function(2002)[0]['RET']\n",
    "y_mean= np.mean(y_train)\n",
    "y_std = np.std(y_train)\n",
    "y_train=np.array((y_train-y_mean)/y_std )  ##标准化y_train"
   ]
  },
  {
   "cell_type": "code",
   "execution_count": 12,
   "metadata": {},
   "outputs": [],
   "source": [
    "pca=PCA(copy=True,n_components=54)\n",
    "pca.fit(x_train, y_train)\n",
    "x_train = pca.transform(x_train)\n",
    "ols = sm.OLS(y_train,x_train).fit()"
   ]
  },
  {
   "cell_type": "code",
   "execution_count": 43,
   "metadata": {},
   "outputs": [],
   "source": [
    "for i in range(54):\n",
    "    coef.append(ols.params[i]*pca.components_[i])\n",
    "    "
   ]
  },
  {
   "cell_type": "code",
   "execution_count": 61,
   "metadata": {},
   "outputs": [],
   "source": [
    "#计算featur importance\n",
    "variable_importance=[]\n",
    "for i in range(100):\n",
    "    coef_new=1\n",
    "    for j in range(54):\n",
    "        coef_new=coef_new*coef[j][i]\n",
    "        \n",
    "    variable_importance.append(coef_new)"
   ]
  },
  {
   "cell_type": "code",
   "execution_count": 62,
   "metadata": {},
   "outputs": [
    {
     "data": {
      "text/plain": [
       "[-1.1128984286065192e-214,\n",
       " 1.6107702290852958e-219,\n",
       " 1.697314549912734e-230,\n",
       " 8.061931982054987e-213,\n",
       " 1.4884222069248758e-221,\n",
       " -4.334359953151774e-216,\n",
       " -1.7914649428135292e-212,\n",
       " 5.76756196579542e-216,\n",
       " 3.106281236849746e-222,\n",
       " -3.5053548960303627e-231,\n",
       " -8.539253386468064e-226,\n",
       " -4.508384078692092e-214,\n",
       " 6.8743212666234125e-220,\n",
       " -1.3192190368949153e-221,\n",
       " 8.728989181859076e-212,\n",
       " -3.105102674573523e-230,\n",
       " -9.79923819825038e-224,\n",
       " -5.659154372057212e-222,\n",
       " 9.59112722046608e-224,\n",
       " 8.679115681566446e-224,\n",
       " 2.774117276053924e-206,\n",
       " 1.161389231020379e-224,\n",
       " -8.357092728393894e-219,\n",
       " 1.0794415851956207e-211,\n",
       " 8.894515611740475e-227,\n",
       " 3.3733110462759e-221,\n",
       " 3.0795896573492624e-211,\n",
       " 1.8045296251999524e-211,\n",
       " -1.2066742347907193e-225,\n",
       " 9.185752915647287e-225,\n",
       " -6.574280524101718e-218,\n",
       " 6.939947675074598e-213,\n",
       " 5.149949463393979e-234,\n",
       " -1.1560770006465934e-215,\n",
       " 3.9754259782328413e-219,\n",
       " 1.3602128505626797e-219,\n",
       " -7.376878670799419e-213,\n",
       " -5.465786811149462e-221,\n",
       " -1.9326571485380018e-213,\n",
       " 1.8362540410181232e-224,\n",
       " -1.4454189852143884e-212,\n",
       " -1.6648559567706716e-211,\n",
       " 1.5304483062685337e-216,\n",
       " -4.725227127097019e-228,\n",
       " -4.184181872514482e-232,\n",
       " 1.5276242257667307e-212,\n",
       " 5.3851067937707226e-214,\n",
       " -5.871858442346969e-228,\n",
       " 9.538917996971404e-219,\n",
       " 3.5279998409787825e-222,\n",
       " -1.9042921778702466e-217,\n",
       " -5.560670513574354e-225,\n",
       " -3.0122034758390514e-213,\n",
       " -3.010174393410861e-207,\n",
       " 1.7646441250042248e-226,\n",
       " -8.615054151975568e-222,\n",
       " 1.558385960037411e-207,\n",
       " -1.5596421748154337e-218,\n",
       " -2.1586291876550517e-227,\n",
       " 5.421007779260202e-209,\n",
       " 6.981083358964148e-216,\n",
       " 2.840909854154347e-234,\n",
       " 1.8064841383855808e-208,\n",
       " -9.074627909200191e-215,\n",
       " -5.706716834851517e-214,\n",
       " 1.8192110171963714e-211,\n",
       " -7.50885735206393e-219,\n",
       " 7.97675440855773e-209,\n",
       " -5.167432014259908e-213,\n",
       " -2.354351011273075e-214,\n",
       " 6.907274110872362e-212,\n",
       " 9.312142867226666e-218,\n",
       " -2.4720673978649563e-224,\n",
       " -8.057056214354772e-217,\n",
       " 2.108492116298997e-216,\n",
       " -1.0998929651712443e-217,\n",
       " -3.3627492238615335e-218,\n",
       " 5.456212218873175e-214,\n",
       " -1.4109411029789834e-214,\n",
       " -1.5618253618024536e-213,\n",
       " 8.34276881712978e-248,\n",
       " 6.833947544653933e-210,\n",
       " -1.6958904166697603e-214,\n",
       " 1.0788070853992621e-218,\n",
       " -1.11423503680853e-215,\n",
       " 1.6386245217390568e-221,\n",
       " -2.2762950089378368e-210,\n",
       " 1.3966809216695217e-256,\n",
       " -4.0987238195321275e-262,\n",
       " 2.832466420711012e-208,\n",
       " -1.948632116574014e-216,\n",
       " 1.011099005469377e-218,\n",
       " 9.449672946005982e-226,\n",
       " -7.794193377735473e-222,\n",
       " 7.908699356580282e-219,\n",
       " -9.9793134627558e-209,\n",
       " -5.541173209286441e-215,\n",
       " -2.000071985153629e-217,\n",
       " 1.0207919236898453e-239,\n",
       " -1.046383766999111e-235]"
      ]
     },
     "execution_count": 62,
     "metadata": {},
     "output_type": "execute_result"
    }
   ],
   "source": [
    "variable_importance"
   ]
  },
  {
   "cell_type": "code",
   "execution_count": null,
   "metadata": {
    "colab": {
     "base_uri": "https://localhost:8080/"
    },
    "executionInfo": {
     "elapsed": 8313816,
     "status": "ok",
     "timestamp": 1636782275114,
     "user": {
      "displayName": "MAFM HKUST",
      "photoUrl": "https://lh3.googleusercontent.com/a/default-user=s64",
      "userId": "10894348893487959051"
     },
     "user_tz": -480
    },
    "id": "VDuCpxJn6SsC",
    "outputId": "4d0cc612-d526-4ff7-d63f-fb8d7fb6aed0"
   },
   "outputs": [
    {
     "name": "stdout",
     "output_type": "stream",
     "text": [
      "0\n",
      "1\n",
      "2\n",
      "3\n",
      "4\n",
      "5\n",
      "6\n",
      "7\n",
      "8\n",
      "9\n",
      "10\n",
      "11\n",
      "12\n",
      "13\n",
      "14\n",
      "15\n",
      "16\n",
      "17\n",
      "18\n",
      "19\n",
      "20\n",
      "21\n",
      "22\n",
      "23\n",
      "24\n",
      "25\n",
      "26\n",
      "27\n",
      "28\n",
      "29\n"
     ]
    }
   ],
   "source": [
    "      \n",
    "#PLS 初始化\n",
    "components_group=[20,40,60,80]\n",
    "rsquare_oos_validation_group=[]\n",
    "rsquare_oos_validation=[]\n",
    "components=[]\n",
    "year_of_validation_start=[]\n",
    "year_of_test_start=[]\n",
    "rsquare_oos_validation=[]\n",
    "rsquare_oos_test=[]\n",
    "\n",
    "#计算PLS函数\n",
    "for i in range(30):\n",
    "  year_of_validation_start.append(1990-12+i)\n",
    "  year_of_test_start.append(1990+i)\n",
    "\n",
    "  x_train=split_function(1990+i)[0].drop(['RET'],axis=1)\n",
    "  scaler.fit(x_train)\n",
    "  x_train=scaler.transform(x_train)  #标准化x_train\n",
    "  y_train=split_function(1990+i)[0]['RET']\n",
    "  y_mean= np.mean(y_train)\n",
    "  y_std = np.std(y_train)\n",
    "  y_train=np.array((y_train-y_mean)/y_std )  #标准化y_train\n",
    "  x_validation=split_function(1990+i)[1].drop(['RET'],axis=1)\n",
    "  scaler.fit(x_validation)\n",
    "  x_validation=scaler.transform(x_validation)  #标准化x_validation\n",
    "  y_validation=split_function(1990+i)[1]['RET']\n",
    "  y_mean2= np.mean(y_validation)\n",
    "  y_std2 = np.std(y_validation)\n",
    "  y_validation=np.array((y_validation-y_mean2)/y_std2 )  #标准化y_validation\n",
    "  x_test=split_function(1990+i)[2].drop(['RET'],axis=1)\n",
    "  scaler.fit(x_test)\n",
    "  x_test=scaler.transform(x_test)  #标准化x_test\n",
    "  y_test=split_function(1990+i)[2]['RET']\n",
    "  y_mean3= np.mean(y_test)\n",
    "  y_std3 = np.std(y_test)\n",
    "  y_test=np.array((y_test-y_mean3)/y_std3 )  #标准化y_test\n",
    "\n",
    "  #选择参数n_components\n",
    "  for j in components_group:\n",
    "    pls = PLSRegression(n_components=j)\n",
    "    pls.fit(x_train, y_train)\n",
    "    y_validation_pre = pls.predict(x_validation).flatten() #x_validation拟合pls\n",
    "    rsquare_oos_validation_group.append(error(y_validation_pre,y_validation)) \n",
    "\n",
    "\n",
    "  rsquare_oos_validation.append(np.max(rsquare_oos_validation_group))    #根据R2筛选参数n_components\n",
    "  x=np.where(np.max(rsquare_oos_validation_group))\n",
    "  components.append(components_group[list(x[0])[0].tolist()])\n",
    "\n",
    "  components_=list(map(int, components))[i]\n",
    "  pls = PLSRegression(n_components=components_)\n",
    "  pls.fit(x_train, y_train)\n",
    "  y_test_pre = pls.predict(x_test).flatten() ##x_test拟合pls\n",
    "  rsquare_oos_test.append(error(y_test_pre,y_test))\n",
    "  print(i)\n",
    "\n",
    "  del x_train\n",
    "  del y_train\n",
    "  del x_validation\n",
    "  del y_validation\n",
    "  del x_test\n",
    "  del y_test\n",
    "\n"
   ]
  },
  {
   "cell_type": "code",
   "execution_count": null,
   "metadata": {
    "colab": {
     "base_uri": "https://localhost:8080/"
    },
    "executionInfo": {
     "elapsed": 594,
     "status": "ok",
     "timestamp": 1636783161122,
     "user": {
      "displayName": "MAFM HKUST",
      "photoUrl": "https://lh3.googleusercontent.com/a/default-user=s64",
      "userId": "10894348893487959051"
     },
     "user_tz": -480
    },
    "id": "ErPk_ZoW3q65",
    "outputId": "a5cac174-7813-4109-e42a-cacea0549192"
   },
   "outputs": [
    {
     "data": {
      "text/plain": [
       "[20,\n",
       " 20,\n",
       " 20,\n",
       " 20,\n",
       " 40,\n",
       " 40,\n",
       " 20,\n",
       " 20,\n",
       " 20,\n",
       " 20,\n",
       " 20,\n",
       " 20,\n",
       " 60,\n",
       " 20,\n",
       " 20,\n",
       " 20,\n",
       " 20,\n",
       " 20,\n",
       " 20,\n",
       " 20,\n",
       " 20,\n",
       " 20,\n",
       " 20,\n",
       " 20,\n",
       " 40,\n",
       " 80,\n",
       " 20,\n",
       " 20,\n",
       " 20,\n",
       " 20]"
      ]
     },
     "execution_count": 83,
     "metadata": {},
     "output_type": "execute_result"
    }
   ],
   "source": [
    "components"
   ]
  },
  {
   "cell_type": "code",
   "execution_count": null,
   "metadata": {
    "colab": {
     "base_uri": "https://localhost:8080/"
    },
    "executionInfo": {
     "elapsed": 636,
     "status": "ok",
     "timestamp": 1636782372360,
     "user": {
      "displayName": "MAFM HKUST",
      "photoUrl": "https://lh3.googleusercontent.com/a/default-user=s64",
      "userId": "10894348893487959051"
     },
     "user_tz": -480
    },
    "id": "3yrYrO811Eyg",
    "outputId": "b4cc3d17-95f5-4c15-e967-0dc933aec765"
   },
   "outputs": [
    {
     "data": {
      "text/plain": [
       "[-0.016697834214127738,\n",
       " -0.016697834214127738,\n",
       " -0.016697834214127738,\n",
       " -0.016697834214127738,\n",
       " -0.016697834214127738,\n",
       " -0.016697834214127738,\n",
       " -0.01263680815460999,\n",
       " -0.006112063538282753,\n",
       " -0.0020659892878958086,\n",
       " 0.0007822208124590446,\n",
       " 0.0038812226241614622,\n",
       " 0.00800204262377402,\n",
       " 0.011987717976301271,\n",
       " 0.015456033104542244,\n",
       " 0.016277843049055107,\n",
       " 0.016277843049055107,\n",
       " 0.016830303742142783,\n",
       " 0.01752788956022977,\n",
       " 0.018197815396008843,\n",
       " 0.018716073835814195,\n",
       " 0.02150935655018682,\n",
       " 0.02200618900591056,\n",
       " 0.022195850382910165,\n",
       " 0.022195850382910165,\n",
       " 0.022195850382910165,\n",
       " 0.022195850382910165,\n",
       " 0.022195850382910165,\n",
       " 0.022195850382910165,\n",
       " 0.022195850382910165,\n",
       " 0.022195850382910165]"
      ]
     },
     "execution_count": 74,
     "metadata": {},
     "output_type": "execute_result"
    }
   ],
   "source": [
    "rsquare_oos_validation"
   ]
  },
  {
   "cell_type": "code",
   "execution_count": null,
   "metadata": {
    "colab": {
     "base_uri": "https://localhost:8080/"
    },
    "executionInfo": {
     "elapsed": 611,
     "status": "ok",
     "timestamp": 1636782438123,
     "user": {
      "displayName": "MAFM HKUST",
      "photoUrl": "https://lh3.googleusercontent.com/a/default-user=s64",
      "userId": "10894348893487959051"
     },
     "user_tz": -480
    },
    "id": "UUmJAKFT1cZ5",
    "outputId": "351d13d5-6666-44bf-850b-a7706266f260"
   },
   "outputs": [
    {
     "data": {
      "text/plain": [
       "[-0.02768497952008353,\n",
       " -0.03241188212242063,\n",
       " -0.007274262520273966,\n",
       " -0.01711354785359065,\n",
       " -0.027631253986653226,\n",
       " -0.03057088851096834,\n",
       " -0.02734381914054218,\n",
       " -0.016481313685857257,\n",
       " -0.004980335449019879,\n",
       " 0.008816795481041972,\n",
       " 0.0009374367803018924,\n",
       " 0.025807828471266725,\n",
       " 0.017351614542065352,\n",
       " 0.006507379565147686,\n",
       " 0.007743266621790479,\n",
       " 0.008085379946142446,\n",
       " 0.006909925573069686,\n",
       " 0.0019696990743021114,\n",
       " 0.015524602273084498,\n",
       " 0.022208681605709435,\n",
       " 0.022303882194080193,\n",
       " 0.015365612234721215,\n",
       " 0.014811327061237889,\n",
       " 0.02043323089025406,\n",
       " 0.011693653727885223,\n",
       " 0.012009225014730784,\n",
       " 0.017561364070879604,\n",
       " 0.010788143169972786,\n",
       " 0.008402950945182175,\n",
       " 0.01689507209974961]"
      ]
     },
     "execution_count": 75,
     "metadata": {},
     "output_type": "execute_result"
    }
   ],
   "source": [
    "rsquare_oos_test"
   ]
  }
 ],
 "metadata": {
  "colab": {
   "authorship_tag": "ABX9TyOu0DVafXrtXNay65wBxZ/J",
   "collapsed_sections": [],
   "machine_shape": "hm",
   "mount_file_id": "1iKLlHCmrzADruosNOz2WnGGhaOgLL3fh",
   "name": "project2.ipynb",
   "provenance": []
  },
  "kernelspec": {
   "display_name": "Python 3",
   "language": "python",
   "name": "python3"
  },
  "language_info": {
   "codemirror_mode": {
    "name": "ipython",
    "version": 3
   },
   "file_extension": ".py",
   "mimetype": "text/x-python",
   "name": "python",
   "nbconvert_exporter": "python",
   "pygments_lexer": "ipython3",
   "version": "3.8.8"
  }
 },
 "nbformat": 4,
 "nbformat_minor": 1
}
