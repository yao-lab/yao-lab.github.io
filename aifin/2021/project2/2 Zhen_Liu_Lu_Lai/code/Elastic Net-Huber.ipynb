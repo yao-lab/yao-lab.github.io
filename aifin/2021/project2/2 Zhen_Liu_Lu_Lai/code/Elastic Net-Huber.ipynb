{
 "cells": [
  {
   "cell_type": "code",
   "execution_count": 1,
   "id": "b87422b6",
   "metadata": {},
   "outputs": [],
   "source": [
    "import pandas as pd\n",
    "import numpy as np\n",
    "import seaborn as sns\n",
    "import matplotlib.pyplot as plt\n",
    "\n",
    "plt.style.use('fivethirtyeight')\n",
    "\n",
    "import warnings\n",
    "warnings.filterwarnings(\"ignore\")\n",
    "\n",
    "import tqdm\n",
    "pd.set_option(\"display.max_columns\",None)"
   ]
  },
  {
   "cell_type": "code",
   "execution_count": 2,
   "id": "b3be4a34",
   "metadata": {},
   "outputs": [],
   "source": [
    "data=pd.read_csv(\"C:\\\\Users\\\\qluaj\\\\Downloads\\\\datashare\\\\GKX_20201231.csv\")"
   ]
  },
  {
   "cell_type": "code",
   "execution_count": 3,
   "id": "1f286d67",
   "metadata": {},
   "outputs": [
    {
     "data": {
      "text/html": [
       "<div>\n",
       "<style scoped>\n",
       "    .dataframe tbody tr th:only-of-type {\n",
       "        vertical-align: middle;\n",
       "    }\n",
       "\n",
       "    .dataframe tbody tr th {\n",
       "        vertical-align: top;\n",
       "    }\n",
       "\n",
       "    .dataframe thead th {\n",
       "        text-align: right;\n",
       "    }\n",
       "</style>\n",
       "<table border=\"1\" class=\"dataframe\">\n",
       "  <thead>\n",
       "    <tr style=\"text-align: right;\">\n",
       "      <th></th>\n",
       "      <th>permno</th>\n",
       "      <th>DATE</th>\n",
       "      <th>mvel1</th>\n",
       "      <th>RET</th>\n",
       "      <th>prc</th>\n",
       "      <th>SHROUT</th>\n",
       "      <th>beta</th>\n",
       "      <th>betasq</th>\n",
       "      <th>chmom</th>\n",
       "      <th>dolvol</th>\n",
       "      <th>idiovol</th>\n",
       "      <th>indmom</th>\n",
       "      <th>mom1m</th>\n",
       "      <th>mom6m</th>\n",
       "      <th>mom12m</th>\n",
       "      <th>mom36m</th>\n",
       "      <th>mve0</th>\n",
       "      <th>pricedelay</th>\n",
       "      <th>turn</th>\n",
       "      <th>absacc</th>\n",
       "      <th>acc</th>\n",
       "      <th>age</th>\n",
       "      <th>agr</th>\n",
       "      <th>cashdebt</th>\n",
       "      <th>cashpr</th>\n",
       "      <th>cfp</th>\n",
       "      <th>cfp_ia</th>\n",
       "      <th>chatoia</th>\n",
       "      <th>chcsho</th>\n",
       "      <th>chempia</th>\n",
       "      <th>chinv</th>\n",
       "      <th>chpmia</th>\n",
       "      <th>convind</th>\n",
       "      <th>currat</th>\n",
       "      <th>depr</th>\n",
       "      <th>divi</th>\n",
       "      <th>divo</th>\n",
       "      <th>dy</th>\n",
       "      <th>egr</th>\n",
       "      <th>ep</th>\n",
       "      <th>gma</th>\n",
       "      <th>grcapx</th>\n",
       "      <th>grltnoa</th>\n",
       "      <th>herf</th>\n",
       "      <th>hire</th>\n",
       "      <th>invest</th>\n",
       "      <th>lev</th>\n",
       "      <th>lgr</th>\n",
       "      <th>mve_ia</th>\n",
       "      <th>operprof</th>\n",
       "      <th>orgcap</th>\n",
       "      <th>pchcapx_ia</th>\n",
       "      <th>pchcurrat</th>\n",
       "      <th>pchdepr</th>\n",
       "      <th>pchgm_pchsale</th>\n",
       "      <th>pchquick</th>\n",
       "      <th>pchsale_pchinvt</th>\n",
       "      <th>pchsale_pchrect</th>\n",
       "      <th>pchsale_pchxsga</th>\n",
       "      <th>pchsaleinv</th>\n",
       "      <th>pctacc</th>\n",
       "      <th>ps</th>\n",
       "      <th>quick</th>\n",
       "      <th>rd</th>\n",
       "      <th>rd_mve</th>\n",
       "      <th>rd_sale</th>\n",
       "      <th>realestate</th>\n",
       "      <th>roic</th>\n",
       "      <th>salecash</th>\n",
       "      <th>saleinv</th>\n",
       "      <th>salerec</th>\n",
       "      <th>secured</th>\n",
       "      <th>securedind</th>\n",
       "      <th>sgr</th>\n",
       "      <th>sin</th>\n",
       "      <th>sp</th>\n",
       "      <th>tang</th>\n",
       "      <th>tb</th>\n",
       "      <th>aeavol</th>\n",
       "      <th>cash</th>\n",
       "      <th>chtx</th>\n",
       "      <th>cinvest</th>\n",
       "      <th>ear</th>\n",
       "      <th>nincr</th>\n",
       "      <th>roaq</th>\n",
       "      <th>roavol</th>\n",
       "      <th>roeq</th>\n",
       "      <th>rsup</th>\n",
       "      <th>stdacc</th>\n",
       "      <th>stdcf</th>\n",
       "      <th>ms</th>\n",
       "      <th>baspread</th>\n",
       "      <th>ill</th>\n",
       "      <th>maxret</th>\n",
       "      <th>retvol</th>\n",
       "      <th>std_dolvol</th>\n",
       "      <th>std_turn</th>\n",
       "      <th>zerotrade</th>\n",
       "      <th>sic2</th>\n",
       "      <th>bm</th>\n",
       "      <th>bm_ia</th>\n",
       "    </tr>\n",
       "  </thead>\n",
       "  <tbody>\n",
       "    <tr>\n",
       "      <th>0</th>\n",
       "      <td>10006</td>\n",
       "      <td>19260130</td>\n",
       "      <td>65400.0</td>\n",
       "      <td>0.032732</td>\n",
       "      <td>110.2500</td>\n",
       "      <td>600</td>\n",
       "      <td>NaN</td>\n",
       "      <td>NaN</td>\n",
       "      <td>NaN</td>\n",
       "      <td>NaN</td>\n",
       "      <td>NaN</td>\n",
       "      <td>NaN</td>\n",
       "      <td>NaN</td>\n",
       "      <td>NaN</td>\n",
       "      <td>NaN</td>\n",
       "      <td>NaN</td>\n",
       "      <td>66150.00</td>\n",
       "      <td>NaN</td>\n",
       "      <td>NaN</td>\n",
       "      <td>NaN</td>\n",
       "      <td>NaN</td>\n",
       "      <td>NaN</td>\n",
       "      <td>NaN</td>\n",
       "      <td>NaN</td>\n",
       "      <td>NaN</td>\n",
       "      <td>NaN</td>\n",
       "      <td>NaN</td>\n",
       "      <td>NaN</td>\n",
       "      <td>NaN</td>\n",
       "      <td>NaN</td>\n",
       "      <td>NaN</td>\n",
       "      <td>NaN</td>\n",
       "      <td>NaN</td>\n",
       "      <td>NaN</td>\n",
       "      <td>NaN</td>\n",
       "      <td>NaN</td>\n",
       "      <td>NaN</td>\n",
       "      <td>NaN</td>\n",
       "      <td>NaN</td>\n",
       "      <td>NaN</td>\n",
       "      <td>NaN</td>\n",
       "      <td>NaN</td>\n",
       "      <td>NaN</td>\n",
       "      <td>NaN</td>\n",
       "      <td>NaN</td>\n",
       "      <td>NaN</td>\n",
       "      <td>NaN</td>\n",
       "      <td>NaN</td>\n",
       "      <td>NaN</td>\n",
       "      <td>NaN</td>\n",
       "      <td>NaN</td>\n",
       "      <td>NaN</td>\n",
       "      <td>NaN</td>\n",
       "      <td>NaN</td>\n",
       "      <td>NaN</td>\n",
       "      <td>NaN</td>\n",
       "      <td>NaN</td>\n",
       "      <td>NaN</td>\n",
       "      <td>NaN</td>\n",
       "      <td>NaN</td>\n",
       "      <td>NaN</td>\n",
       "      <td>NaN</td>\n",
       "      <td>NaN</td>\n",
       "      <td>NaN</td>\n",
       "      <td>NaN</td>\n",
       "      <td>NaN</td>\n",
       "      <td>NaN</td>\n",
       "      <td>NaN</td>\n",
       "      <td>NaN</td>\n",
       "      <td>NaN</td>\n",
       "      <td>NaN</td>\n",
       "      <td>NaN</td>\n",
       "      <td>NaN</td>\n",
       "      <td>NaN</td>\n",
       "      <td>NaN</td>\n",
       "      <td>NaN</td>\n",
       "      <td>NaN</td>\n",
       "      <td>NaN</td>\n",
       "      <td>NaN</td>\n",
       "      <td>NaN</td>\n",
       "      <td>NaN</td>\n",
       "      <td>NaN</td>\n",
       "      <td>NaN</td>\n",
       "      <td>NaN</td>\n",
       "      <td>NaN</td>\n",
       "      <td>NaN</td>\n",
       "      <td>NaN</td>\n",
       "      <td>NaN</td>\n",
       "      <td>NaN</td>\n",
       "      <td>NaN</td>\n",
       "      <td>NaN</td>\n",
       "      <td>0.006857</td>\n",
       "      <td>NaN</td>\n",
       "      <td>NaN</td>\n",
       "      <td>NaN</td>\n",
       "      <td>NaN</td>\n",
       "      <td>NaN</td>\n",
       "      <td>0.000066</td>\n",
       "      <td>NaN</td>\n",
       "      <td>NaN</td>\n",
       "      <td>NaN</td>\n",
       "    </tr>\n",
       "    <tr>\n",
       "      <th>1</th>\n",
       "      <td>10022</td>\n",
       "      <td>19260130</td>\n",
       "      <td>11200.0</td>\n",
       "      <td>0.017857</td>\n",
       "      <td>57.0000</td>\n",
       "      <td>200</td>\n",
       "      <td>NaN</td>\n",
       "      <td>NaN</td>\n",
       "      <td>NaN</td>\n",
       "      <td>NaN</td>\n",
       "      <td>NaN</td>\n",
       "      <td>NaN</td>\n",
       "      <td>NaN</td>\n",
       "      <td>NaN</td>\n",
       "      <td>NaN</td>\n",
       "      <td>NaN</td>\n",
       "      <td>11400.00</td>\n",
       "      <td>NaN</td>\n",
       "      <td>NaN</td>\n",
       "      <td>NaN</td>\n",
       "      <td>NaN</td>\n",
       "      <td>NaN</td>\n",
       "      <td>NaN</td>\n",
       "      <td>NaN</td>\n",
       "      <td>NaN</td>\n",
       "      <td>NaN</td>\n",
       "      <td>NaN</td>\n",
       "      <td>NaN</td>\n",
       "      <td>NaN</td>\n",
       "      <td>NaN</td>\n",
       "      <td>NaN</td>\n",
       "      <td>NaN</td>\n",
       "      <td>NaN</td>\n",
       "      <td>NaN</td>\n",
       "      <td>NaN</td>\n",
       "      <td>NaN</td>\n",
       "      <td>NaN</td>\n",
       "      <td>NaN</td>\n",
       "      <td>NaN</td>\n",
       "      <td>NaN</td>\n",
       "      <td>NaN</td>\n",
       "      <td>NaN</td>\n",
       "      <td>NaN</td>\n",
       "      <td>NaN</td>\n",
       "      <td>NaN</td>\n",
       "      <td>NaN</td>\n",
       "      <td>NaN</td>\n",
       "      <td>NaN</td>\n",
       "      <td>NaN</td>\n",
       "      <td>NaN</td>\n",
       "      <td>NaN</td>\n",
       "      <td>NaN</td>\n",
       "      <td>NaN</td>\n",
       "      <td>NaN</td>\n",
       "      <td>NaN</td>\n",
       "      <td>NaN</td>\n",
       "      <td>NaN</td>\n",
       "      <td>NaN</td>\n",
       "      <td>NaN</td>\n",
       "      <td>NaN</td>\n",
       "      <td>NaN</td>\n",
       "      <td>NaN</td>\n",
       "      <td>NaN</td>\n",
       "      <td>NaN</td>\n",
       "      <td>NaN</td>\n",
       "      <td>NaN</td>\n",
       "      <td>NaN</td>\n",
       "      <td>NaN</td>\n",
       "      <td>NaN</td>\n",
       "      <td>NaN</td>\n",
       "      <td>NaN</td>\n",
       "      <td>NaN</td>\n",
       "      <td>NaN</td>\n",
       "      <td>NaN</td>\n",
       "      <td>NaN</td>\n",
       "      <td>NaN</td>\n",
       "      <td>NaN</td>\n",
       "      <td>NaN</td>\n",
       "      <td>NaN</td>\n",
       "      <td>NaN</td>\n",
       "      <td>NaN</td>\n",
       "      <td>NaN</td>\n",
       "      <td>NaN</td>\n",
       "      <td>NaN</td>\n",
       "      <td>NaN</td>\n",
       "      <td>NaN</td>\n",
       "      <td>NaN</td>\n",
       "      <td>NaN</td>\n",
       "      <td>NaN</td>\n",
       "      <td>NaN</td>\n",
       "      <td>NaN</td>\n",
       "      <td>0.018018</td>\n",
       "      <td>NaN</td>\n",
       "      <td>NaN</td>\n",
       "      <td>NaN</td>\n",
       "      <td>NaN</td>\n",
       "      <td>NaN</td>\n",
       "      <td>0.000003</td>\n",
       "      <td>NaN</td>\n",
       "      <td>NaN</td>\n",
       "      <td>NaN</td>\n",
       "    </tr>\n",
       "    <tr>\n",
       "      <th>2</th>\n",
       "      <td>10030</td>\n",
       "      <td>19260130</td>\n",
       "      <td>23400.0</td>\n",
       "      <td>0.161667</td>\n",
       "      <td>174.2500</td>\n",
       "      <td>156</td>\n",
       "      <td>NaN</td>\n",
       "      <td>NaN</td>\n",
       "      <td>NaN</td>\n",
       "      <td>NaN</td>\n",
       "      <td>NaN</td>\n",
       "      <td>NaN</td>\n",
       "      <td>NaN</td>\n",
       "      <td>NaN</td>\n",
       "      <td>NaN</td>\n",
       "      <td>NaN</td>\n",
       "      <td>27183.00</td>\n",
       "      <td>NaN</td>\n",
       "      <td>NaN</td>\n",
       "      <td>NaN</td>\n",
       "      <td>NaN</td>\n",
       "      <td>NaN</td>\n",
       "      <td>NaN</td>\n",
       "      <td>NaN</td>\n",
       "      <td>NaN</td>\n",
       "      <td>NaN</td>\n",
       "      <td>NaN</td>\n",
       "      <td>NaN</td>\n",
       "      <td>NaN</td>\n",
       "      <td>NaN</td>\n",
       "      <td>NaN</td>\n",
       "      <td>NaN</td>\n",
       "      <td>NaN</td>\n",
       "      <td>NaN</td>\n",
       "      <td>NaN</td>\n",
       "      <td>NaN</td>\n",
       "      <td>NaN</td>\n",
       "      <td>NaN</td>\n",
       "      <td>NaN</td>\n",
       "      <td>NaN</td>\n",
       "      <td>NaN</td>\n",
       "      <td>NaN</td>\n",
       "      <td>NaN</td>\n",
       "      <td>NaN</td>\n",
       "      <td>NaN</td>\n",
       "      <td>NaN</td>\n",
       "      <td>NaN</td>\n",
       "      <td>NaN</td>\n",
       "      <td>NaN</td>\n",
       "      <td>NaN</td>\n",
       "      <td>NaN</td>\n",
       "      <td>NaN</td>\n",
       "      <td>NaN</td>\n",
       "      <td>NaN</td>\n",
       "      <td>NaN</td>\n",
       "      <td>NaN</td>\n",
       "      <td>NaN</td>\n",
       "      <td>NaN</td>\n",
       "      <td>NaN</td>\n",
       "      <td>NaN</td>\n",
       "      <td>NaN</td>\n",
       "      <td>NaN</td>\n",
       "      <td>NaN</td>\n",
       "      <td>NaN</td>\n",
       "      <td>NaN</td>\n",
       "      <td>NaN</td>\n",
       "      <td>NaN</td>\n",
       "      <td>NaN</td>\n",
       "      <td>NaN</td>\n",
       "      <td>NaN</td>\n",
       "      <td>NaN</td>\n",
       "      <td>NaN</td>\n",
       "      <td>NaN</td>\n",
       "      <td>NaN</td>\n",
       "      <td>NaN</td>\n",
       "      <td>NaN</td>\n",
       "      <td>NaN</td>\n",
       "      <td>NaN</td>\n",
       "      <td>NaN</td>\n",
       "      <td>NaN</td>\n",
       "      <td>NaN</td>\n",
       "      <td>NaN</td>\n",
       "      <td>NaN</td>\n",
       "      <td>NaN</td>\n",
       "      <td>NaN</td>\n",
       "      <td>NaN</td>\n",
       "      <td>NaN</td>\n",
       "      <td>NaN</td>\n",
       "      <td>NaN</td>\n",
       "      <td>NaN</td>\n",
       "      <td>NaN</td>\n",
       "      <td>0.004158</td>\n",
       "      <td>NaN</td>\n",
       "      <td>NaN</td>\n",
       "      <td>NaN</td>\n",
       "      <td>NaN</td>\n",
       "      <td>NaN</td>\n",
       "      <td>0.000023</td>\n",
       "      <td>NaN</td>\n",
       "      <td>NaN</td>\n",
       "      <td>NaN</td>\n",
       "    </tr>\n",
       "    <tr>\n",
       "      <th>3</th>\n",
       "      <td>10049</td>\n",
       "      <td>19260130</td>\n",
       "      <td>18500.0</td>\n",
       "      <td>0.141892</td>\n",
       "      <td>83.5000</td>\n",
       "      <td>250</td>\n",
       "      <td>NaN</td>\n",
       "      <td>NaN</td>\n",
       "      <td>NaN</td>\n",
       "      <td>NaN</td>\n",
       "      <td>NaN</td>\n",
       "      <td>NaN</td>\n",
       "      <td>NaN</td>\n",
       "      <td>NaN</td>\n",
       "      <td>NaN</td>\n",
       "      <td>NaN</td>\n",
       "      <td>20875.00</td>\n",
       "      <td>NaN</td>\n",
       "      <td>NaN</td>\n",
       "      <td>NaN</td>\n",
       "      <td>NaN</td>\n",
       "      <td>NaN</td>\n",
       "      <td>NaN</td>\n",
       "      <td>NaN</td>\n",
       "      <td>NaN</td>\n",
       "      <td>NaN</td>\n",
       "      <td>NaN</td>\n",
       "      <td>NaN</td>\n",
       "      <td>NaN</td>\n",
       "      <td>NaN</td>\n",
       "      <td>NaN</td>\n",
       "      <td>NaN</td>\n",
       "      <td>NaN</td>\n",
       "      <td>NaN</td>\n",
       "      <td>NaN</td>\n",
       "      <td>NaN</td>\n",
       "      <td>NaN</td>\n",
       "      <td>NaN</td>\n",
       "      <td>NaN</td>\n",
       "      <td>NaN</td>\n",
       "      <td>NaN</td>\n",
       "      <td>NaN</td>\n",
       "      <td>NaN</td>\n",
       "      <td>NaN</td>\n",
       "      <td>NaN</td>\n",
       "      <td>NaN</td>\n",
       "      <td>NaN</td>\n",
       "      <td>NaN</td>\n",
       "      <td>NaN</td>\n",
       "      <td>NaN</td>\n",
       "      <td>NaN</td>\n",
       "      <td>NaN</td>\n",
       "      <td>NaN</td>\n",
       "      <td>NaN</td>\n",
       "      <td>NaN</td>\n",
       "      <td>NaN</td>\n",
       "      <td>NaN</td>\n",
       "      <td>NaN</td>\n",
       "      <td>NaN</td>\n",
       "      <td>NaN</td>\n",
       "      <td>NaN</td>\n",
       "      <td>NaN</td>\n",
       "      <td>NaN</td>\n",
       "      <td>NaN</td>\n",
       "      <td>NaN</td>\n",
       "      <td>NaN</td>\n",
       "      <td>NaN</td>\n",
       "      <td>NaN</td>\n",
       "      <td>NaN</td>\n",
       "      <td>NaN</td>\n",
       "      <td>NaN</td>\n",
       "      <td>NaN</td>\n",
       "      <td>NaN</td>\n",
       "      <td>NaN</td>\n",
       "      <td>NaN</td>\n",
       "      <td>NaN</td>\n",
       "      <td>NaN</td>\n",
       "      <td>NaN</td>\n",
       "      <td>NaN</td>\n",
       "      <td>NaN</td>\n",
       "      <td>NaN</td>\n",
       "      <td>NaN</td>\n",
       "      <td>NaN</td>\n",
       "      <td>NaN</td>\n",
       "      <td>NaN</td>\n",
       "      <td>NaN</td>\n",
       "      <td>NaN</td>\n",
       "      <td>NaN</td>\n",
       "      <td>NaN</td>\n",
       "      <td>NaN</td>\n",
       "      <td>NaN</td>\n",
       "      <td>0.006780</td>\n",
       "      <td>NaN</td>\n",
       "      <td>NaN</td>\n",
       "      <td>NaN</td>\n",
       "      <td>NaN</td>\n",
       "      <td>NaN</td>\n",
       "      <td>0.000022</td>\n",
       "      <td>NaN</td>\n",
       "      <td>NaN</td>\n",
       "      <td>NaN</td>\n",
       "    </tr>\n",
       "    <tr>\n",
       "      <th>4</th>\n",
       "      <td>10057</td>\n",
       "      <td>19260130</td>\n",
       "      <td>6125.0</td>\n",
       "      <td>-0.035714</td>\n",
       "      <td>11.8125</td>\n",
       "      <td>500</td>\n",
       "      <td>NaN</td>\n",
       "      <td>NaN</td>\n",
       "      <td>NaN</td>\n",
       "      <td>NaN</td>\n",
       "      <td>NaN</td>\n",
       "      <td>NaN</td>\n",
       "      <td>NaN</td>\n",
       "      <td>NaN</td>\n",
       "      <td>NaN</td>\n",
       "      <td>NaN</td>\n",
       "      <td>5906.25</td>\n",
       "      <td>NaN</td>\n",
       "      <td>NaN</td>\n",
       "      <td>NaN</td>\n",
       "      <td>NaN</td>\n",
       "      <td>NaN</td>\n",
       "      <td>NaN</td>\n",
       "      <td>NaN</td>\n",
       "      <td>NaN</td>\n",
       "      <td>NaN</td>\n",
       "      <td>NaN</td>\n",
       "      <td>NaN</td>\n",
       "      <td>NaN</td>\n",
       "      <td>NaN</td>\n",
       "      <td>NaN</td>\n",
       "      <td>NaN</td>\n",
       "      <td>NaN</td>\n",
       "      <td>NaN</td>\n",
       "      <td>NaN</td>\n",
       "      <td>NaN</td>\n",
       "      <td>NaN</td>\n",
       "      <td>NaN</td>\n",
       "      <td>NaN</td>\n",
       "      <td>NaN</td>\n",
       "      <td>NaN</td>\n",
       "      <td>NaN</td>\n",
       "      <td>NaN</td>\n",
       "      <td>NaN</td>\n",
       "      <td>NaN</td>\n",
       "      <td>NaN</td>\n",
       "      <td>NaN</td>\n",
       "      <td>NaN</td>\n",
       "      <td>NaN</td>\n",
       "      <td>NaN</td>\n",
       "      <td>NaN</td>\n",
       "      <td>NaN</td>\n",
       "      <td>NaN</td>\n",
       "      <td>NaN</td>\n",
       "      <td>NaN</td>\n",
       "      <td>NaN</td>\n",
       "      <td>NaN</td>\n",
       "      <td>NaN</td>\n",
       "      <td>NaN</td>\n",
       "      <td>NaN</td>\n",
       "      <td>NaN</td>\n",
       "      <td>NaN</td>\n",
       "      <td>NaN</td>\n",
       "      <td>NaN</td>\n",
       "      <td>NaN</td>\n",
       "      <td>NaN</td>\n",
       "      <td>NaN</td>\n",
       "      <td>NaN</td>\n",
       "      <td>NaN</td>\n",
       "      <td>NaN</td>\n",
       "      <td>NaN</td>\n",
       "      <td>NaN</td>\n",
       "      <td>NaN</td>\n",
       "      <td>NaN</td>\n",
       "      <td>NaN</td>\n",
       "      <td>NaN</td>\n",
       "      <td>NaN</td>\n",
       "      <td>NaN</td>\n",
       "      <td>NaN</td>\n",
       "      <td>NaN</td>\n",
       "      <td>NaN</td>\n",
       "      <td>NaN</td>\n",
       "      <td>NaN</td>\n",
       "      <td>NaN</td>\n",
       "      <td>NaN</td>\n",
       "      <td>NaN</td>\n",
       "      <td>NaN</td>\n",
       "      <td>NaN</td>\n",
       "      <td>NaN</td>\n",
       "      <td>NaN</td>\n",
       "      <td>NaN</td>\n",
       "      <td>0.071795</td>\n",
       "      <td>NaN</td>\n",
       "      <td>NaN</td>\n",
       "      <td>NaN</td>\n",
       "      <td>NaN</td>\n",
       "      <td>NaN</td>\n",
       "      <td>0.000010</td>\n",
       "      <td>NaN</td>\n",
       "      <td>NaN</td>\n",
       "      <td>NaN</td>\n",
       "    </tr>\n",
       "  </tbody>\n",
       "</table>\n",
       "</div>"
      ],
      "text/plain": [
       "   permno      DATE    mvel1       RET       prc  SHROUT  beta  betasq  chmom  \\\n",
       "0   10006  19260130  65400.0  0.032732  110.2500     600   NaN     NaN    NaN   \n",
       "1   10022  19260130  11200.0  0.017857   57.0000     200   NaN     NaN    NaN   \n",
       "2   10030  19260130  23400.0  0.161667  174.2500     156   NaN     NaN    NaN   \n",
       "3   10049  19260130  18500.0  0.141892   83.5000     250   NaN     NaN    NaN   \n",
       "4   10057  19260130   6125.0 -0.035714   11.8125     500   NaN     NaN    NaN   \n",
       "\n",
       "   dolvol  idiovol  indmom  mom1m  mom6m  mom12m  mom36m      mve0  \\\n",
       "0     NaN      NaN     NaN    NaN    NaN     NaN     NaN  66150.00   \n",
       "1     NaN      NaN     NaN    NaN    NaN     NaN     NaN  11400.00   \n",
       "2     NaN      NaN     NaN    NaN    NaN     NaN     NaN  27183.00   \n",
       "3     NaN      NaN     NaN    NaN    NaN     NaN     NaN  20875.00   \n",
       "4     NaN      NaN     NaN    NaN    NaN     NaN     NaN   5906.25   \n",
       "\n",
       "   pricedelay  turn  absacc  acc  age  agr  cashdebt  cashpr  cfp  cfp_ia  \\\n",
       "0         NaN   NaN     NaN  NaN  NaN  NaN       NaN     NaN  NaN     NaN   \n",
       "1         NaN   NaN     NaN  NaN  NaN  NaN       NaN     NaN  NaN     NaN   \n",
       "2         NaN   NaN     NaN  NaN  NaN  NaN       NaN     NaN  NaN     NaN   \n",
       "3         NaN   NaN     NaN  NaN  NaN  NaN       NaN     NaN  NaN     NaN   \n",
       "4         NaN   NaN     NaN  NaN  NaN  NaN       NaN     NaN  NaN     NaN   \n",
       "\n",
       "   chatoia  chcsho  chempia  chinv  chpmia  convind  currat  depr  divi  divo  \\\n",
       "0      NaN     NaN      NaN    NaN     NaN      NaN     NaN   NaN   NaN   NaN   \n",
       "1      NaN     NaN      NaN    NaN     NaN      NaN     NaN   NaN   NaN   NaN   \n",
       "2      NaN     NaN      NaN    NaN     NaN      NaN     NaN   NaN   NaN   NaN   \n",
       "3      NaN     NaN      NaN    NaN     NaN      NaN     NaN   NaN   NaN   NaN   \n",
       "4      NaN     NaN      NaN    NaN     NaN      NaN     NaN   NaN   NaN   NaN   \n",
       "\n",
       "   dy  egr  ep  gma  grcapx  grltnoa  herf  hire  invest  lev  lgr  mve_ia  \\\n",
       "0 NaN  NaN NaN  NaN     NaN      NaN   NaN   NaN     NaN  NaN  NaN     NaN   \n",
       "1 NaN  NaN NaN  NaN     NaN      NaN   NaN   NaN     NaN  NaN  NaN     NaN   \n",
       "2 NaN  NaN NaN  NaN     NaN      NaN   NaN   NaN     NaN  NaN  NaN     NaN   \n",
       "3 NaN  NaN NaN  NaN     NaN      NaN   NaN   NaN     NaN  NaN  NaN     NaN   \n",
       "4 NaN  NaN NaN  NaN     NaN      NaN   NaN   NaN     NaN  NaN  NaN     NaN   \n",
       "\n",
       "   operprof  orgcap  pchcapx_ia  pchcurrat  pchdepr  pchgm_pchsale  pchquick  \\\n",
       "0       NaN     NaN         NaN        NaN      NaN            NaN       NaN   \n",
       "1       NaN     NaN         NaN        NaN      NaN            NaN       NaN   \n",
       "2       NaN     NaN         NaN        NaN      NaN            NaN       NaN   \n",
       "3       NaN     NaN         NaN        NaN      NaN            NaN       NaN   \n",
       "4       NaN     NaN         NaN        NaN      NaN            NaN       NaN   \n",
       "\n",
       "   pchsale_pchinvt  pchsale_pchrect  pchsale_pchxsga  pchsaleinv  pctacc  ps  \\\n",
       "0              NaN              NaN              NaN         NaN     NaN NaN   \n",
       "1              NaN              NaN              NaN         NaN     NaN NaN   \n",
       "2              NaN              NaN              NaN         NaN     NaN NaN   \n",
       "3              NaN              NaN              NaN         NaN     NaN NaN   \n",
       "4              NaN              NaN              NaN         NaN     NaN NaN   \n",
       "\n",
       "   quick  rd  rd_mve  rd_sale  realestate  roic  salecash  saleinv  salerec  \\\n",
       "0    NaN NaN     NaN      NaN         NaN   NaN       NaN      NaN      NaN   \n",
       "1    NaN NaN     NaN      NaN         NaN   NaN       NaN      NaN      NaN   \n",
       "2    NaN NaN     NaN      NaN         NaN   NaN       NaN      NaN      NaN   \n",
       "3    NaN NaN     NaN      NaN         NaN   NaN       NaN      NaN      NaN   \n",
       "4    NaN NaN     NaN      NaN         NaN   NaN       NaN      NaN      NaN   \n",
       "\n",
       "   secured  securedind  sgr  sin  sp  tang  tb  aeavol  cash  chtx  cinvest  \\\n",
       "0      NaN         NaN  NaN  NaN NaN   NaN NaN     NaN   NaN   NaN      NaN   \n",
       "1      NaN         NaN  NaN  NaN NaN   NaN NaN     NaN   NaN   NaN      NaN   \n",
       "2      NaN         NaN  NaN  NaN NaN   NaN NaN     NaN   NaN   NaN      NaN   \n",
       "3      NaN         NaN  NaN  NaN NaN   NaN NaN     NaN   NaN   NaN      NaN   \n",
       "4      NaN         NaN  NaN  NaN NaN   NaN NaN     NaN   NaN   NaN      NaN   \n",
       "\n",
       "   ear  nincr  roaq  roavol  roeq  rsup  stdacc  stdcf  ms  baspread  ill  \\\n",
       "0  NaN    NaN   NaN     NaN   NaN   NaN     NaN    NaN NaN  0.006857  NaN   \n",
       "1  NaN    NaN   NaN     NaN   NaN   NaN     NaN    NaN NaN  0.018018  NaN   \n",
       "2  NaN    NaN   NaN     NaN   NaN   NaN     NaN    NaN NaN  0.004158  NaN   \n",
       "3  NaN    NaN   NaN     NaN   NaN   NaN     NaN    NaN NaN  0.006780  NaN   \n",
       "4  NaN    NaN   NaN     NaN   NaN   NaN     NaN    NaN NaN  0.071795  NaN   \n",
       "\n",
       "   maxret  retvol  std_dolvol  std_turn  zerotrade  sic2  bm  bm_ia  \n",
       "0     NaN     NaN         NaN       NaN   0.000066   NaN NaN    NaN  \n",
       "1     NaN     NaN         NaN       NaN   0.000003   NaN NaN    NaN  \n",
       "2     NaN     NaN         NaN       NaN   0.000023   NaN NaN    NaN  \n",
       "3     NaN     NaN         NaN       NaN   0.000022   NaN NaN    NaN  \n",
       "4     NaN     NaN         NaN       NaN   0.000010   NaN NaN    NaN  "
      ]
     },
     "metadata": {},
     "output_type": "display_data"
    }
   ],
   "source": [
    "display(data.head())"
   ]
  },
  {
   "cell_type": "code",
   "execution_count": 3,
   "id": "9dedeb6d",
   "metadata": {},
   "outputs": [
    {
     "data": {
      "text/plain": [
       "((3098466, 101), (832008, 101), (70025, 101))"
      ]
     },
     "execution_count": 3,
     "metadata": {},
     "output_type": "execute_result"
    }
   ],
   "source": [
    "df_train1=data[(data.DATE>=19600101)&(data.DATE<20080101)]\n",
    "df_validation1=data[(data.DATE>=20080101)&(data.DATE<20200101)]\n",
    "df_test1=data[(data.DATE>=20200101)&(data.DATE<20210101)]\n",
    "df_train=df_train1.copy()\n",
    "df_validation=df_validation1.copy()\n",
    "df_test=df_test1.copy()\n",
    "df_train.shape,df_validation.shape,df_test.shape"
   ]
  },
  {
   "cell_type": "code",
   "execution_count": 4,
   "id": "a45be371",
   "metadata": {},
   "outputs": [],
   "source": [
    "def missing_values_table(df):\n",
    "    missing_value = df.isnull().sum() \n",
    "    missing_rate = 100 * df.isnull().sum() / len(df) \n",
    "    missing_table = pd.concat([missing_value, missing_rate], axis = 1) \n",
    "    missing_table_ren_columns = missing_table.rename(columns = {0:'Missing Values',\n",
    "                                                               1:'Missing Rate'})\n",
    "    missing_table_ren_columns = missing_table_ren_columns[\n",
    "        missing_table_ren_columns.iloc[:,1] != 0].sort_values('Missing Rate',ascending=False).round(1)\n",
    "    return missing_table_ren_columns\n",
    "\n",
    "def missing_value_filling(df):\n",
    "    missing_train=missing_values_table(df)\n",
    "    missing_columns_low = pd.DataFrame(missing_train[missing_train['Missing Rate'] < 50])\n",
    "    missing_columns_high = pd.DataFrame(missing_train[missing_train['Missing Rate'] >= 50])\n",
    "    data=pd.DataFrame(df.interpolate())\n",
    "    data[missing_columns_low.index].fillna(data.mean(),inplace=True)\n",
    "    data[missing_columns_high.index].fillna(data.mode(),inplace=True)\n",
    "    data.fillna(0,inplace=True)\n",
    "    data=pd.DataFrame(data)\n",
    "    return data"
   ]
  },
  {
   "cell_type": "code",
   "execution_count": 5,
   "id": "06985997",
   "metadata": {},
   "outputs": [],
   "source": [
    "df_train=missing_value_filling(df_train)\n",
    "df_validation=missing_value_filling(df_validation)\n",
    "df_test=missing_value_filling(df_test)"
   ]
  },
  {
   "cell_type": "code",
   "execution_count": 6,
   "id": "ca4abda5",
   "metadata": {},
   "outputs": [],
   "source": [
    "#Define out-of-sample R-square\n",
    "def rsquare_oos(ytrue,ypred):\n",
    "    dif2=np.sum(np.power(ytrue-ypred,2))\n",
    "    return 1-dif2/np.sum(np.power(ytrue,2))"
   ]
  },
  {
   "cell_type": "code",
   "execution_count": 7,
   "id": "94e5b84c",
   "metadata": {},
   "outputs": [],
   "source": [
    "from sklearn.preprocessing import StandardScaler\n",
    "scaler=StandardScaler()\n"
   ]
  },
  {
   "cell_type": "code",
   "execution_count": 8,
   "id": "68e8fb85",
   "metadata": {},
   "outputs": [],
   "source": [
    "\n",
    "X_train=df_train.drop(\"RET\",axis=1).copy()\n",
    "X_train=scaler.fit_transform(X_train)\n",
    "X_validation=df_validation.drop(\"RET\",axis=1).copy()\n",
    "X_validation=scaler.transform(X_validation)\n",
    "X_test=df_test.drop(\"RET\",axis=1).copy()\n",
    "X_test=scaler.transform(X_test)\n",
    "\n",
    "y_train=df_train[[\"RET\"]].copy()\n",
    "y_validation=df_validation[[\"RET\"]].copy()\n",
    "y_test=df_test[[\"RET\"]].copy()\n",
    "y_train=scaler.fit_transform(y_train)\n",
    "y_test=scaler.transform(y_test)\n",
    "y_validation=scaler.transform(y_validation)"
   ]
  },
  {
   "cell_type": "code",
   "execution_count": 9,
   "id": "16d1b7b0",
   "metadata": {},
   "outputs": [],
   "source": [
    "class ElasticNet():\n",
    "    def __init__(self,learing_rate=0.01,n=1000,alpha=0.01,rho=1,threshold=0.2):\n",
    "        self.learing_rate=learing_rate\n",
    "        self.n=n\n",
    "        self.alpha=alpha\n",
    "        self.rho=rho\n",
    "        self.threshold=threshold\n",
    "        \n",
    "    def coordinate(self):\n",
    "        for i in range(self.num+1):\n",
    "            alpha=(1/self.m)*(self.X[:,i].T.dot(*self.X[:,i].reshape(1,-1)))+self.alpha*(1-self.rho)\n",
    "            dw=np.matrix(np.zeros((1,self.num+1)))\n",
    "            dw[0,i]=self.w[i]\n",
    "            rho=(1/self.m)*(self.X.T*(self.Y.reshape(-1,1)-self.X.dot((self.w-dw).T)))[i,0]\n",
    "            if rho<-self.alpha*self.rho:\n",
    "                self.w[i]=(rho+self.alpha*self.rho)/alpha\n",
    "            elif rho>self.alpha*self.rho:\n",
    "                self.w[i]=(rho-self.alpha*self.rho)/alpha\n",
    "            else:\n",
    "                self.w[i]=0\n",
    "    def costfun(self):\n",
    "        #Huber robust objective function\n",
    "        error=self.X.dot(self.w.reshape(-1,1))-self.Y.reshape(-1,1)\n",
    "       \n",
    "        for i in range(0,error.shape[0]):\n",
    "            if np.abs(error[i])<=self.threshold:\n",
    "                error[i]=error[i]**2\n",
    "            else:\n",
    "                error[i]=2*self.threshold*np.abs(error[i])-self.threshold**2\n",
    "        loss=1/(2*self.m)*error.sum()+self.alpha*self.rho*(np.abs(self.w)).sum()+(self.alpha*(1-self.rho))/2*(self.w**2).sum()\n",
    "       \n",
    "        return loss\n",
    "        \n",
    "    def fit(self,X,Y):\n",
    "        self.w=np.array([0. for x in range(X.shape[1]+1)])\n",
    "        self.m,self.num=X.shape\n",
    "        self.X=np.c_[X,[1 for x in range(self.m)]]\n",
    "        self.Y=Y\n",
    "        cost1=self.costfun()\n",
    "        cost2=0\n",
    "        for i in range(self.n):\n",
    "            if abs(cost1-cost2)<=0.01:\n",
    "                break\n",
    "            else:\n",
    "                cost1=self.costfun()\n",
    "                self.coordinate()\n",
    "                cost2=self.costfun()\n",
    "                \n",
    "    def predict(self,Xt):\n",
    "        Xt=np.c_[Xt,[1 for x in range(Xt.shape[0])]]\n",
    "        return Xt.dot(self.w.T)"
   ]
  },
  {
   "cell_type": "code",
   "execution_count": 10,
   "id": "b930c1e4",
   "metadata": {},
   "outputs": [],
   "source": [
    "model_Elastic=ElasticNet(alpha=0.01,rho=0.7,threshold=0.1)\n",
    "model_Elastic.fit(X_train,y_train)\n",
    "pred=model_Elastic.predict(X_validation)"
   ]
  },
  {
   "cell_type": "code",
   "execution_count": 11,
   "id": "c3b1f978",
   "metadata": {
    "scrolled": true
   },
   "outputs": [
    {
     "name": "stdout",
     "output_type": "stream",
     "text": [
      "[[ 0.00122296]\n",
      " [-0.01116552]\n",
      " [-0.02287651]\n",
      " ...\n",
      " [-0.02058987]\n",
      " [ 0.00149945]\n",
      " [ 0.09319348]]\n"
     ]
    }
   ],
   "source": [
    "pre=pred.reshape(pred.shape[0],1)\n",
    "print(pre)"
   ]
  },
  {
   "cell_type": "code",
   "execution_count": 12,
   "id": "29de80c3",
   "metadata": {},
   "outputs": [
    {
     "data": {
      "text/plain": [
       "0.0012230354893193462"
      ]
     },
     "execution_count": 12,
     "metadata": {},
     "output_type": "execute_result"
    }
   ],
   "source": [
    "validation_score=rsquare_oos(y_validation,pre)\n",
    "validation_score"
   ]
  },
  {
   "cell_type": "code",
   "execution_count": 13,
   "id": "2cf665af",
   "metadata": {},
   "outputs": [
    {
     "data": {
      "text/plain": [
       "21"
      ]
     },
     "execution_count": 13,
     "metadata": {},
     "output_type": "execute_result"
    }
   ],
   "source": [
    "np.sum(model_Elastic.w!=0)"
   ]
  },
  {
   "cell_type": "code",
   "execution_count": 20,
   "id": "155acbb4",
   "metadata": {},
   "outputs": [
    {
     "data": {
      "text/plain": [
       "-0.0016614080115755492"
      ]
     },
     "execution_count": 20,
     "metadata": {},
     "output_type": "execute_result"
    }
   ],
   "source": [
    "model_Elastic=ElasticNet(alpha=0.015,rho=1.2)\n",
    "model_Elastic.fit(X_train,y_train)\n",
    "pred=model_Elastic.predict(X_validation)\n",
    "pre=pred.reshape(pred.shape[0],1)\n",
    "validation_score=rsquare_oos(y_validation,pre)\n",
    "validation_score"
   ]
  },
  {
   "cell_type": "code",
   "execution_count": 22,
   "id": "5bd9a2e7",
   "metadata": {},
   "outputs": [
    {
     "data": {
      "text/plain": [
       "-0.0005891585739257188"
      ]
     },
     "execution_count": 22,
     "metadata": {},
     "output_type": "execute_result"
    }
   ],
   "source": [
    "model_Elastic=ElasticNet(alpha=0.015,rho=1.5)\n",
    "model_Elastic.fit(X_train,y_train)\n",
    "pred=model_Elastic.predict(X_validation)\n",
    "pre=pred.reshape(pred.shape[0],1)\n",
    "validation_score=rsquare_oos(y_validation,pre)\n",
    "validation_score"
   ]
  },
  {
   "cell_type": "code",
   "execution_count": 23,
   "id": "c78ca2e6",
   "metadata": {},
   "outputs": [
    {
     "data": {
      "text/plain": [
       "1.7162368864065414e-05"
      ]
     },
     "execution_count": 23,
     "metadata": {},
     "output_type": "execute_result"
    }
   ],
   "source": [
    "model_Elastic=ElasticNet(alpha=0.015,rho=1.7)\n",
    "model_Elastic.fit(X_train,y_train)\n",
    "pred=model_Elastic.predict(X_validation)\n",
    "pre=pred.reshape(pred.shape[0],1)\n",
    "validation_score=rsquare_oos(y_validation,pre)\n",
    "validation_score"
   ]
  },
  {
   "cell_type": "code",
   "execution_count": 24,
   "id": "d321a325",
   "metadata": {},
   "outputs": [
    {
     "data": {
      "text/plain": [
       "0.0004641094787616318"
      ]
     },
     "execution_count": 24,
     "metadata": {},
     "output_type": "execute_result"
    }
   ],
   "source": [
    "model_Elastic=ElasticNet(alpha=0.015,rho=1.9)\n",
    "model_Elastic.fit(X_train,y_train)\n",
    "pred=model_Elastic.predict(X_validation)\n",
    "pre=pred.reshape(pred.shape[0],1)\n",
    "validation_score=rsquare_oos(y_validation,pre)\n",
    "validation_score"
   ]
  },
  {
   "cell_type": "code",
   "execution_count": 25,
   "id": "241bdcf6",
   "metadata": {},
   "outputs": [
    {
     "data": {
      "text/plain": [
       "0.0007361428877635801"
      ]
     },
     "execution_count": 25,
     "metadata": {},
     "output_type": "execute_result"
    }
   ],
   "source": [
    "model_Elastic=ElasticNet(alpha=0.015,rho=2.1)\n",
    "model_Elastic.fit(X_train,y_train)\n",
    "pred=model_Elastic.predict(X_validation)\n",
    "pre=pred.reshape(pred.shape[0],1)\n",
    "validation_score=rsquare_oos(y_validation,pre)\n",
    "validation_score"
   ]
  },
  {
   "cell_type": "code",
   "execution_count": 27,
   "id": "a9378dc5",
   "metadata": {},
   "outputs": [
    {
     "data": {
      "text/plain": [
       "0.0007441940821326654"
      ]
     },
     "execution_count": 27,
     "metadata": {},
     "output_type": "execute_result"
    }
   ],
   "source": [
    "model_Elastic=ElasticNet(alpha=0.015,rho=2.2)\n",
    "model_Elastic.fit(X_train,y_train)\n",
    "pred=model_Elastic.predict(X_validation)\n",
    "pre=pred.reshape(pred.shape[0],1)\n",
    "validation_score=rsquare_oos(y_validation,pre)\n",
    "validation_score"
   ]
  },
  {
   "cell_type": "code",
   "execution_count": 33,
   "id": "36490ee7",
   "metadata": {},
   "outputs": [
    {
     "data": {
      "text/plain": [
       "0.0005168022402389782"
      ]
     },
     "execution_count": 33,
     "metadata": {},
     "output_type": "execute_result"
    }
   ],
   "source": [
    "model_Elastic=ElasticNet(alpha=0.016,rho=2.3)\n",
    "model_Elastic.fit(X_train,y_train)\n",
    "pred=model_Elastic.predict(X_validation)\n",
    "pre=pred.reshape(pred.shape[0],1)\n",
    "validation_score=rsquare_oos(y_validation,pre)\n",
    "validation_score"
   ]
  },
  {
   "cell_type": "code",
   "execution_count": 8,
   "id": "11d2511e",
   "metadata": {},
   "outputs": [],
   "source": [
    "def fit_model2(X_train,y_train,alphas=[0.013,0.015,0.017],rhos=[2.0,2.2,2.4]):\n",
    "   \n",
    "    models={}\n",
    "    \n",
    "    for a in tqdm.tqdm(alphas):\n",
    "        for l in rhos:\n",
    "            m=ElasticNet(alpha=a,rho=l)\n",
    "            m.fit(X_train,y_train)\n",
    "            models[(a,l)]=m\n",
    "    return models\n"
   ]
  },
  {
   "cell_type": "code",
   "execution_count": 38,
   "id": "82395f1a",
   "metadata": {},
   "outputs": [
    {
     "data": {
      "text/plain": [
       "{(0.013, 2.0): <__main__.ElasticNet at 0x1b7bffd36d0>,\n",
       " (0.013, 2.2): <__main__.ElasticNet at 0x1b7c14e2fd0>,\n",
       " (0.013, 2.4): <__main__.ElasticNet at 0x1b7bffeef40>,\n",
       " (0.015, 2.0): <__main__.ElasticNet at 0x1b7bffee7f0>,\n",
       " (0.015, 2.2): <__main__.ElasticNet at 0x1b7bea0ab50>,\n",
       " (0.015, 2.4): <__main__.ElasticNet at 0x1b7bffeecd0>,\n",
       " (0.017, 2.0): <__main__.ElasticNet at 0x1b7bffd3250>,\n",
       " (0.017, 2.2): <__main__.ElasticNet at 0x1b7bffee520>,\n",
       " (0.017, 2.4): <__main__.ElasticNet at 0x1b7bffee7c0>}"
      ]
     },
     "execution_count": 38,
     "metadata": {},
     "output_type": "execute_result"
    }
   ],
   "source": [
    "elasticnet_models=fit_model2(X_train,y_train,alphas=[0.013,0.015,0.017],rhos=[2.0,2.2,2.4]) \n",
    "elasticnet_models"
   ]
  },
  {
   "cell_type": "code",
   "execution_count": 39,
   "id": "92b86a43",
   "metadata": {},
   "outputs": [
    {
     "data": {
      "text/html": [
       "<div>\n",
       "<style scoped>\n",
       "    .dataframe tbody tr th:only-of-type {\n",
       "        vertical-align: middle;\n",
       "    }\n",
       "\n",
       "    .dataframe tbody tr th {\n",
       "        vertical-align: top;\n",
       "    }\n",
       "\n",
       "    .dataframe thead th {\n",
       "        text-align: right;\n",
       "    }\n",
       "</style>\n",
       "<table border=\"1\" class=\"dataframe\">\n",
       "  <thead>\n",
       "    <tr style=\"text-align: right;\">\n",
       "      <th></th>\n",
       "      <th>model</th>\n",
       "      <th>alpha</th>\n",
       "      <th>rho</th>\n",
       "      <th>number of features</th>\n",
       "      <th>score_validation</th>\n",
       "      <th>score_test</th>\n",
       "    </tr>\n",
       "  </thead>\n",
       "  <tbody>\n",
       "    <tr>\n",
       "      <th>0</th>\n",
       "      <td>elastic net</td>\n",
       "      <td>0.013</td>\n",
       "      <td>2.0</td>\n",
       "      <td>9</td>\n",
       "      <td>0.000101</td>\n",
       "      <td>-0.000996</td>\n",
       "    </tr>\n",
       "    <tr>\n",
       "      <th>1</th>\n",
       "      <td>elastic net</td>\n",
       "      <td>0.013</td>\n",
       "      <td>2.2</td>\n",
       "      <td>9</td>\n",
       "      <td>0.000475</td>\n",
       "      <td>-0.000260</td>\n",
       "    </tr>\n",
       "    <tr>\n",
       "      <th>2</th>\n",
       "      <td>elastic net</td>\n",
       "      <td>0.013</td>\n",
       "      <td>2.4</td>\n",
       "      <td>9</td>\n",
       "      <td>0.000717</td>\n",
       "      <td>0.000300</td>\n",
       "    </tr>\n",
       "    <tr>\n",
       "      <th>3</th>\n",
       "      <td>elastic net</td>\n",
       "      <td>0.015</td>\n",
       "      <td>2.0</td>\n",
       "      <td>9</td>\n",
       "      <td>0.000622</td>\n",
       "      <td>0.000066</td>\n",
       "    </tr>\n",
       "    <tr>\n",
       "      <th>4</th>\n",
       "      <td>elastic net</td>\n",
       "      <td>0.015</td>\n",
       "      <td>2.2</td>\n",
       "      <td>7</td>\n",
       "      <td>0.000744</td>\n",
       "      <td>0.000458</td>\n",
       "    </tr>\n",
       "    <tr>\n",
       "      <th>5</th>\n",
       "      <td>elastic net</td>\n",
       "      <td>0.015</td>\n",
       "      <td>2.4</td>\n",
       "      <td>5</td>\n",
       "      <td>0.000579</td>\n",
       "      <td>0.000564</td>\n",
       "    </tr>\n",
       "    <tr>\n",
       "      <th>6</th>\n",
       "      <td>elastic net</td>\n",
       "      <td>0.017</td>\n",
       "      <td>2.0</td>\n",
       "      <td>6</td>\n",
       "      <td>0.000702</td>\n",
       "      <td>0.000516</td>\n",
       "    </tr>\n",
       "    <tr>\n",
       "      <th>7</th>\n",
       "      <td>elastic net</td>\n",
       "      <td>0.017</td>\n",
       "      <td>2.2</td>\n",
       "      <td>5</td>\n",
       "      <td>0.000465</td>\n",
       "      <td>0.000537</td>\n",
       "    </tr>\n",
       "    <tr>\n",
       "      <th>8</th>\n",
       "      <td>elastic net</td>\n",
       "      <td>0.017</td>\n",
       "      <td>2.4</td>\n",
       "      <td>2</td>\n",
       "      <td>0.000143</td>\n",
       "      <td>0.000207</td>\n",
       "    </tr>\n",
       "  </tbody>\n",
       "</table>\n",
       "</div>"
      ],
      "text/plain": [
       "         model  alpha  rho  number of features  score_validation  score_test\n",
       "0  elastic net  0.013  2.0                   9          0.000101   -0.000996\n",
       "1  elastic net  0.013  2.2                   9          0.000475   -0.000260\n",
       "2  elastic net  0.013  2.4                   9          0.000717    0.000300\n",
       "3  elastic net  0.015  2.0                   9          0.000622    0.000066\n",
       "4  elastic net  0.015  2.2                   7          0.000744    0.000458\n",
       "5  elastic net  0.015  2.4                   5          0.000579    0.000564\n",
       "6  elastic net  0.017  2.0                   6          0.000702    0.000516\n",
       "7  elastic net  0.017  2.2                   5          0.000465    0.000537\n",
       "8  elastic net  0.017  2.4                   2          0.000143    0.000207"
      ]
     },
     "execution_count": 39,
     "metadata": {},
     "output_type": "execute_result"
    }
   ],
   "source": [
    "elasticnet_scores=[]\n",
    "for k,v in elasticnet_models.items():\n",
    "    y_validation_pred1=v.predict(X_validation)\n",
    "    y_validation_pred=y_validation_pred1.reshape(y_validation_pred1.shape[0],1)\n",
    "    score_validation=rsquare_oos(y_validation,y_validation_pred)\n",
    "    \n",
    "    y_test_pred1=v.predict(X_test)\n",
    "    y_test_pred=y_test_pred1.reshape(y_test_pred1.shape[0],1)\n",
    "    score_test=rsquare_oos(y_test,y_test_pred)\n",
    "    \n",
    "    elasticnet_scores.append({\"model\":\"elastic net\",\n",
    "                         \"alpha\":k[0],\n",
    "                         \"rho\":k[1],\n",
    "                         \"number of features\":np.sum(v.w!=0),\n",
    "                         \"score_validation\":score_validation,\n",
    "                         \"score_test\":score_test})\n",
    "    \n",
    "df_elasticnet_scores=pd.DataFrame(elasticnet_scores)\n",
    "df_elasticnet_scores"
   ]
  },
  {
   "cell_type": "code",
   "execution_count": 40,
   "id": "b28cd52e",
   "metadata": {},
   "outputs": [
    {
     "data": {
      "text/html": [
       "<div>\n",
       "<style scoped>\n",
       "    .dataframe tbody tr th:only-of-type {\n",
       "        vertical-align: middle;\n",
       "    }\n",
       "\n",
       "    .dataframe tbody tr th {\n",
       "        vertical-align: top;\n",
       "    }\n",
       "\n",
       "    .dataframe thead th {\n",
       "        text-align: right;\n",
       "    }\n",
       "</style>\n",
       "<table border=\"1\" class=\"dataframe\">\n",
       "  <thead>\n",
       "    <tr style=\"text-align: right;\">\n",
       "      <th>rho</th>\n",
       "      <th>2.0</th>\n",
       "      <th>2.2</th>\n",
       "      <th>2.4</th>\n",
       "    </tr>\n",
       "    <tr>\n",
       "      <th>alpha</th>\n",
       "      <th></th>\n",
       "      <th></th>\n",
       "      <th></th>\n",
       "    </tr>\n",
       "  </thead>\n",
       "  <tbody>\n",
       "    <tr>\n",
       "      <th>0.013</th>\n",
       "      <td>0.000101</td>\n",
       "      <td>0.000475</td>\n",
       "      <td>0.000717</td>\n",
       "    </tr>\n",
       "    <tr>\n",
       "      <th>0.015</th>\n",
       "      <td>0.000622</td>\n",
       "      <td>0.000744</td>\n",
       "      <td>0.000579</td>\n",
       "    </tr>\n",
       "    <tr>\n",
       "      <th>0.017</th>\n",
       "      <td>0.000702</td>\n",
       "      <td>0.000465</td>\n",
       "      <td>0.000143</td>\n",
       "    </tr>\n",
       "  </tbody>\n",
       "</table>\n",
       "</div>"
      ],
      "text/plain": [
       "rho         2.0       2.2       2.4\n",
       "alpha                              \n",
       "0.013  0.000101  0.000475  0.000717\n",
       "0.015  0.000622  0.000744  0.000579\n",
       "0.017  0.000702  0.000465  0.000143"
      ]
     },
     "execution_count": 40,
     "metadata": {},
     "output_type": "execute_result"
    }
   ],
   "source": [
    "tmp=df_elasticnet_scores.pivot_table(index=\"alpha\",columns=\"rho\",values=\"score_validation\")\n",
    "tmp"
   ]
  },
  {
   "cell_type": "code",
   "execution_count": 44,
   "id": "0ba7d0c8",
   "metadata": {},
   "outputs": [
    {
     "data": {
      "text/html": [
       "<div>\n",
       "<style scoped>\n",
       "    .dataframe tbody tr th:only-of-type {\n",
       "        vertical-align: middle;\n",
       "    }\n",
       "\n",
       "    .dataframe tbody tr th {\n",
       "        vertical-align: top;\n",
       "    }\n",
       "\n",
       "    .dataframe thead th {\n",
       "        text-align: right;\n",
       "    }\n",
       "</style>\n",
       "<table border=\"1\" class=\"dataframe\">\n",
       "  <thead>\n",
       "    <tr style=\"text-align: right;\">\n",
       "      <th></th>\n",
       "      <th>model</th>\n",
       "      <th>alpha</th>\n",
       "      <th>rho</th>\n",
       "      <th>number of features</th>\n",
       "      <th>score_validation</th>\n",
       "      <th>score_test</th>\n",
       "    </tr>\n",
       "  </thead>\n",
       "  <tbody>\n",
       "    <tr>\n",
       "      <th>4</th>\n",
       "      <td>elastic net</td>\n",
       "      <td>0.015</td>\n",
       "      <td>2.2</td>\n",
       "      <td>7</td>\n",
       "      <td>0.000744</td>\n",
       "      <td>0.000458</td>\n",
       "    </tr>\n",
       "  </tbody>\n",
       "</table>\n",
       "</div>"
      ],
      "text/plain": [
       "         model  alpha  rho  number of features  score_validation  score_test\n",
       "4  elastic net  0.015  2.2                   7          0.000744    0.000458"
      ]
     },
     "execution_count": 44,
     "metadata": {},
     "output_type": "execute_result"
    }
   ],
   "source": [
    "best_m=df_elasticnet_scores[df_elasticnet_scores['score_validation']==df_elasticnet_scores['score_validation'].max()]\n",
    "best_m"
   ]
  },
  {
   "cell_type": "code",
   "execution_count": 11,
   "id": "f9d2e8f1",
   "metadata": {},
   "outputs": [],
   "source": [
    "#The recursive performance evaluation scheme\n",
    "alpha_list=[0]*31\n",
    "rho_list=[0]*31\n",
    "validation_score=[0]*31\n",
    "test_score=[0]*31\n",
    "num_features=[0]*31"
   ]
  },
  {
   "cell_type": "code",
   "execution_count": 12,
   "id": "571b5863",
   "metadata": {},
   "outputs": [],
   "source": [
    "from sklearn.preprocessing import StandardScaler\n",
    "scaler=StandardScaler()"
   ]
  },
  {
   "cell_type": "code",
   "execution_count": 15,
   "id": "9e5fbc13",
   "metadata": {},
   "outputs": [
    {
     "name": "stdout",
     "output_type": "stream",
     "text": [
      "Evaluation Window 0:\n",
      "Train data:1960-1978\n",
      "Valuation data:1978-1990\n",
      "Test data:1990-1991\n"
     ]
    },
    {
     "name": "stderr",
     "output_type": "stream",
     "text": [
      "100%|████████████████████████████████████████████████████████████████████████████████████| 3/3 [01:31<00:00, 30.49s/it]\n"
     ]
    },
    {
     "name": "stdout",
     "output_type": "stream",
     "text": [
      "Evaluation Window 1:\n",
      "Train data:1960-1979\n",
      "Valuation data:1979-1991\n",
      "Test data:1991-1992\n"
     ]
    },
    {
     "name": "stderr",
     "output_type": "stream",
     "text": [
      "100%|████████████████████████████████████████████████████████████████████████████████████| 3/3 [01:44<00:00, 34.83s/it]\n"
     ]
    },
    {
     "name": "stdout",
     "output_type": "stream",
     "text": [
      "Evaluation Window 2:\n",
      "Train data:1960-1980\n",
      "Valuation data:1980-1992\n",
      "Test data:1992-1993\n"
     ]
    },
    {
     "name": "stderr",
     "output_type": "stream",
     "text": [
      "100%|████████████████████████████████████████████████████████████████████████████████████| 3/3 [01:56<00:00, 38.71s/it]\n"
     ]
    },
    {
     "name": "stdout",
     "output_type": "stream",
     "text": [
      "Evaluation Window 3:\n",
      "Train data:1960-1981\n",
      "Valuation data:1981-1993\n",
      "Test data:1993-1994\n"
     ]
    },
    {
     "name": "stderr",
     "output_type": "stream",
     "text": [
      "100%|████████████████████████████████████████████████████████████████████████████████████| 3/3 [01:59<00:00, 39.80s/it]\n"
     ]
    },
    {
     "name": "stdout",
     "output_type": "stream",
     "text": [
      "Evaluation Window 4:\n",
      "Train data:1960-1982\n",
      "Valuation data:1982-1994\n",
      "Test data:1994-1995\n"
     ]
    },
    {
     "name": "stderr",
     "output_type": "stream",
     "text": [
      "100%|████████████████████████████████████████████████████████████████████████████████████| 3/3 [02:09<00:00, 43.23s/it]\n"
     ]
    }
   ],
   "source": [
    "for i in range(0,5):\n",
    "    print('Evaluation Window {}:\\nTrain data:1960-{}\\nValuation data:{}-{}\\nTest data:{}-{}'.format(i,1978+i,1978+i,1990+i,1990+i,1991+i))\n",
    "    data_train=data[(data.DATE>=19600101)&(data.DATE<19780101+i*10000)]\n",
    "    data_validation=data[(data.DATE>=19780101+i*10000)&(data.DATE<19900101+i*10000)]\n",
    "    data_test=data[(data.DATE>=19900101+i*10000)&(data.DATE<19910101+i*10000)]\n",
    "    data_train=missing_value_filling(data_train)\n",
    "    data_validation=missing_value_filling(data_validation)\n",
    "    data_test=missing_value_filling(data_test)\n",
    "    \n",
    "    #Normalize\n",
    "    X_train=data_train.drop(\"RET\",axis=1)\n",
    "    X_train=scaler.fit_transform(X_train)\n",
    "    X_validation=data_validation.drop(\"RET\",axis=1)\n",
    "    X_validation=scaler.transform(X_validation)\n",
    "    X_test=data_test.drop(\"RET\",axis=1)\n",
    "    X_test=scaler.transform(X_test)\n",
    "    \n",
    "    y_train=data_train[[\"RET\"]]\n",
    "    y_train=scaler.fit_transform(y_train)\n",
    "    y_validation=data_validation[[\"RET\"]]\n",
    "    y_validation=scaler.transform(y_validation)\n",
    "    y_test=data_test[[\"RET\"]]\n",
    "    y_test=scaler.transform(y_test)\n",
    "    \n",
    "    elasticnet_models_forloop=fit_model2(X_train,y_train,alphas=[0.013,0.015,0.017],rhos=[2.0,2.2,2.4])\n",
    "    elasticnet_scores_forloop=[]\n",
    "    \n",
    "    for k,v in elasticnet_models_forloop.items():\n",
    "        y_validation_pred1=v.predict(X_validation)\n",
    "        y_validation_pred=y_validation_pred1.reshape(y_validation_pred1.shape[0],1)\n",
    "        score_validation=rsquare_oos(y_validation,y_validation_pred)\n",
    "        y_test_pred1=v.predict(X_test)\n",
    "        y_test_pred=y_test_pred1.reshape(y_test_pred1.shape[0],1)\n",
    "        score_test=rsquare_oos(y_test,y_test_pred)\n",
    "        elasticnet_scores_forloop.append({\"model\":\" elastic net\",\n",
    "                             \"alpha\":k[0],\n",
    "                             \"rho\":k[1],             \n",
    "                             \"number of features\":np.sum(v.w!=0),\n",
    "                             \"score_validation\":score_validation,\n",
    "                             \"score_test\":score_test})\n",
    "    \n",
    "    elasticnet_scores_df=pd.DataFrame(elasticnet_scores_forloop)\n",
    "    best_model=elasticnet_scores_df[elasticnet_scores_df['score_validation']==elasticnet_scores_df['score_validation'].max()]\n",
    "    alpha_list[i]=best_model['alpha'].values.tolist()[0]\n",
    "    rho_list[i]=best_model['rho'].values.tolist()[0]\n",
    "    validation_score[i]=best_model['score_validation'].values.tolist()[0]\n",
    "    test_score[i]=best_model['score_test'].values.tolist()[0]\n",
    "    num_features[i]=best_model['number of features'].values.tolist()[0]\n",
    "    \n",
    "    del data_train,data_validation,data_test,X_train,y_train,X_test,y_test,X_validation,y_validation\n",
    "    del elasticnet_models_forloop,elasticnet_scores_forloop,best_model,elasticnet_scores_df\n"
   ]
  },
  {
   "cell_type": "code",
   "execution_count": 16,
   "id": "202a27f5",
   "metadata": {},
   "outputs": [
    {
     "name": "stdout",
     "output_type": "stream",
     "text": [
      "[0.0007441940821326654, 0.0007302313340659117, 0.00024325979959982647, 3.757957525385436e-06, 0.0004079905905778336, 0, 0, 0, 0, 0, 0, 0, 0, 0, 0, 0, 0, 0, 0, 0, 0, 0, 0, 0, 0, 0, 0, 0, 0, 0, 0]\n"
     ]
    }
   ],
   "source": [
    "print(validation_score)"
   ]
  },
  {
   "cell_type": "code",
   "execution_count": 17,
   "id": "3598661f",
   "metadata": {},
   "outputs": [
    {
     "name": "stdout",
     "output_type": "stream",
     "text": [
      "[0.0004577054263928959, 0.0009023185069716444, 0.002310687794984112, 0.00044152079615100703, -0.0038435416011437518, 0, 0, 0, 0, 0, 0, 0, 0, 0, 0, 0, 0, 0, 0, 0, 0, 0, 0, 0, 0, 0, 0, 0, 0, 0, 0]\n"
     ]
    }
   ],
   "source": [
    "print(test_score)"
   ]
  },
  {
   "cell_type": "code",
   "execution_count": 18,
   "id": "8ecec3d3",
   "metadata": {},
   "outputs": [
    {
     "name": "stdout",
     "output_type": "stream",
     "text": [
      "[0.015, 0.017, 0.017, 0.017, 0.015, 0, 0, 0, 0, 0, 0, 0, 0, 0, 0, 0, 0, 0, 0, 0, 0, 0, 0, 0, 0, 0, 0, 0, 0, 0, 0]\n"
     ]
    }
   ],
   "source": [
    "print(alpha_list)"
   ]
  },
  {
   "cell_type": "code",
   "execution_count": 19,
   "id": "8015acbe",
   "metadata": {},
   "outputs": [
    {
     "name": "stdout",
     "output_type": "stream",
     "text": [
      "[2.2, 2.0, 2.0, 2.4, 2.2, 0, 0, 0, 0, 0, 0, 0, 0, 0, 0, 0, 0, 0, 0, 0, 0, 0, 0, 0, 0, 0, 0, 0, 0, 0, 0]\n"
     ]
    }
   ],
   "source": [
    "print(rho_list)"
   ]
  },
  {
   "cell_type": "code",
   "execution_count": 20,
   "id": "dca373f1",
   "metadata": {},
   "outputs": [
    {
     "name": "stdout",
     "output_type": "stream",
     "text": [
      "[7, 4, 6, 2, 4, 0, 0, 0, 0, 0, 0, 0, 0, 0, 0, 0, 0, 0, 0, 0, 0, 0, 0, 0, 0, 0, 0, 0, 0, 0, 0]\n"
     ]
    }
   ],
   "source": [
    "print(num_features)"
   ]
  },
  {
   "cell_type": "code",
   "execution_count": 21,
   "id": "62c6ace7",
   "metadata": {},
   "outputs": [
    {
     "name": "stdout",
     "output_type": "stream",
     "text": [
      "Evaluation Window 5:\n",
      "Train data:1960-1983\n",
      "Valuation data:1983-1995\n",
      "Test data:1995-1996\n"
     ]
    },
    {
     "name": "stderr",
     "output_type": "stream",
     "text": [
      "100%|████████████████████████████████████████████████████████████████████████████████████| 3/3 [02:22<00:00, 47.66s/it]\n"
     ]
    },
    {
     "name": "stdout",
     "output_type": "stream",
     "text": [
      "Evaluation Window 6:\n",
      "Train data:1960-1984\n",
      "Valuation data:1984-1996\n",
      "Test data:1996-1997\n"
     ]
    },
    {
     "name": "stderr",
     "output_type": "stream",
     "text": [
      "100%|████████████████████████████████████████████████████████████████████████████████████| 3/3 [02:31<00:00, 50.45s/it]\n"
     ]
    },
    {
     "name": "stdout",
     "output_type": "stream",
     "text": [
      "Evaluation Window 7:\n",
      "Train data:1960-1985\n",
      "Valuation data:1985-1997\n",
      "Test data:1997-1998\n"
     ]
    },
    {
     "name": "stderr",
     "output_type": "stream",
     "text": [
      "100%|████████████████████████████████████████████████████████████████████████████████████| 3/3 [02:50<00:00, 56.93s/it]\n"
     ]
    },
    {
     "name": "stdout",
     "output_type": "stream",
     "text": [
      "Evaluation Window 8:\n",
      "Train data:1960-1986\n",
      "Valuation data:1986-1998\n",
      "Test data:1998-1999\n"
     ]
    },
    {
     "name": "stderr",
     "output_type": "stream",
     "text": [
      "100%|████████████████████████████████████████████████████████████████████████████████████| 3/3 [03:03<00:00, 61.07s/it]\n"
     ]
    },
    {
     "name": "stdout",
     "output_type": "stream",
     "text": [
      "Evaluation Window 9:\n",
      "Train data:1960-1987\n",
      "Valuation data:1987-1999\n",
      "Test data:1999-2000\n"
     ]
    },
    {
     "name": "stderr",
     "output_type": "stream",
     "text": [
      "100%|████████████████████████████████████████████████████████████████████████████████████| 3/3 [03:10<00:00, 63.51s/it]\n"
     ]
    },
    {
     "name": "stdout",
     "output_type": "stream",
     "text": [
      "Evaluation Window 10:\n",
      "Train data:1960-1988\n",
      "Valuation data:1988-2000\n",
      "Test data:2000-2001\n"
     ]
    },
    {
     "name": "stderr",
     "output_type": "stream",
     "text": [
      "100%|████████████████████████████████████████████████████████████████████████████████████| 3/3 [03:25<00:00, 68.64s/it]\n"
     ]
    },
    {
     "name": "stdout",
     "output_type": "stream",
     "text": [
      "Evaluation Window 11:\n",
      "Train data:1960-1989\n",
      "Valuation data:1989-2001\n",
      "Test data:2001-2002\n"
     ]
    },
    {
     "name": "stderr",
     "output_type": "stream",
     "text": [
      "100%|████████████████████████████████████████████████████████████████████████████████████| 3/3 [03:44<00:00, 74.79s/it]\n"
     ]
    },
    {
     "name": "stdout",
     "output_type": "stream",
     "text": [
      "Evaluation Window 12:\n",
      "Train data:1960-1990\n",
      "Valuation data:1990-2002\n",
      "Test data:2002-2003\n"
     ]
    },
    {
     "name": "stderr",
     "output_type": "stream",
     "text": [
      "100%|████████████████████████████████████████████████████████████████████████████████████| 3/3 [03:48<00:00, 76.20s/it]\n"
     ]
    },
    {
     "name": "stdout",
     "output_type": "stream",
     "text": [
      "Evaluation Window 13:\n",
      "Train data:1960-1991\n",
      "Valuation data:1991-2003\n",
      "Test data:2003-2004\n"
     ]
    },
    {
     "name": "stderr",
     "output_type": "stream",
     "text": [
      "100%|████████████████████████████████████████████████████████████████████████████████████| 3/3 [04:06<00:00, 82.19s/it]\n"
     ]
    },
    {
     "name": "stdout",
     "output_type": "stream",
     "text": [
      "Evaluation Window 14:\n",
      "Train data:1960-1992\n",
      "Valuation data:1992-2004\n",
      "Test data:2004-2005\n"
     ]
    },
    {
     "name": "stderr",
     "output_type": "stream",
     "text": [
      "100%|████████████████████████████████████████████████████████████████████████████████████| 3/3 [04:14<00:00, 84.92s/it]\n"
     ]
    },
    {
     "name": "stdout",
     "output_type": "stream",
     "text": [
      "Evaluation Window 15:\n",
      "Train data:1960-1993\n",
      "Valuation data:1993-2005\n",
      "Test data:2005-2006\n"
     ]
    },
    {
     "name": "stderr",
     "output_type": "stream",
     "text": [
      "100%|████████████████████████████████████████████████████████████████████████████████████| 3/3 [04:26<00:00, 88.80s/it]\n"
     ]
    },
    {
     "name": "stdout",
     "output_type": "stream",
     "text": [
      "Evaluation Window 16:\n",
      "Train data:1960-1994\n",
      "Valuation data:1994-2006\n",
      "Test data:2006-2007\n"
     ]
    },
    {
     "name": "stderr",
     "output_type": "stream",
     "text": [
      "100%|████████████████████████████████████████████████████████████████████████████████████| 3/3 [04:40<00:00, 93.42s/it]\n"
     ]
    },
    {
     "name": "stdout",
     "output_type": "stream",
     "text": [
      "Evaluation Window 17:\n",
      "Train data:1960-1995\n",
      "Valuation data:1995-2007\n",
      "Test data:2007-2008\n"
     ]
    },
    {
     "name": "stderr",
     "output_type": "stream",
     "text": [
      "100%|████████████████████████████████████████████████████████████████████████████████████| 3/3 [04:57<00:00, 99.10s/it]\n"
     ]
    },
    {
     "name": "stdout",
     "output_type": "stream",
     "text": [
      "Evaluation Window 18:\n",
      "Train data:1960-1996\n",
      "Valuation data:1996-2008\n",
      "Test data:2008-2009\n"
     ]
    },
    {
     "name": "stderr",
     "output_type": "stream",
     "text": [
      "100%|███████████████████████████████████████████████████████████████████████████████████| 3/3 [05:10<00:00, 103.45s/it]\n"
     ]
    },
    {
     "name": "stdout",
     "output_type": "stream",
     "text": [
      "Evaluation Window 19:\n",
      "Train data:1960-1997\n",
      "Valuation data:1997-2009\n",
      "Test data:2009-2010\n"
     ]
    },
    {
     "name": "stderr",
     "output_type": "stream",
     "text": [
      "100%|███████████████████████████████████████████████████████████████████████████████████| 3/3 [05:30<00:00, 110.33s/it]\n"
     ]
    },
    {
     "name": "stdout",
     "output_type": "stream",
     "text": [
      "Evaluation Window 20:\n",
      "Train data:1960-1998\n",
      "Valuation data:1998-2010\n",
      "Test data:2010-2011\n"
     ]
    },
    {
     "name": "stderr",
     "output_type": "stream",
     "text": [
      "100%|███████████████████████████████████████████████████████████████████████████████████| 3/3 [05:46<00:00, 115.36s/it]\n"
     ]
    },
    {
     "name": "stdout",
     "output_type": "stream",
     "text": [
      "Evaluation Window 21:\n",
      "Train data:1960-1999\n",
      "Valuation data:1999-2011\n",
      "Test data:2011-2012\n"
     ]
    },
    {
     "name": "stderr",
     "output_type": "stream",
     "text": [
      "100%|███████████████████████████████████████████████████████████████████████████████████| 3/3 [06:03<00:00, 121.12s/it]\n"
     ]
    },
    {
     "name": "stdout",
     "output_type": "stream",
     "text": [
      "Evaluation Window 22:\n",
      "Train data:1960-2000\n",
      "Valuation data:2000-2012\n",
      "Test data:2012-2013\n"
     ]
    },
    {
     "name": "stderr",
     "output_type": "stream",
     "text": [
      "100%|███████████████████████████████████████████████████████████████████████████████████| 3/3 [06:19<00:00, 126.52s/it]\n"
     ]
    },
    {
     "name": "stdout",
     "output_type": "stream",
     "text": [
      "Evaluation Window 23:\n",
      "Train data:1960-2001\n",
      "Valuation data:2001-2013\n",
      "Test data:2013-2014\n"
     ]
    },
    {
     "name": "stderr",
     "output_type": "stream",
     "text": [
      "100%|███████████████████████████████████████████████████████████████████████████████████| 3/3 [06:44<00:00, 134.82s/it]\n"
     ]
    },
    {
     "name": "stdout",
     "output_type": "stream",
     "text": [
      "Evaluation Window 24:\n",
      "Train data:1960-2002\n",
      "Valuation data:2002-2014\n",
      "Test data:2014-2015\n"
     ]
    },
    {
     "name": "stderr",
     "output_type": "stream",
     "text": [
      "100%|███████████████████████████████████████████████████████████████████████████████████| 3/3 [06:55<00:00, 138.63s/it]\n"
     ]
    },
    {
     "name": "stdout",
     "output_type": "stream",
     "text": [
      "Evaluation Window 25:\n",
      "Train data:1960-2003\n",
      "Valuation data:2003-2015\n",
      "Test data:2015-2016\n"
     ]
    },
    {
     "name": "stderr",
     "output_type": "stream",
     "text": [
      "100%|███████████████████████████████████████████████████████████████████████████████████| 3/3 [06:59<00:00, 139.75s/it]\n"
     ]
    },
    {
     "name": "stdout",
     "output_type": "stream",
     "text": [
      "Evaluation Window 26:\n",
      "Train data:1960-2004\n",
      "Valuation data:2004-2016\n",
      "Test data:2016-2017\n"
     ]
    },
    {
     "name": "stderr",
     "output_type": "stream",
     "text": [
      "100%|███████████████████████████████████████████████████████████████████████████████████| 3/3 [07:15<00:00, 145.11s/it]\n"
     ]
    },
    {
     "name": "stdout",
     "output_type": "stream",
     "text": [
      "Evaluation Window 27:\n",
      "Train data:1960-2005\n",
      "Valuation data:2005-2017\n",
      "Test data:2017-2018\n"
     ]
    },
    {
     "name": "stderr",
     "output_type": "stream",
     "text": [
      "100%|███████████████████████████████████████████████████████████████████████████████████| 3/3 [07:30<00:00, 150.20s/it]\n"
     ]
    },
    {
     "name": "stdout",
     "output_type": "stream",
     "text": [
      "Evaluation Window 28:\n",
      "Train data:1960-2006\n",
      "Valuation data:2006-2018\n",
      "Test data:2018-2019\n"
     ]
    },
    {
     "name": "stderr",
     "output_type": "stream",
     "text": [
      "100%|███████████████████████████████████████████████████████████████████████████████████| 3/3 [07:47<00:00, 155.70s/it]\n"
     ]
    },
    {
     "name": "stdout",
     "output_type": "stream",
     "text": [
      "Evaluation Window 29:\n",
      "Train data:1960-2007\n",
      "Valuation data:2007-2019\n",
      "Test data:2019-2020\n"
     ]
    },
    {
     "name": "stderr",
     "output_type": "stream",
     "text": [
      "100%|███████████████████████████████████████████████████████████████████████████████████| 3/3 [08:00<00:00, 160.27s/it]\n"
     ]
    },
    {
     "name": "stdout",
     "output_type": "stream",
     "text": [
      "Evaluation Window 30:\n",
      "Train data:1960-2008\n",
      "Valuation data:2008-2020\n",
      "Test data:2020-2021\n"
     ]
    },
    {
     "name": "stderr",
     "output_type": "stream",
     "text": [
      "100%|███████████████████████████████████████████████████████████████████████████████████| 3/3 [08:14<00:00, 164.86s/it]\n"
     ]
    }
   ],
   "source": [
    "for i in range(5,31):\n",
    "    print('Evaluation Window {}:\\nTrain data:1960-{}\\nValuation data:{}-{}\\nTest data:{}-{}'.format(i,1978+i,1978+i,1990+i,1990+i,1991+i))\n",
    "    data_train=data[(data.DATE>=19600101)&(data.DATE<19780101+i*10000)]\n",
    "    data_validation=data[(data.DATE>=19780101+i*10000)&(data.DATE<19900101+i*10000)]\n",
    "    data_test=data[(data.DATE>=19900101+i*10000)&(data.DATE<19910101+i*10000)]\n",
    "    data_train=missing_value_filling(data_train)\n",
    "    data_validation=missing_value_filling(data_validation)\n",
    "    data_test=missing_value_filling(data_test)\n",
    "    \n",
    "    #Normalize\n",
    "    X_train=data_train.drop(\"RET\",axis=1)\n",
    "    X_train=scaler.fit_transform(X_train)\n",
    "    X_validation=data_validation.drop(\"RET\",axis=1)\n",
    "    X_validation=scaler.transform(X_validation)\n",
    "    X_test=data_test.drop(\"RET\",axis=1)\n",
    "    X_test=scaler.transform(X_test)\n",
    "    \n",
    "    y_train=data_train[[\"RET\"]]\n",
    "    y_train=scaler.fit_transform(y_train)\n",
    "    y_validation=data_validation[[\"RET\"]]\n",
    "    y_validation=scaler.transform(y_validation)\n",
    "    y_test=data_test[[\"RET\"]]\n",
    "    y_test=scaler.transform(y_test)\n",
    "    \n",
    "    elasticnet_models_forloop=fit_model2(X_train,y_train,alphas=[0.013,0.015,0.017],rhos=[2.0,2.2,2.4])\n",
    "    elasticnet_scores_forloop=[]\n",
    "    \n",
    "    for k,v in elasticnet_models_forloop.items():\n",
    "        y_validation_pred1=v.predict(X_validation)\n",
    "        y_validation_pred=y_validation_pred1.reshape(y_validation_pred1.shape[0],1)\n",
    "        score_validation=rsquare_oos(y_validation,y_validation_pred)\n",
    "        y_test_pred1=v.predict(X_test)\n",
    "        y_test_pred=y_test_pred1.reshape(y_test_pred1.shape[0],1)\n",
    "        score_test=rsquare_oos(y_test,y_test_pred)\n",
    "        elasticnet_scores_forloop.append({\"model\":\" elastic net\",\n",
    "                             \"alpha\":k[0],\n",
    "                             \"rho\":k[1],             \n",
    "                             \"number of features\":np.sum(v.w!=0),\n",
    "                             \"score_validation\":score_validation,\n",
    "                             \"score_test\":score_test})\n",
    "    \n",
    "    elasticnet_scores_df=pd.DataFrame(elasticnet_scores_forloop)\n",
    "    best_model=elasticnet_scores_df[elasticnet_scores_df['score_validation']==elasticnet_scores_df['score_validation'].max()]\n",
    "    alpha_list[i]=best_model['alpha'].values.tolist()[0]\n",
    "    rho_list[i]=best_model['rho'].values.tolist()[0]\n",
    "    validation_score[i]=best_model['score_validation'].values.tolist()[0]\n",
    "    test_score[i]=best_model['score_test'].values.tolist()[0]\n",
    "    num_features[i]=best_model['number of features'].values.tolist()[0]\n",
    "    \n",
    "    del data_train,data_validation,data_test,X_train,y_train,X_test,y_test,X_validation,y_validation\n",
    "    del elasticnet_models_forloop,elasticnet_scores_forloop,best_model,elasticnet_scores_df\n"
   ]
  },
  {
   "cell_type": "code",
   "execution_count": 22,
   "id": "9ba9faca",
   "metadata": {},
   "outputs": [],
   "source": [
    "pd.DataFrame(validation_score).to_csv[\"D:\\\\val_ela.csv\"]\n",
    "pd.DataFrame(test_score).to_csv[\"D:\\\\tes_ela.csv\"]\n",
    "pd.DataFrame(num_features).to_csv[\"D:\\\\num_ela.csv\"]"
   ]
  },
  {
   "cell_type": "code",
   "execution_count": null,
   "id": "bab81738",
   "metadata": {},
   "outputs": [],
   "source": []
  }
 ],
 "metadata": {
  "kernelspec": {
   "display_name": "Python 3",
   "language": "python",
   "name": "python3"
  },
  "language_info": {
   "codemirror_mode": {
    "name": "ipython",
    "version": 3
   },
   "file_extension": ".py",
   "mimetype": "text/x-python",
   "name": "python",
   "nbconvert_exporter": "python",
   "pygments_lexer": "ipython3",
   "version": "3.8.8"
  }
 },
 "nbformat": 4,
 "nbformat_minor": 5
}
