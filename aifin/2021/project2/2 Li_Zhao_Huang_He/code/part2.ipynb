{
 "cells": [
  {
   "cell_type": "markdown",
   "id": "fdad2f0a",
   "metadata": {},
   "source": [
    "# Part 2\n",
    "\n",
    "Author: HUANG Wenjin\n",
    "\n",
    "Student ID: 20742991\n",
    "\n",
    "Main job: GBDT+RF+NN"
   ]
  },
  {
   "cell_type": "markdown",
   "id": "f8b9a48a",
   "metadata": {},
   "source": [
    "## Data split"
   ]
  },
  {
   "cell_type": "code",
   "execution_count": 3,
   "id": "2505e163",
   "metadata": {},
   "outputs": [],
   "source": [
    "import pandas as pd\n",
    "import numpy as np\n",
    "import pickle\n",
    "import gc\n",
    "import os"
   ]
  },
  {
   "cell_type": "code",
   "execution_count": 4,
   "id": "a0401112",
   "metadata": {},
   "outputs": [],
   "source": [
    "def Data_output(data, index=0):\n",
    "    data_output = open(\"stock group\" + str(index) + \".pkl\",'wb')\n",
    "    pickle.dump(data,data_output)\n",
    "    data_output.close()\n",
    "\n",
    "def Data_input(index=0):\n",
    "    data_input = open(\"stock group\" + str(index) + \".pkl\",'rb')\n",
    "    data = pickle.load(data_input)\n",
    "    data_input.close()\n",
    "    return data"
   ]
  },
  {
   "cell_type": "code",
   "execution_count": null,
   "id": "c9f94736",
   "metadata": {},
   "outputs": [],
   "source": [
    "Data_output(z0, index=4)"
   ]
  },
  {
   "cell_type": "markdown",
   "id": "ae71bbdb",
   "metadata": {},
   "source": [
    "## Data reload"
   ]
  },
  {
   "cell_type": "code",
   "execution_count": 3,
   "id": "7373e702",
   "metadata": {},
   "outputs": [
    {
     "name": "stdout",
     "output_type": "stream",
     "text": [
      "totalmemor: 7.863190GB\n",
      "availablememory: 5.110210GB\n",
      "usedmemory: 2.75298B\n",
      "percentof used memory: 35.000000\n",
      "freememory:5.110210GB\n"
     ]
    }
   ],
   "source": [
    "# memory checking\n",
    "import psutil\n",
    "from sklearn.model_selection import train_test_split\n",
    "pc_mem =psutil.virtual_memory()\n",
    "div_gb_factor =(1024.0 ** 3)\n",
    "print(\"totalmemor: %fGB\" % float(pc_mem.total/div_gb_factor))\n",
    "print(\"availablememory: %fGB\" % float(pc_mem.available/div_gb_factor))\n",
    "print(\"usedmemory: %GB\" % float(pc_mem.used/div_gb_factor))\n",
    "print(\"percentof used memory: %f\" % float(pc_mem.percent))\n",
    "print(\"freememory:%fGB\" % float(pc_mem.free/div_gb_factor))\n"
   ]
  },
  {
   "cell_type": "code",
   "execution_count": 5,
   "id": "92707319",
   "metadata": {},
   "outputs": [],
   "source": [
    "def year_average(df):\n",
    "    df[\"DATE\"]=df[\"DATE\"]//10000\n",
    "    em=[]\n",
    "    for i in df[\"DATE\"].unique():\n",
    "        take=df[df[\"DATE\"]==i]\n",
    "        em.append(take.mean().values)\n",
    "    rd=pd.DataFrame(em,columns=take.columns)\n",
    "    return rd"
   ]
  },
  {
   "cell_type": "code",
   "execution_count": 6,
   "id": "15527b96",
   "metadata": {},
   "outputs": [],
   "source": [
    "def train_test_loading(train_start_date, test_start_date, train_last=180000, test_last=10000):\n",
    "        \n",
    "    X = pd.concat([Data_input(index=0),Data_input(index=1),Data_input(index=2),\n",
    "                   Data_input(index=3),Data_input(index=4)]).reindex()\n",
    "    train_range = (X['DATE']>=train_start_date)&(X['DATE']<train_start_date+train_last)\n",
    "    test_range = (X['DATE']>=test_start_date)&(X['DATE']<test_start_date+test_last)\n",
    "    X = X.drop(columns=[\"RET\",\"permno\",\"DATE\"]) \n",
    "    \n",
    "    Xtrain = X[train_range]\n",
    "    Xtest = X[test_range]\n",
    "    del X      \n",
    "    gc.collect()\n",
    "\n",
    "    y = pd.concat([Data_input(index=0),Data_input(index=1),Data_input(index=2),\n",
    "                   Data_input(index=3),Data_input(index=4)]).reindex()[\"RET\"]\n",
    "    ytrain = y[train_range]\n",
    "    ytest = y[test_range]\n",
    "\n",
    "    return Xtrain,ytrain,Xtest,ytest"
   ]
  },
  {
   "cell_type": "code",
   "execution_count": 7,
   "id": "0f1d2c28",
   "metadata": {},
   "outputs": [],
   "source": [
    "def marco(train_start_date, test_start_date, train_last=180000, test_last=10000):\n",
    "    mac = pd.read_csv(\"PredictorData2020.csv\")\n",
    "    df = pd.concat([Data_input(index=0),Data_input(index=1),Data_input(index=2),\n",
    "                    Data_input(index=3),Data_input(index=4)], ignore_index=True)[[\"RET\",\"DATE\"]]\n",
    "    train_range = (df['DATE']>=train_start_date)&(df['DATE']<train_start_date+train_last)\n",
    "    test_range = (df['DATE']>=test_start_date)&(df['DATE']<test_start_date+test_last)\n",
    "    df[\"DATE\"] = df[\"DATE\"]//100\n",
    "    df = pd.merge(df, mac, how='left', left_on=['DATE'], right_on=['yyyymm'])\n",
    "\n",
    "    y = df[\"RET\"]\n",
    "    ytrain = y[train_range]\n",
    "    ytest = y[test_range]\n",
    "    Xtrain = df[train_range].drop(columns=[\"RET\",\"DATE\",\"yyyymm\"]) \n",
    "    Xtest = df[test_range].drop(columns=[\"RET\",\"DATE\",\"yyyymm\"]) \n",
    "    return Xtrain,ytrain,Xtest,ytest"
   ]
  },
  {
   "cell_type": "code",
   "execution_count": 1,
   "id": "29e63a34",
   "metadata": {},
   "outputs": [],
   "source": [
    "Xtrain,ytrain,Xtest,ytest = train_test_loading(train_start_date=19570329,test_start_date=19751231)"
   ]
  },
  {
   "cell_type": "code",
   "execution_count": 33,
   "id": "fd39d96a",
   "metadata": {},
   "outputs": [],
   "source": [
    "# Xtrain,ytrain,Xtest,ytest = marco(train_start_date=19570329,test_start_date=19751231)"
   ]
  },
  {
   "cell_type": "markdown",
   "id": "ae520585",
   "metadata": {},
   "source": [
    "## GBDT + H"
   ]
  },
  {
   "cell_type": "code",
   "execution_count": 22,
   "id": "46981900",
   "metadata": {},
   "outputs": [],
   "source": [
    "from sklearn import ensemble\n",
    "from sklearn.metrics import r2_score"
   ]
  },
  {
   "cell_type": "code",
   "execution_count": 23,
   "id": "01999c13",
   "metadata": {},
   "outputs": [],
   "source": [
    "gbr_params = {'n_estimators': 100, 'max_depth': 2,\n",
    "          'random_state': 798, 'loss': 'huber',\n",
    "          'learning_rate': 0.1} # [0.01,0.1]\n",
    "gbr = ensemble.GradientBoostingRegressor(**gbr_params)"
   ]
  },
  {
   "cell_type": "code",
   "execution_count": 24,
   "id": "af700abb",
   "metadata": {},
   "outputs": [
    {
     "data": {
      "text/plain": [
       "GradientBoostingRegressor(loss='huber', max_depth=2, random_state=798)"
      ]
     },
     "execution_count": 24,
     "metadata": {},
     "output_type": "execute_result"
    }
   ],
   "source": [
    "gbr.fit(Xtrain, ytrain)"
   ]
  },
  {
   "cell_type": "code",
   "execution_count": 25,
   "id": "508c7ffb",
   "metadata": {},
   "outputs": [
    {
     "name": "stdout",
     "output_type": "stream",
     "text": [
      "[0.12415923 0.02263499 0.04507239 0.14020959 0.0359207  0.08630777\n",
      " 0.26322209 0.28247323]\n"
     ]
    }
   ],
   "source": [
    " # 输出特征重要性列表\n",
    "print(gbr.feature_importances_)"
   ]
  },
  {
   "cell_type": "code",
   "execution_count": 26,
   "id": "81fa16b8",
   "metadata": {},
   "outputs": [
    {
     "data": {
      "text/plain": [
       "0.1322494199992379"
      ]
     },
     "execution_count": 26,
     "metadata": {},
     "output_type": "execute_result"
    }
   ],
   "source": [
    "r2_score(ytrain,gbr.predict(Xtrain))"
   ]
  },
  {
   "cell_type": "code",
   "execution_count": 27,
   "id": "cdf120b8",
   "metadata": {},
   "outputs": [
    {
     "data": {
      "text/plain": [
       "-0.009043848950333278"
      ]
     },
     "execution_count": 27,
     "metadata": {},
     "output_type": "execute_result"
    }
   ],
   "source": [
    "r2_score(ytest,gbr.predict(Xtest))"
   ]
  },
  {
   "cell_type": "markdown",
   "id": "150cbb8e",
   "metadata": {},
   "source": [
    "## RF"
   ]
  },
  {
   "cell_type": "code",
   "execution_count": 28,
   "id": "f5ebd728",
   "metadata": {},
   "outputs": [],
   "source": [
    "rf_params = {'n_estimators': 300, 'max_depth': 5,\n",
    "          'random_state': 788, 'max_features': 3} # [3,5,10,20,30,50]\n",
    "rf = ensemble.RandomForestRegressor(**rf_params)"
   ]
  },
  {
   "cell_type": "code",
   "execution_count": 29,
   "id": "fce3340a",
   "metadata": {
    "scrolled": false
   },
   "outputs": [
    {
     "data": {
      "text/plain": [
       "RandomForestRegressor(max_depth=5, max_features=3, n_estimators=300,\n",
       "                      random_state=788)"
      ]
     },
     "execution_count": 29,
     "metadata": {},
     "output_type": "execute_result"
    }
   ],
   "source": [
    "rf.fit(Xtrain, ytrain)"
   ]
  },
  {
   "cell_type": "code",
   "execution_count": 30,
   "id": "305e5cb4",
   "metadata": {},
   "outputs": [
    {
     "name": "stdout",
     "output_type": "stream",
     "text": [
      "[0.10288811 0.04741552 0.08398244 0.14713295 0.05793168 0.08737084\n",
      " 0.23750977 0.2357687 ]\n"
     ]
    }
   ],
   "source": [
    " # 输出特征重要性列表\n",
    "print(rf.feature_importances_)"
   ]
  },
  {
   "cell_type": "code",
   "execution_count": 31,
   "id": "f67946d2",
   "metadata": {},
   "outputs": [
    {
     "data": {
      "text/plain": [
       "0.12708513204871985"
      ]
     },
     "execution_count": 31,
     "metadata": {},
     "output_type": "execute_result"
    }
   ],
   "source": [
    "r2_score(ytrain,rf.predict(Xtrain))"
   ]
  },
  {
   "cell_type": "code",
   "execution_count": 32,
   "id": "5bb88f57",
   "metadata": {},
   "outputs": [
    {
     "data": {
      "text/plain": [
       "-0.028323070908788717"
      ]
     },
     "execution_count": 32,
     "metadata": {},
     "output_type": "execute_result"
    }
   ],
   "source": [
    "r2_score(ytest,rf.predict(Xtest))"
   ]
  },
  {
   "cell_type": "markdown",
   "id": "c03cd2a0",
   "metadata": {},
   "source": [
    "## NN"
   ]
  },
  {
   "cell_type": "code",
   "execution_count": 7,
   "id": "5032f562",
   "metadata": {},
   "outputs": [],
   "source": [
    "import tensorflow as tf\n",
    "from tensorflow.keras.models import Sequential \n",
    "from tensorflow.keras.layers import Dense\n",
    "from tensorflow.keras import optimizers\n",
    "from tensorflow.keras import regularizers\n",
    "from tensorflow.keras.callbacks import EarlyStopping\n",
    "from tensorflow.keras.callbacks import ModelCheckpoint\n",
    "from tensorflow.keras.layers import BatchNormalization\n",
    "from tensorflow.keras.models import load_model"
   ]
  },
  {
   "cell_type": "markdown",
   "id": "47bdf23e",
   "metadata": {},
   "source": [
    "If we want to train a NN with **one layer**, input ***model_name = NN1*** and keep only one Dense layer in the below cell."
   ]
  },
  {
   "cell_type": "code",
   "execution_count": 8,
   "id": "0b3e40c7",
   "metadata": {},
   "outputs": [],
   "source": [
    "# parameter of NN\n",
    "n_hidden_1 = 32 # NN of hidden layer 1 \n",
    "n_hidden_2 = 16 # NN of hidden layer 2\n",
    "n_hidden_3 = 8 # NN of hidden layer 3\n",
    "n_hidden_4 = 4 # NN of hidden layer 4\n",
    "n_hidden_5 = 2 # NN of hidden layer 5\n",
    "n_input = 8 # features input layer, if marco then 8\n",
    "l1_lambda = 1e-5 # Lambda value of l1 regulation\n",
    "lr = 0.001 # learning rate\n",
    "decay = 1e-7 # learning rate decreseing unit "
   ]
  },
  {
   "cell_type": "code",
   "execution_count": 9,
   "id": "3e19dbd6",
   "metadata": {},
   "outputs": [],
   "source": [
    "import tensorflow.keras.backend as K\n",
    "def r2(y_true, y_pred):\n",
    "    a = K.square(y_pred - y_true)\n",
    "    b = K.sum(a)\n",
    "    c = K.mean(y_true)\n",
    "    d = K.square(y_true - c)\n",
    "    e = K.sum(d)\n",
    "    f = 1 - b/e\n",
    "    return f"
   ]
  },
  {
   "cell_type": "code",
   "execution_count": 10,
   "id": "59bf6940",
   "metadata": {
    "scrolled": true
   },
   "outputs": [],
   "source": [
    "# Create model\n",
    "def NN_model_create(n_layer):\n",
    "    model = Sequential()\n",
    "\n",
    "    # Layer 1\n",
    "    if n_layer>=1:\n",
    "        model.add(Dense(n_hidden_1, activation='relu', input_dim=n_input, \n",
    "                    kernel_initializer='random_uniform', kernel_regularizer=regularizers.l1(l1_lambda)))\n",
    "        model.add(BatchNormalization())\n",
    "    \n",
    "    # Layer 2\n",
    "    if n_layer>=2:\n",
    "        model.add(Dense(n_hidden_2, activation='relu',kernel_regularizer=regularizers.l1(l1_lambda))) \n",
    "        model.add(BatchNormalization())\n",
    "\n",
    "    # Layer 3\n",
    "    if n_layer>=3:\n",
    "        model.add(Dense(n_hidden_3, activation='relu',kernel_regularizer=regularizers.l1(l1_lambda))) \n",
    "        model.add(BatchNormalization())\n",
    "\n",
    "    # Layer 4\n",
    "    if n_layer>=4:\n",
    "        model.add(Dense(n_hidden_4, activation='relu',kernel_regularizer=regularizers.l1(l1_lambda))) \n",
    "        model.add(BatchNormalization())\n",
    "\n",
    "    # Layer 5\n",
    "    if n_layer>=5:\n",
    "        model.add(Dense(n_hidden_5, activation='relu',kernel_regularizer=regularizers.l1(l1_lambda))) \n",
    "        model.add(BatchNormalization())\n",
    "\n",
    "    # Layer output\n",
    "    model.add(Dense(1))\n",
    "\n",
    "    # Model additional setting\n",
    "    adam = optimizers.Adam(lr=lr, decay=decay)\n",
    "    model.compile(loss='mse', optimizer=adam, metrics=[r2])\n",
    "    model.summary()\n",
    "    model_name = 'NN' + str(n_layer)\n",
    "    return model, model_name"
   ]
  },
  {
   "cell_type": "code",
   "execution_count": 96,
   "id": "d8f94ac0",
   "metadata": {
    "scrolled": true
   },
   "outputs": [
    {
     "name": "stdout",
     "output_type": "stream",
     "text": [
      "Model: \"sequential_15\"\n",
      "_________________________________________________________________\n",
      "Layer (type)                 Output Shape              Param #   \n",
      "=================================================================\n",
      "dense_31 (Dense)             (None, 32)                288       \n",
      "_________________________________________________________________\n",
      "batch_normalization_16 (Batc (None, 32)                128       \n",
      "_________________________________________________________________\n",
      "dense_32 (Dense)             (None, 16)                528       \n",
      "_________________________________________________________________\n",
      "batch_normalization_17 (Batc (None, 16)                64        \n",
      "_________________________________________________________________\n",
      "dense_33 (Dense)             (None, 1)                 17        \n",
      "=================================================================\n",
      "Total params: 1,025\n",
      "Trainable params: 929\n",
      "Non-trainable params: 96\n",
      "_________________________________________________________________\n",
      "WARNING:tensorflow:Falling back from v2 loop because of error: Failed to find data adapter that can handle input: <class 'pandas.core.frame.DataFrame'>, <class 'NoneType'>\n",
      "Train on 773741 samples, validate on 84623 samples\n",
      "Epoch 1/100\n",
      "773741/773741 [==============================] - 2s 2us/sample - loss: 0.0447 - r2: -1.3069 - val_loss: 0.0359 - val_r2: -0.0062\n",
      "Epoch 2/100\n",
      "773741/773741 [==============================] - 2s 2us/sample - loss: 0.0189 - r2: 0.0571 - val_loss: 0.0357 - val_r2: 2.3279e-05\n",
      "Epoch 3/100\n",
      "773741/773741 [==============================] - 2s 2us/sample - loss: 0.0188 - r2: 0.0645 - val_loss: 0.0361 - val_r2: -0.0140\n",
      "Epoch 4/100\n",
      "773741/773741 [==============================] - 1s 2us/sample - loss: 0.0187 - r2: 0.0689 - val_loss: 0.0375 - val_r2: -0.0592\n",
      "Epoch 5/100\n",
      "773741/773741 [==============================] - 2s 2us/sample - loss: 0.0186 - r2: 0.0720 - val_loss: 0.0469 - val_r2: -0.3454\n",
      "Epoch 6/100\n",
      "773741/773741 [==============================] - 1s 2us/sample - loss: 0.0185 - r2: 0.0745 - val_loss: 0.0407 - val_r2: -0.1645\n",
      "Epoch 7/100\n",
      "773741/773741 [==============================] - 1s 2us/sample - loss: 0.0185 - r2: 0.0772 - val_loss: 0.0396 - val_r2: -0.1265\n",
      "Epoch 8/100\n",
      "773741/773741 [==============================] - 2s 2us/sample - loss: 0.0184 - r2: 0.0789 - val_loss: 0.0370 - val_r2: -0.0471\n",
      "Epoch 9/100\n",
      "773741/773741 [==============================] - 1s 2us/sample - loss: 0.0184 - r2: 0.0792 - val_loss: 0.0400 - val_r2: -0.1382\n",
      "Epoch 10/100\n",
      "773741/773741 [==============================] - 1s 2us/sample - loss: 0.0183 - r2: 0.0810 - val_loss: 0.0405 - val_r2: -0.1548\n",
      "Epoch 11/100\n",
      "773741/773741 [==============================] - 1s 2us/sample - loss: 0.0183 - r2: 0.0816 - val_loss: 0.1404 - val_r2: -3.3117\n",
      "Epoch 12/100\n",
      "773741/773741 [==============================] - 2s 2us/sample - loss: 0.0183 - r2: 0.0827 - val_loss: 0.0532 - val_r2: -0.5384\n"
     ]
    },
    {
     "data": {
      "text/plain": [
       "<tensorflow.python.keras.callbacks.History at 0x188152517c8>"
      ]
     },
     "execution_count": 96,
     "metadata": {},
     "output_type": "execute_result"
    }
   ],
   "source": [
    "np.random.seed(20)\n",
    "# tf.random.set_seed(2)\n",
    "# os.environ['PYTHONHASHSEED'] = str(20)\n",
    "\n",
    "# Model fitting\n",
    "model, model_name = NN_model_create(n_layer=2)\n",
    "early_stopping = EarlyStopping(monitor='val_r2', patience=10, mode='max')\n",
    "checkpoint = ModelCheckpoint('./model/'+model_name+' best.h5', monitor='val_loss',verbose=0, \n",
    "                            save_best_only=True)\n",
    "\n",
    "model.fit(Xtrain, ytrain, validation_data =(Xtest,ytest), shuffle=True,\n",
    "          batch_size=10000, epochs=100,callbacks=[early_stopping,checkpoint])"
   ]
  },
  {
   "cell_type": "markdown",
   "id": "1bcfefab",
   "metadata": {},
   "source": [
    "Here we use the **checkpoint** to save the best model of each NN, in case of **over-fitting**."
   ]
  },
  {
   "cell_type": "code",
   "execution_count": 49,
   "id": "1de418e8",
   "metadata": {},
   "outputs": [],
   "source": [
    "# model loading ,self-defined one or the checkpoint one (if you need it)\n",
    "\n",
    "# model = load_model('./model/'+model_name+'.h5',custom_objects={'r2': r2})\n",
    "model = load_model('./model/'+model_name+' best.h5',custom_objects={'r2': r2})"
   ]
  },
  {
   "cell_type": "code",
   "execution_count": 23,
   "id": "990ea2f4",
   "metadata": {},
   "outputs": [
    {
     "name": "stdout",
     "output_type": "stream",
     "text": [
      "WARNING:tensorflow:Falling back from v2 loop because of error: Failed to find data adapter that can handle input: <class 'pandas.core.frame.DataFrame'>, <class 'NoneType'>\n",
      "WARNING:tensorflow:Falling back from v2 loop because of error: Failed to find data adapter that can handle input: <class 'pandas.core.frame.DataFrame'>, <class 'NoneType'>\n",
      "R2 in sample is -0.3646825505129263\n",
      "R2 out of sample is -6.244869314154177\n"
     ]
    }
   ],
   "source": [
    "# Model scoring\n",
    "pred_test_y = model.predict(Xtest)\n",
    "R2_IS = r2_score(ytrain, model.predict(Xtrain))\n",
    "R2_OOS = r2_score(ytest, pred_test_y)\n",
    "print('R2 in sample is',R2_IS)\n",
    "print('R2 out of sample is',R2_OOS)"
   ]
  },
  {
   "cell_type": "code",
   "execution_count": 24,
   "id": "769534f3",
   "metadata": {},
   "outputs": [
    {
     "data": {
      "image/png": "[encoded data removed]",
      "text/plain": [
       "<Figure size 640x320 with 1 Axes>"
      ]
     },
     "metadata": {
      "needs_background": "light"
     },
     "output_type": "display_data"
    }
   ],
   "source": [
    "# Plot out fitting result\n",
    "import matplotlib.pyplot as plt\n",
    "\n",
    "plt.rcParams['font.sans-serif'] = ['SimHei']\n",
    "plt.rcParams['axes.unicode_minus'] = False\n",
    "\n",
    "# set the fugure shape\n",
    "plt.figure(figsize=(8, 4), dpi=80)\n",
    "plt.plot(range(len(ytest)), ytest, ls='-.',lw=2,c='r',label='real')\n",
    "plt.plot(range(len(pred_test_y)), pred_test_y, ls=':',lw=2,c='b',label='estimation')\n",
    "\n",
    "# draw the grid\n",
    "plt.grid(alpha=0.4, linestyle=':')\n",
    "plt.legend()\n",
    "plt.xlabel('Sample number') #设置x轴的标签文本\n",
    "plt.ylabel('Monthly Return') #设置y轴的标签文本\n",
    "\n",
    "# figure save and show\n",
    "plt.savefig('./figure/'+ model_name +'fitting result.jpg')\n",
    "plt.show()"
   ]
  },
  {
   "cell_type": "code",
   "execution_count": 74,
   "id": "aa793437",
   "metadata": {},
   "outputs": [],
   "source": [
    "# if the model is good enough, save it\n",
    "model.save('./model/'+model_name+'.h5')"
   ]
  },
  {
   "cell_type": "markdown",
   "id": "8e33fa91",
   "metadata": {},
   "source": [
    "## Recrsive"
   ]
  },
  {
   "cell_type": "code",
   "execution_count": 11,
   "id": "650e9d0e",
   "metadata": {},
   "outputs": [],
   "source": [
    "def nn_importance(model, n_variable=98):\n",
    "    zero_nn = model.predict(np.zeros((1,n_variable)))\n",
    "    eye = np.identity(n_variable)\n",
    "    feature_importance = model.predict(eye)\n",
    "    feature_importance = abs(feature_importance - zero_nn)\n",
    "    feature_importance = feature_importance/feature_importance.sum()\n",
    "    return feature_importance"
   ]
  },
  {
   "cell_type": "code",
   "execution_count": 12,
   "id": "5b0b8aaa",
   "metadata": {},
   "outputs": [],
   "source": [
    "def importance_ranking(importance_vec, Xtrain, impor):\n",
    "    \n",
    "    s=pd.Series(importance_vec,index=Xtrain.columns)\n",
    "    s=s.sort_values()\n",
    "    rank=pd.DataFrame(range(len(s)),index=s.index)\n",
    "    table=pd.concat([rank,pd.DataFrame(s.index,index=s.index)],axis=1)\n",
    "    table.index=range(len(s))\n",
    "    table.columns=[\"rank\",\"feature\"]\n",
    "    impor.append(table)\n",
    "    return impor"
   ]
  },
  {
   "cell_type": "code",
   "execution_count": 31,
   "id": "8d6d5738",
   "metadata": {},
   "outputs": [
    {
     "name": "stdout",
     "output_type": "stream",
     "text": [
      "Model: \"sequential_6\"\n",
      "_________________________________________________________________\n",
      "Layer (type)                 Output Shape              Param #   \n",
      "=================================================================\n",
      "dense_24 (Dense)             (None, 32)                288       \n",
      "_________________________________________________________________\n",
      "batch_normalization_18 (Batc (None, 32)                128       \n",
      "_________________________________________________________________\n",
      "dense_25 (Dense)             (None, 16)                528       \n",
      "_________________________________________________________________\n",
      "batch_normalization_19 (Batc (None, 16)                64        \n",
      "_________________________________________________________________\n",
      "dense_26 (Dense)             (None, 8)                 136       \n",
      "_________________________________________________________________\n",
      "batch_normalization_20 (Batc (None, 8)                 32        \n",
      "_________________________________________________________________\n",
      "dense_27 (Dense)             (None, 4)                 36        \n",
      "_________________________________________________________________\n",
      "batch_normalization_21 (Batc (None, 4)                 16        \n",
      "_________________________________________________________________\n",
      "dense_28 (Dense)             (None, 2)                 10        \n",
      "_________________________________________________________________\n",
      "batch_normalization_22 (Batc (None, 2)                 8         \n",
      "_________________________________________________________________\n",
      "dense_29 (Dense)             (None, 1)                 3         \n",
      "=================================================================\n",
      "Total params: 1,249\n",
      "Trainable params: 1,125\n",
      "Non-trainable params: 124\n",
      "_________________________________________________________________\n",
      "WARNING:tensorflow:Falling back from v2 loop because of error: Failed to find data adapter that can handle input: <class 'pandas.core.frame.DataFrame'>, <class 'NoneType'>\n",
      "Train on 773741 samples, validate on 84623 samples\n",
      "Epoch 1/100\n",
      "773741/773741 [==============================] - 4s 6us/sample - loss: 0.5629 - r2: -28.4324 - val_loss: 0.0381 - val_r2: -0.0591\n",
      "Epoch 2/100\n",
      "773741/773741 [==============================] - 3s 4us/sample - loss: 0.0963 - r2: -3.9552 - val_loss: 0.0445 - val_r2: -0.2627\n",
      "Epoch 3/100\n",
      "773741/773741 [==============================] - 3s 4us/sample - loss: 0.0294 - r2: -0.4612 - val_loss: 0.1026 - val_r2: -2.0981\n",
      "Epoch 4/100\n",
      "773741/773741 [==============================] - 3s 4us/sample - loss: 0.0214 - r2: -0.0458 - val_loss: 0.2342 - val_r2: -6.0234\n",
      "Epoch 5/100\n",
      "773741/773741 [==============================] - 3s 4us/sample - loss: 0.0201 - r2: 0.0238 - val_loss: 0.2914 - val_r2: -7.7497\n",
      "Epoch 6/100\n",
      "773741/773741 [==============================] - 3s 4us/sample - loss: 0.0197 - r2: 0.0434 - val_loss: 0.0675 - val_r2: -0.9830\n",
      "recursive run : 0\n",
      "WARNING:tensorflow:Falling back from v2 loop because of error: Failed to find data adapter that can handle input: <class 'pandas.core.frame.DataFrame'>, <class 'NoneType'>\n",
      "Train on 773741 samples, validate on 84623 samples\n",
      "Epoch 1/100\n",
      "773741/773741 [==============================] - 4s 5us/sample - loss: 0.0965 - r2: -3.9723 - val_loss: 0.0501 - val_r2: -0.4393\n",
      "Epoch 2/100\n",
      "773741/773741 [==============================] - 3s 4us/sample - loss: 0.0299 - r2: -0.4907 - val_loss: 0.1674 - val_r2: -3.9967\n",
      "Epoch 3/100\n",
      "773741/773741 [==============================] - 3s 4us/sample - loss: 0.0213 - r2: -0.0438 - val_loss: 0.3224 - val_r2: -8.6532\n",
      "Epoch 4/100\n",
      "773741/773741 [==============================] - 3s 4us/sample - loss: 0.0201 - r2: 0.0240 - val_loss: 0.2081 - val_r2: -5.4393\n",
      "Epoch 5/100\n",
      "773741/773741 [==============================] - 3s 4us/sample - loss: 0.0197 - r2: 0.0404 - val_loss: 0.0367 - val_r2: -0.0171\n",
      "Epoch 6/100\n",
      "773741/773741 [==============================] - 3s 4us/sample - loss: 0.0195 - r2: 0.0552 - val_loss: 0.2600 - val_r2: -6.9851\n",
      "Epoch 7/100\n",
      "773741/773741 [==============================] - 3s 4us/sample - loss: 0.0194 - r2: 0.0598 - val_loss: 0.0858 - val_r2: -1.5462\n",
      "Epoch 8/100\n",
      "773741/773741 [==============================] - 3s 4us/sample - loss: 0.0193 - r2: 0.0637 - val_loss: 0.0725 - val_r2: -1.1310\n",
      "Epoch 9/100\n",
      "773741/773741 [==============================] - 3s 4us/sample - loss: 0.0191 - r2: 0.0741 - val_loss: 0.0544 - val_r2: -0.5739\n",
      "Epoch 10/100\n",
      "773741/773741 [==============================] - 3s 4us/sample - loss: 0.0190 - r2: 0.0768 - val_loss: 0.0454 - val_r2: -0.2937\n",
      "recursive run : 1\n"
     ]
    }
   ],
   "source": [
    "# Model recursive rolling and training，for instance NN model\n",
    "im=np.zeros((98,1))\n",
    "model, model_name = NN_model_create(n_layer=1) # Set nn_layer from 1 to 5\n",
    "early_stopping = EarlyStopping(monitor='val_r2', patience=10, mode='max')\n",
    "checkpoint = ModelCheckpoint('./model/'+model_name+' best.h5', monitor='val_loss',verbose=0, save_best_only=True)\n",
    "for t in range(3):\n",
    "    Xtrain,ytrain,Xtest,ytest = train_test_loading(train_start_date=19570329,test_start_date=19571231+10000*(30+t),\n",
    "                                                   train_last=(18+t)*10000, test_last=10000)\n",
    "#     Xtrain,ytrain,Xtest,ytest = marco(train_start_date=19570329,test_start_date=19571231+10000*(30+t),\n",
    "#                                       train_last=(18+t)*10000, test_last=10000)\n",
    "    ##NN1\n",
    "    model.fit(Xtrain, ytrain, validation_data =(Xtest,ytest), shuffle=True,\n",
    "              batch_size=10000, epochs=100,callbacks=[early_stopping,checkpoint])\n",
    "    model = load_model('./model/'+model_name+' best.h5',custom_objects={'r2': r2})\n",
    "    im = im + nn_importance(model,n_variable=98)\n",
    "    print(\"recursive run :\", t)\n",
    "    "
   ]
  },
  {
   "cell_type": "code",
   "execution_count": 32,
   "id": "fb1adb37",
   "metadata": {},
   "outputs": [],
   "source": [
    "from sklearn import preprocessing\n",
    "# im = preprocessing.scale(rf.feature_importances_)\n",
    "hp['nn5'] = (im-min(im))"
   ]
  },
  {
   "cell_type": "markdown",
   "id": "2d686440",
   "metadata": {},
   "source": [
    "I need to load the **variables importance** of the other models from csv"
   ]
  },
  {
   "cell_type": "code",
   "execution_count": 33,
   "id": "22fdf76e",
   "metadata": {},
   "outputs": [],
   "source": [
    "# hp.to_csv(\"hp3.csv\")"
   ]
  },
  {
   "cell_type": "code",
   "execution_count": 13,
   "id": "f1a801c4",
   "metadata": {},
   "outputs": [],
   "source": [
    "# hp=pd.read_csv(\"hp3.csv\",index_col=0)"
   ]
  },
  {
   "cell_type": "code",
   "execution_count": 34,
   "id": "07263717",
   "metadata": {},
   "outputs": [
    {
     "data": {
      "text/html": [
       "<div>\n",
       "<style scoped>\n",
       "    .dataframe tbody tr th:only-of-type {\n",
       "        vertical-align: middle;\n",
       "    }\n",
       "\n",
       "    .dataframe tbody tr th {\n",
       "        vertical-align: top;\n",
       "    }\n",
       "\n",
       "    .dataframe thead th {\n",
       "        text-align: right;\n",
       "    }\n",
       "</style>\n",
       "<table border=\"1\" class=\"dataframe\">\n",
       "  <thead>\n",
       "    <tr style=\"text-align: right;\">\n",
       "      <th></th>\n",
       "      <th>OLS</th>\n",
       "      <th>OLS+H</th>\n",
       "      <th>PLS</th>\n",
       "      <th>ENet</th>\n",
       "      <th>gbdt+H</th>\n",
       "      <th>rf</th>\n",
       "      <th>nn1</th>\n",
       "      <th>nn2</th>\n",
       "      <th>nn3</th>\n",
       "      <th>nn4</th>\n",
       "      <th>nn5</th>\n",
       "    </tr>\n",
       "  </thead>\n",
       "  <tbody>\n",
       "    <tr>\n",
       "      <th>dp</th>\n",
       "      <td>0.411290</td>\n",
       "      <td>0.197802</td>\n",
       "      <td>1.000000</td>\n",
       "      <td>1.000000</td>\n",
       "      <td>0.390721</td>\n",
       "      <td>0.291816</td>\n",
       "      <td>0.291816</td>\n",
       "      <td>0.361253</td>\n",
       "      <td>0.450784</td>\n",
       "      <td>0.249310</td>\n",
       "      <td>0.360764</td>\n",
       "    </tr>\n",
       "    <tr>\n",
       "      <th>ep</th>\n",
       "      <td>1.000000</td>\n",
       "      <td>0.912088</td>\n",
       "      <td>0.958824</td>\n",
       "      <td>0.857143</td>\n",
       "      <td>0.000000</td>\n",
       "      <td>0.000000</td>\n",
       "      <td>0.000000</td>\n",
       "      <td>0.000000</td>\n",
       "      <td>0.154558</td>\n",
       "      <td>0.335837</td>\n",
       "      <td>0.377334</td>\n",
       "    </tr>\n",
       "    <tr>\n",
       "      <th>bm</th>\n",
       "      <td>0.274194</td>\n",
       "      <td>0.000000</td>\n",
       "      <td>0.735294</td>\n",
       "      <td>0.714286</td>\n",
       "      <td>0.086351</td>\n",
       "      <td>0.192362</td>\n",
       "      <td>0.192362</td>\n",
       "      <td>0.699946</td>\n",
       "      <td>0.249814</td>\n",
       "      <td>0.083646</td>\n",
       "      <td>0.865867</td>\n",
       "    </tr>\n",
       "    <tr>\n",
       "      <th>ntis</th>\n",
       "      <td>0.258065</td>\n",
       "      <td>0.505495</td>\n",
       "      <td>0.282353</td>\n",
       "      <td>0.571429</td>\n",
       "      <td>0.452492</td>\n",
       "      <td>0.524568</td>\n",
       "      <td>0.524568</td>\n",
       "      <td>1.000000</td>\n",
       "      <td>0.181941</td>\n",
       "      <td>0.160272</td>\n",
       "      <td>0.223841</td>\n",
       "    </tr>\n",
       "    <tr>\n",
       "      <th>tbl</th>\n",
       "      <td>0.032258</td>\n",
       "      <td>0.076923</td>\n",
       "      <td>0.464706</td>\n",
       "      <td>0.428571</td>\n",
       "      <td>0.051131</td>\n",
       "      <td>0.055321</td>\n",
       "      <td>0.055321</td>\n",
       "      <td>0.880065</td>\n",
       "      <td>0.000000</td>\n",
       "      <td>0.000000</td>\n",
       "      <td>0.278798</td>\n",
       "    </tr>\n",
       "    <tr>\n",
       "      <th>tms</th>\n",
       "      <td>0.895161</td>\n",
       "      <td>1.000000</td>\n",
       "      <td>0.394118</td>\n",
       "      <td>0.285714</td>\n",
       "      <td>0.245048</td>\n",
       "      <td>0.210187</td>\n",
       "      <td>0.210187</td>\n",
       "      <td>0.577314</td>\n",
       "      <td>0.730449</td>\n",
       "      <td>0.769256</td>\n",
       "      <td>0.000000</td>\n",
       "    </tr>\n",
       "    <tr>\n",
       "      <th>dfy</th>\n",
       "      <td>0.096774</td>\n",
       "      <td>0.351648</td>\n",
       "      <td>0.258824</td>\n",
       "      <td>0.142857</td>\n",
       "      <td>0.925911</td>\n",
       "      <td>1.000000</td>\n",
       "      <td>1.000000</td>\n",
       "      <td>0.512131</td>\n",
       "      <td>1.000000</td>\n",
       "      <td>1.000000</td>\n",
       "      <td>0.075382</td>\n",
       "    </tr>\n",
       "    <tr>\n",
       "      <th>svar</th>\n",
       "      <td>0.000000</td>\n",
       "      <td>0.208791</td>\n",
       "      <td>0.000000</td>\n",
       "      <td>0.000000</td>\n",
       "      <td>1.000000</td>\n",
       "      <td>0.990841</td>\n",
       "      <td>0.990841</td>\n",
       "      <td>0.760975</td>\n",
       "      <td>0.663929</td>\n",
       "      <td>0.042235</td>\n",
       "      <td>1.000000</td>\n",
       "    </tr>\n",
       "  </tbody>\n",
       "</table>\n",
       "</div>"
      ],
      "text/plain": [
       "           OLS     OLS+H       PLS      ENet    gbdt+H        rf       nn1  \\\n",
       "dp    0.411290  0.197802  1.000000  1.000000  0.390721  0.291816  0.291816   \n",
       "ep    1.000000  0.912088  0.958824  0.857143  0.000000  0.000000  0.000000   \n",
       "bm    0.274194  0.000000  0.735294  0.714286  0.086351  0.192362  0.192362   \n",
       "ntis  0.258065  0.505495  0.282353  0.571429  0.452492  0.524568  0.524568   \n",
       "tbl   0.032258  0.076923  0.464706  0.428571  0.051131  0.055321  0.055321   \n",
       "tms   0.895161  1.000000  0.394118  0.285714  0.245048  0.210187  0.210187   \n",
       "dfy   0.096774  0.351648  0.258824  0.142857  0.925911  1.000000  1.000000   \n",
       "svar  0.000000  0.208791  0.000000  0.000000  1.000000  0.990841  0.990841   \n",
       "\n",
       "           nn2       nn3       nn4       nn5  \n",
       "dp    0.361253  0.450784  0.249310  0.360764  \n",
       "ep    0.000000  0.154558  0.335837  0.377334  \n",
       "bm    0.699946  0.249814  0.083646  0.865867  \n",
       "ntis  1.000000  0.181941  0.160272  0.223841  \n",
       "tbl   0.880065  0.000000  0.000000  0.278798  \n",
       "tms   0.577314  0.730449  0.769256  0.000000  \n",
       "dfy   0.512131  1.000000  1.000000  0.075382  \n",
       "svar  0.760975  0.663929  0.042235  1.000000  "
      ]
     },
     "execution_count": 34,
     "metadata": {},
     "output_type": "execute_result"
    }
   ],
   "source": [
    "hp/(hp.max(axis=0)-hp.min(axis=0))"
   ]
  },
  {
   "cell_type": "code",
   "execution_count": 37,
   "id": "16fa7544",
   "metadata": {},
   "outputs": [
    {
     "data": {
      "image/png": "[encoded data removed]",
      "text/plain": [
       "<Figure size 4000x800 with 2 Axes>"
      ]
     },
     "metadata": {
      "needs_background": "light"
     },
     "output_type": "display_data"
    }
   ],
   "source": [
    "import matplotlib.pyplot as plt\n",
    "import seaborn as sns\n",
    "plt.subplots(figsize=(10,2))\n",
    "sns.heatmap(hp/(hp.max(axis=0)-hp.min(axis=0)), annot=False, vmax=1, square=False, cmap=\"Blues\",linecolor='white')\n",
    "plt.rcParams['savefig.dpi'] = 300 #图片像素\n",
    "plt.rcParams['figure.dpi'] = 400 #分辨率\n",
    "plt.savefig('./figure/Marco importance.jpg')\n",
    "plt.show()"
   ]
  },
  {
   "cell_type": "code",
   "execution_count": null,
   "id": "d91ebd86",
   "metadata": {},
   "outputs": [],
   "source": []
  }
 ],
 "metadata": {
  "kernelspec": {
   "display_name": "Python 3 (ipykernel)",
   "language": "python",
   "name": "python3"
  },
  "language_info": {
   "codemirror_mode": {
    "name": "ipython",
    "version": 3
   },
   "file_extension": ".py",
   "mimetype": "text/x-python",
   "name": "python",
   "nbconvert_exporter": "python",
   "pygments_lexer": "ipython3",
   "version": "3.7.11"
  },
  "latex_envs": {
   "LaTeX_envs_menu_present": true,
   "autoclose": true,
   "autocomplete": true,
   "bibliofile": "biblio.bib",
   "cite_by": "apalike",
   "current_citInitial": 1,
   "eqLabelWithNumbers": true,
   "eqNumInitial": 1,
   "hotkeys": {
    "equation": "Ctrl-E",
    "itemize": "Ctrl-I"
   },
   "labels_anchors": false,
   "latex_user_defs": false,
   "report_style_numbering": false,
   "user_envs_cfg": false
  }
 },
 "nbformat": 4,
 "nbformat_minor": 5
}
