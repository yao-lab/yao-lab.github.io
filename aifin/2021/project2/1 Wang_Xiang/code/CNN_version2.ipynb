{
 "cells": [
  {
   "cell_type": "code",
   "execution_count": 6,
   "metadata": {
    "colab": {
     "base_uri": "https://localhost:8080/",
     "height": 35
    },
    "id": "HP2-RdQ9LjQ5",
    "outputId": "decf4858-fc3b-4e73-e570-dfa44f9ddbc0"
   },
   "outputs": [
    {
     "data": {
      "text/plain": [
       "'from google.colab import drive\\ndrive.mount(\\'/content/drive\\')\\n!ls \"/content/drive/My Drive/Colab Notebooks/monthly_20d\"\\n'"
      ]
     },
     "execution_count": 6,
     "metadata": {},
     "output_type": "execute_result"
    }
   ],
   "source": [
    "'''from google.colab import drive\n",
    "drive.mount('/content/drive')\n",
    "!ls \"/content/drive/My Drive/Colab Notebooks/monthly_20d\"\n",
    "'''"
   ]
  },
  {
   "cell_type": "code",
   "execution_count": 7,
   "metadata": {
    "colab": {
     "base_uri": "https://localhost:8080/"
    },
    "id": "1ezmIWHYa5lS",
    "outputId": "be50a63a-4dcd-4f3e-f844-bfe0897f7ff0"
   },
   "outputs": [
    {
     "data": {
      "text/plain": [
       "[name: \"/device:CPU:0\"\n",
       " device_type: \"CPU\"\n",
       " memory_limit: 268435456\n",
       " locality {\n",
       " }\n",
       " incarnation: 14507771219749973033]"
      ]
     },
     "execution_count": 7,
     "metadata": {},
     "output_type": "execute_result"
    }
   ],
   "source": [
    "from tensorflow.python.client import device_lib\n",
    "device_lib.list_local_devices()"
   ]
  },
  {
   "cell_type": "code",
   "execution_count": 8,
   "metadata": {
    "colab": {
     "base_uri": "https://localhost:8080/",
     "height": 35
    },
    "id": "FQMUqiRYb4S3",
    "outputId": "aa2487bb-c268-42f2-ee7f-6946e6b3417b"
   },
   "outputs": [
    {
     "data": {
      "text/plain": [
       "''"
      ]
     },
     "execution_count": 8,
     "metadata": {},
     "output_type": "execute_result"
    }
   ],
   "source": [
    "import tensorflow as tf\n",
    "tf.test.gpu_device_name()"
   ]
  },
  {
   "cell_type": "code",
   "execution_count": 9,
   "metadata": {
    "id": "utdFF2ncQS6p"
   },
   "outputs": [],
   "source": [
    "import pandas as pd"
   ]
  },
  {
   "cell_type": "code",
   "execution_count": 10,
   "metadata": {
    "id": "9MGPc0-nL5OK"
   },
   "outputs": [],
   "source": [
    "import pandas as pd\n",
    "import numpy as np\n",
    "import os.path as op\n",
    "import os\n",
    "\n",
    "from sklearn.metrics import confusion_matrix, classification_report, cohen_kappa_score\n",
    "\n",
    "IMAGE_WIDTH = {5: 15, 20: 60, 60: 180}\n",
    "IMAGE_HEIGHT = {5: 32, 20: 64, 60: 96}  "
   ]
  },
  {
   "cell_type": "code",
   "execution_count": 11,
   "metadata": {
    "colab": {
     "base_uri": "https://localhost:8080/"
    },
    "id": "znxtjIV-MSPE",
    "outputId": "a2dbaa02-9f6f-4119-fa9a-5493efab6f75"
   },
   "outputs": [
    {
     "name": "stdout",
     "output_type": "stream",
     "text": [
      "(694871, 64, 60)\n"
     ]
    }
   ],
   "source": [
    "images_dev = np.memmap(op.join(\"monthly_20d\", f\"20d_month_has_vb_[20]_ma_{1993}_images.dat\"), \n",
    "                         dtype=np.uint8, mode='r').\\\n",
    "                        reshape((-1, IMAGE_HEIGHT[20], IMAGE_WIDTH[20]))\n",
    "for year in range(1994, 2000):\n",
    "    images_dev = np.concatenate((images_dev, \n",
    "                                   np.memmap(op.join(\"monthly_20d\", \n",
    "                                                     f\"20d_month_has_vb_[20]_ma_{year}_images.dat\"), \n",
    "                                                         dtype=np.uint8, mode='r').\\\n",
    "                                   reshape((-1, IMAGE_HEIGHT[20], IMAGE_WIDTH[20])) \n",
    "                                                         ))\n",
    "print(images_dev.shape)"
   ]
  },
  {
   "cell_type": "code",
   "execution_count": 12,
   "metadata": {
    "colab": {
     "base_uri": "https://localhost:8080/"
    },
    "id": "zNgllJ34a1PH",
    "outputId": "eacac9df-bb52-4b9f-8d90-d5fbb4072800"
   },
   "outputs": [
    {
     "name": "stdout",
     "output_type": "stream",
     "text": [
      "(1403975, 64, 60)\n"
     ]
    }
   ],
   "source": [
    "images_valid = np.memmap(op.join(\"monthly_20d\", f\"20d_month_has_vb_[20]_ma_{2001}_images.dat\"), \n",
    "                         dtype=np.uint8, mode='r').\\\n",
    "                        reshape((-1, IMAGE_HEIGHT[20], IMAGE_WIDTH[20]))\n",
    "for year in range(2002, 2020):\n",
    "    images_valid = np.concatenate((images_valid, \n",
    "                                   np.memmap(op.join(\"monthly_20d\", \n",
    "                                                     f\"20d_month_has_vb_[20]_ma_{year}_images.dat\"), \n",
    "                                                         dtype=np.uint8, mode='r').\\\n",
    "                                   reshape((-1, IMAGE_HEIGHT[20], IMAGE_WIDTH[20])) \n",
    "                                                         ))\n",
    "print(images_valid.shape)\n"
   ]
  },
  {
   "cell_type": "code",
   "execution_count": 13,
   "metadata": {
    "colab": {
     "base_uri": "https://localhost:8080/"
    },
    "id": "CfSUoCr7OGp2",
    "outputId": "fd2807d1-f334-44da-901e-1563b5e5b193"
   },
   "outputs": [
    {
     "name": "stdout",
     "output_type": "stream",
     "text": [
      "(694871, 35) (1403975, 35)\n"
     ]
    }
   ],
   "source": [
    "label_df_dev = pd.read_feather(op.join(\"monthly_20d\", f\"20d_month_has_vb_[20]_ma_{1993}_labels_w_delay.feather\"))\n",
    "for year in range(1994, 2000):\n",
    "    label_df_dev = pd.concat([label_df_dev,\n",
    "                            pd.read_feather(op.join(\"monthly_20d\", f\"20d_month_has_vb_[20]_ma_{year}_labels_w_delay.feather\"))\n",
    "                            ], ignore_index = True)\n",
    "\n",
    "\n",
    "label_df_valid = pd.read_feather(op.join(\"monthly_20d\", f\"20d_month_has_vb_[20]_ma_{2001}_labels_w_delay.feather\"))\n",
    "for year in range(2002, 2020):\n",
    "    label_df_valid = pd.concat([label_df_valid,\n",
    "                            pd.read_feather(op.join(\"monthly_20d\", f\"20d_month_has_vb_[20]_ma_{year}_labels_w_delay.feather\"))\n",
    "                            ], ignore_index = True)\n",
    "\n",
    "print (label_df_dev.shape, label_df_valid.shape)"
   ]
  },
  {
   "cell_type": "code",
   "execution_count": 14,
   "metadata": {
    "id": "wqn6NjkAOjpA"
   },
   "outputs": [],
   "source": [
    "import torch\n",
    "from torch import nn\n",
    "from torch import optim\n",
    "import torch.utils.data as data\n",
    "import torch.nn.functional as F"
   ]
  },
  {
   "cell_type": "code",
   "execution_count": 25,
   "metadata": {
    "id": "lurYvx69OolU"
   },
   "outputs": [],
   "source": [
    "class ConvNet(nn.Module):\n",
    "    def __init__(self, in_features, class_num):\n",
    "        super(ConvNet, self).__init__()\n",
    "        # set size\n",
    "        self.in_features = in_features\n",
    "        self.class_num = class_num \n",
    "        #remove stride because of input size too small\n",
    "        self.conv_1 = nn.Sequential(nn.Conv2d(in_channels=1,\n",
    "                                              out_channels=64,\n",
    "                                              kernel_size=(5,3),\n",
    "                                              stride = (2,1),\n",
    "                                              padding=0,\n",
    "                                              dilation= (2,1),\n",
    "                                              bias=False),\n",
    "                                    nn.LeakyReLU(negative_slope=0.01, inplace=True), #default is 0.01\n",
    "                                    nn.MaxPool2d(kernel_size=(2,1), stride = (1,1)))\n",
    "        self.conv_2 = nn.Sequential(nn.Conv2d(in_channels=64,\n",
    "                                              out_channels=128,\n",
    "                                              kernel_size=(5,3),\n",
    "                                              stride = (2,1),\n",
    "                                              padding=0,\n",
    "#                                               dilation= (2,1),\n",
    "                                              bias=False),\n",
    "                                    nn.LeakyReLU(negative_slope=0.01, inplace=True), #default is 0.01\n",
    "                                    nn.MaxPool2d(kernel_size=(2,1), stride = (1,1)))\n",
    "        self.conv_3 = nn.Sequential(nn.Conv2d(in_channels=128,\n",
    "                                              out_channels=256,\n",
    "                                              kernel_size=(5,3),\n",
    "                                              stride = (2,1),\n",
    "                                              padding=0,\n",
    "#                                               dilation= (2,1),\n",
    "                                              bias=False),\n",
    "                                    nn.LeakyReLU(negative_slope=0.01, inplace=True), #default is 0.01\n",
    "                                    nn.MaxPool2d(kernel_size=(2,1), stride = (1,1)))\n",
    "        self.linear = nn.Linear(in_features=self.in_features, out_features=self.class_num)\n",
    "        self.softm = nn.Softmax(dim=-1) \n",
    "\n",
    "    def forward(self, x):\n",
    "#         print(x.shape, 1)\n",
    "        conv_feat = self.conv_1(x)\n",
    "#         print(conv_feat.shape, 2)            \n",
    "        conv_feat = self.conv_2(conv_feat)\n",
    "#         print(conv_feat.shape, 3) \n",
    "        conv_feat = self.conv_3(conv_feat)\n",
    "#         print(conv_feat.shape, 4)  \n",
    "        conv_feat = conv_feat.view(conv_feat.shape[0], -1)\n",
    "#         print(conv_feat.shape, 5)  \n",
    "#         print (conv_feat)\n",
    "        conv_feat  = self.linear(conv_feat)\n",
    "#         print (conv_feat)\n",
    "\n",
    "#         y = self.softm(conv_feat)\n",
    "        #y = torch.unsqueeze(y, 0)\n",
    "        #print(y) \n",
    "        return conv_feat"
   ]
  },
  {
   "cell_type": "code",
   "execution_count": 16,
   "metadata": {
    "id": "0cJi7nTbOs7m"
   },
   "outputs": [],
   "source": [
    "class SequentialDataLoader(data.Dataset):\n",
    "    def __init__(self, data_tup,\n",
    "            partition='Train'):\n",
    "        super(SequentialDataLoader, self).__init__()\n",
    "        self.data_tup = data_tup\n",
    "        self.X = self.data_tup[0]\n",
    "        self.Y = self.data_tup[1]\n",
    "        self.partition = partition         \n",
    "        \n",
    "        \n",
    "        self.data_len = self.X.shape[0]\n",
    "       \n",
    "\n",
    "    def get_data_element(self,index):\n",
    "        data_element_x = [self.X[index]]\n",
    "        data_element_y = self.Y['Retx_20d_label'][index] \n",
    "        data_element_x = torch.from_numpy(np.asarray(data_element_x)).float()\n",
    "        data_element_y = torch.tensor(np.asarray(data_element_y)).long().view(-1)\n",
    "        #print (data_element_y)\n",
    "        data_element_x = data_element_x\n",
    "        data_element_y = data_element_y\n",
    "\n",
    "        return data_element_x, data_element_y\n",
    "\n",
    "    def __len__(self):\n",
    "        return self.data_len\n",
    "\n",
    "    def __getitem__(self, index):\n",
    "        return self.get_data_element(index)"
   ]
  },
  {
   "cell_type": "code",
   "execution_count": 35,
   "metadata": {
    "id": "OdlPbzpvOvp1"
   },
   "outputs": [],
   "source": [
    "class ModelTrainer(object):\n",
    "    def __init__(self,\n",
    "                dataloader):\n",
    "        \n",
    "        # set encoder and gnn\n",
    "        self.infeatures = 41472\n",
    "        self.model = ConvNet(in_features=self.infeatures, class_num=3)\n",
    "        self.model = torch.nn.DataParallel(self.model, device_ids=[0]).cuda()\n",
    "        cuda_device = 'cuda:'+str(self.model.device_ids[0])\n",
    "        self.model.to(cuda_device)\n",
    "\n",
    "        # get data \n",
    "        self.data_loader = dataloader \n",
    "        \n",
    "        # set optimizer\n",
    "        base_lr = 0.0001\n",
    "        weight_decay = 1e-4\n",
    "#         self.optimizer = optim.SGD(self.model.parameters(), lr=base_lr, momentum=0.9)\n",
    "#         self.optimizer = optim.RMSprop(self.model.parameters(), lr=base_lr, alpha = 0.9)\n",
    "        self.optimizer = optim.Adam(self.model.parameters(), lr=base_lr,betas = (0.9,0.99))\n",
    "\n",
    "\n",
    "\n",
    "        # set loss\n",
    "        self.weights     = [1.0,1.0,0.1]\n",
    "        self.weights     = torch.from_numpy(np.asarray(self.weights)).float().cuda()  \n",
    "        self.criterion   = torch.nn.CrossEntropyLoss(weight=self.weights).cuda()\n",
    "        #self.criterion   = nn.CrossEntropyLoss().cuda()\n",
    "\n",
    "        self.val_acc = 0\n",
    "        self.test_acc = 0\n",
    "\n",
    "    def train(self):\n",
    "        val_acc = self.val_acc\n",
    "\n",
    "        for epoch in range(0, 10):\n",
    "            self.model.train()\n",
    "            for i, (data, target) in enumerate(self.data_loader['train']):\n",
    "#                 print (i)\n",
    "                # init grad\n",
    "                self.optimizer.zero_grad()\n",
    "                data   = data.cuda(non_blocking=True)\n",
    "                target = target.cuda(non_blocking=True).long().contiguous().view(-1)\n",
    "                score  = self.model(data).float()\n",
    "                \n",
    "                #print (score)\n",
    "                #print (target)\n",
    "                loss   = self.criterion(score, target) \n",
    "                \n",
    "                loss.backward()\n",
    "                self.optimizer.step()\n",
    "\n",
    "            # evaluation\n",
    "            \n",
    "            train_acc = self.eval(epoch,partition='train')            \n",
    "            val_acc = self.eval(epoch,partition='test')\n",
    "            \n",
    "#             print('Loss: '+str(loss))\n",
    "            \n",
    "            is_best = 0\n",
    "\n",
    "            if val_acc >= self.val_acc:\n",
    "                self.val_acc = val_acc\n",
    "                is_best = 1\n",
    "            \n",
    "            #tt.log_step(global_step=self.global_step)\n",
    "\n",
    "    def eval(self, epoch, partition='test', log_flag=True):\n",
    "        best_acc = 0\n",
    "\n",
    "        self.model.eval()\n",
    "        valy_pred = []\n",
    "        valy_test = [] \n",
    "        valy      = []                \n",
    "        for i, (data, target) in enumerate(self.data_loader[partition]):\n",
    "            data   = data.cuda(non_blocking=True)\n",
    "            target = target.cuda(non_blocking=True).long().contiguous().view(-1)\n",
    "            \n",
    "            score  = self.model(data)\n",
    "            #score  = nn.functional.softmax(score, dim=1) \n",
    "            \n",
    "            loss   = self.criterion(score, target) \n",
    "\n",
    "            valy_pred.append(score.detach())\n",
    "            valy_test.append(target.detach())\n",
    "\n",
    "            target = self.one_hot_encode(3,target) \n",
    "            valy.append(target.detach())\n",
    "        \n",
    "        valy_pred = torch.cat(valy_pred,dim=0).detach().cpu().numpy()\n",
    "        valy_test = torch.cat(valy_test,dim=0).detach().cpu().numpy() \n",
    "        valy      = torch.cat(valy,dim=0).detach().cpu().numpy()\n",
    "\n",
    "        \n",
    "        # How well have we done on test data\n",
    "        print(\"===============================================\\r\\n\")\n",
    "        print(\"The %d-th epoch\" + str(epoch) + \"\\r\\n\")\n",
    "        print(partition + \"\\r\\n\")\n",
    "        Y=np.argmax(valy,axis=1)\n",
    "        Yhat=np.argmax(valy_pred,axis=1)\n",
    "        \n",
    "#         c=confusion_matrix(Y,Yhat)\n",
    "#         c=np.concatenate((c,np.sum(c,axis=1).reshape(-1,1)),axis=1)\n",
    "#         c=np.concatenate((c,np.sum(c,axis=0).reshape(1,-1)),axis=0)\n",
    "#         print(str(c) + \"\\r\\n\")\n",
    "        print(str(classification_report(Yhat,Y)) + \"\\r\\n\")\n",
    "        print('Loss: '+str(loss))\n",
    "#         print(\"cohen kappa score:\",cohen_kappa_score(Yhat,Y), \"\\r\\n\")\n",
    "#         print(\"cohen kappa score:\" + str(cohen_kappa_score(Yhat,Y)) + \"\\r\\n\")\n",
    "       \n",
    "                 \n",
    "        return cohen_kappa_score(Yhat,Y)\n",
    "\n",
    "\n",
    "    def one_hot_encode(self, num_classes, class_idx):\n",
    "        return torch.eye(num_classes)[class_idx].to(0)"
   ]
  },
  {
   "cell_type": "code",
   "execution_count": 18,
   "metadata": {
    "colab": {
     "base_uri": "https://localhost:8080/"
    },
    "id": "B82xnZhTPOyZ",
    "outputId": "333141b4-4310-4620-ca3a-ab1891ac4f0a"
   },
   "outputs": [
    {
     "name": "stdout",
     "output_type": "stream",
     "text": [
      "True\n"
     ]
    }
   ],
   "source": [
    "os.environ['CUDA_VISIBLE_DEVICES'] = \"1\"\n",
    "device = torch.device(\"cuda\" if torch.cuda.is_available() else \"cpu\")\n",
    "print(torch.cuda.is_available())"
   ]
  },
  {
   "cell_type": "code",
   "execution_count": 19,
   "metadata": {},
   "outputs": [],
   "source": [
    "# split the dev data into train and test\n",
    "train_index = np.random.choice(images_dev.shape[0],int(images_dev.shape[0]*.7),replace = False)\n",
    "\n",
    "images_train=images_dev[train_index]\n",
    "label_df_train = label_df_dev.loc[train_index].reset_index()\n",
    "\n",
    "all_index = [i for i in range(images_dev.shape[0])]\n",
    "test_index = list(set(all_index)-set(train_index))\n",
    "\n",
    "images_test=images_dev[test_index]\n",
    "label_df_test = label_df_dev.loc[test_index].reset_index()\n",
    "\n",
    "train_dataset= SequentialDataLoader(data_tup=(images_train, label_df_train),   \n",
    "                                  partition='Train')\n",
    "train_loader = torch.utils.data.DataLoader(train_dataset,\n",
    "                                  batch_size=100,\n",
    "                                  shuffle=True,\n",
    "                                  num_workers=2)\n",
    "\n",
    "test_dataset= SequentialDataLoader(data_tup=(images_test, label_df_test),   \n",
    "                                  partition='Test')\n",
    "test_loader = torch.utils.data.DataLoader(test_dataset,\n",
    "                                  batch_size=100,\n",
    "                                  shuffle=True,\n",
    "                                  num_workers=2)\n",
    "\n",
    "valid_dataset= SequentialDataLoader(data_tup=(images_valid, label_df_valid),   \n",
    "                                  partition='Valid')\n",
    "valid_loader = torch.utils.data.DataLoader(valid_dataset,\n",
    "                                  batch_size=1000,\n",
    "                                  shuffle=True,\n",
    "                                  num_workers=2)\n",
    "\n",
    "dev_data_loader = {'train': train_loader,\n",
    "               'test': test_loader}\n",
    "\n",
    "valid_data_loader = {'train': train_loader,\n",
    "              'test': valid_loader}"
   ]
  },
  {
   "cell_type": "code",
   "execution_count": 36,
   "metadata": {
    "colab": {
     "base_uri": "https://localhost:8080/",
     "height": 1000
    },
    "id": "z37l3MwrRCTg",
    "outputId": "b071c09c-2694-488a-81f3-d0b850ce763d"
   },
   "outputs": [
    {
     "name": "stdout",
     "output_type": "stream",
     "text": [
      "===============================================\r\n",
      "\n",
      "The %d-th epoch0\r\n",
      "\n",
      "train\r\n",
      "\n"
     ]
    },
    {
     "name": "stderr",
     "output_type": "stream",
     "text": [
      "/home/mafs6010g20/anaconda3/envs/ai_finance/lib/python3.7/site-packages/sklearn/metrics/_classification.py:1245: UndefinedMetricWarning: Recall and F-score are ill-defined and being set to 0.0 in labels with no true samples. Use `zero_division` parameter to control this behavior.\n",
      "  _warn_prf(average, modifier, msg_start, len(result))\n",
      "/home/mafs6010g20/anaconda3/envs/ai_finance/lib/python3.7/site-packages/sklearn/metrics/_classification.py:1245: UndefinedMetricWarning: Recall and F-score are ill-defined and being set to 0.0 in labels with no true samples. Use `zero_division` parameter to control this behavior.\n",
      "  _warn_prf(average, modifier, msg_start, len(result))\n",
      "/home/mafs6010g20/anaconda3/envs/ai_finance/lib/python3.7/site-packages/sklearn/metrics/_classification.py:1245: UndefinedMetricWarning: Recall and F-score are ill-defined and being set to 0.0 in labels with no true samples. Use `zero_division` parameter to control this behavior.\n",
      "  _warn_prf(average, modifier, msg_start, len(result))\n"
     ]
    },
    {
     "name": "stdout",
     "output_type": "stream",
     "text": [
      "              precision    recall  f1-score   support\n",
      "\n",
      "           0       0.15      0.55      0.23     65937\n",
      "           1       0.87      0.49      0.63    420472\n",
      "           2       0.00      0.00      0.00         0\n",
      "\n",
      "    accuracy                           0.50    486409\n",
      "   macro avg       0.34      0.34      0.29    486409\n",
      "weighted avg       0.78      0.50      0.57    486409\n",
      "\n",
      "\n",
      "Loss: tensor(0.6718, device='cuda:0', grad_fn=<NllLossBackward0>)\n",
      "===============================================\n",
      "\n",
      "The %d-th epoch0\n",
      "\n",
      "test\n",
      "\n"
     ]
    },
    {
     "name": "stderr",
     "output_type": "stream",
     "text": [
      "/home/mafs6010g20/anaconda3/envs/ai_finance/lib/python3.7/site-packages/sklearn/metrics/_classification.py:1245: UndefinedMetricWarning: Recall and F-score are ill-defined and being set to 0.0 in labels with no true samples. Use `zero_division` parameter to control this behavior.\n",
      "  _warn_prf(average, modifier, msg_start, len(result))\n",
      "/home/mafs6010g20/anaconda3/envs/ai_finance/lib/python3.7/site-packages/sklearn/metrics/_classification.py:1245: UndefinedMetricWarning: Recall and F-score are ill-defined and being set to 0.0 in labels with no true samples. Use `zero_division` parameter to control this behavior.\n",
      "  _warn_prf(average, modifier, msg_start, len(result))\n"
     ]
    },
    {
     "name": "stdout",
     "output_type": "stream",
     "text": [
      "              precision    recall  f1-score   support\n",
      "\n",
      "           0       0.14      0.54      0.23     28611\n",
      "           1       0.87      0.49      0.63    179851\n",
      "           2       0.00      0.00      0.00         0\n",
      "\n",
      "    accuracy                           0.49    208462\n",
      "   macro avg       0.34      0.34      0.28    208462\n",
      "weighted avg       0.77      0.49      0.57    208462\n",
      "\r\n",
      "\n",
      "Loss: tensor(0.6935, device='cuda:0', grad_fn=<NllLossBackward0>)\n"
     ]
    },
    {
     "name": "stderr",
     "output_type": "stream",
     "text": [
      "/home/mafs6010g20/anaconda3/envs/ai_finance/lib/python3.7/site-packages/sklearn/metrics/_classification.py:1245: UndefinedMetricWarning: Recall and F-score are ill-defined and being set to 0.0 in labels with no true samples. Use `zero_division` parameter to control this behavior.\n",
      "  _warn_prf(average, modifier, msg_start, len(result))\n"
     ]
    },
    {
     "name": "stdout",
     "output_type": "stream",
     "text": [
      "===============================================\r\n",
      "\n",
      "The %d-th epoch1\r\n",
      "\n",
      "train\r\n",
      "\n"
     ]
    },
    {
     "name": "stderr",
     "output_type": "stream",
     "text": [
      "/home/mafs6010g20/anaconda3/envs/ai_finance/lib/python3.7/site-packages/sklearn/metrics/_classification.py:1245: UndefinedMetricWarning: Recall and F-score are ill-defined and being set to 0.0 in labels with no true samples. Use `zero_division` parameter to control this behavior.\n",
      "  _warn_prf(average, modifier, msg_start, len(result))\n",
      "/home/mafs6010g20/anaconda3/envs/ai_finance/lib/python3.7/site-packages/sklearn/metrics/_classification.py:1245: UndefinedMetricWarning: Recall and F-score are ill-defined and being set to 0.0 in labels with no true samples. Use `zero_division` parameter to control this behavior.\n",
      "  _warn_prf(average, modifier, msg_start, len(result))\n",
      "/home/mafs6010g20/anaconda3/envs/ai_finance/lib/python3.7/site-packages/sklearn/metrics/_classification.py:1245: UndefinedMetricWarning: Recall and F-score are ill-defined and being set to 0.0 in labels with no true samples. Use `zero_division` parameter to control this behavior.\n",
      "  _warn_prf(average, modifier, msg_start, len(result))\n"
     ]
    },
    {
     "name": "stdout",
     "output_type": "stream",
     "text": [
      "              precision    recall  f1-score   support\n",
      "\n",
      "           0       0.27      0.54      0.36    123681\n",
      "           1       0.76      0.49      0.60    362728\n",
      "           2       0.00      0.00      0.00         0\n",
      "\n",
      "    accuracy                           0.51    486409\n",
      "   macro avg       0.34      0.35      0.32    486409\n",
      "weighted avg       0.64      0.51      0.54    486409\n",
      "\n",
      "\n",
      "Loss: tensor(0.6472, device='cuda:0', grad_fn=<NllLossBackward0>)\n",
      "===============================================\n",
      "\n",
      "The %d-th epoch1\n",
      "\n",
      "test\n",
      "\n"
     ]
    },
    {
     "name": "stderr",
     "output_type": "stream",
     "text": [
      "/home/mafs6010g20/anaconda3/envs/ai_finance/lib/python3.7/site-packages/sklearn/metrics/_classification.py:1245: UndefinedMetricWarning: Recall and F-score are ill-defined and being set to 0.0 in labels with no true samples. Use `zero_division` parameter to control this behavior.\n",
      "  _warn_prf(average, modifier, msg_start, len(result))\n",
      "/home/mafs6010g20/anaconda3/envs/ai_finance/lib/python3.7/site-packages/sklearn/metrics/_classification.py:1245: UndefinedMetricWarning: Recall and F-score are ill-defined and being set to 0.0 in labels with no true samples. Use `zero_division` parameter to control this behavior.\n",
      "  _warn_prf(average, modifier, msg_start, len(result))\n"
     ]
    },
    {
     "name": "stdout",
     "output_type": "stream",
     "text": [
      "              precision    recall  f1-score   support\n",
      "\n",
      "           0       0.27      0.53      0.35     53354\n",
      "           1       0.75      0.49      0.59    155108\n",
      "           2       0.00      0.00      0.00         0\n",
      "\n",
      "    accuracy                           0.50    208462\n",
      "   macro avg       0.34      0.34      0.32    208462\n",
      "weighted avg       0.63      0.50      0.53    208462\n",
      "\r\n",
      "\n",
      "Loss: tensor(0.7365, device='cuda:0', grad_fn=<NllLossBackward0>)\n"
     ]
    },
    {
     "name": "stderr",
     "output_type": "stream",
     "text": [
      "/home/mafs6010g20/anaconda3/envs/ai_finance/lib/python3.7/site-packages/sklearn/metrics/_classification.py:1245: UndefinedMetricWarning: Recall and F-score are ill-defined and being set to 0.0 in labels with no true samples. Use `zero_division` parameter to control this behavior.\n",
      "  _warn_prf(average, modifier, msg_start, len(result))\n"
     ]
    },
    {
     "name": "stdout",
     "output_type": "stream",
     "text": [
      "===============================================\r\n",
      "\n",
      "The %d-th epoch2\r\n",
      "\n",
      "train\r\n",
      "\n"
     ]
    },
    {
     "name": "stderr",
     "output_type": "stream",
     "text": [
      "/home/mafs6010g20/anaconda3/envs/ai_finance/lib/python3.7/site-packages/sklearn/metrics/_classification.py:1245: UndefinedMetricWarning: Recall and F-score are ill-defined and being set to 0.0 in labels with no true samples. Use `zero_division` parameter to control this behavior.\n",
      "  _warn_prf(average, modifier, msg_start, len(result))\n",
      "/home/mafs6010g20/anaconda3/envs/ai_finance/lib/python3.7/site-packages/sklearn/metrics/_classification.py:1245: UndefinedMetricWarning: Recall and F-score are ill-defined and being set to 0.0 in labels with no true samples. Use `zero_division` parameter to control this behavior.\n",
      "  _warn_prf(average, modifier, msg_start, len(result))\n",
      "/home/mafs6010g20/anaconda3/envs/ai_finance/lib/python3.7/site-packages/sklearn/metrics/_classification.py:1245: UndefinedMetricWarning: Recall and F-score are ill-defined and being set to 0.0 in labels with no true samples. Use `zero_division` parameter to control this behavior.\n",
      "  _warn_prf(average, modifier, msg_start, len(result))\n"
     ]
    },
    {
     "name": "stdout",
     "output_type": "stream",
     "text": [
      "              precision    recall  f1-score   support\n",
      "\n",
      "           0       0.33      0.54      0.41    150887\n",
      "           1       0.71      0.50      0.59    335522\n",
      "           2       0.00      0.00      0.00         0\n",
      "\n",
      "    accuracy                           0.51    486409\n",
      "   macro avg       0.35      0.35      0.33    486409\n",
      "weighted avg       0.59      0.51      0.53    486409\n",
      "\n",
      "\n",
      "Loss: tensor(0.6403, device='cuda:0', grad_fn=<NllLossBackward0>)\n",
      "===============================================\n",
      "\n",
      "The %d-th epoch2\n",
      "\n",
      "test\n",
      "\n"
     ]
    },
    {
     "name": "stderr",
     "output_type": "stream",
     "text": [
      "/home/mafs6010g20/anaconda3/envs/ai_finance/lib/python3.7/site-packages/sklearn/metrics/_classification.py:1245: UndefinedMetricWarning: Recall and F-score are ill-defined and being set to 0.0 in labels with no true samples. Use `zero_division` parameter to control this behavior.\n",
      "  _warn_prf(average, modifier, msg_start, len(result))\n",
      "/home/mafs6010g20/anaconda3/envs/ai_finance/lib/python3.7/site-packages/sklearn/metrics/_classification.py:1245: UndefinedMetricWarning: Recall and F-score are ill-defined and being set to 0.0 in labels with no true samples. Use `zero_division` parameter to control this behavior.\n",
      "  _warn_prf(average, modifier, msg_start, len(result))\n"
     ]
    },
    {
     "name": "stdout",
     "output_type": "stream",
     "text": [
      "              precision    recall  f1-score   support\n",
      "\n",
      "           0       0.32      0.53      0.40     64760\n",
      "           1       0.70      0.49      0.58    143702\n",
      "           2       0.00      0.00      0.00         0\n",
      "\n",
      "    accuracy                           0.50    208462\n",
      "   macro avg       0.34      0.34      0.33    208462\n",
      "weighted avg       0.58      0.50      0.52    208462\n",
      "\r\n",
      "\n",
      "Loss: tensor(0.7379, device='cuda:0', grad_fn=<NllLossBackward0>)\n"
     ]
    },
    {
     "name": "stderr",
     "output_type": "stream",
     "text": [
      "/home/mafs6010g20/anaconda3/envs/ai_finance/lib/python3.7/site-packages/sklearn/metrics/_classification.py:1245: UndefinedMetricWarning: Recall and F-score are ill-defined and being set to 0.0 in labels with no true samples. Use `zero_division` parameter to control this behavior.\n",
      "  _warn_prf(average, modifier, msg_start, len(result))\n"
     ]
    },
    {
     "name": "stdout",
     "output_type": "stream",
     "text": [
      "===============================================\r\n",
      "\n",
      "The %d-th epoch3\r\n",
      "\n",
      "train\r\n",
      "\n"
     ]
    },
    {
     "name": "stderr",
     "output_type": "stream",
     "text": [
      "/home/mafs6010g20/anaconda3/envs/ai_finance/lib/python3.7/site-packages/sklearn/metrics/_classification.py:1245: UndefinedMetricWarning: Recall and F-score are ill-defined and being set to 0.0 in labels with no true samples. Use `zero_division` parameter to control this behavior.\n",
      "  _warn_prf(average, modifier, msg_start, len(result))\n",
      "/home/mafs6010g20/anaconda3/envs/ai_finance/lib/python3.7/site-packages/sklearn/metrics/_classification.py:1245: UndefinedMetricWarning: Recall and F-score are ill-defined and being set to 0.0 in labels with no true samples. Use `zero_division` parameter to control this behavior.\n",
      "  _warn_prf(average, modifier, msg_start, len(result))\n",
      "/home/mafs6010g20/anaconda3/envs/ai_finance/lib/python3.7/site-packages/sklearn/metrics/_classification.py:1245: UndefinedMetricWarning: Recall and F-score are ill-defined and being set to 0.0 in labels with no true samples. Use `zero_division` parameter to control this behavior.\n",
      "  _warn_prf(average, modifier, msg_start, len(result))\n"
     ]
    },
    {
     "name": "stdout",
     "output_type": "stream",
     "text": [
      "              precision    recall  f1-score   support\n",
      "\n",
      "           0       0.87      0.52      0.65    414096\n",
      "           1       0.17      0.54      0.25     72313\n",
      "           2       0.00      0.00      0.00         0\n",
      "\n",
      "    accuracy                           0.52    486409\n",
      "   macro avg       0.35      0.35      0.30    486409\n",
      "weighted avg       0.76      0.52      0.59    486409\n",
      "\n",
      "\n",
      "Loss: tensor(0.6651, device='cuda:0', grad_fn=<NllLossBackward0>)\n",
      "===============================================\n",
      "\n",
      "The %d-th epoch3\n",
      "\n",
      "test\n",
      "\n"
     ]
    },
    {
     "name": "stderr",
     "output_type": "stream",
     "text": [
      "/home/mafs6010g20/anaconda3/envs/ai_finance/lib/python3.7/site-packages/sklearn/metrics/_classification.py:1245: UndefinedMetricWarning: Recall and F-score are ill-defined and being set to 0.0 in labels with no true samples. Use `zero_division` parameter to control this behavior.\n",
      "  _warn_prf(average, modifier, msg_start, len(result))\n",
      "/home/mafs6010g20/anaconda3/envs/ai_finance/lib/python3.7/site-packages/sklearn/metrics/_classification.py:1245: UndefinedMetricWarning: Recall and F-score are ill-defined and being set to 0.0 in labels with no true samples. Use `zero_division` parameter to control this behavior.\n",
      "  _warn_prf(average, modifier, msg_start, len(result))\n"
     ]
    },
    {
     "name": "stdout",
     "output_type": "stream",
     "text": [
      "              precision    recall  f1-score   support\n",
      "\n",
      "           0       0.86      0.52      0.65    177569\n",
      "           1       0.16      0.52      0.24     30893\n",
      "           2       0.00      0.00      0.00         0\n",
      "\n",
      "    accuracy                           0.52    208462\n",
      "   macro avg       0.34      0.34      0.30    208462\n",
      "weighted avg       0.76      0.52      0.59    208462\n",
      "\r\n",
      "\n",
      "Loss: tensor(0.6986, device='cuda:0', grad_fn=<NllLossBackward0>)\n"
     ]
    },
    {
     "name": "stderr",
     "output_type": "stream",
     "text": [
      "/home/mafs6010g20/anaconda3/envs/ai_finance/lib/python3.7/site-packages/sklearn/metrics/_classification.py:1245: UndefinedMetricWarning: Recall and F-score are ill-defined and being set to 0.0 in labels with no true samples. Use `zero_division` parameter to control this behavior.\n",
      "  _warn_prf(average, modifier, msg_start, len(result))\n"
     ]
    },
    {
     "name": "stdout",
     "output_type": "stream",
     "text": [
      "===============================================\r\n",
      "\n",
      "The %d-th epoch4\r\n",
      "\n",
      "train\r\n",
      "\n"
     ]
    },
    {
     "name": "stderr",
     "output_type": "stream",
     "text": [
      "/home/mafs6010g20/anaconda3/envs/ai_finance/lib/python3.7/site-packages/sklearn/metrics/_classification.py:1245: UndefinedMetricWarning: Recall and F-score are ill-defined and being set to 0.0 in labels with no true samples. Use `zero_division` parameter to control this behavior.\n",
      "  _warn_prf(average, modifier, msg_start, len(result))\n",
      "/home/mafs6010g20/anaconda3/envs/ai_finance/lib/python3.7/site-packages/sklearn/metrics/_classification.py:1245: UndefinedMetricWarning: Recall and F-score are ill-defined and being set to 0.0 in labels with no true samples. Use `zero_division` parameter to control this behavior.\n",
      "  _warn_prf(average, modifier, msg_start, len(result))\n",
      "/home/mafs6010g20/anaconda3/envs/ai_finance/lib/python3.7/site-packages/sklearn/metrics/_classification.py:1245: UndefinedMetricWarning: Recall and F-score are ill-defined and being set to 0.0 in labels with no true samples. Use `zero_division` parameter to control this behavior.\n",
      "  _warn_prf(average, modifier, msg_start, len(result))\n"
     ]
    },
    {
     "name": "stdout",
     "output_type": "stream",
     "text": [
      "              precision    recall  f1-score   support\n",
      "\n",
      "           0       0.41      0.55      0.47    184200\n",
      "           1       0.65      0.51      0.57    302209\n",
      "           2       0.00      0.00      0.00         0\n",
      "\n",
      "    accuracy                           0.52    486409\n",
      "   macro avg       0.35      0.35      0.35    486409\n",
      "weighted avg       0.56      0.52      0.53    486409\n",
      "\n",
      "\n",
      "Loss: tensor(0.7295, device='cuda:0', grad_fn=<NllLossBackward0>)\n",
      "===============================================\n",
      "\n",
      "The %d-th epoch4\n",
      "\n",
      "test\n",
      "\n"
     ]
    },
    {
     "name": "stderr",
     "output_type": "stream",
     "text": [
      "/home/mafs6010g20/anaconda3/envs/ai_finance/lib/python3.7/site-packages/sklearn/metrics/_classification.py:1245: UndefinedMetricWarning: Recall and F-score are ill-defined and being set to 0.0 in labels with no true samples. Use `zero_division` parameter to control this behavior.\n",
      "  _warn_prf(average, modifier, msg_start, len(result))\n",
      "/home/mafs6010g20/anaconda3/envs/ai_finance/lib/python3.7/site-packages/sklearn/metrics/_classification.py:1245: UndefinedMetricWarning: Recall and F-score are ill-defined and being set to 0.0 in labels with no true samples. Use `zero_division` parameter to control this behavior.\n",
      "  _warn_prf(average, modifier, msg_start, len(result))\n"
     ]
    },
    {
     "name": "stdout",
     "output_type": "stream",
     "text": [
      "              precision    recall  f1-score   support\n",
      "\n",
      "           0       0.40      0.53      0.46     79231\n",
      "           1       0.64      0.50      0.56    129231\n",
      "           2       0.00      0.00      0.00         0\n",
      "\n",
      "    accuracy                           0.51    208462\n",
      "   macro avg       0.35      0.34      0.34    208462\n",
      "weighted avg       0.55      0.51      0.52    208462\n",
      "\r\n",
      "\n",
      "Loss: tensor(0.7026, device='cuda:0', grad_fn=<NllLossBackward0>)\n"
     ]
    },
    {
     "name": "stderr",
     "output_type": "stream",
     "text": [
      "/home/mafs6010g20/anaconda3/envs/ai_finance/lib/python3.7/site-packages/sklearn/metrics/_classification.py:1245: UndefinedMetricWarning: Recall and F-score are ill-defined and being set to 0.0 in labels with no true samples. Use `zero_division` parameter to control this behavior.\n",
      "  _warn_prf(average, modifier, msg_start, len(result))\n"
     ]
    },
    {
     "name": "stdout",
     "output_type": "stream",
     "text": [
      "===============================================\r\n",
      "\n",
      "The %d-th epoch5\r\n",
      "\n",
      "train\r\n",
      "\n"
     ]
    },
    {
     "name": "stderr",
     "output_type": "stream",
     "text": [
      "/home/mafs6010g20/anaconda3/envs/ai_finance/lib/python3.7/site-packages/sklearn/metrics/_classification.py:1245: UndefinedMetricWarning: Recall and F-score are ill-defined and being set to 0.0 in labels with no true samples. Use `zero_division` parameter to control this behavior.\n",
      "  _warn_prf(average, modifier, msg_start, len(result))\n",
      "/home/mafs6010g20/anaconda3/envs/ai_finance/lib/python3.7/site-packages/sklearn/metrics/_classification.py:1245: UndefinedMetricWarning: Recall and F-score are ill-defined and being set to 0.0 in labels with no true samples. Use `zero_division` parameter to control this behavior.\n",
      "  _warn_prf(average, modifier, msg_start, len(result))\n",
      "/home/mafs6010g20/anaconda3/envs/ai_finance/lib/python3.7/site-packages/sklearn/metrics/_classification.py:1245: UndefinedMetricWarning: Recall and F-score are ill-defined and being set to 0.0 in labels with no true samples. Use `zero_division` parameter to control this behavior.\n",
      "  _warn_prf(average, modifier, msg_start, len(result))\n"
     ]
    },
    {
     "name": "stdout",
     "output_type": "stream",
     "text": [
      "              precision    recall  f1-score   support\n",
      "\n",
      "           0       0.36      0.55      0.43    160600\n",
      "           1       0.70      0.50      0.59    325809\n",
      "           2       0.00      0.00      0.00         0\n",
      "\n",
      "    accuracy                           0.52    486409\n",
      "   macro avg       0.35      0.35      0.34    486409\n",
      "weighted avg       0.59      0.52      0.54    486409\n",
      "\n",
      "\n",
      "Loss: tensor(0.6192, device='cuda:0', grad_fn=<NllLossBackward0>)\n",
      "===============================================\n",
      "\n",
      "The %d-th epoch5\n",
      "\n",
      "test\n",
      "\n"
     ]
    },
    {
     "name": "stderr",
     "output_type": "stream",
     "text": [
      "/home/mafs6010g20/anaconda3/envs/ai_finance/lib/python3.7/site-packages/sklearn/metrics/_classification.py:1245: UndefinedMetricWarning: Recall and F-score are ill-defined and being set to 0.0 in labels with no true samples. Use `zero_division` parameter to control this behavior.\n",
      "  _warn_prf(average, modifier, msg_start, len(result))\n",
      "/home/mafs6010g20/anaconda3/envs/ai_finance/lib/python3.7/site-packages/sklearn/metrics/_classification.py:1245: UndefinedMetricWarning: Recall and F-score are ill-defined and being set to 0.0 in labels with no true samples. Use `zero_division` parameter to control this behavior.\n",
      "  _warn_prf(average, modifier, msg_start, len(result))\n"
     ]
    },
    {
     "name": "stdout",
     "output_type": "stream",
     "text": [
      "              precision    recall  f1-score   support\n",
      "\n",
      "           0       0.34      0.53      0.42     68468\n",
      "           1       0.69      0.50      0.58    139994\n",
      "           2       0.00      0.00      0.00         0\n",
      "\n",
      "    accuracy                           0.51    208462\n",
      "   macro avg       0.34      0.34      0.33    208462\n",
      "weighted avg       0.58      0.51      0.52    208462\n",
      "\r\n",
      "\n",
      "Loss: tensor(0.7207, device='cuda:0', grad_fn=<NllLossBackward0>)\n"
     ]
    },
    {
     "name": "stderr",
     "output_type": "stream",
     "text": [
      "/home/mafs6010g20/anaconda3/envs/ai_finance/lib/python3.7/site-packages/sklearn/metrics/_classification.py:1245: UndefinedMetricWarning: Recall and F-score are ill-defined and being set to 0.0 in labels with no true samples. Use `zero_division` parameter to control this behavior.\n",
      "  _warn_prf(average, modifier, msg_start, len(result))\n"
     ]
    },
    {
     "name": "stdout",
     "output_type": "stream",
     "text": [
      "===============================================\r\n",
      "\n",
      "The %d-th epoch6\r\n",
      "\n",
      "train\r\n",
      "\n"
     ]
    },
    {
     "name": "stderr",
     "output_type": "stream",
     "text": [
      "/home/mafs6010g20/anaconda3/envs/ai_finance/lib/python3.7/site-packages/sklearn/metrics/_classification.py:1245: UndefinedMetricWarning: Recall and F-score are ill-defined and being set to 0.0 in labels with no true samples. Use `zero_division` parameter to control this behavior.\n",
      "  _warn_prf(average, modifier, msg_start, len(result))\n",
      "/home/mafs6010g20/anaconda3/envs/ai_finance/lib/python3.7/site-packages/sklearn/metrics/_classification.py:1245: UndefinedMetricWarning: Recall and F-score are ill-defined and being set to 0.0 in labels with no true samples. Use `zero_division` parameter to control this behavior.\n",
      "  _warn_prf(average, modifier, msg_start, len(result))\n",
      "/home/mafs6010g20/anaconda3/envs/ai_finance/lib/python3.7/site-packages/sklearn/metrics/_classification.py:1245: UndefinedMetricWarning: Recall and F-score are ill-defined and being set to 0.0 in labels with no true samples. Use `zero_division` parameter to control this behavior.\n",
      "  _warn_prf(average, modifier, msg_start, len(result))\n"
     ]
    },
    {
     "name": "stdout",
     "output_type": "stream",
     "text": [
      "              precision    recall  f1-score   support\n",
      "\n",
      "           0       0.70      0.54      0.61    324280\n",
      "           1       0.37      0.54      0.44    162129\n",
      "           2       0.00      0.00      0.00         0\n",
      "\n",
      "    accuracy                           0.54    486409\n",
      "   macro avg       0.36      0.36      0.35    486409\n",
      "weighted avg       0.59      0.54      0.55    486409\n",
      "\n",
      "\n",
      "Loss: tensor(0.7129, device='cuda:0', grad_fn=<NllLossBackward0>)\n",
      "===============================================\n",
      "\n",
      "The %d-th epoch6\n",
      "\n",
      "test\n",
      "\n"
     ]
    },
    {
     "name": "stderr",
     "output_type": "stream",
     "text": [
      "/home/mafs6010g20/anaconda3/envs/ai_finance/lib/python3.7/site-packages/sklearn/metrics/_classification.py:1245: UndefinedMetricWarning: Recall and F-score are ill-defined and being set to 0.0 in labels with no true samples. Use `zero_division` parameter to control this behavior.\n",
      "  _warn_prf(average, modifier, msg_start, len(result))\n",
      "/home/mafs6010g20/anaconda3/envs/ai_finance/lib/python3.7/site-packages/sklearn/metrics/_classification.py:1245: UndefinedMetricWarning: Recall and F-score are ill-defined and being set to 0.0 in labels with no true samples. Use `zero_division` parameter to control this behavior.\n",
      "  _warn_prf(average, modifier, msg_start, len(result))\n"
     ]
    },
    {
     "name": "stdout",
     "output_type": "stream",
     "text": [
      "              precision    recall  f1-score   support\n",
      "\n",
      "           0       0.68      0.52      0.59    138872\n",
      "           1       0.35      0.51      0.42     69590\n",
      "           2       0.00      0.00      0.00         0\n",
      "\n",
      "    accuracy                           0.52    208462\n",
      "   macro avg       0.34      0.34      0.34    208462\n",
      "weighted avg       0.57      0.52      0.53    208462\n",
      "\r\n",
      "\n",
      "Loss: tensor(0.6916, device='cuda:0', grad_fn=<NllLossBackward0>)\n"
     ]
    },
    {
     "name": "stderr",
     "output_type": "stream",
     "text": [
      "/home/mafs6010g20/anaconda3/envs/ai_finance/lib/python3.7/site-packages/sklearn/metrics/_classification.py:1245: UndefinedMetricWarning: Recall and F-score are ill-defined and being set to 0.0 in labels with no true samples. Use `zero_division` parameter to control this behavior.\n",
      "  _warn_prf(average, modifier, msg_start, len(result))\n"
     ]
    },
    {
     "name": "stdout",
     "output_type": "stream",
     "text": [
      "===============================================\r\n",
      "\n",
      "The %d-th epoch7\r\n",
      "\n",
      "train\r\n",
      "\n"
     ]
    },
    {
     "name": "stderr",
     "output_type": "stream",
     "text": [
      "/home/mafs6010g20/anaconda3/envs/ai_finance/lib/python3.7/site-packages/sklearn/metrics/_classification.py:1245: UndefinedMetricWarning: Recall and F-score are ill-defined and being set to 0.0 in labels with no true samples. Use `zero_division` parameter to control this behavior.\n",
      "  _warn_prf(average, modifier, msg_start, len(result))\n",
      "/home/mafs6010g20/anaconda3/envs/ai_finance/lib/python3.7/site-packages/sklearn/metrics/_classification.py:1245: UndefinedMetricWarning: Recall and F-score are ill-defined and being set to 0.0 in labels with no true samples. Use `zero_division` parameter to control this behavior.\n",
      "  _warn_prf(average, modifier, msg_start, len(result))\n",
      "/home/mafs6010g20/anaconda3/envs/ai_finance/lib/python3.7/site-packages/sklearn/metrics/_classification.py:1245: UndefinedMetricWarning: Recall and F-score are ill-defined and being set to 0.0 in labels with no true samples. Use `zero_division` parameter to control this behavior.\n",
      "  _warn_prf(average, modifier, msg_start, len(result))\n"
     ]
    },
    {
     "name": "stdout",
     "output_type": "stream",
     "text": [
      "              precision    recall  f1-score   support\n",
      "\n",
      "           0       0.78      0.53      0.63    363718\n",
      "           1       0.29      0.55      0.38    122691\n",
      "           2       0.00      0.00      0.00         0\n",
      "\n",
      "    accuracy                           0.54    486409\n",
      "   macro avg       0.36      0.36      0.34    486409\n",
      "weighted avg       0.66      0.54      0.57    486409\n",
      "\n",
      "\n",
      "Loss: tensor(0.6704, device='cuda:0', grad_fn=<NllLossBackward0>)\n",
      "===============================================\n",
      "\n",
      "The %d-th epoch7\n",
      "\n",
      "test\n",
      "\n"
     ]
    },
    {
     "name": "stderr",
     "output_type": "stream",
     "text": [
      "/home/mafs6010g20/anaconda3/envs/ai_finance/lib/python3.7/site-packages/sklearn/metrics/_classification.py:1245: UndefinedMetricWarning: Recall and F-score are ill-defined and being set to 0.0 in labels with no true samples. Use `zero_division` parameter to control this behavior.\n",
      "  _warn_prf(average, modifier, msg_start, len(result))\n",
      "/home/mafs6010g20/anaconda3/envs/ai_finance/lib/python3.7/site-packages/sklearn/metrics/_classification.py:1245: UndefinedMetricWarning: Recall and F-score are ill-defined and being set to 0.0 in labels with no true samples. Use `zero_division` parameter to control this behavior.\n",
      "  _warn_prf(average, modifier, msg_start, len(result))\n"
     ]
    },
    {
     "name": "stdout",
     "output_type": "stream",
     "text": [
      "              precision    recall  f1-score   support\n",
      "\n",
      "           0       0.76      0.52      0.62    155759\n",
      "           1       0.27      0.52      0.36     52703\n",
      "           2       0.00      0.00      0.00         0\n",
      "\n",
      "    accuracy                           0.52    208462\n",
      "   macro avg       0.35      0.35      0.33    208462\n",
      "weighted avg       0.64      0.52      0.55    208462\n",
      "\r\n",
      "\n",
      "Loss: tensor(0.7201, device='cuda:0', grad_fn=<NllLossBackward0>)\n"
     ]
    },
    {
     "name": "stderr",
     "output_type": "stream",
     "text": [
      "/home/mafs6010g20/anaconda3/envs/ai_finance/lib/python3.7/site-packages/sklearn/metrics/_classification.py:1245: UndefinedMetricWarning: Recall and F-score are ill-defined and being set to 0.0 in labels with no true samples. Use `zero_division` parameter to control this behavior.\n",
      "  _warn_prf(average, modifier, msg_start, len(result))\n"
     ]
    },
    {
     "name": "stdout",
     "output_type": "stream",
     "text": [
      "===============================================\r\n",
      "\n",
      "The %d-th epoch8\r\n",
      "\n",
      "train\r\n",
      "\n"
     ]
    },
    {
     "name": "stderr",
     "output_type": "stream",
     "text": [
      "/home/mafs6010g20/anaconda3/envs/ai_finance/lib/python3.7/site-packages/sklearn/metrics/_classification.py:1245: UndefinedMetricWarning: Recall and F-score are ill-defined and being set to 0.0 in labels with no true samples. Use `zero_division` parameter to control this behavior.\n",
      "  _warn_prf(average, modifier, msg_start, len(result))\n",
      "/home/mafs6010g20/anaconda3/envs/ai_finance/lib/python3.7/site-packages/sklearn/metrics/_classification.py:1245: UndefinedMetricWarning: Recall and F-score are ill-defined and being set to 0.0 in labels with no true samples. Use `zero_division` parameter to control this behavior.\n",
      "  _warn_prf(average, modifier, msg_start, len(result))\n",
      "/home/mafs6010g20/anaconda3/envs/ai_finance/lib/python3.7/site-packages/sklearn/metrics/_classification.py:1245: UndefinedMetricWarning: Recall and F-score are ill-defined and being set to 0.0 in labels with no true samples. Use `zero_division` parameter to control this behavior.\n",
      "  _warn_prf(average, modifier, msg_start, len(result))\n"
     ]
    },
    {
     "name": "stdout",
     "output_type": "stream",
     "text": [
      "              precision    recall  f1-score   support\n",
      "\n",
      "           0       0.77      0.54      0.63    355554\n",
      "           1       0.31      0.55      0.40    130855\n",
      "           2       0.00      0.00      0.00         0\n",
      "\n",
      "    accuracy                           0.54    486409\n",
      "   macro avg       0.36      0.36      0.34    486409\n",
      "weighted avg       0.64      0.54      0.57    486409\n",
      "\n",
      "\n",
      "Loss: tensor(0.8362, device='cuda:0', grad_fn=<NllLossBackward0>)\n",
      "===============================================\n",
      "\n",
      "The %d-th epoch8\n",
      "\n",
      "test\n",
      "\n"
     ]
    },
    {
     "name": "stderr",
     "output_type": "stream",
     "text": [
      "/home/mafs6010g20/anaconda3/envs/ai_finance/lib/python3.7/site-packages/sklearn/metrics/_classification.py:1245: UndefinedMetricWarning: Recall and F-score are ill-defined and being set to 0.0 in labels with no true samples. Use `zero_division` parameter to control this behavior.\n",
      "  _warn_prf(average, modifier, msg_start, len(result))\n",
      "/home/mafs6010g20/anaconda3/envs/ai_finance/lib/python3.7/site-packages/sklearn/metrics/_classification.py:1245: UndefinedMetricWarning: Recall and F-score are ill-defined and being set to 0.0 in labels with no true samples. Use `zero_division` parameter to control this behavior.\n",
      "  _warn_prf(average, modifier, msg_start, len(result))\n"
     ]
    },
    {
     "name": "stdout",
     "output_type": "stream",
     "text": [
      "              precision    recall  f1-score   support\n",
      "\n",
      "           0       0.75      0.52      0.62    152456\n",
      "           1       0.29      0.52      0.37     56006\n",
      "           2       0.00      0.00      0.00         0\n",
      "\n",
      "    accuracy                           0.52    208462\n",
      "   macro avg       0.35      0.35      0.33    208462\n",
      "weighted avg       0.63      0.52      0.55    208462\n",
      "\r\n",
      "\n",
      "Loss: tensor(0.7304, device='cuda:0', grad_fn=<NllLossBackward0>)\n"
     ]
    },
    {
     "name": "stderr",
     "output_type": "stream",
     "text": [
      "/home/mafs6010g20/anaconda3/envs/ai_finance/lib/python3.7/site-packages/sklearn/metrics/_classification.py:1245: UndefinedMetricWarning: Recall and F-score are ill-defined and being set to 0.0 in labels with no true samples. Use `zero_division` parameter to control this behavior.\n",
      "  _warn_prf(average, modifier, msg_start, len(result))\n"
     ]
    },
    {
     "name": "stdout",
     "output_type": "stream",
     "text": [
      "===============================================\r\n",
      "\n",
      "The %d-th epoch9\r\n",
      "\n",
      "train\r\n",
      "\n"
     ]
    },
    {
     "name": "stderr",
     "output_type": "stream",
     "text": [
      "/home/mafs6010g20/anaconda3/envs/ai_finance/lib/python3.7/site-packages/sklearn/metrics/_classification.py:1245: UndefinedMetricWarning: Recall and F-score are ill-defined and being set to 0.0 in labels with no true samples. Use `zero_division` parameter to control this behavior.\n",
      "  _warn_prf(average, modifier, msg_start, len(result))\n",
      "/home/mafs6010g20/anaconda3/envs/ai_finance/lib/python3.7/site-packages/sklearn/metrics/_classification.py:1245: UndefinedMetricWarning: Recall and F-score are ill-defined and being set to 0.0 in labels with no true samples. Use `zero_division` parameter to control this behavior.\n",
      "  _warn_prf(average, modifier, msg_start, len(result))\n",
      "/home/mafs6010g20/anaconda3/envs/ai_finance/lib/python3.7/site-packages/sklearn/metrics/_classification.py:1245: UndefinedMetricWarning: Recall and F-score are ill-defined and being set to 0.0 in labels with no true samples. Use `zero_division` parameter to control this behavior.\n",
      "  _warn_prf(average, modifier, msg_start, len(result))\n"
     ]
    },
    {
     "name": "stdout",
     "output_type": "stream",
     "text": [
      "              precision    recall  f1-score   support\n",
      "\n",
      "           0       0.56      0.56      0.56    248054\n",
      "           1       0.54      0.53      0.54    238355\n",
      "           2       0.00      0.00      0.00         0\n",
      "\n",
      "    accuracy                           0.55    486409\n",
      "   macro avg       0.37      0.36      0.37    486409\n",
      "weighted avg       0.55      0.55      0.55    486409\n",
      "\n",
      "\n",
      "Loss: tensor(0.6794, device='cuda:0', grad_fn=<NllLossBackward0>)\n",
      "===============================================\n",
      "\n",
      "The %d-th epoch9\n",
      "\n",
      "test\n",
      "\n"
     ]
    },
    {
     "name": "stderr",
     "output_type": "stream",
     "text": [
      "/home/mafs6010g20/anaconda3/envs/ai_finance/lib/python3.7/site-packages/sklearn/metrics/_classification.py:1245: UndefinedMetricWarning: Recall and F-score are ill-defined and being set to 0.0 in labels with no true samples. Use `zero_division` parameter to control this behavior.\n",
      "  _warn_prf(average, modifier, msg_start, len(result))\n",
      "/home/mafs6010g20/anaconda3/envs/ai_finance/lib/python3.7/site-packages/sklearn/metrics/_classification.py:1245: UndefinedMetricWarning: Recall and F-score are ill-defined and being set to 0.0 in labels with no true samples. Use `zero_division` parameter to control this behavior.\n",
      "  _warn_prf(average, modifier, msg_start, len(result))\n"
     ]
    },
    {
     "name": "stdout",
     "output_type": "stream",
     "text": [
      "              precision    recall  f1-score   support\n",
      "\n",
      "           0       0.53      0.53      0.53    106002\n",
      "           1       0.52      0.51      0.51    102460\n",
      "           2       0.00      0.00      0.00         0\n",
      "\n",
      "    accuracy                           0.52    208462\n",
      "   macro avg       0.35      0.35      0.35    208462\n",
      "weighted avg       0.52      0.52      0.52    208462\n",
      "\r\n",
      "\n",
      "Loss: tensor(0.6881, device='cuda:0', grad_fn=<NllLossBackward0>)\n"
     ]
    },
    {
     "name": "stderr",
     "output_type": "stream",
     "text": [
      "/home/mafs6010g20/anaconda3/envs/ai_finance/lib/python3.7/site-packages/sklearn/metrics/_classification.py:1245: UndefinedMetricWarning: Recall and F-score are ill-defined and being set to 0.0 in labels with no true samples. Use `zero_division` parameter to control this behavior.\n",
      "  _warn_prf(average, modifier, msg_start, len(result))\n"
     ]
    }
   ],
   "source": [
    "trainer = ModelTrainer(dataloader=dev_data_loader)\n",
    "\n",
    "#%%\n",
    "trainer.train()"
   ]
  },
  {
   "cell_type": "code",
   "execution_count": 37,
   "metadata": {
    "id": "M0B2qvAuXrt_"
   },
   "outputs": [],
   "source": [
    "# !cat /proc/meminfo"
   ]
  },
  {
   "cell_type": "code",
   "execution_count": 38,
   "metadata": {
    "colab": {
     "base_uri": "https://localhost:8080/"
    },
    "id": "LaacH_ffUoFO",
    "outputId": "83bd05e8-5801-4cb1-f14d-3ce98a7d7e52"
   },
   "outputs": [],
   "source": [
    "# import gc\n",
    "# gc.collect()"
   ]
  },
  {
   "cell_type": "code",
   "execution_count": 39,
   "metadata": {
    "id": "jPXYt_rLYCTK"
   },
   "outputs": [
    {
     "name": "stdout",
     "output_type": "stream",
     "text": [
      "===============================================\r\n",
      "\n",
      "The %d-th epoch0\r\n",
      "\n",
      "train\r\n",
      "\n"
     ]
    },
    {
     "name": "stderr",
     "output_type": "stream",
     "text": [
      "/home/mafs6010g20/anaconda3/envs/ai_finance/lib/python3.7/site-packages/sklearn/metrics/_classification.py:1245: UndefinedMetricWarning: Recall and F-score are ill-defined and being set to 0.0 in labels with no true samples. Use `zero_division` parameter to control this behavior.\n",
      "  _warn_prf(average, modifier, msg_start, len(result))\n",
      "/home/mafs6010g20/anaconda3/envs/ai_finance/lib/python3.7/site-packages/sklearn/metrics/_classification.py:1245: UndefinedMetricWarning: Recall and F-score are ill-defined and being set to 0.0 in labels with no true samples. Use `zero_division` parameter to control this behavior.\n",
      "  _warn_prf(average, modifier, msg_start, len(result))\n",
      "/home/mafs6010g20/anaconda3/envs/ai_finance/lib/python3.7/site-packages/sklearn/metrics/_classification.py:1245: UndefinedMetricWarning: Recall and F-score are ill-defined and being set to 0.0 in labels with no true samples. Use `zero_division` parameter to control this behavior.\n",
      "  _warn_prf(average, modifier, msg_start, len(result))\n"
     ]
    },
    {
     "name": "stdout",
     "output_type": "stream",
     "text": [
      "              precision    recall  f1-score   support\n",
      "\n",
      "           0       0.77      0.52      0.62    366559\n",
      "           1       0.26      0.51      0.35    119850\n",
      "           2       0.00      0.00      0.00         0\n",
      "\n",
      "    accuracy                           0.52    486409\n",
      "   macro avg       0.34      0.34      0.32    486409\n",
      "weighted avg       0.64      0.52      0.55    486409\n",
      "\n",
      "\n",
      "Loss: tensor(0.7955, device='cuda:0', grad_fn=<NllLossBackward0>)\n",
      "===============================================\n",
      "\n",
      "The %d-th epoch0\n",
      "\n",
      "test\n",
      "\n"
     ]
    },
    {
     "name": "stderr",
     "output_type": "stream",
     "text": [
      "/home/mafs6010g20/anaconda3/envs/ai_finance/lib/python3.7/site-packages/sklearn/metrics/_classification.py:1245: UndefinedMetricWarning: Recall and F-score are ill-defined and being set to 0.0 in labels with no true samples. Use `zero_division` parameter to control this behavior.\n",
      "  _warn_prf(average, modifier, msg_start, len(result))\n",
      "/home/mafs6010g20/anaconda3/envs/ai_finance/lib/python3.7/site-packages/sklearn/metrics/_classification.py:1245: UndefinedMetricWarning: Recall and F-score are ill-defined and being set to 0.0 in labels with no true samples. Use `zero_division` parameter to control this behavior.\n",
      "  _warn_prf(average, modifier, msg_start, len(result))\n",
      "/home/mafs6010g20/anaconda3/envs/ai_finance/lib/python3.7/site-packages/sklearn/metrics/_classification.py:1245: UndefinedMetricWarning: Recall and F-score are ill-defined and being set to 0.0 in labels with no true samples. Use `zero_division` parameter to control this behavior.\n",
      "  _warn_prf(average, modifier, msg_start, len(result))\n"
     ]
    },
    {
     "name": "stdout",
     "output_type": "stream",
     "text": [
      "              precision    recall  f1-score   support\n",
      "\n",
      "           0       0.76      0.49      0.60   1052306\n",
      "           1       0.26      0.52      0.34    351669\n",
      "           2       0.00      0.00      0.00         0\n",
      "\n",
      "    accuracy                           0.50   1403975\n",
      "   macro avg       0.34      0.34      0.31   1403975\n",
      "weighted avg       0.63      0.50      0.53   1403975\n",
      "\n",
      "\n",
      "Loss: tensor(0.6992, device='cuda:0', grad_fn=<NllLossBackward0>)\n",
      "===============================================\n",
      "\n",
      "The %d-th epoch1\n",
      "\n",
      "train\n",
      "\n"
     ]
    },
    {
     "name": "stderr",
     "output_type": "stream",
     "text": [
      "/home/mafs6010g20/anaconda3/envs/ai_finance/lib/python3.7/site-packages/sklearn/metrics/_classification.py:1245: UndefinedMetricWarning: Recall and F-score are ill-defined and being set to 0.0 in labels with no true samples. Use `zero_division` parameter to control this behavior.\n",
      "  _warn_prf(average, modifier, msg_start, len(result))\n",
      "/home/mafs6010g20/anaconda3/envs/ai_finance/lib/python3.7/site-packages/sklearn/metrics/_classification.py:1245: UndefinedMetricWarning: Recall and F-score are ill-defined and being set to 0.0 in labels with no true samples. Use `zero_division` parameter to control this behavior.\n",
      "  _warn_prf(average, modifier, msg_start, len(result))\n",
      "/home/mafs6010g20/anaconda3/envs/ai_finance/lib/python3.7/site-packages/sklearn/metrics/_classification.py:1245: UndefinedMetricWarning: Recall and F-score are ill-defined and being set to 0.0 in labels with no true samples. Use `zero_division` parameter to control this behavior.\n",
      "  _warn_prf(average, modifier, msg_start, len(result))\n"
     ]
    },
    {
     "name": "stdout",
     "output_type": "stream",
     "text": [
      "              precision    recall  f1-score   support\n",
      "\n",
      "           0       0.61      0.53      0.57    287797\n",
      "           1       0.43      0.51      0.47    198612\n",
      "           2       0.00      0.00      0.00         0\n",
      "\n",
      "    accuracy                           0.52    486409\n",
      "   macro avg       0.35      0.35      0.34    486409\n",
      "weighted avg       0.54      0.52      0.53    486409\n",
      "\n",
      "\n",
      "Loss: tensor(0.6873, device='cuda:0', grad_fn=<NllLossBackward0>)\n",
      "===============================================\n",
      "\n",
      "The %d-th epoch1\n",
      "\n",
      "test\n",
      "\n"
     ]
    },
    {
     "name": "stderr",
     "output_type": "stream",
     "text": [
      "/home/mafs6010g20/anaconda3/envs/ai_finance/lib/python3.7/site-packages/sklearn/metrics/_classification.py:1245: UndefinedMetricWarning: Recall and F-score are ill-defined and being set to 0.0 in labels with no true samples. Use `zero_division` parameter to control this behavior.\n",
      "  _warn_prf(average, modifier, msg_start, len(result))\n",
      "/home/mafs6010g20/anaconda3/envs/ai_finance/lib/python3.7/site-packages/sklearn/metrics/_classification.py:1245: UndefinedMetricWarning: Recall and F-score are ill-defined and being set to 0.0 in labels with no true samples. Use `zero_division` parameter to control this behavior.\n",
      "  _warn_prf(average, modifier, msg_start, len(result))\n",
      "/home/mafs6010g20/anaconda3/envs/ai_finance/lib/python3.7/site-packages/sklearn/metrics/_classification.py:1245: UndefinedMetricWarning: Recall and F-score are ill-defined and being set to 0.0 in labels with no true samples. Use `zero_division` parameter to control this behavior.\n",
      "  _warn_prf(average, modifier, msg_start, len(result))\n"
     ]
    },
    {
     "name": "stdout",
     "output_type": "stream",
     "text": [
      "              precision    recall  f1-score   support\n",
      "\n",
      "           0       0.56      0.49      0.53    780889\n",
      "           1       0.45      0.51      0.48    623086\n",
      "           2       0.00      0.00      0.00         0\n",
      "\n",
      "    accuracy                           0.50   1403975\n",
      "   macro avg       0.34      0.34      0.34   1403975\n",
      "weighted avg       0.51      0.50      0.51   1403975\n",
      "\n",
      "\n",
      "Loss: tensor(0.7045, device='cuda:0', grad_fn=<NllLossBackward0>)\n",
      "===============================================\n",
      "\n",
      "The %d-th epoch2\n",
      "\n",
      "train\n",
      "\n"
     ]
    },
    {
     "name": "stderr",
     "output_type": "stream",
     "text": [
      "/home/mafs6010g20/anaconda3/envs/ai_finance/lib/python3.7/site-packages/sklearn/metrics/_classification.py:1245: UndefinedMetricWarning: Recall and F-score are ill-defined and being set to 0.0 in labels with no true samples. Use `zero_division` parameter to control this behavior.\n",
      "  _warn_prf(average, modifier, msg_start, len(result))\n",
      "/home/mafs6010g20/anaconda3/envs/ai_finance/lib/python3.7/site-packages/sklearn/metrics/_classification.py:1245: UndefinedMetricWarning: Recall and F-score are ill-defined and being set to 0.0 in labels with no true samples. Use `zero_division` parameter to control this behavior.\n",
      "  _warn_prf(average, modifier, msg_start, len(result))\n",
      "/home/mafs6010g20/anaconda3/envs/ai_finance/lib/python3.7/site-packages/sklearn/metrics/_classification.py:1245: UndefinedMetricWarning: Recall and F-score are ill-defined and being set to 0.0 in labels with no true samples. Use `zero_division` parameter to control this behavior.\n",
      "  _warn_prf(average, modifier, msg_start, len(result))\n"
     ]
    },
    {
     "name": "stdout",
     "output_type": "stream",
     "text": [
      "              precision    recall  f1-score   support\n",
      "\n",
      "           0       0.65      0.53      0.58    303849\n",
      "           1       0.40      0.52      0.45    182560\n",
      "           2       0.00      0.00      0.00         0\n",
      "\n",
      "    accuracy                           0.52    486409\n",
      "   macro avg       0.35      0.35      0.34    486409\n",
      "weighted avg       0.56      0.52      0.53    486409\n",
      "\n",
      "\n",
      "Loss: tensor(0.6876, device='cuda:0', grad_fn=<NllLossBackward0>)\n",
      "===============================================\n",
      "\n",
      "The %d-th epoch2\n",
      "\n",
      "test\n",
      "\n"
     ]
    },
    {
     "name": "stderr",
     "output_type": "stream",
     "text": [
      "/home/mafs6010g20/anaconda3/envs/ai_finance/lib/python3.7/site-packages/sklearn/metrics/_classification.py:1245: UndefinedMetricWarning: Recall and F-score are ill-defined and being set to 0.0 in labels with no true samples. Use `zero_division` parameter to control this behavior.\n",
      "  _warn_prf(average, modifier, msg_start, len(result))\n",
      "/home/mafs6010g20/anaconda3/envs/ai_finance/lib/python3.7/site-packages/sklearn/metrics/_classification.py:1245: UndefinedMetricWarning: Recall and F-score are ill-defined and being set to 0.0 in labels with no true samples. Use `zero_division` parameter to control this behavior.\n",
      "  _warn_prf(average, modifier, msg_start, len(result))\n",
      "/home/mafs6010g20/anaconda3/envs/ai_finance/lib/python3.7/site-packages/sklearn/metrics/_classification.py:1245: UndefinedMetricWarning: Recall and F-score are ill-defined and being set to 0.0 in labels with no true samples. Use `zero_division` parameter to control this behavior.\n",
      "  _warn_prf(average, modifier, msg_start, len(result))\n"
     ]
    },
    {
     "name": "stdout",
     "output_type": "stream",
     "text": [
      "              precision    recall  f1-score   support\n",
      "\n",
      "           0       0.58      0.50      0.54    804295\n",
      "           1       0.44      0.52      0.47    599680\n",
      "           2       0.00      0.00      0.00         0\n",
      "\n",
      "    accuracy                           0.51   1403975\n",
      "   macro avg       0.34      0.34      0.34   1403975\n",
      "weighted avg       0.52      0.51      0.51   1403975\n",
      "\n",
      "\n",
      "Loss: tensor(0.6970, device='cuda:0', grad_fn=<NllLossBackward0>)\n",
      "===============================================\n",
      "\n",
      "The %d-th epoch3\n",
      "\n",
      "train\n",
      "\n"
     ]
    },
    {
     "name": "stderr",
     "output_type": "stream",
     "text": [
      "/home/mafs6010g20/anaconda3/envs/ai_finance/lib/python3.7/site-packages/sklearn/metrics/_classification.py:1245: UndefinedMetricWarning: Recall and F-score are ill-defined and being set to 0.0 in labels with no true samples. Use `zero_division` parameter to control this behavior.\n",
      "  _warn_prf(average, modifier, msg_start, len(result))\n",
      "/home/mafs6010g20/anaconda3/envs/ai_finance/lib/python3.7/site-packages/sklearn/metrics/_classification.py:1245: UndefinedMetricWarning: Recall and F-score are ill-defined and being set to 0.0 in labels with no true samples. Use `zero_division` parameter to control this behavior.\n",
      "  _warn_prf(average, modifier, msg_start, len(result))\n",
      "/home/mafs6010g20/anaconda3/envs/ai_finance/lib/python3.7/site-packages/sklearn/metrics/_classification.py:1245: UndefinedMetricWarning: Recall and F-score are ill-defined and being set to 0.0 in labels with no true samples. Use `zero_division` parameter to control this behavior.\n",
      "  _warn_prf(average, modifier, msg_start, len(result))\n"
     ]
    },
    {
     "name": "stdout",
     "output_type": "stream",
     "text": [
      "              precision    recall  f1-score   support\n",
      "\n",
      "           0       0.53      0.54      0.54    242734\n",
      "           1       0.53      0.51      0.52    243675\n",
      "           2       0.00      0.00      0.00         0\n",
      "\n",
      "    accuracy                           0.53    486409\n",
      "   macro avg       0.35      0.35      0.35    486409\n",
      "weighted avg       0.53      0.53      0.53    486409\n",
      "\n",
      "\n",
      "Loss: tensor(0.7302, device='cuda:0', grad_fn=<NllLossBackward0>)\n",
      "===============================================\n",
      "\n",
      "The %d-th epoch3\n",
      "\n",
      "test\n",
      "\n"
     ]
    },
    {
     "name": "stderr",
     "output_type": "stream",
     "text": [
      "/home/mafs6010g20/anaconda3/envs/ai_finance/lib/python3.7/site-packages/sklearn/metrics/_classification.py:1245: UndefinedMetricWarning: Recall and F-score are ill-defined and being set to 0.0 in labels with no true samples. Use `zero_division` parameter to control this behavior.\n",
      "  _warn_prf(average, modifier, msg_start, len(result))\n",
      "/home/mafs6010g20/anaconda3/envs/ai_finance/lib/python3.7/site-packages/sklearn/metrics/_classification.py:1245: UndefinedMetricWarning: Recall and F-score are ill-defined and being set to 0.0 in labels with no true samples. Use `zero_division` parameter to control this behavior.\n",
      "  _warn_prf(average, modifier, msg_start, len(result))\n",
      "/home/mafs6010g20/anaconda3/envs/ai_finance/lib/python3.7/site-packages/sklearn/metrics/_classification.py:1245: UndefinedMetricWarning: Recall and F-score are ill-defined and being set to 0.0 in labels with no true samples. Use `zero_division` parameter to control this behavior.\n",
      "  _warn_prf(average, modifier, msg_start, len(result))\n"
     ]
    },
    {
     "name": "stdout",
     "output_type": "stream",
     "text": [
      "              precision    recall  f1-score   support\n",
      "\n",
      "           0       0.49      0.50      0.49    671606\n",
      "           1       0.53      0.52      0.52    732369\n",
      "           2       0.00      0.00      0.00         0\n",
      "\n",
      "    accuracy                           0.51   1403975\n",
      "   macro avg       0.34      0.34      0.34   1403975\n",
      "weighted avg       0.51      0.51      0.51   1403975\n",
      "\n",
      "\n",
      "Loss: tensor(0.6999, device='cuda:0', grad_fn=<NllLossBackward0>)\n",
      "===============================================\n",
      "\n",
      "The %d-th epoch4\n",
      "\n",
      "train\n",
      "\n"
     ]
    },
    {
     "name": "stderr",
     "output_type": "stream",
     "text": [
      "/home/mafs6010g20/anaconda3/envs/ai_finance/lib/python3.7/site-packages/sklearn/metrics/_classification.py:1245: UndefinedMetricWarning: Recall and F-score are ill-defined and being set to 0.0 in labels with no true samples. Use `zero_division` parameter to control this behavior.\n",
      "  _warn_prf(average, modifier, msg_start, len(result))\n",
      "/home/mafs6010g20/anaconda3/envs/ai_finance/lib/python3.7/site-packages/sklearn/metrics/_classification.py:1245: UndefinedMetricWarning: Recall and F-score are ill-defined and being set to 0.0 in labels with no true samples. Use `zero_division` parameter to control this behavior.\n",
      "  _warn_prf(average, modifier, msg_start, len(result))\n",
      "/home/mafs6010g20/anaconda3/envs/ai_finance/lib/python3.7/site-packages/sklearn/metrics/_classification.py:1245: UndefinedMetricWarning: Recall and F-score are ill-defined and being set to 0.0 in labels with no true samples. Use `zero_division` parameter to control this behavior.\n",
      "  _warn_prf(average, modifier, msg_start, len(result))\n"
     ]
    },
    {
     "name": "stdout",
     "output_type": "stream",
     "text": [
      "              precision    recall  f1-score   support\n",
      "\n",
      "           0       0.65      0.54      0.59    298523\n",
      "           1       0.42      0.53      0.47    187886\n",
      "           2       0.00      0.00      0.00         0\n",
      "\n",
      "    accuracy                           0.54    486409\n",
      "   macro avg       0.36      0.36      0.35    486409\n",
      "weighted avg       0.56      0.54      0.54    486409\n",
      "\n",
      "\n",
      "Loss: tensor(0.6819, device='cuda:0', grad_fn=<NllLossBackward0>)\n",
      "===============================================\n",
      "\n",
      "The %d-th epoch4\n",
      "\n",
      "test\n",
      "\n"
     ]
    },
    {
     "name": "stderr",
     "output_type": "stream",
     "text": [
      "/home/mafs6010g20/anaconda3/envs/ai_finance/lib/python3.7/site-packages/sklearn/metrics/_classification.py:1245: UndefinedMetricWarning: Recall and F-score are ill-defined and being set to 0.0 in labels with no true samples. Use `zero_division` parameter to control this behavior.\n",
      "  _warn_prf(average, modifier, msg_start, len(result))\n",
      "/home/mafs6010g20/anaconda3/envs/ai_finance/lib/python3.7/site-packages/sklearn/metrics/_classification.py:1245: UndefinedMetricWarning: Recall and F-score are ill-defined and being set to 0.0 in labels with no true samples. Use `zero_division` parameter to control this behavior.\n",
      "  _warn_prf(average, modifier, msg_start, len(result))\n",
      "/home/mafs6010g20/anaconda3/envs/ai_finance/lib/python3.7/site-packages/sklearn/metrics/_classification.py:1245: UndefinedMetricWarning: Recall and F-score are ill-defined and being set to 0.0 in labels with no true samples. Use `zero_division` parameter to control this behavior.\n",
      "  _warn_prf(average, modifier, msg_start, len(result))\n"
     ]
    },
    {
     "name": "stdout",
     "output_type": "stream",
     "text": [
      "              precision    recall  f1-score   support\n",
      "\n",
      "           0       0.58      0.50      0.54    796208\n",
      "           1       0.45      0.52      0.48    607767\n",
      "           2       0.00      0.00      0.00         0\n",
      "\n",
      "    accuracy                           0.51   1403975\n",
      "   macro avg       0.34      0.34      0.34   1403975\n",
      "weighted avg       0.52      0.51      0.51   1403975\n",
      "\n",
      "\n",
      "Loss: tensor(0.7023, device='cuda:0', grad_fn=<NllLossBackward0>)\n",
      "===============================================\n",
      "\n",
      "The %d-th epoch5\n",
      "\n",
      "train\n",
      "\n"
     ]
    },
    {
     "name": "stderr",
     "output_type": "stream",
     "text": [
      "/home/mafs6010g20/anaconda3/envs/ai_finance/lib/python3.7/site-packages/sklearn/metrics/_classification.py:1245: UndefinedMetricWarning: Recall and F-score are ill-defined and being set to 0.0 in labels with no true samples. Use `zero_division` parameter to control this behavior.\n",
      "  _warn_prf(average, modifier, msg_start, len(result))\n",
      "/home/mafs6010g20/anaconda3/envs/ai_finance/lib/python3.7/site-packages/sklearn/metrics/_classification.py:1245: UndefinedMetricWarning: Recall and F-score are ill-defined and being set to 0.0 in labels with no true samples. Use `zero_division` parameter to control this behavior.\n",
      "  _warn_prf(average, modifier, msg_start, len(result))\n",
      "/home/mafs6010g20/anaconda3/envs/ai_finance/lib/python3.7/site-packages/sklearn/metrics/_classification.py:1245: UndefinedMetricWarning: Recall and F-score are ill-defined and being set to 0.0 in labels with no true samples. Use `zero_division` parameter to control this behavior.\n",
      "  _warn_prf(average, modifier, msg_start, len(result))\n"
     ]
    },
    {
     "name": "stdout",
     "output_type": "stream",
     "text": [
      "              precision    recall  f1-score   support\n",
      "\n",
      "           0       0.84      0.53      0.65    393413\n",
      "           1       0.22      0.56      0.32     92996\n",
      "           2       0.00      0.00      0.00         0\n",
      "\n",
      "    accuracy                           0.53    486409\n",
      "   macro avg       0.35      0.36      0.32    486409\n",
      "weighted avg       0.72      0.53      0.58    486409\n",
      "\n",
      "\n",
      "Loss: tensor(0.7303, device='cuda:0', grad_fn=<NllLossBackward0>)\n",
      "===============================================\n",
      "\n",
      "The %d-th epoch5\n",
      "\n",
      "test\n",
      "\n"
     ]
    },
    {
     "name": "stderr",
     "output_type": "stream",
     "text": [
      "/home/mafs6010g20/anaconda3/envs/ai_finance/lib/python3.7/site-packages/sklearn/metrics/_classification.py:1245: UndefinedMetricWarning: Recall and F-score are ill-defined and being set to 0.0 in labels with no true samples. Use `zero_division` parameter to control this behavior.\n",
      "  _warn_prf(average, modifier, msg_start, len(result))\n",
      "/home/mafs6010g20/anaconda3/envs/ai_finance/lib/python3.7/site-packages/sklearn/metrics/_classification.py:1245: UndefinedMetricWarning: Recall and F-score are ill-defined and being set to 0.0 in labels with no true samples. Use `zero_division` parameter to control this behavior.\n",
      "  _warn_prf(average, modifier, msg_start, len(result))\n",
      "/home/mafs6010g20/anaconda3/envs/ai_finance/lib/python3.7/site-packages/sklearn/metrics/_classification.py:1245: UndefinedMetricWarning: Recall and F-score are ill-defined and being set to 0.0 in labels with no true samples. Use `zero_division` parameter to control this behavior.\n",
      "  _warn_prf(average, modifier, msg_start, len(result))\n"
     ]
    },
    {
     "name": "stdout",
     "output_type": "stream",
     "text": [
      "              precision    recall  f1-score   support\n",
      "\n",
      "           0       0.84      0.49      0.62   1165572\n",
      "           1       0.18      0.52      0.26    238403\n",
      "           2       0.00      0.00      0.00         0\n",
      "\n",
      "    accuracy                           0.50   1403975\n",
      "   macro avg       0.34      0.34      0.29   1403975\n",
      "weighted avg       0.73      0.50      0.56   1403975\n",
      "\n",
      "\n",
      "Loss: tensor(0.7098, device='cuda:0', grad_fn=<NllLossBackward0>)\n",
      "===============================================\n",
      "\n",
      "The %d-th epoch6\n",
      "\n",
      "train\n",
      "\n"
     ]
    },
    {
     "name": "stderr",
     "output_type": "stream",
     "text": [
      "/home/mafs6010g20/anaconda3/envs/ai_finance/lib/python3.7/site-packages/sklearn/metrics/_classification.py:1245: UndefinedMetricWarning: Recall and F-score are ill-defined and being set to 0.0 in labels with no true samples. Use `zero_division` parameter to control this behavior.\n",
      "  _warn_prf(average, modifier, msg_start, len(result))\n",
      "/home/mafs6010g20/anaconda3/envs/ai_finance/lib/python3.7/site-packages/sklearn/metrics/_classification.py:1245: UndefinedMetricWarning: Recall and F-score are ill-defined and being set to 0.0 in labels with no true samples. Use `zero_division` parameter to control this behavior.\n",
      "  _warn_prf(average, modifier, msg_start, len(result))\n",
      "/home/mafs6010g20/anaconda3/envs/ai_finance/lib/python3.7/site-packages/sklearn/metrics/_classification.py:1245: UndefinedMetricWarning: Recall and F-score are ill-defined and being set to 0.0 in labels with no true samples. Use `zero_division` parameter to control this behavior.\n",
      "  _warn_prf(average, modifier, msg_start, len(result))\n"
     ]
    },
    {
     "name": "stdout",
     "output_type": "stream",
     "text": [
      "              precision    recall  f1-score   support\n",
      "\n",
      "           0       0.71      0.54      0.61    329999\n",
      "           1       0.36      0.54      0.43    156410\n",
      "           2       0.00      0.00      0.00         0\n",
      "\n",
      "    accuracy                           0.54    486409\n",
      "   macro avg       0.36      0.36      0.35    486409\n",
      "weighted avg       0.60      0.54      0.55    486409\n",
      "\n",
      "\n",
      "Loss: tensor(0.7220, device='cuda:0', grad_fn=<NllLossBackward0>)\n",
      "===============================================\n",
      "\n",
      "The %d-th epoch6\n",
      "\n",
      "test\n",
      "\n"
     ]
    },
    {
     "name": "stderr",
     "output_type": "stream",
     "text": [
      "/home/mafs6010g20/anaconda3/envs/ai_finance/lib/python3.7/site-packages/sklearn/metrics/_classification.py:1245: UndefinedMetricWarning: Recall and F-score are ill-defined and being set to 0.0 in labels with no true samples. Use `zero_division` parameter to control this behavior.\n",
      "  _warn_prf(average, modifier, msg_start, len(result))\n",
      "/home/mafs6010g20/anaconda3/envs/ai_finance/lib/python3.7/site-packages/sklearn/metrics/_classification.py:1245: UndefinedMetricWarning: Recall and F-score are ill-defined and being set to 0.0 in labels with no true samples. Use `zero_division` parameter to control this behavior.\n",
      "  _warn_prf(average, modifier, msg_start, len(result))\n",
      "/home/mafs6010g20/anaconda3/envs/ai_finance/lib/python3.7/site-packages/sklearn/metrics/_classification.py:1245: UndefinedMetricWarning: Recall and F-score are ill-defined and being set to 0.0 in labels with no true samples. Use `zero_division` parameter to control this behavior.\n",
      "  _warn_prf(average, modifier, msg_start, len(result))\n"
     ]
    },
    {
     "name": "stdout",
     "output_type": "stream",
     "text": [
      "              precision    recall  f1-score   support\n",
      "\n",
      "           0       0.68      0.49      0.57    949904\n",
      "           1       0.33      0.52      0.40    454071\n",
      "           2       0.00      0.00      0.00         0\n",
      "\n",
      "    accuracy                           0.50   1403975\n",
      "   macro avg       0.34      0.34      0.33   1403975\n",
      "weighted avg       0.57      0.50      0.52   1403975\n",
      "\n",
      "\n",
      "Loss: tensor(0.7031, device='cuda:0', grad_fn=<NllLossBackward0>)\n",
      "===============================================\n",
      "\n",
      "The %d-th epoch7\n",
      "\n",
      "train\n",
      "\n"
     ]
    },
    {
     "name": "stderr",
     "output_type": "stream",
     "text": [
      "/home/mafs6010g20/anaconda3/envs/ai_finance/lib/python3.7/site-packages/sklearn/metrics/_classification.py:1245: UndefinedMetricWarning: Recall and F-score are ill-defined and being set to 0.0 in labels with no true samples. Use `zero_division` parameter to control this behavior.\n",
      "  _warn_prf(average, modifier, msg_start, len(result))\n",
      "/home/mafs6010g20/anaconda3/envs/ai_finance/lib/python3.7/site-packages/sklearn/metrics/_classification.py:1245: UndefinedMetricWarning: Recall and F-score are ill-defined and being set to 0.0 in labels with no true samples. Use `zero_division` parameter to control this behavior.\n",
      "  _warn_prf(average, modifier, msg_start, len(result))\n",
      "/home/mafs6010g20/anaconda3/envs/ai_finance/lib/python3.7/site-packages/sklearn/metrics/_classification.py:1245: UndefinedMetricWarning: Recall and F-score are ill-defined and being set to 0.0 in labels with no true samples. Use `zero_division` parameter to control this behavior.\n",
      "  _warn_prf(average, modifier, msg_start, len(result))\n"
     ]
    },
    {
     "name": "stdout",
     "output_type": "stream",
     "text": [
      "              precision    recall  f1-score   support\n",
      "\n",
      "           0       0.40      0.57      0.47    175962\n",
      "           1       0.68      0.52      0.59    310447\n",
      "           2       0.00      0.00      0.00         0\n",
      "\n",
      "    accuracy                           0.53    486409\n",
      "   macro avg       0.36      0.36      0.35    486409\n",
      "weighted avg       0.58      0.53      0.55    486409\n",
      "\n",
      "\n",
      "Loss: tensor(0.6265, device='cuda:0', grad_fn=<NllLossBackward0>)\n",
      "===============================================\n",
      "\n",
      "The %d-th epoch7\n",
      "\n",
      "test\n",
      "\n"
     ]
    },
    {
     "name": "stderr",
     "output_type": "stream",
     "text": [
      "/home/mafs6010g20/anaconda3/envs/ai_finance/lib/python3.7/site-packages/sklearn/metrics/_classification.py:1245: UndefinedMetricWarning: Recall and F-score are ill-defined and being set to 0.0 in labels with no true samples. Use `zero_division` parameter to control this behavior.\n",
      "  _warn_prf(average, modifier, msg_start, len(result))\n",
      "/home/mafs6010g20/anaconda3/envs/ai_finance/lib/python3.7/site-packages/sklearn/metrics/_classification.py:1245: UndefinedMetricWarning: Recall and F-score are ill-defined and being set to 0.0 in labels with no true samples. Use `zero_division` parameter to control this behavior.\n",
      "  _warn_prf(average, modifier, msg_start, len(result))\n",
      "/home/mafs6010g20/anaconda3/envs/ai_finance/lib/python3.7/site-packages/sklearn/metrics/_classification.py:1245: UndefinedMetricWarning: Recall and F-score are ill-defined and being set to 0.0 in labels with no true samples. Use `zero_division` parameter to control this behavior.\n",
      "  _warn_prf(average, modifier, msg_start, len(result))\n"
     ]
    },
    {
     "name": "stdout",
     "output_type": "stream",
     "text": [
      "              precision    recall  f1-score   support\n",
      "\n",
      "           0       0.32      0.50      0.39    437269\n",
      "           1       0.70      0.51      0.59    966706\n",
      "           2       0.00      0.00      0.00         0\n",
      "\n",
      "    accuracy                           0.51   1403975\n",
      "   macro avg       0.34      0.34      0.33   1403975\n",
      "weighted avg       0.58      0.51      0.53   1403975\n",
      "\n",
      "\n",
      "Loss: tensor(0.7035, device='cuda:0', grad_fn=<NllLossBackward0>)\n",
      "===============================================\n",
      "\n",
      "The %d-th epoch8\n",
      "\n",
      "train\n",
      "\n"
     ]
    },
    {
     "name": "stderr",
     "output_type": "stream",
     "text": [
      "/home/mafs6010g20/anaconda3/envs/ai_finance/lib/python3.7/site-packages/sklearn/metrics/_classification.py:1245: UndefinedMetricWarning: Recall and F-score are ill-defined and being set to 0.0 in labels with no true samples. Use `zero_division` parameter to control this behavior.\n",
      "  _warn_prf(average, modifier, msg_start, len(result))\n",
      "/home/mafs6010g20/anaconda3/envs/ai_finance/lib/python3.7/site-packages/sklearn/metrics/_classification.py:1245: UndefinedMetricWarning: Recall and F-score are ill-defined and being set to 0.0 in labels with no true samples. Use `zero_division` parameter to control this behavior.\n",
      "  _warn_prf(average, modifier, msg_start, len(result))\n",
      "/home/mafs6010g20/anaconda3/envs/ai_finance/lib/python3.7/site-packages/sklearn/metrics/_classification.py:1245: UndefinedMetricWarning: Recall and F-score are ill-defined and being set to 0.0 in labels with no true samples. Use `zero_division` parameter to control this behavior.\n",
      "  _warn_prf(average, modifier, msg_start, len(result))\n"
     ]
    },
    {
     "name": "stdout",
     "output_type": "stream",
     "text": [
      "              precision    recall  f1-score   support\n",
      "\n",
      "           0       0.67      0.55      0.60    302819\n",
      "           1       0.43      0.55      0.48    183590\n",
      "           2       0.00      0.00      0.00         0\n",
      "\n",
      "    accuracy                           0.55    486409\n",
      "   macro avg       0.37      0.37      0.36    486409\n",
      "weighted avg       0.58      0.55      0.56    486409\n",
      "\n",
      "\n",
      "Loss: tensor(0.7306, device='cuda:0', grad_fn=<NllLossBackward0>)\n",
      "===============================================\n",
      "\n",
      "The %d-th epoch8\n",
      "\n",
      "test\n",
      "\n"
     ]
    },
    {
     "name": "stderr",
     "output_type": "stream",
     "text": [
      "/home/mafs6010g20/anaconda3/envs/ai_finance/lib/python3.7/site-packages/sklearn/metrics/_classification.py:1245: UndefinedMetricWarning: Recall and F-score are ill-defined and being set to 0.0 in labels with no true samples. Use `zero_division` parameter to control this behavior.\n",
      "  _warn_prf(average, modifier, msg_start, len(result))\n",
      "/home/mafs6010g20/anaconda3/envs/ai_finance/lib/python3.7/site-packages/sklearn/metrics/_classification.py:1245: UndefinedMetricWarning: Recall and F-score are ill-defined and being set to 0.0 in labels with no true samples. Use `zero_division` parameter to control this behavior.\n",
      "  _warn_prf(average, modifier, msg_start, len(result))\n",
      "/home/mafs6010g20/anaconda3/envs/ai_finance/lib/python3.7/site-packages/sklearn/metrics/_classification.py:1245: UndefinedMetricWarning: Recall and F-score are ill-defined and being set to 0.0 in labels with no true samples. Use `zero_division` parameter to control this behavior.\n",
      "  _warn_prf(average, modifier, msg_start, len(result))\n"
     ]
    },
    {
     "name": "stdout",
     "output_type": "stream",
     "text": [
      "              precision    recall  f1-score   support\n",
      "\n",
      "           0       0.61      0.50      0.55    835713\n",
      "           1       0.42      0.52      0.46    568262\n",
      "           2       0.00      0.00      0.00         0\n",
      "\n",
      "    accuracy                           0.51   1403975\n",
      "   macro avg       0.34      0.34      0.34   1403975\n",
      "weighted avg       0.53      0.51      0.51   1403975\n",
      "\n",
      "\n",
      "Loss: tensor(0.7034, device='cuda:0', grad_fn=<NllLossBackward0>)\n",
      "===============================================\n",
      "\n",
      "The %d-th epoch9\n",
      "\n",
      "train\n",
      "\n"
     ]
    },
    {
     "name": "stderr",
     "output_type": "stream",
     "text": [
      "/home/mafs6010g20/anaconda3/envs/ai_finance/lib/python3.7/site-packages/sklearn/metrics/_classification.py:1245: UndefinedMetricWarning: Recall and F-score are ill-defined and being set to 0.0 in labels with no true samples. Use `zero_division` parameter to control this behavior.\n",
      "  _warn_prf(average, modifier, msg_start, len(result))\n",
      "/home/mafs6010g20/anaconda3/envs/ai_finance/lib/python3.7/site-packages/sklearn/metrics/_classification.py:1245: UndefinedMetricWarning: Recall and F-score are ill-defined and being set to 0.0 in labels with no true samples. Use `zero_division` parameter to control this behavior.\n",
      "  _warn_prf(average, modifier, msg_start, len(result))\n",
      "/home/mafs6010g20/anaconda3/envs/ai_finance/lib/python3.7/site-packages/sklearn/metrics/_classification.py:1245: UndefinedMetricWarning: Recall and F-score are ill-defined and being set to 0.0 in labels with no true samples. Use `zero_division` parameter to control this behavior.\n",
      "  _warn_prf(average, modifier, msg_start, len(result))\n"
     ]
    },
    {
     "name": "stdout",
     "output_type": "stream",
     "text": [
      "              precision    recall  f1-score   support\n",
      "\n",
      "           0       0.47      0.57      0.51    202941\n",
      "           1       0.64      0.53      0.58    283468\n",
      "           2       0.00      0.00      0.00         0\n",
      "\n",
      "    accuracy                           0.55    486409\n",
      "   macro avg       0.37      0.37      0.36    486409\n",
      "weighted avg       0.57      0.55      0.55    486409\n",
      "\n",
      "\n",
      "Loss: tensor(0.7129, device='cuda:0', grad_fn=<NllLossBackward0>)\n",
      "===============================================\n",
      "\n",
      "The %d-th epoch9\n",
      "\n",
      "test\n",
      "\n"
     ]
    },
    {
     "name": "stderr",
     "output_type": "stream",
     "text": [
      "/home/mafs6010g20/anaconda3/envs/ai_finance/lib/python3.7/site-packages/sklearn/metrics/_classification.py:1245: UndefinedMetricWarning: Recall and F-score are ill-defined and being set to 0.0 in labels with no true samples. Use `zero_division` parameter to control this behavior.\n",
      "  _warn_prf(average, modifier, msg_start, len(result))\n",
      "/home/mafs6010g20/anaconda3/envs/ai_finance/lib/python3.7/site-packages/sklearn/metrics/_classification.py:1245: UndefinedMetricWarning: Recall and F-score are ill-defined and being set to 0.0 in labels with no true samples. Use `zero_division` parameter to control this behavior.\n",
      "  _warn_prf(average, modifier, msg_start, len(result))\n",
      "/home/mafs6010g20/anaconda3/envs/ai_finance/lib/python3.7/site-packages/sklearn/metrics/_classification.py:1245: UndefinedMetricWarning: Recall and F-score are ill-defined and being set to 0.0 in labels with no true samples. Use `zero_division` parameter to control this behavior.\n",
      "  _warn_prf(average, modifier, msg_start, len(result))\n"
     ]
    },
    {
     "name": "stdout",
     "output_type": "stream",
     "text": [
      "              precision    recall  f1-score   support\n",
      "\n",
      "           0       0.38      0.51      0.43    510217\n",
      "           1       0.65      0.52      0.57    893758\n",
      "           2       0.00      0.00      0.00         0\n",
      "\n",
      "    accuracy                           0.51   1403975\n",
      "   macro avg       0.34      0.34      0.34   1403975\n",
      "weighted avg       0.55      0.51      0.52   1403975\n",
      "\r\n",
      "\n",
      "Loss: tensor(0.7013, device='cuda:0', grad_fn=<NllLossBackward0>)\n"
     ]
    }
   ],
   "source": [
    "# out of time validation\n",
    "validator = ModelTrainer(dataloader=valid_data_loader)\n",
    "\n",
    "#%%\n",
    "validator.train()"
   ]
  },
  {
   "cell_type": "code",
   "execution_count": null,
   "metadata": {},
   "outputs": [],
   "source": []
  }
 ],
 "metadata": {
  "accelerator": "GPU",
  "colab": {
   "collapsed_sections": [],
   "name": "CNN_version1.ipynb",
   "provenance": []
  },
  "kernelspec": {
   "display_name": "Python 3",
   "language": "python",
   "name": "python3"
  },
  "language_info": {
   "codemirror_mode": {
    "name": "ipython",
    "version": 3
   },
   "file_extension": ".py",
   "mimetype": "text/x-python",
   "name": "python",
   "nbconvert_exporter": "python",
   "pygments_lexer": "ipython3",
   "version": "3.7.10"
  }
 },
 "nbformat": 4,
 "nbformat_minor": 1
}
