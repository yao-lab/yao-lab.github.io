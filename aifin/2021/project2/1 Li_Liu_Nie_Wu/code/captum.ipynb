{
 "cells": [
  {
   "cell_type": "code",
   "execution_count": 1,
   "id": "e1ff7c04-45d2-4be0-a2ed-a98369ff8fef",
   "metadata": {},
   "outputs": [],
   "source": [
    "import numpy as np\n",
    "import pandas as pd\n",
    "\n",
    "import os.path as op\n",
    "import os\n",
    "os.environ[\"CUDA_VISIBLE_DEVICES\"] = \"0,1,2,3\"\n",
    "\n",
    "import torch\n",
    "import torch.nn as nn\n",
    "from torch.utils.data import Dataset\n",
    "from torch.utils.data import DataLoader\n",
    "from torch.utils.data import random_split\n",
    "\n",
    "from captum.attr import IntegratedGradients, GuidedGradCam\n",
    "from matplotlib import pyplot as plt\n",
    "\n",
    "torch.manual_seed(42)\n",
    "\n",
    "IMAGE_WIDTH = {5: 15, 20: 60, 60: 180}\n",
    "IMAGE_HEIGHT = {5: 32, 20: 64, 60: 96}  "
   ]
  },
  {
   "cell_type": "code",
   "execution_count": 2,
   "id": "ae0f9f3e-052f-40c5-92c0-abdedef83fe1",
   "metadata": {},
   "outputs": [],
   "source": [
    "year = 2017\n",
    "images = np.memmap(op.join(\"./monthly_20d\", f\"20d_month_has_vb_[20]_ma_{year}_images.dat\"), dtype=np.uint8, mode='r').reshape(\n",
    "                        (-1, IMAGE_HEIGHT[20], IMAGE_WIDTH[20]))"
   ]
  },
  {
   "cell_type": "code",
   "execution_count": 3,
   "id": "3f92d6fb-a9d4-45e2-8bd2-c33a20ba9e8b",
   "metadata": {},
   "outputs": [
    {
     "data": {
      "text/html": [
       "<div>\n",
       "<style scoped>\n",
       "    .dataframe tbody tr th:only-of-type {\n",
       "        vertical-align: middle;\n",
       "    }\n",
       "\n",
       "    .dataframe tbody tr th {\n",
       "        vertical-align: top;\n",
       "    }\n",
       "\n",
       "    .dataframe thead th {\n",
       "        text-align: right;\n",
       "    }\n",
       "</style>\n",
       "<table border=\"1\" class=\"dataframe\">\n",
       "  <thead>\n",
       "    <tr style=\"text-align: right;\">\n",
       "      <th></th>\n",
       "      <th>Date</th>\n",
       "      <th>StockID</th>\n",
       "      <th>MarketCap</th>\n",
       "      <th>Ret_5d</th>\n",
       "      <th>Ret_20d</th>\n",
       "      <th>Ret_60d</th>\n",
       "      <th>Ret_month</th>\n",
       "      <th>EWMA_vol</th>\n",
       "    </tr>\n",
       "  </thead>\n",
       "  <tbody>\n",
       "    <tr>\n",
       "      <th>0</th>\n",
       "      <td>2017-01-31</td>\n",
       "      <td>10001</td>\n",
       "      <td>133078.0</td>\n",
       "      <td>4.370390e-07</td>\n",
       "      <td>-0.000002</td>\n",
       "      <td>-0.005954</td>\n",
       "      <td>-0.000002</td>\n",
       "      <td>0.000450</td>\n",
       "    </tr>\n",
       "    <tr>\n",
       "      <th>1</th>\n",
       "      <td>2017-02-28</td>\n",
       "      <td>10001</td>\n",
       "      <td>133078.0</td>\n",
       "      <td>3.951997e-03</td>\n",
       "      <td>0.002795</td>\n",
       "      <td>0.009953</td>\n",
       "      <td>0.009953</td>\n",
       "      <td>0.000180</td>\n",
       "    </tr>\n",
       "    <tr>\n",
       "      <th>2</th>\n",
       "      <td>2017-03-31</td>\n",
       "      <td>10001</td>\n",
       "      <td>133604.0</td>\n",
       "      <td>-7.874612e-03</td>\n",
       "      <td>-0.015749</td>\n",
       "      <td>0.021723</td>\n",
       "      <td>-0.015749</td>\n",
       "      <td>0.000064</td>\n",
       "    </tr>\n",
       "    <tr>\n",
       "      <th>3</th>\n",
       "      <td>2017-04-28</td>\n",
       "      <td>10001</td>\n",
       "      <td>131500.0</td>\n",
       "      <td>9.999880e-03</td>\n",
       "      <td>0.016001</td>\n",
       "      <td>0.038072</td>\n",
       "      <td>0.016001</td>\n",
       "      <td>0.000030</td>\n",
       "    </tr>\n",
       "    <tr>\n",
       "      <th>4</th>\n",
       "      <td>2017-05-31</td>\n",
       "      <td>10001</td>\n",
       "      <td>133604.0</td>\n",
       "      <td>4.370390e-07</td>\n",
       "      <td>0.021722</td>\n",
       "      <td>NaN</td>\n",
       "      <td>0.023703</td>\n",
       "      <td>0.000015</td>\n",
       "    </tr>\n",
       "  </tbody>\n",
       "</table>\n",
       "</div>"
      ],
      "text/plain": [
       "        Date StockID  MarketCap        Ret_5d   Ret_20d   Ret_60d  Ret_month  \\\n",
       "0 2017-01-31   10001   133078.0  4.370390e-07 -0.000002 -0.005954  -0.000002   \n",
       "1 2017-02-28   10001   133078.0  3.951997e-03  0.002795  0.009953   0.009953   \n",
       "2 2017-03-31   10001   133604.0 -7.874612e-03 -0.015749  0.021723  -0.015749   \n",
       "3 2017-04-28   10001   131500.0  9.999880e-03  0.016001  0.038072   0.016001   \n",
       "4 2017-05-31   10001   133604.0  4.370390e-07  0.021722       NaN   0.023703   \n",
       "\n",
       "   EWMA_vol  \n",
       "0  0.000450  \n",
       "1  0.000180  \n",
       "2  0.000064  \n",
       "3  0.000030  \n",
       "4  0.000015  "
      ]
     },
     "execution_count": 3,
     "metadata": {},
     "output_type": "execute_result"
    }
   ],
   "source": [
    "label_df = pd.read_feather(op.join(\"./monthly_20d\", f\"20d_month_has_vb_[20]_ma_{year}_labels_w_delay.feather\"))\n",
    "assert(len(label_df) == len(images))\n",
    "label_df.head()"
   ]
  },
  {
   "cell_type": "code",
   "execution_count": 4,
   "id": "c19acd8d-0a18-433c-a82d-8d83ac8b8e99",
   "metadata": {},
   "outputs": [],
   "source": [
    "class Net(nn.Module):\n",
    "    def __init__(self):\n",
    "        super().__init__()\n",
    "        self.layer1 = nn.Sequential(\n",
    "            nn.Conv2d(1, 64, kernel_size=(5,3), stride=(3,1), dilation=(2,1), padding=(12,1)),\n",
    "            nn.BatchNorm2d(64),\n",
    "            nn.LeakyReLU(negative_slope=0.01, inplace=True),\n",
    "            nn.MaxPool2d((2, 1), stride=(2, 1)),\n",
    "        )\n",
    "        self.layer2 = nn.Sequential(\n",
    "            nn.Conv2d(64, 128, kernel_size=(5,3), stride=(3,1), dilation=(2,1), padding=(12,1)),\n",
    "            nn.BatchNorm2d(128),\n",
    "            nn.LeakyReLU(negative_slope=0.01, inplace=True),\n",
    "            nn.MaxPool2d((2, 1), stride=(2, 1)),\n",
    "        )\n",
    "        self.layer3 = nn.Sequential(\n",
    "            nn.Conv2d(128, 256, kernel_size=(5,3), stride=(3,1), dilation=(2,1), padding=(12,1)),\n",
    "            nn.BatchNorm2d(256),\n",
    "            nn.LeakyReLU(negative_slope=0.01, inplace=True),\n",
    "            nn.MaxPool2d((2, 1), stride=(2, 1)),\n",
    "        )\n",
    "        self.fc1 = nn.Sequential(\n",
    "            nn.Dropout(p=0.5),\n",
    "            nn.Linear(46080, 2),\n",
    "        )\n",
    "        self.softmax = nn.Softmax(dim=1)\n",
    "       \n",
    "    def forward(self, x):\n",
    "        x = x.reshape(-1,1,64,60)\n",
    "        x = self.layer1(x)\n",
    "        x = self.layer2(x)\n",
    "        x = self.layer3(x)\n",
    "        x = x.reshape(-1,46080)\n",
    "        x = self.fc1(x)\n",
    "        x = self.softmax(x)\n",
    "        return x"
   ]
  },
  {
   "cell_type": "code",
   "execution_count": 5,
   "id": "2afed03b-23c2-44c0-9e64-4482fad3d566",
   "metadata": {},
   "outputs": [],
   "source": [
    "net = torch.load('/home/clidg/proj_2/pt/baseline_epoch_10_train_0.688653_eval_0.686537_.pt')"
   ]
  },
  {
   "cell_type": "code",
   "execution_count": 6,
   "id": "e65a630e-cf21-47f0-9cd5-e69257620c73",
   "metadata": {},
   "outputs": [
    {
     "data": {
      "text/plain": [
       "DataParallel(\n",
       "  (module): Net(\n",
       "    (layer1): Sequential(\n",
       "      (0): Conv2d(1, 64, kernel_size=(5, 3), stride=(3, 1), padding=(12, 1), dilation=(2, 1))\n",
       "      (1): BatchNorm2d(64, eps=1e-05, momentum=0.1, affine=True, track_running_stats=True)\n",
       "      (2): LeakyReLU(negative_slope=0.01, inplace=True)\n",
       "      (3): MaxPool2d(kernel_size=(2, 1), stride=(2, 1), padding=0, dilation=1, ceil_mode=False)\n",
       "    )\n",
       "    (layer2): Sequential(\n",
       "      (0): Conv2d(64, 128, kernel_size=(5, 3), stride=(3, 1), padding=(12, 1), dilation=(2, 1))\n",
       "      (1): BatchNorm2d(128, eps=1e-05, momentum=0.1, affine=True, track_running_stats=True)\n",
       "      (2): LeakyReLU(negative_slope=0.01, inplace=True)\n",
       "      (3): MaxPool2d(kernel_size=(2, 1), stride=(2, 1), padding=0, dilation=1, ceil_mode=False)\n",
       "    )\n",
       "    (layer3): Sequential(\n",
       "      (0): Conv2d(128, 256, kernel_size=(5, 3), stride=(3, 1), padding=(12, 1), dilation=(2, 1))\n",
       "      (1): BatchNorm2d(256, eps=1e-05, momentum=0.1, affine=True, track_running_stats=True)\n",
       "      (2): LeakyReLU(negative_slope=0.01, inplace=True)\n",
       "      (3): MaxPool2d(kernel_size=(2, 1), stride=(2, 1), padding=0, dilation=1, ceil_mode=False)\n",
       "    )\n",
       "    (fc1): Sequential(\n",
       "      (0): Dropout(p=0.5, inplace=False)\n",
       "      (1): Linear(in_features=46080, out_features=2, bias=True)\n",
       "    )\n",
       "    (softmax): Softmax(dim=1)\n",
       "  )\n",
       ")"
      ]
     },
     "execution_count": 6,
     "metadata": {},
     "output_type": "execute_result"
    }
   ],
   "source": [
    "net.eval()"
   ]
  },
  {
   "cell_type": "code",
   "execution_count": 33,
   "id": "9b7c34c3-0948-4dca-ae00-0ee459bf839e",
   "metadata": {},
   "outputs": [],
   "source": [
    "x = torch.Tensor(images[42].copy())\n",
    "x = x.reshape(-1,1,64,60)\n",
    "x.requires_grad = True\n",
    "baseline = torch.zeros_like(x)"
   ]
  },
  {
   "cell_type": "code",
   "execution_count": 34,
   "id": "745e54c5-79e6-4065-9f3a-c6d5fb5f3cd5",
   "metadata": {},
   "outputs": [
    {
     "name": "stdout",
     "output_type": "stream",
     "text": [
      "IG Attributions: tensor([[[[ 0.0000e+00, -0.0000e+00, -0.0000e+00,  ..., -0.0000e+00,\n",
      "           -0.0000e+00,  0.0000e+00],\n",
      "          [-0.0000e+00, -5.4040e-04, -0.0000e+00,  ...,  0.0000e+00,\n",
      "            0.0000e+00,  0.0000e+00],\n",
      "          [ 0.0000e+00,  6.2465e-03,  0.0000e+00,  ..., -0.0000e+00,\n",
      "           -0.0000e+00,  0.0000e+00],\n",
      "          ...,\n",
      "          [-0.0000e+00,  6.1586e-03, -0.0000e+00,  ..., -0.0000e+00,\n",
      "           -2.2493e-02, -0.0000e+00],\n",
      "          [ 0.0000e+00,  1.8688e-02, -0.0000e+00,  ...,  0.0000e+00,\n",
      "           -6.3821e-02, -0.0000e+00],\n",
      "          [-0.0000e+00,  8.7603e-05, -0.0000e+00,  ..., -0.0000e+00,\n",
      "            4.0187e-03, -0.0000e+00]]]], device='cuda:0', dtype=torch.float64,\n",
      "       grad_fn=<MulBackward0>)\n",
      "Convergence Delta: tensor([0.0042], device='cuda:0', dtype=torch.float64)\n"
     ]
    }
   ],
   "source": [
    "ig = IntegratedGradients(net)\n",
    "attributions, delta = ig.attribute(x.cuda(), baseline.cuda(), target=0, return_convergence_delta=True)\n",
    "print('IG Attributions:', attributions)\n",
    "print('Convergence Delta:', delta)"
   ]
  },
  {
   "cell_type": "code",
   "execution_count": 36,
   "id": "6bc3e935-b15d-498b-b851-0f2518c0b9cc",
   "metadata": {},
   "outputs": [
    {
     "data": {
      "text/plain": [
       "<matplotlib.image.AxesImage at 0x7fed68049be0>"
      ]
     },
     "execution_count": 36,
     "metadata": {},
     "output_type": "execute_result"
    },
    {
     "data": {
      "image/png": "[encoded data removed]",
      "text/plain": [
       "<Figure size 432x288 with 1 Axes>"
      ]
     },
     "metadata": {
      "needs_background": "light"
     },
     "output_type": "display_data"
    }
   ],
   "source": [
    "plt.imshow(x[0,0].detach().cpu().numpy())"
   ]
  },
  {
   "cell_type": "code",
   "execution_count": 37,
   "id": "9048571d-377a-4631-8ddb-305a806ff0a9",
   "metadata": {},
   "outputs": [
    {
     "data": {
      "text/plain": [
       "<matplotlib.image.AxesImage at 0x7fed5c1e68b0>"
      ]
     },
     "execution_count": 37,
     "metadata": {},
     "output_type": "execute_result"
    },
    {
     "data": {
      "image/png": "[encoded data removed]",
      "text/plain": [
       "<Figure size 432x288 with 1 Axes>"
      ]
     },
     "metadata": {
      "needs_background": "light"
     },
     "output_type": "display_data"
    }
   ],
   "source": [
    "plt.imshow(abs(attributions.detach().cpu().numpy()[0,0]),vmin=0,vmax=0.02)"
   ]
  },
  {
   "cell_type": "code",
   "execution_count": 38,
   "id": "91f1764a-4243-4593-8eb5-df7fd635f606",
   "metadata": {},
   "outputs": [
    {
     "data": {
      "text/plain": [
       "<matplotlib.image.AxesImage at 0x7fed5c144640>"
      ]
     },
     "execution_count": 38,
     "metadata": {},
     "output_type": "execute_result"
    },
    {
     "data": {
      "image/png": "[encoded data removed]",
      "text/plain": [
       "<Figure size 432x288 with 1 Axes>"
      ]
     },
     "metadata": {
      "needs_background": "light"
     },
     "output_type": "display_data"
    }
   ],
   "source": [
    "plt.imshow(attributions.detach().cpu().numpy()[0,0],vmin=0,vmax=0.02)"
   ]
  },
  {
   "cell_type": "code",
   "execution_count": 39,
   "id": "5cb5e00b-eb46-478a-9412-28655bc706c2",
   "metadata": {},
   "outputs": [
    {
     "data": {
      "text/plain": [
       "<matplotlib.image.AxesImage at 0x7fed5c121190>"
      ]
     },
     "execution_count": 39,
     "metadata": {},
     "output_type": "execute_result"
    },
    {
     "data": {
      "image/png": "[encoded data removed]",
      "text/plain": [
       "<Figure size 432x288 with 1 Axes>"
      ]
     },
     "metadata": {
      "needs_background": "light"
     },
     "output_type": "display_data"
    }
   ],
   "source": [
    "plt.imshow(-attributions.detach().cpu().numpy()[0,0],vmin=0,vmax=0.02)"
   ]
  },
  {
   "cell_type": "code",
   "execution_count": 60,
   "id": "5f84902e-1472-4073-80c5-90feee662800",
   "metadata": {},
   "outputs": [],
   "source": [
    "cam_layer_1 = GuidedGradCam(net, net.module.layer1)\n",
    "attributions_layer_1 = cam_layer_1.attribute(x.cuda(), target=1)\n",
    "cam_layer_2 = GuidedGradCam(net, net.module.layer2)\n",
    "attributions_layer_2 = cam_layer_2.attribute(x.cuda(), target=1)\n",
    "cam_layer_3 = GuidedGradCam(net, net.module.layer3)\n",
    "attributions_layer_3 = cam_layer_3.attribute(x.cuda(), target=1)"
   ]
  },
  {
   "cell_type": "code",
   "execution_count": 69,
   "id": "08fd5ad9-e958-4c6e-ada5-328ca0d57649",
   "metadata": {},
   "outputs": [
    {
     "data": {
      "text/plain": [
       "<matplotlib.image.AxesImage at 0x7feca96caf70>"
      ]
     },
     "execution_count": 69,
     "metadata": {},
     "output_type": "execute_result"
    },
    {
     "data": {
      "image/png": "[encoded data removed]",
      "text/plain": [
       "<Figure size 432x288 with 1 Axes>"
      ]
     },
     "metadata": {
      "needs_background": "light"
     },
     "output_type": "display_data"
    }
   ],
   "source": [
    "plt.imshow(abs(attributions_layer_1.detach().cpu().numpy()[0,0]), vmax=1e-8)"
   ]
  },
  {
   "cell_type": "code",
   "execution_count": 70,
   "id": "c7a117b9-6c41-4b85-b282-690afeeb59f0",
   "metadata": {},
   "outputs": [
    {
     "data": {
      "text/plain": [
       "<matplotlib.image.AxesImage at 0x7feca96b0250>"
      ]
     },
     "execution_count": 70,
     "metadata": {},
     "output_type": "execute_result"
    },
    {
     "data": {
      "image/png": "[encoded data removed]",
      "text/plain": [
       "<Figure size 432x288 with 1 Axes>"
      ]
     },
     "metadata": {
      "needs_background": "light"
     },
     "output_type": "display_data"
    }
   ],
   "source": [
    "plt.imshow(abs(attributions_layer_2.detach().cpu().numpy()[0,0]), vmax=1e-7)"
   ]
  },
  {
   "cell_type": "code",
   "execution_count": 68,
   "id": "845f1fe5-2a83-49ac-8767-7edbddc7988c",
   "metadata": {},
   "outputs": [
    {
     "data": {
      "text/plain": [
       "<matplotlib.image.AxesImage at 0x7feca9700160>"
      ]
     },
     "execution_count": 68,
     "metadata": {},
     "output_type": "execute_result"
    },
    {
     "data": {
      "image/png": "[encoded data removed]",
      "text/plain": [
       "<Figure size 432x288 with 1 Axes>"
      ]
     },
     "metadata": {
      "needs_background": "light"
     },
     "output_type": "display_data"
    }
   ],
   "source": [
    "plt.imshow(abs(attributions_layer_3.detach().cpu().numpy()[0,0]), vmax=1e-7)"
   ]
  },
  {
   "cell_type": "code",
   "execution_count": null,
   "id": "3be3f801-2627-4c9f-967a-3c17ca484217",
   "metadata": {},
   "outputs": [],
   "source": []
  }
 ],
 "metadata": {
  "kernelspec": {
   "display_name": "Python 3",
   "language": "python",
   "name": "python3"
  },
  "language_info": {
   "codemirror_mode": {
    "name": "ipython",
    "version": 3
   },
   "file_extension": ".py",
   "mimetype": "text/x-python",
   "name": "python",
   "nbconvert_exporter": "python",
   "pygments_lexer": "ipython3",
   "version": "3.8.8"
  }
 },
 "nbformat": 4,
 "nbformat_minor": 5
}
