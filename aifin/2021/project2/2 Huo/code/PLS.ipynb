{
 "cells": [
  {
   "cell_type": "code",
   "execution_count": 1,
   "metadata": {},
   "outputs": [],
   "source": [
    "import pandas as pd\n",
    "import numpy as np\n",
    "from sklearn.linear_model import ElasticNet\n",
    "from IPython.core.interactiveshell import InteractiveShell\n",
    "InteractiveShell.ast_node_interactivity = \"all\"\n",
    "import warnings\n",
    "warnings.filterwarnings(\"ignore\")\n",
    "from numpy import mean"
   ]
  },
  {
   "cell_type": "code",
   "execution_count": 17,
   "metadata": {},
   "outputs": [],
   "source": [
    "def r2_oos(y_true, y_pred, sample_weight=None):\n",
    "    if sample_weight is not None:\n",
    "        weight = sample_weight[:, np.newaxis]\n",
    "    else:\n",
    "        weight = 1.\n",
    "    y_true = np.array(y_true, dtype=np.float16)\n",
    "    y_pred = np.array(y_pred, dtype=np.float16)\n",
    "    \n",
    "    numerator = 0 \n",
    "    for i in range(len(y_true)):\n",
    "        numerator += (y_true[i] - y_pred[i]) ** 2\n",
    "    #numerator = (weight * (y_true - y_pred) ** 2).sum(axis=0,\n",
    "    #                                                  dtype=np.float16)\n",
    "    denominator = (weight * (y_true) ** 2).sum(axis=0,\n",
    "                                                    dtype=np.float16)\n",
    "    numerator = numerator[0]\n",
    "    \n",
    "    output_scores = 1 - (numerator / denominator)\n",
    "\n",
    "    return output_scores\n",
    "\n",
    "def recur_eval_dataset(dataset, year_start, year_stop):\n",
    "    n = year_start + 12\n",
    "    while n <= year_stop:\n",
    "        train = dataset[dataset['DATE'] < year_start * 10000 + 101]\n",
    "        vali = dataset[(dataset['DATE'] < n * 10000 + 101) & (dataset['DATE'] > year_start * 10000 + 101)]\n",
    "        test = dataset[(dataset['DATE'] < (n + 1) * 10000 + 101) & (dataset['DATE'] > n * 10000 + 101)]\n",
    "        yield train, vali, test\n",
    "        year_start += 1\n",
    "        n = year_start + 12"
   ]
  },
  {
   "cell_type": "code",
   "execution_count": 3,
   "metadata": {},
   "outputs": [
    {
     "data": {
      "text/html": [
       "<div>\n",
       "<style scoped>\n",
       "    .dataframe tbody tr th:only-of-type {\n",
       "        vertical-align: middle;\n",
       "    }\n",
       "\n",
       "    .dataframe tbody tr th {\n",
       "        vertical-align: top;\n",
       "    }\n",
       "\n",
       "    .dataframe thead th {\n",
       "        text-align: right;\n",
       "    }\n",
       "</style>\n",
       "<table border=\"1\" class=\"dataframe\">\n",
       "  <thead>\n",
       "    <tr style=\"text-align: right;\">\n",
       "      <th></th>\n",
       "      <th>DATE</th>\n",
       "      <th>mvel1</th>\n",
       "      <th>RET</th>\n",
       "      <th>prc</th>\n",
       "      <th>SHROUT</th>\n",
       "      <th>beta</th>\n",
       "      <th>betasq</th>\n",
       "      <th>chmom</th>\n",
       "      <th>dolvol</th>\n",
       "      <th>idiovol</th>\n",
       "      <th>...</th>\n",
       "      <th>baspread</th>\n",
       "      <th>ill</th>\n",
       "      <th>maxret</th>\n",
       "      <th>retvol</th>\n",
       "      <th>std_dolvol</th>\n",
       "      <th>std_turn</th>\n",
       "      <th>zerotrade</th>\n",
       "      <th>sic2</th>\n",
       "      <th>bm</th>\n",
       "      <th>bm_ia</th>\n",
       "    </tr>\n",
       "  </thead>\n",
       "  <tbody>\n",
       "    <tr>\n",
       "      <th>4</th>\n",
       "      <td>19570329</td>\n",
       "      <td>35250.00</td>\n",
       "      <td>-0.017730</td>\n",
       "      <td>69.25</td>\n",
       "      <td>500</td>\n",
       "      <td>1.229520</td>\n",
       "      <td>1.511719</td>\n",
       "      <td>-0.102811</td>\n",
       "      <td>8.421013</td>\n",
       "      <td>0.025453</td>\n",
       "      <td>...</td>\n",
       "      <td>0.007661</td>\n",
       "      <td>2.386914e-07</td>\n",
       "      <td>0.007194</td>\n",
       "      <td>0.006748</td>\n",
       "      <td>0.889503</td>\n",
       "      <td>0.775954</td>\n",
       "      <td>6.631579e+00</td>\n",
       "      <td>35.0</td>\n",
       "      <td>1.125553</td>\n",
       "      <td>0.762989</td>\n",
       "    </tr>\n",
       "    <tr>\n",
       "      <th>23</th>\n",
       "      <td>19570329</td>\n",
       "      <td>283036.00</td>\n",
       "      <td>0.057692</td>\n",
       "      <td>55.00</td>\n",
       "      <td>5443</td>\n",
       "      <td>1.806498</td>\n",
       "      <td>3.263435</td>\n",
       "      <td>0.006612</td>\n",
       "      <td>10.459776</td>\n",
       "      <td>0.019643</td>\n",
       "      <td>...</td>\n",
       "      <td>0.016233</td>\n",
       "      <td>7.592996e-08</td>\n",
       "      <td>0.022167</td>\n",
       "      <td>0.012118</td>\n",
       "      <td>0.421592</td>\n",
       "      <td>0.226673</td>\n",
       "      <td>2.443123e-07</td>\n",
       "      <td>33.0</td>\n",
       "      <td>0.650905</td>\n",
       "      <td>-0.584311</td>\n",
       "    </tr>\n",
       "    <tr>\n",
       "      <th>25</th>\n",
       "      <td>19570329</td>\n",
       "      <td>2670133.50</td>\n",
       "      <td>0.014799</td>\n",
       "      <td>177.75</td>\n",
       "      <td>62893</td>\n",
       "      <td>0.389741</td>\n",
       "      <td>0.151898</td>\n",
       "      <td>0.019737</td>\n",
       "      <td>11.948152</td>\n",
       "      <td>0.006526</td>\n",
       "      <td>...</td>\n",
       "      <td>0.005598</td>\n",
       "      <td>2.747520e-09</td>\n",
       "      <td>0.009972</td>\n",
       "      <td>0.004336</td>\n",
       "      <td>0.320722</td>\n",
       "      <td>0.034650</td>\n",
       "      <td>1.202819e-06</td>\n",
       "      <td>48.0</td>\n",
       "      <td>0.544756</td>\n",
       "      <td>-0.238968</td>\n",
       "    </tr>\n",
       "    <tr>\n",
       "      <th>28</th>\n",
       "      <td>19570329</td>\n",
       "      <td>17994.25</td>\n",
       "      <td>0.134132</td>\n",
       "      <td>46.75</td>\n",
       "      <td>431</td>\n",
       "      <td>0.677784</td>\n",
       "      <td>0.459391</td>\n",
       "      <td>-0.113021</td>\n",
       "      <td>8.688643</td>\n",
       "      <td>0.030575</td>\n",
       "      <td>...</td>\n",
       "      <td>0.007412</td>\n",
       "      <td>4.835197e-07</td>\n",
       "      <td>0.009036</td>\n",
       "      <td>0.010821</td>\n",
       "      <td>0.779174</td>\n",
       "      <td>0.746046</td>\n",
       "      <td>1.105263e+00</td>\n",
       "      <td>38.0</td>\n",
       "      <td>0.805466</td>\n",
       "      <td>0.225861</td>\n",
       "    </tr>\n",
       "    <tr>\n",
       "      <th>30</th>\n",
       "      <td>19570329</td>\n",
       "      <td>48112.50</td>\n",
       "      <td>0.020000</td>\n",
       "      <td>38.25</td>\n",
       "      <td>1283</td>\n",
       "      <td>0.948980</td>\n",
       "      <td>0.900563</td>\n",
       "      <td>-0.194429</td>\n",
       "      <td>9.489297</td>\n",
       "      <td>0.025403</td>\n",
       "      <td>...</td>\n",
       "      <td>0.012026</td>\n",
       "      <td>2.513525e-07</td>\n",
       "      <td>0.019231</td>\n",
       "      <td>0.011344</td>\n",
       "      <td>0.694251</td>\n",
       "      <td>0.744191</td>\n",
       "      <td>1.200925e-07</td>\n",
       "      <td>33.0</td>\n",
       "      <td>0.925097</td>\n",
       "      <td>0.138460</td>\n",
       "    </tr>\n",
       "  </tbody>\n",
       "</table>\n",
       "<p>5 rows × 100 columns</p>\n",
       "</div>"
      ],
      "text/plain": [
       "        DATE       mvel1       RET     prc  SHROUT      beta    betasq  \\\n",
       "4   19570329    35250.00 -0.017730   69.25     500  1.229520  1.511719   \n",
       "23  19570329   283036.00  0.057692   55.00    5443  1.806498  3.263435   \n",
       "25  19570329  2670133.50  0.014799  177.75   62893  0.389741  0.151898   \n",
       "28  19570329    17994.25  0.134132   46.75     431  0.677784  0.459391   \n",
       "30  19570329    48112.50  0.020000   38.25    1283  0.948980  0.900563   \n",
       "\n",
       "       chmom     dolvol   idiovol  ...  baspread           ill    maxret  \\\n",
       "4  -0.102811   8.421013  0.025453  ...  0.007661  2.386914e-07  0.007194   \n",
       "23  0.006612  10.459776  0.019643  ...  0.016233  7.592996e-08  0.022167   \n",
       "25  0.019737  11.948152  0.006526  ...  0.005598  2.747520e-09  0.009972   \n",
       "28 -0.113021   8.688643  0.030575  ...  0.007412  4.835197e-07  0.009036   \n",
       "30 -0.194429   9.489297  0.025403  ...  0.012026  2.513525e-07  0.019231   \n",
       "\n",
       "      retvol  std_dolvol  std_turn     zerotrade  sic2        bm     bm_ia  \n",
       "4   0.006748    0.889503  0.775954  6.631579e+00  35.0  1.125553  0.762989  \n",
       "23  0.012118    0.421592  0.226673  2.443123e-07  33.0  0.650905 -0.584311  \n",
       "25  0.004336    0.320722  0.034650  1.202819e-06  48.0  0.544756 -0.238968  \n",
       "28  0.010821    0.779174  0.746046  1.105263e+00  38.0  0.805466  0.225861  \n",
       "30  0.011344    0.694251  0.744191  1.200925e-07  33.0  0.925097  0.138460  \n",
       "\n",
       "[5 rows x 100 columns]"
      ]
     },
     "execution_count": 3,
     "metadata": {},
     "output_type": "execute_result"
    }
   ],
   "source": [
    "df = pd.read_csv('1957_2016.csv')\n",
    "df = df.iloc[:, 2:]\n",
    "df.dropna(inplace=True)\n",
    "df.head()"
   ]
  },
  {
   "cell_type": "code",
   "execution_count": 22,
   "metadata": {},
   "outputs": [
    {
     "data": {
      "text/plain": [
       "PLSRegression()"
      ]
     },
     "execution_count": 22,
     "metadata": {},
     "output_type": "execute_result"
    },
    {
     "data": {
      "text/plain": [
       "0.624267578125"
      ]
     },
     "execution_count": 22,
     "metadata": {},
     "output_type": "execute_result"
    },
    {
     "data": {
      "text/plain": [
       "PLSRegression()"
      ]
     },
     "execution_count": 22,
     "metadata": {},
     "output_type": "execute_result"
    },
    {
     "data": {
      "text/plain": [
       "0.667236328125"
      ]
     },
     "execution_count": 22,
     "metadata": {},
     "output_type": "execute_result"
    },
    {
     "data": {
      "text/plain": [
       "PLSRegression()"
      ]
     },
     "execution_count": 22,
     "metadata": {},
     "output_type": "execute_result"
    },
    {
     "data": {
      "text/plain": [
       "0.66015625"
      ]
     },
     "execution_count": 22,
     "metadata": {},
     "output_type": "execute_result"
    },
    {
     "data": {
      "text/plain": [
       "PLSRegression()"
      ]
     },
     "execution_count": 22,
     "metadata": {},
     "output_type": "execute_result"
    },
    {
     "data": {
      "text/plain": [
       "0.663330078125"
      ]
     },
     "execution_count": 22,
     "metadata": {},
     "output_type": "execute_result"
    },
    {
     "data": {
      "text/plain": [
       "PLSRegression()"
      ]
     },
     "execution_count": 22,
     "metadata": {},
     "output_type": "execute_result"
    },
    {
     "data": {
      "text/plain": [
       "0.66748046875"
      ]
     },
     "execution_count": 22,
     "metadata": {},
     "output_type": "execute_result"
    },
    {
     "data": {
      "text/plain": [
       "PLSRegression()"
      ]
     },
     "execution_count": 22,
     "metadata": {},
     "output_type": "execute_result"
    },
    {
     "data": {
      "text/plain": [
       "0.5927734375"
      ]
     },
     "execution_count": 22,
     "metadata": {},
     "output_type": "execute_result"
    },
    {
     "data": {
      "text/plain": [
       "PLSRegression()"
      ]
     },
     "execution_count": 22,
     "metadata": {},
     "output_type": "execute_result"
    },
    {
     "data": {
      "text/plain": [
       "0.619384765625"
      ]
     },
     "execution_count": 22,
     "metadata": {},
     "output_type": "execute_result"
    },
    {
     "data": {
      "text/plain": [
       "PLSRegression()"
      ]
     },
     "execution_count": 22,
     "metadata": {},
     "output_type": "execute_result"
    },
    {
     "data": {
      "text/plain": [
       "0.572021484375"
      ]
     },
     "execution_count": 22,
     "metadata": {},
     "output_type": "execute_result"
    },
    {
     "data": {
      "text/plain": [
       "PLSRegression()"
      ]
     },
     "execution_count": 22,
     "metadata": {},
     "output_type": "execute_result"
    },
    {
     "data": {
      "text/plain": [
       "0.607177734375"
      ]
     },
     "execution_count": 22,
     "metadata": {},
     "output_type": "execute_result"
    },
    {
     "data": {
      "text/plain": [
       "PLSRegression()"
      ]
     },
     "execution_count": 22,
     "metadata": {},
     "output_type": "execute_result"
    },
    {
     "data": {
      "text/plain": [
       "0.6025390625"
      ]
     },
     "execution_count": 22,
     "metadata": {},
     "output_type": "execute_result"
    },
    {
     "data": {
      "text/plain": [
       "PLSRegression()"
      ]
     },
     "execution_count": 22,
     "metadata": {},
     "output_type": "execute_result"
    },
    {
     "data": {
      "text/plain": [
       "0.60986328125"
      ]
     },
     "execution_count": 22,
     "metadata": {},
     "output_type": "execute_result"
    },
    {
     "data": {
      "text/plain": [
       "PLSRegression()"
      ]
     },
     "execution_count": 22,
     "metadata": {},
     "output_type": "execute_result"
    },
    {
     "data": {
      "text/plain": [
       "0.616943359375"
      ]
     },
     "execution_count": 22,
     "metadata": {},
     "output_type": "execute_result"
    },
    {
     "data": {
      "text/plain": [
       "PLSRegression()"
      ]
     },
     "execution_count": 22,
     "metadata": {},
     "output_type": "execute_result"
    },
    {
     "data": {
      "text/plain": [
       "0.628662109375"
      ]
     },
     "execution_count": 22,
     "metadata": {},
     "output_type": "execute_result"
    },
    {
     "data": {
      "text/plain": [
       "PLSRegression()"
      ]
     },
     "execution_count": 22,
     "metadata": {},
     "output_type": "execute_result"
    },
    {
     "data": {
      "text/plain": [
       "0.624755859375"
      ]
     },
     "execution_count": 22,
     "metadata": {},
     "output_type": "execute_result"
    },
    {
     "data": {
      "text/plain": [
       "PLSRegression()"
      ]
     },
     "execution_count": 22,
     "metadata": {},
     "output_type": "execute_result"
    },
    {
     "data": {
      "text/plain": [
       "0.638427734375"
      ]
     },
     "execution_count": 22,
     "metadata": {},
     "output_type": "execute_result"
    },
    {
     "data": {
      "text/plain": [
       "PLSRegression()"
      ]
     },
     "execution_count": 22,
     "metadata": {},
     "output_type": "execute_result"
    },
    {
     "data": {
      "text/plain": [
       "0.641845703125"
      ]
     },
     "execution_count": 22,
     "metadata": {},
     "output_type": "execute_result"
    },
    {
     "data": {
      "text/plain": [
       "PLSRegression()"
      ]
     },
     "execution_count": 22,
     "metadata": {},
     "output_type": "execute_result"
    },
    {
     "data": {
      "text/plain": [
       "0.650390625"
      ]
     },
     "execution_count": 22,
     "metadata": {},
     "output_type": "execute_result"
    },
    {
     "data": {
      "text/plain": [
       "PLSRegression()"
      ]
     },
     "execution_count": 22,
     "metadata": {},
     "output_type": "execute_result"
    },
    {
     "data": {
      "text/plain": [
       "0.66259765625"
      ]
     },
     "execution_count": 22,
     "metadata": {},
     "output_type": "execute_result"
    },
    {
     "data": {
      "text/plain": [
       "PLSRegression()"
      ]
     },
     "execution_count": 22,
     "metadata": {},
     "output_type": "execute_result"
    },
    {
     "data": {
      "text/plain": [
       "0.66748046875"
      ]
     },
     "execution_count": 22,
     "metadata": {},
     "output_type": "execute_result"
    },
    {
     "data": {
      "text/plain": [
       "PLSRegression()"
      ]
     },
     "execution_count": 22,
     "metadata": {},
     "output_type": "execute_result"
    },
    {
     "data": {
      "text/plain": [
       "0.6630859375"
      ]
     },
     "execution_count": 22,
     "metadata": {},
     "output_type": "execute_result"
    },
    {
     "data": {
      "text/plain": [
       "PLSRegression()"
      ]
     },
     "execution_count": 22,
     "metadata": {},
     "output_type": "execute_result"
    },
    {
     "data": {
      "text/plain": [
       "0.66357421875"
      ]
     },
     "execution_count": 22,
     "metadata": {},
     "output_type": "execute_result"
    },
    {
     "data": {
      "text/plain": [
       "PLSRegression()"
      ]
     },
     "execution_count": 22,
     "metadata": {},
     "output_type": "execute_result"
    },
    {
     "data": {
      "text/plain": [
       "0.66015625"
      ]
     },
     "execution_count": 22,
     "metadata": {},
     "output_type": "execute_result"
    },
    {
     "data": {
      "text/plain": [
       "PLSRegression()"
      ]
     },
     "execution_count": 22,
     "metadata": {},
     "output_type": "execute_result"
    },
    {
     "data": {
      "text/plain": [
       "0.661376953125"
      ]
     },
     "execution_count": 22,
     "metadata": {},
     "output_type": "execute_result"
    },
    {
     "data": {
      "text/plain": [
       "PLSRegression()"
      ]
     },
     "execution_count": 22,
     "metadata": {},
     "output_type": "execute_result"
    },
    {
     "data": {
      "text/plain": [
       "0.655029296875"
      ]
     },
     "execution_count": 22,
     "metadata": {},
     "output_type": "execute_result"
    },
    {
     "data": {
      "text/plain": [
       "PLSRegression()"
      ]
     },
     "execution_count": 22,
     "metadata": {},
     "output_type": "execute_result"
    },
    {
     "data": {
      "text/plain": [
       "0.65380859375"
      ]
     },
     "execution_count": 22,
     "metadata": {},
     "output_type": "execute_result"
    },
    {
     "data": {
      "text/plain": [
       "PLSRegression()"
      ]
     },
     "execution_count": 22,
     "metadata": {},
     "output_type": "execute_result"
    },
    {
     "data": {
      "text/plain": [
       "0.6572265625"
      ]
     },
     "execution_count": 22,
     "metadata": {},
     "output_type": "execute_result"
    },
    {
     "data": {
      "text/plain": [
       "PLSRegression()"
      ]
     },
     "execution_count": 22,
     "metadata": {},
     "output_type": "execute_result"
    },
    {
     "data": {
      "text/plain": [
       "0.646484375"
      ]
     },
     "execution_count": 22,
     "metadata": {},
     "output_type": "execute_result"
    },
    {
     "data": {
      "text/plain": [
       "PLSRegression()"
      ]
     },
     "execution_count": 22,
     "metadata": {},
     "output_type": "execute_result"
    },
    {
     "data": {
      "text/plain": [
       "0.6298828125"
      ]
     },
     "execution_count": 22,
     "metadata": {},
     "output_type": "execute_result"
    },
    {
     "data": {
      "text/plain": [
       "PLSRegression()"
      ]
     },
     "execution_count": 22,
     "metadata": {},
     "output_type": "execute_result"
    },
    {
     "data": {
      "text/plain": [
       "0.615478515625"
      ]
     },
     "execution_count": 22,
     "metadata": {},
     "output_type": "execute_result"
    },
    {
     "data": {
      "text/plain": [
       "PLSRegression()"
      ]
     },
     "execution_count": 22,
     "metadata": {},
     "output_type": "execute_result"
    },
    {
     "data": {
      "text/plain": [
       "0.61669921875"
      ]
     },
     "execution_count": 22,
     "metadata": {},
     "output_type": "execute_result"
    },
    {
     "data": {
      "text/plain": [
       "0.258984375"
      ]
     },
     "execution_count": 22,
     "metadata": {},
     "output_type": "execute_result"
    }
   ],
   "source": [
    "from sklearn.cross_decomposition import PLSRegression\n",
    "\n",
    "score = []\n",
    "for train, vali, test in recur_eval_dataset(df, 1975, 2016):\n",
    "    x = train.iloc[:, 1:].drop(columns='RET')\n",
    "    y = train.iloc[:, 2]\n",
    "    model = PLSRegression()\n",
    "    model.fit(x, y)\n",
    "    val_x = vali.iloc[:, 1:].drop(columns='RET')\n",
    "    val_y = vali.iloc[:, 2]\n",
    "    predict_val = model.predict(val_x)\n",
    "    #print(model.feature_importances_)\n",
    "    r2_oos(val_y.values, predict_val)\n",
    "    test_x = test.iloc[:, 1:].drop(columns='RET')\n",
    "    test_y = test.iloc[:, 2]\n",
    "    predict_test = model.predict(test_x)\n",
    "    score.append(r2_oos(test_y.values, predict_test))\n",
    "mean(score)"
   ]
  }
 ],
 "metadata": {
  "interpreter": {
   "hash": "14602a5c44c63abb01f967033667b5e5abdacdee2dfa1db681d1fbe04e897ac9"
  },
  "kernelspec": {
   "display_name": "Python 3.8.8 64-bit ('base': conda)",
   "language": "python",
   "name": "python3"
  },
  "language_info": {
   "codemirror_mode": {
    "name": "ipython",
    "version": 3
   },
   "file_extension": ".py",
   "mimetype": "text/x-python",
   "name": "python",
   "nbconvert_exporter": "python",
   "pygments_lexer": "ipython3",
   "version": "3.8.8"
  },
  "orig_nbformat": 4
 },
 "nbformat": 4,
 "nbformat_minor": 2
}
