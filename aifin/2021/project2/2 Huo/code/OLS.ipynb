{
 "cells": [
  {
   "cell_type": "code",
   "execution_count": 1,
   "metadata": {},
   "outputs": [],
   "source": [
    "import pandas as pd\n",
    "import numpy as np"
   ]
  },
  {
   "cell_type": "code",
   "execution_count": 2,
   "metadata": {},
   "outputs": [],
   "source": [
    "df = pd.read_csv('1957_2016.csv')"
   ]
  },
  {
   "cell_type": "code",
   "execution_count": 3,
   "metadata": {},
   "outputs": [
    {
     "data": {
      "text/html": [
       "<div>\n",
       "<style scoped>\n",
       "    .dataframe tbody tr th:only-of-type {\n",
       "        vertical-align: middle;\n",
       "    }\n",
       "\n",
       "    .dataframe tbody tr th {\n",
       "        vertical-align: top;\n",
       "    }\n",
       "\n",
       "    .dataframe thead th {\n",
       "        text-align: right;\n",
       "    }\n",
       "</style>\n",
       "<table border=\"1\" class=\"dataframe\">\n",
       "  <thead>\n",
       "    <tr style=\"text-align: right;\">\n",
       "      <th></th>\n",
       "      <th>permno</th>\n",
       "      <th>DATE</th>\n",
       "      <th>mvel1</th>\n",
       "      <th>RET</th>\n",
       "      <th>prc</th>\n",
       "      <th>SHROUT</th>\n",
       "      <th>beta</th>\n",
       "      <th>betasq</th>\n",
       "      <th>chmom</th>\n",
       "      <th>dolvol</th>\n",
       "      <th>...</th>\n",
       "      <th>baspread</th>\n",
       "      <th>ill</th>\n",
       "      <th>maxret</th>\n",
       "      <th>retvol</th>\n",
       "      <th>std_dolvol</th>\n",
       "      <th>std_turn</th>\n",
       "      <th>zerotrade</th>\n",
       "      <th>sic2</th>\n",
       "      <th>bm</th>\n",
       "      <th>bm_ia</th>\n",
       "    </tr>\n",
       "  </thead>\n",
       "  <tbody>\n",
       "    <tr>\n",
       "      <th>0</th>\n",
       "      <td>10006</td>\n",
       "      <td>19570329</td>\n",
       "      <td>86308.500</td>\n",
       "      <td>0.018405</td>\n",
       "      <td>62.250</td>\n",
       "      <td>1412</td>\n",
       "      <td>1.117907</td>\n",
       "      <td>1.249717</td>\n",
       "      <td>0.134574</td>\n",
       "      <td>10.296745</td>\n",
       "      <td>...</td>\n",
       "      <td>0.013856</td>\n",
       "      <td>1.557681e-07</td>\n",
       "      <td>0.029167</td>\n",
       "      <td>0.013546</td>\n",
       "      <td>0.914592</td>\n",
       "      <td>0.802461</td>\n",
       "      <td>1.066005e-07</td>\n",
       "      <td>37.0</td>\n",
       "      <td>1.269299</td>\n",
       "      <td>0.371964</td>\n",
       "    </tr>\n",
       "    <tr>\n",
       "      <th>1</th>\n",
       "      <td>10014</td>\n",
       "      <td>19570329</td>\n",
       "      <td>3903.375</td>\n",
       "      <td>0.000000</td>\n",
       "      <td>2.625</td>\n",
       "      <td>1487</td>\n",
       "      <td>0.331304</td>\n",
       "      <td>0.109762</td>\n",
       "      <td>0.006667</td>\n",
       "      <td>7.032404</td>\n",
       "      <td>...</td>\n",
       "      <td>0.031389</td>\n",
       "      <td>8.383815e-06</td>\n",
       "      <td>0.071429</td>\n",
       "      <td>0.031165</td>\n",
       "      <td>0.943409</td>\n",
       "      <td>0.716406</td>\n",
       "      <td>1.105263e+00</td>\n",
       "      <td>39.0</td>\n",
       "      <td>1.358414</td>\n",
       "      <td>0.509329</td>\n",
       "    </tr>\n",
       "    <tr>\n",
       "      <th>2</th>\n",
       "      <td>10022</td>\n",
       "      <td>19570329</td>\n",
       "      <td>9841.000</td>\n",
       "      <td>-0.003846</td>\n",
       "      <td>6.375</td>\n",
       "      <td>1514</td>\n",
       "      <td>0.942052</td>\n",
       "      <td>0.887461</td>\n",
       "      <td>0.058761</td>\n",
       "      <td>7.294038</td>\n",
       "      <td>...</td>\n",
       "      <td>0.010066</td>\n",
       "      <td>5.360386e-06</td>\n",
       "      <td>0.020000</td>\n",
       "      <td>0.016886</td>\n",
       "      <td>0.993558</td>\n",
       "      <td>0.534808</td>\n",
       "      <td>2.387797e-07</td>\n",
       "      <td>NaN</td>\n",
       "      <td>NaN</td>\n",
       "      <td>NaN</td>\n",
       "    </tr>\n",
       "    <tr>\n",
       "      <th>3</th>\n",
       "      <td>10030</td>\n",
       "      <td>19570329</td>\n",
       "      <td>51901.000</td>\n",
       "      <td>0.077907</td>\n",
       "      <td>45.750</td>\n",
       "      <td>1207</td>\n",
       "      <td>0.886532</td>\n",
       "      <td>0.785940</td>\n",
       "      <td>-0.032065</td>\n",
       "      <td>9.516942</td>\n",
       "      <td>...</td>\n",
       "      <td>0.009523</td>\n",
       "      <td>1.090908e-07</td>\n",
       "      <td>0.017857</td>\n",
       "      <td>0.009104</td>\n",
       "      <td>0.736000</td>\n",
       "      <td>0.712647</td>\n",
       "      <td>9.202902e-08</td>\n",
       "      <td>37.0</td>\n",
       "      <td>NaN</td>\n",
       "      <td>NaN</td>\n",
       "    </tr>\n",
       "    <tr>\n",
       "      <th>4</th>\n",
       "      <td>10057</td>\n",
       "      <td>19570329</td>\n",
       "      <td>35250.000</td>\n",
       "      <td>-0.017730</td>\n",
       "      <td>69.250</td>\n",
       "      <td>500</td>\n",
       "      <td>1.229520</td>\n",
       "      <td>1.511719</td>\n",
       "      <td>-0.102811</td>\n",
       "      <td>8.421013</td>\n",
       "      <td>...</td>\n",
       "      <td>0.007661</td>\n",
       "      <td>2.386914e-07</td>\n",
       "      <td>0.007194</td>\n",
       "      <td>0.006748</td>\n",
       "      <td>0.889503</td>\n",
       "      <td>0.775954</td>\n",
       "      <td>6.631579e+00</td>\n",
       "      <td>35.0</td>\n",
       "      <td>1.125553</td>\n",
       "      <td>0.762989</td>\n",
       "    </tr>\n",
       "  </tbody>\n",
       "</table>\n",
       "<p>5 rows × 101 columns</p>\n",
       "</div>"
      ],
      "text/plain": [
       "   permno      DATE      mvel1       RET     prc  SHROUT      beta    betasq  \\\n",
       "0   10006  19570329  86308.500  0.018405  62.250    1412  1.117907  1.249717   \n",
       "1   10014  19570329   3903.375  0.000000   2.625    1487  0.331304  0.109762   \n",
       "2   10022  19570329   9841.000 -0.003846   6.375    1514  0.942052  0.887461   \n",
       "3   10030  19570329  51901.000  0.077907  45.750    1207  0.886532  0.785940   \n",
       "4   10057  19570329  35250.000 -0.017730  69.250     500  1.229520  1.511719   \n",
       "\n",
       "      chmom     dolvol  ...  baspread           ill    maxret    retvol  \\\n",
       "0  0.134574  10.296745  ...  0.013856  1.557681e-07  0.029167  0.013546   \n",
       "1  0.006667   7.032404  ...  0.031389  8.383815e-06  0.071429  0.031165   \n",
       "2  0.058761   7.294038  ...  0.010066  5.360386e-06  0.020000  0.016886   \n",
       "3 -0.032065   9.516942  ...  0.009523  1.090908e-07  0.017857  0.009104   \n",
       "4 -0.102811   8.421013  ...  0.007661  2.386914e-07  0.007194  0.006748   \n",
       "\n",
       "   std_dolvol  std_turn     zerotrade  sic2        bm     bm_ia  \n",
       "0    0.914592  0.802461  1.066005e-07  37.0  1.269299  0.371964  \n",
       "1    0.943409  0.716406  1.105263e+00  39.0  1.358414  0.509329  \n",
       "2    0.993558  0.534808  2.387797e-07   NaN       NaN       NaN  \n",
       "3    0.736000  0.712647  9.202902e-08  37.0       NaN       NaN  \n",
       "4    0.889503  0.775954  6.631579e+00  35.0  1.125553  0.762989  \n",
       "\n",
       "[5 rows x 101 columns]"
      ]
     },
     "execution_count": 3,
     "metadata": {},
     "output_type": "execute_result"
    }
   ],
   "source": [
    "df = df.iloc[:, 1:]\n",
    "df.head()"
   ]
  },
  {
   "cell_type": "code",
   "execution_count": 4,
   "metadata": {},
   "outputs": [
    {
     "data": {
      "text/plain": [
       "(3760033, 101)"
      ]
     },
     "execution_count": 4,
     "metadata": {},
     "output_type": "execute_result"
    }
   ],
   "source": [
    "df.shape"
   ]
  },
  {
   "cell_type": "code",
   "execution_count": 4,
   "metadata": {},
   "outputs": [],
   "source": [
    "# OLS-3 size book-to-market momentum\n",
    "covariates = ['permno', 'DATE','RET', 'mvel1', 'bm', 'mom12m', 'mom1m', 'mom36m', 'mom6m']\n",
    "ols3 = df[covariates]\n",
    " "
   ]
  },
  {
   "cell_type": "code",
   "execution_count": 5,
   "metadata": {},
   "outputs": [
    {
     "name": "stderr",
     "output_type": "stream",
     "text": [
      "<ipython-input-5-80b1c4c1bbd8>:1: SettingWithCopyWarning: \n",
      "A value is trying to be set on a copy of a slice from a DataFrame\n",
      "\n",
      "See the caveats in the documentation: https://pandas.pydata.org/pandas-docs/stable/user_guide/indexing.html#returning-a-view-versus-a-copy\n",
      "  ols3.dropna(inplace=True)\n"
     ]
    },
    {
     "data": {
      "text/plain": [
       "(3219631, 9)"
      ]
     },
     "execution_count": 5,
     "metadata": {},
     "output_type": "execute_result"
    }
   ],
   "source": [
    "ols3.dropna(inplace=True)\n",
    "ols3.shape"
   ]
  },
  {
   "cell_type": "code",
   "execution_count": 7,
   "metadata": {},
   "outputs": [],
   "source": [
    "def r2_oos(y_true, y_pred, sample_weight=None):\n",
    "    if sample_weight is not None:\n",
    "        weight = sample_weight[:, np.newaxis]\n",
    "    else:\n",
    "        weight = 1.\n",
    "    y_true = np.array(y_true)\n",
    "    y_pred = np.array(y_pred)\n",
    "    \n",
    "    numerator = (weight * (y_true - y_pred) ** 2).sum(axis=0,\n",
    "                                                      dtype=np.float64)\n",
    "    denominator = (weight * (y_true) ** 2).sum(axis=0,\n",
    "                                                    dtype=np.float64)\n",
    "   \n",
    "    \n",
    "    output_scores = 1 - (numerator / denominator)\n",
    "\n",
    "    return output_scores\n",
    "\n",
    "def recur_eval_dataset(dataset, year_start, year_stop):\n",
    "    n = year_start + 12\n",
    "    while n <= year_stop:\n",
    "        train = dataset[dataset['DATE'] < year_start * 10000 + 101]\n",
    "        vali = dataset[(dataset['DATE'] < n * 10000 + 101) & (dataset['DATE'] > year_start * 10000 + 101)]\n",
    "        test = dataset[(dataset['DATE'] < (n + 1) * 10000 + 101) & (dataset['DATE'] > n * 10000 + 101)]\n",
    "        yield train, vali, test\n",
    "        year_start += 1\n",
    "        n = year_start + 12\n"
   ]
  },
  {
   "cell_type": "code",
   "execution_count": 8,
   "metadata": {},
   "outputs": [
    {
     "data": {
      "text/plain": [
       "0.0013682798938961219"
      ]
     },
     "execution_count": 8,
     "metadata": {},
     "output_type": "execute_result"
    }
   ],
   "source": [
    "from sklearn.linear_model import LinearRegression\n",
    "from IPython.core.interactiveshell import InteractiveShell\n",
    "InteractiveShell.ast_node_interactivity = \"all\"\n",
    "from numpy import mean\n",
    "# for ols3\n",
    "score = []\n",
    "for train, vali, test in recur_eval_dataset(ols3, 1975, 2016):\n",
    "    x = train.iloc[:, 3:8]\n",
    "    y = train.iloc[:, 2]\n",
    "    model = LinearRegression()\n",
    "    model.fit(x, y)\n",
    "    val_x = vali.iloc[:, 3:8]\n",
    "    val_y = vali.iloc[:, 2]\n",
    "    predict_val = model.predict(val_x)\n",
    "    #print(predict_val)\n",
    "    r2_oos(val_y.values, predict_val)\n",
    "    test_x = test.iloc[:, 3:8]\n",
    "    test_y = test.iloc[:, 2]\n",
    "    predict_test = model.predict(test_x)\n",
    "    score.append(r2_oos(test_y.values, predict_test))\n",
    "mean(score)\n"
   ]
  },
  {
   "cell_type": "code",
   "execution_count": 9,
   "metadata": {},
   "outputs": [
    {
     "data": {
      "text/html": [
       "<div>\n",
       "<style scoped>\n",
       "    .dataframe tbody tr th:only-of-type {\n",
       "        vertical-align: middle;\n",
       "    }\n",
       "\n",
       "    .dataframe tbody tr th {\n",
       "        vertical-align: top;\n",
       "    }\n",
       "\n",
       "    .dataframe thead th {\n",
       "        text-align: right;\n",
       "    }\n",
       "</style>\n",
       "<table border=\"1\" class=\"dataframe\">\n",
       "  <thead>\n",
       "    <tr style=\"text-align: right;\">\n",
       "      <th></th>\n",
       "      <th>DATE</th>\n",
       "      <th>mvel1</th>\n",
       "      <th>RET</th>\n",
       "      <th>prc</th>\n",
       "      <th>SHROUT</th>\n",
       "      <th>beta</th>\n",
       "      <th>betasq</th>\n",
       "      <th>chmom</th>\n",
       "      <th>dolvol</th>\n",
       "      <th>idiovol</th>\n",
       "      <th>...</th>\n",
       "      <th>baspread</th>\n",
       "      <th>ill</th>\n",
       "      <th>maxret</th>\n",
       "      <th>retvol</th>\n",
       "      <th>std_dolvol</th>\n",
       "      <th>std_turn</th>\n",
       "      <th>zerotrade</th>\n",
       "      <th>sic2</th>\n",
       "      <th>bm</th>\n",
       "      <th>bm_ia</th>\n",
       "    </tr>\n",
       "  </thead>\n",
       "  <tbody>\n",
       "    <tr>\n",
       "      <th>4</th>\n",
       "      <td>19570329</td>\n",
       "      <td>35250.00</td>\n",
       "      <td>-0.017730</td>\n",
       "      <td>69.25</td>\n",
       "      <td>500</td>\n",
       "      <td>1.229520</td>\n",
       "      <td>1.511719</td>\n",
       "      <td>-0.102811</td>\n",
       "      <td>8.421013</td>\n",
       "      <td>0.025453</td>\n",
       "      <td>...</td>\n",
       "      <td>0.007661</td>\n",
       "      <td>2.386914e-07</td>\n",
       "      <td>0.007194</td>\n",
       "      <td>0.006748</td>\n",
       "      <td>0.889503</td>\n",
       "      <td>0.775954</td>\n",
       "      <td>6.631579e+00</td>\n",
       "      <td>35.0</td>\n",
       "      <td>1.125553</td>\n",
       "      <td>0.762989</td>\n",
       "    </tr>\n",
       "    <tr>\n",
       "      <th>23</th>\n",
       "      <td>19570329</td>\n",
       "      <td>283036.00</td>\n",
       "      <td>0.057692</td>\n",
       "      <td>55.00</td>\n",
       "      <td>5443</td>\n",
       "      <td>1.806498</td>\n",
       "      <td>3.263435</td>\n",
       "      <td>0.006612</td>\n",
       "      <td>10.459776</td>\n",
       "      <td>0.019643</td>\n",
       "      <td>...</td>\n",
       "      <td>0.016233</td>\n",
       "      <td>7.592996e-08</td>\n",
       "      <td>0.022167</td>\n",
       "      <td>0.012118</td>\n",
       "      <td>0.421592</td>\n",
       "      <td>0.226673</td>\n",
       "      <td>2.443123e-07</td>\n",
       "      <td>33.0</td>\n",
       "      <td>0.650905</td>\n",
       "      <td>-0.584311</td>\n",
       "    </tr>\n",
       "    <tr>\n",
       "      <th>25</th>\n",
       "      <td>19570329</td>\n",
       "      <td>2670133.50</td>\n",
       "      <td>0.014799</td>\n",
       "      <td>177.75</td>\n",
       "      <td>62893</td>\n",
       "      <td>0.389741</td>\n",
       "      <td>0.151898</td>\n",
       "      <td>0.019737</td>\n",
       "      <td>11.948152</td>\n",
       "      <td>0.006526</td>\n",
       "      <td>...</td>\n",
       "      <td>0.005598</td>\n",
       "      <td>2.747520e-09</td>\n",
       "      <td>0.009972</td>\n",
       "      <td>0.004336</td>\n",
       "      <td>0.320722</td>\n",
       "      <td>0.034650</td>\n",
       "      <td>1.202819e-06</td>\n",
       "      <td>48.0</td>\n",
       "      <td>0.544756</td>\n",
       "      <td>-0.238968</td>\n",
       "    </tr>\n",
       "    <tr>\n",
       "      <th>28</th>\n",
       "      <td>19570329</td>\n",
       "      <td>17994.25</td>\n",
       "      <td>0.134132</td>\n",
       "      <td>46.75</td>\n",
       "      <td>431</td>\n",
       "      <td>0.677784</td>\n",
       "      <td>0.459391</td>\n",
       "      <td>-0.113021</td>\n",
       "      <td>8.688643</td>\n",
       "      <td>0.030575</td>\n",
       "      <td>...</td>\n",
       "      <td>0.007412</td>\n",
       "      <td>4.835197e-07</td>\n",
       "      <td>0.009036</td>\n",
       "      <td>0.010821</td>\n",
       "      <td>0.779174</td>\n",
       "      <td>0.746046</td>\n",
       "      <td>1.105263e+00</td>\n",
       "      <td>38.0</td>\n",
       "      <td>0.805466</td>\n",
       "      <td>0.225861</td>\n",
       "    </tr>\n",
       "    <tr>\n",
       "      <th>30</th>\n",
       "      <td>19570329</td>\n",
       "      <td>48112.50</td>\n",
       "      <td>0.020000</td>\n",
       "      <td>38.25</td>\n",
       "      <td>1283</td>\n",
       "      <td>0.948980</td>\n",
       "      <td>0.900563</td>\n",
       "      <td>-0.194429</td>\n",
       "      <td>9.489297</td>\n",
       "      <td>0.025403</td>\n",
       "      <td>...</td>\n",
       "      <td>0.012026</td>\n",
       "      <td>2.513525e-07</td>\n",
       "      <td>0.019231</td>\n",
       "      <td>0.011344</td>\n",
       "      <td>0.694251</td>\n",
       "      <td>0.744191</td>\n",
       "      <td>1.200925e-07</td>\n",
       "      <td>33.0</td>\n",
       "      <td>0.925097</td>\n",
       "      <td>0.138460</td>\n",
       "    </tr>\n",
       "  </tbody>\n",
       "</table>\n",
       "<p>5 rows × 100 columns</p>\n",
       "</div>"
      ],
      "text/plain": [
       "        DATE       mvel1       RET     prc  SHROUT      beta    betasq  \\\n",
       "4   19570329    35250.00 -0.017730   69.25     500  1.229520  1.511719   \n",
       "23  19570329   283036.00  0.057692   55.00    5443  1.806498  3.263435   \n",
       "25  19570329  2670133.50  0.014799  177.75   62893  0.389741  0.151898   \n",
       "28  19570329    17994.25  0.134132   46.75     431  0.677784  0.459391   \n",
       "30  19570329    48112.50  0.020000   38.25    1283  0.948980  0.900563   \n",
       "\n",
       "       chmom     dolvol   idiovol  ...  baspread           ill    maxret  \\\n",
       "4  -0.102811   8.421013  0.025453  ...  0.007661  2.386914e-07  0.007194   \n",
       "23  0.006612  10.459776  0.019643  ...  0.016233  7.592996e-08  0.022167   \n",
       "25  0.019737  11.948152  0.006526  ...  0.005598  2.747520e-09  0.009972   \n",
       "28 -0.113021   8.688643  0.030575  ...  0.007412  4.835197e-07  0.009036   \n",
       "30 -0.194429   9.489297  0.025403  ...  0.012026  2.513525e-07  0.019231   \n",
       "\n",
       "      retvol  std_dolvol  std_turn     zerotrade  sic2        bm     bm_ia  \n",
       "4   0.006748    0.889503  0.775954  6.631579e+00  35.0  1.125553  0.762989  \n",
       "23  0.012118    0.421592  0.226673  2.443123e-07  33.0  0.650905 -0.584311  \n",
       "25  0.004336    0.320722  0.034650  1.202819e-06  48.0  0.544756 -0.238968  \n",
       "28  0.010821    0.779174  0.746046  1.105263e+00  38.0  0.805466  0.225861  \n",
       "30  0.011344    0.694251  0.744191  1.200925e-07  33.0  0.925097  0.138460  \n",
       "\n",
       "[5 rows x 100 columns]"
      ]
     },
     "execution_count": 9,
     "metadata": {},
     "output_type": "execute_result"
    }
   ],
   "source": [
    "ols = df.iloc[:, 1:]\n",
    "ols.dropna(inplace=True)\n",
    "ols.head()"
   ]
  },
  {
   "cell_type": "code",
   "execution_count": 10,
   "metadata": {},
   "outputs": [
    {
     "data": {
      "text/plain": [
       "LinearRegression()"
      ]
     },
     "execution_count": 10,
     "metadata": {},
     "output_type": "execute_result"
    },
    {
     "name": "stdout",
     "output_type": "stream",
     "text": [
      "---------\n"
     ]
    },
    {
     "data": {
      "text/plain": [
       "-0.07266697164129399"
      ]
     },
     "execution_count": 10,
     "metadata": {},
     "output_type": "execute_result"
    },
    {
     "data": {
      "text/plain": [
       "LinearRegression()"
      ]
     },
     "execution_count": 10,
     "metadata": {},
     "output_type": "execute_result"
    },
    {
     "name": "stdout",
     "output_type": "stream",
     "text": [
      "---------\n"
     ]
    },
    {
     "data": {
      "text/plain": [
       "-0.041926592141595"
      ]
     },
     "execution_count": 10,
     "metadata": {},
     "output_type": "execute_result"
    },
    {
     "data": {
      "text/plain": [
       "LinearRegression()"
      ]
     },
     "execution_count": 10,
     "metadata": {},
     "output_type": "execute_result"
    },
    {
     "name": "stdout",
     "output_type": "stream",
     "text": [
      "---------\n"
     ]
    },
    {
     "data": {
      "text/plain": [
       "-0.002705441878275927"
      ]
     },
     "execution_count": 10,
     "metadata": {},
     "output_type": "execute_result"
    },
    {
     "data": {
      "text/plain": [
       "LinearRegression()"
      ]
     },
     "execution_count": 10,
     "metadata": {},
     "output_type": "execute_result"
    },
    {
     "name": "stdout",
     "output_type": "stream",
     "text": [
      "---------\n"
     ]
    },
    {
     "data": {
      "text/plain": [
       "-0.0006506305155071779"
      ]
     },
     "execution_count": 10,
     "metadata": {},
     "output_type": "execute_result"
    },
    {
     "data": {
      "text/plain": [
       "LinearRegression()"
      ]
     },
     "execution_count": 10,
     "metadata": {},
     "output_type": "execute_result"
    },
    {
     "name": "stdout",
     "output_type": "stream",
     "text": [
      "---------\n"
     ]
    },
    {
     "data": {
      "text/plain": [
       "0.016642045273049022"
      ]
     },
     "execution_count": 10,
     "metadata": {},
     "output_type": "execute_result"
    },
    {
     "data": {
      "text/plain": [
       "LinearRegression()"
      ]
     },
     "execution_count": 10,
     "metadata": {},
     "output_type": "execute_result"
    },
    {
     "name": "stdout",
     "output_type": "stream",
     "text": [
      "---------\n"
     ]
    },
    {
     "data": {
      "text/plain": [
       "-0.05326581059510738"
      ]
     },
     "execution_count": 10,
     "metadata": {},
     "output_type": "execute_result"
    },
    {
     "data": {
      "text/plain": [
       "LinearRegression()"
      ]
     },
     "execution_count": 10,
     "metadata": {},
     "output_type": "execute_result"
    },
    {
     "name": "stdout",
     "output_type": "stream",
     "text": [
      "---------\n"
     ]
    },
    {
     "data": {
      "text/plain": [
       "-0.11393393674214614"
      ]
     },
     "execution_count": 10,
     "metadata": {},
     "output_type": "execute_result"
    },
    {
     "data": {
      "text/plain": [
       "LinearRegression()"
      ]
     },
     "execution_count": 10,
     "metadata": {},
     "output_type": "execute_result"
    },
    {
     "name": "stdout",
     "output_type": "stream",
     "text": [
      "---------\n"
     ]
    },
    {
     "data": {
      "text/plain": [
       "-0.23796704407067293"
      ]
     },
     "execution_count": 10,
     "metadata": {},
     "output_type": "execute_result"
    },
    {
     "data": {
      "text/plain": [
       "LinearRegression()"
      ]
     },
     "execution_count": 10,
     "metadata": {},
     "output_type": "execute_result"
    },
    {
     "name": "stdout",
     "output_type": "stream",
     "text": [
      "---------\n"
     ]
    },
    {
     "data": {
      "text/plain": [
       "0.006284991854423327"
      ]
     },
     "execution_count": 10,
     "metadata": {},
     "output_type": "execute_result"
    },
    {
     "data": {
      "text/plain": [
       "LinearRegression()"
      ]
     },
     "execution_count": 10,
     "metadata": {},
     "output_type": "execute_result"
    },
    {
     "name": "stdout",
     "output_type": "stream",
     "text": [
      "---------\n"
     ]
    },
    {
     "data": {
      "text/plain": [
       "-0.01640960173132333"
      ]
     },
     "execution_count": 10,
     "metadata": {},
     "output_type": "execute_result"
    },
    {
     "data": {
      "text/plain": [
       "LinearRegression()"
      ]
     },
     "execution_count": 10,
     "metadata": {},
     "output_type": "execute_result"
    },
    {
     "name": "stdout",
     "output_type": "stream",
     "text": [
      "---------\n"
     ]
    },
    {
     "data": {
      "text/plain": [
       "0.020558439864135636"
      ]
     },
     "execution_count": 10,
     "metadata": {},
     "output_type": "execute_result"
    },
    {
     "data": {
      "text/plain": [
       "LinearRegression()"
      ]
     },
     "execution_count": 10,
     "metadata": {},
     "output_type": "execute_result"
    },
    {
     "name": "stdout",
     "output_type": "stream",
     "text": [
      "---------\n"
     ]
    },
    {
     "data": {
      "text/plain": [
       "-0.03254406030034307"
      ]
     },
     "execution_count": 10,
     "metadata": {},
     "output_type": "execute_result"
    },
    {
     "data": {
      "text/plain": [
       "LinearRegression()"
      ]
     },
     "execution_count": 10,
     "metadata": {},
     "output_type": "execute_result"
    },
    {
     "name": "stdout",
     "output_type": "stream",
     "text": [
      "---------\n"
     ]
    },
    {
     "data": {
      "text/plain": [
       "-0.03602852946009527"
      ]
     },
     "execution_count": 10,
     "metadata": {},
     "output_type": "execute_result"
    },
    {
     "data": {
      "text/plain": [
       "LinearRegression()"
      ]
     },
     "execution_count": 10,
     "metadata": {},
     "output_type": "execute_result"
    },
    {
     "name": "stdout",
     "output_type": "stream",
     "text": [
      "---------\n"
     ]
    },
    {
     "data": {
      "text/plain": [
       "-0.055470505759511735"
      ]
     },
     "execution_count": 10,
     "metadata": {},
     "output_type": "execute_result"
    },
    {
     "data": {
      "text/plain": [
       "LinearRegression()"
      ]
     },
     "execution_count": 10,
     "metadata": {},
     "output_type": "execute_result"
    },
    {
     "name": "stdout",
     "output_type": "stream",
     "text": [
      "---------\n"
     ]
    },
    {
     "data": {
      "text/plain": [
       "-0.2201406960025405"
      ]
     },
     "execution_count": 10,
     "metadata": {},
     "output_type": "execute_result"
    },
    {
     "data": {
      "text/plain": [
       "LinearRegression()"
      ]
     },
     "execution_count": 10,
     "metadata": {},
     "output_type": "execute_result"
    },
    {
     "name": "stdout",
     "output_type": "stream",
     "text": [
      "---------\n"
     ]
    },
    {
     "data": {
      "text/plain": [
       "-0.26618782388595874"
      ]
     },
     "execution_count": 10,
     "metadata": {},
     "output_type": "execute_result"
    },
    {
     "data": {
      "text/plain": [
       "LinearRegression()"
      ]
     },
     "execution_count": 10,
     "metadata": {},
     "output_type": "execute_result"
    },
    {
     "name": "stdout",
     "output_type": "stream",
     "text": [
      "---------\n"
     ]
    },
    {
     "data": {
      "text/plain": [
       "-0.24618324063000063"
      ]
     },
     "execution_count": 10,
     "metadata": {},
     "output_type": "execute_result"
    },
    {
     "data": {
      "text/plain": [
       "LinearRegression()"
      ]
     },
     "execution_count": 10,
     "metadata": {},
     "output_type": "execute_result"
    },
    {
     "name": "stdout",
     "output_type": "stream",
     "text": [
      "---------\n"
     ]
    },
    {
     "data": {
      "text/plain": [
       "-0.22099125222810634"
      ]
     },
     "execution_count": 10,
     "metadata": {},
     "output_type": "execute_result"
    },
    {
     "data": {
      "text/plain": [
       "LinearRegression()"
      ]
     },
     "execution_count": 10,
     "metadata": {},
     "output_type": "execute_result"
    },
    {
     "name": "stdout",
     "output_type": "stream",
     "text": [
      "---------\n"
     ]
    },
    {
     "data": {
      "text/plain": [
       "-0.2499884963509329"
      ]
     },
     "execution_count": 10,
     "metadata": {},
     "output_type": "execute_result"
    },
    {
     "data": {
      "text/plain": [
       "LinearRegression()"
      ]
     },
     "execution_count": 10,
     "metadata": {},
     "output_type": "execute_result"
    },
    {
     "name": "stdout",
     "output_type": "stream",
     "text": [
      "---------\n"
     ]
    },
    {
     "data": {
      "text/plain": [
       "-0.2746941231707789"
      ]
     },
     "execution_count": 10,
     "metadata": {},
     "output_type": "execute_result"
    },
    {
     "data": {
      "text/plain": [
       "LinearRegression()"
      ]
     },
     "execution_count": 10,
     "metadata": {},
     "output_type": "execute_result"
    },
    {
     "name": "stdout",
     "output_type": "stream",
     "text": [
      "---------\n"
     ]
    },
    {
     "data": {
      "text/plain": [
       "-0.29773068312959317"
      ]
     },
     "execution_count": 10,
     "metadata": {},
     "output_type": "execute_result"
    },
    {
     "data": {
      "text/plain": [
       "LinearRegression()"
      ]
     },
     "execution_count": 10,
     "metadata": {},
     "output_type": "execute_result"
    },
    {
     "name": "stdout",
     "output_type": "stream",
     "text": [
      "---------\n"
     ]
    },
    {
     "data": {
      "text/plain": [
       "-0.3209865475082416"
      ]
     },
     "execution_count": 10,
     "metadata": {},
     "output_type": "execute_result"
    },
    {
     "data": {
      "text/plain": [
       "LinearRegression()"
      ]
     },
     "execution_count": 10,
     "metadata": {},
     "output_type": "execute_result"
    },
    {
     "name": "stdout",
     "output_type": "stream",
     "text": [
      "---------\n"
     ]
    },
    {
     "data": {
      "text/plain": [
       "-0.3372012874122532"
      ]
     },
     "execution_count": 10,
     "metadata": {},
     "output_type": "execute_result"
    },
    {
     "data": {
      "text/plain": [
       "LinearRegression()"
      ]
     },
     "execution_count": 10,
     "metadata": {},
     "output_type": "execute_result"
    },
    {
     "name": "stdout",
     "output_type": "stream",
     "text": [
      "---------\n"
     ]
    },
    {
     "data": {
      "text/plain": [
       "-0.1958783873865233"
      ]
     },
     "execution_count": 10,
     "metadata": {},
     "output_type": "execute_result"
    },
    {
     "data": {
      "text/plain": [
       "LinearRegression()"
      ]
     },
     "execution_count": 10,
     "metadata": {},
     "output_type": "execute_result"
    },
    {
     "name": "stdout",
     "output_type": "stream",
     "text": [
      "---------\n"
     ]
    },
    {
     "data": {
      "text/plain": [
       "-0.10568566567283932"
      ]
     },
     "execution_count": 10,
     "metadata": {},
     "output_type": "execute_result"
    },
    {
     "data": {
      "text/plain": [
       "LinearRegression()"
      ]
     },
     "execution_count": 10,
     "metadata": {},
     "output_type": "execute_result"
    },
    {
     "name": "stdout",
     "output_type": "stream",
     "text": [
      "---------\n"
     ]
    },
    {
     "data": {
      "text/plain": [
       "-0.04900138801661469"
      ]
     },
     "execution_count": 10,
     "metadata": {},
     "output_type": "execute_result"
    },
    {
     "data": {
      "text/plain": [
       "LinearRegression()"
      ]
     },
     "execution_count": 10,
     "metadata": {},
     "output_type": "execute_result"
    },
    {
     "name": "stdout",
     "output_type": "stream",
     "text": [
      "---------\n"
     ]
    },
    {
     "data": {
      "text/plain": [
       "0.006987692009729596"
      ]
     },
     "execution_count": 10,
     "metadata": {},
     "output_type": "execute_result"
    },
    {
     "data": {
      "text/plain": [
       "LinearRegression()"
      ]
     },
     "execution_count": 10,
     "metadata": {},
     "output_type": "execute_result"
    },
    {
     "name": "stdout",
     "output_type": "stream",
     "text": [
      "---------\n"
     ]
    },
    {
     "data": {
      "text/plain": [
       "-0.009125201184585707"
      ]
     },
     "execution_count": 10,
     "metadata": {},
     "output_type": "execute_result"
    },
    {
     "data": {
      "text/plain": [
       "LinearRegression()"
      ]
     },
     "execution_count": 10,
     "metadata": {},
     "output_type": "execute_result"
    },
    {
     "name": "stdout",
     "output_type": "stream",
     "text": [
      "---------\n"
     ]
    },
    {
     "data": {
      "text/plain": [
       "-0.029295141811257475"
      ]
     },
     "execution_count": 10,
     "metadata": {},
     "output_type": "execute_result"
    },
    {
     "data": {
      "text/plain": [
       "LinearRegression()"
      ]
     },
     "execution_count": 10,
     "metadata": {},
     "output_type": "execute_result"
    },
    {
     "name": "stdout",
     "output_type": "stream",
     "text": [
      "---------\n"
     ]
    },
    {
     "data": {
      "text/plain": [
       "-0.061685500947183725"
      ]
     },
     "execution_count": 10,
     "metadata": {},
     "output_type": "execute_result"
    },
    {
     "data": {
      "text/plain": [
       "-0.5225223405826438"
      ]
     },
     "execution_count": 10,
     "metadata": {},
     "output_type": "execute_result"
    }
   ],
   "source": [
    "# for ols\n",
    "score = []\n",
    "for train, vali, test in recur_eval_dataset(ols, 1975, 2016):\n",
    "    x = train.iloc[:, 1:].drop(columns='RET')\n",
    "    y = train.iloc[:, 2]\n",
    "    model = LinearRegression()\n",
    "    model.fit(x, y)\n",
    "    val_x = vali.iloc[:, 1:].drop(columns='RET')\n",
    "    val_y = vali.iloc[:, 2]\n",
    "    predict_val = model.predict(val_x)\n",
    "    print('---------')\n",
    "    r2_oos(val_y.values, predict_val)\n",
    "    test_x = test.iloc[:, 1:].drop(columns='RET')\n",
    "    test_y = test.iloc[:, 2]\n",
    "    predict_test = model.predict(test_x)\n",
    "    score.append(r2_oos(test_y.values, predict_test))\n",
    "mean(score)"
   ]
  }
 ],
 "metadata": {
  "interpreter": {
   "hash": "14602a5c44c63abb01f967033667b5e5abdacdee2dfa1db681d1fbe04e897ac9"
  },
  "kernelspec": {
   "display_name": "Python 3.8.8 64-bit ('base': conda)",
   "language": "python",
   "name": "python3"
  },
  "language_info": {
   "codemirror_mode": {
    "name": "ipython",
    "version": 3
   },
   "file_extension": ".py",
   "mimetype": "text/x-python",
   "name": "python",
   "nbconvert_exporter": "python",
   "pygments_lexer": "ipython3",
   "version": "3.8.8"
  },
  "orig_nbformat": 4
 },
 "nbformat": 4,
 "nbformat_minor": 2
}
