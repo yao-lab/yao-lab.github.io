{
 "cells": [
  {
   "cell_type": "code",
   "execution_count": 1,
   "metadata": {},
   "outputs": [],
   "source": [
    "import pandas as pd\n",
    "import numpy as np\n",
    "from sklearn.linear_model import ElasticNet\n",
    "from IPython.core.interactiveshell import InteractiveShell\n",
    "InteractiveShell.ast_node_interactivity = \"all\"\n",
    "import warnings\n",
    "warnings.filterwarnings(\"ignore\")\n",
    "from sklearn.ensemble import RandomForestRegressor"
   ]
  },
  {
   "cell_type": "code",
   "execution_count": 2,
   "metadata": {},
   "outputs": [],
   "source": [
    "def r2_oos(y_true, y_pred, sample_weight=None):\n",
    "    if sample_weight is not None:\n",
    "        weight = sample_weight[:, np.newaxis]\n",
    "    else:\n",
    "        weight = 1.\n",
    "    y_true = np.array(y_true)\n",
    "    y_pred = np.array(y_pred)\n",
    "    \n",
    "    numerator = (weight * (y_true - y_pred) ** 2).sum(axis=0,\n",
    "                                                      dtype=np.float64)\n",
    "    denominator = (weight * (y_true) ** 2).sum(axis=0,\n",
    "                                                    dtype=np.float64)\n",
    "   \n",
    "    \n",
    "    output_scores = 1 - (numerator / denominator)\n",
    "\n",
    "    return output_scores\n",
    "\n",
    "def recur_eval_dataset(dataset, year_start, year_stop):\n",
    "    n = year_start + 12\n",
    "    while n <= year_stop:\n",
    "        train = dataset[dataset['DATE'] < year_start * 10000 + 101]\n",
    "        vali = dataset[(dataset['DATE'] < n * 10000 + 101) & (dataset['DATE'] > year_start * 10000 + 101)]\n",
    "        test = dataset[(dataset['DATE'] < (n + 1) * 10000 + 101) & (dataset['DATE'] > n * 10000 + 101)]\n",
    "        yield train, vali, test\n",
    "        year_start += 1\n",
    "        n = year_start + 12"
   ]
  },
  {
   "cell_type": "code",
   "execution_count": 5,
   "metadata": {},
   "outputs": [
    {
     "data": {
      "text/plain": [
       "(979422, 100)"
      ]
     },
     "execution_count": 5,
     "metadata": {},
     "output_type": "execute_result"
    }
   ],
   "source": [
    "df = pd.read_csv('1957_2016.csv')\n",
    "df = df.iloc[:, 2:]\n",
    "df.dropna(inplace=True)\n",
    "df.shape"
   ]
  },
  {
   "cell_type": "code",
   "execution_count": 6,
   "metadata": {},
   "outputs": [
    {
     "data": {
      "text/plain": [
       "RandomForestRegressor()"
      ]
     },
     "execution_count": 6,
     "metadata": {},
     "output_type": "execute_result"
    },
    {
     "name": "stdout",
     "output_type": "stream",
     "text": [
      "---------\n"
     ]
    },
    {
     "data": {
      "text/plain": [
       "0.7488367922175906"
      ]
     },
     "execution_count": 6,
     "metadata": {},
     "output_type": "execute_result"
    },
    {
     "data": {
      "text/plain": [
       "0.6775929073450506"
      ]
     },
     "execution_count": 6,
     "metadata": {},
     "output_type": "execute_result"
    }
   ],
   "source": [
    "from numpy import mean\n",
    "score = []\n",
    "imp = 0\n",
    "for train, vali, test in recur_eval_dataset(df, 1975, 1987):\n",
    "    x = train.iloc[:, 1:].drop(columns='RET')\n",
    "    y = train.iloc[:, 2]\n",
    "    model = RandomForestRegressor()\n",
    "    model.fit(x, y)\n",
    "    val_x = vali.iloc[:, 1:].drop(columns='RET')\n",
    "    val_y = vali.iloc[:, 2]\n",
    "    predict_val = model.predict(val_x)\n",
    "    print('---------')\n",
    "    r2_oos(val_y.values, predict_val)\n",
    "    test_x = test.iloc[:, 1:].drop(columns='RET')\n",
    "    test_y = test.iloc[:, 2]\n",
    "    predict_test = model.predict(test_x)\n",
    "    score.append(r2_oos(test_y.values, predict_test))\n",
    "    imp = model.feature_importances_\n",
    "mean(score)"
   ]
  },
  {
   "cell_type": "code",
   "execution_count": 11,
   "metadata": {},
   "outputs": [],
   "source": [
    "X = df.iloc[:, 1:].drop(columns='RET').columns"
   ]
  },
  {
   "cell_type": "code",
   "execution_count": 14,
   "metadata": {},
   "outputs": [
    {
     "data": {
      "image/png": "[encoded data removed]",
      "text/plain": [
       "<Figure size 432x288 with 1 Axes>"
      ]
     },
     "metadata": {
      "needs_background": "light"
     },
     "output_type": "display_data"
    }
   ],
   "source": [
    "feat_importances = pd.Series(imp, index=X)\n",
    "feat_importances.nlargest(20).plot(kind='barh').invert_yaxis()"
   ]
  }
 ],
 "metadata": {
  "interpreter": {
   "hash": "14602a5c44c63abb01f967033667b5e5abdacdee2dfa1db681d1fbe04e897ac9"
  },
  "kernelspec": {
   "display_name": "Python 3.8.8 64-bit ('base': conda)",
   "language": "python",
   "name": "python3"
  },
  "language_info": {
   "codemirror_mode": {
    "name": "ipython",
    "version": 3
   },
   "file_extension": ".py",
   "mimetype": "text/x-python",
   "name": "python",
   "nbconvert_exporter": "python",
   "pygments_lexer": "ipython3",
   "version": "3.8.8"
  },
  "orig_nbformat": 4
 },
 "nbformat": 4,
 "nbformat_minor": 2
}
