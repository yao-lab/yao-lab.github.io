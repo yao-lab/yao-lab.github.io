{
 "cells": [
  {
   "cell_type": "code",
   "execution_count": 1,
   "id": "e3ce2dcc",
   "metadata": {},
   "outputs": [],
   "source": [
    "import pandas as pd\n",
    "import numpy as np\n",
    "import os\n",
    "import gc\n",
    "import pickle\n",
    "import joblib\n",
    "\n",
    "import time\n",
    "from datetime import datetime\n",
    "\n",
    "import matplotlib.pyplot as plt\n",
    "import seaborn as sns\n",
    "\n",
    "import lightgbm as lgb\n",
    "\n",
    "import warnings\n",
    "\n",
    "base_seed = 0\n",
    "\n",
    "DEBUG = False\n",
    "\n",
    "if ~DEBUG:\n",
    "    warnings.filterwarnings(\"ignore\")"
   ]
  },
  {
   "cell_type": "code",
   "execution_count": 3,
   "id": "cd3e7d66",
   "metadata": {},
   "outputs": [],
   "source": [
    "sales = pd.read_csv('./accuracy/sales_train_evaluation.csv')\n",
    "sales.name = 'sales'\n",
    "calendar = pd.read_csv('./accuracy/calendar.csv')\n",
    "calendar.name = 'calendar'\n",
    "prices = pd.read_csv('./accuracy/sell_prices.csv')\n",
    "prices.name = 'prices'"
   ]
  },
  {
   "cell_type": "code",
   "execution_count": 4,
   "id": "ab69db02",
   "metadata": {},
   "outputs": [],
   "source": [
    "for d in range(1942,1970):\n",
    "    col = 'd_' + str(d)\n",
    "    sales[col] = 0\n",
    "    sales[col] = sales[col].astype(np.int16)\n",
    "\n",
    "def downcast(df):\n",
    "    cols = df.dtypes.index.tolist()\n",
    "    types = df.dtypes.values.tolist()\n",
    "    for i,t in enumerate(types):\n",
    "        if 'int' in str(t):\n",
    "            if df[cols[i]].min() > np.iinfo(np.int8).min and df[cols[i]].max() < np.iinfo(np.int8).max:\n",
    "                df[cols[i]] = df[cols[i]].astype(np.int8)\n",
    "            elif df[cols[i]].min() > np.iinfo(np.int16).min and df[cols[i]].max() < np.iinfo(np.int16).max:\n",
    "                df[cols[i]] = df[cols[i]].astype(np.int16)\n",
    "            elif df[cols[i]].min() > np.iinfo(np.int32).min and df[cols[i]].max() < np.iinfo(np.int32).max:\n",
    "                df[cols[i]] = df[cols[i]].astype(np.int32)\n",
    "            else:\n",
    "                df[cols[i]] = df[cols[i]].astype(np.int64)\n",
    "        elif 'float' in str(t):\n",
    "            if df[cols[i]].min() > np.finfo(np.float16).min and df[cols[i]].max() < np.finfo(np.float16).max:\n",
    "                df[cols[i]] = df[cols[i]].astype(np.float16)\n",
    "            elif df[cols[i]].min() > np.finfo(np.float32).min and df[cols[i]].max() < np.finfo(np.float32).max:\n",
    "                df[cols[i]] = df[cols[i]].astype(np.float32)\n",
    "            else:\n",
    "                df[cols[i]] = df[cols[i]].astype(np.float64)\n",
    "        elif t == np.object:\n",
    "            if cols[i] == 'date':\n",
    "                df[cols[i]] = pd.to_datetime(df[cols[i]], format='%Y-%m-%d')\n",
    "            else:\n",
    "                df[cols[i]] = df[cols[i]].astype('category')\n",
    "    return df  \n",
    "\n",
    "sales = downcast(sales)\n",
    "prices = downcast(prices)\n",
    "calendar = downcast(calendar)"
   ]
  },
  {
   "cell_type": "code",
   "execution_count": 5,
   "id": "fda87f1b",
   "metadata": {},
   "outputs": [],
   "source": [
    "df = pd.melt(sales, id_vars=['id', 'item_id', 'dept_id', 'cat_id', 'store_id', 'state_id'], var_name='d', value_name='sold').dropna()\n",
    "df = pd.merge(df, calendar, on='d', how='left')\n",
    "df = pd.merge(df, prices, on=['store_id','item_id','wm_yr_wk'], how='left') "
   ]
  },
  {
   "cell_type": "markdown",
   "id": "2f9c9b59",
   "metadata": {},
   "source": [
    "## Feature Engineering"
   ]
  },
  {
   "cell_type": "code",
   "execution_count": 6,
   "id": "ef4066dd",
   "metadata": {},
   "outputs": [],
   "source": [
    "d_id = dict(zip(df.id.cat.codes, df.id))\n",
    "d_item_id = dict(zip(df.item_id.cat.codes, df.item_id))\n",
    "d_dept_id = dict(zip(df.dept_id.cat.codes, df.dept_id))\n",
    "d_cat_id = dict(zip(df.cat_id.cat.codes, df.cat_id))\n",
    "d_store_id = dict(zip(df.store_id.cat.codes, df.store_id))\n",
    "d_state_id = dict(zip(df.state_id.cat.codes, df.state_id))"
   ]
  },
  {
   "cell_type": "code",
   "execution_count": null,
   "id": "69253b0e",
   "metadata": {},
   "outputs": [],
   "source": [
    "# del df\n",
    "# gc.collect()"
   ]
  },
  {
   "cell_type": "code",
   "execution_count": 33,
   "id": "1d6e0dbe",
   "metadata": {},
   "outputs": [],
   "source": [
    "\n",
    "## categorical data\n",
    "df.d = df['d'].apply(lambda x: x.split('_')[1]).astype(np.int16)\n",
    "cols = df.dtypes.index.tolist()\n",
    "types = df.dtypes.values.tolist()\n",
    "for i,type in enumerate(types):\n",
    "    if type.name == 'category':\n",
    "        df[cols[i]] = df[cols[i]].cat.codes\n",
    "\n",
    "df.drop('date',axis=1,inplace=True)\n",
    "\n",
    "## add lags\n",
    "lags = [1,2,3,6,12,24,36]\n",
    "for lag in lags:\n",
    "    df['sold_lag_'+str(lag)] = df.groupby(['id', 'item_id', 'dept_id', 'cat_id', 'store_id', 'state_id'],as_index=False)['sold'].shift(lag).astype(np.float16)\n",
    "    \n",
    "## add mean\n",
    "df['iteam_sold_avg'] = df.groupby('item_id')['sold'].transform('mean').astype(np.float16)\n",
    "df['state_sold_avg'] = df.groupby('state_id')['sold'].transform('mean').astype(np.float16)\n",
    "df['store_sold_avg'] = df.groupby('store_id')['sold'].transform('mean').astype(np.float16)\n",
    "df['cat_sold_avg'] = df.groupby('cat_id')['sold'].transform('mean').astype(np.float16)\n",
    "df['dept_sold_avg'] = df.groupby('dept_id')['sold'].transform('mean').astype(np.float16)\n",
    "df['cat_dept_sold_avg'] = df.groupby(['cat_id','dept_id'])['sold'].transform('mean').astype(np.float16)\n",
    "df['store_item_sold_avg'] = df.groupby(['store_id','item_id'])['sold'].transform('mean').astype(np.float16)\n",
    "df['cat_item_sold_avg'] = df.groupby(['cat_id','item_id'])['sold'].transform('mean').astype(np.float16)\n",
    "df['dept_item_sold_avg'] = df.groupby(['dept_id','item_id'])['sold'].transform('mean').astype(np.float16)\n",
    "df['state_store_sold_avg'] = df.groupby(['state_id','store_id'])['sold'].transform('mean').astype(np.float16)\n",
    "df['state_store_cat_sold_avg'] = df.groupby(['state_id','store_id','cat_id'])['sold'].transform('mean').astype(np.float16)\n",
    "df['store_cat_dept_sold_avg'] = df.groupby(['store_id','cat_id','dept_id'])['sold'].transform('mean').astype(np.float16)\n",
    "\n",
    "## add rolling mean\n",
    "df['rolling_sold_mean'] = df.groupby(['id', 'item_id', 'dept_id', 'cat_id', 'store_id', 'state_id'])['sold'].transform(lambda x: x.rolling(window=7).mean()).astype(np.float16)\n",
    "\n",
    "## add expanding mean\n",
    "df['expanding_sold_mean'] = df.groupby(['id', 'item_id', 'dept_id', 'cat_id', 'store_id', 'state_id'])['sold'].transform(lambda x: x.expanding(2).mean()).astype(np.float16)\n",
    "\n",
    "## add trends\n",
    "df['daily_avg_sold'] = df.groupby(['id', 'item_id', 'dept_id', 'cat_id', 'store_id', 'state_id','d'])['sold'].transform('mean').astype(np.float16)\n",
    "df['avg_sold'] = df.groupby(['id', 'item_id', 'dept_id', 'cat_id', 'store_id', 'state_id'])['sold'].transform('mean').astype(np.float16)\n",
    "df['selling_trend'] = (df['daily_avg_sold'] - df['avg_sold']).astype(np.float16)\n",
    "df.drop(['daily_avg_sold','avg_sold'],axis=1,inplace=True)"
   ]
  },
  {
   "cell_type": "code",
   "execution_count": 34,
   "id": "5a65d278",
   "metadata": {},
   "outputs": [
    {
     "data": {
      "text/plain": [
       "15"
      ]
     },
     "execution_count": 34,
     "metadata": {},
     "output_type": "execute_result"
    }
   ],
   "source": [
    "df = df[df['d']>=36]\n",
    "df.to_pickle('data_validation.pkl')\n",
    "del df\n",
    "gc.collect()"
   ]
  },
  {
   "cell_type": "code",
   "execution_count": 37,
   "id": "ce350e26",
   "metadata": {},
   "outputs": [
    {
     "data": {
      "text/plain": [
       "count    5.896766e+07\n",
       "mean     1.002500e+03\n",
       "std      5.582976e+02\n",
       "min      3.600000e+01\n",
       "25%      5.190000e+02\n",
       "50%      1.002500e+03\n",
       "75%      1.486000e+03\n",
       "max      1.969000e+03\n",
       "Name: d, dtype: float64"
      ]
     },
     "execution_count": 37,
     "metadata": {},
     "output_type": "execute_result"
    }
   ],
   "source": [
    "data = pd.read_pickle('data.pkl')\n",
    "data['d'].describe()"
   ]
  },
  {
   "cell_type": "code",
   "execution_count": 38,
   "id": "95a2eea2",
   "metadata": {},
   "outputs": [
    {
     "data": {
      "text/plain": [
       "count    5.811394e+07\n",
       "mean     9.889113e+02\n",
       "std      5.509266e+02\n",
       "min      3.600000e+01\n",
       "25%      5.120000e+02\n",
       "50%      9.885000e+02\n",
       "75%      1.465000e+03\n",
       "max      1.969000e+03\n",
       "Name: d, dtype: float64"
      ]
     },
     "execution_count": 38,
     "metadata": {},
     "output_type": "execute_result"
    }
   ],
   "source": [
    "data = pd.read_pickle('data_validation.pkl')\n",
    "data['d'].describe()"
   ]
  },
  {
   "cell_type": "code",
   "execution_count": 39,
   "id": "788b7805",
   "metadata": {},
   "outputs": [
    {
     "data": {
      "text/plain": [
       "id                            int16\n",
       "item_id                       int16\n",
       "dept_id                        int8\n",
       "cat_id                         int8\n",
       "store_id                       int8\n",
       "state_id                       int8\n",
       "d                             int16\n",
       "sold                          int16\n",
       "wm_yr_wk                      int16\n",
       "weekday                        int8\n",
       "wday                           int8\n",
       "month                          int8\n",
       "year                          int16\n",
       "event_name_1                   int8\n",
       "event_type_1                   int8\n",
       "event_name_2                   int8\n",
       "event_type_2                   int8\n",
       "snap_CA                        int8\n",
       "snap_TX                        int8\n",
       "snap_WI                        int8\n",
       "sell_price                  float16\n",
       "sold_lag_1                  float16\n",
       "sold_lag_2                  float16\n",
       "sold_lag_3                  float16\n",
       "sold_lag_6                  float16\n",
       "sold_lag_12                 float16\n",
       "sold_lag_24                 float16\n",
       "sold_lag_36                 float16\n",
       "iteam_sold_avg              float16\n",
       "state_sold_avg              float16\n",
       "store_sold_avg              float16\n",
       "cat_sold_avg                float16\n",
       "dept_sold_avg               float16\n",
       "cat_dept_sold_avg           float16\n",
       "store_item_sold_avg         float16\n",
       "cat_item_sold_avg           float16\n",
       "dept_item_sold_avg          float16\n",
       "state_store_sold_avg        float16\n",
       "state_store_cat_sold_avg    float16\n",
       "store_cat_dept_sold_avg     float16\n",
       "rolling_sold_mean           float16\n",
       "expanding_sold_mean         float16\n",
       "selling_trend               float16\n",
       "dtype: object"
      ]
     },
     "execution_count": 39,
     "metadata": {},
     "output_type": "execute_result"
    }
   ],
   "source": [
    "data.dtypes"
   ]
  },
  {
   "cell_type": "code",
   "execution_count": 8,
   "id": "c6836ee6",
   "metadata": {},
   "outputs": [
    {
     "name": "stdout",
     "output_type": "stream",
     "text": [
      "*****Prediction for Store: CA_1*****\n",
      "Training until validation scores don't improve for 20 rounds\n",
      "[20]\ttraining's rmse: 0.841371\ttraining's l2: 0.707905\tvalid_1's rmse: 0.549692\tvalid_1's l2: 0.302161\n",
      "[40]\ttraining's rmse: 0.804525\ttraining's l2: 0.647261\tvalid_1's rmse: 0.5348\tvalid_1's l2: 0.286011\n",
      "[60]\ttraining's rmse: 0.783255\ttraining's l2: 0.613489\tvalid_1's rmse: 0.52753\tvalid_1's l2: 0.278288\n",
      "[80]\ttraining's rmse: 0.764822\ttraining's l2: 0.584952\tvalid_1's rmse: 0.515422\tvalid_1's l2: 0.26566\n",
      "[100]\ttraining's rmse: 0.753176\ttraining's l2: 0.567275\tvalid_1's rmse: 0.509039\tvalid_1's l2: 0.259121\n",
      "[120]\ttraining's rmse: 0.742756\ttraining's l2: 0.551686\tvalid_1's rmse: 0.508121\tvalid_1's l2: 0.258187\n",
      "[140]\ttraining's rmse: 0.732605\ttraining's l2: 0.53671\tvalid_1's rmse: 0.508102\tvalid_1's l2: 0.258167\n",
      "Early stopping, best iteration is:\n",
      "[124]\ttraining's rmse: 0.741067\ttraining's l2: 0.549181\tvalid_1's rmse: 0.506912\tvalid_1's l2: 0.256959\n",
      "*****Prediction for Store: CA_2*****\n",
      "Training until validation scores don't improve for 20 rounds\n",
      "[20]\ttraining's rmse: 0.50731\ttraining's l2: 0.257364\tvalid_1's rmse: 0.484923\tvalid_1's l2: 0.23515\n",
      "[40]\ttraining's rmse: 0.476551\ttraining's l2: 0.227101\tvalid_1's rmse: 0.473194\tvalid_1's l2: 0.223912\n",
      "[60]\ttraining's rmse: 0.451181\ttraining's l2: 0.203564\tvalid_1's rmse: 0.460666\tvalid_1's l2: 0.212213\n",
      "[80]\ttraining's rmse: 0.438823\ttraining's l2: 0.192566\tvalid_1's rmse: 0.455741\tvalid_1's l2: 0.207699\n",
      "[100]\ttraining's rmse: 0.433938\ttraining's l2: 0.188302\tvalid_1's rmse: 0.453534\tvalid_1's l2: 0.205693\n",
      "[120]\ttraining's rmse: 0.430274\ttraining's l2: 0.185136\tvalid_1's rmse: 0.449974\tvalid_1's l2: 0.202477\n",
      "[140]\ttraining's rmse: 0.427433\ttraining's l2: 0.182699\tvalid_1's rmse: 0.449579\tvalid_1's l2: 0.202121\n",
      "[160]\ttraining's rmse: 0.424078\ttraining's l2: 0.179842\tvalid_1's rmse: 0.447059\tvalid_1's l2: 0.199862\n",
      "[180]\ttraining's rmse: 0.420943\ttraining's l2: 0.177193\tvalid_1's rmse: 0.44581\tvalid_1's l2: 0.198747\n",
      "Early stopping, best iteration is:\n",
      "[167]\ttraining's rmse: 0.42231\ttraining's l2: 0.178345\tvalid_1's rmse: 0.445337\tvalid_1's l2: 0.198325\n",
      "*****Prediction for Store: CA_3*****\n",
      "Training until validation scores don't improve for 20 rounds\n",
      "[20]\ttraining's rmse: 1.30592\ttraining's l2: 1.70543\tvalid_1's rmse: 0.641914\tvalid_1's l2: 0.412054\n",
      "[40]\ttraining's rmse: 1.25184\ttraining's l2: 1.5671\tvalid_1's rmse: 0.618351\tvalid_1's l2: 0.382358\n",
      "[60]\ttraining's rmse: 1.21518\ttraining's l2: 1.47667\tvalid_1's rmse: 0.603797\tvalid_1's l2: 0.364571\n",
      "[80]\ttraining's rmse: 1.18935\ttraining's l2: 1.41454\tvalid_1's rmse: 0.612936\tvalid_1's l2: 0.375691\n",
      "Early stopping, best iteration is:\n",
      "[60]\ttraining's rmse: 1.21518\ttraining's l2: 1.47667\tvalid_1's rmse: 0.603797\tvalid_1's l2: 0.364571\n",
      "*****Prediction for Store: CA_4*****\n",
      "Training until validation scores don't improve for 20 rounds\n",
      "[20]\ttraining's rmse: 0.378115\ttraining's l2: 0.142971\tvalid_1's rmse: 0.297614\tvalid_1's l2: 0.088574\n",
      "[40]\ttraining's rmse: 0.360104\ttraining's l2: 0.129675\tvalid_1's rmse: 0.288009\tvalid_1's l2: 0.0829493\n",
      "[60]\ttraining's rmse: 0.348845\ttraining's l2: 0.121693\tvalid_1's rmse: 0.282918\tvalid_1's l2: 0.0800429\n",
      "[80]\ttraining's rmse: 0.343449\ttraining's l2: 0.117957\tvalid_1's rmse: 0.278805\tvalid_1's l2: 0.0777325\n",
      "[100]\ttraining's rmse: 0.339257\ttraining's l2: 0.115095\tvalid_1's rmse: 0.275928\tvalid_1's l2: 0.0761365\n",
      "[120]\ttraining's rmse: 0.33555\ttraining's l2: 0.112594\tvalid_1's rmse: 0.273301\tvalid_1's l2: 0.0746933\n",
      "[140]\ttraining's rmse: 0.331947\ttraining's l2: 0.110189\tvalid_1's rmse: 0.271961\tvalid_1's l2: 0.0739629\n",
      "[160]\ttraining's rmse: 0.329032\ttraining's l2: 0.108262\tvalid_1's rmse: 0.271267\tvalid_1's l2: 0.0735858\n",
      "Early stopping, best iteration is:\n",
      "[150]\ttraining's rmse: 0.329961\ttraining's l2: 0.108874\tvalid_1's rmse: 0.270839\tvalid_1's l2: 0.073354\n",
      "*****Prediction for Store: TX_1*****\n",
      "Training until validation scores don't improve for 20 rounds\n",
      "[20]\ttraining's rmse: 0.775684\ttraining's l2: 0.601685\tvalid_1's rmse: 0.482003\tvalid_1's l2: 0.232327\n",
      "[40]\ttraining's rmse: 0.736797\ttraining's l2: 0.54287\tvalid_1's rmse: 0.460809\tvalid_1's l2: 0.212345\n",
      "[60]\ttraining's rmse: 0.714719\ttraining's l2: 0.510823\tvalid_1's rmse: 0.452697\tvalid_1's l2: 0.204934\n",
      "[80]\ttraining's rmse: 0.698901\ttraining's l2: 0.488462\tvalid_1's rmse: 0.445172\tvalid_1's l2: 0.198178\n",
      "[100]\ttraining's rmse: 0.686636\ttraining's l2: 0.471468\tvalid_1's rmse: 0.441788\tvalid_1's l2: 0.195177\n",
      "[120]\ttraining's rmse: 0.678774\ttraining's l2: 0.460734\tvalid_1's rmse: 0.442731\tvalid_1's l2: 0.196011\n",
      "[140]\ttraining's rmse: 0.671827\ttraining's l2: 0.451351\tvalid_1's rmse: 0.438634\tvalid_1's l2: 0.1924\n",
      "[160]\ttraining's rmse: 0.665343\ttraining's l2: 0.442681\tvalid_1's rmse: 0.440921\tvalid_1's l2: 0.194412\n",
      "Early stopping, best iteration is:\n",
      "[142]\ttraining's rmse: 0.671519\ttraining's l2: 0.450938\tvalid_1's rmse: 0.438028\tvalid_1's l2: 0.191868\n",
      "*****Prediction for Store: TX_2*****\n",
      "Training until validation scores don't improve for 20 rounds\n",
      "[20]\ttraining's rmse: 0.938929\ttraining's l2: 0.881588\tvalid_1's rmse: 0.518355\tvalid_1's l2: 0.268692\n",
      "[40]\ttraining's rmse: 0.88854\ttraining's l2: 0.789504\tvalid_1's rmse: 0.496416\tvalid_1's l2: 0.246429\n",
      "[60]\ttraining's rmse: 0.854354\ttraining's l2: 0.729921\tvalid_1's rmse: 0.489847\tvalid_1's l2: 0.23995\n",
      "[80]\ttraining's rmse: 0.828211\ttraining's l2: 0.685933\tvalid_1's rmse: 0.488263\tvalid_1's l2: 0.2384\n",
      "[100]\ttraining's rmse: 0.807988\ttraining's l2: 0.652844\tvalid_1's rmse: 0.489298\tvalid_1's l2: 0.239412\n",
      "Early stopping, best iteration is:\n",
      "[88]\ttraining's rmse: 0.817382\ttraining's l2: 0.668113\tvalid_1's rmse: 0.482922\tvalid_1's l2: 0.233213\n",
      "*****Prediction for Store: TX_3*****\n",
      "Training until validation scores don't improve for 20 rounds\n",
      "[20]\ttraining's rmse: 0.74214\ttraining's l2: 0.550772\tvalid_1's rmse: 0.583178\tvalid_1's l2: 0.340097\n",
      "[40]\ttraining's rmse: 0.709551\ttraining's l2: 0.503463\tvalid_1's rmse: 0.569034\tvalid_1's l2: 0.3238\n",
      "[60]\ttraining's rmse: 0.686543\ttraining's l2: 0.471342\tvalid_1's rmse: 0.562841\tvalid_1's l2: 0.31679\n",
      "[80]\ttraining's rmse: 0.671867\ttraining's l2: 0.451406\tvalid_1's rmse: 0.558322\tvalid_1's l2: 0.311724\n",
      "[100]\ttraining's rmse: 0.663025\ttraining's l2: 0.439603\tvalid_1's rmse: 0.553252\tvalid_1's l2: 0.306088\n",
      "[120]\ttraining's rmse: 0.651882\ttraining's l2: 0.42495\tvalid_1's rmse: 0.548118\tvalid_1's l2: 0.300434\n",
      "[140]\ttraining's rmse: 0.645052\ttraining's l2: 0.416092\tvalid_1's rmse: 0.545492\tvalid_1's l2: 0.297562\n",
      "[160]\ttraining's rmse: 0.640136\ttraining's l2: 0.409775\tvalid_1's rmse: 0.543109\tvalid_1's l2: 0.294968\n",
      "[180]\ttraining's rmse: 0.631078\ttraining's l2: 0.39826\tvalid_1's rmse: 0.542614\tvalid_1's l2: 0.29443\n",
      "[200]\ttraining's rmse: 0.6217\ttraining's l2: 0.386511\tvalid_1's rmse: 0.539492\tvalid_1's l2: 0.291051\n",
      "[220]\ttraining's rmse: 0.617627\ttraining's l2: 0.381463\tvalid_1's rmse: 0.537589\tvalid_1's l2: 0.289002\n",
      "[240]\ttraining's rmse: 0.614278\ttraining's l2: 0.377337\tvalid_1's rmse: 0.536736\tvalid_1's l2: 0.288086\n",
      "[260]\ttraining's rmse: 0.609494\ttraining's l2: 0.371483\tvalid_1's rmse: 0.534239\tvalid_1's l2: 0.285412\n",
      "[280]\ttraining's rmse: 0.605048\ttraining's l2: 0.366083\tvalid_1's rmse: 0.533319\tvalid_1's l2: 0.28443\n",
      "Early stopping, best iteration is:\n",
      "[277]\ttraining's rmse: 0.605567\ttraining's l2: 0.366712\tvalid_1's rmse: 0.532371\tvalid_1's l2: 0.283419\n",
      "*****Prediction for Store: WI_1*****\n",
      "Training until validation scores don't improve for 20 rounds\n",
      "[20]\ttraining's rmse: 0.403538\ttraining's l2: 0.162843\tvalid_1's rmse: 0.346047\tvalid_1's l2: 0.119748\n",
      "[40]\ttraining's rmse: 0.380006\ttraining's l2: 0.144405\tvalid_1's rmse: 0.328918\tvalid_1's l2: 0.108187\n",
      "[60]\ttraining's rmse: 0.367751\ttraining's l2: 0.135241\tvalid_1's rmse: 0.3228\tvalid_1's l2: 0.1042\n",
      "Early stopping, best iteration is:\n",
      "[58]\ttraining's rmse: 0.368484\ttraining's l2: 0.13578\tvalid_1's rmse: 0.321827\tvalid_1's l2: 0.103572\n",
      "*****Prediction for Store: WI_2*****\n",
      "Training until validation scores don't improve for 20 rounds\n",
      "[20]\ttraining's rmse: 0.80583\ttraining's l2: 0.649363\tvalid_1's rmse: 0.993605\tvalid_1's l2: 0.987251\n",
      "[40]\ttraining's rmse: 0.761799\ttraining's l2: 0.580338\tvalid_1's rmse: 0.972576\tvalid_1's l2: 0.945904\n",
      "[60]\ttraining's rmse: 0.735406\ttraining's l2: 0.540823\tvalid_1's rmse: 0.955913\tvalid_1's l2: 0.913769\n"
     ]
    },
    {
     "name": "stdout",
     "output_type": "stream",
     "text": [
      "[80]\ttraining's rmse: 0.719793\ttraining's l2: 0.518101\tvalid_1's rmse: 0.950355\tvalid_1's l2: 0.903175\n",
      "Early stopping, best iteration is:\n",
      "[77]\ttraining's rmse: 0.721405\ttraining's l2: 0.520426\tvalid_1's rmse: 0.948383\tvalid_1's l2: 0.899429\n",
      "*****Prediction for Store: WI_3*****\n",
      "Training until validation scores don't improve for 20 rounds\n",
      "[20]\ttraining's rmse: 0.815185\ttraining's l2: 0.664527\tvalid_1's rmse: 0.59894\tvalid_1's l2: 0.358729\n",
      "[40]\ttraining's rmse: 0.774146\ttraining's l2: 0.599302\tvalid_1's rmse: 0.582443\tvalid_1's l2: 0.33924\n",
      "Early stopping, best iteration is:\n",
      "[33]\ttraining's rmse: 0.781853\ttraining's l2: 0.611294\tvalid_1's rmse: 0.581293\tvalid_1's l2: 0.337901\n"
     ]
    }
   ],
   "source": [
    "data = pd.read_pickle('data.pkl')\n",
    "valid = data[(data['d']>=1914) & (data['d']<1942)][['id','d','sold']]\n",
    "test = data[data['d']>=1942][['id','d','sold']]\n",
    "eval_preds = test['sold']\n",
    "valid_preds = valid['sold']\n",
    "\n",
    "#Get the store ids\n",
    "stores = sales.store_id.cat.codes.unique().tolist()\n",
    "for store in stores:\n",
    "    df = data[data['store_id']==store]\n",
    "    \n",
    "    #Split the data\n",
    "    X_train, y_train = df[df['d']<1914].drop('sold',axis=1), df[df['d']<1914]['sold']\n",
    "    X_valid, y_valid = df[(df['d']>=1914) & (df['d']<1942)].drop('sold',axis=1), df[(df['d']>=1914) & (df['d']<1942)]['sold']\n",
    "    X_test = df[df['d']>=1942].drop('sold',axis=1)\n",
    "    \n",
    "    #Train and validate\n",
    "    model = lgb.LGBMRegressor(\n",
    "        n_estimators=1000,\n",
    "        learning_rate=0.3,\n",
    "        subsample=0.8,\n",
    "        colsample_bytree=0.8,\n",
    "        max_depth=8,\n",
    "        num_leaves=50,\n",
    "        min_child_weight=300\n",
    "    )\n",
    "    print('*****Prediction for Store: {}*****'.format(d_store_id[store]))\n",
    "    model.fit(X_train, y_train, eval_set=[(X_train,y_train),(X_valid,y_valid)],\n",
    "             eval_metric='rmse', verbose=20, early_stopping_rounds=20)\n",
    "    valid_preds[X_valid.index] = model.predict(X_valid)\n",
    "    eval_preds[X_test.index] = model.predict(X_test)\n",
    "    filename = 'model'+str(d_store_id[store])+'.pkl'\n",
    "    # save model\n",
    "    joblib.dump(model, filename)\n",
    "    del model, X_train, y_train, X_valid, y_valid\n",
    "    gc.collect()"
   ]
  },
  {
   "cell_type": "code",
   "execution_count": 29,
   "id": "98d0bd98",
   "metadata": {},
   "outputs": [],
   "source": [
    "valid['sold'] = valid_preds\n",
    "validation = valid[['id','d','sold']]\n",
    "validation = pd.pivot(validation, index='id', columns='d', values='sold').reset_index()\n",
    "validation.columns=['id'] + ['F' + str(i + 1) for i in range(28)]\n",
    "validation.id = validation.id.map(d_id).str.replace('evaluation','validation')\n",
    "test['sold'] = eval_preds\n",
    "evaluation = test[['id','d','sold']]\n",
    "evaluation = pd.pivot(evaluation, index='id', columns='d', values='sold').reset_index()\n",
    "evaluation.columns=['id'] + ['F' + str(i + 1) for i in range(28)]\n",
    "evaluation.id = evaluation.id.map(d_id)\n",
    "submit = pd.concat([validation,evaluation]).reset_index(drop=True)\n",
    "submit.to_csv('submission_2.csv',index=False)"
   ]
  },
  {
   "cell_type": "code",
   "execution_count": 9,
   "id": "848013fb",
   "metadata": {},
   "outputs": [
    {
     "data": {
      "image/png": "[encoded data removed]",
      "text/plain": [
       "<Figure size 576x288 with 1 Axes>"
      ]
     },
     "metadata": {
      "needs_background": "light"
     },
     "output_type": "display_data"
    }
   ],
   "source": [
    "feature_importance_df = pd.DataFrame()\n",
    "features = [f for f in data.columns if f != 'sold']\n",
    "for filename in os.listdir('./'):\n",
    "    if 'model' in filename:\n",
    "        # load model\n",
    "        model = joblib.load(filename)\n",
    "        store_importance_df = pd.DataFrame()\n",
    "        store_importance_df[\"feature\"] = features\n",
    "        store_importance_df[\"importance\"] = model.feature_importances_\n",
    "        store_importance_df[\"store\"] = filename[5:9]\n",
    "        feature_importance_df = pd.concat([feature_importance_df, store_importance_df], axis=0)\n",
    "    \n",
    "def display_importances(feature_importance_df_):\n",
    "    cols = feature_importance_df_[[\"feature\", \"importance\"]].groupby(\"feature\").mean().sort_values(by=\"importance\", ascending=False)[:10].index\n",
    "    best_features = feature_importance_df_.loc[feature_importance_df_.feature.isin(cols)]\n",
    "    plt.figure(figsize=(8, 4))\n",
    "    sns.barplot(x=\"importance\", y=\"feature\", data=best_features.sort_values(by=\"importance\", ascending=False))\n",
    "    plt.title('LightGBM Feature Importance (average by store)')\n",
    "    plt.tight_layout()\n",
    "    \n",
    "display_importances(feature_importance_df)"
   ]
  },
  {
   "cell_type": "code",
   "execution_count": null,
   "id": "945b25d1",
   "metadata": {},
   "outputs": [],
   "source": []
  }
 ],
 "metadata": {
  "kernelspec": {
   "display_name": "Python 3",
   "language": "python",
   "name": "python3"
  },
  "language_info": {
   "codemirror_mode": {
    "name": "ipython",
    "version": 3
   },
   "file_extension": ".py",
   "mimetype": "text/x-python",
   "name": "python",
   "nbconvert_exporter": "python",
   "pygments_lexer": "ipython3",
   "version": "3.8.8"
  }
 },
 "nbformat": 4,
 "nbformat_minor": 5
}
