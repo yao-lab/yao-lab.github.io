{
 "cells": [
  {
   "cell_type": "code",
   "execution_count": 1,
   "id": "780d844f",
   "metadata": {},
   "outputs": [],
   "source": [
    "import pandas as pd\n",
    "import numpy as np\n",
    "import statsmodels.api as sm\n",
    "import matplotlib.pyplot as plt"
   ]
  },
  {
   "cell_type": "code",
   "execution_count": 2,
   "id": "264b63c7",
   "metadata": {},
   "outputs": [],
   "source": [
    "evaluation =  pd.read_csv('C:\\\\Users\\\\Claudia\\\\Desktop\\\\1212\\\\sales_train_evaluation.csv',index_col=0)"
   ]
  },
  {
   "cell_type": "code",
   "execution_count": 3,
   "id": "88125215",
   "metadata": {},
   "outputs": [],
   "source": [
    "item_names = list(evaluation['item_id'].unique())"
   ]
  },
  {
   "cell_type": "code",
   "execution_count": 4,
   "id": "81e9b6ed",
   "metadata": {},
   "outputs": [],
   "source": [
    "calendar = pd.read_csv('C:\\\\Users\\\\Claudia\\\\Desktop\\\\1212\\\\calendar.csv',index_col=0)"
   ]
  },
  {
   "cell_type": "code",
   "execution_count": 5,
   "id": "b799bd71",
   "metadata": {},
   "outputs": [],
   "source": [
    "# eva = pd.read_csv('C:\\\\Users\\\\Claudia\\\\Desktop\\\\1212\\\\sample_submission_eva.csv',index_col=0)"
   ]
  },
  {
   "cell_type": "code",
   "execution_count": null,
   "id": "31dbad76",
   "metadata": {},
   "outputs": [],
   "source": [
    "def predict_all(item_list, train):\n",
    "    items_predict = dict()\n",
    "    for i in item_list:\n",
    "        item = train[train['item_id']==i].iloc[:,3:].drop('state_id',axis=1)\n",
    "        item.index = item['store_id']\n",
    "        n = len(item['store_id'].unique())+1\n",
    "        item=item.drop('store_id',axis=1)\n",
    "        \n",
    "        item_svd = SVD(n,item.T).T\n",
    "        item_svd.index = pd.date_range('2011-01-29', periods=item_svd.shape[0], freq=\"D\")\n",
    "#         item_eva = eva.T.filter(regex=i)\n",
    "#         item_eva.columns = item_svd.columns\n",
    "        \n",
    "        ema = EMA(item_svd.T)\n",
    "#         sarima = SARIMA(item_svd)\n",
    "        stl = STLF(item_svd)\n",
    "        \n",
    "        prediction = ((ema+stl)/2).round(0)\n",
    "        items_predict[i] = prediction\n",
    "    return items_predict"
   ]
  },
  {
   "cell_type": "code",
   "execution_count": 5,
   "id": "a2409439",
   "metadata": {},
   "outputs": [],
   "source": [
    "def SVD(n,df):\n",
    "    U, sigma, VT = np.linalg.svd(np.array(df))\n",
    "    k = n - sum(((sigma**2/sum(sigma**2)).cumsum()- 0.9) > 0)\n",
    "    Uk = U[:, 0:k]\n",
    "    Sk = np.diag(sigma[0:k])\n",
    "    Vk = VT[0:k, :]\n",
    "    TM = Uk.dot(Sk).dot(Vk)\n",
    "    TM = pd.DataFrame(TM.T,columns = df.index, index = df.columns).round(2)\n",
    "    TM[TM<=0] = 0.00001\n",
    "    return TM"
   ]
  },
  {
   "cell_type": "code",
   "execution_count": 6,
   "id": "0e2554c9",
   "metadata": {},
   "outputs": [],
   "source": [
    "from statsmodels.tsa.api import ExponentialSmoothing\n",
    "\n",
    "def EMA(df):\n",
    "    ema = dict()\n",
    "    for store in df.columns:\n",
    "        EMA_fit = ExponentialSmoothing(df[store], seasonal_periods=180, trend='add', seasonal='add').fit(use_boxcox=True)\n",
    "        fcast = EMA_fit.forecast(28)\n",
    "        ema[store] = fcast\n",
    "    ema=pd.DataFrame(ema)\n",
    "    ema.index =  list(range(29))[1:]\n",
    "    return ema"
   ]
  },
  {
   "cell_type": "code",
   "execution_count": 8,
   "id": "8a0e9992",
   "metadata": {},
   "outputs": [],
   "source": [
    "# # ***done\n",
    "# import statsmodels.api as sm\n",
    "\n",
    "# def SARIMA(df):\n",
    "#     sarima = dict()\n",
    "#     for store in df.columns:\n",
    "#         SARIMA_fit = sm.tsa.statespace.SARIMAX(df[store], order=(0, 1, 0), seasonal_order=(2, 1, 2, 52)).fit()\n",
    "#         fcast = SARIMA_fit.forecast(28).round(0)\n",
    "#         sarima[store] = fcast\n",
    "#     sarima=pd.DataFrame(sarima)\n",
    "#     sarima.index =  list(range(29))[1:]\n",
    "#     return sarima\n"
   ]
  },
  {
   "cell_type": "code",
   "execution_count": 6,
   "id": "743223a7",
   "metadata": {},
   "outputs": [],
   "source": [
    "from statsmodels.tsa.api import STLForecast\n",
    "from statsmodels.tsa.arima.model import ARIMA\n",
    "\n",
    "def STLF(df):\n",
    "    stlf = dict()\n",
    "    for store in df.columns:\n",
    "#         stl_fit = STLForecast(df[store], ARIMA, model_kwargs={\"order\": (0, 1, 0)}).fit()\n",
    "        stl_fit = STLForecast(df[store], ARIMA, model_kwargs={\"order\": (1, 1, 1)}, seasonal=365,).fit()\n",
    "        forecasts = stl_fit.forecast(28)\n",
    "        stlf[store] = forecasts.round(0)\n",
    "    stlf=pd.DataFrame(stlf)\n",
    "    stlf.index =  list(range(29))[1:]\n",
    "    stlf[stlf<=0] = 0\n",
    "    return stlf"
   ]
  },
  {
   "cell_type": "code",
   "execution_count": null,
   "id": "acf1ad0f",
   "metadata": {},
   "outputs": [],
   "source": [
    "# sbmt for ewa / stl\n",
    "import os\n",
    "eDir = \"C:\\\\Users\\\\Claudia\\\\Desktop\\\\1212\\\\stlf\\\\\"\n",
    "os.chdir(eDir)\n",
    "allFiles = []\n",
    "sbmt = pd.DataFrame()\n",
    "i = 1\n",
    "for eachfile in os.listdir():\n",
    "    predict = pd.read_csv(eachfile,index_col=0)\n",
    "    predict=predict.T.add_prefix('F')\n",
    "    predict.index = eachfile.split('.')[0] + '_' + predict.index.astype(str) + '_evaluation'\n",
    "    sbmt = sbmt.append(predict)\n",
    "    \n",
    "    v = pd.read_csv(eachfile,index_col=0)\n",
    "    v=v.T.add_prefix('F')\n",
    "    v.index = eachfile.split('.')[0] + '_' + v.index.astype(str) + '_validation'\n",
    "    sbmt = sbmt.append(v)\n",
    "    \n",
    "    print(str(i)+'done')\n",
    "    i += 1\n",
    "#     if i == 3: break\n",
    "    \n",
    "\n",
    "sbmt.to_csv('C:\\\\Users\\\\Claudia\\\\Desktop\\\\1212\\\\stlf1212.csv')"
   ]
  }
 ],
 "metadata": {
  "kernelspec": {
   "display_name": "Python 3",
   "language": "python",
   "name": "python3"
  },
  "language_info": {
   "codemirror_mode": {
    "name": "ipython",
    "version": 3
   },
   "file_extension": ".py",
   "mimetype": "text/x-python",
   "name": "python",
   "nbconvert_exporter": "python",
   "pygments_lexer": "ipython3",
   "version": "3.8.5"
  }
 },
 "nbformat": 4,
 "nbformat_minor": 5
}
