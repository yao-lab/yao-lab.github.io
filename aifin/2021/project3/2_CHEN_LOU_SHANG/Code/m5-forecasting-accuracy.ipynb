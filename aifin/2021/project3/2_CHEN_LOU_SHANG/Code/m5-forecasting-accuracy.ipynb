{
 "cells": [
  {
   "cell_type": "code",
   "execution_count": 1,
   "id": "2b8069d9",
   "metadata": {
    "_cell_guid": "b1076dfc-b9ad-4769-8c92-a6c4dae69d19",
    "_uuid": "8f2839f25d086af736a60e9eeb907d3b93b6e0e5",
    "execution": {
     "iopub.execute_input": "2021-11-24T09:03:35.231188Z",
     "iopub.status.busy": "2021-11-24T09:03:35.229949Z",
     "iopub.status.idle": "2021-11-24T09:03:35.241114Z",
     "shell.execute_reply": "2021-11-24T09:03:35.241898Z",
     "shell.execute_reply.started": "2021-11-24T05:22:38.770872Z"
    },
    "papermill": {
     "duration": 0.066091,
     "end_time": "2021-11-24T09:03:35.242308",
     "exception": false,
     "start_time": "2021-11-24T09:03:35.176217",
     "status": "completed"
    },
    "tags": []
   },
   "outputs": [
    {
     "name": "stdout",
     "output_type": "stream",
     "text": [
      "/kaggle/input/m5-forecasting-accuracy/calendar.csv\n",
      "/kaggle/input/m5-forecasting-accuracy/sample_submission.csv\n",
      "/kaggle/input/m5-forecasting-accuracy/sell_prices.csv\n",
      "/kaggle/input/m5-forecasting-accuracy/sales_train_validation.csv\n",
      "/kaggle/input/m5-forecasting-accuracy/sales_train_evaluation.csv\n"
     ]
    }
   ],
   "source": [
    "# This Python 3 environment comes with many helpful analytics libraries installed\n",
    "# It is defined by the kaggle/python Docker image: https://github.com/kaggle/docker-python\n",
    "# For example, here's several helpful packages to load\n",
    "\n",
    "import numpy as np # linear algebra\n",
    "import pandas as pd # data processing, CSV file I/O (e.g. pd.read_csv)\n",
    "\n",
    "# Input data files are available in the read-only \"../input/\" directory\n",
    "\n",
    "# For example, running this (by clicking run or pressing Shift+Enter) will list all files under the input directory\n",
    "\n",
    "import os\n",
    "for dirname, _, filenames in os.walk('/kaggle/input'):\n",
    "    for filename in filenames:\n",
    "        print(os.path.join(dirname, filename))\n",
    "\n",
    "# You can write up to 20GB to the current directory (/kaggle/working/) that gets preserved as output when you create a version using \"Save & Run All\" \n",
    "# You can also write temporary files to /kaggle/temp/, but they won't be saved outside of the current session"
   ]
  },
  {
   "cell_type": "code",
   "execution_count": 2,
   "id": "20924407",
   "metadata": {
    "execution": {
     "iopub.execute_input": "2021-11-24T09:03:35.355647Z",
     "iopub.status.busy": "2021-11-24T09:03:35.354486Z",
     "iopub.status.idle": "2021-11-24T09:03:35.358907Z",
     "shell.execute_reply": "2021-11-24T09:03:35.359596Z",
     "shell.execute_reply.started": "2021-11-24T05:22:38.807928Z"
    },
    "papermill": {
     "duration": 0.06776,
     "end_time": "2021-11-24T09:03:35.359806",
     "exception": false,
     "start_time": "2021-11-24T09:03:35.292046",
     "status": "completed"
    },
    "tags": []
   },
   "outputs": [],
   "source": [
    "import pandas as pd\n",
    "import numpy as np\n",
    "import random\n"
   ]
  },
  {
   "cell_type": "markdown",
   "id": "315a1dce",
   "metadata": {
    "papermill": {
     "duration": 0.0497,
     "end_time": "2021-11-24T09:03:35.462883",
     "exception": false,
     "start_time": "2021-11-24T09:03:35.413183",
     "status": "completed"
    },
    "tags": []
   },
   "source": [
    "## calendar"
   ]
  },
  {
   "cell_type": "code",
   "execution_count": 3,
   "id": "4798e8cc",
   "metadata": {
    "execution": {
     "iopub.execute_input": "2021-11-24T09:03:35.564930Z",
     "iopub.status.busy": "2021-11-24T09:03:35.564278Z",
     "iopub.status.idle": "2021-11-24T09:03:35.606302Z",
     "shell.execute_reply": "2021-11-24T09:03:35.606782Z",
     "shell.execute_reply.started": "2021-11-24T05:22:38.815650Z"
    },
    "papermill": {
     "duration": 0.09588,
     "end_time": "2021-11-24T09:03:35.606970",
     "exception": false,
     "start_time": "2021-11-24T09:03:35.511090",
     "status": "completed"
    },
    "tags": []
   },
   "outputs": [
    {
     "data": {
      "text/html": [
       "<div>\n",
       "<style scoped>\n",
       "    .dataframe tbody tr th:only-of-type {\n",
       "        vertical-align: middle;\n",
       "    }\n",
       "\n",
       "    .dataframe tbody tr th {\n",
       "        vertical-align: top;\n",
       "    }\n",
       "\n",
       "    .dataframe thead th {\n",
       "        text-align: right;\n",
       "    }\n",
       "</style>\n",
       "<table border=\"1\" class=\"dataframe\">\n",
       "  <thead>\n",
       "    <tr style=\"text-align: right;\">\n",
       "      <th></th>\n",
       "      <th>date</th>\n",
       "      <th>wm_yr_wk</th>\n",
       "      <th>weekday</th>\n",
       "      <th>wday</th>\n",
       "      <th>month</th>\n",
       "      <th>year</th>\n",
       "      <th>d</th>\n",
       "      <th>event_name_1</th>\n",
       "      <th>event_type_1</th>\n",
       "      <th>event_name_2</th>\n",
       "      <th>event_type_2</th>\n",
       "      <th>snap_CA</th>\n",
       "      <th>snap_TX</th>\n",
       "      <th>snap_WI</th>\n",
       "    </tr>\n",
       "  </thead>\n",
       "  <tbody>\n",
       "    <tr>\n",
       "      <th>0</th>\n",
       "      <td>2011-01-29</td>\n",
       "      <td>11101</td>\n",
       "      <td>Saturday</td>\n",
       "      <td>1</td>\n",
       "      <td>1</td>\n",
       "      <td>2011</td>\n",
       "      <td>d_1</td>\n",
       "      <td>NaN</td>\n",
       "      <td>NaN</td>\n",
       "      <td>NaN</td>\n",
       "      <td>NaN</td>\n",
       "      <td>0</td>\n",
       "      <td>0</td>\n",
       "      <td>0</td>\n",
       "    </tr>\n",
       "    <tr>\n",
       "      <th>1</th>\n",
       "      <td>2011-01-30</td>\n",
       "      <td>11101</td>\n",
       "      <td>Sunday</td>\n",
       "      <td>2</td>\n",
       "      <td>1</td>\n",
       "      <td>2011</td>\n",
       "      <td>d_2</td>\n",
       "      <td>NaN</td>\n",
       "      <td>NaN</td>\n",
       "      <td>NaN</td>\n",
       "      <td>NaN</td>\n",
       "      <td>0</td>\n",
       "      <td>0</td>\n",
       "      <td>0</td>\n",
       "    </tr>\n",
       "    <tr>\n",
       "      <th>2</th>\n",
       "      <td>2011-01-31</td>\n",
       "      <td>11101</td>\n",
       "      <td>Monday</td>\n",
       "      <td>3</td>\n",
       "      <td>1</td>\n",
       "      <td>2011</td>\n",
       "      <td>d_3</td>\n",
       "      <td>NaN</td>\n",
       "      <td>NaN</td>\n",
       "      <td>NaN</td>\n",
       "      <td>NaN</td>\n",
       "      <td>0</td>\n",
       "      <td>0</td>\n",
       "      <td>0</td>\n",
       "    </tr>\n",
       "    <tr>\n",
       "      <th>3</th>\n",
       "      <td>2011-02-01</td>\n",
       "      <td>11101</td>\n",
       "      <td>Tuesday</td>\n",
       "      <td>4</td>\n",
       "      <td>2</td>\n",
       "      <td>2011</td>\n",
       "      <td>d_4</td>\n",
       "      <td>NaN</td>\n",
       "      <td>NaN</td>\n",
       "      <td>NaN</td>\n",
       "      <td>NaN</td>\n",
       "      <td>1</td>\n",
       "      <td>1</td>\n",
       "      <td>0</td>\n",
       "    </tr>\n",
       "    <tr>\n",
       "      <th>4</th>\n",
       "      <td>2011-02-02</td>\n",
       "      <td>11101</td>\n",
       "      <td>Wednesday</td>\n",
       "      <td>5</td>\n",
       "      <td>2</td>\n",
       "      <td>2011</td>\n",
       "      <td>d_5</td>\n",
       "      <td>NaN</td>\n",
       "      <td>NaN</td>\n",
       "      <td>NaN</td>\n",
       "      <td>NaN</td>\n",
       "      <td>1</td>\n",
       "      <td>0</td>\n",
       "      <td>1</td>\n",
       "    </tr>\n",
       "  </tbody>\n",
       "</table>\n",
       "</div>"
      ],
      "text/plain": [
       "         date  wm_yr_wk    weekday  wday  month  year    d event_name_1  \\\n",
       "0  2011-01-29     11101   Saturday     1      1  2011  d_1          NaN   \n",
       "1  2011-01-30     11101     Sunday     2      1  2011  d_2          NaN   \n",
       "2  2011-01-31     11101     Monday     3      1  2011  d_3          NaN   \n",
       "3  2011-02-01     11101    Tuesday     4      2  2011  d_4          NaN   \n",
       "4  2011-02-02     11101  Wednesday     5      2  2011  d_5          NaN   \n",
       "\n",
       "  event_type_1 event_name_2 event_type_2  snap_CA  snap_TX  snap_WI  \n",
       "0          NaN          NaN          NaN        0        0        0  \n",
       "1          NaN          NaN          NaN        0        0        0  \n",
       "2          NaN          NaN          NaN        0        0        0  \n",
       "3          NaN          NaN          NaN        1        1        0  \n",
       "4          NaN          NaN          NaN        1        0        1  "
      ]
     },
     "execution_count": 3,
     "metadata": {},
     "output_type": "execute_result"
    }
   ],
   "source": [
    "calendar = pd.read_csv(\"../input/m5-forecasting-accuracy/calendar.csv\")\n",
    "calendar.head(5)\n"
   ]
  },
  {
   "cell_type": "code",
   "execution_count": 4,
   "id": "83e52793",
   "metadata": {
    "execution": {
     "iopub.execute_input": "2021-11-24T09:03:35.797372Z",
     "iopub.status.busy": "2021-11-24T09:03:35.796638Z",
     "iopub.status.idle": "2021-11-24T09:03:35.809370Z",
     "shell.execute_reply": "2021-11-24T09:03:35.809951Z",
     "shell.execute_reply.started": "2021-11-24T05:22:38.874615Z"
    },
    "papermill": {
     "duration": 0.078645,
     "end_time": "2021-11-24T09:03:35.810137",
     "exception": false,
     "start_time": "2021-11-24T09:03:35.731492",
     "status": "completed"
    },
    "tags": []
   },
   "outputs": [
    {
     "data": {
      "text/plain": [
       "0                           None\n",
       "1                           None\n",
       "2                           None\n",
       "3                           None\n",
       "4                           None\n",
       "                  ...           \n",
       "1964                        None\n",
       "1965                        None\n",
       "1966                        None\n",
       "1967                        None\n",
       "1968    NBAFinalsEndFather's day\n",
       "Name: events_names, Length: 1969, dtype: object"
      ]
     },
     "execution_count": 4,
     "metadata": {},
     "output_type": "execute_result"
    }
   ],
   "source": [
    "calendar[\"events_names\"] = calendar[[\"event_name_1\", \"event_name_2\"]].fillna('').sum(axis=1).replace('', 'None')\n",
    "calendar.events_names"
   ]
  },
  {
   "cell_type": "code",
   "execution_count": 5,
   "id": "10f56c61",
   "metadata": {
    "execution": {
     "iopub.execute_input": "2021-11-24T09:03:35.914700Z",
     "iopub.status.busy": "2021-11-24T09:03:35.913741Z",
     "iopub.status.idle": "2021-11-24T09:03:35.923876Z",
     "shell.execute_reply": "2021-11-24T09:03:35.924427Z",
     "shell.execute_reply.started": "2021-11-24T05:22:38.901416Z"
    },
    "papermill": {
     "duration": 0.062347,
     "end_time": "2021-11-24T09:03:35.924613",
     "exception": false,
     "start_time": "2021-11-24T09:03:35.862266",
     "status": "completed"
    },
    "tags": []
   },
   "outputs": [],
   "source": [
    "calendar['events_types'] = calendar[['event_type_1', 'event_type_2']].fillna('').sum(axis=1).replace('', 'None')"
   ]
  },
  {
   "cell_type": "code",
   "execution_count": 6,
   "id": "ebc496c3",
   "metadata": {
    "execution": {
     "iopub.execute_input": "2021-11-24T09:03:36.029399Z",
     "iopub.status.busy": "2021-11-24T09:03:36.028650Z",
     "iopub.status.idle": "2021-11-24T09:03:36.045461Z",
     "shell.execute_reply": "2021-11-24T09:03:36.046047Z",
     "shell.execute_reply.started": "2021-11-24T05:22:38.916504Z"
    },
    "papermill": {
     "duration": 0.068985,
     "end_time": "2021-11-24T09:03:36.046250",
     "exception": false,
     "start_time": "2021-11-24T09:03:35.977265",
     "status": "completed"
    },
    "tags": []
   },
   "outputs": [
    {
     "data": {
      "text/plain": [
       "0                      SuperBowl\n",
       "1                      SuperBowl\n",
       "2                      SuperBowl\n",
       "3                      SuperBowl\n",
       "4                      SuperBowl\n",
       "                  ...           \n",
       "1964    NBAFinalsEndFather's day\n",
       "1965    NBAFinalsEndFather's day\n",
       "1966    NBAFinalsEndFather's day\n",
       "1967    NBAFinalsEndFather's day\n",
       "1968    NBAFinalsEndFather's day\n",
       "Name: next_events_names, Length: 1969, dtype: object"
      ]
     },
     "execution_count": 6,
     "metadata": {},
     "output_type": "execute_result"
    }
   ],
   "source": [
    "calendar['next_events_names'] = calendar[['event_name_1', 'event_name_2']].fillna('').sum(axis=1).replace('', np.nan).fillna(method='bfill')\n",
    "calendar['next_events_names'] "
   ]
  },
  {
   "cell_type": "code",
   "execution_count": 7,
   "id": "89bf5e0b",
   "metadata": {
    "execution": {
     "iopub.execute_input": "2021-11-24T09:03:36.151266Z",
     "iopub.status.busy": "2021-11-24T09:03:36.150564Z",
     "iopub.status.idle": "2021-11-24T09:03:36.161630Z",
     "shell.execute_reply": "2021-11-24T09:03:36.162261Z",
     "shell.execute_reply.started": "2021-11-24T05:22:38.942535Z"
    },
    "papermill": {
     "duration": 0.064902,
     "end_time": "2021-11-24T09:03:36.162444",
     "exception": false,
     "start_time": "2021-11-24T09:03:36.097542",
     "status": "completed"
    },
    "tags": []
   },
   "outputs": [
    {
     "data": {
      "text/plain": [
       "0               Sporting\n",
       "1               Sporting\n",
       "2               Sporting\n",
       "3               Sporting\n",
       "4               Sporting\n",
       "              ...       \n",
       "1964    SportingCultural\n",
       "1965    SportingCultural\n",
       "1966    SportingCultural\n",
       "1967    SportingCultural\n",
       "1968    SportingCultural\n",
       "Name: next_events_types, Length: 1969, dtype: object"
      ]
     },
     "execution_count": 7,
     "metadata": {},
     "output_type": "execute_result"
    }
   ],
   "source": [
    "calendar['next_events_types'] =calendar[['event_type_1', 'event_type_2']].fillna('').sum(axis=1).replace('', np.nan).fillna(method='bfill')\n",
    "\n",
    "calendar['next_events_types']"
   ]
  },
  {
   "cell_type": "code",
   "execution_count": 8,
   "id": "5e6ec8fa",
   "metadata": {
    "execution": {
     "iopub.execute_input": "2021-11-24T09:03:36.264759Z",
     "iopub.status.busy": "2021-11-24T09:03:36.264057Z",
     "iopub.status.idle": "2021-11-24T09:03:36.288731Z",
     "shell.execute_reply": "2021-11-24T09:03:36.288093Z",
     "shell.execute_reply.started": "2021-11-24T05:22:38.958892Z"
    },
    "papermill": {
     "duration": 0.077087,
     "end_time": "2021-11-24T09:03:36.288909",
     "exception": false,
     "start_time": "2021-11-24T09:03:36.211822",
     "status": "completed"
    },
    "tags": []
   },
   "outputs": [
    {
     "data": {
      "text/html": [
       "<div>\n",
       "<style scoped>\n",
       "    .dataframe tbody tr th:only-of-type {\n",
       "        vertical-align: middle;\n",
       "    }\n",
       "\n",
       "    .dataframe tbody tr th {\n",
       "        vertical-align: top;\n",
       "    }\n",
       "\n",
       "    .dataframe thead th {\n",
       "        text-align: right;\n",
       "    }\n",
       "</style>\n",
       "<table border=\"1\" class=\"dataframe\">\n",
       "  <thead>\n",
       "    <tr style=\"text-align: right;\">\n",
       "      <th></th>\n",
       "      <th>date</th>\n",
       "      <th>wm_yr_wk</th>\n",
       "      <th>weekday</th>\n",
       "      <th>wday</th>\n",
       "      <th>month</th>\n",
       "      <th>year</th>\n",
       "      <th>d</th>\n",
       "      <th>event_name_1</th>\n",
       "      <th>event_type_1</th>\n",
       "      <th>event_name_2</th>\n",
       "      <th>event_type_2</th>\n",
       "      <th>snap_CA</th>\n",
       "      <th>snap_TX</th>\n",
       "      <th>snap_WI</th>\n",
       "      <th>events_names</th>\n",
       "      <th>events_types</th>\n",
       "      <th>next_events_names</th>\n",
       "      <th>next_events_types</th>\n",
       "    </tr>\n",
       "  </thead>\n",
       "  <tbody>\n",
       "    <tr>\n",
       "      <th>0</th>\n",
       "      <td>2011-01-29</td>\n",
       "      <td>11101</td>\n",
       "      <td>Saturday</td>\n",
       "      <td>1</td>\n",
       "      <td>1</td>\n",
       "      <td>2011</td>\n",
       "      <td>d_1</td>\n",
       "      <td>None</td>\n",
       "      <td>None</td>\n",
       "      <td>None</td>\n",
       "      <td>None</td>\n",
       "      <td>0</td>\n",
       "      <td>0</td>\n",
       "      <td>0</td>\n",
       "      <td>None</td>\n",
       "      <td>None</td>\n",
       "      <td>SuperBowl</td>\n",
       "      <td>Sporting</td>\n",
       "    </tr>\n",
       "    <tr>\n",
       "      <th>1</th>\n",
       "      <td>2011-01-30</td>\n",
       "      <td>11101</td>\n",
       "      <td>Sunday</td>\n",
       "      <td>2</td>\n",
       "      <td>1</td>\n",
       "      <td>2011</td>\n",
       "      <td>d_2</td>\n",
       "      <td>None</td>\n",
       "      <td>None</td>\n",
       "      <td>None</td>\n",
       "      <td>None</td>\n",
       "      <td>0</td>\n",
       "      <td>0</td>\n",
       "      <td>0</td>\n",
       "      <td>None</td>\n",
       "      <td>None</td>\n",
       "      <td>SuperBowl</td>\n",
       "      <td>Sporting</td>\n",
       "    </tr>\n",
       "    <tr>\n",
       "      <th>2</th>\n",
       "      <td>2011-01-31</td>\n",
       "      <td>11101</td>\n",
       "      <td>Monday</td>\n",
       "      <td>3</td>\n",
       "      <td>1</td>\n",
       "      <td>2011</td>\n",
       "      <td>d_3</td>\n",
       "      <td>None</td>\n",
       "      <td>None</td>\n",
       "      <td>None</td>\n",
       "      <td>None</td>\n",
       "      <td>0</td>\n",
       "      <td>0</td>\n",
       "      <td>0</td>\n",
       "      <td>None</td>\n",
       "      <td>None</td>\n",
       "      <td>SuperBowl</td>\n",
       "      <td>Sporting</td>\n",
       "    </tr>\n",
       "    <tr>\n",
       "      <th>3</th>\n",
       "      <td>2011-02-01</td>\n",
       "      <td>11101</td>\n",
       "      <td>Tuesday</td>\n",
       "      <td>4</td>\n",
       "      <td>2</td>\n",
       "      <td>2011</td>\n",
       "      <td>d_4</td>\n",
       "      <td>None</td>\n",
       "      <td>None</td>\n",
       "      <td>None</td>\n",
       "      <td>None</td>\n",
       "      <td>1</td>\n",
       "      <td>1</td>\n",
       "      <td>0</td>\n",
       "      <td>None</td>\n",
       "      <td>None</td>\n",
       "      <td>SuperBowl</td>\n",
       "      <td>Sporting</td>\n",
       "    </tr>\n",
       "    <tr>\n",
       "      <th>4</th>\n",
       "      <td>2011-02-02</td>\n",
       "      <td>11101</td>\n",
       "      <td>Wednesday</td>\n",
       "      <td>5</td>\n",
       "      <td>2</td>\n",
       "      <td>2011</td>\n",
       "      <td>d_5</td>\n",
       "      <td>None</td>\n",
       "      <td>None</td>\n",
       "      <td>None</td>\n",
       "      <td>None</td>\n",
       "      <td>1</td>\n",
       "      <td>0</td>\n",
       "      <td>1</td>\n",
       "      <td>None</td>\n",
       "      <td>None</td>\n",
       "      <td>SuperBowl</td>\n",
       "      <td>Sporting</td>\n",
       "    </tr>\n",
       "  </tbody>\n",
       "</table>\n",
       "</div>"
      ],
      "text/plain": [
       "         date  wm_yr_wk    weekday  wday  month  year    d event_name_1  \\\n",
       "0  2011-01-29     11101   Saturday     1      1  2011  d_1         None   \n",
       "1  2011-01-30     11101     Sunday     2      1  2011  d_2         None   \n",
       "2  2011-01-31     11101     Monday     3      1  2011  d_3         None   \n",
       "3  2011-02-01     11101    Tuesday     4      2  2011  d_4         None   \n",
       "4  2011-02-02     11101  Wednesday     5      2  2011  d_5         None   \n",
       "\n",
       "  event_type_1 event_name_2 event_type_2  snap_CA  snap_TX  snap_WI  \\\n",
       "0         None         None         None        0        0        0   \n",
       "1         None         None         None        0        0        0   \n",
       "2         None         None         None        0        0        0   \n",
       "3         None         None         None        1        1        0   \n",
       "4         None         None         None        1        0        1   \n",
       "\n",
       "  events_names events_types next_events_names next_events_types  \n",
       "0         None         None         SuperBowl          Sporting  \n",
       "1         None         None         SuperBowl          Sporting  \n",
       "2         None         None         SuperBowl          Sporting  \n",
       "3         None         None         SuperBowl          Sporting  \n",
       "4         None         None         SuperBowl          Sporting  "
      ]
     },
     "execution_count": 8,
     "metadata": {},
     "output_type": "execute_result"
    }
   ],
   "source": [
    "calendar['event_name_1'] = pd.Categorical(calendar['event_name_1'].fillna('None'))\n",
    "calendar['event_type_1'] = pd.Categorical(calendar['event_type_1'].fillna('None'))\n",
    "calendar['event_name_2'] = pd.Categorical(calendar['event_name_2'].fillna('None'))\n",
    "calendar['event_type_2'] = pd.Categorical(calendar['event_type_2'].fillna('None'))\n",
    "calendar.head(5)"
   ]
  },
  {
   "cell_type": "code",
   "execution_count": 9,
   "id": "1bac4074",
   "metadata": {
    "execution": {
     "iopub.execute_input": "2021-11-24T09:03:36.396891Z",
     "iopub.status.busy": "2021-11-24T09:03:36.395160Z",
     "iopub.status.idle": "2021-11-24T09:03:36.399608Z",
     "shell.execute_reply": "2021-11-24T09:03:36.399120Z",
     "shell.execute_reply.started": "2021-11-24T05:22:38.990043Z"
    },
    "papermill": {
     "duration": 0.060769,
     "end_time": "2021-11-24T09:03:36.399754",
     "exception": false,
     "start_time": "2021-11-24T09:03:36.338985",
     "status": "completed"
    },
    "tags": []
   },
   "outputs": [],
   "source": [
    "calendar['d'] = pd.Categorical(calendar['d'])"
   ]
  },
  {
   "cell_type": "code",
   "execution_count": 10,
   "id": "c64135f5",
   "metadata": {
    "execution": {
     "iopub.execute_input": "2021-11-24T09:03:36.505621Z",
     "iopub.status.busy": "2021-11-24T09:03:36.505006Z",
     "iopub.status.idle": "2021-11-24T09:03:36.514735Z",
     "shell.execute_reply": "2021-11-24T09:03:36.515246Z",
     "shell.execute_reply.started": "2021-11-24T05:22:38.999367Z"
    },
    "papermill": {
     "duration": 0.063546,
     "end_time": "2021-11-24T09:03:36.515459",
     "exception": false,
     "start_time": "2021-11-24T09:03:36.451913",
     "status": "completed"
    },
    "tags": []
   },
   "outputs": [
    {
     "data": {
      "text/plain": [
       "11101    7\n",
       "11429    7\n",
       "11435    7\n",
       "11434    7\n",
       "11433    7\n",
       "        ..\n",
       "11249    7\n",
       "11250    7\n",
       "11251    7\n",
       "11252    7\n",
       "11621    2\n",
       "Name: wm_yr_wk, Length: 282, dtype: int64"
      ]
     },
     "execution_count": 10,
     "metadata": {},
     "output_type": "execute_result"
    }
   ],
   "source": [
    "calendar.wm_yr_wk.value_counts()"
   ]
  },
  {
   "cell_type": "code",
   "execution_count": 11,
   "id": "5e2f1c63",
   "metadata": {
    "execution": {
     "iopub.execute_input": "2021-11-24T09:03:36.624111Z",
     "iopub.status.busy": "2021-11-24T09:03:36.623171Z",
     "iopub.status.idle": "2021-11-24T09:03:36.626483Z",
     "shell.execute_reply": "2021-11-24T09:03:36.625900Z",
     "shell.execute_reply.started": "2021-11-24T05:22:39.019786Z"
    },
    "papermill": {
     "duration": 0.059824,
     "end_time": "2021-11-24T09:03:36.626655",
     "exception": false,
     "start_time": "2021-11-24T09:03:36.566831",
     "status": "completed"
    },
    "tags": []
   },
   "outputs": [],
   "source": [
    "calendar['wm_yr_wk'] = pd.Categorical(calendar['wm_yr_wk'],categories=calendar.wm_yr_wk.unique(), ordered=True)"
   ]
  },
  {
   "cell_type": "code",
   "execution_count": 12,
   "id": "f2351a92",
   "metadata": {
    "execution": {
     "iopub.execute_input": "2021-11-24T09:03:36.736908Z",
     "iopub.status.busy": "2021-11-24T09:03:36.731685Z",
     "iopub.status.idle": "2021-11-24T09:03:36.741587Z",
     "shell.execute_reply": "2021-11-24T09:03:36.740890Z",
     "shell.execute_reply.started": "2021-11-24T05:22:39.031034Z"
    },
    "papermill": {
     "duration": 0.064128,
     "end_time": "2021-11-24T09:03:36.741748",
     "exception": false,
     "start_time": "2021-11-24T09:03:36.677620",
     "status": "completed"
    },
    "tags": []
   },
   "outputs": [],
   "source": [
    "calendar['date'] = pd.to_datetime(calendar['date'], format='%Y-%m-%d')\n",
    "calendar['wday'] = calendar['wday'].astype(np.int8)"
   ]
  },
  {
   "cell_type": "code",
   "execution_count": 13,
   "id": "70a1215b",
   "metadata": {
    "execution": {
     "iopub.execute_input": "2021-11-24T09:03:36.854576Z",
     "iopub.status.busy": "2021-11-24T09:03:36.853961Z",
     "iopub.status.idle": "2021-11-24T09:03:36.858184Z",
     "shell.execute_reply": "2021-11-24T09:03:36.858645Z",
     "shell.execute_reply.started": "2021-11-24T05:22:39.052048Z"
    },
    "papermill": {
     "duration": 0.064539,
     "end_time": "2021-11-24T09:03:36.858859",
     "exception": false,
     "start_time": "2021-11-24T09:03:36.794320",
     "status": "completed"
    },
    "tags": []
   },
   "outputs": [],
   "source": [
    "calendar['snap_CA'] = calendar['snap_CA'].astype(bool)\n",
    "calendar['snap_TX'] = calendar['snap_TX'].astype(bool)\n",
    "calendar['snap_WI'] = calendar['snap_WI'].astype(bool)"
   ]
  },
  {
   "cell_type": "code",
   "execution_count": 14,
   "id": "1a8aa792",
   "metadata": {
    "execution": {
     "iopub.execute_input": "2021-11-24T09:03:36.968990Z",
     "iopub.status.busy": "2021-11-24T09:03:36.968304Z",
     "iopub.status.idle": "2021-11-24T09:03:36.975313Z",
     "shell.execute_reply": "2021-11-24T09:03:36.976027Z",
     "shell.execute_reply.started": "2021-11-24T05:22:39.068543Z"
    },
    "papermill": {
     "duration": 0.065041,
     "end_time": "2021-11-24T09:03:36.976256",
     "exception": false,
     "start_time": "2021-11-24T09:03:36.911215",
     "status": "completed"
    },
    "tags": []
   },
   "outputs": [],
   "source": [
    "calendar.drop(['year', 'weekday', 'month', 'wday'], axis=1, inplace=True)"
   ]
  },
  {
   "cell_type": "code",
   "execution_count": 15,
   "id": "f918bfe7",
   "metadata": {
    "execution": {
     "iopub.execute_input": "2021-11-24T09:03:37.111041Z",
     "iopub.status.busy": "2021-11-24T09:03:37.110427Z",
     "iopub.status.idle": "2021-11-24T09:03:37.131102Z",
     "shell.execute_reply": "2021-11-24T09:03:37.131562Z",
     "shell.execute_reply.started": "2021-11-24T05:22:39.082609Z"
    },
    "papermill": {
     "duration": 0.083522,
     "end_time": "2021-11-24T09:03:37.131736",
     "exception": false,
     "start_time": "2021-11-24T09:03:37.048214",
     "status": "completed"
    },
    "tags": []
   },
   "outputs": [
    {
     "data": {
      "text/html": [
       "<div>\n",
       "<style scoped>\n",
       "    .dataframe tbody tr th:only-of-type {\n",
       "        vertical-align: middle;\n",
       "    }\n",
       "\n",
       "    .dataframe tbody tr th {\n",
       "        vertical-align: top;\n",
       "    }\n",
       "\n",
       "    .dataframe thead th {\n",
       "        text-align: right;\n",
       "    }\n",
       "</style>\n",
       "<table border=\"1\" class=\"dataframe\">\n",
       "  <thead>\n",
       "    <tr style=\"text-align: right;\">\n",
       "      <th></th>\n",
       "      <th>date</th>\n",
       "      <th>wm_yr_wk</th>\n",
       "      <th>d</th>\n",
       "      <th>event_name_1</th>\n",
       "      <th>event_type_1</th>\n",
       "      <th>event_name_2</th>\n",
       "      <th>event_type_2</th>\n",
       "      <th>snap_CA</th>\n",
       "      <th>snap_TX</th>\n",
       "      <th>snap_WI</th>\n",
       "      <th>events_names</th>\n",
       "      <th>events_types</th>\n",
       "      <th>next_events_names</th>\n",
       "      <th>next_events_types</th>\n",
       "    </tr>\n",
       "  </thead>\n",
       "  <tbody>\n",
       "    <tr>\n",
       "      <th>0</th>\n",
       "      <td>2011-01-29</td>\n",
       "      <td>11101</td>\n",
       "      <td>d_1</td>\n",
       "      <td>None</td>\n",
       "      <td>None</td>\n",
       "      <td>None</td>\n",
       "      <td>None</td>\n",
       "      <td>False</td>\n",
       "      <td>False</td>\n",
       "      <td>False</td>\n",
       "      <td>None</td>\n",
       "      <td>None</td>\n",
       "      <td>SuperBowl</td>\n",
       "      <td>Sporting</td>\n",
       "    </tr>\n",
       "    <tr>\n",
       "      <th>1</th>\n",
       "      <td>2011-01-30</td>\n",
       "      <td>11101</td>\n",
       "      <td>d_2</td>\n",
       "      <td>None</td>\n",
       "      <td>None</td>\n",
       "      <td>None</td>\n",
       "      <td>None</td>\n",
       "      <td>False</td>\n",
       "      <td>False</td>\n",
       "      <td>False</td>\n",
       "      <td>None</td>\n",
       "      <td>None</td>\n",
       "      <td>SuperBowl</td>\n",
       "      <td>Sporting</td>\n",
       "    </tr>\n",
       "    <tr>\n",
       "      <th>2</th>\n",
       "      <td>2011-01-31</td>\n",
       "      <td>11101</td>\n",
       "      <td>d_3</td>\n",
       "      <td>None</td>\n",
       "      <td>None</td>\n",
       "      <td>None</td>\n",
       "      <td>None</td>\n",
       "      <td>False</td>\n",
       "      <td>False</td>\n",
       "      <td>False</td>\n",
       "      <td>None</td>\n",
       "      <td>None</td>\n",
       "      <td>SuperBowl</td>\n",
       "      <td>Sporting</td>\n",
       "    </tr>\n",
       "    <tr>\n",
       "      <th>3</th>\n",
       "      <td>2011-02-01</td>\n",
       "      <td>11101</td>\n",
       "      <td>d_4</td>\n",
       "      <td>None</td>\n",
       "      <td>None</td>\n",
       "      <td>None</td>\n",
       "      <td>None</td>\n",
       "      <td>True</td>\n",
       "      <td>True</td>\n",
       "      <td>False</td>\n",
       "      <td>None</td>\n",
       "      <td>None</td>\n",
       "      <td>SuperBowl</td>\n",
       "      <td>Sporting</td>\n",
       "    </tr>\n",
       "    <tr>\n",
       "      <th>4</th>\n",
       "      <td>2011-02-02</td>\n",
       "      <td>11101</td>\n",
       "      <td>d_5</td>\n",
       "      <td>None</td>\n",
       "      <td>None</td>\n",
       "      <td>None</td>\n",
       "      <td>None</td>\n",
       "      <td>True</td>\n",
       "      <td>False</td>\n",
       "      <td>True</td>\n",
       "      <td>None</td>\n",
       "      <td>None</td>\n",
       "      <td>SuperBowl</td>\n",
       "      <td>Sporting</td>\n",
       "    </tr>\n",
       "    <tr>\n",
       "      <th>5</th>\n",
       "      <td>2011-02-03</td>\n",
       "      <td>11101</td>\n",
       "      <td>d_6</td>\n",
       "      <td>None</td>\n",
       "      <td>None</td>\n",
       "      <td>None</td>\n",
       "      <td>None</td>\n",
       "      <td>True</td>\n",
       "      <td>True</td>\n",
       "      <td>True</td>\n",
       "      <td>None</td>\n",
       "      <td>None</td>\n",
       "      <td>SuperBowl</td>\n",
       "      <td>Sporting</td>\n",
       "    </tr>\n",
       "    <tr>\n",
       "      <th>6</th>\n",
       "      <td>2011-02-04</td>\n",
       "      <td>11101</td>\n",
       "      <td>d_7</td>\n",
       "      <td>None</td>\n",
       "      <td>None</td>\n",
       "      <td>None</td>\n",
       "      <td>None</td>\n",
       "      <td>True</td>\n",
       "      <td>False</td>\n",
       "      <td>False</td>\n",
       "      <td>None</td>\n",
       "      <td>None</td>\n",
       "      <td>SuperBowl</td>\n",
       "      <td>Sporting</td>\n",
       "    </tr>\n",
       "    <tr>\n",
       "      <th>7</th>\n",
       "      <td>2011-02-05</td>\n",
       "      <td>11102</td>\n",
       "      <td>d_8</td>\n",
       "      <td>None</td>\n",
       "      <td>None</td>\n",
       "      <td>None</td>\n",
       "      <td>None</td>\n",
       "      <td>True</td>\n",
       "      <td>True</td>\n",
       "      <td>True</td>\n",
       "      <td>None</td>\n",
       "      <td>None</td>\n",
       "      <td>SuperBowl</td>\n",
       "      <td>Sporting</td>\n",
       "    </tr>\n",
       "    <tr>\n",
       "      <th>8</th>\n",
       "      <td>2011-02-06</td>\n",
       "      <td>11102</td>\n",
       "      <td>d_9</td>\n",
       "      <td>SuperBowl</td>\n",
       "      <td>Sporting</td>\n",
       "      <td>None</td>\n",
       "      <td>None</td>\n",
       "      <td>True</td>\n",
       "      <td>True</td>\n",
       "      <td>True</td>\n",
       "      <td>SuperBowl</td>\n",
       "      <td>Sporting</td>\n",
       "      <td>SuperBowl</td>\n",
       "      <td>Sporting</td>\n",
       "    </tr>\n",
       "    <tr>\n",
       "      <th>9</th>\n",
       "      <td>2011-02-07</td>\n",
       "      <td>11102</td>\n",
       "      <td>d_10</td>\n",
       "      <td>None</td>\n",
       "      <td>None</td>\n",
       "      <td>None</td>\n",
       "      <td>None</td>\n",
       "      <td>True</td>\n",
       "      <td>True</td>\n",
       "      <td>False</td>\n",
       "      <td>None</td>\n",
       "      <td>None</td>\n",
       "      <td>ValentinesDay</td>\n",
       "      <td>Cultural</td>\n",
       "    </tr>\n",
       "  </tbody>\n",
       "</table>\n",
       "</div>"
      ],
      "text/plain": [
       "        date wm_yr_wk     d event_name_1 event_type_1 event_name_2  \\\n",
       "0 2011-01-29    11101   d_1         None         None         None   \n",
       "1 2011-01-30    11101   d_2         None         None         None   \n",
       "2 2011-01-31    11101   d_3         None         None         None   \n",
       "3 2011-02-01    11101   d_4         None         None         None   \n",
       "4 2011-02-02    11101   d_5         None         None         None   \n",
       "5 2011-02-03    11101   d_6         None         None         None   \n",
       "6 2011-02-04    11101   d_7         None         None         None   \n",
       "7 2011-02-05    11102   d_8         None         None         None   \n",
       "8 2011-02-06    11102   d_9    SuperBowl     Sporting         None   \n",
       "9 2011-02-07    11102  d_10         None         None         None   \n",
       "\n",
       "  event_type_2  snap_CA  snap_TX  snap_WI events_names events_types  \\\n",
       "0         None    False    False    False         None         None   \n",
       "1         None    False    False    False         None         None   \n",
       "2         None    False    False    False         None         None   \n",
       "3         None     True     True    False         None         None   \n",
       "4         None     True    False     True         None         None   \n",
       "5         None     True     True     True         None         None   \n",
       "6         None     True    False    False         None         None   \n",
       "7         None     True     True     True         None         None   \n",
       "8         None     True     True     True    SuperBowl     Sporting   \n",
       "9         None     True     True    False         None         None   \n",
       "\n",
       "  next_events_names next_events_types  \n",
       "0         SuperBowl          Sporting  \n",
       "1         SuperBowl          Sporting  \n",
       "2         SuperBowl          Sporting  \n",
       "3         SuperBowl          Sporting  \n",
       "4         SuperBowl          Sporting  \n",
       "5         SuperBowl          Sporting  \n",
       "6         SuperBowl          Sporting  \n",
       "7         SuperBowl          Sporting  \n",
       "8         SuperBowl          Sporting  \n",
       "9     ValentinesDay          Cultural  "
      ]
     },
     "execution_count": 15,
     "metadata": {},
     "output_type": "execute_result"
    }
   ],
   "source": [
    "calendar.head(10)"
   ]
  },
  {
   "cell_type": "code",
   "execution_count": 16,
   "id": "59ff4e3e",
   "metadata": {
    "execution": {
     "iopub.execute_input": "2021-11-24T09:03:37.239176Z",
     "iopub.status.busy": "2021-11-24T09:03:37.238530Z",
     "iopub.status.idle": "2021-11-24T09:03:37.245507Z",
     "shell.execute_reply": "2021-11-24T09:03:37.246057Z",
     "shell.execute_reply.started": "2021-11-24T05:22:39.111129Z"
    },
    "papermill": {
     "duration": 0.062093,
     "end_time": "2021-11-24T09:03:37.246300",
     "exception": false,
     "start_time": "2021-11-24T09:03:37.184207",
     "status": "completed"
    },
    "tags": []
   },
   "outputs": [],
   "source": [
    "calendar['day_of_month'] =calendar['date'].dt.day.astype(np.int8)\n",
    "calendar['day_of_week'] = calendar['date'].dt.dayofweek.astype(np.int8)"
   ]
  },
  {
   "cell_type": "code",
   "execution_count": 17,
   "id": "230c639b",
   "metadata": {
    "execution": {
     "iopub.execute_input": "2021-11-24T09:03:37.355870Z",
     "iopub.status.busy": "2021-11-24T09:03:37.354914Z",
     "iopub.status.idle": "2021-11-24T09:03:37.361641Z",
     "shell.execute_reply": "2021-11-24T09:03:37.362090Z",
     "shell.execute_reply.started": "2021-11-24T05:22:39.121025Z"
    },
    "papermill": {
     "duration": 0.065196,
     "end_time": "2021-11-24T09:03:37.362318",
     "exception": false,
     "start_time": "2021-11-24T09:03:37.297122",
     "status": "completed"
    },
    "tags": []
   },
   "outputs": [],
   "source": [
    "events_all_datas = calendar[(calendar[\"event_name_1\"] != 'None') | (calendar[\"event_name_2\"] != 'None')]"
   ]
  },
  {
   "cell_type": "code",
   "execution_count": 18,
   "id": "a5971d67",
   "metadata": {
    "execution": {
     "iopub.execute_input": "2021-11-24T09:03:37.475344Z",
     "iopub.status.busy": "2021-11-24T09:03:37.473100Z",
     "iopub.status.idle": "2021-11-24T09:03:37.652592Z",
     "shell.execute_reply": "2021-11-24T09:03:37.651993Z",
     "shell.execute_reply.started": "2021-11-24T05:22:39.138670Z"
    },
    "papermill": {
     "duration": 0.238854,
     "end_time": "2021-11-24T09:03:37.652771",
     "exception": false,
     "start_time": "2021-11-24T09:03:37.413917",
     "status": "completed"
    },
    "tags": []
   },
   "outputs": [],
   "source": [
    "prev = 0\n",
    "for event in events_all_datas.iterrows():\n",
    "    calendar.loc[prev:event[0], 'days_to_event'] = (calendar.loc[event[0], 'date'] - calendar.loc[prev:event[0], 'date']).dt.days\n",
    "    prev = event[0]"
   ]
  },
  {
   "cell_type": "code",
   "execution_count": 19,
   "id": "eacc86ec",
   "metadata": {
    "execution": {
     "iopub.execute_input": "2021-11-24T09:03:37.764803Z",
     "iopub.status.busy": "2021-11-24T09:03:37.764019Z",
     "iopub.status.idle": "2021-11-24T09:03:37.766774Z",
     "shell.execute_reply": "2021-11-24T09:03:37.767217Z",
     "shell.execute_reply.started": "2021-11-24T05:22:39.345669Z"
    },
    "papermill": {
     "duration": 0.061512,
     "end_time": "2021-11-24T09:03:37.767429",
     "exception": false,
     "start_time": "2021-11-24T09:03:37.705917",
     "status": "completed"
    },
    "tags": []
   },
   "outputs": [],
   "source": [
    "calendar['days_to_event'] = calendar['days_to_event'].replace(0, 25).astype(np.int8)"
   ]
  },
  {
   "cell_type": "code",
   "execution_count": 20,
   "id": "8e8e48ff",
   "metadata": {
    "execution": {
     "iopub.execute_input": "2021-11-24T09:03:37.878988Z",
     "iopub.status.busy": "2021-11-24T09:03:37.878159Z",
     "iopub.status.idle": "2021-11-24T09:03:37.889906Z",
     "shell.execute_reply": "2021-11-24T09:03:37.890371Z",
     "shell.execute_reply.started": "2021-11-24T05:22:39.352994Z"
    },
    "papermill": {
     "duration": 0.071657,
     "end_time": "2021-11-24T09:03:37.890579",
     "exception": false,
     "start_time": "2021-11-24T09:03:37.818922",
     "status": "completed"
    },
    "tags": []
   },
   "outputs": [],
   "source": [
    "events_names_dict = calendar['events_names'].value_counts().rank(method='first').to_dict()\n",
    "events_types_dict = calendar['events_types'].value_counts().rank(method='first').to_dict()\n",
    "calendar['events_names'] = calendar['events_names'].map(events_names_dict).astype(np.int8)\n",
    "calendar['events_types'] = calendar['events_types'].map(events_types_dict).astype(np.int8)\n",
    "calendar['next_events_names'] = calendar['next_events_names'].map(events_names_dict).astype(np.int8)\n",
    "calendar['next_events_types'] = calendar['next_events_types'].map(events_types_dict).astype(np.int8)\n"
   ]
  },
  {
   "cell_type": "code",
   "execution_count": 21,
   "id": "9e7eda9c",
   "metadata": {
    "execution": {
     "iopub.execute_input": "2021-11-24T09:03:38.000678Z",
     "iopub.status.busy": "2021-11-24T09:03:37.999753Z",
     "iopub.status.idle": "2021-11-24T09:03:38.005344Z",
     "shell.execute_reply": "2021-11-24T09:03:38.005755Z",
     "shell.execute_reply.started": "2021-11-24T05:22:39.379887Z"
    },
    "papermill": {
     "duration": 0.063365,
     "end_time": "2021-11-24T09:03:38.005980",
     "exception": false,
     "start_time": "2021-11-24T09:03:37.942615",
     "status": "completed"
    },
    "tags": []
   },
   "outputs": [],
   "source": [
    "calendar.drop(['event_name_1', 'event_name_2', 'event_type_1', 'event_type_2'], axis=1, inplace=True)"
   ]
  },
  {
   "cell_type": "code",
   "execution_count": 22,
   "id": "ea37b290",
   "metadata": {
    "execution": {
     "iopub.execute_input": "2021-11-24T09:03:38.115672Z",
     "iopub.status.busy": "2021-11-24T09:03:38.114751Z",
     "iopub.status.idle": "2021-11-24T09:03:38.133892Z",
     "shell.execute_reply": "2021-11-24T09:03:38.134358Z",
     "shell.execute_reply.started": "2021-11-24T05:22:39.387853Z"
    },
    "papermill": {
     "duration": 0.076784,
     "end_time": "2021-11-24T09:03:38.134544",
     "exception": false,
     "start_time": "2021-11-24T09:03:38.057760",
     "status": "completed"
    },
    "tags": []
   },
   "outputs": [
    {
     "data": {
      "text/html": [
       "<div>\n",
       "<style scoped>\n",
       "    .dataframe tbody tr th:only-of-type {\n",
       "        vertical-align: middle;\n",
       "    }\n",
       "\n",
       "    .dataframe tbody tr th {\n",
       "        vertical-align: top;\n",
       "    }\n",
       "\n",
       "    .dataframe thead th {\n",
       "        text-align: right;\n",
       "    }\n",
       "</style>\n",
       "<table border=\"1\" class=\"dataframe\">\n",
       "  <thead>\n",
       "    <tr style=\"text-align: right;\">\n",
       "      <th></th>\n",
       "      <th>date</th>\n",
       "      <th>wm_yr_wk</th>\n",
       "      <th>d</th>\n",
       "      <th>snap_CA</th>\n",
       "      <th>snap_TX</th>\n",
       "      <th>snap_WI</th>\n",
       "      <th>events_names</th>\n",
       "      <th>events_types</th>\n",
       "      <th>next_events_names</th>\n",
       "      <th>next_events_types</th>\n",
       "      <th>day_of_month</th>\n",
       "      <th>day_of_week</th>\n",
       "      <th>days_to_event</th>\n",
       "    </tr>\n",
       "  </thead>\n",
       "  <tbody>\n",
       "    <tr>\n",
       "      <th>0</th>\n",
       "      <td>2011-01-29</td>\n",
       "      <td>11101</td>\n",
       "      <td>d_1</td>\n",
       "      <td>False</td>\n",
       "      <td>False</td>\n",
       "      <td>False</td>\n",
       "      <td>35</td>\n",
       "      <td>8</td>\n",
       "      <td>24</td>\n",
       "      <td>4</td>\n",
       "      <td>29</td>\n",
       "      <td>5</td>\n",
       "      <td>8</td>\n",
       "    </tr>\n",
       "    <tr>\n",
       "      <th>1</th>\n",
       "      <td>2011-01-30</td>\n",
       "      <td>11101</td>\n",
       "      <td>d_2</td>\n",
       "      <td>False</td>\n",
       "      <td>False</td>\n",
       "      <td>False</td>\n",
       "      <td>35</td>\n",
       "      <td>8</td>\n",
       "      <td>24</td>\n",
       "      <td>4</td>\n",
       "      <td>30</td>\n",
       "      <td>6</td>\n",
       "      <td>7</td>\n",
       "    </tr>\n",
       "    <tr>\n",
       "      <th>2</th>\n",
       "      <td>2011-01-31</td>\n",
       "      <td>11101</td>\n",
       "      <td>d_3</td>\n",
       "      <td>False</td>\n",
       "      <td>False</td>\n",
       "      <td>False</td>\n",
       "      <td>35</td>\n",
       "      <td>8</td>\n",
       "      <td>24</td>\n",
       "      <td>4</td>\n",
       "      <td>31</td>\n",
       "      <td>0</td>\n",
       "      <td>6</td>\n",
       "    </tr>\n",
       "    <tr>\n",
       "      <th>3</th>\n",
       "      <td>2011-02-01</td>\n",
       "      <td>11101</td>\n",
       "      <td>d_4</td>\n",
       "      <td>True</td>\n",
       "      <td>True</td>\n",
       "      <td>False</td>\n",
       "      <td>35</td>\n",
       "      <td>8</td>\n",
       "      <td>24</td>\n",
       "      <td>4</td>\n",
       "      <td>1</td>\n",
       "      <td>1</td>\n",
       "      <td>5</td>\n",
       "    </tr>\n",
       "    <tr>\n",
       "      <th>4</th>\n",
       "      <td>2011-02-02</td>\n",
       "      <td>11101</td>\n",
       "      <td>d_5</td>\n",
       "      <td>True</td>\n",
       "      <td>False</td>\n",
       "      <td>True</td>\n",
       "      <td>35</td>\n",
       "      <td>8</td>\n",
       "      <td>24</td>\n",
       "      <td>4</td>\n",
       "      <td>2</td>\n",
       "      <td>2</td>\n",
       "      <td>4</td>\n",
       "    </tr>\n",
       "    <tr>\n",
       "      <th>...</th>\n",
       "      <td>...</td>\n",
       "      <td>...</td>\n",
       "      <td>...</td>\n",
       "      <td>...</td>\n",
       "      <td>...</td>\n",
       "      <td>...</td>\n",
       "      <td>...</td>\n",
       "      <td>...</td>\n",
       "      <td>...</td>\n",
       "      <td>...</td>\n",
       "      <td>...</td>\n",
       "      <td>...</td>\n",
       "      <td>...</td>\n",
       "    </tr>\n",
       "    <tr>\n",
       "      <th>1964</th>\n",
       "      <td>2016-06-15</td>\n",
       "      <td>11620</td>\n",
       "      <td>d_1965</td>\n",
       "      <td>False</td>\n",
       "      <td>True</td>\n",
       "      <td>True</td>\n",
       "      <td>35</td>\n",
       "      <td>8</td>\n",
       "      <td>4</td>\n",
       "      <td>3</td>\n",
       "      <td>15</td>\n",
       "      <td>2</td>\n",
       "      <td>4</td>\n",
       "    </tr>\n",
       "    <tr>\n",
       "      <th>1965</th>\n",
       "      <td>2016-06-16</td>\n",
       "      <td>11620</td>\n",
       "      <td>d_1966</td>\n",
       "      <td>False</td>\n",
       "      <td>False</td>\n",
       "      <td>False</td>\n",
       "      <td>35</td>\n",
       "      <td>8</td>\n",
       "      <td>4</td>\n",
       "      <td>3</td>\n",
       "      <td>16</td>\n",
       "      <td>3</td>\n",
       "      <td>3</td>\n",
       "    </tr>\n",
       "    <tr>\n",
       "      <th>1966</th>\n",
       "      <td>2016-06-17</td>\n",
       "      <td>11620</td>\n",
       "      <td>d_1967</td>\n",
       "      <td>False</td>\n",
       "      <td>False</td>\n",
       "      <td>False</td>\n",
       "      <td>35</td>\n",
       "      <td>8</td>\n",
       "      <td>4</td>\n",
       "      <td>3</td>\n",
       "      <td>17</td>\n",
       "      <td>4</td>\n",
       "      <td>2</td>\n",
       "    </tr>\n",
       "    <tr>\n",
       "      <th>1967</th>\n",
       "      <td>2016-06-18</td>\n",
       "      <td>11621</td>\n",
       "      <td>d_1968</td>\n",
       "      <td>False</td>\n",
       "      <td>False</td>\n",
       "      <td>False</td>\n",
       "      <td>35</td>\n",
       "      <td>8</td>\n",
       "      <td>4</td>\n",
       "      <td>3</td>\n",
       "      <td>18</td>\n",
       "      <td>5</td>\n",
       "      <td>1</td>\n",
       "    </tr>\n",
       "    <tr>\n",
       "      <th>1968</th>\n",
       "      <td>2016-06-19</td>\n",
       "      <td>11621</td>\n",
       "      <td>d_1969</td>\n",
       "      <td>False</td>\n",
       "      <td>False</td>\n",
       "      <td>False</td>\n",
       "      <td>4</td>\n",
       "      <td>3</td>\n",
       "      <td>4</td>\n",
       "      <td>3</td>\n",
       "      <td>19</td>\n",
       "      <td>6</td>\n",
       "      <td>25</td>\n",
       "    </tr>\n",
       "  </tbody>\n",
       "</table>\n",
       "<p>1969 rows × 13 columns</p>\n",
       "</div>"
      ],
      "text/plain": [
       "           date wm_yr_wk       d  snap_CA  snap_TX  snap_WI  events_names  \\\n",
       "0    2011-01-29    11101     d_1    False    False    False            35   \n",
       "1    2011-01-30    11101     d_2    False    False    False            35   \n",
       "2    2011-01-31    11101     d_3    False    False    False            35   \n",
       "3    2011-02-01    11101     d_4     True     True    False            35   \n",
       "4    2011-02-02    11101     d_5     True    False     True            35   \n",
       "...         ...      ...     ...      ...      ...      ...           ...   \n",
       "1964 2016-06-15    11620  d_1965    False     True     True            35   \n",
       "1965 2016-06-16    11620  d_1966    False    False    False            35   \n",
       "1966 2016-06-17    11620  d_1967    False    False    False            35   \n",
       "1967 2016-06-18    11621  d_1968    False    False    False            35   \n",
       "1968 2016-06-19    11621  d_1969    False    False    False             4   \n",
       "\n",
       "      events_types  next_events_names  next_events_types  day_of_month  \\\n",
       "0                8                 24                  4            29   \n",
       "1                8                 24                  4            30   \n",
       "2                8                 24                  4            31   \n",
       "3                8                 24                  4             1   \n",
       "4                8                 24                  4             2   \n",
       "...            ...                ...                ...           ...   \n",
       "1964             8                  4                  3            15   \n",
       "1965             8                  4                  3            16   \n",
       "1966             8                  4                  3            17   \n",
       "1967             8                  4                  3            18   \n",
       "1968             3                  4                  3            19   \n",
       "\n",
       "      day_of_week  days_to_event  \n",
       "0               5              8  \n",
       "1               6              7  \n",
       "2               0              6  \n",
       "3               1              5  \n",
       "4               2              4  \n",
       "...           ...            ...  \n",
       "1964            2              4  \n",
       "1965            3              3  \n",
       "1966            4              2  \n",
       "1967            5              1  \n",
       "1968            6             25  \n",
       "\n",
       "[1969 rows x 13 columns]"
      ]
     },
     "execution_count": 22,
     "metadata": {},
     "output_type": "execute_result"
    }
   ],
   "source": [
    "calendar"
   ]
  },
  {
   "cell_type": "markdown",
   "id": "cbc343bd",
   "metadata": {
    "papermill": {
     "duration": 0.056239,
     "end_time": "2021-11-24T09:03:38.245800",
     "exception": false,
     "start_time": "2021-11-24T09:03:38.189561",
     "status": "completed"
    },
    "tags": []
   },
   "source": [
    "## sell_prices"
   ]
  },
  {
   "cell_type": "code",
   "execution_count": 23,
   "id": "07567935",
   "metadata": {
    "execution": {
     "iopub.execute_input": "2021-11-24T09:03:38.354918Z",
     "iopub.status.busy": "2021-11-24T09:03:38.353970Z",
     "iopub.status.idle": "2021-11-24T09:03:42.825126Z",
     "shell.execute_reply": "2021-11-24T09:03:42.825620Z",
     "shell.execute_reply.started": "2021-11-24T05:22:39.417827Z"
    },
    "papermill": {
     "duration": 4.527582,
     "end_time": "2021-11-24T09:03:42.825830",
     "exception": false,
     "start_time": "2021-11-24T09:03:38.298248",
     "status": "completed"
    },
    "tags": []
   },
   "outputs": [
    {
     "data": {
      "text/html": [
       "<div>\n",
       "<style scoped>\n",
       "    .dataframe tbody tr th:only-of-type {\n",
       "        vertical-align: middle;\n",
       "    }\n",
       "\n",
       "    .dataframe tbody tr th {\n",
       "        vertical-align: top;\n",
       "    }\n",
       "\n",
       "    .dataframe thead th {\n",
       "        text-align: right;\n",
       "    }\n",
       "</style>\n",
       "<table border=\"1\" class=\"dataframe\">\n",
       "  <thead>\n",
       "    <tr style=\"text-align: right;\">\n",
       "      <th></th>\n",
       "      <th>store_id</th>\n",
       "      <th>item_id</th>\n",
       "      <th>wm_yr_wk</th>\n",
       "      <th>sell_price</th>\n",
       "    </tr>\n",
       "  </thead>\n",
       "  <tbody>\n",
       "    <tr>\n",
       "      <th>0</th>\n",
       "      <td>CA_1</td>\n",
       "      <td>HOBBIES_1_001</td>\n",
       "      <td>11325</td>\n",
       "      <td>9.58</td>\n",
       "    </tr>\n",
       "    <tr>\n",
       "      <th>1</th>\n",
       "      <td>CA_1</td>\n",
       "      <td>HOBBIES_1_001</td>\n",
       "      <td>11326</td>\n",
       "      <td>9.58</td>\n",
       "    </tr>\n",
       "    <tr>\n",
       "      <th>2</th>\n",
       "      <td>CA_1</td>\n",
       "      <td>HOBBIES_1_001</td>\n",
       "      <td>11327</td>\n",
       "      <td>8.26</td>\n",
       "    </tr>\n",
       "    <tr>\n",
       "      <th>3</th>\n",
       "      <td>CA_1</td>\n",
       "      <td>HOBBIES_1_001</td>\n",
       "      <td>11328</td>\n",
       "      <td>8.26</td>\n",
       "    </tr>\n",
       "    <tr>\n",
       "      <th>4</th>\n",
       "      <td>CA_1</td>\n",
       "      <td>HOBBIES_1_001</td>\n",
       "      <td>11329</td>\n",
       "      <td>8.26</td>\n",
       "    </tr>\n",
       "    <tr>\n",
       "      <th>5</th>\n",
       "      <td>CA_1</td>\n",
       "      <td>HOBBIES_1_001</td>\n",
       "      <td>11330</td>\n",
       "      <td>8.26</td>\n",
       "    </tr>\n",
       "    <tr>\n",
       "      <th>6</th>\n",
       "      <td>CA_1</td>\n",
       "      <td>HOBBIES_1_001</td>\n",
       "      <td>11331</td>\n",
       "      <td>8.26</td>\n",
       "    </tr>\n",
       "    <tr>\n",
       "      <th>7</th>\n",
       "      <td>CA_1</td>\n",
       "      <td>HOBBIES_1_001</td>\n",
       "      <td>11332</td>\n",
       "      <td>8.26</td>\n",
       "    </tr>\n",
       "    <tr>\n",
       "      <th>8</th>\n",
       "      <td>CA_1</td>\n",
       "      <td>HOBBIES_1_001</td>\n",
       "      <td>11333</td>\n",
       "      <td>8.26</td>\n",
       "    </tr>\n",
       "    <tr>\n",
       "      <th>9</th>\n",
       "      <td>CA_1</td>\n",
       "      <td>HOBBIES_1_001</td>\n",
       "      <td>11334</td>\n",
       "      <td>8.26</td>\n",
       "    </tr>\n",
       "  </tbody>\n",
       "</table>\n",
       "</div>"
      ],
      "text/plain": [
       "  store_id        item_id  wm_yr_wk  sell_price\n",
       "0     CA_1  HOBBIES_1_001     11325        9.58\n",
       "1     CA_1  HOBBIES_1_001     11326        9.58\n",
       "2     CA_1  HOBBIES_1_001     11327        8.26\n",
       "3     CA_1  HOBBIES_1_001     11328        8.26\n",
       "4     CA_1  HOBBIES_1_001     11329        8.26\n",
       "5     CA_1  HOBBIES_1_001     11330        8.26\n",
       "6     CA_1  HOBBIES_1_001     11331        8.26\n",
       "7     CA_1  HOBBIES_1_001     11332        8.26\n",
       "8     CA_1  HOBBIES_1_001     11333        8.26\n",
       "9     CA_1  HOBBIES_1_001     11334        8.26"
      ]
     },
     "execution_count": 23,
     "metadata": {},
     "output_type": "execute_result"
    }
   ],
   "source": [
    "sell_prices = pd.read_csv(\"../input/m5-forecasting-accuracy/sell_prices.csv\")\n",
    "sell_prices.head(10)"
   ]
  },
  {
   "cell_type": "code",
   "execution_count": 24,
   "id": "a5ed5d2a",
   "metadata": {
    "execution": {
     "iopub.execute_input": "2021-11-24T09:03:42.942763Z",
     "iopub.status.busy": "2021-11-24T09:03:42.941098Z",
     "iopub.status.idle": "2021-11-24T09:03:42.943491Z",
     "shell.execute_reply": "2021-11-24T09:03:42.943958Z",
     "shell.execute_reply.started": "2021-11-24T05:22:44.500232Z"
    },
    "papermill": {
     "duration": 0.062867,
     "end_time": "2021-11-24T09:03:42.944144",
     "exception": false,
     "start_time": "2021-11-24T09:03:42.881277",
     "status": "completed"
    },
    "tags": []
   },
   "outputs": [],
   "source": [
    "# def features_function(sell_prices: pd.core.frame.DataFrame) -> pd.core.frame.DataFrame:\n",
    "#     print(\"features_function start\")\n",
    "    \n",
    "#     sell_prices['store_id'] = pd.Categorical(sell_prices['store_id'])\n",
    "#     sell_prices['item_id'] = pd.Categorical(sell_prices['item_id'])\n",
    "#     sell_prices['wm_yr_wk'] = pd.Categorical(sell_prices['wm_yr_wk'],categories=sell_prices.wm_yr_wk.unique(), ordered=True)\n",
    "\n",
    "#     sell_prices['dept_id'] = pd.Categorical(sell_prices['item_id'].str.slice(stop=-4))\n",
    "#     sell_prices['cat_id'] = pd.Categorical(sell_prices['item_id'].str.slice(stop=-6))\n",
    "#     sell_prices['state_id'] = pd.Categorical(sell_prices['store_id'].str.slice(stop=-2))\n",
    "#     sell_prices['sell_price'] = sell_prices['sell_price'].replace((np.inf, -np.inf, np.nan), 0).astype(np.float16)\n",
    "    "
   ]
  },
  {
   "cell_type": "code",
   "execution_count": 25,
   "id": "bdbbb564",
   "metadata": {
    "execution": {
     "iopub.execute_input": "2021-11-24T09:03:43.372792Z",
     "iopub.status.busy": "2021-11-24T09:03:43.372070Z",
     "iopub.status.idle": "2021-11-24T09:03:44.461622Z",
     "shell.execute_reply": "2021-11-24T09:03:44.461066Z",
     "shell.execute_reply.started": "2021-11-24T05:22:44.510089Z"
    },
    "papermill": {
     "duration": 1.464331,
     "end_time": "2021-11-24T09:03:44.461778",
     "exception": false,
     "start_time": "2021-11-24T09:03:42.997447",
     "status": "completed"
    },
    "tags": []
   },
   "outputs": [],
   "source": [
    "\n",
    "sell_prices['store_id'] = pd.Categorical(sell_prices['store_id'])\n",
    "sell_prices['item_id'] = pd.Categorical(sell_prices['item_id'])\n",
    "sell_prices['wm_yr_wk'] = pd.Categorical(sell_prices['wm_yr_wk'],categories=sell_prices.wm_yr_wk.unique(), ordered=True)\n"
   ]
  },
  {
   "cell_type": "code",
   "execution_count": 26,
   "id": "0ce80c21",
   "metadata": {
    "execution": {
     "iopub.execute_input": "2021-11-24T09:03:44.573313Z",
     "iopub.status.busy": "2021-11-24T09:03:44.572640Z",
     "iopub.status.idle": "2021-11-24T09:03:46.653539Z",
     "shell.execute_reply": "2021-11-24T09:03:46.654021Z",
     "shell.execute_reply.started": "2021-11-24T05:22:46.105341Z"
    },
    "papermill": {
     "duration": 2.138428,
     "end_time": "2021-11-24T09:03:46.654234",
     "exception": false,
     "start_time": "2021-11-24T09:03:44.515806",
     "status": "completed"
    },
    "tags": []
   },
   "outputs": [],
   "source": [
    "sell_prices['dept_id'] = pd.Categorical(sell_prices['item_id'].str.slice(stop=-4))\n",
    "sell_prices['cat_id'] = pd.Categorical(sell_prices['item_id'].str.slice(stop=-6))\n",
    "sell_prices['state_id'] = pd.Categorical(sell_prices['store_id'].str.slice(stop=-2))\n",
    "sell_prices['sell_price'] = sell_prices['sell_price'].replace((np.inf, -np.inf, np.nan), 0).astype(np.float16)"
   ]
  },
  {
   "cell_type": "code",
   "execution_count": 27,
   "id": "27b18745",
   "metadata": {
    "execution": {
     "iopub.execute_input": "2021-11-24T09:03:46.766119Z",
     "iopub.status.busy": "2021-11-24T09:03:46.764913Z",
     "iopub.status.idle": "2021-11-24T09:03:46.769392Z",
     "shell.execute_reply": "2021-11-24T09:03:46.768770Z",
     "shell.execute_reply.started": "2021-11-24T05:22:48.487079Z"
    },
    "papermill": {
     "duration": 0.061264,
     "end_time": "2021-11-24T09:03:46.769540",
     "exception": false,
     "start_time": "2021-11-24T09:03:46.708276",
     "status": "completed"
    },
    "tags": []
   },
   "outputs": [],
   "source": [
    "# sell_prices"
   ]
  },
  {
   "cell_type": "code",
   "execution_count": 28,
   "id": "4ab36657",
   "metadata": {
    "execution": {
     "iopub.execute_input": "2021-11-24T09:03:46.878667Z",
     "iopub.status.busy": "2021-11-24T09:03:46.877870Z",
     "iopub.status.idle": "2021-11-24T09:03:47.989833Z",
     "shell.execute_reply": "2021-11-24T09:03:47.989283Z",
     "shell.execute_reply.started": "2021-11-24T05:22:48.493800Z"
    },
    "papermill": {
     "duration": 1.167978,
     "end_time": "2021-11-24T09:03:47.990016",
     "exception": false,
     "start_time": "2021-11-24T09:03:46.822038",
     "status": "completed"
    },
    "tags": []
   },
   "outputs": [],
   "source": [
    "import category_encoders\n",
    "from scipy import stats"
   ]
  },
  {
   "cell_type": "code",
   "execution_count": 29,
   "id": "93fc5fa5",
   "metadata": {
    "execution": {
     "iopub.execute_input": "2021-11-24T09:03:48.128466Z",
     "iopub.status.busy": "2021-11-24T09:03:48.127572Z",
     "iopub.status.idle": "2021-11-24T09:03:48.130556Z",
     "shell.execute_reply": "2021-11-24T09:03:48.131177Z",
     "shell.execute_reply.started": "2021-11-24T05:22:49.637760Z"
    },
    "papermill": {
     "duration": 0.070551,
     "end_time": "2021-11-24T09:03:48.131350",
     "exception": false,
     "start_time": "2021-11-24T09:03:48.060799",
     "status": "completed"
    },
    "tags": []
   },
   "outputs": [],
   "source": [
    "VAL_CUTOFF = '2015-05-01'\n",
    "TRAIN_CUTOFF = '2012-01-01'"
   ]
  },
  {
   "cell_type": "code",
   "execution_count": 30,
   "id": "a9d05ccb",
   "metadata": {
    "execution": {
     "iopub.execute_input": "2021-11-24T09:03:48.240825Z",
     "iopub.status.busy": "2021-11-24T09:03:48.240113Z",
     "iopub.status.idle": "2021-11-24T09:03:48.242757Z",
     "shell.execute_reply": "2021-11-24T09:03:48.243264Z",
     "shell.execute_reply.started": "2021-11-24T05:22:49.644178Z"
    },
    "papermill": {
     "duration": 0.059419,
     "end_time": "2021-11-24T09:03:48.243502",
     "exception": false,
     "start_time": "2021-11-24T09:03:48.184083",
     "status": "completed"
    },
    "tags": []
   },
   "outputs": [],
   "source": [
    "import gc"
   ]
  },
  {
   "cell_type": "code",
   "execution_count": 31,
   "id": "e899f23f",
   "metadata": {
    "execution": {
     "iopub.execute_input": "2021-11-24T09:03:48.356467Z",
     "iopub.status.busy": "2021-11-24T09:03:48.355719Z",
     "iopub.status.idle": "2021-11-24T09:03:54.670485Z",
     "shell.execute_reply": "2021-11-24T09:03:54.669544Z",
     "shell.execute_reply.started": "2021-11-24T05:22:49.657678Z"
    },
    "papermill": {
     "duration": 6.372672,
     "end_time": "2021-11-24T09:03:54.670659",
     "exception": false,
     "start_time": "2021-11-24T09:03:48.297987",
     "status": "completed"
    },
    "tags": []
   },
   "outputs": [],
   "source": [
    "sales = pd.read_csv('../input/m5-forecasting-accuracy/sales_train_evaluation.csv')"
   ]
  },
  {
   "cell_type": "code",
   "execution_count": 32,
   "id": "3f901356",
   "metadata": {
    "execution": {
     "iopub.execute_input": "2021-11-24T09:03:54.787607Z",
     "iopub.status.busy": "2021-11-24T09:03:54.786755Z",
     "iopub.status.idle": "2021-11-24T09:03:54.790089Z",
     "shell.execute_reply": "2021-11-24T09:03:54.789531Z",
     "shell.execute_reply.started": "2021-11-24T05:22:56.344736Z"
    },
    "papermill": {
     "duration": 0.065873,
     "end_time": "2021-11-24T09:03:54.790238",
     "exception": false,
     "start_time": "2021-11-24T09:03:54.724365",
     "status": "completed"
    },
    "tags": []
   },
   "outputs": [],
   "source": [
    "def merge (sell_prices: pd.core.frame.DataFrame) -> pd.core.frame.DataFrame:\n",
    "    print(\"merge begin\")\n",
    "    \n",
    "    sell_prices = sell_prices.merge(calendar, on=['wm_yr_wk'], how='left')\n",
    "    sell_prices.drop(['wm_yr_wk'], axis=1, inplace=True)\n",
    "    sell_prices =  sell_prices.merge(pd.melt(sales, id_vars=['id', 'item_id', 'dept_id', 'cat_id', 'store_id', 'state_id'], var_name='d', value_name='demand')[['item_id', 'store_id', 'd', 'demand']], \n",
    "              on=['item_id', 'store_id', 'd'],how='left')\n",
    "    sell_prices[\"month\"] = sell_prices['date'].dt.month.astype(np.int8)\n",
    "    sell_prices[\"year\"] = sell_prices['date'].dt.year.astype(np.int16)\n",
    "    sell_prices.drop(['year', 'month'], axis=1, inplace=True)\n",
    "    gc.collect()\n",
    "    \n",
    "    print(\"merge end\")\n",
    "    return sell_prices"
   ]
  },
  {
   "cell_type": "code",
   "execution_count": 33,
   "id": "485915ee",
   "metadata": {
    "execution": {
     "iopub.execute_input": "2021-11-24T09:03:54.901275Z",
     "iopub.status.busy": "2021-11-24T09:03:54.899304Z",
     "iopub.status.idle": "2021-11-24T09:03:54.904637Z",
     "shell.execute_reply": "2021-11-24T09:03:54.904037Z",
     "shell.execute_reply.started": "2021-11-24T05:22:56.357662Z"
    },
    "papermill": {
     "duration": 0.062437,
     "end_time": "2021-11-24T09:03:54.904800",
     "exception": false,
     "start_time": "2021-11-24T09:03:54.842363",
     "status": "completed"
    },
    "tags": []
   },
   "outputs": [],
   "source": [
    "# sell_prices = sell_prices.merge(calendar, on=['wm_yr_wk'], how='left')\n"
   ]
  },
  {
   "cell_type": "code",
   "execution_count": 34,
   "id": "18f14fd5",
   "metadata": {
    "execution": {
     "iopub.execute_input": "2021-11-24T09:03:55.023599Z",
     "iopub.status.busy": "2021-11-24T09:03:55.022391Z",
     "iopub.status.idle": "2021-11-24T09:03:55.024686Z",
     "shell.execute_reply": "2021-11-24T09:03:55.025149Z",
     "shell.execute_reply.started": "2021-11-24T05:22:56.371584Z"
    },
    "papermill": {
     "duration": 0.065734,
     "end_time": "2021-11-24T09:03:55.025378",
     "exception": false,
     "start_time": "2021-11-24T09:03:54.959644",
     "status": "completed"
    },
    "tags": []
   },
   "outputs": [],
   "source": [
    "# sell_prices"
   ]
  },
  {
   "cell_type": "code",
   "execution_count": 35,
   "id": "f8081430",
   "metadata": {
    "execution": {
     "iopub.execute_input": "2021-11-24T09:03:55.137536Z",
     "iopub.status.busy": "2021-11-24T09:03:55.136576Z",
     "iopub.status.idle": "2021-11-24T09:03:55.139804Z",
     "shell.execute_reply": "2021-11-24T09:03:55.140254Z",
     "shell.execute_reply.started": "2021-11-24T05:22:56.383380Z"
    },
    "papermill": {
     "duration": 0.059964,
     "end_time": "2021-11-24T09:03:55.140451",
     "exception": false,
     "start_time": "2021-11-24T09:03:55.080487",
     "status": "completed"
    },
    "tags": []
   },
   "outputs": [],
   "source": [
    "#  sell_prices.drop(['wm_yr_wk'], axis=1, inplace=True)"
   ]
  },
  {
   "cell_type": "code",
   "execution_count": 36,
   "id": "b11f2d07",
   "metadata": {
    "execution": {
     "iopub.execute_input": "2021-11-24T09:03:55.251817Z",
     "iopub.status.busy": "2021-11-24T09:03:55.251173Z",
     "iopub.status.idle": "2021-11-24T09:03:55.253437Z",
     "shell.execute_reply": "2021-11-24T09:03:55.253907Z",
     "shell.execute_reply.started": "2021-11-24T05:22:56.397303Z"
    },
    "papermill": {
     "duration": 0.059978,
     "end_time": "2021-11-24T09:03:55.254113",
     "exception": false,
     "start_time": "2021-11-24T09:03:55.194135",
     "status": "completed"
    },
    "tags": []
   },
   "outputs": [],
   "source": [
    "#  sell_prices =  sell_prices.merge(pd.melt(sales, id_vars=['id', 'item_id', 'dept_id', 'cat_id', 'store_id', 'state_id'], var_name='d', value_name='demand')[['item_id', 'store_id', 'd', 'demand']], \n",
    "#               on=['item_id', 'store_id', 'd'],how='left')"
   ]
  },
  {
   "cell_type": "code",
   "execution_count": 37,
   "id": "a2974ca6",
   "metadata": {
    "execution": {
     "iopub.execute_input": "2021-11-24T09:03:55.367519Z",
     "iopub.status.busy": "2021-11-24T09:03:55.366746Z",
     "iopub.status.idle": "2021-11-24T09:03:55.368721Z",
     "shell.execute_reply": "2021-11-24T09:03:55.369181Z",
     "shell.execute_reply.started": "2021-11-24T05:22:56.412588Z"
    },
    "papermill": {
     "duration": 0.05957,
     "end_time": "2021-11-24T09:03:55.369361",
     "exception": false,
     "start_time": "2021-11-24T09:03:55.309791",
     "status": "completed"
    },
    "tags": []
   },
   "outputs": [],
   "source": [
    "# sell_prices[\"month\"] = sell_prices['date'].dt.month.astype(np.int8)\n",
    "# sell_prices[\"year\"] = sell_prices['date'].dt.year.astype(np.int16)\n",
    "# sell_prices"
   ]
  },
  {
   "cell_type": "code",
   "execution_count": 38,
   "id": "427e15f1",
   "metadata": {
    "execution": {
     "iopub.execute_input": "2021-11-24T09:03:55.482623Z",
     "iopub.status.busy": "2021-11-24T09:03:55.480931Z",
     "iopub.status.idle": "2021-11-24T09:03:55.485152Z",
     "shell.execute_reply": "2021-11-24T09:03:55.485736Z",
     "shell.execute_reply.started": "2021-11-24T05:22:56.424869Z"
    },
    "papermill": {
     "duration": 0.063334,
     "end_time": "2021-11-24T09:03:55.485934",
     "exception": false,
     "start_time": "2021-11-24T09:03:55.422600",
     "status": "completed"
    },
    "tags": []
   },
   "outputs": [],
   "source": [
    "# sell_prices.drop(['year', 'month'], axis=1, inplace=True)\n"
   ]
  },
  {
   "cell_type": "code",
   "execution_count": 39,
   "id": "dabbedbc",
   "metadata": {
    "execution": {
     "iopub.execute_input": "2021-11-24T09:03:55.599456Z",
     "iopub.status.busy": "2021-11-24T09:03:55.598770Z",
     "iopub.status.idle": "2021-11-24T09:03:55.602294Z",
     "shell.execute_reply": "2021-11-24T09:03:55.602801Z",
     "shell.execute_reply.started": "2021-11-24T05:22:56.437660Z"
    },
    "papermill": {
     "duration": 0.062443,
     "end_time": "2021-11-24T09:03:55.602996",
     "exception": false,
     "start_time": "2021-11-24T09:03:55.540553",
     "status": "completed"
    },
    "tags": []
   },
   "outputs": [],
   "source": [
    "#  gc.collect()"
   ]
  },
  {
   "cell_type": "code",
   "execution_count": 40,
   "id": "2286d494",
   "metadata": {
    "execution": {
     "iopub.execute_input": "2021-11-24T09:03:55.713701Z",
     "iopub.status.busy": "2021-11-24T09:03:55.713024Z",
     "iopub.status.idle": "2021-11-24T09:03:55.721743Z",
     "shell.execute_reply": "2021-11-24T09:03:55.722273Z",
     "shell.execute_reply.started": "2021-11-24T05:22:56.452194Z"
    },
    "papermill": {
     "duration": 0.066302,
     "end_time": "2021-11-24T09:03:55.722454",
     "exception": false,
     "start_time": "2021-11-24T09:03:55.656152",
     "status": "completed"
    },
    "tags": []
   },
   "outputs": [],
   "source": [
    "def data_type_processing (sell_prices: pd.core.frame.DataFrame) -> pd.core.frame.DataFrame:\n",
    "    print(\"data_type_processing start\")\n",
    "    \n",
    "    sell_prices['store_id'] = pd.Categorical(sell_prices['store_id'])\n",
    "    sell_prices['item_id'] = pd.Categorical(sell_prices['item_id'])\n",
    "    sell_prices['id'] = pd.Categorical(sell_prices['item_id'].str.cat(sell_prices['store_id'], sep='_'))\n",
    "    sell_prices['d'] = sell_prices['d'].str.slice(start = 2).astype(np.int16)\n",
    "    sell_prices['demand'] = sell_prices['demand'].astype(np.float16)\n",
    "    \n",
    "    for i in sell_prices.state_id.unique():\n",
    "        flag = sell_prices['state_id'] == i\n",
    "        sell_prices.loc[flag, 'is_snap_avaliable'] = sell_prices.loc[flag, f'snap_{i}']\n",
    "    \n",
    "    sell_prices['is_snap_avaliable'] = sell_prices['is_snap_avaliable'].astype(bool)\n",
    "    sell_prices.drop(['snap_TX', 'snap_CA', 'snap_WI'], axis=1, inplace=True)\n",
    "    \n",
    "    gc.collect()\n",
    "    print(\"data_type_processing end\")\n",
    "    return sell_prices\n"
   ]
  },
  {
   "cell_type": "code",
   "execution_count": 41,
   "id": "d90558b0",
   "metadata": {
    "execution": {
     "iopub.execute_input": "2021-11-24T09:03:55.831026Z",
     "iopub.status.busy": "2021-11-24T09:03:55.830321Z",
     "iopub.status.idle": "2021-11-24T09:03:55.833619Z",
     "shell.execute_reply": "2021-11-24T09:03:55.834173Z",
     "shell.execute_reply.started": "2021-11-24T05:22:56.572232Z"
    },
    "papermill": {
     "duration": 0.059995,
     "end_time": "2021-11-24T09:03:55.834353",
     "exception": false,
     "start_time": "2021-11-24T09:03:55.774358",
     "status": "completed"
    },
    "tags": []
   },
   "outputs": [],
   "source": [
    "# sell_prices['store_id'] = pd.Categorical(sell_prices['store_id'])\n",
    "# sell_prices['item_id'] = pd.Categorical(sell_prices['item_id'])\n",
    "# sell_prices['id'] = pd.Categorical(sell_prices['item_id'].str.cat(sell_prices['store_id'], sep='_'))\n",
    "# sell_prices['d'] = sell_prices['d'].str.slice(start = 2).astype(np.int16)\n",
    "# sell_prices['demand'] = sell_prices['demand'].astype(np.float16)"
   ]
  },
  {
   "cell_type": "code",
   "execution_count": 42,
   "id": "e1b114b5",
   "metadata": {
    "execution": {
     "iopub.execute_input": "2021-11-24T09:03:55.945545Z",
     "iopub.status.busy": "2021-11-24T09:03:55.944758Z",
     "iopub.status.idle": "2021-11-24T09:03:55.948336Z",
     "shell.execute_reply": "2021-11-24T09:03:55.948832Z",
     "shell.execute_reply.started": "2021-11-24T05:22:56.589518Z"
    },
    "papermill": {
     "duration": 0.061004,
     "end_time": "2021-11-24T09:03:55.949130",
     "exception": false,
     "start_time": "2021-11-24T09:03:55.888126",
     "status": "completed"
    },
    "tags": []
   },
   "outputs": [],
   "source": [
    "# for i in sell_prices.state_id.unique():\n",
    "#     flag = sell_prices['state_id'] == i\n",
    "#     sell_prices.loc[flag, 'is_snap_avaliable'] = sell_prices.loc[flag, f'snap_{i}']"
   ]
  },
  {
   "cell_type": "code",
   "execution_count": 43,
   "id": "291dbadd",
   "metadata": {
    "execution": {
     "iopub.execute_input": "2021-11-24T09:03:56.061101Z",
     "iopub.status.busy": "2021-11-24T09:03:56.060425Z",
     "iopub.status.idle": "2021-11-24T09:03:56.063761Z",
     "shell.execute_reply": "2021-11-24T09:03:56.064345Z",
     "shell.execute_reply.started": "2021-11-24T05:22:56.605338Z"
    },
    "papermill": {
     "duration": 0.062644,
     "end_time": "2021-11-24T09:03:56.064546",
     "exception": false,
     "start_time": "2021-11-24T09:03:56.001902",
     "status": "completed"
    },
    "tags": []
   },
   "outputs": [],
   "source": [
    "# sell_prices['is_snap_avaliable'] = sell_prices['is_snap_avaliable'].astype(bool)\n",
    "# sell_prices.drop(['snap_TX', 'snap_CA', 'snap_WI'], axis=1, inplace=True)"
   ]
  },
  {
   "cell_type": "code",
   "execution_count": 44,
   "id": "1d8359e2",
   "metadata": {
    "execution": {
     "iopub.execute_input": "2021-11-24T09:03:56.174013Z",
     "iopub.status.busy": "2021-11-24T09:03:56.173388Z",
     "iopub.status.idle": "2021-11-24T09:03:56.177747Z",
     "shell.execute_reply": "2021-11-24T09:03:56.178351Z",
     "shell.execute_reply.started": "2021-11-24T05:22:56.617273Z"
    },
    "papermill": {
     "duration": 0.061289,
     "end_time": "2021-11-24T09:03:56.178552",
     "exception": false,
     "start_time": "2021-11-24T09:03:56.117263",
     "status": "completed"
    },
    "tags": []
   },
   "outputs": [],
   "source": [
    "# sell_prices"
   ]
  },
  {
   "cell_type": "code",
   "execution_count": 45,
   "id": "8fd930fb",
   "metadata": {
    "execution": {
     "iopub.execute_input": "2021-11-24T09:03:56.290770Z",
     "iopub.status.busy": "2021-11-24T09:03:56.289463Z",
     "iopub.status.idle": "2021-11-24T09:03:56.293084Z",
     "shell.execute_reply": "2021-11-24T09:03:56.293599Z",
     "shell.execute_reply.started": "2021-11-24T05:22:56.630740Z"
    },
    "papermill": {
     "duration": 0.060152,
     "end_time": "2021-11-24T09:03:56.293804",
     "exception": false,
     "start_time": "2021-11-24T09:03:56.233652",
     "status": "completed"
    },
    "tags": []
   },
   "outputs": [],
   "source": [
    "# gc.collect()"
   ]
  },
  {
   "cell_type": "code",
   "execution_count": 46,
   "id": "c8fd6823",
   "metadata": {
    "execution": {
     "iopub.execute_input": "2021-11-24T09:03:56.403422Z",
     "iopub.status.busy": "2021-11-24T09:03:56.402773Z",
     "iopub.status.idle": "2021-11-24T09:03:56.413585Z",
     "shell.execute_reply": "2021-11-24T09:03:56.414133Z",
     "shell.execute_reply.started": "2021-11-24T05:22:56.644275Z"
    },
    "papermill": {
     "duration": 0.067308,
     "end_time": "2021-11-24T09:03:56.414350",
     "exception": false,
     "start_time": "2021-11-24T09:03:56.347042",
     "status": "completed"
    },
    "tags": []
   },
   "outputs": [],
   "source": [
    "def demand_features (sell_prices: pd.core.frame.DataFrame) -> pd.core.frame.DataFrame:\n",
    "    print(\"demand_features start\")\n",
    "    \n",
    "    days = 29\n",
    "    sell_prices[f'cumulative_mean_demand_{days}d_ago'] = (sell_prices.groupby(['store_id', 'item_id']).demand\n",
    "                                                         .transform(lambda x : x.shift(days).expanding().mean())\n",
    "                                                         .replace((np.inf, -np.inf, np.nan), 0)\n",
    "                                                         .astype(np.int16))   \n",
    "    sell_prices[f'cumulative_md_low_demand_{days}d_ago'] = (sell_prices.groupby(['store_id', 'item_id']).demand\n",
    "                                                         .transform(lambda x : x.shift(days).expanding().median())\n",
    "                                                         .replace((np.inf, -np.inf, np.nan), 0)\n",
    "                                                         .astype(np.int16)) \n",
    "    for i in [1, 4, 8]:\n",
    "        sell_prices[f'ewm_mean_{i}w_demand_{days}d_ago'] = (sell_prices.groupby(['store_id', 'item_id']).demand\n",
    "                                                         .transform(lambda x : x.shift(days).ewm(span=7*i).mean())\n",
    "                                                         .replace((np.inf, -np.inf, np.nan), 0)\n",
    "                                                         .astype(np.float16))\n",
    "        sell_prices[f'rolling_mean_{i}w_demand_{days}d_ago'] = (sell_prices.groupby(['store_id', 'item_id']).demand\n",
    "                                                         .transform(lambda x : x.shift(days).rolling(7*i).mean())\n",
    "                                                         .replace((np.inf, -np.inf, np.nan), 0)\n",
    "                                                         .astype(np.float16))\n",
    "    gc.collect()\n",
    "    print(\"demand_features end\")\n",
    "    return sell_prices\n",
    "\n"
   ]
  },
  {
   "cell_type": "code",
   "execution_count": 47,
   "id": "c237e299",
   "metadata": {
    "execution": {
     "iopub.execute_input": "2021-11-24T09:03:56.523741Z",
     "iopub.status.busy": "2021-11-24T09:03:56.523111Z",
     "iopub.status.idle": "2021-11-24T09:03:56.526959Z",
     "shell.execute_reply": "2021-11-24T09:03:56.527480Z",
     "shell.execute_reply.started": "2021-11-24T05:22:56.658350Z"
    },
    "papermill": {
     "duration": 0.060417,
     "end_time": "2021-11-24T09:03:56.527675",
     "exception": false,
     "start_time": "2021-11-24T09:03:56.467258",
     "status": "completed"
    },
    "tags": []
   },
   "outputs": [],
   "source": [
    "# days = 29\n"
   ]
  },
  {
   "cell_type": "code",
   "execution_count": 48,
   "id": "2e3620d8",
   "metadata": {
    "execution": {
     "iopub.execute_input": "2021-11-24T09:03:56.639429Z",
     "iopub.status.busy": "2021-11-24T09:03:56.638703Z",
     "iopub.status.idle": "2021-11-24T09:03:56.642106Z",
     "shell.execute_reply": "2021-11-24T09:03:56.642718Z",
     "shell.execute_reply.started": "2021-11-24T05:22:56.675406Z"
    },
    "papermill": {
     "duration": 0.06186,
     "end_time": "2021-11-24T09:03:56.642992",
     "exception": false,
     "start_time": "2021-11-24T09:03:56.581132",
     "status": "completed"
    },
    "tags": []
   },
   "outputs": [],
   "source": [
    "# sell_prices[f'cumulative_mean_demand_{days}d_ago'] = (sell_prices.groupby(['store_id', 'item_id']).demand\n",
    "#                                                      .transform(lambda x : x.shift(days).expanding().mean())\n",
    "#                                                      .replace((np.inf, -np.inf, np.nan), 0)\n",
    "#                                                      .astype(np.int16))"
   ]
  },
  {
   "cell_type": "code",
   "execution_count": 49,
   "id": "5b9d3b79",
   "metadata": {
    "execution": {
     "iopub.execute_input": "2021-11-24T09:03:56.781981Z",
     "iopub.status.busy": "2021-11-24T09:03:56.781179Z",
     "iopub.status.idle": "2021-11-24T09:03:56.784104Z",
     "shell.execute_reply": "2021-11-24T09:03:56.783471Z",
     "shell.execute_reply.started": "2021-11-24T05:22:56.686584Z"
    },
    "papermill": {
     "duration": 0.075146,
     "end_time": "2021-11-24T09:03:56.784282",
     "exception": false,
     "start_time": "2021-11-24T09:03:56.709136",
     "status": "completed"
    },
    "tags": []
   },
   "outputs": [],
   "source": [
    "# sell_prices[f'cumulative_md_low_demand_{days}d_ago'] = (sell_prices.groupby(['store_id', 'item_id']).demand\n",
    "#                                                      .transform(lambda x : x.shift(days).expanding().median())\n",
    "#                                                      .replace((np.inf, -np.inf, np.nan), 0)\n",
    "#                                                      .astype(np.int16))"
   ]
  },
  {
   "cell_type": "code",
   "execution_count": 50,
   "id": "4c202490",
   "metadata": {
    "execution": {
     "iopub.execute_input": "2021-11-24T09:03:56.894097Z",
     "iopub.status.busy": "2021-11-24T09:03:56.893377Z",
     "iopub.status.idle": "2021-11-24T09:03:56.897762Z",
     "shell.execute_reply": "2021-11-24T09:03:56.898308Z",
     "shell.execute_reply.started": "2021-11-24T05:22:56.703035Z"
    },
    "papermill": {
     "duration": 0.060995,
     "end_time": "2021-11-24T09:03:56.898517",
     "exception": false,
     "start_time": "2021-11-24T09:03:56.837522",
     "status": "completed"
    },
    "tags": []
   },
   "outputs": [],
   "source": [
    "# for i in [1, 4, 8]:\n",
    "#     sell_prices[f'ewm_mean_{i}w_demand_{days}d_ago'] = (sell_prices.groupby(['store_id', 'item_id']).demand\n",
    "#                                                      .transform(lambda x : x.shift(days).ewm(span=7*i).mean())\n",
    "#                                                      .replace((np.inf, -np.inf, np.nan), 0)\n",
    "#                                                      .astype(np.float16))\n",
    "#     sell_prices[f'rolling_mean_{i}w_demand_{days}d_ago'] = (sell_prices.groupby(['store_id', 'item_id']).demand\n",
    "#                                                      .transform(lambda x : x.shift(days).rolling(7*i).mean())\n",
    "#                                                      .replace((np.inf, -np.inf, np.nan), 0)\n",
    "#                                                      .astype(np.float16))"
   ]
  },
  {
   "cell_type": "code",
   "execution_count": 51,
   "id": "d27f39e9",
   "metadata": {
    "execution": {
     "iopub.execute_input": "2021-11-24T09:03:57.032748Z",
     "iopub.status.busy": "2021-11-24T09:03:57.031644Z",
     "iopub.status.idle": "2021-11-24T09:03:57.034159Z",
     "shell.execute_reply": "2021-11-24T09:03:57.033632Z",
     "shell.execute_reply.started": "2021-11-24T05:22:56.714136Z"
    },
    "papermill": {
     "duration": 0.070865,
     "end_time": "2021-11-24T09:03:57.034309",
     "exception": false,
     "start_time": "2021-11-24T09:03:56.963444",
     "status": "completed"
    },
    "tags": []
   },
   "outputs": [],
   "source": [
    "# sell_prices"
   ]
  },
  {
   "cell_type": "code",
   "execution_count": 52,
   "id": "83f9614b",
   "metadata": {
    "execution": {
     "iopub.execute_input": "2021-11-24T09:03:57.159406Z",
     "iopub.status.busy": "2021-11-24T09:03:57.158642Z",
     "iopub.status.idle": "2021-11-24T09:03:57.160893Z",
     "shell.execute_reply": "2021-11-24T09:03:57.160261Z",
     "shell.execute_reply.started": "2021-11-24T05:22:56.724491Z"
    },
    "papermill": {
     "duration": 0.063093,
     "end_time": "2021-11-24T09:03:57.161050",
     "exception": false,
     "start_time": "2021-11-24T09:03:57.097957",
     "status": "completed"
    },
    "tags": []
   },
   "outputs": [],
   "source": [
    "# gc.collect()"
   ]
  },
  {
   "cell_type": "code",
   "execution_count": 53,
   "id": "e392e910",
   "metadata": {
    "execution": {
     "iopub.execute_input": "2021-11-24T09:03:57.273730Z",
     "iopub.status.busy": "2021-11-24T09:03:57.273040Z",
     "iopub.status.idle": "2021-11-24T09:03:57.283758Z",
     "shell.execute_reply": "2021-11-24T09:03:57.284318Z",
     "shell.execute_reply.started": "2021-11-24T05:22:56.738315Z"
    },
    "papermill": {
     "duration": 0.067459,
     "end_time": "2021-11-24T09:03:57.284536",
     "exception": false,
     "start_time": "2021-11-24T09:03:57.217077",
     "status": "completed"
    },
    "tags": []
   },
   "outputs": [],
   "source": [
    "def encoding (sell_prices: pd.core.frame.DataFrame) -> pd.core.frame.DataFrame:\n",
    "    print(\"encoding start\")\n",
    "    \n",
    "    for features in ['store_id', 'item_id', 'dept_id']:\n",
    "        encoder = category_encoders.CatBoostEncoder(handle_unknown='value', handle_missing='value', a=1e-9)\n",
    "        encoder.fit(sell_prices.loc[sell_prices.date < VAL_CUTOFF, features], sell_prices.loc[sell_prices.date < VAL_CUTOFF, \"demand\"])\n",
    "        sell_prices[features] = encoder.transform(sell_prices[features]).astype(np.float16)\n",
    "        del encoder\n",
    "\n",
    "        if(features == 'store_id') or (features == 'dept_id'):\n",
    "            dict =  {i: j for i, j in zip(sell_prices[features].unique(), stats.rankdata(sell_prices[features].unique()))}\n",
    "            sell_prices[features] = sell_prices[features].map(dict).astype(np.int8)\n",
    "    \n",
    "    sell_prices['expected_item_revenue'] = (sell_prices['item_id'] * sell_prices['sell_price']).replace((np.inf, -np.inf, np.nan), 0).astype(np.float16)\n",
    "    \n",
    "    sell_prices['is_in_CA'] = sell_prices['state_id'] == 'CA'\n",
    "    sell_prices['is_in_TX'] = sell_prices['state_id'] == 'TX'\n",
    "    sell_prices['is_in_WI'] = sell_prices['state_id'] == 'WI'\n",
    "    \n",
    "    sell_prices.drop(['state_id'], axis=1, inplace=True)\n",
    "    \n",
    "    sell_prices['is_foods'] = sell_prices['cat_id'] == 'FOODS'\n",
    "    sell_prices['is_household'] = sell_prices['cat_id'] == 'HOUSEHOLD'\n",
    "    sell_prices['is_hobbies'] =sell_prices['cat_id'] == 'HOBBIES'\n",
    "    \n",
    "    sell_prices.drop(['cat_id'], axis=1, inplace=True)\n",
    "    \n",
    "    gc.collect()\n",
    "    print(\"encoding end\")\n",
    "    return sell_prices"
   ]
  },
  {
   "cell_type": "code",
   "execution_count": 54,
   "id": "c5112003",
   "metadata": {
    "execution": {
     "iopub.execute_input": "2021-11-24T09:03:57.394391Z",
     "iopub.status.busy": "2021-11-24T09:03:57.393358Z",
     "iopub.status.idle": "2021-11-24T09:03:57.398713Z",
     "shell.execute_reply": "2021-11-24T09:03:57.398205Z",
     "shell.execute_reply.started": "2021-11-24T05:22:56.753124Z"
    },
    "papermill": {
     "duration": 0.06158,
     "end_time": "2021-11-24T09:03:57.398903",
     "exception": false,
     "start_time": "2021-11-24T09:03:57.337323",
     "status": "completed"
    },
    "tags": []
   },
   "outputs": [],
   "source": [
    "# for features in ['store_id', 'item_id', 'dept_id']:\n",
    "#     encoder = category_encoders.CatBoostEncoder(handle_unknown='value', handle_missing='value', a=1e-9)\n",
    "#     encoder.fit(sell_prices.loc[sell_prices.date < VAL_CUTOFF, features], sell_prices.loc[sell_prices.date < VAL_CUTOFF, \"demand\"])\n",
    "#     sell_prices[features] = encoder.transform(sell_prices[features]).astype(np.float16)\n",
    "#     del encoder\n",
    "    \n",
    "#     if(features == 'store_id') or (features == 'dept_id'):\n",
    "#         dict =  {i: j for i, j in zip(sell_prices[features].unique(), stats.rankdata(sell_prices[features].unique()))}\n",
    "#         sell_prices[features] = sell_prices[features].map(dict).astype(np.int8)"
   ]
  },
  {
   "cell_type": "code",
   "execution_count": 55,
   "id": "40ad67c9",
   "metadata": {
    "execution": {
     "iopub.execute_input": "2021-11-24T09:03:57.531389Z",
     "iopub.status.busy": "2021-11-24T09:03:57.530670Z",
     "iopub.status.idle": "2021-11-24T09:03:57.532897Z",
     "shell.execute_reply": "2021-11-24T09:03:57.532254Z",
     "shell.execute_reply.started": "2021-11-24T05:22:56.768625Z"
    },
    "papermill": {
     "duration": 0.070608,
     "end_time": "2021-11-24T09:03:57.533053",
     "exception": false,
     "start_time": "2021-11-24T09:03:57.462445",
     "status": "completed"
    },
    "tags": []
   },
   "outputs": [],
   "source": [
    "# sell_prices['expected_item_revenue'] = (sell_prices['item_id'] * sell_prices['sell_price']).replace((np.inf, -np.inf, np.nan), 0).astype(np.float16)\n"
   ]
  },
  {
   "cell_type": "code",
   "execution_count": 56,
   "id": "9d6603cb",
   "metadata": {
    "execution": {
     "iopub.execute_input": "2021-11-24T09:03:57.648502Z",
     "iopub.status.busy": "2021-11-24T09:03:57.647671Z",
     "iopub.status.idle": "2021-11-24T09:03:57.649282Z",
     "shell.execute_reply": "2021-11-24T09:03:57.649791Z",
     "shell.execute_reply.started": "2021-11-24T05:22:56.784569Z"
    },
    "papermill": {
     "duration": 0.05965,
     "end_time": "2021-11-24T09:03:57.650019",
     "exception": false,
     "start_time": "2021-11-24T09:03:57.590369",
     "status": "completed"
    },
    "tags": []
   },
   "outputs": [],
   "source": [
    "# sell_prices['is_in_CA'] = sell_prices['state_id'] == 'CA'\n",
    "# sell_prices['is_in_TX'] = sell_prices['state_id'] == 'TX'\n",
    "# sell_prices['is_in_WI'] = sell_prices['state_id'] == 'WI'"
   ]
  },
  {
   "cell_type": "code",
   "execution_count": 57,
   "id": "43a207c0",
   "metadata": {
    "execution": {
     "iopub.execute_input": "2021-11-24T09:03:57.769025Z",
     "iopub.status.busy": "2021-11-24T09:03:57.768282Z",
     "iopub.status.idle": "2021-11-24T09:03:57.770110Z",
     "shell.execute_reply": "2021-11-24T09:03:57.770766Z",
     "shell.execute_reply.started": "2021-11-24T05:22:56.796275Z"
    },
    "papermill": {
     "duration": 0.063609,
     "end_time": "2021-11-24T09:03:57.770997",
     "exception": false,
     "start_time": "2021-11-24T09:03:57.707388",
     "status": "completed"
    },
    "tags": []
   },
   "outputs": [],
   "source": [
    "# sell_prices.drop(['state_id'], axis=1, inplace=True)"
   ]
  },
  {
   "cell_type": "code",
   "execution_count": 58,
   "id": "6500c2df",
   "metadata": {
    "execution": {
     "iopub.execute_input": "2021-11-24T09:03:57.884324Z",
     "iopub.status.busy": "2021-11-24T09:03:57.883570Z",
     "iopub.status.idle": "2021-11-24T09:03:57.886558Z",
     "shell.execute_reply": "2021-11-24T09:03:57.887186Z",
     "shell.execute_reply.started": "2021-11-24T05:22:56.806801Z"
    },
    "papermill": {
     "duration": 0.063026,
     "end_time": "2021-11-24T09:03:57.887389",
     "exception": false,
     "start_time": "2021-11-24T09:03:57.824363",
     "status": "completed"
    },
    "tags": []
   },
   "outputs": [],
   "source": [
    "# sell_prices['is_foods'] = sell_prices['cat_id'] == 'FOODS'\n",
    "# sell_prices['is_household'] = sell_prices['cat_id'] == 'HOUSEHOLD'\n",
    "# sell_prices['is_hobbies'] =sell_prices['cat_id'] == 'HOBBIES'"
   ]
  },
  {
   "cell_type": "code",
   "execution_count": 59,
   "id": "a8103fa3",
   "metadata": {
    "execution": {
     "iopub.execute_input": "2021-11-24T09:03:58.003490Z",
     "iopub.status.busy": "2021-11-24T09:03:58.002439Z",
     "iopub.status.idle": "2021-11-24T09:03:58.006968Z",
     "shell.execute_reply": "2021-11-24T09:03:58.006393Z",
     "shell.execute_reply.started": "2021-11-24T05:22:56.819413Z"
    },
    "papermill": {
     "duration": 0.064196,
     "end_time": "2021-11-24T09:03:58.007142",
     "exception": false,
     "start_time": "2021-11-24T09:03:57.942946",
     "status": "completed"
    },
    "tags": []
   },
   "outputs": [],
   "source": [
    "# sell_prices.drop(['cat_id'], axis=1, inplace=True)"
   ]
  },
  {
   "cell_type": "code",
   "execution_count": 60,
   "id": "5c267119",
   "metadata": {
    "execution": {
     "iopub.execute_input": "2021-11-24T09:03:58.126732Z",
     "iopub.status.busy": "2021-11-24T09:03:58.126017Z",
     "iopub.status.idle": "2021-11-24T09:03:58.130242Z",
     "shell.execute_reply": "2021-11-24T09:03:58.130753Z",
     "shell.execute_reply.started": "2021-11-24T05:22:56.829585Z"
    },
    "papermill": {
     "duration": 0.063894,
     "end_time": "2021-11-24T09:03:58.130992",
     "exception": false,
     "start_time": "2021-11-24T09:03:58.067098",
     "status": "completed"
    },
    "tags": []
   },
   "outputs": [],
   "source": [
    "# gc.collect()"
   ]
  },
  {
   "cell_type": "code",
   "execution_count": 61,
   "id": "7a251e9e",
   "metadata": {
    "execution": {
     "iopub.execute_input": "2021-11-24T09:03:58.248075Z",
     "iopub.status.busy": "2021-11-24T09:03:58.247424Z",
     "iopub.status.idle": "2021-11-24T09:03:58.249811Z",
     "shell.execute_reply": "2021-11-24T09:03:58.250292Z",
     "shell.execute_reply.started": "2021-11-24T05:22:56.840501Z"
    },
    "papermill": {
     "duration": 0.063387,
     "end_time": "2021-11-24T09:03:58.250487",
     "exception": false,
     "start_time": "2021-11-24T09:03:58.187100",
     "status": "completed"
    },
    "tags": []
   },
   "outputs": [],
   "source": [
    "def cut (sell_prices: pd.core.frame.DataFrame) -> pd.core.frame.DataFrame:\n",
    "    print(\"cut start\")\n",
    "    \n",
    "    sell_prices = sell_prices.loc[sell_prices.date >= TRAIN_CUTOFF]\n",
    "    \n",
    "    gc.collect()\n",
    "    print(\"cut end\")\n",
    "    return sell_prices.reset_index(drop=True) "
   ]
  },
  {
   "cell_type": "code",
   "execution_count": 62,
   "id": "8c39d02e",
   "metadata": {
    "execution": {
     "iopub.execute_input": "2021-11-24T09:03:58.361650Z",
     "iopub.status.busy": "2021-11-24T09:03:58.360995Z",
     "iopub.status.idle": "2021-11-24T09:03:58.368228Z",
     "shell.execute_reply": "2021-11-24T09:03:58.368727Z",
     "shell.execute_reply.started": "2021-11-24T05:22:56.852919Z"
    },
    "papermill": {
     "duration": 0.065126,
     "end_time": "2021-11-24T09:03:58.368945",
     "exception": false,
     "start_time": "2021-11-24T09:03:58.303819",
     "status": "completed"
    },
    "tags": []
   },
   "outputs": [],
   "source": [
    "def train_test_split(sell_prices: pd.core.frame.DataFrame) -> list:\n",
    "    print(\"train_test_split start\")\n",
    "    \n",
    "    X_train = sell_prices[(sell_prices.date < VAL_CUTOFF)].drop(['demand', 'date', 'id', 'd'], axis=1)\n",
    "    X_valid = sell_prices[(sell_prices['d'] < 1942) & (sell_prices.date >= VAL_CUTOFF)].drop(['demand', 'date', 'id', 'd'], axis=1)\n",
    "    X_test = sell_prices[sell_prices['d'] >= 1914].drop(['demand', 'd'], axis=1)\n",
    "    y_train = sell_prices[(sell_prices.date < VAL_CUTOFF)]['demand'].astype(np.int16)\n",
    "    y_valid = sell_prices[(sell_prices['d'] < 1942) & (sell_prices.date >= VAL_CUTOFF)]['demand'].astype(np.int16)\n",
    "    \n",
    "    gc.collect()\n",
    "    print(\"train_test_split end\")\n",
    "    return [X_train, X_valid, X_test, y_train, y_valid]"
   ]
  },
  {
   "cell_type": "code",
   "execution_count": 63,
   "id": "dd8b2534",
   "metadata": {
    "execution": {
     "iopub.execute_input": "2021-11-24T09:03:58.483316Z",
     "iopub.status.busy": "2021-11-24T09:03:58.482588Z",
     "iopub.status.idle": "2021-11-24T09:13:11.930896Z",
     "shell.execute_reply": "2021-11-24T09:13:11.931698Z",
     "shell.execute_reply.started": "2021-11-24T05:22:56.866235Z"
    },
    "papermill": {
     "duration": 553.507777,
     "end_time": "2021-11-24T09:13:11.932216",
     "exception": false,
     "start_time": "2021-11-24T09:03:58.424439",
     "status": "completed"
    },
    "tags": []
   },
   "outputs": [
    {
     "name": "stdout",
     "output_type": "stream",
     "text": [
      "merge begin\n",
      "merge end\n",
      "data_type_processing start\n",
      "data_type_processing end\n",
      "demand_features start\n",
      "demand_features end\n",
      "encoding start\n",
      "encoding end\n",
      "cut start\n",
      "cut end\n",
      "train_test_split start\n",
      "train_test_split end\n",
      "CPU times: user 7min 8s, sys: 2min 7s, total: 9min 16s\n",
      "Wall time: 9min 13s\n"
     ]
    }
   ],
   "source": [
    "%%time\n",
    "X_train, X_valid, X_test, y_train, y_valid = (sell_prices\n",
    "                                              .pipe(merge)\n",
    "                                              .pipe(data_type_processing)\n",
    "                                              .pipe(demand_features)\n",
    "                                              .pipe(encoding)\n",
    "                                              .pipe(cut)\n",
    "                                              .pipe(train_test_split))"
   ]
  },
  {
   "cell_type": "code",
   "execution_count": 64,
   "id": "fc7d6bd9",
   "metadata": {
    "execution": {
     "iopub.execute_input": "2021-11-24T09:13:12.050345Z",
     "iopub.status.busy": "2021-11-24T09:13:12.049282Z",
     "iopub.status.idle": "2021-11-24T09:13:12.218902Z",
     "shell.execute_reply": "2021-11-24T09:13:12.219376Z",
     "shell.execute_reply.started": "2021-11-24T05:32:06.261837Z"
    },
    "papermill": {
     "duration": 0.229943,
     "end_time": "2021-11-24T09:13:12.219569",
     "exception": false,
     "start_time": "2021-11-24T09:13:11.989626",
     "status": "completed"
    },
    "tags": []
   },
   "outputs": [
    {
     "data": {
      "text/plain": [
       "21"
      ]
     },
     "execution_count": 64,
     "metadata": {},
     "output_type": "execute_result"
    }
   ],
   "source": [
    "del sell_prices, calendar, sales\n",
    "gc.collect()"
   ]
  },
  {
   "cell_type": "code",
   "execution_count": 65,
   "id": "685136b6",
   "metadata": {
    "execution": {
     "iopub.execute_input": "2021-11-24T09:13:12.333693Z",
     "iopub.status.busy": "2021-11-24T09:13:12.333015Z",
     "iopub.status.idle": "2021-11-24T09:13:12.637297Z",
     "shell.execute_reply": "2021-11-24T09:13:12.636459Z",
     "shell.execute_reply.started": "2021-11-24T05:32:06.403187Z"
    },
    "papermill": {
     "duration": 0.363762,
     "end_time": "2021-11-24T09:13:12.637469",
     "exception": false,
     "start_time": "2021-11-24T09:13:12.273707",
     "status": "completed"
    },
    "tags": []
   },
   "outputs": [],
   "source": [
    "from sklearn.preprocessing import RobustScaler\n",
    "from sklearn.compose import ColumnTransformer\n",
    "import catboost as cb"
   ]
  },
  {
   "cell_type": "code",
   "execution_count": 66,
   "id": "c072ddb7",
   "metadata": {
    "execution": {
     "iopub.execute_input": "2021-11-24T09:13:12.752917Z",
     "iopub.status.busy": "2021-11-24T09:13:12.752261Z",
     "iopub.status.idle": "2021-11-24T09:16:55.866260Z",
     "shell.execute_reply": "2021-11-24T09:16:55.865607Z",
     "shell.execute_reply.started": "2021-11-24T05:32:06.700764Z"
    },
    "papermill": {
     "duration": 223.174363,
     "end_time": "2021-11-24T09:16:55.866435",
     "exception": false,
     "start_time": "2021-11-24T09:13:12.692072",
     "status": "completed"
    },
    "tags": []
   },
   "outputs": [],
   "source": [
    "dev_pool = cb.Pool(X_train, \n",
    "                   y_train.astype(int))\n",
    "val_pool = cb.Pool(X_valid, \n",
    "                   y_valid.astype(int))\n",
    "\n",
    "tr_val_ratio = X_valid.shape[0] / X_train.shape[0]"
   ]
  },
  {
   "cell_type": "code",
   "execution_count": 67,
   "id": "85ee7128",
   "metadata": {
    "execution": {
     "iopub.execute_input": "2021-11-24T09:16:55.990560Z",
     "iopub.status.busy": "2021-11-24T09:16:55.989827Z",
     "iopub.status.idle": "2021-11-24T09:16:56.217906Z",
     "shell.execute_reply": "2021-11-24T09:16:56.217110Z",
     "shell.execute_reply.started": "2021-11-24T05:38:41.023771Z"
    },
    "papermill": {
     "duration": 0.293302,
     "end_time": "2021-11-24T09:16:56.218088",
     "exception": false,
     "start_time": "2021-11-24T09:16:55.924786",
     "status": "completed"
    },
    "tags": []
   },
   "outputs": [
    {
     "data": {
      "text/plain": [
       "21"
      ]
     },
     "execution_count": 67,
     "metadata": {},
     "output_type": "execute_result"
    }
   ],
   "source": [
    "del X_train, X_valid, y_train, y_valid\n",
    "gc.collect()"
   ]
  },
  {
   "cell_type": "code",
   "execution_count": 68,
   "id": "79261447",
   "metadata": {
    "execution": {
     "iopub.execute_input": "2021-11-24T09:16:56.342674Z",
     "iopub.status.busy": "2021-11-24T09:16:56.336951Z",
     "iopub.status.idle": "2021-11-24T09:16:56.355472Z",
     "shell.execute_reply": "2021-11-24T09:16:56.354514Z",
     "shell.execute_reply.started": "2021-11-24T05:38:41.184032Z"
    },
    "papermill": {
     "duration": 0.07943,
     "end_time": "2021-11-24T09:16:56.355657",
     "exception": false,
     "start_time": "2021-11-24T09:16:56.276227",
     "status": "completed"
    },
    "tags": []
   },
   "outputs": [],
   "source": [
    "gbt_regressor = cb.CatBoostRegressor(iterations=5000,\n",
    "                                    learning_rate=0.1,\n",
    "                                    depth=10,\n",
    "                                    l2_leaf_reg=3.5,\n",
    "                                    model_size_reg=0,\n",
    "                                    rsm=None,\n",
    "                                    loss_function='RMSE',\n",
    "                                    border_count=None,\n",
    "                                    feature_border_type='UniformAndQuantiles',\n",
    "                                    per_float_feature_quantization=None,\n",
    "                                    input_borders=None,\n",
    "                                    output_borders=None,\n",
    "                                    fold_permutation_block=1,\n",
    "                                    od_pval=None,\n",
    "                                    od_wait=None,\n",
    "                                    od_type=None,\n",
    "                                    nan_mode=None,\n",
    "                                    counter_calc_method=None,\n",
    "                                    leaf_estimation_iterations=1,\n",
    "                                    leaf_estimation_method='Newton',\n",
    "                                    thread_count=4,\n",
    "                                    random_seed=42,\n",
    "                                    use_best_model=None,\n",
    "                                    best_model_min_trees=None,\n",
    "                                    verbose=None,\n",
    "                                    silent=None,\n",
    "                                    logging_level=None,\n",
    "                                    metric_period=None,\n",
    "                                    ctr_leaf_count_limit=None,\n",
    "                                    store_all_simple_ctr=None,\n",
    "                                    max_ctr_complexity=None,\n",
    "                                    has_time=True,\n",
    "                                    allow_const_label=None,\n",
    "                                    one_hot_max_size=None,\n",
    "                                    random_strength=1,\n",
    "                                    name=None,\n",
    "                                    ignored_features=None,\n",
    "                                    train_dir=None,\n",
    "                                    custom_metric=None,\n",
    "                                    eval_metric='RMSE',\n",
    "                                    bagging_temperature=None,\n",
    "                                    save_snapshot=None,\n",
    "                                    snapshot_file=None,\n",
    "                                    snapshot_interval=None,\n",
    "                                    fold_len_multiplier=2,\n",
    "                                    used_ram_limit='15gb',\n",
    "                                    gpu_ram_part=None,\n",
    "                                    pinned_memory_size=None,\n",
    "                                    allow_writing_files=False,\n",
    "                                    final_ctr_computation_mode=None,\n",
    "                                    approx_on_full_history=None,\n",
    "                                    boosting_type='Plain',\n",
    "                                    simple_ctr=None,\n",
    "                                    combinations_ctr=None,\n",
    "                                    per_feature_ctr=None,\n",
    "                                    ctr_target_border_count=None,\n",
    "                                    task_type='CPU',\n",
    "                                    device_config=None,                        \n",
    "                                    devices=None,\n",
    "                                    bootstrap_type='MVS',\n",
    "                                    subsample=0.8,                        \n",
    "                                    sampling_unit=None,\n",
    "                                    dev_score_calc_obj_block_size=None,\n",
    "                                    max_depth=None,\n",
    "                                    n_estimators=None,\n",
    "                                    num_boost_round=None,\n",
    "                                    num_trees=None,\n",
    "                                    colsample_bylevel=None,\n",
    "                                    random_state=None,\n",
    "                                    reg_lambda=None,\n",
    "                                    objective=None,\n",
    "                                    eta=None,\n",
    "                                    max_bin=254,\n",
    "                                    gpu_cat_features_storage=None,\n",
    "                                    data_partition=None,\n",
    "                                    metadata=None,\n",
    "                                    early_stopping_rounds=None,\n",
    "                                    cat_features=None,\n",
    "                                    grow_policy=None,\n",
    "                                    min_data_in_leaf=None,\n",
    "                                    min_child_samples=None,\n",
    "                                    max_leaves=None,\n",
    "                                    num_leaves=None,\n",
    "                                    score_function='L2',\n",
    "                                    leaf_estimation_backtracking=None,\n",
    "                                    ctr_history_unit=None,\n",
    "                                    sampling_frequency='PerTreeLevel',\n",
    "                                    monotone_constraints=None,\n",
    "                                    feature_weights=None,\n",
    "                                    penalties_coefficient=None,\n",
    "                                    first_feature_use_penalties=None,\n",
    "                                    model_shrink_rate=1e-5,\n",
    "                                    model_shrink_mode='Constant',\n",
    "                                    langevin=True,\n",
    "                                    diffusion_temperature=1e2,\n",
    "                                    posterior_sampling=None,\n",
    "                                    boost_from_average=False)"
   ]
  },
  {
   "cell_type": "code",
   "execution_count": 69,
   "id": "f687582e",
   "metadata": {
    "execution": {
     "iopub.execute_input": "2021-11-24T09:16:56.638060Z",
     "iopub.status.busy": "2021-11-24T09:16:56.636722Z",
     "iopub.status.idle": "2021-11-24T09:16:56.641791Z",
     "shell.execute_reply": "2021-11-24T09:16:56.641290Z",
     "shell.execute_reply.started": "2021-11-24T05:38:41.210972Z"
    },
    "papermill": {
     "duration": 0.226956,
     "end_time": "2021-11-24T09:16:56.641962",
     "exception": false,
     "start_time": "2021-11-24T09:16:56.415006",
     "status": "completed"
    },
    "tags": []
   },
   "outputs": [
    {
     "data": {
      "text/plain": [
       "21"
      ]
     },
     "execution_count": 69,
     "metadata": {},
     "output_type": "execute_result"
    }
   ],
   "source": [
    "gc.collect()"
   ]
  },
  {
   "cell_type": "code",
   "execution_count": 70,
   "id": "dfdbd11a",
   "metadata": {
    "execution": {
     "iopub.execute_input": "2021-11-24T09:16:56.759880Z",
     "iopub.status.busy": "2021-11-24T09:16:56.759214Z",
     "iopub.status.idle": "2021-11-24T13:57:27.710072Z",
     "shell.execute_reply": "2021-11-24T13:57:27.710566Z"
    },
    "papermill": {
     "duration": 16831.009955,
     "end_time": "2021-11-24T13:57:27.710896",
     "exception": false,
     "start_time": "2021-11-24T09:16:56.700941",
     "status": "completed"
    },
    "tags": []
   },
   "outputs": [
    {
     "data": {
      "application/vnd.jupyter.widget-view+json": {
       "model_id": "ac11d492add747fbbe4e486e7945818e",
       "version_major": 2,
       "version_minor": 0
      },
      "text/plain": [
       "MetricVisualizer(layout=Layout(align_self='stretch', height='500px'))"
      ]
     },
     "metadata": {},
     "output_type": "display_data"
    },
    {
     "name": "stdout",
     "output_type": "stream",
     "text": [
      "0:\tlearn: 4.3425089\ttest: 3.6344198\tbest: 3.6344198 (0)\ttotal: 19.1s\tremaining: 1d 2h 29m 38s\n",
      "100:\tlearn: 2.6235953\ttest: 2.2982784\tbest: 2.2982784 (100)\ttotal: 30m 43s\tremaining: 1d 50m 9s\n",
      "200:\tlearn: 2.5570195\ttest: 2.2862304\tbest: 2.2860245 (195)\ttotal: 1h 1m 12s\tremaining: 1d 21m 19s\n",
      "300:\tlearn: 2.5098917\ttest: 2.2819123\tbest: 2.2817644 (287)\ttotal: 1h 31m 35s\tremaining: 23h 49m 51s\n",
      "400:\tlearn: 2.4777572\ttest: 2.2795704\tbest: 2.2795704 (400)\ttotal: 2h 1m 52s\tremaining: 23h 17m 45s\n",
      "500:\tlearn: 2.4507601\ttest: 2.2781937\tbest: 2.2781754 (499)\ttotal: 2h 32m 1s\tremaining: 22h 45m 14s\n",
      "600:\tlearn: 2.4266119\ttest: 2.2781085\tbest: 2.2777517 (577)\ttotal: 3h 2m 15s\tremaining: 22h 14m 1s\n",
      "700:\tlearn: 2.4048271\ttest: 2.2787548\tbest: 2.2776528 (625)\ttotal: 3h 32m 26s\tremaining: 21h 42m 49s\n",
      "800:\tlearn: 2.3876826\ttest: 2.2788025\tbest: 2.2776528 (625)\ttotal: 4h 2m 34s\tremaining: 21h 11m 39s\n",
      "900:\tlearn: 2.3717647\ttest: 2.2787615\tbest: 2.2776528 (625)\ttotal: 4h 32m 42s\tremaining: 20h 40m 38s\n",
      "Stopped by overfitting detector  (300 iterations wait)\n",
      "\n",
      "bestTest = 2.277652811\n",
      "bestIteration = 625\n",
      "\n",
      "Shrink model to first 626 iterations.\n"
     ]
    },
    {
     "data": {
      "text/plain": [
       "<catboost.core.CatBoostRegressor at 0x7ff260996d90>"
      ]
     },
     "execution_count": 70,
     "metadata": {},
     "output_type": "execute_result"
    }
   ],
   "source": [
    "gbt_regressor.fit(dev_pool, eval_set=val_pool, early_stopping_rounds=300, plot = True, verbose=100)"
   ]
  },
  {
   "cell_type": "code",
   "execution_count": 71,
   "id": "5f4db8f1",
   "metadata": {
    "execution": {
     "iopub.execute_input": "2021-11-24T13:57:27.864358Z",
     "iopub.status.busy": "2021-11-24T13:57:27.854624Z",
     "iopub.status.idle": "2021-11-24T13:57:28.495824Z",
     "shell.execute_reply": "2021-11-24T13:57:28.496310Z"
    },
    "papermill": {
     "duration": 0.725463,
     "end_time": "2021-11-24T13:57:28.496477",
     "exception": false,
     "start_time": "2021-11-24T13:57:27.771014",
     "status": "completed"
    },
    "tags": []
   },
   "outputs": [
    {
     "data": {
      "text/plain": [
       "<BarContainer object of 27 artists>"
      ]
     },
     "execution_count": 71,
     "metadata": {},
     "output_type": "execute_result"
    },
    {
     "data": {
      "image/png": "[encoded data removed]",
      "text/plain": [
       "<Figure size 1728x720 with 1 Axes>"
      ]
     },
     "metadata": {
      "needs_background": "light"
     },
     "output_type": "display_data"
    }
   ],
   "source": [
    "from matplotlib import pyplot as plt\n",
    "plt.figure(figsize=(24,10))\n",
    "plt.barh(gbt_regressor.feature_names_, gbt_regressor.feature_importances_)"
   ]
  },
  {
   "cell_type": "code",
   "execution_count": 72,
   "id": "3a30cfb2",
   "metadata": {
    "execution": {
     "iopub.execute_input": "2021-11-24T13:57:29.229369Z",
     "iopub.status.busy": "2021-11-24T13:57:29.228450Z",
     "iopub.status.idle": "2021-11-24T13:57:29.233660Z",
     "shell.execute_reply": "2021-11-24T13:57:29.233133Z"
    },
    "papermill": {
     "duration": 0.677333,
     "end_time": "2021-11-24T13:57:29.233801",
     "exception": false,
     "start_time": "2021-11-24T13:57:28.556468",
     "status": "completed"
    },
    "tags": []
   },
   "outputs": [
    {
     "data": {
      "text/plain": [
       "41"
      ]
     },
     "execution_count": 72,
     "metadata": {},
     "output_type": "execute_result"
    }
   ],
   "source": [
    "del dev_pool\n",
    "gc.collect()"
   ]
  },
  {
   "cell_type": "code",
   "execution_count": 73,
   "id": "d432b721",
   "metadata": {
    "execution": {
     "iopub.execute_input": "2021-11-24T13:57:29.368826Z",
     "iopub.status.busy": "2021-11-24T13:57:29.368166Z",
     "iopub.status.idle": "2021-11-24T13:57:29.370347Z",
     "shell.execute_reply": "2021-11-24T13:57:29.369874Z"
    },
    "papermill": {
     "duration": 0.075922,
     "end_time": "2021-11-24T13:57:29.370480",
     "exception": false,
     "start_time": "2021-11-24T13:57:29.294558",
     "status": "completed"
    },
    "tags": []
   },
   "outputs": [],
   "source": [
    "cbr = cb.CatBoostRegressor(iterations=int(gbt_regressor.get_best_iteration() * tr_val_ratio),\n",
    "                            learning_rate=0.1,\n",
    "                            depth=10,\n",
    "                            l2_leaf_reg=3.5,\n",
    "                            model_size_reg=0,\n",
    "                            rsm=None,\n",
    "                            loss_function='RMSE',\n",
    "                            border_count=None,\n",
    "                            feature_border_type='UniformAndQuantiles',\n",
    "                            per_float_feature_quantization=None,\n",
    "                            input_borders=None,\n",
    "                            output_borders=None,\n",
    "                            fold_permutation_block=1,\n",
    "                            od_pval=None,\n",
    "                            od_wait=None,\n",
    "                            od_type=None,\n",
    "                            nan_mode=None,\n",
    "                            counter_calc_method=None,\n",
    "                            leaf_estimation_iterations=1,\n",
    "                            leaf_estimation_method='Newton',\n",
    "                            thread_count=4,\n",
    "                            random_seed=42,\n",
    "                            use_best_model=None,\n",
    "                            best_model_min_trees=None,\n",
    "                            verbose=None,\n",
    "                            silent=None,\n",
    "                            logging_level=None,\n",
    "                            metric_period=None,\n",
    "                            ctr_leaf_count_limit=None,\n",
    "                            store_all_simple_ctr=None,\n",
    "                            max_ctr_complexity=None,\n",
    "                            has_time=True,\n",
    "                            allow_const_label=None,\n",
    "                            one_hot_max_size=None,\n",
    "                            random_strength=1,\n",
    "                            name=None,\n",
    "                            ignored_features=None,\n",
    "                            train_dir=None,\n",
    "                            custom_metric=None,\n",
    "                            eval_metric='RMSE',\n",
    "                            bagging_temperature=None,\n",
    "                            save_snapshot=None,\n",
    "                            snapshot_file=None,\n",
    "                            snapshot_interval=None,\n",
    "                            fold_len_multiplier=2,\n",
    "                            used_ram_limit='15gb',\n",
    "                            gpu_ram_part=None,\n",
    "                            pinned_memory_size=None,\n",
    "                            allow_writing_files=False,\n",
    "                            final_ctr_computation_mode=None,\n",
    "                            approx_on_full_history=None,\n",
    "                            boosting_type='Plain',\n",
    "                            simple_ctr=None,\n",
    "                            combinations_ctr=None,\n",
    "                            per_feature_ctr=None,\n",
    "                            ctr_target_border_count=None,\n",
    "                            task_type='CPU',\n",
    "                            device_config=None,                        \n",
    "                            devices=None,\n",
    "                            bootstrap_type='MVS',\n",
    "                            subsample=0.8,                        \n",
    "                            sampling_unit=None,\n",
    "                            dev_score_calc_obj_block_size=None,\n",
    "                            max_depth=None,\n",
    "                            n_estimators=None,\n",
    "                            num_boost_round=None,\n",
    "                            num_trees=None,\n",
    "                            colsample_bylevel=None,\n",
    "                            random_state=None,\n",
    "                            reg_lambda=None,\n",
    "                            objective=None,\n",
    "                            eta=None,\n",
    "                            max_bin=254,\n",
    "                            gpu_cat_features_storage=None,\n",
    "                            data_partition=None,\n",
    "                            metadata=None,\n",
    "                            early_stopping_rounds=None,\n",
    "                            cat_features=None,\n",
    "                            grow_policy=None,\n",
    "                            min_data_in_leaf=None,\n",
    "                            min_child_samples=None,\n",
    "                            max_leaves=None,\n",
    "                            num_leaves=None,\n",
    "                            score_function='L2',\n",
    "                            leaf_estimation_backtracking=None,\n",
    "                            ctr_history_unit=None,\n",
    "                            sampling_frequency='PerTreeLevel',\n",
    "                            monotone_constraints=None,\n",
    "                            feature_weights=None,\n",
    "                            penalties_coefficient=None,\n",
    "                            first_feature_use_penalties=None,\n",
    "                            model_shrink_rate=1e-5,\n",
    "                            model_shrink_mode='Constant',\n",
    "                            langevin=True,\n",
    "                            diffusion_temperature=1e2,\n",
    "                            posterior_sampling=None,\n",
    "                            boost_from_average=False)"
   ]
  },
  {
   "cell_type": "code",
   "execution_count": 74,
   "id": "09bd9351",
   "metadata": {
    "execution": {
     "iopub.execute_input": "2021-11-24T13:57:29.496747Z",
     "iopub.status.busy": "2021-11-24T13:57:29.496135Z",
     "iopub.status.idle": "2021-11-24T14:27:01.161673Z",
     "shell.execute_reply": "2021-11-24T14:27:01.161176Z"
    },
    "papermill": {
     "duration": 1771.731499,
     "end_time": "2021-11-24T14:27:01.161834",
     "exception": false,
     "start_time": "2021-11-24T13:57:29.430335",
     "status": "completed"
    },
    "tags": []
   },
   "outputs": [
    {
     "name": "stderr",
     "output_type": "stream",
     "text": [
      "Model shrinkage in combination with learning continuation is not implemented yet. Reset model_shrink_rate to 0.\n"
     ]
    },
    {
     "name": "stdout",
     "output_type": "stream",
     "text": [
      "0:\tlearn: 2.2725744\ttotal: 7.68s\tremaining: 31m 20s\n",
      "10:\tlearn: 2.2411194\ttotal: 1m 18s\tremaining: 27m 57s\n",
      "20:\tlearn: 2.2223862\ttotal: 2m 29s\tremaining: 26m 41s\n",
      "30:\tlearn: 2.2074359\ttotal: 3m 41s\tremaining: 25m 37s\n",
      "40:\tlearn: 2.1961044\ttotal: 4m 52s\tremaining: 24m 21s\n",
      "50:\tlearn: 2.1884930\ttotal: 6m 2s\tremaining: 23m 7s\n",
      "60:\tlearn: 2.1798727\ttotal: 7m 13s\tremaining: 21m 54s\n",
      "70:\tlearn: 2.1730026\ttotal: 8m 24s\tremaining: 20m 44s\n",
      "80:\tlearn: 2.1675520\ttotal: 9m 35s\tremaining: 19m 33s\n",
      "90:\tlearn: 2.1616483\ttotal: 10m 52s\tremaining: 18m 30s\n",
      "100:\tlearn: 2.1558470\ttotal: 12m 3s\tremaining: 17m 18s\n",
      "110:\tlearn: 2.1503172\ttotal: 13m 14s\tremaining: 16m 6s\n",
      "120:\tlearn: 2.1447764\ttotal: 14m 25s\tremaining: 14m 53s\n",
      "130:\tlearn: 2.1387880\ttotal: 15m 36s\tremaining: 13m 42s\n",
      "140:\tlearn: 2.1318708\ttotal: 16m 47s\tremaining: 12m 30s\n",
      "150:\tlearn: 2.1280910\ttotal: 17m 59s\tremaining: 11m 18s\n",
      "160:\tlearn: 2.1237277\ttotal: 19m 10s\tremaining: 10m 7s\n",
      "170:\tlearn: 2.1190151\ttotal: 20m 20s\tremaining: 8m 55s\n",
      "180:\tlearn: 2.1146837\ttotal: 21m 31s\tremaining: 7m 43s\n",
      "190:\tlearn: 2.1109411\ttotal: 22m 41s\tremaining: 6m 32s\n",
      "200:\tlearn: 2.1078774\ttotal: 23m 51s\tremaining: 5m 20s\n",
      "210:\tlearn: 2.1032750\ttotal: 25m 2s\tremaining: 4m 9s\n",
      "220:\tlearn: 2.0992929\ttotal: 26m 13s\tremaining: 2m 57s\n",
      "230:\tlearn: 2.0960472\ttotal: 27m 24s\tremaining: 1m 46s\n",
      "240:\tlearn: 2.0918595\ttotal: 28m 34s\tremaining: 35.6s\n",
      "245:\tlearn: 2.0898058\ttotal: 29m 10s\tremaining: 0us\n"
     ]
    },
    {
     "data": {
      "text/plain": [
       "<catboost.core.CatBoostRegressor at 0x7ff25fd7e510>"
      ]
     },
     "execution_count": 74,
     "metadata": {},
     "output_type": "execute_result"
    }
   ],
   "source": [
    "cbr.fit(val_pool, verbose=10, init_model=gbt_regressor)"
   ]
  },
  {
   "cell_type": "code",
   "execution_count": 75,
   "id": "bcd11a62",
   "metadata": {
    "execution": {
     "iopub.execute_input": "2021-11-24T14:27:01.532305Z",
     "iopub.status.busy": "2021-11-24T14:27:01.531302Z",
     "iopub.status.idle": "2021-11-24T14:27:01.536279Z",
     "shell.execute_reply": "2021-11-24T14:27:01.536729Z"
    },
    "papermill": {
     "duration": 0.30657,
     "end_time": "2021-11-24T14:27:01.536980",
     "exception": false,
     "start_time": "2021-11-24T14:27:01.230410",
     "status": "completed"
    },
    "tags": []
   },
   "outputs": [
    {
     "data": {
      "text/plain": [
       "42"
      ]
     },
     "execution_count": 75,
     "metadata": {},
     "output_type": "execute_result"
    }
   ],
   "source": [
    "del val_pool, gbt_regressor\n",
    "gc.collect()"
   ]
  },
  {
   "cell_type": "code",
   "execution_count": 76,
   "id": "de0f8ab5",
   "metadata": {
    "execution": {
     "iopub.execute_input": "2021-11-24T14:27:01.729549Z",
     "iopub.status.busy": "2021-11-24T14:27:01.728717Z",
     "iopub.status.idle": "2021-11-24T14:27:13.842082Z",
     "shell.execute_reply": "2021-11-24T14:27:13.841350Z"
    },
    "papermill": {
     "duration": 12.225981,
     "end_time": "2021-11-24T14:27:13.842245",
     "exception": false,
     "start_time": "2021-11-24T14:27:01.616264",
     "status": "completed"
    },
    "tags": []
   },
   "outputs": [],
   "source": [
    "X_test['demand'] = np.maximum(cbr.predict(X_test.drop(['date', 'id'], axis=1)), 0)"
   ]
  },
  {
   "cell_type": "code",
   "execution_count": 77,
   "id": "ef69d4cc",
   "metadata": {
    "execution": {
     "iopub.execute_input": "2021-11-24T14:27:14.116618Z",
     "iopub.status.busy": "2021-11-24T14:27:14.115379Z",
     "iopub.status.idle": "2021-11-24T14:27:14.120474Z",
     "shell.execute_reply": "2021-11-24T14:27:14.119956Z"
    },
    "papermill": {
     "duration": 0.210735,
     "end_time": "2021-11-24T14:27:14.120611",
     "exception": false,
     "start_time": "2021-11-24T14:27:13.909876",
     "status": "completed"
    },
    "tags": []
   },
   "outputs": [
    {
     "data": {
      "text/plain": [
       "42"
      ]
     },
     "execution_count": 77,
     "metadata": {},
     "output_type": "execute_result"
    }
   ],
   "source": [
    "del cbr\n",
    "gc.collect()"
   ]
  },
  {
   "cell_type": "code",
   "execution_count": 78,
   "id": "686f90c8",
   "metadata": {
    "execution": {
     "iopub.execute_input": "2021-11-24T14:27:14.262581Z",
     "iopub.status.busy": "2021-11-24T14:27:14.261958Z",
     "iopub.status.idle": "2021-11-24T14:27:14.620597Z",
     "shell.execute_reply": "2021-11-24T14:27:14.620100Z"
    },
    "papermill": {
     "duration": 0.430924,
     "end_time": "2021-11-24T14:27:14.620755",
     "exception": false,
     "start_time": "2021-11-24T14:27:14.189831",
     "status": "completed"
    },
    "tags": []
   },
   "outputs": [],
   "source": [
    "submission = pd.read_csv(\"../input/m5-forecasting-accuracy/sample_submission.csv\")"
   ]
  },
  {
   "cell_type": "code",
   "execution_count": 79,
   "id": "84f059b5",
   "metadata": {
    "execution": {
     "iopub.execute_input": "2021-11-24T14:27:14.763262Z",
     "iopub.status.busy": "2021-11-24T14:27:14.762281Z",
     "iopub.status.idle": "2021-11-24T14:27:16.802532Z",
     "shell.execute_reply": "2021-11-24T14:27:16.801800Z"
    },
    "papermill": {
     "duration": 2.113996,
     "end_time": "2021-11-24T14:27:16.802695",
     "exception": false,
     "start_time": "2021-11-24T14:27:14.688699",
     "status": "completed"
    },
    "tags": []
   },
   "outputs": [],
   "source": [
    "predictions = X_test.pivot_table(index='id', columns='date', values='demand').reset_index()"
   ]
  },
  {
   "cell_type": "code",
   "execution_count": 80,
   "id": "4d64479f",
   "metadata": {
    "execution": {
     "iopub.execute_input": "2021-11-24T14:27:17.109087Z",
     "iopub.status.busy": "2021-11-24T14:27:17.108393Z",
     "iopub.status.idle": "2021-11-24T14:27:17.114953Z",
     "shell.execute_reply": "2021-11-24T14:27:17.114299Z"
    },
    "papermill": {
     "duration": 0.242482,
     "end_time": "2021-11-24T14:27:17.115115",
     "exception": false,
     "start_time": "2021-11-24T14:27:16.872633",
     "status": "completed"
    },
    "tags": []
   },
   "outputs": [
    {
     "data": {
      "text/plain": [
       "21"
      ]
     },
     "execution_count": 80,
     "metadata": {},
     "output_type": "execute_result"
    }
   ],
   "source": [
    "del X_test\n",
    "gc.collect()"
   ]
  },
  {
   "cell_type": "code",
   "execution_count": 81,
   "id": "cf078bbe",
   "metadata": {
    "execution": {
     "iopub.execute_input": "2021-11-24T14:27:17.261335Z",
     "iopub.status.busy": "2021-11-24T14:27:17.260684Z",
     "iopub.status.idle": "2021-11-24T14:27:17.264629Z",
     "shell.execute_reply": "2021-11-24T14:27:17.264144Z"
    },
    "papermill": {
     "duration": 0.080736,
     "end_time": "2021-11-24T14:27:17.264785",
     "exception": false,
     "start_time": "2021-11-24T14:27:17.184049",
     "status": "completed"
    },
    "tags": []
   },
   "outputs": [],
   "source": [
    "def get_sub(predictions, submission):\n",
    "    \n",
    "    new_cols = [f'F{i}' for i in range(1, 29)]\n",
    "    validation = predictions.copy()\n",
    "    validation = validation[validation.columns[1:29]]\n",
    "    validation = validation.rename({k: v for k, v in zip(validation.columns, new_cols)}, axis=1)\n",
    "    validation['id'] = predictions['id'].apply(lambda x: x + '_validation')\n",
    "    \n",
    "    evaluation = predictions.copy()\n",
    "    evaluation = evaluation[evaluation.columns[29:]]\n",
    "    evaluation = evaluation.rename({k: v for k, v in zip(evaluation.columns, new_cols)}, axis=1)\n",
    "    evaluation['id'] = predictions['id'].apply(lambda x: x + '_evaluation')\n",
    "    \n",
    "    sub_1 = pd.merge(submission.loc[:30489, 'id'], validation, how='left')\n",
    "    sub_2 = pd.merge(submission.loc[30490:, 'id'], evaluation, how='left')\n",
    "    \n",
    "    return pd.concat([sub_1, sub_2], axis=0)"
   ]
  },
  {
   "cell_type": "code",
   "execution_count": 82,
   "id": "66049f0b",
   "metadata": {
    "execution": {
     "iopub.execute_input": "2021-11-24T14:27:17.405705Z",
     "iopub.status.busy": "2021-11-24T14:27:17.405092Z",
     "iopub.status.idle": "2021-11-24T14:27:17.623125Z",
     "shell.execute_reply": "2021-11-24T14:27:17.622456Z"
    },
    "papermill": {
     "duration": 0.290624,
     "end_time": "2021-11-24T14:27:17.623303",
     "exception": false,
     "start_time": "2021-11-24T14:27:17.332679",
     "status": "completed"
    },
    "tags": []
   },
   "outputs": [],
   "source": [
    "submission = get_sub(predictions, submission)"
   ]
  },
  {
   "cell_type": "code",
   "execution_count": 83,
   "id": "f7a1ac5a",
   "metadata": {
    "execution": {
     "iopub.execute_input": "2021-11-24T14:27:17.770332Z",
     "iopub.status.busy": "2021-11-24T14:27:17.769625Z",
     "iopub.status.idle": "2021-11-24T14:27:20.462467Z",
     "shell.execute_reply": "2021-11-24T14:27:20.461814Z"
    },
    "papermill": {
     "duration": 2.7681,
     "end_time": "2021-11-24T14:27:20.462628",
     "exception": false,
     "start_time": "2021-11-24T14:27:17.694528",
     "status": "completed"
    },
    "tags": []
   },
   "outputs": [],
   "source": [
    "submission.to_csv('submission.csv', index=False)"
   ]
  },
  {
   "cell_type": "code",
   "execution_count": null,
   "id": "ad79b243",
   "metadata": {
    "papermill": {
     "duration": 0.068404,
     "end_time": "2021-11-24T14:27:20.601372",
     "exception": false,
     "start_time": "2021-11-24T14:27:20.532968",
     "status": "completed"
    },
    "tags": []
   },
   "outputs": [],
   "source": []
  }
 ],
 "metadata": {
  "kernelspec": {
   "display_name": "Python 3",
   "language": "python",
   "name": "python3"
  },
  "language_info": {
   "codemirror_mode": {
    "name": "ipython",
    "version": 3
   },
   "file_extension": ".py",
   "mimetype": "text/x-python",
   "name": "python",
   "nbconvert_exporter": "python",
   "pygments_lexer": "ipython3",
   "version": "3.7.10"
  },
  "papermill": {
   "default_parameters": {},
   "duration": 19436.26807,
   "end_time": "2021-11-24T14:27:22.723894",
   "environment_variables": {},
   "exception": null,
   "input_path": "__notebook__.ipynb",
   "output_path": "__notebook__.ipynb",
   "parameters": {},
   "start_time": "2021-11-24T09:03:26.455824",
   "version": "2.3.3"
  },
  "widgets": {
   "application/vnd.jupyter.widget-state+json": {
    "state": {
     "512ec6017bb84412abb2ca2fe93fe1b9": {
      "model_module": "@jupyter-widgets/base",
      "model_module_version": "1.2.0",
      "model_name": "LayoutModel",
      "state": {
       "_model_module": "@jupyter-widgets/base",
       "_model_module_version": "1.2.0",
       "_model_name": "LayoutModel",
       "_view_count": null,
       "_view_module": "@jupyter-widgets/base",
       "_view_module_version": "1.2.0",
       "_view_name": "LayoutView",
       "align_content": null,
       "align_items": null,
       "align_self": "stretch",
       "border": null,
       "bottom": null,
       "display": null,
       "flex": null,
       "flex_flow": null,
       "grid_area": null,
       "grid_auto_columns": null,
       "grid_auto_flow": null,
       "grid_auto_rows": null,
       "grid_column": null,
       "grid_gap": null,
       "grid_row": null,
       "grid_template_areas": null,
       "grid_template_columns": null,
       "grid_template_rows": null,
       "height": "500px",
       "justify_content": null,
       "justify_items": null,
       "left": null,
       "margin": null,
       "max_height": null,
       "max_width": null,
       "min_height": null,
       "min_width": null,
       "object_fit": null,
       "object_position": null,
       "order": null,
       "overflow": null,
       "overflow_x": null,
       "overflow_y": null,
       "padding": null,
       "right": null,
       "top": null,
       "visibility": null,
       "width": null
      }
     },
     "ac11d492add747fbbe4e486e7945818e": {
      "model_module": "catboost-widget",
      "model_module_version": "^1.0.0",
      "model_name": "CatboostWidgetModel",
      "state": {
       "_dom_classes": [],
       "_model_module": "catboost-widget",
       "_model_module_version": "^1.0.0",
       "_model_name": "CatboostWidgetModel",
       "_view_count": null,
       "_view_module": "catboost-widget",
       "_view_module_version": "^1.0.0",
       "_view_name": "CatboostWidgetView",
       "data": {
        "catboost_info": {
         "content": {
          "data": {
           "iterations": [],
           "meta": {}
          },
          "passed_iterations": 0,
          "total_iterations": 0
         },
         "name": "catboost_info",
         "path": "catboost_info"
        }
       },
       "layout": "IPY_MODEL_512ec6017bb84412abb2ca2fe93fe1b9"
      }
     }
    },
    "version_major": 2,
    "version_minor": 0
   }
  }
 },
 "nbformat": 4,
 "nbformat_minor": 5
}
