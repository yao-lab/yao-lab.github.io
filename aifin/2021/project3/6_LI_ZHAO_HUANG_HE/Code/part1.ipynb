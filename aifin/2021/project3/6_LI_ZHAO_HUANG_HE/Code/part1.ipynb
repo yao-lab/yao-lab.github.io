{
 "cells": [
  {
   "cell_type": "markdown",
   "id": "f71e9046",
   "metadata": {
    "_cell_guid": "b1076dfc-b9ad-4769-8c92-a6c4dae69d19",
    "_uuid": "8f2839f25d086af736a60e9eeb907d3b93b6e0e5",
    "execution": {
     "iopub.execute_input": "2021-11-18T14:49:46.954127Z",
     "iopub.status.busy": "2021-11-18T14:49:46.953141Z",
     "iopub.status.idle": "2021-11-18T14:49:46.959995Z",
     "shell.execute_reply": "2021-11-18T14:49:46.960466Z",
     "shell.execute_reply.started": "2021-11-18T14:43:14.484095Z"
    },
    "papermill": {
     "duration": 0.044465,
     "end_time": "2021-11-18T14:49:46.960745",
     "exception": false,
     "start_time": "2021-11-18T14:49:46.916280",
     "status": "completed"
    },
    "tags": []
   },
   "source": [
    "# Project 3 part 1\n",
    "Work flow: Feature engineering, Features selection by linear model, *Polynomial Logistic Regression*, GAN (for **Result Enhancing**)\n",
    "\n",
    "Author: ZHAO JUNDA"
   ]
  },
  {
   "cell_type": "markdown",
   "id": "0711ab08",
   "metadata": {},
   "source": [
    "## Data loading"
   ]
  },
  {
   "cell_type": "code",
   "execution_count": null,
   "id": "359e15a4",
   "metadata": {},
   "outputs": [],
   "source": [
    "# 导入必要的包\n",
    "import numpy as np\n",
    "import pandas as pd \n",
    "\n",
    "import os\n",
    "for dirname, _, filenames in os.walk('/kaggle/input'):\n",
    "    for filename in filenames:\n",
    "        print(os.path.join(dirname, filename))# Project 3 part 3\n",
    "Work flow: LightGBM (final model)\n",
    "\n",
    "Author: HE HAOKAI"
   ]
  },
  {
   "cell_type": "code",
   "execution_count": 2,
   "id": "878644a8",
   "metadata": {
    "execution": {
     "iopub.execute_input": "2021-11-18T14:49:47.017328Z",
     "iopub.status.busy": "2021-11-18T14:49:47.016048Z",
     "iopub.status.idle": "2021-11-18T14:49:49.280936Z",
     "shell.execute_reply": "2021-11-18T14:49:49.279728Z",
     "shell.execute_reply.started": "2021-11-18T14:43:14.519563Z"
    },
    "papermill": {
     "duration": 2.29761,
     "end_time": "2021-11-18T14:49:49.281109",
     "exception": false,
     "start_time": "2021-11-18T14:49:46.983499",
     "status": "completed"
    },
    "tags": []
   },
   "outputs": [],
   "source": [
    "# 导入必要的包\n",
    "import pandas as pd\n",
    "import numpy as np\n",
    "import matplotlib as mpl\n",
    "import matplotlib.pyplot as plt\n",
    "import seaborn as sns\n",
    "\n",
    "from sklearn import datasets\n",
    "from sklearn.model_selection import train_test_split\n",
    "import numpy as np\n",
    "from sklearn.metrics import roc_auc_score, accuracy_score\n",
    "\n",
    "\n",
    "from sklearn import datasets\n",
    "\n",
    "\n",
    "from sklearn.preprocessing import LabelEncoder\n",
    "\n",
    "import sklearn.linear_model as skl_lm\n",
    "from sklearn.discriminant_analysis import LinearDiscriminantAnalysis\n",
    "from sklearn.discriminant_analysis import QuadraticDiscriminantAnalysis\n",
    "from sklearn.metrics import confusion_matrix, classification_report, precision_score, roc_curve, auc\n",
    "from sklearn import preprocessing\n",
    "from sklearn import neighbors\n",
    "\n",
    "import statsmodels.api as sm\n",
    "import statsmodels.formula.api as smf\n",
    "\n",
    "pd.set_option('display.notebook_repr_html', False)\n",
    "\n",
    "%matplotlib inline\n",
    "plt.style.use('seaborn-white')"
   ]
  },
  {
   "cell_type": "code",
   "execution_count": 227,
   "id": "7ca45eea",
   "metadata": {},
   "outputs": [],
   "source": [
    "import pandas as pd\n",
    "import numpy as np\n",
    "import scipy\n",
    "\n",
    "import statsmodels.api as sm\n",
    "\n",
    "import matplotlib.pyplot as plt\n",
    "import seaborn as sns\n",
    "import glmnet as gln\n",
    "\n",
    "from tqdm.notebook import tqdm # a python package that provides progress bars for iterables\n",
    "from operator import itemgetter\n",
    "from itertools import combinations\n",
    "\n",
    "from sklearn.preprocessing import scale \n",
    "from sklearn import model_selection\n",
    "from sklearn.linear_model import LinearRegression, Ridge, RidgeCV, Lasso, LassoCV\n",
    "from sklearn.decomposition import PCA\n",
    "from sklearn.cross_decomposition import PLSRegression\n",
    "from sklearn.model_selection import KFold\n",
    "from sklearn.metrics import mean_squared_error"
   ]
  },
  {
   "cell_type": "code",
   "execution_count": 529,
   "id": "eb96cc8b",
   "metadata": {
    "execution": {
     "iopub.execute_input": "2021-11-18T14:49:49.329303Z",
     "iopub.status.busy": "2021-11-18T14:49:49.328240Z",
     "iopub.status.idle": "2021-11-18T14:49:56.315619Z",
     "shell.execute_reply": "2021-11-18T14:49:56.315074Z",
     "shell.execute_reply.started": "2021-11-18T14:43:16.839969Z"
    },
    "papermill": {
     "duration": 7.012254,
     "end_time": "2021-11-18T14:49:56.315770",
     "exception": false,
     "start_time": "2021-11-18T14:49:49.303516",
     "status": "completed"
    },
    "tags": []
   },
   "outputs": [],
   "source": [
    "#导入数据\n",
    "app_train = pd.read_csv('application_train.csv')\n",
    "app_test = pd.read_csv('application_test.csv')\n"
   ]
  },
  {
   "cell_type": "code",
   "execution_count": 530,
   "id": "32ea3f42",
   "metadata": {
    "execution": {
     "iopub.execute_input": "2021-11-18T14:49:56.374959Z",
     "iopub.status.busy": "2021-11-18T14:49:56.374118Z",
     "iopub.status.idle": "2021-11-18T14:49:56.377818Z",
     "shell.execute_reply": "2021-11-18T14:49:56.378346Z",
     "shell.execute_reply.started": "2021-11-18T14:43:23.848994Z"
    },
    "papermill": {
     "duration": 0.040935,
     "end_time": "2021-11-18T14:49:56.378529",
     "exception": false,
     "start_time": "2021-11-18T14:49:56.337594",
     "status": "completed"
    },
    "tags": []
   },
   "outputs": [
    {
     "data": {
      "text/plain": [
       "float64    65\n",
       "int64      41\n",
       "object     16\n",
       "dtype: int64"
      ]
     },
     "execution_count": 530,
     "metadata": {},
     "output_type": "execute_result"
    }
   ],
   "source": [
    "# 检查train data中的数据类型\n",
    "app_train.dtypes.value_counts()"
   ]
  },
  {
   "cell_type": "code",
   "execution_count": 531,
   "id": "70d7b540",
   "metadata": {
    "execution": {
     "iopub.execute_input": "2021-11-18T14:49:56.451535Z",
     "iopub.status.busy": "2021-11-18T14:49:56.430977Z",
     "iopub.status.idle": "2021-11-18T14:49:57.364135Z",
     "shell.execute_reply": "2021-11-18T14:49:57.364616Z",
     "shell.execute_reply.started": "2021-11-18T14:46:34.846642Z"
    },
    "papermill": {
     "duration": 0.964333,
     "end_time": "2021-11-18T14:49:57.364799",
     "exception": false,
     "start_time": "2021-11-18T14:49:56.400466",
     "status": "completed"
    },
    "tags": []
   },
   "outputs": [
    {
     "name": "stdout",
     "output_type": "stream",
     "text": [
      "3 columns were label encoded.\n"
     ]
    }
   ],
   "source": [
    "# 编码种类不超过2的分类变量\n",
    "le = LabelEncoder()\n",
    "le_count = 0\n",
    " \n",
    "# Iterate through the columns\n",
    "for col in app_train:\n",
    "    if app_train[col].dtype == 'object':\n",
    "        # If 2 or fewer unique categories\n",
    "        if len(list(app_train[col].unique())) <= 2:\n",
    "            # Train on the training data\n",
    "            le.fit(app_train[col])\n",
    "            # Transform both training and testing data\n",
    "            app_train[col] = le.transform(app_train[col])\n",
    "            app_test[col] = le.transform(app_test[col])\n",
    "            \n",
    "            # Keep track of how many columns were label encoded\n",
    "            le_count += 1\n",
    "            \n",
    "print('%d columns were label encoded.' % le_count)"
   ]
  },
  {
   "cell_type": "code",
   "execution_count": 532,
   "id": "468854cb",
   "metadata": {
    "execution": {
     "iopub.execute_input": "2021-11-18T14:49:57.417201Z",
     "iopub.status.busy": "2021-11-18T14:49:57.416497Z",
     "iopub.status.idle": "2021-11-18T14:49:58.431291Z",
     "shell.execute_reply": "2021-11-18T14:49:58.430545Z",
     "shell.execute_reply.started": "2021-11-18T14:46:38.614103Z"
    },
    "papermill": {
     "duration": 1.04354,
     "end_time": "2021-11-18T14:49:58.431483",
     "exception": false,
     "start_time": "2021-11-18T14:49:57.387943",
     "status": "completed"
    },
    "tags": []
   },
   "outputs": [
    {
     "name": "stdout",
     "output_type": "stream",
     "text": [
      "Training Features shape:  (307511, 243)\n",
      "Testing Features shape:  (48744, 239)\n"
     ]
    }
   ],
   "source": [
    "#处理性别变量\n",
    "app_train = pd.get_dummies(app_train)\n",
    "app_test = pd.get_dummies(app_test)\n",
    " \n",
    "print('Training Features shape: ', app_train.shape)\n",
    "print('Testing Features shape: ', app_test.shape)"
   ]
  },
  {
   "cell_type": "code",
   "execution_count": 533,
   "id": "c7867310",
   "metadata": {
    "execution": {
     "iopub.execute_input": "2021-11-18T14:49:58.485947Z",
     "iopub.status.busy": "2021-11-18T14:49:58.485261Z",
     "iopub.status.idle": "2021-11-18T14:49:58.837345Z",
     "shell.execute_reply": "2021-11-18T14:49:58.837913Z",
     "shell.execute_reply.started": "2021-11-18T14:46:50.403829Z"
    },
    "papermill": {
     "duration": 0.380818,
     "end_time": "2021-11-18T14:49:58.838097",
     "exception": false,
     "start_time": "2021-11-18T14:49:58.457279",
     "status": "completed"
    },
    "tags": []
   },
   "outputs": [
    {
     "name": "stdout",
     "output_type": "stream",
     "text": [
      "Training Features shape:  (307511, 240)\n",
      "Testing Features shape:  (48744, 239)\n"
     ]
    }
   ],
   "source": [
    "targ = app_train['TARGET'] #save the column \"TARGET\"\n",
    " \n",
    "# Align the training and testing data, keep only columns present in both dataframes\n",
    "app_train, app_test = app_train.align(app_test, join = 'inner', axis = 1)\n",
    " \n",
    "# Add the target back to the train data\n",
    "app_train['TARGET'] = targ\n",
    " \n",
    "print('Training Features shape: ', app_train.shape)\n",
    "print('Testing Features shape: ', app_test.shape)"
   ]
  },
  {
   "cell_type": "markdown",
   "id": "ce2246a1",
   "metadata": {},
   "source": [
    "## forward step selection"
   ]
  },
  {
   "cell_type": "code",
   "execution_count": null,
   "id": "275abca3",
   "metadata": {},
   "outputs": [],
   "source": [
    "# Even though we found some null data in the train data, we can still use correlations to select appropriate variables\n",
    "# Find correlations beween variables with the target \n",
    "# and rank them in order to pick up variables relatively highly related to the response\n",
    "\n",
    "correlations = app_train.corr()['TARGET'].sort_values()"
   ]
  },
  {
   "cell_type": "code",
   "execution_count": null,
   "id": "2fdf5a66",
   "metadata": {},
   "outputs": [],
   "source": [
    "print('Variables with TOP 15 Positive Correlation coefficient:\\n', correlations.tail(15))\n",
    "print('\\nVariables with TOP 15 Negative Correlation coefficient:\\n', correlations.head(15))"
   ]
  },
  {
   "cell_type": "code",
   "execution_count": null,
   "id": "1ec14eaf",
   "metadata": {},
   "outputs": [],
   "source": [
    "list(correlations.head(15).index)+list(correlations.tail(15).index)"
   ]
  },
  {
   "cell_type": "code",
   "execution_count": null,
   "id": "a28a2e7d",
   "metadata": {},
   "outputs": [],
   "source": [
    "poly_features = app_train[list(correlations.head(15).index)+list(correlations.tail(15).index)]\n",
    "poly_features_test = app_test[list(correlations.head(15).index)+list(correlations.tail(15).index)[:-1]]\n",
    "# To avoid those null data affect the regression model, we need to replace them with appropriate values    \n",
    "# We adopt the function ---- imputer to do that\n",
    "from sklearn.impute import SimpleImputer\n",
    "imputer = SimpleImputer(strategy = 'median')\n",
    " \n",
    "# Similarly, we leave the column \"TARGET\" unaffected    \n",
    "poly_target = poly_features['TARGET']\n",
    "poly_features_new = poly_features.drop(columns = ['TARGET'])\n",
    " \n",
    "# impute missing values in both train and test data\n",
    "poly_features_new = imputer.fit_transform(poly_features_new)\n",
    "poly_features_test_new = imputer.transform(poly_features_test)"
   ]
  },
  {
   "cell_type": "code",
   "execution_count": null,
   "id": "f5a44912",
   "metadata": {},
   "outputs": [],
   "source": [
    "train1=poly_features_new\n",
    "train1=pd.DataFrame(train1,columns=list(correlations.head(15).index)+list(correlations.tail(15).index)[:-1])\n",
    "train1[\"TARGET\"]=poly_target\n",
    "test1=poly_features_test_new\n",
    "test1=pd.DataFrame(test1,columns=list(correlations.head(15).index)+list(correlations.tail(15).index)[:-1])"
   ]
  },
  {
   "cell_type": "code",
   "execution_count": null,
   "id": "97dee5b3",
   "metadata": {},
   "outputs": [],
   "source": [
    "# call our best_subsets function\n",
    "predictors = list(train1.columns)\n",
    "predictors.remove('TARGET')"
   ]
  },
  {
   "cell_type": "code",
   "execution_count": null,
   "id": "fe07349c",
   "metadata": {},
   "outputs": [],
   "source": [
    "def forward_step_select(df, predictors, response, max_features=len(predictors)):\n",
    "    \"\"\"\n",
    "    Regresses response onto predictors using a forward step algorithm. Features are added based on minimum RSS.\n",
    "    \n",
    "    PARAMETERS\n",
    "    -----------\n",
    "    df : dataframe containing predictors and responses\n",
    "    predictors : list of all possible model predictors\n",
    "    response : list[variable] to regress onto predictors in df\n",
    "    max_features : maximum number of features to use from predictors list\n",
    "    \n",
    "    RETURNS\n",
    "    --------\n",
    "    list of models with increasing number of features upto max_features\n",
    "    \n",
    "    \"\"\"\n",
    "    \n",
    "    def process_linear_model(features):\n",
    "        \"\"\"\n",
    "        Constructs Linear Model Regression of response onto features.\n",
    "        \"\"\"\n",
    "        # Create design Matrix\n",
    "        X = sm.add_constant(df[features])\n",
    "        y = df[response]\n",
    "\n",
    "        model = sm.OLS(y,X).fit()\n",
    "        RSS = model.ssr\n",
    "        return (model, RSS)\n",
    "\n",
    "    def update_model(best_features, remaining_features):\n",
    "        \"\"\"\n",
    "        Computes the RSS of possible new models and returns the model with the lowest RSS.\n",
    "        \"\"\"\n",
    "        results = []\n",
    "        \n",
    "        for feature in remaining_features:\n",
    "            results.append(process_linear_model(best_features + [feature]))\n",
    "            \n",
    "        # select model with the lowest RSS\n",
    "        new_model = sorted(results, key= itemgetter(1)).pop(0)[0]\n",
    "        new_features = list(new_model.params.index)[1:]\n",
    "        \n",
    "        return new_features, new_model\n",
    "    \n",
    "    # Create list to hold models, model features and the remaining features to test\n",
    "    models = []\n",
    "    best_features = []\n",
    "    remaining_features = predictors\n",
    "    \n",
    "    while remaining_features and len(best_features) < max_features:\n",
    "        \n",
    "        # get the best new feature set from update_model\n",
    "        new_features, new_model = update_model(best_features, remaining_features)\n",
    "        # update the best features to include the one we just found\n",
    "        best_features = new_features  \n",
    "        # reduce the available features for the next round\n",
    "        remaining_features =  [feature for feature in predictors if feature not in best_features]\n",
    "        \n",
    "        # append the new_features and model so we can compare models with different features later\n",
    "        models.append((new_features,new_model))\n",
    "        \n",
    "    return models"
   ]
  },
  {
   "cell_type": "code",
   "execution_count": null,
   "id": "7d989e3e",
   "metadata": {},
   "outputs": [],
   "source": [
    "# Call our forward step function\n",
    "# set up inputs\n",
    "predictors = list(train1.columns)\n",
    "predictors.remove('TARGET')\n",
    "# call forward_step_select\n",
    "mods = forward_step_select(train1,predictors,['TARGET'],max_features=19)"
   ]
  },
  {
   "cell_type": "code",
   "execution_count": null,
   "id": "023232a2",
   "metadata": {},
   "outputs": [],
   "source": [
    "fwdmodel=mods[-1][1]"
   ]
  },
  {
   "cell_type": "code",
   "execution_count": null,
   "id": "aadc4ca5",
   "metadata": {},
   "outputs": [],
   "source": [
    "X1=train1[mods[-1][0]]"
   ]
  },
  {
   "cell_type": "code",
   "execution_count": null,
   "id": "e8134bd9",
   "metadata": {},
   "outputs": [],
   "source": [
    "# Now that all of variables mentioned above are appropriate, we try to build a regression model\n",
    "regr = skl_lm.LogisticRegression()\n",
    "regr.fit(X1, poly_target)"
   ]
  },
  {
   "cell_type": "code",
   "execution_count": null,
   "id": "86b339bb",
   "metadata": {},
   "outputs": [],
   "source": [
    "pred = regr.predict(X1)\n",
    "cm_log = confusion_matrix(poly_target, pred)\n",
    "cm_df = pd.DataFrame(cm_log.T, index=regr.classes_,\n",
    "                     columns=regr.classes_)\n",
    "cm_df.index.name = 'Predicted'\n",
    "cm_df.columns.name = 'True'\n",
    "print(cm_df)"
   ]
  },
  {
   "cell_type": "code",
   "execution_count": null,
   "id": "233c198c",
   "metadata": {},
   "outputs": [],
   "source": [
    "pred_p = regr.predict_proba(X1)\n",
    "cm_df = pd.DataFrame({'True': poly_target, 'Pred': pred_p[:,1] > .2})\n",
    "cm_df.Pred.replace(to_replace={True:'Yes', False:'No'}, inplace=True)\n",
    "print(cm_df.groupby(['True', 'Pred']).size().unstack('True').T)\n",
    "print(classification_report(poly_target, pred_p[:,1] > .2))"
   ]
  },
  {
   "cell_type": "code",
   "execution_count": null,
   "id": "14774c12",
   "metadata": {},
   "outputs": [],
   "source": [
    "# obtain the final result\n",
    "pred3 =regr.predict_proba(test1[mods[-1][0]])"
   ]
  },
  {
   "cell_type": "code",
   "execution_count": null,
   "id": "6e077d15",
   "metadata": {},
   "outputs": [],
   "source": [
    "result = pd.DataFrame({'SK_ID_CURR': app_test['SK_ID_CURR'], 'TARGET': pred3[:,1]})\n",
    "result"
   ]
  },
  {
   "cell_type": "code",
   "execution_count": null,
   "id": "6835c782",
   "metadata": {},
   "outputs": [],
   "source": [
    "from sklearn.preprocessing import PolynomialFeatures\n",
    "                                  \n",
    "# Create the polynomial object with specified degree\n",
    "poly_transformer = PolynomialFeatures(degree = 2)\n",
    "# Train the polynomial features\n",
    "poly_transformer.fit(train1[mods[-1][0]])\n",
    " \n",
    "# Transform the features\n",
    "poly_features_trans = poly_transformer.transform(train1[mods[-1][0]])\n",
    "poly_features_test_trans = poly_transformer.transform(test1[mods[-1][0]])\n",
    "print('Polynomial Features shape: ', poly_features_trans.shape)\n",
    "poly_transformer.get_feature_names(input_features = mods[-1][0])[:20]"
   ]
  },
  {
   "cell_type": "code",
   "execution_count": null,
   "id": "58f15f94",
   "metadata": {},
   "outputs": [],
   "source": [
    "poly_features_DF = pd.DataFrame(poly_features_trans, \n",
    "                             columns = poly_transformer.get_feature_names(mods[-1][0]))\n",
    "\n",
    "poly_features_test_DF = pd.DataFrame(poly_features_test_trans, \n",
    "                                  columns = poly_transformer.get_feature_names(mods[-1][0]))\n",
    " \n",
    "# Add the target into the data\n",
    "poly_features_DF['TARGET'] = poly_target"
   ]
  },
  {
   "cell_type": "code",
   "execution_count": null,
   "id": "725d8a18",
   "metadata": {},
   "outputs": [],
   "source": [
    "# Find the correlations with the target and print them\n",
    "correlations_2 = poly_features_DF.corr()['TARGET'].sort_values()"
   ]
  },
  {
   "cell_type": "code",
   "execution_count": null,
   "id": "956f024f",
   "metadata": {},
   "outputs": [],
   "source": [
    "ind=list(correlations_2.head(15).index)+list(correlations_2.tail(15).index[:-2])"
   ]
  },
  {
   "cell_type": "code",
   "execution_count": null,
   "id": "09465bc2",
   "metadata": {},
   "outputs": [],
   "source": [
    "# set up inputs\n",
    "predictors = list(ind)\n",
    "predictors.remove('TARGET')\n",
    "# call forward_step_select\n",
    "mods2 = forward_step_select(poly_features_DF,predictors,['TARGET'],max_features=15)"
   ]
  },
  {
   "cell_type": "code",
   "execution_count": null,
   "id": "a2ce6cc9",
   "metadata": {},
   "outputs": [],
   "source": [
    "regr2 = skl_lm.LogisticRegression()\n",
    "regr2.fit(poly_features_DF[mods2[-1][0]], poly_target)"
   ]
  },
  {
   "cell_type": "code",
   "execution_count": null,
   "id": "aa67c478",
   "metadata": {},
   "outputs": [],
   "source": [
    "pred4 =regr2.predict_proba(poly_features_test_DF[mods2[-1][0]])"
   ]
  },
  {
   "cell_type": "code",
   "execution_count": null,
   "id": "f546477e",
   "metadata": {},
   "outputs": [],
   "source": [
    "result = pd.DataFrame({'SK_ID_CURR': app_test['SK_ID_CURR'], 'TARGET': pred4[:,1]})\n",
    "result"
   ]
  },
  {
   "cell_type": "code",
   "execution_count": null,
   "id": "8565ff34",
   "metadata": {},
   "outputs": [],
   "source": [
    "result.to_csv('resul.csv', index=False)"
   ]
  },
  {
   "cell_type": "markdown",
   "id": "61a9226d",
   "metadata": {},
   "source": [
    "## GAN applying "
   ]
  },
  {
   "cell_type": "code",
   "execution_count": 534,
   "id": "a18e5c93",
   "metadata": {},
   "outputs": [],
   "source": [
    "test=app_test"
   ]
  },
  {
   "cell_type": "code",
   "execution_count": 537,
   "id": "5edfed43",
   "metadata": {},
   "outputs": [],
   "source": [
    "newdata=pd.read_csv(\"GAN_generated.csv\")"
   ]
  },
  {
   "cell_type": "code",
   "execution_count": 538,
   "id": "4a71a7f3",
   "metadata": {},
   "outputs": [],
   "source": [
    "dat=pd.DataFrame(newdata.iloc[:,1:])"
   ]
  },
  {
   "cell_type": "code",
   "execution_count": 539,
   "id": "159fa5a5",
   "metadata": {},
   "outputs": [],
   "source": [
    "tt=pd.Series(1,index=range(0,len(dat)))"
   ]
  },
  {
   "cell_type": "code",
   "execution_count": 540,
   "id": "5cea4080",
   "metadata": {},
   "outputs": [],
   "source": [
    "newdata[\"TARGET\"]=tt"
   ]
  },
  {
   "cell_type": "code",
   "execution_count": 541,
   "id": "ceaf3bfa",
   "metadata": {},
   "outputs": [],
   "source": [
    "data=dat.drop(columns=['CREDIT_ACTIVE_Active'])"
   ]
  },
  {
   "cell_type": "code",
   "execution_count": 590,
   "id": "ae328e21",
   "metadata": {},
   "outputs": [],
   "source": [
    "train=app_train[data.columns]"
   ]
  },
  {
   "cell_type": "code",
   "execution_count": 593,
   "id": "64bc482e",
   "metadata": {},
   "outputs": [
    {
     "name": "stderr",
     "output_type": "stream",
     "text": [
      "/var/folders/79/hqvyyq2d0jjg47twwbkkn3vw0000gn/T/ipykernel_28271/2537677286.py:1: SettingWithCopyWarning: \n",
      "A value is trying to be set on a copy of a slice from a DataFrame.\n",
      "Try using .loc[row_indexer,col_indexer] = value instead\n",
      "\n",
      "See the caveats in the documentation: https://pandas.pydata.org/pandas-docs/stable/user_guide/indexing.html#returning-a-view-versus-a-copy\n",
      "  train[\"TARGET\"]=app_train[\"TARGET\"]\n"
     ]
    }
   ],
   "source": [
    "train[\"TARGET\"]=app_train[\"TARGET\"]"
   ]
  },
  {
   "cell_type": "code",
   "execution_count": 594,
   "id": "0d4aef3e",
   "metadata": {},
   "outputs": [],
   "source": [
    "data.index=range(307510,607510)"
   ]
  },
  {
   "cell_type": "code",
   "execution_count": 595,
   "id": "8ab26f0c",
   "metadata": {},
   "outputs": [],
   "source": [
    "min_max_scaler = preprocessing.MinMaxScaler()\n",
    "minmax_x1 = min_max_scaler.fit_transform(train)"
   ]
  },
  {
   "cell_type": "code",
   "execution_count": 596,
   "id": "c9b6b894",
   "metadata": {},
   "outputs": [],
   "source": [
    "train=pd.DataFrame(minmax_x1,columns=train.columns)"
   ]
  },
  {
   "cell_type": "code",
   "execution_count": 597,
   "id": "16d3b5dd",
   "metadata": {},
   "outputs": [],
   "source": [
    "min_max_scaler = preprocessing.MinMaxScaler()\n",
    "minmax_x = min_max_scaler.fit_transform(test)"
   ]
  },
  {
   "cell_type": "code",
   "execution_count": 598,
   "id": "7c9b0c9a",
   "metadata": {},
   "outputs": [],
   "source": [
    "test=pd.DataFrame(minmax_x,columns=test.columns)"
   ]
  },
  {
   "cell_type": "code",
   "execution_count": 549,
   "id": "49c5400d",
   "metadata": {},
   "outputs": [],
   "source": [
    "##store the original data\n",
    "app_test1=app_test"
   ]
  },
  {
   "cell_type": "code",
   "execution_count": 550,
   "id": "ea29d7dd",
   "metadata": {},
   "outputs": [],
   "source": [
    "app_test=test"
   ]
  },
  {
   "cell_type": "code",
   "execution_count": 599,
   "id": "4552d9ab",
   "metadata": {},
   "outputs": [],
   "source": [
    "train2=pd.concat([train,data[307510:309510]],axis=0)"
   ]
  },
  {
   "cell_type": "code",
   "execution_count": 601,
   "id": "03153d47",
   "metadata": {},
   "outputs": [],
   "source": [
    "poly_features = train2\n",
    "poly_features_test = app_test[train2.columns[:-1]]"
   ]
  },
  {
   "cell_type": "code",
   "execution_count": 602,
   "id": "900cffc5",
   "metadata": {
    "execution": {
     "iopub.execute_input": "2021-11-18T14:50:50.583535Z",
     "iopub.status.busy": "2021-11-18T14:50:50.582720Z",
     "iopub.status.idle": "2021-11-18T14:50:50.900954Z",
     "shell.execute_reply": "2021-11-18T14:50:50.900135Z",
     "shell.execute_reply.started": "2021-10-09T12:43:58.369459Z"
    },
    "papermill": {
     "duration": 0.345193,
     "end_time": "2021-11-18T14:50:50.901139",
     "exception": false,
     "start_time": "2021-11-18T14:50:50.555946",
     "status": "completed"
    },
    "tags": []
   },
   "outputs": [],
   "source": [
    "# To avoid those null data affect the regression model, we need to replace them with appropriate values    \n",
    "# We adopt the function ---- imputer to do that\n",
    "from sklearn.impute import SimpleImputer\n",
    "imputer = SimpleImputer(strategy = 'median')\n",
    " \n",
    "# Similarly, we leave the column \"TARGET\" unaffected    \n",
    "poly_target = poly_features['TARGET']\n",
    "poly_features_new = poly_features.drop(columns = ['TARGET'])\n",
    " \n",
    "# impute missing values in both train and test data\n",
    "poly_features_new = imputer.fit_transform(poly_features_new)\n",
    "poly_features_test_new = imputer.transform(poly_features_test)\n",
    " \n",
    "from sklearn.preprocessing import PolynomialFeatures\n",
    "                                  \n",
    "# Create the polynomial object with specified degree\n",
    "poly_transformer = PolynomialFeatures(degree = 3)"
   ]
  },
  {
   "cell_type": "code",
   "execution_count": 603,
   "id": "3aaa3590",
   "metadata": {},
   "outputs": [],
   "source": [
    "poly_features_new=pd.DataFrame(poly_features_new,columns=poly_features.drop(columns = ['TARGET']).columns)"
   ]
  },
  {
   "cell_type": "code",
   "execution_count": 604,
   "id": "35160fa8",
   "metadata": {},
   "outputs": [],
   "source": [
    "poly_features_test_new =pd.DataFrame(poly_features_test_new,columns=poly_features.drop(columns = ['TARGET']).columns)"
   ]
  },
  {
   "cell_type": "code",
   "execution_count": 605,
   "id": "2ec0743b",
   "metadata": {
    "execution": {
     "iopub.execute_input": "2021-11-18T14:50:56.170859Z",
     "iopub.status.busy": "2021-11-18T14:50:56.170087Z",
     "iopub.status.idle": "2021-11-18T14:50:56.352095Z",
     "shell.execute_reply": "2021-11-18T14:50:56.351319Z",
     "shell.execute_reply.started": "2021-10-09T12:44:03.111703Z"
    },
    "papermill": {
     "duration": 0.21134,
     "end_time": "2021-11-18T14:50:56.352287",
     "exception": false,
     "start_time": "2021-11-18T14:50:56.140947",
     "status": "completed"
    },
    "tags": []
   },
   "outputs": [
    {
     "name": "stdout",
     "output_type": "stream",
     "text": [
      "Polynomial Features shape:  (307511, 220)\n"
     ]
    },
    {
     "name": "stderr",
     "output_type": "stream",
     "text": [
      "/Users/zjd/opt/anaconda3/lib/python3.9/site-packages/sklearn/utils/deprecation.py:87: FutureWarning: Function get_feature_names is deprecated; get_feature_names is deprecated in 1.0 and will be removed in 1.2. Please use get_feature_names_out instead.\n",
      "  warnings.warn(msg, category=FutureWarning)\n"
     ]
    },
    {
     "data": {
      "text/plain": [
       "['1',\n",
       " 'EXT_SOURCE_1',\n",
       " 'EXT_SOURCE_2',\n",
       " 'EXT_SOURCE_3',\n",
       " 'DAYS_BIRTH',\n",
       " 'DAYS_EMPLOYED',\n",
       " 'AMT_CREDIT',\n",
       " 'AMT_GOODS_PRICE',\n",
       " 'DAYS_ID_PUBLISH',\n",
       " 'AMT_ANNUITY',\n",
       " 'EXT_SOURCE_1^2',\n",
       " 'EXT_SOURCE_1 EXT_SOURCE_2',\n",
       " 'EXT_SOURCE_1 EXT_SOURCE_3',\n",
       " 'EXT_SOURCE_1 DAYS_BIRTH',\n",
       " 'EXT_SOURCE_1 DAYS_EMPLOYED',\n",
       " 'EXT_SOURCE_1 AMT_CREDIT',\n",
       " 'EXT_SOURCE_1 AMT_GOODS_PRICE',\n",
       " 'EXT_SOURCE_1 DAYS_ID_PUBLISH',\n",
       " 'EXT_SOURCE_1 AMT_ANNUITY',\n",
       " 'EXT_SOURCE_2^2',\n",
       " 'EXT_SOURCE_2 EXT_SOURCE_3',\n",
       " 'EXT_SOURCE_2 DAYS_BIRTH',\n",
       " 'EXT_SOURCE_2 DAYS_EMPLOYED',\n",
       " 'EXT_SOURCE_2 AMT_CREDIT',\n",
       " 'EXT_SOURCE_2 AMT_GOODS_PRICE',\n",
       " 'EXT_SOURCE_2 DAYS_ID_PUBLISH',\n",
       " 'EXT_SOURCE_2 AMT_ANNUITY',\n",
       " 'EXT_SOURCE_3^2',\n",
       " 'EXT_SOURCE_3 DAYS_BIRTH',\n",
       " 'EXT_SOURCE_3 DAYS_EMPLOYED',\n",
       " 'EXT_SOURCE_3 AMT_CREDIT',\n",
       " 'EXT_SOURCE_3 AMT_GOODS_PRICE',\n",
       " 'EXT_SOURCE_3 DAYS_ID_PUBLISH',\n",
       " 'EXT_SOURCE_3 AMT_ANNUITY',\n",
       " 'DAYS_BIRTH^2',\n",
       " 'DAYS_BIRTH DAYS_EMPLOYED',\n",
       " 'DAYS_BIRTH AMT_CREDIT',\n",
       " 'DAYS_BIRTH AMT_GOODS_PRICE',\n",
       " 'DAYS_BIRTH DAYS_ID_PUBLISH',\n",
       " 'DAYS_BIRTH AMT_ANNUITY',\n",
       " 'DAYS_EMPLOYED^2',\n",
       " 'DAYS_EMPLOYED AMT_CREDIT',\n",
       " 'DAYS_EMPLOYED AMT_GOODS_PRICE',\n",
       " 'DAYS_EMPLOYED DAYS_ID_PUBLISH',\n",
       " 'DAYS_EMPLOYED AMT_ANNUITY',\n",
       " 'AMT_CREDIT^2',\n",
       " 'AMT_CREDIT AMT_GOODS_PRICE',\n",
       " 'AMT_CREDIT DAYS_ID_PUBLISH',\n",
       " 'AMT_CREDIT AMT_ANNUITY',\n",
       " 'AMT_GOODS_PRICE^2',\n",
       " 'AMT_GOODS_PRICE DAYS_ID_PUBLISH',\n",
       " 'AMT_GOODS_PRICE AMT_ANNUITY',\n",
       " 'DAYS_ID_PUBLISH^2',\n",
       " 'DAYS_ID_PUBLISH AMT_ANNUITY',\n",
       " 'AMT_ANNUITY^2',\n",
       " 'EXT_SOURCE_1^3',\n",
       " 'EXT_SOURCE_1^2 EXT_SOURCE_2',\n",
       " 'EXT_SOURCE_1^2 EXT_SOURCE_3',\n",
       " 'EXT_SOURCE_1^2 DAYS_BIRTH',\n",
       " 'EXT_SOURCE_1^2 DAYS_EMPLOYED',\n",
       " 'EXT_SOURCE_1^2 AMT_CREDIT',\n",
       " 'EXT_SOURCE_1^2 AMT_GOODS_PRICE',\n",
       " 'EXT_SOURCE_1^2 DAYS_ID_PUBLISH',\n",
       " 'EXT_SOURCE_1^2 AMT_ANNUITY',\n",
       " 'EXT_SOURCE_1 EXT_SOURCE_2^2',\n",
       " 'EXT_SOURCE_1 EXT_SOURCE_2 EXT_SOURCE_3',\n",
       " 'EXT_SOURCE_1 EXT_SOURCE_2 DAYS_BIRTH',\n",
       " 'EXT_SOURCE_1 EXT_SOURCE_2 DAYS_EMPLOYED',\n",
       " 'EXT_SOURCE_1 EXT_SOURCE_2 AMT_CREDIT',\n",
       " 'EXT_SOURCE_1 EXT_SOURCE_2 AMT_GOODS_PRICE',\n",
       " 'EXT_SOURCE_1 EXT_SOURCE_2 DAYS_ID_PUBLISH',\n",
       " 'EXT_SOURCE_1 EXT_SOURCE_2 AMT_ANNUITY',\n",
       " 'EXT_SOURCE_1 EXT_SOURCE_3^2',\n",
       " 'EXT_SOURCE_1 EXT_SOURCE_3 DAYS_BIRTH',\n",
       " 'EXT_SOURCE_1 EXT_SOURCE_3 DAYS_EMPLOYED',\n",
       " 'EXT_SOURCE_1 EXT_SOURCE_3 AMT_CREDIT',\n",
       " 'EXT_SOURCE_1 EXT_SOURCE_3 AMT_GOODS_PRICE',\n",
       " 'EXT_SOURCE_1 EXT_SOURCE_3 DAYS_ID_PUBLISH',\n",
       " 'EXT_SOURCE_1 EXT_SOURCE_3 AMT_ANNUITY',\n",
       " 'EXT_SOURCE_1 DAYS_BIRTH^2',\n",
       " 'EXT_SOURCE_1 DAYS_BIRTH DAYS_EMPLOYED',\n",
       " 'EXT_SOURCE_1 DAYS_BIRTH AMT_CREDIT',\n",
       " 'EXT_SOURCE_1 DAYS_BIRTH AMT_GOODS_PRICE',\n",
       " 'EXT_SOURCE_1 DAYS_BIRTH DAYS_ID_PUBLISH',\n",
       " 'EXT_SOURCE_1 DAYS_BIRTH AMT_ANNUITY',\n",
       " 'EXT_SOURCE_1 DAYS_EMPLOYED^2',\n",
       " 'EXT_SOURCE_1 DAYS_EMPLOYED AMT_CREDIT',\n",
       " 'EXT_SOURCE_1 DAYS_EMPLOYED AMT_GOODS_PRICE',\n",
       " 'EXT_SOURCE_1 DAYS_EMPLOYED DAYS_ID_PUBLISH',\n",
       " 'EXT_SOURCE_1 DAYS_EMPLOYED AMT_ANNUITY',\n",
       " 'EXT_SOURCE_1 AMT_CREDIT^2',\n",
       " 'EXT_SOURCE_1 AMT_CREDIT AMT_GOODS_PRICE',\n",
       " 'EXT_SOURCE_1 AMT_CREDIT DAYS_ID_PUBLISH',\n",
       " 'EXT_SOURCE_1 AMT_CREDIT AMT_ANNUITY',\n",
       " 'EXT_SOURCE_1 AMT_GOODS_PRICE^2',\n",
       " 'EXT_SOURCE_1 AMT_GOODS_PRICE DAYS_ID_PUBLISH',\n",
       " 'EXT_SOURCE_1 AMT_GOODS_PRICE AMT_ANNUITY',\n",
       " 'EXT_SOURCE_1 DAYS_ID_PUBLISH^2',\n",
       " 'EXT_SOURCE_1 DAYS_ID_PUBLISH AMT_ANNUITY',\n",
       " 'EXT_SOURCE_1 AMT_ANNUITY^2',\n",
       " 'EXT_SOURCE_2^3',\n",
       " 'EXT_SOURCE_2^2 EXT_SOURCE_3',\n",
       " 'EXT_SOURCE_2^2 DAYS_BIRTH',\n",
       " 'EXT_SOURCE_2^2 DAYS_EMPLOYED',\n",
       " 'EXT_SOURCE_2^2 AMT_CREDIT',\n",
       " 'EXT_SOURCE_2^2 AMT_GOODS_PRICE',\n",
       " 'EXT_SOURCE_2^2 DAYS_ID_PUBLISH',\n",
       " 'EXT_SOURCE_2^2 AMT_ANNUITY',\n",
       " 'EXT_SOURCE_2 EXT_SOURCE_3^2',\n",
       " 'EXT_SOURCE_2 EXT_SOURCE_3 DAYS_BIRTH',\n",
       " 'EXT_SOURCE_2 EXT_SOURCE_3 DAYS_EMPLOYED',\n",
       " 'EXT_SOURCE_2 EXT_SOURCE_3 AMT_CREDIT',\n",
       " 'EXT_SOURCE_2 EXT_SOURCE_3 AMT_GOODS_PRICE',\n",
       " 'EXT_SOURCE_2 EXT_SOURCE_3 DAYS_ID_PUBLISH',\n",
       " 'EXT_SOURCE_2 EXT_SOURCE_3 AMT_ANNUITY',\n",
       " 'EXT_SOURCE_2 DAYS_BIRTH^2',\n",
       " 'EXT_SOURCE_2 DAYS_BIRTH DAYS_EMPLOYED',\n",
       " 'EXT_SOURCE_2 DAYS_BIRTH AMT_CREDIT',\n",
       " 'EXT_SOURCE_2 DAYS_BIRTH AMT_GOODS_PRICE',\n",
       " 'EXT_SOURCE_2 DAYS_BIRTH DAYS_ID_PUBLISH',\n",
       " 'EXT_SOURCE_2 DAYS_BIRTH AMT_ANNUITY',\n",
       " 'EXT_SOURCE_2 DAYS_EMPLOYED^2',\n",
       " 'EXT_SOURCE_2 DAYS_EMPLOYED AMT_CREDIT',\n",
       " 'EXT_SOURCE_2 DAYS_EMPLOYED AMT_GOODS_PRICE',\n",
       " 'EXT_SOURCE_2 DAYS_EMPLOYED DAYS_ID_PUBLISH',\n",
       " 'EXT_SOURCE_2 DAYS_EMPLOYED AMT_ANNUITY',\n",
       " 'EXT_SOURCE_2 AMT_CREDIT^2',\n",
       " 'EXT_SOURCE_2 AMT_CREDIT AMT_GOODS_PRICE',\n",
       " 'EXT_SOURCE_2 AMT_CREDIT DAYS_ID_PUBLISH',\n",
       " 'EXT_SOURCE_2 AMT_CREDIT AMT_ANNUITY',\n",
       " 'EXT_SOURCE_2 AMT_GOODS_PRICE^2',\n",
       " 'EXT_SOURCE_2 AMT_GOODS_PRICE DAYS_ID_PUBLISH',\n",
       " 'EXT_SOURCE_2 AMT_GOODS_PRICE AMT_ANNUITY',\n",
       " 'EXT_SOURCE_2 DAYS_ID_PUBLISH^2',\n",
       " 'EXT_SOURCE_2 DAYS_ID_PUBLISH AMT_ANNUITY',\n",
       " 'EXT_SOURCE_2 AMT_ANNUITY^2',\n",
       " 'EXT_SOURCE_3^3',\n",
       " 'EXT_SOURCE_3^2 DAYS_BIRTH',\n",
       " 'EXT_SOURCE_3^2 DAYS_EMPLOYED',\n",
       " 'EXT_SOURCE_3^2 AMT_CREDIT',\n",
       " 'EXT_SOURCE_3^2 AMT_GOODS_PRICE',\n",
       " 'EXT_SOURCE_3^2 DAYS_ID_PUBLISH',\n",
       " 'EXT_SOURCE_3^2 AMT_ANNUITY',\n",
       " 'EXT_SOURCE_3 DAYS_BIRTH^2',\n",
       " 'EXT_SOURCE_3 DAYS_BIRTH DAYS_EMPLOYED',\n",
       " 'EXT_SOURCE_3 DAYS_BIRTH AMT_CREDIT',\n",
       " 'EXT_SOURCE_3 DAYS_BIRTH AMT_GOODS_PRICE',\n",
       " 'EXT_SOURCE_3 DAYS_BIRTH DAYS_ID_PUBLISH',\n",
       " 'EXT_SOURCE_3 DAYS_BIRTH AMT_ANNUITY',\n",
       " 'EXT_SOURCE_3 DAYS_EMPLOYED^2',\n",
       " 'EXT_SOURCE_3 DAYS_EMPLOYED AMT_CREDIT',\n",
       " 'EXT_SOURCE_3 DAYS_EMPLOYED AMT_GOODS_PRICE',\n",
       " 'EXT_SOURCE_3 DAYS_EMPLOYED DAYS_ID_PUBLISH',\n",
       " 'EXT_SOURCE_3 DAYS_EMPLOYED AMT_ANNUITY',\n",
       " 'EXT_SOURCE_3 AMT_CREDIT^2',\n",
       " 'EXT_SOURCE_3 AMT_CREDIT AMT_GOODS_PRICE',\n",
       " 'EXT_SOURCE_3 AMT_CREDIT DAYS_ID_PUBLISH',\n",
       " 'EXT_SOURCE_3 AMT_CREDIT AMT_ANNUITY',\n",
       " 'EXT_SOURCE_3 AMT_GOODS_PRICE^2',\n",
       " 'EXT_SOURCE_3 AMT_GOODS_PRICE DAYS_ID_PUBLISH',\n",
       " 'EXT_SOURCE_3 AMT_GOODS_PRICE AMT_ANNUITY',\n",
       " 'EXT_SOURCE_3 DAYS_ID_PUBLISH^2',\n",
       " 'EXT_SOURCE_3 DAYS_ID_PUBLISH AMT_ANNUITY',\n",
       " 'EXT_SOURCE_3 AMT_ANNUITY^2',\n",
       " 'DAYS_BIRTH^3',\n",
       " 'DAYS_BIRTH^2 DAYS_EMPLOYED',\n",
       " 'DAYS_BIRTH^2 AMT_CREDIT',\n",
       " 'DAYS_BIRTH^2 AMT_GOODS_PRICE',\n",
       " 'DAYS_BIRTH^2 DAYS_ID_PUBLISH',\n",
       " 'DAYS_BIRTH^2 AMT_ANNUITY',\n",
       " 'DAYS_BIRTH DAYS_EMPLOYED^2',\n",
       " 'DAYS_BIRTH DAYS_EMPLOYED AMT_CREDIT',\n",
       " 'DAYS_BIRTH DAYS_EMPLOYED AMT_GOODS_PRICE',\n",
       " 'DAYS_BIRTH DAYS_EMPLOYED DAYS_ID_PUBLISH',\n",
       " 'DAYS_BIRTH DAYS_EMPLOYED AMT_ANNUITY',\n",
       " 'DAYS_BIRTH AMT_CREDIT^2',\n",
       " 'DAYS_BIRTH AMT_CREDIT AMT_GOODS_PRICE',\n",
       " 'DAYS_BIRTH AMT_CREDIT DAYS_ID_PUBLISH',\n",
       " 'DAYS_BIRTH AMT_CREDIT AMT_ANNUITY',\n",
       " 'DAYS_BIRTH AMT_GOODS_PRICE^2',\n",
       " 'DAYS_BIRTH AMT_GOODS_PRICE DAYS_ID_PUBLISH',\n",
       " 'DAYS_BIRTH AMT_GOODS_PRICE AMT_ANNUITY',\n",
       " 'DAYS_BIRTH DAYS_ID_PUBLISH^2',\n",
       " 'DAYS_BIRTH DAYS_ID_PUBLISH AMT_ANNUITY',\n",
       " 'DAYS_BIRTH AMT_ANNUITY^2',\n",
       " 'DAYS_EMPLOYED^3',\n",
       " 'DAYS_EMPLOYED^2 AMT_CREDIT',\n",
       " 'DAYS_EMPLOYED^2 AMT_GOODS_PRICE',\n",
       " 'DAYS_EMPLOYED^2 DAYS_ID_PUBLISH',\n",
       " 'DAYS_EMPLOYED^2 AMT_ANNUITY',\n",
       " 'DAYS_EMPLOYED AMT_CREDIT^2',\n",
       " 'DAYS_EMPLOYED AMT_CREDIT AMT_GOODS_PRICE',\n",
       " 'DAYS_EMPLOYED AMT_CREDIT DAYS_ID_PUBLISH',\n",
       " 'DAYS_EMPLOYED AMT_CREDIT AMT_ANNUITY',\n",
       " 'DAYS_EMPLOYED AMT_GOODS_PRICE^2',\n",
       " 'DAYS_EMPLOYED AMT_GOODS_PRICE DAYS_ID_PUBLISH',\n",
       " 'DAYS_EMPLOYED AMT_GOODS_PRICE AMT_ANNUITY',\n",
       " 'DAYS_EMPLOYED DAYS_ID_PUBLISH^2',\n",
       " 'DAYS_EMPLOYED DAYS_ID_PUBLISH AMT_ANNUITY',\n",
       " 'DAYS_EMPLOYED AMT_ANNUITY^2',\n",
       " 'AMT_CREDIT^3',\n",
       " 'AMT_CREDIT^2 AMT_GOODS_PRICE',\n",
       " 'AMT_CREDIT^2 DAYS_ID_PUBLISH',\n",
       " 'AMT_CREDIT^2 AMT_ANNUITY',\n",
       " 'AMT_CREDIT AMT_GOODS_PRICE^2',\n",
       " 'AMT_CREDIT AMT_GOODS_PRICE DAYS_ID_PUBLISH',\n",
       " 'AMT_CREDIT AMT_GOODS_PRICE AMT_ANNUITY',\n",
       " 'AMT_CREDIT DAYS_ID_PUBLISH^2',\n",
       " 'AMT_CREDIT DAYS_ID_PUBLISH AMT_ANNUITY',\n",
       " 'AMT_CREDIT AMT_ANNUITY^2',\n",
       " 'AMT_GOODS_PRICE^3',\n",
       " 'AMT_GOODS_PRICE^2 DAYS_ID_PUBLISH',\n",
       " 'AMT_GOODS_PRICE^2 AMT_ANNUITY',\n",
       " 'AMT_GOODS_PRICE DAYS_ID_PUBLISH^2',\n",
       " 'AMT_GOODS_PRICE DAYS_ID_PUBLISH AMT_ANNUITY',\n",
       " 'AMT_GOODS_PRICE AMT_ANNUITY^2',\n",
       " 'DAYS_ID_PUBLISH^3',\n",
       " 'DAYS_ID_PUBLISH^2 AMT_ANNUITY',\n",
       " 'DAYS_ID_PUBLISH AMT_ANNUITY^2',\n",
       " 'AMT_ANNUITY^3']"
      ]
     },
     "execution_count": 605,
     "metadata": {},
     "output_type": "execute_result"
    }
   ],
   "source": [
    "# Train the polynomial features\n",
    "poly_transformer.fit(poly_features_new)\n",
    " \n",
    "# Transform the features\n",
    "poly_features_trans = poly_transformer.transform(poly_features_new)\n",
    "poly_features_test_trans = poly_transformer.transform(poly_features_test_new)\n",
    "print('Polynomial Features shape: ', poly_features_trans.shape)\n",
    "poly_transformer.get_feature_names(input_features = poly_features_new.columns )"
   ]
  },
  {
   "cell_type": "code",
   "execution_count": 606,
   "id": "2b1f654e",
   "metadata": {},
   "outputs": [],
   "source": [
    "poly_features_DF = pd.DataFrame(poly_features_trans, \n",
    "                             columns = poly_transformer.get_feature_names(poly_features_new.columns))\n",
    "\n",
    "poly_features_test_DF = pd.DataFrame(poly_features_test_trans, \n",
    "                                  columns = poly_transformer.get_feature_names(poly_features_new.columns))"
   ]
  },
  {
   "cell_type": "code",
   "execution_count": 607,
   "id": "794e3c99",
   "metadata": {},
   "outputs": [],
   "source": [
    "targg=pd.DataFrame(poly_target,columns=[\"TARGET\"])"
   ]
  },
  {
   "cell_type": "code",
   "execution_count": 608,
   "id": "76b51108",
   "metadata": {},
   "outputs": [],
   "source": [
    "a=targg.reset_index()\n",
    "b=poly_features_DF.reset_index()\n",
    "poly_features_DF=pd.concat([a,b],axis=1)"
   ]
  },
  {
   "cell_type": "code",
   "execution_count": 609,
   "id": "dcf34635",
   "metadata": {},
   "outputs": [],
   "source": [
    "poly_features_DF=poly_features_DF.drop(columns=[\"index\"])"
   ]
  },
  {
   "cell_type": "code",
   "execution_count": 610,
   "id": "ca803b31",
   "metadata": {
    "execution": {
     "iopub.execute_input": "2021-11-18T14:50:56.419907Z",
     "iopub.status.busy": "2021-11-18T14:50:56.418882Z",
     "iopub.status.idle": "2021-11-18T14:50:57.809489Z",
     "shell.execute_reply": "2021-11-18T14:50:57.810170Z",
     "shell.execute_reply.started": "2021-10-09T12:44:03.260346Z"
    },
    "papermill": {
     "duration": 1.425012,
     "end_time": "2021-11-18T14:50:57.810350",
     "exception": false,
     "start_time": "2021-11-18T14:50:56.385338",
     "status": "completed"
    },
    "tags": []
   },
   "outputs": [
    {
     "name": "stdout",
     "output_type": "stream",
     "text": [
      "EXT_SOURCE_2 EXT_SOURCE_3                -0.193927\n",
      "EXT_SOURCE_1 EXT_SOURCE_2 EXT_SOURCE_3   -0.188948\n",
      "EXT_SOURCE_2^2 EXT_SOURCE_3              -0.176428\n",
      "EXT_SOURCE_2 EXT_SOURCE_3^2              -0.172243\n",
      "EXT_SOURCE_1 EXT_SOURCE_2                -0.166046\n",
      "EXT_SOURCE_1 EXT_SOURCE_3                -0.163492\n",
      "EXT_SOURCE_2                             -0.160295\n",
      "EXT_SOURCE_1 EXT_SOURCE_2^2              -0.156603\n",
      "EXT_SOURCE_3                             -0.155892\n",
      "EXT_SOURCE_1 EXT_SOURCE_3^2              -0.150615\n",
      "Name: TARGET, dtype: float64\n",
      "DAYS_BIRTH^2 AMT_ANNUITY        0.050211\n",
      "DAYS_ID_PUBLISH                 0.051457\n",
      "DAYS_BIRTH DAYS_ID_PUBLISH^2    0.074381\n",
      "DAYS_BIRTH^3                    0.075131\n",
      "DAYS_BIRTH^2                    0.077783\n",
      "DAYS_BIRTH                      0.078239\n",
      "DAYS_BIRTH^2 DAYS_ID_PUBLISH    0.080935\n",
      "DAYS_BIRTH DAYS_ID_PUBLISH      0.082665\n",
      "TARGET                          1.000000\n",
      "1                                    NaN\n",
      "Name: TARGET, dtype: float64\n"
     ]
    }
   ],
   "source": [
    " # Find the correlations with the target and print them\n",
    "correlations_2 = poly_features_DF.corr()['TARGET'].sort_values()\n",
    " \n",
    "print(correlations_2.head(10))\n",
    "print(correlations_2.tail(10))"
   ]
  },
  {
   "cell_type": "code",
   "execution_count": 611,
   "id": "5bd6b034",
   "metadata": {
    "execution": {
     "iopub.execute_input": "2021-11-18T14:50:57.880347Z",
     "iopub.status.busy": "2021-11-18T14:50:57.879575Z",
     "iopub.status.idle": "2021-11-18T14:50:57.886563Z",
     "shell.execute_reply": "2021-11-18T14:50:57.887152Z",
     "shell.execute_reply.started": "2021-10-09T12:44:04.492014Z"
    },
    "papermill": {
     "duration": 0.042571,
     "end_time": "2021-11-18T14:50:57.887330",
     "exception": false,
     "start_time": "2021-11-18T14:50:57.844759",
     "status": "completed"
    },
    "tags": []
   },
   "outputs": [
    {
     "data": {
      "text/plain": [
       "['EXT_SOURCE_2 EXT_SOURCE_3',\n",
       " 'EXT_SOURCE_1 EXT_SOURCE_2 EXT_SOURCE_3',\n",
       " 'EXT_SOURCE_2^2 EXT_SOURCE_3',\n",
       " 'EXT_SOURCE_2 EXT_SOURCE_3^2',\n",
       " 'EXT_SOURCE_1 EXT_SOURCE_2',\n",
       " 'EXT_SOURCE_1 EXT_SOURCE_3',\n",
       " 'EXT_SOURCE_2',\n",
       " 'EXT_SOURCE_1 EXT_SOURCE_2^2',\n",
       " 'EXT_SOURCE_3',\n",
       " 'EXT_SOURCE_1 EXT_SOURCE_3^2',\n",
       " 'DAYS_BIRTH^2 AMT_ANNUITY',\n",
       " 'DAYS_ID_PUBLISH',\n",
       " 'DAYS_BIRTH DAYS_ID_PUBLISH^2',\n",
       " 'DAYS_BIRTH^3',\n",
       " 'DAYS_BIRTH^2',\n",
       " 'DAYS_BIRTH',\n",
       " 'DAYS_BIRTH^2 DAYS_ID_PUBLISH',\n",
       " 'DAYS_BIRTH DAYS_ID_PUBLISH',\n",
       " 'TARGET',\n",
       " '1']"
      ]
     },
     "execution_count": 611,
     "metadata": {},
     "output_type": "execute_result"
    }
   ],
   "source": [
    "# Only choose variables with a correlation coefficient more than 0.150000 \n",
    "try_set = correlations_2.head(10)._stat_axis.values.tolist() + correlations_2.tail(10)._stat_axis.values.tolist()\n",
    "try_set"
   ]
  },
  {
   "cell_type": "code",
   "execution_count": 612,
   "id": "3e5bd734",
   "metadata": {
    "execution": {
     "iopub.execute_input": "2021-11-18T14:50:57.952175Z",
     "iopub.status.busy": "2021-11-18T14:50:57.951389Z",
     "iopub.status.idle": "2021-11-18T14:50:57.956539Z",
     "shell.execute_reply": "2021-11-18T14:50:57.957288Z",
     "shell.execute_reply.started": "2021-10-09T12:44:04.500654Z"
    },
    "papermill": {
     "duration": 0.039544,
     "end_time": "2021-11-18T14:50:57.957467",
     "exception": false,
     "start_time": "2021-11-18T14:50:57.917923",
     "status": "completed"
    },
    "tags": []
   },
   "outputs": [
    {
     "data": {
      "text/plain": [
       "['EXT_SOURCE_2 EXT_SOURCE_3',\n",
       " 'EXT_SOURCE_1 EXT_SOURCE_2 EXT_SOURCE_3',\n",
       " 'EXT_SOURCE_2^2 EXT_SOURCE_3',\n",
       " 'EXT_SOURCE_2 EXT_SOURCE_3^2',\n",
       " 'EXT_SOURCE_1 EXT_SOURCE_2',\n",
       " 'EXT_SOURCE_1 EXT_SOURCE_3',\n",
       " 'EXT_SOURCE_2',\n",
       " 'EXT_SOURCE_1 EXT_SOURCE_2^2',\n",
       " 'EXT_SOURCE_3',\n",
       " 'EXT_SOURCE_1 EXT_SOURCE_3^2',\n",
       " 'DAYS_BIRTH^2 AMT_ANNUITY',\n",
       " 'DAYS_ID_PUBLISH',\n",
       " 'DAYS_BIRTH DAYS_ID_PUBLISH^2',\n",
       " 'DAYS_BIRTH^3',\n",
       " 'DAYS_BIRTH^2',\n",
       " 'DAYS_BIRTH',\n",
       " 'DAYS_BIRTH^2 DAYS_ID_PUBLISH',\n",
       " 'DAYS_BIRTH DAYS_ID_PUBLISH']"
      ]
     },
     "execution_count": 612,
     "metadata": {},
     "output_type": "execute_result"
    }
   ],
   "source": [
    "try_set2=try_set[:-2]\n",
    "try_set2"
   ]
  },
  {
   "cell_type": "code",
   "execution_count": 613,
   "id": "e43035a7",
   "metadata": {},
   "outputs": [],
   "source": [
    "pp=poly_target.tolist()"
   ]
  },
  {
   "cell_type": "code",
   "execution_count": 614,
   "id": "6b3c624b",
   "metadata": {
    "execution": {
     "iopub.execute_input": "2021-11-18T14:50:58.044760Z",
     "iopub.status.busy": "2021-11-18T14:50:58.023055Z",
     "iopub.status.idle": "2021-11-18T14:51:01.749799Z",
     "shell.execute_reply": "2021-11-18T14:51:01.751232Z",
     "shell.execute_reply.started": "2021-10-09T12:44:04.514531Z"
    },
    "papermill": {
     "duration": 3.763995,
     "end_time": "2021-11-18T14:51:01.752581",
     "exception": false,
     "start_time": "2021-11-18T14:50:57.988586",
     "status": "completed"
    },
    "tags": []
   },
   "outputs": [
    {
     "name": "stderr",
     "output_type": "stream",
     "text": [
      "/Users/zjd/opt/anaconda3/lib/python3.9/site-packages/statsmodels/tsa/tsatools.py:142: FutureWarning: In a future version of pandas all arguments of concat except for the argument 'objs' will be keyword-only\n",
      "  x = pd.concat(x[::order], 1)\n"
     ]
    },
    {
     "name": "stdout",
     "output_type": "stream",
     "text": [
      "Optimization terminated successfully.\n",
      "         Current function value: 0.255896\n",
      "         Iterations 8\n"
     ]
    },
    {
     "data": {
      "text/html": [
       "<table class=\"simpletable\">\n",
       "<tr>\n",
       "                     <td></td>                       <th>coef</th>     <th>std err</th>      <th>z</th>      <th>P>|z|</th>  <th>[0.025</th>    <th>0.975]</th>  \n",
       "</tr>\n",
       "<tr>\n",
       "  <th>const</th>                                  <td>   -1.0786</td> <td>    0.117</td> <td>   -9.201</td> <td> 0.000</td> <td>   -1.308</td> <td>   -0.849</td>\n",
       "</tr>\n",
       "<tr>\n",
       "  <th>EXT_SOURCE_2 EXT_SOURCE_3</th>              <td>   -2.7500</td> <td>    0.742</td> <td>   -3.706</td> <td> 0.000</td> <td>   -4.205</td> <td>   -1.295</td>\n",
       "</tr>\n",
       "<tr>\n",
       "  <th>EXT_SOURCE_1 EXT_SOURCE_2 EXT_SOURCE_3</th> <td>    2.0042</td> <td>    0.588</td> <td>    3.407</td> <td> 0.001</td> <td>    0.851</td> <td>    3.157</td>\n",
       "</tr>\n",
       "<tr>\n",
       "  <th>EXT_SOURCE_2^2 EXT_SOURCE_3</th>            <td>    0.3462</td> <td>    0.480</td> <td>    0.722</td> <td> 0.470</td> <td>   -0.594</td> <td>    1.286</td>\n",
       "</tr>\n",
       "<tr>\n",
       "  <th>EXT_SOURCE_2 EXT_SOURCE_3^2</th>            <td>    0.9326</td> <td>    0.480</td> <td>    1.945</td> <td> 0.052</td> <td>   -0.007</td> <td>    1.873</td>\n",
       "</tr>\n",
       "<tr>\n",
       "  <th>EXT_SOURCE_1 EXT_SOURCE_2</th>              <td>   -1.9371</td> <td>    0.440</td> <td>   -4.407</td> <td> 0.000</td> <td>   -2.799</td> <td>   -1.076</td>\n",
       "</tr>\n",
       "<tr>\n",
       "  <th>EXT_SOURCE_1 EXT_SOURCE_3</th>              <td>   -1.9737</td> <td>    0.431</td> <td>   -4.578</td> <td> 0.000</td> <td>   -2.819</td> <td>   -1.129</td>\n",
       "</tr>\n",
       "<tr>\n",
       "  <th>EXT_SOURCE_2</th>                           <td>   -0.5584</td> <td>    0.181</td> <td>   -3.089</td> <td> 0.002</td> <td>   -0.913</td> <td>   -0.204</td>\n",
       "</tr>\n",
       "<tr>\n",
       "  <th>EXT_SOURCE_1 EXT_SOURCE_2^2</th>            <td>   -0.3976</td> <td>    0.502</td> <td>   -0.791</td> <td> 0.429</td> <td>   -1.382</td> <td>    0.587</td>\n",
       "</tr>\n",
       "<tr>\n",
       "  <th>EXT_SOURCE_3</th>                           <td>   -1.0030</td> <td>    0.188</td> <td>   -5.326</td> <td> 0.000</td> <td>   -1.372</td> <td>   -0.634</td>\n",
       "</tr>\n",
       "<tr>\n",
       "  <th>EXT_SOURCE_1 EXT_SOURCE_3^2</th>            <td>   -0.1209</td> <td>    0.527</td> <td>   -0.229</td> <td> 0.819</td> <td>   -1.154</td> <td>    0.912</td>\n",
       "</tr>\n",
       "<tr>\n",
       "  <th>DAYS_BIRTH^2 AMT_ANNUITY</th>               <td>    1.2730</td> <td>    0.281</td> <td>    4.534</td> <td> 0.000</td> <td>    0.723</td> <td>    1.823</td>\n",
       "</tr>\n",
       "<tr>\n",
       "  <th>DAYS_ID_PUBLISH</th>                        <td>    1.4139</td> <td>    0.216</td> <td>    6.539</td> <td> 0.000</td> <td>    0.990</td> <td>    1.838</td>\n",
       "</tr>\n",
       "<tr>\n",
       "  <th>DAYS_BIRTH DAYS_ID_PUBLISH^2</th>           <td>   -0.6837</td> <td>    0.333</td> <td>   -2.054</td> <td> 0.040</td> <td>   -1.336</td> <td>   -0.031</td>\n",
       "</tr>\n",
       "<tr>\n",
       "  <th>DAYS_BIRTH^3</th>                           <td>   -5.3110</td> <td>    0.671</td> <td>   -7.915</td> <td> 0.000</td> <td>   -6.626</td> <td>   -3.996</td>\n",
       "</tr>\n",
       "<tr>\n",
       "  <th>DAYS_BIRTH^2</th>                           <td>    3.6616</td> <td>    0.852</td> <td>    4.297</td> <td> 0.000</td> <td>    1.992</td> <td>    5.332</td>\n",
       "</tr>\n",
       "<tr>\n",
       "  <th>DAYS_BIRTH</th>                             <td>    0.7583</td> <td>    0.463</td> <td>    1.637</td> <td> 0.102</td> <td>   -0.150</td> <td>    1.666</td>\n",
       "</tr>\n",
       "<tr>\n",
       "  <th>DAYS_BIRTH^2 DAYS_ID_PUBLISH</th>           <td>    4.0331</td> <td>    0.836</td> <td>    4.822</td> <td> 0.000</td> <td>    2.394</td> <td>    5.672</td>\n",
       "</tr>\n",
       "<tr>\n",
       "  <th>DAYS_BIRTH DAYS_ID_PUBLISH</th>             <td>   -3.2496</td> <td>    0.832</td> <td>   -3.907</td> <td> 0.000</td> <td>   -4.880</td> <td>   -1.619</td>\n",
       "</tr>\n",
       "</table>"
      ],
      "text/plain": [
       "<class 'statsmodels.iolib.table.SimpleTable'>"
      ]
     },
     "execution_count": 614,
     "metadata": {},
     "output_type": "execute_result"
    }
   ],
   "source": [
    "#calculate the significance of candidates of new features\n",
    "Version_2 = sm.add_constant(poly_features_DF[try_set2])\n",
    "est2 = sm.Logit(pp , Version_2).fit()\n",
    "est2.summary().tables[1]"
   ]
  },
  {
   "cell_type": "code",
   "execution_count": 615,
   "id": "0f2fc302",
   "metadata": {
    "execution": {
     "iopub.execute_input": "2021-11-18T14:51:01.863975Z",
     "iopub.status.busy": "2021-11-18T14:51:01.862762Z",
     "iopub.status.idle": "2021-11-18T14:51:05.733022Z",
     "shell.execute_reply": "2021-11-18T14:51:05.733879Z",
     "shell.execute_reply.started": "2021-10-09T12:44:07.586514Z"
    },
    "papermill": {
     "duration": 3.917473,
     "end_time": "2021-11-18T14:51:05.734191",
     "exception": false,
     "start_time": "2021-11-18T14:51:01.816718",
     "status": "completed"
    },
    "tags": []
   },
   "outputs": [
    {
     "name": "stdout",
     "output_type": "stream",
     "text": [
      "Optimization terminated successfully.\n",
      "         Current function value: 0.256055\n",
      "         Iterations 8\n"
     ]
    },
    {
     "data": {
      "text/html": [
       "<table class=\"simpletable\">\n",
       "<tr>\n",
       "                <td></td>                  <th>coef</th>     <th>std err</th>      <th>z</th>      <th>P>|z|</th>  <th>[0.025</th>    <th>0.975]</th>  \n",
       "</tr>\n",
       "<tr>\n",
       "  <th>EXT_SOURCE_1 EXT_SOURCE_2</th>    <td>   -1.5091</td> <td>    0.150</td> <td>  -10.084</td> <td> 0.000</td> <td>   -1.802</td> <td>   -1.216</td>\n",
       "</tr>\n",
       "<tr>\n",
       "  <th>EXT_SOURCE_1 EXT_SOURCE_3</th>    <td>   -2.4454</td> <td>    0.245</td> <td>   -9.974</td> <td> 0.000</td> <td>   -2.926</td> <td>   -1.965</td>\n",
       "</tr>\n",
       "<tr>\n",
       "  <th>EXT_SOURCE_2</th>                 <td>   -1.4177</td> <td>    0.076</td> <td>  -18.646</td> <td> 0.000</td> <td>   -1.567</td> <td>   -1.269</td>\n",
       "</tr>\n",
       "<tr>\n",
       "  <th>EXT_SOURCE_3</th>                 <td>   -1.8006</td> <td>    0.084</td> <td>  -21.401</td> <td> 0.000</td> <td>   -1.966</td> <td>   -1.636</td>\n",
       "</tr>\n",
       "<tr>\n",
       "  <th>EXT_SOURCE_1 EXT_SOURCE_3^2</th>  <td>    1.2692</td> <td>    0.243</td> <td>    5.216</td> <td> 0.000</td> <td>    0.792</td> <td>    1.746</td>\n",
       "</tr>\n",
       "<tr>\n",
       "  <th>DAYS_BIRTH^2 AMT_ANNUITY</th>     <td>    1.2303</td> <td>    0.281</td> <td>    4.377</td> <td> 0.000</td> <td>    0.679</td> <td>    1.781</td>\n",
       "</tr>\n",
       "<tr>\n",
       "  <th>DAYS_BIRTH^3</th>                 <td>   -4.7516</td> <td>    0.447</td> <td>  -10.639</td> <td> 0.000</td> <td>   -5.627</td> <td>   -3.876</td>\n",
       "</tr>\n",
       "<tr>\n",
       "  <th>DAYS_BIRTH^2</th>                 <td>    5.7845</td> <td>    0.573</td> <td>   10.094</td> <td> 0.000</td> <td>    4.661</td> <td>    6.908</td>\n",
       "</tr>\n",
       "<tr>\n",
       "  <th>DAYS_BIRTH</th>                   <td>   -1.8667</td> <td>    0.269</td> <td>   -6.937</td> <td> 0.000</td> <td>   -2.394</td> <td>   -1.339</td>\n",
       "</tr>\n",
       "<tr>\n",
       "  <th>DAYS_BIRTH^2 DAYS_ID_PUBLISH</th> <td>   -0.7178</td> <td>    0.427</td> <td>   -1.680</td> <td> 0.093</td> <td>   -1.555</td> <td>    0.119</td>\n",
       "</tr>\n",
       "<tr>\n",
       "  <th>DAYS_BIRTH DAYS_ID_PUBLISH</th>   <td>    1.3166</td> <td>    0.283</td> <td>    4.658</td> <td> 0.000</td> <td>    0.763</td> <td>    1.871</td>\n",
       "</tr>\n",
       "</table>"
      ],
      "text/plain": [
       "<class 'statsmodels.iolib.table.SimpleTable'>"
      ]
     },
     "execution_count": 615,
     "metadata": {},
     "output_type": "execute_result"
    }
   ],
   "source": [
    "#挑选出有用的参数并再计算验证\n",
    "Version_3=poly_features_DF[[\n",
    " 'EXT_SOURCE_1 EXT_SOURCE_2',\n",
    " 'EXT_SOURCE_1 EXT_SOURCE_3',\n",
    " 'EXT_SOURCE_2',\n",
    " 'EXT_SOURCE_3',\n",
    " 'EXT_SOURCE_1 EXT_SOURCE_3^2',\n",
    " 'DAYS_BIRTH^2 AMT_ANNUITY',\n",
    " 'DAYS_BIRTH^3',\n",
    " 'DAYS_BIRTH^2',\n",
    " 'DAYS_BIRTH',\n",
    " 'DAYS_BIRTH^2 DAYS_ID_PUBLISH',\n",
    " 'DAYS_BIRTH DAYS_ID_PUBLISH']]\n",
    "est3 = sm.Logit(pp , Version_3).fit()\n",
    "est3.summary().tables[1]"
   ]
  },
  {
   "cell_type": "code",
   "execution_count": 616,
   "id": "641aa6c2",
   "metadata": {},
   "outputs": [],
   "source": [
    "Version_3=poly_features_DF[['EXT_SOURCE_1 EXT_SOURCE_2',\n",
    " 'EXT_SOURCE_1 EXT_SOURCE_3',\n",
    " 'EXT_SOURCE_2',\n",
    " 'EXT_SOURCE_3',\n",
    " 'EXT_SOURCE_1 EXT_SOURCE_3^2',\n",
    " 'DAYS_BIRTH^2 AMT_ANNUITY',\n",
    " 'DAYS_BIRTH^3',\n",
    " 'DAYS_BIRTH^2',\n",
    " 'DAYS_BIRTH',\n",
    " 'DAYS_BIRTH^2 DAYS_ID_PUBLISH',\n",
    " 'DAYS_BIRTH DAYS_ID_PUBLISH']]"
   ]
  },
  {
   "cell_type": "code",
   "execution_count": 617,
   "id": "d6147b6b",
   "metadata": {
    "execution": {
     "iopub.execute_input": "2021-11-18T14:51:05.844730Z",
     "iopub.status.busy": "2021-11-18T14:51:05.844036Z",
     "iopub.status.idle": "2021-11-18T14:51:08.558303Z",
     "shell.execute_reply": "2021-11-18T14:51:08.559174Z",
     "shell.execute_reply.started": "2021-10-09T12:44:11.03763Z"
    },
    "papermill": {
     "duration": 2.772231,
     "end_time": "2021-11-18T14:51:08.559408",
     "exception": false,
     "start_time": "2021-11-18T14:51:05.787177",
     "status": "completed"
    },
    "tags": []
   },
   "outputs": [
    {
     "name": "stderr",
     "output_type": "stream",
     "text": [
      "/Users/zjd/opt/anaconda3/lib/python3.9/site-packages/sklearn/linear_model/_logistic.py:814: ConvergenceWarning: lbfgs failed to converge (status=1):\n",
      "STOP: TOTAL NO. of ITERATIONS REACHED LIMIT.\n",
      "\n",
      "Increase the number of iterations (max_iter) or scale the data as shown in:\n",
      "    https://scikit-learn.org/stable/modules/preprocessing.html\n",
      "Please also refer to the documentation for alternative solver options:\n",
      "    https://scikit-learn.org/stable/modules/linear_model.html#logistic-regression\n",
      "  n_iter_i = _check_optimize_result(\n"
     ]
    }
   ],
   "source": [
    "regr2 = skl_lm.LogisticRegression()\n",
    "regr2.fit(Version_3, poly_target)\n",
    "\n",
    "pred2 = regr2.predict(Version_3)\n",
    "cm_log2 = confusion_matrix(poly_target, pred2)\n",
    "cm_df2 = pd.DataFrame(cm_log2.T, index=regr2.classes_,\n",
    "                     columns=regr2.classes_)\n",
    "cm_df2.index.name = 'Predicted'\n",
    "cm_df2.columns.name = 'True'"
   ]
  },
  {
   "cell_type": "code",
   "execution_count": 618,
   "id": "8c7740ba",
   "metadata": {
    "execution": {
     "iopub.execute_input": "2021-11-18T14:51:08.623518Z",
     "iopub.status.busy": "2021-11-18T14:51:08.622498Z",
     "iopub.status.idle": "2021-11-18T14:51:09.171994Z",
     "shell.execute_reply": "2021-11-18T14:51:09.172463Z",
     "shell.execute_reply.started": "2021-10-09T12:44:13.75803Z"
    },
    "papermill": {
     "duration": 0.5827,
     "end_time": "2021-11-18T14:51:09.172653",
     "exception": false,
     "start_time": "2021-11-18T14:51:08.589953",
     "status": "completed"
    },
    "tags": []
   },
   "outputs": [
    {
     "name": "stdout",
     "output_type": "stream",
     "text": [
      "Pred      No    Yes\n",
      "True               \n",
      "0.0   268902  13784\n",
      "1.0    19852   4973\n",
      "              precision    recall  f1-score   support\n",
      "\n",
      "         0.0       0.93      0.95      0.94    282686\n",
      "         1.0       0.27      0.20      0.23     24825\n",
      "\n",
      "    accuracy                           0.89    307511\n",
      "   macro avg       0.60      0.58      0.58    307511\n",
      "weighted avg       0.88      0.89      0.88    307511\n",
      "\n"
     ]
    }
   ],
   "source": [
    "# set 0.2 as a standard to classify the prediction\n",
    "pred_p2 = regr2.predict_proba(Version_3)\n",
    "cm_df2 = pd.DataFrame({'True': poly_target, 'Pred': pred_p2[:,1] > .2})\n",
    "cm_df2.Pred.replace(to_replace={True:'Yes', False:'No'}, inplace=True)\n",
    "print(cm_df2.groupby(['True', 'Pred']).size().unstack('True').T)\n",
    "print(classification_report(poly_target, pred_p2[:,1] > .2))"
   ]
  },
  {
   "cell_type": "code",
   "execution_count": 619,
   "id": "dcaaf742",
   "metadata": {
    "execution": {
     "iopub.execute_input": "2021-11-18T14:51:09.243381Z",
     "iopub.status.busy": "2021-11-18T14:51:09.242413Z",
     "iopub.status.idle": "2021-11-18T14:51:09.713664Z",
     "shell.execute_reply": "2021-11-18T14:51:09.713092Z",
     "shell.execute_reply.started": "2021-10-09T12:44:14.305411Z"
    },
    "papermill": {
     "duration": 0.5112,
     "end_time": "2021-11-18T14:51:09.713817",
     "exception": false,
     "start_time": "2021-11-18T14:51:09.202617",
     "status": "completed"
    },
    "tags": []
   },
   "outputs": [
    {
     "data": {
      "image/png": "[encoded data removed]",
      "text/plain": [
       "<Figure size 720x720 with 1 Axes>"
      ]
     },
     "metadata": {},
     "output_type": "display_data"
    }
   ],
   "source": [
    "# ROC curve of Logistic Regression2\n",
    "false_pos_rate2, true_pos_rate2, _ = roc_curve(poly_target, pred_p2[:,1])\n",
    "roc_auc2 = auc(false_pos_rate2, true_pos_rate2)\n",
    "\n",
    "\n",
    "fig, (ax1) = plt.subplots(1,  figsize=(10,10))\n",
    "ax1.plot(false_pos_rate2, true_pos_rate2, label='Logistic Regression2(area = %0.2f)' % roc_auc2, color='r')\n",
    "ax1.set_title('Dataset')\n",
    "\n",
    "\n",
    "\n",
    "for ax in fig.axes:\n",
    "    ax.plot([0, 1], [0, 1], 'k--')\n",
    "    ax.set_xlim([-0.05, 1.0])\n",
    "    ax.set_ylim([0.0, 1.05])\n",
    "    ax.set_xlabel('False Positive Rate')\n",
    "    ax.set_ylabel('True Positive Rate')\n",
    "    ax.legend(loc=\"lower right\")"
   ]
  },
  {
   "cell_type": "code",
   "execution_count": 622,
   "id": "2e6d4941",
   "metadata": {
    "execution": {
     "iopub.execute_input": "2021-11-18T14:51:09.790429Z",
     "iopub.status.busy": "2021-11-18T14:51:09.789684Z",
     "iopub.status.idle": "2021-11-18T14:51:09.796196Z",
     "shell.execute_reply": "2021-11-18T14:51:09.796798Z",
     "shell.execute_reply.started": "2021-10-09T12:44:14.758549Z"
    },
    "papermill": {
     "duration": 0.049128,
     "end_time": "2021-11-18T14:51:09.797007",
     "exception": false,
     "start_time": "2021-11-18T14:51:09.747879",
     "status": "completed"
    },
    "tags": []
   },
   "outputs": [],
   "source": [
    "# obtain the final result\n",
    "pred3 =regr2.predict_proba(poly_features_test_DF[['EXT_SOURCE_1 EXT_SOURCE_2',\n",
    " 'EXT_SOURCE_1 EXT_SOURCE_3',\n",
    " 'EXT_SOURCE_2',\n",
    " 'EXT_SOURCE_3',\n",
    " 'EXT_SOURCE_1 EXT_SOURCE_3^2',\n",
    " 'DAYS_BIRTH^2 AMT_ANNUITY',\n",
    " 'DAYS_BIRTH^3',\n",
    " 'DAYS_BIRTH^2',\n",
    " 'DAYS_BIRTH',\n",
    " 'DAYS_BIRTH^2 DAYS_ID_PUBLISH',\n",
    " 'DAYS_BIRTH DAYS_ID_PUBLISH']])\n"
   ]
  },
  {
   "cell_type": "code",
   "execution_count": 623,
   "id": "74d0527d",
   "metadata": {
    "execution": {
     "iopub.execute_input": "2021-11-18T14:51:09.913903Z",
     "iopub.status.busy": "2021-11-18T14:51:09.913200Z",
     "iopub.status.idle": "2021-11-18T14:51:09.920815Z",
     "shell.execute_reply": "2021-11-18T14:51:09.921399Z",
     "shell.execute_reply.started": "2021-10-09T12:44:14.780138Z"
    },
    "papermill": {
     "duration": 0.075574,
     "end_time": "2021-11-18T14:51:09.921583",
     "exception": false,
     "start_time": "2021-11-18T14:51:09.846009",
     "status": "completed"
    },
    "tags": []
   },
   "outputs": [
    {
     "data": {
      "text/plain": [
       "       SK_ID_CURR    TARGET\n",
       "0          100001  0.052618\n",
       "1          100005  0.122956\n",
       "2          100013  0.028098\n",
       "3          100028  0.050555\n",
       "4          100038  0.125180\n",
       "...           ...       ...\n",
       "48739      456221  0.028816\n",
       "48740      456222  0.042620\n",
       "48741      456223  0.066972\n",
       "48742      456224  0.093298\n",
       "48743      456250  0.132712\n",
       "\n",
       "[48744 rows x 2 columns]"
      ]
     },
     "execution_count": 623,
     "metadata": {},
     "output_type": "execute_result"
    }
   ],
   "source": [
    "result = pd.DataFrame({'SK_ID_CURR': app_test1['SK_ID_CURR'], 'TARGET': pred3[:,1]})\n",
    "\n",
    "result"
   ]
  },
  {
   "cell_type": "code",
   "execution_count": 624,
   "id": "d625b96b",
   "metadata": {
    "execution": {
     "iopub.execute_input": "2021-11-18T14:51:09.992082Z",
     "iopub.status.busy": "2021-11-18T14:51:09.991425Z",
     "iopub.status.idle": "2021-11-18T14:51:10.186653Z",
     "shell.execute_reply": "2021-11-18T14:51:10.187199Z",
     "shell.execute_reply.started": "2021-10-09T12:44:14.79718Z"
    },
    "papermill": {
     "duration": 0.232253,
     "end_time": "2021-11-18T14:51:10.187403",
     "exception": false,
     "start_time": "2021-11-18T14:51:09.955150",
     "status": "completed"
    },
    "tags": []
   },
   "outputs": [],
   "source": [
    "# save the data for submission\n",
    "result.to_csv('resultfinal.csv', index=False)"
   ]
  },
  {
   "cell_type": "code",
   "execution_count": null,
   "id": "86609afb",
   "metadata": {},
   "outputs": [],
   "source": []
  }
 ],
 "metadata": {
  "kernelspec": {
   "display_name": "Python 3 (ipykernel)",
   "language": "python",
   "name": "python3"
  },
  "language_info": {
   "codemirror_mode": {
    "name": "ipython",
    "version": 3
   },
   "file_extension": ".py",
   "mimetype": "text/x-python",
   "name": "python",
   "nbconvert_exporter": "python",
   "pygments_lexer": "ipython3",
   "version": "3.7.11"
  },
  "latex_envs": {
   "LaTeX_envs_menu_present": true,
   "autoclose": true,
   "autocomplete": true,
   "bibliofile": "biblio.bib",
   "cite_by": "apalike",
   "current_citInitial": 1,
   "eqLabelWithNumbers": true,
   "eqNumInitial": 1,
   "hotkeys": {
    "equation": "Ctrl-E",
    "itemize": "Ctrl-I"
   },
   "labels_anchors": false,
   "latex_user_defs": false,
   "report_style_numbering": false,
   "user_envs_cfg": false
  },
  "papermill": {
   "default_parameters": {},
   "duration": 92.81059,
   "end_time": "2021-11-18T14:51:11.134522",
   "environment_variables": {},
   "exception": null,
   "input_path": "__notebook__.ipynb",
   "output_path": "__notebook__.ipynb",
   "parameters": {},
   "start_time": "2021-11-18T14:49:38.323932",
   "version": "2.3.3"
  }
 },
 "nbformat": 4,
 "nbformat_minor": 5
}
