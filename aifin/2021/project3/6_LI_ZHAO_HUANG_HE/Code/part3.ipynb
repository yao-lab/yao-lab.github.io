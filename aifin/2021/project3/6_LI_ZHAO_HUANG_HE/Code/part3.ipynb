{
 "cells": [
  {
   "cell_type": "markdown",
   "metadata": {
    "_cell_guid": "b1076dfc-b9ad-4769-8c92-a6c4dae69d19",
    "_uuid": "8f2839f25d086af736a60e9eeb907d3b93b6e0e5",
    "execution": {
     "iopub.execute_input": "2021-12-11T19:20:32.932030Z",
     "iopub.status.busy": "2021-12-11T19:20:32.931688Z",
     "iopub.status.idle": "2021-12-11T19:20:35.384450Z",
     "shell.execute_reply": "2021-12-11T19:20:35.383053Z",
     "shell.execute_reply.started": "2021-12-11T19:20:32.931941Z"
    }
   },
   "source": [
    "# Project 3 part 3\n",
    "Work flow: LightGBM (final model)\n",
    "\n",
    "Author: HE HAOKAI"
   ]
  },
  {
   "cell_type": "code",
   "execution_count": null,
   "metadata": {},
   "outputs": [],
   "source": [
    "import os\n",
    "import time\n",
    "import scipy\n",
    "import pandas as pd\n",
    "import numpy as np\n",
    "import matplotlib as mpl\n",
    "import matplotlib.pyplot as plt\n",
    "import lightgbm\n",
    "import warnings\n",
    "from sklearn import datasets\n",
    "from sklearn import preprocessing\n",
    "from sklearn.impute import SimpleImputer\n",
    "from sklearn.metrics import accuracy_score, auc, classification_report, confusion_matrix, mean_squared_error, precision_score, roc_auc_score, roc_curve\n",
    "from sklearn.model_selection import KFold\n",
    "from sklearn.preprocessing import LabelEncoder\n",
    "warnings.filterwarnings('ignore')\n",
    "pd.set_option('display.notebook_repr_html', False)\n",
    "plt.style.use('seaborn-white')\n",
    "for dirname, _, filenames in os.walk('/kaggle/input'):\n",
    "    for filename in filenames:\n",
    "        print(os.path.join(dirname, filename))\n",
    "def RandomSeedGetInt():\n",
    "    a = int(time.time() * 1000)\n",
    "    return ((a >> 12) ^ (a & 0xffffffff))"
   ]
  },
  {
   "cell_type": "raw",
   "metadata": {},
   "source": [
    "/kaggle/input/home-credit-default-risk/sample_submission.csv\n",
    "/kaggle/input/home-credit-default-risk/bureau_balance.csv\n",
    "/kaggle/input/home-credit-default-risk/POS_CASH_balance.csv\n",
    "/kaggle/input/home-credit-default-risk/application_train.csv\n",
    "/kaggle/input/home-credit-default-risk/HomeCredit_columns_description.csv\n",
    "/kaggle/input/home-credit-default-risk/application_test.csv\n",
    "/kaggle/input/home-credit-default-risk/previous_application.csv\n",
    "/kaggle/input/home-credit-default-risk/credit_card_balance.csv\n",
    "/kaggle/input/home-credit-default-risk/installments_payments.csv\n",
    "/kaggle/input/home-credit-default-risk/bureau.csv"
   ]
  },
  {
   "cell_type": "code",
   "execution_count": 2,
   "metadata": {
    "execution": {
     "iopub.execute_input": "2021-12-11T19:20:35.387950Z",
     "iopub.status.busy": "2021-12-11T19:20:35.387709Z",
     "iopub.status.idle": "2021-12-11T19:20:42.527632Z",
     "shell.execute_reply": "2021-12-11T19:20:42.526781Z",
     "shell.execute_reply.started": "2021-12-11T19:20:35.387922Z"
    }
   },
   "outputs": [],
   "source": [
    "#导入数据\n",
    "app_train = pd.read_csv('../input/home-credit-default-risk/application_train.csv')\n",
    "app_test = pd.read_csv('../input/home-credit-default-risk/application_test.csv')\n",
    "# 检查train data中的数据类型\n",
    "app_train.dtypes.value_counts()"
   ]
  },
  {
   "cell_type": "raw",
   "metadata": {},
   "source": [
    "float64    65\n",
    "int64      41\n",
    "object     16\n",
    "dtype: int64"
   ]
  },
  {
   "cell_type": "code",
   "execution_count": 3,
   "metadata": {
    "execution": {
     "iopub.execute_input": "2021-12-11T19:20:42.529296Z",
     "iopub.status.busy": "2021-12-11T19:20:42.529040Z",
     "iopub.status.idle": "2021-12-11T19:20:43.941117Z",
     "shell.execute_reply": "2021-12-11T19:20:43.940041Z",
     "shell.execute_reply.started": "2021-12-11T19:20:42.529266Z"
    }
   },
   "outputs": [],
   "source": [
    "# 编码种类不超过2的分类变量\n",
    "le = LabelEncoder()\n",
    "le_count = 0\n",
    " \n",
    "# Iterate through the columns\n",
    "for col in app_train:\n",
    "    if app_train[col].dtype == 'object':\n",
    "        app_train[col].fillna('m1ss', inplace = True)\n",
    "        # If 2 or fewer unique categories\n",
    "        if len(list(app_train[col].unique())) <= 2:\n",
    "            # Train on the training data\n",
    "            le.fit(app_train[col])\n",
    "            # Transform both training and testing data\n",
    "            app_train[col] = le.transform(app_train[col])\n",
    "            app_test[col] = le.transform(app_test[col])\n",
    "            \n",
    "            # Keep track of how many columns were label encoded\n",
    "            le_count += 1\n",
    "            \n",
    "print('%d columns were label encoded.' % le_count)"
   ]
  },
  {
   "cell_type": "raw",
   "metadata": {},
   "source": [
    "3 columns were label encoded."
   ]
  },
  {
   "cell_type": "code",
   "execution_count": 4,
   "metadata": {
    "execution": {
     "iopub.execute_input": "2021-12-11T19:20:43.942557Z",
     "iopub.status.busy": "2021-12-11T19:20:43.942348Z",
     "iopub.status.idle": "2021-12-11T19:20:44.809835Z",
     "shell.execute_reply": "2021-12-11T19:20:44.808969Z",
     "shell.execute_reply.started": "2021-12-11T19:20:43.942531Z"
    }
   },
   "outputs": [],
   "source": [
    "#处理性别变量\n",
    "app_train = pd.get_dummies(app_train)\n",
    "app_test = pd.get_dummies(app_test)\n",
    "\n",
    "print('Training Features shape: ', app_train.shape)\n",
    "print('Testing Features shape: ', app_test.shape)"
   ]
  },
  {
   "cell_type": "raw",
   "metadata": {},
   "source": [
    "Training Features shape:  (307511, 249)\n",
    "Testing Features shape:  (48744, 239)"
   ]
  },
  {
   "cell_type": "code",
   "execution_count": 5,
   "metadata": {
    "execution": {
     "iopub.execute_input": "2021-12-11T19:20:44.812011Z",
     "iopub.status.busy": "2021-12-11T19:20:44.811780Z",
     "iopub.status.idle": "2021-12-11T19:20:45.180945Z",
     "shell.execute_reply": "2021-12-11T19:20:45.180017Z",
     "shell.execute_reply.started": "2021-12-11T19:20:44.811983Z"
    }
   },
   "outputs": [],
   "source": [
    "targ = app_train['TARGET'] #save the column \"TARGET\"\n",
    " \n",
    "# Align the training and testing data, keep only columns present in both dataframes\n",
    "app_train, app_test = app_train.align(app_test, join = 'inner', axis = 1)\n",
    " \n",
    "# Add the target back to the train data\n",
    "app_train['TARGET'] = targ\n",
    " \n",
    "print('Training Features shape: ', app_train.shape)\n",
    "print('Testing Features shape: ', app_test.shape)"
   ]
  },
  {
   "cell_type": "raw",
   "metadata": {},
   "source": [
    "Training Features shape:  (307511, 240)\n",
    "Testing Features shape:  (48744, 239)"
   ]
  },
  {
   "cell_type": "code",
   "execution_count": 6,
   "metadata": {
    "execution": {
     "iopub.execute_input": "2021-12-11T19:20:45.182427Z",
     "iopub.status.busy": "2021-12-11T19:20:45.182035Z",
     "iopub.status.idle": "2021-12-11T19:21:36.597044Z",
     "shell.execute_reply": "2021-12-11T19:21:36.596316Z",
     "shell.execute_reply.started": "2021-12-11T19:20:45.182393Z"
    }
   },
   "outputs": [],
   "source": [
    "# Even though we found some null data in the train data, we can still use correlations to select appropriate variables\n",
    "# Find correlations beween variables with the target \n",
    "# and rank them in order to pick up variables relatively highly related to the response\n",
    "\n",
    "correlations = app_train.corr()['TARGET'].sort_values()"
   ]
  },
  {
   "cell_type": "code",
   "execution_count": 7,
   "metadata": {
    "execution": {
     "iopub.execute_input": "2021-12-11T19:21:36.598722Z",
     "iopub.status.busy": "2021-12-11T19:21:36.598409Z",
     "iopub.status.idle": "2021-12-11T19:21:36.608060Z",
     "shell.execute_reply": "2021-12-11T19:21:36.606971Z",
     "shell.execute_reply.started": "2021-12-11T19:21:36.598682Z"
    }
   },
   "outputs": [],
   "source": [
    "print('Variables with TOP 15 Positive Correlation coefficient:\\n', correlations.tail(15))\n",
    "print('\\nVariables with TOP 15 Negative Correlation coefficient:\\n', correlations.head(15))"
   ]
  },
  {
   "cell_type": "raw",
   "metadata": {},
   "source": [
    "Variables with TOP 15 Positive Correlation coefficient:\n",
    "DAYS_REGISTRATION                        0.041975\n",
    "OCCUPATION_TYPE_Laborers                    0.043019\n",
    "FLAG_DOCUMENT_3                          0.044346\n",
    "REG_CITY_NOT_LIVE_CITY                      0.044395\n",
    "FLAG_EMP_PHONE                           0.045982\n",
    "NAME_EDUCATION_TYPE_Secondary / secondary special    0.049824\n",
    "REG_CITY_NOT_WORK_CITY                      0.050994\n",
    "DAYS_ID_PUBLISH                          0.051457\n",
    "CODE_GENDER_M                            0.054713\n",
    "DAYS_LAST_PHONE_CHANGE                      0.055218\n",
    "NAME_INCOME_TYPE_Working                     0.057481\n",
    "REGION_RATING_CLIENT                        0.058899\n",
    "REGION_RATING_CLIENT_W_CITY                   0.060893\n",
    "DAYS_BIRTH                              0.078239\n",
    "TARGET                                 1.000000\n",
    "Name: TARGET, dtype: float64\n",
    "\n",
    "Variables with TOP 15 Negative Correlation coefficient:\n",
    "EXT_SOURCE_3                           -0.178919\n",
    "EXT_SOURCE_2                           -0.160472\n",
    "EXT_SOURCE_1                           -0.155317\n",
    "NAME_EDUCATION_TYPE_Higher education           -0.056593\n",
    "CODE_GENDER_F                          -0.054704\n",
    "NAME_INCOME_TYPE_Pensioner                 -0.046209\n",
    "ORGANIZATION_TYPE_XNA                     -0.045987\n",
    "DAYS_EMPLOYED                          -0.044932\n",
    "FLOORSMAX_AVG                          -0.044003\n",
    "FLOORSMAX_MEDI                         -0.043768\n",
    "FLOORSMAX_MODE                         -0.043226\n",
    "EMERGENCYSTATE_MODE_No                    -0.042201\n",
    "HOUSETYPE_MODE_block of flats               -0.040594\n",
    "AMT_GOODS_PRICE                         -0.039645\n",
    "REGION_POPULATION_RELATIVE                 -0.037227\n",
    "Name: TARGET, dtype: float64"
   ]
  },
  {
   "cell_type": "code",
   "execution_count": 8,
   "metadata": {
    "execution": {
     "iopub.execute_input": "2021-12-11T19:21:36.610343Z",
     "iopub.status.busy": "2021-12-11T19:21:36.609759Z",
     "iopub.status.idle": "2021-12-11T19:21:36.626568Z",
     "shell.execute_reply": "2021-12-11T19:21:36.625493Z",
     "shell.execute_reply.started": "2021-12-11T19:21:36.610299Z"
    }
   },
   "outputs": [],
   "source": [
    "def hcdrlgbm(xtrn, ytrn, xtst, fileprefix, lr, foldcnt = 10):\n",
    "    percentagestep = 100 / float(foldcnt)\n",
    "    for i in range(len(lr)):\n",
    "        foldidx = KFold(n_splits = foldcnt, shuffle = True, random_state = RandomSeedGetInt()).split(xtrn)\n",
    "        percentagestage = 0\n",
    "        pred = np.zeros(xtst.shape[0])\n",
    "        cvtstavgaccuracy = []\n",
    "        print(fileprefix + ' -- Learning rate ' + str(lr[i]) + ' in progress:')\n",
    "        for cvtrnidx, cvtstidx in foldidx:\n",
    "            cvtrn = xtrn[cvtrnidx]\n",
    "            cvtrnlbl = ytrn[cvtrnidx]\n",
    "            cvtst = xtrn[cvtstidx]\n",
    "            cvtstlbl = ytrn[cvtstidx]\n",
    "            model = lightgbm.LGBMClassifier(n_estimators = 10000, objective = 'binary', class_weight = 'balanced', learning_rate = lr[i], reg_alpha = 0.1, reg_lambda = 0.1, subsample = 0.8, random_state = RandomSeedGetInt())\n",
    "            model.fit(cvtrn, cvtrnlbl, eval_metric = 'auc', eval_set = [(cvtst, cvtstlbl), (cvtrn, cvtrnlbl)], eval_names = ['cvtst', 'cvtrn'], categorical_feature = 'auto', early_stopping_rounds = 40, verbose = 10000)\n",
    "            bestiter = model.best_iteration_\n",
    "            cvtstavgaccuracy.append(np.sum(np.abs(model.predict_proba(cvtst, num_iteration = bestiter)[:, 1] - cvtstlbl)<= 0.5) /  cvtstlbl.shape[0])\n",
    "            pred += model.predict_proba(xtst, num_iteration = bestiter)[:, 1]\n",
    "            percentagestage += percentagestep\n",
    "            print(str(percentagestage) + '%')\n",
    "        pred /= foldcnt\n",
    "        print(np.mean(cvtstavgaccuracy))\n",
    "        ans = pd.DataFrame({'SK_ID_CURR': app_test['SK_ID_CURR'], 'TARGET': pred})\n",
    "        ans.to_csv(fileprefix + '_result_learningrate' + str(lr[i]) + '.csv', index = False)"
   ]
  },
  {
   "cell_type": "code",
   "execution_count": 9,
   "metadata": {
    "execution": {
     "iopub.execute_input": "2021-12-11T19:21:36.632224Z",
     "iopub.status.busy": "2021-12-11T19:21:36.629356Z",
     "iopub.status.idle": "2021-12-11T19:31:39.296379Z",
     "shell.execute_reply": "2021-12-11T19:31:39.295509Z",
     "shell.execute_reply.started": "2021-12-11T19:21:36.632188Z"
    }
   },
   "outputs": [],
   "source": [
    "# Select the top 15 most and least correlated features\n",
    "# Fill missing values with column medians\n",
    "imputer = SimpleImputer(strategy = 'median')\n",
    "lgbm_features = app_train[list(correlations.head(15).index)+list(correlations.tail(15).index)].copy()\n",
    "lgbm_features_test = app_test[list(correlations.head(15).index)+list(correlations.tail(15).index)[:-1]].copy()\n",
    "# Separate y label from the training data\n",
    "lgbm_target = lgbm_features['TARGET']\n",
    "lgbm_features = lgbm_features.drop(columns = ['TARGET'])\n",
    "lgbm_features = imputer.fit_transform(lgbm_features)\n",
    "lgbm_features_test = imputer.transform(lgbm_features_test)\n",
    "hcdrlgbm(lgbm_features, lgbm_target, lgbm_features_test, 'corrtop15_10fold', np.array([0.01, 0.05]))"
   ]
  },
  {
   "cell_type": "raw",
   "metadata": {},
   "source": [
    "corrtop15_10fold -- Learning rate 0.01 in progress:\n",
    "10.0%\n",
    "20.0%\n",
    "30.0%\n",
    "40.0%\n",
    "50.0%\n",
    "60.0%\n",
    "70.0%\n",
    "80.0%\n",
    "90.0%\n",
    "100.0%\n",
    "0.6971522997221717\n",
    "#Score 0.73590\n",
    "corrtop15_10fold -- Learning rate 0.05 in progress:\n",
    "10.0%\n",
    "20.0%\n",
    "30.0%\n",
    "40.0%\n",
    "50.0%\n",
    "60.0%\n",
    "70.0%\n",
    "80.0%\n",
    "90.0%\n",
    "100.0%\n",
    "0.6974905008461271\n",
    "#Score 0.73609"
   ]
  },
  {
   "cell_type": "code",
   "execution_count": 10,
   "metadata": {
    "execution": {
     "iopub.execute_input": "2021-12-11T19:31:39.298488Z",
     "iopub.status.busy": "2021-12-11T19:31:39.297719Z",
     "iopub.status.idle": "2021-12-11T19:51:20.580172Z",
     "shell.execute_reply": "2021-12-11T19:51:20.579500Z",
     "shell.execute_reply.started": "2021-12-11T19:31:39.298440Z"
    }
   },
   "outputs": [],
   "source": [
    "# Select all features\n",
    "lgbm_features = app_train.copy()\n",
    "lgbm_features_test = app_test.copy()\n",
    "lgbm_target = lgbm_features['TARGET']\n",
    "lgbm_features = lgbm_features.drop(columns = ['TARGET'])\n",
    "lgbm_features = imputer.fit_transform(lgbm_features)\n",
    "lgbm_features_test = imputer.transform(lgbm_features_test)\n",
    "hcdrlgbm(lgbm_features, lgbm_target, lgbm_features_test, 'allfeatures_10fold', np.array([0.01, 0.05]))"
   ]
  },
  {
   "cell_type": "raw",
   "metadata": {},
   "source": [
    "allfeatures_10fold -- Learning rate 0.01 in progress:\n",
    "10.0%\n",
    "20.0%\n",
    "30.0%\n",
    "40.0%\n",
    "50.0%\n",
    "60.0%\n",
    "70.0%\n",
    "80.0%\n",
    "90.0%\n",
    "100.0%\n",
    "0.7063487282090029\n",
    "#Score 0.74473\n",
    "allfeatures_10fold -- Learning rate 0.05 in progress:\n",
    "10.0%\n",
    "20.0%\n",
    "30.0%\n",
    "40.0%\n",
    "50.0%\n",
    "60.0%\n",
    "70.0%\n",
    "80.0%\n",
    "90.0%\n",
    "100.0%\n",
    "0.7092982010415573\n",
    "#Score 0.74463"
   ]
  },
  {
   "cell_type": "code",
   "execution_count": 11,
   "metadata": {
    "execution": {
     "iopub.execute_input": "2021-12-11T19:51:20.581736Z",
     "iopub.status.busy": "2021-12-11T19:51:20.581191Z",
     "iopub.status.idle": "2021-12-11T19:53:37.595829Z",
     "shell.execute_reply": "2021-12-11T19:53:37.594871Z",
     "shell.execute_reply.started": "2021-12-11T19:51:20.581706Z"
    }
   },
   "outputs": [],
   "source": [
    "# Reduce the number of folds to 6\n",
    "hcdrlgbm(lgbm_features, lgbm_target, lgbm_features_test, 'allfeatures_6fold', np.array([0.05]), 6)"
   ]
  },
  {
   "cell_type": "raw",
   "metadata": {},
   "source": [
    "allfeatures_6fold -- Learning rate 0.05 in progress:\n",
    "16.666666666666668%\n",
    "33.333333333333336%\n",
    "50.0%\n",
    "66.66666666666667%\n",
    "83.33333333333334%\n",
    "100.00000000000001%\n",
    "0.7080819824310433\n",
    "#Score 0.74440"
   ]
  },
  {
   "cell_type": "code",
   "execution_count": 12,
   "metadata": {
    "execution": {
     "iopub.execute_input": "2021-12-11T19:53:37.597318Z",
     "iopub.status.busy": "2021-12-11T19:53:37.597072Z",
     "iopub.status.idle": "2021-12-11T19:54:40.154070Z",
     "shell.execute_reply": "2021-12-11T19:54:40.153455Z",
     "shell.execute_reply.started": "2021-12-11T19:53:37.597287Z"
    }
   },
   "outputs": [],
   "source": [
    "# Reduce the number of folds to 3\n",
    "hcdrlgbm(lgbm_features, lgbm_target, lgbm_features_test, 'allfeatures_3fold', np.array([0.05]), 3)"
   ]
  },
  {
   "cell_type": "raw",
   "metadata": {},
   "source": [
    "allfeatures_3fold -- Learning rate 0.05 in progress:\n",
    "33.333333333333336%\n",
    "66.66666666666667%\n",
    "100.0%\n",
    "0.7119647879171375\n",
    "#Score 0.74578"
   ]
  },
  {
   "cell_type": "code",
   "execution_count": 16,
   "metadata": {
    "execution": {
     "iopub.execute_input": "2021-12-11T20:01:11.119238Z",
     "iopub.status.busy": "2021-12-11T20:01:11.118510Z",
     "iopub.status.idle": "2021-12-11T20:02:16.671229Z",
     "shell.execute_reply": "2021-12-11T20:02:16.670632Z",
     "shell.execute_reply.started": "2021-12-11T20:01:11.119199Z"
    }
   },
   "outputs": [],
   "source": [
    "# Fill missing values with column means\n",
    "imputer = SimpleImputer(strategy = 'mean')\n",
    "lgbm_features = app_train.copy()\n",
    "lgbm_features_test = app_test.copy()\n",
    "lgbm_target = lgbm_features['TARGET']\n",
    "lgbm_features = lgbm_features.drop(columns = ['TARGET'])\n",
    "lgbm_features = imputer.fit_transform(lgbm_features)\n",
    "lgbm_features_test = imputer.transform(lgbm_features_test)\n",
    "hcdrlgbm(lgbm_features, lgbm_target, lgbm_features_test, 'allfeatures_3fold_fillmeans', np.array([0.05]), 3)"
   ]
  },
  {
   "cell_type": "raw",
   "metadata": {},
   "source": [
    "allfeatures_3fold_fillmeans -- Learning rate 0.05 in progress:\n",
    "33.333333333333336%\n",
    "66.66666666666667%\n",
    "100.0%\n",
    "0.709203895398257\n",
    "#Score 0.74345"
   ]
  },
  {
   "cell_type": "code",
   "execution_count": 17,
   "metadata": {
    "execution": {
     "iopub.execute_input": "2021-12-11T20:02:27.532205Z",
     "iopub.status.busy": "2021-12-11T20:02:27.531803Z",
     "iopub.status.idle": "2021-12-11T20:03:33.554003Z",
     "shell.execute_reply": "2021-12-11T20:03:33.553414Z",
     "shell.execute_reply.started": "2021-12-11T20:02:27.532171Z"
    }
   },
   "outputs": [],
   "source": [
    "# Fill missing values with zeros\n",
    "imputer = SimpleImputer(strategy = 'constant', fill_value = 0)\n",
    "lgbm_features = app_train.copy()\n",
    "lgbm_features_test = app_test.copy()\n",
    "lgbm_target = lgbm_features['TARGET']\n",
    "lgbm_features = lgbm_features.drop(columns = ['TARGET'])\n",
    "lgbm_features = imputer.fit_transform(lgbm_features)\n",
    "lgbm_features_test = imputer.transform(lgbm_features_test)\n",
    "hcdrlgbm(lgbm_features, lgbm_target, lgbm_features_test, 'allfeatures_3fold_fillzeros', np.array([0.05]), 3)"
   ]
  },
  {
   "cell_type": "raw",
   "metadata": {},
   "source": [
    "allfeatures_3fold_fillzeros -- Learning rate 0.05 in progress:\n",
    "33.333333333333336%\n",
    "66.66666666666667%\n",
    "100.0%\n",
    "0.7133988797534475\n",
    "#Score 0.74285"
   ]
  }
 ],
 "metadata": {
  "kernelspec": {
   "display_name": "Python 3 (ipykernel)",
   "language": "python",
   "name": "python3"
  },
  "language_info": {
   "codemirror_mode": {
    "name": "ipython",
    "version": 3
   },
   "file_extension": ".py",
   "mimetype": "text/x-python",
   "name": "python",
   "nbconvert_exporter": "python",
   "pygments_lexer": "ipython3",
   "version": "3.7.11"
  },
  "latex_envs": {
   "LaTeX_envs_menu_present": true,
   "autoclose": true,
   "autocomplete": true,
   "bibliofile": "biblio.bib",
   "cite_by": "apalike",
   "current_citInitial": 1,
   "eqLabelWithNumbers": true,
   "eqNumInitial": 1,
   "hotkeys": {
    "equation": "Ctrl-E",
    "itemize": "Ctrl-I"
   },
   "labels_anchors": false,
   "latex_user_defs": false,
   "report_style_numbering": false,
   "user_envs_cfg": false
  }
 },
 "nbformat": 4,
 "nbformat_minor": 4
}
