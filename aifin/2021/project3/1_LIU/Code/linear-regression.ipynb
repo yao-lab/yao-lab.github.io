{
 "cells": [
  {
   "cell_type": "code",
   "execution_count": 1,
   "id": "95e5763a",
   "metadata": {
    "_cell_guid": "b1076dfc-b9ad-4769-8c92-a6c4dae69d19",
    "_uuid": "8f2839f25d086af736a60e9eeb907d3b93b6e0e5",
    "execution": {
     "iopub.execute_input": "2021-12-10T08:52:56.438487Z",
     "iopub.status.busy": "2021-12-10T08:52:56.437832Z",
     "iopub.status.idle": "2021-12-10T08:52:56.441216Z",
     "shell.execute_reply": "2021-12-10T08:52:56.441721Z",
     "shell.execute_reply.started": "2021-12-10T08:47:02.445563Z"
    },
    "papermill": {
     "duration": 0.022957,
     "end_time": "2021-12-10T08:52:56.442004",
     "exception": false,
     "start_time": "2021-12-10T08:52:56.419047",
     "status": "completed"
    },
    "tags": []
   },
   "outputs": [],
   "source": [
    "# This Python 3 environment comes with many helpful analytics libraries installed\n",
    "# It is defined by the kaggle/python Docker image: https://github.com/kaggle/docker-python\n",
    "# For example, here's several helpful packages to load\n",
    "\n",
    "import numpy as np # linear algebra\n",
    "import pandas as pd # data processing, CSV file I/O (e.g. pd.read_csv)\n",
    "\n",
    "# Input data files are available in the read-only \"../input/\" directory\n",
    "# For example, running this (by clicking run or pressing Shift+Enter) will list all files under the input directory\n",
    "\n",
    "import os\n",
    "# for dirname, _, filenames in os.walk('/kaggle/input'):\n",
    "#     for filename in filenames:\n",
    "#         print(os.path.join(dirname, filename))\n",
    "\n",
    "# You can write up to 20GB to the current directory (/kaggle/working/) that gets preserved as output when you create a version using \"Save & Run All\" \n",
    "# You can also write temporary files to /kaggle/temp/, but they won't be saved outside of the current session"
   ]
  },
  {
   "cell_type": "code",
   "execution_count": 2,
   "id": "e384af5e",
   "metadata": {
    "execution": {
     "iopub.execute_input": "2021-12-10T08:52:56.462860Z",
     "iopub.status.busy": "2021-12-10T08:52:56.462205Z",
     "iopub.status.idle": "2021-12-10T08:53:57.126417Z",
     "shell.execute_reply": "2021-12-10T08:53:57.126933Z",
     "shell.execute_reply.started": "2021-12-10T08:47:02.554965Z"
    },
    "papermill": {
     "duration": 60.674739,
     "end_time": "2021-12-10T08:53:57.127123",
     "exception": false,
     "start_time": "2021-12-10T08:52:56.452384",
     "status": "completed"
    },
    "tags": []
   },
   "outputs": [
    {
     "data": {
      "text/html": [
       "<div>\n",
       "<style scoped>\n",
       "    .dataframe tbody tr th:only-of-type {\n",
       "        vertical-align: middle;\n",
       "    }\n",
       "\n",
       "    .dataframe tbody tr th {\n",
       "        vertical-align: top;\n",
       "    }\n",
       "\n",
       "    .dataframe thead th {\n",
       "        text-align: right;\n",
       "    }\n",
       "</style>\n",
       "<table border=\"1\" class=\"dataframe\">\n",
       "  <thead>\n",
       "    <tr style=\"text-align: right;\">\n",
       "      <th></th>\n",
       "      <th>Asset_ID</th>\n",
       "      <th>Weight</th>\n",
       "      <th>Asset_Name</th>\n",
       "    </tr>\n",
       "  </thead>\n",
       "  <tbody>\n",
       "    <tr>\n",
       "      <th>1</th>\n",
       "      <td>0</td>\n",
       "      <td>4.304065</td>\n",
       "      <td>Binance Coin</td>\n",
       "    </tr>\n",
       "    <tr>\n",
       "      <th>2</th>\n",
       "      <td>1</td>\n",
       "      <td>6.779922</td>\n",
       "      <td>Bitcoin</td>\n",
       "    </tr>\n",
       "    <tr>\n",
       "      <th>0</th>\n",
       "      <td>2</td>\n",
       "      <td>2.397895</td>\n",
       "      <td>Bitcoin Cash</td>\n",
       "    </tr>\n",
       "    <tr>\n",
       "      <th>10</th>\n",
       "      <td>3</td>\n",
       "      <td>4.406719</td>\n",
       "      <td>Cardano</td>\n",
       "    </tr>\n",
       "    <tr>\n",
       "      <th>13</th>\n",
       "      <td>4</td>\n",
       "      <td>3.555348</td>\n",
       "      <td>Dogecoin</td>\n",
       "    </tr>\n",
       "    <tr>\n",
       "      <th>3</th>\n",
       "      <td>5</td>\n",
       "      <td>1.386294</td>\n",
       "      <td>EOS.IO</td>\n",
       "    </tr>\n",
       "    <tr>\n",
       "      <th>5</th>\n",
       "      <td>6</td>\n",
       "      <td>5.894403</td>\n",
       "      <td>Ethereum</td>\n",
       "    </tr>\n",
       "    <tr>\n",
       "      <th>4</th>\n",
       "      <td>7</td>\n",
       "      <td>2.079442</td>\n",
       "      <td>Ethereum Classic</td>\n",
       "    </tr>\n",
       "    <tr>\n",
       "      <th>11</th>\n",
       "      <td>8</td>\n",
       "      <td>1.098612</td>\n",
       "      <td>IOTA</td>\n",
       "    </tr>\n",
       "    <tr>\n",
       "      <th>6</th>\n",
       "      <td>9</td>\n",
       "      <td>2.397895</td>\n",
       "      <td>Litecoin</td>\n",
       "    </tr>\n",
       "    <tr>\n",
       "      <th>12</th>\n",
       "      <td>10</td>\n",
       "      <td>1.098612</td>\n",
       "      <td>Maker</td>\n",
       "    </tr>\n",
       "    <tr>\n",
       "      <th>7</th>\n",
       "      <td>11</td>\n",
       "      <td>1.609438</td>\n",
       "      <td>Monero</td>\n",
       "    </tr>\n",
       "    <tr>\n",
       "      <th>9</th>\n",
       "      <td>12</td>\n",
       "      <td>2.079442</td>\n",
       "      <td>Stellar</td>\n",
       "    </tr>\n",
       "    <tr>\n",
       "      <th>8</th>\n",
       "      <td>13</td>\n",
       "      <td>1.791759</td>\n",
       "      <td>TRON</td>\n",
       "    </tr>\n",
       "  </tbody>\n",
       "</table>\n",
       "</div>"
      ],
      "text/plain": [
       "    Asset_ID    Weight        Asset_Name\n",
       "1          0  4.304065      Binance Coin\n",
       "2          1  6.779922           Bitcoin\n",
       "0          2  2.397895      Bitcoin Cash\n",
       "10         3  4.406719           Cardano\n",
       "13         4  3.555348          Dogecoin\n",
       "3          5  1.386294            EOS.IO\n",
       "5          6  5.894403          Ethereum\n",
       "4          7  2.079442  Ethereum Classic\n",
       "11         8  1.098612              IOTA\n",
       "6          9  2.397895          Litecoin\n",
       "12        10  1.098612             Maker\n",
       "7         11  1.609438            Monero\n",
       "9         12  2.079442           Stellar\n",
       "8         13  1.791759              TRON"
      ]
     },
     "execution_count": 2,
     "metadata": {},
     "output_type": "execute_result"
    }
   ],
   "source": [
    "def read_csv_strict(file_name='../input/g-research-crypto-forecasting/train.csv'):\n",
    "    df = pd.read_csv(file_name)\n",
    "    df['datetime'] = pd.to_datetime(df['timestamp'], unit='s')\n",
    "    df = df[df['datetime'] < '2021-06-13 00:00:00']\n",
    "    return df\n",
    "data_folder = \"../input/g-research-crypto-forecasting/\"\n",
    "df = read_csv_strict()\n",
    "\n",
    "df_asset_details = pd.read_csv(data_folder + 'asset_details.csv').sort_values(\"Asset_ID\")\n",
    "df_asset_details"
   ]
  },
  {
   "cell_type": "code",
   "execution_count": 3,
   "id": "b0182de1",
   "metadata": {
    "execution": {
     "iopub.execute_input": "2021-12-10T08:53:57.146330Z",
     "iopub.status.busy": "2021-12-10T08:53:57.145695Z",
     "iopub.status.idle": "2021-12-10T08:53:57.148362Z",
     "shell.execute_reply": "2021-12-10T08:53:57.148770Z",
     "shell.execute_reply.started": "2021-12-10T08:47:57.183498Z"
    },
    "papermill": {
     "duration": 0.013798,
     "end_time": "2021-12-10T08:53:57.148940",
     "exception": false,
     "start_time": "2021-12-10T08:53:57.135142",
     "status": "completed"
    },
    "tags": []
   },
   "outputs": [],
   "source": [
    "# !pip install talib-binary"
   ]
  },
  {
   "cell_type": "code",
   "execution_count": 4,
   "id": "cabcbd67",
   "metadata": {
    "execution": {
     "iopub.execute_input": "2021-12-10T08:53:57.167301Z",
     "iopub.status.busy": "2021-12-10T08:53:57.166673Z",
     "iopub.status.idle": "2021-12-10T08:53:57.175575Z",
     "shell.execute_reply": "2021-12-10T08:53:57.174955Z",
     "shell.execute_reply.started": "2021-12-10T08:47:57.189461Z"
    },
    "papermill": {
     "duration": 0.01907,
     "end_time": "2021-12-10T08:53:57.175718",
     "exception": false,
     "start_time": "2021-12-10T08:53:57.156648",
     "status": "completed"
    },
    "tags": []
   },
   "outputs": [],
   "source": [
    "def get_Xy(df_train, asset_id):\n",
    "    df = df_train[df_train[\"Asset_ID\"] == asset_id]\n",
    "    \n",
    "    # TODO: Try different features here!\n",
    "    df_proc = get_features(df)\n",
    "    df_proc['y'] = df['Target']\n",
    "    df_proc = df_proc.replace([np.inf, -np.inf], np.nan).dropna(how=\"any\")\n",
    "    \n",
    "    X = df_proc.drop(\"y\", axis=1)\n",
    "    y = df_proc[\"y\"]\n",
    "\n",
    "    return X, y\n",
    "\n",
    "# Two new features from the competition tutorial\n",
    "def upper_shadow(df):\n",
    "    return df['High'] - np.maximum(df['Close'], df['Open'])\n",
    "\n",
    "def lower_shadow(df):\n",
    "    return np.minimum(df['Close'], df['Open']) - df['Low']\n",
    "\n",
    "# A utility function to build features from the original df\n",
    "# It works for rows to, so we can reutilize it.\n",
    "# def get_features(df):\n",
    "#     df_feat = df[['Count', 'Open', 'High', 'Low', 'Close', 'Volume', 'VWAP']].copy()\n",
    "#     return df_feat\n",
    "# def get_features(df):\n",
    "#     df_feat = df[['Count', 'Open', 'High', 'Low', 'Close', 'Volume', 'VWAP']].copy()\n",
    "#     df_feat['Upper_Shadow'] = upper_shadow(df_feat)\n",
    "#     df_feat['Lower_Shadow'] = lower_shadow(df_feat)\n",
    "#     return df_feat\n",
    "\n",
    "def get_features(df):\n",
    "    df_feat = df[['Count', 'Open', 'High', 'Low', 'Close', 'Volume', 'VWAP']].copy()\n",
    "#     df_feat['Upper_Shadow'] = upper_shadow(df_feat)\n",
    "#     df_feat['Lower_Shadow'] = lower_shadow(df_feat)\n",
    "    df_feat[\"Close/Open\"] = df_feat[\"Close\"] / df_feat[\"Open\"] \n",
    "    df_feat[\"Close-Open\"] = df_feat[\"Close\"] - df_feat[\"Open\"] \n",
    "    df_feat[\"High-Low\"] = df_feat[\"High\"] - df_feat[\"Low\"] \n",
    "    df_feat[\"High/Low\"] = df_feat[\"High\"] / df_feat[\"Low\"]\n",
    "    df_feat[\"Volume/Count\"] = df_feat[\"Volume\"] / (df_feat[\"Count\"] + 1)\n",
    "    return df_feat"
   ]
  },
  {
   "cell_type": "code",
   "execution_count": 5,
   "id": "a9b08da9",
   "metadata": {
    "execution": {
     "iopub.execute_input": "2021-12-10T08:53:57.194229Z",
     "iopub.status.busy": "2021-12-10T08:53:57.193621Z",
     "iopub.status.idle": "2021-12-10T08:53:57.196589Z",
     "shell.execute_reply": "2021-12-10T08:53:57.197108Z",
     "shell.execute_reply.started": "2021-12-10T08:47:57.206034Z"
    },
    "papermill": {
     "duration": 0.0138,
     "end_time": "2021-12-10T08:53:57.197291",
     "exception": false,
     "start_time": "2021-12-10T08:53:57.183491",
     "status": "completed"
    },
    "tags": []
   },
   "outputs": [],
   "source": [
    "Validation = True"
   ]
  },
  {
   "cell_type": "markdown",
   "id": "a39108fd",
   "metadata": {
    "papermill": {
     "duration": 0.00749,
     "end_time": "2021-12-10T08:53:57.212430",
     "exception": false,
     "start_time": "2021-12-10T08:53:57.204940",
     "status": "completed"
    },
    "tags": []
   },
   "source": [
    "# Validation\n"
   ]
  },
  {
   "cell_type": "code",
   "execution_count": 6,
   "id": "7dfa1574",
   "metadata": {
    "execution": {
     "iopub.execute_input": "2021-12-10T08:53:57.231526Z",
     "iopub.status.busy": "2021-12-10T08:53:57.230847Z",
     "iopub.status.idle": "2021-12-10T08:54:13.396026Z",
     "shell.execute_reply": "2021-12-10T08:54:13.397725Z",
     "shell.execute_reply.started": "2021-12-10T08:47:57.222003Z"
    },
    "papermill": {
     "duration": 16.178009,
     "end_time": "2021-12-10T08:54:13.398075",
     "exception": false,
     "start_time": "2021-12-10T08:53:57.220066",
     "status": "completed"
    },
    "tags": []
   },
   "outputs": [
    {
     "name": "stdout",
     "output_type": "stream",
     "text": [
      "Training model for Binance Coin     (ID=0 )\n",
      "Training model for Bitcoin          (ID=1 )\n",
      "Training model for Bitcoin Cash     (ID=2 )\n",
      "Training model for Cardano          (ID=3 )\n",
      "Training model for Dogecoin         (ID=4 )\n",
      "Training model for EOS.IO           (ID=5 )\n",
      "Training model for Ethereum         (ID=6 )\n",
      "Training model for Ethereum Classic (ID=7 )\n",
      "Training model for IOTA             (ID=8 )\n",
      "Training model for Litecoin         (ID=9 )\n",
      "Training model for Maker            (ID=10)\n",
      "Training model for Monero           (ID=11)\n"
     ]
    },
    {
     "name": "stderr",
     "output_type": "stream",
     "text": [
      "/opt/conda/lib/python3.7/site-packages/numpy/lib/function_base.py:2559: RuntimeWarning: invalid value encountered in true_divide\n",
      "  c /= stddev[:, None]\n",
      "/opt/conda/lib/python3.7/site-packages/numpy/lib/function_base.py:2560: RuntimeWarning: invalid value encountered in true_divide\n",
      "  c /= stddev[None, :]\n"
     ]
    },
    {
     "name": "stdout",
     "output_type": "stream",
     "text": [
      "Training model for Stellar          (ID=12)\n",
      "Training model for TRON             (ID=13)\n",
      "Binance Coin\n",
      "0.02072978563018212\n",
      "0.02928357197316603\n",
      "Bitcoin\n",
      "0.024520033245787956\n",
      "-0.022530431183912302\n",
      "Bitcoin Cash\n",
      "0.0126205217792541\n",
      "0.014608919398618012\n",
      "Cardano\n",
      "0.010257064733893673\n",
      "0.02853093503459729\n",
      "Dogecoin\n",
      "0.004143907710088566\n",
      "0.056820296642531305\n",
      "EOS.IO\n",
      "0.024352098250205498\n",
      "0.014675175945428281\n",
      "Ethereum\n",
      "0.0383981318266129\n",
      "0.024423931824953782\n",
      "Ethereum Classic\n",
      "0.00038926958597169405\n",
      "-0.012869400806367252\n",
      "IOTA\n",
      "0.003424920222533435\n",
      "0.0036866164176339376\n",
      "Litecoin\n",
      "0.026871594500212467\n",
      "-0.0001527423654806441\n",
      "Maker\n",
      "0.006256187328761362\n",
      "0.013646913016880542\n",
      "Monero\n",
      "nan\n",
      "5.321292325854534e-18\n",
      "Stellar\n",
      "0.012815005184150453\n",
      "0.013915691322879092\n",
      "TRON\n",
      "0.002068311650628622\n",
      "0.01082889118972592\n"
     ]
    }
   ],
   "source": [
    "from sklearn.linear_model import LinearRegression,Lasso\n",
    "from sklearn.metrics import mean_squared_error\n",
    "if Validation:\n",
    "    Xs = {}\n",
    "    ys = {}\n",
    "    models = {}\n",
    "    training_mse = {}\n",
    "    validation_mse = {}\n",
    "    training_corr = {}\n",
    "    validation_corr = {}\n",
    "    for asset_id, asset_name in zip(df_asset_details['Asset_ID'], df_asset_details['Asset_Name']):\n",
    "        print(f\"Training model for {asset_name:<16} (ID={asset_id:<2})\")\n",
    "        X, y = get_Xy(df, asset_id)    \n",
    "        X_train, y_train = X[:int(len(X)*0.75)], y[:int(len(X)*0.75)]\n",
    "        X_test, y_test = X[int(len(X)*0.75):], y[int(len(X)*0.75):]\n",
    "        X_train = get_features(X_train)\n",
    "        X_test = get_features(X_test)\n",
    "        model = Lasso(alpha=0.01)\n",
    "#         model = LinearRegression()\n",
    "        model.fit(X_train, y_train)\n",
    "        y_train_pred = model.predict(X_train)\n",
    "        y_test_pred = model.predict(X_test)\n",
    "        training_mse[asset_id] = mean_squared_error(y_train_pred, y_train)\n",
    "        validation_mse[asset_id] = mean_squared_error(y_test_pred, y_test)\n",
    "        training_corr[asset_id] = np.corrcoef(y_train_pred, y_train)[0][1]\n",
    "        validation_corr[asset_id] = np.corrcoef(y_test_pred, y_test)[0][1]\n",
    "    \n",
    "    for asset_id, asset_name in zip(df_asset_details['Asset_ID'], df_asset_details['Asset_Name']):\n",
    "        print(asset_name)\n",
    "#         print(training_mse[asset_id])\n",
    "        print(training_corr[asset_id])\n",
    "#         print(validation_mse[asset_id])\n",
    "        print(validation_corr[asset_id])\n",
    "    \n",
    "    \n",
    "    \n"
   ]
  },
  {
   "cell_type": "markdown",
   "id": "0ec9b45d",
   "metadata": {
    "papermill": {
     "duration": 0.022125,
     "end_time": "2021-12-10T08:54:13.442903",
     "exception": false,
     "start_time": "2021-12-10T08:54:13.420778",
     "status": "completed"
    },
    "tags": []
   },
   "source": [
    "# Final Model"
   ]
  },
  {
   "cell_type": "code",
   "execution_count": 7,
   "id": "694fef6d",
   "metadata": {
    "execution": {
     "iopub.execute_input": "2021-12-10T08:54:13.479647Z",
     "iopub.status.busy": "2021-12-10T08:54:13.478617Z",
     "iopub.status.idle": "2021-12-10T08:54:41.397233Z",
     "shell.execute_reply": "2021-12-10T08:54:41.397786Z",
     "shell.execute_reply.started": "2021-12-10T08:48:14.664060Z"
    },
    "papermill": {
     "duration": 27.937257,
     "end_time": "2021-12-10T08:54:41.397971",
     "exception": false,
     "start_time": "2021-12-10T08:54:13.460714",
     "status": "completed"
    },
    "tags": []
   },
   "outputs": [
    {
     "name": "stdout",
     "output_type": "stream",
     "text": [
      "Training model for Binance Coin     (ID=0 )\n",
      "Training model for Bitcoin          (ID=1 )\n",
      "Training model for Bitcoin Cash     (ID=2 )\n",
      "Training model for Cardano          (ID=3 )\n",
      "Training model for Dogecoin         (ID=4 )\n",
      "Training model for EOS.IO           (ID=5 )\n",
      "Training model for Ethereum         (ID=6 )\n",
      "Training model for Ethereum Classic (ID=7 )\n",
      "Training model for IOTA             (ID=8 )\n",
      "Training model for Litecoin         (ID=9 )\n",
      "Training model for Maker            (ID=10)\n",
      "Training model for Monero           (ID=11)\n",
      "Training model for Stellar          (ID=12)\n",
      "Training model for TRON             (ID=13)\n"
     ]
    }
   ],
   "source": [
    "\n",
    "from sklearn.linear_model import LinearRegression\n",
    "Xs = {}\n",
    "ys = {}\n",
    "models = {}\n",
    "for asset_id, asset_name in zip(df_asset_details['Asset_ID'], df_asset_details['Asset_Name']):\n",
    "    print(f\"Training model for {asset_name:<16} (ID={asset_id:<2})\")\n",
    "    X, y = get_Xy(df, asset_id)    \n",
    "    Xs[asset_id], ys[asset_id] = X, y\n",
    "    X = get_features(X)\n",
    "    model = Lasso(alpha=0.01)\n",
    "    model.fit(X, y)\n",
    "    models[asset_id] = model\n",
    "\n"
   ]
  },
  {
   "cell_type": "markdown",
   "id": "b86b36c7",
   "metadata": {
    "papermill": {
     "duration": 0.028807,
     "end_time": "2021-12-10T08:54:41.455809",
     "exception": false,
     "start_time": "2021-12-10T08:54:41.427002",
     "status": "completed"
    },
    "tags": []
   },
   "source": [
    "# Begin Test\n"
   ]
  },
  {
   "cell_type": "code",
   "execution_count": 8,
   "id": "724f6b71",
   "metadata": {
    "execution": {
     "iopub.execute_input": "2021-12-10T08:54:41.520513Z",
     "iopub.status.busy": "2021-12-10T08:54:41.519889Z",
     "iopub.status.idle": "2021-12-10T08:54:41.799686Z",
     "shell.execute_reply": "2021-12-10T08:54:41.799171Z",
     "shell.execute_reply.started": "2021-12-10T08:48:40.734213Z"
    },
    "papermill": {
     "duration": 0.314824,
     "end_time": "2021-12-10T08:54:41.799836",
     "exception": false,
     "start_time": "2021-12-10T08:54:41.485012",
     "status": "completed"
    },
    "tags": []
   },
   "outputs": [
    {
     "name": "stdout",
     "output_type": "stream",
     "text": [
      "This version of the API is not optimized and should not be used to estimate the runtime of your code on the hidden test set.\n"
     ]
    },
    {
     "data": {
      "text/plain": [
       "Count             1201.000000\n",
       "Open                 1.478556\n",
       "High                 1.486030\n",
       "Low                  1.478000\n",
       "Close                1.483681\n",
       "Volume          654799.561103\n",
       "VWAP                 1.481439\n",
       "Close/Open           1.003467\n",
       "Close-Open           0.005126\n",
       "High-Low             0.008030\n",
       "High/Low             1.005433\n",
       "Volume/Count       544.758370\n",
       "Name: 0, dtype: float64"
      ]
     },
     "metadata": {},
     "output_type": "display_data"
    },
    {
     "data": {
      "text/html": [
       "<div>\n",
       "<style scoped>\n",
       "    .dataframe tbody tr th:only-of-type {\n",
       "        vertical-align: middle;\n",
       "    }\n",
       "\n",
       "    .dataframe tbody tr th {\n",
       "        vertical-align: top;\n",
       "    }\n",
       "\n",
       "    .dataframe thead th {\n",
       "        text-align: right;\n",
       "    }\n",
       "</style>\n",
       "<table border=\"1\" class=\"dataframe\">\n",
       "  <thead>\n",
       "    <tr style=\"text-align: right;\">\n",
       "      <th></th>\n",
       "      <th>row_id</th>\n",
       "      <th>Target</th>\n",
       "    </tr>\n",
       "  </thead>\n",
       "  <tbody>\n",
       "    <tr>\n",
       "      <th>0</th>\n",
       "      <td>0</td>\n",
       "      <td>4.033104e-05</td>\n",
       "    </tr>\n",
       "    <tr>\n",
       "      <th>1</th>\n",
       "      <td>1</td>\n",
       "      <td>1.059287e-04</td>\n",
       "    </tr>\n",
       "    <tr>\n",
       "      <th>2</th>\n",
       "      <td>2</td>\n",
       "      <td>2.464541e-05</td>\n",
       "    </tr>\n",
       "    <tr>\n",
       "      <th>3</th>\n",
       "      <td>3</td>\n",
       "      <td>-3.368399e-05</td>\n",
       "    </tr>\n",
       "    <tr>\n",
       "      <th>4</th>\n",
       "      <td>4</td>\n",
       "      <td>-2.816093e-05</td>\n",
       "    </tr>\n",
       "    <tr>\n",
       "      <th>5</th>\n",
       "      <td>5</td>\n",
       "      <td>2.618234e-05</td>\n",
       "    </tr>\n",
       "    <tr>\n",
       "      <th>6</th>\n",
       "      <td>6</td>\n",
       "      <td>1.022825e-04</td>\n",
       "    </tr>\n",
       "    <tr>\n",
       "      <th>7</th>\n",
       "      <td>7</td>\n",
       "      <td>-1.363057e-06</td>\n",
       "    </tr>\n",
       "    <tr>\n",
       "      <th>8</th>\n",
       "      <td>8</td>\n",
       "      <td>2.844600e-06</td>\n",
       "    </tr>\n",
       "    <tr>\n",
       "      <th>9</th>\n",
       "      <td>9</td>\n",
       "      <td>-3.380900e-05</td>\n",
       "    </tr>\n",
       "    <tr>\n",
       "      <th>10</th>\n",
       "      <td>10</td>\n",
       "      <td>-1.720007e-05</td>\n",
       "    </tr>\n",
       "    <tr>\n",
       "      <th>11</th>\n",
       "      <td>11</td>\n",
       "      <td>-2.044307e-07</td>\n",
       "    </tr>\n",
       "    <tr>\n",
       "      <th>12</th>\n",
       "      <td>12</td>\n",
       "      <td>4.761348e-06</td>\n",
       "    </tr>\n",
       "    <tr>\n",
       "      <th>13</th>\n",
       "      <td>13</td>\n",
       "      <td>8.162174e-06</td>\n",
       "    </tr>\n",
       "  </tbody>\n",
       "</table>\n",
       "</div>"
      ],
      "text/plain": [
       "    row_id        Target\n",
       "0        0  4.033104e-05\n",
       "1        1  1.059287e-04\n",
       "2        2  2.464541e-05\n",
       "3        3 -3.368399e-05\n",
       "4        4 -2.816093e-05\n",
       "5        5  2.618234e-05\n",
       "6        6  1.022825e-04\n",
       "7        7 -1.363057e-06\n",
       "8        8  2.844600e-06\n",
       "9        9 -3.380900e-05\n",
       "10      10 -1.720007e-05\n",
       "11      11 -2.044307e-07\n",
       "12      12  4.761348e-06\n",
       "13      13  8.162174e-06"
      ]
     },
     "metadata": {},
     "output_type": "display_data"
    }
   ],
   "source": [
    "import gresearch_crypto\n",
    "\n",
    "env = gresearch_crypto.make_env()\n",
    "iter_test = env.iter_test()\n",
    "\n",
    "for i, (df_test, df_pred) in enumerate(iter_test):\n",
    "    for j , row in df_test.iterrows():\n",
    "        \n",
    "        model = models[row['Asset_ID']]\n",
    "        x_test = get_features(row)\n",
    "        y_pred = model.predict([x_test])[0]\n",
    "        df_pred.loc[df_pred['row_id'] == row['row_id'], 'Target'] = y_pred\n",
    "        # Print just one sample row to get a feeling of what it looks like\n",
    "        if i == 0 and j == 0:\n",
    "            display(x_test)\n",
    "    # Display the first prediction dataframe\n",
    "    if i == 0:\n",
    "        display(df_pred)\n",
    "    # Send submissions\n",
    "    env.predict(df_pred)"
   ]
  }
 ],
 "metadata": {
  "kernelspec": {
   "display_name": "Python 3",
   "language": "python",
   "name": "python3"
  },
  "language_info": {
   "codemirror_mode": {
    "name": "ipython",
    "version": 3
   },
   "file_extension": ".py",
   "mimetype": "text/x-python",
   "name": "python",
   "nbconvert_exporter": "python",
   "pygments_lexer": "ipython3",
   "version": "3.7.12"
  },
  "papermill": {
   "default_parameters": {},
   "duration": 114.539361,
   "end_time": "2021-12-10T08:54:42.526468",
   "environment_variables": {},
   "exception": null,
   "input_path": "__notebook__.ipynb",
   "output_path": "__notebook__.ipynb",
   "parameters": {},
   "start_time": "2021-12-10T08:52:47.987107",
   "version": "2.3.3"
  }
 },
 "nbformat": 4,
 "nbformat_minor": 5
}
