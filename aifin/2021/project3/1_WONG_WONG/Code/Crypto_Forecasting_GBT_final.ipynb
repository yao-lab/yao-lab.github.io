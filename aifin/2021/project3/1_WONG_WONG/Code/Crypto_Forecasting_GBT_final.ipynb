{
 "cells": [
  {
   "cell_type": "code",
   "execution_count": 2,
   "metadata": {
    "executionInfo": {
     "elapsed": 4017,
     "status": "ok",
     "timestamp": 1638520189471,
     "user": {
      "displayName": "Alfred Wong",
      "photoUrl": "https://lh3.googleusercontent.com/a/default-user=s64",
      "userId": "07405245146433801024"
     },
     "user_tz": -480
    },
    "id": "lvnOQShfCOfD"
   },
   "outputs": [],
   "source": [
    "# If you are not using Colab, you can skip the first 4 cells and make sure the dataset are in your working directory\n",
    "# Code to read csv file into Colaboratory:\n",
    "!pip install -U -q PyDrive\n",
    "from pydrive.auth import GoogleAuth\n",
    "from pydrive.drive import GoogleDrive\n",
    "from google.colab import auth\n",
    "from oauth2client.client import GoogleCredentials\n",
    "# Authenticate and create the PyDrive client.\n",
    "auth.authenticate_user()\n",
    "gauth = GoogleAuth()\n",
    "gauth.credentials = GoogleCredentials.get_application_default()\n",
    "drive = GoogleDrive(gauth)"
   ]
  },
  {
   "cell_type": "code",
   "execution_count": 11,
   "metadata": {
    "executionInfo": {
     "elapsed": 1954,
     "status": "ok",
     "timestamp": 1638518563978,
     "user": {
      "displayName": "Alfred Wong",
      "photoUrl": "https://lh3.googleusercontent.com/a/default-user=s64",
      "userId": "07405245146433801024"
     },
     "user_tz": -480
    },
    "id": "FQ-f2NYcCUIi"
   },
   "outputs": [],
   "source": [
    "## We download the datasets into Colab\n",
    "\n",
    "id = '1xmdWz92zLVjrfHWPfD4T5sW58izUC34i'\n",
    "downloaded = drive.CreateFile({'id':id}) \n",
    "downloaded.GetContentFile('asset_details.csv')\n"
   ]
  },
  {
   "cell_type": "code",
   "execution_count": null,
   "metadata": {
    "id": "MNh5rkNAerj7"
   },
   "outputs": [],
   "source": [
    "id2 = '1m53-zySL0nkNyii5gk91e2V0ucWra60o'\n",
    "downloaded = drive.CreateFile({'id':id2}) \n",
    "downloaded.GetContentFile('supplemental_train.csv')"
   ]
  },
  {
   "cell_type": "code",
   "execution_count": 2,
   "metadata": {
    "executionInfo": {
     "elapsed": 145301,
     "status": "ok",
     "timestamp": 1638518336140,
     "user": {
      "displayName": "Alfred Wong",
      "photoUrl": "https://lh3.googleusercontent.com/a/default-user=s64",
      "userId": "07405245146433801024"
     },
     "user_tz": -480
    },
    "id": "7A7PTcQmj-My"
   },
   "outputs": [],
   "source": [
    "id3 = '1dFO-lIeLKBx4V3JqVOrx5L7ymSxH18Vl'\n",
    "downloaded = drive.CreateFile({'id':id3}) \n",
    "downloaded.GetContentFile('train.csv')"
   ]
  },
  {
   "cell_type": "code",
   "execution_count": 3,
   "metadata": {
    "executionInfo": {
     "elapsed": 20800,
     "status": "ok",
     "timestamp": 1638520224620,
     "user": {
      "displayName": "Alfred Wong",
      "photoUrl": "https://lh3.googleusercontent.com/a/default-user=s64",
      "userId": "07405245146433801024"
     },
     "user_tz": -480
    },
    "id": "xigONSTcGZI7"
   },
   "outputs": [],
   "source": [
    "id4 = '1gz1EzYSq1d1Ggox9Hel0DYK64YZVo1y0'\n",
    "downloaded = drive.CreateFile({'id':id4}) \n",
    "downloaded.GetContentFile('Bitcoin_df.csv')"
   ]
  },
  {
   "cell_type": "code",
   "execution_count": 1,
   "metadata": {
    "executionInfo": {
     "elapsed": 1070,
     "status": "ok",
     "timestamp": 1638520261229,
     "user": {
      "displayName": "Alfred Wong",
      "photoUrl": "https://lh3.googleusercontent.com/a/default-user=s64",
      "userId": "07405245146433801024"
     },
     "user_tz": -480
    },
    "id": "Sl0OBDdSBU_S"
   },
   "outputs": [],
   "source": [
    "############################ After we mount the google drive files to the workspace ###\n",
    "############################# Restart Colab runtime here and release memory############\n",
    "import pandas as pd\n",
    "import numpy as np\n",
    "from datetime import datetime\n",
    "import seaborn as sns\n",
    "import matplotlib.pyplot as plt\n",
    "import scipy.stats as stats\n",
    "import gc"
   ]
  },
  {
   "cell_type": "code",
   "execution_count": 2,
   "metadata": {
    "colab": {
     "base_uri": "https://localhost:8080/",
     "height": 488
    },
    "executionInfo": {
     "elapsed": 762,
     "status": "ok",
     "timestamp": 1638518594507,
     "user": {
      "displayName": "Alfred Wong",
      "photoUrl": "https://lh3.googleusercontent.com/a/default-user=s64",
      "userId": "07405245146433801024"
     },
     "user_tz": -480
    },
    "id": "zZNNhnk2DCji",
    "outputId": "2114376a-4585-464e-d871-cf801a1a9dac"
   },
   "outputs": [
    {
     "data": {
      "text/html": [
       "<div>\n",
       "<style scoped>\n",
       "    .dataframe tbody tr th:only-of-type {\n",
       "        vertical-align: middle;\n",
       "    }\n",
       "\n",
       "    .dataframe tbody tr th {\n",
       "        vertical-align: top;\n",
       "    }\n",
       "\n",
       "    .dataframe thead th {\n",
       "        text-align: right;\n",
       "    }\n",
       "</style>\n",
       "<table border=\"1\" class=\"dataframe\">\n",
       "  <thead>\n",
       "    <tr style=\"text-align: right;\">\n",
       "      <th></th>\n",
       "      <th>Asset_ID</th>\n",
       "      <th>Weight</th>\n",
       "      <th>Asset_Name</th>\n",
       "    </tr>\n",
       "  </thead>\n",
       "  <tbody>\n",
       "    <tr>\n",
       "      <th>0</th>\n",
       "      <td>0</td>\n",
       "      <td>4.304065</td>\n",
       "      <td>Binance Coin</td>\n",
       "    </tr>\n",
       "    <tr>\n",
       "      <th>1</th>\n",
       "      <td>1</td>\n",
       "      <td>6.779922</td>\n",
       "      <td>Bitcoin</td>\n",
       "    </tr>\n",
       "    <tr>\n",
       "      <th>2</th>\n",
       "      <td>2</td>\n",
       "      <td>2.397895</td>\n",
       "      <td>Bitcoin Cash</td>\n",
       "    </tr>\n",
       "    <tr>\n",
       "      <th>3</th>\n",
       "      <td>3</td>\n",
       "      <td>4.406719</td>\n",
       "      <td>Cardano</td>\n",
       "    </tr>\n",
       "    <tr>\n",
       "      <th>4</th>\n",
       "      <td>4</td>\n",
       "      <td>3.555348</td>\n",
       "      <td>Dogecoin</td>\n",
       "    </tr>\n",
       "    <tr>\n",
       "      <th>5</th>\n",
       "      <td>5</td>\n",
       "      <td>1.386294</td>\n",
       "      <td>EOS.IO</td>\n",
       "    </tr>\n",
       "    <tr>\n",
       "      <th>6</th>\n",
       "      <td>6</td>\n",
       "      <td>5.894403</td>\n",
       "      <td>Ethereum</td>\n",
       "    </tr>\n",
       "    <tr>\n",
       "      <th>7</th>\n",
       "      <td>7</td>\n",
       "      <td>2.079442</td>\n",
       "      <td>Ethereum Classic</td>\n",
       "    </tr>\n",
       "    <tr>\n",
       "      <th>8</th>\n",
       "      <td>8</td>\n",
       "      <td>1.098612</td>\n",
       "      <td>IOTA</td>\n",
       "    </tr>\n",
       "    <tr>\n",
       "      <th>9</th>\n",
       "      <td>9</td>\n",
       "      <td>2.397895</td>\n",
       "      <td>Litecoin</td>\n",
       "    </tr>\n",
       "    <tr>\n",
       "      <th>10</th>\n",
       "      <td>10</td>\n",
       "      <td>1.098612</td>\n",
       "      <td>Maker</td>\n",
       "    </tr>\n",
       "    <tr>\n",
       "      <th>11</th>\n",
       "      <td>11</td>\n",
       "      <td>1.609438</td>\n",
       "      <td>Monero</td>\n",
       "    </tr>\n",
       "    <tr>\n",
       "      <th>12</th>\n",
       "      <td>12</td>\n",
       "      <td>2.079442</td>\n",
       "      <td>Stellar</td>\n",
       "    </tr>\n",
       "    <tr>\n",
       "      <th>13</th>\n",
       "      <td>13</td>\n",
       "      <td>1.791759</td>\n",
       "      <td>TRON</td>\n",
       "    </tr>\n",
       "  </tbody>\n",
       "</table>\n",
       "</div>"
      ],
      "text/plain": [
       "    Asset_ID    Weight        Asset_Name\n",
       "0          0  4.304065      Binance Coin\n",
       "1          1  6.779922           Bitcoin\n",
       "2          2  2.397895      Bitcoin Cash\n",
       "3          3  4.406719           Cardano\n",
       "4          4  3.555348          Dogecoin\n",
       "5          5  1.386294            EOS.IO\n",
       "6          6  5.894403          Ethereum\n",
       "7          7  2.079442  Ethereum Classic\n",
       "8          8  1.098612              IOTA\n",
       "9          9  2.397895          Litecoin\n",
       "10        10  1.098612             Maker\n",
       "11        11  1.609438            Monero\n",
       "12        12  2.079442           Stellar\n",
       "13        13  1.791759              TRON"
      ]
     },
     "execution_count": 2,
     "metadata": {},
     "output_type": "execute_result"
    }
   ],
   "source": [
    "## Read in the asset_details data set\n",
    "asset_info = pd.read_csv('asset_details.csv')\n",
    "asset_info = asset_info.sort_values('Asset_ID',ascending=True).reset_index().iloc[:,1:]\n",
    "Asset_ID = np.unique(asset_info['Asset_ID'])\n",
    "asset_info"
   ]
  },
  {
   "cell_type": "code",
   "execution_count": null,
   "metadata": {
    "id": "NBhjVdLqYo7Y"
   },
   "outputs": [],
   "source": [
    "## Read in the supplemental train set\n",
    "suppl_train = pd.read_csv('supplemental_train.csv')"
   ]
  },
  {
   "cell_type": "code",
   "execution_count": 3,
   "metadata": {
    "executionInfo": {
     "elapsed": 45539,
     "status": "ok",
     "timestamp": 1638522836444,
     "user": {
      "displayName": "Alfred Wong",
      "photoUrl": "https://lh3.googleusercontent.com/a/default-user=s64",
      "userId": "07405245146433801024"
     },
     "user_tz": -480
    },
    "id": "R_5uG-44p-WE"
   },
   "outputs": [],
   "source": [
    "## Read in the train set\n",
    "train = pd.read_csv('train.csv')"
   ]
  },
  {
   "cell_type": "code",
   "execution_count": null,
   "metadata": {
    "id": "dDHqhgFvfKXp"
   },
   "outputs": [],
   "source": [
    "print(train.shape)\n",
    "print(suppl_train.shape)\n",
    "print(train.tail())"
   ]
  },
  {
   "cell_type": "code",
   "execution_count": null,
   "metadata": {
    "colab": {
     "base_uri": "https://localhost:8080/",
     "height": 411
    },
    "executionInfo": {
     "elapsed": 15219,
     "status": "ok",
     "timestamp": 1637990215262,
     "user": {
      "displayName": "Alfred Wong",
      "photoUrl": "https://lh3.googleusercontent.com/a/default-user=s64",
      "userId": "07405245146433801024"
     },
     "user_tz": -480
    },
    "id": "yO7DPCxza1Qr",
    "outputId": "6fe3d14c-4453-4ff0-a53b-3e5b6ee9a4a0"
   },
   "outputs": [
    {
     "data": {
      "image/png": "[encoded data removed]",
      "text/plain": [
       "<Figure size 1152x432 with 2 Axes>"
      ]
     },
     "metadata": {
      "needs_background": "light"
     },
     "output_type": "display_data"
    }
   ],
   "source": [
    "## Examine the correlation of the target for each crypto\n",
    "X = train.pivot(index='timestamp', columns='Asset_ID')['Target']\n",
    "X = X.dropna(axis=0, how='any')\n",
    "plt.figure(figsize=(16, 6))\n",
    "heatmap = sns.heatmap(X.corr(), vmin=-1, vmax=1, annot=True, cmap='BrBG')\n",
    "# Give a title to the heatmap. Pad defines the distance of the title from the top of the heatmap.\n",
    "heatmap.set_title('Correlation Heatmap', fontdict={'fontsize':12}, pad=12);\n",
    "#del(X)"
   ]
  },
  {
   "cell_type": "code",
   "execution_count": null,
   "metadata": {
    "id": "2GqwdaYt0aFl"
   },
   "outputs": [],
   "source": [
    "fig, ax = plt.subplots(14,14,figsize=(72, 3.5*14))\n",
    "for i in range(0,14):\n",
    "    for j in range(i,14):\n",
    "        if (i != j):\n",
    "            asset_ij = 'rolling_corr_of_' + str(i) + '_and_' + str(j)\n",
    "            ax[i][j].plot(X.loc[:,i].rolling(48*60).corr(X.loc[:,j]))\n",
    "            ax[i][j].set_title(asset_ij)\n"
   ]
  },
  {
   "cell_type": "code",
   "execution_count": null,
   "metadata": {
    "colab": {
     "base_uri": "https://localhost:8080/"
    },
    "executionInfo": {
     "elapsed": 1153,
     "status": "ok",
     "timestamp": 1637994784060,
     "user": {
      "displayName": "Alfred Wong",
      "photoUrl": "https://lh3.googleusercontent.com/a/default-user=s64",
      "userId": "07405245146433801024"
     },
     "user_tz": -480
    },
    "id": "PkTk_49c5wFT",
    "outputId": "fd9566a9-9aaa-42c5-8aea-048bba0036b9"
   },
   "outputs": [
    {
     "data": {
      "text/plain": [
       "array([ 60, 120, 180, 240, 300, 360, 480], dtype=int32)"
      ]
     },
     "execution_count": 80,
     "metadata": {},
     "output_type": "execute_result"
    }
   ],
   "source": [
    "## Note the timestamp does not always move by 60 secs, and sometimes it moves forward by 8 mins without trading in between\n",
    "time_index = np.unique(train['timestamp'])\n",
    "diff = time_index[1:]-time_index[0:-1]\n",
    "stats.describe(diff)\n",
    "np.unique(diff)"
   ]
  },
  {
   "cell_type": "code",
   "execution_count": null,
   "metadata": {
    "colab": {
     "base_uri": "https://localhost:8080/"
    },
    "executionInfo": {
     "elapsed": 374,
     "status": "ok",
     "timestamp": 1638001179994,
     "user": {
      "displayName": "Alfred Wong",
      "photoUrl": "https://lh3.googleusercontent.com/a/default-user=s64",
      "userId": "07405245146433801024"
     },
     "user_tz": -480
    },
    "id": "pqjn5jI3MexD",
    "outputId": "5d69dcfb-f592-4e34-9b06-5090c5e1b448"
   },
   "outputs": [
    {
     "data": {
      "text/plain": [
       "322857"
      ]
     },
     "execution_count": 85,
     "metadata": {},
     "output_type": "execute_result"
    }
   ],
   "source": [
    "del(X)\n",
    "del(fig)\n",
    "del(ax)\n",
    "del(time_index)\n",
    "del(diff)\n",
    "gc.collect()"
   ]
  },
  {
   "cell_type": "code",
   "execution_count": 6,
   "metadata": {},
   "outputs": [],
   "source": [
    "##### Define some utilities function\n",
    "\n",
    "# A function to tabulate % of missing values in each of the column in a dataframe\n",
    "def missing_val_table(dataframe):\n",
    "    na_columns = [col for col in dataframe.columns if dataframe[col].isnull().sum() > 0]\n",
    "    n_miss = dataframe[na_columns].isnull().sum().sort_values(ascending=False)\n",
    "    ratio = (dataframe[na_columns].isnull().sum() / dataframe.shape[0] * 100).sort_values(ascending=False)\n",
    "    missing_df = pd.concat([n_miss, np.round(ratio, 2)], axis=1, keys=['n_miss', 'ratio'])\n",
    "    return missing_df"
   ]
  },
  {
   "cell_type": "code",
   "execution_count": 5,
   "metadata": {
    "executionInfo": {
     "elapsed": 268,
     "status": "ok",
     "timestamp": 1638521319741,
     "user": {
      "displayName": "Alfred Wong",
      "photoUrl": "https://lh3.googleusercontent.com/a/default-user=s64",
      "userId": "07405245146433801024"
     },
     "user_tz": -480
    },
    "id": "eWpJSWuMlJVe"
   },
   "outputs": [],
   "source": [
    "## Define a function to downcast the variables to save memory\n",
    "def reduce_mem_usage(df, verbose=True):\n",
    "    numerics = ['int16', 'int32', 'int64', 'float16', 'float32', 'float64']\n",
    "    start_mem = df.memory_usage().sum() / 1024**2    \n",
    "    for col in df.columns:\n",
    "        col_type = df[col].dtypes\n",
    "        if col_type in numerics: \n",
    "            c_min = df[col].min()\n",
    "            c_max = df[col].max()\n",
    "            if str(col_type)[:3] == 'int':\n",
    "                if c_min > np.iinfo(np.int8).min and c_max < np.iinfo(np.int8).max:\n",
    "                    df[col] = df[col].astype(np.int8)\n",
    "                elif c_min > np.iinfo(np.int16).min and c_max < np.iinfo(np.int16).max:\n",
    "                    df[col] = df[col].astype(np.int16)\n",
    "                elif c_min > np.iinfo(np.int32).min and c_max < np.iinfo(np.int32).max:\n",
    "                    df[col] = df[col].astype(np.int32)\n",
    "                elif c_min > np.iinfo(np.int64).min and c_max < np.iinfo(np.int64).max:\n",
    "                    df[col] = df[col].astype(np.int64)  \n",
    "            else:\n",
    "                if c_min > np.finfo(np.float16).min and c_max < np.finfo(np.float16).max:\n",
    "                    df[col] = df[col].astype(np.float16)\n",
    "                elif c_min > np.finfo(np.float32).min and c_max < np.finfo(np.float32).max:\n",
    "                    df[col] = df[col].astype(np.float32)\n",
    "                else:\n",
    "                    df[col] = df[col].astype(np.float64)    \n",
    "    end_mem = df.memory_usage().sum() / 1024**2\n",
    "    if verbose: print('Mem. usage decreased to {:5.2f} Mb ({:.1f}% reduction)'.format(end_mem, 100 * (start_mem - end_mem) / start_mem))"
   ]
  },
  {
   "cell_type": "code",
   "execution_count": null,
   "metadata": {
    "colab": {
     "base_uri": "https://localhost:8080/"
    },
    "collapsed": true,
    "executionInfo": {
     "elapsed": 786,
     "status": "ok",
     "timestamp": 1638001357697,
     "user": {
      "displayName": "Alfred Wong",
      "photoUrl": "https://lh3.googleusercontent.com/a/default-user=s64",
      "userId": "07405245146433801024"
     },
     "user_tz": -480
    },
    "id": "Hlkv3fBJoT5E",
    "outputId": "91be1c6a-8346-4a3e-a50e-1c5fed6fc77f"
   },
   "outputs": [
    {
     "name": "stdout",
     "output_type": "stream",
     "text": [
      "Mem. usage decreased to 48.04 Mb (0.0% reduction)\n"
     ]
    },
    {
     "data": {
      "text/plain": [
       "timestamp      int32\n",
       "Asset_ID        int8\n",
       "Count        float32\n",
       "Open         float16\n",
       "High         float16\n",
       "Low          float16\n",
       "Close        float16\n",
       "Volume       float32\n",
       "VWAP         float16\n",
       "Target       float16\n",
       "dtype: object"
      ]
     },
     "execution_count": 89,
     "metadata": {},
     "output_type": "execute_result"
    }
   ],
   "source": [
    "reduce_mem_usage(suppl_train)\n",
    "# Check the current data types\n",
    "suppl_train.dtypes"
   ]
  },
  {
   "cell_type": "code",
   "execution_count": 7,
   "metadata": {
    "colab": {
     "base_uri": "https://localhost:8080/"
    },
    "executionInfo": {
     "elapsed": 4752,
     "status": "ok",
     "timestamp": 1638519341450,
     "user": {
      "displayName": "Alfred Wong",
      "photoUrl": "https://lh3.googleusercontent.com/a/default-user=s64",
      "userId": "07405245146433801024"
     },
     "user_tz": -480
    },
    "id": "w-hHh0CvrieN",
    "outputId": "282bbdde-14b3-4179-d474-d1dc6bbaa05e"
   },
   "outputs": [
    {
     "name": "stdout",
     "output_type": "stream",
     "text": [
      "Mem. usage decreased to 716.53 Mb (61.2% reduction)\n"
     ]
    },
    {
     "data": {
      "text/plain": [
       "timestamp      int32\n",
       "Asset_ID        int8\n",
       "Count        float32\n",
       "Open         float16\n",
       "High         float16\n",
       "Low          float16\n",
       "Close        float16\n",
       "Volume       float32\n",
       "VWAP         float64\n",
       "Target       float16\n",
       "dtype: object"
      ]
     },
     "execution_count": 7,
     "metadata": {},
     "output_type": "execute_result"
    }
   ],
   "source": [
    "reduce_mem_usage(train)\n",
    "# Check the current data types\n",
    "train.dtypes"
   ]
  },
  {
   "cell_type": "code",
   "execution_count": null,
   "metadata": {
    "id": "1rjJT9K3L321"
   },
   "outputs": [],
   "source": [
    "################################# Data Processing on a high level for all assets on the master train data set\n",
    "## Create a column in the training dataset for the minute return of each asset\n",
    "\n",
    "for a_id in Asset_ID:\n",
    "    df_temp = train.loc[train[\"Asset_ID\"]==a_id,:].reset_index().loc[:,['timestamp','Asset_ID','Close']]\n",
    "    col = 'RET_' + str(a_id)\n",
    "    df_temp[col] = df_temp['Close']/df_temp['Close'].shift(1) - 1\n",
    "    train = pd.merge(train, df_temp.drop(columns=['Close']), on=['timestamp', 'Asset_ID'], how='left')\n",
    "    del(df_temp)\n",
    "    gc.collect()\n",
    "\n",
    "train.iloc[:,10:] = train.iloc[:,10:].fillna(value=0)\n",
    "train['RET'] = train.iloc[:, 10:].sum(axis=1)\n",
    "train.drop(columns=train.columns[10:-1],inplace=True)"
   ]
  },
  {
   "cell_type": "code",
   "execution_count": null,
   "metadata": {
    "id": "l8w1nat0MHGd"
   },
   "outputs": [],
   "source": [
    "##### Part of Feature engineering, we create a proxy of the market Index by computing the weighted average\n",
    "## of mintue returns of all the available crypto-assets at all timestamps\n",
    "## This step takes long and can last for several hours\n",
    "\n",
    "Crypto_index = pd.DataFrame({'timestamp':np.unique(train['timestamp']), 'RET_M':np.zeros(len(np.unique(train['timestamp'])))})\n",
    "#k = 0\n",
    "for t in np.unique(train['timestamp']):\n",
    "    X_t = train.loc[train['timestamp']==t,'Asset_ID']\n",
    "    W_t = asset_info.loc[X_t,'Weight']\n",
    "    del(X_t)\n",
    "    gc.collect()\n",
    "    W_t = W_t/sum(W_t)\n",
    "    W_t = W_t.reset_index().loc[:,'Weight']\n",
    "    RET_t = train.loc[train['timestamp']==t,'RET'].reset_index().loc[:,'RET']\n",
    "    Crypto_index.loc[k,'RET_M'] = sum(W_t*RET_t)\n",
    "    k += 1\n",
    "    if (k%10000 == 0):\n",
    "        print(k)\n",
    "    del(W_t)\n",
    "    del(RET_t)\n",
    "    gc.collect()\n",
    "#reduce_mem_usage(Crypto_index)"
   ]
  },
  {
   "cell_type": "code",
   "execution_count": null,
   "metadata": {
    "id": "1z1sf-JXMfXN"
   },
   "outputs": [],
   "source": [
    "reduce_mem_usage(Crypto_index)\n",
    "print(Crypto_index.dtypes)\n",
    "Crypto_index.to_csv(\"Index_RET.csv\",index=False)"
   ]
  },
  {
   "cell_type": "code",
   "execution_count": 8,
   "metadata": {
    "id": "_SSKDUYhLJOt"
   },
   "outputs": [],
   "source": []
  },
  {
   "cell_type": "code",
   "execution_count": 356,
   "metadata": {
    "executionInfo": {
     "elapsed": 7876,
     "status": "ok",
     "timestamp": 1638520276633,
     "user": {
      "displayName": "Alfred Wong",
      "photoUrl": "https://lh3.googleusercontent.com/a/default-user=s64",
      "userId": "07405245146433801024"
     },
     "user_tz": -480
    },
    "id": "iO9rlsPvR13m"
   },
   "outputs": [
    {
     "data": {
      "text/html": [
       "<div>\n",
       "<style scoped>\n",
       "    .dataframe tbody tr th:only-of-type {\n",
       "        vertical-align: middle;\n",
       "    }\n",
       "\n",
       "    .dataframe tbody tr th {\n",
       "        vertical-align: top;\n",
       "    }\n",
       "\n",
       "    .dataframe thead th {\n",
       "        text-align: right;\n",
       "    }\n",
       "</style>\n",
       "<table border=\"1\" class=\"dataframe\">\n",
       "  <thead>\n",
       "    <tr style=\"text-align: right;\">\n",
       "      <th></th>\n",
       "      <th>n_miss</th>\n",
       "      <th>ratio</th>\n",
       "    </tr>\n",
       "  </thead>\n",
       "  <tbody>\n",
       "    <tr>\n",
       "      <th>Target</th>\n",
       "      <td>21014</td>\n",
       "      <td>1.12</td>\n",
       "    </tr>\n",
       "  </tbody>\n",
       "</table>\n",
       "</div>"
      ],
      "text/plain": [
       "        n_miss  ratio\n",
       "Target   21014   1.12"
      ]
     },
     "execution_count": 356,
     "metadata": {},
     "output_type": "execute_result"
    }
   ],
   "source": [
    "#missing_val_table(X)\n",
    "#X.shape"
   ]
  },
  {
   "cell_type": "code",
   "execution_count": 14,
   "metadata": {
    "executionInfo": {
     "elapsed": 290,
     "status": "ok",
     "timestamp": 1638520387770,
     "user": {
      "displayName": "Alfred Wong",
      "photoUrl": "https://lh3.googleusercontent.com/a/default-user=s64",
      "userId": "07405245146433801024"
     },
     "user_tz": -480
    },
    "id": "k32tgn5wkQsS"
   },
   "outputs": [],
   "source": [
    "########################################### Feature Engineering for each of the asset #############################\n",
    "## Define some technical indicator functions that will be used in feature engineering\n",
    "\n",
    "## RSI function\n",
    "def RSI(Close, period=14):\n",
    "    Chg = Close - Close.shift(1)\n",
    "    Chg_pos = pd.Series(index=Chg.index, data=Chg[Chg>0])\n",
    "    Chg_pos = Chg_pos.fillna(0)\n",
    "    Chg_neg = pd.Series(index=Chg.index, data=-Chg[Chg<0])\n",
    "    Chg_neg = Chg_neg.fillna(0)\n",
    "    \n",
    "    up_mean = []\n",
    "    down_mean = []\n",
    "    for i in range(period+1, len(Chg_pos)+1):\n",
    "        up_mean.append(np.mean(Chg_pos.values[i-period:i]))\n",
    "        down_mean.append(np.mean(Chg_neg.values[i-period:i]))\n",
    "    \n",
    "    rsi = []\n",
    "    for i in range(len(up_mean)):\n",
    "        if ( up_mean[i] + down_mean[i] ==0 ):\n",
    "            rsi.append(50)\n",
    "        else:\n",
    "            rsi.append(100 * up_mean[i] / ( up_mean[i] + down_mean[i] ) )\n",
    "    rsi_series = pd.Series(index = Close.index[period:], data = rsi)\n",
    "    return rsi_series"
   ]
  },
  {
   "cell_type": "code",
   "execution_count": 15,
   "metadata": {
    "executionInfo": {
     "elapsed": 263,
     "status": "ok",
     "timestamp": 1638520390475,
     "user": {
      "displayName": "Alfred Wong",
      "photoUrl": "https://lh3.googleusercontent.com/a/default-user=s64",
      "userId": "07405245146433801024"
     },
     "user_tz": -480
    },
    "id": "HJgHiw74PjwO"
   },
   "outputs": [],
   "source": [
    "### Utilize the timestamp to get time features\n",
    "def add_time_features(df):\n",
    "    # Feature engineering\n",
    "    df = df.assign(ds=df.index.values.astype('datetime64[s]'))\n",
    "    # Calendar features\n",
    "    #df = df.assign(month = df['ds'].dt.month)\n",
    "    df = df.assign(dayofweek = df['ds'].dt.dayofweek)\n",
    "    #df = df.assign(hour = df['ds'].dt.hour)\n",
    "    return df"
   ]
  },
  {
   "cell_type": "code",
   "execution_count": 11,
   "metadata": {
    "executionInfo": {
     "elapsed": 448,
     "status": "ok",
     "timestamp": 1638520414528,
     "user": {
      "displayName": "Alfred Wong",
      "photoUrl": "https://lh3.googleusercontent.com/a/default-user=s64",
      "userId": "07405245146433801024"
     },
     "user_tz": -480
    },
    "id": "2wUKJMjW59fE"
   },
   "outputs": [],
   "source": [
    "def process_coin_data(X):\n",
    "  ############################## Feature engineering on close price\n",
    "  X['SMA_10MA'] = X['Close'].rolling(window=10).mean()\n",
    "  X['SMA_20MA'] = X['Close'].rolling(window=20).mean()\n",
    "  X['SMA_50MA'] = X['Close'].rolling(window=50).mean()\n",
    "  X['SMA_200MA'] = X['Close'].rolling(window=200).mean()\n",
    "  # 1-min Return\n",
    "  X['RET'] = X['Close']/X['Close'].shift(1) - 1\n",
    "  # Deviation from VWAP\n",
    "  X['Dev_VWAP'] = (X['Close']/X['VWAP'] - 1)\n",
    "  # ROC9 and ROC20 - Rate of Change\n",
    "  X['ROC9'] = X['Close']/X['Close'].shift(9) - 1\n",
    "  X['ROC20'] = X['Close']/X['Close'].shift(20) - 1\n",
    "\n",
    "  ############################## Feature engineering on volume\n",
    "  X['VMA_20MA'] = X['Volume'].rolling(window=20).mean()\n",
    "  X['V_vs_V20MA'] = X['Volume']/X['VMA_20MA']\n",
    "\n",
    "  ############################## Feature engineering for potential reversal signals\n",
    "  # Deviation vs moving averages\n",
    "  X['Dev_20MA'] = (X['Close']/X['SMA_20MA'] - 1)\n",
    "  X['Dev_50MA'] = (X['Close']/X['SMA_50MA'] - 1)\n",
    "  X['Dev_200MA'] = (X['Close']/X['SMA_200MA'] - 1)\n",
    "\n",
    "  ############################## Feature engineering for potential trend-following signals\n",
    "  # Ordering of Moving averages - We use two ordering checks\n",
    "  X['MA_up_order1'] = [1 if X.loc[x,'SMA_10MA']>X.loc[x,'SMA_20MA'] else 0 for x in range(0,len(X['SMA_20MA']))]\n",
    "  X['MA_up_order2'] = [1 if X.loc[x,'SMA_20MA']>X.loc[x,'SMA_50MA'] else 0 for x in range(0,len(X['SMA_20MA']))]\n",
    "  X['MA_down_order1'] = [1 if X.loc[x,'SMA_10MA']<X.loc[x,'SMA_20MA'] else 0 for x in range(0,len(X['SMA_20MA']))]\n",
    "  X['MA_down_order2'] = [1 if X.loc[x,'SMA_20MA']<X.loc[x,'SMA_50MA'] else 0 for x in range(0,len(X['SMA_20MA']))]\n",
    "\n",
    "  # %Slope of mid-term moving average - We use two measures\n",
    "  X['SMA_Slope1'] = (X['SMA_20MA']-X['SMA_20MA'].shift(1))/X['Close']\n",
    "  X['SMA_Slope2'] = (X['SMA_20MA']-X['SMA_20MA'].shift(5))/X['Close']\n",
    "\n",
    "  ################################ Feature Engineering for technical indicators\n",
    "  # Compute RSI for the crypto\n",
    "  X['RSI'] = RSI(X['Close'],14)\n",
    "\n",
    "  # MACD Computation\n",
    "  ewma = pd.Series.ewm\n",
    "  X['EMA12'] = ewma(X[\"Close\"], span=12).mean()\n",
    "  X['EMA26'] = ewma(X[\"Close\"], span=26).mean()\n",
    "  X['MACD'] = X['EMA12']-X['EMA26']\n",
    "  X['MACD_signal'] = ewma(X[\"MACD\"], span=9).mean()\n",
    "  X['MACD_h'] = X['MACD'] - X['MACD_signal']\n",
    "  X.drop(columns=['EMA12','EMA26'],inplace = True)\n",
    "\n",
    "  # Create indicators for MACD crossover\n",
    "  X['MACD_crx_above'] = [1 if (X.loc[x,'MACD_h']>0 and X.loc[x-1,'MACD_h']<0) else 0 for x in range(0,len(X['SMA_20MA']))]\n",
    "  X['MACD_crx_below'] = [1 if (X.loc[x,'MACD_h']<0 and X.loc[x-1,'MACD_h']>0) else 0 for x in range(0,len(X['SMA_20MA']))]\n",
    "\n",
    "  ################################## Feature Engineering - Candle Stick Features\n",
    "  X['Bar_size'] = (X['Close'] - X['Open'])/X['Close']\n",
    "\n",
    "  ## Find upper shadow and down shadow in percentage terms\n",
    "  up_shadow = []\n",
    "  down_shadow = []\n",
    "  for i in range(0,len(X['Close'])):\n",
    "      up_shadow.append((X.loc[i,'High'] - max(X.loc[i,'Open'],X.loc[i,'Close']))/X.loc[i,'Close'])\n",
    "      down_shadow.append((X.loc[i,'Low'] - min(X.loc[i,'Open'],X.loc[i,'Close']))/X.loc[i,'Close'])\n",
    "  up_shadow = np.array(up_shadow)\n",
    "  down_shadow = np.array(down_shadow)\n",
    "  X['up_shadow'] = up_shadow\n",
    "  X['down_shadow'] = down_shadow \n",
    "  del(up_shadow)\n",
    "  del(down_shadow)\n",
    "\n",
    "  ################## Add a feature to represent the relative strength of the crypto against the rest of market\n",
    "  X['RS'] = X['RET'] - X['RET_M']\n",
    "  X['RS_10MIN'] = X['RS'].rolling(window=10).sum()\n",
    "  X['RS_20MIN'] = X['RS'].rolling(window=20).sum()\n",
    "  X['RS_50MIN'] = X['RS'].rolling(window=50).sum()\n",
    "  X['RS_200MIN'] = X['RS'].rolling(window=200).sum()\n",
    "\n",
    "  ########################################################### Add volatility features \n",
    "  X['Vol_20min'] = X['RET'].rolling(window=20).std()\n",
    "  X['Vol_50min'] = X['RET'].rolling(window=50).std()\n",
    "  X['Vol_200min'] = X['RET'].rolling(window=200).std()\n",
    "  X['Vol_SLT_ratio'] = X['Vol_20min']/X['Vol_200min'] \n",
    "\n",
    "  X['Vol_ST_below_LT'] = [1 if (X.loc[x,'Vol_SLT_ratio']<1) else 0 for x in range(0,len(X['Vol_SLT_ratio']))]\n",
    "  X['pct_vol_compr_20min'] = X['Vol_ST_below_LT'].rolling(window=20).sum()/20\n",
    "  X['pct_vol_compr_50min'] = X['Vol_ST_below_LT'].rolling(window=50).sum()/50\n",
    "  X['pct_vol_compr_200min'] = X['Vol_ST_below_LT'].rolling(window=200).sum()/200\n",
    "\n",
    "  ### Add features to check breakout - Rolling max and min\n",
    "  X['High_20min'] = X['High'].rolling(window=20).max()\n",
    "  X['High_50min'] = X['High'].rolling(window=50).max()\n",
    "  X['High_200min'] = X['High'].rolling(window=200).max()\n",
    "  X['Dev_to_High20m'] = X['Close']/X['High_20min']\n",
    "  X['Dev_to_High50m'] = X['Close']/X['High_50min']\n",
    "  X['Dev_to_High200m'] = X['Close']/X['High_200min']\n",
    "\n",
    "  X['Low_20min'] = X['Low'].rolling(window=20).min()\n",
    "  X['Low_50min'] = X['Low'].rolling(window=50).min()\n",
    "  X['Low_200min'] = X['Low'].rolling(window=200).min()\n",
    "  X['Dev_to_Low20m'] = X['Close']/X['Low_20min']\n",
    "  X['Dev_to_Low50m'] = X['Close']/X['Low_50min']\n",
    "  X['Dev_to_Low200m'] = X['Close']/X['Low_200min']\n",
    "\n"
   ]
  },
  {
   "cell_type": "code",
   "execution_count": 12,
   "metadata": {
    "colab": {
     "base_uri": "https://localhost:8080/",
     "height": 206
    },
    "executionInfo": {
     "elapsed": 271,
     "status": "ok",
     "timestamp": 1638520377493,
     "user": {
      "displayName": "Alfred Wong",
      "photoUrl": "https://lh3.googleusercontent.com/a/default-user=s64",
      "userId": "07405245146433801024"
     },
     "user_tz": -480
    },
    "id": "Sv2w_z0Pa16A",
    "outputId": "bed569c6-3037-49cd-f70c-62381bf89cd4"
   },
   "outputs": [
    {
     "data": {
      "text/html": [
       "<div>\n",
       "<style scoped>\n",
       "    .dataframe tbody tr th:only-of-type {\n",
       "        vertical-align: middle;\n",
       "    }\n",
       "\n",
       "    .dataframe tbody tr th {\n",
       "        vertical-align: top;\n",
       "    }\n",
       "\n",
       "    .dataframe thead th {\n",
       "        text-align: right;\n",
       "    }\n",
       "</style>\n",
       "<table border=\"1\" class=\"dataframe\">\n",
       "  <thead>\n",
       "    <tr style=\"text-align: right;\">\n",
       "      <th></th>\n",
       "      <th>timestamp</th>\n",
       "      <th>Asset_ID</th>\n",
       "      <th>Count</th>\n",
       "      <th>Open</th>\n",
       "      <th>High</th>\n",
       "      <th>Low</th>\n",
       "      <th>Close</th>\n",
       "      <th>Volume</th>\n",
       "      <th>VWAP</th>\n",
       "      <th>Target</th>\n",
       "      <th>RET_M</th>\n",
       "    </tr>\n",
       "  </thead>\n",
       "  <tbody>\n",
       "    <tr>\n",
       "      <th>0</th>\n",
       "      <td>1514764860</td>\n",
       "      <td>1</td>\n",
       "      <td>229.0</td>\n",
       "      <td>13832.0</td>\n",
       "      <td>14016.0</td>\n",
       "      <td>13664.0</td>\n",
       "      <td>13848.0</td>\n",
       "      <td>31.550062</td>\n",
       "      <td>13827.062093</td>\n",
       "      <td>-0.014641</td>\n",
       "      <td>0.000000</td>\n",
       "    </tr>\n",
       "    <tr>\n",
       "      <th>1</th>\n",
       "      <td>1514764920</td>\n",
       "      <td>1</td>\n",
       "      <td>235.0</td>\n",
       "      <td>13832.0</td>\n",
       "      <td>14056.0</td>\n",
       "      <td>13680.0</td>\n",
       "      <td>13832.0</td>\n",
       "      <td>31.046432</td>\n",
       "      <td>13840.362591</td>\n",
       "      <td>-0.015038</td>\n",
       "      <td>-0.001523</td>\n",
       "    </tr>\n",
       "    <tr>\n",
       "      <th>2</th>\n",
       "      <td>1514764980</td>\n",
       "      <td>1</td>\n",
       "      <td>528.0</td>\n",
       "      <td>13824.0</td>\n",
       "      <td>14000.0</td>\n",
       "      <td>13600.0</td>\n",
       "      <td>13800.0</td>\n",
       "      <td>55.061821</td>\n",
       "      <td>13806.068014</td>\n",
       "      <td>-0.010307</td>\n",
       "      <td>-0.000765</td>\n",
       "    </tr>\n",
       "    <tr>\n",
       "      <th>3</th>\n",
       "      <td>1514765040</td>\n",
       "      <td>1</td>\n",
       "      <td>435.0</td>\n",
       "      <td>13800.0</td>\n",
       "      <td>14000.0</td>\n",
       "      <td>13576.0</td>\n",
       "      <td>13768.0</td>\n",
       "      <td>38.780529</td>\n",
       "      <td>13783.598101</td>\n",
       "      <td>-0.009003</td>\n",
       "      <td>-0.002277</td>\n",
       "    </tr>\n",
       "    <tr>\n",
       "      <th>4</th>\n",
       "      <td>1514765100</td>\n",
       "      <td>1</td>\n",
       "      <td>742.0</td>\n",
       "      <td>13768.0</td>\n",
       "      <td>13952.0</td>\n",
       "      <td>13552.0</td>\n",
       "      <td>13728.0</td>\n",
       "      <td>108.501640</td>\n",
       "      <td>13735.586842</td>\n",
       "      <td>-0.008080</td>\n",
       "      <td>-0.004475</td>\n",
       "    </tr>\n",
       "  </tbody>\n",
       "</table>\n",
       "</div>"
      ],
      "text/plain": [
       "    timestamp  Asset_ID  Count     Open     High      Low    Close  \\\n",
       "0  1514764860         1  229.0  13832.0  14016.0  13664.0  13848.0   \n",
       "1  1514764920         1  235.0  13832.0  14056.0  13680.0  13832.0   \n",
       "2  1514764980         1  528.0  13824.0  14000.0  13600.0  13800.0   \n",
       "3  1514765040         1  435.0  13800.0  14000.0  13576.0  13768.0   \n",
       "4  1514765100         1  742.0  13768.0  13952.0  13552.0  13728.0   \n",
       "\n",
       "       Volume          VWAP    Target     RET_M  \n",
       "0   31.550062  13827.062093 -0.014641  0.000000  \n",
       "1   31.046432  13840.362591 -0.015038 -0.001523  \n",
       "2   55.061821  13806.068014 -0.010307 -0.000765  \n",
       "3   38.780529  13783.598101 -0.009003 -0.002277  \n",
       "4  108.501640  13735.586842 -0.008080 -0.004475  "
      ]
     },
     "execution_count": 12,
     "metadata": {},
     "output_type": "execute_result"
    }
   ],
   "source": [
    "################################### Select the asset ID that you want build models from here ####################################\n",
    "############################## Due to the lengthy training time and only limited number of assets to loop through, we can do\n",
    "## them one by one, and check the results individually\n",
    "\n",
    "### We change the asset id, train the model and save the results\n",
    "\n",
    "id_chosen = 1\n",
    "X = train.loc[train['Asset_ID']==id_chosen,:].reset_index().iloc[:,1:]\n",
    "Crypto_index = pd.read_csv(\"Index_RET.csv\")\n",
    "Crypto_index.head()\n",
    "X = X.merge(Crypto_index,how='left',on='timestamp')\n",
    "X.head()"
   ]
  },
  {
   "cell_type": "code",
   "execution_count": 16,
   "metadata": {
    "executionInfo": {
     "elapsed": 751008,
     "status": "ok",
     "timestamp": 1638521182353,
     "user": {
      "displayName": "Alfred Wong",
      "photoUrl": "https://lh3.googleusercontent.com/a/default-user=s64",
      "userId": "07405245146433801024"
     },
     "user_tz": -480
    },
    "id": "EOtDoIw0bXaR"
   },
   "outputs": [],
   "source": [
    "process_coin_data(X) ## 12 minutes needed in Colab"
   ]
  },
  {
   "cell_type": "code",
   "execution_count": 17,
   "metadata": {
    "colab": {
     "base_uri": "https://localhost:8080/"
    },
    "executionInfo": {
     "elapsed": 8039,
     "status": "ok",
     "timestamp": 1638521334017,
     "user": {
      "displayName": "Alfred Wong",
      "photoUrl": "https://lh3.googleusercontent.com/a/default-user=s64",
      "userId": "07405245146433801024"
     },
     "user_tz": -480
    },
    "id": "huRh9BD2uvhj",
    "outputId": "329395a6-74f0-4fb7-b098-d196d5b3810f"
   },
   "outputs": [
    {
     "name": "stdout",
     "output_type": "stream",
     "text": [
      "Mem. usage decreased to 310.77 Mb (64.5% reduction)\n"
     ]
    },
    {
     "data": {
      "text/plain": [
       "8"
      ]
     },
     "execution_count": 17,
     "metadata": {},
     "output_type": "execute_result"
    }
   ],
   "source": [
    "reduce_mem_usage(X)\n",
    "gc.collect()"
   ]
  },
  {
   "cell_type": "code",
   "execution_count": 18,
   "metadata": {
    "executionInfo": {
     "elapsed": 2804,
     "status": "ok",
     "timestamp": 1638521291564,
     "user": {
      "displayName": "Alfred Wong",
      "photoUrl": "https://lh3.googleusercontent.com/a/default-user=s64",
      "userId": "07405245146433801024"
     },
     "user_tz": -480
    },
    "id": "H2tEt4ePenZc"
   },
   "outputs": [],
   "source": [
    "####### Add time features \n",
    "X = X.set_index(\"timestamp\")\n",
    "X = add_time_features(X)\n",
    "\n",
    "#X = X.join(pd.get_dummies(X['hour'], prefix='hour'))\n",
    "X = X.join(pd.get_dummies(X['dayofweek'],prefix='weekday'))\n",
    "#X.drop(columns=['dayofweek','hour','ds'],inplace=True)\n",
    "X.drop(columns=['dayofweek','ds'],inplace=True)"
   ]
  },
  {
   "cell_type": "code",
   "execution_count": 19,
   "metadata": {
    "colab": {
     "base_uri": "https://localhost:8080/",
     "height": 258
    },
    "collapsed": true,
    "executionInfo": {
     "elapsed": 732,
     "status": "ok",
     "timestamp": 1638521294237,
     "user": {
      "displayName": "Alfred Wong",
      "photoUrl": "https://lh3.googleusercontent.com/a/default-user=s64",
      "userId": "07405245146433801024"
     },
     "user_tz": -480
    },
    "id": "ZpnIId1lHeXL",
    "outputId": "e9178f1b-d180-4a3c-e125-f1f0dd1c88dc"
   },
   "outputs": [
    {
     "data": {
      "text/html": [
       "<div>\n",
       "<style scoped>\n",
       "    .dataframe tbody tr th:only-of-type {\n",
       "        vertical-align: middle;\n",
       "    }\n",
       "\n",
       "    .dataframe tbody tr th {\n",
       "        vertical-align: top;\n",
       "    }\n",
       "\n",
       "    .dataframe thead th {\n",
       "        text-align: right;\n",
       "    }\n",
       "</style>\n",
       "<table border=\"1\" class=\"dataframe\">\n",
       "  <thead>\n",
       "    <tr style=\"text-align: right;\">\n",
       "      <th></th>\n",
       "      <th>timestamp</th>\n",
       "      <th>Asset_ID</th>\n",
       "      <th>Count</th>\n",
       "      <th>Open</th>\n",
       "      <th>High</th>\n",
       "      <th>Low</th>\n",
       "      <th>Close</th>\n",
       "      <th>Volume</th>\n",
       "      <th>VWAP</th>\n",
       "      <th>Target</th>\n",
       "      <th>...</th>\n",
       "      <th>Dev_to_Low20m</th>\n",
       "      <th>Dev_to_Low50m</th>\n",
       "      <th>Dev_to_Low200m</th>\n",
       "      <th>weekday_0</th>\n",
       "      <th>weekday_1</th>\n",
       "      <th>weekday_2</th>\n",
       "      <th>weekday_3</th>\n",
       "      <th>weekday_4</th>\n",
       "      <th>weekday_5</th>\n",
       "      <th>weekday_6</th>\n",
       "    </tr>\n",
       "  </thead>\n",
       "  <tbody>\n",
       "    <tr>\n",
       "      <th>0</th>\n",
       "      <td>1514764860</td>\n",
       "      <td>1</td>\n",
       "      <td>229.0</td>\n",
       "      <td>13832.0</td>\n",
       "      <td>14016.0</td>\n",
       "      <td>13664.0</td>\n",
       "      <td>13848.0</td>\n",
       "      <td>31.546875</td>\n",
       "      <td>13824.0</td>\n",
       "      <td>-0.014641</td>\n",
       "      <td>...</td>\n",
       "      <td>NaN</td>\n",
       "      <td>NaN</td>\n",
       "      <td>NaN</td>\n",
       "      <td>1</td>\n",
       "      <td>0</td>\n",
       "      <td>0</td>\n",
       "      <td>0</td>\n",
       "      <td>0</td>\n",
       "      <td>0</td>\n",
       "      <td>0</td>\n",
       "    </tr>\n",
       "    <tr>\n",
       "      <th>1</th>\n",
       "      <td>1514764920</td>\n",
       "      <td>1</td>\n",
       "      <td>235.0</td>\n",
       "      <td>13832.0</td>\n",
       "      <td>14056.0</td>\n",
       "      <td>13680.0</td>\n",
       "      <td>13832.0</td>\n",
       "      <td>31.046875</td>\n",
       "      <td>13840.0</td>\n",
       "      <td>-0.015038</td>\n",
       "      <td>...</td>\n",
       "      <td>NaN</td>\n",
       "      <td>NaN</td>\n",
       "      <td>NaN</td>\n",
       "      <td>1</td>\n",
       "      <td>0</td>\n",
       "      <td>0</td>\n",
       "      <td>0</td>\n",
       "      <td>0</td>\n",
       "      <td>0</td>\n",
       "      <td>0</td>\n",
       "    </tr>\n",
       "    <tr>\n",
       "      <th>2</th>\n",
       "      <td>1514764980</td>\n",
       "      <td>1</td>\n",
       "      <td>528.0</td>\n",
       "      <td>13824.0</td>\n",
       "      <td>14000.0</td>\n",
       "      <td>13600.0</td>\n",
       "      <td>13800.0</td>\n",
       "      <td>55.062500</td>\n",
       "      <td>13808.0</td>\n",
       "      <td>-0.010307</td>\n",
       "      <td>...</td>\n",
       "      <td>NaN</td>\n",
       "      <td>NaN</td>\n",
       "      <td>NaN</td>\n",
       "      <td>1</td>\n",
       "      <td>0</td>\n",
       "      <td>0</td>\n",
       "      <td>0</td>\n",
       "      <td>0</td>\n",
       "      <td>0</td>\n",
       "      <td>0</td>\n",
       "    </tr>\n",
       "    <tr>\n",
       "      <th>3</th>\n",
       "      <td>1514765040</td>\n",
       "      <td>1</td>\n",
       "      <td>435.0</td>\n",
       "      <td>13800.0</td>\n",
       "      <td>14000.0</td>\n",
       "      <td>13576.0</td>\n",
       "      <td>13768.0</td>\n",
       "      <td>38.781250</td>\n",
       "      <td>13784.0</td>\n",
       "      <td>-0.009003</td>\n",
       "      <td>...</td>\n",
       "      <td>NaN</td>\n",
       "      <td>NaN</td>\n",
       "      <td>NaN</td>\n",
       "      <td>1</td>\n",
       "      <td>0</td>\n",
       "      <td>0</td>\n",
       "      <td>0</td>\n",
       "      <td>0</td>\n",
       "      <td>0</td>\n",
       "      <td>0</td>\n",
       "    </tr>\n",
       "    <tr>\n",
       "      <th>4</th>\n",
       "      <td>1514765100</td>\n",
       "      <td>1</td>\n",
       "      <td>742.0</td>\n",
       "      <td>13768.0</td>\n",
       "      <td>13952.0</td>\n",
       "      <td>13552.0</td>\n",
       "      <td>13728.0</td>\n",
       "      <td>108.500000</td>\n",
       "      <td>13736.0</td>\n",
       "      <td>-0.008080</td>\n",
       "      <td>...</td>\n",
       "      <td>NaN</td>\n",
       "      <td>NaN</td>\n",
       "      <td>NaN</td>\n",
       "      <td>1</td>\n",
       "      <td>0</td>\n",
       "      <td>0</td>\n",
       "      <td>0</td>\n",
       "      <td>0</td>\n",
       "      <td>0</td>\n",
       "      <td>0</td>\n",
       "    </tr>\n",
       "  </tbody>\n",
       "</table>\n",
       "<p>5 rows × 71 columns</p>\n",
       "</div>"
      ],
      "text/plain": [
       "    timestamp  Asset_ID  Count     Open     High      Low    Close  \\\n",
       "0  1514764860         1  229.0  13832.0  14016.0  13664.0  13848.0   \n",
       "1  1514764920         1  235.0  13832.0  14056.0  13680.0  13832.0   \n",
       "2  1514764980         1  528.0  13824.0  14000.0  13600.0  13800.0   \n",
       "3  1514765040         1  435.0  13800.0  14000.0  13576.0  13768.0   \n",
       "4  1514765100         1  742.0  13768.0  13952.0  13552.0  13728.0   \n",
       "\n",
       "       Volume     VWAP    Target  ...  Dev_to_Low20m  Dev_to_Low50m  \\\n",
       "0   31.546875  13824.0 -0.014641  ...            NaN            NaN   \n",
       "1   31.046875  13840.0 -0.015038  ...            NaN            NaN   \n",
       "2   55.062500  13808.0 -0.010307  ...            NaN            NaN   \n",
       "3   38.781250  13784.0 -0.009003  ...            NaN            NaN   \n",
       "4  108.500000  13736.0 -0.008080  ...            NaN            NaN   \n",
       "\n",
       "   Dev_to_Low200m  weekday_0  weekday_1  weekday_2  weekday_3  weekday_4  \\\n",
       "0             NaN          1          0          0          0          0   \n",
       "1             NaN          1          0          0          0          0   \n",
       "2             NaN          1          0          0          0          0   \n",
       "3             NaN          1          0          0          0          0   \n",
       "4             NaN          1          0          0          0          0   \n",
       "\n",
       "   weekday_5  weekday_6  \n",
       "0          0          0  \n",
       "1          0          0  \n",
       "2          0          0  \n",
       "3          0          0  \n",
       "4          0          0  \n",
       "\n",
       "[5 rows x 71 columns]"
      ]
     },
     "execution_count": 19,
     "metadata": {},
     "output_type": "execute_result"
    }
   ],
   "source": [
    "X = X.reset_index()\n",
    "X.head()\n"
   ]
  },
  {
   "cell_type": "code",
   "execution_count": 20,
   "metadata": {
    "colab": {
     "base_uri": "https://localhost:8080/",
     "height": 258
    },
    "executionInfo": {
     "elapsed": 480,
     "status": "ok",
     "timestamp": 1638521299954,
     "user": {
      "displayName": "Alfred Wong",
      "photoUrl": "https://lh3.googleusercontent.com/a/default-user=s64",
      "userId": "07405245146433801024"
     },
     "user_tz": -480
    },
    "id": "1-qcDKoWbkMp",
    "outputId": "791604c7-f3d2-4ece-9f57-f2d16457edc2"
   },
   "outputs": [
    {
     "data": {
      "text/html": [
       "<div>\n",
       "<style scoped>\n",
       "    .dataframe tbody tr th:only-of-type {\n",
       "        vertical-align: middle;\n",
       "    }\n",
       "\n",
       "    .dataframe tbody tr th {\n",
       "        vertical-align: top;\n",
       "    }\n",
       "\n",
       "    .dataframe thead th {\n",
       "        text-align: right;\n",
       "    }\n",
       "</style>\n",
       "<table border=\"1\" class=\"dataframe\">\n",
       "  <thead>\n",
       "    <tr style=\"text-align: right;\">\n",
       "      <th></th>\n",
       "      <th>timestamp</th>\n",
       "      <th>Asset_ID</th>\n",
       "      <th>Count</th>\n",
       "      <th>Open</th>\n",
       "      <th>High</th>\n",
       "      <th>Low</th>\n",
       "      <th>Close</th>\n",
       "      <th>Volume</th>\n",
       "      <th>VWAP</th>\n",
       "      <th>Target</th>\n",
       "      <th>...</th>\n",
       "      <th>Dev_to_Low20m</th>\n",
       "      <th>Dev_to_Low50m</th>\n",
       "      <th>Dev_to_Low200m</th>\n",
       "      <th>weekday_0</th>\n",
       "      <th>weekday_1</th>\n",
       "      <th>weekday_2</th>\n",
       "      <th>weekday_3</th>\n",
       "      <th>weekday_4</th>\n",
       "      <th>weekday_5</th>\n",
       "      <th>weekday_6</th>\n",
       "    </tr>\n",
       "  </thead>\n",
       "  <tbody>\n",
       "    <tr>\n",
       "      <th>1956277</th>\n",
       "      <td>1632182160</td>\n",
       "      <td>1</td>\n",
       "      <td>1940.0</td>\n",
       "      <td>42976.0</td>\n",
       "      <td>43008.0</td>\n",
       "      <td>42880.0</td>\n",
       "      <td>42912.0</td>\n",
       "      <td>56.84375</td>\n",
       "      <td>42944.0</td>\n",
       "      <td>NaN</td>\n",
       "      <td>...</td>\n",
       "      <td>1.007812</td>\n",
       "      <td>1.008789</td>\n",
       "      <td>1.008789</td>\n",
       "      <td>1</td>\n",
       "      <td>0</td>\n",
       "      <td>0</td>\n",
       "      <td>0</td>\n",
       "      <td>0</td>\n",
       "      <td>0</td>\n",
       "      <td>0</td>\n",
       "    </tr>\n",
       "    <tr>\n",
       "      <th>1956278</th>\n",
       "      <td>1632182220</td>\n",
       "      <td>1</td>\n",
       "      <td>2026.0</td>\n",
       "      <td>42912.0</td>\n",
       "      <td>42944.0</td>\n",
       "      <td>42848.0</td>\n",
       "      <td>42848.0</td>\n",
       "      <td>81.00000</td>\n",
       "      <td>42880.0</td>\n",
       "      <td>NaN</td>\n",
       "      <td>...</td>\n",
       "      <td>1.005859</td>\n",
       "      <td>1.007812</td>\n",
       "      <td>1.007812</td>\n",
       "      <td>1</td>\n",
       "      <td>0</td>\n",
       "      <td>0</td>\n",
       "      <td>0</td>\n",
       "      <td>0</td>\n",
       "      <td>0</td>\n",
       "      <td>0</td>\n",
       "    </tr>\n",
       "    <tr>\n",
       "      <th>1956279</th>\n",
       "      <td>1632182280</td>\n",
       "      <td>1</td>\n",
       "      <td>1986.0</td>\n",
       "      <td>42848.0</td>\n",
       "      <td>42880.0</td>\n",
       "      <td>42784.0</td>\n",
       "      <td>42816.0</td>\n",
       "      <td>65.68750</td>\n",
       "      <td>42848.0</td>\n",
       "      <td>NaN</td>\n",
       "      <td>...</td>\n",
       "      <td>1.004883</td>\n",
       "      <td>1.006836</td>\n",
       "      <td>1.006836</td>\n",
       "      <td>1</td>\n",
       "      <td>0</td>\n",
       "      <td>0</td>\n",
       "      <td>0</td>\n",
       "      <td>0</td>\n",
       "      <td>0</td>\n",
       "      <td>0</td>\n",
       "    </tr>\n",
       "    <tr>\n",
       "      <th>1956280</th>\n",
       "      <td>1632182340</td>\n",
       "      <td>1</td>\n",
       "      <td>4047.0</td>\n",
       "      <td>42848.0</td>\n",
       "      <td>43040.0</td>\n",
       "      <td>42816.0</td>\n",
       "      <td>43008.0</td>\n",
       "      <td>138.37500</td>\n",
       "      <td>42944.0</td>\n",
       "      <td>NaN</td>\n",
       "      <td>...</td>\n",
       "      <td>1.009766</td>\n",
       "      <td>1.011719</td>\n",
       "      <td>1.011719</td>\n",
       "      <td>1</td>\n",
       "      <td>0</td>\n",
       "      <td>0</td>\n",
       "      <td>0</td>\n",
       "      <td>0</td>\n",
       "      <td>0</td>\n",
       "      <td>0</td>\n",
       "    </tr>\n",
       "    <tr>\n",
       "      <th>1956281</th>\n",
       "      <td>1632182400</td>\n",
       "      <td>1</td>\n",
       "      <td>2698.0</td>\n",
       "      <td>43008.0</td>\n",
       "      <td>43040.0</td>\n",
       "      <td>42976.0</td>\n",
       "      <td>43008.0</td>\n",
       "      <td>128.25000</td>\n",
       "      <td>43008.0</td>\n",
       "      <td>NaN</td>\n",
       "      <td>...</td>\n",
       "      <td>1.008789</td>\n",
       "      <td>1.011719</td>\n",
       "      <td>1.011719</td>\n",
       "      <td>0</td>\n",
       "      <td>1</td>\n",
       "      <td>0</td>\n",
       "      <td>0</td>\n",
       "      <td>0</td>\n",
       "      <td>0</td>\n",
       "      <td>0</td>\n",
       "    </tr>\n",
       "  </tbody>\n",
       "</table>\n",
       "<p>5 rows × 71 columns</p>\n",
       "</div>"
      ],
      "text/plain": [
       "          timestamp  Asset_ID   Count     Open     High      Low    Close  \\\n",
       "1956277  1632182160         1  1940.0  42976.0  43008.0  42880.0  42912.0   \n",
       "1956278  1632182220         1  2026.0  42912.0  42944.0  42848.0  42848.0   \n",
       "1956279  1632182280         1  1986.0  42848.0  42880.0  42784.0  42816.0   \n",
       "1956280  1632182340         1  4047.0  42848.0  43040.0  42816.0  43008.0   \n",
       "1956281  1632182400         1  2698.0  43008.0  43040.0  42976.0  43008.0   \n",
       "\n",
       "            Volume     VWAP  Target  ...  Dev_to_Low20m  Dev_to_Low50m  \\\n",
       "1956277   56.84375  42944.0     NaN  ...       1.007812       1.008789   \n",
       "1956278   81.00000  42880.0     NaN  ...       1.005859       1.007812   \n",
       "1956279   65.68750  42848.0     NaN  ...       1.004883       1.006836   \n",
       "1956280  138.37500  42944.0     NaN  ...       1.009766       1.011719   \n",
       "1956281  128.25000  43008.0     NaN  ...       1.008789       1.011719   \n",
       "\n",
       "         Dev_to_Low200m  weekday_0  weekday_1  weekday_2  weekday_3  \\\n",
       "1956277        1.008789          1          0          0          0   \n",
       "1956278        1.007812          1          0          0          0   \n",
       "1956279        1.006836          1          0          0          0   \n",
       "1956280        1.011719          1          0          0          0   \n",
       "1956281        1.011719          0          1          0          0   \n",
       "\n",
       "         weekday_4  weekday_5  weekday_6  \n",
       "1956277          0          0          0  \n",
       "1956278          0          0          0  \n",
       "1956279          0          0          0  \n",
       "1956280          0          0          0  \n",
       "1956281          0          0          0  \n",
       "\n",
       "[5 rows x 71 columns]"
      ]
     },
     "execution_count": 20,
     "metadata": {},
     "output_type": "execute_result"
    }
   ],
   "source": [
    "filename_data = 'asset_id_' + str(id_chosen) + '.csv'\n",
    "X.to_csv(filename_data,index=False)\n",
    "X.tail()"
   ]
  },
  {
   "cell_type": "code",
   "execution_count": null,
   "metadata": {
    "colab": {
     "base_uri": "https://localhost:8080/"
    },
    "collapsed": true,
    "executionInfo": {
     "elapsed": 7481,
     "status": "ok",
     "timestamp": 1638022024667,
     "user": {
      "displayName": "Alfred Wong",
      "photoUrl": "https://lh3.googleusercontent.com/a/default-user=s64",
      "userId": "07405245146433801024"
     },
     "user_tz": -480
    },
    "id": "1Xw8gh8HWc5w",
    "outputId": "60862eb6-4799-4210-f49d-baff9b3345d8"
   },
   "outputs": [
    {
     "name": "stdout",
     "output_type": "stream",
     "text": [
      "          timestamp  Asset_ID\n",
      "0        1514764860         8\n",
      "1        1514764920         8\n",
      "2        1514764980         8\n",
      "3        1514765040         8\n",
      "4        1514765100         8\n",
      "...             ...       ...\n",
      "1956777  1632182160        14\n",
      "1956778  1632182220        14\n",
      "1956779  1632182280        14\n",
      "1956780  1632182340        14\n",
      "1956781  1632182400        14\n",
      "\n",
      "[1956782 rows x 2 columns]\n"
     ]
    },
    {
     "data": {
      "text/plain": [
       "21"
      ]
     },
     "execution_count": 68,
     "metadata": {},
     "output_type": "execute_result"
    }
   ],
   "source": [
    "### Note that not all crypto exist in all the time periods\n",
    "grouped_df = train.iloc[:,0:2].groupby(\"timestamp\")\n",
    "grouped_df = grouped_df.agg({\"Asset_ID\": \"nunique\"})\n",
    "grouped_df = grouped_df.reset_index()\n",
    "print(grouped_df)\n",
    "#del(grouped_df)\n",
    "gc.collect()"
   ]
  },
  {
   "cell_type": "code",
   "execution_count": null,
   "metadata": {
    "id": "kIYq4fw1F2LC",
    "outputId": "cc170feb-12f9-49df-ab26-16e828125032"
   },
   "outputs": [
    {
     "name": "stdout",
     "output_type": "stream",
     "text": [
      "Mem. usage decreased to 139.92 Mb (76.0% reduction)\n"
     ]
    }
   ],
   "source": [
    "reduce_mem_usage(X)"
   ]
  },
  {
   "cell_type": "code",
   "execution_count": 64,
   "metadata": {
    "executionInfo": {
     "elapsed": 605344,
     "status": "ok",
     "timestamp": 1638524263795,
     "user": {
      "displayName": "Alfred Wong",
      "photoUrl": "https://lh3.googleusercontent.com/a/default-user=s64",
      "userId": "07405245146433801024"
     },
     "user_tz": -480
    },
    "id": "zauIfpjKnrQc"
   },
   "outputs": [],
   "source": []
  },
  {
   "cell_type": "code",
   "execution_count": 144,
   "metadata": {
    "colab": {
     "base_uri": "https://localhost:8080/"
    },
    "collapsed": true,
    "executionInfo": {
     "elapsed": 269,
     "status": "ok",
     "timestamp": 1638525737522,
     "user": {
      "displayName": "Alfred Wong",
      "photoUrl": "https://lh3.googleusercontent.com/a/default-user=s64",
      "userId": "07405245146433801024"
     },
     "user_tz": -480
    },
    "id": "aSKgCwYpqupl",
    "outputId": "da3ec4f8-1de4-4c2a-a91e-be935c288408"
   },
   "outputs": [
    {
     "data": {
      "text/plain": [
       "timestamp\n",
       "1514764860    False\n",
       "1514764920    False\n",
       "1514764980    False\n",
       "1514765040    False\n",
       "1514765100    False\n",
       "              ...  \n",
       "1632182160     True\n",
       "1632182220     True\n",
       "1632182280     True\n",
       "1632182340     True\n",
       "1632182400     True\n",
       "Name: Target, Length: 1956282, dtype: bool"
      ]
     },
     "execution_count": 144,
     "metadata": {},
     "output_type": "execute_result"
    }
   ],
   "source": [
    "np.isnan(X.loc[:,'Target'])"
   ]
  },
  {
   "cell_type": "markdown",
   "metadata": {},
   "source": [
    "We will do recursive training for every 3 months, using 2 month for model fitting and 1 month for validation. Then we will use the model to predict the target variable in the coming 3 months. \n"
   ]
  },
  {
   "cell_type": "code",
   "execution_count": 3,
   "metadata": {},
   "outputs": [],
   "source": [
    "################################ Train the LGBT model for the asset chosen\n",
    "\n",
    "\n",
    "############################ LGBT #######################\n",
    "from sklearn.preprocessing import MinMaxScaler\n",
    "import lightgbm as lgbm\n",
    "from sklearn.metrics import mean_squared_error as mse\n",
    "from sklearn.metrics import r2_score\n",
    "from sklearn.model_selection import GridSearchCV\n",
    "from sklearn.model_selection import PredefinedSplit"
   ]
  },
  {
   "cell_type": "code",
   "execution_count": 61,
   "metadata": {},
   "outputs": [],
   "source": [
    "#filename_data = 'asset_id_' + str(0) + '.csv'\n",
    "#X = pd.read_csv(filename_data)"
   ]
  },
  {
   "cell_type": "code",
   "execution_count": 59,
   "metadata": {},
   "outputs": [],
   "source": [
    "#id_chosen = 13"
   ]
  },
  {
   "cell_type": "code",
   "execution_count": 62,
   "metadata": {},
   "outputs": [
    {
     "name": "stdout",
     "output_type": "stream",
     "text": [
      "[0, 86400, 86401, 129600, 129601, 259200]\n",
      "Training Correlation : 0.39408721758870263\n",
      "Testing Correlation : 0.025960932818238042\n",
      "[129600, 216000, 216001, 259200, 259201, 388800]\n",
      "Training Correlation : 0.27452336600157695\n",
      "Testing Correlation : 0.016439458282239527\n",
      "[259200, 345600, 345601, 388800, 388801, 518400]\n",
      "Training Correlation : 0.31399010856101484\n",
      "Testing Correlation : 0.004506947916279373\n",
      "[388800, 475200, 475201, 518400, 518401, 648000]\n",
      "Training Correlation : 0.31150258652780627\n",
      "Testing Correlation : 0.003127014294596685\n",
      "[518400, 604800, 604801, 648000, 648001, 777600]\n",
      "Training Correlation : 0.27203380672431127\n",
      "Testing Correlation : 0.057620925594002705\n",
      "[648000, 734400, 734401, 777600, 777601, 907200]\n",
      "Training Correlation : 0.34819483059077183\n",
      "Testing Correlation : 0.02812455144802592\n",
      "[777600, 864000, 864001, 907200, 907201, 1036800]\n",
      "Training Correlation : 0.4570525918861728\n",
      "Testing Correlation : 0.026076884245025904\n",
      "[907200, 993600, 993601, 1036800, 1036801, 1166400]\n",
      "Training Correlation : 0.30693401678667986\n",
      "Testing Correlation : 0.013199322401598568\n",
      "[1036800, 1123200, 1123201, 1166400, 1166401, 1296000]\n",
      "Training Correlation : 0.31766968365453707\n",
      "Testing Correlation : 0.04930114766012059\n",
      "[1166400, 1252800, 1252801, 1296000, 1296001, 1425600]\n",
      "Training Correlation : 0.2744454429237857\n",
      "Testing Correlation : 0.03494639818169959\n",
      "[1296000, 1382400, 1382401, 1425600, 1425601, 1555200]\n",
      "Training Correlation : 0.28635454459245235\n",
      "Testing Correlation : 0.024870992087176164\n",
      "[1425600, 1512000, 1512001, 1555200, 1555201, 1684800]\n",
      "Training Correlation : 0.2541001851785086\n",
      "Testing Correlation : -0.01410333384026329\n",
      "[1555200, 1641600, 1641601, 1684800, 1684801, 1814400]\n",
      "Training Correlation : 0.384106528266972\n",
      "Testing Correlation : 0.004605927065002863\n",
      "[1684800, 1771200, 1771201, 1814400, 1814401, 1942619]\n",
      "Training Correlation : 0.2967121193145612\n",
      "Testing Correlation : 0.022930715278157616\n"
     ]
    }
   ],
   "source": [
    "time_forward = 60*24*30*3 ## The number of minutes in a quarter's time\n",
    "fraction_train = 2/3      ## The fraction of data used for training in the quarter\n",
    "num_train = X.shape[0]//time_forward   ## number of training samples\n",
    "train_start = 0\n",
    "asset_ID = X['Asset_ID'][0]\n",
    "non_predictor = ['Asset_ID','Target','timestamp']\n",
    "train_corr = []\n",
    "test_corr = []\n",
    "parameters = {'max_depth':[5,6,7,8,9,10,11,12], 'learning_rate':[0.02,0.05,0.1,0.2], 'reg_lambda':[0.1,1,10,100,1000]}\n",
    "\n",
    "if (id_chosen == 10):\n",
    "    time_forward = 60*24*30  # If Maker is chosen, change to monthly model fitting\n",
    "    train_start = 129600\n",
    "\n",
    "# Create a data frame to store the feature importance\n",
    "imp_df = pd.DataFrame()\n",
    "train_features = [f for f in X.columns if f not in non_predictor]\n",
    "imp_df[\"feature\"] = list(train_features)\n",
    "imp_df[\"importance\"] = np.zeros(len(train_features))\n",
    "\n",
    "for i in range(0,num_train):\n",
    "    ## Locate the index for the split in training, validation and testing\n",
    "    train_end = train_start + int(time_forward*2/3)\n",
    "    valid_start = train_start + int(time_forward*2/3) + 1\n",
    "    valid_end = train_start + time_forward\n",
    "    test_start = valid_end + 1\n",
    "    test_end = min(valid_end + time_forward, X.shape[0])\n",
    "    \n",
    "    if (valid_end +1 < X.shape[0]):\n",
    "        \n",
    "        print([train_start,train_end,valid_start,valid_end,test_start,test_end])\n",
    "\n",
    "        ## Subset the data from X for training and hyperparameter tuning\n",
    "        df = X.iloc[train_start:valid_end,:].reset_index(drop=True)\n",
    "        df.dropna(subset=['Target'],inplace=True)\n",
    "        df_train_X = df.drop(columns=non_predictor)\n",
    "        df_train_Y = df['Target'].values\n",
    "        del(df)\n",
    "        gc.collect()\n",
    "\n",
    "        # Data Normalization\n",
    "        scaler = MinMaxScaler(feature_range = (0, 1))\n",
    "        df_train_X = scaler.fit_transform(df_train_X)\n",
    "\n",
    "        # Specify the model and grid search for the best set of hyperparameters\n",
    "        ## Hyper-parameter Tuning for the quarterly model\n",
    "        model = lgbm.LGBMRegressor(boosting_type='gbdt', objective='regression', n_estimators=100,\n",
    "                                    metric='rmse')\n",
    "\n",
    "        split_index = np.repeat(0, len(df_train_Y))\n",
    "        split_index[0:int(df_train_Y.shape[0]*fraction_train)]=-1\n",
    "        split_index\n",
    "        ps = PredefinedSplit(test_fold= split_index)\n",
    "        clf = GridSearchCV(model, cv = ps, param_grid=parameters)\n",
    "        clf\n",
    "        clf.fit(df_train_X, df_train_Y)\n",
    "\n",
    "        ## Extract the best-fit model to do prediction and testing\n",
    "        model_best = lgbm.LGBMRegressor(boosting_type='gbdt', objective='regression', n_estimators=100, \n",
    "                                    metric='rmse',**clf.best_params_)\n",
    "        model_best.fit(df_train_X, df_train_Y)\n",
    "        train_pred = model_best.predict(df_train_X)\n",
    "        corr_t = np.corrcoef(df_train_Y, train_pred)[0,1]\n",
    "        train_corr.append(corr_t)\n",
    "        print('Training Correlation : {}'.format(corr_t))\n",
    "        imp_df[\"importance\"] += model_best.feature_importances_\n",
    "\n",
    "        del(df_train_X)\n",
    "        del(df_train_Y)\n",
    "        del(clf)\n",
    "        del(ps)\n",
    "        del(split_index)\n",
    "        gc.collect()\n",
    "\n",
    "        # testing\n",
    "        df = X.iloc[test_start:test_end,:].reset_index(drop=True)\n",
    "        df.dropna(subset=['Target'],inplace=True)\n",
    "        df_test_X = df.drop(columns=non_predictor)\n",
    "        df_test_Y = df['Target'].values\n",
    "        del(df)\n",
    "        gc.collect()\n",
    "        df_test_X = scaler.transform(df_test_X)\n",
    "        test_pred = model_best.predict(df_test_X)\n",
    "        #R2_test = r2_score(df_valid_Y, valid_pred)\n",
    "        #print('Validation R^2 : {}'.format(R2_valid))\n",
    "        corr_test_t = np.corrcoef(df_test_Y, test_pred)[0,1]\n",
    "        test_corr.append(corr_test_t)\n",
    "        print('Testing Correlation : {}'.format(corr_test_t))\n",
    "\n",
    "        train_start += time_forward\n",
    "    \n",
    "# Save the corr over different time    \n",
    "corr_df = pd.DataFrame()\n",
    "corr_df['train_corr'] = train_corr\n",
    "corr_df['test_corr'] = test_corr\n",
    "corr_df\n",
    "filename = 'Asset_id' + str(asset_ID) + '_corr_quarterly.csv'\n",
    "corr_df.to_csv(filename,index=False)\n",
    "\n",
    "# Save the feature importance\n",
    "filename = 'Asset_id' + str(asset_ID) + '_feat_imp.csv'\n",
    "imp_df.to_csv(filename,index=False)"
   ]
  },
  {
   "cell_type": "code",
   "execution_count": 354,
   "metadata": {},
   "outputs": [
    {
     "data": {
      "text/plain": [
       "(1874560, 11)"
      ]
     },
     "execution_count": 354,
     "metadata": {},
     "output_type": "execute_result"
    }
   ],
   "source": [
    "X.shape"
   ]
  },
  {
   "cell_type": "code",
   "execution_count": 23,
   "metadata": {},
   "outputs": [
    {
     "data": {
      "text/plain": [
       "<BarContainer object of 68 artists>"
      ]
     },
     "execution_count": 23,
     "metadata": {},
     "output_type": "execute_result"
    },
    {
     "data": {
      "image/png": "[encoded data removed]",
      "text/plain": [
       "<Figure size 864x864 with 1 Axes>"
      ]
     },
     "metadata": {
      "needs_background": "light"
     },
     "output_type": "display_data"
    }
   ],
   "source": [
    "imp_df[\"importance\"] = imp_df[\"importance\"]/sum(imp_df[\"importance\"])\n",
    "imp_df.sort_values(by='importance',ascending=True, inplace=True)\n",
    "\n",
    "'''\n",
    "feat_imp2 = imp_df.sort_values(by='importance',ascending=False)\n",
    "feat_to_plot = feat_imp2[0:35].sort_values(by='importance',ascending=True)\n",
    "\n",
    "# Plot the top 30 feature importance\n",
    "plt.figure(figsize = (12, 12))\n",
    "ax = plt.subplot()\n",
    "ax.barh(list(feat_to_plot.feature),\n",
    "    feat_to_plot.importance, \n",
    "    align = 'center', color = 'blue')\n",
    "'''\n",
    "\n",
    "plt.figure(figsize = (12, 12))\n",
    "ax = plt.subplot()\n",
    "ax.barh(list(imp_df.feature),\n",
    "    imp_df.importance, \n",
    "    align = 'center', color = 'blue')"
   ]
  },
  {
   "cell_type": "code",
   "execution_count": 119,
   "metadata": {},
   "outputs": [],
   "source": []
  },
  {
   "cell_type": "code",
   "execution_count": 104,
   "metadata": {},
   "outputs": [
    {
     "data": {
      "text/plain": [
       "[0.4691193812050074, 0.292908646448905]"
      ]
     },
     "execution_count": 104,
     "metadata": {},
     "output_type": "execute_result"
    }
   ],
   "source": [
    "train_corr"
   ]
  },
  {
   "cell_type": "code",
   "execution_count": 124,
   "metadata": {},
   "outputs": [
    {
     "data": {
      "text/plain": [
       "45"
      ]
     },
     "execution_count": 124,
     "metadata": {},
     "output_type": "execute_result"
    }
   ],
   "source": [
    "time_forward = 60*24*30\n",
    "fraction_train = 2/3\n",
    "num_train = X.shape[0]//time_forward\n",
    "num_train"
   ]
  },
  {
   "cell_type": "code",
   "execution_count": 365,
   "metadata": {},
   "outputs": [
    {
     "name": "stdout",
     "output_type": "stream",
     "text": [
      "0.35770900615089335\n"
     ]
    },
    {
     "data": {
      "text/plain": [
       "0.032967227388632156"
      ]
     },
     "execution_count": 365,
     "metadata": {},
     "output_type": "execute_result"
    }
   ],
   "source": [
    "print(np.mean(train_corr))\n",
    "np.mean(test_corr)"
   ]
  },
  {
   "cell_type": "markdown",
   "metadata": {},
   "source": [
    "## Performance Evauluation of GBT Models\n"
   ]
  },
  {
   "cell_type": "code",
   "execution_count": 33,
   "metadata": {},
   "outputs": [
    {
     "name": "stdout",
     "output_type": "stream",
     "text": [
      "    Asset_ID    Weight        Asset_Name  Avg_Corr  Max_Corr  Min_Corr\n",
      "0          0  4.304065      Binance Coin  0.018159  0.056588 -0.014473\n",
      "1          1  6.779922           Bitcoin  0.041549  0.105900 -0.015726\n",
      "2          2  2.397895      Bitcoin Cash  0.037734  0.120114 -0.007438\n",
      "3          3  4.406719           Cardano  0.025940  0.054882 -0.001347\n",
      "4          4  3.555348          Dogecoin  0.029761  0.112303 -0.043611\n",
      "5          5  1.386294            EOS.IO  0.038033  0.099625 -0.004546\n",
      "6          6  5.894403          Ethereum  0.038807  0.103466  0.003143\n",
      "7          7  2.079442  Ethereum Classic  0.036190  0.088624 -0.006312\n",
      "8          8  1.098612              IOTA  0.027557  0.054453  0.006439\n",
      "9          9  2.397895          Litecoin  0.041857  0.107342 -0.048068\n",
      "10        10  1.098612             Maker  0.023865  0.050588 -0.004285\n",
      "11        11  1.609438            Monero  0.034175  0.101786 -0.028338\n",
      "12        12  2.079442           Stellar  0.042393  0.081303  0.002656\n",
      "13        13  1.791759              TRON  0.032967  0.078879 -0.007341\n",
      " \n",
      "The weighted Pearson correlation coefficient:\n",
      "0.033911\n"
     ]
    }
   ],
   "source": [
    "asset_info['Avg_Corr'] = np.zeros(asset_info.shape[0])\n",
    "asset_info['Max_Corr'] = np.zeros(asset_info.shape[0])\n",
    "asset_info['Min_Corr'] = np.zeros(asset_info.shape[0])\n",
    "\n",
    "special_id = 10\n",
    "for id in asset_info['Asset_ID']:\n",
    "    # We read in the csv files in our previous training and testing loops\n",
    "    if id == special_id:\n",
    "        filename = 'Asset_id' + str(id) + '_corr_monthly.csv'\n",
    "    else:\n",
    "        filename = 'Asset_id' + str(id) + '_corr_quarterly.csv'\n",
    "    corr_df = pd.read_csv(filename)\n",
    "    asset_info.loc[id,'Avg_Corr'] = np.mean(corr_df['test_corr'])\n",
    "    asset_info.loc[id,'Max_Corr'] = np.max(corr_df['test_corr'])\n",
    "    asset_info.loc[id,'Min_Corr'] = np.min(corr_df['test_corr'])\n",
    "\n",
    "print(asset_info)\n",
    "asset_info.to_csv(\"GBT.csv\",index=False)\n",
    "print(' ')\n",
    "print('The weighted Pearson correlation coefficient:')\n",
    "print(round(sum(asset_info['Weight']*asset_info['Avg_Corr'])/sum(asset_info['Weight']),6))"
   ]
  },
  {
   "cell_type": "code",
   "execution_count": 63,
   "metadata": {},
   "outputs": [
    {
     "data": {
      "text/plain": [
       "<BarContainer object of 68 artists>"
      ]
     },
     "execution_count": 63,
     "metadata": {},
     "output_type": "execute_result"
    },
    {
     "data": {
      "image/png": "[encoded data removed]",
      "text/plain": [
       "<Figure size 864x864 with 1 Axes>"
      ]
     },
     "metadata": {
      "needs_background": "light"
     },
     "output_type": "display_data"
    }
   ],
   "source": [
    "### Aggregate the feature importance for models of each crypto-asset\n",
    "\n",
    "for id in asset_info['Asset_ID']:\n",
    "    filename = 'Asset_id' + str(id) + '_feat_imp.csv'\n",
    "    feat_imp_df = pd.read_csv(filename)\n",
    "    if id == 1:\n",
    "        cum_feat_imp = feat_imp_df\n",
    "    cum_feat_imp.loc[:,'importance'] += feat_imp_df.loc[:,'importance']\n",
    "    \n",
    "cum_feat_imp[\"importance\"] = cum_feat_imp[\"importance\"]/sum(cum_feat_imp[\"importance\"])\n",
    "cum_feat_imp.sort_values(by='importance',ascending=True, inplace=True)\n",
    "plt.figure(figsize = (12, 12))\n",
    "ax = plt.subplot()\n",
    "ax.barh(list(cum_feat_imp.feature),\n",
    "    cum_feat_imp.importance, \n",
    "    align = 'center', color = 'black')"
   ]
  }
 ],
 "metadata": {
  "colab": {
   "collapsed_sections": [],
   "name": "Crypto_Forecasting_1203pm.ipynb",
   "provenance": []
  },
  "kernelspec": {
   "display_name": "Python 3",
   "language": "python",
   "name": "python3"
  },
  "language_info": {
   "codemirror_mode": {
    "name": "ipython",
    "version": 3
   },
   "file_extension": ".py",
   "mimetype": "text/x-python",
   "name": "python",
   "nbconvert_exporter": "python",
   "pygments_lexer": "ipython3",
   "version": "3.8.8"
  }
 },
 "nbformat": 4,
 "nbformat_minor": 1
}
