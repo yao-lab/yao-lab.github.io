{
 "cells": [
  {
   "cell_type": "code",
   "execution_count": 118,
   "id": "2b284329",
   "metadata": {},
   "outputs": [],
   "source": [
    "import io\n",
    "import datetime\n",
    "import h5py\n",
    "import json\n",
    "import requests\n",
    "import functools\n",
    "import numpy as np\n",
    "import os\n",
    "import pandas as pd\n",
    "from tqdm import tqdm, trange\n",
    "\n",
    "import matplotlib.pyplot as plt\n",
    "import matplotlib.ticker as ticker\n",
    "\n",
    "pd.options.mode.chained_assignment = None\n",
    "\n",
    "import torch\n",
    "import torch.nn as nn\n",
    "import torch.optim as optim\n",
    "\n",
    "from torch.utils import data\n",
    "from torch.utils.data import Dataset, DataLoader\n",
    "from torch.nn import functional as F\n",
    "from torchvision import datasets, models, transforms"
   ]
  },
  {
   "cell_type": "code",
   "execution_count": null,
   "id": "3b8d432d",
   "metadata": {},
   "outputs": [],
   "source": [
    "device = torch.device('cuda:0' if torch.cuda.is_available() else 'cpu')"
   ]
  },
  {
   "cell_type": "code",
   "execution_count": 20,
   "id": "ebd49b55",
   "metadata": {},
   "outputs": [],
   "source": [
    "raw = h5py.File(os.getcwd() + '/data/train_data_format1_week_final.h5', 'r')\n",
    "\n",
    "data = {}\n",
    "for type in ['BTCUSDT', 'ETHUSDT', 'LTCUSDT', 'XRPUSDT']:\n",
    "    temp = raw[type + '.csv']\n",
    "    data[type] = pd.DataFrame(data=temp['block0_values'][()],\n",
    "                              columns=pd.Series(temp['axis0'][()]).apply(lambda x: str(x, encoding=\"utf8\")).values,\n",
    "                              index=temp['axis1'][()])\n",
    "    data[type]['Target'] = data[type]['Close'].pct_change().shift(-1)\n",
    "    data[type] = data[type][:-1]\n",
    "    data[type]['tic'] = type\n",
    "\n",
    "train = pd.DataFrame(columns=['Open', 'High', 'Low', 'Close', 'Volume', 'tic', 'Target'])\n",
    "\n",
    "for type in ['BTCUSDT', 'ETHUSDT', 'LTCUSDT', 'XRPUSDT']:\n",
    "    train = pd.concat([train, data[type]], axis=0)\n",
    "\n",
    "train.reset_index(inplace=True)\n",
    "train.columns = ['date', 'Open', 'High', 'Low', 'close', 'Volume', 'tic', 'Target']\n",
    "train.sort_values(by=['date', 'tic'], inplace=True)\n",
    "train.date = pd.Series(train.date).apply(\n",
    "    lambda x: datetime.datetime.fromtimestamp(x / 1000000000).strftime('%Y-%m-%d %H:%M:%S'))\n",
    "train = train[train.date != '2020-12-21 22:09:00']"
   ]
  },
  {
   "cell_type": "code",
   "execution_count": 148,
   "id": "5c7bfc2b",
   "metadata": {},
   "outputs": [],
   "source": [
    "raw_validation = h5py.File(os.getcwd() + '/data/eval_data_format1_week_final.h5', 'r')\n",
    "\n",
    "data_validation = {}\n",
    "for type in ['BTCUSDT', 'ETHUSDT', 'LTCUSDT', 'XRPUSDT']:\n",
    "    temp = raw_validation[type + '.csv']\n",
    "    data_validation[type] = pd.DataFrame(data=temp['block0_values'][()],\n",
    "                              columns=pd.Series(temp['axis0'][()]).apply(lambda x: str(x, encoding=\"utf8\")).values,\n",
    "                              index=temp['axis1'][()])\n",
    "    data_validation[type]['Target'] = data_validation[type]['Close'].pct_change().shift(-1)\n",
    "    data_validation[type] = data_validation[type][:-1]\n",
    "    data_validation[type]['tic'] = type\n",
    "\n",
    "validation = pd.DataFrame(columns=['Open', 'High', 'Low', 'Close', 'Volume', 'tic', 'Target'])\n",
    "\n",
    "for type in ['BTCUSDT', 'ETHUSDT', 'LTCUSDT', 'XRPUSDT']:\n",
    "    validation = pd.concat([validation, data_validation[type]], axis=0)\n",
    "\n",
    "validation.reset_index(inplace=True)\n",
    "validation.columns = ['date', 'Open', 'High', 'Low', 'close', 'Volume', 'tic', 'Target']\n",
    "validation.sort_values(by=['date', 'tic'], inplace=True)\n",
    "validation.date = pd.Series(validation.date).apply(\n",
    "    lambda x: datetime.datetime.fromtimestamp(x / 1000000000).strftime('%Y-%m-%d %H:%M:%S'))"
   ]
  },
  {
   "cell_type": "code",
   "execution_count": 123,
   "id": "e4d4f36d",
   "metadata": {
    "scrolled": true
   },
   "outputs": [
    {
     "name": "stderr",
     "output_type": "stream",
     "text": [
      "100%|██████████| 77389/77389 [00:19<00:00, 3869.70it/s]\n"
     ]
    }
   ],
   "source": [
    "train_list = []\n",
    "\n",
    "for i in trange(round(len(train)/60)):\n",
    "    train_list.append((train.iloc[i: 60+i, 1:6].values, train.iloc[60+i: 60+1+i, 7].values))"
   ]
  },
  {
   "cell_type": "code",
   "execution_count": 151,
   "id": "3905915b",
   "metadata": {},
   "outputs": [],
   "source": [
    "validation_list = []\n",
    "\n",
    "for i in range(round(len(validation)/60)):\n",
    "    validation_list.append((validation.iloc[i: 60+i, 1:6].values, validation.iloc[60+i: 60+1+i, 7].values))"
   ]
  },
  {
   "cell_type": "code",
   "execution_count": null,
   "id": "2ffd258f",
   "metadata": {},
   "outputs": [],
   "source": [
    "EPOCHS        = 1000\n",
    "DROPOUT       = 0.5\n",
    "DIRECTIONS    = 1\n",
    "NUM_LAYERS    = 2\n",
    "BATCH_SIZE    = 200\n",
    "OUTPUT_SIZE   = 1\n",
    "SEQ_LENGTH    = 60\n",
    "NUM_FEATURES  = 5\n",
    "HIDDEN_SIZE   = 100\n",
    "LEARNING_RATE = 0.0001\n",
    "STATE_DIM     = NUM_LAYERS * DIRECTIONS, BATCH_SIZE, HIDDEN_SIZE\n",
    "\n",
    "params = {'batch_size': BATCH_SIZE,\n",
    "          'shuffle': False,\n",
    "          'drop_last': True,\n",
    "          'num_workers': 2}"
   ]
  },
  {
   "cell_type": "code",
   "execution_count": null,
   "id": "03de3615",
   "metadata": {},
   "outputs": [],
   "source": [
    "training_dl = DataLoader(train_list, **params)\n",
    "validation_dl = DataLoader(validation_list, **params)"
   ]
  },
  {
   "cell_type": "code",
   "execution_count": 137,
   "id": "80312d5d",
   "metadata": {},
   "outputs": [],
   "source": [
    "class LSTM(nn.Module):\n",
    "    def __init__(self, input_size, hidden_size, num_layers, output_size, dropout_prob, directions=1):\n",
    "        super(LSTM, self).__init__()\n",
    "\n",
    "        self.num_layers = num_layers\n",
    "        self.hidden_size = hidden_size\n",
    "        self.directions = directions\n",
    "\n",
    "        self.lstm = nn.LSTM(input_size, hidden_size, num_layers, batch_first=True, dropout=dropout_prob)\n",
    "        self.dropout = nn.Dropout(dropout_prob)\n",
    "        self.linear = nn.Linear(hidden_size, output_size)\n",
    "\n",
    "    def init_hidden_states(self, batch_size):\n",
    "        state_dim = (self.num_layers * self.directions, batch_size, self.hidden_size)\n",
    "        return (torch.zeros(state_dim).to(device), torch.zeros(state_dim).to(device))\n",
    "\n",
    "    def forward(self, x, states):\n",
    "        x, (h, c) = self.lstm(x, states)\n",
    "        out = self.linear(x)\n",
    "        return out, (h, c)\n",
    "\n",
    "model = LSTM(NUM_FEATURES, HIDDEN_SIZE, NUM_LAYERS, OUTPUT_SIZE,DROPOUT).to(device)\n",
    "\n",
    "criterion = nn.MSELoss()"
   ]
  },
  {
   "cell_type": "code",
   "execution_count": 138,
   "id": "963b1708",
   "metadata": {},
   "outputs": [],
   "source": [
    "optimizer = optim.AdamW(model.linear.parameters(), lr=LEARNING_RATE, weight_decay=0.01)"
   ]
  },
  {
   "cell_type": "code",
   "execution_count": 154,
   "id": "83d3a318",
   "metadata": {},
   "outputs": [
    {
     "name": "stderr",
     "output_type": "stream",
     "text": [
      "  0%|          | 0/1000 [03:15<?, ?it/s]\n"
     ]
    }
   ],
   "source": [
    "training_losses = []\n",
    "validation_losses = []\n",
    "\n",
    "\n",
    "model.train()\n",
    "\n",
    "for epoch in tqdm(range(EPOCHS)):\n",
    "    \n",
    "    # Initialize hidden and cell states with dimension:\n",
    "    # (num_layers * num_directions, batch, hidden_size)\n",
    "    states = model.init_hidden_states(BATCH_SIZE)\n",
    "    running_training_loss = 0.0\n",
    "    \n",
    "    # Begin training\n",
    "    for idx, (x_batch, y_batch) in enumerate(training_dl):\n",
    "        # Convert to Tensors\n",
    "        x_batch = x_batch.float().to(device)\n",
    "        y_batch = y_batch.float().to(device)\n",
    "\n",
    "        # Truncated Backpropagation\n",
    "        states = [state.detach() for state in states]          \n",
    "\n",
    "        optimizer.zero_grad()\n",
    "\n",
    "        # Make prediction\n",
    "        output, states = model(x_batch, states)\n",
    "\n",
    "        # Calculate loss\n",
    "        loss = criterion(output[:, -1, :], y_batch)\n",
    "        loss.backward()\n",
    "        running_training_loss += loss.item()\n",
    "\n",
    "        torch.nn.utils.clip_grad_norm_(model.parameters(), 0.5)\n",
    "        optimizer.step()\n",
    "\n",
    "    # Average loss across timesteps\n",
    "    training_losses.append(running_training_loss / len(training_dl))\n",
    "    \n",
    "    if epoch % 50 == 0:\n",
    "        model.eval()\n",
    "        \n",
    "        with torch.no_grad():\n",
    "            validation_states = model.init_hidden_states(BATCH_SIZE)\n",
    "            running_validation_loss = 0.0\n",
    "\n",
    "            for idx, (x_batch, y_batch) in enumerate(validation_dl):\n",
    "                x_batch = x_batch.float().to(device)\n",
    "                y_batch = y_batch.float().to(device)\n",
    "\n",
    "                validation_states = [state.detach() for state in validation_states]\n",
    "                output, validation_states = model(x_batch, validation_states)\n",
    "                validation_loss = criterion(output[:, -1, :], y_batch)\n",
    "                running_validation_loss += validation_loss.item()\n",
    "\n",
    "    validation_losses.append(running_validation_loss / len(validation_dl))\n",
    "    \n",
    "    # Reset to training mode\n",
    "    model.train()\n",
    "\n",
    "#     if epoch == 0: break"
   ]
  },
  {
   "cell_type": "code",
   "execution_count": 157,
   "id": "bb50ea43",
   "metadata": {
    "scrolled": true
   },
   "outputs": [
    {
     "data": {
      "image/png": "[encoded data removed]",
      "text/plain": [
       "<Figure size 432x288 with 1 Axes>"
      ]
     },
     "metadata": {
      "needs_background": "light"
     },
     "output_type": "display_data"
    }
   ],
   "source": [
    "epoch_count = range(1, len(training_losses) + 1)\n",
    "val_epoch_count = range(1, len(validation_losses) + 1)\n",
    "\n",
    "plt.plot(epoch_count, training_losses, 'r--', label='Training Loss')\n",
    "plt.plot(val_epoch_count, validation_losses, 'b--', label='Validation Loss')\n",
    "plt.xlabel('Epoch')\n",
    "plt.ylabel('Loss')\n",
    "plt.show()"
   ]
  },
  {
   "cell_type": "code",
   "execution_count": null,
   "id": "410ce365",
   "metadata": {},
   "outputs": [],
   "source": [
    "for (test_df, sample_prediction_df) in iter_test:\n",
    "    selected_features = test_df[FEATURES]\n",
    "    x = torch.Tensor(selected_features.values)\n",
    "    x = x.float().to(device)\n",
    "    x = x.view(1, -1, NUM_FEATURES) # Batch size x Sequence length x Number of features\n",
    "    validation_states = model.init_hidden_states(1)\n",
    "    validation_states = [state.detach() for state in validation_states]\n",
    "    output, _ = model(x, validation_states)\n",
    "    sample_prediction_df['Target'] = output[:, -1, :].item()\n",
    "    env.predict(sample_prediction_df)"
   ]
  },
  {
   "cell_type": "code",
   "execution_count": null,
   "id": "3c5c65cb",
   "metadata": {},
   "outputs": [],
   "source": [
    "# Testing\n",
    "for idx,(x_batch, y_batch) in enumerate(testing_dl):\n",
    "    \n",
    "    model.eval()\n",
    "    with torch.no_grad():\n",
    "        \n",
    "        x_batch = x_batch.float().to(device)\n",
    "        y_batch = y_batch.float().to(device)\n",
    "        \n",
    "        test_output = model(x_batch)"
   ]
  }
 ],
 "metadata": {
  "kernelspec": {
   "display_name": "pythonProject",
   "language": "python",
   "name": "pythonproject"
  },
  "language_info": {
   "codemirror_mode": {
    "name": "ipython",
    "version": 3
   },
   "file_extension": ".py",
   "mimetype": "text/x-python",
   "name": "python",
   "nbconvert_exporter": "python",
   "pygments_lexer": "ipython3",
   "version": "3.8.8"
  }
 },
 "nbformat": 4,
 "nbformat_minor": 5
}
