{
 "cells": [
  {
   "cell_type": "code",
   "execution_count": 1,
   "id": "3889b76e",
   "metadata": {},
   "outputs": [],
   "source": [
    "import datetime\n",
    "import h5py\n",
    "import matplotlib.pyplot as plt\n",
    "import os\n",
    "import pandas as pd\n",
    "import torch\n",
    "import torch.optim as optim\n",
    "import torch.nn as nn\n",
    "\n",
    "from torch.utils.data import DataLoader\n",
    "from tqdm import trange"
   ]
  },
  {
   "cell_type": "code",
   "execution_count": 2,
   "id": "8a17a426",
   "metadata": {},
   "outputs": [],
   "source": [
    "device = torch.device('cuda:0' if torch.cuda.is_available() else 'cpu')"
   ]
  },
  {
   "cell_type": "code",
   "execution_count": 39,
   "id": "b908e4a8",
   "metadata": {},
   "outputs": [],
   "source": [
    "raw = h5py.File(os.getcwd() + '/train_data_format1_week_final.h5', 'r')\n",
    "\n",
    "data = {}\n",
    "for type in ['BTCUSDT', 'ETHUSDT', 'LTCUSDT', 'XRPUSDT']:\n",
    "    temp = raw[type + '.csv']\n",
    "    data[type] = pd.DataFrame(data=temp['block0_values'][()],\n",
    "                              columns=pd.Series(temp['axis0'][()]).apply(lambda x: str(x, encoding=\"utf8\")).values,\n",
    "                              index=temp['axis1'][()])\n",
    "    data[type]['Target'] = data[type]['Close'].pct_change().shift(-1)\n",
    "    data[type] = data[type][:-1]\n",
    "    data[type]['tic'] = type\n",
    "\n",
    "train = pd.DataFrame(columns=['Open', 'High', 'Low', 'Close', 'Volume', 'tic', 'Target'])\n",
    "\n",
    "for type in ['BTCUSDT', 'ETHUSDT', 'LTCUSDT', 'XRPUSDT']:\n",
    "    train = pd.concat([train, data[type]], axis=0)\n",
    "\n",
    "train.reset_index(inplace=True)\n",
    "train.columns = ['date', 'Open', 'High', 'Low', 'close', 'Volume', 'tic', 'Target']\n",
    "train.sort_values(by=['date', 'tic'], inplace=True)\n",
    "train.date = pd.Series(train.date).apply(\n",
    "    lambda x: datetime.datetime.fromtimestamp(x / 1000000000).strftime('%Y-%m-%d %H:%M:%S'))\n",
    "train = train[train.date != '2020-12-21 22:09:00']"
   ]
  },
  {
   "cell_type": "code",
   "execution_count": 40,
   "id": "61d4286e",
   "metadata": {},
   "outputs": [],
   "source": [
    "train_list = []\n",
    "\n",
    "for i in range(round(len(train)/60)):\n",
    "    train_list.append((train.iloc[i: 60+i, 1:6].values, train.iloc[60+i: 60+1+i, 7].values))"
   ]
  },
  {
   "cell_type": "code",
   "execution_count": 41,
   "id": "f0b10a5a",
   "metadata": {},
   "outputs": [],
   "source": [
    "raw_validation = h5py.File(os.getcwd() + '/eval_data_format1_week_final.h5', 'r')\n",
    "\n",
    "data_validation = {}\n",
    "for type in ['BTCUSDT', 'ETHUSDT', 'LTCUSDT', 'XRPUSDT']:\n",
    "    temp = raw_validation[type + '.csv']\n",
    "    data_validation[type] = pd.DataFrame(data=temp['block0_values'][()],\n",
    "                              columns=pd.Series(temp['axis0'][()]).apply(lambda x: str(x, encoding=\"utf8\")).values,\n",
    "                              index=temp['axis1'][()])\n",
    "    data_validation[type]['Target'] = data_validation[type]['Close'].pct_change().shift(-1)\n",
    "    data_validation[type] = data_validation[type][:-1]\n",
    "    data_validation[type]['tic'] = type\n",
    "\n",
    "validation = pd.DataFrame(columns=['Open', 'High', 'Low', 'Close', 'Volume', 'tic', 'Target'])\n",
    "\n",
    "for type in ['BTCUSDT', 'ETHUSDT', 'LTCUSDT', 'XRPUSDT']:\n",
    "    validation = pd.concat([validation, data_validation[type]], axis=0)\n",
    "\n",
    "validation.reset_index(inplace=True)\n",
    "validation.columns = ['date', 'Open', 'High', 'Low', 'close', 'Volume', 'tic', 'Target']\n",
    "validation.sort_values(by=['date', 'tic'], inplace=True)\n",
    "validation.date = pd.Series(validation.date).apply(\n",
    "    lambda x: datetime.datetime.fromtimestamp(x / 1000000000).strftime('%Y-%m-%d %H:%M:%S'))"
   ]
  },
  {
   "cell_type": "code",
   "execution_count": 42,
   "id": "561d5e8f",
   "metadata": {},
   "outputs": [],
   "source": [
    "validation_list = []\n",
    "\n",
    "for i in range(round(len(validation)/60)):\n",
    "    validation_list.append((validation.iloc[i: 60+i, 1:6].values, validation.iloc[60+i: 60+1+i, 7].values))"
   ]
  },
  {
   "cell_type": "code",
   "execution_count": 55,
   "id": "5c5fb1e3",
   "metadata": {},
   "outputs": [],
   "source": [
    "LEARNING_RATE = 0.005\n",
    "EPOCHS        = 50\n",
    "BATCH_SIZE    = 150\n",
    "HIDDEN_SIZE   = 50\n",
    "DROPOUT       = 0.1\n",
    "NUM_LAYERS    = 3\n",
    "\n",
    "OUTPUT_SIZE   = 1\n",
    "NUM_FEATURES  = 5\n",
    "\n",
    "params = {'batch_size': BATCH_SIZE,\n",
    "          'shuffle': False,\n",
    "          'drop_last': True,\n",
    "          'num_workers': 4}"
   ]
  },
  {
   "cell_type": "code",
   "execution_count": 56,
   "id": "c368f52d",
   "metadata": {},
   "outputs": [],
   "source": [
    "training_dl = DataLoader(train_list, **params)\n",
    "validation_dl = DataLoader(validation_list, **params)"
   ]
  },
  {
   "cell_type": "code",
   "execution_count": 57,
   "id": "6fa9ca40",
   "metadata": {},
   "outputs": [],
   "source": [
    "class LSTM(nn.Module):\n",
    "    def __init__(self, input_size, hidden_size, num_layers, output_size, dropout_prob, directions=1):\n",
    "        super(LSTM, self).__init__()\n",
    "\n",
    "        self.num_layers = num_layers\n",
    "        self.hidden_size = hidden_size\n",
    "        self.directions = directions\n",
    "\n",
    "        self.lstm = nn.LSTM(input_size, hidden_size, num_layers, batch_first=True, dropout=dropout_prob)\n",
    "        self.dropout = nn.Dropout(dropout_prob)\n",
    "        self.linear = nn.Linear(hidden_size, output_size)\n",
    "\n",
    "    def init_hidden_states(self, batch_size):\n",
    "        state_dim = (self.num_layers * self.directions, batch_size, self.hidden_size)\n",
    "        return (torch.zeros(state_dim).to(device), torch.zeros(state_dim).to(device))\n",
    "\n",
    "    def forward(self, x, states):\n",
    "        x, (h, c) = self.lstm(x, states)\n",
    "        out = self.linear(x)\n",
    "        return out, (h, c)\n",
    "\n",
    "model = LSTM(NUM_FEATURES, HIDDEN_SIZE, NUM_LAYERS, OUTPUT_SIZE, DROPOUT).to(device)\n",
    "\n",
    "criterion = nn.MSELoss()\n",
    "\n",
    "optimizer = optim.AdamW(model.linear.parameters(), lr=LEARNING_RATE, weight_decay=0.01)"
   ]
  },
  {
   "cell_type": "code",
   "execution_count": 58,
   "id": "09432a59",
   "metadata": {},
   "outputs": [
    {
     "name": "stderr",
     "output_type": "stream",
     "text": [
      "100%|███████████████████████████████████████████████████████████████████████████████████| 50/50 [06:00<00:00,  7.21s/it]\n"
     ]
    }
   ],
   "source": [
    "training_losses = []\n",
    "validation_losses = []\n",
    "\n",
    "\n",
    "model.train()\n",
    "\n",
    "for epoch in trange(EPOCHS):\n",
    "    \n",
    "    # Initialize hidden and cell states with dimension:\n",
    "    # (num_layers * num_directions, batch, hidden_size)\n",
    "    states = model.init_hidden_states(BATCH_SIZE)\n",
    "    running_training_loss = 0.0\n",
    "    \n",
    "    # Begin training\n",
    "    for idx, (x_batch, y_batch) in enumerate(training_dl):\n",
    "        # Convert to Tensors\n",
    "        x_batch = x_batch.float().to(device)\n",
    "        y_batch = y_batch.float().to(device)\n",
    "\n",
    "        # Truncated Backpropagation\n",
    "        states = [state.detach() for state in states]          \n",
    "\n",
    "        optimizer.zero_grad()\n",
    "\n",
    "        # Make prediction\n",
    "        output, states = model(x_batch, states)\n",
    "\n",
    "        # Calculate loss\n",
    "        loss = criterion(output[:, -1, :], y_batch)\n",
    "        loss.backward()\n",
    "        running_training_loss += loss.item()\n",
    "\n",
    "        torch.nn.utils.clip_grad_norm_(model.parameters(), 0.5)\n",
    "        optimizer.step()\n",
    "\n",
    "    # Average loss across timesteps\n",
    "    training_losses.append(running_training_loss / len(training_dl))\n",
    "    \n",
    "    if epoch % 2 == 0:\n",
    "        model.eval()\n",
    "        \n",
    "        with torch.no_grad():\n",
    "            validation_states = model.init_hidden_states(BATCH_SIZE)\n",
    "            running_validation_loss = 0.0\n",
    "\n",
    "            for idx, (x_batch, y_batch) in enumerate(validation_dl):\n",
    "                x_batch = x_batch.float().to(device)\n",
    "                y_batch = y_batch.float().to(device)\n",
    "\n",
    "                validation_states = [state.detach() for state in validation_states]\n",
    "                output, validation_states = model(x_batch, validation_states)\n",
    "                validation_loss = criterion(output[:, -1, :], y_batch)\n",
    "                running_validation_loss += validation_loss.item()\n",
    "\n",
    "    validation_losses.append(running_validation_loss / len(validation_dl))\n",
    "    \n",
    "    # Reset to training mode\n",
    "    model.train()"
   ]
  },
  {
   "cell_type": "code",
   "execution_count": 59,
   "id": "d50c5459",
   "metadata": {},
   "outputs": [
    {
     "data": {
      "image/png": "[encoded data removed]",
      "text/plain": [
       "<Figure size 432x288 with 1 Axes>"
      ]
     },
     "metadata": {
      "needs_background": "light"
     },
     "output_type": "display_data"
    },
    {
     "data": {
      "image/png": "[encoded data removed]",
      "text/plain": [
       "<Figure size 432x288 with 1 Axes>"
      ]
     },
     "metadata": {
      "needs_background": "light"
     },
     "output_type": "display_data"
    }
   ],
   "source": [
    "epoch_count = range(1, len(training_losses) + 1)\n",
    "val_epoch_count = range(1, len(validation_losses) + 1)\n",
    "\n",
    "plt.figure(figsize=(6,4))\n",
    "plt.plot(epoch_count, training_losses, 'r', label='Training Loss')\n",
    "plt.xlabel('Epoch')\n",
    "plt.ylabel('Loss')\n",
    "plt.legend()\n",
    "plt.show()\n",
    "\n",
    "plt.figure(figsize=(6,4))\n",
    "plt.plot(val_epoch_count, validation_losses, 'b', label='Validation Loss')\n",
    "plt.xlabel('Epoch')\n",
    "plt.ylabel('Loss')\n",
    "plt.legend()\n",
    "plt.show()"
   ]
  },
  {
   "cell_type": "code",
   "execution_count": 60,
   "id": "76eac768",
   "metadata": {},
   "outputs": [],
   "source": [
    "torch.save(model.state_dict(), f=os.getcwd()+'/model.pt')"
   ]
  }
 ],
 "metadata": {
  "kernelspec": {
   "display_name": "pythonProject",
   "language": "python",
   "name": "pythonproject"
  },
  "language_info": {
   "codemirror_mode": {
    "name": "ipython",
    "version": 3
   },
   "file_extension": ".py",
   "mimetype": "text/x-python",
   "name": "python",
   "nbconvert_exporter": "python",
   "pygments_lexer": "ipython3",
   "version": "3.8.8"
  }
 },
 "nbformat": 4,
 "nbformat_minor": 5
}
