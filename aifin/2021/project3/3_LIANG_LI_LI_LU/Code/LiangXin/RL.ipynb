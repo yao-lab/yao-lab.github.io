{
 "cells": [
  {
   "cell_type": "code",
   "execution_count": 49,
   "id": "750661a9",
   "metadata": {},
   "outputs": [],
   "source": [
    "\"\"\"\n",
    "@Time ： 2021/11/21 16:06\n",
    "@Auth ： Aaron Liang\n",
    "\"\"\"\n",
    "\n",
    "import datetime\n",
    "import h5py\n",
    "import matplotlib.pyplot as plt\n",
    "import numpy as np\n",
    "import pandas as pd\n",
    "import ray\n",
    "import sys\n",
    "\n",
    "sys.path.append(\"../FinRL-Library\")\n",
    "\n",
    "from finrl.apps import config\n",
    "from finrl.drl_agents.rllib.models import DRLAgent as DRLAgent_rllib\n",
    "from finrl.drl_agents.stablebaselines3.models import DRLAgent\n",
    "from finrl.neo_finrl.env_stock_trading.env_stocktrading import StockTradingEnv\n",
    "from finrl.neo_finrl.env_stock_trading.env_stocktrading_np import StockTradingEnv as StockTradingEnv_numpy\n",
    "from finrl.neo_finrl.preprocessor.preprocessors import FeatureEngineer, data_split\n",
    "from finrl.plot import backtest_stats, backtest_plot, get_daily_return, get_baseline\n",
    "from pprint import pprint\n",
    "        \n",
    "import os\n",
    "\n",
    "if not os.path.exists(\"./\" + config.DATA_SAVE_DIR):\n",
    "    os.makedirs(\"./\" + config.DATA_SAVE_DIR)\n",
    "if not os.path.exists(\"./\" + config.TRAINED_MODEL_DIR):\n",
    "    os.makedirs(\"./\" + config.TRAINED_MODEL_DIR)\n",
    "if not os.path.exists(\"./\" + config.TENSORBOARD_LOG_DIR):\n",
    "    os.makedirs(\"./\" + config.TENSORBOARD_LOG_DIR)\n",
    "if not os.path.exists(\"./\" + config.RESULTS_DIR):\n",
    "    os.makedirs(\"./\" + config.RESULTS_DIR)"
   ]
  },
  {
   "cell_type": "code",
   "execution_count": 50,
   "id": "b4c71d83",
   "metadata": {
    "scrolled": true
   },
   "outputs": [
    {
     "name": "stderr",
     "output_type": "stream",
     "text": [
      "\r",
      "  0%|          | 0/4 [00:00<?, ?it/s]"
     ]
    },
    {
     "name": "stdout",
     "output_type": "stream",
     "text": [
      "macd\n"
     ]
    },
    {
     "name": "stderr",
     "output_type": "stream",
     "text": [
      "100%|██████████| 4/4 [00:03<00:00,  1.18it/s]\n",
      "  0%|          | 0/4 [00:00<?, ?it/s]"
     ]
    },
    {
     "name": "stdout",
     "output_type": "stream",
     "text": [
      "boll_ub\n"
     ]
    },
    {
     "name": "stderr",
     "output_type": "stream",
     "text": [
      "100%|██████████| 4/4 [00:05<00:00,  1.42s/it]\n",
      "  0%|          | 0/4 [00:00<?, ?it/s]"
     ]
    },
    {
     "name": "stdout",
     "output_type": "stream",
     "text": [
      "boll_lb\n"
     ]
    },
    {
     "name": "stderr",
     "output_type": "stream",
     "text": [
      "100%|██████████| 4/4 [00:05<00:00,  1.40s/it]\n",
      "  0%|          | 0/4 [00:00<?, ?it/s]"
     ]
    },
    {
     "name": "stdout",
     "output_type": "stream",
     "text": [
      "rsi_30\n"
     ]
    },
    {
     "name": "stderr",
     "output_type": "stream",
     "text": [
      "100%|██████████| 4/4 [00:03<00:00,  1.11it/s]\n",
      "  0%|          | 0/4 [00:00<?, ?it/s]"
     ]
    },
    {
     "name": "stdout",
     "output_type": "stream",
     "text": [
      "dx_30\n"
     ]
    },
    {
     "name": "stderr",
     "output_type": "stream",
     "text": [
      "100%|██████████| 4/4 [00:04<00:00,  1.22s/it]\n",
      "  0%|          | 0/4 [00:00<?, ?it/s]"
     ]
    },
    {
     "name": "stdout",
     "output_type": "stream",
     "text": [
      "close_30_sma\n"
     ]
    },
    {
     "name": "stderr",
     "output_type": "stream",
     "text": [
      "100%|██████████| 4/4 [00:02<00:00,  1.39it/s]\n",
      "  0%|          | 0/4 [00:00<?, ?it/s]"
     ]
    },
    {
     "name": "stdout",
     "output_type": "stream",
     "text": [
      "close_60_sma\n"
     ]
    },
    {
     "name": "stderr",
     "output_type": "stream",
     "text": [
      "100%|██████████| 4/4 [00:02<00:00,  1.42it/s]\n"
     ]
    },
    {
     "name": "stdout",
     "output_type": "stream",
     "text": [
      "Successfully added technical indicators\n"
     ]
    }
   ],
   "source": [
    "raw = h5py.File(os.getcwd() + '/data/train_data_format1_week_final.h5', 'r')\n",
    "\n",
    "data = {}\n",
    "for type in ['BTCUSDT', 'ETHUSDT', 'LTCUSDT', 'XRPUSDT']:\n",
    "    temp = raw[type + '.csv']\n",
    "    data[type] = pd.DataFrame(data=temp['block0_values'][()],\n",
    "                              columns=pd.Series(temp['axis0'][()]).apply(lambda x: str(x, encoding=\"utf8\")).values,\n",
    "                              index=temp['axis1'][()])\n",
    "    data[type]['tic'] = type\n",
    "\n",
    "train = pd.DataFrame(columns=['Open', 'High', 'Low', 'Close', 'Volume', 'tic'])\n",
    "\n",
    "for type in ['BTCUSDT', 'ETHUSDT', 'LTCUSDT', 'XRPUSDT']:\n",
    "    train = pd.concat([train, data[type]], axis=0)\n",
    "\n",
    "train.reset_index(inplace=True)\n",
    "train.columns = ['date', 'Open', 'High', 'Low', 'close', 'Volume', 'tic']\n",
    "train.sort_values(by=['date', 'tic'], inplace=True)\n",
    "train.date = pd.Series(train.date).apply(\n",
    "    lambda x: datetime.datetime.fromtimestamp(x / 1000000000).strftime('%Y-%m-%d %H:%M:%S'))\n",
    "train = train[train.date != '2020-12-21 22:09:00']\n",
    "\n",
    "if 'cci_30' in config.TECHNICAL_INDICATORS_LIST:\n",
    "    config.TECHNICAL_INDICATORS_LIST.remove('cci_30')\n",
    "\n",
    "fe = FeatureEngineer(\n",
    "    use_technical_indicator=True,\n",
    "    tech_indicator_list=config.TECHNICAL_INDICATORS_LIST,\n",
    "    use_vix=False,\n",
    "    use_turbulence=False,\n",
    "    user_defined_feature=False)\n",
    "\n",
    "newtrain = fe.preprocess_data(train)\n",
    "newtrain.index = newtrain.date.factorize()[0]"
   ]
  },
  {
   "cell_type": "code",
   "execution_count": 51,
   "id": "94411c72",
   "metadata": {},
   "outputs": [],
   "source": [
    "## Design Environment\n",
    "dimension = len(newtrain.tic.unique())\n",
    "state_space = 1 + 2 * dimension + len(config.TECHNICAL_INDICATORS_LIST) * dimension\n",
    "\n",
    "env_kwargs = {\n",
    "    \"hmax\": 100,\n",
    "    \"initial_amount\": 100000,\n",
    "    \"buy_cost_pct\": 0.0005,\n",
    "    \"sell_cost_pct\": 0.0005,\n",
    "    \"state_space\": state_space,\n",
    "    \"stock_dim\": dimension,\n",
    "    \"tech_indicator_list\": config.TECHNICAL_INDICATORS_LIST,\n",
    "    \"action_space\": dimension,\n",
    "    \"reward_scaling\": 1e-4\n",
    "}\n",
    "\n",
    "e_train_gym = StockTradingEnv(df=newtrain, **env_kwargs)\n",
    "\n",
    "# Environment for Training\n",
    "env_train, _ = e_train_gym.get_sb_env()"
   ]
  },
  {
   "cell_type": "code",
   "execution_count": 4,
   "id": "a7ace6ee",
   "metadata": {
    "scrolled": true
   },
   "outputs": [
    {
     "name": "stdout",
     "output_type": "stream",
     "text": [
      "{'n_steps': 5, 'ent_coef': 0.01, 'learning_rate': 0.0007}\n",
      "Using cpu device\n",
      "Logging to tensorboard_log/a2c/a2c_3\n",
      "-----------------------------------------\n",
      "| time/                 |               |\n",
      "|    fps                | 2             |\n",
      "|    iterations         | 100           |\n",
      "|    time_elapsed       | 184           |\n",
      "|    total_timesteps    | 500           |\n",
      "| train/                |               |\n",
      "|    entropy_loss       | -5.81         |\n",
      "|    explained_variance | 5.96e-08      |\n",
      "|    learning_rate      | 0.0007        |\n",
      "|    n_updates          | 99            |\n",
      "|    policy_loss        | -0.0314       |\n",
      "|    reward             | -0.0036038684 |\n",
      "|    std                | 1.04          |\n",
      "|    value_loss         | 0.000114      |\n",
      "-----------------------------------------\n",
      "-----------------------------------------\n",
      "| time/                 |               |\n",
      "|    fps                | 2             |\n",
      "|    iterations         | 200           |\n",
      "|    time_elapsed       | 367           |\n",
      "|    total_timesteps    | 1000          |\n",
      "| train/                |               |\n",
      "|    entropy_loss       | -5.92         |\n",
      "|    explained_variance | -1.3          |\n",
      "|    learning_rate      | 0.0007        |\n",
      "|    n_updates          | 199           |\n",
      "|    policy_loss        | 0.0224        |\n",
      "|    reward             | -0.0029231675 |\n",
      "|    std                | 1.06          |\n",
      "|    value_loss         | 3.92e-05      |\n",
      "-----------------------------------------\n",
      "----------------------------------------\n",
      "| time/                 |              |\n",
      "|    fps                | 2            |\n",
      "|    iterations         | 300          |\n",
      "|    time_elapsed       | 550          |\n",
      "|    total_timesteps    | 1500         |\n",
      "| train/                |              |\n",
      "|    entropy_loss       | -6.07        |\n",
      "|    explained_variance | 1.79e-07     |\n",
      "|    learning_rate      | 0.0007       |\n",
      "|    n_updates          | 299          |\n",
      "|    policy_loss        | 0.00722      |\n",
      "|    reward             | 7.172275e-05 |\n",
      "|    std                | 1.1          |\n",
      "|    value_loss         | 2.47e-05     |\n",
      "----------------------------------------\n",
      "---------------------------------------\n",
      "| time/                 |             |\n",
      "|    fps                | 2           |\n",
      "|    iterations         | 400         |\n",
      "|    time_elapsed       | 751         |\n",
      "|    total_timesteps    | 2000        |\n",
      "| train/                |             |\n",
      "|    entropy_loss       | -6.16       |\n",
      "|    explained_variance | -672        |\n",
      "|    learning_rate      | 0.0007      |\n",
      "|    n_updates          | 399         |\n",
      "|    policy_loss        | -0.29       |\n",
      "|    reward             | 0.000731681 |\n",
      "|    std                | 1.13        |\n",
      "|    value_loss         | 0.00757     |\n",
      "---------------------------------------\n",
      "---------------------------------------\n",
      "| time/                 |             |\n",
      "|    fps                | 2           |\n",
      "|    iterations         | 500         |\n",
      "|    time_elapsed       | 951         |\n",
      "|    total_timesteps    | 2500        |\n",
      "| train/                |             |\n",
      "|    entropy_loss       | -6.32       |\n",
      "|    explained_variance | 0           |\n",
      "|    learning_rate      | 0.0007      |\n",
      "|    n_updates          | 499         |\n",
      "|    policy_loss        | -0.0219     |\n",
      "|    reward             | 0.013546697 |\n",
      "|    std                | 1.17        |\n",
      "|    value_loss         | 1.53e-05    |\n",
      "---------------------------------------\n",
      "---------------------------------------\n",
      "| time/                 |             |\n",
      "|    fps                | 2           |\n",
      "|    iterations         | 600         |\n",
      "|    time_elapsed       | 1145        |\n",
      "|    total_timesteps    | 3000        |\n",
      "| train/                |             |\n",
      "|    entropy_loss       | -6.44       |\n",
      "|    explained_variance | -80.7       |\n",
      "|    learning_rate      | 0.0007      |\n",
      "|    n_updates          | 599         |\n",
      "|    policy_loss        | -0.0501     |\n",
      "|    reward             | 0.001795311 |\n",
      "|    std                | 1.21        |\n",
      "|    value_loss         | 0.00146     |\n",
      "---------------------------------------\n",
      "--------------------------------------\n",
      "| time/                 |            |\n",
      "|    fps                | 2          |\n",
      "|    iterations         | 700        |\n",
      "|    time_elapsed       | 1345       |\n",
      "|    total_timesteps    | 3500       |\n",
      "| train/                |            |\n",
      "|    entropy_loss       | -6.53      |\n",
      "|    explained_variance | -1.19e-07  |\n",
      "|    learning_rate      | 0.0007     |\n",
      "|    n_updates          | 699        |\n",
      "|    policy_loss        | 0.0483     |\n",
      "|    reward             | 0.00592268 |\n",
      "|    std                | 1.24       |\n",
      "|    value_loss         | 6.71e-05   |\n",
      "--------------------------------------\n",
      "-----------------------------------------\n",
      "| time/                 |               |\n",
      "|    fps                | 2             |\n",
      "|    iterations         | 800           |\n",
      "|    time_elapsed       | 1529          |\n",
      "|    total_timesteps    | 4000          |\n",
      "| train/                |               |\n",
      "|    entropy_loss       | -6.61         |\n",
      "|    explained_variance | -0.789        |\n",
      "|    learning_rate      | 0.0007        |\n",
      "|    n_updates          | 799           |\n",
      "|    policy_loss        | -0.256        |\n",
      "|    reward             | -0.0022702494 |\n",
      "|    std                | 1.26          |\n",
      "|    value_loss         | 0.00223       |\n",
      "-----------------------------------------\n",
      "-----------------------------------------\n",
      "| time/                 |               |\n",
      "|    fps                | 2             |\n",
      "|    iterations         | 900           |\n",
      "|    time_elapsed       | 1719          |\n",
      "|    total_timesteps    | 4500          |\n",
      "| train/                |               |\n",
      "|    entropy_loss       | -6.7          |\n",
      "|    explained_variance | -206          |\n",
      "|    learning_rate      | 0.0007        |\n",
      "|    n_updates          | 899           |\n",
      "|    policy_loss        | -0.00268      |\n",
      "|    reward             | -0.0017020134 |\n",
      "|    std                | 1.29          |\n",
      "|    value_loss         | 0.000142      |\n",
      "-----------------------------------------\n",
      "---------------------------------------\n",
      "| time/                 |             |\n",
      "|    fps                | 2           |\n",
      "|    iterations         | 1000        |\n",
      "|    time_elapsed       | 1917        |\n",
      "|    total_timesteps    | 5000        |\n",
      "| train/                |             |\n",
      "|    entropy_loss       | -6.81       |\n",
      "|    explained_variance | 0           |\n",
      "|    learning_rate      | 0.0007      |\n",
      "|    n_updates          | 999         |\n",
      "|    policy_loss        | 0.00733     |\n",
      "|    reward             | 0.002651547 |\n",
      "|    std                | 1.33        |\n",
      "|    value_loss         | 1.65e-06    |\n",
      "---------------------------------------\n"
     ]
    }
   ],
   "source": [
    "## Implement DRL Algorithms\n",
    "agent = DRLAgent(env=env_train)\n",
    "model_a2c = agent.get_model(\"a2c\")\n",
    "trained_a2c = agent.train_model(model=model_a2c, tb_log_name='a2c')"
   ]
  },
  {
   "cell_type": "code",
   "execution_count": 52,
   "id": "8a9e2cf4",
   "metadata": {
    "scrolled": true
   },
   "outputs": [
    {
     "name": "stdout",
     "output_type": "stream",
     "text": [
      "{'n_steps': 2048, 'ent_coef': 0.01, 'learning_rate': 0.00025, 'batch_size': 128}\n",
      "Using cpu device\n",
      "Logging to tensorboard_log/ppo/ppo_2\n",
      "--------------------------------------\n",
      "| time/              |               |\n",
      "|    fps             | 2             |\n",
      "|    iterations      | 1             |\n",
      "|    time_elapsed    | 855           |\n",
      "|    total_timesteps | 2048          |\n",
      "| train/             |               |\n",
      "|    reward          | -0.0010924032 |\n",
      "--------------------------------------\n",
      "------------------------------------------\n",
      "| time/                   |              |\n",
      "|    fps                  | 2            |\n",
      "|    iterations           | 2            |\n",
      "|    time_elapsed         | 1676         |\n",
      "|    total_timesteps      | 4096         |\n",
      "| train/                  |              |\n",
      "|    approx_kl            | 0.007758527  |\n",
      "|    clip_fraction        | 0.0868       |\n",
      "|    clip_range           | 0.2          |\n",
      "|    entropy_loss         | -5.68        |\n",
      "|    explained_variance   | -8.08        |\n",
      "|    learning_rate        | 0.00025      |\n",
      "|    loss                 | -0.067       |\n",
      "|    n_updates            | 10           |\n",
      "|    policy_gradient_loss | -0.0104      |\n",
      "|    reward               | -0.002614842 |\n",
      "|    std                  | 1            |\n",
      "|    value_loss           | 0.0191       |\n",
      "------------------------------------------\n",
      "-------------------------------------------\n",
      "| time/                   |               |\n",
      "|    fps                  | 2             |\n",
      "|    iterations           | 3             |\n",
      "|    time_elapsed         | 2498          |\n",
      "|    total_timesteps      | 6144          |\n",
      "| train/                  |               |\n",
      "|    approx_kl            | 0.0051857512  |\n",
      "|    clip_fraction        | 0.0441        |\n",
      "|    clip_range           | 0.2           |\n",
      "|    entropy_loss         | -5.68         |\n",
      "|    explained_variance   | -14           |\n",
      "|    learning_rate        | 0.00025       |\n",
      "|    loss                 | -0.0658       |\n",
      "|    n_updates            | 20            |\n",
      "|    policy_gradient_loss | -0.00568      |\n",
      "|    reward               | -0.0004788545 |\n",
      "|    std                  | 1             |\n",
      "|    value_loss           | 0.00248       |\n",
      "-------------------------------------------\n"
     ]
    }
   ],
   "source": [
    "agent = DRLAgent(env = env_train)\n",
    "PPO_PARAMS = {\n",
    "    \"n_steps\": 2048,\n",
    "    \"ent_coef\": 0.01,\n",
    "    \"learning_rate\": 0.00025,\n",
    "    \"batch_size\": 128,\n",
    "}\n",
    "model_ppo = agent.get_model(\"ppo\",model_kwargs = PPO_PARAMS)\n",
    "trained_ppo = agent.train_model(model=model_ppo, tb_log_name='ppo')"
   ]
  },
  {
   "cell_type": "code",
   "execution_count": 57,
   "id": "7e5c1462",
   "metadata": {
    "scrolled": true
   },
   "outputs": [
    {
     "name": "stdout",
     "output_type": "stream",
     "text": [
      "{'batch_size': 128, 'buffer_size': 1000000, 'learning_rate': 0.0001, 'learning_starts': 100, 'ent_coef': 'auto_0.1'}\n",
      "Using cpu device\n",
      "Logging to tensorboard_log/sac/sac_1\n"
     ]
    }
   ],
   "source": [
    "agent = DRLAgent(env = env_train)\n",
    "SAC_PARAMS = {\n",
    "    \"batch_size\": 128,\n",
    "    \"buffer_size\": 1000000,\n",
    "    \"learning_rate\": 0.0001,\n",
    "    \"learning_starts\": 100,\n",
    "    \"ent_coef\": \"auto_0.1\",\n",
    "}\n",
    "model_sac = agent.get_model(\"sac\",model_kwargs = SAC_PARAMS)\n",
    "trained_sac = agent.train_model(model=model_sac, tb_log_name='sac')"
   ]
  },
  {
   "cell_type": "code",
   "execution_count": null,
   "id": "7f7279b7",
   "metadata": {},
   "outputs": [],
   "source": []
  },
  {
   "cell_type": "code",
   "execution_count": 37,
   "id": "cc30642c",
   "metadata": {
    "scrolled": true
   },
   "outputs": [
    {
     "name": "stderr",
     "output_type": "stream",
     "text": [
      " 25%|██▌       | 1/4 [00:00<00:00,  5.37it/s]"
     ]
    },
    {
     "name": "stdout",
     "output_type": "stream",
     "text": [
      "macd\n"
     ]
    },
    {
     "name": "stderr",
     "output_type": "stream",
     "text": [
      "100%|██████████| 4/4 [00:00<00:00,  5.60it/s]\n",
      "  0%|          | 0/4 [00:00<?, ?it/s]"
     ]
    },
    {
     "name": "stdout",
     "output_type": "stream",
     "text": [
      "boll_ub\n"
     ]
    },
    {
     "name": "stderr",
     "output_type": "stream",
     "text": [
      "100%|██████████| 4/4 [00:01<00:00,  3.40it/s]\n",
      "  0%|          | 0/4 [00:00<?, ?it/s]"
     ]
    },
    {
     "name": "stdout",
     "output_type": "stream",
     "text": [
      "boll_lb\n"
     ]
    },
    {
     "name": "stderr",
     "output_type": "stream",
     "text": [
      "100%|██████████| 4/4 [00:01<00:00,  3.55it/s]\n",
      " 25%|██▌       | 1/4 [00:00<00:00,  4.96it/s]"
     ]
    },
    {
     "name": "stdout",
     "output_type": "stream",
     "text": [
      "rsi_30\n"
     ]
    },
    {
     "name": "stderr",
     "output_type": "stream",
     "text": [
      "100%|██████████| 4/4 [00:00<00:00,  5.05it/s]\n",
      "  0%|          | 0/4 [00:00<?, ?it/s]"
     ]
    },
    {
     "name": "stdout",
     "output_type": "stream",
     "text": [
      "dx_30\n"
     ]
    },
    {
     "name": "stderr",
     "output_type": "stream",
     "text": [
      "100%|██████████| 4/4 [00:00<00:00,  4.36it/s]\n",
      " 25%|██▌       | 1/4 [00:00<00:00,  7.23it/s]"
     ]
    },
    {
     "name": "stdout",
     "output_type": "stream",
     "text": [
      "close_30_sma\n"
     ]
    },
    {
     "name": "stderr",
     "output_type": "stream",
     "text": [
      "100%|██████████| 4/4 [00:00<00:00,  6.93it/s]\n",
      " 25%|██▌       | 1/4 [00:00<00:00,  7.26it/s]"
     ]
    },
    {
     "name": "stdout",
     "output_type": "stream",
     "text": [
      "close_60_sma\n"
     ]
    },
    {
     "name": "stderr",
     "output_type": "stream",
     "text": [
      "100%|██████████| 4/4 [00:00<00:00,  7.12it/s]\n"
     ]
    },
    {
     "name": "stdout",
     "output_type": "stream",
     "text": [
      "Successfully added technical indicators\n"
     ]
    }
   ],
   "source": [
    "# BacktestData\n",
    "trade = h5py.File(os.getcwd() + '/data/backtest_data_format1_week_final.h5', 'r')\n",
    "\n",
    "tradeDict = {}\n",
    "for type in ['BTCUSDT', 'ETHUSDT', 'LTCUSDT', 'XRPUSDT']:\n",
    "    temp = trade[type + '.csv']\n",
    "    tradeDict[type] = pd.DataFrame(data=temp['block0_values'][()],\n",
    "                                   columns=pd.Series(temp['axis0'][()]).apply(lambda x: str(x, encoding=\"utf8\")).values,\n",
    "                                   index=temp['axis1'][()])\n",
    "    tradeDict[type]['tic'] = type\n",
    "\n",
    "trade = pd.DataFrame(columns=['Open', 'High', 'Low', 'Close', 'Volume', 'tic'])\n",
    "\n",
    "for type in ['BTCUSDT', 'ETHUSDT', 'LTCUSDT', 'XRPUSDT']:\n",
    "    trade = pd.concat([trade, tradeDict[type]], axis=0)\n",
    "\n",
    "trade.index = pd.Series(trade.index).apply(lambda x: datetime.datetime.fromtimestamp(x / 1000000000).strftime('%Y-%m-%d %H:%M:%S'))\n",
    "trade.drop('2021-08-14 06:00:00', inplace=True)\n",
    "trade.drop('2021-09-29 18:40:00', inplace=True)\n",
    "trade.reset_index(inplace=True)\n",
    "trade.columns = ['date', 'Open', 'High', 'Low', 'close', 'Volume', 'tic']\n",
    "trade.sort_values(by=['date', 'tic'], inplace=True)\n",
    "\n",
    "fe = FeatureEngineer(\n",
    "    use_technical_indicator=True,\n",
    "    tech_indicator_list=config.TECHNICAL_INDICATORS_LIST,\n",
    "    use_vix=False,\n",
    "    use_turbulence=False,\n",
    "    user_defined_feature=False)\n",
    "\n",
    "if 'cci_30' in config.TECHNICAL_INDICATORS_LIST:\n",
    "    config.TECHNICAL_INDICATORS_LIST.remove('cci_30')\n",
    "\n",
    "newtrade = fe.preprocess_data(trade)\n",
    "newtrade.index = newtrade.date.factorize()[0]"
   ]
  },
  {
   "cell_type": "code",
   "execution_count": 42,
   "id": "1de03df3",
   "metadata": {
    "scrolled": true
   },
   "outputs": [
    {
     "name": "stderr",
     "output_type": "stream",
     "text": [
      "100%|█████████▉| 300887/300888 [9:23:20<00:00,  8.90it/s]  "
     ]
    },
    {
     "name": "stdout",
     "output_type": "stream",
     "text": [
      "hit end!\n"
     ]
    },
    {
     "name": "stderr",
     "output_type": "stream",
     "text": [
      "\n"
     ]
    }
   ],
   "source": [
    "e_trade_gym = StockTradingEnv(df=newtrade, **env_kwargs)\n",
    "df_account_value, df_actions = DRLAgent.DRL_prediction(model=trained_a2c, environment=e_trade_gym)"
   ]
  },
  {
   "cell_type": "code",
   "execution_count": 45,
   "id": "856d4466",
   "metadata": {
    "scrolled": true
   },
   "outputs": [
    {
     "name": "stdout",
     "output_type": "stream",
     "text": [
      "==============Get Backtest Results===========\n",
      "Annual return                NaN\n",
      "Cumulative returns     -9.254218\n",
      "Annual volatility       0.106177\n",
      "Sharpe ratio            0.018853\n",
      "Calmar ratio                 NaN\n",
      "Stability                    NaN\n",
      "Max drawdown          -10.279980\n",
      "Omega ratio             1.017095\n",
      "Sortino ratio           0.022678\n",
      "Skew                         NaN\n",
      "Kurtosis                     NaN\n",
      "Tail ratio              1.023641\n",
      "Daily value at risk    -0.013369\n",
      "dtype: float64\n"
     ]
    },
    {
     "name": "stderr",
     "output_type": "stream",
     "text": [
      "/Users/liangxin/opt/anaconda3/lib/python3.8/site-packages/empyrical/stats.py:447: RuntimeWarning: invalid value encountered in double_scalars\n",
      "  return ending_value ** (1 / num_years) - 1\n",
      "/Users/liangxin/opt/anaconda3/lib/python3.8/site-packages/empyrical/stats.py:1494: RuntimeWarning: invalid value encountered in log1p\n",
      "  cum_log_returns = np.log1p(returns).cumsum()\n"
     ]
    }
   ],
   "source": [
    "## Backtesting\n",
    "# ac2\n",
    "print(\"==============Get Backtest Results===========\")\n",
    "now = datetime.datetime.now().strftime('%Y%m%d-%Hh%M')\n",
    "\n",
    "perf_stats_all = backtest_stats(account_value=df_account_value)\n",
    "perf_stats_all = pd.DataFrame(perf_stats_all)"
   ]
  },
  {
   "cell_type": "code",
   "execution_count": 53,
   "id": "53d2f220",
   "metadata": {},
   "outputs": [
    {
     "name": "stderr",
     "output_type": "stream",
     "text": [
      "100%|█████████▉| 300887/300888 [10:24:39<00:00,  8.03it/s]  "
     ]
    },
    {
     "name": "stdout",
     "output_type": "stream",
     "text": [
      "hit end!\n"
     ]
    },
    {
     "name": "stderr",
     "output_type": "stream",
     "text": [
      "\n"
     ]
    }
   ],
   "source": [
    "# ppo\n",
    "df_account_value_ppo, df_actions_ppo = DRLAgent.DRL_prediction(model=trained_ppo, environment=e_trade_gym)"
   ]
  },
  {
   "cell_type": "code",
   "execution_count": 54,
   "id": "671a719b",
   "metadata": {
    "scrolled": false
   },
   "outputs": [
    {
     "name": "stdout",
     "output_type": "stream",
     "text": [
      "==============Get Backtest Results===========\n",
      "Annual return               NaN\n",
      "Cumulative returns    -4.540072\n",
      "Annual volatility      5.403767\n",
      "Sharpe ratio           0.030649\n",
      "Calmar ratio                NaN\n",
      "Stability                   NaN\n",
      "Max drawdown          -5.057766\n",
      "Omega ratio            2.334322\n",
      "Sortino ratio          0.927480\n",
      "Skew                        NaN\n",
      "Kurtosis                    NaN\n",
      "Tail ratio             1.012889\n",
      "Daily value at risk   -0.680153\n",
      "dtype: float64\n"
     ]
    },
    {
     "name": "stderr",
     "output_type": "stream",
     "text": [
      "/Users/liangxin/opt/anaconda3/lib/python3.8/site-packages/empyrical/stats.py:447: RuntimeWarning: invalid value encountered in double_scalars\n",
      "  return ending_value ** (1 / num_years) - 1\n",
      "/Users/liangxin/opt/anaconda3/lib/python3.8/site-packages/empyrical/stats.py:1494: RuntimeWarning: invalid value encountered in log1p\n",
      "  cum_log_returns = np.log1p(returns).cumsum()\n"
     ]
    }
   ],
   "source": [
    "# Backtesting\n",
    "print(\"==============Get Backtest Results===========\")\n",
    "\n",
    "perf_stats_all = backtest_stats(account_value=df_account_value_ppo)\n",
    "perf_stats_all = pd.DataFrame(perf_stats_all)"
   ]
  }
 ],
 "metadata": {
  "kernelspec": {
   "display_name": "pythonProject",
   "language": "python",
   "name": "pythonproject"
  },
  "language_info": {
   "codemirror_mode": {
    "name": "ipython",
    "version": 3
   },
   "file_extension": ".py",
   "mimetype": "text/x-python",
   "name": "python",
   "nbconvert_exporter": "python",
   "pygments_lexer": "ipython3",
   "version": "3.8.8"
  }
 },
 "nbformat": 4,
 "nbformat_minor": 5
}
