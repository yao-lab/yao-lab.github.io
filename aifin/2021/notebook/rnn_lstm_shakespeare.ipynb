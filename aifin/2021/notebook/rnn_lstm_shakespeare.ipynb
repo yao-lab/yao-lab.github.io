{
 "cells": [
  {
   "cell_type": "code",
   "execution_count": 1,
   "metadata": {},
   "outputs": [],
   "source": [
    "# implementation of a character-based RNN to generate sonnets\n",
    "import numpy as np\n",
    "import random\n",
    "import string\n",
    "from keras.models import Sequential, load_model\n",
    "from keras.layers import Dense, Embedding, Lambda\n",
    "from keras.layers import SimpleRNN,LSTM\n",
    "from keras.callbacks import LambdaCallback, EarlyStopping"
   ]
  },
  {
   "cell_type": "code",
   "execution_count": 2,
   "metadata": {},
   "outputs": [],
   "source": [
    "def preprocess(filename=\"shakespeare.txt\", seq_length=40, step=5):\n",
    "    '''\n",
    "    returns semi-redundant sequences their outputs \n",
    "    seq_length: number of characters in each sequence\n",
    "    step: gets every [step] sequence  \n",
    "    '''\n",
    "\n",
    "    # puts all data into text string  \n",
    "    file = open(filename, \"r\")\n",
    "    text = \"\"\n",
    "    for line in file:\n",
    "        line = line.lstrip(' ').rstrip(' ')\n",
    "        if line != '\\n' and not line[0].isdigit():\n",
    "            line.translate(str.maketrans('', '', string.punctuation))\n",
    "            text += line.lower()\n",
    "\n",
    "    # make char to index and index to char dictionary \n",
    "    characters = sorted(list(set(text)))\n",
    "    char_indices_dict = dict((c, i) for i, c in enumerate(characters))\n",
    "    indices_char_dict = dict((i, c) for i, c in enumerate(characters))\n",
    "    #print(char_indices_dict)\n",
    "\n",
    "    # makes every [step] char sequences of length seq_length and their outputs\n",
    "    sequences = []\n",
    "    next_chars = [] # next char that seq in sequences generates\n",
    "    #print(repr(text[len(text) - 200:]))\n",
    "    for i in range(0, len(text) - seq_length, step):\n",
    "        #print(i, seq, text[i : i + seq_length])\n",
    "        sequences.append(text[i : i + seq_length])\n",
    "        next_chars.append(text[i + seq_length])\n",
    "\n",
    "    # put sequences and outputs into np array\n",
    "    x = np.zeros((len(sequences), seq_length, len(characters)))\n",
    "    y = np.zeros((len(sequences), len(characters)), dtype=np.bool)\n",
    "    for i, sequence in enumerate(sequences):\n",
    "        for t, char in enumerate(sequence):\n",
    "            x[i, t, char_indices_dict[char]] = 1\n",
    "        y[i, char_indices_dict[next_chars[i]]] = 1\n",
    "\n",
    "    return x, y, sequences, indices_char_dict, char_indices_dict, text"
   ]
  },
  {
   "cell_type": "code",
   "execution_count": 3,
   "metadata": {},
   "outputs": [],
   "source": [
    "#seq_length: number of characters in each sequence\n",
    "#step: gets every [step] sequence  \n",
    "\n",
    "seq_length=40\n",
    "step=5    \n",
    "filename=\"shakespeare.txt\"\n",
    "# puts all data into text string  \n",
    "file = open(filename, \"r\")\n",
    "text = \"\"\n",
    "for line in file:\n",
    "    line = line.lstrip(' ').rstrip(' ')\n",
    "    if line != '\\n' and not line[0].isdigit():\n",
    "        line.translate(str.maketrans('', '', string.punctuation))\n",
    "        text += line.lower()"
   ]
  },
  {
   "cell_type": "code",
   "execution_count": 4,
   "metadata": {},
   "outputs": [
    {
     "name": "stdout",
     "output_type": "stream",
     "text": [
      "{'\\n': 0, ' ': 1, '!': 2, \"'\": 3, '(': 4, ')': 5, ',': 6, '-': 7, '.': 8, ':': 9, ';': 10, '?': 11, 'a': 12, 'b': 13, 'c': 14, 'd': 15, 'e': 16, 'f': 17, 'g': 18, 'h': 19, 'i': 20, 'j': 21, 'k': 22, 'l': 23, 'm': 24, 'n': 25, 'o': 26, 'p': 27, 'q': 28, 'r': 29, 's': 30, 't': 31, 'u': 32, 'v': 33, 'w': 34, 'x': 35, 'y': 36, 'z': 37}\n"
     ]
    }
   ],
   "source": [
    "# make char to index and index to char dictionary \n",
    "characters = sorted(list(set(text)))\n",
    "char_indices_dict = dict((c, i) for i, c in enumerate(characters))\n",
    "indices_char_dict = dict((i, c) for i, c in enumerate(characters))\n",
    "print(char_indices_dict)"
   ]
  },
  {
   "cell_type": "code",
   "execution_count": 6,
   "metadata": {},
   "outputs": [
    {
     "name": "stdout",
     "output_type": "stream",
     "text": [
      "\"fire took heat perpetual,\\ngrowing a bath and healthful remedy,\\nfor men discased, but i my mistress' thrall,\\ncame there for cure and this by that i prove,\\nlove's fire heats water, water cools not love.\"\n"
     ]
    }
   ],
   "source": [
    "# makes every [step] char sequences of length seq_length and their outputs\n",
    "sequences = []\n",
    "next_chars = [] # next char that seq in sequences generates\n",
    "print(repr(text[len(text) - 200:]))"
   ]
  },
  {
   "cell_type": "code",
   "execution_count": 7,
   "metadata": {},
   "outputs": [],
   "source": [
    "# using rnn to build model\n",
    "def make_rnn(temperature=1.0):\n",
    "    model = Sequential()\n",
    "    model.add(SimpleRNN(100))\n",
    "    # add temperature (controls variance)\n",
    "    model.add(Lambda(lambda x: x / temperature))\n",
    "    model.add(Dense(len(indices_char_dict), activation='softmax'))\n",
    "    model.compile(loss='categorical_crossentropy', optimizer='rmsprop', metrics=['accuracy'])\n",
    "    return model\n",
    "\n",
    "def make_lstm(temperature=1.0):\n",
    "    model = Sequential()\n",
    "    model.add(LSTM(100))\n",
    "    # add temperature (controls variance)\n",
    "    model.add(Lambda(lambda x: x / temperature))\n",
    "    model.add(Dense(len(indices_char_dict), activation='softmax'))  \n",
    "    model.compile(loss='categorical_crossentropy', optimizer='rmsprop', metrics=['accuracy'])\n",
    "    return model"
   ]
  },
  {
   "cell_type": "code",
   "execution_count": 8,
   "metadata": {},
   "outputs": [
    {
     "name": "stdout",
     "output_type": "stream",
     "text": [
      "model summary for rnn \n",
      "\n",
      "Model: \"sequential\"\n",
      "_________________________________________________________________\n",
      "Layer (type)                 Output Shape              Param #   \n",
      "=================================================================\n",
      "simple_rnn (SimpleRNN)       (18727, 100)              13900     \n",
      "_________________________________________________________________\n",
      "lambda (Lambda)              (18727, 100)              0         \n",
      "_________________________________________________________________\n",
      "dense (Dense)                (18727, 38)               3838      \n",
      "=================================================================\n",
      "Total params: 17,738\n",
      "Trainable params: 17,738\n",
      "Non-trainable params: 0\n",
      "_________________________________________________________________\n"
     ]
    }
   ],
   "source": [
    "# model summary for RNN\n",
    "x, y, sequences, indices_char_dict, char_indices_dict, text = preprocess()\n",
    "print('model summary for rnn \\n')\n",
    "rnn_model=make_rnn(0.2)\n",
    "rnn_model.build(x.shape)\n",
    "rnn_model.summary()"
   ]
  },
  {
   "cell_type": "code",
   "execution_count": 9,
   "metadata": {},
   "outputs": [
    {
     "name": "stdout",
     "output_type": "stream",
     "text": [
      "model summary for lstm \n",
      "\n",
      "Model: \"sequential_1\"\n",
      "_________________________________________________________________\n",
      "Layer (type)                 Output Shape              Param #   \n",
      "=================================================================\n",
      "lstm (LSTM)                  (18727, 100)              55600     \n",
      "_________________________________________________________________\n",
      "lambda_1 (Lambda)            (18727, 100)              0         \n",
      "_________________________________________________________________\n",
      "dense_1 (Dense)              (18727, 38)               3838      \n",
      "=================================================================\n",
      "Total params: 59,438\n",
      "Trainable params: 59,438\n",
      "Non-trainable params: 0\n",
      "_________________________________________________________________\n"
     ]
    }
   ],
   "source": [
    "# model summary for lstm\n",
    "print('model summary for lstm \\n')\n",
    "lstm_model=make_lstm(0.2)\n",
    "lstm_model.build(x.shape)\n",
    "lstm_model.summary()"
   ]
  },
  {
   "cell_type": "code",
   "execution_count": 10,
   "metadata": {},
   "outputs": [
    {
     "name": "stdout",
     "output_type": "stream",
     "text": [
      "Epoch 1/50\n",
      "586/586 [==============================] - 42s 28ms/step - loss: 3.0551 - accuracy: 0.2013\n",
      "Epoch 2/50\n",
      "586/586 [==============================] - 17s 29ms/step - loss: 2.3132 - accuracy: 0.3305\n",
      "Epoch 3/50\n",
      "586/586 [==============================] - 17s 29ms/step - loss: 2.1801 - accuracy: 0.3607\n",
      "Epoch 4/50\n",
      "586/586 [==============================] - 17s 29ms/step - loss: 2.1309 - accuracy: 0.3655\n",
      "Epoch 5/50\n",
      "586/586 [==============================] - 17s 29ms/step - loss: 2.1192 - accuracy: 0.3660\n",
      "Epoch 6/50\n",
      "586/586 [==============================] - 17s 29ms/step - loss: 2.0913 - accuracy: 0.3744\n",
      "Epoch 7/50\n",
      "586/586 [==============================] - 16s 27ms/step - loss: 2.0946 - accuracy: 0.3742\n",
      "Epoch 8/50\n",
      "586/586 [==============================] - 16s 27ms/step - loss: 2.0667 - accuracy: 0.3792\n",
      "Epoch 9/50\n",
      "586/586 [==============================] - 16s 27ms/step - loss: 2.0599 - accuracy: 0.3817\n",
      "Epoch 10/50\n",
      "586/586 [==============================] - 16s 28ms/step - loss: 2.0336 - accuracy: 0.3913\n",
      "Epoch 11/50\n",
      "586/586 [==============================] - 17s 29ms/step - loss: 2.0437 - accuracy: 0.3841\n",
      "Epoch 12/50\n",
      "586/586 [==============================] - 17s 29ms/step - loss: 2.0334 - accuracy: 0.3840\n",
      "Epoch 13/50\n",
      "586/586 [==============================] - 17s 29ms/step - loss: 2.0301 - accuracy: 0.3894\n",
      "Epoch 14/50\n",
      "586/586 [==============================] - 18s 30ms/step - loss: 2.0083 - accuracy: 0.3936\n",
      "Epoch 15/50\n",
      "586/586 [==============================] - 17s 28ms/step - loss: 2.0286 - accuracy: 0.3884\n",
      "Epoch 16/50\n",
      "586/586 [==============================] - 17s 29ms/step - loss: 2.0100 - accuracy: 0.3965\n",
      "Epoch 17/50\n",
      "586/586 [==============================] - 16s 28ms/step - loss: 2.0134 - accuracy: 0.3895\n",
      "Epoch 18/50\n",
      "586/586 [==============================] - 17s 29ms/step - loss: 1.9898 - accuracy: 0.3956\n",
      "Epoch 19/50\n",
      "586/586 [==============================] - 17s 29ms/step - loss: 2.0080 - accuracy: 0.3962\n",
      "Epoch 20/50\n",
      "586/586 [==============================] - 17s 29ms/step - loss: 1.9819 - accuracy: 0.4029\n",
      "Epoch 21/50\n",
      "586/586 [==============================] - 17s 29ms/step - loss: 1.9771 - accuracy: 0.4009\n",
      "Epoch 22/50\n",
      "586/586 [==============================] - 17s 30ms/step - loss: 1.9409 - accuracy: 0.4141\n",
      "Epoch 23/50\n",
      "586/586 [==============================] - 16s 27ms/step - loss: 1.9391 - accuracy: 0.4175\n",
      "Epoch 24/50\n",
      "586/586 [==============================] - 15s 26ms/step - loss: 1.9510 - accuracy: 0.4092\n",
      "Epoch 25/50\n",
      "586/586 [==============================] - 17s 29ms/step - loss: 1.9193 - accuracy: 0.4185\n",
      "Epoch 26/50\n",
      "586/586 [==============================] - 17s 30ms/step - loss: 1.9162 - accuracy: 0.4192\n",
      "Epoch 27/50\n",
      "586/586 [==============================] - 15s 25ms/step - loss: 1.8929 - accuracy: 0.4281\n",
      "Epoch 28/50\n",
      "586/586 [==============================] - 17s 29ms/step - loss: 1.8768 - accuracy: 0.4267\n",
      "Epoch 29/50\n",
      "586/586 [==============================] - 17s 29ms/step - loss: 1.8905 - accuracy: 0.4314\n",
      "Epoch 30/50\n",
      "586/586 [==============================] - 18s 30ms/step - loss: 1.8667 - accuracy: 0.4377\n",
      "Epoch 31/50\n",
      "586/586 [==============================] - 16s 28ms/step - loss: 1.8522 - accuracy: 0.4365\n",
      "Epoch 32/50\n",
      "586/586 [==============================] - 16s 26ms/step - loss: 1.8477 - accuracy: 0.4482\n",
      "Epoch 33/50\n",
      "586/586 [==============================] - 16s 27ms/step - loss: 1.8493 - accuracy: 0.4358\n",
      "Epoch 34/50\n",
      "586/586 [==============================] - 16s 28ms/step - loss: 1.8180 - accuracy: 0.4443\n",
      "Epoch 35/50\n",
      "586/586 [==============================] - 15s 25ms/step - loss: 1.8190 - accuracy: 0.4480\n",
      "Epoch 36/50\n",
      "586/586 [==============================] - 15s 26ms/step - loss: 1.7945 - accuracy: 0.4531\n",
      "Epoch 37/50\n",
      "586/586 [==============================] - 17s 29ms/step - loss: 1.7797 - accuracy: 0.4554\n",
      "Epoch 38/50\n",
      "586/586 [==============================] - 16s 27ms/step - loss: 1.7631 - accuracy: 0.4649\n",
      "Epoch 39/50\n",
      "586/586 [==============================] - 16s 27ms/step - loss: 1.7570 - accuracy: 0.4613\n",
      "Epoch 40/50\n",
      "586/586 [==============================] - 17s 29ms/step - loss: 1.7482 - accuracy: 0.4676\n",
      "Epoch 41/50\n",
      "586/586 [==============================] - 17s 28ms/step - loss: 1.7332 - accuracy: 0.4695\n",
      "Epoch 42/50\n",
      "586/586 [==============================] - 17s 29ms/step - loss: 1.7278 - accuracy: 0.4704\n",
      "Epoch 43/50\n",
      "586/586 [==============================] - 17s 29ms/step - loss: 1.7008 - accuracy: 0.4799\n",
      "Epoch 44/50\n",
      "586/586 [==============================] - 17s 29ms/step - loss: 1.6830 - accuracy: 0.4881\n",
      "Epoch 45/50\n",
      "586/586 [==============================] - 17s 29ms/step - loss: 1.6703 - accuracy: 0.4840\n",
      "Epoch 46/50\n",
      "586/586 [==============================] - 17s 29ms/step - loss: 1.6768 - accuracy: 0.4888\n",
      "Epoch 47/50\n",
      "586/586 [==============================] - 16s 27ms/step - loss: 1.6379 - accuracy: 0.5008\n",
      "Epoch 48/50\n",
      "586/586 [==============================] - 16s 28ms/step - loss: 1.6308 - accuracy: 0.5004\n",
      "Epoch 49/50\n",
      "586/586 [==============================] - 16s 27ms/step - loss: 1.6150 - accuracy: 0.5024\n",
      "Epoch 50/50\n",
      "586/586 [==============================] - 17s 29ms/step - loss: 1.6149 - accuracy: 0.5064\n"
     ]
    }
   ],
   "source": [
    "# training for RNN\n",
    "earlyStopping = EarlyStopping(monitor='loss', patience=3, verbose=1, mode='auto')\n",
    "rnn_history=rnn_model.fit(x, y, epochs=50, verbose=1, callbacks=[earlyStopping])\n",
    "rnn_model.save('rnn.h5')"
   ]
  },
  {
   "cell_type": "code",
   "execution_count": 11,
   "metadata": {},
   "outputs": [
    {
     "name": "stdout",
     "output_type": "stream",
     "text": [
      "Epoch 1/50\n",
      "586/586 [==============================] - 7s 5ms/step - loss: 2.8836 - accuracy: 0.1982\n",
      "Epoch 2/50\n",
      "586/586 [==============================] - 3s 5ms/step - loss: 2.3096 - accuracy: 0.3259\n",
      "Epoch 3/50\n",
      "586/586 [==============================] - 3s 5ms/step - loss: 2.1777 - accuracy: 0.3557\n",
      "Epoch 4/50\n",
      "586/586 [==============================] - 3s 4ms/step - loss: 2.0745 - accuracy: 0.3876\n",
      "Epoch 5/50\n",
      "586/586 [==============================] - 3s 5ms/step - loss: 2.0165 - accuracy: 0.4003\n",
      "Epoch 6/50\n",
      "586/586 [==============================] - 3s 5ms/step - loss: 1.9354 - accuracy: 0.4213\n",
      "Epoch 7/50\n",
      "586/586 [==============================] - 3s 5ms/step - loss: 1.8869 - accuracy: 0.4359\n",
      "Epoch 8/50\n",
      "586/586 [==============================] - 3s 5ms/step - loss: 1.8239 - accuracy: 0.4518\n",
      "Epoch 9/50\n",
      "586/586 [==============================] - 3s 5ms/step - loss: 1.7853 - accuracy: 0.4567\n",
      "Epoch 10/50\n",
      "586/586 [==============================] - 3s 5ms/step - loss: 1.7362 - accuracy: 0.4734\n",
      "Epoch 11/50\n",
      "586/586 [==============================] - 3s 5ms/step - loss: 1.6800 - accuracy: 0.4871\n",
      "Epoch 12/50\n",
      "586/586 [==============================] - 3s 5ms/step - loss: 1.6483 - accuracy: 0.4920\n",
      "Epoch 13/50\n",
      "586/586 [==============================] - 3s 5ms/step - loss: 1.5945 - accuracy: 0.5104\n",
      "Epoch 14/50\n",
      "586/586 [==============================] - 3s 5ms/step - loss: 1.5729 - accuracy: 0.5191\n",
      "Epoch 15/50\n",
      "586/586 [==============================] - 3s 5ms/step - loss: 1.5325 - accuracy: 0.5276\n",
      "Epoch 16/50\n",
      "586/586 [==============================] - 2s 4ms/step - loss: 1.4877 - accuracy: 0.5425\n",
      "Epoch 17/50\n",
      "586/586 [==============================] - 2s 4ms/step - loss: 1.4278 - accuracy: 0.5521\n",
      "Epoch 18/50\n",
      "586/586 [==============================] - 2s 4ms/step - loss: 1.4086 - accuracy: 0.5651\n",
      "Epoch 19/50\n",
      "586/586 [==============================] - 3s 5ms/step - loss: 1.3413 - accuracy: 0.5895\n",
      "Epoch 20/50\n",
      "586/586 [==============================] - 3s 5ms/step - loss: 1.3173 - accuracy: 0.5873\n",
      "Epoch 21/50\n",
      "586/586 [==============================] - 3s 5ms/step - loss: 1.2358 - accuracy: 0.6169\n",
      "Epoch 22/50\n",
      "586/586 [==============================] - 2s 4ms/step - loss: 1.1970 - accuracy: 0.6311\n",
      "Epoch 23/50\n",
      "586/586 [==============================] - 3s 5ms/step - loss: 1.1535 - accuracy: 0.6447\n",
      "Epoch 24/50\n",
      "586/586 [==============================] - 3s 5ms/step - loss: 1.1021 - accuracy: 0.6557\n",
      "Epoch 25/50\n",
      "586/586 [==============================] - 3s 5ms/step - loss: 1.0396 - accuracy: 0.6800\n",
      "Epoch 26/50\n",
      "586/586 [==============================] - 3s 5ms/step - loss: 1.0159 - accuracy: 0.6916\n",
      "Epoch 27/50\n",
      "586/586 [==============================] - 3s 5ms/step - loss: 0.9619 - accuracy: 0.7006\n",
      "Epoch 28/50\n",
      "586/586 [==============================] - 3s 5ms/step - loss: 0.9022 - accuracy: 0.7254\n",
      "Epoch 29/50\n",
      "586/586 [==============================] - 3s 5ms/step - loss: 0.8736 - accuracy: 0.7371\n",
      "Epoch 30/50\n",
      "586/586 [==============================] - 3s 5ms/step - loss: 0.8266 - accuracy: 0.7480\n",
      "Epoch 31/50\n",
      "586/586 [==============================] - 3s 5ms/step - loss: 0.7832 - accuracy: 0.7671\n",
      "Epoch 32/50\n",
      "586/586 [==============================] - 3s 5ms/step - loss: 0.7295 - accuracy: 0.7798\n",
      "Epoch 33/50\n",
      "586/586 [==============================] - 3s 5ms/step - loss: 0.6948 - accuracy: 0.7948\n",
      "Epoch 34/50\n",
      "586/586 [==============================] - 3s 5ms/step - loss: 0.6617 - accuracy: 0.8028\n",
      "Epoch 35/50\n",
      "586/586 [==============================] - 3s 4ms/step - loss: 0.6109 - accuracy: 0.8245\n",
      "Epoch 36/50\n",
      "586/586 [==============================] - 2s 4ms/step - loss: 0.5709 - accuracy: 0.8390\n",
      "Epoch 37/50\n",
      "586/586 [==============================] - 2s 4ms/step - loss: 0.5392 - accuracy: 0.8517\n",
      "Epoch 38/50\n",
      "586/586 [==============================] - 3s 5ms/step - loss: 0.5015 - accuracy: 0.8556\n",
      "Epoch 39/50\n",
      "586/586 [==============================] - 3s 4ms/step - loss: 0.4758 - accuracy: 0.8708\n",
      "Epoch 40/50\n",
      "586/586 [==============================] - 2s 4ms/step - loss: 0.4461 - accuracy: 0.8765\n",
      "Epoch 41/50\n",
      "586/586 [==============================] - 2s 4ms/step - loss: 0.4173 - accuracy: 0.8853\n",
      "Epoch 42/50\n",
      "586/586 [==============================] - 2s 4ms/step - loss: 0.3987 - accuracy: 0.8916\n",
      "Epoch 43/50\n",
      "586/586 [==============================] - 2s 4ms/step - loss: 0.3648 - accuracy: 0.9020\n",
      "Epoch 44/50\n",
      "586/586 [==============================] - 3s 5ms/step - loss: 0.3494 - accuracy: 0.9075\n",
      "Epoch 45/50\n",
      "586/586 [==============================] - 3s 5ms/step - loss: 0.3298 - accuracy: 0.9112\n",
      "Epoch 46/50\n",
      "586/586 [==============================] - 2s 4ms/step - loss: 0.3156 - accuracy: 0.9142\n",
      "Epoch 47/50\n",
      "586/586 [==============================] - 2s 4ms/step - loss: 0.2884 - accuracy: 0.9272\n",
      "Epoch 48/50\n",
      "586/586 [==============================] - 2s 4ms/step - loss: 0.2768 - accuracy: 0.9314\n",
      "Epoch 49/50\n",
      "586/586 [==============================] - 3s 5ms/step - loss: 0.2613 - accuracy: 0.9383\n",
      "Epoch 50/50\n",
      "586/586 [==============================] - 2s 4ms/step - loss: 0.2465 - accuracy: 0.9427\n"
     ]
    }
   ],
   "source": [
    "#  training for LSTM\n",
    "earlyStopping = EarlyStopping(monitor='loss', patience=3, verbose=1, mode='auto')\n",
    "lstm_history=lstm_model.fit(x, y, epochs=50, verbose=1, callbacks=[earlyStopping])\n",
    "lstm_model.save('lstm.h5')"
   ]
  },
  {
   "cell_type": "code",
   "execution_count": 12,
   "metadata": {},
   "outputs": [
    {
     "data": {
      "image/png": "[encoded data removed]",
      "text/plain": [
       "<Figure size 432x288 with 1 Axes>"
      ]
     },
     "metadata": {
      "needs_background": "light"
     },
     "output_type": "display_data"
    }
   ],
   "source": [
    "import matplotlib.pyplot as plt\n",
    "# plot accuracy\n",
    "plt.plot(lstm_history.history['accuracy'])\n",
    "plt.plot(rnn_history.history['accuracy'])\n",
    "plt.title('training accuracy')\n",
    "plt.ylabel('Accuracy')\n",
    "plt.xlabel('Epoch')\n",
    "plt.legend(['LSTM', 'RNN'], loc='upper left')\n",
    "plt.show()"
   ]
  },
  {
   "cell_type": "code",
   "execution_count": 13,
   "metadata": {},
   "outputs": [
    {
     "data": {
      "image/png": "[encoded data removed]",
      "text/plain": [
       "<Figure size 432x288 with 1 Axes>"
      ]
     },
     "metadata": {
      "needs_background": "light"
     },
     "output_type": "display_data"
    }
   ],
   "source": [
    "# plot loss\n",
    "plt.plot(lstm_history.history['loss'])\n",
    "plt.plot(rnn_history.history['loss'])\n",
    "plt.title('training loss')\n",
    "plt.ylabel('loss')\n",
    "plt.xlabel('Epoch')\n",
    "plt.legend(['LSTM', 'RNN'], loc='upper left')\n",
    "plt.show()"
   ]
  },
  {
   "cell_type": "code",
   "execution_count": 14,
   "metadata": {},
   "outputs": [],
   "source": [
    "def generate_sonnet(model_choice='rnn'):\n",
    "\n",
    "    if model_choice=='rnn':\n",
    "        model = load_model('rnn.h5')\n",
    "    elif model_choice=='lstm':\n",
    "        model = load_model('lstm.h5')\n",
    "    sonnet = []\n",
    "    \n",
    "    seq = \"shall i compare thee to a summer's day?\\n\"\n",
    "    sonnet.append(seq)\n",
    "    for _ in range(13):\n",
    "        line = \"\"\n",
    "        for i in range(40):\n",
    "            x = np.zeros((1, len(seq), len(indices_char_dict)))\n",
    "            for t, index in enumerate(seq):\n",
    "                x[0, t, char_indices_dict[index]] = 1.\n",
    "\n",
    "            prediction = model.predict(x, verbose=0)[0]\n",
    "            index = np.argmax(prediction)\n",
    "            char = indices_char_dict[index]\n",
    "            line += char\n",
    "            seq = seq[1:] + char\n",
    "\n",
    "        sonnet.append(line)\n",
    "    return sonnet"
   ]
  },
  {
   "cell_type": "code",
   "execution_count": 15,
   "metadata": {},
   "outputs": [
    {
     "name": "stdout",
     "output_type": "stream",
     "text": [
      "sonnet by rnn: \n",
      "\n",
      "shall i compare thee to a summer's day?\n",
      "\n",
      "on whan the all the with my dothe,\n",
      "thy l\n",
      "ove in the word me parse but des all wit\n",
      "h stie,\n",
      "thou dast hor swall bornd stees \n",
      "for thate,\n",
      "and the wor dis the ronge sta\n",
      "re incend of doth pays,\n",
      "and the werd i h\n",
      "ore chee frain the wornd.\n",
      "and all an of \n",
      "tought thour as the with doth mate,\n",
      "for \n",
      "then wher in my paine, not rurs comed.\n",
      "i\n",
      "n hat you the with my deade,\n",
      "thou has th\n",
      "e world that hane wirs the steen,\n",
      "and th\n",
      "e wor his chist not sem the with thee,\n",
      "w\n",
      "here be the recelind not hath meterefred\n",
      " in the cret.\n",
      "on mis reast the rongre th\n"
     ]
    }
   ],
   "source": [
    "sonnet=generate_sonnet('rnn')\n",
    "print('sonnet by rnn: \\n')\n",
    "for line in sonnet:\n",
    "    print(line)"
   ]
  },
  {
   "cell_type": "code",
   "execution_count": 16,
   "metadata": {},
   "outputs": [
    {
     "name": "stdout",
     "output_type": "stream",
     "text": [
      "sonnet by lstm: \n",
      "\n",
      "shall i compare thee to a summer's day?\n",
      "\n",
      "whils then pare, and meres oweer dight,\n",
      "\n",
      "and loves of thou stawllef for dith, bea\n",
      "ghts,\n",
      "the elour ebest the mery's wornion\n",
      " swoeling are,\n",
      "the elence a daw all nor \n",
      "steed\n",
      "foryien of the braut,\n",
      "that heawty \n",
      "may thin a oth thy meare,\n",
      "o now and thei\n",
      "r uraury are bleakion swelles of thy hag\n",
      "agast,\n",
      "dot mines me thy most thoughe on \n",
      "the ofonone,\n",
      "rise to the cerone chalt of\n",
      " up forctalovencce.\n",
      "\n",
      "and ever therefill \n",
      "but stllwere, the thin oth lovestrout ti\n",
      "me as\n",
      "mowe that eye heaw artauines butid\n",
      "e,\n",
      "whall though shell selive thy swel tr\n"
     ]
    }
   ],
   "source": [
    "sonnet=generate_sonnet('lstm')\n",
    "\n",
    "print('sonnet by lstm: \\n')\n",
    "for line in sonnet:\n",
    "    print(line)"
   ]
  },
  {
   "cell_type": "code",
   "execution_count": null,
   "metadata": {},
   "outputs": [],
   "source": []
  }
 ],
 "metadata": {
  "interpreter": {
   "hash": "772508630a427619dd49b8cfe9c2ae7d9dbaeae5c7cd5fb2ab9db30424e7636a"
  },
  "kernelspec": {
   "display_name": "Python 3.6.13 64-bit ('python36': conda)",
   "name": "python3"
  },
  "language_info": {
   "codemirror_mode": {
    "name": "ipython",
    "version": 3
   },
   "file_extension": ".py",
   "mimetype": "text/x-python",
   "name": "python",
   "nbconvert_exporter": "python",
   "pygments_lexer": "ipython3",
   "version": "3.6.13"
  },
  "orig_nbformat": 4
 },
 "nbformat": 4,
 "nbformat_minor": 2
}
