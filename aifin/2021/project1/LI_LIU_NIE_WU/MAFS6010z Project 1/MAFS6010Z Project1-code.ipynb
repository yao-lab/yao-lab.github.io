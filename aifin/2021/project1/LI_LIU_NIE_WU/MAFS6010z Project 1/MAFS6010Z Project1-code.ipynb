{
 "cells": [
  {
   "cell_type": "code",
   "execution_count": 94,
   "id": "d642f5fa",
   "metadata": {},
   "outputs": [],
   "source": [
    "# %load ../standard_import.txt\n",
    "import pandas as pd\n",
    "import numpy as np\n",
    "import matplotlib as mpl\n",
    "import matplotlib.pyplot as plt\n",
    "import seaborn as sns\n",
    "\n",
    "import sklearn.linear_model as skl_lm\n",
    "from sklearn.discriminant_analysis import LinearDiscriminantAnalysis\n",
    "from sklearn.discriminant_analysis import QuadraticDiscriminantAnalysis\n",
    "from sklearn.metrics import confusion_matrix, classification_report, precision_score, roc_curve, auc\n",
    "from sklearn import preprocessing\n",
    "from sklearn import neighbors\n",
    "\n",
    "import statsmodels.api as sm\n",
    "import statsmodels.formula.api as smf\n",
    "\n",
    "pd.set_option('display.notebook_repr_html', False)\n",
    "\n",
    "%matplotlib inline\n",
    "plt.style.use('seaborn-white')"
   ]
  },
  {
   "cell_type": "code",
   "execution_count": 95,
   "id": "cd6b5d0e",
   "metadata": {},
   "outputs": [],
   "source": [
    "df_train = pd.read_csv('application_train.csv')\n",
    "df_test = pd.read_csv('application_test.csv')"
   ]
  },
  {
   "cell_type": "code",
   "execution_count": 96,
   "id": "bb69cff5",
   "metadata": {},
   "outputs": [
    {
     "data": {
      "text/plain": [
       "   SK_ID_CURR  TARGET NAME_CONTRACT_TYPE CODE_GENDER FLAG_OWN_CAR  \\\n",
       "0      100002       1         Cash loans           M            N   \n",
       "1      100003       0         Cash loans           F            N   \n",
       "2      100004       0    Revolving loans           M            Y   \n",
       "3      100006       0         Cash loans           F            N   \n",
       "4      100007       0         Cash loans           M            N   \n",
       "\n",
       "  FLAG_OWN_REALTY  CNT_CHILDREN  AMT_INCOME_TOTAL  AMT_CREDIT  AMT_ANNUITY  \\\n",
       "0               Y             0          202500.0    406597.5      24700.5   \n",
       "1               N             0          270000.0   1293502.5      35698.5   \n",
       "2               Y             0           67500.0    135000.0       6750.0   \n",
       "3               Y             0          135000.0    312682.5      29686.5   \n",
       "4               Y             0          121500.0    513000.0      21865.5   \n",
       "\n",
       "   ...  FLAG_DOCUMENT_18 FLAG_DOCUMENT_19 FLAG_DOCUMENT_20 FLAG_DOCUMENT_21  \\\n",
       "0  ...                 0                0                0                0   \n",
       "1  ...                 0                0                0                0   \n",
       "2  ...                 0                0                0                0   \n",
       "3  ...                 0                0                0                0   \n",
       "4  ...                 0                0                0                0   \n",
       "\n",
       "  AMT_REQ_CREDIT_BUREAU_HOUR AMT_REQ_CREDIT_BUREAU_DAY  \\\n",
       "0                        0.0                       0.0   \n",
       "1                        0.0                       0.0   \n",
       "2                        0.0                       0.0   \n",
       "3                        NaN                       NaN   \n",
       "4                        0.0                       0.0   \n",
       "\n",
       "   AMT_REQ_CREDIT_BUREAU_WEEK  AMT_REQ_CREDIT_BUREAU_MON  \\\n",
       "0                         0.0                        0.0   \n",
       "1                         0.0                        0.0   \n",
       "2                         0.0                        0.0   \n",
       "3                         NaN                        NaN   \n",
       "4                         0.0                        0.0   \n",
       "\n",
       "   AMT_REQ_CREDIT_BUREAU_QRT  AMT_REQ_CREDIT_BUREAU_YEAR  \n",
       "0                        0.0                         1.0  \n",
       "1                        0.0                         0.0  \n",
       "2                        0.0                         0.0  \n",
       "3                        NaN                         NaN  \n",
       "4                        0.0                         0.0  \n",
       "\n",
       "[5 rows x 122 columns]"
      ]
     },
     "execution_count": 96,
     "metadata": {},
     "output_type": "execute_result"
    }
   ],
   "source": [
    "df_train.head()"
   ]
  },
  {
   "cell_type": "code",
   "execution_count": 97,
   "id": "0d418576",
   "metadata": {},
   "outputs": [],
   "source": [
    "# Note: factorize() returns two objects: a label array and an array with the unique values.\n",
    "# We are only interested in the first object. \n",
    "df_train['NAME_CONTRACT_TYPE2'] = df_train.NAME_CONTRACT_TYPE.factorize()[0]\n",
    "df_train['CODE_GENDER2'] = df_train.CODE_GENDER.factorize()[0]\n",
    "df_train['FLAG_OWN_CAR2'] = df_train.FLAG_OWN_CAR.factorize()[0]\n",
    "df_train['FLAG_OWN_REALTY2'] = df_train.FLAG_OWN_REALTY.factorize()[0]\n",
    "df_train['NAME_TYPE_SUITE2'] = df_train.NAME_TYPE_SUITE.factorize()[0]\n",
    "df_train['NAME_INCOME_TYPE2'] = df_train.NAME_INCOME_TYPE.factorize()[0]\n",
    "df_train['NAME_EDUCATION_TYPE2'] = df_train.NAME_EDUCATION_TYPE.factorize()[0]\n",
    "df_train['NAME_FAMILY_STATUS2'] = df_train.NAME_FAMILY_STATUS.factorize()[0]\n",
    "df_train['NAME_HOUSING_TYPE2'] = df_train.NAME_HOUSING_TYPE.factorize()[0]\n",
    "df_train['OCCUPATION_TYPE2'] = df_train.OCCUPATION_TYPE.factorize()[0]\n",
    "df_train['WEEKDAY_APPR_PROCESS_START2'] = df_train.WEEKDAY_APPR_PROCESS_START.factorize()[0]\n",
    "df_train['ORGANIZATION_TYPE2'] = df_train.ORGANIZATION_TYPE.factorize()[0]\n",
    "df_train['FONDKAPREMONT_MODE2'] = df_train.FONDKAPREMONT_MODE.factorize()[0]\n",
    "df_train['HOUSETYPE_MODE2'] = df_train.HOUSETYPE_MODE.factorize()[0]\n",
    "df_train['WALLSMATERIAL_MODE2'] = df_train.WALLSMATERIAL_MODE.factorize()[0]\n",
    "df_train['EMERGENCYSTATE_MODE2'] = df_train.EMERGENCYSTATE_MODE.factorize()[0]\n",
    "\n",
    "df_test['NAME_CONTRACT_TYPE2'] = df_test.NAME_CONTRACT_TYPE.factorize()[0]\n",
    "df_test['CODE_GENDER2'] = df_test.CODE_GENDER.factorize()[0]\n",
    "df_test['FLAG_OWN_CAR2'] = df_test.FLAG_OWN_CAR.factorize()[0]\n",
    "df_test['FLAG_OWN_REALTY2'] = df_test.FLAG_OWN_REALTY.factorize()[0]\n",
    "df_test['NAME_TYPE_SUITE2'] = df_test.NAME_TYPE_SUITE.factorize()[0]\n",
    "df_test['NAME_INCOME_TYPE2'] = df_test.NAME_INCOME_TYPE.factorize()[0]\n",
    "df_test['NAME_EDUCATION_TYPE2'] = df_test.NAME_EDUCATION_TYPE.factorize()[0]\n",
    "df_test['NAME_FAMILY_STATUS2'] = df_test.NAME_FAMILY_STATUS.factorize()[0]\n",
    "df_test['NAME_HOUSING_TYPE2'] = df_test.NAME_HOUSING_TYPE.factorize()[0]\n",
    "df_test['OCCUPATION_TYPE2'] = df_test.OCCUPATION_TYPE.factorize()[0]\n",
    "df_test['WEEKDAY_APPR_PROCESS_START2'] = df_test.WEEKDAY_APPR_PROCESS_START.factorize()[0]\n",
    "df_test['ORGANIZATION_TYPE2'] = df_test.ORGANIZATION_TYPE.factorize()[0]\n",
    "df_test['FONDKAPREMONT_MODE2'] = df_test.FONDKAPREMONT_MODE.factorize()[0]\n",
    "df_test['HOUSETYPE_MODE2'] = df_test.HOUSETYPE_MODE.factorize()[0]\n",
    "df_test['WALLSMATERIAL_MODE2'] = df_test.WALLSMATERIAL_MODE.factorize()[0]\n",
    "df_test['EMERGENCYSTATE_MODE2'] = df_test.EMERGENCYSTATE_MODE.factorize()[0]"
   ]
  },
  {
   "cell_type": "code",
   "execution_count": 99,
   "id": "ef93a208",
   "metadata": {},
   "outputs": [
    {
     "data": {
      "text/plain": [
       "array([[0.94825767, 0.05174233],\n",
       "       [0.91686698, 0.08313302],\n",
       "       [0.97301196, 0.02698804],\n",
       "       ...,\n",
       "       [0.96571581, 0.03428419],\n",
       "       [0.95853701, 0.04146299],\n",
       "       [0.84930932, 0.15069068]])"
      ]
     },
     "execution_count": 99,
     "metadata": {},
     "output_type": "execute_result"
    }
   ],
   "source": [
    "X_train = np.array(df_train[['CNT_CHILDREN','AMT_INCOME_TOTAL', 'AMT_CREDIT', 'AMT_ANNUITY','AMT_GOODS_PRICE','REGION_POPULATION_RELATIVE','DAYS_BIRTH','DAYS_EMPLOYED','DAYS_REGISTRATION','DAYS_ID_PUBLISH','OWN_CAR_AGE','FLAG_MOBIL','FLAG_EMP_PHONE','FLAG_WORK_PHONE','FLAG_CONT_MOBILE','FLAG_PHONE','FLAG_EMAIL','CNT_FAM_MEMBERS','REGION_RATING_CLIENT','REGION_RATING_CLIENT_W_CITY','HOUR_APPR_PROCESS_START','REG_REGION_NOT_LIVE_REGION','REG_REGION_NOT_WORK_REGION','LIVE_REGION_NOT_WORK_REGION','REG_CITY_NOT_LIVE_CITY','REG_CITY_NOT_WORK_CITY','LIVE_CITY_NOT_WORK_CITY','EXT_SOURCE_1','EXT_SOURCE_2','EXT_SOURCE_3','APARTMENTS_AVG','BASEMENTAREA_AVG','YEARS_BEGINEXPLUATATION_AVG','YEARS_BUILD_AVG','COMMONAREA_AVG','ELEVATORS_AVG','ENTRANCES_AVG','FLOORSMAX_AVG','FLOORSMIN_AVG','LANDAREA_AVG','LIVINGAPARTMENTS_AVG','LIVINGAREA_AVG','NONLIVINGAPARTMENTS_AVG','NONLIVINGAREA_AVG','APARTMENTS_MODE','BASEMENTAREA_MODE','YEARS_BEGINEXPLUATATION_MODE','YEARS_BUILD_MODE','COMMONAREA_MODE','ELEVATORS_MODE','ENTRANCES_MODE','FLOORSMAX_MODE','FLOORSMIN_MODE','LANDAREA_MODE','LIVINGAPARTMENTS_MODE','LIVINGAREA_MODE','NONLIVINGAPARTMENTS_MODE','NONLIVINGAREA_MODE','APARTMENTS_MEDI','BASEMENTAREA_MEDI','YEARS_BEGINEXPLUATATION_MEDI','YEARS_BUILD_MEDI','COMMONAREA_MEDI','ELEVATORS_MEDI','ENTRANCES_MEDI','FLOORSMAX_MEDI','FLOORSMIN_MEDI','LANDAREA_MEDI','LIVINGAPARTMENTS_MEDI','LIVINGAREA_MEDI','NONLIVINGAPARTMENTS_MEDI','NONLIVINGAREA_MEDI','TOTALAREA_MODE','OBS_30_CNT_SOCIAL_CIRCLE','DEF_30_CNT_SOCIAL_CIRCLE','OBS_60_CNT_SOCIAL_CIRCLE','DEF_60_CNT_SOCIAL_CIRCLE','DAYS_LAST_PHONE_CHANGE','FLAG_DOCUMENT_2','FLAG_DOCUMENT_3','FLAG_DOCUMENT_4','FLAG_DOCUMENT_5','FLAG_DOCUMENT_6','FLAG_DOCUMENT_7','FLAG_DOCUMENT_8','FLAG_DOCUMENT_9','FLAG_DOCUMENT_10','FLAG_DOCUMENT_11','FLAG_DOCUMENT_12','FLAG_DOCUMENT_13','FLAG_DOCUMENT_14','FLAG_DOCUMENT_15','FLAG_DOCUMENT_16','FLAG_DOCUMENT_17','FLAG_DOCUMENT_18','FLAG_DOCUMENT_19','FLAG_DOCUMENT_20','FLAG_DOCUMENT_21','AMT_REQ_CREDIT_BUREAU_HOUR','AMT_REQ_CREDIT_BUREAU_DAY','AMT_REQ_CREDIT_BUREAU_WEEK','AMT_REQ_CREDIT_BUREAU_MON','AMT_REQ_CREDIT_BUREAU_QRT','AMT_REQ_CREDIT_BUREAU_YEAR','NAME_CONTRACT_TYPE2','CODE_GENDER2','FLAG_OWN_CAR2','FLAG_OWN_REALTY2','NAME_TYPE_SUITE2','NAME_INCOME_TYPE2','NAME_EDUCATION_TYPE2','NAME_FAMILY_STATUS2','NAME_HOUSING_TYPE2','OCCUPATION_TYPE2','WEEKDAY_APPR_PROCESS_START2','ORGANIZATION_TYPE2','FONDKAPREMONT_MODE2','HOUSETYPE_MODE2','WALLSMATERIAL_MODE2','EMERGENCYSTATE_MODE2']].fillna(0))\n",
    "y = np.array(df_train.TARGET.fillna(0))\n",
    "\n",
    "X_test = np.array(df_test[['CNT_CHILDREN','AMT_INCOME_TOTAL', 'AMT_CREDIT', 'AMT_ANNUITY','AMT_GOODS_PRICE','REGION_POPULATION_RELATIVE','DAYS_BIRTH','DAYS_EMPLOYED','DAYS_REGISTRATION','DAYS_ID_PUBLISH','OWN_CAR_AGE','FLAG_MOBIL','FLAG_EMP_PHONE','FLAG_WORK_PHONE','FLAG_CONT_MOBILE','FLAG_PHONE','FLAG_EMAIL','CNT_FAM_MEMBERS','REGION_RATING_CLIENT','REGION_RATING_CLIENT_W_CITY','HOUR_APPR_PROCESS_START','REG_REGION_NOT_LIVE_REGION','REG_REGION_NOT_WORK_REGION','LIVE_REGION_NOT_WORK_REGION','REG_CITY_NOT_LIVE_CITY','REG_CITY_NOT_WORK_CITY','LIVE_CITY_NOT_WORK_CITY','EXT_SOURCE_1','EXT_SOURCE_2','EXT_SOURCE_3','APARTMENTS_AVG','BASEMENTAREA_AVG','YEARS_BEGINEXPLUATATION_AVG','YEARS_BUILD_AVG','COMMONAREA_AVG','ELEVATORS_AVG','ENTRANCES_AVG','FLOORSMAX_AVG','FLOORSMIN_AVG','LANDAREA_AVG','LIVINGAPARTMENTS_AVG','LIVINGAREA_AVG','NONLIVINGAPARTMENTS_AVG','NONLIVINGAREA_AVG','APARTMENTS_MODE','BASEMENTAREA_MODE','YEARS_BEGINEXPLUATATION_MODE','YEARS_BUILD_MODE','COMMONAREA_MODE','ELEVATORS_MODE','ENTRANCES_MODE','FLOORSMAX_MODE','FLOORSMIN_MODE','LANDAREA_MODE','LIVINGAPARTMENTS_MODE','LIVINGAREA_MODE','NONLIVINGAPARTMENTS_MODE','NONLIVINGAREA_MODE','APARTMENTS_MEDI','BASEMENTAREA_MEDI','YEARS_BEGINEXPLUATATION_MEDI','YEARS_BUILD_MEDI','COMMONAREA_MEDI','ELEVATORS_MEDI','ENTRANCES_MEDI','FLOORSMAX_MEDI','FLOORSMIN_MEDI','LANDAREA_MEDI','LIVINGAPARTMENTS_MEDI','LIVINGAREA_MEDI','NONLIVINGAPARTMENTS_MEDI','NONLIVINGAREA_MEDI','TOTALAREA_MODE','OBS_30_CNT_SOCIAL_CIRCLE','DEF_30_CNT_SOCIAL_CIRCLE','OBS_60_CNT_SOCIAL_CIRCLE','DEF_60_CNT_SOCIAL_CIRCLE','DAYS_LAST_PHONE_CHANGE','FLAG_DOCUMENT_2','FLAG_DOCUMENT_3','FLAG_DOCUMENT_4','FLAG_DOCUMENT_5','FLAG_DOCUMENT_6','FLAG_DOCUMENT_7','FLAG_DOCUMENT_8','FLAG_DOCUMENT_9','FLAG_DOCUMENT_10','FLAG_DOCUMENT_11','FLAG_DOCUMENT_12','FLAG_DOCUMENT_13','FLAG_DOCUMENT_14','FLAG_DOCUMENT_15','FLAG_DOCUMENT_16','FLAG_DOCUMENT_17','FLAG_DOCUMENT_18','FLAG_DOCUMENT_19','FLAG_DOCUMENT_20','FLAG_DOCUMENT_21','AMT_REQ_CREDIT_BUREAU_HOUR','AMT_REQ_CREDIT_BUREAU_DAY','AMT_REQ_CREDIT_BUREAU_WEEK','AMT_REQ_CREDIT_BUREAU_MON','AMT_REQ_CREDIT_BUREAU_QRT','AMT_REQ_CREDIT_BUREAU_YEAR','NAME_CONTRACT_TYPE2','CODE_GENDER2','FLAG_OWN_CAR2','FLAG_OWN_REALTY2','NAME_TYPE_SUITE2','NAME_INCOME_TYPE2','NAME_EDUCATION_TYPE2','NAME_FAMILY_STATUS2','NAME_HOUSING_TYPE2','OCCUPATION_TYPE2','WEEKDAY_APPR_PROCESS_START2','ORGANIZATION_TYPE2','FONDKAPREMONT_MODE2','HOUSETYPE_MODE2','WALLSMATERIAL_MODE2','EMERGENCYSTATE_MODE2']].fillna(0))\n",
    "\n",
    "lda = LinearDiscriminantAnalysis(solver='svd')\n",
    "y_pred = lda.fit(X_train, y).predict_proba(X_test)\n",
    "\n",
    "y_pred"
   ]
  },
  {
   "cell_type": "code",
   "execution_count": 111,
   "id": "365cceb5",
   "metadata": {},
   "outputs": [],
   "source": [
    "y_pred = pd.DataFrame(y_pred)\n",
    "y_pred.to_csv('submission.csv',encoding = 'gbk')"
   ]
  },
  {
   "cell_type": "code",
   "execution_count": null,
   "id": "b92d339c",
   "metadata": {},
   "outputs": [],
   "source": []
  },
  {
   "cell_type": "code",
   "execution_count": null,
   "id": "86ce0a8a",
   "metadata": {},
   "outputs": [],
   "source": []
  },
  {
   "cell_type": "code",
   "execution_count": null,
   "id": "4ff9432e",
   "metadata": {},
   "outputs": [],
   "source": []
  },
  {
   "cell_type": "code",
   "execution_count": null,
   "id": "3a0ac287",
   "metadata": {},
   "outputs": [],
   "source": []
  },
  {
   "cell_type": "code",
   "execution_count": 107,
   "id": "b8777b10",
   "metadata": {},
   "outputs": [
    {
     "data": {
      "text/plain": [
       "True default status           No    Yes\n",
       "Predicted default status               \n",
       "False                     216154  11232\n",
       "True                       66532  13593"
      ]
     },
     "execution_count": 107,
     "metadata": {},
     "output_type": "execute_result"
    }
   ],
   "source": [
    "decision_prob = 0.1\n",
    "y_prob = lda.fit(X_train, y).predict_proba(X_train)\n",
    "\n",
    "df_ = pd.DataFrame({'True default status': y,\n",
    "                    'Predicted default status': y_prob[:,1] > decision_prob})\n",
    "df_.replace(to_replace={0:'No', 1:'Yes', 'True':'Yes', 'False':'No'}, inplace=True)\n",
    "\n",
    "df_.groupby(['Predicted default status','True default status']).size().unstack('True default status')"
   ]
  },
  {
   "cell_type": "code",
   "execution_count": 108,
   "id": "4487c6ac",
   "metadata": {},
   "outputs": [
    {
     "data": {
      "image/png": "[encoded data removed]",
      "text/plain": [
       "<Figure size 1008x432 with 1 Axes>"
      ]
     },
     "metadata": {},
     "output_type": "display_data"
    }
   ],
   "source": [
    "# ROC curve of LDA\n",
    "false_pos_rate1, true_pos_rate1, _ = roc_curve(y, y_prob[:,1])\n",
    "roc_auc1 = auc(false_pos_rate1, true_pos_rate1)\n",
    "\n",
    "fig, (ax1) = plt.subplots(1, 1, figsize=(14,6))\n",
    "ax1.plot(false_pos_rate1, true_pos_rate1, label='LDA ROC curve (area = %0.2f)' % roc_auc1, color='b')\n",
    "ax1.set_title('Default Dataset')\n",
    "\n",
    "for ax in fig.axes:\n",
    "    ax.plot([0, 1], [0, 1], 'k--')\n",
    "    ax.set_xlim([-0.05, 1.0])\n",
    "    ax.set_ylim([0.0, 1.05])\n",
    "    ax.set_xlabel('False Positive Rate')\n",
    "    ax.set_ylabel('True Positive Rate')\n",
    "    ax.legend(loc=\"lower right\")"
   ]
  },
  {
   "cell_type": "code",
   "execution_count": 110,
   "id": "032e71cf",
   "metadata": {},
   "outputs": [
    {
     "data": {
      "text/plain": [
       "0.727226436566119"
      ]
     },
     "execution_count": 110,
     "metadata": {},
     "output_type": "execute_result"
    }
   ],
   "source": [
    "roc_auc1"
   ]
  },
  {
   "cell_type": "code",
   "execution_count": 93,
   "id": "ba0cf83a",
   "metadata": {},
   "outputs": [],
   "source": [
    "\n"
   ]
  },
  {
   "cell_type": "code",
   "execution_count": null,
   "id": "f544f25c",
   "metadata": {},
   "outputs": [],
   "source": []
  }
 ],
 "metadata": {
  "kernelspec": {
   "display_name": "Python 3",
   "language": "python",
   "name": "python3"
  },
  "language_info": {
   "codemirror_mode": {
    "name": "ipython",
    "version": 3
   },
   "file_extension": ".py",
   "mimetype": "text/x-python",
   "name": "python",
   "nbconvert_exporter": "python",
   "pygments_lexer": "ipython3",
   "version": "3.7.3"
  }
 },
 "nbformat": 4,
 "nbformat_minor": 5
}
