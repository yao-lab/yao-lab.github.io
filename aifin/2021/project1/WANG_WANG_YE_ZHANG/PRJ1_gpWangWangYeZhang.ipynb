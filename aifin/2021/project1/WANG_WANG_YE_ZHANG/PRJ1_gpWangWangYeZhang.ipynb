{
 "cells": [
  {
   "cell_type": "code",
   "execution_count": 1,
   "id": "registered-address",
   "metadata": {},
   "outputs": [],
   "source": [
    "import numpy as np\n",
    "import pandas as pd\n",
    "import matplotlib.pyplot as plt\n",
    "%matplotlib inline\n",
    "import seaborn as sns\n",
    "from sklearn.preprocessing import LabelEncoder\n",
    "from sklearn.metrics import confusion_matrix, classification_report, precision_score, roc_curve, auc, roc_auc_score"
   ]
  },
  {
   "cell_type": "markdown",
   "id": "fitting-shelter",
   "metadata": {},
   "source": [
    "# The objective of this competition is to use historical loan application data to predict whether or not an applicant will be able to repay a loan."
   ]
  },
  {
   "cell_type": "markdown",
   "id": "mighty-context",
   "metadata": {},
   "source": [
    "## Read the dataset"
   ]
  },
  {
   "cell_type": "code",
   "execution_count": 3,
   "id": "conventional-final",
   "metadata": {},
   "outputs": [],
   "source": [
    "train_data = pd.read_csv(\"./application_train.csv\")\n",
    "test_data = pd.read_csv(\"./application_test.csv\")\n",
    "#train_data.head()"
   ]
  },
  {
   "cell_type": "code",
   "execution_count": 4,
   "id": "major-lingerie",
   "metadata": {},
   "outputs": [],
   "source": [
    "bureau = pd.read_csv(\"./bureau.csv\")\n",
    "#bureau.head()"
   ]
  },
  {
   "cell_type": "code",
   "execution_count": 5,
   "id": "three-warren",
   "metadata": {},
   "outputs": [],
   "source": [
    "pos_balance = pd.read_csv(\"./POS_CASH_balance.csv\")\n",
    "#pos_balance.head()"
   ]
  },
  {
   "cell_type": "code",
   "execution_count": 6,
   "id": "heard-browse",
   "metadata": {},
   "outputs": [],
   "source": [
    "pte_appli = pd.read_csv(\"./previous_application.csv\")\n",
    "#pte_appli.head()"
   ]
  },
  {
   "cell_type": "code",
   "execution_count": 7,
   "id": "affected-bottom",
   "metadata": {},
   "outputs": [],
   "source": [
    "credit = pd.read_csv(\"./credit_card_balance.csv\")\n",
    "#credit.head()"
   ]
  },
  {
   "cell_type": "markdown",
   "id": "robust-solid",
   "metadata": {},
   "source": [
    "# Exploratory Data Analysis"
   ]
  },
  {
   "cell_type": "code",
   "execution_count": 8,
   "id": "colored-elephant",
   "metadata": {},
   "outputs": [
    {
     "data": {
      "text/plain": [
       "0    282686\n",
       "1     24825\n",
       "Name: TARGET, dtype: int64"
      ]
     },
     "execution_count": 8,
     "metadata": {},
     "output_type": "execute_result"
    }
   ],
   "source": [
    "train_data.TARGET.value_counts() ## imbalanced data\n",
    "#train_data.dtypes"
   ]
  },
  {
   "cell_type": "markdown",
   "id": "victorian-destination",
   "metadata": {},
   "source": [
    "## Label Encoding and One-Hot Encoding"
   ]
  },
  {
   "cell_type": "code",
   "execution_count": 9,
   "id": "complex-state",
   "metadata": {},
   "outputs": [
    {
     "name": "stdout",
     "output_type": "stream",
     "text": [
      "Training dataset shape:  (307511, 243)\n",
      "Testing dataset shape:  (48744, 239)\n"
     ]
    }
   ],
   "source": [
    "#Label Encoding\n",
    "le = LabelEncoder()\n",
    "\n",
    "# Iterate through the columns\n",
    "for col in train_data:\n",
    "    if train_data[col].dtype == 'object':\n",
    "        # If 2 or fewer unique categories\n",
    "        if len(list(train_data[col].unique())) <= 2:\n",
    "            # Train on the training data\n",
    "            le.fit(train_data[col])\n",
    "            # Transform both training and testing data\n",
    "            train_data[col] = le.transform(train_data[col])\n",
    "            test_data[col] = le.transform(test_data[col])\n",
    "\n",
    "# one-hot encoding of categorical variables\n",
    "train_data = pd.get_dummies(train_data)\n",
    "test_data = pd.get_dummies(test_data)\n",
    "\n",
    "print('Training dataset shape: ', train_data.shape)\n",
    "print('Testing dataset shape: ', test_data.shape)"
   ]
  },
  {
   "cell_type": "code",
   "execution_count": 10,
   "id": "functioning-wednesday",
   "metadata": {},
   "outputs": [
    {
     "name": "stdout",
     "output_type": "stream",
     "text": [
      "Training Features shape:  (307511, 240)\n",
      "Testing Features shape:  (48744, 239)\n"
     ]
    }
   ],
   "source": [
    "# Align training data and testing data together\n",
    "labels = train_data['TARGET']\n",
    "\n",
    "# Align the training and testing data, keep only columns present in both dataframes\n",
    "train_data, test_data = train_data.align(test_data, join = 'inner', axis = 1)\n",
    "\n",
    "# Add the target back in\n",
    "train_data['TARGET'] = labels\n",
    "\n",
    "print('Training Features shape: ', train_data.shape)\n",
    "print('Testing Features shape: ', test_data.shape)"
   ]
  },
  {
   "cell_type": "markdown",
   "id": "piano-hours",
   "metadata": {},
   "source": [
    "## To see if there is anomaly in the dataset"
   ]
  },
  {
   "cell_type": "code",
   "execution_count": 11,
   "id": "historical-australian",
   "metadata": {},
   "outputs": [
    {
     "data": {
      "text/plain": [
       "count    307511.000000\n",
       "mean      63815.045904\n",
       "std      141275.766519\n",
       "min      -17912.000000\n",
       "25%       -2760.000000\n",
       "50%       -1213.000000\n",
       "75%        -289.000000\n",
       "max      365243.000000\n",
       "Name: DAYS_EMPLOYED, dtype: float64"
      ]
     },
     "execution_count": 11,
     "metadata": {},
     "output_type": "execute_result"
    }
   ],
   "source": [
    "train_data['DAYS_EMPLOYED'].describe() # How many days before the application the person started current employment"
   ]
  },
  {
   "cell_type": "code",
   "execution_count": 12,
   "id": "korean-actor",
   "metadata": {},
   "outputs": [
    {
     "data": {
      "image/png": "[encoded data removed]",
      "text/plain": [
       "<Figure size 432x288 with 1 Axes>"
      ]
     },
     "metadata": {
      "needs_background": "light"
     },
     "output_type": "display_data"
    }
   ],
   "source": [
    "train_data['DAYS_EMPLOYED'].plot.hist(title = 'Days Employment Histogram');\n",
    "plt.xlabel('Days Employment');"
   ]
  },
  {
   "cell_type": "code",
   "execution_count": 13,
   "id": "indian-qatar",
   "metadata": {},
   "outputs": [
    {
     "data": {
      "image/png": "[encoded data removed]",
      "text/plain": [
       "<Figure size 432x288 with 1 Axes>"
      ]
     },
     "metadata": {
      "needs_background": "light"
     },
     "output_type": "display_data"
    }
   ],
   "source": [
    "# Create an anomalous flag column\n",
    "train_data['DAYS_EMPLOYED_ANOM'] = train_data[\"DAYS_EMPLOYED\"] == 365243\n",
    "\n",
    "# Replace the anomalous values with nan\n",
    "train_data['DAYS_EMPLOYED'].replace({365243: np.nan}, inplace = True)\n",
    "\n",
    "train_data['DAYS_EMPLOYED'].plot.hist(title = 'Days Employment Histogram');\n",
    "plt.xlabel('Days Employment');\n",
    "# now the data seems much more normal than before"
   ]
  },
  {
   "cell_type": "code",
   "execution_count": 14,
   "id": "animated-meter",
   "metadata": {},
   "outputs": [],
   "source": [
    "# same procedure to testing dataset\n",
    "test_data['DAYS_EMPLOYED_ANOM'] = test_data[\"DAYS_EMPLOYED\"] == 365243\n",
    "test_data[\"DAYS_EMPLOYED\"].replace({365243: np.nan}, inplace = True)"
   ]
  },
  {
   "cell_type": "markdown",
   "id": "upper-vanilla",
   "metadata": {},
   "source": [
    "# Feature Engineering"
   ]
  },
  {
   "cell_type": "markdown",
   "id": "inappropriate-orchestra",
   "metadata": {},
   "source": [
    "## Features from other datasets"
   ]
  },
  {
   "cell_type": "code",
   "execution_count": 15,
   "id": "injured-planning",
   "metadata": {
    "scrolled": true
   },
   "outputs": [],
   "source": [
    "# Groupby the client id (SK_ID_CURR), count the number of previous loans, and rename the column\n",
    "previous_loan_counts = bureau.groupby('SK_ID_CURR', as_index=False)['SK_ID_BUREAU'].count().rename(columns = {'SK_ID_BUREAU': 'previous_loan_counts'})\n",
    "# DPD (days past due) during the month of previous credit\n",
    "pos_data = pos_balance.groupby(['SK_ID_CURR'], as_index = False)[\"SK_DPD\"].mean().rename(columns = {'SK_DPD': 'mean_of_SK_DPD'})\n",
    "# Interest rate normalized on previous credit\n",
    "pte_data = pte_appli.groupby(['SK_ID_CURR'], as_index = False)['RATE_INTEREST_PRIVILEGED'].mean().rename(columns = {'RATE_INTEREST_PRIVILEGED': 'mean_of_RATE_INTEREST_PRIVILEGED'})\n",
    "#Credit card limit during the month of the previous credit\n",
    "credit_data = credit.groupby(['SK_ID_CURR'], as_index = False)['AMT_CREDIT_LIMIT_ACTUAL'].mean().rename(columns = {'AMT_CREDIT_LIMIT_ACTUAL': 'mean_of_AMT_CREDIT_LIMIT_ACTUAL'})\n",
    "#Balance during the month of previous credit\n",
    "balance_data = credit.groupby(['SK_ID_CURR'], as_index = False)['AMT_BALANCE'].mean().rename(columns = {'AMT_BALANCE': 'mean_of_AMT_BALANCE'})\n",
    "\n"
   ]
  },
  {
   "cell_type": "code",
   "execution_count": 16,
   "id": "hawaiian-airport",
   "metadata": {},
   "outputs": [
    {
     "data": {
      "text/html": [
       "<div>\n",
       "<style scoped>\n",
       "    .dataframe tbody tr th:only-of-type {\n",
       "        vertical-align: middle;\n",
       "    }\n",
       "\n",
       "    .dataframe tbody tr th {\n",
       "        vertical-align: top;\n",
       "    }\n",
       "\n",
       "    .dataframe thead th {\n",
       "        text-align: right;\n",
       "    }\n",
       "</style>\n",
       "<table border=\"1\" class=\"dataframe\">\n",
       "  <thead>\n",
       "    <tr style=\"text-align: right;\">\n",
       "      <th></th>\n",
       "      <th>SK_ID_CURR</th>\n",
       "      <th>NAME_CONTRACT_TYPE</th>\n",
       "      <th>FLAG_OWN_CAR</th>\n",
       "      <th>FLAG_OWN_REALTY</th>\n",
       "      <th>CNT_CHILDREN</th>\n",
       "      <th>AMT_INCOME_TOTAL</th>\n",
       "      <th>AMT_CREDIT</th>\n",
       "      <th>AMT_ANNUITY</th>\n",
       "      <th>AMT_GOODS_PRICE</th>\n",
       "      <th>REGION_POPULATION_RELATIVE</th>\n",
       "      <th>...</th>\n",
       "      <th>WALLSMATERIAL_MODE_Wooden</th>\n",
       "      <th>EMERGENCYSTATE_MODE_No</th>\n",
       "      <th>EMERGENCYSTATE_MODE_Yes</th>\n",
       "      <th>TARGET</th>\n",
       "      <th>DAYS_EMPLOYED_ANOM</th>\n",
       "      <th>previous_loan_counts</th>\n",
       "      <th>mean_of_SK_DPD</th>\n",
       "      <th>mean_of_RATE_INTEREST_PRIVILEGED</th>\n",
       "      <th>mean_of_AMT_CREDIT_LIMIT_ACTUAL</th>\n",
       "      <th>mean_of_AMT_BALANCE</th>\n",
       "    </tr>\n",
       "  </thead>\n",
       "  <tbody>\n",
       "    <tr>\n",
       "      <th>0</th>\n",
       "      <td>100002</td>\n",
       "      <td>0</td>\n",
       "      <td>0</td>\n",
       "      <td>1</td>\n",
       "      <td>0</td>\n",
       "      <td>202500.0</td>\n",
       "      <td>406597.5</td>\n",
       "      <td>24700.5</td>\n",
       "      <td>351000.0</td>\n",
       "      <td>0.018801</td>\n",
       "      <td>...</td>\n",
       "      <td>0</td>\n",
       "      <td>1</td>\n",
       "      <td>0</td>\n",
       "      <td>1</td>\n",
       "      <td>False</td>\n",
       "      <td>8.0</td>\n",
       "      <td>0.0</td>\n",
       "      <td>0.0</td>\n",
       "      <td>0.0</td>\n",
       "      <td>0.0</td>\n",
       "    </tr>\n",
       "    <tr>\n",
       "      <th>1</th>\n",
       "      <td>100003</td>\n",
       "      <td>0</td>\n",
       "      <td>0</td>\n",
       "      <td>0</td>\n",
       "      <td>0</td>\n",
       "      <td>270000.0</td>\n",
       "      <td>1293502.5</td>\n",
       "      <td>35698.5</td>\n",
       "      <td>1129500.0</td>\n",
       "      <td>0.003541</td>\n",
       "      <td>...</td>\n",
       "      <td>0</td>\n",
       "      <td>1</td>\n",
       "      <td>0</td>\n",
       "      <td>0</td>\n",
       "      <td>False</td>\n",
       "      <td>4.0</td>\n",
       "      <td>0.0</td>\n",
       "      <td>0.0</td>\n",
       "      <td>0.0</td>\n",
       "      <td>0.0</td>\n",
       "    </tr>\n",
       "    <tr>\n",
       "      <th>2</th>\n",
       "      <td>100004</td>\n",
       "      <td>1</td>\n",
       "      <td>1</td>\n",
       "      <td>1</td>\n",
       "      <td>0</td>\n",
       "      <td>67500.0</td>\n",
       "      <td>135000.0</td>\n",
       "      <td>6750.0</td>\n",
       "      <td>135000.0</td>\n",
       "      <td>0.010032</td>\n",
       "      <td>...</td>\n",
       "      <td>0</td>\n",
       "      <td>0</td>\n",
       "      <td>0</td>\n",
       "      <td>0</td>\n",
       "      <td>False</td>\n",
       "      <td>2.0</td>\n",
       "      <td>0.0</td>\n",
       "      <td>0.0</td>\n",
       "      <td>0.0</td>\n",
       "      <td>0.0</td>\n",
       "    </tr>\n",
       "    <tr>\n",
       "      <th>3</th>\n",
       "      <td>100006</td>\n",
       "      <td>0</td>\n",
       "      <td>0</td>\n",
       "      <td>1</td>\n",
       "      <td>0</td>\n",
       "      <td>135000.0</td>\n",
       "      <td>312682.5</td>\n",
       "      <td>29686.5</td>\n",
       "      <td>297000.0</td>\n",
       "      <td>0.008019</td>\n",
       "      <td>...</td>\n",
       "      <td>0</td>\n",
       "      <td>0</td>\n",
       "      <td>0</td>\n",
       "      <td>0</td>\n",
       "      <td>False</td>\n",
       "      <td>0.0</td>\n",
       "      <td>0.0</td>\n",
       "      <td>0.0</td>\n",
       "      <td>270000.0</td>\n",
       "      <td>0.0</td>\n",
       "    </tr>\n",
       "    <tr>\n",
       "      <th>4</th>\n",
       "      <td>100007</td>\n",
       "      <td>0</td>\n",
       "      <td>0</td>\n",
       "      <td>1</td>\n",
       "      <td>0</td>\n",
       "      <td>121500.0</td>\n",
       "      <td>513000.0</td>\n",
       "      <td>21865.5</td>\n",
       "      <td>513000.0</td>\n",
       "      <td>0.028663</td>\n",
       "      <td>...</td>\n",
       "      <td>0</td>\n",
       "      <td>0</td>\n",
       "      <td>0</td>\n",
       "      <td>0</td>\n",
       "      <td>False</td>\n",
       "      <td>1.0</td>\n",
       "      <td>0.0</td>\n",
       "      <td>0.0</td>\n",
       "      <td>0.0</td>\n",
       "      <td>0.0</td>\n",
       "    </tr>\n",
       "  </tbody>\n",
       "</table>\n",
       "<p>5 rows × 246 columns</p>\n",
       "</div>"
      ],
      "text/plain": [
       "   SK_ID_CURR  NAME_CONTRACT_TYPE  FLAG_OWN_CAR  FLAG_OWN_REALTY  \\\n",
       "0      100002                   0             0                1   \n",
       "1      100003                   0             0                0   \n",
       "2      100004                   1             1                1   \n",
       "3      100006                   0             0                1   \n",
       "4      100007                   0             0                1   \n",
       "\n",
       "   CNT_CHILDREN  AMT_INCOME_TOTAL  AMT_CREDIT  AMT_ANNUITY  AMT_GOODS_PRICE  \\\n",
       "0             0          202500.0    406597.5      24700.5         351000.0   \n",
       "1             0          270000.0   1293502.5      35698.5        1129500.0   \n",
       "2             0           67500.0    135000.0       6750.0         135000.0   \n",
       "3             0          135000.0    312682.5      29686.5         297000.0   \n",
       "4             0          121500.0    513000.0      21865.5         513000.0   \n",
       "\n",
       "   REGION_POPULATION_RELATIVE  ...  WALLSMATERIAL_MODE_Wooden  \\\n",
       "0                    0.018801  ...                          0   \n",
       "1                    0.003541  ...                          0   \n",
       "2                    0.010032  ...                          0   \n",
       "3                    0.008019  ...                          0   \n",
       "4                    0.028663  ...                          0   \n",
       "\n",
       "   EMERGENCYSTATE_MODE_No  EMERGENCYSTATE_MODE_Yes  TARGET  \\\n",
       "0                       1                        0       1   \n",
       "1                       1                        0       0   \n",
       "2                       0                        0       0   \n",
       "3                       0                        0       0   \n",
       "4                       0                        0       0   \n",
       "\n",
       "   DAYS_EMPLOYED_ANOM  previous_loan_counts  mean_of_SK_DPD  \\\n",
       "0               False                   8.0             0.0   \n",
       "1               False                   4.0             0.0   \n",
       "2               False                   2.0             0.0   \n",
       "3               False                   0.0             0.0   \n",
       "4               False                   1.0             0.0   \n",
       "\n",
       "   mean_of_RATE_INTEREST_PRIVILEGED  mean_of_AMT_CREDIT_LIMIT_ACTUAL  \\\n",
       "0                               0.0                              0.0   \n",
       "1                               0.0                              0.0   \n",
       "2                               0.0                              0.0   \n",
       "3                               0.0                         270000.0   \n",
       "4                               0.0                              0.0   \n",
       "\n",
       "   mean_of_AMT_BALANCE  \n",
       "0                  0.0  \n",
       "1                  0.0  \n",
       "2                  0.0  \n",
       "3                  0.0  \n",
       "4                  0.0  \n",
       "\n",
       "[5 rows x 246 columns]"
      ]
     },
     "execution_count": 16,
     "metadata": {},
     "output_type": "execute_result"
    }
   ],
   "source": [
    "# Join to the training dataframe from other dataset\n",
    "train_data = train_data.merge(previous_loan_counts, on = 'SK_ID_CURR', how = 'left')\n",
    "train_data = train_data.merge(pos_data, on = 'SK_ID_CURR', how = 'left')\n",
    "train_data = train_data.merge(pte_data, on = 'SK_ID_CURR', how = 'left')\n",
    "train_data = train_data.merge(credit_data, on = 'SK_ID_CURR', how = 'left')\n",
    "train_data = train_data.merge(balance_data, on = 'SK_ID_CURR', how = 'left')\n",
    "\n",
    "\n",
    "# Fill the missing values with 0 \n",
    "train_data['previous_loan_counts'] = train_data['previous_loan_counts'].fillna(0)\n",
    "train_data['mean_of_SK_DPD'] = train_data['mean_of_SK_DPD'].fillna(0)\n",
    "train_data['mean_of_RATE_INTEREST_PRIVILEGED'] = train_data['mean_of_RATE_INTEREST_PRIVILEGED'].fillna(0)\n",
    "train_data['mean_of_AMT_CREDIT_LIMIT_ACTUAL'] = train_data['mean_of_AMT_CREDIT_LIMIT_ACTUAL'].fillna(0)\n",
    "train_data['mean_of_AMT_BALANCE'] = train_data['mean_of_AMT_BALANCE'].fillna(0)\n",
    "\n",
    "\n",
    "train_data.head()"
   ]
  },
  {
   "cell_type": "code",
   "execution_count": 17,
   "id": "intelligent-bishop",
   "metadata": {},
   "outputs": [],
   "source": [
    "# do the same thing for testing dataset\n",
    "test_data = test_data.merge(previous_loan_counts, on = 'SK_ID_CURR', how = 'left')\n",
    "test_data = test_data.merge(pos_data, on = 'SK_ID_CURR', how = 'left')\n",
    "test_data = test_data.merge(pte_data, on = 'SK_ID_CURR', how = 'left')\n",
    "test_data = test_data.merge(credit_data, on = 'SK_ID_CURR', how = 'left')\n",
    "test_data = test_data.merge(balance_data, on = 'SK_ID_CURR', how = 'left')\n",
    "\n",
    "\n",
    "# Fill the missing values with 0 \n",
    "test_data['previous_loan_counts'] = test_data['previous_loan_counts'].fillna(0)\n",
    "test_data['mean_of_SK_DPD'] = test_data['mean_of_SK_DPD'].fillna(0)\n",
    "test_data['mean_of_RATE_INTEREST_PRIVILEGED'] = test_data['mean_of_RATE_INTEREST_PRIVILEGED'].fillna(0)\n",
    "test_data['mean_of_AMT_CREDIT_LIMIT_ACTUAL'] = test_data['mean_of_AMT_CREDIT_LIMIT_ACTUAL'].fillna(0)\n",
    "test_data['mean_of_AMT_BALANCE'] = test_data['mean_of_AMT_BALANCE'].fillna(0)\n",
    "\n",
    "\n",
    "#test_data.head()"
   ]
  },
  {
   "cell_type": "markdown",
   "id": "aging-convertible",
   "metadata": {},
   "source": [
    "## Domain Knowledge Features"
   ]
  },
  {
   "cell_type": "code",
   "execution_count": 18,
   "id": "outstanding-papua",
   "metadata": {},
   "outputs": [],
   "source": [
    "train_data['CREDIT_INCOME_PERCENT'] = train_data['AMT_CREDIT'] / train_data['AMT_INCOME_TOTAL']\n",
    "train_data['ANNUITY_INCOME_PERCENT'] = train_data['AMT_ANNUITY'] / train_data['AMT_INCOME_TOTAL']\n",
    "test_data['CREDIT_INCOME_PERCENT'] = test_data['AMT_CREDIT'] / test_data['AMT_INCOME_TOTAL']\n",
    "test_data['ANNUITY_INCOME_PERCENT'] = test_data['AMT_ANNUITY'] / test_data['AMT_INCOME_TOTAL']"
   ]
  },
  {
   "cell_type": "code",
   "execution_count": 19,
   "id": "soviet-timber",
   "metadata": {
    "scrolled": true
   },
   "outputs": [
    {
     "name": "stdout",
     "output_type": "stream",
     "text": [
      "Most Positive Correlations:\n",
      " FLAG_DOCUMENT_3                                      0.044346\n",
      "REG_CITY_NOT_LIVE_CITY                               0.044395\n",
      "FLAG_EMP_PHONE                                       0.045982\n",
      "mean_of_AMT_BALANCE                                  0.048523\n",
      "NAME_EDUCATION_TYPE_Secondary / secondary special    0.049824\n",
      "REG_CITY_NOT_WORK_CITY                               0.050994\n",
      "DAYS_ID_PUBLISH                                      0.051457\n",
      "CODE_GENDER_M                                        0.054713\n",
      "DAYS_LAST_PHONE_CHANGE                               0.055218\n",
      "NAME_INCOME_TYPE_Working                             0.057481\n",
      "REGION_RATING_CLIENT                                 0.058899\n",
      "REGION_RATING_CLIENT_W_CITY                          0.060893\n",
      "DAYS_EMPLOYED                                        0.074958\n",
      "DAYS_BIRTH                                           0.078239\n",
      "TARGET                                               1.000000\n",
      "Name: TARGET, dtype: float64\n",
      "\n",
      "Most Negative Correlations:\n",
      " EXT_SOURCE_3                           -0.178919\n",
      "EXT_SOURCE_2                           -0.160472\n",
      "EXT_SOURCE_1                           -0.155317\n",
      "NAME_EDUCATION_TYPE_Higher education   -0.056593\n",
      "CODE_GENDER_F                          -0.054704\n",
      "NAME_INCOME_TYPE_Pensioner             -0.046209\n",
      "ORGANIZATION_TYPE_XNA                  -0.045987\n",
      "DAYS_EMPLOYED_ANOM                     -0.045987\n",
      "FLOORSMAX_AVG                          -0.044003\n",
      "FLOORSMAX_MEDI                         -0.043768\n",
      "FLOORSMAX_MODE                         -0.043226\n",
      "EMERGENCYSTATE_MODE_No                 -0.042201\n",
      "HOUSETYPE_MODE_block of flats          -0.040594\n",
      "AMT_GOODS_PRICE                        -0.039645\n",
      "REGION_POPULATION_RELATIVE             -0.037227\n",
      "Name: TARGET, dtype: float64\n"
     ]
    }
   ],
   "source": [
    "# Find correlations with the target and sort\n",
    "correlations = train_data.corr()['TARGET'].sort_values()\n",
    "\n",
    "# Display correlations\n",
    "print('Most Positive Correlations:\\n', correlations.tail(15))\n",
    "print('\\nMost Negative Correlations:\\n', correlations.head(15))"
   ]
  },
  {
   "cell_type": "markdown",
   "id": "lined-husband",
   "metadata": {},
   "source": [
    "# Preprocessing for missing data and standardizing"
   ]
  },
  {
   "cell_type": "code",
   "execution_count": 20,
   "id": "cordless-explorer",
   "metadata": {},
   "outputs": [],
   "source": [
    "from sklearn.preprocessing import MinMaxScaler, StandardScaler\n",
    "from sklearn.impute import SimpleImputer"
   ]
  },
  {
   "cell_type": "code",
   "execution_count": 21,
   "id": "rural-distributor",
   "metadata": {},
   "outputs": [],
   "source": [
    "# Extract the ids\n",
    "train_ids = train_data['SK_ID_CURR']\n",
    "test_ids = test_data['SK_ID_CURR']\n",
    "\n",
    "# Drop the ids and target from the training data\n",
    "train = train_data.drop(columns = ['SK_ID_CURR', 'TARGET'])\n",
    "test = test_data.drop(columns = ['SK_ID_CURR'])\n",
    "\n",
    "# Extract feature names\n",
    "features = list(train.columns)"
   ]
  },
  {
   "cell_type": "code",
   "execution_count": 22,
   "id": "breathing-language",
   "metadata": {},
   "outputs": [],
   "source": [
    "## Missing data\n",
    "\n",
    "# Median imputation of missing values\n",
    "imputer = SimpleImputer(strategy = 'median')\n",
    "\n",
    "# Fit on the training data\n",
    "imputer.fit(train)\n",
    "\n",
    "# Transform both training and testing data\n",
    "train = imputer.transform(train)\n",
    "test = imputer.transform(test)"
   ]
  },
  {
   "cell_type": "code",
   "execution_count": 23,
   "id": "confident-trading",
   "metadata": {
    "scrolled": true
   },
   "outputs": [],
   "source": [
    "## Standardizing\n",
    "# Standardize the dataset’s features onto unit scale (mean = 0 and variance = 1)\n",
    "\n",
    "# fit on the training set and transform on the training and test set.\n",
    "scaler = StandardScaler()\n",
    "scaler.fit(train)\n",
    "train = scaler.transform(train)\n",
    "test = scaler.transform(test)"
   ]
  },
  {
   "cell_type": "code",
   "execution_count": 24,
   "id": "formal-viewer",
   "metadata": {},
   "outputs": [
    {
     "name": "stdout",
     "output_type": "stream",
     "text": [
      "Training data features shape:  (307511, 246)\n",
      "Testing data features shape:  (48744, 246)\n"
     ]
    }
   ],
   "source": [
    "print('Training data features shape: ', train.shape)\n",
    "print('Testing data features shape: ', test.shape)"
   ]
  },
  {
   "cell_type": "markdown",
   "id": "minor-steal",
   "metadata": {},
   "source": [
    "# No feature selection"
   ]
  },
  {
   "cell_type": "code",
   "execution_count": 25,
   "id": "experimental-cannon",
   "metadata": {},
   "outputs": [
    {
     "name": "stdout",
     "output_type": "stream",
     "text": [
      "Training data features shape:  (307511, 246)\n",
      "Testing data features shape:  (48744, 246)\n"
     ]
    }
   ],
   "source": [
    "train_all = train.copy()\n",
    "test_all = test.copy()\n",
    "print('Training data features shape: ', train_all.shape)\n",
    "print('Testing data features shape: ', test_all.shape)"
   ]
  },
  {
   "cell_type": "markdown",
   "id": "endless-avenue",
   "metadata": {},
   "source": [
    "# Feature Selection -- PCA"
   ]
  },
  {
   "cell_type": "code",
   "execution_count": 26,
   "id": "bigger-province",
   "metadata": {},
   "outputs": [],
   "source": [
    "from sklearn.decomposition import PCA"
   ]
  },
  {
   "cell_type": "code",
   "execution_count": 27,
   "id": "terminal-mozambique",
   "metadata": {},
   "outputs": [],
   "source": [
    "pca = PCA(0.95) # choose the minimum number of principal components such that 95% of the variance is retained\n",
    "# Fit PCA on training set.\n",
    "pca.fit(train) # fitting PCA on the training set only\n",
    "# Apply the mapping to both the training set and the testing set.\n",
    "train = pca.transform(train)\n",
    "test = pca.transform(test)"
   ]
  },
  {
   "cell_type": "code",
   "execution_count": 28,
   "id": "invalid-simple",
   "metadata": {},
   "outputs": [
    {
     "name": "stdout",
     "output_type": "stream",
     "text": [
      "Training data features shape:  (307511, 173)\n",
      "Testing data features shape:  (48744, 173)\n"
     ]
    }
   ],
   "source": [
    "print('Training data features shape: ', train.shape)\n",
    "print('Testing data features shape: ', test.shape)"
   ]
  },
  {
   "cell_type": "markdown",
   "id": "secret-minneapolis",
   "metadata": {},
   "source": [
    "# Model Construction"
   ]
  },
  {
   "cell_type": "markdown",
   "id": "interior-timing",
   "metadata": {},
   "source": [
    "## Logistic Regression"
   ]
  },
  {
   "cell_type": "code",
   "execution_count": 29,
   "id": "prime-trash",
   "metadata": {},
   "outputs": [],
   "source": [
    "from sklearn.linear_model import LogisticRegression\n",
    "\n",
    "# Make the model with the specified regularization parameter\n",
    "log_reg = LogisticRegression(C = 0.001)\n",
    "log_reg_all = LogisticRegression(C = 0.001)\n",
    "\n",
    "# Train on the training data\n",
    "log_reg.fit(train, labels) # labels = train_data['TARGET']\n",
    "log_reg_all.fit(train_all, labels)\n",
    "\n",
    "# Make predictions\n",
    "# Make sure to select the second column only\n",
    "log_reg_pred = log_reg.predict_proba(test)[:, 1]\n",
    "log_reg_pred_all = log_reg_all.predict_proba(test_all)[:, 1]"
   ]
  },
  {
   "cell_type": "code",
   "execution_count": 30,
   "id": "different-dubai",
   "metadata": {},
   "outputs": [
    {
     "name": "stderr",
     "output_type": "stream",
     "text": [
      "<ipython-input-30-acaf947ee859>:3: SettingWithCopyWarning: \n",
      "A value is trying to be set on a copy of a slice from a DataFrame.\n",
      "Try using .loc[row_indexer,col_indexer] = value instead\n",
      "\n",
      "See the caveats in the documentation: https://pandas.pydata.org/pandas-docs/stable/user_guide/indexing.html#returning-a-view-versus-a-copy\n",
      "  submit_logistic['TARGET'] = log_reg_pred\n",
      "<ipython-input-30-acaf947ee859>:6: SettingWithCopyWarning: \n",
      "A value is trying to be set on a copy of a slice from a DataFrame.\n",
      "Try using .loc[row_indexer,col_indexer] = value instead\n",
      "\n",
      "See the caveats in the documentation: https://pandas.pydata.org/pandas-docs/stable/user_guide/indexing.html#returning-a-view-versus-a-copy\n",
      "  submit_logistic_all['TARGET'] = log_reg_pred_all\n"
     ]
    }
   ],
   "source": [
    "# Submission dataframe\n",
    "submit_logistic = test_data[['SK_ID_CURR']]\n",
    "submit_logistic['TARGET'] = log_reg_pred\n",
    "\n",
    "submit_logistic_all = test_data[['SK_ID_CURR']]\n",
    "submit_logistic_all['TARGET'] = log_reg_pred_all\n",
    "\n",
    "submit_logistic.to_csv('logistic regression.csv', index = False)\n",
    "submit_logistic_all.to_csv('logistic regression_all.csv', index = False)"
   ]
  },
  {
   "cell_type": "markdown",
   "id": "sixth-celtic",
   "metadata": {},
   "source": [
    "# Score: 0.73276 for logistic regression\n",
    "# Score: 0.74354 for logistic regression without feature selection"
   ]
  },
  {
   "cell_type": "markdown",
   "id": "athletic-jackson",
   "metadata": {},
   "source": [
    "## Random Forest"
   ]
  },
  {
   "cell_type": "code",
   "execution_count": 31,
   "id": "genetic-effects",
   "metadata": {},
   "outputs": [],
   "source": [
    "from sklearn.ensemble import RandomForestClassifier\n",
    "\n",
    "# Make the random forest classifier\n",
    "random_forest = RandomForestClassifier(n_estimators = 100, min_samples_leaf = 60, random_state = 50, verbose = 1, n_jobs = -1, oob_score=True)\n",
    "random_forest_all = RandomForestClassifier(n_estimators = 100, min_samples_leaf = 60, random_state = 50, verbose = 1, n_jobs = -1, oob_score=True)"
   ]
  },
  {
   "cell_type": "code",
   "execution_count": 32,
   "id": "suitable-condition",
   "metadata": {},
   "outputs": [
    {
     "name": "stderr",
     "output_type": "stream",
     "text": [
      "[Parallel(n_jobs=-1)]: Using backend ThreadingBackend with 8 concurrent workers.\n",
      "[Parallel(n_jobs=-1)]: Done  34 tasks      | elapsed:   30.4s\n",
      "[Parallel(n_jobs=-1)]: Done 100 out of 100 | elapsed:  1.4min finished\n",
      "[Parallel(n_jobs=-1)]: Using backend ThreadingBackend with 8 concurrent workers.\n",
      "[Parallel(n_jobs=-1)]: Done  34 tasks      | elapsed:    8.6s\n",
      "[Parallel(n_jobs=-1)]: Done 100 out of 100 | elapsed:   22.0s finished\n",
      "[Parallel(n_jobs=8)]: Using backend ThreadingBackend with 8 concurrent workers.\n",
      "[Parallel(n_jobs=8)]: Done  34 tasks      | elapsed:    0.0s\n",
      "[Parallel(n_jobs=8)]: Done 100 out of 100 | elapsed:    0.1s finished\n",
      "[Parallel(n_jobs=8)]: Using backend ThreadingBackend with 8 concurrent workers.\n",
      "[Parallel(n_jobs=8)]: Done  34 tasks      | elapsed:    0.1s\n",
      "[Parallel(n_jobs=8)]: Done 100 out of 100 | elapsed:    0.2s finished\n"
     ]
    }
   ],
   "source": [
    "# Train on the training data\n",
    "random_forest.fit(train, labels)\n",
    "random_forest_all.fit(train_all, labels)\n",
    "\n",
    "# Make predictions on the test data\n",
    "predictions_rf = random_forest.predict_proba(test)[:, 1]\n",
    "predictions_rf_all = random_forest_all.predict_proba(test_all)[:, 1]"
   ]
  },
  {
   "cell_type": "code",
   "execution_count": 33,
   "id": "married-washington",
   "metadata": {
    "scrolled": true
   },
   "outputs": [
    {
     "name": "stderr",
     "output_type": "stream",
     "text": [
      "<ipython-input-33-39bcf5fa9e39>:3: SettingWithCopyWarning: \n",
      "A value is trying to be set on a copy of a slice from a DataFrame.\n",
      "Try using .loc[row_indexer,col_indexer] = value instead\n",
      "\n",
      "See the caveats in the documentation: https://pandas.pydata.org/pandas-docs/stable/user_guide/indexing.html#returning-a-view-versus-a-copy\n",
      "  submit_rf['TARGET'] = predictions_rf\n",
      "<ipython-input-33-39bcf5fa9e39>:5: SettingWithCopyWarning: \n",
      "A value is trying to be set on a copy of a slice from a DataFrame.\n",
      "Try using .loc[row_indexer,col_indexer] = value instead\n",
      "\n",
      "See the caveats in the documentation: https://pandas.pydata.org/pandas-docs/stable/user_guide/indexing.html#returning-a-view-versus-a-copy\n",
      "  submit_rf_all['TARGET'] = predictions_rf_all\n"
     ]
    }
   ],
   "source": [
    "# Make a submission dataframe\n",
    "submit_rf = test_data[['SK_ID_CURR']]\n",
    "submit_rf['TARGET'] = predictions_rf\n",
    "submit_rf_all = test_data[['SK_ID_CURR']]\n",
    "submit_rf_all['TARGET'] = predictions_rf_all\n",
    "\n",
    "# Save the submission dataframe\n",
    "submit_rf.to_csv('random_forest.csv', index = False)\n",
    "submit_rf_all.to_csv('random_forest_all.csv', index = False)"
   ]
  },
  {
   "cell_type": "markdown",
   "id": "unknown-delivery",
   "metadata": {},
   "source": [
    "# Score: 0.69170 for random forest\n",
    "# Score: 0.73162 for random forest without feature selection"
   ]
  },
  {
   "cell_type": "markdown",
   "id": "northern-finnish",
   "metadata": {},
   "source": [
    "## Lightgbm"
   ]
  },
  {
   "cell_type": "code",
   "execution_count": 38,
   "id": "psychological-machinery",
   "metadata": {},
   "outputs": [],
   "source": [
    "import lightgbm as lgb\n",
    "from sklearn.model_selection import KFold\n",
    "from sklearn.preprocessing import LabelEncoder\n",
    "from tqdm import tqdm\n",
    "import gc"
   ]
  },
  {
   "cell_type": "code",
   "execution_count": 39,
   "id": "accessible-shopper",
   "metadata": {},
   "outputs": [],
   "source": [
    "# Convert to np arrays\n",
    "train = np.array(train)\n",
    "test = np.array(test)\n",
    "train_all = np.array(train_all)\n",
    "test_all = np.array(test_all)"
   ]
  },
  {
   "cell_type": "code",
   "execution_count": 40,
   "id": "hollow-cooling",
   "metadata": {},
   "outputs": [],
   "source": [
    "# Create the kfold object\n",
    "n_folds = 5\n",
    "k_fold = KFold(n_splits = n_folds, shuffle = True, random_state = 50)"
   ]
  },
  {
   "cell_type": "code",
   "execution_count": 41,
   "id": "southwest-trinidad",
   "metadata": {},
   "outputs": [],
   "source": [
    "# Empty array for test predictions\n",
    "test_predictions = np.zeros(test.shape[0])\n",
    "test_predictions_all = np.zeros(test_all.shape[0])\n",
    "\n",
    "# Empty array for out of fold validation predictions\n",
    "out_of_fold = np.zeros(train.shape[0])\n",
    "out_of_fold_all = np.zeros(train_all.shape[0])\n",
    "\n",
    "# Lists for recording validation and training scores\n",
    "valid_scores = []\n",
    "train_scores = []"
   ]
  },
  {
   "cell_type": "code",
   "execution_count": 42,
   "id": "beautiful-hazard",
   "metadata": {
    "scrolled": true
   },
   "outputs": [
    {
     "name": "stderr",
     "output_type": "stream",
     "text": [
      "0it [00:00, ?it/s]"
     ]
    },
    {
     "name": "stdout",
     "output_type": "stream",
     "text": [
      "[LightGBM] [Warning] Accuracy may be bad since you didn't explicitly set num_leaves OR 2^max_depth > num_leaves. (num_leaves=31).\n",
      "Training until validation scores don't improve for 100 rounds\n",
      "[200]\ttrain's auc: 0.802448\ttrain's binary_logloss: 0.555706\tvalid's auc: 0.729067\tvalid's binary_logloss: 0.57451\n",
      "[400]\ttrain's auc: 0.842752\ttrain's binary_logloss: 0.514152\tvalid's auc: 0.730231\tvalid's binary_logloss: 0.547259\n",
      "Early stopping, best iteration is:\n",
      "[332]\ttrain's auc: 0.830757\ttrain's binary_logloss: 0.526459\tvalid's auc: 0.730611\tvalid's binary_logloss: 0.555065\n"
     ]
    },
    {
     "name": "stderr",
     "output_type": "stream",
     "text": [
      "1it [00:27, 27.01s/it]"
     ]
    },
    {
     "name": "stdout",
     "output_type": "stream",
     "text": [
      "[LightGBM] [Warning] Accuracy may be bad since you didn't explicitly set num_leaves OR 2^max_depth > num_leaves. (num_leaves=31).\n",
      "Training until validation scores don't improve for 100 rounds\n",
      "[200]\ttrain's auc: 0.802684\ttrain's binary_logloss: 0.555683\tvalid's auc: 0.730692\tvalid's binary_logloss: 0.574228\n",
      "[400]\ttrain's auc: 0.842917\ttrain's binary_logloss: 0.514101\tvalid's auc: 0.733681\tvalid's binary_logloss: 0.546386\n",
      "Early stopping, best iteration is:\n",
      "[431]\ttrain's auc: 0.847847\ttrain's binary_logloss: 0.508888\tvalid's auc: 0.73393\tvalid's binary_logloss: 0.542874\n"
     ]
    },
    {
     "name": "stderr",
     "output_type": "stream",
     "text": [
      "2it [00:57, 29.32s/it]"
     ]
    },
    {
     "name": "stdout",
     "output_type": "stream",
     "text": [
      "[LightGBM] [Warning] Accuracy may be bad since you didn't explicitly set num_leaves OR 2^max_depth > num_leaves. (num_leaves=31).\n",
      "Training until validation scores don't improve for 100 rounds\n",
      "[200]\ttrain's auc: 0.802138\ttrain's binary_logloss: 0.556337\tvalid's auc: 0.731092\tvalid's binary_logloss: 0.576559\n",
      "[400]\ttrain's auc: 0.84245\ttrain's binary_logloss: 0.51497\tvalid's auc: 0.733342\tvalid's binary_logloss: 0.549222\n",
      "Early stopping, best iteration is:\n",
      "[324]\ttrain's auc: 0.828901\ttrain's binary_logloss: 0.528764\tvalid's auc: 0.734127\tvalid's binary_logloss: 0.557992\n"
     ]
    },
    {
     "name": "stderr",
     "output_type": "stream",
     "text": [
      "3it [01:25, 28.51s/it]"
     ]
    },
    {
     "name": "stdout",
     "output_type": "stream",
     "text": [
      "[LightGBM] [Warning] Accuracy may be bad since you didn't explicitly set num_leaves OR 2^max_depth > num_leaves. (num_leaves=31).\n",
      "Training until validation scores don't improve for 100 rounds\n",
      "[200]\ttrain's auc: 0.801946\ttrain's binary_logloss: 0.556536\tvalid's auc: 0.733455\tvalid's binary_logloss: 0.573076\n",
      "[400]\ttrain's auc: 0.842667\ttrain's binary_logloss: 0.514851\tvalid's auc: 0.735549\tvalid's binary_logloss: 0.545624\n",
      "Early stopping, best iteration is:\n",
      "[377]\ttrain's auc: 0.838685\ttrain's binary_logloss: 0.518878\tvalid's auc: 0.735744\tvalid's binary_logloss: 0.54821\n"
     ]
    },
    {
     "name": "stderr",
     "output_type": "stream",
     "text": [
      "4it [01:54, 28.74s/it]"
     ]
    },
    {
     "name": "stdout",
     "output_type": "stream",
     "text": [
      "[LightGBM] [Warning] Accuracy may be bad since you didn't explicitly set num_leaves OR 2^max_depth > num_leaves. (num_leaves=31).\n",
      "Training until validation scores don't improve for 100 rounds\n",
      "[200]\ttrain's auc: 0.802878\ttrain's binary_logloss: 0.55542\tvalid's auc: 0.731768\tvalid's binary_logloss: 0.575741\n",
      "[400]\ttrain's auc: 0.843301\ttrain's binary_logloss: 0.513771\tvalid's auc: 0.7327\tvalid's binary_logloss: 0.548635\n",
      "Early stopping, best iteration is:\n",
      "[317]\ttrain's auc: 0.828284\ttrain's binary_logloss: 0.52894\tvalid's auc: 0.733562\tvalid's binary_logloss: 0.558428\n"
     ]
    },
    {
     "name": "stderr",
     "output_type": "stream",
     "text": [
      "5it [02:20, 28.19s/it]\n"
     ]
    }
   ],
   "source": [
    "# For selected features via PCA\n",
    "# Iterate through each fold\n",
    "for train_indices, valid_indices in tqdm(k_fold.split(train)):\n",
    "\n",
    "    # Training data for the fold\n",
    "    train_features, train_labels = train[train_indices], labels[train_indices]\n",
    "    # Validation data for the fold\n",
    "    valid_features, valid_labels = train[valid_indices], labels[valid_indices]\n",
    "\n",
    "    # Create the model\n",
    "    model = lgb.LGBMClassifier(n_estimators=5000, objective = 'binary', \n",
    "                               class_weight = 'balanced', learning_rate = 0.05, \n",
    "                               reg_alpha = 0.1, reg_lambda = 0.1, max_depth = 6,\n",
    "                               subsample = 0.8, n_jobs = -1, random_state = 50)\n",
    "\n",
    "    # Train the model\n",
    "    model.fit(train_features, train_labels, eval_metric = 'auc',\n",
    "              eval_set = [(valid_features, valid_labels), (train_features, train_labels)],\n",
    "              eval_names = ['valid', 'train'],\n",
    "              early_stopping_rounds = 100, verbose = 200)\n",
    "\n",
    "    # Record the best iteration\n",
    "    best_iteration = model.best_iteration_\n",
    "\n",
    "    # Make predictions\n",
    "    test_predictions += model.predict_proba(test, num_iteration = best_iteration)[:, 1] / k_fold.n_splits\n",
    "\n",
    "    # Record the out of fold predictions\n",
    "    out_of_fold[valid_indices] = model.predict_proba(valid_features, num_iteration = best_iteration)[:, 1]\n",
    "\n",
    "    # Record the best score\n",
    "    valid_score = model.best_score_['valid']['auc']\n",
    "    train_score = model.best_score_['train']['auc']\n",
    "\n",
    "    valid_scores.append(valid_score)\n",
    "    train_scores.append(train_score)\n",
    "\n",
    "    # Clean up memory\n",
    "    gc.enable()\n",
    "    del model, train_features, valid_features\n",
    "    gc.collect()"
   ]
  },
  {
   "cell_type": "code",
   "execution_count": 43,
   "id": "endangered-crash",
   "metadata": {},
   "outputs": [],
   "source": [
    "# Make the submission dataframe\n",
    "submission_lgbm = pd.DataFrame({'SK_ID_CURR': test_ids, 'TARGET': test_predictions})"
   ]
  },
  {
   "cell_type": "code",
   "execution_count": 44,
   "id": "endangered-hobby",
   "metadata": {},
   "outputs": [],
   "source": [
    "submission_lgbm.to_csv('lgbm.csv', index = False)"
   ]
  },
  {
   "cell_type": "markdown",
   "id": "graphic-correction",
   "metadata": {},
   "source": [
    "### For all features without selection"
   ]
  },
  {
   "cell_type": "code",
   "execution_count": 45,
   "id": "novel-express",
   "metadata": {
    "scrolled": true
   },
   "outputs": [
    {
     "name": "stderr",
     "output_type": "stream",
     "text": [
      "0it [00:00, ?it/s]"
     ]
    },
    {
     "name": "stdout",
     "output_type": "stream",
     "text": [
      "[LightGBM] [Warning] Accuracy may be bad since you didn't explicitly set num_leaves OR 2^max_depth > num_leaves. (num_leaves=31).\n",
      "Training until validation scores don't improve for 100 rounds\n",
      "[200]\ttrain's auc: 0.799108\ttrain's binary_logloss: 0.547861\tvalid's auc: 0.75824\tvalid's binary_logloss: 0.561723\n",
      "[400]\ttrain's auc: 0.826194\ttrain's binary_logloss: 0.519572\tvalid's auc: 0.759879\tvalid's binary_logloss: 0.543983\n",
      "Early stopping, best iteration is:\n",
      "[439]\ttrain's auc: 0.830942\ttrain's binary_logloss: 0.514531\tvalid's auc: 0.760095\tvalid's binary_logloss: 0.541025\n"
     ]
    },
    {
     "name": "stderr",
     "output_type": "stream",
     "text": [
      "1it [00:22, 22.09s/it]"
     ]
    },
    {
     "name": "stdout",
     "output_type": "stream",
     "text": [
      "[LightGBM] [Warning] Accuracy may be bad since you didn't explicitly set num_leaves OR 2^max_depth > num_leaves. (num_leaves=31).\n",
      "Training until validation scores don't improve for 100 rounds\n",
      "[200]\ttrain's auc: 0.798789\ttrain's binary_logloss: 0.548417\tvalid's auc: 0.760485\tvalid's binary_logloss: 0.561724\n",
      "Early stopping, best iteration is:\n",
      "[293]\ttrain's auc: 0.812421\ttrain's binary_logloss: 0.534234\tvalid's auc: 0.761223\tvalid's binary_logloss: 0.553321\n"
     ]
    },
    {
     "name": "stderr",
     "output_type": "stream",
     "text": [
      "2it [00:37, 18.30s/it]"
     ]
    },
    {
     "name": "stdout",
     "output_type": "stream",
     "text": [
      "[LightGBM] [Warning] Accuracy may be bad since you didn't explicitly set num_leaves OR 2^max_depth > num_leaves. (num_leaves=31).\n",
      "Training until validation scores don't improve for 100 rounds\n",
      "[200]\ttrain's auc: 0.79783\ttrain's binary_logloss: 0.549446\tvalid's auc: 0.765784\tvalid's binary_logloss: 0.562599\n",
      "[400]\ttrain's auc: 0.825053\ttrain's binary_logloss: 0.521242\tvalid's auc: 0.767038\tvalid's binary_logloss: 0.544855\n",
      "Early stopping, best iteration is:\n",
      "[365]\ttrain's auc: 0.820763\ttrain's binary_logloss: 0.52575\tvalid's auc: 0.767292\tvalid's binary_logloss: 0.54754\n"
     ]
    },
    {
     "name": "stderr",
     "output_type": "stream",
     "text": [
      "3it [00:55, 18.07s/it]"
     ]
    },
    {
     "name": "stdout",
     "output_type": "stream",
     "text": [
      "[LightGBM] [Warning] Accuracy may be bad since you didn't explicitly set num_leaves OR 2^max_depth > num_leaves. (num_leaves=31).\n",
      "Training until validation scores don't improve for 100 rounds\n",
      "[200]\ttrain's auc: 0.798323\ttrain's binary_logloss: 0.548877\tvalid's auc: 0.761415\tvalid's binary_logloss: 0.561163\n",
      "Early stopping, best iteration is:\n",
      "[295]\ttrain's auc: 0.812589\ttrain's binary_logloss: 0.534115\tvalid's auc: 0.763043\tvalid's binary_logloss: 0.551844\n"
     ]
    },
    {
     "name": "stderr",
     "output_type": "stream",
     "text": [
      "4it [01:11, 17.34s/it]"
     ]
    },
    {
     "name": "stdout",
     "output_type": "stream",
     "text": [
      "[LightGBM] [Warning] Accuracy may be bad since you didn't explicitly set num_leaves OR 2^max_depth > num_leaves. (num_leaves=31).\n",
      "Training until validation scores don't improve for 100 rounds\n",
      "[200]\ttrain's auc: 0.79874\ttrain's binary_logloss: 0.548347\tvalid's auc: 0.761322\tvalid's binary_logloss: 0.563003\n",
      "[400]\ttrain's auc: 0.826424\ttrain's binary_logloss: 0.519552\tvalid's auc: 0.76268\tvalid's binary_logloss: 0.54552\n",
      "Early stopping, best iteration is:\n",
      "[364]\ttrain's auc: 0.821945\ttrain's binary_logloss: 0.524249\tvalid's auc: 0.762851\tvalid's binary_logloss: 0.548286\n"
     ]
    },
    {
     "name": "stderr",
     "output_type": "stream",
     "text": [
      "5it [01:30, 18.02s/it]\n"
     ]
    }
   ],
   "source": [
    "# Iterate through each fold\n",
    "valid_scores = []\n",
    "train_scores = []\n",
    "\n",
    "for train_indices, valid_indices in tqdm(k_fold.split(train_all)):\n",
    "\n",
    "    # Training data for the fold\n",
    "    train_features, train_labels = train_all[train_indices], labels[train_indices]\n",
    "    # Validation data for the fold\n",
    "    valid_features, valid_labels = train_all[valid_indices], labels[valid_indices]\n",
    "\n",
    "    # Create the model\n",
    "    model = lgb.LGBMClassifier(n_estimators=5000, objective = 'binary', \n",
    "                               class_weight = 'balanced', learning_rate = 0.05, \n",
    "                               reg_alpha = 0.1, reg_lambda = 0.1, max_depth = 6,\n",
    "                               subsample = 0.8, n_jobs = -1, random_state = 50)\n",
    "\n",
    "    # Train the model\n",
    "    model.fit(train_features, train_labels, eval_metric = 'auc',\n",
    "              eval_set = [(valid_features, valid_labels), (train_features, train_labels)],\n",
    "              eval_names = ['valid', 'train'],\n",
    "              early_stopping_rounds = 100, verbose = 200)\n",
    "\n",
    "    # Record the best iteration\n",
    "    best_iteration = model.best_iteration_\n",
    "\n",
    "    # Make predictions\n",
    "    test_predictions_all += model.predict_proba(test_all, num_iteration = best_iteration)[:, 1] / k_fold.n_splits\n",
    "\n",
    "    # Record the out of fold predictions\n",
    "    out_of_fold_all[valid_indices] = model.predict_proba(valid_features, num_iteration = best_iteration)[:, 1]\n",
    "\n",
    "    # Record the best score\n",
    "    valid_score = model.best_score_['valid']['auc']\n",
    "    train_score = model.best_score_['train']['auc']\n",
    "\n",
    "    valid_scores.append(valid_score)\n",
    "    train_scores.append(train_score)\n",
    "\n",
    "    # Clean up memory\n",
    "    gc.enable()\n",
    "    del model, train_features, valid_features\n",
    "    gc.collect()"
   ]
  },
  {
   "cell_type": "code",
   "execution_count": 46,
   "id": "signed-enough",
   "metadata": {},
   "outputs": [],
   "source": [
    "# Make the submission dataframe\n",
    "submission_lgbm_all = pd.DataFrame({'SK_ID_CURR': test_ids, 'TARGET': test_predictions_all})"
   ]
  },
  {
   "cell_type": "code",
   "execution_count": 47,
   "id": "rental-thing",
   "metadata": {},
   "outputs": [],
   "source": [
    "submission_lgbm_all.to_csv('lgbm_all.csv', index = False)"
   ]
  },
  {
   "cell_type": "markdown",
   "id": "radical-little",
   "metadata": {},
   "source": [
    "# Score: 0.72514 for LightGBM\n",
    "# Score: 0.75137 for LightGBM without feature selection"
   ]
  },
  {
   "cell_type": "markdown",
   "id": "express-bundle",
   "metadata": {},
   "source": [
    "# Conclusion"
   ]
  },
  {
   "cell_type": "markdown",
   "id": "automotive-charity",
   "metadata": {},
   "source": [
    "## PCA is a good way to select linear related features, and we can see that logistic regression performs really well in this case.\n",
    "## While PCA may miss some features that have non-linear relation with the target, we find that without feature selections, these three models all perform better than selected features which indicate that most of our features have non-linear relations with the target."
   ]
  }
 ],
 "metadata": {
  "kernelspec": {
   "display_name": "Python 3",
   "language": "python",
   "name": "python3"
  },
  "language_info": {
   "codemirror_mode": {
    "name": "ipython",
    "version": 3
   },
   "file_extension": ".py",
   "mimetype": "text/x-python",
   "name": "python",
   "nbconvert_exporter": "python",
   "pygments_lexer": "ipython3",
   "version": "3.8.8"
  }
 },
 "nbformat": 4,
 "nbformat_minor": 5
}
