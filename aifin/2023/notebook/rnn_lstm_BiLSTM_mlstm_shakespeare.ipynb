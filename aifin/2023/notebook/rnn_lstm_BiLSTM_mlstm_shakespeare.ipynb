{
 "cells": [
  {
   "cell_type": "code",
   "execution_count": 45,
   "metadata": {},
   "outputs": [],
   "source": [
    "# implementation of a character-based RNN to generate sonnets\n",
    "import numpy as np\n",
    "import random\n",
    "import string\n",
    "from tensorflow.keras.models import Sequential, load_model\n",
    "from tensorflow.keras.layers import Dense, Embedding, Lambda\n",
    "from tensorflow.keras.layers import SimpleRNN,LSTM,Bidirectional\n",
    "from tensorflow.keras.callbacks import LambdaCallback, EarlyStopping"
   ]
  },
  {
   "cell_type": "code",
   "execution_count": 46,
   "metadata": {},
   "outputs": [],
   "source": [
    "def preprocess(filename=\"shakespeare.txt\", seq_length=40, step=5):\n",
    "    '''\n",
    "    returns semi-redundant sequences their outputs \n",
    "    seq_length: number of characters in each sequence\n",
    "    step: gets every [step] sequence  \n",
    "    '''\n",
    "\n",
    "    print(seq_length)\n",
    "    \n",
    "    # puts all data into text string  \n",
    "    file = open(filename, \"r\")\n",
    "    text = \"\"\n",
    "    for line in file:\n",
    "        line = line.lstrip(' ').rstrip(' ')\n",
    "        if line != '\\n' and not line[0].isdigit():\n",
    "            line.translate(str.maketrans('', '', string.punctuation))\n",
    "            text += line.lower()\n",
    "\n",
    "    # make char to index and index to char dictionary \n",
    "    characters = sorted(list(set(text)))\n",
    "    char_indices_dict = dict((c, i) for i, c in enumerate(characters))\n",
    "    indices_char_dict = dict((i, c) for i, c in enumerate(characters))\n",
    "    #print(char_indices_dict)\n",
    "\n",
    "    # makes every [step] char sequences of length seq_length and their outputs\n",
    "    sequences = []\n",
    "    next_chars = [] # next char that seq in sequences generates\n",
    "    #print(repr(text[len(text) - 200:]))\n",
    "    for i in range(0, len(text) - seq_length, step):\n",
    "        #print(i, seq, text[i : i + seq_length])\n",
    "        sequences.append(text[i : i + seq_length])\n",
    "        next_chars.append(text[i + seq_length])\n",
    "\n",
    "    # put sequences and outputs into np array\n",
    "    x = np.zeros((len(sequences), seq_length, len(characters)))\n",
    "    y = np.zeros((len(sequences), len(characters)), dtype=np.bool)\n",
    "    for i, sequence in enumerate(sequences):\n",
    "        for t, char in enumerate(sequence):\n",
    "            x[i, t, char_indices_dict[char]] = 1\n",
    "        y[i, char_indices_dict[next_chars[i]]] = 1\n",
    "\n",
    "    return x, y, sequences, indices_char_dict, char_indices_dict, text"
   ]
  },
  {
   "cell_type": "code",
   "execution_count": 47,
   "metadata": {},
   "outputs": [],
   "source": [
    "# using rnn to build model\n",
    "def make_model(temperature=1.0,model_choice='rnn'):\n",
    "    model = Sequential()\n",
    "    if model_choice=='rnn':\n",
    "        model.add(SimpleRNN(100))\n",
    "    elif model_choice=='lstm':\n",
    "        model.add(LSTM(100))\n",
    "    elif model_choice=='bi_lstm':\n",
    "        model.add(Bidirectional(LSTM(100)))\n",
    "    # add temperature (controls variance)\n",
    "    model.add(Lambda(lambda x: x / temperature))\n",
    "    model.add(Dense(len(indices_char_dict), activation='softmax'))\n",
    "    model.compile(loss='categorical_crossentropy', optimizer='rmsprop', metrics=['accuracy'])\n",
    "    return model"
   ]
  },
  {
   "cell_type": "markdown",
   "metadata": {},
   "source": [
    "## get data"
   ]
  },
  {
   "cell_type": "code",
   "execution_count": 48,
   "metadata": {},
   "outputs": [
    {
     "name": "stdout",
     "output_type": "stream",
     "text": [
      "10\n"
     ]
    }
   ],
   "source": [
    "seq_length = 10\n",
    "x, y, sequences, indices_char_dict, char_indices_dict, text = preprocess(seq_length=seq_length)"
   ]
  },
  {
   "cell_type": "markdown",
   "metadata": {},
   "source": [
    "## RNN"
   ]
  },
  {
   "cell_type": "code",
   "execution_count": null,
   "metadata": {},
   "outputs": [],
   "source": [
    "# model summary for RNN\n",
    "print('model summary for rnn \\n')\n",
    "rnn_model=make_model(0.2,'rnn')\n",
    "rnn_model.build(x.shape)\n",
    "rnn_model.summary()"
   ]
  },
  {
   "cell_type": "code",
   "execution_count": null,
   "metadata": {},
   "outputs": [],
   "source": [
    "# training for RNN\n",
    "\n",
    "earlyStopping = EarlyStopping(monitor='loss', patience=3, verbose=1, mode='auto')\n",
    "rnn_history=rnn_model.fit(x, y, epochs=50, verbose=1, callbacks=[earlyStopping])\n",
    "rnn_model.save('rnn.h5')"
   ]
  },
  {
   "cell_type": "markdown",
   "metadata": {},
   "source": [
    "## LSTM"
   ]
  },
  {
   "cell_type": "code",
   "execution_count": null,
   "metadata": {},
   "outputs": [],
   "source": [
    "# model summary for lstm\n",
    "print('model summary for lstm \\n')\n",
    "lstm_model=make_model(0.2,'lstm')\n",
    "lstm_model.build(x.shape)\n",
    "lstm_model.summary()"
   ]
  },
  {
   "cell_type": "code",
   "execution_count": null,
   "metadata": {},
   "outputs": [],
   "source": [
    "#  training for LSTM\n",
    "\n",
    "earlyStopping = EarlyStopping(monitor='loss', patience=3, verbose=1, mode='auto')\n",
    "lstm_history=lstm_model.fit(x, y, epochs=50, verbose=1, callbacks=[earlyStopping])\n",
    "lstm_model.save('lstm.h5')"
   ]
  },
  {
   "cell_type": "markdown",
   "metadata": {},
   "source": [
    "## Bi-LSTM"
   ]
  },
  {
   "cell_type": "code",
   "execution_count": null,
   "metadata": {},
   "outputs": [],
   "source": [
    "# model summary for bi_lstm\n",
    "print('model summary for bi_lstm \\n')\n",
    "bi_lstm_model=make_model(0.2,'bi_lstm')\n",
    "bi_lstm_model.build(x.shape)\n",
    "bi_lstm_model.summary()"
   ]
  },
  {
   "cell_type": "code",
   "execution_count": null,
   "metadata": {},
   "outputs": [],
   "source": [
    "#  training for bi-LSTM\n",
    "\n",
    "earlyStopping = EarlyStopping(monitor='loss', patience=3, verbose=1, mode='auto')\n",
    "bi_lstm_history=bi_lstm_model.fit(x, y, epochs=50, verbose=1, callbacks=[earlyStopping])\n",
    "bi_lstm_model.save('bi_lstm.h5')"
   ]
  },
  {
   "cell_type": "code",
   "execution_count": null,
   "metadata": {},
   "outputs": [],
   "source": []
  },
  {
   "cell_type": "markdown",
   "metadata": {},
   "source": [
    "## Momentum LSTM"
   ]
  },
  {
   "cell_type": "code",
   "execution_count": 5,
   "metadata": {},
   "outputs": [],
   "source": [
    "import torch\n",
    "import torch.jit as jit\n",
    "from torch.nn import Parameter\n",
    "from torch.nn import functional as F\n",
    "\n",
    "import math\n",
    "import tqdm"
   ]
  },
  {
   "cell_type": "code",
   "execution_count": 18,
   "metadata": {},
   "outputs": [],
   "source": [
    "# https://github.com/minhtannguyen/MomentumRNN/blob/master/mnist-timit/momentumnet.py\n",
    "class MomentumLSTMCell(torch.nn.Module):\n",
    "\n",
    "    def __init__(self, input_size, hidden_size, mu=0.9, epsilon=0.1, bias=True, fg_init=1.0):\n",
    "        super(MomentumLSTMCell, self).__init__()\n",
    "        self.input_size = input_size\n",
    "        self.hidden_size = hidden_size\n",
    "        self.bias = bias\n",
    "        self.fg_init = fg_init\n",
    "        self.x2h = torch.nn.Linear(input_size, 4 * hidden_size, bias=bias)\n",
    "        self.h2h = torch.nn.Linear(hidden_size, 4 * hidden_size, bias=bias)\n",
    "        \n",
    "        # for momentumnet\n",
    "        self.mu = mu\n",
    "        self.epsilon = epsilon\n",
    "        \n",
    "        #self.reset_parameters(hidden_size)\n",
    "\n",
    "    def reset_parameters(self, hidden_size):\n",
    "        torch.nn.init.orthogonal_(self.x2h.weight)\n",
    "        torch.nn.init.eye_(self.h2h.weight)\n",
    "        torch.nn.init.zeros_(self.x2h.bias)\n",
    "        self.x2h.bias.data[hidden_size:(2 * hidden_size)].fill_(self.fg_init) \n",
    "        torch.nn.init.zeros_(self.h2h.bias)\n",
    "        self.h2h.bias.data[hidden_size:(2 * hidden_size)].fill_(self.fg_init)\n",
    "    \n",
    "    def forward(self, x, hidden, v):\n",
    "        \n",
    "        hx, cx = hidden\n",
    "        \n",
    "        x = x.view(-1, x.size(1))\n",
    "        v = v.view(-1, v.size(1))\n",
    "        \n",
    "        vy = self.mu * v + self.epsilon * self.x2h(x)\n",
    "        \n",
    "        gates = vy + self.h2h(hx)\n",
    "        \n",
    "        # gates = gates.squeeze()\n",
    "        \n",
    "        ingate, forgetgate, cellgate, outgate = gates.chunk(4, 1)\n",
    "        \n",
    "        ingate = F.sigmoid(ingate)\n",
    "        forgetgate = F.sigmoid(forgetgate)\n",
    "        cellgate = F.tanh(cellgate)\n",
    "        outgate = F.sigmoid(outgate)\n",
    "        \n",
    "        cy = torch.mul(cx, forgetgate) +  torch.mul(ingate, cellgate)        \n",
    "\n",
    "        hy = torch.mul(outgate, F.tanh(cy))\n",
    "        \n",
    "        return hy, (hy, cy), vy\n",
    "\n",
    "    \n",
    "class Model(torch.nn.Module):\n",
    "    def __init__(self, input_size, hidden_size, mu=0.9, epsilon=0.1, n_classes=38):\n",
    "        super(Model, self).__init__()\n",
    "        self.hidden_size = hidden_size\n",
    "        self.rnn = MomentumLSTMCell(input_size, hidden_size, mu=mu, epsilon=epsilon)\n",
    "        self.lin = torch.nn.Linear(hidden_size, n_classes)\n",
    "        self.loss_func = torch.nn.CrossEntropyLoss()\n",
    "        \n",
    "    def forward(self, inputs):\n",
    "        v = torch.zeros((inputs.size(0), 4 * self.hidden_size))\n",
    "        state = (torch.zeros((inputs.size(0), self.hidden_size)),\n",
    "                     torch.zeros((inputs.size(0), self.hidden_size)))\n",
    "        \n",
    "        iter_indx = 0\n",
    "        for _input in torch.unbind(inputs, dim=1):\n",
    "            # print(v.shape)\n",
    "            iter_indx = iter_indx + 1\n",
    "            out_rnn, state, v = self.rnn(_input, state, v)\n",
    "            \n",
    "        return self.lin(out_rnn)\n",
    "    \n",
    "    def loss(self, logits, y):\n",
    "        return self.loss_func(logits, y)\n",
    "    \n",
    "    def correct(self, logits, y):\n",
    "        return torch.eq(torch.argmax(logits, dim=1), y).float().sum()"
   ]
  },
  {
   "cell_type": "code",
   "execution_count": 19,
   "metadata": {},
   "outputs": [
    {
     "data": {
      "text/plain": [
       "Model(\n",
       "  (rnn): MomentumLSTMCell(\n",
       "    (x2h): Linear(in_features=38, out_features=400, bias=True)\n",
       "    (h2h): Linear(in_features=100, out_features=400, bias=True)\n",
       "  )\n",
       "  (lin): Linear(in_features=100, out_features=38, bias=True)\n",
       "  (loss_func): CrossEntropyLoss()\n",
       ")"
      ]
     },
     "execution_count": 19,
     "metadata": {},
     "output_type": "execute_result"
    }
   ],
   "source": [
    "## momentum LSTM\n",
    "model = Model(input_size=38, hidden_size=100)\n",
    "model"
   ]
  },
  {
   "cell_type": "code",
   "execution_count": 43,
   "metadata": {},
   "outputs": [
    {
     "name": "stdout",
     "output_type": "stream",
     "text": [
      "Num parameter: 59838\n"
     ]
    }
   ],
   "source": [
    "num_param = 0\n",
    "for parameter in model.parameters():\n",
    "    num_param += parameter.numel()\n",
    "print('Num parameter:', num_param)"
   ]
  },
  {
   "cell_type": "code",
   "execution_count": null,
   "metadata": {},
   "outputs": [
    {
     "name": "stderr",
     "output_type": "stream",
     "text": [
      "Epoch: 0:   0%|          | 0/586 [00:00<?, ?it/s]/home/zliangak/.conda/envs/dl36/lib/python3.6/site-packages/torch/nn/functional.py:1351: UserWarning: nn.functional.sigmoid is deprecated. Use torch.sigmoid instead.\n",
      "  warnings.warn(\"nn.functional.sigmoid is deprecated. Use torch.sigmoid instead.\")\n",
      "/home/zliangak/.conda/envs/dl36/lib/python3.6/site-packages/torch/nn/functional.py:1340: UserWarning: nn.functional.tanh is deprecated. Use torch.tanh instead.\n",
      "  warnings.warn(\"nn.functional.tanh is deprecated. Use torch.tanh instead.\")\n",
      "Epoch: 0:  17%|█▋        | 102/586 [00:46<01:04,  7.47it/s]"
     ]
    }
   ],
   "source": [
    "optimizer = torch.optim.RMSprop(model.parameters(), lr=0.02, alpha=0.9)\n",
    "# optimizer = torch.optim.SGD(model.parameters(), lr=2)\n",
    "momLSTM_history = {'loss': [], 'acc': []}\n",
    "\n",
    "lr_scheduler = torch.optim.lr_scheduler.ExponentialLR(optimizer, gamma=0.95)\n",
    "\n",
    "batch_size = 32 # same as the default batch size used by keras\n",
    "for epoch in range(50):\n",
    "    permutation = torch.randperm(x.shape[0]) # get random permutataion of data in each epoch\n",
    "    \n",
    "    for i in tqdm.tqdm(range(0, len(x), batch_size), desc='Epoch: {}'.format(epoch)):\n",
    "        optimizer.zero_grad()\n",
    "        \n",
    "        # get batch data\n",
    "        indices = permutation[i:i+batch_size]\n",
    "        xx, yy = torch.tensor(x[indices]).float(), torch.tensor(y[indices]).float()\n",
    "        yy = yy.argmax(dim=1)\n",
    "\n",
    "        logits = model(xx)\n",
    "        loss = model.loss(logits, yy)\n",
    "        loss.backward()\n",
    "        \n",
    "        torch.nn.utils.clip_grad_norm_(model.parameters(), 1.0)\n",
    "        \n",
    "        optimizer.step()\n",
    "    \n",
    "    lr_scheduler.step()\n",
    "        \n",
    "    with torch.no_grad():\n",
    "        logits = model(torch.tensor(x).float())\n",
    "        loss = model.loss(logits, torch.tensor(y).float().argmax(1)).item()\n",
    "        correct = model.correct(logits, torch.tensor(y).float().argmax(1)).item()\n",
    "    \n",
    "        momLSTM_history['loss'].append(loss)\n",
    "        momLSTM_history['acc'].append(correct/len(y))\n",
    "        print(\"Epoch: {} -- Loss: {:.4f} -- Acc: {:.4f}\" .format(epoch, loss, correct/len(y)))\n",
    "    "
   ]
  },
  {
   "cell_type": "code",
   "execution_count": 23,
   "metadata": {},
   "outputs": [],
   "source": [
    "torch.save(model.state_dict(), './mLSTM_{}.h5'.format(seq_length))"
   ]
  },
  {
   "cell_type": "code",
   "execution_count": null,
   "metadata": {},
   "outputs": [],
   "source": []
  },
  {
   "cell_type": "code",
   "execution_count": null,
   "metadata": {},
   "outputs": [],
   "source": []
  },
  {
   "cell_type": "code",
   "execution_count": null,
   "metadata": {},
   "outputs": [],
   "source": []
  },
  {
   "cell_type": "code",
   "execution_count": null,
   "metadata": {},
   "outputs": [],
   "source": []
  },
  {
   "cell_type": "code",
   "execution_count": 21,
   "metadata": {},
   "outputs": [
    {
     "data": {
      "image/png": "[encoded data removed]",
      "text/plain": [
       "<Figure size 432x288 with 1 Axes>"
      ]
     },
     "metadata": {
      "needs_background": "light"
     },
     "output_type": "display_data"
    }
   ],
   "source": [
    "import matplotlib.pyplot as plt\n",
    "# plot accuracy\n",
    "plt.plot(lstm_history.history['acc'])\n",
    "plt.plot(rnn_history.history['acc'])\n",
    "plt.plot(bi_lstm_history.history['acc'])\n",
    "plt.plot(momLSTM_history['acc'])\n",
    "plt.title('training accuracy')\n",
    "plt.ylabel('Accuracy')\n",
    "plt.xlabel('Epoch')\n",
    "plt.legend(['LSTM', 'RNN','Bi_LSTM', 'MomemtumLSTM'], loc='upper left')\n",
    "plt.show()"
   ]
  },
  {
   "cell_type": "code",
   "execution_count": null,
   "metadata": {},
   "outputs": [],
   "source": []
  },
  {
   "cell_type": "code",
   "execution_count": null,
   "metadata": {},
   "outputs": [],
   "source": []
  },
  {
   "cell_type": "code",
   "execution_count": 22,
   "metadata": {},
   "outputs": [
    {
     "data": {
      "image/png": "[encoded data removed]",
      "text/plain": [
       "<Figure size 432x288 with 1 Axes>"
      ]
     },
     "metadata": {
      "needs_background": "light"
     },
     "output_type": "display_data"
    }
   ],
   "source": [
    "\n",
    "# plot loss\n",
    "plt.plot(lstm_history.history['loss'])\n",
    "plt.plot(rnn_history.history['loss'])\n",
    "plt.plot(bi_lstm_history.history['loss'])\n",
    "plt.plot(momLSTM_history['loss'])\n",
    "plt.title('training loss')\n",
    "plt.ylabel('loss')\n",
    "plt.xlabel('Epoch')\n",
    "plt.legend(['LSTM', 'RNN','Bi_LSTM', 'MomentumLSTM'], loc='upper left')\n",
    "plt.show()"
   ]
  },
  {
   "cell_type": "code",
   "execution_count": null,
   "metadata": {},
   "outputs": [],
   "source": []
  },
  {
   "cell_type": "code",
   "execution_count": null,
   "metadata": {},
   "outputs": [],
   "source": []
  },
  {
   "cell_type": "code",
   "execution_count": 28,
   "metadata": {},
   "outputs": [],
   "source": [
    "\n",
    "def generate_sonnet(model_choice='rnn'):\n",
    "\n",
    "    if model_choice=='rnn':\n",
    "        model = load_model('rnn.h5')\n",
    "    elif model_choice=='lstm':\n",
    "        model = load_model('lstm.h5')\n",
    "    elif model_choice=='bi_lstm':\n",
    "        model = load_model('bi_lstm.h5')\n",
    "    sonnet = []\n",
    "    \n",
    "    seq = \"shall i compare thee to a summer's day?\\n\"\n",
    "    sonnet.append(seq)\n",
    "    for _ in range(13):\n",
    "        line = \"\"\n",
    "        for i in range(40):\n",
    "            x = np.zeros((1, len(seq), len(indices_char_dict)))\n",
    "            for t, index in enumerate(seq):\n",
    "                x[0, t, char_indices_dict[index]] = 1.\n",
    "\n",
    "            prediction = model.predict(x)[0]\n",
    "            index = np.argmax(prediction)\n",
    "            char = indices_char_dict[index]\n",
    "            line += char\n",
    "            seq = seq[1:] + char\n",
    "\n",
    "        sonnet.append(line)\n",
    "    return sonnet"
   ]
  },
  {
   "cell_type": "code",
   "execution_count": null,
   "metadata": {},
   "outputs": [],
   "source": [
    "sonnet=generate_sonnet('rnn')\n",
    "print('sonnet by rnn: \\n')\n",
    "for line in sonnet:\n",
    "    print(line)"
   ]
  },
  {
   "cell_type": "code",
   "execution_count": null,
   "metadata": {},
   "outputs": [],
   "source": [
    "sonnet=generate_sonnet('lstm')\n",
    "\n",
    "print('sonnet by lstm: \\n')\n",
    "for line in sonnet:\n",
    "    print(line)"
   ]
  },
  {
   "cell_type": "code",
   "execution_count": null,
   "metadata": {},
   "outputs": [],
   "source": [
    "\n",
    "sonnet=generate_sonnet('bi_lstm')\n",
    "\n",
    "print('sonnet by bi_lstm: \\n')\n",
    "for line in sonnet:\n",
    "    print(line)"
   ]
  },
  {
   "cell_type": "code",
   "execution_count": null,
   "metadata": {},
   "outputs": [],
   "source": []
  },
  {
   "cell_type": "code",
   "execution_count": null,
   "metadata": {},
   "outputs": [],
   "source": []
  }
 ],
 "metadata": {
  "kernelspec": {
   "display_name": "dl36",
   "language": "python",
   "name": "dl36"
  },
  "language_info": {
   "codemirror_mode": {
    "name": "ipython",
    "version": 3
   },
   "file_extension": ".py",
   "mimetype": "text/x-python",
   "name": "python",
   "nbconvert_exporter": "python",
   "pygments_lexer": "ipython3",
   "version": "3.6.7"
  }
 },
 "nbformat": 4,
 "nbformat_minor": 4
}
