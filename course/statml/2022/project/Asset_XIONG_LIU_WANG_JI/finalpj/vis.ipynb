{
 "cells": [
  {
   "cell_type": "code",
   "execution_count": 86,
   "metadata": {},
   "outputs": [],
   "source": [
    "import numpy as np\n",
    "import matplotlib.pyplot as plt\n",
    "import pylab as pl\n",
    "from mpl_toolkits.axes_grid1.inset_locator import inset_axes\n",
    "\n",
    "import pandas as pd\n",
    "y1 = [np.random.random((31,))]\n",
    "name_list = ['1111']\n",
    "def draw_line(res_list, model_list):\n",
    "\n",
    "    fig = plt.figure(figsize = (7,5))      \n",
    "    ax1 = fig.add_subplot(1, 1, 1)\n",
    "    color_list = ['tab:pink','b', 'g', 'r', 'c', 'm', 'y', 'k', 'tab:gray', 'tab:orange', 'tab:brown', 'darkred', '#5F9EA0', '#8A2BE2', '#FFF8DC', '#6495ED']\n",
    "\n",
    "    \n",
    "    for i, y in enumerate(res_list):\n",
    "        print(model_list[i])\n",
    "        x = np.arange(1990, 1990 + 31)\n",
    "        print(res_list[i])\n",
    "        print( color_list[i])\n",
    "        print(model_list[i])\n",
    "        p2 = pl.plot(x, res_list[i], color_list[i] , label = model_list[i])\n",
    "        pl.legend(ncol=6)\n",
    "    plt.ylim(-5, 5)\n",
    "    plt.xlabel(u'test year')\n",
    "    plt.ylabel(u'r2 score(%)')\n",
    "    plt.savefig('figures/res', ppi = 1000)\n",
    "# draw_line(y1, name_list)"
   ]
  },
  {
   "cell_type": "code",
   "execution_count": 87,
   "metadata": {},
   "outputs": [],
   "source": [
    "def return_x(x):\n",
    "    if isinstance(x, str):\n",
    "        return float(x[1: -1])*100\n",
    "    elif isinstance(x, float):\n",
    "        return x*100\n",
    "model_list = ['ols', 'ols3', 'ridge', 'lasso', 'huber', 'enet', 'pls', 'pcs', 'rf', 'gbdt', 'lgbm', 'nn1', 'nn2', 'nn3', 'nn4', 'nn5']\n",
    "# model_list = ['ols', 'ols3', 'ridge', 'lasso',  'enet', 'pls', 'pcs', 'rf', 'gbdt', 'lgbm', 'nn1']\n",
    "# model_list = ['ols3',  'lasso',  'enet', 'pls', 'pcs',]\n",
    "# model_list = ['ols',  'ridge',   'enet', 'pls', 'pcs',  'lgbm', 'nn1']\n",
    "res_list = []\n",
    "for model in model_list:\n",
    "    \n",
    "    df = pd.read_csv(model + '/record.csv')\n",
    "    res = np.array(df['test_r2'].map(lambda x: return_x(x)))\n",
    "    if model == 'rf':\n",
    "        res = res[:31]\n",
    "    res_list.append(res)\n",
    "\n",
    "\n"
   ]
  },
  {
   "cell_type": "code",
   "execution_count": 7,
   "metadata": {},
   "outputs": [],
   "source": [
    "import numpy as np\n",
    "import matplotlib.pyplot as plt\n",
    "import pylab as pl\n",
    "from mpl_toolkits.axes_grid1.inset_locator import inset_axes\n",
    "\n",
    "import pandas as pd\n",
    "y1 = [np.random.random((31,))]\n",
    "name_list = ['1111']\n",
    "def draw_his(res_list, model_list):\n",
    "    fig = plt.figure(figsize = (7,5))      \n",
    "    ax1 = fig.add_subplot(1, 1, 1)\n",
    "    color_list = ['b', 'g', 'r', 'c', 'm', 'y', 'k']\n",
    "\n",
    "    \n",
    "    # for i, y in enumerate(res_list):\n",
    "    x = np.arange(0, len(res_list) )\n",
    "    p2 = pl.bar(x, res_list, color = color_list[:len(x)])\n",
    "    # pl.legend()\n",
    "    # pl.ylim(0, 0.2)\n",
    "    print(model_list)\n",
    "    plt.xticks(x, model_list, rotation=45) \n",
    "    # pl.xlabel = model_list\n",
    "    plt.xlabel(u'learning rate')\n",
    "    plt.ylabel(u'r2 score')\n",
    "    plt.savefig('figures/abl_study.jpg', ppi = 1000)\n",
    "# draw_his(y1, name_list)"
   ]
  },
  {
   "cell_type": "code",
   "execution_count": 8,
   "metadata": {},
   "outputs": [
    {
     "name": "stdout",
     "output_type": "stream",
     "text": [
      "[-0.01088476, -0.01431026, -0.04792061, -0.12708726, -0.20288697, -0.42184273, -0.53331193, -0.96706089, -0.95885915]\n",
      "['gbdt_0001', 'gbdt_001', 'gbdt_005', 'gbdt_01', 'gbdt_02', 'gbdt_04', 'gbdt_06', 'gbdt_08', 'gbdt_1']\n"
     ]
    },
    {
     "name": "stderr",
     "output_type": "stream",
     "text": [
      "/tmp/ipykernel_29444/100974991.py:25: MatplotlibDeprecationWarning: savefig() got unexpected keyword argument \"ppi\" which is no longer supported as of 3.3 and will become an error in 3.6\n",
      "  plt.savefig('figures/abl_study.jpg', ppi = 1000)\n"
     ]
    },
    {
     "data": {
      "image/png": "[encoded data removed]",
      "text/plain": [
       "<Figure size 504x360 with 1 Axes>"
      ]
     },
     "metadata": {
      "needs_background": "light"
     },
     "output_type": "display_data"
    }
   ],
   "source": [
    "model = 'gbdt'\n",
    "model_list = [model+'_0001', model+'_001', model+'_005',model+'_01',model+'_02',model+'_04',model+'_06',model+'_08',model+'_1']\n",
    "res_list = []\n",
    "for model in model_list:\n",
    "    df = pd.read_csv(model + '/record.csv')\n",
    "    res = np.array(df['test_r2'].map(lambda x: float(x[1: -1])))[0]\n",
    "    res_list.append(res)\n",
    "print(res_list)\n",
    "draw_his(res_list, model_list)"
   ]
  },
  {
   "cell_type": "code",
   "execution_count": 34,
   "metadata": {},
   "outputs": [],
   "source": [
    "import numpy as np\n",
    "import matplotlib.pyplot as plt\n",
    "import pylab as pl\n",
    "from mpl_toolkits.axes_grid1.inset_locator import inset_axes\n",
    "\n",
    "import pandas as pd\n",
    "y1 = [np.random.random((31,))]\n",
    "name_list = ['1111']\n",
    "def draw_his_feature(res_list, ind_list, mask, name):\n",
    "    fig = plt.figure(figsize = (7,5))      \n",
    "    ax1 = fig.add_subplot(1, 1, 1)\n",
    "    color_list = ['b', 'g', 'r', 'c', 'm', 'y', 'k']\n",
    "\n",
    "    res_list = res_list[mask]\n",
    "    ind_list = ind_list[mask]\n",
    "    df = pd.DataFrame({'ind': ind_list, 'res': res_list})\n",
    "    df = df.sort_values(by = 'res')\n",
    "    # for i, y in enumerate(res_list):\n",
    "    x = np.arange(0, len(res_list) )\n",
    "    p2 = pl.barh(x, df['res'], fc = 'b')\n",
    "    # pl.legend()\n",
    "    # pl.ylim(0, 0.2)\n",
    "    \n",
    "    # ind_list.sort_values(key = res_list)\n",
    "    plt.yticks(x, df['ind'])\n",
    "    plt.xticks(np.arange(0, 0.51, 0.1))\n",
    "    plt.xlabel(u'importance')\n",
    "    plt.ylabel(u'feature')\n",
    "    plt.savefig('figures/fea_study_'+name+'.jpg', ppi = 1000)"
   ]
  },
  {
   "cell_type": "code",
   "execution_count": 35,
   "metadata": {},
   "outputs": [
    {
     "name": "stderr",
     "output_type": "stream",
     "text": [
      "/tmp/ipykernel_29444/842040487.py:29: MatplotlibDeprecationWarning: savefig() got unexpected keyword argument \"ppi\" which is no longer supported as of 3.3 and will become an error in 3.6\n",
      "  plt.savefig('figures/fea_study_'+name+'.jpg', ppi = 1000)\n"
     ]
    },
    {
     "data": {
      "image/png": "[encoded data removed]",
      "text/plain": [
       "<Figure size 504x360 with 1 Axes>"
      ]
     },
     "metadata": {
      "needs_background": "light"
     },
     "output_type": "display_data"
    }
   ],
   "source": [
    "import pickle as pkl\n",
    "a = pkl.load(open('gbdt_fi/gbdt_f_i.pkl', 'rb'))\n",
    "ind = pd.read_csv('index.csv').drop(['RET','DATE','prc','SHROUT','mve0'],axis=1).copy()\n",
    "ind = ind.columns\n",
    "res_list = a[0]\n",
    "\n",
    "mask = res_list > 0\n",
    "\n",
    "draw_his_feature(res_list, ind, mask, 'gbdt')"
   ]
  },
  {
   "cell_type": "code",
   "execution_count": 36,
   "metadata": {},
   "outputs": [
    {
     "name": "stderr",
     "output_type": "stream",
     "text": [
      "/tmp/ipykernel_29444/842040487.py:29: MatplotlibDeprecationWarning: savefig() got unexpected keyword argument \"ppi\" which is no longer supported as of 3.3 and will become an error in 3.6\n",
      "  plt.savefig('figures/fea_study_'+name+'.jpg', ppi = 1000)\n"
     ]
    },
    {
     "data": {
      "image/png": "[encoded data removed]",
      "text/plain": [
       "<Figure size 504x360 with 1 Axes>"
      ]
     },
     "metadata": {
      "needs_background": "light"
     },
     "output_type": "display_data"
    }
   ],
   "source": [
    "import pickle as pkl\n",
    "a = pkl.load(open('rf_fi/rf_f_i.pkl', 'rb'))\n",
    "ind = pd.read_csv('index.csv').drop(['RET','DATE','prc','SHROUT','mve0'],axis=1).copy()\n",
    "ind = ind.columns\n",
    "res_list = a[0]\n",
    "\n",
    "mask = res_list > 0\n",
    "\n",
    "draw_his_feature(res_list, ind, mask, 'rf')"
   ]
  },
  {
   "cell_type": "code",
   "execution_count": 37,
   "metadata": {},
   "outputs": [
    {
     "name": "stderr",
     "output_type": "stream",
     "text": [
      "/tmp/ipykernel_29444/842040487.py:29: MatplotlibDeprecationWarning: savefig() got unexpected keyword argument \"ppi\" which is no longer supported as of 3.3 and will become an error in 3.6\n",
      "  plt.savefig('figures/fea_study_'+name+'.jpg', ppi = 1000)\n"
     ]
    },
    {
     "data": {
      "image/png": "[encoded data removed]",
      "text/plain": [
       "<Figure size 504x360 with 1 Axes>"
      ]
     },
     "metadata": {
      "needs_background": "light"
     },
     "output_type": "display_data"
    }
   ],
   "source": [
    "import pickle as pkl\n",
    "a = pkl.load(open('lgbm/feature_importance0.pckl', 'rb'))\n",
    "ind = pd.read_csv('index.csv').drop(['RET','DATE','prc','SHROUT','mve0'],axis=1).copy()\n",
    "ind = ind.columns\n",
    "\n",
    "res_list = a/100\n",
    "\n",
    "mask = res_list > 0.04\n",
    "\n",
    "draw_his_feature(res_list, ind, mask, 'lgbm')"
   ]
  },
  {
   "cell_type": "code",
   "execution_count": null,
   "metadata": {},
   "outputs": [],
   "source": []
  }
 ],
 "metadata": {
  "interpreter": {
   "hash": "3067ead486e059ec00ffe7555bdb889e6e264a24dc711bf108106cc7baee8d5d"
  },
  "kernelspec": {
   "display_name": "Python 3.7.6 ('base')",
   "language": "python",
   "name": "python3"
  },
  "language_info": {
   "codemirror_mode": {
    "name": "ipython",
    "version": 3
   },
   "file_extension": ".py",
   "mimetype": "text/x-python",
   "name": "python",
   "nbconvert_exporter": "python",
   "pygments_lexer": "ipython3",
   "version": "3.9.10"
  },
  "orig_nbformat": 4
 },
 "nbformat": 4,
 "nbformat_minor": 2
}
