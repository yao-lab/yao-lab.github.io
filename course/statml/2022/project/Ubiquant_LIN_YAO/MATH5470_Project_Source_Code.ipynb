{
 "cells": [
  {
   "cell_type": "code",
   "execution_count": null,
   "metadata": {},
   "outputs": [],
   "source": [
    "!pip -q install ../input/pytorchtabnet/pytorch_tabnet-3.1.1-py3-none-any.whl\n",
    "!pip -q install ../input/talib-binary/talib_binary-0.4.19-cp37-cp37m-manylinux1_x86_64.whl"
   ]
  },
  {
   "cell_type": "code",
   "execution_count": null,
   "metadata": {},
   "outputs": [],
   "source": [
    "import numpy as np\n",
    "import pandas as pd\n",
    "import os, gc\n",
    "from scipy.stats import pearsonr as p\n",
    "import pickle as pkl\n",
    "import warnings\n",
    "from pytorch_tabnet.metrics import Metric\n",
    "from pytorch_tabnet.tab_model import TabNetRegressor\n",
    "from pytorch_tabnet.pretraining import TabNetPretrainer\n",
    "import random\n",
    "import torch\n",
    "from torch.optim import Adam, SGD\n",
    "from torch.optim.lr_scheduler import ReduceLROnPlateau, CosineAnnealingWarmRestarts\n",
    "from scipy.stats import pearsonr as p\n",
    "warnings.simplefilter('ignore')\n",
    "\n",
    "random.seed(0)\n",
    "np.random.seed(0)"
   ]
  },
  {
   "cell_type": "code",
   "execution_count": null,
   "metadata": {},
   "outputs": [],
   "source": [
    "df = pd.read_parquet('../input/ubiquant-parquet/train_low_mem.parquet')\n",
    "\n",
    "df.sort_values(by='time_id', inplace=True)\n",
    "\n",
    "\n",
    "#split the dataset into train and test set with roughly 9:1 ratio\n",
    "\n",
    "train_df = df[:2828086]\n",
    "test_df = df[2828086:]\n",
    "\n",
    "\n",
    "\n",
    "del df\n",
    "gc.collect()\n",
    "\n"
   ]
  },
  {
   "cell_type": "code",
   "execution_count": null,
   "metadata": {},
   "outputs": [],
   "source": [
    "X = train_df.drop(['row_id', 'target', 'time_id', 'investment_id'], axis = 1).values\n",
    "y = train_df['target'].values.reshape(-1,1)\n",
    "\n",
    "params = dict(\n",
    "        n_d = 8,\n",
    "        n_a = 8,\n",
    "        n_steps = 3,\n",
    "        gamma =1.3,\n",
    "        n_independent = 2,\n",
    "        n_shared = 2,\n",
    "        lambda_sparse = 1e-3,\n",
    "        optimizer_fn = Adam,\n",
    "        optimizer_params = dict(lr = (0.024907164557092944)),\n",
    "        mask_type = \"entmax\",\n",
    "        scheduler_params = dict(T_0=200, T_mult=1, eta_min=1e-4, last_epoch=-1, verbose=False),\n",
    "        scheduler_fn = CosineAnnealingWarmRestarts,\n",
    "        seed = 0\n",
    "    )  "
   ]
  },
  {
   "cell_type": "code",
   "execution_count": null,
   "metadata": {},
   "outputs": [],
   "source": [
    "def train(params, X, y):\n",
    "    \n",
    "    model =  TabNetRegressor(**params)\n",
    "    \n",
    "    model.fit(\n",
    "          X, y,\n",
    "          max_epochs = 3,\n",
    "          batch_size = 256,\n",
    "          virtual_batch_size = 32,\n",
    "          num_workers = 4,\n",
    "          patience = 0\n",
    "          )\n",
    "    \n",
    "    preds = model.predict(X)\n",
    "    \n",
    "    print('train score: ',  p(preds.flatten(), train_df.target)[0])\n",
    "    \n",
    "    return model\n",
    "    \n",
    "    \n",
    "    "
   ]
  },
  {
   "cell_type": "code",
   "execution_count": null,
   "metadata": {},
   "outputs": [],
   "source": [
    "def test(model, test_df):\n",
    "    \n",
    "    preds = model.predict(test_df.drop(['row_id', 'target', 'time_id', 'investment_id'], axis = 1).values)\n",
    "    \n",
    "    print('test score: ',  p(preds.flatten(), test_df.target)[0])\n",
    "    "
   ]
  },
  {
   "cell_type": "code",
   "execution_count": null,
   "metadata": {},
   "outputs": [],
   "source": [
    "model = train(params, X, y)"
   ]
  },
  {
   "cell_type": "code",
   "execution_count": null,
   "metadata": {},
   "outputs": [],
   "source": [
    "test(model, test_df)"
   ]
  }
 ],
 "metadata": {
  "kernelspec": {
   "display_name": "Python 3 (ipykernel)",
   "language": "python",
   "name": "python3"
  },
  "language_info": {
   "codemirror_mode": {
    "name": "ipython",
    "version": 3
   },
   "file_extension": ".py",
   "mimetype": "text/x-python",
   "name": "python",
   "nbconvert_exporter": "python",
   "pygments_lexer": "ipython3",
   "version": "3.7.7"
  }
 },
 "nbformat": 4,
 "nbformat_minor": 4
}
