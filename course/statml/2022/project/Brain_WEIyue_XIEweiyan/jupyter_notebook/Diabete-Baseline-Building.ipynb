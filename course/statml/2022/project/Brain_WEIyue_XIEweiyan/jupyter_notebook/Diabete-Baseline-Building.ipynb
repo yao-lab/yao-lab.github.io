{
 "cells": [
  {
   "cell_type": "code",
   "execution_count": 1,
   "id": "74f6b0bc",
   "metadata": {},
   "outputs": [],
   "source": [
    "import numpy as np\n",
    "import os"
   ]
  },
  {
   "cell_type": "code",
   "execution_count": 2,
   "id": "da172c17",
   "metadata": {},
   "outputs": [],
   "source": [
    "import statsmodels.api as sm\n",
    "from tqdm.notebook import tqdm #\n",
    "from itertools import combinations\n",
    "from operator import itemgetter\n",
    "\n",
    "def forward_step_select(df, predictors, response, max_features=8):\n",
    "    \"\"\"\n",
    "    Regresses response onto predictors using a forward step algorithm. Features are added based on minimum RSS.\n",
    "    \n",
    "    PARAMETERS\n",
    "    -----------\n",
    "    df : dataframe containing predictors and responses\n",
    "    predictors : list of all possible model predictors\n",
    "    response : list[variable] to regress onto predictors in df\n",
    "    max_features : maximum number of features to use from predictors list\n",
    "    \n",
    "    RETURNS\n",
    "    --------\n",
    "    list of models with increasing number of features upto max_features\n",
    "    \n",
    "    \"\"\"\n",
    "    \n",
    "    def process_linear_model(features):\n",
    "        \"\"\"\n",
    "        Constructs Linear Model Regression of response onto features.\n",
    "        \"\"\"\n",
    "        # Create design Matrix\n",
    "        X = sm.add_constant(df[features])\n",
    "        y = df[response]\n",
    "\n",
    "        model = sm.OLS(y,X).fit()\n",
    "        RSS = model.ssr\n",
    "        return (model, RSS)\n",
    "\n",
    "    def update_model(best_features, remaining_features):\n",
    "        \"\"\"\n",
    "        Computes the RSS of possible new models and returns the model with the lowest RSS.\n",
    "        \"\"\"\n",
    "        results = []\n",
    "        \n",
    "        for feature in remaining_features:\n",
    "            results.append(process_linear_model(best_features + [feature]))\n",
    "            \n",
    "        # select model with the lowest RSS\n",
    "        new_model = sorted(results, key= itemgetter(1)).pop(0)[0]\n",
    "        new_features = list(new_model.params.index)[1:]\n",
    "        \n",
    "        return new_features, new_model\n",
    "    \n",
    "    # Create list to hold models, model features and the remaining features to test\n",
    "    models = []\n",
    "    best_features = []\n",
    "    remaining_features = predictors\n",
    "    \n",
    "    while remaining_features and len(best_features) < max_features:\n",
    "        \n",
    "        # get the best new feature set from update_model\n",
    "        new_features, new_model = update_model(best_features, remaining_features)\n",
    "        # update the best features to include the one we just found\n",
    "        best_features = new_features  \n",
    "        # reduce the available features for the next round\n",
    "        remaining_features =  [feature for feature in predictors if feature not in best_features]\n",
    "        \n",
    "        # append the new_features and model so we can compare models with different features later\n",
    "        models.append((new_features,new_model))\n",
    "        \n",
    "    return models"
   ]
  },
  {
   "cell_type": "markdown",
   "id": "07898c55",
   "metadata": {},
   "source": [
    "## Load the Dataset"
   ]
  },
  {
   "cell_type": "code",
   "execution_count": 6,
   "id": "5c686562",
   "metadata": {},
   "outputs": [],
   "source": [
    "def read_connectivity(connectivity_file):\n",
    "    lines=connectivity_file.readlines()\n",
    "    connectivity=[]\n",
    "    for i in range(len(lines)):\n",
    "        line0=lines[i].split()\n",
    "        connectivity.append([float(i) for i in line0])\n",
    "    return connectivity"
   ]
  },
  {
   "cell_type": "code",
   "execution_count": 7,
   "id": "6ce3e50e",
   "metadata": {},
   "outputs": [],
   "source": [
    "def read_feature(connectivity_file):\n",
    "    lines=connectivity_file.readlines()\n",
    "    feature=[]\n",
    "    for i in range(len(lines)):\n",
    "        line0=lines[i].split()\n",
    "        feature.append(float(line0[0]))\n",
    "    return feature"
   ]
  },
  {
   "cell_type": "code",
   "execution_count": 9,
   "id": "1588e871",
   "metadata": {},
   "outputs": [],
   "source": [
    "## Load the data in Control Group"
   ]
  },
  {
   "cell_type": "code",
   "execution_count": 11,
   "id": "ad3c1166",
   "metadata": {},
   "outputs": [],
   "source": [
    "### Control Connectivity\n",
    "\n",
    "control_folder='C://Users//vaynexie//Desktop//StatsML_Project//networld_all//controls//'\n",
    "\n",
    "control_connectivity=[]\n",
    "\n",
    "for i in range(1,48):\n",
    "    if i<10:\n",
    "        sub_folder_name='con000'+str(i)\n",
    "    if i>=10:\n",
    "        sub_folder_name='con00'+str(i)\n",
    "    file_list=os.listdir(control_folder+sub_folder_name)\n",
    "    connectivity_file=open(control_folder+sub_folder_name+'//'+file_list[0], \"r\")\n",
    "    aa=read_connectivity(connectivity_file)\n",
    "    control_connectivity.append(aa)\n",
    "    #print(file_list[0])\n",
    "\n",
    "\n",
    "control_connectivity=np.array([np.array(x) for x in control_connectivity])"
   ]
  },
  {
   "cell_type": "code",
   "execution_count": 12,
   "id": "33a61a46",
   "metadata": {},
   "outputs": [
    {
     "data": {
      "text/plain": [
       "(47, 90, 90)"
      ]
     },
     "execution_count": 12,
     "metadata": {},
     "output_type": "execute_result"
    }
   ],
   "source": [
    "control_connectivity.shape"
   ]
  },
  {
   "cell_type": "code",
   "execution_count": 13,
   "id": "2b886ea7",
   "metadata": {},
   "outputs": [],
   "source": [
    "### Control Surface\n",
    "\n",
    "control_folder='C://Users//vaynexie//Desktop//StatsML_Project//networld_all//controls//'\n",
    "\n",
    "control_surface=[]\n",
    "\n",
    "for i in range(1,48):\n",
    "    if i<10:\n",
    "        sub_folder_name='con000'+str(i)\n",
    "    if i>=10:\n",
    "        sub_folder_name='con00'+str(i)\n",
    "    file_list=os.listdir(control_folder+sub_folder_name)\n",
    "    surface_file=open(control_folder+sub_folder_name+'//'+file_list[3], \"r\")\n",
    "    aa=read_feature(surface_file)\n",
    "    control_surface.append(aa)\n",
    "    #print(file_list[3])"
   ]
  },
  {
   "cell_type": "code",
   "execution_count": 14,
   "id": "dc633c38",
   "metadata": {},
   "outputs": [
    {
     "data": {
      "text/plain": [
       "(47, 90)"
      ]
     },
     "execution_count": 14,
     "metadata": {},
     "output_type": "execute_result"
    }
   ],
   "source": [
    "np.asarray(control_surface).shape"
   ]
  },
  {
   "cell_type": "code",
   "execution_count": 15,
   "id": "5509b68d",
   "metadata": {},
   "outputs": [],
   "source": [
    "### Control voxel\n",
    "\n",
    "control_folder='C://Users//vaynexie//Desktop//StatsML_Project//networld_all//controls//'\n",
    "\n",
    "control_voxel=[]\n",
    "\n",
    "for i in range(1,48):\n",
    "    if i<10:\n",
    "        sub_folder_name='con000'+str(i)\n",
    "    if i>=10:\n",
    "        sub_folder_name='con00'+str(i)\n",
    "    file_list=os.listdir(control_folder+sub_folder_name)\n",
    "    voxel_file=open(control_folder+sub_folder_name+'//'+file_list[4], \"r\")\n",
    "    aa=read_feature(voxel_file)\n",
    "    control_voxel.append(aa)\n",
    "    #print(file_list[4])"
   ]
  },
  {
   "cell_type": "code",
   "execution_count": 16,
   "id": "ebf7b803",
   "metadata": {},
   "outputs": [
    {
     "data": {
      "text/plain": [
       "(47, 90)"
      ]
     },
     "execution_count": 16,
     "metadata": {},
     "output_type": "execute_result"
    }
   ],
   "source": [
    "np.asarray(control_voxel).shape"
   ]
  },
  {
   "cell_type": "code",
   "execution_count": 14,
   "id": "543ca0cb",
   "metadata": {},
   "outputs": [],
   "source": [
    "#-------------------------------------------------------------------------------------------------------"
   ]
  },
  {
   "cell_type": "code",
   "execution_count": 17,
   "id": "2843c540",
   "metadata": {},
   "outputs": [],
   "source": [
    "## Load the data in Patient Group"
   ]
  },
  {
   "cell_type": "code",
   "execution_count": 18,
   "id": "6fca8572",
   "metadata": {},
   "outputs": [],
   "source": [
    "### Patient Connectivity\n",
    "\n",
    "patient_folder='C://Users//vaynexie//Desktop//StatsML_Project//networld_all//patients//'\n",
    "\n",
    "patient_connectivity=[]\n",
    "\n",
    "for i in range(1,48):\n",
    "    if i<10:\n",
    "        sub_folder_name='Pa000'+str(i)\n",
    "    if i>=10:\n",
    "        sub_folder_name='Pa00'+str(i)\n",
    "    file_list=os.listdir(patient_folder+sub_folder_name)\n",
    "    connectivity_file=open(patient_folder+sub_folder_name+'//'+file_list[0], \"r\")\n",
    "    aa=read_connectivity(connectivity_file)\n",
    "    patient_connectivity.append(aa)\n",
    "    #print(file_list[0])"
   ]
  },
  {
   "cell_type": "code",
   "execution_count": 19,
   "id": "dd740f56",
   "metadata": {},
   "outputs": [
    {
     "data": {
      "text/plain": [
       "(47, 90, 90)"
      ]
     },
     "execution_count": 19,
     "metadata": {},
     "output_type": "execute_result"
    }
   ],
   "source": [
    "patient_connectivity=np.array([np.array(x) for x in patient_connectivity])\n",
    "patient_connectivity.shape"
   ]
  },
  {
   "cell_type": "code",
   "execution_count": 20,
   "id": "82bb89f1",
   "metadata": {},
   "outputs": [],
   "source": [
    "### Patient Surface\n",
    "\n",
    "patient_folder='C://Users//vaynexie//Desktop//StatsML_Project//networld_all//patients//'\n",
    "\n",
    "patient_surface=[]\n",
    "\n",
    "for i in range(1,48):\n",
    "    if i<10:\n",
    "        sub_folder_name='Pa000'+str(i)\n",
    "    if i>=10:\n",
    "        sub_folder_name='Pa00'+str(i)\n",
    "    file_list=os.listdir(patient_folder+sub_folder_name)\n",
    "    surface_file=open(patient_folder+sub_folder_name+'//'+file_list[3], \"r\")\n",
    "    aa=read_feature(surface_file)\n",
    "    patient_surface.append(aa)\n",
    "    #print(file_list[3])"
   ]
  },
  {
   "cell_type": "code",
   "execution_count": 21,
   "id": "5d5e3080",
   "metadata": {},
   "outputs": [
    {
     "data": {
      "text/plain": [
       "(47, 90)"
      ]
     },
     "execution_count": 21,
     "metadata": {},
     "output_type": "execute_result"
    }
   ],
   "source": [
    "np.asarray(patient_surface).shape"
   ]
  },
  {
   "cell_type": "code",
   "execution_count": 22,
   "id": "683e9924",
   "metadata": {},
   "outputs": [],
   "source": [
    "### patient voxel\n",
    "\n",
    "patient_folder='C://Users//vaynexie//Desktop//StatsML_Project//networld_all//patients//'\n",
    "\n",
    "patient_voxel=[]\n",
    "\n",
    "for i in range(1,48):\n",
    "    if i<10:\n",
    "        sub_folder_name='Pa000'+str(i)\n",
    "    if i>=10:\n",
    "        sub_folder_name='Pa00'+str(i)\n",
    "    file_list=os.listdir(patient_folder+sub_folder_name)\n",
    "    voxel_file=open(patient_folder+sub_folder_name+'//'+file_list[4], \"r\")\n",
    "    aa=read_feature(voxel_file)\n",
    "    patient_voxel.append(aa)\n",
    "    #print(file_list[4])"
   ]
  },
  {
   "cell_type": "code",
   "execution_count": 23,
   "id": "bcb3696f",
   "metadata": {},
   "outputs": [
    {
     "data": {
      "text/plain": [
       "(47, 90)"
      ]
     },
     "execution_count": 23,
     "metadata": {},
     "output_type": "execute_result"
    }
   ],
   "source": [
    "np.asarray(patient_voxel).shape"
   ]
  },
  {
   "cell_type": "markdown",
   "id": "77a5ade8",
   "metadata": {},
   "source": [
    "## Baseline model built by all connectivity"
   ]
  },
  {
   "cell_type": "code",
   "execution_count": 24,
   "id": "a684f9f4",
   "metadata": {},
   "outputs": [],
   "source": [
    "connectivity_whole=[]\n",
    "\n",
    "for i in control_connectivity:\n",
    "    connectivity_whole.append(np.reshape(i, -1))\n",
    "\n",
    "for i in patient_connectivity:\n",
    "    connectivity_whole.append(np.reshape(i, -1))"
   ]
  },
  {
   "cell_type": "code",
   "execution_count": 25,
   "id": "b695439c",
   "metadata": {},
   "outputs": [
    {
     "data": {
      "text/plain": [
       "(94, 8100)"
      ]
     },
     "execution_count": 25,
     "metadata": {},
     "output_type": "execute_result"
    }
   ],
   "source": [
    "connectivity_whole=np.asarray(connectivity_whole)\n",
    "connectivity_whole.shape"
   ]
  },
  {
   "cell_type": "code",
   "execution_count": 26,
   "id": "00e0ec06",
   "metadata": {},
   "outputs": [],
   "source": [
    "import numpy as np, pandas as pd\n",
    "\n",
    "df = pd.DataFrame(np.vstack(connectivity_whole))\n",
    "\n",
    "gt_label=47*[0]+47*[1]\n",
    "gt_label=np.asarray(gt_label)"
   ]
  },
  {
   "cell_type": "code",
   "execution_count": 27,
   "id": "141eec62",
   "metadata": {},
   "outputs": [],
   "source": [
    "X = df\n",
    "y = gt_label\n"
   ]
  },
  {
   "cell_type": "code",
   "execution_count": 28,
   "id": "a5e8a149",
   "metadata": {},
   "outputs": [
    {
     "data": {
      "text/html": [
       "<div>\n",
       "<style scoped>\n",
       "    .dataframe tbody tr th:only-of-type {\n",
       "        vertical-align: middle;\n",
       "    }\n",
       "\n",
       "    .dataframe tbody tr th {\n",
       "        vertical-align: top;\n",
       "    }\n",
       "\n",
       "    .dataframe thead th {\n",
       "        text-align: right;\n",
       "    }\n",
       "</style>\n",
       "<table border=\"1\" class=\"dataframe\">\n",
       "  <thead>\n",
       "    <tr style=\"text-align: right;\">\n",
       "      <th></th>\n",
       "      <th>0</th>\n",
       "      <th>1</th>\n",
       "      <th>2</th>\n",
       "      <th>3</th>\n",
       "      <th>4</th>\n",
       "      <th>5</th>\n",
       "      <th>6</th>\n",
       "      <th>7</th>\n",
       "      <th>8</th>\n",
       "      <th>9</th>\n",
       "      <th>...</th>\n",
       "      <th>8090</th>\n",
       "      <th>8091</th>\n",
       "      <th>8092</th>\n",
       "      <th>8093</th>\n",
       "      <th>8094</th>\n",
       "      <th>8095</th>\n",
       "      <th>8096</th>\n",
       "      <th>8097</th>\n",
       "      <th>8098</th>\n",
       "      <th>8099</th>\n",
       "    </tr>\n",
       "  </thead>\n",
       "  <tbody>\n",
       "    <tr>\n",
       "      <th>0</th>\n",
       "      <td>0.0</td>\n",
       "      <td>0.000000</td>\n",
       "      <td>0.396376</td>\n",
       "      <td>0.000000</td>\n",
       "      <td>0.000000</td>\n",
       "      <td>0.0</td>\n",
       "      <td>0.409999</td>\n",
       "      <td>0.000000</td>\n",
       "      <td>0.0</td>\n",
       "      <td>0.0</td>\n",
       "      <td>...</td>\n",
       "      <td>0.0</td>\n",
       "      <td>0.000000</td>\n",
       "      <td>0.0</td>\n",
       "      <td>0.000000</td>\n",
       "      <td>0.0</td>\n",
       "      <td>0.469850</td>\n",
       "      <td>0.0</td>\n",
       "      <td>0.368833</td>\n",
       "      <td>0.0</td>\n",
       "      <td>0.0</td>\n",
       "    </tr>\n",
       "    <tr>\n",
       "      <th>1</th>\n",
       "      <td>0.0</td>\n",
       "      <td>0.000000</td>\n",
       "      <td>0.427164</td>\n",
       "      <td>0.000000</td>\n",
       "      <td>0.000000</td>\n",
       "      <td>0.0</td>\n",
       "      <td>0.428012</td>\n",
       "      <td>0.000000</td>\n",
       "      <td>0.0</td>\n",
       "      <td>0.0</td>\n",
       "      <td>...</td>\n",
       "      <td>0.0</td>\n",
       "      <td>0.487196</td>\n",
       "      <td>0.0</td>\n",
       "      <td>0.000000</td>\n",
       "      <td>0.0</td>\n",
       "      <td>0.417766</td>\n",
       "      <td>0.0</td>\n",
       "      <td>0.378705</td>\n",
       "      <td>0.0</td>\n",
       "      <td>0.0</td>\n",
       "    </tr>\n",
       "    <tr>\n",
       "      <th>2</th>\n",
       "      <td>0.0</td>\n",
       "      <td>0.000000</td>\n",
       "      <td>0.451962</td>\n",
       "      <td>0.563337</td>\n",
       "      <td>0.000000</td>\n",
       "      <td>0.0</td>\n",
       "      <td>0.443025</td>\n",
       "      <td>0.000000</td>\n",
       "      <td>0.0</td>\n",
       "      <td>0.0</td>\n",
       "      <td>...</td>\n",
       "      <td>0.0</td>\n",
       "      <td>0.510467</td>\n",
       "      <td>0.0</td>\n",
       "      <td>0.520584</td>\n",
       "      <td>0.0</td>\n",
       "      <td>0.438374</td>\n",
       "      <td>0.0</td>\n",
       "      <td>0.379326</td>\n",
       "      <td>0.0</td>\n",
       "      <td>0.0</td>\n",
       "    </tr>\n",
       "    <tr>\n",
       "      <th>3</th>\n",
       "      <td>0.0</td>\n",
       "      <td>0.000000</td>\n",
       "      <td>0.445426</td>\n",
       "      <td>0.593148</td>\n",
       "      <td>0.000000</td>\n",
       "      <td>0.0</td>\n",
       "      <td>0.430173</td>\n",
       "      <td>0.000000</td>\n",
       "      <td>0.0</td>\n",
       "      <td>0.0</td>\n",
       "      <td>...</td>\n",
       "      <td>0.0</td>\n",
       "      <td>0.000000</td>\n",
       "      <td>0.0</td>\n",
       "      <td>0.332086</td>\n",
       "      <td>0.0</td>\n",
       "      <td>0.413488</td>\n",
       "      <td>0.0</td>\n",
       "      <td>0.369253</td>\n",
       "      <td>0.0</td>\n",
       "      <td>0.0</td>\n",
       "    </tr>\n",
       "    <tr>\n",
       "      <th>4</th>\n",
       "      <td>0.0</td>\n",
       "      <td>0.584488</td>\n",
       "      <td>0.445157</td>\n",
       "      <td>0.570030</td>\n",
       "      <td>0.000000</td>\n",
       "      <td>0.0</td>\n",
       "      <td>0.475270</td>\n",
       "      <td>0.556641</td>\n",
       "      <td>0.0</td>\n",
       "      <td>0.0</td>\n",
       "      <td>...</td>\n",
       "      <td>0.0</td>\n",
       "      <td>0.535403</td>\n",
       "      <td>0.0</td>\n",
       "      <td>0.541753</td>\n",
       "      <td>0.0</td>\n",
       "      <td>0.450240</td>\n",
       "      <td>0.0</td>\n",
       "      <td>0.401418</td>\n",
       "      <td>0.0</td>\n",
       "      <td>0.0</td>\n",
       "    </tr>\n",
       "    <tr>\n",
       "      <th>...</th>\n",
       "      <td>...</td>\n",
       "      <td>...</td>\n",
       "      <td>...</td>\n",
       "      <td>...</td>\n",
       "      <td>...</td>\n",
       "      <td>...</td>\n",
       "      <td>...</td>\n",
       "      <td>...</td>\n",
       "      <td>...</td>\n",
       "      <td>...</td>\n",
       "      <td>...</td>\n",
       "      <td>...</td>\n",
       "      <td>...</td>\n",
       "      <td>...</td>\n",
       "      <td>...</td>\n",
       "      <td>...</td>\n",
       "      <td>...</td>\n",
       "      <td>...</td>\n",
       "      <td>...</td>\n",
       "      <td>...</td>\n",
       "      <td>...</td>\n",
       "    </tr>\n",
       "    <tr>\n",
       "      <th>89</th>\n",
       "      <td>0.0</td>\n",
       "      <td>0.000000</td>\n",
       "      <td>0.456178</td>\n",
       "      <td>0.511331</td>\n",
       "      <td>0.000000</td>\n",
       "      <td>0.0</td>\n",
       "      <td>0.435922</td>\n",
       "      <td>0.000000</td>\n",
       "      <td>0.0</td>\n",
       "      <td>0.0</td>\n",
       "      <td>...</td>\n",
       "      <td>0.0</td>\n",
       "      <td>0.483063</td>\n",
       "      <td>0.0</td>\n",
       "      <td>0.480819</td>\n",
       "      <td>0.0</td>\n",
       "      <td>0.390341</td>\n",
       "      <td>0.0</td>\n",
       "      <td>0.395008</td>\n",
       "      <td>0.0</td>\n",
       "      <td>0.0</td>\n",
       "    </tr>\n",
       "    <tr>\n",
       "      <th>90</th>\n",
       "      <td>0.0</td>\n",
       "      <td>0.000000</td>\n",
       "      <td>0.405453</td>\n",
       "      <td>0.000000</td>\n",
       "      <td>0.000000</td>\n",
       "      <td>0.0</td>\n",
       "      <td>0.411020</td>\n",
       "      <td>0.000000</td>\n",
       "      <td>0.0</td>\n",
       "      <td>0.0</td>\n",
       "      <td>...</td>\n",
       "      <td>0.0</td>\n",
       "      <td>0.489196</td>\n",
       "      <td>0.0</td>\n",
       "      <td>0.000000</td>\n",
       "      <td>0.0</td>\n",
       "      <td>0.385482</td>\n",
       "      <td>0.0</td>\n",
       "      <td>0.280242</td>\n",
       "      <td>0.0</td>\n",
       "      <td>0.0</td>\n",
       "    </tr>\n",
       "    <tr>\n",
       "      <th>91</th>\n",
       "      <td>0.0</td>\n",
       "      <td>0.587971</td>\n",
       "      <td>0.394801</td>\n",
       "      <td>0.567621</td>\n",
       "      <td>0.548609</td>\n",
       "      <td>0.0</td>\n",
       "      <td>0.474516</td>\n",
       "      <td>0.000000</td>\n",
       "      <td>0.0</td>\n",
       "      <td>0.0</td>\n",
       "      <td>...</td>\n",
       "      <td>0.0</td>\n",
       "      <td>0.419636</td>\n",
       "      <td>0.0</td>\n",
       "      <td>0.000000</td>\n",
       "      <td>0.0</td>\n",
       "      <td>0.404497</td>\n",
       "      <td>0.0</td>\n",
       "      <td>0.329443</td>\n",
       "      <td>0.0</td>\n",
       "      <td>0.0</td>\n",
       "    </tr>\n",
       "    <tr>\n",
       "      <th>92</th>\n",
       "      <td>0.0</td>\n",
       "      <td>0.000000</td>\n",
       "      <td>0.353682</td>\n",
       "      <td>0.552925</td>\n",
       "      <td>0.000000</td>\n",
       "      <td>0.0</td>\n",
       "      <td>0.419825</td>\n",
       "      <td>0.513770</td>\n",
       "      <td>0.0</td>\n",
       "      <td>0.0</td>\n",
       "      <td>...</td>\n",
       "      <td>0.0</td>\n",
       "      <td>0.000000</td>\n",
       "      <td>0.0</td>\n",
       "      <td>0.000000</td>\n",
       "      <td>0.0</td>\n",
       "      <td>0.384091</td>\n",
       "      <td>0.0</td>\n",
       "      <td>0.334550</td>\n",
       "      <td>0.0</td>\n",
       "      <td>0.0</td>\n",
       "    </tr>\n",
       "    <tr>\n",
       "      <th>93</th>\n",
       "      <td>0.0</td>\n",
       "      <td>0.000000</td>\n",
       "      <td>0.428219</td>\n",
       "      <td>0.000000</td>\n",
       "      <td>0.000000</td>\n",
       "      <td>0.0</td>\n",
       "      <td>0.440665</td>\n",
       "      <td>0.000000</td>\n",
       "      <td>0.0</td>\n",
       "      <td>0.0</td>\n",
       "      <td>...</td>\n",
       "      <td>0.0</td>\n",
       "      <td>0.488860</td>\n",
       "      <td>0.0</td>\n",
       "      <td>0.000000</td>\n",
       "      <td>0.0</td>\n",
       "      <td>0.447209</td>\n",
       "      <td>0.0</td>\n",
       "      <td>0.430220</td>\n",
       "      <td>0.0</td>\n",
       "      <td>0.0</td>\n",
       "    </tr>\n",
       "  </tbody>\n",
       "</table>\n",
       "<p>94 rows × 8100 columns</p>\n",
       "</div>"
      ],
      "text/plain": [
       "    0         1         2         3         4     5         6         7     \\\n",
       "0    0.0  0.000000  0.396376  0.000000  0.000000   0.0  0.409999  0.000000   \n",
       "1    0.0  0.000000  0.427164  0.000000  0.000000   0.0  0.428012  0.000000   \n",
       "2    0.0  0.000000  0.451962  0.563337  0.000000   0.0  0.443025  0.000000   \n",
       "3    0.0  0.000000  0.445426  0.593148  0.000000   0.0  0.430173  0.000000   \n",
       "4    0.0  0.584488  0.445157  0.570030  0.000000   0.0  0.475270  0.556641   \n",
       "..   ...       ...       ...       ...       ...   ...       ...       ...   \n",
       "89   0.0  0.000000  0.456178  0.511331  0.000000   0.0  0.435922  0.000000   \n",
       "90   0.0  0.000000  0.405453  0.000000  0.000000   0.0  0.411020  0.000000   \n",
       "91   0.0  0.587971  0.394801  0.567621  0.548609   0.0  0.474516  0.000000   \n",
       "92   0.0  0.000000  0.353682  0.552925  0.000000   0.0  0.419825  0.513770   \n",
       "93   0.0  0.000000  0.428219  0.000000  0.000000   0.0  0.440665  0.000000   \n",
       "\n",
       "    8     9     ...  8090      8091  8092      8093  8094      8095  8096  \\\n",
       "0    0.0   0.0  ...   0.0  0.000000   0.0  0.000000   0.0  0.469850   0.0   \n",
       "1    0.0   0.0  ...   0.0  0.487196   0.0  0.000000   0.0  0.417766   0.0   \n",
       "2    0.0   0.0  ...   0.0  0.510467   0.0  0.520584   0.0  0.438374   0.0   \n",
       "3    0.0   0.0  ...   0.0  0.000000   0.0  0.332086   0.0  0.413488   0.0   \n",
       "4    0.0   0.0  ...   0.0  0.535403   0.0  0.541753   0.0  0.450240   0.0   \n",
       "..   ...   ...  ...   ...       ...   ...       ...   ...       ...   ...   \n",
       "89   0.0   0.0  ...   0.0  0.483063   0.0  0.480819   0.0  0.390341   0.0   \n",
       "90   0.0   0.0  ...   0.0  0.489196   0.0  0.000000   0.0  0.385482   0.0   \n",
       "91   0.0   0.0  ...   0.0  0.419636   0.0  0.000000   0.0  0.404497   0.0   \n",
       "92   0.0   0.0  ...   0.0  0.000000   0.0  0.000000   0.0  0.384091   0.0   \n",
       "93   0.0   0.0  ...   0.0  0.488860   0.0  0.000000   0.0  0.447209   0.0   \n",
       "\n",
       "        8097  8098  8099  \n",
       "0   0.368833   0.0   0.0  \n",
       "1   0.378705   0.0   0.0  \n",
       "2   0.379326   0.0   0.0  \n",
       "3   0.369253   0.0   0.0  \n",
       "4   0.401418   0.0   0.0  \n",
       "..       ...   ...   ...  \n",
       "89  0.395008   0.0   0.0  \n",
       "90  0.280242   0.0   0.0  \n",
       "91  0.329443   0.0   0.0  \n",
       "92  0.334550   0.0   0.0  \n",
       "93  0.430220   0.0   0.0  \n",
       "\n",
       "[94 rows x 8100 columns]"
      ]
     },
     "execution_count": 28,
     "metadata": {},
     "output_type": "execute_result"
    }
   ],
   "source": [
    "df"
   ]
  },
  {
   "cell_type": "code",
   "execution_count": 29,
   "id": "5d0815ff",
   "metadata": {},
   "outputs": [],
   "source": [
    "from sklearn.model_selection import cross_val_score\n",
    "from sklearn.linear_model import LogisticRegression\n",
    "from sklearn import metrics\n",
    "from sklearn import datasets"
   ]
  },
  {
   "cell_type": "code",
   "execution_count": 30,
   "id": "f25a434a",
   "metadata": {},
   "outputs": [
    {
     "name": "stdout",
     "output_type": "stream",
     "text": [
      "{'fit_time': array([0.12466693, 0.08776617, 0.07332945, 0.08078408, 0.10073113]), 'score_time': array([0.04188728, 0.0482645 , 0.04487991, 0.0478723 , 0.04986596]), 'test_accuracy': array([0.52631579, 0.36842105, 0.47368421, 0.52631579, 0.61111111]), 'test_precision': array([0.5       , 0.33333333, 0.5       , 0.57142857, 0.6       ]), 'test_recall': array([0.66666667, 0.33333333, 0.6       , 0.4       , 0.66666667]), 'test_f1': array([0.57142857, 0.33333333, 0.54545455, 0.47058824, 0.63157895])}\n"
     ]
    }
   ],
   "source": [
    "from sklearn.model_selection import cross_validate\n",
    "\n",
    "clf = LogisticRegression(max_iter=2500)#,penalty=None)\n",
    "cv_results = cross_validate(clf, X, y, cv=5,scoring=('accuracy','precision','recall','f1'))\n",
    "cv_results_regression=cv_results \n",
    "print(cv_results_regression)"
   ]
  },
  {
   "cell_type": "code",
   "execution_count": 31,
   "id": "697f2b6f",
   "metadata": {},
   "outputs": [
    {
     "name": "stdout",
     "output_type": "stream",
     "text": [
      "acc\n",
      "0.5011695906432748\n",
      "0.006345884203686608\n",
      "pre\n",
      "0.5009523809523809\n",
      "0.008575056689342404\n",
      "recall\n",
      "0.5333333333333333\n",
      "0.01955555555555555\n",
      "f1\n",
      "0.5104767265757978\n",
      "0.010515039318311884\n"
     ]
    }
   ],
   "source": [
    "print('acc')\n",
    "print(np.mean(cv_results_regression['test_accuracy']))\n",
    "print(np.var(cv_results_regression['test_accuracy']))\n",
    "print('pre')\n",
    "print(np.mean(cv_results_regression['test_precision']))\n",
    "print(np.var(cv_results_regression['test_precision']))\n",
    "print('recall')\n",
    "print(np.mean(cv_results_regression['test_recall']))\n",
    "print(np.var(cv_results_regression['test_recall']))\n",
    "print('f1')\n",
    "print(np.mean(cv_results_regression['test_f1']))\n",
    "print(np.var(cv_results_regression['test_f1']))\n"
   ]
  },
  {
   "cell_type": "code",
   "execution_count": 32,
   "id": "afe275f4",
   "metadata": {},
   "outputs": [],
   "source": [
    "## SVM\n",
    "from sklearn import svm\n",
    "clf = svm.SVC(kernel='rbf', C=1)\n",
    "#clf = svm.SVC(kernel='sigmoid', C=1)"
   ]
  },
  {
   "cell_type": "code",
   "execution_count": 33,
   "id": "5d43e33a",
   "metadata": {},
   "outputs": [
    {
     "name": "stdout",
     "output_type": "stream",
     "text": [
      "acc\n",
      "0.5111111111111111\n",
      "0.011020142949967515\n",
      "pre\n",
      "0.578575225943647\n",
      "0.048300730238109574\n",
      "recall\n",
      "0.5\n",
      "0.08523456790123458\n",
      "f1\n",
      "0.46730158730158733\n",
      "0.028872360796170327\n"
     ]
    }
   ],
   "source": [
    "cv_results = cross_validate(clf, X, y, cv=5,scoring=('accuracy','precision','recall','f1'))\n",
    "cv_results_svm=cv_results\n",
    "\n",
    "print('acc')\n",
    "print(np.mean(cv_results_svm['test_accuracy']))\n",
    "print(np.var(cv_results_svm['test_accuracy']))\n",
    "print('pre')\n",
    "print(np.mean(cv_results_svm['test_precision']))\n",
    "print(np.var(cv_results_svm['test_precision']))\n",
    "print('recall')\n",
    "print(np.mean(cv_results_svm['test_recall']))\n",
    "print(np.var(cv_results_svm['test_recall']))\n",
    "print('f1')\n",
    "print(np.mean(cv_results_svm['test_f1']))\n",
    "print(np.var(cv_results_svm['test_f1']))\n"
   ]
  },
  {
   "cell_type": "markdown",
   "id": "eab89eb5",
   "metadata": {},
   "source": [
    "## Baseline model built by Surface Size"
   ]
  },
  {
   "cell_type": "code",
   "execution_count": 34,
   "id": "159ca038",
   "metadata": {},
   "outputs": [
    {
     "name": "stdout",
     "output_type": "stream",
     "text": [
      "(94, 90)\n"
     ]
    }
   ],
   "source": [
    "\n",
    "\n",
    "surface_whole=[]\n",
    "\n",
    "for i in control_surface:\n",
    "    surface_whole.append(np.reshape(i, -1))\n",
    "\n",
    "for i in patient_surface:\n",
    "    surface_whole.append(np.reshape(i, -1))\n",
    "    \n",
    "surface_whole=np.asarray(surface_whole)\n",
    "print(surface_whole.shape)\n",
    "\n",
    "import numpy as np, pandas as pd\n",
    "\n",
    "df = pd.DataFrame(np.vstack(surface_whole))\n",
    "\n",
    "gt_label=47*[0]+47*[1]\n",
    "gt_label=np.asarray(gt_label)\n",
    "\n",
    "X = df\n",
    "y = gt_label"
   ]
  },
  {
   "cell_type": "code",
   "execution_count": 35,
   "id": "c20bed3b",
   "metadata": {},
   "outputs": [
    {
     "name": "stdout",
     "output_type": "stream",
     "text": [
      "{'fit_time': array([0.05889988, 0.05285859, 0.05784535, 0.05186057, 0.04089069]), 'score_time': array([0.00296474, 0.00299144, 0.00299215, 0.00302267, 0.00299931]), 'test_accuracy': array([0.52631579, 0.36842105, 0.57894737, 0.42105263, 0.44444444]), 'test_precision': array([0.5       , 0.36363636, 0.66666667, 0.42857143, 0.46153846]), 'test_recall': array([0.55555556, 0.44444444, 0.4       , 0.3       , 0.66666667]), 'test_f1': array([0.52631579, 0.4       , 0.5       , 0.35294118, 0.54545455])}\n"
     ]
    }
   ],
   "source": [
    "from sklearn.model_selection import cross_validate\n",
    "\n",
    "clf = LogisticRegression(max_iter=2500)#,penalty=None)\n",
    "cv_results = cross_validate(clf, X, y, cv=5,scoring=('accuracy','precision','recall','f1'))\n",
    "cv_results_regression=cv_results \n",
    "print(cv_results_regression)"
   ]
  },
  {
   "cell_type": "code",
   "execution_count": 36,
   "id": "98901e25",
   "metadata": {},
   "outputs": [
    {
     "name": "stdout",
     "output_type": "stream",
     "text": [
      "acc\n",
      "0.4678362573099415\n",
      "0.00567696043226976\n",
      "pre\n",
      "0.4840825840825841\n",
      "0.010337465841961345\n",
      "recall\n",
      "0.47333333333333333\n",
      "0.01607901234567901\n",
      "f1\n",
      "0.4649423022797635\n",
      "0.00564794464174799\n"
     ]
    }
   ],
   "source": [
    "print('acc')\n",
    "print(np.mean(cv_results_regression['test_accuracy']))\n",
    "print(np.var(cv_results_regression['test_accuracy']))\n",
    "print('pre')\n",
    "print(np.mean(cv_results_regression['test_precision']))\n",
    "print(np.var(cv_results_regression['test_precision']))\n",
    "print('recall')\n",
    "print(np.mean(cv_results_regression['test_recall']))\n",
    "print(np.var(cv_results_regression['test_recall']))\n",
    "print('f1')\n",
    "print(np.mean(cv_results_regression['test_f1']))\n",
    "print(np.var(cv_results_regression['test_f1']))\n"
   ]
  },
  {
   "cell_type": "code",
   "execution_count": 37,
   "id": "219fd7cb",
   "metadata": {},
   "outputs": [],
   "source": [
    "## SVM\n",
    "from sklearn import svm\n",
    "clf = svm.SVC(kernel='rbf', C=1)\n",
    "#clf = svm.SVC(kernel='sigmoid', C=1)"
   ]
  },
  {
   "cell_type": "code",
   "execution_count": 38,
   "id": "469c9f9e",
   "metadata": {},
   "outputs": [
    {
     "name": "stdout",
     "output_type": "stream",
     "text": [
      "acc\n",
      "0.6485380116959064\n",
      "0.01198454225231695\n",
      "pre\n",
      "0.6148717948717948\n",
      "0.009152925706771864\n",
      "recall\n",
      "0.7822222222222222\n",
      "0.01489382716049383\n",
      "f1\n",
      "0.687241819964932\n",
      "0.010788789655557521\n"
     ]
    }
   ],
   "source": [
    "cv_results = cross_validate(clf, X, y, cv=5,scoring=('accuracy','precision','recall','f1'))\n",
    "cv_results_svm=cv_results\n",
    "\n",
    "print('acc')\n",
    "print(np.mean(cv_results_svm['test_accuracy']))\n",
    "print(np.var(cv_results_svm['test_accuracy']))\n",
    "print('pre')\n",
    "print(np.mean(cv_results_svm['test_precision']))\n",
    "print(np.var(cv_results_svm['test_precision']))\n",
    "print('recall')\n",
    "print(np.mean(cv_results_svm['test_recall']))\n",
    "print(np.var(cv_results_svm['test_recall']))\n",
    "print('f1')\n",
    "print(np.mean(cv_results_svm['test_f1']))\n",
    "print(np.var(cv_results_svm['test_f1']))\n"
   ]
  },
  {
   "cell_type": "code",
   "execution_count": null,
   "id": "5b97bd3b",
   "metadata": {},
   "outputs": [],
   "source": []
  },
  {
   "cell_type": "markdown",
   "id": "4b878fab",
   "metadata": {},
   "source": [
    "## Surface Size with Feature Selection"
   ]
  },
  {
   "cell_type": "code",
   "execution_count": 39,
   "id": "926fb648",
   "metadata": {},
   "outputs": [],
   "source": [
    "df_add_gt=df\n",
    "df_add_gt['gt'] = y"
   ]
  },
  {
   "cell_type": "code",
   "execution_count": 40,
   "id": "9c311c3b",
   "metadata": {},
   "outputs": [
    {
     "data": {
      "text/html": [
       "<div>\n",
       "<style scoped>\n",
       "    .dataframe tbody tr th:only-of-type {\n",
       "        vertical-align: middle;\n",
       "    }\n",
       "\n",
       "    .dataframe tbody tr th {\n",
       "        vertical-align: top;\n",
       "    }\n",
       "\n",
       "    .dataframe thead th {\n",
       "        text-align: right;\n",
       "    }\n",
       "</style>\n",
       "<table border=\"1\" class=\"dataframe\">\n",
       "  <thead>\n",
       "    <tr style=\"text-align: right;\">\n",
       "      <th></th>\n",
       "      <th>0</th>\n",
       "      <th>1</th>\n",
       "      <th>2</th>\n",
       "      <th>3</th>\n",
       "      <th>4</th>\n",
       "      <th>5</th>\n",
       "      <th>6</th>\n",
       "      <th>7</th>\n",
       "      <th>8</th>\n",
       "      <th>9</th>\n",
       "      <th>...</th>\n",
       "      <th>81</th>\n",
       "      <th>82</th>\n",
       "      <th>83</th>\n",
       "      <th>84</th>\n",
       "      <th>85</th>\n",
       "      <th>86</th>\n",
       "      <th>87</th>\n",
       "      <th>88</th>\n",
       "      <th>89</th>\n",
       "      <th>gt</th>\n",
       "    </tr>\n",
       "  </thead>\n",
       "  <tbody>\n",
       "    <tr>\n",
       "      <th>0</th>\n",
       "      <td>433.0</td>\n",
       "      <td>436.0</td>\n",
       "      <td>250.0</td>\n",
       "      <td>355.0</td>\n",
       "      <td>115.0</td>\n",
       "      <td>147.0</td>\n",
       "      <td>275.0</td>\n",
       "      <td>259.0</td>\n",
       "      <td>83.0</td>\n",
       "      <td>134.0</td>\n",
       "      <td>...</td>\n",
       "      <td>330.0</td>\n",
       "      <td>179.0</td>\n",
       "      <td>184.0</td>\n",
       "      <td>458.0</td>\n",
       "      <td>378.0</td>\n",
       "      <td>86.0</td>\n",
       "      <td>168.0</td>\n",
       "      <td>418.0</td>\n",
       "      <td>274.0</td>\n",
       "      <td>0</td>\n",
       "    </tr>\n",
       "    <tr>\n",
       "      <th>1</th>\n",
       "      <td>286.0</td>\n",
       "      <td>340.0</td>\n",
       "      <td>167.0</td>\n",
       "      <td>177.0</td>\n",
       "      <td>96.0</td>\n",
       "      <td>58.0</td>\n",
       "      <td>252.0</td>\n",
       "      <td>249.0</td>\n",
       "      <td>75.0</td>\n",
       "      <td>47.0</td>\n",
       "      <td>...</td>\n",
       "      <td>303.0</td>\n",
       "      <td>159.0</td>\n",
       "      <td>106.0</td>\n",
       "      <td>238.0</td>\n",
       "      <td>285.0</td>\n",
       "      <td>107.0</td>\n",
       "      <td>146.0</td>\n",
       "      <td>230.0</td>\n",
       "      <td>238.0</td>\n",
       "      <td>0</td>\n",
       "    </tr>\n",
       "    <tr>\n",
       "      <th>2</th>\n",
       "      <td>416.0</td>\n",
       "      <td>449.0</td>\n",
       "      <td>304.0</td>\n",
       "      <td>284.0</td>\n",
       "      <td>78.0</td>\n",
       "      <td>68.0</td>\n",
       "      <td>285.0</td>\n",
       "      <td>287.0</td>\n",
       "      <td>41.0</td>\n",
       "      <td>90.0</td>\n",
       "      <td>...</td>\n",
       "      <td>310.0</td>\n",
       "      <td>151.0</td>\n",
       "      <td>178.0</td>\n",
       "      <td>296.0</td>\n",
       "      <td>411.0</td>\n",
       "      <td>84.0</td>\n",
       "      <td>155.0</td>\n",
       "      <td>206.0</td>\n",
       "      <td>297.0</td>\n",
       "      <td>0</td>\n",
       "    </tr>\n",
       "    <tr>\n",
       "      <th>3</th>\n",
       "      <td>360.0</td>\n",
       "      <td>352.0</td>\n",
       "      <td>329.0</td>\n",
       "      <td>239.0</td>\n",
       "      <td>139.0</td>\n",
       "      <td>104.0</td>\n",
       "      <td>388.0</td>\n",
       "      <td>333.0</td>\n",
       "      <td>129.0</td>\n",
       "      <td>82.0</td>\n",
       "      <td>...</td>\n",
       "      <td>340.0</td>\n",
       "      <td>120.0</td>\n",
       "      <td>97.0</td>\n",
       "      <td>361.0</td>\n",
       "      <td>318.0</td>\n",
       "      <td>54.0</td>\n",
       "      <td>79.0</td>\n",
       "      <td>236.0</td>\n",
       "      <td>329.0</td>\n",
       "      <td>0</td>\n",
       "    </tr>\n",
       "    <tr>\n",
       "      <th>4</th>\n",
       "      <td>415.0</td>\n",
       "      <td>509.0</td>\n",
       "      <td>458.0</td>\n",
       "      <td>546.0</td>\n",
       "      <td>145.0</td>\n",
       "      <td>174.0</td>\n",
       "      <td>445.0</td>\n",
       "      <td>497.0</td>\n",
       "      <td>107.0</td>\n",
       "      <td>95.0</td>\n",
       "      <td>...</td>\n",
       "      <td>508.0</td>\n",
       "      <td>228.0</td>\n",
       "      <td>230.0</td>\n",
       "      <td>517.0</td>\n",
       "      <td>483.0</td>\n",
       "      <td>115.0</td>\n",
       "      <td>169.0</td>\n",
       "      <td>323.0</td>\n",
       "      <td>370.0</td>\n",
       "      <td>0</td>\n",
       "    </tr>\n",
       "    <tr>\n",
       "      <th>...</th>\n",
       "      <td>...</td>\n",
       "      <td>...</td>\n",
       "      <td>...</td>\n",
       "      <td>...</td>\n",
       "      <td>...</td>\n",
       "      <td>...</td>\n",
       "      <td>...</td>\n",
       "      <td>...</td>\n",
       "      <td>...</td>\n",
       "      <td>...</td>\n",
       "      <td>...</td>\n",
       "      <td>...</td>\n",
       "      <td>...</td>\n",
       "      <td>...</td>\n",
       "      <td>...</td>\n",
       "      <td>...</td>\n",
       "      <td>...</td>\n",
       "      <td>...</td>\n",
       "      <td>...</td>\n",
       "      <td>...</td>\n",
       "      <td>...</td>\n",
       "    </tr>\n",
       "    <tr>\n",
       "      <th>89</th>\n",
       "      <td>397.0</td>\n",
       "      <td>368.0</td>\n",
       "      <td>230.0</td>\n",
       "      <td>306.0</td>\n",
       "      <td>144.0</td>\n",
       "      <td>123.0</td>\n",
       "      <td>370.0</td>\n",
       "      <td>293.0</td>\n",
       "      <td>99.0</td>\n",
       "      <td>52.0</td>\n",
       "      <td>...</td>\n",
       "      <td>380.0</td>\n",
       "      <td>146.0</td>\n",
       "      <td>144.0</td>\n",
       "      <td>425.0</td>\n",
       "      <td>386.0</td>\n",
       "      <td>89.0</td>\n",
       "      <td>108.0</td>\n",
       "      <td>316.0</td>\n",
       "      <td>338.0</td>\n",
       "      <td>1</td>\n",
       "    </tr>\n",
       "    <tr>\n",
       "      <th>90</th>\n",
       "      <td>287.0</td>\n",
       "      <td>309.0</td>\n",
       "      <td>222.0</td>\n",
       "      <td>274.0</td>\n",
       "      <td>111.0</td>\n",
       "      <td>79.0</td>\n",
       "      <td>241.0</td>\n",
       "      <td>283.0</td>\n",
       "      <td>80.0</td>\n",
       "      <td>37.0</td>\n",
       "      <td>...</td>\n",
       "      <td>197.0</td>\n",
       "      <td>152.0</td>\n",
       "      <td>77.0</td>\n",
       "      <td>299.0</td>\n",
       "      <td>191.0</td>\n",
       "      <td>74.0</td>\n",
       "      <td>97.0</td>\n",
       "      <td>177.0</td>\n",
       "      <td>167.0</td>\n",
       "      <td>1</td>\n",
       "    </tr>\n",
       "    <tr>\n",
       "      <th>91</th>\n",
       "      <td>434.0</td>\n",
       "      <td>406.0</td>\n",
       "      <td>227.0</td>\n",
       "      <td>371.0</td>\n",
       "      <td>173.0</td>\n",
       "      <td>154.0</td>\n",
       "      <td>266.0</td>\n",
       "      <td>320.0</td>\n",
       "      <td>124.0</td>\n",
       "      <td>82.0</td>\n",
       "      <td>...</td>\n",
       "      <td>248.0</td>\n",
       "      <td>193.0</td>\n",
       "      <td>171.0</td>\n",
       "      <td>318.0</td>\n",
       "      <td>305.0</td>\n",
       "      <td>90.0</td>\n",
       "      <td>94.0</td>\n",
       "      <td>249.0</td>\n",
       "      <td>267.0</td>\n",
       "      <td>1</td>\n",
       "    </tr>\n",
       "    <tr>\n",
       "      <th>92</th>\n",
       "      <td>358.0</td>\n",
       "      <td>283.0</td>\n",
       "      <td>120.0</td>\n",
       "      <td>181.0</td>\n",
       "      <td>81.0</td>\n",
       "      <td>97.0</td>\n",
       "      <td>278.0</td>\n",
       "      <td>280.0</td>\n",
       "      <td>71.0</td>\n",
       "      <td>59.0</td>\n",
       "      <td>...</td>\n",
       "      <td>260.0</td>\n",
       "      <td>134.0</td>\n",
       "      <td>133.0</td>\n",
       "      <td>288.0</td>\n",
       "      <td>289.0</td>\n",
       "      <td>75.0</td>\n",
       "      <td>113.0</td>\n",
       "      <td>209.0</td>\n",
       "      <td>251.0</td>\n",
       "      <td>1</td>\n",
       "    </tr>\n",
       "    <tr>\n",
       "      <th>93</th>\n",
       "      <td>449.0</td>\n",
       "      <td>460.0</td>\n",
       "      <td>237.0</td>\n",
       "      <td>229.0</td>\n",
       "      <td>154.0</td>\n",
       "      <td>162.0</td>\n",
       "      <td>362.0</td>\n",
       "      <td>315.0</td>\n",
       "      <td>98.0</td>\n",
       "      <td>106.0</td>\n",
       "      <td>...</td>\n",
       "      <td>410.0</td>\n",
       "      <td>184.0</td>\n",
       "      <td>250.0</td>\n",
       "      <td>379.0</td>\n",
       "      <td>287.0</td>\n",
       "      <td>43.0</td>\n",
       "      <td>147.0</td>\n",
       "      <td>222.0</td>\n",
       "      <td>252.0</td>\n",
       "      <td>1</td>\n",
       "    </tr>\n",
       "  </tbody>\n",
       "</table>\n",
       "<p>94 rows × 91 columns</p>\n",
       "</div>"
      ],
      "text/plain": [
       "        0      1      2      3      4      5      6      7      8      9  ...  \\\n",
       "0   433.0  436.0  250.0  355.0  115.0  147.0  275.0  259.0   83.0  134.0  ...   \n",
       "1   286.0  340.0  167.0  177.0   96.0   58.0  252.0  249.0   75.0   47.0  ...   \n",
       "2   416.0  449.0  304.0  284.0   78.0   68.0  285.0  287.0   41.0   90.0  ...   \n",
       "3   360.0  352.0  329.0  239.0  139.0  104.0  388.0  333.0  129.0   82.0  ...   \n",
       "4   415.0  509.0  458.0  546.0  145.0  174.0  445.0  497.0  107.0   95.0  ...   \n",
       "..    ...    ...    ...    ...    ...    ...    ...    ...    ...    ...  ...   \n",
       "89  397.0  368.0  230.0  306.0  144.0  123.0  370.0  293.0   99.0   52.0  ...   \n",
       "90  287.0  309.0  222.0  274.0  111.0   79.0  241.0  283.0   80.0   37.0  ...   \n",
       "91  434.0  406.0  227.0  371.0  173.0  154.0  266.0  320.0  124.0   82.0  ...   \n",
       "92  358.0  283.0  120.0  181.0   81.0   97.0  278.0  280.0   71.0   59.0  ...   \n",
       "93  449.0  460.0  237.0  229.0  154.0  162.0  362.0  315.0   98.0  106.0  ...   \n",
       "\n",
       "       81     82     83     84     85     86     87     88     89  gt  \n",
       "0   330.0  179.0  184.0  458.0  378.0   86.0  168.0  418.0  274.0   0  \n",
       "1   303.0  159.0  106.0  238.0  285.0  107.0  146.0  230.0  238.0   0  \n",
       "2   310.0  151.0  178.0  296.0  411.0   84.0  155.0  206.0  297.0   0  \n",
       "3   340.0  120.0   97.0  361.0  318.0   54.0   79.0  236.0  329.0   0  \n",
       "4   508.0  228.0  230.0  517.0  483.0  115.0  169.0  323.0  370.0   0  \n",
       "..    ...    ...    ...    ...    ...    ...    ...    ...    ...  ..  \n",
       "89  380.0  146.0  144.0  425.0  386.0   89.0  108.0  316.0  338.0   1  \n",
       "90  197.0  152.0   77.0  299.0  191.0   74.0   97.0  177.0  167.0   1  \n",
       "91  248.0  193.0  171.0  318.0  305.0   90.0   94.0  249.0  267.0   1  \n",
       "92  260.0  134.0  133.0  288.0  289.0   75.0  113.0  209.0  251.0   1  \n",
       "93  410.0  184.0  250.0  379.0  287.0   43.0  147.0  222.0  252.0   1  \n",
       "\n",
       "[94 rows x 91 columns]"
      ]
     },
     "execution_count": 40,
     "metadata": {},
     "output_type": "execute_result"
    }
   ],
   "source": [
    "df_add_gt"
   ]
  },
  {
   "cell_type": "code",
   "execution_count": 41,
   "id": "f6169ae4",
   "metadata": {},
   "outputs": [],
   "source": [
    "predictors = list(df.columns)\n",
    "predictors.remove('gt')\n",
    "models = forward_step_select(df,predictors,['gt'],max_features=30)#len(predictors))"
   ]
  },
  {
   "cell_type": "code",
   "execution_count": 42,
   "id": "b60be554",
   "metadata": {},
   "outputs": [
    {
     "data": {
      "image/png": "[encoded data removed]",
      "text/plain": [
       "<Figure size 1152x288 with 2 Axes>"
      ]
     },
     "metadata": {
      "needs_background": "light"
     },
     "output_type": "display_data"
    }
   ],
   "source": [
    "import matplotlib.pyplot as plt\n",
    "aics = [models[x][1].aic for x in range(len(models))]\n",
    "bics = [models[x][1].bic for x in range(len(models))]\n",
    "r_adj = [models[x][1].rsquared_adj for x in range(len(models))]\n",
    "\n",
    "# find the mins/maxes\n",
    "min_aic_index, min_aic = min(enumerate(aics), key=itemgetter(1))\n",
    "min_bic_index, min_bic = min(enumerate(bics), key=itemgetter(1))\n",
    "max_radj_index, max_radj = max(enumerate(r_adj), key=itemgetter(1))\n",
    "\n",
    "num_predictors = np.linspace(1,len(models),len(models))\n",
    "# Create a plot\n",
    "fig,(ax1, ax2) = plt.subplots(1,2,figsize=(16,4))\n",
    "# Add test MSE estimates\n",
    "ax1.plot(num_predictors, aics, 'r', marker='o', label='AIC');\n",
    "ax1.plot(num_predictors, bics, 'b', marker='o', label='BIC')\n",
    "\n",
    "# add the minimums to the axis\n",
    "ax1.plot(min_aic_index+1, min_aic, 'gx', markersize=20, markeredgewidth=1)\n",
    "ax1.plot(min_bic_index+1, min_bic, 'gx', markersize=20, markeredgewidth=1)\n",
    "\n",
    "# Labels and Legend\n",
    "ax1.set_xlabel('Number of Predictors',fontsize = 14.0);\n",
    "ax1.set_ylabel('Test MSE',fontsize = 14.0);\n",
    "ax1.legend(loc='best',prop={'size': 13});\n",
    "\n",
    "# Add Adj R**2\n",
    "ax2.plot(num_predictors, r_adj,'k', marker='o')\n",
    "ax2.plot(max_radj_index+1, max_radj, 'gx', markersize=20, markeredgewidth=1)\n",
    "ax2.set_xlabel('Number of Predictors',fontsize = 14.0);\n",
    "ax2.set_ylabel('Adjusted R**2',fontsize = 14.0);"
   ]
  },
  {
   "cell_type": "code",
   "execution_count": 43,
   "id": "a41f50c8",
   "metadata": {},
   "outputs": [
    {
     "name": "stdout",
     "output_type": "stream",
     "text": [
      "29\n",
      "5\n",
      "29\n"
     ]
    }
   ],
   "source": [
    "print(min_aic_index)\n",
    "print(min_bic_index)\n",
    "print(max_radj_index)"
   ]
  },
  {
   "cell_type": "code",
   "execution_count": 44,
   "id": "aabd64d1",
   "metadata": {},
   "outputs": [],
   "source": [
    "selected_index=models[5][0]\n",
    "surface_whole_select=[]\n",
    "for i in surface_whole:\n",
    "    surface_whole_select.append(i[selected_index])\n",
    "    \n",
    "import numpy as np, pandas as pd\n",
    "\n",
    "df_select = pd.DataFrame(np.vstack(surface_whole_select))\n",
    "df_select.columns =selected_index\n",
    "\n",
    "X = df_select\n",
    "y = gt_label"
   ]
  },
  {
   "cell_type": "code",
   "execution_count": 45,
   "id": "8a130164",
   "metadata": {},
   "outputs": [
    {
     "data": {
      "text/plain": [
       "[67, 53, 54, 31, 71, 29]"
      ]
     },
     "execution_count": 45,
     "metadata": {},
     "output_type": "execute_result"
    }
   ],
   "source": [
    "selected_index"
   ]
  },
  {
   "cell_type": "code",
   "execution_count": 46,
   "id": "25499963",
   "metadata": {},
   "outputs": [],
   "source": [
    "from sklearn.model_selection import cross_validate\n",
    "\n",
    "clf = LogisticRegression(max_iter=2500,)"
   ]
  },
  {
   "cell_type": "code",
   "execution_count": 47,
   "id": "cf720422",
   "metadata": {},
   "outputs": [
    {
     "name": "stdout",
     "output_type": "stream",
     "text": [
      "acc\n",
      "0.776608187134503\n",
      "0.0026319209329366284\n",
      "pre\n",
      "0.8109090909090909\n",
      "0.00999669421487603\n",
      "recall\n",
      "0.7733333333333333\n",
      "0.03602962962962962\n",
      "f1\n",
      "0.7627067669172932\n",
      "0.00941276499519475\n"
     ]
    }
   ],
   "source": [
    "cv_results = cross_validate(clf, X, y, cv=5,scoring=('accuracy','precision','recall','f1'))\n",
    "cv_results_regression=cv_results \n",
    "\n",
    "print('acc')\n",
    "print(np.mean(cv_results_regression['test_accuracy']))\n",
    "print(np.var(cv_results_regression['test_accuracy']))\n",
    "print('pre')\n",
    "print(np.mean(cv_results_regression['test_precision']))\n",
    "print(np.var(cv_results_regression['test_precision']))\n",
    "print('recall')\n",
    "print(np.mean(cv_results_regression['test_recall']))\n",
    "print(np.var(cv_results_regression['test_recall']))\n",
    "print('f1')\n",
    "print(np.mean(cv_results_regression['test_f1']))\n",
    "print(np.var(cv_results_regression['test_f1']))\n"
   ]
  },
  {
   "cell_type": "code",
   "execution_count": 48,
   "id": "17d7fa43",
   "metadata": {},
   "outputs": [
    {
     "name": "stdout",
     "output_type": "stream",
     "text": [
      "classes:  [0 1]\n",
      "coefficients:  [[-0.0151838   0.02051    -0.00911638  0.01963512  0.01555169 -0.01334279]]\n",
      "intercept : [4.07065094]\n",
      "R2: 0.8404255319148937\n"
     ]
    }
   ],
   "source": [
    "clf = LogisticRegression(max_iter=2500)\n",
    "clf.fit(X,y)\n",
    "print('classes: ',clf.classes_)\n",
    "print('coefficients: ',clf.coef_)\n",
    "print('intercept :', clf.intercept_)\n",
    "\n",
    "print(\"R2:\", clf.score(X,y))\n",
    "\n",
    "lm=clf"
   ]
  },
  {
   "cell_type": "code",
   "execution_count": 49,
   "id": "0cfc8abe",
   "metadata": {},
   "outputs": [
    {
     "name": "stdout",
     "output_type": "stream",
     "text": [
      "           Coefficients  Standard Errors  t values  Probabilities  \\\n",
      "intercept        4.0707            0.263    15.474            0.0   \n",
      "67              -0.0152            0.001   -25.210            0.0   \n",
      "53               0.0205            0.001    17.981            0.0   \n",
      "54              -0.0091            0.001   -15.632            0.0   \n",
      "31               0.0196            0.001    17.374            0.0   \n",
      "71               0.0156            0.001    14.434            0.0   \n",
      "29              -0.0133            0.001   -13.721            0.0   \n",
      "\n",
      "          Standardized Coefficient  \n",
      "intercept                       NA  \n",
      "67                       -0.842003  \n",
      "53                        0.467107  \n",
      "54                       -0.437117  \n",
      "31                        0.599708  \n",
      "71                        0.369165  \n",
      "29                       -0.404338  \n"
     ]
    }
   ],
   "source": [
    "from scipy import stats\n",
    "params = np.append(lm.intercept_,lm.coef_)\n",
    "predictions = lm.predict(X)\n",
    "\n",
    "\n",
    "import math\n",
    "#\n",
    "beta=['NA'] +list( (np.sqrt(3)/math.pi)*(lm.coef_[0])*list(X.std()) )\n",
    "# newX = pd.DataFrame({\"Constant\":np.ones(len(X))}).join(pd.DataFrame(X))\n",
    "# MSE = (sum((y-predictions)**2))/(len(newX)-len(newX.columns))\n",
    "\n",
    "# Note if you don't want to use a DataFrame replace the two lines above with\n",
    "newX = np.append(np.ones((len(X),1)), X, axis=1)\n",
    "MSE = (sum((y-predictions)**2))/(len(newX)-len(newX[0]))\n",
    "\n",
    "var_b = MSE*(np.linalg.inv(np.dot(newX.T,newX)).diagonal())\n",
    "sd_b = np.sqrt(var_b)\n",
    "ts_b = params/ sd_b\n",
    "\n",
    "# for i in ts_b:\n",
    "\n",
    "p_values =[2*(1-stats.t.cdf(np.abs(i),(len(newX)-len(newX[0])))) for i in ts_b]\n",
    "\n",
    "sd_b = np.round(sd_b,3)\n",
    "ts_b = np.round(ts_b,3)\n",
    "p_values = np.round(p_values,3)\n",
    "params = np.round(params,4)\n",
    "\n",
    "myDF3 = pd.DataFrame()\n",
    "myDF3[\"Coefficients\"],myDF3[\"Standard Errors\"],myDF3[\"t values\"],myDF3[\"Probabilities\"],myDF3['Standardized Coefficient'] = [params,sd_b,ts_b,p_values,beta]\n",
    "myDF3.index=['intercept']+selected_index\n",
    "print(myDF3)"
   ]
  },
  {
   "cell_type": "markdown",
   "id": "4f07d806",
   "metadata": {},
   "source": [
    "## Baseline model built by Voxel Size"
   ]
  },
  {
   "cell_type": "code",
   "execution_count": 51,
   "id": "99f4ffc2",
   "metadata": {},
   "outputs": [
    {
     "name": "stdout",
     "output_type": "stream",
     "text": [
      "(94, 90)\n"
     ]
    }
   ],
   "source": [
    "voxel_whole=[]\n",
    "\n",
    "for i in control_voxel:\n",
    "    voxel_whole.append(np.reshape(i, -1))\n",
    "\n",
    "for i in patient_voxel:\n",
    "    voxel_whole.append(np.reshape(i, -1))\n",
    "    \n",
    "voxel_whole=np.asarray(voxel_whole)\n",
    "print(voxel_whole.shape)\n",
    "\n",
    "import numpy as np, pandas as pd\n",
    "\n",
    "df = pd.DataFrame(np.vstack(voxel_whole))\n",
    "\n",
    "gt_label=47*[0]+47*[1]\n",
    "gt_label=np.asarray(gt_label)\n",
    "\n",
    "X = df\n",
    "y = gt_label"
   ]
  },
  {
   "cell_type": "code",
   "execution_count": 52,
   "id": "140c820e",
   "metadata": {},
   "outputs": [
    {
     "name": "stdout",
     "output_type": "stream",
     "text": [
      "{'fit_time': array([0.08377528, 0.09773684, 0.0957458 , 0.09326386, 0.083776  ]), 'score_time': array([0.00299239, 0.00398922, 0.00299215, 0.00299215, 0.00299191]), 'test_accuracy': array([0.31578947, 0.47368421, 0.26315789, 0.42105263, 0.33333333]), 'test_precision': array([0.33333333, 0.44444444, 0.16666667, 0.46153846, 0.33333333]), 'test_recall': array([0.44444444, 0.44444444, 0.1       , 0.6       , 0.33333333]), 'test_f1': array([0.38095238, 0.44444444, 0.125     , 0.52173913, 0.33333333])}\n"
     ]
    }
   ],
   "source": [
    "from sklearn.model_selection import cross_validate\n",
    "\n",
    "clf = LogisticRegression(max_iter=2500)\n",
    "cv_results = cross_validate(clf, X, y, cv=5,scoring=('accuracy','precision','recall','f1'))\n",
    "cv_results_regression=cv_results \n",
    "print(cv_results_regression)"
   ]
  },
  {
   "cell_type": "code",
   "execution_count": 53,
   "id": "d93091e7",
   "metadata": {},
   "outputs": [
    {
     "name": "stdout",
     "output_type": "stream",
     "text": [
      "acc\n",
      "0.3614035087719298\n",
      "0.005737149892274545\n",
      "pre\n",
      "0.34786324786324785\n",
      "0.011100883921396744\n",
      "recall\n",
      "0.3844444444444444\n",
      "0.02743703703703703\n",
      "f1\n",
      "0.3610938578329882\n",
      "0.01793190825304427\n"
     ]
    }
   ],
   "source": [
    "print('acc')\n",
    "print(np.mean(cv_results_regression['test_accuracy']))\n",
    "print(np.var(cv_results_regression['test_accuracy']))\n",
    "print('pre')\n",
    "print(np.mean(cv_results_regression['test_precision']))\n",
    "print(np.var(cv_results_regression['test_precision']))\n",
    "print('recall')\n",
    "print(np.mean(cv_results_regression['test_recall']))\n",
    "print(np.var(cv_results_regression['test_recall']))\n",
    "print('f1')\n",
    "print(np.mean(cv_results_regression['test_f1']))\n",
    "print(np.var(cv_results_regression['test_f1']))\n"
   ]
  },
  {
   "cell_type": "code",
   "execution_count": 54,
   "id": "e73dc9df",
   "metadata": {},
   "outputs": [],
   "source": [
    "## SVM\n",
    "from sklearn import svm\n",
    "clf = svm.SVC(kernel='rbf', C=1)\n",
    "#clf = svm.SVC(kernel='sigmoid', C=1)"
   ]
  },
  {
   "cell_type": "code",
   "execution_count": 55,
   "id": "c3a9ae14",
   "metadata": {},
   "outputs": [
    {
     "name": "stdout",
     "output_type": "stream",
     "text": [
      "acc\n",
      "0.5543859649122806\n",
      "0.010907971683594956\n",
      "pre\n",
      "0.55\n",
      "0.009999999999999997\n",
      "recall\n",
      "0.7444444444444444\n",
      "0.022419753086419754\n",
      "f1\n",
      "0.6240259740259739\n",
      "0.00756151496411236\n"
     ]
    }
   ],
   "source": [
    "cv_results = cross_validate(clf, X, y, cv=5,scoring=('accuracy','precision','recall','f1'))\n",
    "cv_results_svm=cv_results\n",
    "\n",
    "print('acc')\n",
    "print(np.mean(cv_results_svm['test_accuracy']))\n",
    "print(np.var(cv_results_svm['test_accuracy']))\n",
    "print('pre')\n",
    "print(np.mean(cv_results_svm['test_precision']))\n",
    "print(np.var(cv_results_svm['test_precision']))\n",
    "print('recall')\n",
    "print(np.mean(cv_results_svm['test_recall']))\n",
    "print(np.var(cv_results_svm['test_recall']))\n",
    "print('f1')\n",
    "print(np.mean(cv_results_svm['test_f1']))\n",
    "print(np.var(cv_results_svm['test_f1']))\n"
   ]
  },
  {
   "cell_type": "markdown",
   "id": "e3ba5711",
   "metadata": {},
   "source": [
    "## Voxel Size with Feature Selection"
   ]
  },
  {
   "cell_type": "code",
   "execution_count": 56,
   "id": "6ccead8d",
   "metadata": {},
   "outputs": [],
   "source": [
    "df_add_gt=df\n",
    "df_add_gt['gt'] = y"
   ]
  },
  {
   "cell_type": "code",
   "execution_count": 57,
   "id": "4f628861",
   "metadata": {},
   "outputs": [],
   "source": [
    "predictors = list(df.columns)\n",
    "predictors.remove('gt')\n",
    "models = forward_step_select(df,predictors,['gt'],max_features=30) #len(predictors))"
   ]
  },
  {
   "cell_type": "code",
   "execution_count": 58,
   "id": "83bab05b",
   "metadata": {},
   "outputs": [
    {
     "data": {
      "image/png": "[encoded data removed]",
      "text/plain": [
       "<Figure size 1152x288 with 2 Axes>"
      ]
     },
     "metadata": {
      "needs_background": "light"
     },
     "output_type": "display_data"
    }
   ],
   "source": [
    "import matplotlib.pyplot as plt\n",
    "aics = [models[x][1].aic for x in range(len(models))]\n",
    "bics = [models[x][1].bic for x in range(len(models))]\n",
    "r_adj = [models[x][1].rsquared_adj for x in range(len(models))]\n",
    "\n",
    "# find the mins/maxes\n",
    "min_aic_index, min_aic = min(enumerate(aics), key=itemgetter(1))\n",
    "min_bic_index, min_bic = min(enumerate(bics), key=itemgetter(1))\n",
    "max_radj_index, max_radj = max(enumerate(r_adj), key=itemgetter(1))\n",
    "\n",
    "num_predictors = np.linspace(1,len(models),len(models))\n",
    "# Create a plot\n",
    "fig,(ax1, ax2) = plt.subplots(1,2,figsize=(16,4))\n",
    "# Add test MSE estimates\n",
    "ax1.plot(num_predictors, aics, 'r', marker='o', label='AIC');\n",
    "ax1.plot(num_predictors, bics, 'b', marker='o', label='BIC')\n",
    "\n",
    "# add the minimums to the axis\n",
    "ax1.plot(min_aic_index+1, min_aic, 'gx', markersize=20, markeredgewidth=1)\n",
    "ax1.plot(min_bic_index+1, min_bic, 'gx', markersize=20, markeredgewidth=1)\n",
    "\n",
    "# Labels and Legend\n",
    "ax1.set_xlabel('Number of Predictors',fontsize = 14.0);\n",
    "ax1.set_ylabel('Test MSE',fontsize = 14.0);\n",
    "ax1.legend(loc=3,prop={'size': 13});\n",
    "\n",
    "# Add Adj R**2\n",
    "ax2.plot(num_predictors, r_adj,'k', marker='o')\n",
    "ax2.plot(max_radj_index+1, max_radj, 'gx', markersize=20, markeredgewidth=1)\n",
    "ax2.set_xlabel('Number of Predictors',fontsize = 14.0);\n",
    "ax2.set_ylabel('Adjusted R**2',fontsize = 14.0);"
   ]
  },
  {
   "cell_type": "code",
   "execution_count": 59,
   "id": "1a4d2351",
   "metadata": {},
   "outputs": [
    {
     "name": "stdout",
     "output_type": "stream",
     "text": [
      "29\n",
      "6\n",
      "29\n"
     ]
    }
   ],
   "source": [
    "print(min_aic_index)\n",
    "print(min_bic_index)\n",
    "print(max_radj_index)"
   ]
  },
  {
   "cell_type": "code",
   "execution_count": 60,
   "id": "c152123f",
   "metadata": {},
   "outputs": [
    {
     "data": {
      "text/plain": [
       "[67, 53, 54, 31, 71, 29]"
      ]
     },
     "execution_count": 60,
     "metadata": {},
     "output_type": "execute_result"
    }
   ],
   "source": [
    "selected_index"
   ]
  },
  {
   "cell_type": "code",
   "execution_count": 61,
   "id": "10b15f8c",
   "metadata": {},
   "outputs": [],
   "source": [
    "######################\n",
    "selected_index=models[6][0]\n",
    "######################\n",
    "\n",
    "voxel_whole_select=[]\n",
    "for i in voxel_whole:\n",
    "    voxel_whole_select.append(i[selected_index])\n",
    "    \n",
    "import numpy as np, pandas as pd\n",
    "\n",
    "df_select = pd.DataFrame(np.vstack(voxel_whole_select))\n",
    "df_select.columns =selected_index\n",
    "\n",
    "X = df_select\n",
    "y = gt_label"
   ]
  },
  {
   "cell_type": "code",
   "execution_count": 62,
   "id": "7cd2d30c",
   "metadata": {},
   "outputs": [],
   "source": [
    "from sklearn.model_selection import cross_validate\n",
    "\n",
    "clf = LogisticRegression(max_iter=2500,)"
   ]
  },
  {
   "cell_type": "code",
   "execution_count": 63,
   "id": "fb81766c",
   "metadata": {},
   "outputs": [
    {
     "name": "stdout",
     "output_type": "stream",
     "text": [
      "acc\n",
      "0.7766081871345029\n",
      "0.0015238876919394003\n",
      "pre\n",
      "0.7694083694083694\n",
      "0.00449550129203809\n",
      "recall\n",
      "0.8088888888888889\n",
      "0.010637037037037039\n",
      "f1\n",
      "0.7811779448621554\n",
      "0.0018868248315023182\n"
     ]
    }
   ],
   "source": [
    "cv_results = cross_validate(clf, X, y, cv=5,scoring=('accuracy','precision','recall','f1'))\n",
    "cv_results_regression=cv_results \n",
    "\n",
    "print('acc')\n",
    "print(np.mean(cv_results_regression['test_accuracy']))\n",
    "print(np.var(cv_results_regression['test_accuracy']))\n",
    "print('pre')\n",
    "print(np.mean(cv_results_regression['test_precision']))\n",
    "print(np.var(cv_results_regression['test_precision']))\n",
    "print('recall')\n",
    "print(np.mean(cv_results_regression['test_recall']))\n",
    "print(np.var(cv_results_regression['test_recall']))\n",
    "print('f1')\n",
    "print(np.mean(cv_results_regression['test_f1']))\n",
    "print(np.var(cv_results_regression['test_f1']))\n"
   ]
  },
  {
   "cell_type": "code",
   "execution_count": 64,
   "id": "1e5f7ee1",
   "metadata": {},
   "outputs": [
    {
     "name": "stdout",
     "output_type": "stream",
     "text": [
      "classes:  [0 1]\n",
      "coefficients:  [[-0.00227403  0.0073501  -0.00145298  0.00232418 -0.00065964  0.00501485\n",
      "  -0.00547232]]\n",
      "intercept : [1.11625612e-05]\n",
      "R2: 0.776595744680851\n"
     ]
    }
   ],
   "source": [
    "clf = LogisticRegression(max_iter=2500)\n",
    "clf.fit(X,y)\n",
    "print('classes: ',clf.classes_)\n",
    "print('coefficients: ',clf.coef_)\n",
    "print('intercept :', clf.intercept_)\n",
    "\n",
    "print(\"R2:\", clf.score(X,y))\n",
    "\n",
    "lm=clf"
   ]
  },
  {
   "cell_type": "code",
   "execution_count": 65,
   "id": "115098c5",
   "metadata": {},
   "outputs": [
    {
     "name": "stdout",
     "output_type": "stream",
     "text": [
      "           Coefficients  Standard Errors  t values  Probabilities  \\\n",
      "intercept        0.0000            0.546     0.000            1.0   \n",
      "73              -0.0023            0.000    -8.870            0.0   \n",
      "77               0.0074            0.000    22.938            0.0   \n",
      "17              -0.0015            0.000   -13.020            0.0   \n",
      "53               0.0023            0.000    17.368            0.0   \n",
      "85              -0.0007            0.000   -10.388            0.0   \n",
      "4                0.0050            0.000    19.652            0.0   \n",
      "5               -0.0055            0.000   -16.981            0.0   \n",
      "\n",
      "          Standardized Coefficient  \n",
      "intercept                       NA  \n",
      "73                       -0.320852  \n",
      "77                        0.839391  \n",
      "17                       -0.442475  \n",
      "53                         0.56355  \n",
      "85                       -0.430291  \n",
      "4                         0.836525  \n",
      "5                        -0.806361  \n"
     ]
    }
   ],
   "source": [
    "from scipy import stats\n",
    "params = np.append(lm.intercept_,lm.coef_)\n",
    "predictions = lm.predict(X)\n",
    "\n",
    "# newX = pd.DataFrame({\"Constant\":np.ones(len(X))}).join(pd.DataFrame(X))\n",
    "# MSE = (sum((y-predictions)**2))/(len(newX)-len(newX.columns))\n",
    "\n",
    "beta=['NA'] +list( (np.sqrt(3)/math.pi)*(lm.coef_[0])*list(X.std()) )\n",
    "# Note if you don't want to use a DataFrame replace the two lines above with\n",
    "newX = np.append(np.ones((len(X),1)), X, axis=1)\n",
    "MSE = (sum((y-predictions)**2))/(len(newX)-len(newX[0]))\n",
    "\n",
    "var_b = MSE*(np.linalg.inv(np.dot(newX.T,newX)).diagonal())\n",
    "sd_b = np.sqrt(var_b)\n",
    "ts_b = params/ sd_b\n",
    "\n",
    "# for i in ts_b:\n",
    "\n",
    "p_values =[2*(1-stats.t.cdf(np.abs(i),(len(newX)-len(newX[0])))) for i in ts_b]\n",
    "\n",
    "sd_b = np.round(sd_b,3)\n",
    "ts_b = np.round(ts_b,3)\n",
    "p_values = np.round(p_values,3)\n",
    "params = np.round(params,4)\n",
    "\n",
    "myDF3 = pd.DataFrame()\n",
    "#myDF3[\"Coefficients\"],myDF3[\"Standard Errors\"],myDF3[\"t values\"],myDF3[\"Probabilities\"] = [params,sd_b,ts_b,p_values]\n",
    "myDF3[\"Coefficients\"],myDF3[\"Standard Errors\"],myDF3[\"t values\"],myDF3[\"Probabilities\"],myDF3['Standardized Coefficient'] = [params,sd_b,ts_b,p_values,beta]\n",
    "myDF3.index=['intercept']+selected_index\n",
    "print(myDF3)"
   ]
  },
  {
   "cell_type": "code",
   "execution_count": null,
   "id": "5b2ccdc3",
   "metadata": {},
   "outputs": [],
   "source": []
  },
  {
   "cell_type": "code",
   "execution_count": null,
   "id": "5b41043d",
   "metadata": {},
   "outputs": [],
   "source": [
    "\n",
    "    "
   ]
  }
 ],
 "metadata": {
  "kernelspec": {
   "display_name": "Python 3 (ipykernel)",
   "language": "python",
   "name": "python3"
  },
  "language_info": {
   "codemirror_mode": {
    "name": "ipython",
    "version": 3
   },
   "file_extension": ".py",
   "mimetype": "text/x-python",
   "name": "python",
   "nbconvert_exporter": "python",
   "pygments_lexer": "ipython3",
   "version": "3.8.5"
  }
 },
 "nbformat": 4,
 "nbformat_minor": 5
}
