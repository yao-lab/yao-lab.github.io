{
 "cells": [
  {
   "cell_type": "code",
   "execution_count": 28,
   "id": "855ddbe8",
   "metadata": {},
   "outputs": [],
   "source": [
    "import pandas as pd\n",
    "import numpy as np\n",
    "import math"
   ]
  },
  {
   "cell_type": "code",
   "execution_count": 2,
   "id": "77a0c164",
   "metadata": {},
   "outputs": [],
   "source": [
    "data=pd.read_csv('GKX_20201231.csv')"
   ]
  },
  {
   "cell_type": "code",
   "execution_count": null,
   "id": "0734e615",
   "metadata": {},
   "outputs": [],
   "source": [
    "data.head()"
   ]
  },
  {
   "cell_type": "code",
   "execution_count": null,
   "id": "f6a1ed12",
   "metadata": {},
   "outputs": [],
   "source": [
    "data.tail()"
   ]
  },
  {
   "cell_type": "markdown",
   "id": "9ed3ea12",
   "metadata": {},
   "source": [
    "# 1. Select data from 1960 to 2019"
   ]
  },
  {
   "cell_type": "code",
   "execution_count": null,
   "id": "bbc8511c",
   "metadata": {},
   "outputs": [],
   "source": [
    "data = data[data.DATE >= 19600101][data.DATE <=20191231].reset_index(drop = True)"
   ]
  },
  {
   "cell_type": "code",
   "execution_count": null,
   "id": "2461122c",
   "metadata": {},
   "outputs": [],
   "source": [
    "data.head()"
   ]
  },
  {
   "cell_type": "code",
   "execution_count": null,
   "id": "2f3018cd",
   "metadata": {},
   "outputs": [],
   "source": [
    "data.tail()"
   ]
  },
  {
   "cell_type": "code",
   "execution_count": 7,
   "id": "08dbace7",
   "metadata": {},
   "outputs": [],
   "source": [
    "data['DATE']=data['DATE']//100 \n",
    "data = data.rename(columns={'DATE': 'yyyymm'})#Let the DATE become the format \"yyyymm\""
   ]
  },
  {
   "cell_type": "markdown",
   "id": "270f52de",
   "metadata": {},
   "source": [
    "# 2. Construct full dataset"
   ]
  },
  {
   "cell_type": "code",
   "execution_count": 9,
   "id": "4fd2dcce",
   "metadata": {},
   "outputs": [],
   "source": [
    "dm=pd.read_excel('macro.xlsx')"
   ]
  },
  {
   "cell_type": "code",
   "execution_count": null,
   "id": "3c6c4680",
   "metadata": {},
   "outputs": [],
   "source": [
    "dm.head()"
   ]
  },
  {
   "cell_type": "code",
   "execution_count": null,
   "id": "c4b7b4fa",
   "metadata": {},
   "outputs": [],
   "source": [
    "dm = dm.loc[(dm['yyyymm']>=196001)&(dm['yyyymm']<202001)]\n",
    "dm"
   ]
  },
  {
   "cell_type": "markdown",
   "id": "580eee36",
   "metadata": {},
   "source": [
    "## 2.1 Calculate some macropredictors that are not given directly\n",
    "       Dividen to ptice ratio(dp):log(D12)-log(Index)\n",
    "       Earnings-price ratio(ep):log(E12)-log(Index)\n",
    "       Term spread(tms):lty-tbl\n",
    "       Default spread(dfy):BAA-AAA"
   ]
  },
  {
   "cell_type": "code",
   "execution_count": 13,
   "id": "049e01cb",
   "metadata": {},
   "outputs": [],
   "source": [
    "dm['dp']=dm['D12'].apply(math.log)-dm['Index'].apply(math.log)\n",
    "dm['ep']=dm['E12'].apply(math.log)-dm['Index'].apply(math.log)\n",
    "dm['tms']=dm['lty']-dm['tbl']\n",
    "dm['dfy']=dm['BAA']-dm['AAA']\n",
    "#Rename b/m by bm and Keep only 8 needed macropredictors\n",
    "ned=['yyyymm', 'dp', 'ep', 'bm', 'ntis', 'tbl', 'tms', 'dfy','svar']\n",
    "dm=dm.rename(columns={'b/m':'bm'})[ned]\n",
    "dm.to_csv('macro.csv',index=False)"
   ]
  },
  {
   "cell_type": "markdown",
   "id": "a041bee4",
   "metadata": {},
   "source": [
    "## 2.2 Join the two datasets"
   ]
  },
  {
   "cell_type": "code",
   "execution_count": 14,
   "id": "f5be65d4",
   "metadata": {},
   "outputs": [
    {
     "data": {
      "text/html": [
       "<div>\n",
       "<style scoped>\n",
       "    .dataframe tbody tr th:only-of-type {\n",
       "        vertical-align: middle;\n",
       "    }\n",
       "\n",
       "    .dataframe tbody tr th {\n",
       "        vertical-align: top;\n",
       "    }\n",
       "\n",
       "    .dataframe thead th {\n",
       "        text-align: right;\n",
       "    }\n",
       "</style>\n",
       "<table border=\"1\" class=\"dataframe\">\n",
       "  <thead>\n",
       "    <tr style=\"text-align: right;\">\n",
       "      <th></th>\n",
       "      <th>yyyymm</th>\n",
       "      <th>dp</th>\n",
       "      <th>ep</th>\n",
       "      <th>bm</th>\n",
       "      <th>ntis</th>\n",
       "      <th>tbl</th>\n",
       "      <th>tms</th>\n",
       "      <th>dfy</th>\n",
       "      <th>svar</th>\n",
       "    </tr>\n",
       "  </thead>\n",
       "  <tbody>\n",
       "    <tr>\n",
       "      <th>0</th>\n",
       "      <td>196001</td>\n",
       "      <td>-3.394191</td>\n",
       "      <td>-2.797533</td>\n",
       "      <td>0.499502</td>\n",
       "      <td>0.022116</td>\n",
       "      <td>0.0435</td>\n",
       "      <td>0.0006</td>\n",
       "      <td>0.0073</td>\n",
       "      <td>0.000919</td>\n",
       "    </tr>\n",
       "    <tr>\n",
       "      <th>1</th>\n",
       "      <td>196002</td>\n",
       "      <td>-3.383903</td>\n",
       "      <td>-2.806662</td>\n",
       "      <td>0.493557</td>\n",
       "      <td>0.024037</td>\n",
       "      <td>0.0396</td>\n",
       "      <td>0.0033</td>\n",
       "      <td>0.0078</td>\n",
       "      <td>0.001150</td>\n",
       "    </tr>\n",
       "    <tr>\n",
       "      <th>2</th>\n",
       "      <td>196003</td>\n",
       "      <td>-3.350808</td>\n",
       "      <td>-2.792666</td>\n",
       "      <td>0.549798</td>\n",
       "      <td>0.025593</td>\n",
       "      <td>0.0331</td>\n",
       "      <td>0.0080</td>\n",
       "      <td>0.0076</td>\n",
       "      <td>0.000969</td>\n",
       "    </tr>\n",
       "    <tr>\n",
       "      <th>3</th>\n",
       "      <td>196004</td>\n",
       "      <td>-3.331425</td>\n",
       "      <td>-2.787838</td>\n",
       "      <td>0.563404</td>\n",
       "      <td>0.025577</td>\n",
       "      <td>0.0323</td>\n",
       "      <td>0.0103</td>\n",
       "      <td>0.0075</td>\n",
       "      <td>0.000645</td>\n",
       "    </tr>\n",
       "    <tr>\n",
       "      <th>4</th>\n",
       "      <td>196005</td>\n",
       "      <td>-3.356176</td>\n",
       "      <td>-2.827389</td>\n",
       "      <td>0.541966</td>\n",
       "      <td>0.024414</td>\n",
       "      <td>0.0329</td>\n",
       "      <td>0.0088</td>\n",
       "      <td>0.0082</td>\n",
       "      <td>0.000424</td>\n",
       "    </tr>\n",
       "    <tr>\n",
       "      <th>...</th>\n",
       "      <td>...</td>\n",
       "      <td>...</td>\n",
       "      <td>...</td>\n",
       "      <td>...</td>\n",
       "      <td>...</td>\n",
       "      <td>...</td>\n",
       "      <td>...</td>\n",
       "      <td>...</td>\n",
       "      <td>...</td>\n",
       "    </tr>\n",
       "    <tr>\n",
       "      <th>715</th>\n",
       "      <td>201908</td>\n",
       "      <td>-3.941330</td>\n",
       "      <td>-3.086025</td>\n",
       "      <td>0.248539</td>\n",
       "      <td>-0.010142</td>\n",
       "      <td>0.0195</td>\n",
       "      <td>-0.0032</td>\n",
       "      <td>0.0089</td>\n",
       "      <td>0.004318</td>\n",
       "    </tr>\n",
       "    <tr>\n",
       "      <th>716</th>\n",
       "      <td>201909</td>\n",
       "      <td>-3.951689</td>\n",
       "      <td>-3.108987</td>\n",
       "      <td>0.243797</td>\n",
       "      <td>-0.010838</td>\n",
       "      <td>0.0189</td>\n",
       "      <td>-0.0019</td>\n",
       "      <td>0.0088</td>\n",
       "      <td>0.000605</td>\n",
       "    </tr>\n",
       "    <tr>\n",
       "      <th>717</th>\n",
       "      <td>201910</td>\n",
       "      <td>-3.965984</td>\n",
       "      <td>-3.112869</td>\n",
       "      <td>0.242630</td>\n",
       "      <td>-0.013157</td>\n",
       "      <td>0.0165</td>\n",
       "      <td>0.0006</td>\n",
       "      <td>0.0091</td>\n",
       "      <td>0.001510</td>\n",
       "    </tr>\n",
       "    <tr>\n",
       "      <th>718</th>\n",
       "      <td>201911</td>\n",
       "      <td>-3.993568</td>\n",
       "      <td>-3.130267</td>\n",
       "      <td>0.233936</td>\n",
       "      <td>-0.007796</td>\n",
       "      <td>0.0154</td>\n",
       "      <td>0.0027</td>\n",
       "      <td>0.0088</td>\n",
       "      <td>0.000306</td>\n",
       "    </tr>\n",
       "    <tr>\n",
       "      <th>719</th>\n",
       "      <td>201912</td>\n",
       "      <td>-4.015896</td>\n",
       "      <td>-3.142629</td>\n",
       "      <td>0.229944</td>\n",
       "      <td>-0.007199</td>\n",
       "      <td>0.0154</td>\n",
       "      <td>0.0032</td>\n",
       "      <td>0.0087</td>\n",
       "      <td>0.000502</td>\n",
       "    </tr>\n",
       "  </tbody>\n",
       "</table>\n",
       "<p>720 rows × 9 columns</p>\n",
       "</div>"
      ],
      "text/plain": [
       "     yyyymm        dp        ep        bm      ntis     tbl     tms     dfy  \\\n",
       "0    196001 -3.394191 -2.797533  0.499502  0.022116  0.0435  0.0006  0.0073   \n",
       "1    196002 -3.383903 -2.806662  0.493557  0.024037  0.0396  0.0033  0.0078   \n",
       "2    196003 -3.350808 -2.792666  0.549798  0.025593  0.0331  0.0080  0.0076   \n",
       "3    196004 -3.331425 -2.787838  0.563404  0.025577  0.0323  0.0103  0.0075   \n",
       "4    196005 -3.356176 -2.827389  0.541966  0.024414  0.0329  0.0088  0.0082   \n",
       "..      ...       ...       ...       ...       ...     ...     ...     ...   \n",
       "715  201908 -3.941330 -3.086025  0.248539 -0.010142  0.0195 -0.0032  0.0089   \n",
       "716  201909 -3.951689 -3.108987  0.243797 -0.010838  0.0189 -0.0019  0.0088   \n",
       "717  201910 -3.965984 -3.112869  0.242630 -0.013157  0.0165  0.0006  0.0091   \n",
       "718  201911 -3.993568 -3.130267  0.233936 -0.007796  0.0154  0.0027  0.0088   \n",
       "719  201912 -4.015896 -3.142629  0.229944 -0.007199  0.0154  0.0032  0.0087   \n",
       "\n",
       "         svar  \n",
       "0    0.000919  \n",
       "1    0.001150  \n",
       "2    0.000969  \n",
       "3    0.000645  \n",
       "4    0.000424  \n",
       "..        ...  \n",
       "715  0.004318  \n",
       "716  0.000605  \n",
       "717  0.001510  \n",
       "718  0.000306  \n",
       "719  0.000502  \n",
       "\n",
       "[720 rows x 9 columns]"
      ]
     },
     "execution_count": 14,
     "metadata": {},
     "output_type": "execute_result"
    }
   ],
   "source": [
    "macro = pd.read_csv('macro.csv')\n",
    "macro\n"
   ]
  },
  {
   "cell_type": "code",
   "execution_count": 15,
   "id": "fa71835d",
   "metadata": {},
   "outputs": [],
   "source": [
    "data1 = pd.merge(data, macro, how='left', on='yyyymm', suffixes=('', '_macro'))"
   ]
  },
  {
   "cell_type": "code",
   "execution_count": 16,
   "id": "78e24c1e",
   "metadata": {},
   "outputs": [],
   "source": [
    "data1['excess_ret']=data1['RET']-data1['tbl'] #Calculate return in excess of risk-free rate"
   ]
  },
  {
   "cell_type": "markdown",
   "id": "0952445c",
   "metadata": {},
   "source": [
    "## 2.3 Fill the missing value with cross-sectional median or 0"
   ]
  },
  {
   "cell_type": "code",
   "execution_count": 18,
   "id": "a1dc7358",
   "metadata": {},
   "outputs": [
    {
     "data": {
      "text/plain": [
       "94"
      ]
     },
     "execution_count": 18,
     "metadata": {},
     "output_type": "execute_result"
    }
   ],
   "source": [
    "nonpd = ['yyyymm','RET','SHROUT','mve0','prc','permno','excess_ret'] #Nonpredictors\n",
    "macropd = ['dp','ep_macro','bm_macro','ntis','tbl','tms','dfy','svar'] #Macroeconomic predictors\n",
    "sic2 = ['sic2'] #Industrial dummies\n",
    "lst = nonpd+macropd+sic2\n",
    "stockpd = [p for p in data1.columns if p not in lst] #Stock-level predictors\n",
    "len(stockpd)"
   ]
  },
  {
   "cell_type": "code",
   "execution_count": 19,
   "id": "91b7fe15",
   "metadata": {},
   "outputs": [
    {
     "data": {
      "text/plain": [
       "720"
      ]
     },
     "execution_count": 19,
     "metadata": {},
     "output_type": "execute_result"
    }
   ],
   "source": [
    "period_list = np.unique(data1['yyyymm'])\n",
    "len(period_list)"
   ]
  },
  {
   "cell_type": "code",
   "execution_count": null,
   "id": "646ee47a",
   "metadata": {},
   "outputs": [],
   "source": [
    "for pd in stockpd:\n",
    "    c_row = 0\n",
    "    for period in period_list:\n",
    "        n_period = data1[data1['yyyymm']==period].shape[0]\n",
    "        #Compute the cross-sectional median of this stock predictor\n",
    "        median = np.nanmedian(data1.loc[c_row:(c_row+n_period-1),pd])\n",
    "        #Fill missing values with median\n",
    "        data1.loc[c_row:(c_row+n_period-1),pd] = data1.loc[c_row:(c_row+n_period-1),pd].replace(np.nan,median)\n",
    "        c_row = c_row + n_period"
   ]
  },
  {
   "cell_type": "code",
   "execution_count": 23,
   "id": "8e2f0d87",
   "metadata": {},
   "outputs": [],
   "source": [
    "newdt = data1.fillna(0)"
   ]
  },
  {
   "cell_type": "code",
   "execution_count": null,
   "id": "2eb1ef9d",
   "metadata": {},
   "outputs": [],
   "source": [
    "newdt = newdt.drop(columns=['prc','SHROUT','mve0','RET']) #Drop the predictors that are not used\n"
   ]
  },
  {
   "cell_type": "code",
   "execution_count": 25,
   "id": "d290b48d",
   "metadata": {},
   "outputs": [],
   "source": [
    "newdt.to_csv('merge_data.csv', index = False)"
   ]
  }
 ],
 "metadata": {
  "kernelspec": {
   "display_name": "Python 3 (ipykernel)",
   "language": "python",
   "name": "python3"
  },
  "language_info": {
   "codemirror_mode": {
    "name": "ipython",
    "version": 3
   },
   "file_extension": ".py",
   "mimetype": "text/x-python",
   "name": "python",
   "nbconvert_exporter": "python",
   "pygments_lexer": "ipython3",
   "version": "3.8.8"
  }
 },
 "nbformat": 4,
 "nbformat_minor": 5
}
