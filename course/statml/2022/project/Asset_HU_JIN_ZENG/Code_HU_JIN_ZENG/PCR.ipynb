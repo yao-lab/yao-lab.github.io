{
 "cells": [
  {
   "cell_type": "code",
   "execution_count": 1,
   "id": "04588f0f",
   "metadata": {},
   "outputs": [],
   "source": [
    "import pandas as pd\n",
    "import numpy as np\n",
    "from sklearn.pipeline import make_pipeline\n",
    "from sklearn.preprocessing import StandardScaler\n",
    "from sklearn.decomposition import PCA\n",
    "from sklearn.cross_decomposition import PLSRegression\n",
    "from sklearn.linear_model import  LinearRegression\n",
    "from Data_split import data_split, pd_ret_split, R2_score\n",
    "import math\n",
    "from tqdm import tqdm"
   ]
  },
  {
   "cell_type": "markdown",
   "id": "6ec234fc",
   "metadata": {},
   "source": [
    "# Perform PCR to full data"
   ]
  },
  {
   "cell_type": "code",
   "execution_count": null,
   "id": "a5879678",
   "metadata": {},
   "outputs": [],
   "source": [
    "\n",
    "dt = pd.read_csv('merge_data.csv')\n",
    "dt\n",
    "\n",
    "\n",
    "\n",
    "    "
   ]
  },
  {
   "cell_type": "code",
   "execution_count": 4,
   "id": "fa4bc4c1",
   "metadata": {},
   "outputs": [],
   "source": [
    "ncom_list = [ ]\n",
    "R2_list = [ ]"
   ]
  },
  {
   "cell_type": "code",
   "execution_count": null,
   "id": "dbb72258",
   "metadata": {},
   "outputs": [],
   "source": [
    "\n",
    "for i in tqdm(range(199001,202001,100)):\n",
    "    \n",
    "    train,val,test = data_split(i, dt)\n",
    "    x_train, y_train = pd_ret_split(train)\n",
    "    x_val, y_val = pd_ret_split(val)\n",
    "    x_test, y_test = pd_ret_split(test)\n",
    "    \n",
    "    best_valR2 = float(\"-Inf\")\n",
    "    best_pcr = None\n",
    "    \n",
    "                         \n",
    "    for K in range(5,50,10):\n",
    "        pca = PCA(n_components = K)\n",
    "        pcr = make_pipeline(StandardScaler(), pca, LinearRegression())\n",
    "        pcr.fit(x_train,y_train)\n",
    "    \n",
    "        val_pred = pcr.predict(x_val)\n",
    "        cval_R2 = R2_score(y_val, val_pred) #annual R2 score\n",
    "            \n",
    "        if(cval_R2 > best_valR2):\n",
    "            best_valR2 = cval_R2\n",
    "            best_pcr = pcr\n",
    "            best_ncom = K\n",
    "\n",
    "        \n",
    "    test_pred = best_pcr.predict(x_test)\n",
    "    testR2 = R2_score(y_test, test_pred)\n",
    "\n",
    "    ncom_list.append(best_ncom)\n",
    "    R2_list.append(testR2)"
   ]
  },
  {
   "cell_type": "code",
   "execution_count": 227,
   "id": "927e8a96",
   "metadata": {},
   "outputs": [],
   "source": [
    "ncom_list = pd.DataFrame(ncom_list) \n",
    "R2_list = pd.DataFrame(R2_list)"
   ]
  },
  {
   "cell_type": "code",
   "execution_count": 242,
   "id": "7c173956",
   "metadata": {},
   "outputs": [],
   "source": [
    "best_year=np.argmax(R2_list)\n",
    "best_k = ncom_list.iloc[best_year,0]\n",
    "best_year= 199001+best_year*100\n",
    "best_R2 = np.max(R2_list)\n",
    "best_year,best_k, best_R2\n",
    "    \n",
    "   \n",
    "    "
   ]
  },
  {
   "cell_type": "markdown",
   "id": "772e6b73",
   "metadata": {},
   "source": [
    "# Analyze variable importance of PCR"
   ]
  },
  {
   "cell_type": "markdown",
   "id": "1dc660ce",
   "metadata": {},
   "source": [
    "    From above, we attain the testing year with best R2 and best component number. Based on this PCR model, we measure each predictors's importance using the R2 reduction from setting all values of this specified predictor to zero, while hoilding the remaining model estimates fiexed."
   ]
  },
  {
   "cell_type": "code",
   "execution_count": 3,
   "id": "779d66b7",
   "metadata": {},
   "outputs": [],
   "source": [
    "var = dt.columns"
   ]
  },
  {
   "cell_type": "code",
   "execution_count": 4,
   "id": "8241683c",
   "metadata": {},
   "outputs": [],
   "source": [
    "var = var.drop(['permno','yyyymm','excess_ret'])"
   ]
  },
  {
   "cell_type": "code",
   "execution_count": null,
   "id": "9f070e7c",
   "metadata": {},
   "outputs": [],
   "source": [
    "var"
   ]
  },
  {
   "cell_type": "code",
   "execution_count": null,
   "id": "8463ec79",
   "metadata": {},
   "outputs": [],
   "source": [
    "var_result = list()\n",
    "sum = 0\n",
    "for j in tqdm(var):\n",
    "    dt_pd = dt.copy()\n",
    "    dt_pd[j]=0\n",
    "  \n",
    "        \n",
    "         \n",
    "    train,val,test = data_split(best_year, dt_pd)\n",
    "    x_train, y_train = pd_ret_split(train)\n",
    "    x_test, y_test = pd_ret_split(test)\n",
    "    #y_test = np.array(y_test)\n",
    "    #y_test = y_test.reshape(len(y_test),1)\n",
    "\n",
    "    pca = PCA(n_components = best_k)\n",
    "    pcr = make_pipeline(StandardScaler(), pca, LinearRegression())\n",
    "    pcr.fit(x_train,y_train)\n",
    "    \n",
    "    test_pred = pcr.predict(x_test)\n",
    "    testR2 = R2_score(y_test, test_pred)\n",
    "    \n",
    "  \n",
    "    Im = abs(best_R2 - testR2)\n",
    "    #Im = Im.to_numpy()\n",
    "    sum = sum +Im\n",
    "    var_result.append([j, Im])"
   ]
  },
  {
   "cell_type": "code",
   "execution_count": null,
   "id": "faced797",
   "metadata": {},
   "outputs": [],
   "source": [
    "for i in range(0,len(var_result)):\n",
    "    var_result[i][1] = var_result[i][1]/sum\n",
    "\n",
    "var_result = pd.DataFrame(var_result,columns = ['Variable','Importance'])\n",
    "\n"
   ]
  },
  {
   "cell_type": "code",
   "execution_count": null,
   "id": "db82b72e",
   "metadata": {},
   "outputs": [],
   "source": [
    "var_result = var_result.sort_values(by = 'Importance', ascending = False)\n",
    "var_result.head(20)"
   ]
  }
 ],
 "metadata": {
  "kernelspec": {
   "display_name": "Python 3 (ipykernel)",
   "language": "python",
   "name": "python3"
  },
  "language_info": {
   "codemirror_mode": {
    "name": "ipython",
    "version": 3
   },
   "file_extension": ".py",
   "mimetype": "text/x-python",
   "name": "python",
   "nbconvert_exporter": "python",
   "pygments_lexer": "ipython3",
   "version": "3.7.11"
  }
 },
 "nbformat": 4,
 "nbformat_minor": 5
}
