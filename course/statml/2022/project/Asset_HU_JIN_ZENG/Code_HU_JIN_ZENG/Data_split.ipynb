{
 "cells": [
  {
   "cell_type": "markdown",
   "id": "167fc4df",
   "metadata": {},
   "source": [
    "# Define data-split scheme and R2 score\n",
    "\n",
    "     We adopt the recursive performance evaluation scheme decribed below:\n",
    "\n",
    "     Training sample: starts from 195703 and increases by one year' s sample in every refit.\n",
    "     Validation sample: starts from 197503 and rolls forward by 1 year in every refit, keeping the size of 12 years.      \n",
    "     Testing sample: starts from 198703 and ends in 201603."
   ]
  },
  {
   "cell_type": "code",
   "execution_count": 1,
   "id": "714da859",
   "metadata": {},
   "outputs": [],
   "source": [
    "def data_split(testing_date,dt):\n",
    "    end_of_test = testing_date+100\n",
    "    end_of_val = testing_date\n",
    "    start_of_val = testing_date-1200\n",
    "    train = dt[dt[\"yyyymm\"] < start_of_val]\n",
    "    val = dt[(dt[\"yyyymm\"] >= start_of_val)&(dt[\"yyyymm\"] < end_of_val)]\n",
    "    test = dt[(dt[\"yyyymm\"] >=end_of_val)&(dt[\"yyyymm\"] <= end_of_test)]\n",
    "    return train,val,test"
   ]
  },
  {
   "cell_type": "code",
   "execution_count": 2,
   "id": "996294d9",
   "metadata": {},
   "outputs": [],
   "source": [
    "def pd_ret_split(data):\n",
    "    x = data.drop(['yyyymm','permno','excess_ret'],axis=1)\n",
    "    y = data['excess_ret']\n",
    "    return x,y"
   ]
  },
  {
   "cell_type": "code",
   "execution_count": 3,
   "id": "13a949e5",
   "metadata": {},
   "outputs": [],
   "source": [
    "\n",
    "def R2_score(y, pre):\n",
    "    r1 = ((y-pre)**2).sum()\n",
    "    r2 = (y**2).sum()\n",
    "    R_square = 1-(r1/r2)\n",
    "    return R_square"
   ]
  },
  {
   "cell_type": "code",
   "execution_count": null,
   "id": "0b9002f3",
   "metadata": {},
   "outputs": [],
   "source": [
    "# Convert .ipynb to .py, so that the above functions can be imported  in other files\n",
    "try:  \n",
    "  !jupyter nbconvert --to python Data_split.ipynb\n",
    "except:\n",
    "  pass"
   ]
  }
 ],
 "metadata": {
  "kernelspec": {
   "display_name": "Python 3 (ipykernel)",
   "language": "python",
   "name": "python3"
  },
  "language_info": {
   "codemirror_mode": {
    "name": "ipython",
    "version": 3
   },
   "file_extension": ".py",
   "mimetype": "text/x-python",
   "name": "python",
   "nbconvert_exporter": "python",
   "pygments_lexer": "ipython3",
   "version": "3.7.11"
  }
 },
 "nbformat": 4,
 "nbformat_minor": 5
}
