{
 "cells": [
  {
   "cell_type": "markdown",
   "id": "b1674c07",
   "metadata": {},
   "source": []
  },
  {
   "cell_type": "code",
   "execution_count": 1,
   "id": "eb2d8a16",
   "metadata": {},
   "outputs": [],
   "source": [
    "import pandas as pd\n",
    "import numpy as np\n",
    "from sklearn.pipeline import make_pipeline\n",
    "from sklearn.preprocessing import StandardScaler\n",
    "from sklearn.cross_decomposition import PLSRegression\n",
    "import math\n",
    "from tqdm import tqdm\n",
    "from Data_split import data_split, pd_ret_split, R2_score\n",
    "# need some extra function like data_split"
   ]
  },
  {
   "cell_type": "markdown",
   "id": "ade04f50",
   "metadata": {},
   "source": [
    "# Perform PLS to full data"
   ]
  },
  {
   "cell_type": "code",
   "execution_count": null,
   "id": "5852b526",
   "metadata": {},
   "outputs": [],
   "source": [
    "\n",
    "dt = pd.read_csv('merge_data.csv')\n",
    "ncom_list = [ ]\n",
    "R2_list = [ ]\n",
    "dt\n"
   ]
  },
  {
   "cell_type": "code",
   "execution_count": null,
   "id": "6884605d",
   "metadata": {},
   "outputs": [],
   "source": [
    "for i in tqdm(range(199001,202001,100)):\n",
    "    \n",
    "    train,val,test = data_split(i, dt)\n",
    "    x_train, y_train = pd_ret_split(train)\n",
    "    x_val, y_val = pd_ret_split(val)\n",
    "    y_val = np.array(y_val)\n",
    "    y_val = y_val.reshape(len(y_val),1)\n",
    "    x_test, y_test = pd_ret_split(test)\n",
    "    y_test = np.array(y_test)\n",
    "    y_test = y_test.reshape(len(y_test),1)\n",
    "    \n",
    "    best_valR2 = float(\"-Inf\")\n",
    "    best_pcr = None\n",
    "    \n",
    "                         \n",
    "    for K in range(5,50,10):\n",
    "        pls = PLSRegression(n_components = K)\n",
    "        pls_norm = make_pipeline(StandardScaler(), pls)\n",
    "        pls_norm.fit(x_train,y_train)\n",
    "    \n",
    "        val_pred = pls_norm.predict(x_val)\n",
    "        cval_R2 = R2_score(y_val, val_pred) #annual R2 score\n",
    "            \n",
    "        if(cval_R2 > best_valR2):\n",
    "            best_valR2 = cval_R2\n",
    "            best_pls_norm = pls_norm\n",
    "            best_ncom = K\n",
    "\n",
    "        \n",
    "    test_pred = best_pls_norm.predict(x_test)\n",
    "    testR2 = R2_score(y_test, test_pred)\n",
    "\n",
    "    ncom_list.append(best_ncom)\n",
    "    R2_list.append(testR2)"
   ]
  },
  {
   "cell_type": "code",
   "execution_count": 4,
   "id": "48a42f42",
   "metadata": {},
   "outputs": [],
   "source": [
    "ncom_list = pd.DataFrame(ncom_list) \n",
    "R2_list = pd.DataFrame(R2_list)"
   ]
  },
  {
   "cell_type": "code",
   "execution_count": null,
   "id": "bd2c4d58",
   "metadata": {},
   "outputs": [],
   "source": [
    "ncom_list, R2_list"
   ]
  },
  {
   "cell_type": "code",
   "execution_count": null,
   "id": "251e230d",
   "metadata": {},
   "outputs": [],
   "source": [
    "R2_PLS=R2_list.mean(axis=0)\n",
    "\n",
    "\n"
   ]
  },
  {
   "cell_type": "code",
   "execution_count": null,
   "id": "4046b20c",
   "metadata": {},
   "outputs": [],
   "source": [
    "best_year=np.argmax(R2_list)\n",
    "best_k = ncom_list.iloc[best_year,0]\n",
    "best_year= 199001+best_year*100\n",
    "best_R2 = np.max(R2_list)\n",
    "best_year,best_k, best_R2"
   ]
  },
  {
   "cell_type": "markdown",
   "id": "b277a0f0",
   "metadata": {},
   "source": [
    "# Analyze variable importance of PLS"
   ]
  },
  {
   "cell_type": "markdown",
   "id": "0dd0e34f",
   "metadata": {},
   "source": [
    "    From above, we attain the testing year with best R2 and best component number. Based on this PLS model, we measure each predictors's importance using the R2 reduction from setting all values of this specified predictor to zero, while hoilding the remaining model estimates fiexed."
   ]
  },
  {
   "cell_type": "code",
   "execution_count": 8,
   "id": "3d4cf380",
   "metadata": {},
   "outputs": [],
   "source": [
    "var = dt.columns"
   ]
  },
  {
   "cell_type": "code",
   "execution_count": 9,
   "id": "c0621455",
   "metadata": {},
   "outputs": [],
   "source": [
    "var = var.drop(['permno','yyyymm','excess_ret'])\n",
    "var"
   ]
  },
  {
   "cell_type": "code",
   "execution_count": null,
   "id": "64593bd4",
   "metadata": {},
   "outputs": [],
   "source": [
    "dt_pd = dt.copy()\n",
    "dt_pd1 = dt_pd.drop(var[0],axis = 1)\n",
    "dt_pd.var[0] = 0\n"
   ]
  },
  {
   "cell_type": "code",
   "execution_count": null,
   "id": "5c42ff46",
   "metadata": {},
   "outputs": [],
   "source": [
    "var_result = list()\n",
    "sum = 0\n",
    "for j in tqdm(var):\n",
    "    dt_pd = dt.copy()\n",
    "    dt_pd[j]=0\n",
    "\n",
    "        \n",
    "         \n",
    "    train,val,test = data_split(best_year, dt_pd)\n",
    "    x_train, y_train = pd_ret_split(train)\n",
    "    x_test, y_test = pd_ret_split(test)\n",
    "    y_test = np.array(y_test)\n",
    "    y_test = y_test.reshape(len(y_test),1)\n",
    "\n",
    "    pls = PLSRegression(n_components = best_k)\n",
    "    pls_norm = make_pipeline(StandardScaler(), pls)\n",
    "    pls_norm.fit(x_train,y_train)\n",
    "    \n",
    "    test_pred = pls_norm.predict(x_test)\n",
    "    testR2 = R2_score(y_test, test_pred)\n",
    "    Im = abs(best_R2 - testR2)\n",
    "    Im = Im.to_numpy()\n",
    "    sum = sum +Im\n",
    "    var_result.append([j, Im])\n",
    "   \n",
    "\n"
   ]
  },
  {
   "cell_type": "code",
   "execution_count": null,
   "id": "b3ef0616",
   "metadata": {},
   "outputs": [],
   "source": [
    "for i in range(0,len(var_result)):\n",
    "    var_result[i][1] = var_result[i][1]/sum\n",
    "\n",
    "var_result = pd.DataFrame(var_result,columns = ['Variable','Importance'])\n",
    "var_result.sort_values(by = 'Importance', ascending = False)\n"
   ]
  },
  {
   "cell_type": "code",
   "execution_count": null,
   "id": "4233b34c",
   "metadata": {},
   "outputs": [],
   "source": [
    "var_result.head(20)"
   ]
  }
 ],
 "metadata": {
  "kernelspec": {
   "display_name": "Python 3 (ipykernel)",
   "language": "python",
   "name": "python3"
  },
  "language_info": {
   "codemirror_mode": {
    "name": "ipython",
    "version": 3
   },
   "file_extension": ".py",
   "mimetype": "text/x-python",
   "name": "python",
   "nbconvert_exporter": "python",
   "pygments_lexer": "ipython3",
   "version": "3.7.11"
  }
 },
 "nbformat": 4,
 "nbformat_minor": 5
}
