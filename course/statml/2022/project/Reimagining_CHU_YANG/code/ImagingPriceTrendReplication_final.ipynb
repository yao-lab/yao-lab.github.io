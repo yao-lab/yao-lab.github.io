{
 "cells": [
  {
   "cell_type": "markdown",
   "id": "a33192e7-9a20-4bdf-91b0-ebd51f9ca114",
   "metadata": {},
   "source": [
    "# Paper Replication: (Re-)Imag(in)ing Price Trends"
   ]
  },
  {
   "cell_type": "code",
   "execution_count": 16,
   "id": "7f077471-601a-435b-9bbc-fa7f6e6f8ab6",
   "metadata": {},
   "outputs": [],
   "source": [
    "# import libraries\n",
    "import torch\n",
    "import numpy as np\n",
    "import matplotlib.pyplot as plt"
   ]
  },
  {
   "cell_type": "markdown",
   "id": "de217ffe-234f-45bd-9c5b-503bf448cfbf",
   "metadata": {
    "tags": []
   },
   "source": [
    "### Load and Batch the Data\n",
    "1. Load the 20-day OHLC images data (with Moving average Line, Volume bars) provided by Yuan Yao.\n",
    "2. Divide the sample into training (79%), validation (30%) from 1993-2000 and test samples from 2001-2019. \n",
    "\n"
   ]
  },
  {
   "cell_type": "code",
   "execution_count": 17,
   "id": "300df6e8-a56a-41d0-aa88-755af7a1e1f5",
   "metadata": {},
   "outputs": [],
   "source": [
    "import pandas as pd\n",
    "import numpy as np\n",
    "import os.path as op\n",
    "import torch\n",
    "IMAGE_WIDTH = {5: 15, 20: 60, 60: 180}\n",
    "IMAGE_HEIGHT = {5: 32, 20: 64, 60: 96}\n",
    "\n",
    "class ImageDataset(torch.utils.data.Dataset):\n",
    "    \"\"\"\n",
    "    ImageDataset inherit troch.utils.data, it requires __init__(), __getitem__(), __len__()\n",
    "    It can achieve the goal that combine two tensor data to tensor dataset\n",
    "    You can use index to get the data from the datasets, and len to get the size of the datasets\n",
    "    \"\"\"\n",
    "    \n",
    "    def __init__(self, image, label):\n",
    "        self.image = image\n",
    "        self.label = label\n",
    "        \n",
    "    def __getitem__(self, index):\n",
    "        return self.image[index], self.label[index]\n",
    "    \n",
    "    def __len__(self):\n",
    "        return self.image.size(0)\n",
    "    \n",
    "\n",
    "# Loading and appending datasets\n",
    "datasets = []\n",
    "label_df_list=[] #store label dataframes\n",
    "\n",
    "for year in range(1993, 2020):\n",
    "    images = np.memmap(op.join(\"../Data/img_data_yao/monthly_20d\", f\"20d_month_has_vb_[20]_ma_{year}_images.dat\"), dtype=np.uint8, mode='r').reshape(\n",
    "                        (-1, 1, IMAGE_HEIGHT[20], IMAGE_WIDTH[20]))\n",
    "    label_df = pd.read_feather(op.join(\"../Data/img_data_yao/monthly_20d\", f\"20d_month_has_vb_[20]_ma_{year}_labels_w_delay.feather\"))\n",
    "    \n",
    "    #select label and keep nomissing label observations\n",
    "    label = label_df[\"Retx_20d_label\"]\n",
    "    label_df_new = label_df.loc[label<2,:] #select all the labels after dropping missing future re\n",
    "    images = images[label<2]\n",
    "    label = label[label<2]\n",
    "    \n",
    "    #conver to tensor\n",
    "    images_tensor = torch.from_numpy(images)\n",
    "    label_tensor = torch.tensor(label.values)\n",
    "    \n",
    "    images_tensor = images_tensor.float()\n",
    "    label_tensor = label_tensor.long()\n",
    "    data = ImageDataset(images_tensor, label_tensor)\n",
    "    \n",
    "    # append results\n",
    "    datasets.append(data)\n",
    "    label_df_list.append(label_df_new)\n",
    "\n",
    "# divide sample into two parts\n",
    "train_set=torch.utils.data.ConcatDataset(datasets[:8]) #first seven years as training set \n",
    "test_set=torch.utils.data.ConcatDataset(datasets[8:]) #the rest as test set\n",
    "test_label_df=pd.concat(label_df_list[8:]) #for merging the signal back"
   ]
  },
  {
   "cell_type": "code",
   "execution_count": 18,
   "id": "58881ad0-1dff-49ed-b99d-72d2d474e6e5",
   "metadata": {},
   "outputs": [],
   "source": [
    "### Load and Batch the Data\n",
    "from torchvision import datasets\n",
    "import torchvision.transforms as transforms\n",
    "from torch.utils.data.sampler import SubsetRandomSampler\n",
    "\n",
    "def create_datasets(batch_size, train_set, test_set):\n",
    "\n",
    "    # percentage of training set to use as validation\n",
    "    valid_size = 0.3\n",
    "\n",
    "    # convert data to torch.FloatTensor\n",
    "    transform = transforms.ToTensor()\n",
    "\n",
    "    # choose the training and test datasets\n",
    "    train_data = train_set\n",
    "\n",
    "    test_data = test_set\n",
    "\n",
    "    # obtain training indices that will be used for validation\n",
    "    num_train = len(train_data)\n",
    "    indices = list(range(num_train))\n",
    "    np.random.shuffle(indices)\n",
    "    split = int(np.floor(valid_size * num_train))\n",
    "    train_idx, valid_idx = indices[split:], indices[:split]\n",
    "    \n",
    "    # define samplers for obtaining training and validation batches\n",
    "    train_sampler = SubsetRandomSampler(train_idx)\n",
    "    valid_sampler = SubsetRandomSampler(valid_idx)\n",
    "    \n",
    "    # load training data in batches\n",
    "    train_loader = torch.utils.data.DataLoader(train_data,\n",
    "                                               batch_size=batch_size,\n",
    "                                               sampler=train_sampler,\n",
    "                                               num_workers=0)\n",
    "    \n",
    "    # load validation data in batches\n",
    "    valid_loader = torch.utils.data.DataLoader(train_data,\n",
    "                                               batch_size=batch_size,\n",
    "                                               sampler=valid_sampler,\n",
    "                                               num_workers=0)\n",
    "    \n",
    "    # load test data in batches\n",
    "    test_loader = torch.utils.data.DataLoader(test_data,\n",
    "                                              batch_size=batch_size,\n",
    "                                              num_workers=0)\n",
    "    \n",
    "    return train_loader, test_loader, valid_loader\n"
   ]
  },
  {
   "cell_type": "markdown",
   "id": "2689ed89-4c89-4483-93a9-332337521c81",
   "metadata": {},
   "source": [
    "### Define the Network\n",
    "- 5 $\\times$ 3 convolutional filter and 2 $\\times$ 1 max-pooling filters.\n",
    "- use the same filter sizes in all layers\n",
    "- use horizontal and vertical strides of 1 and vertical dilation rates of 2 for 20-day images, only on the first layer because raw images are sparse.\n",
    "- use 3 blocks for 20-day images\n",
    "- increase the number of filters after each convolutional layer by a factor of two (64, 128, 256)\n",
    "- fully connected layers have 46080 neurons 20-day models\n",
    "- total number of parameters are 708866 for 20-day"
   ]
  },
  {
   "cell_type": "code",
   "execution_count": 19,
   "id": "1b61ff99-19b9-4e32-976a-71357cb45b6f",
   "metadata": {},
   "outputs": [
    {
     "name": "stdout",
     "output_type": "stream",
     "text": [
      "Net(\n",
      "  (conv1): Conv2d(1, 64, kernel_size=(5, 3), stride=(1, 1), padding=(0, 1), dilation=(4, 1))\n",
      "  (norm1): BatchNorm2d(64, eps=1e-05, momentum=0.1, affine=True, track_running_stats=True)\n",
      "  (relu1): LeakyReLU(negative_slope=0.01)\n",
      "  (pool1): MaxPool2d(kernel_size=(2, 1), stride=(2, 1), padding=0, dilation=1, ceil_mode=False)\n",
      "  (conv2): Conv2d(64, 128, kernel_size=(5, 3), stride=(1, 1), padding=(0, 1))\n",
      "  (norm2): BatchNorm2d(128, eps=1e-05, momentum=0.1, affine=True, track_running_stats=True)\n",
      "  (relu2): LeakyReLU(negative_slope=0.01)\n",
      "  (pool2): MaxPool2d(kernel_size=(2, 1), stride=(2, 1), padding=0, dilation=1, ceil_mode=False)\n",
      "  (conv3): Conv2d(128, 256, kernel_size=(5, 3), stride=(1, 1), padding=(0, 1))\n",
      "  (norm3): BatchNorm2d(256, eps=1e-05, momentum=0.1, affine=True, track_running_stats=True)\n",
      "  (relu3): LeakyReLU(negative_slope=0.01)\n",
      "  (pool3): MaxPool2d(kernel_size=(2, 1), stride=(2, 1), padding=0, dilation=1, ceil_mode=False)\n",
      "  (fc): Linear(in_features=46080, out_features=2, bias=True)\n",
      "  (drop): Dropout(p=0.5, inplace=False)\n",
      "  (classifier): Softmax(dim=-1)\n",
      ")\n"
     ]
    }
   ],
   "source": [
    "# CZ\n",
    "from torch import nn\n",
    "\n",
    "class Net(nn.Module):\n",
    "    def __init__(self):\n",
    "        super(Net, self).__init__()\n",
    "        #block1\n",
    "        self.conv1 = nn.Conv2d(in_channels=1, out_channels=64, kernel_size=(5,3), stride=(1,1), dilation = (4,1), padding = (0,1))\n",
    "        nn.init.xavier_uniform_(self.conv1.weight)\n",
    "        self.norm1 = nn.BatchNorm2d(64)\n",
    "        self.relu1 = nn.LeakyReLU(0.01)\n",
    "        self.pool1 = nn.MaxPool2d(kernel_size  = (2, 1), stride=(2,1))\n",
    "        #block2\n",
    "        self.conv2 = nn.Conv2d(in_channels=64, out_channels=128, kernel_size=(5,3), stride=(1,1), dilation = (1,1),padding = (0,1))\n",
    "        nn.init.xavier_uniform_(self.conv2.weight)\n",
    "        self.norm2 = nn.BatchNorm2d(128)\n",
    "        self.relu2 = nn.LeakyReLU(0.01)\n",
    "        self.pool2 = nn.MaxPool2d(kernel_size  = (2, 1), stride=(2,1))\n",
    "        #block3\n",
    "        self.conv3 = nn.Conv2d(in_channels=128, out_channels=256, kernel_size=(5,3), stride=(1,1), dilation = (1,1),padding = (0,1))\n",
    "        nn.init.xavier_uniform_(self.conv3.weight)\n",
    "        self.norm3 = nn.BatchNorm2d(256)\n",
    "        self.relu3 = nn.LeakyReLU(0.01)\n",
    "        self.pool3 = nn.MaxPool2d(kernel_size  = (2, 1), stride=(2,1))\n",
    "        \n",
    "        self.fc = nn.Linear(256*3*60, 2)\n",
    "        self.drop = nn.Dropout(p=0.5)\n",
    "        \n",
    "        self.classifier = nn.Softmax(dim=-1)\n",
    "\n",
    "    def forward(self, x):\n",
    "        y = self.conv1(x)\n",
    "        y = self.norm1(y)\n",
    "        y = self.relu1(y)\n",
    "        y = self.pool1(y)\n",
    "        y = self.conv2(y)\n",
    "        y = self.norm2(y)\n",
    "        y = self.relu2(y)\n",
    "        y = self.pool2(y)\n",
    "        y = self.conv3(y)\n",
    "        y = self.norm3(y)\n",
    "        y = self.relu3(y)\n",
    "        y = self.pool3(y)\n",
    "        y = y.view(y.shape[0], -1)\n",
    "        y = self.fc(y)\n",
    "        y = self.drop(y)\n",
    "        y = self.classifier(y)\n",
    "        return y\n",
    "\n",
    "# initialize the NN\n",
    "model = Net()\n",
    "print(model)"
   ]
  },
  {
   "cell_type": "code",
   "execution_count": 20,
   "id": "f2a14b52-1368-452f-976e-5f09e6ff8ab1",
   "metadata": {},
   "outputs": [
    {
     "name": "stdout",
     "output_type": "stream",
     "text": [
      "cuda\n",
      "----------------------------------------------------------------\n",
      "        Layer (type)               Output Shape         Param #\n",
      "================================================================\n",
      "            Conv2d-1           [-1, 64, 48, 60]           1,024\n",
      "       BatchNorm2d-2           [-1, 64, 48, 60]             128\n",
      "         LeakyReLU-3           [-1, 64, 48, 60]               0\n",
      "         MaxPool2d-4           [-1, 64, 24, 60]               0\n",
      "            Conv2d-5          [-1, 128, 20, 60]         123,008\n",
      "       BatchNorm2d-6          [-1, 128, 20, 60]             256\n",
      "         LeakyReLU-7          [-1, 128, 20, 60]               0\n",
      "         MaxPool2d-8          [-1, 128, 10, 60]               0\n",
      "            Conv2d-9           [-1, 256, 6, 60]         491,776\n",
      "      BatchNorm2d-10           [-1, 256, 6, 60]             512\n",
      "        LeakyReLU-11           [-1, 256, 6, 60]               0\n",
      "        MaxPool2d-12           [-1, 256, 3, 60]               0\n",
      "           Linear-13                    [-1, 2]          92,162\n",
      "          Dropout-14                    [-1, 2]               0\n",
      "          Softmax-15                    [-1, 2]               0\n",
      "================================================================\n",
      "Total params: 708,866\n",
      "Trainable params: 708,866\n",
      "Non-trainable params: 0\n",
      "----------------------------------------------------------------\n",
      "Input size (MB): 0.01\n",
      "Forward/backward pass size (MB): 11.48\n",
      "Params size (MB): 2.70\n",
      "Estimated Total Size (MB): 14.20\n",
      "----------------------------------------------------------------\n"
     ]
    }
   ],
   "source": [
    "# use GPU to train the model if possible\n",
    "import os\n",
    "from torchsummary import summary\n",
    "\n",
    "use_gpu = torch.cuda.is_available()\n",
    "# use_gpu = False\n",
    "os.environ[\"CUDA_VISIBLE_DEVICES\"] = \"1\"\n",
    "device = torch.device(\"cuda\" if use_gpu else \"cpu\")\n",
    "if use_gpu:\n",
    "    model = model.cuda()\n",
    "    \n",
    "# summarize the model and training methods\n",
    "print(device)\n",
    "summary(model, input_size=(1, 64, 60), device=\"cuda\" if use_gpu else \"cpu\") "
   ]
  },
  {
   "cell_type": "markdown",
   "id": "e2f49c08-2667-4250-920f-157c6edf4dbf",
   "metadata": {},
   "source": [
    "### Specify Loss Function and Optimizer"
   ]
  },
  {
   "cell_type": "code",
   "execution_count": 21,
   "id": "0932b056-0e1a-47bc-831c-3d38e6fa2218",
   "metadata": {},
   "outputs": [],
   "source": [
    "# specify loss function\n",
    "criterion = nn.CrossEntropyLoss()\n",
    "\n",
    "# specify optimizer\n",
    "learning_rate = 1e-6\n",
    "#optimizer = optim.SGD(model.parameters(), lr=learning_rate) #SGD\n",
    "optimizer = torch.optim.Adam(model.parameters(), lr=learning_rate)\n",
    "\n",
    "import torch.optim as optim"
   ]
  },
  {
   "cell_type": "markdown",
   "id": "beb2f0c5-b97a-44e2-aba7-9f48ae653ce2",
   "metadata": {},
   "source": [
    "### Import the Early Stopping Class"
   ]
  },
  {
   "cell_type": "code",
   "execution_count": 22,
   "id": "86813628-6ac5-4e16-a021-a2fbcda64bf0",
   "metadata": {},
   "outputs": [],
   "source": [
    "# import EarlyStopping\n",
    "class EarlyStopping:\n",
    "    \"\"\"Early stops the training if validation loss doesn't improve after a given patience.\"\"\"\n",
    "    def __init__(self, patience=7, verbose=False, delta=0, path='checkpoint.pt', trace_func=print):\n",
    "        \"\"\"\n",
    "        Args:\n",
    "            patience (int): How long to wait after last time validation loss improved.\n",
    "                            Default: 7\n",
    "            verbose (bool): If True, prints a message for each validation loss improvement. \n",
    "                            Default: False\n",
    "            delta (float): Minimum change in the monitored quantity to qualify as an improvement.\n",
    "                            Default: 0\n",
    "            path (str): Path for the checkpoint to be saved to.\n",
    "                            Default: 'checkpoint.pt'\n",
    "            trace_func (function): trace print function.\n",
    "                            Default: print            \n",
    "        \"\"\"\n",
    "        self.patience = patience\n",
    "        self.verbose = verbose\n",
    "        self.counter = 0\n",
    "        self.best_score = None\n",
    "        self.early_stop = False\n",
    "        self.val_loss_min = np.Inf\n",
    "        self.delta = delta\n",
    "        self.path = path\n",
    "        self.trace_func = trace_func\n",
    "    def __call__(self, val_loss, model):\n",
    "\n",
    "        score = -val_loss\n",
    "\n",
    "        if self.best_score is None:\n",
    "            self.best_score = score\n",
    "            self.save_checkpoint(val_loss, model)\n",
    "        elif score < self.best_score + self.delta:\n",
    "            self.counter += 1\n",
    "            self.trace_func(f'EarlyStopping counter: {self.counter} out of {self.patience}')\n",
    "            if self.counter >= self.patience:\n",
    "                self.early_stop = True\n",
    "        else:\n",
    "            self.best_score = score\n",
    "            self.save_checkpoint(val_loss, model)\n",
    "            self.counter = 0\n",
    "\n",
    "    def save_checkpoint(self, val_loss, model):\n",
    "        '''Saves model when validation loss decrease.'''\n",
    "        if self.verbose:\n",
    "            self.trace_func(f'Validation loss decreased ({self.val_loss_min:.6f} --> {val_loss:.6f}).  Saving model ...')\n",
    "        torch.save(model.state_dict(), self.path)\n",
    "        self.val_loss_min = val_loss"
   ]
  },
  {
   "cell_type": "markdown",
   "id": "4149f03a-0678-414c-acd5-66c7614584f4",
   "metadata": {},
   "source": [
    "### Train the Model using Early Stopping"
   ]
  },
  {
   "cell_type": "code",
   "execution_count": 23,
   "id": "6bb3b9e8-2c1d-4e82-91c1-566180174c22",
   "metadata": {},
   "outputs": [],
   "source": [
    "import time\n",
    "\n",
    "def train_model(model, batch_size, patience, n_epochs, device):\n",
    "    since = time.time()\n",
    "    # to track the training loss as the model trains\n",
    "    train_losses = []\n",
    "    # to track the validation loss as the model trains\n",
    "    valid_losses = []\n",
    "    # to track the average training loss per epoch as the model trains\n",
    "    avg_train_losses = []\n",
    "    # to track the average validation loss per epoch as the model trains\n",
    "    avg_valid_losses = [] \n",
    "    \n",
    "    # initialize the early_stopping objectAA\n",
    "    early_stopping = EarlyStopping(patience=patience, verbose=True)\n",
    "    \n",
    "    for epoch in range(1, n_epochs + 1):\n",
    "\n",
    "        ###################\n",
    "        # train the model #\n",
    "        ###################\n",
    "        model.train() # prep model for training\n",
    "        for batch, (data, target) in enumerate(train_loader, 1):\n",
    "            # send your input tensors to the CPU/GPU\n",
    "            if use_gpu:\n",
    "                    data = data.cuda()\n",
    "                    target = target.cuda()\n",
    "            # clear the gradients of all optimized variables\n",
    "            optimizer.zero_grad()\n",
    "            # forward pass: compute predicted outputs by passing inputs to the model\n",
    "            output = model(data)\n",
    "            # calculate the loss\n",
    "            loss = criterion(output, target)\n",
    "            # backward pass: compute gradient of the loss with respect to model parameters\n",
    "            loss.backward()\n",
    "            # perform a single optimization step (parameter update)\n",
    "            optimizer.step()\n",
    "            # record training loss\n",
    "            train_losses.append(loss.item())\n",
    "\n",
    "        ######################    \n",
    "        # validate the model #\n",
    "        ######################\n",
    "        model.eval() # prep model for evaluation\n",
    "        for data, target in valid_loader:\n",
    "            # send your input tensors to the CPU/GPU\n",
    "            if use_gpu:\n",
    "                    data = data.cuda()\n",
    "                    target = target.cuda()\n",
    "            # forward pass: compute predicted outputs by passing inputs to the model\n",
    "            output = model(data)\n",
    "            # calculate the loss\n",
    "            loss = criterion(output, target)\n",
    "            # record validation loss\n",
    "            valid_losses.append(loss.item())\n",
    "\n",
    "        # print training/validation statistics \n",
    "        # calculate average loss over an epoch\n",
    "        train_loss = np.average(train_losses)\n",
    "        valid_loss = np.average(valid_losses)\n",
    "        avg_train_losses.append(train_loss)\n",
    "        avg_valid_losses.append(valid_loss)\n",
    "        \n",
    "        epoch_len = len(str(n_epochs))\n",
    "        \n",
    "        print_msg = (f'[{epoch:>{epoch_len}}/{n_epochs:>{epoch_len}}] ' +\n",
    "                     f'train_loss: {train_loss:.5f} ' +\n",
    "                     f'valid_loss: {valid_loss:.5f}')\n",
    "        \n",
    "        print(print_msg)\n",
    "        \n",
    "        # clear lists to track next epoch\n",
    "        train_losses = []\n",
    "        valid_losses = []\n",
    "        \n",
    "        # early_stopping needs the validation loss to check if it has decresed, \n",
    "        # and if it has, it will make a checkpoint of the current model\n",
    "        early_stopping(valid_loss, model)\n",
    "        \n",
    "        if early_stopping.early_stop:\n",
    "            print(\"Early stopping\")\n",
    "            break\n",
    "        \n",
    "    # load the last checkpoint with the best model\n",
    "    model.load_state_dict(torch.load('checkpoint.pt'))\n",
    "    \n",
    "    # report the time on training\n",
    "    time_elapsed = time.time() - since\n",
    "    print(f'Training complete in {time_elapsed // 60:.0f}m {time_elapsed % 60:.0f}s'\n",
    "    )\n",
    "    \n",
    "    return  model, avg_train_losses, avg_valid_losses"
   ]
  },
  {
   "cell_type": "code",
   "execution_count": 25,
   "id": "e2be38f5-bd54-4e16-b1bb-9bd732f26ad8",
   "metadata": {},
   "outputs": [],
   "source": [
    "batch_size = 128\n",
    "n_epochs = 30\n",
    "# early stopping patience; how long to wait after last time validation loss improved.\n",
    "patience = 2\n",
    "train_loader, test_loader, valid_loader = create_datasets(batch_size, train_set, test_set)"
   ]
  },
  {
   "cell_type": "code",
   "execution_count": 9,
   "id": "c8c0efa7-09e9-4da8-be09-35500d7930ea",
   "metadata": {},
   "outputs": [
    {
     "name": "stdout",
     "output_type": "stream",
     "text": [
      "[ 1/30] train_loss: 0.69974 valid_loss: 0.69462\n",
      "Validation loss decreased (inf --> 0.694624).  Saving model ...\n",
      "[ 2/30] train_loss: 0.69640 valid_loss: 0.69384\n",
      "Validation loss decreased (0.694624 --> 0.693839).  Saving model ...\n",
      "[ 3/30] train_loss: 0.69479 valid_loss: 0.69270\n",
      "Validation loss decreased (0.693839 --> 0.692704).  Saving model ...\n",
      "[ 4/30] train_loss: 0.69379 valid_loss: 0.69203\n",
      "Validation loss decreased (0.692704 --> 0.692032).  Saving model ...\n",
      "[ 5/30] train_loss: 0.69271 valid_loss: 0.69165\n",
      "Validation loss decreased (0.692032 --> 0.691651).  Saving model ...\n",
      "[ 6/30] train_loss: 0.69183 valid_loss: 0.69131\n",
      "Validation loss decreased (0.691651 --> 0.691309).  Saving model ...\n",
      "[ 7/30] train_loss: 0.69130 valid_loss: 0.69105\n",
      "Validation loss decreased (0.691309 --> 0.691054).  Saving model ...\n",
      "[ 8/30] train_loss: 0.69041 valid_loss: 0.69074\n",
      "Validation loss decreased (0.691054 --> 0.690741).  Saving model ...\n",
      "[ 9/30] train_loss: 0.68997 valid_loss: 0.69073\n",
      "Validation loss decreased (0.690741 --> 0.690730).  Saving model ...\n",
      "[10/30] train_loss: 0.68956 valid_loss: 0.69037\n",
      "Validation loss decreased (0.690730 --> 0.690369).  Saving model ...\n",
      "[11/30] train_loss: 0.68895 valid_loss: 0.69038\n",
      "EarlyStopping counter: 1 out of 2\n",
      "[12/30] train_loss: 0.68862 valid_loss: 0.69020\n",
      "Validation loss decreased (0.690369 --> 0.690204).  Saving model ...\n",
      "[13/30] train_loss: 0.68784 valid_loss: 0.68987\n",
      "Validation loss decreased (0.690204 --> 0.689868).  Saving model ...\n",
      "[14/30] train_loss: 0.68760 valid_loss: 0.68994\n",
      "EarlyStopping counter: 1 out of 2\n",
      "[15/30] train_loss: 0.68704 valid_loss: 0.68959\n",
      "Validation loss decreased (0.689868 --> 0.689594).  Saving model ...\n",
      "[16/30] train_loss: 0.68668 valid_loss: 0.68961\n",
      "EarlyStopping counter: 1 out of 2\n",
      "[17/30] train_loss: 0.68628 valid_loss: 0.68945\n",
      "Validation loss decreased (0.689594 --> 0.689450).  Saving model ...\n",
      "[18/30] train_loss: 0.68599 valid_loss: 0.68982\n",
      "EarlyStopping counter: 1 out of 2\n",
      "[19/30] train_loss: 0.68521 valid_loss: 0.68972\n",
      "EarlyStopping counter: 2 out of 2\n",
      "Early stopping\n",
      "Training complete in 77m 58s\n"
     ]
    }
   ],
   "source": [
    "model, train_loss, valid_loss = train_model(model, batch_size, patience, n_epochs, device)"
   ]
  },
  {
   "cell_type": "code",
   "execution_count": 14,
   "id": "6f47571e-eb26-47fd-83d8-6bb06c557a14",
   "metadata": {},
   "outputs": [],
   "source": [
    "#save trained model\n",
    "path = './ImageModel_cz.pt'\n",
    "torch.save(model.state_dict(), path)"
   ]
  },
  {
   "cell_type": "markdown",
   "id": "d73d2a25-7fc5-4712-997d-486339d3be47",
   "metadata": {},
   "source": [
    "### Visualizing the Loss and the Early Stopping Checkpoint\n",
    "From the plot we can see that the last Early Stopping Checkpoint was saved right before the model started to overfit."
   ]
  },
  {
   "cell_type": "code",
   "execution_count": 10,
   "id": "2e0585d7-f1a9-4079-b3f6-dd3cebddb52f",
   "metadata": {},
   "outputs": [
    {
     "data": {
      "image/png": "[encoded data removed]",
      "text/plain": [
       "<Figure size 720x576 with 1 Axes>"
      ]
     },
     "metadata": {
      "needs_background": "light"
     },
     "output_type": "display_data"
    }
   ],
   "source": [
    "# visualize the loss as the network trained\n",
    "fig = plt.figure(figsize=(10,8))\n",
    "plt.plot(range(1,len(train_loss)+1),train_loss, label='Training Loss')\n",
    "plt.plot(range(1,len(valid_loss)+1),valid_loss,label='Validation Loss')\n",
    "\n",
    "# find position of lowest validation loss\n",
    "minposs = valid_loss.index(min(valid_loss))+1 \n",
    "plt.axvline(minposs, linestyle='--', color='r',label='Early Stopping Checkpoint')\n",
    "\n",
    "plt.xlabel('epochs')\n",
    "plt.ylabel('loss')\n",
    "# plt.ylim(0, 1) # consistent scale\n",
    "plt.xlim(0, len(train_loss)+1) # consistent scale\n",
    "plt.grid(True)\n",
    "plt.legend()\n",
    "plt.tight_layout()\n",
    "plt.show()\n",
    "fig.savefig('loss_plot.png', bbox_inches='tight')"
   ]
  },
  {
   "cell_type": "markdown",
   "id": "c417d039-01fd-4b1c-b0fb-d7fee625b8e3",
   "metadata": {},
   "source": [
    "### Test the Trained Network"
   ]
  },
  {
   "cell_type": "code",
   "execution_count": 26,
   "id": "6d91913d-cc7d-4f92-b7f0-1726ef880391",
   "metadata": {},
   "outputs": [],
   "source": [
    "#load model parameter\n",
    "path = './ImageModel_cz.pt'\n",
    "model = model\n",
    "\n",
    "if use_gpu:\n",
    "    model.load_state_dict(torch.load(path))\n",
    "    model = model.cuda()\n",
    "else:\n",
    "    model.load_state_dict(torch.load(path, map_location=torch.device('cpu')))"
   ]
  },
  {
   "cell_type": "code",
   "execution_count": 30,
   "id": "369f0754-87a4-45ab-82f8-2d831c58ce6b",
   "metadata": {},
   "outputs": [
    {
     "name": "stdout",
     "output_type": "stream",
     "text": [
      "Test Loss: 0.693488\n",
      "\n",
      "Test Accuracy of     0: 57% (395447/685365)\n",
      "Test Accuracy of     1: 46% (327351/709323)\n",
      "\n",
      "Test Accuracy (Overall): 51% (722798/1394688)\n",
      "Testing complete in 7m 6s\n"
     ]
    }
   ],
   "source": [
    "since = time.time()\n",
    "\n",
    "# initialize lists to monitor test loss and accuracy\n",
    "test_loss = 0.0\n",
    "class_correct = list(0. for i in range(2))\n",
    "class_total = list(0. for i in range(2))\n",
    "\n",
    "model.eval() # prep model for evaluation\n",
    "\n",
    "for data, target in test_loader:\n",
    "    if len(target.data) != batch_size:\n",
    "        break\n",
    "    # send your input tensors to the CPU/GPU\n",
    "    if use_gpu:\n",
    "            data = data.cuda()\n",
    "            target = target.cuda()\n",
    "    # forward pass: compute predicted outputs by passing inputs to the model\n",
    "    output = model(data)\n",
    "    # calculate the loss\n",
    "    loss = criterion(output, target)\n",
    "    # update test loss \n",
    "    test_loss += loss.item()*data.size(0)\n",
    "    # convert output probabilities to predicted class\n",
    "    _, pred = torch.max(output, 1)\n",
    "    \n",
    "    # compare predictions to true label\n",
    "    correct = np.squeeze(pred.eq(target.data.view_as(pred)))\n",
    "    # calculate test accuracy for each object class\n",
    "    for i in range(batch_size):\n",
    "        label = target.data[i]\n",
    "        class_correct[label] += correct[i].item()\n",
    "        class_total[label] += 1\n",
    "\n",
    "# calculate and print avg test loss\n",
    "test_loss = test_loss/len(test_loader.dataset)\n",
    "print('Test Loss: {:.6f}\\n'.format(test_loss))\n",
    "\n",
    "for i in range(2):\n",
    "    if class_total[i] > 0:\n",
    "        print('Test Accuracy of %5s: %2d%% (%2d/%2d)' % (\n",
    "            str(i), 100 * class_correct[i] / class_total[i],\n",
    "            np.sum(class_correct[i]), np.sum(class_total[i])))\n",
    "    else:\n",
    "        print('Test Accuracy of %5s: N/A (no training examples)' % (class_total[i]))\n",
    "\n",
    "print('\\nTest Accuracy (Overall): %2d%% (%2d/%2d)' % (\n",
    "    100. * np.sum(class_correct) / np.sum(class_total),\n",
    "    np.sum(class_correct), np.sum(class_total)))\n",
    "\n",
    "time_elapsed = time.time() - since\n",
    "print(f'Testing complete in {time_elapsed // 60:.0f}m {time_elapsed % 60:.0f}s')"
   ]
  },
  {
   "cell_type": "code",
   "execution_count": 31,
   "id": "71447fc9-24e1-4cd9-a6d6-c6ff0ce1f596",
   "metadata": {},
   "outputs": [
    {
     "name": "stdout",
     "output_type": "stream",
     "text": [
      "Testing complete in 2m 43s\n"
     ]
    }
   ],
   "source": [
    "since = time.time()\n",
    "\n",
    "# initialize lists for predictors\n",
    "predicted=[] #predicted up and downs for test sample\n",
    "prob_up=[] #probability of up\n",
    "prob_down=[] #probability of down\n",
    "\n",
    "model.eval() # prep model for evaluation\n",
    "\n",
    "for data, target in test_loader:\n",
    "    # send your input tensors to the CPU/GPU\n",
    "    if use_gpu:\n",
    "            data = data.cuda()\n",
    "            target = target.cuda()\n",
    "    # forward pass: compute predicted outputs by passing inputs to the model\n",
    "    output = model(data)\n",
    "    _, pred = torch.max(output, 1)\n",
    "    \n",
    "    # save the predictors.\n",
    "    predicted.extend(pred.tolist())\n",
    "    prob_down.extend(output.T[0].tolist())#down probability\n",
    "    prob_up.extend(output.T[1].tolist())#up probability\n",
    "\n",
    "time_elapsed = time.time() - since\n",
    "print(f'Testing complete in {time_elapsed // 60:.0f}m {time_elapsed % 60:.0f}s')"
   ]
  },
  {
   "cell_type": "code",
   "execution_count": 33,
   "id": "506297bb-54fa-4d99-9724-b9ca4c600bd2",
   "metadata": {},
   "outputs": [],
   "source": [
    "#merge prediction results to label dataframe\n",
    "test_label_df['Predicted']=predicted\n",
    "test_label_df['Prob_Up']=prob_up\n",
    "test_label_df['Prob_Down']=prob_down\n",
    "\n",
    "df = test_label_df.loc[:,['Date','StockID','Retx_20d','Retx_20d_label','Predicted','Prob_Up','Prob_Down']]\n",
    "df.to_csv('../Data/predictors.csv', index=False)"
   ]
  },
  {
   "cell_type": "markdown",
   "id": "58da0fed-f859-40bf-ba1d-c95e6cc549b7",
   "metadata": {
    "tags": []
   },
   "source": [
    "### Visualize Sample Test Results"
   ]
  },
  {
   "cell_type": "code",
   "execution_count": 13,
   "id": "07d20b33-7157-453a-8cbf-508eaedb845e",
   "metadata": {},
   "outputs": [
    {
     "data": {
      "image/png": "[encoded data removed]",
      "text/plain": [
       "<Figure size 1800x288 with 20 Axes>"
      ]
     },
     "metadata": {},
     "output_type": "display_data"
    }
   ],
   "source": [
    "# obtain one batch of test images\n",
    "dataiter = iter(test_loader)\n",
    "images, labels = dataiter.next()\n",
    "\n",
    "model = model.cpu()\n",
    "# get sample outputs\n",
    "output = model(images)\n",
    "# convert output probabilities to predicted class\n",
    "_, preds = torch.max(output, 1)\n",
    "# prep images for display\n",
    "images = images.numpy()\n",
    "\n",
    "# plot the images in the batch, along with predicted and true labels\n",
    "fig = plt.figure(figsize=(25, 4))\n",
    "for idx in np.arange(20):\n",
    "    ax = fig.add_subplot(2, int(20/2), idx+1, xticks=[], yticks=[])\n",
    "    ax.imshow(np.squeeze(images[idx]), cmap='gray')\n",
    "    ax.set_title(\"{} ({})\".format(str(preds[idx].item()), str(labels[idx].item())),\n",
    "                 color=(\"green\" if preds[idx]==labels[idx] else \"red\"))"
   ]
  },
  {
   "cell_type": "markdown",
   "id": "d2863514-9640-4fa9-9893-208d32a9710f",
   "metadata": {
    "tags": []
   },
   "source": [
    "## References"
   ]
  },
  {
   "cell_type": "markdown",
   "id": "62930b61-25ff-4c47-a5fb-1c69ac8f86cc",
   "metadata": {},
   "source": [
    "The MNIST training example code is mainly taken from the [mnist_mlp_solution_with_validation.ipynb](https://github.com/udacity/deep-learning-v2-pytorch/blob/master/convolutional-neural-networks/mnist-mlp/mnist_mlp_solution_with_validation.ipynb) notebook from the [deep-learning-v2-pytorch repository](https://github.com/udacity/deep-learning-v2-pytorch) made by [Udacity](https://www.udacity.com/), and has been fitted with my early stopping code. "
   ]
  }
 ],
 "metadata": {
  "kernelspec": {
   "display_name": "Python 3 (ipykernel)",
   "language": "python",
   "name": "python3"
  },
  "language_info": {
   "codemirror_mode": {
    "name": "ipython",
    "version": 3
   },
   "file_extension": ".py",
   "mimetype": "text/x-python",
   "name": "python",
   "nbconvert_exporter": "python",
   "pygments_lexer": "ipython3",
   "version": "3.10.4"
  }
 },
 "nbformat": 4,
 "nbformat_minor": 5
}
