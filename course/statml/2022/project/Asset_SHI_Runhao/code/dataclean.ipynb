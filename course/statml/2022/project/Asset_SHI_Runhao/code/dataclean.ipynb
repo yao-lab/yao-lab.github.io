{
 "cells": [
  {
   "cell_type": "markdown",
   "metadata": {},
   "source": [
    "# Data clean"
   ]
  },
  {
   "cell_type": "code",
   "execution_count": 1,
   "metadata": {},
   "outputs": [],
   "source": [
    "## perform imports and set-up\n",
    "import pandas as pd\n",
    "import numpy as np\n",
    "import matplotlib.pyplot as plt\n",
    "from mpl_toolkits.mplot3d import axes3d\n",
    "import seaborn as sns\n",
    "\n",
    "from sklearn.preprocessing import scale\n",
    "import sklearn.linear_model as skl_lm\n",
    "from sklearn.metrics import mean_squared_error, r2_score\n",
    "import statsmodels.api as sm\n",
    "import statsmodels.formula.api as smf\n",
    "from scipy.interpolate import interp1d\n",
    "from patsy.contrasts import Treatment\n",
    "\n",
    "import torch\n",
    "from torch.nn import Module\n",
    "from torch import nn\n",
    "# import torchvision\n",
    "# from torchvision.datasets import mnist\n",
    "from torch.nn import CrossEntropyLoss\n",
    "from torch.optim import SGD, Adam\n",
    "from torch.utils.data import DataLoader\n",
    "from torch.utils.data import Dataset\n",
    "# import torchvision.transforms as transforms\n",
    "\n",
    "\n",
    "%matplotlib inline\n",
    "plt.style.use('ggplot') # emulate pretty r-style plots"
   ]
  },
  {
   "cell_type": "code",
   "execution_count": 2,
   "metadata": {},
   "outputs": [],
   "source": [
    "def read_file(file_path):\n",
    "    # Sample 100 rows of data to determine dtypes.\n",
    "    df_test = pd.read_csv(file_path, nrows=100)\n",
    "    float_cols = [c for c in df_test if df_test[c].dtype == \"float64\"]\n",
    "    float32_cols = {c: np.float32 for c in float_cols}\n",
    "    df = pd.read_csv(file_path, engine='c', dtype=float32_cols)\n",
    "    return df"
   ]
  },
  {
   "cell_type": "code",
   "execution_count": 3,
   "metadata": {},
   "outputs": [],
   "source": [
    "# data = read_file('data_manipulated.csv').iloc[:,1:]\n",
    "data = read_file('data_clean.csv').iloc[:,1:]\n",
    "macropredictors = pd.read_csv('macropredictors_clean.csv').iloc[:,1:]"
   ]
  },
  {
   "cell_type": "code",
   "execution_count": 4,
   "metadata": {},
   "outputs": [],
   "source": [
    "other_names = np.array([\"permno\", \"DATE\", \"RET\", \"SHROUT\", \"sic2\", \"mve0\", \"prc\"])\n",
    "character_names = np.setdiff1d(data.columns, other_names)\n",
    "macropredictors_names = np.array([\"d_p\", \"e_p\", \"b_m\", \"ntis\", \"tbl\", \"tms\", \"dfy\", \"svar\"])"
   ]
  },
  {
   "cell_type": "code",
   "execution_count": 9,
   "metadata": {},
   "outputs": [
    {
     "name": "stdout",
     "output_type": "stream",
     "text": [
      "d_p\n",
      "e_p\n",
      "b_m\n",
      "ntis\n",
      "tbl\n",
      "tms\n",
      "dfy\n",
      "svar\n"
     ]
    }
   ],
   "source": [
    "dates, dates_count = np.unique(data[\"DATE\"], return_counts=True)\n",
    "for item in macropredictors_names:\n",
    "    print(item)\n",
    "    for day in dates:\n",
    "        index = (data[\"DATE\"] == day)\n",
    "        data.loc[index, item] = macropredictors.loc[macropredictors[\"DATE\"] == day, item].values[0]"
   ]
  },
  {
   "cell_type": "code",
   "execution_count": 10,
   "metadata": {},
   "outputs": [],
   "source": [
    "data[\"sic2\"] = data[\"sic2\"].fillna(value=0)"
   ]
  },
  {
   "cell_type": "code",
   "execution_count": 19,
   "metadata": {},
   "outputs": [],
   "source": [
    "data.to_csv(\"data_all_clean.csv\")"
   ]
  }
 ],
 "metadata": {
  "kernelspec": {
   "display_name": "Python 3",
   "language": "python",
   "name": "python3"
  },
  "language_info": {
   "codemirror_mode": {
    "name": "ipython",
    "version": 3
   },
   "file_extension": ".py",
   "mimetype": "text/x-python",
   "name": "python",
   "nbconvert_exporter": "python",
   "pygments_lexer": "ipython3",
   "version": "3.9.11"
  }
 },
 "nbformat": 4,
 "nbformat_minor": 2
}
