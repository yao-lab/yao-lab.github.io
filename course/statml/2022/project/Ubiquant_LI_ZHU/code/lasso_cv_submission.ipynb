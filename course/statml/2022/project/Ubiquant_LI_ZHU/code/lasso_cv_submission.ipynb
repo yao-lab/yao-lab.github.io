{
 "cells": [
  {
   "cell_type": "code",
   "execution_count": 1,
   "id": "fa86dc29",
   "metadata": {
    "_cell_guid": "b1076dfc-b9ad-4769-8c92-a6c4dae69d19",
    "_uuid": "8f2839f25d086af736a60e9eeb907d3b93b6e0e5",
    "execution": {
     "iopub.execute_input": "2022-04-18T13:38:50.081614Z",
     "iopub.status.busy": "2022-04-18T13:38:50.080367Z",
     "iopub.status.idle": "2022-04-18T13:39:40.982632Z",
     "shell.execute_reply": "2022-04-18T13:39:40.983212Z",
     "shell.execute_reply.started": "2022-04-18T13:11:47.132816Z"
    },
    "papermill": {
     "duration": 50.918545,
     "end_time": "2022-04-18T13:39:40.983899",
     "exception": false,
     "start_time": "2022-04-18T13:38:50.065354",
     "status": "completed"
    },
    "tags": []
   },
   "outputs": [
    {
     "data": {
      "text/plain": [
       "(1178029, 304)"
      ]
     },
     "execution_count": 1,
     "metadata": {},
     "output_type": "execute_result"
    }
   ],
   "source": [
    "import pandas as pd\n",
    "import numpy as np\n",
    "import matplotlib.pyplot as plt\n",
    "import seaborn as sns\n",
    "import math\n",
    "import random\n",
    "from sklearn.linear_model import Lasso\n",
    "\n",
    "X = pd.read_parquet('../input/ubiquant-parquet/train_low_mem.parquet')\\\n",
    ".drop(pd.read_csv('../input/math5470/validation_indexes.csv', index_col=0).index).sample(frac=0.5)\n",
    "X.index = range(X.shape[0])\n",
    "X.shape"
   ]
  },
  {
   "cell_type": "code",
   "execution_count": 2,
   "id": "4bc0eb0b",
   "metadata": {
    "execution": {
     "iopub.execute_input": "2022-04-18T13:39:41.013890Z",
     "iopub.status.busy": "2022-04-18T13:39:41.012936Z",
     "iopub.status.idle": "2022-04-18T13:39:41.249646Z",
     "shell.execute_reply": "2022-04-18T13:39:41.250195Z",
     "shell.execute_reply.started": "2022-04-18T13:12:43.125653Z"
    },
    "papermill": {
     "duration": 0.253723,
     "end_time": "2022-04-18T13:39:41.250384",
     "exception": false,
     "start_time": "2022-04-18T13:39:40.996661",
     "status": "completed"
    },
    "tags": []
   },
   "outputs": [
    {
     "data": {
      "text/plain": [
       "(785352, 0)"
      ]
     },
     "execution_count": 2,
     "metadata": {},
     "output_type": "execute_result"
    }
   ],
   "source": [
    "\n",
    "pd.read_csv('../input/math5470/validation_indexes.csv', index_col=0).shape"
   ]
  },
  {
   "cell_type": "code",
   "execution_count": 3,
   "id": "e7e4effd",
   "metadata": {
    "execution": {
     "iopub.execute_input": "2022-04-18T13:39:41.280534Z",
     "iopub.status.busy": "2022-04-18T13:39:41.279069Z",
     "iopub.status.idle": "2022-04-18T13:39:46.276848Z",
     "shell.execute_reply": "2022-04-18T13:39:46.276241Z",
     "shell.execute_reply.started": "2022-04-18T13:12:43.457756Z"
    },
    "papermill": {
     "duration": 5.015986,
     "end_time": "2022-04-18T13:39:46.276990",
     "exception": false,
     "start_time": "2022-04-18T13:39:41.261004",
     "status": "completed"
    },
    "tags": []
   },
   "outputs": [],
   "source": [
    "features = X.columns[4:]\n",
    "corrs = list() \n",
    "for col in features:\n",
    "    corr = np.corrcoef(X['target'], X[col])[0][1]\n",
    "    corrs.append(corr)\n",
    "    \n",
    "corrs_feature_assetNum =pd.Series(corrs, index=features)"
   ]
  },
  {
   "cell_type": "code",
   "execution_count": 4,
   "id": "d2860c48",
   "metadata": {
    "execution": {
     "iopub.execute_input": "2022-04-18T13:39:46.306805Z",
     "iopub.status.busy": "2022-04-18T13:39:46.306055Z",
     "iopub.status.idle": "2022-04-18T13:39:46.961946Z",
     "shell.execute_reply": "2022-04-18T13:39:46.961037Z",
     "shell.execute_reply.started": "2022-04-18T13:12:50.060587Z"
    },
    "papermill": {
     "duration": 0.673504,
     "end_time": "2022-04-18T13:39:46.962104",
     "exception": false,
     "start_time": "2022-04-18T13:39:46.288600",
     "status": "completed"
    },
    "tags": []
   },
   "outputs": [],
   "source": [
    "import numpy as np\n",
    "from sklearn.model_selection import KFold\n",
    "import scipy.stats as st\n",
    "import xgboost as xgb\n",
    "\n",
    "feature_subset = corrs_feature_assetNum.sort_values(ascending=False).index\n",
    "\n",
    "y = X['target']\n",
    "X = X[feature_subset]\n",
    "\n",
    "# kf = KFold(n_splits=3)\n",
    "# kf.get_n_splits(X)\n",
    "\n",
    "# params_1 = [1e-4,1e-3,1e-2,]\n",
    "# params_2 = [True, False]\n",
    "# scores = {}\n",
    "\n",
    "# for param_1 in params_1:\n",
    "#     for param_2 in params_2:\n",
    "#         scores[(param_1, param_2)] = []\n",
    "        \n",
    "# for train_index, test_index in kf.split(X):\n",
    "#     X_train, X_test = X.loc[train_index], X.loc[test_index]\n",
    "#     y_train, y_test = y.loc[train_index], y.loc[test_index]\n",
    "    \n",
    "#     for param_1 in params_1:\n",
    "#         for param_2 in params_2:\n",
    "#             model = Lasso(alpha=param_1, fit_intercept=param_2)\n",
    "#             model.fit(X_train, y_train)\n",
    "#             y_pred = model.predict(X_test)\n",
    "#             scores[(param_1, param_2)] += [st.pearsonr(y_pred, y_test)[0]]\n",
    "#             print(scores[(param_1, param_2)])"
   ]
  },
  {
   "cell_type": "code",
   "execution_count": 5,
   "id": "568f0b71",
   "metadata": {
    "execution": {
     "iopub.execute_input": "2022-04-18T13:39:46.988743Z",
     "iopub.status.busy": "2022-04-18T13:39:46.987658Z",
     "iopub.status.idle": "2022-04-18T13:39:46.990342Z",
     "shell.execute_reply": "2022-04-18T13:39:46.989820Z",
     "shell.execute_reply.started": "2022-04-18T13:12:51.347727Z"
    },
    "papermill": {
     "duration": 0.017589,
     "end_time": "2022-04-18T13:39:46.990484",
     "exception": false,
     "start_time": "2022-04-18T13:39:46.972895",
     "status": "completed"
    },
    "tags": []
   },
   "outputs": [],
   "source": [
    "# best_params = pd.DataFrame.from_dict(scores, orient='index').T.mean().dropna().sort_values().index[-1]\n",
    "best_params = (0.0001, True)"
   ]
  },
  {
   "cell_type": "code",
   "execution_count": 6,
   "id": "801782f2",
   "metadata": {
    "execution": {
     "iopub.execute_input": "2022-04-18T13:39:47.020738Z",
     "iopub.status.busy": "2022-04-18T13:39:47.019720Z",
     "iopub.status.idle": "2022-04-18T13:46:14.601637Z",
     "shell.execute_reply": "2022-04-18T13:46:14.600545Z"
    },
    "papermill": {
     "duration": 387.600652,
     "end_time": "2022-04-18T13:46:14.601977",
     "exception": false,
     "start_time": "2022-04-18T13:39:47.001325",
     "status": "completed"
    },
    "tags": []
   },
   "outputs": [
    {
     "name": "stderr",
     "output_type": "stream",
     "text": [
      "/opt/conda/lib/python3.7/site-packages/sklearn/linear_model/_coordinate_descent.py:648: ConvergenceWarning: Objective did not converge. You might want to increase the number of iterations, check the scale of the features or consider increasing regularisation. Duality gap: 8.305e+03, tolerance: 9.906e+01\n",
      "  coef_, l1_reg, l2_reg, X, y, max_iter, tol, rng, random, positive\n"
     ]
    },
    {
     "data": {
      "text/plain": [
       "Lasso(alpha=0.0001)"
      ]
     },
     "execution_count": 6,
     "metadata": {},
     "output_type": "execute_result"
    }
   ],
   "source": [
    "model = Lasso(alpha=best_params[0], fit_intercept=best_params[1])\n",
    "model.fit(X, y)"
   ]
  },
  {
   "cell_type": "code",
   "execution_count": 7,
   "id": "64d48d97",
   "metadata": {
    "execution": {
     "iopub.execute_input": "2022-04-18T13:46:14.660530Z",
     "iopub.status.busy": "2022-04-18T13:46:14.659353Z",
     "iopub.status.idle": "2022-04-18T13:46:41.073201Z",
     "shell.execute_reply": "2022-04-18T13:46:41.072096Z"
    },
    "papermill": {
     "duration": 26.45056,
     "end_time": "2022-04-18T13:46:41.073380",
     "exception": false,
     "start_time": "2022-04-18T13:46:14.622820",
     "status": "completed"
    },
    "tags": []
   },
   "outputs": [],
   "source": [
    "del X#, X_train, X_test\n",
    "del y#, y_train, y_test\n",
    "import gc\n",
    "gc.collect()\n",
    "X = pd.read_parquet('../input/ubiquant-parquet/train_low_mem.parquet')\\\n",
    ".loc[pd.read_csv('../input/math5470/validation_indexes.csv', index_col=0).index]\n",
    "y = X['target']\n",
    "X = X[feature_subset]"
   ]
  },
  {
   "cell_type": "code",
   "execution_count": 8,
   "id": "f398cbeb",
   "metadata": {
    "execution": {
     "iopub.execute_input": "2022-04-18T13:46:41.106749Z",
     "iopub.status.busy": "2022-04-18T13:46:41.105761Z",
     "iopub.status.idle": "2022-04-18T13:46:41.387663Z",
     "shell.execute_reply": "2022-04-18T13:46:41.388747Z"
    },
    "papermill": {
     "duration": 0.298719,
     "end_time": "2022-04-18T13:46:41.389084",
     "exception": false,
     "start_time": "2022-04-18T13:46:41.090365",
     "status": "completed"
    },
    "tags": []
   },
   "outputs": [
    {
     "name": "stdout",
     "output_type": "stream",
     "text": [
      "(0.13063504674681053, 0.0)\n"
     ]
    }
   ],
   "source": [
    "y_pred = model.predict(X)\n",
    "print(st.pearsonr(y_pred, y))"
   ]
  },
  {
   "cell_type": "code",
   "execution_count": 9,
   "id": "ce0f5e4c",
   "metadata": {
    "execution": {
     "iopub.execute_input": "2022-04-18T13:46:41.442111Z",
     "iopub.status.busy": "2022-04-18T13:46:41.440947Z",
     "iopub.status.idle": "2022-04-18T13:46:41.557986Z",
     "shell.execute_reply": "2022-04-18T13:46:41.556958Z"
    },
    "papermill": {
     "duration": 0.146669,
     "end_time": "2022-04-18T13:46:41.558154",
     "exception": false,
     "start_time": "2022-04-18T13:46:41.411485",
     "status": "completed"
    },
    "tags": []
   },
   "outputs": [
    {
     "name": "stdout",
     "output_type": "stream",
     "text": [
      "This version of the API is not optimized and should not be used to estimate the runtime of your code on the hidden test set.\n"
     ]
    }
   ],
   "source": [
    "import ubiquant\n",
    "env = ubiquant.make_env()   # initialize the environment\n",
    "iter_test = env.iter_test()    # an iterator which loops over the test set and sample submission\n",
    "\n",
    "for (test_df, sample_prediction_df) in iter_test:\n",
    "    sample_prediction_df['target'] = model.predict(test_df[feature_subset])  # make your predictions here\n",
    "    env.predict(sample_prediction_df)   # register your predictions"
   ]
  }
 ],
 "metadata": {
  "kernelspec": {
   "display_name": "Python 3",
   "language": "python",
   "name": "python3"
  },
  "language_info": {
   "codemirror_mode": {
    "name": "ipython",
    "version": 3
   },
   "file_extension": ".py",
   "mimetype": "text/x-python",
   "name": "python",
   "nbconvert_exporter": "python",
   "pygments_lexer": "ipython3",
   "version": "3.7.12"
  },
  "papermill": {
   "default_parameters": {},
   "duration": 482.954195,
   "end_time": "2022-04-18T13:46:42.688553",
   "environment_variables": {},
   "exception": null,
   "input_path": "__notebook__.ipynb",
   "output_path": "__notebook__.ipynb",
   "parameters": {},
   "start_time": "2022-04-18T13:38:39.734358",
   "version": "2.3.3"
  }
 },
 "nbformat": 4,
 "nbformat_minor": 5
}
