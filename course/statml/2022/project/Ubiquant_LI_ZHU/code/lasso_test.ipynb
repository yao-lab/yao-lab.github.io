{
 "cells": [
  {
   "cell_type": "code",
   "execution_count": 1,
   "id": "8c1d4440",
   "metadata": {
    "_cell_guid": "b1076dfc-b9ad-4769-8c92-a6c4dae69d19",
    "_uuid": "8f2839f25d086af736a60e9eeb907d3b93b6e0e5",
    "execution": {
     "iopub.execute_input": "2022-04-17T07:31:17.715401Z",
     "iopub.status.busy": "2022-04-17T07:31:17.714412Z",
     "iopub.status.idle": "2022-04-17T07:32:03.311227Z",
     "shell.execute_reply": "2022-04-17T07:32:03.311764Z",
     "shell.execute_reply.started": "2022-04-10T07:07:11.395757Z"
    },
    "papermill": {
     "duration": 45.623341,
     "end_time": "2022-04-17T07:32:03.312083",
     "exception": false,
     "start_time": "2022-04-17T07:31:17.688742",
     "status": "completed"
    },
    "tags": []
   },
   "outputs": [
    {
     "data": {
      "text/plain": [
       "(1178029, 304)"
      ]
     },
     "execution_count": 1,
     "metadata": {},
     "output_type": "execute_result"
    }
   ],
   "source": [
    "import pandas as pd\n",
    "import numpy as np\n",
    "import matplotlib.pyplot as plt\n",
    "import seaborn as sns\n",
    "import math\n",
    "import random\n",
    "from sklearn.linear_model import Lasso\n",
    "\n",
    "X = pd.read_parquet('../input/ubiquant-parquet/train_low_mem.parquet')\\\n",
    ".drop(pd.read_csv('../input/math5470/validation_indexes.csv', index_col=0).index).sample(frac=0.5)\n",
    "X.index = range(X.shape[0])\n",
    "X.shape"
   ]
  },
  {
   "cell_type": "code",
   "execution_count": 2,
   "id": "a21c0bfa",
   "metadata": {
    "execution": {
     "iopub.execute_input": "2022-04-17T07:32:03.338243Z",
     "iopub.status.busy": "2022-04-17T07:32:03.337580Z",
     "iopub.status.idle": "2022-04-17T07:32:03.574622Z",
     "shell.execute_reply": "2022-04-17T07:32:03.573931Z",
     "shell.execute_reply.started": "2022-04-10T07:07:13.361808Z"
    },
    "papermill": {
     "duration": 0.252456,
     "end_time": "2022-04-17T07:32:03.574763",
     "exception": false,
     "start_time": "2022-04-17T07:32:03.322307",
     "status": "completed"
    },
    "tags": []
   },
   "outputs": [
    {
     "data": {
      "text/plain": [
       "(785352, 0)"
      ]
     },
     "execution_count": 2,
     "metadata": {},
     "output_type": "execute_result"
    }
   ],
   "source": [
    "\n",
    "pd.read_csv('../input/math5470/validation_indexes.csv', index_col=0).shape"
   ]
  },
  {
   "cell_type": "code",
   "execution_count": 3,
   "id": "6f76b1e2",
   "metadata": {
    "execution": {
     "iopub.execute_input": "2022-04-17T07:32:03.598385Z",
     "iopub.status.busy": "2022-04-17T07:32:03.597369Z",
     "iopub.status.idle": "2022-04-17T07:32:08.587493Z",
     "shell.execute_reply": "2022-04-17T07:32:08.586863Z",
     "shell.execute_reply.started": "2022-04-10T07:07:51.161347Z"
    },
    "papermill": {
     "duration": 5.003191,
     "end_time": "2022-04-17T07:32:08.587668",
     "exception": false,
     "start_time": "2022-04-17T07:32:03.584477",
     "status": "completed"
    },
    "tags": []
   },
   "outputs": [],
   "source": [
    "features = X.columns[4:]\n",
    "corrs = list() \n",
    "for col in features:\n",
    "    corr = np.corrcoef(X['target'], X[col])[0][1]\n",
    "    corrs.append(corr)\n",
    "    \n",
    "corrs_feature_assetNum =pd.Series(corrs, index=features)"
   ]
  },
  {
   "cell_type": "code",
   "execution_count": 4,
   "id": "51879317",
   "metadata": {
    "execution": {
     "iopub.execute_input": "2022-04-17T07:32:08.620239Z",
     "iopub.status.busy": "2022-04-17T07:32:08.619531Z",
     "iopub.status.idle": "2022-04-17T08:10:44.459416Z",
     "shell.execute_reply": "2022-04-17T08:10:44.460406Z",
     "shell.execute_reply.started": "2022-04-10T07:38:08.432462Z"
    },
    "papermill": {
     "duration": 2315.861413,
     "end_time": "2022-04-17T08:10:44.460794",
     "exception": false,
     "start_time": "2022-04-17T07:32:08.599381",
     "status": "completed"
    },
    "tags": []
   },
   "outputs": [
    {
     "name": "stderr",
     "output_type": "stream",
     "text": [
      "/opt/conda/lib/python3.7/site-packages/sklearn/linear_model/_coordinate_descent.py:648: ConvergenceWarning: Objective did not converge. You might want to increase the number of iterations, check the scale of the features or consider increasing regularisation. Duality gap: 2.510e+03, tolerance: 6.640e+01\n",
      "  coef_, l1_reg, l2_reg, X, y, max_iter, tol, rng, random, positive\n"
     ]
    },
    {
     "name": "stdout",
     "output_type": "stream",
     "text": [
      "[0.1303720662101567]\n"
     ]
    },
    {
     "name": "stderr",
     "output_type": "stream",
     "text": [
      "/opt/conda/lib/python3.7/site-packages/sklearn/linear_model/_coordinate_descent.py:648: ConvergenceWarning: Objective did not converge. You might want to increase the number of iterations, check the scale of the features or consider increasing regularisation. Duality gap: 2.452e+03, tolerance: 6.644e+01\n",
      "  coef_, l1_reg, l2_reg, X, y, max_iter, tol, rng, random, positive\n"
     ]
    },
    {
     "name": "stdout",
     "output_type": "stream",
     "text": [
      "[0.1298147180489819]\n",
      "[0.12856085956435978]\n",
      "[0.12798526438089147]\n",
      "[0.10545073785243929]\n",
      "[0.10491149519838462]\n"
     ]
    },
    {
     "name": "stderr",
     "output_type": "stream",
     "text": [
      "/opt/conda/lib/python3.7/site-packages/sklearn/linear_model/_coordinate_descent.py:648: ConvergenceWarning: Objective did not converge. You might want to increase the number of iterations, check the scale of the features or consider increasing regularisation. Duality gap: 3.583e+03, tolerance: 6.650e+01\n",
      "  coef_, l1_reg, l2_reg, X, y, max_iter, tol, rng, random, positive\n"
     ]
    },
    {
     "name": "stdout",
     "output_type": "stream",
     "text": [
      "[0.1303720662101567, 0.1327611762393595]\n"
     ]
    },
    {
     "name": "stderr",
     "output_type": "stream",
     "text": [
      "/opt/conda/lib/python3.7/site-packages/sklearn/linear_model/_coordinate_descent.py:648: ConvergenceWarning: Objective did not converge. You might want to increase the number of iterations, check the scale of the features or consider increasing regularisation. Duality gap: 4.565e+03, tolerance: 6.653e+01\n",
      "  coef_, l1_reg, l2_reg, X, y, max_iter, tol, rng, random, positive\n"
     ]
    },
    {
     "name": "stdout",
     "output_type": "stream",
     "text": [
      "[0.1298147180489819, 0.1322781404667092]\n",
      "[0.12856085956435978, 0.1323773952227439]\n",
      "[0.12798526438089147, 0.13186514453761497]\n",
      "[0.10545073785243929, 0.11132371528054742]\n",
      "[0.10491149519838462, 0.11079881730548882]\n"
     ]
    },
    {
     "name": "stderr",
     "output_type": "stream",
     "text": [
      "/opt/conda/lib/python3.7/site-packages/sklearn/linear_model/_coordinate_descent.py:648: ConvergenceWarning: Objective did not converge. You might want to increase the number of iterations, check the scale of the features or consider increasing regularisation. Duality gap: 3.760e+03, tolerance: 6.621e+01\n",
      "  coef_, l1_reg, l2_reg, X, y, max_iter, tol, rng, random, positive\n"
     ]
    },
    {
     "name": "stdout",
     "output_type": "stream",
     "text": [
      "[0.1303720662101567, 0.1327611762393595, 0.13293992743852184]\n"
     ]
    },
    {
     "name": "stderr",
     "output_type": "stream",
     "text": [
      "/opt/conda/lib/python3.7/site-packages/sklearn/linear_model/_coordinate_descent.py:648: ConvergenceWarning: Objective did not converge. You might want to increase the number of iterations, check the scale of the features or consider increasing regularisation. Duality gap: 3.466e+03, tolerance: 6.625e+01\n",
      "  coef_, l1_reg, l2_reg, X, y, max_iter, tol, rng, random, positive\n"
     ]
    },
    {
     "name": "stdout",
     "output_type": "stream",
     "text": [
      "[0.1298147180489819, 0.1322781404667092, 0.13239427865653036]\n",
      "[0.12856085956435978, 0.1323773952227439, 0.13203826836001362]\n",
      "[0.12798526438089147, 0.13186514453761497, 0.13160380561516463]\n",
      "[0.10545073785243929, 0.11132371528054742, 0.11033026826267908]\n",
      "[0.10491149519838462, 0.11079881730548882, 0.10995410785641463]\n"
     ]
    }
   ],
   "source": [
    "import numpy as np\n",
    "from sklearn.model_selection import KFold\n",
    "import scipy.stats as st\n",
    "import xgboost as xgb\n",
    "\n",
    "feature_subset = corrs_feature_assetNum.sort_values(ascending=False).index\n",
    "\n",
    "y = X['target']\n",
    "X = X[feature_subset]\n",
    "\n",
    "kf = KFold(n_splits=3)\n",
    "kf.get_n_splits(X)\n",
    "\n",
    "params_1 = [1e-4,1e-3,1e-2,]\n",
    "params_2 = [True, False]\n",
    "scores = {}\n",
    "\n",
    "for param_1 in params_1:\n",
    "    for param_2 in params_2:\n",
    "        scores[(param_1, param_2)] = []\n",
    "        \n",
    "for train_index, test_index in kf.split(X):\n",
    "    X_train, X_test = X.loc[train_index], X.loc[test_index]\n",
    "    y_train, y_test = y.loc[train_index], y.loc[test_index]\n",
    "    \n",
    "    for param_1 in params_1:\n",
    "        for param_2 in params_2:\n",
    "            model = Lasso(alpha=param_1, fit_intercept=param_2)\n",
    "            model.fit(X_train, y_train)\n",
    "            y_pred = model.predict(X_test)\n",
    "            scores[(param_1, param_2)] += [st.pearsonr(y_pred, y_test)[0]]\n",
    "            print(scores[(param_1, param_2)])"
   ]
  },
  {
   "cell_type": "code",
   "execution_count": 5,
   "id": "24d15203",
   "metadata": {
    "execution": {
     "iopub.execute_input": "2022-04-17T08:10:44.542425Z",
     "iopub.status.busy": "2022-04-17T08:10:44.541167Z",
     "iopub.status.idle": "2022-04-17T08:10:44.569105Z",
     "shell.execute_reply": "2022-04-17T08:10:44.569785Z",
     "shell.execute_reply.started": "2022-04-10T07:38:45.878316Z"
    },
    "papermill": {
     "duration": 0.072663,
     "end_time": "2022-04-17T08:10:44.569970",
     "exception": false,
     "start_time": "2022-04-17T08:10:44.497307",
     "status": "completed"
    },
    "tags": []
   },
   "outputs": [
    {
     "data": {
      "text/plain": [
       "(0.0001, True)"
      ]
     },
     "execution_count": 5,
     "metadata": {},
     "output_type": "execute_result"
    }
   ],
   "source": [
    "best_params = pd.DataFrame.from_dict(scores, orient='index').T.mean().dropna().sort_values().index[-1]\n",
    "best_params"
   ]
  },
  {
   "cell_type": "code",
   "execution_count": 6,
   "id": "5eadc39e",
   "metadata": {
    "execution": {
     "iopub.execute_input": "2022-04-17T08:10:44.611580Z",
     "iopub.status.busy": "2022-04-17T08:10:44.610508Z",
     "iopub.status.idle": "2022-04-17T08:17:00.391706Z",
     "shell.execute_reply": "2022-04-17T08:17:00.392935Z",
     "shell.execute_reply.started": "2022-04-08T14:43:11.91544Z"
    },
    "papermill": {
     "duration": 375.804731,
     "end_time": "2022-04-17T08:17:00.393275",
     "exception": false,
     "start_time": "2022-04-17T08:10:44.588544",
     "status": "completed"
    },
    "tags": []
   },
   "outputs": [
    {
     "name": "stderr",
     "output_type": "stream",
     "text": [
      "/opt/conda/lib/python3.7/site-packages/sklearn/linear_model/_coordinate_descent.py:648: ConvergenceWarning: Objective did not converge. You might want to increase the number of iterations, check the scale of the features or consider increasing regularisation. Duality gap: 4.721e+03, tolerance: 9.956e+01\n",
      "  coef_, l1_reg, l2_reg, X, y, max_iter, tol, rng, random, positive\n"
     ]
    },
    {
     "data": {
      "text/plain": [
       "0.018197122336688465"
      ]
     },
     "execution_count": 6,
     "metadata": {},
     "output_type": "execute_result"
    }
   ],
   "source": [
    "model = Lasso(alpha=best_params[0], fit_intercept=best_params[1])\n",
    "model.fit(X, y)\n",
    "model.score(X,y)"
   ]
  },
  {
   "cell_type": "code",
   "execution_count": 7,
   "id": "a5aa23fb",
   "metadata": {
    "execution": {
     "iopub.execute_input": "2022-04-17T08:17:00.477260Z",
     "iopub.status.busy": "2022-04-17T08:17:00.476048Z",
     "iopub.status.idle": "2022-04-17T08:17:00.596916Z",
     "shell.execute_reply": "2022-04-17T08:17:00.597665Z",
     "shell.execute_reply.started": "2022-04-08T14:43:30.007111Z"
    },
    "papermill": {
     "duration": 0.168282,
     "end_time": "2022-04-17T08:17:00.597863",
     "exception": false,
     "start_time": "2022-04-17T08:17:00.429581",
     "status": "completed"
    },
    "tags": []
   },
   "outputs": [
    {
     "name": "stdout",
     "output_type": "stream",
     "text": [
      "This version of the API is not optimized and should not be used to estimate the runtime of your code on the hidden test set.\n"
     ]
    }
   ],
   "source": [
    "import ubiquant\n",
    "env = ubiquant.make_env()   # initialize the environment\n",
    "iter_test = env.iter_test()    # an iterator which loops over the test set and sample submission\n",
    "\n",
    "for (test_df, sample_prediction_df) in iter_test:\n",
    "    sample_prediction_df['target'] = model.predict(test_df[feature_subset])  # make your predictions here\n",
    "    env.predict(sample_prediction_df)   # register your predictions"
   ]
  }
 ],
 "metadata": {
  "kernelspec": {
   "display_name": "Python 3",
   "language": "python",
   "name": "python3"
  },
  "language_info": {
   "codemirror_mode": {
    "name": "ipython",
    "version": 3
   },
   "file_extension": ".py",
   "mimetype": "text/x-python",
   "name": "python",
   "nbconvert_exporter": "python",
   "pygments_lexer": "ipython3",
   "version": "3.7.12"
  },
  "papermill": {
   "default_parameters": {},
   "duration": 2756.176635,
   "end_time": "2022-04-17T08:17:01.738778",
   "environment_variables": {},
   "exception": null,
   "input_path": "__notebook__.ipynb",
   "output_path": "__notebook__.ipynb",
   "parameters": {},
   "start_time": "2022-04-17T07:31:05.562143",
   "version": "2.3.3"
  }
 },
 "nbformat": 4,
 "nbformat_minor": 5
}
