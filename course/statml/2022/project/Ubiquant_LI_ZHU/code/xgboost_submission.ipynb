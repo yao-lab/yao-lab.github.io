{
 "cells": [
  {
   "cell_type": "code",
   "execution_count": 1,
   "id": "b3cf26b1",
   "metadata": {
    "execution": {
     "iopub.execute_input": "2022-04-17T03:16:11.716181Z",
     "iopub.status.busy": "2022-04-17T03:16:11.715088Z",
     "iopub.status.idle": "2022-04-17T03:17:01.163939Z",
     "shell.execute_reply": "2022-04-17T03:17:01.164506Z",
     "shell.execute_reply.started": "2022-04-16T07:03:32.365228Z"
    },
    "papermill": {
     "duration": 49.464142,
     "end_time": "2022-04-17T03:17:01.164879",
     "exception": false,
     "start_time": "2022-04-17T03:16:11.700737",
     "status": "completed"
    },
    "tags": []
   },
   "outputs": [
    {
     "data": {
      "text/html": [
       "<style type='text/css'>\n",
       ".datatable table.frame { margin-bottom: 0; }\n",
       ".datatable table.frame thead { border-bottom: none; }\n",
       ".datatable table.frame tr.coltypes td {  color: #FFFFFF;  line-height: 6px;  padding: 0 0.5em;}\n",
       ".datatable .bool    { background: #DDDD99; }\n",
       ".datatable .object  { background: #565656; }\n",
       ".datatable .int     { background: #5D9E5D; }\n",
       ".datatable .float   { background: #4040CC; }\n",
       ".datatable .str     { background: #CC4040; }\n",
       ".datatable .time    { background: #40CC40; }\n",
       ".datatable .row_index {  background: var(--jp-border-color3);  border-right: 1px solid var(--jp-border-color0);  color: var(--jp-ui-font-color3);  font-size: 9px;}\n",
       ".datatable .frame tbody td { text-align: left; }\n",
       ".datatable .frame tr.coltypes .row_index {  background: var(--jp-border-color0);}\n",
       ".datatable th:nth-child(2) { padding-left: 12px; }\n",
       ".datatable .hellipsis {  color: var(--jp-cell-editor-border-color);}\n",
       ".datatable .vellipsis {  background: var(--jp-layout-color0);  color: var(--jp-cell-editor-border-color);}\n",
       ".datatable .na {  color: var(--jp-cell-editor-border-color);  font-size: 80%;}\n",
       ".datatable .sp {  opacity: 0.25;}\n",
       ".datatable .footer { font-size: 9px; }\n",
       ".datatable .frame_dimensions {  background: var(--jp-border-color3);  border-top: 1px solid var(--jp-border-color0);  color: var(--jp-ui-font-color3);  display: inline-block;  opacity: 0.6;  padding: 1px 10px 1px 5px;}\n",
       "</style>\n"
      ],
      "text/plain": [
       "<IPython.core.display.HTML object>"
      ]
     },
     "metadata": {},
     "output_type": "display_data"
    },
    {
     "data": {
      "text/plain": [
       "(1178029, 304)"
      ]
     },
     "execution_count": 1,
     "metadata": {},
     "output_type": "execute_result"
    }
   ],
   "source": [
    "import pandas as pd\n",
    "import numpy as np\n",
    "import matplotlib.pyplot as plt\n",
    "import seaborn as sns\n",
    "import math\n",
    "import random\n",
    "from sklearn.linear_model import Lasso\n",
    "import lightgbm as lgbm\n",
    "\n",
    "X = pd.read_parquet('../input/ubiquant-parquet/train_low_mem.parquet')\\\n",
    ".drop(pd.read_csv('../input/math5470/validation_indexes.csv', index_col=0).index).sample(frac=0.5)\n",
    "X.index = range(X.shape[0])\n",
    "X.shape"
   ]
  },
  {
   "cell_type": "code",
   "execution_count": 2,
   "id": "8f89f97b",
   "metadata": {
    "execution": {
     "iopub.execute_input": "2022-04-17T03:17:01.195371Z",
     "iopub.status.busy": "2022-04-17T03:17:01.194713Z",
     "iopub.status.idle": "2022-04-17T03:17:01.362915Z",
     "shell.execute_reply": "2022-04-17T03:17:01.362403Z",
     "shell.execute_reply.started": "2022-04-16T07:04:15.457949Z"
    },
    "papermill": {
     "duration": 0.18366,
     "end_time": "2022-04-17T03:17:01.363071",
     "exception": false,
     "start_time": "2022-04-17T03:17:01.179411",
     "status": "completed"
    },
    "tags": []
   },
   "outputs": [
    {
     "data": {
      "text/plain": [
       "(785352, 0)"
      ]
     },
     "execution_count": 2,
     "metadata": {},
     "output_type": "execute_result"
    }
   ],
   "source": [
    "pd.read_csv('../input/math5470/validation_indexes.csv', index_col=0).shape"
   ]
  },
  {
   "cell_type": "code",
   "execution_count": 3,
   "id": "320e5e03",
   "metadata": {
    "execution": {
     "iopub.execute_input": "2022-04-17T03:17:01.395673Z",
     "iopub.status.busy": "2022-04-17T03:17:01.395018Z",
     "iopub.status.idle": "2022-04-17T03:17:06.318321Z",
     "shell.execute_reply": "2022-04-17T03:17:06.317639Z",
     "shell.execute_reply.started": "2022-04-16T07:04:15.614077Z"
    },
    "papermill": {
     "duration": 4.942832,
     "end_time": "2022-04-17T03:17:06.318474",
     "exception": false,
     "start_time": "2022-04-17T03:17:01.375642",
     "status": "completed"
    },
    "tags": []
   },
   "outputs": [],
   "source": [
    "features = X.columns[4:]\n",
    "corrs = list() \n",
    "for col in features:\n",
    "    corr = np.corrcoef(X['target'], X[col])[0][1]\n",
    "    corrs.append(corr)\n",
    "    \n",
    "corrs_feature_assetNum =pd.Series(corrs, index=features)"
   ]
  },
  {
   "cell_type": "code",
   "execution_count": 4,
   "id": "a17e2b1b",
   "metadata": {
    "execution": {
     "iopub.execute_input": "2022-04-17T03:17:06.348329Z",
     "iopub.status.busy": "2022-04-17T03:17:06.347536Z",
     "iopub.status.idle": "2022-04-17T06:11:12.872854Z",
     "shell.execute_reply": "2022-04-17T06:11:12.874505Z",
     "shell.execute_reply.started": "2022-04-16T07:04:24.914115Z"
    },
    "papermill": {
     "duration": 10446.543711,
     "end_time": "2022-04-17T06:11:12.876429",
     "exception": false,
     "start_time": "2022-04-17T03:17:06.332718",
     "status": "completed"
    },
    "tags": []
   },
   "outputs": [
    {
     "name": "stdout",
     "output_type": "stream",
     "text": [
      "[0.14286797396593773]\n",
      "[0.14286797396593773, 0.14204651565135756]\n",
      "[0.14286797396593773, 0.14204651565135756, 0.13991522038713947]\n"
     ]
    }
   ],
   "source": [
    "import numpy as np\n",
    "from sklearn.model_selection import KFold\n",
    "import scipy.stats as st\n",
    "import xgboost as xgb\n",
    "\n",
    "feature_subset = corrs_feature_assetNum.sort_values(ascending=False).index\n",
    "\n",
    "y = X['target']\n",
    "X = X[feature_subset]\n",
    "\n",
    "kf = KFold(n_splits=3)\n",
    "kf.get_n_splits(X)\n",
    "\n",
    "params_1 = [0.1,]\n",
    "params_2 = [10,]\n",
    "scores = {}\n",
    "\n",
    "for param_1 in params_1:\n",
    "    for param_2 in params_2:\n",
    "        scores[(param_1, param_2)] = []\n",
    "        \n",
    "for train_index, test_index in kf.split(X):\n",
    "    X_train, X_test = X.loc[train_index], X.loc[test_index]\n",
    "    y_train, y_test = y.loc[train_index], y.loc[test_index]\n",
    "    \n",
    "    for param_1 in params_1:\n",
    "        for param_2 in params_2:\n",
    "            model = xgb.XGBRegressor(\n",
    "                n_estimators=100,\n",
    "                learning_rate=param_1,\n",
    "                max_depth=param_2,\n",
    "                subsample=0.5,\n",
    "                random_state=1)\n",
    "            model.fit(X_train, y_train)\n",
    "            y_pred = model.predict(X_test)\n",
    "            scores[(param_1, param_2)] += [st.pearsonr(y_pred, y_test)[0]]\n",
    "            print(scores[(param_1, param_2)])"
   ]
  },
  {
   "cell_type": "code",
   "execution_count": 5,
   "id": "a1b2affd",
   "metadata": {
    "execution": {
     "iopub.execute_input": "2022-04-17T06:11:12.929905Z",
     "iopub.status.busy": "2022-04-17T06:11:12.928758Z",
     "iopub.status.idle": "2022-04-17T06:11:12.931931Z",
     "shell.execute_reply": "2022-04-17T06:11:12.931310Z",
     "shell.execute_reply.started": "2022-04-16T10:43:52.048812Z"
    },
    "papermill": {
     "duration": 0.030787,
     "end_time": "2022-04-17T06:11:12.932086",
     "exception": false,
     "start_time": "2022-04-17T06:11:12.901299",
     "status": "completed"
    },
    "tags": []
   },
   "outputs": [],
   "source": [
    "# feature_subset = corrs_feature_assetNum.sort_values(ascending=False)[:100].index\n",
    "\n",
    "# X = X[feature_subset]\n",
    "\n",
    "# kf = KFold(n_splits=3)\n",
    "# kf.get_n_splits(X)\n",
    "\n",
    "# params_1 = [0.01,0.1,1]\n",
    "# params_2 = [1,6]\n",
    "# scores = {}\n",
    "\n",
    "# for param_1 in params_1:\n",
    "#     for param_2 in params_2:\n",
    "#         scores[(param_1, param_2)] = []\n",
    "        \n",
    "# for train_index, test_index in kf.split(X):\n",
    "#     X_train, X_test = X.loc[train_index], X.loc[test_index]\n",
    "#     y_train, y_test = y.loc[train_index], y.loc[test_index]\n",
    "    \n",
    "#     for param_1 in params_1:\n",
    "#         for param_2 in params_2:\n",
    "#             model = xgb.XGBRegressor(\n",
    "#                 n_estimators=100,\n",
    "#                 learning_rate=param_1,\n",
    "#                 max_depth=param_2,\n",
    "#                 subsample=0.5,\n",
    "#                 random_state=1)\n",
    "#             model.fit(X_train, y_train)\n",
    "#             y_pred = model.predict(X_test)\n",
    "#             scores[(param_1, param_2)] += [st.pearsonr(y_pred, y_test)[0]]\n",
    "#             print(scores[(param_1, param_2)])"
   ]
  },
  {
   "cell_type": "code",
   "execution_count": 6,
   "id": "876dc2d3",
   "metadata": {
    "execution": {
     "iopub.execute_input": "2022-04-17T06:11:12.962631Z",
     "iopub.status.busy": "2022-04-17T06:11:12.961494Z",
     "iopub.status.idle": "2022-04-17T06:11:12.965765Z",
     "shell.execute_reply": "2022-04-17T06:11:12.966375Z",
     "shell.execute_reply.started": "2022-04-16T10:43:52.068644Z"
    },
    "papermill": {
     "duration": 0.021148,
     "end_time": "2022-04-17T06:11:12.966564",
     "exception": false,
     "start_time": "2022-04-17T06:11:12.945416",
     "status": "completed"
    },
    "tags": []
   },
   "outputs": [],
   "source": [
    "# feature_subset = corrs_feature_assetNum.sort_values(ascending=False)[:50].index\n",
    "\n",
    "# X = X[feature_subset]\n",
    "\n",
    "# kf = KFold(n_splits=3)\n",
    "# kf.get_n_splits(X)\n",
    "\n",
    "# params_1 = [0.01,0.1,1]\n",
    "# params_2 = [1,6]\n",
    "# scores = {}\n",
    "\n",
    "# for param_1 in params_1:\n",
    "#     for param_2 in params_2:\n",
    "#         scores[(param_1, param_2)] = []\n",
    "        \n",
    "# for train_index, test_index in kf.split(X):\n",
    "#     X_train, X_test = X.loc[train_index], X.loc[test_index]\n",
    "#     y_train, y_test = y.loc[train_index], y.loc[test_index]\n",
    "    \n",
    "#     for param_1 in params_1:\n",
    "#         for param_2 in params_2:\n",
    "#             model = xgb.XGBRegressor(\n",
    "#                 n_estimators=100,\n",
    "#                 learning_rate=param_1,\n",
    "#                 max_depth=param_2,\n",
    "#                 subsample=0.5,\n",
    "#                 random_state=1)\n",
    "#             model.fit(X_train, y_train)\n",
    "#             y_pred = model.predict(X_test)\n",
    "#             scores[(param_1, param_2)] += [st.pearsonr(y_pred, y_test)[0]]\n",
    "#             print(scores[(param_1, param_2)])"
   ]
  },
  {
   "cell_type": "code",
   "execution_count": 7,
   "id": "bbbed0df",
   "metadata": {
    "execution": {
     "iopub.execute_input": "2022-04-17T06:11:12.994933Z",
     "iopub.status.busy": "2022-04-17T06:11:12.993985Z",
     "iopub.status.idle": "2022-04-17T06:11:13.021003Z",
     "shell.execute_reply": "2022-04-17T06:11:13.021469Z",
     "shell.execute_reply.started": "2022-04-16T10:43:52.097112Z"
    },
    "papermill": {
     "duration": 0.043088,
     "end_time": "2022-04-17T06:11:13.021637",
     "exception": false,
     "start_time": "2022-04-17T06:11:12.978549",
     "status": "completed"
    },
    "tags": []
   },
   "outputs": [
    {
     "data": {
      "text/plain": [
       "(0.1, 10)"
      ]
     },
     "execution_count": 7,
     "metadata": {},
     "output_type": "execute_result"
    }
   ],
   "source": [
    "best_params = pd.DataFrame.from_dict(scores, orient='index').T.mean().sort_values().index[-1]\n",
    "best_params"
   ]
  },
  {
   "cell_type": "code",
   "execution_count": 8,
   "id": "1d914e91",
   "metadata": {
    "execution": {
     "iopub.execute_input": "2022-04-17T06:11:13.050349Z",
     "iopub.status.busy": "2022-04-17T06:11:13.049728Z",
     "iopub.status.idle": "2022-04-17T06:11:13.052523Z",
     "shell.execute_reply": "2022-04-17T06:11:13.052044Z",
     "shell.execute_reply.started": "2022-04-16T10:43:52.142538Z"
    },
    "papermill": {
     "duration": 0.018753,
     "end_time": "2022-04-17T06:11:13.052658",
     "exception": false,
     "start_time": "2022-04-17T06:11:13.033905",
     "status": "completed"
    },
    "tags": []
   },
   "outputs": [],
   "source": [
    "# del X, X_train, X_test\n",
    "# del y, y_train, y_test\n",
    "# import gc\n",
    "# gc.collect()"
   ]
  },
  {
   "cell_type": "code",
   "execution_count": 9,
   "id": "c677eead",
   "metadata": {
    "execution": {
     "iopub.execute_input": "2022-04-17T06:11:13.082336Z",
     "iopub.status.busy": "2022-04-17T06:11:13.081723Z",
     "iopub.status.idle": "2022-04-17T06:11:13.084537Z",
     "shell.execute_reply": "2022-04-17T06:11:13.085021Z",
     "shell.execute_reply.started": "2022-04-16T10:43:52.147347Z"
    },
    "papermill": {
     "duration": 0.020152,
     "end_time": "2022-04-17T06:11:13.085193",
     "exception": false,
     "start_time": "2022-04-17T06:11:13.065041",
     "status": "completed"
    },
    "tags": []
   },
   "outputs": [],
   "source": [
    "# X = pd.read_parquet('../input/ubiquant-parquet/train_low_mem.parquet')#.sample(frac=0.2)\n",
    "# feature_subset = corrs_feature_assetNum.sort_values(ascending=False).index\n",
    "# y = X['target']\n",
    "# X = X[feature_subset]"
   ]
  },
  {
   "cell_type": "code",
   "execution_count": 10,
   "id": "51c8e730",
   "metadata": {
    "execution": {
     "iopub.execute_input": "2022-04-17T06:11:13.116580Z",
     "iopub.status.busy": "2022-04-17T06:11:13.115876Z",
     "iopub.status.idle": "2022-04-17T07:36:29.138988Z",
     "shell.execute_reply": "2022-04-17T07:36:29.139815Z"
    },
    "papermill": {
     "duration": 5116.04323,
     "end_time": "2022-04-17T07:36:29.140801",
     "exception": false,
     "start_time": "2022-04-17T06:11:13.097571",
     "status": "completed"
    },
    "tags": []
   },
   "outputs": [
    {
     "data": {
      "text/plain": [
       "XGBRegressor(base_score=0.5, booster='gbtree', colsample_bylevel=1,\n",
       "             colsample_bynode=1, colsample_bytree=1, enable_categorical=False,\n",
       "             gamma=0, gpu_id=-1, importance_type=None,\n",
       "             interaction_constraints='', learning_rate=0.1, max_delta_step=0,\n",
       "             max_depth=10, min_child_weight=1, missing=nan,\n",
       "             monotone_constraints='()', n_estimators=100, n_jobs=4,\n",
       "             num_parallel_tree=1, predictor='auto', random_state=1, reg_alpha=0,\n",
       "             reg_lambda=1, scale_pos_weight=1, subsample=0.5,\n",
       "             tree_method='exact', validate_parameters=1, verbosity=None)"
      ]
     },
     "execution_count": 10,
     "metadata": {},
     "output_type": "execute_result"
    }
   ],
   "source": [
    "model = xgb.XGBRegressor(\n",
    "    n_estimators=100,\n",
    "    learning_rate=best_params[0],\n",
    "    max_depth=best_params[1],\n",
    "    subsample=0.5,\n",
    "    random_state=1)\n",
    "model.fit(X, y)"
   ]
  },
  {
   "cell_type": "code",
   "execution_count": null,
   "id": "d7e2976d",
   "metadata": {
    "papermill": {
     "duration": 0.012916,
     "end_time": "2022-04-17T07:36:29.166793",
     "exception": false,
     "start_time": "2022-04-17T07:36:29.153877",
     "status": "completed"
    },
    "tags": []
   },
   "outputs": [],
   "source": []
  },
  {
   "cell_type": "code",
   "execution_count": 11,
   "id": "50772408",
   "metadata": {
    "execution": {
     "iopub.execute_input": "2022-04-17T07:36:29.208837Z",
     "iopub.status.busy": "2022-04-17T07:36:29.207829Z",
     "iopub.status.idle": "2022-04-17T07:36:29.416822Z",
     "shell.execute_reply": "2022-04-17T07:36:29.416157Z"
    },
    "papermill": {
     "duration": 0.237102,
     "end_time": "2022-04-17T07:36:29.417016",
     "exception": false,
     "start_time": "2022-04-17T07:36:29.179914",
     "status": "completed"
    },
    "tags": []
   },
   "outputs": [
    {
     "name": "stdout",
     "output_type": "stream",
     "text": [
      "This version of the API is not optimized and should not be used to estimate the runtime of your code on the hidden test set.\n"
     ]
    }
   ],
   "source": [
    "import ubiquant\n",
    "env = ubiquant.make_env()   # initialize the environment\n",
    "iter_test = env.iter_test()    # an iterator which loops over the test set and sample submission\n",
    "\n",
    "for (test_df, sample_prediction_df) in iter_test:\n",
    "    sample_prediction_df['target'] = model.predict(test_df[feature_subset])  # make your predictions here\n",
    "    env.predict(sample_prediction_df)   # register your predictions"
   ]
  }
 ],
 "metadata": {
  "kernelspec": {
   "display_name": "Python 3",
   "language": "python",
   "name": "python3"
  },
  "language_info": {
   "codemirror_mode": {
    "name": "ipython",
    "version": 3
   },
   "file_extension": ".py",
   "mimetype": "text/x-python",
   "name": "python",
   "nbconvert_exporter": "python",
   "pygments_lexer": "ipython3",
   "version": "3.7.12"
  },
  "papermill": {
   "default_parameters": {},
   "duration": 15628.822207,
   "end_time": "2022-04-17T07:36:31.201540",
   "environment_variables": {},
   "exception": null,
   "input_path": "__notebook__.ipynb",
   "output_path": "__notebook__.ipynb",
   "parameters": {},
   "start_time": "2022-04-17T03:16:02.379333",
   "version": "2.3.3"
  }
 },
 "nbformat": 4,
 "nbformat_minor": 5
}
