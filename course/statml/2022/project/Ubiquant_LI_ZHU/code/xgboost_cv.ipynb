{
 "cells": [
  {
   "cell_type": "code",
   "execution_count": 1,
   "id": "9b88864b",
   "metadata": {
    "execution": {
     "iopub.execute_input": "2022-04-16T10:51:41.126246Z",
     "iopub.status.busy": "2022-04-16T10:51:41.125434Z",
     "iopub.status.idle": "2022-04-16T10:52:32.017742Z",
     "shell.execute_reply": "2022-04-16T10:52:32.018452Z",
     "shell.execute_reply.started": "2022-04-16T07:03:32.365228Z"
    },
    "papermill": {
     "duration": 50.921342,
     "end_time": "2022-04-16T10:52:32.018794",
     "exception": false,
     "start_time": "2022-04-16T10:51:41.097452",
     "status": "completed"
    },
    "tags": []
   },
   "outputs": [
    {
     "data": {
      "text/html": [
       "<style type='text/css'>\n",
       ".datatable table.frame { margin-bottom: 0; }\n",
       ".datatable table.frame thead { border-bottom: none; }\n",
       ".datatable table.frame tr.coltypes td {  color: #FFFFFF;  line-height: 6px;  padding: 0 0.5em;}\n",
       ".datatable .bool    { background: #DDDD99; }\n",
       ".datatable .object  { background: #565656; }\n",
       ".datatable .int     { background: #5D9E5D; }\n",
       ".datatable .float   { background: #4040CC; }\n",
       ".datatable .str     { background: #CC4040; }\n",
       ".datatable .time    { background: #40CC40; }\n",
       ".datatable .row_index {  background: var(--jp-border-color3);  border-right: 1px solid var(--jp-border-color0);  color: var(--jp-ui-font-color3);  font-size: 9px;}\n",
       ".datatable .frame tbody td { text-align: left; }\n",
       ".datatable .frame tr.coltypes .row_index {  background: var(--jp-border-color0);}\n",
       ".datatable th:nth-child(2) { padding-left: 12px; }\n",
       ".datatable .hellipsis {  color: var(--jp-cell-editor-border-color);}\n",
       ".datatable .vellipsis {  background: var(--jp-layout-color0);  color: var(--jp-cell-editor-border-color);}\n",
       ".datatable .na {  color: var(--jp-cell-editor-border-color);  font-size: 80%;}\n",
       ".datatable .sp {  opacity: 0.25;}\n",
       ".datatable .footer { font-size: 9px; }\n",
       ".datatable .frame_dimensions {  background: var(--jp-border-color3);  border-top: 1px solid var(--jp-border-color0);  color: var(--jp-ui-font-color3);  display: inline-block;  opacity: 0.6;  padding: 1px 10px 1px 5px;}\n",
       "</style>\n"
      ],
      "text/plain": [
       "<IPython.core.display.HTML object>"
      ]
     },
     "metadata": {},
     "output_type": "display_data"
    },
    {
     "data": {
      "text/plain": [
       "(1178029, 304)"
      ]
     },
     "execution_count": 1,
     "metadata": {},
     "output_type": "execute_result"
    }
   ],
   "source": [
    "import pandas as pd\n",
    "import numpy as np\n",
    "import matplotlib.pyplot as plt\n",
    "import seaborn as sns\n",
    "import math\n",
    "import random\n",
    "from sklearn.linear_model import Lasso\n",
    "import lightgbm as lgbm\n",
    "\n",
    "X = pd.read_parquet('../input/ubiquant-parquet/train_low_mem.parquet')\\\n",
    ".drop(pd.read_csv('../input/math5470/validation_indexes.csv', index_col=0).index).sample(frac=0.5)\n",
    "X.index = range(X.shape[0])\n",
    "X.shape"
   ]
  },
  {
   "cell_type": "code",
   "execution_count": 2,
   "id": "45e3a41f",
   "metadata": {
    "execution": {
     "iopub.execute_input": "2022-04-16T10:52:32.056638Z",
     "iopub.status.busy": "2022-04-16T10:52:32.055857Z",
     "iopub.status.idle": "2022-04-16T10:52:32.315824Z",
     "shell.execute_reply": "2022-04-16T10:52:32.316649Z",
     "shell.execute_reply.started": "2022-04-16T07:04:15.457949Z"
    },
    "papermill": {
     "duration": 0.28234,
     "end_time": "2022-04-16T10:52:32.316862",
     "exception": false,
     "start_time": "2022-04-16T10:52:32.034522",
     "status": "completed"
    },
    "tags": []
   },
   "outputs": [
    {
     "data": {
      "text/plain": [
       "(785352, 0)"
      ]
     },
     "execution_count": 2,
     "metadata": {},
     "output_type": "execute_result"
    }
   ],
   "source": [
    "pd.read_csv('../input/math5470/validation_indexes.csv', index_col=0).shape"
   ]
  },
  {
   "cell_type": "code",
   "execution_count": 3,
   "id": "be3d52e9",
   "metadata": {
    "execution": {
     "iopub.execute_input": "2022-04-16T10:52:32.357983Z",
     "iopub.status.busy": "2022-04-16T10:52:32.357217Z",
     "iopub.status.idle": "2022-04-16T10:52:38.703083Z",
     "shell.execute_reply": "2022-04-16T10:52:38.702432Z",
     "shell.execute_reply.started": "2022-04-16T07:04:15.614077Z"
    },
    "papermill": {
     "duration": 6.369488,
     "end_time": "2022-04-16T10:52:38.703273",
     "exception": false,
     "start_time": "2022-04-16T10:52:32.333785",
     "status": "completed"
    },
    "tags": []
   },
   "outputs": [],
   "source": [
    "features = X.columns[4:]\n",
    "corrs = list() \n",
    "for col in features:\n",
    "    corr = np.corrcoef(X['target'], X[col])[0][1]\n",
    "    corrs.append(corr)\n",
    "    \n",
    "corrs_feature_assetNum =pd.Series(corrs, index=features)"
   ]
  },
  {
   "cell_type": "code",
   "execution_count": 4,
   "id": "d4160d50",
   "metadata": {
    "execution": {
     "iopub.execute_input": "2022-04-16T10:52:38.746727Z",
     "iopub.status.busy": "2022-04-16T10:52:38.743210Z",
     "iopub.status.idle": "2022-04-16T20:31:03.955114Z",
     "shell.execute_reply": "2022-04-16T20:31:03.956653Z",
     "shell.execute_reply.started": "2022-04-16T07:04:24.914115Z"
    },
    "papermill": {
     "duration": 34705.240073,
     "end_time": "2022-04-16T20:31:03.958582",
     "exception": false,
     "start_time": "2022-04-16T10:52:38.718509",
     "status": "completed"
    },
    "tags": []
   },
   "outputs": [
    {
     "name": "stdout",
     "output_type": "stream",
     "text": [
      "[0.1076037017768402]\n",
      "[0.1454906606749752]\n",
      "[0.11412031608057359]\n",
      "[0.1265881388215182]\n",
      "[0.11592074189737428]\n",
      "[0.10424746288636874]\n",
      "[0.1076037017768402, 0.10735933986155867]\n",
      "[0.1454906606749752, 0.14155094808967827]\n",
      "[0.11412031608057359, 0.11376039236937585]\n",
      "[0.1265881388215182, 0.12209790826626798]\n",
      "[0.11592074189737428, 0.11636415565407836]\n",
      "[0.10424746288636874, 0.1099567292775272]\n",
      "[0.1076037017768402, 0.10735933986155867, 0.11007961402087993]\n",
      "[0.1454906606749752, 0.14155094808967827, 0.14487564515846368]\n",
      "[0.11412031608057359, 0.11376039236937585, 0.11528279872544556]\n",
      "[0.1265881388215182, 0.12209790826626798, 0.1195026430952446]\n",
      "[0.11592074189737428, 0.11636415565407836, 0.11706001503109267]\n",
      "[0.10424746288636874, 0.1099567292775272, 0.10341988019556358]\n"
     ]
    }
   ],
   "source": [
    "import numpy as np\n",
    "from sklearn.model_selection import KFold\n",
    "import scipy.stats as st\n",
    "import xgboost as xgb\n",
    "\n",
    "feature_subset = corrs_feature_assetNum.sort_values(ascending=False).index\n",
    "\n",
    "y = X['target']\n",
    "X = X[feature_subset]\n",
    "\n",
    "kf = KFold(n_splits=3)\n",
    "kf.get_n_splits(X)\n",
    "\n",
    "params_1 = [0.1,0.2,0.3]\n",
    "params_2 = [1,10]\n",
    "scores = {}\n",
    "\n",
    "for param_1 in params_1:\n",
    "    for param_2 in params_2:\n",
    "        scores[(param_1, param_2)] = []\n",
    "        \n",
    "for train_index, test_index in kf.split(X):\n",
    "    X_train, X_test = X.loc[train_index], X.loc[test_index]\n",
    "    y_train, y_test = y.loc[train_index], y.loc[test_index]\n",
    "    \n",
    "    for param_1 in params_1:\n",
    "        for param_2 in params_2:\n",
    "            model = xgb.XGBRegressor(\n",
    "                n_estimators=100,\n",
    "                learning_rate=param_1,\n",
    "                max_depth=param_2,\n",
    "                subsample=0.5,\n",
    "                random_state=1)\n",
    "            model.fit(X_train, y_train)\n",
    "            y_pred = model.predict(X_test)\n",
    "            scores[(param_1, param_2)] += [st.pearsonr(y_pred, y_test)[0]]\n",
    "            print(scores[(param_1, param_2)])"
   ]
  },
  {
   "cell_type": "code",
   "execution_count": 5,
   "id": "83c436ee",
   "metadata": {
    "execution": {
     "iopub.execute_input": "2022-04-16T20:31:04.028477Z",
     "iopub.status.busy": "2022-04-16T20:31:04.021897Z",
     "iopub.status.idle": "2022-04-16T20:31:04.030380Z",
     "shell.execute_reply": "2022-04-16T20:31:04.031152Z",
     "shell.execute_reply.started": "2022-04-16T10:43:52.048812Z"
    },
    "papermill": {
     "duration": 0.038796,
     "end_time": "2022-04-16T20:31:04.031397",
     "exception": false,
     "start_time": "2022-04-16T20:31:03.992601",
     "status": "completed"
    },
    "tags": []
   },
   "outputs": [],
   "source": [
    "# feature_subset = corrs_feature_assetNum.sort_values(ascending=False)[:100].index\n",
    "\n",
    "# X = X[feature_subset]\n",
    "\n",
    "# kf = KFold(n_splits=3)\n",
    "# kf.get_n_splits(X)\n",
    "\n",
    "# params_1 = [0.01,0.1,1]\n",
    "# params_2 = [1,6]\n",
    "# scores = {}\n",
    "\n",
    "# for param_1 in params_1:\n",
    "#     for param_2 in params_2:\n",
    "#         scores[(param_1, param_2)] = []\n",
    "        \n",
    "# for train_index, test_index in kf.split(X):\n",
    "#     X_train, X_test = X.loc[train_index], X.loc[test_index]\n",
    "#     y_train, y_test = y.loc[train_index], y.loc[test_index]\n",
    "    \n",
    "#     for param_1 in params_1:\n",
    "#         for param_2 in params_2:\n",
    "#             model = xgb.XGBRegressor(\n",
    "#                 n_estimators=100,\n",
    "#                 learning_rate=param_1,\n",
    "#                 max_depth=param_2,\n",
    "#                 subsample=0.5,\n",
    "#                 random_state=1)\n",
    "#             model.fit(X_train, y_train)\n",
    "#             y_pred = model.predict(X_test)\n",
    "#             scores[(param_1, param_2)] += [st.pearsonr(y_pred, y_test)[0]]\n",
    "#             print(scores[(param_1, param_2)])"
   ]
  },
  {
   "cell_type": "code",
   "execution_count": 6,
   "id": "c1861372",
   "metadata": {
    "execution": {
     "iopub.execute_input": "2022-04-16T20:31:04.081322Z",
     "iopub.status.busy": "2022-04-16T20:31:04.078480Z",
     "iopub.status.idle": "2022-04-16T20:31:04.083601Z",
     "shell.execute_reply": "2022-04-16T20:31:04.084137Z",
     "shell.execute_reply.started": "2022-04-16T10:43:52.068644Z"
    },
    "papermill": {
     "duration": 0.030974,
     "end_time": "2022-04-16T20:31:04.084380",
     "exception": false,
     "start_time": "2022-04-16T20:31:04.053406",
     "status": "completed"
    },
    "tags": []
   },
   "outputs": [],
   "source": [
    "# feature_subset = corrs_feature_assetNum.sort_values(ascending=False)[:50].index\n",
    "\n",
    "# X = X[feature_subset]\n",
    "\n",
    "# kf = KFold(n_splits=3)\n",
    "# kf.get_n_splits(X)\n",
    "\n",
    "# params_1 = [0.01,0.1,1]\n",
    "# params_2 = [1,6]\n",
    "# scores = {}\n",
    "\n",
    "# for param_1 in params_1:\n",
    "#     for param_2 in params_2:\n",
    "#         scores[(param_1, param_2)] = []\n",
    "        \n",
    "# for train_index, test_index in kf.split(X):\n",
    "#     X_train, X_test = X.loc[train_index], X.loc[test_index]\n",
    "#     y_train, y_test = y.loc[train_index], y.loc[test_index]\n",
    "    \n",
    "#     for param_1 in params_1:\n",
    "#         for param_2 in params_2:\n",
    "#             model = xgb.XGBRegressor(\n",
    "#                 n_estimators=100,\n",
    "#                 learning_rate=param_1,\n",
    "#                 max_depth=param_2,\n",
    "#                 subsample=0.5,\n",
    "#                 random_state=1)\n",
    "#             model.fit(X_train, y_train)\n",
    "#             y_pred = model.predict(X_test)\n",
    "#             scores[(param_1, param_2)] += [st.pearsonr(y_pred, y_test)[0]]\n",
    "#             print(scores[(param_1, param_2)])"
   ]
  },
  {
   "cell_type": "code",
   "execution_count": 7,
   "id": "420f0b8b",
   "metadata": {
    "execution": {
     "iopub.execute_input": "2022-04-16T20:31:04.143879Z",
     "iopub.status.busy": "2022-04-16T20:31:04.143108Z",
     "iopub.status.idle": "2022-04-16T20:31:04.152414Z",
     "shell.execute_reply": "2022-04-16T20:31:04.152923Z",
     "shell.execute_reply.started": "2022-04-16T10:43:52.097112Z"
    },
    "papermill": {
     "duration": 0.047143,
     "end_time": "2022-04-16T20:31:04.153117",
     "exception": false,
     "start_time": "2022-04-16T20:31:04.105974",
     "status": "completed"
    },
    "tags": []
   },
   "outputs": [
    {
     "data": {
      "text/plain": [
       "(0.1, 10)"
      ]
     },
     "execution_count": 7,
     "metadata": {},
     "output_type": "execute_result"
    }
   ],
   "source": [
    "best_params = pd.DataFrame.from_dict(scores, orient='index').T.mean().sort_values().index[-1]\n",
    "best_params"
   ]
  },
  {
   "cell_type": "code",
   "execution_count": 8,
   "id": "a72b6d81",
   "metadata": {
    "execution": {
     "iopub.execute_input": "2022-04-16T20:31:04.201123Z",
     "iopub.status.busy": "2022-04-16T20:31:04.200417Z",
     "iopub.status.idle": "2022-04-16T20:31:04.203736Z",
     "shell.execute_reply": "2022-04-16T20:31:04.204193Z",
     "shell.execute_reply.started": "2022-04-16T10:43:52.142538Z"
    },
    "papermill": {
     "duration": 0.029572,
     "end_time": "2022-04-16T20:31:04.204406",
     "exception": false,
     "start_time": "2022-04-16T20:31:04.174834",
     "status": "completed"
    },
    "tags": []
   },
   "outputs": [],
   "source": [
    "# del X, X_train, X_test\n",
    "# del y, y_train, y_test\n",
    "# import gc\n",
    "# gc.collect()"
   ]
  },
  {
   "cell_type": "code",
   "execution_count": 9,
   "id": "20850244",
   "metadata": {
    "execution": {
     "iopub.execute_input": "2022-04-16T20:31:04.253867Z",
     "iopub.status.busy": "2022-04-16T20:31:04.253163Z",
     "iopub.status.idle": "2022-04-16T20:31:04.256088Z",
     "shell.execute_reply": "2022-04-16T20:31:04.255528Z",
     "shell.execute_reply.started": "2022-04-16T10:43:52.147347Z"
    },
    "papermill": {
     "duration": 0.029519,
     "end_time": "2022-04-16T20:31:04.256247",
     "exception": false,
     "start_time": "2022-04-16T20:31:04.226728",
     "status": "completed"
    },
    "tags": []
   },
   "outputs": [],
   "source": [
    "# X = pd.read_parquet('../input/ubiquant-parquet/train_low_mem.parquet')#.sample(frac=0.2)\n",
    "# feature_subset = corrs_feature_assetNum.sort_values(ascending=False).index\n",
    "# y = X['target']\n",
    "# X = X[feature_subset]"
   ]
  },
  {
   "cell_type": "code",
   "execution_count": 10,
   "id": "4f0e3d5c",
   "metadata": {
    "execution": {
     "iopub.execute_input": "2022-04-16T20:31:04.307720Z",
     "iopub.status.busy": "2022-04-16T20:31:04.307014Z",
     "iopub.status.idle": "2022-04-16T22:17:37.730401Z",
     "shell.execute_reply": "2022-04-16T22:17:37.731281Z"
    },
    "papermill": {
     "duration": 6393.454364,
     "end_time": "2022-04-16T22:17:37.732476",
     "exception": false,
     "start_time": "2022-04-16T20:31:04.278112",
     "status": "completed"
    },
    "tags": []
   },
   "outputs": [
    {
     "data": {
      "text/plain": [
       "XGBRegressor(base_score=0.5, booster='gbtree', colsample_bylevel=1,\n",
       "             colsample_bynode=1, colsample_bytree=1, enable_categorical=False,\n",
       "             gamma=0, gpu_id=-1, importance_type=None,\n",
       "             interaction_constraints='', learning_rate=0.1, max_delta_step=0,\n",
       "             max_depth=10, min_child_weight=1, missing=nan,\n",
       "             monotone_constraints='()', n_estimators=100, n_jobs=4,\n",
       "             num_parallel_tree=1, predictor='auto', random_state=1, reg_alpha=0,\n",
       "             reg_lambda=1, scale_pos_weight=1, subsample=0.5,\n",
       "             tree_method='exact', validate_parameters=1, verbosity=None)"
      ]
     },
     "execution_count": 10,
     "metadata": {},
     "output_type": "execute_result"
    }
   ],
   "source": [
    "model = xgb.XGBRegressor(\n",
    "    n_estimators=100,\n",
    "    learning_rate=best_params[0],\n",
    "    max_depth=best_params[1],\n",
    "    subsample=0.5,\n",
    "    random_state=1)\n",
    "model.fit(X, y)"
   ]
  },
  {
   "cell_type": "code",
   "execution_count": null,
   "id": "cb0a7d75",
   "metadata": {
    "papermill": {
     "duration": 0.025394,
     "end_time": "2022-04-16T22:17:37.780833",
     "exception": false,
     "start_time": "2022-04-16T22:17:37.755439",
     "status": "completed"
    },
    "tags": []
   },
   "outputs": [],
   "source": []
  },
  {
   "cell_type": "code",
   "execution_count": 11,
   "id": "635956e0",
   "metadata": {
    "execution": {
     "iopub.execute_input": "2022-04-16T22:17:37.833496Z",
     "iopub.status.busy": "2022-04-16T22:17:37.832598Z",
     "iopub.status.idle": "2022-04-16T22:17:38.054055Z",
     "shell.execute_reply": "2022-04-16T22:17:38.054911Z"
    },
    "papermill": {
     "duration": 0.250914,
     "end_time": "2022-04-16T22:17:38.055148",
     "exception": false,
     "start_time": "2022-04-16T22:17:37.804234",
     "status": "completed"
    },
    "tags": []
   },
   "outputs": [
    {
     "name": "stdout",
     "output_type": "stream",
     "text": [
      "This version of the API is not optimized and should not be used to estimate the runtime of your code on the hidden test set.\n"
     ]
    }
   ],
   "source": [
    "import ubiquant\n",
    "env = ubiquant.make_env()   # initialize the environment\n",
    "iter_test = env.iter_test()    # an iterator which loops over the test set and sample submission\n",
    "\n",
    "for (test_df, sample_prediction_df) in iter_test:\n",
    "    sample_prediction_df['target'] = model.predict(test_df[feature_subset])  # make your predictions here\n",
    "    env.predict(sample_prediction_df)   # register your predictions"
   ]
  }
 ],
 "metadata": {
  "kernelspec": {
   "display_name": "Python 3",
   "language": "python",
   "name": "python3"
  },
  "language_info": {
   "codemirror_mode": {
    "name": "ipython",
    "version": 3
   },
   "file_extension": ".py",
   "mimetype": "text/x-python",
   "name": "python",
   "nbconvert_exporter": "python",
   "pygments_lexer": "ipython3",
   "version": "3.7.12"
  },
  "papermill": {
   "default_parameters": {},
   "duration": 41169.87574,
   "end_time": "2022-04-16T22:17:40.191133",
   "environment_variables": {},
   "exception": null,
   "input_path": "__notebook__.ipynb",
   "output_path": "__notebook__.ipynb",
   "parameters": {},
   "start_time": "2022-04-16T10:51:30.315393",
   "version": "2.3.3"
  }
 },
 "nbformat": 4,
 "nbformat_minor": 5
}
