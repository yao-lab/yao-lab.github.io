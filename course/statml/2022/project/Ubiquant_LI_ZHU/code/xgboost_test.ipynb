{
 "cells": [
  {
   "cell_type": "code",
   "execution_count": 1,
   "id": "af77f1e7",
   "metadata": {
    "execution": {
     "iopub.execute_input": "2022-04-18T13:39:24.767385Z",
     "iopub.status.busy": "2022-04-18T13:39:24.765580Z",
     "iopub.status.idle": "2022-04-18T13:40:14.602303Z",
     "shell.execute_reply": "2022-04-18T13:40:14.602824Z",
     "shell.execute_reply.started": "2022-04-18T13:06:37.350444Z"
    },
    "papermill": {
     "duration": 49.855179,
     "end_time": "2022-04-18T13:40:14.603183",
     "exception": false,
     "start_time": "2022-04-18T13:39:24.748004",
     "status": "completed"
    },
    "tags": []
   },
   "outputs": [
    {
     "data": {
      "text/html": [
       "<style type='text/css'>\n",
       ".datatable table.frame { margin-bottom: 0; }\n",
       ".datatable table.frame thead { border-bottom: none; }\n",
       ".datatable table.frame tr.coltypes td {  color: #FFFFFF;  line-height: 6px;  padding: 0 0.5em;}\n",
       ".datatable .bool    { background: #DDDD99; }\n",
       ".datatable .object  { background: #565656; }\n",
       ".datatable .int     { background: #5D9E5D; }\n",
       ".datatable .float   { background: #4040CC; }\n",
       ".datatable .str     { background: #CC4040; }\n",
       ".datatable .time    { background: #40CC40; }\n",
       ".datatable .row_index {  background: var(--jp-border-color3);  border-right: 1px solid var(--jp-border-color0);  color: var(--jp-ui-font-color3);  font-size: 9px;}\n",
       ".datatable .frame tbody td { text-align: left; }\n",
       ".datatable .frame tr.coltypes .row_index {  background: var(--jp-border-color0);}\n",
       ".datatable th:nth-child(2) { padding-left: 12px; }\n",
       ".datatable .hellipsis {  color: var(--jp-cell-editor-border-color);}\n",
       ".datatable .vellipsis {  background: var(--jp-layout-color0);  color: var(--jp-cell-editor-border-color);}\n",
       ".datatable .na {  color: var(--jp-cell-editor-border-color);  font-size: 80%;}\n",
       ".datatable .sp {  opacity: 0.25;}\n",
       ".datatable .footer { font-size: 9px; }\n",
       ".datatable .frame_dimensions {  background: var(--jp-border-color3);  border-top: 1px solid var(--jp-border-color0);  color: var(--jp-ui-font-color3);  display: inline-block;  opacity: 0.6;  padding: 1px 10px 1px 5px;}\n",
       "</style>\n"
      ],
      "text/plain": [
       "<IPython.core.display.HTML object>"
      ]
     },
     "metadata": {},
     "output_type": "display_data"
    },
    {
     "data": {
      "text/plain": [
       "(1178029, 304)"
      ]
     },
     "execution_count": 1,
     "metadata": {},
     "output_type": "execute_result"
    }
   ],
   "source": [
    "import pandas as pd\n",
    "import numpy as np\n",
    "import matplotlib.pyplot as plt\n",
    "import seaborn as sns\n",
    "import math\n",
    "import random\n",
    "from sklearn.linear_model import Lasso\n",
    "import lightgbm as lgbm\n",
    "\n",
    "X = pd.read_parquet('../input/ubiquant-parquet/train_low_mem.parquet')\\\n",
    ".drop(pd.read_csv('../input/math5470/validation_indexes.csv', index_col=0).index).sample(frac=0.5)\n",
    "X.index = range(X.shape[0])\n",
    "X.shape"
   ]
  },
  {
   "cell_type": "code",
   "execution_count": 2,
   "id": "7dd3da99",
   "metadata": {
    "execution": {
     "iopub.execute_input": "2022-04-18T13:40:14.634939Z",
     "iopub.status.busy": "2022-04-18T13:40:14.633424Z",
     "iopub.status.idle": "2022-04-18T13:40:14.878635Z",
     "shell.execute_reply": "2022-04-18T13:40:14.878029Z",
     "shell.execute_reply.started": "2022-04-18T13:07:22.852182Z"
    },
    "papermill": {
     "duration": 0.263368,
     "end_time": "2022-04-18T13:40:14.878787",
     "exception": false,
     "start_time": "2022-04-18T13:40:14.615419",
     "status": "completed"
    },
    "tags": []
   },
   "outputs": [
    {
     "data": {
      "text/plain": [
       "(785352, 0)"
      ]
     },
     "execution_count": 2,
     "metadata": {},
     "output_type": "execute_result"
    }
   ],
   "source": [
    "pd.read_csv('../input/math5470/validation_indexes.csv', index_col=0).shape"
   ]
  },
  {
   "cell_type": "code",
   "execution_count": 3,
   "id": "29cf1e08",
   "metadata": {
    "execution": {
     "iopub.execute_input": "2022-04-18T13:40:14.912121Z",
     "iopub.status.busy": "2022-04-18T13:40:14.911430Z",
     "iopub.status.idle": "2022-04-18T13:40:21.459615Z",
     "shell.execute_reply": "2022-04-18T13:40:21.458962Z",
     "shell.execute_reply.started": "2022-04-18T13:07:23.08102Z"
    },
    "papermill": {
     "duration": 6.568837,
     "end_time": "2022-04-18T13:40:21.459772",
     "exception": false,
     "start_time": "2022-04-18T13:40:14.890935",
     "status": "completed"
    },
    "tags": []
   },
   "outputs": [],
   "source": [
    "features = X.columns[4:]\n",
    "corrs = list() \n",
    "for col in features:\n",
    "    corr = np.corrcoef(X['target'], X[col])[0][1]\n",
    "    corrs.append(corr)\n",
    "    \n",
    "corrs_feature_assetNum =pd.Series(corrs, index=features)"
   ]
  },
  {
   "cell_type": "code",
   "execution_count": 4,
   "id": "34417433",
   "metadata": {
    "execution": {
     "iopub.execute_input": "2022-04-18T13:40:21.491827Z",
     "iopub.status.busy": "2022-04-18T13:40:21.491100Z",
     "iopub.status.idle": "2022-04-18T13:40:22.466865Z",
     "shell.execute_reply": "2022-04-18T13:40:22.466322Z",
     "shell.execute_reply.started": "2022-04-18T13:07:27.828436Z"
    },
    "papermill": {
     "duration": 0.995013,
     "end_time": "2022-04-18T13:40:22.467017",
     "exception": false,
     "start_time": "2022-04-18T13:40:21.472004",
     "status": "completed"
    },
    "tags": []
   },
   "outputs": [],
   "source": [
    "import numpy as np\n",
    "from sklearn.model_selection import KFold\n",
    "import scipy.stats as st\n",
    "import xgboost as xgb\n",
    "\n",
    "feature_subset = corrs_feature_assetNum.sort_values(ascending=False).index\n",
    "\n",
    "y = X['target']\n",
    "X = X[feature_subset]\n",
    "\n",
    "# kf = KFold(n_splits=3)\n",
    "# kf.get_n_splits(X)\n",
    "\n",
    "# params_1 = [0.1,]\n",
    "# params_2 = [10,]\n",
    "# scores = {}\n",
    "\n",
    "# for param_1 in params_1:\n",
    "#     for param_2 in params_2:\n",
    "#         scores[(param_1, param_2)] = []\n",
    "        \n",
    "# for train_index, test_index in kf.split(X):\n",
    "#     X_train, X_test = X.loc[train_index], X.loc[test_index]\n",
    "#     y_train, y_test = y.loc[train_index], y.loc[test_index]\n",
    "    \n",
    "#     for param_1 in params_1:\n",
    "#         for param_2 in params_2:\n",
    "#             model = xgb.XGBRegressor(\n",
    "#                 n_estimators=100,\n",
    "#                 learning_rate=param_1,\n",
    "#                 max_depth=param_2,\n",
    "#                 subsample=0.5,\n",
    "#                 random_state=1)\n",
    "#             model.fit(X_train, y_train)\n",
    "#             y_pred = model.predict(X_test)\n",
    "#             scores[(param_1, param_2)] += [st.pearsonr(y_pred, y_test)[0]]\n",
    "#             print(scores[(param_1, param_2)])"
   ]
  },
  {
   "cell_type": "code",
   "execution_count": 5,
   "id": "f2fa2674",
   "metadata": {
    "execution": {
     "iopub.execute_input": "2022-04-18T13:40:22.497929Z",
     "iopub.status.busy": "2022-04-18T13:40:22.496652Z",
     "iopub.status.idle": "2022-04-18T13:40:22.499258Z",
     "shell.execute_reply": "2022-04-18T13:40:22.498753Z",
     "shell.execute_reply.started": "2022-04-18T13:07:28.502778Z"
    },
    "papermill": {
     "duration": 0.020156,
     "end_time": "2022-04-18T13:40:22.499400",
     "exception": false,
     "start_time": "2022-04-18T13:40:22.479244",
     "status": "completed"
    },
    "tags": []
   },
   "outputs": [],
   "source": [
    "# best_params = pd.DataFrame.from_dict(scores, orient='index').T.mean().sort_values().index[-1]\n",
    "best_params = [0.1, 10]"
   ]
  },
  {
   "cell_type": "code",
   "execution_count": 6,
   "id": "129b88de",
   "metadata": {
    "execution": {
     "iopub.execute_input": "2022-04-18T13:40:22.527639Z",
     "iopub.status.busy": "2022-04-18T13:40:22.526974Z",
     "iopub.status.idle": "2022-04-18T15:11:53.041520Z",
     "shell.execute_reply": "2022-04-18T15:11:53.042212Z"
    },
    "papermill": {
     "duration": 5490.531215,
     "end_time": "2022-04-18T15:11:53.042718",
     "exception": false,
     "start_time": "2022-04-18T13:40:22.511503",
     "status": "completed"
    },
    "tags": []
   },
   "outputs": [
    {
     "data": {
      "text/plain": [
       "XGBRegressor(base_score=0.5, booster='gbtree', colsample_bylevel=1,\n",
       "             colsample_bynode=1, colsample_bytree=1, enable_categorical=False,\n",
       "             gamma=0, gpu_id=-1, importance_type=None,\n",
       "             interaction_constraints='', learning_rate=0.1, max_delta_step=0,\n",
       "             max_depth=10, min_child_weight=1, missing=nan,\n",
       "             monotone_constraints='()', n_estimators=100, n_jobs=4,\n",
       "             num_parallel_tree=1, predictor='auto', random_state=1, reg_alpha=0,\n",
       "             reg_lambda=1, scale_pos_weight=1, subsample=0.5,\n",
       "             tree_method='exact', validate_parameters=1, verbosity=None)"
      ]
     },
     "execution_count": 6,
     "metadata": {},
     "output_type": "execute_result"
    }
   ],
   "source": [
    "model = xgb.XGBRegressor(\n",
    "    n_estimators=100,\n",
    "    learning_rate=best_params[0],\n",
    "    max_depth=best_params[1],\n",
    "    subsample=0.5,\n",
    "    random_state=1)\n",
    "model.fit(X, y)"
   ]
  },
  {
   "cell_type": "code",
   "execution_count": 7,
   "id": "c319b658",
   "metadata": {
    "execution": {
     "iopub.execute_input": "2022-04-18T15:11:53.076923Z",
     "iopub.status.busy": "2022-04-18T15:11:53.075835Z",
     "iopub.status.idle": "2022-04-18T15:11:53.602610Z",
     "shell.execute_reply": "2022-04-18T15:11:53.601946Z"
    },
    "papermill": {
     "duration": 0.546391,
     "end_time": "2022-04-18T15:11:53.602778",
     "exception": false,
     "start_time": "2022-04-18T15:11:53.056387",
     "status": "completed"
    },
    "tags": []
   },
   "outputs": [
    {
     "data": {
      "text/plain": [
       "130"
      ]
     },
     "execution_count": 7,
     "metadata": {},
     "output_type": "execute_result"
    }
   ],
   "source": [
    "del X#, X_train, X_test\n",
    "del y#, y_train, y_test\n",
    "import gc\n",
    "gc.collect()"
   ]
  },
  {
   "cell_type": "code",
   "execution_count": 8,
   "id": "a456ea90",
   "metadata": {
    "execution": {
     "iopub.execute_input": "2022-04-18T15:11:53.637667Z",
     "iopub.status.busy": "2022-04-18T15:11:53.636817Z",
     "iopub.status.idle": "2022-04-18T15:12:32.272773Z",
     "shell.execute_reply": "2022-04-18T15:12:32.273319Z"
    },
    "papermill": {
     "duration": 38.656839,
     "end_time": "2022-04-18T15:12:32.273556",
     "exception": false,
     "start_time": "2022-04-18T15:11:53.616717",
     "status": "completed"
    },
    "tags": []
   },
   "outputs": [],
   "source": [
    "X = pd.read_parquet('../input/ubiquant-parquet/train_low_mem.parquet')\\\n",
    ".loc[pd.read_csv('../input/math5470/validation_indexes.csv', index_col=0).index]\n",
    "y = X['target']\n",
    "X = X[feature_subset]"
   ]
  },
  {
   "cell_type": "code",
   "execution_count": 9,
   "id": "ea7393c5",
   "metadata": {
    "execution": {
     "iopub.execute_input": "2022-04-18T15:12:32.304825Z",
     "iopub.status.busy": "2022-04-18T15:12:32.304116Z",
     "iopub.status.idle": "2022-04-18T15:12:36.693389Z",
     "shell.execute_reply": "2022-04-18T15:12:36.694209Z"
    },
    "papermill": {
     "duration": 4.406905,
     "end_time": "2022-04-18T15:12:36.694524",
     "exception": false,
     "start_time": "2022-04-18T15:12:32.287619",
     "status": "completed"
    },
    "tags": []
   },
   "outputs": [
    {
     "data": {
      "text/plain": [
       "(0.15513757523755245, 0.0)"
      ]
     },
     "execution_count": 9,
     "metadata": {},
     "output_type": "execute_result"
    }
   ],
   "source": [
    "y_pred = model.predict(X)\n",
    "st.pearsonr(y_pred, y)"
   ]
  },
  {
   "cell_type": "code",
   "execution_count": 10,
   "id": "7f9ccb62",
   "metadata": {
    "execution": {
     "iopub.execute_input": "2022-04-18T15:12:36.755262Z",
     "iopub.status.busy": "2022-04-18T15:12:36.754174Z",
     "iopub.status.idle": "2022-04-18T15:12:36.919891Z",
     "shell.execute_reply": "2022-04-18T15:12:36.920924Z"
    },
    "papermill": {
     "duration": 0.201103,
     "end_time": "2022-04-18T15:12:36.921155",
     "exception": false,
     "start_time": "2022-04-18T15:12:36.720052",
     "status": "completed"
    },
    "tags": []
   },
   "outputs": [
    {
     "name": "stdout",
     "output_type": "stream",
     "text": [
      "This version of the API is not optimized and should not be used to estimate the runtime of your code on the hidden test set.\n"
     ]
    }
   ],
   "source": [
    "import ubiquant\n",
    "env = ubiquant.make_env()   # initialize the environment\n",
    "iter_test = env.iter_test()    # an iterator which loops over the test set and sample submission\n",
    "\n",
    "for (test_df, sample_prediction_df) in iter_test:\n",
    "    sample_prediction_df['target'] = model.predict(test_df[feature_subset])  # make your predictions here\n",
    "    env.predict(sample_prediction_df)   # register your predictions"
   ]
  }
 ],
 "metadata": {
  "kernelspec": {
   "display_name": "Python 3",
   "language": "python",
   "name": "python3"
  },
  "language_info": {
   "codemirror_mode": {
    "name": "ipython",
    "version": 3
   },
   "file_extension": ".py",
   "mimetype": "text/x-python",
   "name": "python",
   "nbconvert_exporter": "python",
   "pygments_lexer": "ipython3",
   "version": "3.7.12"
  },
  "papermill": {
   "default_parameters": {},
   "duration": 5605.092345,
   "end_time": "2022-04-18T15:12:38.471001",
   "environment_variables": {},
   "exception": null,
   "input_path": "__notebook__.ipynb",
   "output_path": "__notebook__.ipynb",
   "parameters": {},
   "start_time": "2022-04-18T13:39:13.378656",
   "version": "2.3.3"
  }
 },
 "nbformat": 4,
 "nbformat_minor": 5
}
