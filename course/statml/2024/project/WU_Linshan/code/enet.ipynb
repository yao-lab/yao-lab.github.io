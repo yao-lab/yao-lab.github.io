{
 "cells": [
  {
   "cell_type": "code",
   "execution_count": 1,
   "metadata": {},
   "outputs": [],
   "source": [
    "import pandas as pd\n",
    "import numpy as np\n",
    "from sklearn.pipeline import make_pipeline\n",
    "from sklearn.preprocessing import StandardScaler\n",
    "from sklearn.linear_model import ElasticNet\n",
    "\n",
    "path = '../GKX/'\n",
    "### Data preparation\n",
    "## Load 94 firm characteristics dataset\n",
    "data_ch = pd.read_csv(path+'GKX_20201231.csv')\n",
    "data_ch['DATE'] = pd.to_datetime(data_ch['DATE'], format='%Y%m%d') + pd.offsets.MonthEnd(0)\n",
    "data_ch = data_ch[(data_ch['DATE'] >= '1957-01-31') & (data_ch['DATE'] <= '2016-12-31')]\n",
    "cols = data_ch.columns.tolist()\n",
    "cols_new = [x for x in cols if x not in ['permno', 'prc', 'SHROUT', 'mve0']]\n",
    "data_ch = data_ch[cols_new]\n",
    "\n",
    "# Construct dummy variables\n",
    "# Remove the samples with missing 'sic2'\n",
    "data_ch  = data_ch.dropna(subset=['sic2']).reset_index(drop=True)\n",
    "dummies = pd.get_dummies(data_ch['sic2'], prefix='dum_')\n",
    "data_ch = data_ch.drop('sic2', axis=1)\n",
    "data_ch = pd.concat([data_ch, dummies], axis=1)\n",
    "\n",
    "# Replace all missings of firm characteristics with 0\n",
    "chas = [x for x in cols_new if x not in ['DATE', 'RET', 'sic2']]\n",
    "data_ch[chas] = data_ch[chas].fillna(0)\n",
    "\n",
    "## Load 8 macroeconomic predictors\n",
    "data_ma = pd.read_csv(path+'PredictorData2023.csv')\n",
    "data_ma['yyyymm'] = pd.to_datetime(data_ma['yyyymm'], format='%Y%m') + pd.offsets.MonthEnd(0)\n",
    "data_ma = data_ma[(data_ma['yyyymm'] >= '1957-01-31') & (data_ma['yyyymm'] <= '2016-12-31')].reset_index(drop=True)\n",
    "#data_ma\n",
    "\n",
    "# Construct 8 macroeconomic predictors\n",
    "ma_predictors = ['dp', 'ep', 'bm', 'ntis', 'tbl', 'tms', 'dfy', 'svar']\n",
    "data_ma['Index'] = data_ma['Index'].str.replace(',', '').astype('float64')\n",
    "data_ma['dp'] = np.log(data_ma['D12'] / data_ma['Index'])\n",
    "data_ma['ep'] = np.log(data_ma['E12'] / data_ma['Index'])\n",
    "data_ma.rename(columns={'b/m': 'bm'}, inplace=True)\n",
    "data_ma['tms'] = data_ma['lty'] - data_ma['tbl']\n",
    "data_ma['dfy'] = data_ma['BAA'] - data_ma['AAA']\n",
    "data_ma = data_ma[['yyyymm'] + ma_predictors]\n",
    "\n",
    "# # Construct the dataset including all covariates\n",
    "# data_ma_long = pd.merge(data_ch['DATE'], data_ma, left_on='DATE', right_on='yyyymm', how='left').drop('yyyymm', axis=1)\n",
    "# for cha in chas:\n",
    "#     for predictor in ma_predictors:\n",
    "#         name = cha + '_' + predictor\n",
    "#         data_ch[name] = data_ch[cha] * data_ma_long[predictor]\n",
    "# data = data_ch\n",
    "\n",
    "# concate without covariates\n",
    "data = pd.merge(data_ch, data_ma, left_on='DATE', right_on='yyyymm', how='left').drop('yyyymm', axis=1)\n",
    "\n",
    "## Split the dataset\n",
    "def get_data_split(str, end):\n",
    "    # covariates = list(set(data.columns).difference({'DATE','RET'}))\n",
    "    # X = data[(data['DATE'] >= str) & (data['DATE'] <= end)][covariates].values\n",
    "    ch = list(set(data.columns).difference({'DATE','RET'}))\n",
    "    X = data[(data['DATE'] >= str) & (data['DATE'] <= end)][ch].to_numpy()\n",
    "    y = data[(data['DATE'] >= str) & (data['DATE'] <= end)]['RET'].to_numpy()\n",
    "    return X, y\n",
    "\n",
    "def r2_score(y, yhat):\n",
    "    r2 = 1 - sum((y - yhat) ** 2) / sum(y ** 2)\n",
    "    return r2"
   ]
  },
  {
   "cell_type": "code",
   "execution_count": 3,
   "metadata": {},
   "outputs": [
    {
     "name": "stdout",
     "output_type": "stream",
     "text": [
      "year:1/30, r^2:0.005128881072784308, para:8\n",
      "year:2/30, r^2:0.013976888617776684, para:8\n",
      "year:3/30, r^2:-0.008483129174205573, para:7\n",
      "year:4/30, r^2:-0.021236399709036347, para:7\n",
      "year:5/30, r^2:0.01962548154702337, para:7\n",
      "year:6/30, r^2:0.03144716211024934, para:8\n",
      "year:7/30, r^2:0.00943609815069446, para:8\n",
      "year:8/30, r^2:-0.005700440517024674, para:7\n",
      "year:9/30, r^2:0.0014343237943691411, para:9\n",
      "year:10/30, r^2:-0.006176204595162771, para:9\n",
      "year:11/30, r^2:-0.005910066030531569, para:9\n",
      "year:12/30, r^2:0.005117503998643191, para:10\n",
      "year:13/30, r^2:0.009797480302644157, para:9\n",
      "year:14/30, r^2:-0.005495446004204929, para:9\n",
      "year:15/30, r^2:0.06047660707372238, para:7\n",
      "year:16/30, r^2:-0.10827927793283654, para:8\n",
      "year:17/30, r^2:0.056077363779694966, para:9\n",
      "year:18/30, r^2:0.07277884359719766, para:8\n",
      "year:19/30, r^2:0.0055731413270180274, para:8\n",
      "year:20/30, r^2:0.016718956833412846, para:9\n",
      "year:21/30, r^2:-0.050868742126900734, para:8\n",
      "year:22/30, r^2:-0.010153272261590685, para:8\n",
      "year:23/30, r^2:0.07688422558196062, para:9\n",
      "year:24/30, r^2:0.10535152771132872, para:10\n",
      "year:25/30, r^2:-0.029157453836824, para:9\n",
      "year:26/30, r^2:0.034568101830794395, para:11\n",
      "year:27/30, r^2:0.042100506813419036, para:10\n",
      "year:28/30, r^2:-0.005113334075289577, para:10\n",
      "year:29/30, r^2:-0.09992361040979492, para:10\n",
      "year:30/30, r^2:0.015167661519021047, para:10\n"
     ]
    }
   ],
   "source": [
    "init_train_str = '1957-01-31'; init_train_end = '1974-12-31'\n",
    "init_val_str = '1975-01-31'; init_val_end = '1986-12-31'\n",
    "init_test_str = '1987-01-31'; init_test_end = '2016-12-31'\n",
    "year_span = 30\n",
    "### Model Fit\n",
    "enet_oos_r2 = []\n",
    "enet_oos_para = []\n",
    "for i in range(year_span):\n",
    "    # Get training dataset, test dataset split, test for one year\n",
    "    str = pd.to_datetime(init_train_str)\n",
    "    end = pd.to_datetime(init_val_end)+pd.DateOffset(years=i)\n",
    "    oos_str = end + pd.DateOffset(years=1)\n",
    "    oos_end = oos_str\n",
    "    \n",
    "    x_train, y_train = get_data_split(str, end)\n",
    "    x_test, y_test = get_data_split(oos_str, oos_end)\n",
    "\n",
    "    # Fit model\n",
    "    #alpha=1,0.1,0.01, l1_ratio=0.5,0.3,0.1\n",
    "    enet = ElasticNet(alpha=0.01,l1_ratio=0.3) \n",
    "    enet_model = make_pipeline(StandardScaler(), enet)\n",
    "    enet_model.fit(x_train, y_train)\n",
    "\n",
    "    # test\n",
    "    y_test_hat = enet_model.predict(x_test).flatten()\n",
    "    oos_r2= r2_score(y_test,y_test_hat)\n",
    "    enet_oos_r2.append(oos_r2)\n",
    "    \n",
    "    # record\n",
    "    # total_para - zero_para\n",
    "    eff_para = enet.coef_.shape[0] - np.where(enet.coef_==0)[0].shape[0]\n",
    "    enet_oos_para.append(eff_para)\n",
    "    print(\"year:{0}/30, r^2:{1}, para:{2}\".format(i+1,oos_r2,eff_para))"
   ]
  },
  {
   "cell_type": "code",
   "execution_count": null,
   "metadata": {},
   "outputs": [],
   "source": [
    "enet_rec = pd.DataFrame({'r^2':enet_oos_r2,'r^2':enet_oos_r2,'eff_para':enet_oos_para})\n",
    "enet_rec.to_csv(\"enet.csv\",index=False,sep=',')"
   ]
  },
  {
   "cell_type": "markdown",
   "metadata": {},
   "source": [
    "### Plot the Results"
   ]
  },
  {
   "cell_type": "code",
   "execution_count": 1,
   "metadata": {},
   "outputs": [],
   "source": [
    "import numpy as np\n",
    "import pandas as pd\n",
    "import matplotlib.pyplot as plt\n",
    "enetdata = pd.read_csv(\"./enet.csv\")"
   ]
  },
  {
   "cell_type": "code",
   "execution_count": 2,
   "metadata": {},
   "outputs": [
    {
     "data": {
      "image/png": "[encoded data removed]",
      "text/plain": [
       "<Figure size 500x300 with 1 Axes>"
      ]
     },
     "metadata": {},
     "output_type": "display_data"
    }
   ],
   "source": [
    "plt.figure(figsize=(5,3))\n",
    "plt.title(\"Elastic Net\")\n",
    "plt.xlabel('Year')\n",
    "plt.ylabel('$R^2$')\n",
    "plt.bar(np.arange(1987,2017),enetdata['r^2'])\n",
    "plt.tight_layout()"
   ]
  },
  {
   "cell_type": "code",
   "execution_count": 3,
   "metadata": {},
   "outputs": [
    {
     "data": {
      "image/png": "[encoded data removed]",
      "text/plain": [
       "<Figure size 500x300 with 1 Axes>"
      ]
     },
     "metadata": {},
     "output_type": "display_data"
    }
   ],
   "source": [
    "plt.figure(figsize=(5,3))\n",
    "plt.title(\"Elastic Net\")\n",
    "plt.xlabel('Year')\n",
    "plt.ylabel('# of Char.')\n",
    "plt.plot(np.arange(1987,2017),enetdata['eff_para'])\n",
    "plt.tight_layout()"
   ]
  },
  {
   "cell_type": "code",
   "execution_count": 9,
   "metadata": {},
   "outputs": [
    {
     "name": "stdout",
     "output_type": "stream",
     "text": [
      "avg R2: 0.0081\n"
     ]
    }
   ],
   "source": [
    "r2_total = sum(enetdata['r^2'])-max(enetdata['r^2'])-min(enetdata['r^2'])\n",
    "r2 = r2_total/(enetdata['r^2'].shape[0]-2)\n",
    "print(\"avg R2: {0:.4f}\".format(r2))"
   ]
  }
 ],
 "metadata": {
  "kernelspec": {
   "display_name": "pytorch",
   "language": "python",
   "name": "python3"
  },
  "language_info": {
   "codemirror_mode": {
    "name": "ipython",
    "version": 3
   },
   "file_extension": ".py",
   "mimetype": "text/x-python",
   "name": "python",
   "nbconvert_exporter": "python",
   "pygments_lexer": "ipython3",
   "version": "3.12.1"
  }
 },
 "nbformat": 4,
 "nbformat_minor": 2
}
