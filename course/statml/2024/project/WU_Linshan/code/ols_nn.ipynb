{
 "cells": [
  {
   "cell_type": "code",
   "execution_count": null,
   "metadata": {},
   "outputs": [],
   "source": [
    "# My imports\n",
    "import numpy as np\n",
    "import pandas as pd\n",
    "import warnings\n",
    "import tensorflow as tf\n",
    "from sklearn.linear_model import HuberRegressor\n",
    "from tensorflow.keras.models import Sequential\n",
    "from tensorflow.keras.layers import Dense\n",
    "from tensorflow.keras.callbacks import EarlyStopping\n",
    "from tensorflow.keras import regularizers\n",
    "from sklearn.preprocessing import MinMaxScaler\n",
    "\n",
    "warnings.filterwarnings('ignore')"
   ]
  },
  {
   "cell_type": "markdown",
   "metadata": {},
   "source": [
    "### Data Preparation"
   ]
  },
  {
   "cell_type": "code",
   "execution_count": null,
   "metadata": {},
   "outputs": [],
   "source": [
    "## Load 94 firm characteristics dataset\n",
    "data_ch = pd.read_csv('GKX_20201231.csv')\n",
    "data_ch['DATE'] = pd.to_datetime(data_ch['DATE'], format='%Y%m%d') + pd.offsets.MonthEnd(0)\n",
    "data_ch = data_ch[(data_ch['DATE'] >= '1957-01-31') & (data_ch['DATE'] <= '2016-12-31')]\n",
    "cols = data_ch.columns.tolist()\n",
    "cols_new = [x for x in cols if x not in ['permno', 'prc', 'SHROUT', 'mve0']]\n",
    "data_ch = data_ch[cols_new]"
   ]
  },
  {
   "cell_type": "code",
   "execution_count": null,
   "metadata": {},
   "outputs": [],
   "source": [
    "# Construct dummy variables and remove the samples with missing 'sic2'\n",
    "data_ch  = data_ch.dropna(subset=['sic2']).reset_index(drop=True)\n",
    "dummies = pd.get_dummies(data_ch['sic2'], prefix='dum_', dtype=np.float64)\n",
    "data_ch = data_ch.drop('sic2', axis=1)\n",
    "data_ch = pd.concat([data_ch, dummies], axis=1)"
   ]
  },
  {
   "cell_type": "code",
   "execution_count": null,
   "metadata": {},
   "outputs": [],
   "source": [
    "# Replace all missings of firm characteristics with 0\n",
    "chas = [x for x in cols_new if x not in ['DATE', 'RET', 'sic2']]\n",
    "data_ch[chas] = data_ch[chas].fillna(0)"
   ]
  },
  {
   "cell_type": "code",
   "execution_count": null,
   "metadata": {},
   "outputs": [],
   "source": [
    "## Load 8 macroeconomic predictors\n",
    "data_ma = pd.read_csv('PredictorData2023.csv')\n",
    "data_ma['yyyymm'] = pd.to_datetime(data_ma['yyyymm'], format='%Y%m') + pd.offsets.MonthEnd(0)\n",
    "data_ma = data_ma[(data_ma['yyyymm'] >= '1957-01-31') & (data_ma['yyyymm'] <= '2016-12-31')].reset_index(drop=True)"
   ]
  },
  {
   "cell_type": "code",
   "execution_count": null,
   "metadata": {},
   "outputs": [],
   "source": [
    "# Construct 8 macroeconomic predictors\n",
    "ma_predictors = ['dp', 'ep', 'bm', 'ntis', 'tbl', 'tms', 'dfy', 'svar']\n",
    "data_ma['Index'] = data_ma['Index'].str.replace(',', '').astype('float64')\n",
    "data_ma['dp'] = np.log(data_ma['D12'] / data_ma['Index'])\n",
    "data_ma['ep'] = np.log(data_ma['E12'] / data_ma['Index'])\n",
    "data_ma.rename(columns={'b/m': 'bm'}, inplace=True)\n",
    "data_ma['tms'] = data_ma['lty'] - data_ma['tbl']\n",
    "data_ma['dfy'] = data_ma['BAA'] - data_ma['AAA']\n",
    "data_ma = data_ma[['yyyymm'] + ma_predictors]"
   ]
  },
  {
   "cell_type": "code",
   "execution_count": null,
   "metadata": {},
   "outputs": [],
   "source": [
    "# Construct the dataset including all covariates\n",
    "data_ma_long = pd.merge(data_ch['DATE'], data_ma, left_on='DATE', right_on='yyyymm', how='left').drop('yyyymm', axis=1)\n",
    "for cha in chas:\n",
    "    for predictor in ma_predictors:\n",
    "        name = cha + '_' + predictor\n",
    "        data_ch[name] = data_ch[cha] * data_ma_long[predictor]\n",
    "data = data_ch"
   ]
  },
  {
   "cell_type": "code",
   "execution_count": null,
   "metadata": {},
   "outputs": [],
   "source": [
    "# Split the dataset\n",
    "def get_data_split(data, str, end, model=None):\n",
    "    if model == 'ols3':\n",
    "        dt = data[['DATE', 'RET', 'mvel1', 'bm', 'mom1m']]\n",
    "        covariates = ['mvel1', 'bm', 'mom1m']\n",
    "        X = dt[(dt['DATE'] >= str) & (dt['DATE'] <= end)][covariates].to_numpy()\n",
    "        y = dt[(dt['DATE'] >= str) & (dt['DATE'] <= end)]['RET'].to_numpy()\n",
    "        return X, y\n",
    "    else:\n",
    "        covariates = [x for x in data.columns if (x != 'RET') & (x != 'DATE')]\n",
    "        X = data[(data['DATE'] >= str) & (data['DATE'] <= end)][covariates].to_numpy()\n",
    "        y = data[(data['DATE'] >= str) & (data['DATE'] <= end)]['RET'].to_numpy()\n",
    "        return X, y\n",
    "\n",
    "def r2_score(y, yhat):\n",
    "    r2 = (1 - sum((y - yhat) ** 2) / sum(y ** 2)) * 100\n",
    "    return r2"
   ]
  },
  {
   "cell_type": "code",
   "execution_count": null,
   "metadata": {},
   "outputs": [],
   "source": [
    "train_str = '1957-01-31'; train_end = '1974-12-31'\n",
    "val_str = '1975-01-31'; val_end = '1986-12-31'\n",
    "test_str = '1987-01-31'; test_end = '2016-12-31'"
   ]
  },
  {
   "cell_type": "markdown",
   "metadata": {},
   "source": [
    "### OLS (top 1,000)"
   ]
  },
  {
   "cell_type": "markdown",
   "metadata": {},
   "source": [
    "#### OLS"
   ]
  },
  {
   "cell_type": "code",
   "execution_count": null,
   "metadata": {},
   "outputs": [],
   "source": [
    "# Get top 1,000 stock\n",
    "dt = data.groupby('DATE').apply(lambda x: x.nlargest(1000, 'mvel1')).reset_index(drop=True)"
   ]
  },
  {
   "cell_type": "code",
   "execution_count": null,
   "metadata": {},
   "outputs": [],
   "source": [
    "# OLS with Huber loss using top 1,000 stocks\n",
    "ols_oos = []\n",
    "for i in range(30):\n",
    "    # Get training dataset, test dataset split\n",
    "    str = pd.to_datetime(train_str)\n",
    "    end = pd.to_datetime(val_end) + pd.DateOffset(years=i)\n",
    "    oos_str = end + pd.DateOffset(months=1)\n",
    "    oos_end = end + pd.DateOffset(years=1)\n",
    "\n",
    "    X_train, y_train = get_data_split(dt, str, end)\n",
    "    X_test, y_test = get_data_split(dt, oos_str, oos_end)\n",
    "\n",
    "    scaler = MinMaxScaler()\n",
    "    X_train = scaler.fit_transform(X_train)\n",
    "    X_test = scaler.fit_transform(X_test)\n",
    "\n",
    "    # Fit the OLS model using 920 features\n",
    "    epsilon = X_train.shape[0] * 0.001\n",
    "    ols = HuberRegressor(fit_intercept=False, epsilon=epsilon)\n",
    "    ols.fit(X_train, y_train) \n",
    "    ols_oos.append(ols.predict(X_test)) "
   ]
  },
  {
   "cell_type": "code",
   "execution_count": null,
   "metadata": {},
   "outputs": [],
   "source": [
    "# Save oos predictions to a csv file\n",
    "y_pred = np.concatenate(ols_oos)\n",
    "with open('test_ols.csv', 'a') as f:\n",
    "        np.savetxt(f, y_pred, delimiter=',')\n",
    "\n",
    "# Compute 30 years' out of sample R^2 for NN\n",
    "a = pd.read_csv('test_ols.csv', header=None)\n",
    "y_test = get_data_split(dt, test_str, test_end)[1]\n",
    "r2_score(y_test, np.squeeze(a.values))"
   ]
  },
  {
   "cell_type": "markdown",
   "metadata": {},
   "source": [
    "#### OLS-3"
   ]
  },
  {
   "cell_type": "code",
   "execution_count": null,
   "metadata": {},
   "outputs": [],
   "source": [
    "# OLS-3 with huber loss using top 1,000 stocks\n",
    "ols3_oos = []\n",
    "for i in range(30):\n",
    "    # Get training dataset, test dataset split\n",
    "    str = pd.to_datetime(train_str)\n",
    "    end = pd.to_datetime(val_end) + pd.DateOffset(years=i)\n",
    "    oos_str = end + pd.DateOffset(months=1)\n",
    "    oos_end = end + pd.DateOffset(years=1)\n",
    "    \n",
    "    X_train, y_train = get_data_split(dt, str, end, model='ols3')\n",
    "    X_test, y_test = get_data_split(dt, oos_str, oos_end, model='ols3')\n",
    "    \n",
    "    scaler = MinMaxScaler()\n",
    "    X_train = scaler.fit_transform(X_train)\n",
    "    X_test = scaler.fit_transform(X_test)\n",
    "    \n",
    "    # Fit OLS-3\n",
    "    epsilon = X_train.shape[0] * 0.001\n",
    "    ols3 = HuberRegressor(fit_intercept=False, epsilon=epsilon)\n",
    "    ols3.fit(X_train, y_train)\n",
    "    ols3_oos.append(ols3.predict(X_test))"
   ]
  },
  {
   "cell_type": "code",
   "execution_count": null,
   "metadata": {},
   "outputs": [],
   "source": [
    "# Save oos predictions to a csv file\n",
    "y_pred = np.concatenate(ols3_oos)\n",
    "with open('test_ols3.csv', 'a') as f:\n",
    "        np.savetxt(f, y_pred, delimiter=',')\n",
    "        \n",
    "# Compute 30 years' out of sample R^2 for NN\n",
    "a = pd.read_csv('test_ols3.csv', header=None)\n",
    "y_test = get_data_split(dt, test_str, test_end)[1]\n",
    "r2_score(y_test, np.squeeze(a.values))"
   ]
  },
  {
   "cell_type": "markdown",
   "metadata": {},
   "source": [
    "### Neural Network (all data)"
   ]
  },
  {
   "cell_type": "code",
   "execution_count": null,
   "metadata": {},
   "outputs": [],
   "source": [
    "# Get the model\n",
    "def get_model(hidden_units, l1_coeff, learning_rate):\n",
    "    model = Sequential()\n",
    "    for i, units in enumerate(hidden_units):\n",
    "            model.add(Dense(units, kernel_regularizer=regularizers.l1(l1_coeff),\n",
    "                            activation='relu'))\n",
    "    if len(hidden_units) == 0:\n",
    "        model.add(Dense(1))\n",
    "    else:\n",
    "        model.add(Dense(1))\n",
    "    model.compile(optimizer=tf.keras.optimizers.Adam(learning_rate=learning_rate), loss='mse')\n",
    "    return model"
   ]
  },
  {
   "cell_type": "markdown",
   "metadata": {},
   "source": [
    "#### NN1~NN5"
   ]
  },
  {
   "cell_type": "code",
   "execution_count": null,
   "metadata": {},
   "outputs": [],
   "source": [
    "nn_oos = []\n",
    "for i in range(0, 30):\n",
    "    # Get training, validation and test dataset split\n",
    "    str = pd.to_datetime(train_str)\n",
    "    end = pd.to_datetime(train_end) + pd.DateOffset(years=i)\n",
    "    mid_str = end + pd.DateOffset(months=1)\n",
    "    mid_end = end + pd.DateOffset(years=12)\n",
    "    oos_str = mid_end + pd.DateOffset(months=1)\n",
    "    oos_end = mid_end + pd.DateOffset(years=1)\n",
    "\n",
    "    X_train, y_train = get_data_split(data, str, end)\n",
    "    X_val, y_val = get_data_split(data, mid_str, mid_end)\n",
    "    X_test, y_test = get_data_split(data, oos_str, oos_end)\n",
    "\n",
    "    # Scale the input features to the range [0, 1]\n",
    "    scaler = MinMaxScaler()\n",
    "    X_train = scaler.fit_transform(X_train)\n",
    "    X_val = scaler.fit_transform(X_val)\n",
    "    X_test = scaler.fit_transform(X_test)\n",
    "\n",
    "    # Create the training, validation and test Datasets\n",
    "    train_ds = tf.data.Dataset.from_tensor_slices((X_train.astype(np.float32), y_train.astype(np.float32)))\n",
    "    val_ds = tf.data.Dataset.from_tensor_slices((X_val.astype(np.float32), y_val.astype(np.float32)))\n",
    "    test_ds = tf.data.Dataset.from_tensor_slices((X_test.astype(np.float32), y_test.astype(np.float32)))\n",
    "\n",
    "    # Batch and prefetch the Datasets\n",
    "    train_ds = train_ds.batch(10000).prefetch(tf.data.AUTOTUNE)\n",
    "    val_ds = val_ds.batch(10000).prefetch(tf.data.AUTOTUNE)\n",
    "    test_ds = test_ds.batch(10000).prefetch(tf.data.AUTOTUNE)\n",
    "\n",
    "    # Fit NN\n",
    "    model = get_model(hidden_units=[32, 16, 8, 4, 2], l1_coeff=0.0001, learning_rate=0.005)\n",
    "    earlystopping = EarlyStopping(monitor='val_loss', patience=5)\n",
    "    model.fit(train_ds, epochs=50, validation_data=val_ds, verbose=False,\n",
    "                    callbacks=[earlystopping])\n",
    "\n",
    "    # Predict oos\n",
    "    nn_oos.append(model.predict(test_ds))"
   ]
  },
  {
   "cell_type": "code",
   "execution_count": null,
   "metadata": {},
   "outputs": [],
   "source": [
    "# Save oos predictions to a csv file\n",
    "y_pred = np.squeeze(np.concatenate(nn_oos))\n",
    "with open('test_nn5.csv', 'a') as f:\n",
    "        np.savetxt(f, y_pred, delimiter=',')\n",
    "\n",
    "# Compute 30 years' out of sample R^2 for NN\n",
    "a = pd.read_csv('test_nn5.csv', header=None)\n",
    "y_test = get_data_split(data, test_str, test_end)[1]\n",
    "r2_score(y_test, np.squeeze(a.values))"
   ]
  }
 ],
 "metadata": {
  "kernelspec": {
   "display_name": "Python 3",
   "language": "python",
   "name": "python3"
  },
  "language_info": {
   "codemirror_mode": {
    "name": "ipython",
    "version": 3
   },
   "file_extension": ".py",
   "mimetype": "text/x-python",
   "name": "python",
   "nbconvert_exporter": "python",
   "pygments_lexer": "ipython3",
   "version": "3.11.5"
  }
 },
 "nbformat": 4,
 "nbformat_minor": 2
}
