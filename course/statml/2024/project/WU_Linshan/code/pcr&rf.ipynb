{
 "cells": [
  {
   "cell_type": "code",
   "execution_count": 1,
   "metadata": {},
   "outputs": [
    {
     "name": "stderr",
     "output_type": "stream",
     "text": [
      "2024-04-29 11:56:23.384429: I tensorflow/core/platform/cpu_feature_guard.cc:182] This TensorFlow binary is optimized to use available CPU instructions in performance-critical operations.\n",
      "To enable the following instructions: SSE4.1 SSE4.2 AVX AVX2 FMA, in other operations, rebuild TensorFlow with the appropriate compiler flags.\n"
     ]
    }
   ],
   "source": [
    "import numpy as np\n",
    "import pandas as pd\n",
    "import warnings\n",
    "import tensorflow as tf\n",
    "from sklearn.linear_model import HuberRegressor\n",
    "from sklearn.decomposition import PCA\n",
    "from sklearn.cross_decomposition import PLSRegression\n",
    "from sklearn.metrics import mean_squared_error\n",
    "from sklearn.preprocessing import scale\n",
    "from sklearn.linear_model import LinearRegression\n",
    "from sklearn.preprocessing import StandardScaler\n",
    "\n",
    "from sklearn.tree import DecisionTreeRegressor, DecisionTreeClassifier, export_graphviz\n",
    "from sklearn.ensemble import BaggingClassifier, RandomForestClassifier, BaggingRegressor, RandomForestRegressor, GradientBoostingRegressor\n",
    "#from sklearn.inspection import plot_partial_dependence\n",
    "from sklearn.metrics import confusion_matrix, classification_report, mean_squared_error\n",
    "from sklearn.preprocessing import StandardScaler\n",
    "from sklearn.model_selection import KFold\n",
    "from sklearn.model_selection import GridSearchCV\n",
    "\n",
    "warnings.filterwarnings('ignore')\n",
    "path = '/home/jhecy/ML/'"
   ]
  },
  {
   "cell_type": "markdown",
   "metadata": {},
   "source": [
    "## Data preparation"
   ]
  },
  {
   "cell_type": "code",
   "execution_count": 2,
   "metadata": {},
   "outputs": [],
   "source": [
    "## Load 94 firm characteristics dataset\n",
    "data_ch = pd.read_csv(path+'GKX_20201231.csv')\n",
    "data_ch['DATE'] = pd.to_datetime(data_ch['DATE'], format='%Y%m%d') + pd.offsets.MonthEnd(0)\n",
    "data_ch = data_ch[(data_ch['DATE'] >= '1957-01-31') & (data_ch['DATE'] <= '2016-12-31')]\n",
    "cols = data_ch.columns.tolist()\n",
    "cols_new = [x for x in cols if x not in ['permno', 'prc', 'SHROUT', 'mve0']]\n",
    "data_ch = data_ch[cols_new]"
   ]
  },
  {
   "cell_type": "code",
   "execution_count": 3,
   "metadata": {},
   "outputs": [],
   "source": [
    "# Remove the samples with missing 'sic2'\n",
    "data_ch  = data_ch.dropna(subset=['sic2']).reset_index(drop=True)\n",
    "dummies = pd.get_dummies(data_ch['sic2'], prefix='dum_')\n",
    "data_ch = data_ch.drop('sic2', axis=1)\n",
    "# Construct dummy variables\n",
    "data_ch = pd.concat([data_ch, dummies], axis=1)"
   ]
  },
  {
   "cell_type": "code",
   "execution_count": 4,
   "metadata": {},
   "outputs": [],
   "source": [
    "# Replace all missings of firm characteristics with 0\n",
    "chas = [x for x in cols_new if x not in ['DATE', 'RET', 'sic2']]\n",
    "data_ch[chas] = data_ch[chas].fillna(0)"
   ]
  },
  {
   "cell_type": "code",
   "execution_count": 5,
   "metadata": {},
   "outputs": [],
   "source": [
    "## Load 8 macroeconomic predictors\n",
    "data_ma = pd.read_csv(path+'PredictorData2023.csv')\n",
    "data_ma['yyyymm'] = pd.to_datetime(data_ma['yyyymm'], format='%Y%m') + pd.offsets.MonthEnd(0)\n",
    "data_ma = data_ma[(data_ma['yyyymm'] >= '1957-01-31') & (data_ma['yyyymm'] <= '2016-12-31')].reset_index(drop=True)"
   ]
  },
  {
   "cell_type": "code",
   "execution_count": 6,
   "metadata": {},
   "outputs": [],
   "source": [
    "# Construct 8 macroeconomic predictors\n",
    "ma_predictors = ['dp', 'ep', 'bm', 'ntis', 'tbl', 'tms', 'dfy', 'svar']\n",
    "data_ma['Index'] = data_ma['Index'].str.replace(',', '').astype('float64')\n",
    "data_ma['dp'] = np.log(data_ma['D12'] / data_ma['Index'])\n",
    "data_ma['ep'] = np.log(data_ma['E12'] / data_ma['Index'])\n",
    "data_ma.rename(columns={'b/m': 'bm'}, inplace=True)\n",
    "data_ma['tms'] = data_ma['lty'] - data_ma['tbl']\n",
    "data_ma['dfy'] = data_ma['BAA'] - data_ma['AAA']\n",
    "data_ma = data_ma[['yyyymm'] + ma_predictors]\n"
   ]
  },
  {
   "cell_type": "code",
   "execution_count": 7,
   "metadata": {},
   "outputs": [],
   "source": [
    "# Construct the dataset including all covariates\n",
    "data_ma_long = pd.merge(data_ch['DATE'], data_ma, left_on='DATE', right_on='yyyymm', how='left').drop('yyyymm', axis=1)\n",
    "for cha in chas:\n",
    "    for predictor in ma_predictors:\n",
    "        name = cha + '_' + predictor\n",
    "        data_ch[name] = data_ch[cha] * data_ma_long[predictor]\n",
    "data = data_ch"
   ]
  },
  {
   "cell_type": "code",
   "execution_count": 9,
   "metadata": {},
   "outputs": [],
   "source": [
    "## Split the dataset without validation\n",
    "def get_data_split(str, end):\n",
    "    covariates = [x for x in data.columns if (x != 'RET') & (x != 'DATE')]\n",
    "    X = data[(data['DATE'] >= str) & (data['DATE'] <= end)][covariates].to_numpy()\n",
    "    y = data[(data['DATE'] >= str) & (data['DATE'] <= end)]['RET'].to_numpy()\n",
    "    return X, y"
   ]
  },
  {
   "cell_type": "code",
   "execution_count": 10,
   "metadata": {},
   "outputs": [],
   "source": [
    "# Split the dataset with validation\n",
    "\n",
    "def get_data_split1(str, end, model=None):\n",
    "    if model == 'ols3':\n",
    "        dt = data[['DATE', 'RET', 'mvel1', 'bm', 'mom1m']]\n",
    "        covariates = ['mvel1', 'bm', 'mom1m']\n",
    "        X = dt[(dt['DATE'] >= str) & (dt['DATE'] <= end)][covariates]\n",
    "        y = dt[(dt['DATE'] >= str) & (dt['DATE'] <= end)]['RET']\n",
    "        return X, y\n",
    "    else:\n",
    "        covariates = [x for x in data.columns if (x != 'RET') & (x != 'DATE')]\n",
    "        X = data[(data['DATE'] >= str) & (data['DATE'] <= end)][covariates].to_numpy()\n",
    "        y = data[(data['DATE'] >= str) & (data['DATE'] <= end)]['RET'].to_numpy()\n",
    "        return X, y"
   ]
  },
  {
   "cell_type": "code",
   "execution_count": 11,
   "metadata": {},
   "outputs": [],
   "source": [
    "# r2 function\n",
    "def r2_score(y, yhat):\n",
    "    r2 = 1 - sum((y - yhat) ** 2) / sum(y ** 2)\n",
    "    return r2"
   ]
  },
  {
   "cell_type": "code",
   "execution_count": 12,
   "metadata": {},
   "outputs": [],
   "source": [
    "train_str = '1957-01-31'; train_end = '1974-12-31'\n",
    "val_str = '1975-01-31'; val_end = '1986-12-31'\n",
    "test_str = '1987-01-31'; test_end = '2016-12-31'"
   ]
  },
  {
   "cell_type": "markdown",
   "metadata": {},
   "source": [
    "## RF"
   ]
  },
  {
   "cell_type": "code",
   "execution_count": null,
   "metadata": {},
   "outputs": [],
   "source": [
    "## Fitting RF with training data with tuning hyperparameter\n",
    "rf_oos = np.array([0])\n",
    "for i in range(0,1):\n",
    "    # Get training dataset, test dataset split\n",
    "    str = pd.to_datetime(train_str)\n",
    "    end = pd.to_datetime(train_end) + pd.DateOffset(years=i)\n",
    "    mid_str = end + pd.DateOffset(months=1)\n",
    "    mid_end = end + pd.DateOffset(years=12)\n",
    "    oos_str = mid_end + pd.DateOffset(months=1)\n",
    "    oos_end = mid_end + pd.DateOffset(years=1)\n",
    "\n",
    "    X_train, y_train = get_data_split(str, end)\n",
    "    X_val, y_val = get_data_split(mid_str, mid_end)\n",
    "    X_test, y_test = get_data_split(oos_str, oos_end)\n",
    "\n",
    "    \n",
    "    scaler = StandardScaler()\n",
    "    scaler.fit(X_train)\n",
    "    X_train_std = scaler.transform(X_train)\n",
    "    X_val_std = scaler.transform(X_val)\n",
    "    X_test_std = scaler.transform(X_test)\n",
    "    \n",
    "    # Define the parameter grid to search over\n",
    "    param_grid = {\n",
    "    'max_depth': [1, 2, 3, 4, 5, 6],\n",
    "    'n_estimators': [100, 200, 300, 400, 500, 600, 700, 800, 900],\n",
    "    'max_features': [3, 5, 10, 20, 30, 40, 50]\n",
    "    }\n",
    "\n",
    "    # Define the cross-validation scheme\n",
    "    cv = KFold(n_splits=5, shuffle=True, random_state=1)\n",
    "\n",
    "    # Create a random forest regressor object\n",
    "    rf = RandomForestRegressor(random_state=1)\n",
    "    # Create a grid search object\n",
    "    grid_search = GridSearchCV(estimator=rf, param_grid=param_grid, cv=cv, n_jobs=-1, scoring='neg_mean_squared_error')\n",
    "\n",
    "    # Fit the grid search object to the training data\n",
    "    grid_search.fit(X_train_std, y_train)\n",
    "\n",
    "    # Print the best parameters and score\n",
    "    print(\"Best parameters: \", grid_search.best_params_)\n",
    "    print(\"Best score: \", grid_search.best_score_)\n",
    "    \n",
    "    # Train the final model using the best parameters on the combined training and validation sets\n",
    "    best_rf = RandomForestRegressor(max_depth=grid_search.best_params_['max_depth'],\n",
    "                                n_estimators=grid_search.best_params_['n_estimators'],\n",
    "                                max_features=grid_search.best_params_['max_features'],\n",
    "                                random_state=1)\n",
    "    best_rf.fit(X_val_std, y_val)\n",
    "\n",
    "    # Evaluate the final model on the test set\n",
    "    y_pred = best_rf.predict(X_test_std)\n",
    "    \n",
    "    #rf = RandomForestRegressor(max_features=10, random_state=1)\n",
    "    #rf.fit(X_train, y_train)\n",
    "    #y_pred = rf.predict(X_test)\n",
    "\n",
    "    rf_oos = np.concatenate((rf_oos.flatten(), y_pred.flatten()))\n",
    "    rf_oos = rf_oos.reshape(-1, 1)\n",
    "    y_test = y_test.ravel()\n",
    "    rf_oos = rf_oos.ravel()\n",
    "    rf_oos = np.resize(rf_oos, y_test.shape)\n",
    "    rf_oos_r2 = r2_score(y_test, rf_oos)\n",
    "    \n",
    "    print(rf_oos_r2)\n",
    "    \n",
    "    ## save the result\n",
    "    \n",
    "    # with open('/home/jhecy/ML/rf-y_pred.csv', 'a') as f:\n",
    "    #    np.savetxt(f, rf_oos, delimiter=',')\n",
    "    #with open('/home/jhecy/ML/rf-y_test.csv', 'a') as f:\n",
    "    #    np.savetxt(f, y_test, delimiter=',')"
   ]
  },
  {
   "cell_type": "code",
   "execution_count": null,
   "metadata": {},
   "outputs": [],
   "source": [
    "## Fitting RF with training data without tuning hyperparameter\n",
    "\n",
    "rf_oos = np.array([0])\n",
    "for i in range(0,1):\n",
    "    # Get training dataset, test dataset split\n",
    "    str = pd.to_datetime(train_str)\n",
    "    end = pd.to_datetime(val_end) + pd.DateOffset(years=i)\n",
    "    oos_str = end + pd.DateOffset(months=1)\n",
    "    oos_end = end + pd.DateOffset(years=1)\n",
    "    X_train, y_train = get_data_split(str, end)\n",
    "    X_test, y_test = get_data_split(oos_str, oos_end)\n",
    "    \n",
    "    \n",
    "    scaler = StandardScaler()\n",
    "    scaler.fit(X_train)\n",
    "    X_train_std = scaler.transform(X_train)\n",
    "    X_train_std = scaler.transform(X_train)\n",
    "    X_test_std = scaler.transform(X_test)\n",
    "    \n",
    "    rf = RandomForestRegressor(max_features=6, random_state=1)\n",
    "    rf.fit(X_train, y_train)\n",
    "    y_pred = rf.predict(X_test)\n",
    "\n",
    "    rf_oos = np.concatenate((rf_oos.flatten(), y_pred.flatten()))\n",
    "    rf_oos = rf_oos.reshape(-1, 1)\n",
    "    y_test = y_test.ravel()\n",
    "    rf_oos = rf_oos.ravel()\n",
    "    rf_oos = np.resize(rf_oos, y_test.shape)\n",
    "    rf_oos_r2 = r2_score(y_test, rf_oos)\n",
    "    print(rf_oos_r2)\n",
    "    # with open('/home/jhecy/ML/rf-y_pred.csv', 'a') as f:\n",
    "    #    np.savetxt(f, rf_oos, delimiter=',')\n",
    "    #with open('/home/jhecy/ML/rf-y_test.csv', 'a') as f:\n",
    "    #    np.savetxt(f, y_test, delimiter=',')"
   ]
  },
  {
   "cell_type": "code",
   "execution_count": null,
   "metadata": {},
   "outputs": [],
   "source": [
    "import csv\n",
    "y_pred = []\n",
    "\n",
    "with open('/home/jhecy/ML/rf-y_pred.csv', newline='') as file:\n",
    "    reader = csv.reader(file)\n",
    "    for row in reader:\n",
    "        y_pred.append(row[0])"
   ]
  },
  {
   "cell_type": "code",
   "execution_count": null,
   "metadata": {},
   "outputs": [],
   "source": [
    "y_test = []\n",
    "\n",
    "with open('/home/jhecy/ML/rf-y_test.csv', newline='') as file:\n",
    "    reader = csv.reader(file)\n",
    "    for row in reader:\n",
    "        y_test.append(row[0])"
   ]
  },
  {
   "cell_type": "markdown",
   "metadata": {},
   "source": [
    "### Importance variables"
   ]
  },
  {
   "cell_type": "code",
   "execution_count": null,
   "metadata": {},
   "outputs": [],
   "source": [
    "import matplotlib.pyplot as plt\n",
    "# import seaborn as sns\n",
    "import graphviz\n",
    "import pydot\n",
    "from IPython.display import Image\n",
    "\n",
    "Importance = pd.DataFrame({'Importance':rf.feature_importances_*100}, index=X.columns)\n",
    "Importance.sort_values('Importance', axis=0, ascending=True).plot(kind='barh', color='r', )\n",
    "plt.xlabel('Variable Importance')\n",
    "plt.gca().legend_ = None"
   ]
  },
  {
   "cell_type": "markdown",
   "metadata": {},
   "source": [
    "## PCR"
   ]
  },
  {
   "cell_type": "code",
   "execution_count": null,
   "metadata": {},
   "outputs": [],
   "source": [
    "## Fitting PCR with training data\n",
    "#pcr_oos = []\n",
    "pcr_oos = np.array([0])\n",
    "for i in range(1):\n",
    "    # Get training dataset, test dataset split\n",
    "    str = pd.to_datetime(train_str)\n",
    "    end = pd.to_datetime(train_end) + pd.DateOffset(years=i)\n",
    "    oos_str = end + pd.DateOffset(months=1)\n",
    "    oos_end = end + pd.DateOffset(years=1)\n",
    "    X_train, y_train = get_data_split(str, end)\n",
    "    X_test, y_test = get_data_split(oos_str, oos_end)\n",
    "    \n",
    "    \n",
    "    scaler = StandardScaler()\n",
    "    scaler.fit(X_train)\n",
    "    X_train_std = scaler.transform(X_train)\n",
    "    X_test_std = scaler.transform(X_test)\n",
    "    \n",
    "    pca = PCA(n_components=15)\n",
    "    pca.fit(X_train_std)\n",
    "    X_train_pca = pca.transform(X_train_std)\n",
    "    X_test_pca = pca.transform(X_test_std)\n",
    "    \n",
    "    reg = LinearRegression()\n",
    "    reg.fit(X_train_pca, y_train)\n",
    "    y_pred = reg.predict(X_test_pca)\n",
    "    #y_pred = np.array(y_pred).reshape(-1, 1)\n",
    "    pcr_oos = np.concatenate((pcr_oos.flatten(), y_pred.flatten()))\n",
    "    pcr_oos = pcr_oos.reshape(-1, 1)\n",
    "    y_test = y_test.ravel()\n",
    "    pcr_oos = pcr_oos.ravel()\n",
    "    pcr_oos = np.resize(pcr_oos, y_test.shape)\n",
    "    pcr_oos_r2 = r2_score(y_test, pcr_oos)  \n",
    "    \n",
    "    # save the result\n",
    "    # with open('/home/jhecy/ML/pcr-y_pred.csv', 'a') as f:\n",
    "    #    np.savetxt(f, pcr_oos, delimiter=',')\n",
    "    \n",
    "    # with open('/home/jhecy/ML/pcr-y_test.csv', 'a') as f:\n",
    "    #    np.savetxt(f, y_test, delimiter=',')"
   ]
  },
  {
   "cell_type": "code",
   "execution_count": null,
   "metadata": {},
   "outputs": [],
   "source": [
    "import matplotlib.pyplot as plt"
   ]
  },
  {
   "cell_type": "code",
   "execution_count": null,
   "metadata": {},
   "outputs": [],
   "source": [
    "import csv\n",
    "y_test = []\n",
    "\n",
    "with open('/home/jhecy/ML/pcr-y_test.csv', newline='') as file:\n",
    "    reader = csv.reader(file)\n",
    "    for row in reader:\n",
    "        y_test.append(row[0])\n"
   ]
  },
  {
   "cell_type": "code",
   "execution_count": null,
   "metadata": {},
   "outputs": [],
   "source": [
    "y_pred = []\n",
    "\n",
    "with open('/home/jhecy/ML/pcr-y_pred.csv', newline='') as file:\n",
    "    reader = csv.reader(file)\n",
    "    for row in reader:\n",
    "        y_pred.append(row[0])"
   ]
  },
  {
   "cell_type": "code",
   "execution_count": null,
   "metadata": {},
   "outputs": [],
   "source": [
    "# plot\n",
    "import numpy as np\n",
    "import pandas as pd\n",
    "import matplotlib.pyplot as plt\n",
    "y_test = np.array(y_test).astype(float)\n",
    "y_pred = np.array(y_pred).astype(float)\n",
    "r2 = np.array([])\n",
    "for i in range(0,24):\n",
    "    str = i*77122\n",
    "    end = (i+1)*77122\n",
    "    yy_pred = y_pred[str:end]\n",
    "    yy_test = y_test[str:end]\n",
    "    r2 = np.append(r2_score(yy_test, yy_pred),r2)\n",
    "plt.figure(figsize=(5,3))\n",
    "plt.title(\"PCR\")\n",
    "plt.xlabel('Year')\n",
    "plt.ylabel(r'$R_2$')\n",
    "plt.plot(np.arange(1987,2011),r2[0:])\n",
    "plt.tight_layout()"
   ]
  },
  {
   "cell_type": "markdown",
   "metadata": {},
   "source": [
    "### Top20 Importance Variables"
   ]
  },
  {
   "cell_type": "code",
   "execution_count": null,
   "metadata": {},
   "outputs": [],
   "source": [
    "from sklearn.inspection import permutation_importance\n",
    "import pandas as pd\n",
    "\n",
    "init_train_str = '1957-01-31'; init_train_end = '1974-12-31'\n",
    "init_val_str = '1975-01-31'; init_val_end = '1986-12-31'\n",
    "init_test_str = '1987-01-31'; init_test_end = '2016-12-31'\n",
    "year_span = 21\n",
    "\n",
    "train_str = pd.to_datetime(init_train_str)\n",
    "train_end = pd.to_datetime(init_val_end)+pd.DateOffset(years=year_span)\n",
    "oos_str = train_end+pd.DateOffset(years=1)\n",
    "oos_end = oos_str\n",
    "X_train, y_train = get_data_split(train_str, train_end)\n",
    "X_test, y_test = get_data_split(oos_str, oos_end)\n",
    "\n",
    "scaler = StandardScaler()\n",
    "scaler.fit(X_train)\n",
    "X_train_std = scaler.transform(X_train)\n",
    "X_test_std = scaler.transform(X_test)\n",
    "    \n",
    "pca = PCA(n_components=15)\n",
    "pca.fit(X_train_std)\n",
    "X_train_pca = pca.transform(X_train_std)\n",
    "X_test_pca = pca.transform(X_test_std)\n",
    "    \n",
    "reg = LinearRegression()\n",
    "reg.fit(X_train_pca, y_train)\n",
    "y_pred = reg.predict(X_test_pca)\n",
    "#y_pred = np.array(y_pred).reshape(-1, 1)\n",
    "pcr_oos = np.concatenate((pcr_oos.flatten(), y_pred.flatten()))\n",
    "pcr_oos = pcr_oos.reshape(-1, 1)\n",
    "y_test = y_test.ravel()\n",
    "pcr_oos = pcr_oos.ravel()\n",
    "pcr_oos = np.resize(pcr_oos, y_test.shape)\n",
    "pcr_oos_r2 = r2_score(y_test, pcr_oos)  \n",
    "\n",
    "results = permutation_importance(pca,X_train_pca,y_train,n_repeats=2,random_state=1)"
   ]
  }
 ],
 "metadata": {
  "kernelspec": {
   "display_name": "tensorflow",
   "language": "python",
   "name": "python3"
  },
  "language_info": {
   "codemirror_mode": {
    "name": "ipython",
    "version": 3
   },
   "file_extension": ".py",
   "mimetype": "text/x-python",
   "name": "python",
   "nbconvert_exporter": "python",
   "pygments_lexer": "ipython3",
   "version": "3.1.undefined"
  }
 },
 "nbformat": 4,
 "nbformat_minor": 2
}
