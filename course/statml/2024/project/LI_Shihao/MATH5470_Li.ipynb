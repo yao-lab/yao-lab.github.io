{
 "cells": [
  {
   "cell_type": "markdown",
   "id": "1e674f84-be05-4c21-84c7-47940dc7a291",
   "metadata": {
    "editable": true,
    "slideshow": {
     "slide_type": ""
    },
    "tags": []
   },
   "source": [
    "Import packages"
   ]
  },
  {
   "cell_type": "code",
   "execution_count": 1,
   "id": "7f9e3639-0d96-4f18-a353-b5310484636b",
   "metadata": {},
   "outputs": [],
   "source": [
    "##Logistic regression, random forest and XGBoost are used to predict home credit default\n",
    "\n",
    "import pandas as pd\n",
    "import numpy as np\n",
    "import xgboost\n",
    "import seaborn as sns\n",
    "import matplotlib.pyplot as plt\n",
    "import os\n",
    "import warnings\n",
    "warnings.filterwarnings('ignore')\n",
    "from sklearn.preprocessing import LabelEncoder\n",
    "from sklearn.preprocessing import OneHotEncoder\n",
    "from sklearn.preprocessing import MinMaxScaler\n",
    "from sklearn.model_selection import train_test_split\n",
    "from sklearn import metrics\n",
    "from sklearn.metrics import roc_auc_score\n",
    "from sklearn.linear_model import LogisticRegression\n",
    "from sklearn.ensemble import RandomForestClassifier\n",
    "from xgboost import XGBClassifier\n",
    "from xgboost import XGBRegressor"
   ]
  },
  {
   "cell_type": "markdown",
   "id": "f53d7759-51ed-4fad-a44f-97cc8cdd14ef",
   "metadata": {},
   "source": [
    "Read data"
   ]
  },
  {
   "cell_type": "code",
   "execution_count": 2,
   "id": "07441a28-de44-4857-8095-e844a32a15c4",
   "metadata": {},
   "outputs": [],
   "source": [
    "application_train = pd.read_csv('application_train.csv') \n",
    "application_test = pd.read_csv('application_test.csv') "
   ]
  },
  {
   "cell_type": "markdown",
   "id": "57984c83-438d-4c7f-b658-fbd37de13e1b",
   "metadata": {},
   "source": [
    "Prediction model of train data and test data"
   ]
  },
  {
   "cell_type": "markdown",
   "id": "94e44e4a-d4be-4bb0-96d1-2ad7ca98d6b8",
   "metadata": {},
   "source": [
    "Overview of data distribution and types"
   ]
  },
  {
   "cell_type": "code",
   "execution_count": 3,
   "id": "d3775695-f9cf-449e-af1f-1bdd0a7dc88e",
   "metadata": {
    "scrolled": true
   },
   "outputs": [
    {
     "data": {
      "text/html": [
       "<div>\n",
       "<style scoped>\n",
       "    .dataframe tbody tr th:only-of-type {\n",
       "        vertical-align: middle;\n",
       "    }\n",
       "\n",
       "    .dataframe tbody tr th {\n",
       "        vertical-align: top;\n",
       "    }\n",
       "\n",
       "    .dataframe thead th {\n",
       "        text-align: right;\n",
       "    }\n",
       "</style>\n",
       "<table border=\"1\" class=\"dataframe\">\n",
       "  <thead>\n",
       "    <tr style=\"text-align: right;\">\n",
       "      <th></th>\n",
       "      <th>SK_ID_CURR</th>\n",
       "      <th>TARGET</th>\n",
       "      <th>CNT_CHILDREN</th>\n",
       "      <th>AMT_INCOME_TOTAL</th>\n",
       "      <th>AMT_CREDIT</th>\n",
       "      <th>AMT_ANNUITY</th>\n",
       "      <th>AMT_GOODS_PRICE</th>\n",
       "      <th>REGION_POPULATION_RELATIVE</th>\n",
       "      <th>DAYS_BIRTH</th>\n",
       "      <th>DAYS_EMPLOYED</th>\n",
       "      <th>...</th>\n",
       "      <th>FLAG_DOCUMENT_18</th>\n",
       "      <th>FLAG_DOCUMENT_19</th>\n",
       "      <th>FLAG_DOCUMENT_20</th>\n",
       "      <th>FLAG_DOCUMENT_21</th>\n",
       "      <th>AMT_REQ_CREDIT_BUREAU_HOUR</th>\n",
       "      <th>AMT_REQ_CREDIT_BUREAU_DAY</th>\n",
       "      <th>AMT_REQ_CREDIT_BUREAU_WEEK</th>\n",
       "      <th>AMT_REQ_CREDIT_BUREAU_MON</th>\n",
       "      <th>AMT_REQ_CREDIT_BUREAU_QRT</th>\n",
       "      <th>AMT_REQ_CREDIT_BUREAU_YEAR</th>\n",
       "    </tr>\n",
       "  </thead>\n",
       "  <tbody>\n",
       "    <tr>\n",
       "      <th>count</th>\n",
       "      <td>307511.000000</td>\n",
       "      <td>307511.000000</td>\n",
       "      <td>307511.000000</td>\n",
       "      <td>3.075110e+05</td>\n",
       "      <td>3.075110e+05</td>\n",
       "      <td>307499.000000</td>\n",
       "      <td>3.072330e+05</td>\n",
       "      <td>307511.000000</td>\n",
       "      <td>307511.000000</td>\n",
       "      <td>307511.000000</td>\n",
       "      <td>...</td>\n",
       "      <td>307511.000000</td>\n",
       "      <td>307511.000000</td>\n",
       "      <td>307511.000000</td>\n",
       "      <td>307511.000000</td>\n",
       "      <td>265992.000000</td>\n",
       "      <td>265992.000000</td>\n",
       "      <td>265992.000000</td>\n",
       "      <td>265992.000000</td>\n",
       "      <td>265992.000000</td>\n",
       "      <td>265992.000000</td>\n",
       "    </tr>\n",
       "    <tr>\n",
       "      <th>mean</th>\n",
       "      <td>278180.518577</td>\n",
       "      <td>0.080729</td>\n",
       "      <td>0.417052</td>\n",
       "      <td>1.687979e+05</td>\n",
       "      <td>5.990260e+05</td>\n",
       "      <td>27108.573909</td>\n",
       "      <td>5.383962e+05</td>\n",
       "      <td>0.020868</td>\n",
       "      <td>-16036.995067</td>\n",
       "      <td>63815.045904</td>\n",
       "      <td>...</td>\n",
       "      <td>0.008130</td>\n",
       "      <td>0.000595</td>\n",
       "      <td>0.000507</td>\n",
       "      <td>0.000335</td>\n",
       "      <td>0.006402</td>\n",
       "      <td>0.007000</td>\n",
       "      <td>0.034362</td>\n",
       "      <td>0.267395</td>\n",
       "      <td>0.265474</td>\n",
       "      <td>1.899974</td>\n",
       "    </tr>\n",
       "    <tr>\n",
       "      <th>std</th>\n",
       "      <td>102790.175348</td>\n",
       "      <td>0.272419</td>\n",
       "      <td>0.722121</td>\n",
       "      <td>2.371231e+05</td>\n",
       "      <td>4.024908e+05</td>\n",
       "      <td>14493.737315</td>\n",
       "      <td>3.694465e+05</td>\n",
       "      <td>0.013831</td>\n",
       "      <td>4363.988632</td>\n",
       "      <td>141275.766519</td>\n",
       "      <td>...</td>\n",
       "      <td>0.089798</td>\n",
       "      <td>0.024387</td>\n",
       "      <td>0.022518</td>\n",
       "      <td>0.018299</td>\n",
       "      <td>0.083849</td>\n",
       "      <td>0.110757</td>\n",
       "      <td>0.204685</td>\n",
       "      <td>0.916002</td>\n",
       "      <td>0.794056</td>\n",
       "      <td>1.869295</td>\n",
       "    </tr>\n",
       "    <tr>\n",
       "      <th>min</th>\n",
       "      <td>100002.000000</td>\n",
       "      <td>0.000000</td>\n",
       "      <td>0.000000</td>\n",
       "      <td>2.565000e+04</td>\n",
       "      <td>4.500000e+04</td>\n",
       "      <td>1615.500000</td>\n",
       "      <td>4.050000e+04</td>\n",
       "      <td>0.000290</td>\n",
       "      <td>-25229.000000</td>\n",
       "      <td>-17912.000000</td>\n",
       "      <td>...</td>\n",
       "      <td>0.000000</td>\n",
       "      <td>0.000000</td>\n",
       "      <td>0.000000</td>\n",
       "      <td>0.000000</td>\n",
       "      <td>0.000000</td>\n",
       "      <td>0.000000</td>\n",
       "      <td>0.000000</td>\n",
       "      <td>0.000000</td>\n",
       "      <td>0.000000</td>\n",
       "      <td>0.000000</td>\n",
       "    </tr>\n",
       "    <tr>\n",
       "      <th>25%</th>\n",
       "      <td>189145.500000</td>\n",
       "      <td>0.000000</td>\n",
       "      <td>0.000000</td>\n",
       "      <td>1.125000e+05</td>\n",
       "      <td>2.700000e+05</td>\n",
       "      <td>16524.000000</td>\n",
       "      <td>2.385000e+05</td>\n",
       "      <td>0.010006</td>\n",
       "      <td>-19682.000000</td>\n",
       "      <td>-2760.000000</td>\n",
       "      <td>...</td>\n",
       "      <td>0.000000</td>\n",
       "      <td>0.000000</td>\n",
       "      <td>0.000000</td>\n",
       "      <td>0.000000</td>\n",
       "      <td>0.000000</td>\n",
       "      <td>0.000000</td>\n",
       "      <td>0.000000</td>\n",
       "      <td>0.000000</td>\n",
       "      <td>0.000000</td>\n",
       "      <td>0.000000</td>\n",
       "    </tr>\n",
       "    <tr>\n",
       "      <th>50%</th>\n",
       "      <td>278202.000000</td>\n",
       "      <td>0.000000</td>\n",
       "      <td>0.000000</td>\n",
       "      <td>1.471500e+05</td>\n",
       "      <td>5.135310e+05</td>\n",
       "      <td>24903.000000</td>\n",
       "      <td>4.500000e+05</td>\n",
       "      <td>0.018850</td>\n",
       "      <td>-15750.000000</td>\n",
       "      <td>-1213.000000</td>\n",
       "      <td>...</td>\n",
       "      <td>0.000000</td>\n",
       "      <td>0.000000</td>\n",
       "      <td>0.000000</td>\n",
       "      <td>0.000000</td>\n",
       "      <td>0.000000</td>\n",
       "      <td>0.000000</td>\n",
       "      <td>0.000000</td>\n",
       "      <td>0.000000</td>\n",
       "      <td>0.000000</td>\n",
       "      <td>1.000000</td>\n",
       "    </tr>\n",
       "    <tr>\n",
       "      <th>75%</th>\n",
       "      <td>367142.500000</td>\n",
       "      <td>0.000000</td>\n",
       "      <td>1.000000</td>\n",
       "      <td>2.025000e+05</td>\n",
       "      <td>8.086500e+05</td>\n",
       "      <td>34596.000000</td>\n",
       "      <td>6.795000e+05</td>\n",
       "      <td>0.028663</td>\n",
       "      <td>-12413.000000</td>\n",
       "      <td>-289.000000</td>\n",
       "      <td>...</td>\n",
       "      <td>0.000000</td>\n",
       "      <td>0.000000</td>\n",
       "      <td>0.000000</td>\n",
       "      <td>0.000000</td>\n",
       "      <td>0.000000</td>\n",
       "      <td>0.000000</td>\n",
       "      <td>0.000000</td>\n",
       "      <td>0.000000</td>\n",
       "      <td>0.000000</td>\n",
       "      <td>3.000000</td>\n",
       "    </tr>\n",
       "    <tr>\n",
       "      <th>max</th>\n",
       "      <td>456255.000000</td>\n",
       "      <td>1.000000</td>\n",
       "      <td>19.000000</td>\n",
       "      <td>1.170000e+08</td>\n",
       "      <td>4.050000e+06</td>\n",
       "      <td>258025.500000</td>\n",
       "      <td>4.050000e+06</td>\n",
       "      <td>0.072508</td>\n",
       "      <td>-7489.000000</td>\n",
       "      <td>365243.000000</td>\n",
       "      <td>...</td>\n",
       "      <td>1.000000</td>\n",
       "      <td>1.000000</td>\n",
       "      <td>1.000000</td>\n",
       "      <td>1.000000</td>\n",
       "      <td>4.000000</td>\n",
       "      <td>9.000000</td>\n",
       "      <td>8.000000</td>\n",
       "      <td>27.000000</td>\n",
       "      <td>261.000000</td>\n",
       "      <td>25.000000</td>\n",
       "    </tr>\n",
       "  </tbody>\n",
       "</table>\n",
       "<p>8 rows × 106 columns</p>\n",
       "</div>"
      ],
      "text/plain": [
       "          SK_ID_CURR         TARGET   CNT_CHILDREN  AMT_INCOME_TOTAL  \\\n",
       "count  307511.000000  307511.000000  307511.000000      3.075110e+05   \n",
       "mean   278180.518577       0.080729       0.417052      1.687979e+05   \n",
       "std    102790.175348       0.272419       0.722121      2.371231e+05   \n",
       "min    100002.000000       0.000000       0.000000      2.565000e+04   \n",
       "25%    189145.500000       0.000000       0.000000      1.125000e+05   \n",
       "50%    278202.000000       0.000000       0.000000      1.471500e+05   \n",
       "75%    367142.500000       0.000000       1.000000      2.025000e+05   \n",
       "max    456255.000000       1.000000      19.000000      1.170000e+08   \n",
       "\n",
       "         AMT_CREDIT    AMT_ANNUITY  AMT_GOODS_PRICE  \\\n",
       "count  3.075110e+05  307499.000000     3.072330e+05   \n",
       "mean   5.990260e+05   27108.573909     5.383962e+05   \n",
       "std    4.024908e+05   14493.737315     3.694465e+05   \n",
       "min    4.500000e+04    1615.500000     4.050000e+04   \n",
       "25%    2.700000e+05   16524.000000     2.385000e+05   \n",
       "50%    5.135310e+05   24903.000000     4.500000e+05   \n",
       "75%    8.086500e+05   34596.000000     6.795000e+05   \n",
       "max    4.050000e+06  258025.500000     4.050000e+06   \n",
       "\n",
       "       REGION_POPULATION_RELATIVE     DAYS_BIRTH  DAYS_EMPLOYED  ...  \\\n",
       "count               307511.000000  307511.000000  307511.000000  ...   \n",
       "mean                     0.020868  -16036.995067   63815.045904  ...   \n",
       "std                      0.013831    4363.988632  141275.766519  ...   \n",
       "min                      0.000290  -25229.000000  -17912.000000  ...   \n",
       "25%                      0.010006  -19682.000000   -2760.000000  ...   \n",
       "50%                      0.018850  -15750.000000   -1213.000000  ...   \n",
       "75%                      0.028663  -12413.000000    -289.000000  ...   \n",
       "max                      0.072508   -7489.000000  365243.000000  ...   \n",
       "\n",
       "       FLAG_DOCUMENT_18  FLAG_DOCUMENT_19  FLAG_DOCUMENT_20  FLAG_DOCUMENT_21  \\\n",
       "count     307511.000000     307511.000000     307511.000000     307511.000000   \n",
       "mean           0.008130          0.000595          0.000507          0.000335   \n",
       "std            0.089798          0.024387          0.022518          0.018299   \n",
       "min            0.000000          0.000000          0.000000          0.000000   \n",
       "25%            0.000000          0.000000          0.000000          0.000000   \n",
       "50%            0.000000          0.000000          0.000000          0.000000   \n",
       "75%            0.000000          0.000000          0.000000          0.000000   \n",
       "max            1.000000          1.000000          1.000000          1.000000   \n",
       "\n",
       "       AMT_REQ_CREDIT_BUREAU_HOUR  AMT_REQ_CREDIT_BUREAU_DAY  \\\n",
       "count               265992.000000              265992.000000   \n",
       "mean                     0.006402                   0.007000   \n",
       "std                      0.083849                   0.110757   \n",
       "min                      0.000000                   0.000000   \n",
       "25%                      0.000000                   0.000000   \n",
       "50%                      0.000000                   0.000000   \n",
       "75%                      0.000000                   0.000000   \n",
       "max                      4.000000                   9.000000   \n",
       "\n",
       "       AMT_REQ_CREDIT_BUREAU_WEEK  AMT_REQ_CREDIT_BUREAU_MON  \\\n",
       "count               265992.000000              265992.000000   \n",
       "mean                     0.034362                   0.267395   \n",
       "std                      0.204685                   0.916002   \n",
       "min                      0.000000                   0.000000   \n",
       "25%                      0.000000                   0.000000   \n",
       "50%                      0.000000                   0.000000   \n",
       "75%                      0.000000                   0.000000   \n",
       "max                      8.000000                  27.000000   \n",
       "\n",
       "       AMT_REQ_CREDIT_BUREAU_QRT  AMT_REQ_CREDIT_BUREAU_YEAR  \n",
       "count              265992.000000               265992.000000  \n",
       "mean                    0.265474                    1.899974  \n",
       "std                     0.794056                    1.869295  \n",
       "min                     0.000000                    0.000000  \n",
       "25%                     0.000000                    0.000000  \n",
       "50%                     0.000000                    1.000000  \n",
       "75%                     0.000000                    3.000000  \n",
       "max                   261.000000                   25.000000  \n",
       "\n",
       "[8 rows x 106 columns]"
      ]
     },
     "execution_count": 3,
     "metadata": {},
     "output_type": "execute_result"
    }
   ],
   "source": [
    "application_train.describe()\n",
    "\n",
    "##Extremely large values and missing values can be seen from the statistics"
   ]
  },
  {
   "cell_type": "code",
   "execution_count": 4,
   "id": "2c5763cb-4847-4c02-9af8-c4722381f820",
   "metadata": {},
   "outputs": [
    {
     "name": "stdout",
     "output_type": "stream",
     "text": [
      "float64    65\n",
      "int64      41\n",
      "object     16\n",
      "Name: count, dtype: int64\n"
     ]
    }
   ],
   "source": [
    "print(application_train.dtypes.value_counts())\n",
    "\n",
    "##For categorical values, dummy variables are needed for training"
   ]
  },
  {
   "cell_type": "code",
   "execution_count": 5,
   "id": "f8a0ee1c-6754-4a33-953e-9af28413c30d",
   "metadata": {
    "scrolled": true
   },
   "outputs": [
    {
     "data": {
      "text/html": [
       "<div>\n",
       "<style scoped>\n",
       "    .dataframe tbody tr th:only-of-type {\n",
       "        vertical-align: middle;\n",
       "    }\n",
       "\n",
       "    .dataframe tbody tr th {\n",
       "        vertical-align: top;\n",
       "    }\n",
       "\n",
       "    .dataframe thead th {\n",
       "        text-align: right;\n",
       "    }\n",
       "</style>\n",
       "<table border=\"1\" class=\"dataframe\">\n",
       "  <thead>\n",
       "    <tr style=\"text-align: right;\">\n",
       "      <th></th>\n",
       "      <th>SK_ID_CURR</th>\n",
       "      <th>CNT_CHILDREN</th>\n",
       "      <th>AMT_INCOME_TOTAL</th>\n",
       "      <th>AMT_CREDIT</th>\n",
       "      <th>AMT_ANNUITY</th>\n",
       "      <th>AMT_GOODS_PRICE</th>\n",
       "      <th>REGION_POPULATION_RELATIVE</th>\n",
       "      <th>DAYS_BIRTH</th>\n",
       "      <th>DAYS_EMPLOYED</th>\n",
       "      <th>DAYS_REGISTRATION</th>\n",
       "      <th>...</th>\n",
       "      <th>FLAG_DOCUMENT_18</th>\n",
       "      <th>FLAG_DOCUMENT_19</th>\n",
       "      <th>FLAG_DOCUMENT_20</th>\n",
       "      <th>FLAG_DOCUMENT_21</th>\n",
       "      <th>AMT_REQ_CREDIT_BUREAU_HOUR</th>\n",
       "      <th>AMT_REQ_CREDIT_BUREAU_DAY</th>\n",
       "      <th>AMT_REQ_CREDIT_BUREAU_WEEK</th>\n",
       "      <th>AMT_REQ_CREDIT_BUREAU_MON</th>\n",
       "      <th>AMT_REQ_CREDIT_BUREAU_QRT</th>\n",
       "      <th>AMT_REQ_CREDIT_BUREAU_YEAR</th>\n",
       "    </tr>\n",
       "  </thead>\n",
       "  <tbody>\n",
       "    <tr>\n",
       "      <th>count</th>\n",
       "      <td>48744.000000</td>\n",
       "      <td>48744.000000</td>\n",
       "      <td>4.874400e+04</td>\n",
       "      <td>4.874400e+04</td>\n",
       "      <td>48720.000000</td>\n",
       "      <td>4.874400e+04</td>\n",
       "      <td>48744.000000</td>\n",
       "      <td>48744.000000</td>\n",
       "      <td>48744.000000</td>\n",
       "      <td>48744.000000</td>\n",
       "      <td>...</td>\n",
       "      <td>48744.000000</td>\n",
       "      <td>48744.0</td>\n",
       "      <td>48744.0</td>\n",
       "      <td>48744.0</td>\n",
       "      <td>42695.000000</td>\n",
       "      <td>42695.000000</td>\n",
       "      <td>42695.000000</td>\n",
       "      <td>42695.000000</td>\n",
       "      <td>42695.000000</td>\n",
       "      <td>42695.000000</td>\n",
       "    </tr>\n",
       "    <tr>\n",
       "      <th>mean</th>\n",
       "      <td>277796.676350</td>\n",
       "      <td>0.397054</td>\n",
       "      <td>1.784318e+05</td>\n",
       "      <td>5.167404e+05</td>\n",
       "      <td>29426.240209</td>\n",
       "      <td>4.626188e+05</td>\n",
       "      <td>0.021226</td>\n",
       "      <td>-16068.084605</td>\n",
       "      <td>67485.366322</td>\n",
       "      <td>-4967.652716</td>\n",
       "      <td>...</td>\n",
       "      <td>0.001559</td>\n",
       "      <td>0.0</td>\n",
       "      <td>0.0</td>\n",
       "      <td>0.0</td>\n",
       "      <td>0.002108</td>\n",
       "      <td>0.001803</td>\n",
       "      <td>0.002787</td>\n",
       "      <td>0.009299</td>\n",
       "      <td>0.546902</td>\n",
       "      <td>1.983769</td>\n",
       "    </tr>\n",
       "    <tr>\n",
       "      <th>std</th>\n",
       "      <td>103169.547296</td>\n",
       "      <td>0.709047</td>\n",
       "      <td>1.015226e+05</td>\n",
       "      <td>3.653970e+05</td>\n",
       "      <td>16016.368315</td>\n",
       "      <td>3.367102e+05</td>\n",
       "      <td>0.014428</td>\n",
       "      <td>4325.900393</td>\n",
       "      <td>144348.507136</td>\n",
       "      <td>3552.612035</td>\n",
       "      <td>...</td>\n",
       "      <td>0.039456</td>\n",
       "      <td>0.0</td>\n",
       "      <td>0.0</td>\n",
       "      <td>0.0</td>\n",
       "      <td>0.046373</td>\n",
       "      <td>0.046132</td>\n",
       "      <td>0.054037</td>\n",
       "      <td>0.110924</td>\n",
       "      <td>0.693305</td>\n",
       "      <td>1.838873</td>\n",
       "    </tr>\n",
       "    <tr>\n",
       "      <th>min</th>\n",
       "      <td>100001.000000</td>\n",
       "      <td>0.000000</td>\n",
       "      <td>2.694150e+04</td>\n",
       "      <td>4.500000e+04</td>\n",
       "      <td>2295.000000</td>\n",
       "      <td>4.500000e+04</td>\n",
       "      <td>0.000253</td>\n",
       "      <td>-25195.000000</td>\n",
       "      <td>-17463.000000</td>\n",
       "      <td>-23722.000000</td>\n",
       "      <td>...</td>\n",
       "      <td>0.000000</td>\n",
       "      <td>0.0</td>\n",
       "      <td>0.0</td>\n",
       "      <td>0.0</td>\n",
       "      <td>0.000000</td>\n",
       "      <td>0.000000</td>\n",
       "      <td>0.000000</td>\n",
       "      <td>0.000000</td>\n",
       "      <td>0.000000</td>\n",
       "      <td>0.000000</td>\n",
       "    </tr>\n",
       "    <tr>\n",
       "      <th>25%</th>\n",
       "      <td>188557.750000</td>\n",
       "      <td>0.000000</td>\n",
       "      <td>1.125000e+05</td>\n",
       "      <td>2.606400e+05</td>\n",
       "      <td>17973.000000</td>\n",
       "      <td>2.250000e+05</td>\n",
       "      <td>0.010006</td>\n",
       "      <td>-19637.000000</td>\n",
       "      <td>-2910.000000</td>\n",
       "      <td>-7459.250000</td>\n",
       "      <td>...</td>\n",
       "      <td>0.000000</td>\n",
       "      <td>0.0</td>\n",
       "      <td>0.0</td>\n",
       "      <td>0.0</td>\n",
       "      <td>0.000000</td>\n",
       "      <td>0.000000</td>\n",
       "      <td>0.000000</td>\n",
       "      <td>0.000000</td>\n",
       "      <td>0.000000</td>\n",
       "      <td>0.000000</td>\n",
       "    </tr>\n",
       "    <tr>\n",
       "      <th>50%</th>\n",
       "      <td>277549.000000</td>\n",
       "      <td>0.000000</td>\n",
       "      <td>1.575000e+05</td>\n",
       "      <td>4.500000e+05</td>\n",
       "      <td>26199.000000</td>\n",
       "      <td>3.960000e+05</td>\n",
       "      <td>0.018850</td>\n",
       "      <td>-15785.000000</td>\n",
       "      <td>-1293.000000</td>\n",
       "      <td>-4490.000000</td>\n",
       "      <td>...</td>\n",
       "      <td>0.000000</td>\n",
       "      <td>0.0</td>\n",
       "      <td>0.0</td>\n",
       "      <td>0.0</td>\n",
       "      <td>0.000000</td>\n",
       "      <td>0.000000</td>\n",
       "      <td>0.000000</td>\n",
       "      <td>0.000000</td>\n",
       "      <td>0.000000</td>\n",
       "      <td>2.000000</td>\n",
       "    </tr>\n",
       "    <tr>\n",
       "      <th>75%</th>\n",
       "      <td>367555.500000</td>\n",
       "      <td>1.000000</td>\n",
       "      <td>2.250000e+05</td>\n",
       "      <td>6.750000e+05</td>\n",
       "      <td>37390.500000</td>\n",
       "      <td>6.300000e+05</td>\n",
       "      <td>0.028663</td>\n",
       "      <td>-12496.000000</td>\n",
       "      <td>-296.000000</td>\n",
       "      <td>-1901.000000</td>\n",
       "      <td>...</td>\n",
       "      <td>0.000000</td>\n",
       "      <td>0.0</td>\n",
       "      <td>0.0</td>\n",
       "      <td>0.0</td>\n",
       "      <td>0.000000</td>\n",
       "      <td>0.000000</td>\n",
       "      <td>0.000000</td>\n",
       "      <td>0.000000</td>\n",
       "      <td>1.000000</td>\n",
       "      <td>3.000000</td>\n",
       "    </tr>\n",
       "    <tr>\n",
       "      <th>max</th>\n",
       "      <td>456250.000000</td>\n",
       "      <td>20.000000</td>\n",
       "      <td>4.410000e+06</td>\n",
       "      <td>2.245500e+06</td>\n",
       "      <td>180576.000000</td>\n",
       "      <td>2.245500e+06</td>\n",
       "      <td>0.072508</td>\n",
       "      <td>-7338.000000</td>\n",
       "      <td>365243.000000</td>\n",
       "      <td>0.000000</td>\n",
       "      <td>...</td>\n",
       "      <td>1.000000</td>\n",
       "      <td>0.0</td>\n",
       "      <td>0.0</td>\n",
       "      <td>0.0</td>\n",
       "      <td>2.000000</td>\n",
       "      <td>2.000000</td>\n",
       "      <td>2.000000</td>\n",
       "      <td>6.000000</td>\n",
       "      <td>7.000000</td>\n",
       "      <td>17.000000</td>\n",
       "    </tr>\n",
       "  </tbody>\n",
       "</table>\n",
       "<p>8 rows × 105 columns</p>\n",
       "</div>"
      ],
      "text/plain": [
       "          SK_ID_CURR  CNT_CHILDREN  AMT_INCOME_TOTAL    AMT_CREDIT  \\\n",
       "count   48744.000000  48744.000000      4.874400e+04  4.874400e+04   \n",
       "mean   277796.676350      0.397054      1.784318e+05  5.167404e+05   \n",
       "std    103169.547296      0.709047      1.015226e+05  3.653970e+05   \n",
       "min    100001.000000      0.000000      2.694150e+04  4.500000e+04   \n",
       "25%    188557.750000      0.000000      1.125000e+05  2.606400e+05   \n",
       "50%    277549.000000      0.000000      1.575000e+05  4.500000e+05   \n",
       "75%    367555.500000      1.000000      2.250000e+05  6.750000e+05   \n",
       "max    456250.000000     20.000000      4.410000e+06  2.245500e+06   \n",
       "\n",
       "         AMT_ANNUITY  AMT_GOODS_PRICE  REGION_POPULATION_RELATIVE  \\\n",
       "count   48720.000000     4.874400e+04                48744.000000   \n",
       "mean    29426.240209     4.626188e+05                    0.021226   \n",
       "std     16016.368315     3.367102e+05                    0.014428   \n",
       "min      2295.000000     4.500000e+04                    0.000253   \n",
       "25%     17973.000000     2.250000e+05                    0.010006   \n",
       "50%     26199.000000     3.960000e+05                    0.018850   \n",
       "75%     37390.500000     6.300000e+05                    0.028663   \n",
       "max    180576.000000     2.245500e+06                    0.072508   \n",
       "\n",
       "         DAYS_BIRTH  DAYS_EMPLOYED  DAYS_REGISTRATION  ...  FLAG_DOCUMENT_18  \\\n",
       "count  48744.000000   48744.000000       48744.000000  ...      48744.000000   \n",
       "mean  -16068.084605   67485.366322       -4967.652716  ...          0.001559   \n",
       "std     4325.900393  144348.507136        3552.612035  ...          0.039456   \n",
       "min   -25195.000000  -17463.000000      -23722.000000  ...          0.000000   \n",
       "25%   -19637.000000   -2910.000000       -7459.250000  ...          0.000000   \n",
       "50%   -15785.000000   -1293.000000       -4490.000000  ...          0.000000   \n",
       "75%   -12496.000000    -296.000000       -1901.000000  ...          0.000000   \n",
       "max    -7338.000000  365243.000000           0.000000  ...          1.000000   \n",
       "\n",
       "       FLAG_DOCUMENT_19  FLAG_DOCUMENT_20  FLAG_DOCUMENT_21  \\\n",
       "count           48744.0           48744.0           48744.0   \n",
       "mean                0.0               0.0               0.0   \n",
       "std                 0.0               0.0               0.0   \n",
       "min                 0.0               0.0               0.0   \n",
       "25%                 0.0               0.0               0.0   \n",
       "50%                 0.0               0.0               0.0   \n",
       "75%                 0.0               0.0               0.0   \n",
       "max                 0.0               0.0               0.0   \n",
       "\n",
       "       AMT_REQ_CREDIT_BUREAU_HOUR  AMT_REQ_CREDIT_BUREAU_DAY  \\\n",
       "count                42695.000000               42695.000000   \n",
       "mean                     0.002108                   0.001803   \n",
       "std                      0.046373                   0.046132   \n",
       "min                      0.000000                   0.000000   \n",
       "25%                      0.000000                   0.000000   \n",
       "50%                      0.000000                   0.000000   \n",
       "75%                      0.000000                   0.000000   \n",
       "max                      2.000000                   2.000000   \n",
       "\n",
       "       AMT_REQ_CREDIT_BUREAU_WEEK  AMT_REQ_CREDIT_BUREAU_MON  \\\n",
       "count                42695.000000               42695.000000   \n",
       "mean                     0.002787                   0.009299   \n",
       "std                      0.054037                   0.110924   \n",
       "min                      0.000000                   0.000000   \n",
       "25%                      0.000000                   0.000000   \n",
       "50%                      0.000000                   0.000000   \n",
       "75%                      0.000000                   0.000000   \n",
       "max                      2.000000                   6.000000   \n",
       "\n",
       "       AMT_REQ_CREDIT_BUREAU_QRT  AMT_REQ_CREDIT_BUREAU_YEAR  \n",
       "count               42695.000000                42695.000000  \n",
       "mean                    0.546902                    1.983769  \n",
       "std                     0.693305                    1.838873  \n",
       "min                     0.000000                    0.000000  \n",
       "25%                     0.000000                    0.000000  \n",
       "50%                     0.000000                    2.000000  \n",
       "75%                     1.000000                    3.000000  \n",
       "max                     7.000000                   17.000000  \n",
       "\n",
       "[8 rows x 105 columns]"
      ]
     },
     "execution_count": 5,
     "metadata": {},
     "output_type": "execute_result"
    }
   ],
   "source": [
    "application_test.describe()"
   ]
  },
  {
   "cell_type": "code",
   "execution_count": 6,
   "id": "9642cb5b-a94f-4eef-a6f2-65ef1a23da32",
   "metadata": {},
   "outputs": [
    {
     "name": "stdout",
     "output_type": "stream",
     "text": [
      "float64    65\n",
      "int64      40\n",
      "object     16\n",
      "Name: count, dtype: int64\n"
     ]
    }
   ],
   "source": [
    "print(application_test.dtypes.value_counts())"
   ]
  },
  {
   "cell_type": "markdown",
   "id": "8d0ecfe1-248c-450d-86e5-81ef91d750b8",
   "metadata": {},
   "source": [
    "Estimate the missing values"
   ]
  },
  {
   "cell_type": "code",
   "execution_count": 7,
   "id": "df5dae8b-264a-493d-9ef3-0eab369e3a0c",
   "metadata": {},
   "outputs": [],
   "source": [
    "def missing_values_table(df, threshold = 0.6):\n",
    "        # Calculate the missing value percentage\n",
    "        mis_val = df.isnull().sum()\n",
    "        mis_val_per = 100 * df.isnull().sum() / len(df)\n",
    "        \n",
    "        # Make a table and rename the columns\n",
    "        mis_val_table = pd.concat([mis_val, mis_val_per], axis=1).rename(\n",
    "        columns = {0 : 'Missing Values', 1 : '% of Total Values'})\n",
    "               \n",
    "        # Sort the table by percentage of missing descending\n",
    "        mis_val_table = mis_val_table[\n",
    "            mis_val_table.iloc[:,1] != 0].sort_values(\n",
    "        '% of Total Values', ascending=False).round(1)\n",
    "\n",
    "        # Drop the columns with more than 60% of missing values\n",
    "        missing_cols = list(mis_val_table.index[mis_val_table['% of Total Values'] > threshold*100])\n",
    "        dropped_df = df.drop(columns = missing_cols)\n",
    "\n",
    "        # Print the number of columns with missing values and columns after removal\n",
    "        print (mis_val_table.shape[0], dropped_df.shape[1])\n",
    "        return dropped_df"
   ]
  },
  {
   "cell_type": "code",
   "execution_count": 8,
   "id": "d7797ab4-19d0-46ca-a157-94af470dd74e",
   "metadata": {},
   "outputs": [
    {
     "name": "stdout",
     "output_type": "stream",
     "text": [
      "67 105\n"
     ]
    }
   ],
   "source": [
    "missing_values_application_train = missing_values_table(application_train)"
   ]
  },
  {
   "cell_type": "code",
   "execution_count": 9,
   "id": "54c6c293-ad8f-4c7c-af33-7f2c42ca787a",
   "metadata": {},
   "outputs": [
    {
     "name": "stdout",
     "output_type": "stream",
     "text": [
      "64 104\n"
     ]
    }
   ],
   "source": [
    "missing_values_application_test = missing_values_table(application_test)"
   ]
  },
  {
   "cell_type": "markdown",
   "id": "4906a0c7-898c-46c2-b2c1-7c319fae1f2b",
   "metadata": {},
   "source": [
    "Encoding the categorical variables"
   ]
  },
  {
   "cell_type": "code",
   "execution_count": 10,
   "id": "3d85af57-19bf-4b25-b0a6-2f730768db34",
   "metadata": {},
   "outputs": [
    {
     "data": {
      "text/plain": [
       "NAME_CONTRACT_TYPE             2\n",
       "CODE_GENDER                    3\n",
       "FLAG_OWN_CAR                   2\n",
       "FLAG_OWN_REALTY                2\n",
       "NAME_TYPE_SUITE                7\n",
       "NAME_INCOME_TYPE               8\n",
       "NAME_EDUCATION_TYPE            5\n",
       "NAME_FAMILY_STATUS             6\n",
       "NAME_HOUSING_TYPE              6\n",
       "OCCUPATION_TYPE               18\n",
       "WEEKDAY_APPR_PROCESS_START     7\n",
       "ORGANIZATION_TYPE             58\n",
       "FONDKAPREMONT_MODE             4\n",
       "HOUSETYPE_MODE                 3\n",
       "WALLSMATERIAL_MODE             7\n",
       "EMERGENCYSTATE_MODE            2\n",
       "dtype: int64"
      ]
     },
     "execution_count": 10,
     "metadata": {},
     "output_type": "execute_result"
    }
   ],
   "source": [
    "# Find out the number of unique values of categorical variables\n",
    "application_train.select_dtypes('object').apply(pd.Series.nunique, axis = 0)"
   ]
  },
  {
   "cell_type": "code",
   "execution_count": 11,
   "id": "ad008291-8893-464c-a77e-d00193118257",
   "metadata": {
    "scrolled": true
   },
   "outputs": [
    {
     "data": {
      "text/plain": [
       "NAME_CONTRACT_TYPE             2\n",
       "CODE_GENDER                    2\n",
       "FLAG_OWN_CAR                   2\n",
       "FLAG_OWN_REALTY                2\n",
       "NAME_TYPE_SUITE                7\n",
       "NAME_INCOME_TYPE               7\n",
       "NAME_EDUCATION_TYPE            5\n",
       "NAME_FAMILY_STATUS             5\n",
       "NAME_HOUSING_TYPE              6\n",
       "OCCUPATION_TYPE               18\n",
       "WEEKDAY_APPR_PROCESS_START     7\n",
       "ORGANIZATION_TYPE             58\n",
       "FONDKAPREMONT_MODE             4\n",
       "HOUSETYPE_MODE                 3\n",
       "WALLSMATERIAL_MODE             7\n",
       "EMERGENCYSTATE_MODE            2\n",
       "dtype: int64"
      ]
     },
     "execution_count": 11,
     "metadata": {},
     "output_type": "execute_result"
    }
   ],
   "source": [
    "application_test.select_dtypes('object').apply(pd.Series.nunique, axis = 0)"
   ]
  },
  {
   "cell_type": "code",
   "execution_count": 12,
   "id": "8e744894-2e76-4ad0-abd2-8736867f4c9f",
   "metadata": {},
   "outputs": [],
   "source": [
    "# Encoding the object columns with less than 2 unique values\n",
    "le = LabelEncoder()\n",
    "\n",
    "for col in application_train:\n",
    "    if application_train[col].dtype == 'object':\n",
    "        if len(list(application_train[col].unique())) <= 2:\n",
    "            le.fit(application_train[col])\n",
    "            application_train[col] = le.transform(application_train[col])\n",
    "\n",
    "for col in application_test:\n",
    "    if application_test[col].dtype == 'object':\n",
    "        if len(list(application_test[col].unique())) <= 2:\n",
    "            le.fit(application_test[col])\n",
    "            application_test[col] = le.transform(application_test[col])"
   ]
  },
  {
   "cell_type": "code",
   "execution_count": 13,
   "id": "3c72db3a-5872-40df-995c-2e36bec9cb28",
   "metadata": {},
   "outputs": [
    {
     "data": {
      "text/plain": [
       "CODE_GENDER                    3\n",
       "NAME_TYPE_SUITE                7\n",
       "NAME_INCOME_TYPE               8\n",
       "NAME_EDUCATION_TYPE            5\n",
       "NAME_FAMILY_STATUS             6\n",
       "NAME_HOUSING_TYPE              6\n",
       "OCCUPATION_TYPE               18\n",
       "WEEKDAY_APPR_PROCESS_START     7\n",
       "ORGANIZATION_TYPE             58\n",
       "FONDKAPREMONT_MODE             4\n",
       "HOUSETYPE_MODE                 3\n",
       "WALLSMATERIAL_MODE             7\n",
       "EMERGENCYSTATE_MODE            2\n",
       "dtype: int64"
      ]
     },
     "execution_count": 13,
     "metadata": {},
     "output_type": "execute_result"
    }
   ],
   "source": [
    "application_train.select_dtypes('object').apply(pd.Series.nunique, axis = 0)"
   ]
  },
  {
   "cell_type": "code",
   "execution_count": 14,
   "id": "7bab4f0b-17c1-42f4-b633-b2dfe51e7300",
   "metadata": {},
   "outputs": [
    {
     "data": {
      "text/plain": [
       "NAME_TYPE_SUITE                7\n",
       "NAME_INCOME_TYPE               7\n",
       "NAME_EDUCATION_TYPE            5\n",
       "NAME_FAMILY_STATUS             5\n",
       "NAME_HOUSING_TYPE              6\n",
       "OCCUPATION_TYPE               18\n",
       "WEEKDAY_APPR_PROCESS_START     7\n",
       "ORGANIZATION_TYPE             58\n",
       "FONDKAPREMONT_MODE             4\n",
       "HOUSETYPE_MODE                 3\n",
       "WALLSMATERIAL_MODE             7\n",
       "EMERGENCYSTATE_MODE            2\n",
       "dtype: int64"
      ]
     },
     "execution_count": 14,
     "metadata": {},
     "output_type": "execute_result"
    }
   ],
   "source": [
    "application_test.select_dtypes('object').apply(pd.Series.nunique, axis = 0)"
   ]
  },
  {
   "cell_type": "code",
   "execution_count": 15,
   "id": "b02a0334-c027-4af1-aebc-829b754716f3",
   "metadata": {},
   "outputs": [],
   "source": [
    "# Using dummy variables for columns with more than 2 unique values\n",
    "application_train = pd.get_dummies(application_train)\n",
    "application_test = pd.get_dummies(application_test)"
   ]
  },
  {
   "cell_type": "markdown",
   "id": "b4eef91f-c5a2-4ee1-8070-b7ed96b6ecc7",
   "metadata": {},
   "source": [
    "Removing outliers"
   ]
  },
  {
   "cell_type": "markdown",
   "id": "5c6763cf-56da-4762-a2e6-a0cc39747fb9",
   "metadata": {},
   "source": [
    "Check the data distribution of application train and application test to determine the threshold of outliers and remove the outliers."
   ]
  },
  {
   "cell_type": "code",
   "execution_count": 16,
   "id": "1d8f5e91-ec7e-4383-a7be-d7016f1c976d",
   "metadata": {},
   "outputs": [],
   "source": [
    "##Deal with the outliers in application_train.csv\n",
    "##The maximum value of AMT_INCOME_TOTAL is 1.17E8 which is significantly high and may be an abnormal value\n",
    "##For the time data, negative numerical values should be corrected to positive values.\n",
    "application_train.drop(application_train[application_train['AMT_INCOME_TOTAL']>=10000000].index,axis=0)\n",
    "\n",
    "application_train['DAYS_BIRTH']=abs(application_train['DAYS_BIRTH'])\n",
    "application_train['DAYS_EMPLOYED']=abs(application_train['DAYS_EMPLOYED'])\n",
    "application_train['DAYS_REGISTRATION']=abs(application_train['DAYS_REGISTRATION'])\n",
    "application_train['DAYS_ID_PUBLISH']=abs(application_train['DAYS_ID_PUBLISH'])\n",
    "application_train['DAYS_LAST_PHONE_CHANGE']=abs(application_train['DAYS_LAST_PHONE_CHANGE'])"
   ]
  },
  {
   "cell_type": "code",
   "execution_count": 17,
   "id": "74ae823e-bfe6-4fe8-b335-63c1878c4f93",
   "metadata": {},
   "outputs": [],
   "source": [
    "##Deal with the outliers in application_test.csv\n",
    "application_test['DAYS_BIRTH']=abs(application_test['DAYS_BIRTH'])\n",
    "application_test['DAYS_EMPLOYED']=abs(application_test['DAYS_EMPLOYED'])\n",
    "application_test['DAYS_REGISTRATION']=abs(application_test['DAYS_REGISTRATION'])\n",
    "application_test['DAYS_ID_PUBLISH']=abs(application_test['DAYS_ID_PUBLISH'])\n",
    "application_test['DAYS_LAST_PHONE_CHANGE']=abs(application_test['DAYS_LAST_PHONE_CHANGE'])"
   ]
  },
  {
   "cell_type": "markdown",
   "id": "ad9f33d2-f0eb-4b95-bc04-ceb216944b45",
   "metadata": {},
   "source": [
    "Replace missing value with the mean value of other data"
   ]
  },
  {
   "cell_type": "code",
   "execution_count": 18,
   "id": "896ee1f1-ed20-41c9-9540-6d0c6211a0d4",
   "metadata": {},
   "outputs": [],
   "source": [
    "for col in application_train:\n",
    "    if application_train[col].dtype != 'object':\n",
    "        train_mean = np.mean(application_train[col].dropna())\n",
    "        application_train[col].replace({np.nan:train_mean}, inplace = True)\n",
    "\n",
    "for col in application_test:\n",
    "    if application_test[col].dtype != 'object':\n",
    "        test_mean = np.mean(application_test[col].dropna())\n",
    "        application_test[col].replace({np.nan:test_mean}, inplace = True)"
   ]
  },
  {
   "cell_type": "markdown",
   "id": "852e240a-0dde-443c-b779-855c3bc23b5d",
   "metadata": {},
   "source": [
    "Extract index, features and label from train data and test data"
   ]
  },
  {
   "cell_type": "code",
   "execution_count": 19,
   "id": "34f6698e-bed7-4a9b-923e-281f4f908a5d",
   "metadata": {},
   "outputs": [],
   "source": [
    "train_index = application_train['SK_ID_CURR']\n",
    "train_label = application_train['TARGET']\n",
    "train_features = application_train.drop(columns = ['SK_ID_CURR', 'TARGET'])"
   ]
  },
  {
   "cell_type": "code",
   "execution_count": 20,
   "id": "99dbcda4-7194-4929-8a7e-3e9a1408ba65",
   "metadata": {},
   "outputs": [],
   "source": [
    "test_index = application_test['SK_ID_CURR']\n",
    "test_features = application_test.drop(['SK_ID_CURR'], axis=1)"
   ]
  },
  {
   "cell_type": "code",
   "execution_count": 21,
   "id": "6f695502-e3a3-406d-ade4-b29f795ed015",
   "metadata": {},
   "outputs": [
    {
     "name": "stdout",
     "output_type": "stream",
     "text": [
      "(307511, 236)\n",
      "(48744, 236)\n",
      "(307511,)\n"
     ]
    }
   ],
   "source": [
    "# Align two train features and test features on their axes with the intersection of keys.\n",
    "train_features, test_features = train_features.align(test_features, join = 'inner', axis = 1) \n",
    "\n",
    "print(train_features.shape)\n",
    "print(test_features.shape)\n",
    "print(train_label.shape)"
   ]
  },
  {
   "cell_type": "markdown",
   "id": "8da1d56f-87de-4afa-9a7d-131a2f1ebd55",
   "metadata": {},
   "source": [
    "Scaling feature to the given range"
   ]
  },
  {
   "cell_type": "code",
   "execution_count": 22,
   "id": "2f0a2de9-0580-46b7-8181-c36a1d8ae351",
   "metadata": {
    "scrolled": true
   },
   "outputs": [],
   "source": [
    "feature_name = train_features.columns\n",
    "mms = MinMaxScaler()\n",
    "train_features = mms.fit_transform(train_features)\n",
    "x_test = mms.fit_transform(test_features)"
   ]
  },
  {
   "cell_type": "markdown",
   "id": "13534c97-f975-40dc-abac-e925478487ed",
   "metadata": {},
   "source": [
    "Split the training data to training set and validation set"
   ]
  },
  {
   "cell_type": "code",
   "execution_count": 23,
   "id": "59ef1453-6d02-45f2-b813-5244f00019d0",
   "metadata": {},
   "outputs": [
    {
     "name": "stdout",
     "output_type": "stream",
     "text": [
      "(246008, 236) (61503, 236) (246008,) (61503,)\n"
     ]
    }
   ],
   "source": [
    "x_train, x_vali, y_train, y_vali = train_test_split(train_features, train_label, test_size=0.2, random_state=2)\n",
    "print(x_train.shape,x_vali.shape,y_train.shape,y_vali.shape)"
   ]
  },
  {
   "cell_type": "markdown",
   "id": "35be2a5e-ac2b-4c3a-aaf4-099ba0dd31e0",
   "metadata": {},
   "source": [
    "Method 1: logistic regression"
   ]
  },
  {
   "cell_type": "code",
   "execution_count": 24,
   "id": "4328068b-26d9-42f8-a7e5-2eab4e7bc6cc",
   "metadata": {},
   "outputs": [],
   "source": [
    "##Model training of logistic regression\n",
    "lr = LogisticRegression()\n",
    "lr_model = lr.fit(x_train, y_train)\n",
    "lr_vali = lr.predict_proba(x_vali)[:,1]"
   ]
  },
  {
   "cell_type": "code",
   "execution_count": 25,
   "id": "417cc44c-5d70-431a-b3c1-ee121888bdeb",
   "metadata": {},
   "outputs": [
    {
     "data": {
      "image/png": "[encoded data removed]",
      "text/plain": [
       "<Figure size 640x480 with 1 Axes>"
      ]
     },
     "metadata": {},
     "output_type": "display_data"
    }
   ],
   "source": [
    "##Plot the ROC curve of logistic regression\n",
    "\n",
    "fpr, tpr, threshold = metrics.roc_curve(y_vali, lr_vali)\n",
    "lr_auc = roc_auc_score(y_vali, lr_vali) \n",
    "plt.plot(fpr, tpr, label = \"auc=\" + str(lr_auc)) \n",
    "plt.ylabel('True Positive Rate') \n",
    "plt.xlabel('False Positive Rate') \n",
    "plt.title('ROC curve of logistic regression')\n",
    "plt.legend()\n",
    "plt.show()"
   ]
  },
  {
   "cell_type": "code",
   "execution_count": 26,
   "id": "ce21b09c-60aa-4f1a-b040-9261ef1c138d",
   "metadata": {},
   "outputs": [],
   "source": [
    "##Export data for submission to Kaggle test\n",
    "lr_test = lr.predict_proba(x_test)[:, 1]\n",
    "pd.DataFrame({'SK_ID_CURR':test_index, 'TARGET':lr_test}).to_csv('LR_Li.csv',index = False)"
   ]
  },
  {
   "cell_type": "markdown",
   "id": "d888defa-6852-4360-95ff-61b1d36c3c5c",
   "metadata": {},
   "source": [
    "Method 2: random forest"
   ]
  },
  {
   "cell_type": "code",
   "execution_count": 27,
   "id": "0b73ee41-1d23-475a-b176-d3fe94e72843",
   "metadata": {},
   "outputs": [
    {
     "name": "stderr",
     "output_type": "stream",
     "text": [
      "[Parallel(n_jobs=-1)]: Using backend ThreadingBackend with 16 concurrent workers.\n",
      "[Parallel(n_jobs=-1)]: Done  18 tasks      | elapsed:   17.6s\n",
      "[Parallel(n_jobs=-1)]: Done 100 out of 100 | elapsed:   59.3s finished\n",
      "[Parallel(n_jobs=16)]: Using backend ThreadingBackend with 16 concurrent workers.\n",
      "[Parallel(n_jobs=16)]: Done  18 tasks      | elapsed:    0.2s\n",
      "[Parallel(n_jobs=16)]: Done 100 out of 100 | elapsed:    1.2s finished\n"
     ]
    }
   ],
   "source": [
    "rf = RandomForestClassifier(n_estimators = 100, random_state = 50, verbose = 1, n_jobs = -1)\n",
    "rf.fit(x_train, y_train)\n",
    "rf_vali = rf.predict_proba(x_vali)[:, 1]"
   ]
  },
  {
   "cell_type": "code",
   "execution_count": 28,
   "id": "e8563f91-089b-4530-87db-5e2af708e6ac",
   "metadata": {},
   "outputs": [
    {
     "data": {
      "image/png": "[encoded data removed]",
      "text/plain": [
       "<Figure size 640x480 with 1 Axes>"
      ]
     },
     "metadata": {},
     "output_type": "display_data"
    }
   ],
   "source": [
    "fpr, tpr, threshold = metrics.roc_curve(y_vali, rf_vali)\n",
    "rf_auc = roc_auc_score(y_vali, rf_vali) \n",
    "plt.plot(fpr, tpr, label = \"auc=\" + str(rf_auc)) \n",
    "plt.ylabel('True Positive Rate') \n",
    "plt.xlabel('False Positive Rate') \n",
    "plt.title('ROC curve of random forest')\n",
    "plt.legend()\n",
    "plt.show()"
   ]
  },
  {
   "cell_type": "code",
   "execution_count": 29,
   "id": "e985f553-8827-496d-8191-4b181707ea9f",
   "metadata": {},
   "outputs": [
    {
     "name": "stderr",
     "output_type": "stream",
     "text": [
      "[Parallel(n_jobs=16)]: Using backend ThreadingBackend with 16 concurrent workers.\n",
      "[Parallel(n_jobs=16)]: Done  18 tasks      | elapsed:    0.2s\n",
      "[Parallel(n_jobs=16)]: Done 100 out of 100 | elapsed:    0.8s finished\n"
     ]
    }
   ],
   "source": [
    "##Export data for submission to Kaggle test\n",
    "rf_test = rf.predict_proba(x_test)[:, 1]\n",
    "pd.DataFrame({'SK_ID_CURR':test_index, 'TARGET':rf_test}).to_csv('RF_Li.csv',index = False)"
   ]
  },
  {
   "cell_type": "markdown",
   "id": "a3ed3471-6d85-4bc3-b57f-add038c58c6d",
   "metadata": {},
   "source": [
    "Method 3: xgboost"
   ]
  },
  {
   "cell_type": "code",
   "execution_count": 30,
   "id": "b53a6981-e19c-4823-b637-42530e814d58",
   "metadata": {},
   "outputs": [],
   "source": [
    "xgb_model = xgboost.XGBClassifier(n_estimators=100,learning_rate=0.1,max_depth=3)\n",
    "xgb_model.fit(x_train, y_train)\n",
    "xbg_vali = xgb_model.predict_proba(x_vali)[:,1]"
   ]
  },
  {
   "cell_type": "code",
   "execution_count": 31,
   "id": "84ff6aaa-f568-44d1-8fe1-5b584c7550ac",
   "metadata": {},
   "outputs": [
    {
     "data": {
      "image/png": "[encoded data removed]",
      "text/plain": [
       "<Figure size 640x480 with 1 Axes>"
      ]
     },
     "metadata": {},
     "output_type": "display_data"
    }
   ],
   "source": [
    "fpr, tpr, threshold = metrics.roc_curve(y_vali, xbg_vali)\n",
    "xgb_auc = roc_auc_score(y_vali, xbg_vali) \n",
    "plt.plot(fpr, tpr, label = \"auc=\" + str(xgb_auc)) \n",
    "plt.ylabel('True Positive Rate') \n",
    "plt.xlabel('False Positive Rate') \n",
    "plt.title('ROC curve of xgboost')\n",
    "plt.legend()\n",
    "plt.show()"
   ]
  },
  {
   "cell_type": "code",
   "execution_count": 32,
   "id": "f2206dc2-d6b9-41b3-8a71-96ba47465466",
   "metadata": {},
   "outputs": [],
   "source": [
    "##Export data for submission to Kaggle test\n",
    "xgb_test = xgb_model.predict_proba(x_test)[:, 1]\n",
    "pd.DataFrame({'SK_ID_CURR':test_index, 'TARGET':xgb_test}).to_csv('XGB_Li.csv',index = False)"
   ]
  },
  {
   "cell_type": "code",
   "execution_count": 33,
   "id": "0553ea94-a351-42d6-8fcc-915900ef9885",
   "metadata": {},
   "outputs": [
    {
     "data": {
      "image/png": "[encoded data removed]",
      "text/plain": [
       "<Figure size 1000x800 with 1 Axes>"
      ]
     },
     "metadata": {},
     "output_type": "display_data"
    }
   ],
   "source": [
    "##Feature importance plot\n",
    "\n",
    "fig, ax = plt.subplots(figsize=(10, 8))\n",
    "xgboost.plot_importance(xgb_model, ax=ax)\n",
    "plt.show()"
   ]
  },
  {
   "cell_type": "code",
   "execution_count": 34,
   "id": "ddb152f9-503f-418a-a456-490ee1140884",
   "metadata": {},
   "outputs": [
    {
     "data": {
      "image/png": "[encoded data removed]",
      "text/plain": [
       "<Figure size 640x480 with 1 Axes>"
      ]
     },
     "metadata": {},
     "output_type": "display_data"
    }
   ],
   "source": [
    "importance_xgb=[97,93,86,42,32]\n",
    "list_xgb=[32,30,31,19,10]\n",
    "feature_xgb_list=feature_name[list_xgb]\n",
    "feature_importance_xgb = pd.DataFrame(feature_xgb_list,columns=['features'])\n",
    "feature_importance_xgb['importance']=importance_xgb\n",
    "ax = feature_importance_xgb.sort_values(by=['importance'],ascending=True).plot.barh(x='features',y='importance')\n",
    "plt.show()"
   ]
  }
 ],
 "metadata": {
  "kernelspec": {
   "display_name": "Python 3 (ipykernel)",
   "language": "python",
   "name": "python3"
  },
  "language_info": {
   "codemirror_mode": {
    "name": "ipython",
    "version": 3
   },
   "file_extension": ".py",
   "mimetype": "text/x-python",
   "name": "python",
   "nbconvert_exporter": "python",
   "pygments_lexer": "ipython3",
   "version": "3.11.7"
  }
 },
 "nbformat": 4,
 "nbformat_minor": 5
}
