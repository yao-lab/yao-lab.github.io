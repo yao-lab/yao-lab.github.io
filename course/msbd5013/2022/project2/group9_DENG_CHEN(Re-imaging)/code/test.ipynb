{
 "cells": [
  {
   "cell_type": "code",
   "execution_count": 1,
   "metadata": {},
   "outputs": [],
   "source": [
    "use_gpu = False"
   ]
  },
  {
   "cell_type": "code",
   "execution_count": 2,
   "metadata": {},
   "outputs": [],
   "source": [
    "import numpy as np\n",
    "import pandas as pd\n",
    "from tqdm import tqdm\n",
    "\n",
    "import os\n",
    "import sys\n",
    "sys.path.insert(0, '..')\n",
    "\n",
    "if use_gpu:\n",
    "    from utils.gpu_tools import *\n",
    "    os.environ[\"CUDA_VISIBLE_DEVICES\"] = ','.join([ str(obj) for obj in select_gpu(query_gpu())])\n",
    "\n",
    "os.environ[\"CUDA_LAUNCH_BLOCKING\"] = '1'\n",
    "\n",
    "import torch\n",
    "import torch.nn as nn\n",
    "from torch.utils.data import Dataset\n",
    "from torch.utils.data import DataLoader\n",
    "from torch.utils.data import random_split\n",
    "\n",
    "torch.manual_seed(42)\n",
    "\n",
    "IMAGE_WIDTH = {5: 15, 20: 60, 60: 180}\n",
    "IMAGE_HEIGHT = {5: 32, 20: 64, 60: 96}  "
   ]
  },
  {
   "cell_type": "markdown",
   "metadata": {},
   "source": [
    "## load data"
   ]
  },
  {
   "cell_type": "code",
   "execution_count": 52,
   "metadata": {},
   "outputs": [
    {
     "name": "stdout",
     "output_type": "stream",
     "text": [
      "[2018 2019]\n"
     ]
    }
   ],
   "source": [
    "year_list = np.arange(2018,2020,1)\n",
    "print(year_list)"
   ]
  },
  {
   "cell_type": "code",
   "execution_count": 53,
   "metadata": {},
   "outputs": [
    {
     "name": "stdout",
     "output_type": "stream",
     "text": [
      "(137118, 64, 60)\n",
      "(137118, 8)\n"
     ]
    }
   ],
   "source": [
    "images = []\n",
    "label_df = []\n",
    "for year in year_list:\n",
    "    images.append(np.memmap(os.path.join(\"monthly_20d\", f\"20d_month_has_vb_[20]_ma_{year}_images.dat\"), dtype=np.uint8, mode='r').reshape(\n",
    "                        (-1, IMAGE_HEIGHT[20], IMAGE_WIDTH[20])))\n",
    "    label_df.append(pd.read_feather(os.path.join(\"monthly_20d\", f\"20d_month_has_vb_[20]_ma_{year}_labels_w_delay.feather\")))\n",
    "    \n",
    "images = np.concatenate(images)\n",
    "label_df = pd.concat(label_df)\n",
    "\n",
    "print(images.shape)\n",
    "print(label_df.shape)"
   ]
  },
  {
   "cell_type": "code",
   "execution_count": 54,
   "metadata": {},
   "outputs": [
    {
     "data": {
      "text/html": [
       "<div>\n",
       "<style scoped>\n",
       "    .dataframe tbody tr th:only-of-type {\n",
       "        vertical-align: middle;\n",
       "    }\n",
       "\n",
       "    .dataframe tbody tr th {\n",
       "        vertical-align: top;\n",
       "    }\n",
       "\n",
       "    .dataframe thead th {\n",
       "        text-align: right;\n",
       "    }\n",
       "</style>\n",
       "<table border=\"1\" class=\"dataframe\">\n",
       "  <thead>\n",
       "    <tr style=\"text-align: right;\">\n",
       "      <th></th>\n",
       "      <th>Date</th>\n",
       "      <th>StockID</th>\n",
       "      <th>MarketCap</th>\n",
       "      <th>Ret_5d</th>\n",
       "      <th>Ret_20d</th>\n",
       "      <th>Ret_60d</th>\n",
       "      <th>Ret_month</th>\n",
       "      <th>EWMA_vol</th>\n",
       "    </tr>\n",
       "  </thead>\n",
       "  <tbody>\n",
       "    <tr>\n",
       "      <th>0</th>\n",
       "      <td>2018-01-31</td>\n",
       "      <td>10026</td>\n",
       "      <td>2585782.25</td>\n",
       "      <td>-0.026726</td>\n",
       "      <td>-0.028459</td>\n",
       "      <td>0.007880</td>\n",
       "      <td>-0.029687</td>\n",
       "      <td>0.000431</td>\n",
       "    </tr>\n",
       "    <tr>\n",
       "      <th>1</th>\n",
       "      <td>2018-02-28</td>\n",
       "      <td>10026</td>\n",
       "      <td>2509015.75</td>\n",
       "      <td>0.052111</td>\n",
       "      <td>0.005406</td>\n",
       "      <td>0.036924</td>\n",
       "      <td>0.019895</td>\n",
       "      <td>0.000273</td>\n",
       "    </tr>\n",
       "    <tr>\n",
       "      <th>2</th>\n",
       "      <td>2018-03-29</td>\n",
       "      <td>10026</td>\n",
       "      <td>2553262.25</td>\n",
       "      <td>0.014059</td>\n",
       "      <td>0.018455</td>\n",
       "      <td>0.136837</td>\n",
       "      <td>0.006226</td>\n",
       "      <td>0.000184</td>\n",
       "    </tr>\n",
       "    <tr>\n",
       "      <th>3</th>\n",
       "      <td>2018-04-30</td>\n",
       "      <td>10026</td>\n",
       "      <td>2569841.75</td>\n",
       "      <td>-0.017175</td>\n",
       "      <td>0.019576</td>\n",
       "      <td>0.124034</td>\n",
       "      <td>0.030637</td>\n",
       "      <td>0.000129</td>\n",
       "    </tr>\n",
       "    <tr>\n",
       "      <th>4</th>\n",
       "      <td>2018-05-31</td>\n",
       "      <td>10026</td>\n",
       "      <td>2648577.25</td>\n",
       "      <td>0.032128</td>\n",
       "      <td>0.086302</td>\n",
       "      <td>0.015476</td>\n",
       "      <td>0.079857</td>\n",
       "      <td>0.000183</td>\n",
       "    </tr>\n",
       "    <tr>\n",
       "      <th>...</th>\n",
       "      <td>...</td>\n",
       "      <td>...</td>\n",
       "      <td>...</td>\n",
       "      <td>...</td>\n",
       "      <td>...</td>\n",
       "      <td>...</td>\n",
       "      <td>...</td>\n",
       "      <td>...</td>\n",
       "    </tr>\n",
       "    <tr>\n",
       "      <th>68632</th>\n",
       "      <td>2019-08-30</td>\n",
       "      <td>93436</td>\n",
       "      <td>40412844.00</td>\n",
       "      <td>0.027392</td>\n",
       "      <td>0.067639</td>\n",
       "      <td>0.490805</td>\n",
       "      <td>0.067639</td>\n",
       "      <td>0.000867</td>\n",
       "    </tr>\n",
       "    <tr>\n",
       "      <th>68633</th>\n",
       "      <td>2019-09-30</td>\n",
       "      <td>93436</td>\n",
       "      <td>43356600.00</td>\n",
       "      <td>-0.013078</td>\n",
       "      <td>0.360527</td>\n",
       "      <td>0.765477</td>\n",
       "      <td>0.307429</td>\n",
       "      <td>0.000920</td>\n",
       "    </tr>\n",
       "    <tr>\n",
       "      <th>68634</th>\n",
       "      <td>2019-10-31</td>\n",
       "      <td>93436</td>\n",
       "      <td>56762756.00</td>\n",
       "      <td>0.065478</td>\n",
       "      <td>0.047695</td>\n",
       "      <td>0.844879</td>\n",
       "      <td>0.047695</td>\n",
       "      <td>0.002130</td>\n",
       "    </tr>\n",
       "    <tr>\n",
       "      <th>68635</th>\n",
       "      <td>2019-11-29</td>\n",
       "      <td>93436</td>\n",
       "      <td>59470036.00</td>\n",
       "      <td>0.018034</td>\n",
       "      <td>0.256895</td>\n",
       "      <td>1.057951</td>\n",
       "      <td>0.267897</td>\n",
       "      <td>0.001075</td>\n",
       "    </tr>\n",
       "    <tr>\n",
       "      <th>68636</th>\n",
       "      <td>2019-12-31</td>\n",
       "      <td>93436</td>\n",
       "      <td>75717728.00</td>\n",
       "      <td>0.176440</td>\n",
       "      <td>0.531828</td>\n",
       "      <td>0.229557</td>\n",
       "      <td>NaN</td>\n",
       "      <td>0.000757</td>\n",
       "    </tr>\n",
       "  </tbody>\n",
       "</table>\n",
       "<p>137118 rows × 8 columns</p>\n",
       "</div>"
      ],
      "text/plain": [
       "            Date StockID    MarketCap    Ret_5d   Ret_20d   Ret_60d  \\\n",
       "0     2018-01-31   10026   2585782.25 -0.026726 -0.028459  0.007880   \n",
       "1     2018-02-28   10026   2509015.75  0.052111  0.005406  0.036924   \n",
       "2     2018-03-29   10026   2553262.25  0.014059  0.018455  0.136837   \n",
       "3     2018-04-30   10026   2569841.75 -0.017175  0.019576  0.124034   \n",
       "4     2018-05-31   10026   2648577.25  0.032128  0.086302  0.015476   \n",
       "...          ...     ...          ...       ...       ...       ...   \n",
       "68632 2019-08-30   93436  40412844.00  0.027392  0.067639  0.490805   \n",
       "68633 2019-09-30   93436  43356600.00 -0.013078  0.360527  0.765477   \n",
       "68634 2019-10-31   93436  56762756.00  0.065478  0.047695  0.844879   \n",
       "68635 2019-11-29   93436  59470036.00  0.018034  0.256895  1.057951   \n",
       "68636 2019-12-31   93436  75717728.00  0.176440  0.531828  0.229557   \n",
       "\n",
       "       Ret_month  EWMA_vol  \n",
       "0      -0.029687  0.000431  \n",
       "1       0.019895  0.000273  \n",
       "2       0.006226  0.000184  \n",
       "3       0.030637  0.000129  \n",
       "4       0.079857  0.000183  \n",
       "...          ...       ...  \n",
       "68632   0.067639  0.000867  \n",
       "68633   0.307429  0.000920  \n",
       "68634   0.047695  0.002130  \n",
       "68635   0.267897  0.001075  \n",
       "68636        NaN  0.000757  \n",
       "\n",
       "[137118 rows x 8 columns]"
      ]
     },
     "execution_count": 54,
     "metadata": {},
     "output_type": "execute_result"
    }
   ],
   "source": [
    "label_df"
   ]
  },
  {
   "cell_type": "code",
   "execution_count": 55,
   "metadata": {},
   "outputs": [
    {
     "data": {
      "text/plain": [
       "array([[  0,   0,   0, ...,   0,   0,   0],\n",
       "       [  0,   0,   0, ...,   0,   0,   0],\n",
       "       [  0,   0,   0, ...,   0,   0,   0],\n",
       "       ...,\n",
       "       [  0, 255,   0, ...,   0, 255,   0],\n",
       "       [  0, 255,   0, ...,   0, 255,   0],\n",
       "       [  0, 255,   0, ...,   0, 255,   0]], dtype=uint8)"
      ]
     },
     "execution_count": 55,
     "metadata": {},
     "output_type": "execute_result"
    }
   ],
   "source": [
    "images[0]"
   ]
  },
  {
   "cell_type": "code",
   "execution_count": 8,
   "metadata": {},
   "outputs": [
    {
     "data": {
      "text/plain": [
       "<matplotlib.image.AxesImage at 0x12c265449a0>"
      ]
     },
     "execution_count": 8,
     "metadata": {},
     "output_type": "execute_result"
    },
    {
     "data": {
      "image/png": "[encoded data removed]",
      "text/plain": [
       "<Figure size 720x576 with 1 Axes>"
      ]
     },
     "metadata": {
      "needs_background": "light"
     },
     "output_type": "display_data"
    }
   ],
   "source": [
    "import matplotlib.pyplot as plt\n",
    "fig = plt.figure(figsize=(10,8))\n",
    "ax = fig.add_subplot()\n",
    "ax.imshow(images[0],cmap=plt.cm.binary)"
   ]
  },
  {
   "cell_type": "markdown",
   "metadata": {},
   "source": [
    "## build dataset"
   ]
  },
  {
   "cell_type": "code",
   "execution_count": 56,
   "metadata": {},
   "outputs": [],
   "source": [
    "class MyDataset(Dataset):\n",
    "    \n",
    "    def __init__(self, img, label):\n",
    "        self.img = torch.Tensor(img.copy())\n",
    "        self.label = torch.Tensor(label)\n",
    "        self.len = len(img)\n",
    "  \n",
    "    def __len__(self):\n",
    "        return self.len\n",
    "\n",
    "    def __getitem__(self, idx):\n",
    "        return self.img[idx], self.label[idx]"
   ]
  },
  {
   "cell_type": "code",
   "execution_count": 57,
   "metadata": {},
   "outputs": [],
   "source": [
    "dataset = MyDataset(images, (label_df.Ret_20d > 0).values)"
   ]
  },
  {
   "cell_type": "code",
   "execution_count": 58,
   "metadata": {},
   "outputs": [],
   "source": [
    "test_dataloader = DataLoader(dataset, batch_size=2048, shuffle=False)"
   ]
  },
  {
   "cell_type": "markdown",
   "metadata": {},
   "source": [
    "# the neural network"
   ]
  },
  {
   "cell_type": "code",
   "execution_count": 59,
   "metadata": {},
   "outputs": [],
   "source": [
    "net_path = 'pt/20220420_223931/baseline_epoch_17_train_0.705977_val_0.701302.pt'"
   ]
  },
  {
   "cell_type": "code",
   "execution_count": 60,
   "metadata": {},
   "outputs": [],
   "source": [
    "from models import baseline\n",
    "device = 'cuda' if use_gpu else 'cpu'"
   ]
  },
  {
   "cell_type": "code",
   "execution_count": 61,
   "metadata": {},
   "outputs": [],
   "source": [
    "net = torch.load(net_path)"
   ]
  },
  {
   "cell_type": "markdown",
   "metadata": {},
   "source": [
    "## test"
   ]
  },
  {
   "cell_type": "code",
   "execution_count": 62,
   "metadata": {},
   "outputs": [],
   "source": [
    "def eval_loop(dataloader, net, loss_fn):\n",
    "    \n",
    "    running_loss = 0.0\n",
    "    total_loss = 0.0\n",
    "    current = 0\n",
    "    net.eval()\n",
    "    target = []\n",
    "    predict = []\n",
    "    with torch.no_grad():\n",
    "        with tqdm(dataloader) as t:\n",
    "            for batch, (X, y) in enumerate(t):\n",
    "                X = X.to(device)\n",
    "                y = y.to(device)\n",
    "                y_pred = net(X)\n",
    "                target.append(y.detach())\n",
    "                predict.append(y_pred.detach())\n",
    "                loss = loss_fn(y_pred, y.long())\n",
    "                \n",
    "                running_loss = (len(X) * loss.item() + running_loss * current) / (len(X) + current)\n",
    "                current += len(X)\n",
    "                t.set_postfix({'running_loss':running_loss})\n",
    "            \n",
    "    return total_loss, torch.cat(predict), torch.cat(target)"
   ]
  },
  {
   "cell_type": "code",
   "execution_count": 63,
   "metadata": {},
   "outputs": [
    {
     "name": "stderr",
     "output_type": "stream",
     "text": [
      "100%|██████████| 67/67 [29:26<00:00, 26.36s/it, running_loss=0.73] \n"
     ]
    }
   ],
   "source": [
    "loss_fn = nn.CrossEntropyLoss()\n",
    "test_loss, y_pred, y_target = eval_loop(test_dataloader, net, loss_fn)\n",
    "\n",
    "predict_logit = (torch.nn.Softmax(dim=1)(y_pred)[:,1]).cpu().numpy()"
   ]
  },
  {
   "cell_type": "code",
   "execution_count": 70,
   "metadata": {},
   "outputs": [],
   "source": [
    "import loadAndRead\n",
    "loadAndRead.write(y_pred,'y_pred.pkl')\n",
    "loadAndRead.write(predict_logit,'predict_logit.pkl')\n",
    "# predict_logit = loadAndRead.read('predict_logit.pkl')"
   ]
  },
  {
   "cell_type": "code",
   "execution_count": 80,
   "metadata": {},
   "outputs": [
    {
     "data": {
      "text/plain": [
       "tensor([0., 1., 1.,  ..., 1., 1., 1.])"
      ]
     },
     "execution_count": 80,
     "metadata": {},
     "output_type": "execute_result"
    }
   ],
   "source": [
    "y_target"
   ]
  },
  {
   "cell_type": "code",
   "execution_count": 103,
   "metadata": {},
   "outputs": [
    {
     "data": {
      "text/plain": [
       "tensor([ 0.1174, -0.0957,  0.4281,  ..., -0.3423,  0.2145, -0.2615])"
      ]
     },
     "execution_count": 103,
     "metadata": {},
     "output_type": "execute_result"
    }
   ],
   "source": [
    "(y_pred[:,1])"
   ]
  },
  {
   "cell_type": "code",
   "execution_count": 95,
   "metadata": {},
   "outputs": [
    {
     "data": {
      "text/plain": [
       "array([ True,  True,  True, ...,  True,  True,  True])"
      ]
     },
     "execution_count": 95,
     "metadata": {},
     "output_type": "execute_result"
    }
   ],
   "source": [
    "(predict_logit>0.58)"
   ]
  },
  {
   "cell_type": "code",
   "execution_count": 66,
   "metadata": {},
   "outputs": [
    {
     "data": {
      "text/plain": [
       "array([0.6689763 , 0.6619671 , 0.7797623 , ..., 0.62037796, 0.69662106,\n",
       "       0.66742975], dtype=float32)"
      ]
     },
     "execution_count": 66,
     "metadata": {},
     "output_type": "execute_result"
    }
   ],
   "source": [
    "predict_logit"
   ]
  },
  {
   "cell_type": "code",
   "execution_count": 89,
   "metadata": {},
   "outputs": [],
   "source": [
    "from sklearn.metrics import classification_report"
   ]
  },
  {
   "cell_type": "code",
   "execution_count": 105,
   "metadata": {},
   "outputs": [
    {
     "name": "stdout",
     "output_type": "stream",
     "text": [
      "              precision    recall  f1-score   support\n",
      "\n",
      "         0.0     0.4977    0.2395    0.3234     67386\n",
      "         1.0     0.5105    0.7663    0.6128     69732\n",
      "\n",
      "    accuracy                         0.5074    137118\n",
      "   macro avg     0.5041    0.5029    0.4681    137118\n",
      "weighted avg     0.5042    0.5074    0.4706    137118\n",
      "\n"
     ]
    }
   ],
   "source": [
    "# print(classification_report(y_target,(y_pred[:,1]>0)))\n",
    "print(classification_report(y_target,(predict_logit>0.50),digits=4))"
   ]
  },
  {
   "cell_type": "markdown",
   "metadata": {},
   "source": [
    "## Plot the performance"
   ]
  },
  {
   "cell_type": "code",
   "execution_count": 13,
   "metadata": {},
   "outputs": [],
   "source": [
    "from matplotlib import pyplot as plt"
   ]
  },
  {
   "cell_type": "markdown",
   "metadata": {},
   "source": [
    "### Same Weighted"
   ]
  },
  {
   "cell_type": "code",
   "execution_count": 14,
   "metadata": {},
   "outputs": [],
   "source": [
    "threshold = 0.\n",
    "\n",
    "label_df['ret'] = (predict_logit>threshold) * label_df.Ret_20d\n",
    "label_filtered = label_df[predict_logit>threshold]\n",
    "ret_baseline = label_filtered .groupby(['Date'])['Ret_20d'].mean()\n",
    "\n",
    "threshold = 0.58\n",
    "\n",
    "label_df['ret'] = (predict_logit>threshold) * label_df.Ret_20d\n",
    "label_filtered = label_df[predict_logit>threshold]\n",
    "ret_cnn = label_filtered .groupby(['Date'])['Ret_20d'].mean()\n"
   ]
  },
  {
   "cell_type": "markdown",
   "metadata": {},
   "source": [
    "### Compare of log accumulate return"
   ]
  },
  {
   "cell_type": "code",
   "execution_count": 16,
   "metadata": {},
   "outputs": [
    {
     "data": {
      "image/png": "[encoded data removed]",
      "text/plain": [
       "<Figure size 432x288 with 1 Axes>"
      ]
     },
     "metadata": {
      "needs_background": "light"
     },
     "output_type": "display_data"
    }
   ],
   "source": [
    "log_ret_baseline = np.log10((ret_baseline+1).cumprod().fillna(method='ffill'))\n",
    "log_ret_cnn = np.log10((ret_cnn+1).cumprod().fillna(method='ffill'))\n",
    "fig = plt.figure()\n",
    "plt.plot(log_ret_baseline, label='baseline')\n",
    "plt.plot(log_ret_cnn, label='CNN')\n",
    "plt.plot(log_ret_cnn - log_ret_baseline, alpha=0.6, lw=2, label='exceed_ret')\n",
    "plt.legend()\n",
    "plt.show()\n",
    "fig.savefig('pic/performance1.png',dpi=300)\n"
   ]
  },
  {
   "cell_type": "markdown",
   "metadata": {},
   "source": [
    "## Grad_CAM\n",
    "pip install grad-cam\n",
    "\n",
    "library is from https://github.com/jacobgil/pytorch-grad-cam"
   ]
  },
  {
   "cell_type": "code",
   "execution_count": 106,
   "metadata": {},
   "outputs": [],
   "source": [
    "from pytorch_grad_cam import GradCAM, ScoreCAM, GradCAMPlusPlus, AblationCAM, XGradCAM, EigenCAM, FullGrad\n",
    "from pytorch_grad_cam.utils.model_targets import ClassifierOutputTarget\n",
    "from pytorch_grad_cam.utils.image import show_cam_on_image\n",
    "import cv2"
   ]
  },
  {
   "cell_type": "markdown",
   "metadata": {},
   "source": [
    "18098,18113,18114"
   ]
  },
  {
   "cell_type": "code",
   "execution_count": 624,
   "metadata": {},
   "outputs": [],
   "source": [
    "i = 26"
   ]
  },
  {
   "cell_type": "code",
   "execution_count": 625,
   "metadata": {},
   "outputs": [
    {
     "data": {
      "text/plain": [
       "tensor(0.)"
      ]
     },
     "execution_count": 625,
     "metadata": {},
     "output_type": "execute_result"
    }
   ],
   "source": [
    "y_target[i]"
   ]
  },
  {
   "cell_type": "code",
   "execution_count": 626,
   "metadata": {},
   "outputs": [
    {
     "data": {
      "image/png": "[encoded data removed]",
      "text/plain": [
       "<Figure size 432x288 with 1 Axes>"
      ]
     },
     "metadata": {
      "needs_background": "light"
     },
     "output_type": "display_data"
    }
   ],
   "source": [
    "plt.imshow(images[i],cmap=plt.cm.binary)\n",
    "# plt.savefig('output.jpg')\n",
    "plt.show()"
   ]
  },
  {
   "cell_type": "code",
   "execution_count": 630,
   "metadata": {},
   "outputs": [
    {
     "data": {
      "image/png": "[encoded data removed]",
      "text/plain": [
       "<Figure size 432x288 with 1 Axes>"
      ]
     },
     "metadata": {
      "needs_background": "light"
     },
     "output_type": "display_data"
    }
   ],
   "source": [
    "target_layers = [net.layer1[-1]]\n",
    "input_tensor = dataset.img[i,:]\n",
    "cam = GradCAM(model=net,target_layers=target_layers)\n",
    "# targets = [ClassifierOutputTarget(1)]\n",
    "grayscale_cam = cam(input_tensor=input_tensor, targets=None)\n",
    "grayscale_cam = grayscale_cam[0, :]\n",
    "\n",
    "bgr_img = cv2.cvtColor((np.float32(images[i])/255),cv2.COLOR_GRAY2BGR)\n",
    "\n",
    "visualization = show_cam_on_image(bgr_img, grayscale_cam)\n",
    "\n",
    "plt.imshow(visualization)\n",
    "# plt.imshow(cv2.cvtColor(visualization,cv2.COLOR_BGR2GRAY))\n",
    "plt.show()"
   ]
  }
 ],
 "metadata": {
  "kernelspec": {
   "display_name": "Python 3",
   "language": "python",
   "name": "python3"
  },
  "language_info": {
   "codemirror_mode": {
    "name": "ipython",
    "version": 3
   },
   "file_extension": ".py",
   "mimetype": "text/x-python",
   "name": "python",
   "nbconvert_exporter": "python",
   "pygments_lexer": "ipython3",
   "version": "3.8.8"
  }
 },
 "nbformat": 4,
 "nbformat_minor": 4
}
