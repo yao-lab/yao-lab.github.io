{
 "cells": [
  {
   "cell_type": "code",
   "execution_count": 1,
   "metadata": {
    "_cell_guid": "b1076dfc-b9ad-4769-8c92-a6c4dae69d19",
    "_uuid": "8f2839f25d086af736a60e9eeb907d3b93b6e0e5",
    "scrolled": true
   },
   "outputs": [],
   "source": [
    "import numpy as np\n",
    "import pandas as pd\n",
    "import matplotlib.pyplot as plt\n",
    "import lightgbm as lgb\n",
    "from sklearn.metrics import mean_squared_error\n",
    "from tqdm import tqdm\n",
    "import gc"
   ]
  },
  {
   "cell_type": "code",
   "execution_count": 2,
   "metadata": {
    "_cell_guid": "79c7e3d0-c299-4dcb-8224-4455121ee9b0",
    "_uuid": "d629ff2d2480ee46fbb7e2d37f6b5fab8052498a"
   },
   "outputs": [],
   "source": [
    "def reduce_mem_usage(df, verbose=True):\n",
    "    numerics = ['int16', 'int32', 'int64', 'float16', 'float32', 'float64']\n",
    "    start_mem = df.memory_usage().sum() / 1024**2    \n",
    "    for col in df.columns:\n",
    "        col_type = df[col].dtypes\n",
    "        if col_type in numerics:\n",
    "            c_min = df[col].min()\n",
    "            c_max = df[col].max()\n",
    "            if str(col_type)[:3] == 'int':\n",
    "                if c_min > np.iinfo(np.int8).min and c_max < np.iinfo(np.int8).max:\n",
    "                    df[col] = df[col].astype(np.int8)\n",
    "                elif c_min > np.iinfo(np.int16).min and c_max < np.iinfo(np.int16).max:\n",
    "                    df[col] = df[col].astype(np.int16)\n",
    "                elif c_min > np.iinfo(np.int32).min and c_max < np.iinfo(np.int32).max:\n",
    "                    df[col] = df[col].astype(np.int32)\n",
    "                elif c_min > np.iinfo(np.int64).min and c_max < np.iinfo(np.int64).max:\n",
    "                    df[col] = df[col].astype(np.int64)  \n",
    "            else:\n",
    "                if c_min > np.finfo(np.float16).min and c_max < np.finfo(np.float16).max:\n",
    "                    df[col] = df[col].astype(np.float16)\n",
    "                elif c_min > np.finfo(np.float32).min and c_max < np.finfo(np.float32).max:\n",
    "                    df[col] = df[col].astype(np.float32)\n",
    "                else:\n",
    "                    df[col] = df[col].astype(np.float64)    \n",
    "    end_mem = df.memory_usage().sum() / 1024**2\n",
    "    if verbose: print('Mem. usage decreased to {:5.2f} Mb ({:.1f}% reduction)'.format(end_mem, 100 * (start_mem - end_mem) / start_mem))\n",
    "    return df\n",
    "#\n",
    "def autocorrelation(ys, t=1):\n",
    "    return np.corrcoef(ys[:-t], ys[t:])"
   ]
  },
  {
   "cell_type": "code",
   "execution_count": 3,
   "metadata": {},
   "outputs": [
    {
     "data": {
      "text/html": [
       "<div>\n",
       "<style scoped>\n",
       "    .dataframe tbody tr th:only-of-type {\n",
       "        vertical-align: middle;\n",
       "    }\n",
       "\n",
       "    .dataframe tbody tr th {\n",
       "        vertical-align: top;\n",
       "    }\n",
       "\n",
       "    .dataframe thead th {\n",
       "        text-align: right;\n",
       "    }\n",
       "</style>\n",
       "<table border=\"1\" class=\"dataframe\">\n",
       "  <thead>\n",
       "    <tr style=\"text-align: right;\">\n",
       "      <th></th>\n",
       "      <th>date</th>\n",
       "      <th>wm_yr_wk</th>\n",
       "      <th>weekday</th>\n",
       "      <th>wday</th>\n",
       "      <th>month</th>\n",
       "      <th>year</th>\n",
       "      <th>d</th>\n",
       "      <th>event_name_1</th>\n",
       "      <th>event_type_1</th>\n",
       "      <th>event_name_2</th>\n",
       "      <th>event_type_2</th>\n",
       "      <th>snap_CA</th>\n",
       "      <th>snap_TX</th>\n",
       "      <th>snap_WI</th>\n",
       "    </tr>\n",
       "  </thead>\n",
       "  <tbody>\n",
       "    <tr>\n",
       "      <th>0</th>\n",
       "      <td>2011-01-29</td>\n",
       "      <td>11101</td>\n",
       "      <td>Saturday</td>\n",
       "      <td>1</td>\n",
       "      <td>1</td>\n",
       "      <td>2011</td>\n",
       "      <td>d_1</td>\n",
       "      <td>NaN</td>\n",
       "      <td>NaN</td>\n",
       "      <td>NaN</td>\n",
       "      <td>NaN</td>\n",
       "      <td>0</td>\n",
       "      <td>0</td>\n",
       "      <td>0</td>\n",
       "    </tr>\n",
       "    <tr>\n",
       "      <th>1</th>\n",
       "      <td>2011-01-30</td>\n",
       "      <td>11101</td>\n",
       "      <td>Sunday</td>\n",
       "      <td>2</td>\n",
       "      <td>1</td>\n",
       "      <td>2011</td>\n",
       "      <td>d_2</td>\n",
       "      <td>NaN</td>\n",
       "      <td>NaN</td>\n",
       "      <td>NaN</td>\n",
       "      <td>NaN</td>\n",
       "      <td>0</td>\n",
       "      <td>0</td>\n",
       "      <td>0</td>\n",
       "    </tr>\n",
       "    <tr>\n",
       "      <th>2</th>\n",
       "      <td>2011-01-31</td>\n",
       "      <td>11101</td>\n",
       "      <td>Monday</td>\n",
       "      <td>3</td>\n",
       "      <td>1</td>\n",
       "      <td>2011</td>\n",
       "      <td>d_3</td>\n",
       "      <td>NaN</td>\n",
       "      <td>NaN</td>\n",
       "      <td>NaN</td>\n",
       "      <td>NaN</td>\n",
       "      <td>0</td>\n",
       "      <td>0</td>\n",
       "      <td>0</td>\n",
       "    </tr>\n",
       "    <tr>\n",
       "      <th>3</th>\n",
       "      <td>2011-02-01</td>\n",
       "      <td>11101</td>\n",
       "      <td>Tuesday</td>\n",
       "      <td>4</td>\n",
       "      <td>2</td>\n",
       "      <td>2011</td>\n",
       "      <td>d_4</td>\n",
       "      <td>NaN</td>\n",
       "      <td>NaN</td>\n",
       "      <td>NaN</td>\n",
       "      <td>NaN</td>\n",
       "      <td>1</td>\n",
       "      <td>1</td>\n",
       "      <td>0</td>\n",
       "    </tr>\n",
       "    <tr>\n",
       "      <th>4</th>\n",
       "      <td>2011-02-02</td>\n",
       "      <td>11101</td>\n",
       "      <td>Wednesday</td>\n",
       "      <td>5</td>\n",
       "      <td>2</td>\n",
       "      <td>2011</td>\n",
       "      <td>d_5</td>\n",
       "      <td>NaN</td>\n",
       "      <td>NaN</td>\n",
       "      <td>NaN</td>\n",
       "      <td>NaN</td>\n",
       "      <td>1</td>\n",
       "      <td>0</td>\n",
       "      <td>1</td>\n",
       "    </tr>\n",
       "  </tbody>\n",
       "</table>\n",
       "</div>"
      ],
      "text/plain": [
       "         date  wm_yr_wk    weekday  wday  month  year    d event_name_1  \\\n",
       "0  2011-01-29     11101   Saturday     1      1  2011  d_1          NaN   \n",
       "1  2011-01-30     11101     Sunday     2      1  2011  d_2          NaN   \n",
       "2  2011-01-31     11101     Monday     3      1  2011  d_3          NaN   \n",
       "3  2011-02-01     11101    Tuesday     4      2  2011  d_4          NaN   \n",
       "4  2011-02-02     11101  Wednesday     5      2  2011  d_5          NaN   \n",
       "\n",
       "  event_type_1 event_name_2 event_type_2  snap_CA  snap_TX  snap_WI  \n",
       "0          NaN          NaN          NaN        0        0        0  \n",
       "1          NaN          NaN          NaN        0        0        0  \n",
       "2          NaN          NaN          NaN        0        0        0  \n",
       "3          NaN          NaN          NaN        1        1        0  \n",
       "4          NaN          NaN          NaN        1        0        1  "
      ]
     },
     "execution_count": 3,
     "metadata": {},
     "output_type": "execute_result"
    }
   ],
   "source": [
    "calendar = pd.read_csv(\"../m5-forecasting-accuracy/calendar.csv\")\n",
    "calendar.head()"
   ]
  },
  {
   "cell_type": "markdown",
   "metadata": {},
   "source": [
    "**Variables to help with aggregation**"
   ]
  },
  {
   "cell_type": "code",
   "execution_count": 4,
   "metadata": {},
   "outputs": [],
   "source": [
    "def preprocess_sales(sales, start=1400, upper=1970):\n",
    "    if start is not None:\n",
    "        print(\"dropping...\")\n",
    "        to_drop = [f\"d_{i+1}\" for i in range(start-1)]\n",
    "        print(sales.shape)\n",
    "        sales.drop(to_drop, axis=1, inplace=True)\n",
    "        print(sales.shape)\n",
    "    \n",
    "    print(\"adding...\")\n",
    "    new_columns = ['d_%i'%i for i in range(1942, upper, 1)]\n",
    "    for col in new_columns:\n",
    "        sales[col] = np.nan\n",
    "    print(\"melting...\")\n",
    "    sales = sales.melt(id_vars=[\"id\", \"item_id\", \"dept_id\", \"cat_id\", \"store_id\", \"state_id\",\"scale\",\"start\"],\n",
    "                        var_name='d', value_name='demand')\n",
    "\n",
    "    print(\"generating order\")\n",
    "    if start is not None:\n",
    "        skip = start\n",
    "    else:\n",
    "        skip = 1\n",
    "    sales[\"nb\"] =sales.index // 42840 + skip\n",
    "    return sales"
   ]
  },
  {
   "cell_type": "code",
   "execution_count": 5,
   "metadata": {},
   "outputs": [],
   "source": [
    "def preprocess_calendar(calendar):\n",
    "    global maps, mods\n",
    "    calendar[\"event_name\"] = calendar[\"event_name_1\"]\n",
    "    calendar[\"event_type\"] = calendar[\"event_type_1\"]\n",
    "\n",
    "    map1 = {mod:i for i,mod in enumerate(calendar['event_name'].unique())}\n",
    "    calendar['event_name'] = calendar['event_name'].map(map1)\n",
    "    map2 = {mod:i for i,mod in enumerate(calendar['event_type'].unique())}\n",
    "    calendar['event_type'] = calendar['event_type'].map(map2)\n",
    "    calendar['nday'] = calendar['date'].str[-2:].astype(int)\n",
    "    maps[\"event_name\"] = map1\n",
    "    maps[\"event_type\"] = map2\n",
    "    mods[\"event_name\"] = len(map1)\n",
    "    mods[\"event_type\"] = len(map2)\n",
    "    calendar[\"wday\"] -=1\n",
    "    calendar[\"month\"] -=1\n",
    "    calendar[\"year\"] -= 2011\n",
    "    mods[\"month\"] = 12\n",
    "    mods[\"year\"] = 6\n",
    "    mods[\"wday\"] = 7\n",
    "    mods['snap_CA'] = 2\n",
    "    mods['snap_TX'] = 2\n",
    "    mods['snap_WI'] = 2\n",
    "\n",
    "    calendar.drop([\"event_name_1\", \"event_name_2\", \"event_type_1\", \"event_type_2\", \"date\", \"weekday\"], \n",
    "                  axis=1, inplace=True)\n",
    "    return calendar"
   ]
  },
  {
   "cell_type": "code",
   "execution_count": 6,
   "metadata": {},
   "outputs": [],
   "source": [
    "def make_dataset(categorize=False ,start=1400, upper=1970):\n",
    "    global maps, mods\n",
    "    print(\"loading calendar...\")\n",
    "    calendar = pd.read_csv(\"../m5-forecasting-accuracy/calendar.csv\")\n",
    "    print(\"loading sales...\")\n",
    "    sales = pd.read_csv(\"../m5-forecasting-accuracy/sales_add.csv\")\n",
    "    cols = [\"item_id\", \"dept_id\", \"cat_id\",\"store_id\",\"state_id\"]\n",
    "    if categorize:\n",
    "        for col in cols:\n",
    "            temp_dct = {mod:i for i, mod in enumerate(sales[col].unique())}\n",
    "            mods[col] = len(temp_dct)\n",
    "            maps[col] = temp_dct\n",
    "        for col in cols:\n",
    "            sales[col] = sales[col].map(maps[col])\n",
    "\n",
    "\n",
    "    sales =preprocess_sales(sales, start=start, upper= upper)\n",
    "    calendar = preprocess_calendar(calendar)\n",
    "    calendar = reduce_mem_usage(calendar)\n",
    "    print(\"merge with calendar...\")\n",
    "    sales = sales.merge(calendar, on='d', how='left')\n",
    "    del calendar\n",
    "\n",
    "    print(\"reordering...\")\n",
    "    sales.sort_values(by=[\"id\",\"nb\"], inplace=True)\n",
    "    print(\"re-indexing..\")\n",
    "    sales.reset_index(inplace=True, drop=True)\n",
    "    gc.collect()\n",
    "\n",
    "    sales['n_week'] = (sales['nb']-1)//7\n",
    "    sales[\"nday\"] -= 1\n",
    "    mods['nday'] = 31\n",
    "    sales = reduce_mem_usage(sales)\n",
    "    gc.collect()\n",
    "    return sales"
   ]
  },
  {
   "cell_type": "code",
   "execution_count": 7,
   "metadata": {},
   "outputs": [
    {
     "name": "stdout",
     "output_type": "stream",
     "text": [
      "loading calendar...\n",
      "loading sales...\n",
      "dropping...\n",
      "(42840, 1949)\n",
      "(42840, 950)\n",
      "adding...\n",
      "melting...\n",
      "generating order\n",
      "Mem. usage decreased to  0.04 Mb (78.4% reduction)\n",
      "merge with calendar...\n",
      "reordering...\n",
      "re-indexing..\n",
      "Mem. usage decreased to 1704.08 Mb (59.8% reduction)\n",
      "CPU times: user 1min 41s, sys: 1min 3s, total: 2min 44s\n",
      "Wall time: 2min 57s\n"
     ]
    }
   ],
   "source": [
    "%%time\n",
    "CATEGORIZE = True;\n",
    "START = 1000; UPPER = 1970;\n",
    "maps = {}\n",
    "mods = {}\n",
    "sales = make_dataset(categorize=CATEGORIZE ,start=START, upper= UPPER)"
   ]
  },
  {
   "cell_type": "code",
   "execution_count": 8,
   "metadata": {},
   "outputs": [
    {
     "name": "stdout",
     "output_type": "stream",
     "text": [
      "<class 'pandas.core.frame.DataFrame'>\n",
      "RangeIndex: 41554800 entries, 0 to 41554799\n",
      "Data columns (total 22 columns):\n",
      " #   Column      Dtype  \n",
      "---  ------      -----  \n",
      " 0   id          object \n",
      " 1   item_id     int16  \n",
      " 2   dept_id     int8   \n",
      " 3   cat_id      int8   \n",
      " 4   store_id    int8   \n",
      " 5   state_id    int8   \n",
      " 6   scale       float16\n",
      " 7   start       int16  \n",
      " 8   d           object \n",
      " 9   demand      float16\n",
      " 10  nb          int16  \n",
      " 11  wm_yr_wk    int16  \n",
      " 12  wday        int8   \n",
      " 13  month       int8   \n",
      " 14  year        int8   \n",
      " 15  snap_CA     int8   \n",
      " 16  snap_TX     int8   \n",
      " 17  snap_WI     int8   \n",
      " 18  event_name  int8   \n",
      " 19  event_type  int8   \n",
      " 20  nday        int8   \n",
      " 21  n_week      int16  \n",
      "dtypes: float16(2), int16(5), int8(13), object(2)\n",
      "memory usage: 1.7+ GB\n"
     ]
    }
   ],
   "source": [
    "sales.info()"
   ]
  },
  {
   "cell_type": "markdown",
   "metadata": {},
   "source": [
    "As we are asked to predict a time window of 28 days, the easiest way to go now is to use the last 28 days for validation:"
   ]
  },
  {
   "cell_type": "code",
   "execution_count": 9,
   "metadata": {},
   "outputs": [],
   "source": [
    "sales[\"x\"] = sales[\"demand\"] / sales[\"scale\"]"
   ]
  },
  {
   "cell_type": "code",
   "execution_count": 10,
   "metadata": {},
   "outputs": [
    {
     "name": "stderr",
     "output_type": "stream",
     "text": [
      "100%|██████████| 6/6 [00:27<00:00,  4.59s/it]\n"
     ]
    }
   ],
   "source": [
    "LAGS = [28, 35, 42, 49, 56, 63]\n",
    "FEATS = []\n",
    "for lag in tqdm(LAGS):\n",
    "    sales[f\"x_{lag}\"] = sales.groupby(\"id\")[\"x\"].shift(lag)\n",
    "    FEATS.append(f\"x_{lag}\")"
   ]
  },
  {
   "cell_type": "code",
   "execution_count": 11,
   "metadata": {},
   "outputs": [
    {
     "name": "stdout",
     "output_type": "stream",
     "text": [
      "<class 'pandas.core.frame.DataFrame'>\n",
      "RangeIndex: 41554800 entries, 0 to 41554799\n",
      "Data columns (total 29 columns):\n",
      " #   Column      Dtype  \n",
      "---  ------      -----  \n",
      " 0   id          object \n",
      " 1   item_id     int16  \n",
      " 2   dept_id     int8   \n",
      " 3   cat_id      int8   \n",
      " 4   store_id    int8   \n",
      " 5   state_id    int8   \n",
      " 6   scale       float16\n",
      " 7   start       int16  \n",
      " 8   d           object \n",
      " 9   demand      float16\n",
      " 10  nb          int16  \n",
      " 11  wm_yr_wk    int16  \n",
      " 12  wday        int8   \n",
      " 13  month       int8   \n",
      " 14  year        int8   \n",
      " 15  snap_CA     int8   \n",
      " 16  snap_TX     int8   \n",
      " 17  snap_WI     int8   \n",
      " 18  event_name  int8   \n",
      " 19  event_type  int8   \n",
      " 20  nday        int8   \n",
      " 21  n_week      int16  \n",
      " 22  x           float16\n",
      " 23  x_28        float16\n",
      " 24  x_35        float16\n",
      " 25  x_42        float16\n",
      " 26  x_49        float16\n",
      " 27  x_56        float16\n",
      " 28  x_63        float16\n",
      "dtypes: float16(9), int16(5), int8(13), object(2)\n",
      "memory usage: 2.2+ GB\n"
     ]
    }
   ],
   "source": [
    "sales.info()"
   ]
  },
  {
   "cell_type": "code",
   "execution_count": 12,
   "metadata": {},
   "outputs": [
    {
     "name": "stdout",
     "output_type": "stream",
     "text": [
      "(41554800, 29)\n",
      "(39912812, 29)\n"
     ]
    }
   ],
   "source": [
    "print(sales.shape)\n",
    "sales = sales.loc[sales.nb>sales.start]\n",
    "print(sales.shape)"
   ]
  },
  {
   "cell_type": "code",
   "execution_count": 13,
   "metadata": {},
   "outputs": [
    {
     "data": {
      "text/html": [
       "<div>\n",
       "<style scoped>\n",
       "    .dataframe tbody tr th:only-of-type {\n",
       "        vertical-align: middle;\n",
       "    }\n",
       "\n",
       "    .dataframe tbody tr th {\n",
       "        vertical-align: top;\n",
       "    }\n",
       "\n",
       "    .dataframe thead th {\n",
       "        text-align: right;\n",
       "    }\n",
       "</style>\n",
       "<table border=\"1\" class=\"dataframe\">\n",
       "  <thead>\n",
       "    <tr style=\"text-align: right;\">\n",
       "      <th></th>\n",
       "      <th>id</th>\n",
       "      <th>item_id</th>\n",
       "      <th>dept_id</th>\n",
       "      <th>cat_id</th>\n",
       "      <th>store_id</th>\n",
       "      <th>state_id</th>\n",
       "      <th>scale</th>\n",
       "      <th>start</th>\n",
       "      <th>d</th>\n",
       "      <th>demand</th>\n",
       "      <th>...</th>\n",
       "      <th>event_type</th>\n",
       "      <th>nday</th>\n",
       "      <th>n_week</th>\n",
       "      <th>x</th>\n",
       "      <th>x_28</th>\n",
       "      <th>x_35</th>\n",
       "      <th>x_42</th>\n",
       "      <th>x_49</th>\n",
       "      <th>x_56</th>\n",
       "      <th>x_63</th>\n",
       "    </tr>\n",
       "  </thead>\n",
       "  <tbody>\n",
       "    <tr>\n",
       "      <th>0</th>\n",
       "      <td>CA_1_FOODS</td>\n",
       "      <td>3056</td>\n",
       "      <td>7</td>\n",
       "      <td>2</td>\n",
       "      <td>0</td>\n",
       "      <td>0</td>\n",
       "      <td>465.75</td>\n",
       "      <td>0</td>\n",
       "      <td>d_1000</td>\n",
       "      <td>2126.0</td>\n",
       "      <td>...</td>\n",
       "      <td>0</td>\n",
       "      <td>23</td>\n",
       "      <td>142</td>\n",
       "      <td>4.566406</td>\n",
       "      <td>NaN</td>\n",
       "      <td>NaN</td>\n",
       "      <td>NaN</td>\n",
       "      <td>NaN</td>\n",
       "      <td>NaN</td>\n",
       "      <td>NaN</td>\n",
       "    </tr>\n",
       "    <tr>\n",
       "      <th>1</th>\n",
       "      <td>CA_1_FOODS</td>\n",
       "      <td>3056</td>\n",
       "      <td>7</td>\n",
       "      <td>2</td>\n",
       "      <td>0</td>\n",
       "      <td>0</td>\n",
       "      <td>465.75</td>\n",
       "      <td>0</td>\n",
       "      <td>d_1001</td>\n",
       "      <td>2828.0</td>\n",
       "      <td>...</td>\n",
       "      <td>0</td>\n",
       "      <td>24</td>\n",
       "      <td>142</td>\n",
       "      <td>6.070312</td>\n",
       "      <td>NaN</td>\n",
       "      <td>NaN</td>\n",
       "      <td>NaN</td>\n",
       "      <td>NaN</td>\n",
       "      <td>NaN</td>\n",
       "      <td>NaN</td>\n",
       "    </tr>\n",
       "    <tr>\n",
       "      <th>2</th>\n",
       "      <td>CA_1_FOODS</td>\n",
       "      <td>3056</td>\n",
       "      <td>7</td>\n",
       "      <td>2</td>\n",
       "      <td>0</td>\n",
       "      <td>0</td>\n",
       "      <td>465.75</td>\n",
       "      <td>0</td>\n",
       "      <td>d_1002</td>\n",
       "      <td>3716.0</td>\n",
       "      <td>...</td>\n",
       "      <td>0</td>\n",
       "      <td>25</td>\n",
       "      <td>143</td>\n",
       "      <td>7.980469</td>\n",
       "      <td>NaN</td>\n",
       "      <td>NaN</td>\n",
       "      <td>NaN</td>\n",
       "      <td>NaN</td>\n",
       "      <td>NaN</td>\n",
       "      <td>NaN</td>\n",
       "    </tr>\n",
       "    <tr>\n",
       "      <th>3</th>\n",
       "      <td>CA_1_FOODS</td>\n",
       "      <td>3056</td>\n",
       "      <td>7</td>\n",
       "      <td>2</td>\n",
       "      <td>0</td>\n",
       "      <td>0</td>\n",
       "      <td>465.75</td>\n",
       "      <td>0</td>\n",
       "      <td>d_1003</td>\n",
       "      <td>3856.0</td>\n",
       "      <td>...</td>\n",
       "      <td>0</td>\n",
       "      <td>26</td>\n",
       "      <td>143</td>\n",
       "      <td>8.281250</td>\n",
       "      <td>NaN</td>\n",
       "      <td>NaN</td>\n",
       "      <td>NaN</td>\n",
       "      <td>NaN</td>\n",
       "      <td>NaN</td>\n",
       "      <td>NaN</td>\n",
       "    </tr>\n",
       "    <tr>\n",
       "      <th>4</th>\n",
       "      <td>CA_1_FOODS</td>\n",
       "      <td>3056</td>\n",
       "      <td>7</td>\n",
       "      <td>2</td>\n",
       "      <td>0</td>\n",
       "      <td>0</td>\n",
       "      <td>465.75</td>\n",
       "      <td>0</td>\n",
       "      <td>d_1004</td>\n",
       "      <td>2730.0</td>\n",
       "      <td>...</td>\n",
       "      <td>0</td>\n",
       "      <td>27</td>\n",
       "      <td>143</td>\n",
       "      <td>5.863281</td>\n",
       "      <td>NaN</td>\n",
       "      <td>NaN</td>\n",
       "      <td>NaN</td>\n",
       "      <td>NaN</td>\n",
       "      <td>NaN</td>\n",
       "      <td>NaN</td>\n",
       "    </tr>\n",
       "  </tbody>\n",
       "</table>\n",
       "<p>5 rows × 29 columns</p>\n",
       "</div>"
      ],
      "text/plain": [
       "           id  item_id  dept_id  cat_id  store_id  state_id   scale  start  \\\n",
       "0  CA_1_FOODS     3056        7       2         0         0  465.75      0   \n",
       "1  CA_1_FOODS     3056        7       2         0         0  465.75      0   \n",
       "2  CA_1_FOODS     3056        7       2         0         0  465.75      0   \n",
       "3  CA_1_FOODS     3056        7       2         0         0  465.75      0   \n",
       "4  CA_1_FOODS     3056        7       2         0         0  465.75      0   \n",
       "\n",
       "        d  demand  ...  event_type  nday  n_week         x  x_28  x_35  x_42  \\\n",
       "0  d_1000  2126.0  ...           0    23     142  4.566406   NaN   NaN   NaN   \n",
       "1  d_1001  2828.0  ...           0    24     142  6.070312   NaN   NaN   NaN   \n",
       "2  d_1002  3716.0  ...           0    25     143  7.980469   NaN   NaN   NaN   \n",
       "3  d_1003  3856.0  ...           0    26     143  8.281250   NaN   NaN   NaN   \n",
       "4  d_1004  2730.0  ...           0    27     143  5.863281   NaN   NaN   NaN   \n",
       "\n",
       "   x_49  x_56  x_63  \n",
       "0   NaN   NaN   NaN  \n",
       "1   NaN   NaN   NaN  \n",
       "2   NaN   NaN   NaN  \n",
       "3   NaN   NaN   NaN  \n",
       "4   NaN   NaN   NaN  \n",
       "\n",
       "[5 rows x 29 columns]"
      ]
     },
     "execution_count": 13,
     "metadata": {},
     "output_type": "execute_result"
    }
   ],
   "source": [
    "sales.head()"
   ]
  },
  {
   "cell_type": "code",
   "execution_count": 14,
   "metadata": {},
   "outputs": [],
   "source": [
    "nb = sales['nb'].values\n",
    "MAX_LAG = max(LAGS)\n",
    "tr_mask = np.logical_and(nb>START + MAX_LAG, nb<=1941) \n",
    "val_mask = np.logical_and(nb>1913, nb<=1941)\n",
    "te_mask = np.logical_and(nb>1941, nb<=1969)"
   ]
  },
  {
   "cell_type": "code",
   "execution_count": 15,
   "metadata": {},
   "outputs": [
    {
     "data": {
      "text/plain": [
       "array([1000, 1001, 1002, ..., 1967, 1968, 1969], dtype=int16)"
      ]
     },
     "execution_count": 15,
     "metadata": {},
     "output_type": "execute_result"
    }
   ],
   "source": [
    "nb"
   ]
  },
  {
   "cell_type": "code",
   "execution_count": 16,
   "metadata": {},
   "outputs": [],
   "source": [
    "scale = sales['scale'].values\n",
    "ids = sales['id'].values\n",
    "ys = sales['x'].values  # ys = sales['demand']/sales['scale']\n",
    "Z = sales[FEATS].values"
   ]
  },
  {
   "cell_type": "code",
   "execution_count": 17,
   "metadata": {},
   "outputs": [
    {
     "data": {
      "text/plain": [
       "0           4.566406\n",
       "1           6.070312\n",
       "2           7.980469\n",
       "3           8.281250\n",
       "4           5.863281\n",
       "              ...   \n",
       "41554795         NaN\n",
       "41554796         NaN\n",
       "41554797         NaN\n",
       "41554798         NaN\n",
       "41554799         NaN\n",
       "Name: x, Length: 39912812, dtype: float16"
      ]
     },
     "execution_count": 17,
     "metadata": {},
     "output_type": "execute_result"
    }
   ],
   "source": [
    "sales['x']"
   ]
  },
  {
   "cell_type": "code",
   "execution_count": 18,
   "metadata": {},
   "outputs": [
    {
     "data": {
      "text/plain": [
       "array([ 465.8,  465.8,  465.8, ..., 1440. , 1440. , 1440. ], dtype=float16)"
      ]
     },
     "execution_count": 18,
     "metadata": {},
     "output_type": "execute_result"
    }
   ],
   "source": [
    "scale"
   ]
  },
  {
   "cell_type": "code",
   "execution_count": 19,
   "metadata": {},
   "outputs": [
    {
     "name": "stdout",
     "output_type": "stream",
     "text": [
      "<class 'pandas.core.frame.DataFrame'>\n",
      "Int64Index: 39912812 entries, 0 to 41554799\n",
      "Data columns (total 29 columns):\n",
      " #   Column      Dtype  \n",
      "---  ------      -----  \n",
      " 0   id          object \n",
      " 1   item_id     int16  \n",
      " 2   dept_id     int8   \n",
      " 3   cat_id      int8   \n",
      " 4   store_id    int8   \n",
      " 5   state_id    int8   \n",
      " 6   scale       float16\n",
      " 7   start       int16  \n",
      " 8   d           object \n",
      " 9   demand      float16\n",
      " 10  nb          int16  \n",
      " 11  wm_yr_wk    int16  \n",
      " 12  wday        int8   \n",
      " 13  month       int8   \n",
      " 14  year        int8   \n",
      " 15  snap_CA     int8   \n",
      " 16  snap_TX     int8   \n",
      " 17  snap_WI     int8   \n",
      " 18  event_name  int8   \n",
      " 19  event_type  int8   \n",
      " 20  nday        int8   \n",
      " 21  n_week      int16  \n",
      " 22  x           float16\n",
      " 23  x_28        float16\n",
      " 24  x_35        float16\n",
      " 25  x_42        float16\n",
      " 26  x_49        float16\n",
      " 27  x_56        float16\n",
      " 28  x_63        float16\n",
      "dtypes: float16(9), int16(5), int8(13), object(2)\n",
      "memory usage: 2.4+ GB\n"
     ]
    }
   ],
   "source": [
    "sales.info()"
   ]
  },
  {
   "cell_type": "code",
   "execution_count": 20,
   "metadata": {},
   "outputs": [],
   "source": [
    "sv = scale[val_mask]\n",
    "se = scale[te_mask]\n",
    "ids = ids[te_mask]\n",
    "ids = ids.reshape((-1, 28))"
   ]
  },
  {
   "cell_type": "code",
   "execution_count": 21,
   "metadata": {},
   "outputs": [
    {
     "data": {
      "text/plain": [
       "array([ 465.8,  465.8,  465.8, ..., 1440. , 1440. , 1440. ], dtype=float16)"
      ]
     },
     "execution_count": 21,
     "metadata": {},
     "output_type": "execute_result"
    }
   ],
   "source": [
    "se"
   ]
  },
  {
   "cell_type": "code",
   "execution_count": 22,
   "metadata": {},
   "outputs": [],
   "source": [
    "ca = sales[['snap_CA']].values\n",
    "tx = sales[['snap_TX']].values\n",
    "wi = sales[['snap_WI']].values\n",
    "wday = sales[['wday']].values\n",
    "month = sales[['month']].values\n",
    "year = sales[['year']].values\n",
    "event = sales[['event_name']].values\n",
    "nday = sales[['nday']].values\n",
    "lag1=sales[['x_28']].values"
   ]
  },
  {
   "cell_type": "code",
   "execution_count": 23,
   "metadata": {},
   "outputs": [],
   "source": [
    "item = sales[['item_id']].values\n",
    "dept = sales[['dept_id']].values\n",
    "cat = sales[['cat_id']].values\n",
    "store = sales[['store_id']].values\n",
    "state = sales[['state_id']].values"
   ]
  },
  {
   "cell_type": "code",
   "execution_count": 24,
   "metadata": {},
   "outputs": [
    {
     "data": {
      "text/plain": [
       "(39912812, 6)"
      ]
     },
     "execution_count": 24,
     "metadata": {},
     "output_type": "execute_result"
    }
   ],
   "source": [
    "Z.shape"
   ]
  },
  {
   "cell_type": "code",
   "execution_count": 25,
   "metadata": {},
   "outputs": [
    {
     "data": {
      "text/plain": [
       "6"
      ]
     },
     "execution_count": 25,
     "metadata": {},
     "output_type": "execute_result"
    }
   ],
   "source": [
    "len(FEATS)"
   ]
  },
  {
   "cell_type": "code",
   "execution_count": 26,
   "metadata": {},
   "outputs": [
    {
     "data": {
      "text/html": [
       "<div>\n",
       "<style scoped>\n",
       "    .dataframe tbody tr th:only-of-type {\n",
       "        vertical-align: middle;\n",
       "    }\n",
       "\n",
       "    .dataframe tbody tr th {\n",
       "        vertical-align: top;\n",
       "    }\n",
       "\n",
       "    .dataframe thead th {\n",
       "        text-align: right;\n",
       "    }\n",
       "</style>\n",
       "<table border=\"1\" class=\"dataframe\">\n",
       "  <thead>\n",
       "    <tr style=\"text-align: right;\">\n",
       "      <th></th>\n",
       "      <th>x_28</th>\n",
       "      <th>x_35</th>\n",
       "      <th>x_42</th>\n",
       "      <th>x_49</th>\n",
       "      <th>x_56</th>\n",
       "      <th>x_63</th>\n",
       "    </tr>\n",
       "  </thead>\n",
       "  <tbody>\n",
       "    <tr>\n",
       "      <th>0</th>\n",
       "      <td>NaN</td>\n",
       "      <td>NaN</td>\n",
       "      <td>NaN</td>\n",
       "      <td>NaN</td>\n",
       "      <td>NaN</td>\n",
       "      <td>NaN</td>\n",
       "    </tr>\n",
       "    <tr>\n",
       "      <th>1</th>\n",
       "      <td>NaN</td>\n",
       "      <td>NaN</td>\n",
       "      <td>NaN</td>\n",
       "      <td>NaN</td>\n",
       "      <td>NaN</td>\n",
       "      <td>NaN</td>\n",
       "    </tr>\n",
       "    <tr>\n",
       "      <th>2</th>\n",
       "      <td>NaN</td>\n",
       "      <td>NaN</td>\n",
       "      <td>NaN</td>\n",
       "      <td>NaN</td>\n",
       "      <td>NaN</td>\n",
       "      <td>NaN</td>\n",
       "    </tr>\n",
       "    <tr>\n",
       "      <th>3</th>\n",
       "      <td>NaN</td>\n",
       "      <td>NaN</td>\n",
       "      <td>NaN</td>\n",
       "      <td>NaN</td>\n",
       "      <td>NaN</td>\n",
       "      <td>NaN</td>\n",
       "    </tr>\n",
       "    <tr>\n",
       "      <th>4</th>\n",
       "      <td>NaN</td>\n",
       "      <td>NaN</td>\n",
       "      <td>NaN</td>\n",
       "      <td>NaN</td>\n",
       "      <td>NaN</td>\n",
       "      <td>NaN</td>\n",
       "    </tr>\n",
       "    <tr>\n",
       "      <th>...</th>\n",
       "      <td>...</td>\n",
       "      <td>...</td>\n",
       "      <td>...</td>\n",
       "      <td>...</td>\n",
       "      <td>...</td>\n",
       "      <td>...</td>\n",
       "    </tr>\n",
       "    <tr>\n",
       "      <th>41554795</th>\n",
       "      <td>7.667969</td>\n",
       "      <td>10.242188</td>\n",
       "      <td>8.625000</td>\n",
       "      <td>6.964844</td>\n",
       "      <td>7.355469</td>\n",
       "      <td>7.562500</td>\n",
       "    </tr>\n",
       "    <tr>\n",
       "      <th>41554796</th>\n",
       "      <td>7.988281</td>\n",
       "      <td>9.382812</td>\n",
       "      <td>9.539062</td>\n",
       "      <td>7.234375</td>\n",
       "      <td>7.601562</td>\n",
       "      <td>8.453125</td>\n",
       "    </tr>\n",
       "    <tr>\n",
       "      <th>41554797</th>\n",
       "      <td>8.898438</td>\n",
       "      <td>9.218750</td>\n",
       "      <td>9.992188</td>\n",
       "      <td>9.414062</td>\n",
       "      <td>8.890625</td>\n",
       "      <td>10.234375</td>\n",
       "    </tr>\n",
       "    <tr>\n",
       "      <th>41554798</th>\n",
       "      <td>10.234375</td>\n",
       "      <td>13.132812</td>\n",
       "      <td>12.125000</td>\n",
       "      <td>10.703125</td>\n",
       "      <td>10.320312</td>\n",
       "      <td>10.648438</td>\n",
       "    </tr>\n",
       "    <tr>\n",
       "      <th>41554799</th>\n",
       "      <td>10.335938</td>\n",
       "      <td>13.179688</td>\n",
       "      <td>9.906250</td>\n",
       "      <td>10.523438</td>\n",
       "      <td>9.953125</td>\n",
       "      <td>10.343750</td>\n",
       "    </tr>\n",
       "  </tbody>\n",
       "</table>\n",
       "<p>39912812 rows × 6 columns</p>\n",
       "</div>"
      ],
      "text/plain": [
       "               x_28       x_35       x_42       x_49       x_56       x_63\n",
       "0               NaN        NaN        NaN        NaN        NaN        NaN\n",
       "1               NaN        NaN        NaN        NaN        NaN        NaN\n",
       "2               NaN        NaN        NaN        NaN        NaN        NaN\n",
       "3               NaN        NaN        NaN        NaN        NaN        NaN\n",
       "4               NaN        NaN        NaN        NaN        NaN        NaN\n",
       "...             ...        ...        ...        ...        ...        ...\n",
       "41554795   7.667969  10.242188   8.625000   6.964844   7.355469   7.562500\n",
       "41554796   7.988281   9.382812   9.539062   7.234375   7.601562   8.453125\n",
       "41554797   8.898438   9.218750   9.992188   9.414062   8.890625  10.234375\n",
       "41554798  10.234375  13.132812  12.125000  10.703125  10.320312  10.648438\n",
       "41554799  10.335938  13.179688   9.906250  10.523438   9.953125  10.343750\n",
       "\n",
       "[39912812 rows x 6 columns]"
      ]
     },
     "execution_count": 26,
     "metadata": {},
     "output_type": "execute_result"
    }
   ],
   "source": [
    "sales[FEATS]"
   ]
  },
  {
   "cell_type": "code",
   "execution_count": 27,
   "metadata": {},
   "outputs": [
    {
     "data": {
      "text/plain": [
       "array([[0],\n",
       "       [0],\n",
       "       [0],\n",
       "       ...,\n",
       "       [0],\n",
       "       [0],\n",
       "       [0]], dtype=int8)"
      ]
     },
     "execution_count": 27,
     "metadata": {},
     "output_type": "execute_result"
    }
   ],
   "source": [
    "ca"
   ]
  },
  {
   "cell_type": "code",
   "execution_count": 28,
   "metadata": {},
   "outputs": [],
   "source": [
    "def make_data(mask):\n",
    "    x = {\"snap_CA\":ca[mask], \"snap_TX\":tx[mask], \"snap_WI\":wi[mask], \"wday\":wday[mask], \n",
    "         \"month\":month[mask], \"year\":year[mask], \"event\":event[mask], \"nday\":nday[mask], \n",
    "         \"item\":item[mask], \"dept\":dept[mask], \"cat\":cat[mask], \"store\":store[mask], \n",
    "         \"state\":state[mask],\"num\":Z[mask]}\n",
    "    t = ys[mask]\n",
    "    return x, t"
   ]
  },
  {
   "cell_type": "code",
   "execution_count": 29,
   "metadata": {},
   "outputs": [
    {
     "name": "stdout",
     "output_type": "stream",
     "text": [
      "<class 'pandas.core.frame.DataFrame'>\n",
      "Int64Index: 39912812 entries, 0 to 41554799\n",
      "Data columns (total 29 columns):\n",
      " #   Column      Dtype  \n",
      "---  ------      -----  \n",
      " 0   id          object \n",
      " 1   item_id     int16  \n",
      " 2   dept_id     int8   \n",
      " 3   cat_id      int8   \n",
      " 4   store_id    int8   \n",
      " 5   state_id    int8   \n",
      " 6   scale       float16\n",
      " 7   start       int16  \n",
      " 8   d           object \n",
      " 9   demand      float16\n",
      " 10  nb          int16  \n",
      " 11  wm_yr_wk    int16  \n",
      " 12  wday        int8   \n",
      " 13  month       int8   \n",
      " 14  year        int8   \n",
      " 15  snap_CA     int8   \n",
      " 16  snap_TX     int8   \n",
      " 17  snap_WI     int8   \n",
      " 18  event_name  int8   \n",
      " 19  event_type  int8   \n",
      " 20  nday        int8   \n",
      " 21  n_week      int16  \n",
      " 22  x           float16\n",
      " 23  x_28        float16\n",
      " 24  x_35        float16\n",
      " 25  x_42        float16\n",
      " 26  x_49        float16\n",
      " 27  x_56        float16\n",
      " 28  x_63        float16\n",
      "dtypes: float16(9), int16(5), int8(13), object(2)\n",
      "memory usage: 2.4+ GB\n"
     ]
    }
   ],
   "source": [
    "sales.info()"
   ]
  },
  {
   "cell_type": "code",
   "execution_count": 30,
   "metadata": {},
   "outputs": [],
   "source": [
    "xt, yt = make_data(tr_mask)  # train\n",
    "xv, yv = make_data(val_mask) # val\n",
    "xe, ye = make_data(te_mask)  # test"
   ]
  },
  {
   "cell_type": "code",
   "execution_count": 31,
   "metadata": {
    "scrolled": true
   },
   "outputs": [],
   "source": [
    "import tensorflow.keras.layers as L\n",
    "import tensorflow.keras.models as M\n",
    "import tensorflow.keras.backend as K\n",
    "from tensorflow.keras.callbacks import ModelCheckpoint, ReduceLROnPlateau, EarlyStopping\n",
    "import tensorflow as tf"
   ]
  },
  {
   "cell_type": "code",
   "execution_count": 32,
   "metadata": {},
   "outputs": [],
   "source": [
    "qs = [0.005, 0.025, 0.165, 0.250, 0.500, 0.750, 0.835, 0.975, 0.995]"
   ]
  },
  {
   "cell_type": "code",
   "execution_count": 33,
   "metadata": {},
   "outputs": [
    {
     "data": {
      "text/plain": [
       "<tf.Tensor: id=0, shape=(1, 9), dtype=float32, numpy=\n",
       "array([[0.005, 0.025, 0.165, 0.25 , 0.5  , 0.75 , 0.835, 0.975, 0.995]],\n",
       "      dtype=float32)>"
      ]
     },
     "execution_count": 33,
     "metadata": {},
     "output_type": "execute_result"
    }
   ],
   "source": [
    "q = tf.constant(np.array([qs]), dtype=tf.float32)\n",
    "q"
   ]
  },
  {
   "cell_type": "code",
   "execution_count": 34,
   "metadata": {},
   "outputs": [
    {
     "data": {
      "text/plain": [
       "<tf.Tensor 'snap_CA:0' shape=(None, 1) dtype=float32>"
      ]
     },
     "execution_count": 34,
     "metadata": {},
     "output_type": "execute_result"
    }
   ],
   "source": [
    "ca = L.Input((1,), name=\"snap_CA\")\n",
    "ca"
   ]
  },
  {
   "cell_type": "code",
   "execution_count": 35,
   "metadata": {},
   "outputs": [],
   "source": [
    "def qloss(y_true, y_pred):\n",
    "    # Pinball loss for multiple quantiles\n",
    "    qs = [0.005, 0.025, 0.165, 0.250, 0.500, 0.750, 0.835, 0.975, 0.995]\n",
    "    q = tf.constant(np.array([qs]), dtype=tf.float32)\n",
    "    e = y_true - y_pred\n",
    "    v = tf.maximum(q*e, (q-1)*e)\n",
    "    return K.mean(v)"
   ]
  },
  {
   "cell_type": "code",
   "execution_count": 36,
   "metadata": {},
   "outputs": [],
   "source": [
    "def make_model(n_in):\n",
    "    \n",
    "    num = L.Input((n_in,), name=\"num\")\n",
    "    \n",
    "    ca = L.Input((1,), name=\"snap_CA\")\n",
    "    tx = L.Input((1,), name=\"snap_TX\")\n",
    "    wi = L.Input((1,), name=\"snap_WI\")\n",
    "    wday = L.Input((1,), name=\"wday\")\n",
    "    month = L.Input((1,), name=\"month\")\n",
    "    year = L.Input((1,), name=\"year\")\n",
    "    event = L.Input((1,), name=\"event\")\n",
    "    nday = L.Input((1,), name=\"nday\")\n",
    "    item = L.Input((1,), name=\"item\")\n",
    "    dept = L.Input((1,), name=\"dept\")\n",
    "    cat = L.Input((1,), name=\"cat\")\n",
    "    store = L.Input((1,), name=\"store\")\n",
    "    state = L.Input((1,), name=\"state\")\n",
    "    inp = {\"snap_CA\":ca, \"snap_TX\":tx, \"snap_WI\":wi, \"wday\":wday, \n",
    "           \"month\":month, \"year\":year, \"event\":event, \"nday\":nday,\n",
    "           \"item\":item, \"dept\":dept, \"cat\":cat, \"store\":store, \n",
    "           \"state\":state, \"num\":num} \n",
    "    \n",
    "    ca_ = L.Embedding(mods[\"snap_CA\"], mods[\"snap_CA\"], name=\"ca_3d\")(ca)\n",
    "    tx_ = L.Embedding(mods[\"snap_TX\"], mods[\"snap_TX\"], name=\"tx_3d\")(tx)\n",
    "    wi_ = L.Embedding(mods[\"snap_WI\"], mods[\"snap_WI\"], name=\"wi_3d\")(wi)\n",
    "    wday_ = L.Embedding(mods[\"wday\"], mods[\"wday\"], name=\"wday_3d\")(wday)\n",
    "    month_ = L.Embedding(mods[\"month\"], mods[\"month\"], name=\"month_3d\")(month)\n",
    "    year_ = L.Embedding(mods[\"year\"], mods[\"year\"], name=\"year_3d\")(year)\n",
    "    event_ = L.Embedding(mods[\"event_name\"], mods[\"event_name\"], name=\"event_3d\")(event)\n",
    "    nday_ = L.Embedding(mods[\"nday\"], mods[\"nday\"], name=\"nday_3d\")(nday)\n",
    "    item_ = L.Embedding(mods[\"item_id\"], 10, name=\"item_3d\")(item)\n",
    "    dept_ = L.Embedding(mods[\"dept_id\"], mods[\"dept_id\"], name=\"dept_3d\")(dept)\n",
    "    cat_ = L.Embedding(mods[\"cat_id\"], mods[\"cat_id\"], name=\"cat_3d\")(cat)\n",
    "    store_ = L.Embedding(mods[\"store_id\"], mods[\"store_id\"], name=\"store_3d\")(store)\n",
    "    state_ = L.Embedding(mods[\"state_id\"], mods[\"state_id\"], name=\"state_3d\")(state)\n",
    "    \n",
    "    p = [ca_, tx_, wi_, wday_, month_, year_, event_, nday_, item_, dept_, cat_, store_, state_]\n",
    "    emb = L.Concatenate(name=\"embds\")(p)\n",
    "    context = L.Flatten(name=\"context\")(emb)\n",
    "    \n",
    "    x = L.Concatenate(name=\"x1\")([context, num])\n",
    "    x = L.Dense(500, activation=\"relu\", name=\"d1\")(x)\n",
    "    x = L.Dropout(0.3)(x)\n",
    "    x = L.Concatenate(name=\"m1\")([x, context])\n",
    "    x = L.Dense(500, activation=\"relu\", name=\"d2\")(x)\n",
    "    x = L.Dropout(0.3)(x)\n",
    "    x = L.Concatenate(name=\"m2\")([x, context])\n",
    "    x = L.Dense(500, activation=\"relu\", name=\"d3\")(x)\n",
    "    preds = L.Dense(9, activation=\"linear\", name=\"preds\")(x)\n",
    "    model = M.Model(inp, preds, name=\"M1\")\n",
    "    model.compile(loss=qloss, optimizer=\"adam\")\n",
    "    return model"
   ]
  },
  {
   "cell_type": "code",
   "execution_count": 37,
   "metadata": {},
   "outputs": [
    {
     "name": "stdout",
     "output_type": "stream",
     "text": [
      "Model: \"M1\"\n",
      "__________________________________________________________________________________________________\n",
      "Layer (type)                    Output Shape         Param #     Connected to                     \n",
      "==================================================================================================\n",
      "snap_CA (InputLayer)            [(None, 1)]          0                                            \n",
      "__________________________________________________________________________________________________\n",
      "snap_TX (InputLayer)            [(None, 1)]          0                                            \n",
      "__________________________________________________________________________________________________\n",
      "snap_WI (InputLayer)            [(None, 1)]          0                                            \n",
      "__________________________________________________________________________________________________\n",
      "wday (InputLayer)               [(None, 1)]          0                                            \n",
      "__________________________________________________________________________________________________\n",
      "month (InputLayer)              [(None, 1)]          0                                            \n",
      "__________________________________________________________________________________________________\n",
      "year (InputLayer)               [(None, 1)]          0                                            \n",
      "__________________________________________________________________________________________________\n",
      "event (InputLayer)              [(None, 1)]          0                                            \n",
      "__________________________________________________________________________________________________\n",
      "nday (InputLayer)               [(None, 1)]          0                                            \n",
      "__________________________________________________________________________________________________\n",
      "item (InputLayer)               [(None, 1)]          0                                            \n",
      "__________________________________________________________________________________________________\n",
      "dept (InputLayer)               [(None, 1)]          0                                            \n",
      "__________________________________________________________________________________________________\n",
      "cat (InputLayer)                [(None, 1)]          0                                            \n",
      "__________________________________________________________________________________________________\n",
      "store (InputLayer)              [(None, 1)]          0                                            \n",
      "__________________________________________________________________________________________________\n",
      "state (InputLayer)              [(None, 1)]          0                                            \n",
      "__________________________________________________________________________________________________\n",
      "ca_3d (Embedding)               (None, 1, 2)         4           snap_CA[0][0]                    \n",
      "__________________________________________________________________________________________________\n",
      "tx_3d (Embedding)               (None, 1, 2)         4           snap_TX[0][0]                    \n",
      "__________________________________________________________________________________________________\n",
      "wi_3d (Embedding)               (None, 1, 2)         4           snap_WI[0][0]                    \n",
      "__________________________________________________________________________________________________\n",
      "wday_3d (Embedding)             (None, 1, 7)         49          wday[0][0]                       \n",
      "__________________________________________________________________________________________________\n",
      "month_3d (Embedding)            (None, 1, 12)        144         month[0][0]                      \n",
      "__________________________________________________________________________________________________\n",
      "year_3d (Embedding)             (None, 1, 6)         36          year[0][0]                       \n",
      "__________________________________________________________________________________________________\n",
      "event_3d (Embedding)            (None, 1, 31)        961         event[0][0]                      \n",
      "__________________________________________________________________________________________________\n",
      "nday_3d (Embedding)             (None, 1, 31)        961         nday[0][0]                       \n",
      "__________________________________________________________________________________________________\n",
      "item_3d (Embedding)             (None, 1, 10)        30600       item[0][0]                       \n",
      "__________________________________________________________________________________________________\n",
      "dept_3d (Embedding)             (None, 1, 12)        144         dept[0][0]                       \n",
      "__________________________________________________________________________________________________\n",
      "cat_3d (Embedding)              (None, 1, 4)         16          cat[0][0]                        \n",
      "__________________________________________________________________________________________________\n",
      "store_3d (Embedding)            (None, 1, 14)        196         store[0][0]                      \n",
      "__________________________________________________________________________________________________\n",
      "state_3d (Embedding)            (None, 1, 4)         16          state[0][0]                      \n",
      "__________________________________________________________________________________________________\n",
      "embds (Concatenate)             (None, 1, 137)       0           ca_3d[0][0]                      \n",
      "                                                                 tx_3d[0][0]                      \n",
      "                                                                 wi_3d[0][0]                      \n",
      "                                                                 wday_3d[0][0]                    \n",
      "                                                                 month_3d[0][0]                   \n",
      "                                                                 year_3d[0][0]                    \n",
      "                                                                 event_3d[0][0]                   \n",
      "                                                                 nday_3d[0][0]                    \n",
      "                                                                 item_3d[0][0]                    \n",
      "                                                                 dept_3d[0][0]                    \n",
      "                                                                 cat_3d[0][0]                     \n",
      "                                                                 store_3d[0][0]                   \n",
      "                                                                 state_3d[0][0]                   \n",
      "__________________________________________________________________________________________________\n",
      "context (Flatten)               (None, 137)          0           embds[0][0]                      \n",
      "__________________________________________________________________________________________________\n",
      "num (InputLayer)                [(None, 6)]          0                                            \n",
      "__________________________________________________________________________________________________\n",
      "x1 (Concatenate)                (None, 143)          0           context[0][0]                    \n",
      "                                                                 num[0][0]                        \n",
      "__________________________________________________________________________________________________\n",
      "d1 (Dense)                      (None, 500)          72000       x1[0][0]                         \n",
      "__________________________________________________________________________________________________\n",
      "dropout (Dropout)               (None, 500)          0           d1[0][0]                         \n",
      "__________________________________________________________________________________________________\n",
      "m1 (Concatenate)                (None, 637)          0           dropout[0][0]                    \n",
      "                                                                 context[0][0]                    \n",
      "__________________________________________________________________________________________________\n",
      "d2 (Dense)                      (None, 500)          319000      m1[0][0]                         \n",
      "__________________________________________________________________________________________________\n",
      "dropout_1 (Dropout)             (None, 500)          0           d2[0][0]                         \n",
      "__________________________________________________________________________________________________\n",
      "m2 (Concatenate)                (None, 637)          0           dropout_1[0][0]                  \n",
      "                                                                 context[0][0]                    \n",
      "__________________________________________________________________________________________________\n",
      "d3 (Dense)                      (None, 500)          319000      m2[0][0]                         \n",
      "__________________________________________________________________________________________________\n",
      "preds (Dense)                   (None, 9)            4509        d3[0][0]                         \n",
      "==================================================================================================\n",
      "Total params: 747,644\n",
      "Trainable params: 747,644\n",
      "Non-trainable params: 0\n",
      "__________________________________________________________________________________________________\n",
      "None\n"
     ]
    }
   ],
   "source": [
    "net = make_model(len(FEATS))\n",
    "ckpt = ModelCheckpoint(\"w.h5\", monitor='val_loss', verbose=1, save_best_only=True,mode='min')\n",
    "reduce_lr = ReduceLROnPlateau(monitor='val_loss', factor=0.2,\n",
    "                              patience=5, min_lr=0.001)\n",
    "es = EarlyStopping(monitor='val_loss', patience=3)\n",
    "print(net.summary())"
   ]
  },
  {
   "cell_type": "code",
   "execution_count": 38,
   "metadata": {
    "scrolled": true
   },
   "outputs": [
    {
     "name": "stdout",
     "output_type": "stream",
     "text": [
      "Train on 36383340 samples, validate on 1199520 samples\n",
      "Epoch 1/5\n",
      "36350000/36383340 [============================>.] - ETA: 4s - loss: 0.2016 \n",
      "Epoch 00001: val_loss improved from inf to 0.22686, saving model to w.h5\n",
      "36383340/36383340 [==============================] - 4674s 128us/sample - loss: 0.2015 - val_loss: 0.2269\n",
      "Epoch 2/5\n",
      "36350000/36383340 [============================>.] - ETA: 4s - loss: 0.1935 \n",
      "Epoch 00002: val_loss improved from 0.22686 to 0.22298, saving model to w.h5\n",
      "36383340/36383340 [==============================] - 4643s 128us/sample - loss: 0.1935 - val_loss: 0.2230\n",
      "Epoch 3/5\n",
      "36350000/36383340 [============================>.] - ETA: 4s - loss: 0.1902 \n",
      "Epoch 00003: val_loss improved from 0.22298 to 0.22050, saving model to w.h5\n",
      "36383340/36383340 [==============================] - 4688s 129us/sample - loss: 0.1902 - val_loss: 0.2205\n",
      "Epoch 4/5\n",
      "36350000/36383340 [============================>.] - ETA: 4s - loss: 0.1874 \n",
      "Epoch 00004: val_loss improved from 0.22050 to 0.21888, saving model to w.h5\n",
      "36383340/36383340 [==============================] - 4646s 128us/sample - loss: 0.1874 - val_loss: 0.2189\n",
      "Epoch 5/5\n",
      "36350000/36383340 [============================>.] - ETA: 4s - loss: 0.1854 \n",
      "Epoch 00005: val_loss improved from 0.21888 to 0.21776, saving model to w.h5\n",
      "36383340/36383340 [==============================] - 4675s 128us/sample - loss: 0.1854 - val_loss: 0.2178\n"
     ]
    },
    {
     "data": {
      "text/plain": [
       "<tensorflow.python.keras.callbacks.History at 0x1a85725cf8>"
      ]
     },
     "execution_count": 38,
     "metadata": {},
     "output_type": "execute_result"
    }
   ],
   "source": [
    "net.fit(xt, yt, batch_size=50_000, epochs=5, validation_data=(xv, yv), callbacks=[ckpt, reduce_lr, es]) "
   ]
  },
  {
   "cell_type": "code",
   "execution_count": 39,
   "metadata": {},
   "outputs": [],
   "source": [
    "nett = make_model(len(FEATS))\n",
    "nett.load_weights(\"w.h5\")"
   ]
  },
  {
   "cell_type": "code",
   "execution_count": 40,
   "metadata": {},
   "outputs": [
    {
     "name": "stderr",
     "output_type": "stream",
     "text": [
      "IOPub data rate exceeded.\n",
      "The notebook server will temporarily stop sending output\n",
      "to the client in order to avoid crashing it.\n",
      "To change this limit, set the config variable\n",
      "`--NotebookApp.iopub_data_rate_limit`.\n",
      "\n",
      "Current values:\n",
      "NotebookApp.iopub_data_rate_limit=1000000.0 (bytes/sec)\n",
      "NotebookApp.rate_limit_window=3.0 (secs)\n",
      "\n"
     ]
    }
   ],
   "source": [
    "pv = nett.predict(xv, batch_size=50_000, verbose=1)\n",
    "pe = nett.predict(xe, batch_size=50_000, verbose=1)"
   ]
  },
  {
   "cell_type": "code",
   "execution_count": 41,
   "metadata": {},
   "outputs": [
    {
     "data": {
      "text/plain": [
       "array([[ 2.0930285,  4.500597 ,  5.6065397, ...,  6.482143 ,  6.950019 ,\n",
       "         7.510964 ],\n",
       "       [ 1.9890647,  4.163828 ,  5.2006493, ...,  5.938735 ,  6.352801 ,\n",
       "         6.813365 ],\n",
       "       [ 1.8670053,  3.864196 ,  4.9196897, ...,  5.6276927,  5.9767528,\n",
       "         6.3746495],\n",
       "       ...,\n",
       "       [ 3.3124425,  7.415312 ,  8.20087  , ...,  9.358212 , 10.03283  ,\n",
       "        11.029227 ],\n",
       "       [ 3.7973077,  8.781131 ,  9.732105 , ..., 11.206473 , 12.171017 ,\n",
       "        13.784743 ],\n",
       "       [ 3.6857624,  8.4786825,  9.277313 , ..., 10.56209  , 11.430563 ,\n",
       "        12.818473 ]], dtype=float32)"
      ]
     },
     "execution_count": 41,
     "metadata": {},
     "output_type": "execute_result"
    }
   ],
   "source": [
    "pv"
   ]
  },
  {
   "cell_type": "code",
   "execution_count": 67,
   "metadata": {},
   "outputs": [
    {
     "name": "stderr",
     "output_type": "stream",
     "text": [
      "IOPub data rate exceeded.\n",
      "The notebook server will temporarily stop sending output\n",
      "to the client in order to avoid crashing it.\n",
      "To change this limit, set the config variable\n",
      "`--NotebookApp.iopub_data_rate_limit`.\n",
      "\n",
      "Current values:\n",
      "NotebookApp.iopub_data_rate_limit=1000000.0 (bytes/sec)\n",
      "NotebookApp.rate_limit_window=3.0 (secs)\n",
      "\n"
     ]
    },
    {
     "data": {
      "text/plain": [
       "0.21776057838026136"
      ]
     },
     "execution_count": 67,
     "metadata": {},
     "output_type": "execute_result"
    }
   ],
   "source": [
    "nett.evaluate(xv, yv, batch_size=50_000)"
   ]
  },
  {
   "cell_type": "code",
   "execution_count": 43,
   "metadata": {},
   "outputs": [],
   "source": [
    "pv = pv.reshape((-1, 28, 9))\n",
    "pe = pe.reshape((-1, 28, 9))"
   ]
  },
  {
   "cell_type": "code",
   "execution_count": 44,
   "metadata": {},
   "outputs": [],
   "source": [
    "sv = sv.reshape((-1, 28))\n",
    "se = se.reshape((-1, 28))"
   ]
  },
  {
   "cell_type": "code",
   "execution_count": 45,
   "metadata": {},
   "outputs": [],
   "source": [
    "Yv = yv.reshape((-1, 28))"
   ]
  },
  {
   "cell_type": "code",
   "execution_count": 66,
   "metadata": {},
   "outputs": [
    {
     "name": "stdout",
     "output_type": "stream",
     "text": [
      "HOUSEHOLD_1_070_CA_3\n"
     ]
    },
    {
     "data": {
      "image/png": "[encoded data removed]",
      "text/plain": [
       "<Figure size 432x288 with 1 Axes>"
      ]
     },
     "metadata": {
      "needs_background": "light"
     },
     "output_type": "display_data"
    }
   ],
   "source": [
    "k = np.random.randint(0, 42840)\n",
    "#k = np.random.randint(0, 200)\n",
    "print(ids[k, 0])\n",
    "plt.plot(np.arange(28, 56), Yv[k], label=\"true\")\n",
    "plt.plot(np.arange(28, 56), pv[k ,:, 3], label=\"q25\")\n",
    "plt.plot(np.arange(28, 56), pv[k ,:, 4], label=\"q50\")\n",
    "plt.plot(np.arange(28, 56), pv[k, :, 5], label=\"q75\")\n",
    "plt.legend(loc=\"best\")\n",
    "plt.show()"
   ]
  },
  {
   "cell_type": "code",
   "execution_count": 65,
   "metadata": {},
   "outputs": [],
   "source": [
    "## Prediction"
   ]
  },
  {
   "cell_type": "code",
   "execution_count": 48,
   "metadata": {},
   "outputs": [],
   "source": [
    "names = [f\"F{i+1}\" for i in range(28)]"
   ]
  },
  {
   "cell_type": "code",
   "execution_count": 49,
   "metadata": {},
   "outputs": [
    {
     "data": {
      "text/plain": [
       "['F1',\n",
       " 'F2',\n",
       " 'F3',\n",
       " 'F4',\n",
       " 'F5',\n",
       " 'F6',\n",
       " 'F7',\n",
       " 'F8',\n",
       " 'F9',\n",
       " 'F10',\n",
       " 'F11',\n",
       " 'F12',\n",
       " 'F13',\n",
       " 'F14',\n",
       " 'F15',\n",
       " 'F16',\n",
       " 'F17',\n",
       " 'F18',\n",
       " 'F19',\n",
       " 'F20',\n",
       " 'F21',\n",
       " 'F22',\n",
       " 'F23',\n",
       " 'F24',\n",
       " 'F25',\n",
       " 'F26',\n",
       " 'F27',\n",
       " 'F28']"
      ]
     },
     "execution_count": 49,
     "metadata": {},
     "output_type": "execute_result"
    }
   ],
   "source": [
    "names"
   ]
  },
  {
   "cell_type": "code",
   "execution_count": 50,
   "metadata": {},
   "outputs": [],
   "source": [
    "piv = pd.DataFrame(ids[:, 0], columns=[\"id\"])"
   ]
  },
  {
   "cell_type": "code",
   "execution_count": 51,
   "metadata": {},
   "outputs": [
    {
     "data": {
      "text/html": [
       "<div>\n",
       "<style scoped>\n",
       "    .dataframe tbody tr th:only-of-type {\n",
       "        vertical-align: middle;\n",
       "    }\n",
       "\n",
       "    .dataframe tbody tr th {\n",
       "        vertical-align: top;\n",
       "    }\n",
       "\n",
       "    .dataframe thead th {\n",
       "        text-align: right;\n",
       "    }\n",
       "</style>\n",
       "<table border=\"1\" class=\"dataframe\">\n",
       "  <thead>\n",
       "    <tr style=\"text-align: right;\">\n",
       "      <th></th>\n",
       "      <th>id</th>\n",
       "    </tr>\n",
       "  </thead>\n",
       "  <tbody>\n",
       "    <tr>\n",
       "      <th>0</th>\n",
       "      <td>CA_1_FOODS</td>\n",
       "    </tr>\n",
       "    <tr>\n",
       "      <th>1</th>\n",
       "      <td>CA_1_FOODS_1</td>\n",
       "    </tr>\n",
       "    <tr>\n",
       "      <th>2</th>\n",
       "      <td>CA_1_FOODS_2</td>\n",
       "    </tr>\n",
       "    <tr>\n",
       "      <th>3</th>\n",
       "      <td>CA_1_FOODS_3</td>\n",
       "    </tr>\n",
       "    <tr>\n",
       "      <th>4</th>\n",
       "      <td>CA_1_HOBBIES</td>\n",
       "    </tr>\n",
       "    <tr>\n",
       "      <th>5</th>\n",
       "      <td>CA_1_HOBBIES_1</td>\n",
       "    </tr>\n",
       "    <tr>\n",
       "      <th>6</th>\n",
       "      <td>CA_1_HOBBIES_2</td>\n",
       "    </tr>\n",
       "    <tr>\n",
       "      <th>7</th>\n",
       "      <td>CA_1_HOUSEHOLD</td>\n",
       "    </tr>\n",
       "    <tr>\n",
       "      <th>8</th>\n",
       "      <td>CA_1_HOUSEHOLD_1</td>\n",
       "    </tr>\n",
       "    <tr>\n",
       "      <th>9</th>\n",
       "      <td>CA_1_HOUSEHOLD_2</td>\n",
       "    </tr>\n",
       "    <tr>\n",
       "      <th>10</th>\n",
       "      <td>CA_1_X</td>\n",
       "    </tr>\n",
       "    <tr>\n",
       "      <th>11</th>\n",
       "      <td>CA_2_FOODS</td>\n",
       "    </tr>\n",
       "    <tr>\n",
       "      <th>12</th>\n",
       "      <td>CA_2_FOODS_1</td>\n",
       "    </tr>\n",
       "    <tr>\n",
       "      <th>13</th>\n",
       "      <td>CA_2_FOODS_2</td>\n",
       "    </tr>\n",
       "    <tr>\n",
       "      <th>14</th>\n",
       "      <td>CA_2_FOODS_3</td>\n",
       "    </tr>\n",
       "    <tr>\n",
       "      <th>15</th>\n",
       "      <td>CA_2_HOBBIES</td>\n",
       "    </tr>\n",
       "    <tr>\n",
       "      <th>16</th>\n",
       "      <td>CA_2_HOBBIES_1</td>\n",
       "    </tr>\n",
       "    <tr>\n",
       "      <th>17</th>\n",
       "      <td>CA_2_HOBBIES_2</td>\n",
       "    </tr>\n",
       "    <tr>\n",
       "      <th>18</th>\n",
       "      <td>CA_2_HOUSEHOLD</td>\n",
       "    </tr>\n",
       "    <tr>\n",
       "      <th>19</th>\n",
       "      <td>CA_2_HOUSEHOLD_1</td>\n",
       "    </tr>\n",
       "    <tr>\n",
       "      <th>20</th>\n",
       "      <td>CA_2_HOUSEHOLD_2</td>\n",
       "    </tr>\n",
       "    <tr>\n",
       "      <th>21</th>\n",
       "      <td>CA_2_X</td>\n",
       "    </tr>\n",
       "    <tr>\n",
       "      <th>22</th>\n",
       "      <td>CA_3_FOODS</td>\n",
       "    </tr>\n",
       "    <tr>\n",
       "      <th>23</th>\n",
       "      <td>CA_3_FOODS_1</td>\n",
       "    </tr>\n",
       "    <tr>\n",
       "      <th>24</th>\n",
       "      <td>CA_3_FOODS_2</td>\n",
       "    </tr>\n",
       "    <tr>\n",
       "      <th>25</th>\n",
       "      <td>CA_3_FOODS_3</td>\n",
       "    </tr>\n",
       "    <tr>\n",
       "      <th>26</th>\n",
       "      <td>CA_3_HOBBIES</td>\n",
       "    </tr>\n",
       "    <tr>\n",
       "      <th>27</th>\n",
       "      <td>CA_3_HOBBIES_1</td>\n",
       "    </tr>\n",
       "    <tr>\n",
       "      <th>28</th>\n",
       "      <td>CA_3_HOBBIES_2</td>\n",
       "    </tr>\n",
       "    <tr>\n",
       "      <th>29</th>\n",
       "      <td>CA_3_HOUSEHOLD</td>\n",
       "    </tr>\n",
       "    <tr>\n",
       "      <th>30</th>\n",
       "      <td>CA_3_HOUSEHOLD_1</td>\n",
       "    </tr>\n",
       "    <tr>\n",
       "      <th>31</th>\n",
       "      <td>CA_3_HOUSEHOLD_2</td>\n",
       "    </tr>\n",
       "    <tr>\n",
       "      <th>32</th>\n",
       "      <td>CA_3_X</td>\n",
       "    </tr>\n",
       "    <tr>\n",
       "      <th>33</th>\n",
       "      <td>CA_4_FOODS</td>\n",
       "    </tr>\n",
       "    <tr>\n",
       "      <th>34</th>\n",
       "      <td>CA_4_FOODS_1</td>\n",
       "    </tr>\n",
       "    <tr>\n",
       "      <th>35</th>\n",
       "      <td>CA_4_FOODS_2</td>\n",
       "    </tr>\n",
       "    <tr>\n",
       "      <th>36</th>\n",
       "      <td>CA_4_FOODS_3</td>\n",
       "    </tr>\n",
       "    <tr>\n",
       "      <th>37</th>\n",
       "      <td>CA_4_HOBBIES</td>\n",
       "    </tr>\n",
       "    <tr>\n",
       "      <th>38</th>\n",
       "      <td>CA_4_HOBBIES_1</td>\n",
       "    </tr>\n",
       "    <tr>\n",
       "      <th>39</th>\n",
       "      <td>CA_4_HOBBIES_2</td>\n",
       "    </tr>\n",
       "    <tr>\n",
       "      <th>40</th>\n",
       "      <td>CA_4_HOUSEHOLD</td>\n",
       "    </tr>\n",
       "    <tr>\n",
       "      <th>41</th>\n",
       "      <td>CA_4_HOUSEHOLD_1</td>\n",
       "    </tr>\n",
       "    <tr>\n",
       "      <th>42</th>\n",
       "      <td>CA_4_HOUSEHOLD_2</td>\n",
       "    </tr>\n",
       "    <tr>\n",
       "      <th>43</th>\n",
       "      <td>CA_4_X</td>\n",
       "    </tr>\n",
       "    <tr>\n",
       "      <th>44</th>\n",
       "      <td>CA_FOODS</td>\n",
       "    </tr>\n",
       "    <tr>\n",
       "      <th>45</th>\n",
       "      <td>CA_FOODS_1</td>\n",
       "    </tr>\n",
       "    <tr>\n",
       "      <th>46</th>\n",
       "      <td>CA_FOODS_1_001</td>\n",
       "    </tr>\n",
       "    <tr>\n",
       "      <th>47</th>\n",
       "      <td>CA_FOODS_1_002</td>\n",
       "    </tr>\n",
       "    <tr>\n",
       "      <th>48</th>\n",
       "      <td>CA_FOODS_1_003</td>\n",
       "    </tr>\n",
       "    <tr>\n",
       "      <th>49</th>\n",
       "      <td>CA_FOODS_1_004</td>\n",
       "    </tr>\n",
       "  </tbody>\n",
       "</table>\n",
       "</div>"
      ],
      "text/plain": [
       "                  id\n",
       "0         CA_1_FOODS\n",
       "1       CA_1_FOODS_1\n",
       "2       CA_1_FOODS_2\n",
       "3       CA_1_FOODS_3\n",
       "4       CA_1_HOBBIES\n",
       "5     CA_1_HOBBIES_1\n",
       "6     CA_1_HOBBIES_2\n",
       "7     CA_1_HOUSEHOLD\n",
       "8   CA_1_HOUSEHOLD_1\n",
       "9   CA_1_HOUSEHOLD_2\n",
       "10            CA_1_X\n",
       "11        CA_2_FOODS\n",
       "12      CA_2_FOODS_1\n",
       "13      CA_2_FOODS_2\n",
       "14      CA_2_FOODS_3\n",
       "15      CA_2_HOBBIES\n",
       "16    CA_2_HOBBIES_1\n",
       "17    CA_2_HOBBIES_2\n",
       "18    CA_2_HOUSEHOLD\n",
       "19  CA_2_HOUSEHOLD_1\n",
       "20  CA_2_HOUSEHOLD_2\n",
       "21            CA_2_X\n",
       "22        CA_3_FOODS\n",
       "23      CA_3_FOODS_1\n",
       "24      CA_3_FOODS_2\n",
       "25      CA_3_FOODS_3\n",
       "26      CA_3_HOBBIES\n",
       "27    CA_3_HOBBIES_1\n",
       "28    CA_3_HOBBIES_2\n",
       "29    CA_3_HOUSEHOLD\n",
       "30  CA_3_HOUSEHOLD_1\n",
       "31  CA_3_HOUSEHOLD_2\n",
       "32            CA_3_X\n",
       "33        CA_4_FOODS\n",
       "34      CA_4_FOODS_1\n",
       "35      CA_4_FOODS_2\n",
       "36      CA_4_FOODS_3\n",
       "37      CA_4_HOBBIES\n",
       "38    CA_4_HOBBIES_1\n",
       "39    CA_4_HOBBIES_2\n",
       "40    CA_4_HOUSEHOLD\n",
       "41  CA_4_HOUSEHOLD_1\n",
       "42  CA_4_HOUSEHOLD_2\n",
       "43            CA_4_X\n",
       "44          CA_FOODS\n",
       "45        CA_FOODS_1\n",
       "46    CA_FOODS_1_001\n",
       "47    CA_FOODS_1_002\n",
       "48    CA_FOODS_1_003\n",
       "49    CA_FOODS_1_004"
      ]
     },
     "execution_count": 51,
     "metadata": {},
     "output_type": "execute_result"
    }
   ],
   "source": [
    "piv.head(50)"
   ]
  },
  {
   "cell_type": "code",
   "execution_count": 52,
   "metadata": {},
   "outputs": [
    {
     "data": {
      "text/plain": [
       "array([[4.658e+02, 4.658e+02, 4.658e+02, ..., 4.658e+02, 4.658e+02,\n",
       "        4.658e+02],\n",
       "       [5.641e+01, 5.641e+01, 5.641e+01, ..., 5.641e+01, 5.641e+01,\n",
       "        5.641e+01],\n",
       "       [8.494e+01, 8.494e+01, 8.494e+01, ..., 8.494e+01, 8.494e+01,\n",
       "        8.494e+01],\n",
       "       ...,\n",
       "       [5.010e-01, 5.010e-01, 5.010e-01, ..., 5.010e-01, 5.010e-01,\n",
       "        5.010e-01],\n",
       "       [3.921e-01, 3.921e-01, 3.921e-01, ..., 3.921e-01, 3.921e-01,\n",
       "        3.921e-01],\n",
       "       [1.440e+03, 1.440e+03, 1.440e+03, ..., 1.440e+03, 1.440e+03,\n",
       "        1.440e+03]], dtype=float16)"
      ]
     },
     "execution_count": 52,
     "metadata": {},
     "output_type": "execute_result"
    }
   ],
   "source": [
    "sv"
   ]
  },
  {
   "cell_type": "code",
   "execution_count": 53,
   "metadata": {},
   "outputs": [
    {
     "name": "stderr",
     "output_type": "stream",
     "text": [
      "9it [00:00, 10.74it/s]\n"
     ]
    }
   ],
   "source": [
    "QUANTILES = [\"0.005\", \"0.025\", \"0.165\", \"0.250\", \"0.500\", \"0.750\", \"0.835\", \"0.975\", \"0.995\"]\n",
    "VALID = []\n",
    "EVAL = []\n",
    "\n",
    "for i, quantile in tqdm(enumerate(QUANTILES)):\n",
    "    t1 = pd.DataFrame(pv[:,:, i]*sv, columns=names)\n",
    "    t1 = piv.join(t1)\n",
    "    t1[\"id\"] = t1[\"id\"] + f\"_{quantile}_validation\"\n",
    "    t2 = pd.DataFrame(pe[:,:, i]*se, columns=names)\n",
    "    t2 = piv.join(t2)\n",
    "    t2[\"id\"] = t2[\"id\"] + f\"_{quantile}_evaluation\"\n",
    "    VALID.append(t1)\n",
    "    EVAL.append(t2)"
   ]
  },
  {
   "cell_type": "code",
   "execution_count": 54,
   "metadata": {},
   "outputs": [
    {
     "data": {
      "text/plain": [
       "array([[4.658e+02, 4.658e+02, 4.658e+02, ..., 4.658e+02, 4.658e+02,\n",
       "        4.658e+02],\n",
       "       [5.641e+01, 5.641e+01, 5.641e+01, ..., 5.641e+01, 5.641e+01,\n",
       "        5.641e+01],\n",
       "       [8.494e+01, 8.494e+01, 8.494e+01, ..., 8.494e+01, 8.494e+01,\n",
       "        8.494e+01],\n",
       "       ...,\n",
       "       [5.010e-01, 5.010e-01, 5.010e-01, ..., 5.010e-01, 5.010e-01,\n",
       "        5.010e-01],\n",
       "       [3.921e-01, 3.921e-01, 3.921e-01, ..., 3.921e-01, 3.921e-01,\n",
       "        3.921e-01],\n",
       "       [1.440e+03, 1.440e+03, 1.440e+03, ..., 1.440e+03, 1.440e+03,\n",
       "        1.440e+03]], dtype=float16)"
      ]
     },
     "execution_count": 54,
     "metadata": {},
     "output_type": "execute_result"
    }
   ],
   "source": [
    "sv"
   ]
  },
  {
   "cell_type": "code",
   "execution_count": 55,
   "metadata": {},
   "outputs": [],
   "source": [
    "sub = pd.DataFrame()\n",
    "sub = sub.append(VALID + EVAL)\n",
    "del VALID, EVAL, t1, t2"
   ]
  },
  {
   "cell_type": "code",
   "execution_count": 56,
   "metadata": {},
   "outputs": [
    {
     "data": {
      "text/html": [
       "<div>\n",
       "<style scoped>\n",
       "    .dataframe tbody tr th:only-of-type {\n",
       "        vertical-align: middle;\n",
       "    }\n",
       "\n",
       "    .dataframe tbody tr th {\n",
       "        vertical-align: top;\n",
       "    }\n",
       "\n",
       "    .dataframe thead th {\n",
       "        text-align: right;\n",
       "    }\n",
       "</style>\n",
       "<table border=\"1\" class=\"dataframe\">\n",
       "  <thead>\n",
       "    <tr style=\"text-align: right;\">\n",
       "      <th></th>\n",
       "      <th>id</th>\n",
       "      <th>F1</th>\n",
       "      <th>F2</th>\n",
       "      <th>F3</th>\n",
       "      <th>F4</th>\n",
       "      <th>F5</th>\n",
       "      <th>F6</th>\n",
       "      <th>F7</th>\n",
       "      <th>F8</th>\n",
       "      <th>F9</th>\n",
       "      <th>...</th>\n",
       "      <th>F19</th>\n",
       "      <th>F20</th>\n",
       "      <th>F21</th>\n",
       "      <th>F22</th>\n",
       "      <th>F23</th>\n",
       "      <th>F24</th>\n",
       "      <th>F25</th>\n",
       "      <th>F26</th>\n",
       "      <th>F27</th>\n",
       "      <th>F28</th>\n",
       "    </tr>\n",
       "  </thead>\n",
       "  <tbody>\n",
       "    <tr>\n",
       "      <th>0</th>\n",
       "      <td>CA_1_FOODS_0.005_validation</td>\n",
       "      <td>974.828064</td>\n",
       "      <td>926.406860</td>\n",
       "      <td>869.557739</td>\n",
       "      <td>927.701843</td>\n",
       "      <td>1033.359619</td>\n",
       "      <td>1306.793945</td>\n",
       "      <td>1420.298462</td>\n",
       "      <td>1128.437012</td>\n",
       "      <td>1051.758667</td>\n",
       "      <td>...</td>\n",
       "      <td>1097.958984</td>\n",
       "      <td>1345.949829</td>\n",
       "      <td>1431.606689</td>\n",
       "      <td>1085.698975</td>\n",
       "      <td>979.813904</td>\n",
       "      <td>954.132751</td>\n",
       "      <td>968.183289</td>\n",
       "      <td>1081.787476</td>\n",
       "      <td>1321.621094</td>\n",
       "      <td>1425.655640</td>\n",
       "    </tr>\n",
       "    <tr>\n",
       "      <th>1</th>\n",
       "      <td>CA_1_FOODS_1_0.005_validation</td>\n",
       "      <td>85.631836</td>\n",
       "      <td>79.305046</td>\n",
       "      <td>75.582336</td>\n",
       "      <td>84.240311</td>\n",
       "      <td>96.625000</td>\n",
       "      <td>115.758820</td>\n",
       "      <td>115.788651</td>\n",
       "      <td>87.032936</td>\n",
       "      <td>83.780525</td>\n",
       "      <td>...</td>\n",
       "      <td>99.298248</td>\n",
       "      <td>113.187263</td>\n",
       "      <td>102.645821</td>\n",
       "      <td>85.809418</td>\n",
       "      <td>81.284401</td>\n",
       "      <td>81.935249</td>\n",
       "      <td>91.725700</td>\n",
       "      <td>99.066032</td>\n",
       "      <td>114.713661</td>\n",
       "      <td>105.421944</td>\n",
       "    </tr>\n",
       "    <tr>\n",
       "      <th>2</th>\n",
       "      <td>CA_1_FOODS_2_0.005_validation</td>\n",
       "      <td>145.590256</td>\n",
       "      <td>134.907440</td>\n",
       "      <td>113.126183</td>\n",
       "      <td>122.066734</td>\n",
       "      <td>139.640640</td>\n",
       "      <td>184.366714</td>\n",
       "      <td>213.307297</td>\n",
       "      <td>183.932983</td>\n",
       "      <td>172.484604</td>\n",
       "      <td>...</td>\n",
       "      <td>159.852921</td>\n",
       "      <td>195.751907</td>\n",
       "      <td>209.846054</td>\n",
       "      <td>173.495026</td>\n",
       "      <td>146.690216</td>\n",
       "      <td>135.674118</td>\n",
       "      <td>126.511482</td>\n",
       "      <td>154.857742</td>\n",
       "      <td>185.397522</td>\n",
       "      <td>210.422272</td>\n",
       "    </tr>\n",
       "    <tr>\n",
       "      <th>3</th>\n",
       "      <td>CA_1_FOODS_3_0.005_validation</td>\n",
       "      <td>671.753052</td>\n",
       "      <td>643.583435</td>\n",
       "      <td>598.246582</td>\n",
       "      <td>639.210022</td>\n",
       "      <td>713.976807</td>\n",
       "      <td>923.347595</td>\n",
       "      <td>989.245728</td>\n",
       "      <td>762.239014</td>\n",
       "      <td>707.811951</td>\n",
       "      <td>...</td>\n",
       "      <td>750.089905</td>\n",
       "      <td>929.539062</td>\n",
       "      <td>1018.393494</td>\n",
       "      <td>748.862793</td>\n",
       "      <td>676.495300</td>\n",
       "      <td>660.662292</td>\n",
       "      <td>669.713684</td>\n",
       "      <td>745.429565</td>\n",
       "      <td>924.328735</td>\n",
       "      <td>1019.444641</td>\n",
       "    </tr>\n",
       "    <tr>\n",
       "      <th>4</th>\n",
       "      <td>CA_1_HOBBIES_0.005_validation</td>\n",
       "      <td>151.396637</td>\n",
       "      <td>141.064301</td>\n",
       "      <td>137.351318</td>\n",
       "      <td>142.754379</td>\n",
       "      <td>154.798233</td>\n",
       "      <td>190.219284</td>\n",
       "      <td>201.536270</td>\n",
       "      <td>164.435928</td>\n",
       "      <td>166.529114</td>\n",
       "      <td>...</td>\n",
       "      <td>164.828354</td>\n",
       "      <td>192.428391</td>\n",
       "      <td>191.558167</td>\n",
       "      <td>167.853821</td>\n",
       "      <td>152.576538</td>\n",
       "      <td>141.505630</td>\n",
       "      <td>144.036987</td>\n",
       "      <td>168.021393</td>\n",
       "      <td>197.656738</td>\n",
       "      <td>200.876373</td>\n",
       "    </tr>\n",
       "  </tbody>\n",
       "</table>\n",
       "<p>5 rows × 29 columns</p>\n",
       "</div>"
      ],
      "text/plain": [
       "                              id          F1          F2          F3  \\\n",
       "0    CA_1_FOODS_0.005_validation  974.828064  926.406860  869.557739   \n",
       "1  CA_1_FOODS_1_0.005_validation   85.631836   79.305046   75.582336   \n",
       "2  CA_1_FOODS_2_0.005_validation  145.590256  134.907440  113.126183   \n",
       "3  CA_1_FOODS_3_0.005_validation  671.753052  643.583435  598.246582   \n",
       "4  CA_1_HOBBIES_0.005_validation  151.396637  141.064301  137.351318   \n",
       "\n",
       "           F4           F5           F6           F7           F8  \\\n",
       "0  927.701843  1033.359619  1306.793945  1420.298462  1128.437012   \n",
       "1   84.240311    96.625000   115.758820   115.788651    87.032936   \n",
       "2  122.066734   139.640640   184.366714   213.307297   183.932983   \n",
       "3  639.210022   713.976807   923.347595   989.245728   762.239014   \n",
       "4  142.754379   154.798233   190.219284   201.536270   164.435928   \n",
       "\n",
       "            F9  ...          F19          F20          F21          F22  \\\n",
       "0  1051.758667  ...  1097.958984  1345.949829  1431.606689  1085.698975   \n",
       "1    83.780525  ...    99.298248   113.187263   102.645821    85.809418   \n",
       "2   172.484604  ...   159.852921   195.751907   209.846054   173.495026   \n",
       "3   707.811951  ...   750.089905   929.539062  1018.393494   748.862793   \n",
       "4   166.529114  ...   164.828354   192.428391   191.558167   167.853821   \n",
       "\n",
       "          F23         F24         F25          F26          F27          F28  \n",
       "0  979.813904  954.132751  968.183289  1081.787476  1321.621094  1425.655640  \n",
       "1   81.284401   81.935249   91.725700    99.066032   114.713661   105.421944  \n",
       "2  146.690216  135.674118  126.511482   154.857742   185.397522   210.422272  \n",
       "3  676.495300  660.662292  669.713684   745.429565   924.328735  1019.444641  \n",
       "4  152.576538  141.505630  144.036987   168.021393   197.656738   200.876373  \n",
       "\n",
       "[5 rows x 29 columns]"
      ]
     },
     "execution_count": 56,
     "metadata": {},
     "output_type": "execute_result"
    }
   ],
   "source": [
    "sub.head()"
   ]
  },
  {
   "cell_type": "code",
   "execution_count": 57,
   "metadata": {},
   "outputs": [],
   "source": [
    "sub.to_csv(\"5_submission.csv\", index=False)"
   ]
  },
  {
   "cell_type": "code",
   "execution_count": null,
   "metadata": {},
   "outputs": [],
   "source": []
  }
 ],
 "metadata": {
  "kernelspec": {
   "display_name": "FER",
   "language": "python",
   "name": "fer"
  },
  "language_info": {
   "codemirror_mode": {
    "name": "ipython",
    "version": 3
   },
   "file_extension": ".py",
   "mimetype": "text/x-python",
   "name": "python",
   "nbconvert_exporter": "python",
   "pygments_lexer": "ipython3",
   "version": "3.6.10"
  }
 },
 "nbformat": 4,
 "nbformat_minor": 4
}
