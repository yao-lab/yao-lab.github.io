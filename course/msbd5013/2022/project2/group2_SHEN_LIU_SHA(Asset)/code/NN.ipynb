{
 "cells": [
  {
   "cell_type": "code",
   "execution_count": null,
   "metadata": {
    "_cell_guid": "b1076dfc-b9ad-4769-8c92-a6c4dae69d19",
    "_uuid": "8f2839f25d086af736a60e9eeb907d3b93b6e0e5",
    "execution": {
     "iopub.execute_input": "2022-04-24T15:09:06.313987Z",
     "iopub.status.busy": "2022-04-24T15:09:06.313136Z",
     "iopub.status.idle": "2022-04-24T15:09:06.358316Z",
     "shell.execute_reply": "2022-04-24T15:09:06.357414Z",
     "shell.execute_reply.started": "2022-04-24T15:09:06.313862Z"
    }
   },
   "outputs": [],
   "source": [
    "# This Python 3 environment comes with many helpful analytics libraries installed\n",
    "# It is defined by the kaggle/python Docker image: https://github.com/kaggle/docker-python\n",
    "# For example, here's several helpful packages to load\n",
    "\n",
    "import numpy as np # linear algebra\n",
    "import pandas as pd # data processing, CSV file I/O (e.g. pd.read_csv)\n",
    "\n",
    "# Input data files are available in the read-only \"../input/\" directory\n",
    "# For example, running this (by clicking run or pressing Shift+Enter) will list all files under the input directory\n",
    "\n",
    "import os\n",
    "for dirname, _, filenames in os.walk('/kaggle/input'):\n",
    "    for filename in filenames:\n",
    "        print(os.path.join(dirname, filename))\n",
    "\n",
    "# You can write up to 20GB to the current directory (/kaggle/working/) that gets preserved as output when you create a version using \"Save & Run All\" \n",
    "# You can also write temporary files to /kaggle/temp/, but they won't be saved outside of the current session"
   ]
  },
  {
   "cell_type": "code",
   "execution_count": null,
   "metadata": {
    "execution": {
     "iopub.execute_input": "2022-04-24T15:09:09.294146Z",
     "iopub.status.busy": "2022-04-24T15:09:09.293425Z",
     "iopub.status.idle": "2022-04-24T15:09:10.275006Z",
     "shell.execute_reply": "2022-04-24T15:09:10.274184Z",
     "shell.execute_reply.started": "2022-04-24T15:09:09.294106Z"
    }
   },
   "outputs": [],
   "source": [
    "import matplotlib.pyplot as plt\n",
    "%matplotlib inline\n",
    "import pandas as pd\n",
    "import numpy as np\n",
    "from sklearn.preprocessing import StandardScaler"
   ]
  },
  {
   "cell_type": "code",
   "execution_count": null,
   "metadata": {
    "execution": {
     "iopub.execute_input": "2022-04-18T09:07:37.157634Z",
     "iopub.status.busy": "2022-04-18T09:07:37.157356Z",
     "iopub.status.idle": "2022-04-18T09:07:37.828612Z",
     "shell.execute_reply": "2022-04-18T09:07:37.827739Z",
     "shell.execute_reply.started": "2022-04-18T09:07:37.157604Z"
    }
   },
   "outputs": [],
   "source": [
    "cd ../"
   ]
  },
  {
   "cell_type": "code",
   "execution_count": null,
   "metadata": {
    "execution": {
     "iopub.execute_input": "2022-04-24T15:09:15.953369Z",
     "iopub.status.busy": "2022-04-24T15:09:15.95269Z",
     "iopub.status.idle": "2022-04-24T15:11:53.650284Z",
     "shell.execute_reply": "2022-04-24T15:11:53.649506Z",
     "shell.execute_reply.started": "2022-04-24T15:09:15.953328Z"
    }
   },
   "outputs": [],
   "source": [
    "df = pd.read_csv(\"../input/empirical-asset-pricing/preprocessed_data.csv\")\n",
    "df = df[df[\"DATE\"] >= 19900101].reset_index(drop = True) #选取1960年之后的数据\n",
    "df.head()"
   ]
  },
  {
   "cell_type": "code",
   "execution_count": null,
   "metadata": {
    "execution": {
     "iopub.execute_input": "2022-04-24T15:12:22.108549Z",
     "iopub.status.busy": "2022-04-24T15:12:22.108265Z",
     "iopub.status.idle": "2022-04-24T15:12:22.115313Z",
     "shell.execute_reply": "2022-04-24T15:12:22.114167Z",
     "shell.execute_reply.started": "2022-04-24T15:12:22.108516Z"
    }
   },
   "outputs": [],
   "source": [
    "#Handle NA\n",
    "def handling_na(df):\n",
    "  for column in df.columns:\n",
    "    if df[column].isnull().sum() == 0:\n",
    "      continue\n",
    "    #缺失值多于50%，直接drop该列\n",
    "    elif (df[column].isnull().sum()/len(df[column])) > 0.5:\n",
    "      df.drop(column, axis = 1, inplace = True)\n",
    "    #缺失值少于50%，填充平均值 \n",
    "    else:\n",
    "      df[column].fillna(df[column].mean(), inplace = True)"
   ]
  },
  {
   "cell_type": "code",
   "execution_count": null,
   "metadata": {
    "execution": {
     "iopub.execute_input": "2022-04-24T15:12:25.658707Z",
     "iopub.status.busy": "2022-04-24T15:12:25.658406Z",
     "iopub.status.idle": "2022-04-24T15:12:25.668455Z",
     "shell.execute_reply": "2022-04-24T15:12:25.667371Z",
     "shell.execute_reply.started": "2022-04-24T15:12:25.658672Z"
    }
   },
   "outputs": [],
   "source": [
    "#输入测试集年份，自动准备数据\n",
    "def cleaning_data(year_of_test):\n",
    "  end_of_test = (year_of_test+1)*10000\n",
    "  end_of_validation = year_of_test*10000\n",
    "  start_of_validation = (year_of_test-12)*10000\n",
    "\n",
    "  alldata = df[df[\"DATE\"] < end_of_test]\n",
    "\n",
    "  #handling na\n",
    "  handling_na(alldata)\n",
    "\n",
    "  #划分train/validation/test\n",
    "  train = alldata[alldata[\"DATE\"] < start_of_validation]\n",
    "  valid = alldata[(alldata[\"DATE\"] > start_of_validation)&(alldata[\"DATE\"] < end_of_validation)]\n",
    "  test = alldata[(alldata[\"DATE\"] > end_of_validation)&(alldata[\"DATE\"] < end_of_test)]\n",
    "\n",
    "  #x,y\n",
    "  x_train = train.drop([\"permno\",\"DATE\",'RET'],axis = 1)\n",
    "  x_valid = valid.drop([\"permno\",\"DATE\",'RET'],axis = 1)\n",
    "  x_test = test.drop([\"permno\",\"DATE\",'RET'],axis = 1)\n",
    "  \n",
    "  y_train = np.array(train['RET']).reshape(-1,1)\n",
    "  y_valid = np.array(valid['RET']).reshape(-1,1)\n",
    "  y_test = np.array(test['RET']).reshape(-1,1)\n",
    "\n",
    "\n",
    "  #StandardScale\n",
    "  scaler = StandardScaler()\n",
    "  x_train = scaler.fit_transform(x_train)\n",
    "  x_valid = scaler.transform(x_valid)\n",
    "  x_test = scaler.transform(x_test)\n",
    "\n",
    "  return x_train, x_valid, x_test, y_train, y_valid, y_test"
   ]
  },
  {
   "cell_type": "code",
   "execution_count": null,
   "metadata": {
    "execution": {
     "iopub.execute_input": "2022-04-24T15:12:29.689322Z",
     "iopub.status.busy": "2022-04-24T15:12:29.689022Z",
     "iopub.status.idle": "2022-04-24T15:12:29.694616Z",
     "shell.execute_reply": "2022-04-24T15:12:29.693517Z",
     "shell.execute_reply.started": "2022-04-24T15:12:29.689289Z"
    }
   },
   "outputs": [],
   "source": [
    "#定义计算out of sample R square函数\n",
    "def R_square(ypred,ytrue): \n",
    "  dif2=np.sum(np.power(ytrue-ypred,2))\n",
    "  return 1-(dif2/np.sum(np.power(ytrue,2)))"
   ]
  },
  {
   "cell_type": "code",
   "execution_count": null,
   "metadata": {
    "execution": {
     "iopub.execute_input": "2022-04-24T15:12:32.171076Z",
     "iopub.status.busy": "2022-04-24T15:12:32.170487Z",
     "iopub.status.idle": "2022-04-24T15:12:32.175432Z",
     "shell.execute_reply": "2022-04-24T15:12:32.174682Z",
     "shell.execute_reply.started": "2022-04-24T15:12:32.171035Z"
    }
   },
   "outputs": [],
   "source": [
    "#自定义定义损失函数\n",
    "def R_loss(y_true, y_pred):\n",
    "  return tf.reduce_mean(tf.square(y_true-y_pred))/tf.reduce_mean(tf.square(y_true))"
   ]
  },
  {
   "cell_type": "code",
   "execution_count": null,
   "metadata": {
    "execution": {
     "iopub.execute_input": "2022-04-24T15:12:35.390035Z",
     "iopub.status.busy": "2022-04-24T15:12:35.389446Z",
     "iopub.status.idle": "2022-04-24T15:12:39.568621Z",
     "shell.execute_reply": "2022-04-24T15:12:39.567793Z",
     "shell.execute_reply.started": "2022-04-24T15:12:35.389993Z"
    }
   },
   "outputs": [],
   "source": [
    "import tensorflow as tf\n",
    "from tensorflow import keras"
   ]
  },
  {
   "cell_type": "code",
   "execution_count": null,
   "metadata": {
    "execution": {
     "iopub.execute_input": "2022-04-24T15:12:49.382244Z",
     "iopub.status.busy": "2022-04-24T15:12:49.381544Z"
    }
   },
   "outputs": [],
   "source": [
    "rsquare_oos_valid = []\n",
    "rsquare_oos_test = []\n",
    "\n",
    "#NN5\n",
    "for year in range(2004,2021):\n",
    "  print(\"start training the data from 1960 to \"+str(year))\n",
    "  x_train, x_valid, x_test, y_train, y_valid, y_test = cleaning_data(year)\n",
    "\n",
    "  model = keras.models.Sequential()\n",
    "  model.add(keras.layers.Dense(32, activation='relu', input_shape=x_train.shape[1:]))\n",
    "  model.add(keras.layers.Dense(16, activation='relu'))\n",
    "  model.add(keras.layers.Dense(8, activation='relu'))\n",
    "  model.add(keras.layers.Dense(4, activation='relu'))\n",
    "  model.add(keras.layers.Dense(2, activation='relu'))\n",
    "  model.add(keras.layers.Dense(1))\n",
    "\n",
    "  sgd = keras.optimizers.SGD(learning_rate = 0.0002, clipnorm = 0.5)\n",
    "\n",
    "  model.summary()\n",
    "  model.compile(loss = R_loss, optimizer= sgd)\n",
    "  \n",
    "  EarlyStop = keras.callbacks.EarlyStopping(\n",
    "      monitor='val_loss',\n",
    "      patience=2,\n",
    "      verbose=1,\n",
    "      min_delta=0.01, \n",
    "      mode='min')\n",
    "  \n",
    "  Reduce = keras.callbacks.ReduceLROnPlateau(\n",
    "      monitor='val_loss',\n",
    "      factor=0.2,\n",
    "      patience=2,\n",
    "      verbose=1,\n",
    "      mode='min',\n",
    "      min_delta=0.01,\n",
    "      cooldown=0,\n",
    "      min_lr=0)\n",
    "\n",
    "  model.fit(\n",
    "      x_train,\n",
    "      y_train,\n",
    "      validation_data = (x_valid, y_valid),\n",
    "      epochs = 100,\n",
    "      callbacks = [Reduce,EarlyStop])\n",
    "  \n",
    "  model.save('/content/drive/My Drive/NN_models/NN5_'+str(year)+'.h5')\n",
    "\n",
    "  rsquare_oos_valid.append(R_square(model.predict(x_valid),y_valid))\n",
    "  print(rsquare_oos_valid)\n",
    "  rsquare_oos_test.append(R_square(model.predict(x_test),y_test))\n",
    "  print(rsquare_oos_test)\n",
    "\n",
    "  del model"
   ]
  }
 ],
 "metadata": {
  "kernelspec": {
   "display_name": "Python 3",
   "language": "python",
   "name": "python3"
  },
  "language_info": {
   "codemirror_mode": {
    "name": "ipython",
    "version": 3
   },
   "file_extension": ".py",
   "mimetype": "text/x-python",
   "name": "python",
   "nbconvert_exporter": "python",
   "pygments_lexer": "ipython3",
   "version": "3.8.3"
  }
 },
 "nbformat": 4,
 "nbformat_minor": 4
}
