{
 "cells": [
  {
   "cell_type": "code",
   "execution_count": 1,
   "id": "e32d803d",
   "metadata": {},
   "outputs": [],
   "source": [
    "import numpy as np\n",
    "import pandas as pd\n",
    "import matplotlib.pyplot as plt"
   ]
  },
  {
   "cell_type": "code",
   "execution_count": 2,
   "id": "554ec1b7",
   "metadata": {},
   "outputs": [],
   "source": [
    "data = pd.read_csv(\"../bottom_data.csv\")"
   ]
  },
  {
   "cell_type": "markdown",
   "id": "652b8732",
   "metadata": {},
   "source": [
    "We divide the 60 years of data into 18 years of training sample (1957–1974), 12 years of validation sample (1975–1986), and the remaining 30 years (1987– 2016) for out-of-sample testing."
   ]
  },
  {
   "cell_type": "code",
   "execution_count": null,
   "id": "e271f4c3",
   "metadata": {},
   "outputs": [],
   "source": [
    "#print(data.columns.tolist())\n",
    "cond = (data.DATE >= 19570131) & (data.DATE <= 20161230)\n",
    "data = data[cond].reset_index(drop=True)\n",
    "data.head()"
   ]
  },
  {
   "cell_type": "code",
   "execution_count": null,
   "id": "80f6d1bf",
   "metadata": {},
   "outputs": [],
   "source": [
    "# drop columns with too many na values: > 30%\n",
    "#df.dropna(axis=1,thresh = len(df)*0.7, inplace= True)\n",
    "#df.reset_index(drop=True)\n",
    "# drop rows with too many na values: > 50%\n",
    "#df.dropna(axis=0, thresh = df.columns.size*0.5, inplace = True)\n",
    "\n",
    "# fill na after groupby the company num\n",
    "nacols = df.columns[df.isna().any()]\n",
    "for col in nacols:\n",
    "    df[col] = df[col].fillna(df.groupby('permno')[col].transform('mean')) \n",
    "df = df.fillna(0).reset_index(drop=True)\n",
    "print('origional data size:', (len(data), len(data.columns)))\n",
    "print('after preprocessing:', (len(df), len(df.columns)))\n",
    "#df.columns"
   ]
  },
  {
   "cell_type": "code",
   "execution_count": 49,
   "id": "4dd58272",
   "metadata": {},
   "outputs": [],
   "source": [
    "temp = df.copy()\n",
    "df = temp.copy()"
   ]
  },
  {
   "cell_type": "code",
   "execution_count": 50,
   "id": "5ace4cec",
   "metadata": {},
   "outputs": [],
   "source": [
    "df.head()\n",
    "info = df[['DATE', 'permno']]\n",
    "y = df['RET']"
   ]
  },
  {
   "cell_type": "code",
   "execution_count": 51,
   "id": "80b5ebb0",
   "metadata": {},
   "outputs": [],
   "source": [
    "from sklearn.preprocessing import StandardScaler"
   ]
  },
  {
   "cell_type": "code",
   "execution_count": null,
   "id": "0fcf2055",
   "metadata": {},
   "outputs": [],
   "source": [
    "df_features = df.iloc[:,2:].drop(columns = ['RET'])\n",
    "scaled_features = StandardScaler().fit_transform(df_features.values)\n",
    "df_scaled_features = pd.DataFrame(scaled_features, index=df_features.index, columns=df_features.columns)\n",
    "df = pd.concat([info, y, df_scaled_features], axis=1)\n",
    "df.to_csv('preprocessed_bottom_data.csv',index=False)"
   ]
  },
  {
   "cell_type": "code",
   "execution_count": 15,
   "id": "e4f6e848",
   "metadata": {},
   "outputs": [],
   "source": [
    "cond1 = df.DATE <= 19741231\n",
    "cond2 = (df.DATE > 19741231) & (df.DATE <= 19861231)\n",
    "cond3 = df.DATE > 19861231\n",
    "train_df = df[cond1].reset_index(drop=True)#.drop(columns=['DATE'])\n",
    "val_df = df[cond2].reset_index(drop=True)#.drop(columns=['DATE'])\n",
    "test_df = df[cond3].reset_index(drop=True)#.drop(columns=['DATE'])"
   ]
  },
  {
   "cell_type": "code",
   "execution_count": 16,
   "id": "16ee9dc8",
   "metadata": {},
   "outputs": [
    {
     "name": "stdout",
     "output_type": "stream",
     "text": [
      "25920 17280 43200\n"
     ]
    }
   ],
   "source": [
    "print(len(train_df), len(val_df), len(test_df))"
   ]
  },
  {
   "cell_type": "code",
   "execution_count": 17,
   "id": "dd3fe6ab",
   "metadata": {},
   "outputs": [
    {
     "name": "stdout",
     "output_type": "stream",
     "text": [
      "train years: 18.0\n",
      "val years: 12.0\n",
      "test years: 30.0\n"
     ]
    }
   ],
   "source": [
    "print('train years:', (len(train_df)/120)/12)\n",
    "print('val years:', (len(val_df)/120)/12)\n",
    "print('test years:', (len(test_df)/120)/12)"
   ]
  },
  {
   "cell_type": "code",
   "execution_count": null,
   "id": "5b636788",
   "metadata": {},
   "outputs": [],
   "source": [
    "train_df.to_csv('train_df.csv')\n",
    "val_df.to_csv('val_df.csv')\n",
    "test_df.to_csv('test_df.csv')"
   ]
  },
  {
   "cell_type": "code",
   "execution_count": 22,
   "id": "fa52b71f",
   "metadata": {},
   "outputs": [],
   "source": [
    "train_df.to_pickle('train_df.pkl')\n",
    "val_df.to_pickle('val_df.pkl')\n",
    "test_df.to_pickle('test_df.pkl')"
   ]
  }
 ],
 "metadata": {
  "kernelspec": {
   "display_name": "Python 3 (ipykernel)",
   "language": "python",
   "name": "python3"
  },
  "language_info": {
   "codemirror_mode": {
    "name": "ipython",
    "version": 3
   },
   "file_extension": ".py",
   "mimetype": "text/x-python",
   "name": "python",
   "nbconvert_exporter": "python",
   "pygments_lexer": "ipython3",
   "version": "3.8.8"
  }
 },
 "nbformat": 4,
 "nbformat_minor": 5
}
