{
 "cells": [
  {
   "cell_type": "code",
   "execution_count": 1,
   "id": "77e1b1df",
   "metadata": {},
   "outputs": [],
   "source": [
    "import pandas as pd\n",
    "import numpy as np\n",
    "import numexpr as ne\n",
    "from functools import reduce"
   ]
  },
  {
   "cell_type": "code",
   "execution_count": 23,
   "id": "0a4c5e44",
   "metadata": {},
   "outputs": [],
   "source": [
    "df = pd.read_csv('GKX_20201231.csv')\n",
    "f=['absacc', 'acc', 'aeavol', 'age', 'agr', 'baspread', 'beta', \n",
    "             'betasq', 'bm', 'bm_ia', 'cash', 'cashdebt', 'cashpr',  \n",
    "             'cfp', 'cfp_ia', 'chatoia', 'chcsho', \n",
    "             'chempia', 'chinv', 'chmom',  'chpmia', 'chtx', \n",
    "             'cinvest', 'convind', \n",
    "             'currat', 'depr', 'divi', 'divo', 'dolvol', 'dy', \n",
    "             'ear', 'egr', 'ep', 'gma', 'grcapx',  'grltnoa', 'herf', \n",
    "             'hire', 'idiovol', 'ill', 'indmom', 'invest',  'lev', 'lgr', \n",
    "             'maxret', 'mom12m', 'mom1m', 'mom36m', 'mom6m', 'ms', 'mvel1', \n",
    "             'mve_ia', 'nincr', 'operprof', 'orgcap', \n",
    "             'pchcapx_ia', 'pchcurrat', 'pchdepr', 'pchgm_pchsale', 'pchquick', \n",
    "             'pchsale_pchinvt', 'pchsale_pchrect', 'pchsale_pchxsga', \n",
    "             'pchsaleinv', 'pctacc', 'pricedelay', 'ps', 'quick', \n",
    "             'rd', 'rd_mve', 'rd_sale', 'realestate', \n",
    "             'retvol', 'roaq', 'roavol', \n",
    "             'roeq', 'roic', 'rsup', 'salecash', 'saleinv', 'salerec', \n",
    "             'secured', 'securedind', 'sgr', 'sin', 'sp',  \n",
    "             'std_dolvol', 'std_turn', 'stdacc', 'stdcf', 'tang', 'tb', \n",
    "             'turn', 'zerotrade']\n",
    "sec = ['permno', 'DATE', 'RET', 'prc', 'SHROUT','mve0','sic2']"
   ]
  },
  {
   "cell_type": "code",
   "execution_count": 24,
   "id": "fb3793e0",
   "metadata": {},
   "outputs": [],
   "source": [
    "def top_thresh_filter(group):\n",
    "    prc = group['prc'].values.copy()\n",
    "    if len(prc) > 1000:\n",
    "        tred = np.sort(prc)[-1000]\n",
    "    else:\n",
    "        tred = 0\n",
    "    return group[group['prc'] >= tred]\n",
    "def bottom_thresh_filter(group):\n",
    "    prc = group['prc'].values.copy()\n",
    "    if len(prc) > 1000:\n",
    "        tred = np.sort(prc)[999]\n",
    "    else:\n",
    "        tred = np.inf\n",
    "    return group[group['prc'] <= tred]\n",
    "top_df = df.groupby('DATE').apply(lambda x: top_thresh_filter(x))\n",
    "bottom_df = df.groupby('DATE').apply(lambda x: bottom_thresh_filter(x))"
   ]
  },
  {
   "cell_type": "code",
   "execution_count": 32,
   "id": "211e50df",
   "metadata": {},
   "outputs": [],
   "source": [
    "df = bottom_df"
   ]
  },
  {
   "cell_type": "code",
   "execution_count": 33,
   "id": "9a558b2c",
   "metadata": {},
   "outputs": [
    {
     "name": "stderr",
     "output_type": "stream",
     "text": [
      "/Library/Frameworks/Python.framework/Versions/3.9/lib/python3.9/site-packages/openpyxl/worksheet/header_footer.py:48: UserWarning: Cannot parse header or footer so it will be ignored\n",
      "  warn(\"\"\"Cannot parse header or footer so it will be ignored\"\"\")\n"
     ]
    }
   ],
   "source": [
    "macro = pd.read_excel('PredictorData2021.xlsx', parse_dates=['yyyymm'])\n",
    "macro.yyyymm = macro.yyyymm.astype(int)\n",
    "macro['dp'] = np.log(macro['D12']) - np.log(macro['Index'])\n",
    "macro['ep'] = np.log(macro['E12']) - np.log(macro['Index'])\n",
    "macro['bm'] = macro['b/m']\n",
    "macro['tms'] = macro['lty'] - macro['tbl']\n",
    "macro['dfy'] = macro['BAA'] - macro['AAA']\n",
    "macro1 = macro.loc[(macro['yyyymm']>=195701)&(macro['yyyymm']<=201612),\n",
    "                   ['yyyymm', 'dp', 'ep', 'bm', 'ntis', 'tbl', 'tms', 'dfy', 'svar']]\n",
    "macro1.to_csv('macro.csv',index=False)\n",
    "#macro = pd.read_csv('macro.csv')"
   ]
  },
  {
   "cell_type": "code",
   "execution_count": 34,
   "id": "fef3e9b2",
   "metadata": {},
   "outputs": [],
   "source": [
    "df = df.loc[(df['DATE']>=19570101)&(df['DATE']<=20161231)]"
   ]
  },
  {
   "cell_type": "code",
   "execution_count": 35,
   "id": "3705bb31",
   "metadata": {},
   "outputs": [
    {
     "name": "stderr",
     "output_type": "stream",
     "text": [
      "/var/folders/lk/c6gkc6x5345_rvndycqph7nm0000gn/T/ipykernel_85630/2012976093.py:1: SettingWithCopyWarning: \n",
      "A value is trying to be set on a copy of a slice from a DataFrame.\n",
      "Try using .loc[row_indexer,col_indexer] = value instead\n",
      "\n",
      "See the caveats in the documentation: https://pandas.pydata.org/pandas-docs/stable/user_guide/indexing.html#returning-a-view-versus-a-copy\n",
      "  df['yyyymm'] = df['DATE'].astype(str).str[:6].astype(int)\n"
     ]
    }
   ],
   "source": [
    "df['yyyymm'] = df['DATE'].astype(str).str[:6].astype(int)\n",
    "data = pd.merge(df, macro, how='left', on='yyyymm', suffixes=('', '_macro'))"
   ]
  },
  {
   "cell_type": "code",
   "execution_count": 38,
   "id": "875d923b",
   "metadata": {},
   "outputs": [],
   "source": [
    "data = data[['DATE','permno','RET']+f]"
   ]
  },
  {
   "cell_type": "code",
   "execution_count": 39,
   "id": "c5407420",
   "metadata": {},
   "outputs": [],
   "source": [
    "data.to_csv('bottom_data.csv',index=False)"
   ]
  },
  {
   "cell_type": "code",
   "execution_count": null,
   "id": "5c68d78e",
   "metadata": {},
   "outputs": [],
   "source": []
  }
 ],
 "metadata": {
  "kernelspec": {
   "display_name": "Python 3 (ipykernel)",
   "language": "python",
   "name": "python3"
  },
  "language_info": {
   "codemirror_mode": {
    "name": "ipython",
    "version": 3
   },
   "file_extension": ".py",
   "mimetype": "text/x-python",
   "name": "python",
   "nbconvert_exporter": "python",
   "pygments_lexer": "ipython3",
   "version": "3.8.8"
  }
 },
 "nbformat": 4,
 "nbformat_minor": 5
}
