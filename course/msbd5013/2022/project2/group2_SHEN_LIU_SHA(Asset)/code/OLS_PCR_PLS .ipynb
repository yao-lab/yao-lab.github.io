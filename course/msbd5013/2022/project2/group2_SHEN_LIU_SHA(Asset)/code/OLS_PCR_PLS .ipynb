{
 "cells": [
  {
   "cell_type": "code",
   "execution_count": 1,
   "id": "1218b4f4",
   "metadata": {},
   "outputs": [],
   "source": [
    "import numpy as np\n",
    "import pandas as pd\n",
    "import matplotlib.pyplot as plt\n",
    "from tqdm import tqdm"
   ]
  },
  {
   "cell_type": "code",
   "execution_count": 2,
   "id": "7104c1f1",
   "metadata": {},
   "outputs": [],
   "source": [
    "df = pd.read_csv('preprocessed_data.csv')"
   ]
  },
  {
   "cell_type": "code",
   "execution_count": null,
   "id": "5572aab6",
   "metadata": {
    "scrolled": false
   },
   "outputs": [],
   "source": [
    "df_train=df[(df.DATE>=19570131)&(df.DATE<19741231)]\n",
    "df_validation=df[(df.DATE>=19750131)&(df.DATE<19861231)]\n",
    "df_test=df[(df.DATE>=19870131)&(df.DATE<20161230)]\n",
    "df_train.shape,df_validation.shape,df_test.shape"
   ]
  },
  {
   "cell_type": "code",
   "execution_count": 4,
   "id": "34afb118",
   "metadata": {},
   "outputs": [],
   "source": [
    "X_train=df_train.drop([\"DATE\",\"permno\",\"RET\"],axis=1).values\n",
    "X_validation=df_validation.drop([\"DATE\",\"permno\",\"RET\"],axis=1).values\n",
    "X_test=df_test.drop([\"DATE\",\"permno\",\"RET\"],axis=1).values\n",
    "y_train=df_train[[\"RET\"]].values\n",
    "y_validation=df_validation[[\"RET\"]].values\n",
    "y_test=df_test[[\"RET\"]].values"
   ]
  },
  {
   "cell_type": "code",
   "execution_count": 5,
   "id": "d2547916",
   "metadata": {},
   "outputs": [],
   "source": [
    "def rsquare_oos(ytrue,ypred):\n",
    "    dif2=np.sum(np.power(ytrue-ypred,2))\n",
    "    return 1-dif2/np.sum(np.power(ytrue,2))"
   ]
  },
  {
   "cell_type": "code",
   "execution_count": 6,
   "id": "34003b5d",
   "metadata": {},
   "outputs": [],
   "source": [
    "from sklearn.linear_model import LinearRegression,Lasso,Ridge,ElasticNet\n",
    "from sklearn.preprocessing import PolynomialFeatures\n",
    "from sklearn.pipeline import make_pipeline\n",
    "from sklearn.decomposition import PCA\n",
    "from sklearn.cross_decomposition import PLSRegression"
   ]
  },
  {
   "cell_type": "code",
   "execution_count": null,
   "id": "18e53bec",
   "metadata": {},
   "outputs": [],
   "source": [
    "lr=LinearRegression()\n",
    "lr.fit(X_train,y_train)\n",
    "y_test_pred = lr.predict(X_test)\n",
    "score_train1 = rsquare_oos(y_test, y_test_pred)\n",
    "\n",
    "pcr = make_pipeline(PCA(n_components=3), LinearRegression())\n",
    "pcr.fit(X_train,y_train)\n",
    "y_test_pred = pcr.predict(X_test)\n",
    "score_train2 = rsquare_oos(y_test, y_test_pred)\n",
    "\n",
    "pls=PLSRegression(n_components=3)\n",
    "pls.fit(X_train,y_train)\n",
    "y_test_pred = pls.predict(X_test)\n",
    "score_train3 = rsquare_oos(y_test, y_test_pred)\n",
    "\n",
    "X_train=df_train[['mom12m','bm','mvel1']].values\n",
    "X_test=df_test[['mom12m','bm','mvel1']].values\n",
    "y_train=df_train[[\"RET\"]].values\n",
    "y_test=df_test[[\"RET\"]].values\n",
    "lr=LinearRegression()\n",
    "lr.fit(X_train,y_train)\n",
    "y_test_pred = lr.predict(X_test)\n",
    "score_train4 = rsquare_oos(y_test, y_test_pred)\n",
    "\n",
    "print('OLS R2 (bottom):', score_train1)\n",
    "print('OLS-3 R2 (bottom):', score_train4)\n",
    "print('PCR R2 (bottom):', score_train2)\n",
    "print('PLS R2 (bottom):', score_train3)\n",
    "\n"
   ]
  },
  {
   "cell_type": "code",
   "execution_count": null,
   "id": "58448a7c",
   "metadata": {},
   "outputs": [],
   "source": [
    "#The recursive performance evaluation scheme for OLS\n",
    "train_score=[0]*12\n",
    "validation_score=[0]*12\n",
    "test_score=[0]*12\n",
    "for i in tqdm(range(0,12)):\n",
    "    #print('Evaluation Window {}:\\nTrain df:1960-{}\\nValuation df:{}-{}\\nTest df:{}-{}'.format(i,1978+i,1978+i,1990+i,1990+i,1991+i))\n",
    "    df_train=df[(df.DATE>=19570131)&(df.DATE<19741231+i*10000)]\n",
    "    df_validation=df[(df.DATE>=19750131+i*10000)&(df.DATE<19861231+i*10000)]\n",
    "    df_test=df[(df.DATE>=19750131+i*10000)&(df.DATE<20041230+i*10000)]\n",
    "    \n",
    "    X_train=df_train.drop([\"DATE\",\"permno\",\"RET\"],axis=1).values\n",
    "    X_validation=df_validation.drop([\"DATE\",\"permno\",\"RET\"],axis=1).values\n",
    "    X_test=df_test.drop([\"DATE\",\"permno\",\"RET\"],axis=1).values\n",
    "    y_train=df_train[[\"RET\"]].values\n",
    "    y_validation=df_validation[[\"RET\"]].values\n",
    "    y_test=df_test[[\"RET\"]].values\n",
    "    \n",
    "    lr=LinearRegression()\n",
    "    lr.fit(X_train,y_train)\n",
    "    y_train_pred=lr.predict(X_train)\n",
    "    train_score[i]=rsquare_oos(y_train,y_train_pred)\n",
    "    y_validation_pred=lr.predict(X_validation)\n",
    "    validation_score[i]=rsquare_oos(y_validation,y_validation_pred)\n",
    "    y_test_pred=lr.predict(X_test)\n",
    "    test_score[i]=rsquare_oos(y_test,y_test_pred)\n",
    "    \n",
    "    #del df_train,df_validation,df_test,X_train,y_train,X_test,y_test,X_validation,y_validation\n",
    "    \n",
    "validation_score = np.array(validation_score)\n",
    "test_score = np.array(test_score)\n",
    "\n",
    "plt.figure(figsize=(15,5))\n",
    "plt.subplot(1,2,1)\n",
    "plt.title(\"Simple Linear Regression OLS\")\n",
    "year=np.arange(1975,1987)\n",
    "plt.plot(year, validation_score)\n",
    "plt.xlabel(\"The year for test\")\n",
    "plt.ylabel(\"Validation score--R-square\")\n",
    "plt.subplot(1,2,2)\n",
    "year=np.arange(1976,1988)\n",
    "plt.plot(year,test_score)\n",
    "plt.xlabel(\"The year for test\")\n",
    "plt.ylabel(\"Test score--R-square\")\n",
    "plt.show()"
   ]
  },
  {
   "cell_type": "code",
   "execution_count": 26,
   "id": "19c69feb",
   "metadata": {},
   "outputs": [
    {
     "data": {
      "text/plain": [
       "{'Coefficients': {'ep_macro': 0.13378407923421476,\n",
       "  'tbl': 0.10122419978458569,\n",
       "  'svar': 0.09547128684149106,\n",
       "  'dfy': 0.08903778275070054,\n",
       "  'dp': 0.08520356276377948,\n",
       "  'bm_macro': 0.05439586463161295,\n",
       "  'tms': 0.03200923304824355,\n",
       "  'ntis': 0.03200413154868977,\n",
       "  'idiovol': 0.030321063340030756,\n",
       "  'dolvol': 0.026094286825668996,\n",
       "  'mom1m': 0.02077180052583743,\n",
       "  'zerotrade': 0.020639269063457637,\n",
       "  'retvol': 0.02028742922585193,\n",
       "  'std_turn': 0.019800918744417938,\n",
       "  'baspread': 0.01909192798136667,\n",
       "  'chmom': 0.013731487790087938,\n",
       "  'mvel1': 0.013591491124743008,\n",
       "  'indmom': 0.009326953279629797,\n",
       "  'mom6m': 0.009099353065859758,\n",
       "  'maxret': 0.008558451602017413}}"
      ]
     },
     "execution_count": 26,
     "metadata": {},
     "output_type": "execute_result"
    },
    {
     "data": {
      "image/png": "[encoded data removed]",
      "text/plain": [
       "<Figure size 648x504 with 1 Axes>"
      ]
     },
     "metadata": {
      "needs_background": "light"
     },
     "output_type": "display_data"
    }
   ],
   "source": [
    "X_train=df_train.drop([\"DATE\",\"permno\",\"RET\"],axis=1)\n",
    "coefs = pd.DataFrame(\n",
    "   abs(lr.coef_.T),\n",
    "   columns=['Coefficients'], index=X_train.columns\n",
    ")\n",
    "coefs = coefs/np.sum(coefs)\n",
    "coefs = coefs.sort_values(by = 'Coefficients', ascending=False)[:20]\n",
    "coefs.plot(kind='barh', figsize=(9, 7))\n",
    "plt.title('OLS')\n",
    "plt.axvline(x=0, color='.5')\n",
    "plt.subplots_adjust(left=.3)\n",
    "dic = coefs.to_dict()\n",
    "dic\n",
    "#np.save('OLS_dict.npy', dic) "
   ]
  },
  {
   "cell_type": "code",
   "execution_count": null,
   "id": "13b7e088",
   "metadata": {},
   "outputs": [],
   "source": [
    "#The recursive performance evaluation scheme for OLS-3\n",
    "train_score=[0]*29\n",
    "validation_score=[0]*29\n",
    "test_score=[0]*29\n",
    "for i in tqdm(range(0,29)):\n",
    "    #print('Evaluation Window {}:\\nTrain df:1960-{}\\nValuation df:{}-{}\\nTest df:{}-{}'.format(i,1978+i,1978+i,1990+i,1990+i,1991+i))\n",
    "    df_train=df[(df.DATE>=19570131)&(df.DATE<19741231+i*10000)]\n",
    "    df_validation=df[(df.DATE>=19750131+i*10000)&(df.DATE<19861231+i*10000)]\n",
    "    df_test=df[(df.DATE>=19750131+i*10000)&(df.DATE<20041230+i*10000)]\n",
    "    \n",
    "    X_train=df_train[['mom12m','bm','mvel1']].values\n",
    "    X_validation=df_validation[['mom12m','bm','mvel1']].values\n",
    "    X_test=df_test[['mom12m','bm','mvel1']].values\n",
    "    y_train=df_train[[\"RET\"]].values\n",
    "    y_validation=df_validation[[\"RET\"]].values\n",
    "    y_test=df_test[[\"RET\"]].values\n",
    "    \n",
    "    lr=LinearRegression()\n",
    "    lr.fit(X_train,y_train)\n",
    "    y_train_pred=lr.predict(X_train)\n",
    "    train_score[i]=rsquare_oos(y_train,y_train_pred)\n",
    "    y_validation_pred=lr.predict(X_validation)\n",
    "    validation_score[i]=rsquare_oos(y_validation,y_validation_pred)\n",
    "    y_test_pred=lr.predict(X_test)\n",
    "    test_score[i]=rsquare_oos(y_test,y_test_pred)\n",
    "    \n",
    "    del df_train,df_validation,df_test,X_train,y_train,X_test,y_test,X_validation,y_validation\n",
    "    \n",
    "validation_score = np.array(validation_score)\n",
    "test_score = np.array(test_score)\n",
    "\n",
    "plt.figure(figsize=(15,5))\n",
    "plt.subplot(1,2,1)\n",
    "plt.title(\"OLS\")\n",
    "year=np.arange(1975,2004)\n",
    "plt.plot(year, validation_score)\n",
    "plt.xlabel(\"The year for test\")\n",
    "plt.ylabel(\"Validation score--R-square\")\n",
    "plt.subplot(1,2,2)\n",
    "year=np.arange(1976,2005)\n",
    "plt.plot(year,test_score)\n",
    "plt.xlabel(\"The year for test\")\n",
    "plt.ylabel(\"Test score--R-square\")\n",
    "plt.show()"
   ]
  },
  {
   "cell_type": "code",
   "execution_count": null,
   "id": "8fc47690",
   "metadata": {},
   "outputs": [],
   "source": [
    "#The recursive performance evaluation scheme for PCR\n",
    "train_score=[0]*29\n",
    "validation_score=[0]*29\n",
    "test_score=[0]*29\n",
    "pcr_n = [0]*29\n",
    "for i in tqdm(range(0,29)):\n",
    "    #print('Evaluation Window {}:\\nTrain df:1960-{}\\nValuation df:{}-{}\\nTest df:{}-{}'.format(i,1978+i,1978+i,1990+i,1990+i,1991+i))\n",
    "    df_train=df[(df.DATE>=19570131)&(df.DATE<19741231+i*10000)]\n",
    "    df_validation=df[(df.DATE>=19750131+i*10000)&(df.DATE<19861231+i*10000)]\n",
    "    df_test=df[(df.DATE>=19750131+i*10000)&(df.DATE<20041230+i*10000)]\n",
    "    \n",
    "    X_train=df_train.drop([\"DATE\",\"permno\",\"RET\"],axis=1).values\n",
    "    X_validation=df_validation.drop([\"DATE\",\"permno\",\"RET\"],axis=1).values\n",
    "    X_test=df_test.drop([\"DATE\",\"permno\",\"RET\"],axis=1).values\n",
    "    y_train=df_train[[\"RET\"]].values\n",
    "    y_validation=df_validation[[\"RET\"]].values\n",
    "    y_test=df_test[[\"RET\"]].values\n",
    "    \n",
    "    best_pcr = None\n",
    "    best_score = 0\n",
    "    for n in range(1, 21):\n",
    "        pcr = make_pipeline(PCA(n_components=n), LinearRegression())\n",
    "        pcr.fit(X_train,y_train)\n",
    "        y_train_pred=pcr.predict(X_train)\n",
    "        train_score[i]=rsquare_oos(y_train,y_train_pred)\n",
    "        y_validation_pred=pcr.predict(X_validation)\n",
    "        validation_score[i]=rsquare_oos(y_validation,y_validation_pred)\n",
    "        if validation_score[i] > best_score:\n",
    "            best_score = validation_score[i]\n",
    "            best_pcr = pcr\n",
    "            pcr_n[i] = n\n",
    "            \n",
    "    y_test_pred = best_pcr.predict(X_test)\n",
    "    test_score[i]=rsquare_oos(y_test,y_test_pred)\n",
    "    \n",
    "    del df_train,df_validation,df_test,X_train,y_train,X_test,y_test,X_validation,y_validation\n",
    "    \n",
    "validation_score = np.array(validation_score)\n",
    "test_score = np.array(test_score)\n",
    "\n",
    "plt.figure(figsize=(15,5))\n",
    "plt.subplot(1,2,1)\n",
    "plt.title(\"PCR\")\n",
    "year=np.arange(1975,2004)\n",
    "plt.plot(year, validation_score)\n",
    "plt.xlabel(\"The year for test\")\n",
    "plt.ylabel(\"Validation score--R-square\")\n",
    "plt.subplot(1,2,2)\n",
    "year=np.arange(1976,2005)\n",
    "plt.plot(year,test_score)\n",
    "plt.xlabel(\"The year for test\")\n",
    "plt.ylabel(\"Test score--R-square\")\n",
    "plt.show()"
   ]
  },
  {
   "cell_type": "code",
   "execution_count": null,
   "id": "504d76f5",
   "metadata": {
    "scrolled": true
   },
   "outputs": [],
   "source": [
    "#The recursive performance evaluation scheme for PLS\n",
    "train_score=[0]*29\n",
    "validation_score=[0]*29\n",
    "test_score=[0]*29\n",
    "pcr_n = [0]*29\n",
    "for i in tqdm(range(0,29)):\n",
    "    #print('Evaluation Window {}:\\nTrain df:1960-{}\\nValuation df:{}-{}\\nTest df:{}-{}'.format(i,1978+i,1978+i,1990+i,1990+i,1991+i))\n",
    "    df_train=df[(df.DATE>=19570131)&(df.DATE<19741231+i*10000)]\n",
    "    df_validation=df[(df.DATE>=19750131+i*10000)&(df.DATE<19861231+i*10000)]\n",
    "    df_test=df[(df.DATE>=19750131+i*10000)&(df.DATE<20041230+i*10000)]\n",
    "    \n",
    "    X_train=df_train[['mom12m','bm','mvel1']].values\n",
    "    X_validation=df_validation[['mom12m','bm','mvel1']].values\n",
    "    X_test=df_test[['mom12m','bm','mvel1']].values\n",
    "    y_train=df_train[[\"RET\"]].values\n",
    "    y_validation=df_validation[[\"RET\"]].values\n",
    "    y_test=df_test[[\"RET\"]].values\n",
    "    \n",
    "    best_pls = None\n",
    "    best_score = 0\n",
    "    for n in range(1, 21): \n",
    "        pls=PLSRegression(n_components=3)\n",
    "        pls.fit(X_train,y_train)\n",
    "        y_train_pred=pls.predict(X_train)\n",
    "        train_score[i]=rsquare_oos(y_train,y_train_pred)\n",
    "        y_validation_pred=pls.predict(X_validation)\n",
    "        validation_score[i]=rsquare_oos(y_validation,y_validation_pred)\n",
    "        pls_n[i] = n\n",
    "        \n",
    "    y_test_pred=pls.predict(X_test)\n",
    "    test_score[i]=rsquare_oos(y_test,y_test_pred)\n",
    "    \n",
    "    del df_train,df_validation,df_test,X_train,y_train,X_test,y_test,X_validation,y_validation\n",
    "    \n",
    "validation_score = np.array(validation_score)\n",
    "test_score = np.array(test_score)\n",
    "\n",
    "plt.figure(figsize=(15,5))\n",
    "plt.subplot(1,2,1)\n",
    "plt.title(\"PLS\")\n",
    "year=np.arange(1975,2004)\n",
    "plt.plot(year, validation_score)\n",
    "plt.xlabel(\"The year for test\")\n",
    "plt.ylabel(\"Validation score--R-square\")\n",
    "plt.subplot(1,2,2)\n",
    "year=np.arange(1976,2005)\n",
    "plt.plot(year,test_score)\n",
    "plt.xlabel(\"The year for test\")\n",
    "plt.ylabel(\"Test score--R-square\")\n",
    "plt.show()"
   ]
  },
  {
   "cell_type": "code",
   "execution_count": null,
   "id": "7ef2ec17",
   "metadata": {},
   "outputs": [],
   "source": [
    "# select important features\n",
    "X_train=df_train.drop([\"DATE\",\"permno\",\"RET\"],axis=1).values\n",
    "X_validation=df_validation.drop([\"DATE\",\"permno\",\"RET\"],axis=1).values\n",
    "X_test=df_test.drop([\"DATE\",\"permno\",\"RET\"],axis=1).values\n",
    "y_train=df_train[[\"RET\"]].values\n",
    "y_validation=df_validation[[\"RET\"]].values\n",
    "y_test=df_test[[\"RET\"]].values\n",
    "\n",
    "pcr = make_pipeline(PCA(n_components=3), LinearRegression())\n",
    "pcr.fit(X_train,y_train)\n",
    "y_test_pred = pcr.predict(X_test)\n",
    "score_pcr = rsquare_oos(y_test, y_test_pred)\n",
    "\n",
    "pls=PLSRegression(n_components=3)\n",
    "pls.fit(X_train,y_train)\n",
    "y_test_pred = pls.predict(X_test)\n",
    "score_pls = rsquare_oos(y_test, y_test_pred)\n",
    "print(score_pcr, score_pls)"
   ]
  },
  {
   "cell_type": "code",
   "execution_count": 51,
   "id": "3e2bc0b1",
   "metadata": {},
   "outputs": [
    {
     "name": "stderr",
     "output_type": "stream",
     "text": [
      "100%|█████████████████████████████████████████| 102/102 [02:04<00:00,  1.22s/it]\n"
     ]
    }
   ],
   "source": [
    "features = list(df_test.drop([\"DATE\",\"permno\",\"RET\"],axis=1).columns)\n",
    "num_f = len(features)\n",
    "pcr_dic = {}\n",
    "pls_dic = {}\n",
    "for i in tqdm(range(num_f)):\n",
    "    feature = features[i]\n",
    "    temp = X_test.copy()\n",
    "    temp[:,i] = 0\n",
    "    pcr_pred = pcr.predict(temp)\n",
    "    pls_pred = pls.predict(temp)\n",
    "    pcr_dic[feature] = abs(score_pcr - rsquare_oos(y_test, pcr_pred))\n",
    "    pls_dic[feature] = abs(score_pls - rsquare_oos(y_test, pls_pred))"
   ]
  },
  {
   "cell_type": "code",
   "execution_count": 78,
   "id": "34d76dcf",
   "metadata": {},
   "outputs": [],
   "source": [
    "s_pcr = sum(pcr_dic.values())\n",
    "s_pls = sum(pls_dic.values())"
   ]
  },
  {
   "cell_type": "code",
   "execution_count": 86,
   "id": "95fb7deb",
   "metadata": {
    "scrolled": true
   },
   "outputs": [
    {
     "name": "stderr",
     "output_type": "stream",
     "text": [
      "100%|█████████████████████████████████████| 102/102 [00:00<00:00, 364101.28it/s]\n"
     ]
    }
   ],
   "source": [
    "for i in tqdm(range(num_f)):\n",
    "    feature = features[i]\n",
    "    pcr_dic[feature] = pcr_dic[feature]/s_pcr\n",
    "    pcr_dic[feature] = pls_dic[feature]/s_pls"
   ]
  },
  {
   "cell_type": "code",
   "execution_count": 88,
   "id": "0a8d4ca5",
   "metadata": {},
   "outputs": [
    {
     "data": {
      "text/plain": [
       "{'svar': 0.40276380104334675,\n",
       " 'mvel1': 0.26956661743359056,\n",
       " 'tbl': 0.0724315645446391,\n",
       " 'ntis': 0.06583495106081681,\n",
       " 'dfy': 0.018739308761512107,\n",
       " 'tms': 0.01328247513288085,\n",
       " 'baspread': 0.013169573108921173,\n",
       " 'mom1m': 0.011011487232048416,\n",
       " 'mve_ia': 0.01068034980885854,\n",
       " 'retvol': 0.010298017250567412,\n",
       " 'std_turn': 0.008282018802533766,\n",
       " 'chmom': 0.008217464824136643,\n",
       " 'bm_macro': 0.006253535883605682,\n",
       " 'idiovol': 0.006087100256339629,\n",
       " 'zerotrade': 0.005331781988220121,\n",
       " 'rd_mve': 0.0049652015512672626,\n",
       " 'ep': 0.004626091427483241,\n",
       " 'secured': 0.00387347576478552,\n",
       " 'securedind': 0.0037572701143339777,\n",
       " 'mom12m': 0.0036833737705939344}"
      ]
     },
     "execution_count": 88,
     "metadata": {},
     "output_type": "execute_result"
    }
   ],
   "source": [
    "# Feature importance of PCR\n",
    "dict(sorted(pcr_dic.items(), key=lambda x:x[1])[::-1][:20])"
   ]
  },
  {
   "cell_type": "code",
   "execution_count": 89,
   "id": "20ce4eb0",
   "metadata": {},
   "outputs": [
    {
     "data": {
      "text/plain": [
       "{'svar': 0.041219711317272534,\n",
       " 'mvel1': 0.02758802584195097,\n",
       " 'tbl': 0.007412801679431702,\n",
       " 'ntis': 0.0067376901059228445,\n",
       " 'dfy': 0.0019178210540118368,\n",
       " 'tms': 0.0013593569956831253,\n",
       " 'baspread': 0.0013478023603790135,\n",
       " 'mom1m': 0.0011269392226984642,\n",
       " 'mve_ia': 0.0010930499085275436,\n",
       " 'retvol': 0.0010539211744180488,\n",
       " 'std_turn': 0.0008475995689789517,\n",
       " 'chmom': 0.0008409929763630863,\n",
       " 'bm_macro': 0.0006400002760096335,\n",
       " 'idiovol': 0.0006229668969148783,\n",
       " 'zerotrade': 0.0005456660052163276,\n",
       " 'rd_mve': 0.0005081493769925061,\n",
       " 'ep': 0.00047344411954153287,\n",
       " 'secured': 0.0003964198182788703,\n",
       " 'securedind': 0.0003845270827533831,\n",
       " 'mom12m': 0.00037696437242917824}"
      ]
     },
     "execution_count": 89,
     "metadata": {},
     "output_type": "execute_result"
    }
   ],
   "source": [
    "# Feature importance of PLS\n",
    "dict(sorted(pls_dic.items(), key=lambda x:x[1])[::-1][:20])"
   ]
  },
  {
   "cell_type": "code",
   "execution_count": null,
   "id": "e614b89f",
   "metadata": {},
   "outputs": [],
   "source": []
  }
 ],
 "metadata": {
  "kernelspec": {
   "display_name": "Python 3 (ipykernel)",
   "language": "python",
   "name": "python3"
  },
  "language_info": {
   "codemirror_mode": {
    "name": "ipython",
    "version": 3
   },
   "file_extension": ".py",
   "mimetype": "text/x-python",
   "name": "python",
   "nbconvert_exporter": "python",
   "pygments_lexer": "ipython3",
   "version": "3.8.8"
  }
 },
 "nbformat": 4,
 "nbformat_minor": 5
}
