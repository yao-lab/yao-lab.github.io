{
 "cells": [
  {
   "cell_type": "code",
   "execution_count": 1,
   "id": "ccb50a1a",
   "metadata": {},
   "outputs": [],
   "source": [
    "import pickle\n",
    "import numpy as np\n",
    "import pandas as pd\n",
    "from sklearn.ensemble import RandomForestRegressor as RFR\n",
    "from sklearn.ensemble import GradientBoostingRegressor as GBR\n",
    "from tqdm import tqdm"
   ]
  },
  {
   "cell_type": "code",
   "execution_count": 2,
   "id": "442571b4",
   "metadata": {},
   "outputs": [],
   "source": [
    "def splitdata(data,i): # split according to the recursive evaluation\n",
    "    train = data[data['DATE'] < i]\n",
    "    val = data.loc[train.shape[0]:]\n",
    "    val = val[val['DATE']<i+120000]   \n",
    "    \n",
    "    test = data.loc[(train.shape[0]+val.shape[0]):]\n",
    "    test = test[test['DATE'] < i+130000]\n",
    "    \n",
    "    #set x_train, y_train, x_val, y_val, x_test and y_test\n",
    "    x_train=np.array(train.drop(['DATE', 'RET','permno'],axis=1))\n",
    "    y_train=np.array(train['RET']) \n",
    "    x_val=np.array(val.drop(['DATE', 'RET','permno'],axis=1))\n",
    "    y_val=np.array(val['RET'])\n",
    "    x_test=np.array(test.drop(['DATE', 'RET','permno'],axis=1))\n",
    "    y_test=np.array(test['RET'])\n",
    "    \n",
    "    return x_train,y_train,x_val,y_val,x_test,y_test"
   ]
  },
  {
   "cell_type": "code",
   "execution_count": 3,
   "id": "bb2e4ebe",
   "metadata": {},
   "outputs": [],
   "source": [
    "def downcast(df): # change the datatype of dataframe to save memory\n",
    "    cols = df.dtypes.index.tolist()\n",
    "    types = df.dtypes.values.tolist()\n",
    "    for i,t in enumerate(types):\n",
    "        if 'int' in str(t):\n",
    "            if df[cols[i]].min() > np.iinfo(np.int8).min and df[cols[i]].max() < np.iinfo(np.int8).max:\n",
    "                df[cols[i]] = df[cols[i]].astype(np.int8)\n",
    "            elif df[cols[i]].min() > np.iinfo(np.int16).min and df[cols[i]].max() < np.iinfo(np.int16).max:\n",
    "                df[cols[i]] = df[cols[i]].astype(np.int16)\n",
    "            elif df[cols[i]].min() > np.iinfo(np.int32).min and df[cols[i]].max() < np.iinfo(np.int32).max:\n",
    "                df[cols[i]] = df[cols[i]].astype(np.int32)\n",
    "            else:\n",
    "                df[cols[i]] = df[cols[i]].astype(np.int64)\n",
    "        elif 'float' in str(t):\n",
    "            if df[cols[i]].min() > np.finfo(np.float16).min and df[cols[i]].max() < np.finfo(np.float16).max:\n",
    "                df[cols[i]] = df[cols[i]].astype(np.float16)\n",
    "            elif df[cols[i]].min() > np.finfo(np.float32).min and df[cols[i]].max() < np.finfo(np.float32).max:\n",
    "                df[cols[i]] = df[cols[i]].astype(np.float32)\n",
    "            else:\n",
    "                df[cols[i]] = df[cols[i]].astype(np.float64)\n",
    "        elif t == np.object:\n",
    "            if cols[i] == 'date':\n",
    "                df[cols[i]] = pd.to_datetime(df[cols[i]], format='%Y-%m-%d')\n",
    "            else:\n",
    "                df[cols[i]] = df[cols[i]].astype('category')\n",
    "    return df "
   ]
  },
  {
   "cell_type": "code",
   "execution_count": 4,
   "id": "6c6ccfa6",
   "metadata": {},
   "outputs": [],
   "source": [
    "def calculate_R_square(y_true, pre_ret): # new R2 according to the paper\n",
    "    a = ((y_true-pre_ret)**2).sum()\n",
    "    b = (y_true**2).sum()\n",
    "    R_square = 1-(a/b)\n",
    "    return R_square"
   ]
  },
  {
   "cell_type": "code",
   "execution_count": 53,
   "id": "ed7b5b4d",
   "metadata": {},
   "outputs": [],
   "source": [
    "df=pd.read_csv('preprocessed_bottom_data.csv')"
   ]
  },
  {
   "cell_type": "code",
   "execution_count": 54,
   "id": "11580b3e",
   "metadata": {},
   "outputs": [],
   "source": [
    "df=downcast(df)"
   ]
  },
  {
   "cell_type": "code",
   "execution_count": 108,
   "id": "2b3ec1e1",
   "metadata": {},
   "outputs": [
    {
     "name": "stderr",
     "output_type": "stream",
     "text": [
      "100%|█████████████████████████████████████████████████████████████████████████████████| 29/29 [53:51<00:00, 111.43s/it]\n"
     ]
    }
   ],
   "source": [
    "R_square=[]\n",
    "all_depth=[]\n",
    "\n",
    "for i in tqdm(range(19750100,20040100,10000)):\n",
    "\n",
    "    x_train,y_train,x_val,y_val,x_test,y_test=splitdata(df,i)\n",
    "\n",
    "    bestRSqr = float(\"-Inf\")\n",
    "    bestGbrt = None\n",
    "    bestDepth=0\n",
    "\n",
    "    for depth in [1,2,3,4]: # change the depth of the sub model in gbr\n",
    "        gbrt = GBR(max_depth=depth,n_estimators=7,loss='huber')\n",
    "        gbrt.fit(x_train,y_train)\n",
    "        pred = gbrt.predict(x_val)\n",
    "        currentRSqr = calculate_R_square(y_val, pred)\n",
    "\n",
    "        if(currentRSqr>bestRSqr): # get the model with the best validation dataset performance\n",
    "            bestRSqr=currentRSqr\n",
    "            bestGbrt=gbrt\n",
    "            bestDepth=depth        \n",
    "\n",
    "    resultPred = bestGbrt.predict(x_test) # use to predict\n",
    "    resultRSqr = calculate_R_square(y_test, resultPred)\n",
    "    R_square.append(resultRSqr)\n",
    "    all_depth.append(bestDepth)\n",
    "    "
   ]
  },
  {
   "cell_type": "code",
   "execution_count": 83,
   "id": "9bc3881a",
   "metadata": {},
   "outputs": [],
   "source": [
    "importance=bestGbrt.feature_importances_\n",
    "col=df.drop(['DATE', 'RET','permno'],axis=1).columns\n",
    "diction=dict(zip(col,importance))\n",
    "diction=sorted(diction.items(), key = lambda kv:(kv[1], kv[0]),reverse=True)\n",
    "diction=dict(diction[0:20])\n",
    "x=list(diction.keys())\n",
    "y=list(diction.values())"
   ]
  },
  {
   "cell_type": "code",
   "execution_count": 85,
   "id": "f5cad913",
   "metadata": {
    "scrolled": false
   },
   "outputs": [
    {
     "data": {
      "image/png": "[encoded data removed]",
      "text/plain": [
       "<Figure size 432x288 with 1 Axes>"
      ]
     },
     "metadata": {
      "needs_background": "light"
     },
     "output_type": "display_data"
    }
   ],
   "source": [
    "import seaborn as sns\n",
    "import matplotlib.pyplot as plt\n",
    "plt.title(\"GBR\") # feature importance\n",
    "plt.barh(x,y)\n",
    "plt.show()"
   ]
  },
  {
   "cell_type": "code",
   "execution_count": 87,
   "id": "67f94ff3",
   "metadata": {
    "scrolled": false
   },
   "outputs": [
    {
     "name": "stderr",
     "output_type": "stream",
     "text": [
      "C:\\Users\\ufo\\anaconda3\\envs\\tensorflow1\\lib\\site-packages\\seaborn\\_decorators.py:36: FutureWarning: Pass the following variables as keyword args: x, y. From version 0.12, the only valid positional argument will be `data`, and passing other arguments without an explicit keyword will result in an error or misinterpretation.\n",
      "  warnings.warn(\n"
     ]
    },
    {
     "data": {
      "image/png": "[encoded data removed]",
      "text/plain": [
       "<Figure size 432x288 with 1 Axes>"
      ]
     },
     "metadata": {
      "needs_background": "light"
     },
     "output_type": "display_data"
    }
   ],
   "source": [
    "sns.lineplot(range(29),all_depth) # parameter tuning\n",
    "plt.title(\"GBR\")\n",
    "plt.ylabel(\"depth\")\n",
    "plt.xlabel(\"round\")\n",
    "plt.yticks(np.linspace(1,4,4))\n",
    "plt.show()"
   ]
  },
  {
   "cell_type": "code",
   "execution_count": 56,
   "id": "f57350c5",
   "metadata": {},
   "outputs": [
    {
     "name": "stderr",
     "output_type": "stream",
     "text": [
      "100%|███████████████████████████████████████████████████████████████████████████████| 29/29 [1:04:27<00:00, 133.37s/it]\n"
     ]
    }
   ],
   "source": [
    "R_square_rf=[]\n",
    "all_depth_rf=[]\n",
    "\n",
    "for i in tqdm(range(19750100,20040100,10000)):\n",
    "\n",
    "    x_train,y_train,x_val,y_val,x_test,y_test=splitdata(df,i)\n",
    "\n",
    "    bestRSqr = float(\"-Inf\")\n",
    "    bestRFR = None\n",
    "    bestDepth=0\n",
    "\n",
    "    for depth in [1,2,3,4,5]:\n",
    "        rfr = RFR(max_depth=depth,n_estimators=8)\n",
    "        rfr.fit(x_train,y_train)\n",
    "        pred = rfr.predict(x_val)\n",
    "        currentRSqr = calculate_R_square(y_val, pred)\n",
    "\n",
    "        if(currentRSqr>bestRSqr):\n",
    "            bestRSqr=currentRSqr\n",
    "            bestRFR=rfr\n",
    "            bestDepth=depth        \n",
    "    resultPred = bestRFR.predict(x_test)\n",
    "    resultRSqr = calculate_R_square(y_test, resultPred)\n",
    "    R_square_rf.append(resultRSqr)\n",
    "    all_depth_rf.append(bestDepth)"
   ]
  },
  {
   "cell_type": "code",
   "execution_count": 11,
   "id": "571b4e77",
   "metadata": {},
   "outputs": [],
   "source": [
    "importance_rf=bestRFR.feature_importances_"
   ]
  },
  {
   "cell_type": "code",
   "execution_count": 38,
   "id": "75f6c298",
   "metadata": {},
   "outputs": [],
   "source": [
    "col=df.drop(['DATE', 'RET','permno'],axis=1).columns\n",
    "diction=dict(zip(col,importance_rf))\n",
    "diction=sorted(diction.items(), key = lambda kv:(kv[1], kv[0]),reverse=True)\n",
    "diction=dict(diction[0:20])\n",
    "x_r=list(diction.keys())\n",
    "y_r=list(diction.values())"
   ]
  },
  {
   "cell_type": "code",
   "execution_count": 16,
   "id": "7f5e271e",
   "metadata": {},
   "outputs": [
    {
     "data": {
      "image/png": "[encoded data removed]",
      "text/plain": [
       "<Figure size 432x288 with 1 Axes>"
      ]
     },
     "metadata": {
      "needs_background": "light"
     },
     "output_type": "display_data"
    }
   ],
   "source": [
    "import seaborn as sns\n",
    "import matplotlib.pyplot as plt\n",
    "plt.title(\"RFR\")\n",
    "plt.barh(x_r,y_r)\n",
    "plt.show()"
   ]
  },
  {
   "cell_type": "code",
   "execution_count": 17,
   "id": "90dc5c7e",
   "metadata": {
    "scrolled": false
   },
   "outputs": [
    {
     "name": "stderr",
     "output_type": "stream",
     "text": [
      "C:\\Users\\ufo\\anaconda3\\envs\\tensorflow1\\lib\\site-packages\\seaborn\\_decorators.py:36: FutureWarning: Pass the following variables as keyword args: x, y. From version 0.12, the only valid positional argument will be `data`, and passing other arguments without an explicit keyword will result in an error or misinterpretation.\n",
      "  warnings.warn(\n"
     ]
    },
    {
     "data": {
      "image/png": "[encoded data removed]",
      "text/plain": [
       "<Figure size 432x288 with 1 Axes>"
      ]
     },
     "metadata": {
      "needs_background": "light"
     },
     "output_type": "display_data"
    }
   ],
   "source": [
    "sns.lineplot(range(29),all_depth_rf)\n",
    "plt.title(\"RFR\")\n",
    "plt.ylabel(\"depth\")\n",
    "plt.xlabel(\"round\")\n",
    "plt.yticks(np.linspace(1,4,4))\n",
    "plt.show()"
   ]
  }
 ],
 "metadata": {
  "kernelspec": {
   "display_name": "Python 3 (ipykernel)",
   "language": "python",
   "name": "python3"
  },
  "language_info": {
   "codemirror_mode": {
    "name": "ipython",
    "version": 3
   },
   "file_extension": ".py",
   "mimetype": "text/x-python",
   "name": "python",
   "nbconvert_exporter": "python",
   "pygments_lexer": "ipython3",
   "version": "3.8.8"
  }
 },
 "nbformat": 4,
 "nbformat_minor": 5
}
