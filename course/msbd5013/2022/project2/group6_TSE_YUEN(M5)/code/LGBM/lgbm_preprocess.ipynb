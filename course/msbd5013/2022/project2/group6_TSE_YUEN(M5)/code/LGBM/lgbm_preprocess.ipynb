{
 "cells": [
  {
   "cell_type": "code",
   "execution_count": 1,
   "id": "91421f23-57da-4270-9af6-c0f85b05ceb1",
   "metadata": {},
   "outputs": [],
   "source": [
    "import numpy as np\n",
    "import pandas as pd\n",
    "import os\n",
    "import time\n",
    "import lightgbm as lgb\n",
    "import seaborn as sns\n",
    "import matplotlib.pyplot as plt\n",
    "import gc\n",
    "import pickle\n",
    "from tqdm.auto import tqdm\n",
    "\n",
    "import warnings\n",
    "warnings.filterwarnings(\"ignore\")"
   ]
  },
  {
   "cell_type": "code",
   "execution_count": 2,
   "id": "a2facf77-aa23-4f9e-96ab-4790680cd9d7",
   "metadata": {},
   "outputs": [],
   "source": [
    "# reduce memory usage\n",
    "def reduce_mem_usage(df, verbose=True):\n",
    "    numerics = ['int16', 'int32', 'int64', 'float16', 'float32', 'float64']\n",
    "    start_mem = df.memory_usage().sum() / 1024**2    \n",
    "    for col in tqdm(df.columns):\n",
    "        col_type = df[col].dtypes\n",
    "        if col_type in numerics:\n",
    "            c_min = df[col].min()\n",
    "            c_max = df[col].max()\n",
    "            if str(col_type)[:3] == 'int':\n",
    "                if c_min > np.iinfo(np.int8).min and c_max < np.iinfo(np.int8).max:\n",
    "                    df[col] = df[col].astype(np.int8)\n",
    "                elif c_min > np.iinfo(np.int16).min and c_max < np.iinfo(np.int16).max:\n",
    "                    df[col] = df[col].astype(np.int16)\n",
    "                elif c_min > np.iinfo(np.int32).min and c_max < np.iinfo(np.int32).max:\n",
    "                    df[col] = df[col].astype(np.int32)\n",
    "                elif c_min > np.iinfo(np.int64).min and c_max < np.iinfo(np.int64).max:\n",
    "                    df[col] = df[col].astype(np.int64)  \n",
    "            else:\n",
    "                if c_min > np.finfo(np.float16).min and c_max < np.finfo(np.float16).max:\n",
    "                    df[col] = df[col].astype(np.float16)\n",
    "                elif c_min > np.finfo(np.float32).min and c_max < np.finfo(np.float32).max:\n",
    "                    df[col] = df[col].astype(np.float32)\n",
    "                else:\n",
    "                    df[col] = df[col].astype(np.float64)    \n",
    "    end_mem = df.memory_usage().sum() / 1024**2\n",
    "    if verbose: print('Mem. usage decreased to {:5.2f} Mb ({:.1f}% reduction)'.format(end_mem, 100 * (start_mem - end_mem) / start_mem))\n",
    "    return df\n",
    "\n",
    "# Merging by concat to not lose dtypes\n",
    "def merge_by_concat(df1, df2, merge_on):\n",
    "    if type(merge_on) != list:\n",
    "        merge_on = [merge_on]\n",
    "    merged_gf = df1[merge_on]\n",
    "    merged_gf = merged_gf.merge(df2, on=merge_on, how='left')\n",
    "    new_columns = [col for col in list(merged_gf) if col not in merge_on]\n",
    "    df1 = pd.concat([df1, merged_gf[new_columns]], axis=1)\n",
    "    return df1"
   ]
  },
  {
   "cell_type": "code",
   "execution_count": 3,
   "id": "2ab3b38e-e5d0-456f-9f43-ebc4aed9e0bf",
   "metadata": {},
   "outputs": [],
   "source": [
    "INPUT_DIR = './data/'\n",
    "cal = pd.read_csv(os.path.join(INPUT_DIR,'calendar.csv'))\n",
    "ste = pd.read_csv(os.path.join(INPUT_DIR,'sales_train_evaluation.csv'))\n",
    "sellp = pd.read_csv(os.path.join(INPUT_DIR,'sell_prices.csv'))"
   ]
  },
  {
   "cell_type": "code",
   "execution_count": 4,
   "id": "cce24a1d-ade7-4ceb-95a2-d40a2e2ed7c9",
   "metadata": {},
   "outputs": [],
   "source": [
    "# add nan sales for dates d_1942 to d_1969\n",
    "for i in range(1942,1970):\n",
    "    col = \"d_\"+ str(i)\n",
    "    ste[col] = np.nan"
   ]
  },
  {
   "cell_type": "code",
   "execution_count": 5,
   "id": "8846ec67-c8a8-4aed-b62d-896ea859ce3e",
   "metadata": {},
   "outputs": [],
   "source": [
    "# convert sales from column to row\n",
    "index_columns = ['id','item_id','dept_id','cat_id','store_id','state_id']\n",
    "process_df = pd.melt(ste, \n",
    "                  id_vars = index_columns, \n",
    "                  var_name = 'd', \n",
    "                  value_name = 'sales')\n",
    "\n",
    "for col in index_columns:\n",
    "    process_df[col] = process_df[col].astype('category')"
   ]
  },
  {
   "cell_type": "code",
   "execution_count": 6,
   "id": "c7ce8b68-928c-4481-ba10-96938701414b",
   "metadata": {},
   "outputs": [],
   "source": [
    "cal_cols = ['date',\n",
    "            'wm_yr_wk',\n",
    "            'weekday',\n",
    "            'month',\n",
    "            'year',\n",
    "            'd',\n",
    "            'event_name_1',\n",
    "            'event_type_1',\n",
    "            'event_name_2',\n",
    "            'event_type_2',\n",
    "            'snap_CA',\n",
    "            'snap_TX',\n",
    "            'snap_WI']\n",
    "\n",
    "process_df = merge_by_concat(process_df, cal[cal_cols], ['d'])\n",
    "\n",
    "cal_cols = ['weekday',\n",
    "            'd',\n",
    "            'event_name_1',\n",
    "            'event_type_1',\n",
    "            'event_name_2',\n",
    "            'event_type_2',\n",
    "            'snap_CA',\n",
    "            'snap_TX',\n",
    "            'snap_WI']\n",
    "\n",
    "for col in cal_cols:\n",
    "    process_df[col] = process_df[col].astype('category')"
   ]
  },
  {
   "cell_type": "code",
   "execution_count": 7,
   "id": "785d83aa-4cdf-461c-abff-fcc86dd0fea0",
   "metadata": {},
   "outputs": [],
   "source": [
    "# feature engineering\n",
    "# date features\n",
    "process_df['date'] = pd.to_datetime(process_df['date'])\n",
    "\n",
    "process_df['day'] = process_df['date'].dt.day.astype(np.int8)\n",
    "process_df['week_in_month'] = process_df['date'].dt.week.astype(np.int8)\n",
    "process_df['is_weekend'] = (process_df['weekday'].apply(lambda x: x in set(['Saturday','Sunday']))).astype(bool)\n",
    "\n",
    "process_df = merge_by_concat(process_df, sellp, ['item_id', 'wm_yr_wk', 'store_id'])\n",
    "\n",
    "process_df['d'] = process_df['d'].apply(lambda x: x.split('_')[1]).astype(np.int16)"
   ]
  },
  {
   "cell_type": "code",
   "execution_count": 8,
   "id": "1f713561-5a45-4afe-a74d-f70e0367b215",
   "metadata": {},
   "outputs": [
    {
     "data": {
      "application/vnd.jupyter.widget-view+json": {
       "model_id": "c604ee169c194ef78b5830a4de7a18c5",
       "version_major": 2,
       "version_minor": 0
      },
      "text/plain": [
       "  0%|          | 0/5 [00:00<?, ?it/s]"
      ]
     },
     "metadata": {},
     "output_type": "display_data"
    },
    {
     "data": {
      "application/vnd.jupyter.widget-view+json": {
       "model_id": "93d101ce8e3b415fac31745140554fa9",
       "version_major": 2,
       "version_minor": 0
      },
      "text/plain": [
       "  0%|          | 0/5 [00:00<?, ?it/s]"
      ]
     },
     "metadata": {},
     "output_type": "display_data"
    }
   ],
   "source": [
    "# feature engineering\n",
    "# lag features\n",
    "for size in tqdm(range(28,28+15,3)):\n",
    "    process_df[f\"sales_{size}_lag\"] = process_df.groupby(by=\"id\")['sales'].transform(lambda x: x.shift(size)).astype(np.float16)\n",
    "\n",
    "# shifted moving averages\n",
    "for size in tqdm([7, 30, 60, 90, 180]):\n",
    "    process_df[f\"sales_{size}_rolling_mean\"] = process_df.groupby(by=\"id\")['sales'].transform(lambda x: x.shift(28).rolling(size).mean()).astype(np.float16)\n",
    "    process_df[f\"sales_{size}_rolling_std\"] = process_df.groupby(by=\"id\")['sales'].transform(lambda x: x.shift(28).rolling(size).std()).astype(np.float16)"
   ]
  },
  {
   "cell_type": "code",
   "execution_count": 9,
   "id": "8dae0591-902d-46e4-97ea-8a78ff6374f1",
   "metadata": {},
   "outputs": [
    {
     "data": {
      "application/vnd.jupyter.widget-view+json": {
       "model_id": "70d11d335e1249f4a740b148c6c2c120",
       "version_major": 2,
       "version_minor": 0
      },
      "text/plain": [
       "  0%|          | 0/39 [00:00<?, ?it/s]"
      ]
     },
     "metadata": {},
     "output_type": "display_data"
    },
    {
     "name": "stdout",
     "output_type": "stream",
     "text": [
      "Mem. usage decreased to 3894.84 Mb (31.3% reduction)\n"
     ]
    }
   ],
   "source": [
    "# memory reduction\n",
    "process_df = reduce_mem_usage(process_df)\n",
    "process_df.to_pickle('processed.pkl')"
   ]
  },
  {
   "cell_type": "code",
   "execution_count": null,
   "id": "b3f11ba9-7626-4bdd-ab8e-ee83b72f26bd",
   "metadata": {},
   "outputs": [],
   "source": []
  }
 ],
 "metadata": {
  "kernelspec": {
   "display_name": "Python [conda env:dgl]",
   "language": "python",
   "name": "conda-env-dgl-py"
  },
  "language_info": {
   "codemirror_mode": {
    "name": "ipython",
    "version": 3
   },
   "file_extension": ".py",
   "mimetype": "text/x-python",
   "name": "python",
   "nbconvert_exporter": "python",
   "pygments_lexer": "ipython3",
   "version": "3.7.11"
  }
 },
 "nbformat": 4,
 "nbformat_minor": 5
}
