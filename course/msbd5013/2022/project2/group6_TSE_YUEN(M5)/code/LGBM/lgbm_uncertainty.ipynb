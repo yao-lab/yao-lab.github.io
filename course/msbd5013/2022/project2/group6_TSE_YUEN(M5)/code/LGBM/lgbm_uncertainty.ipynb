{
 "cells": [
  {
   "cell_type": "code",
   "execution_count": 1,
   "id": "9c711a19-96ba-4115-91e7-753cdb47186f",
   "metadata": {},
   "outputs": [],
   "source": [
    "import pandas as pd, numpy as np\n",
    "from matplotlib import pyplot as plt\n",
    "import os\n",
    "\n",
    "import scipy.stats  as stats"
   ]
  },
  {
   "cell_type": "code",
   "execution_count": 2,
   "id": "163f5f3a-4ca7-46dd-9e18-85a342d2e517",
   "metadata": {},
   "outputs": [],
   "source": [
    "test_df = pd.read_csv('submission_test_8.csv')"
   ]
  },
  {
   "cell_type": "code",
   "execution_count": 3,
   "id": "ce3024c9-6f5a-4a98-9866-5a8f381795ed",
   "metadata": {},
   "outputs": [],
   "source": [
    "INPUT_DIR = './data/'\n",
    "ste = pd.read_csv(os.path.join(INPUT_DIR,'sales_train_validation.csv'))"
   ]
  },
  {
   "cell_type": "code",
   "execution_count": 4,
   "id": "cf0e1004-8788-4c12-ba3c-fedd156391e5",
   "metadata": {},
   "outputs": [],
   "source": [
    "sub = test_df.merge(ste[[\"id\", \"item_id\", \"dept_id\", \"cat_id\", \"store_id\", \"state_id\"]], on = \"id\")\n",
    "sub[\"_all_\"] = \"Total\""
   ]
  },
  {
   "cell_type": "code",
   "execution_count": 5,
   "id": "6ab807d8-ceee-4c4f-a011-d45849fa2ec5",
   "metadata": {},
   "outputs": [],
   "source": [
    "qs = np.array([0.005,0.025,0.165,0.25, 0.5, 0.75, 0.835, 0.975, 0.995])\n",
    "\n",
    "def get_ratios(coef=0.15):\n",
    "    qs2 = np.log(qs/(1-qs))*coef\n",
    "    ratios = stats.norm.cdf(qs2)\n",
    "    ratios /= ratios[4]\n",
    "    ratios = pd.Series(ratios, index=qs)\n",
    "    return ratios.round(3)\n",
    "\n",
    "level_coef_dict = {\"id\": get_ratios(coef=0.3), \"item_id\": get_ratios(coef=0.15),\n",
    "                   \"dept_id\": get_ratios(coef=0.08), \"cat_id\": get_ratios(coef=0.07),\n",
    "                   \"store_id\": get_ratios(coef=0.08), \"state_id\": get_ratios(coef=0.07), \"_all_\": get_ratios(coef=0.05),\n",
    "                   (\"state_id\", \"item_id\"): get_ratios(coef=0.19),  (\"state_id\", \"dept_id\"): get_ratios(coef=0.1),\n",
    "                    (\"store_id\",\"dept_id\") : get_ratios(coef=0.11), (\"state_id\", \"cat_id\"): get_ratios(coef=0.08),\n",
    "                    (\"store_id\",\"cat_id\"): get_ratios(coef=0.1)\n",
    "                  }"
   ]
  },
  {
   "cell_type": "code",
   "execution_count": 6,
   "id": "09b00fe1-8b59-42aa-8efe-eec2a913ea67",
   "metadata": {},
   "outputs": [],
   "source": [
    "def quantile_coefs(q, level):\n",
    "    ratios = level_coef_dict[level]\n",
    "               \n",
    "    return ratios.loc[q].values\n",
    "\n",
    "def get_group_preds(pred, level):\n",
    "    df = pred.groupby(level)[cols].sum()\n",
    "    q = np.repeat(qs, len(df))\n",
    "    df = pd.concat([df]*9, axis=0, sort=False)\n",
    "    df.reset_index(inplace = True)\n",
    "    df[cols] *= quantile_coefs(q, level)[:, None]\n",
    "    if level != \"id\":\n",
    "        df[\"id\"] = [f\"{lev}_X_{q:.3f}_validation\" for lev, q in zip(df[level].values, q)]\n",
    "    else:\n",
    "        df[\"id\"] = [f\"{lev.replace('_validation', '')}_{q:.3f}_validation\" for lev, q in zip(df[level].values, q)]\n",
    "    df = df[[\"id\"]+list(cols)]\n",
    "    return df\n",
    "\n",
    "def get_couple_group_preds(pred, level1, level2):\n",
    "    df = pred.groupby([level1, level2])[cols].sum()\n",
    "    q = np.repeat(qs, len(df))\n",
    "    df = pd.concat([df]*9, axis=0, sort=False)\n",
    "    df.reset_index(inplace = True)\n",
    "    df[cols] *= quantile_coefs(q, (level1, level2))[:, None]\n",
    "    df[\"id\"] = [f\"{lev1}_{lev2}_{q:.3f}_validation\" for lev1,lev2, q in \n",
    "                zip(df[level1].values,df[level2].values, q)]\n",
    "    df = df[[\"id\"]+list(cols)]\n",
    "    return df\n",
    "\n",
    "levels = [\"id\", \"item_id\", \"dept_id\", \"cat_id\", \"store_id\", \"state_id\", \"_all_\"]\n",
    "couples = [(\"state_id\", \"item_id\"),  (\"state_id\", \"dept_id\"),(\"store_id\",\"dept_id\"),\n",
    "                            (\"state_id\", \"cat_id\"),(\"store_id\",\"cat_id\")]\n",
    "cols = [f\"F{i}\" for i in range(1, 29)]\n",
    "\n",
    "df = []\n",
    "for level in levels:\n",
    "    df.append(get_group_preds(sub, level))\n",
    "for level1,level2 in couples:\n",
    "    df.append(get_couple_group_preds(sub, level1, level2))\n",
    "df = pd.concat(df, axis=0, sort=False)\n",
    "df.reset_index(drop=True, inplace=True)\n",
    "df = pd.concat([df,df] , axis=0, sort=False)\n",
    "df.reset_index(drop=True, inplace=True)\n",
    "df.loc[df.index >= len(df.index)//2, \"id\"] = df.loc[df.index >= len(df.index)//2, \"id\"].str.replace(\"_validation$\", \"_evaluation\")"
   ]
  },
  {
   "cell_type": "code",
   "execution_count": 9,
   "id": "3a06495f-9322-4f21-90a6-ec7e9b556714",
   "metadata": {},
   "outputs": [],
   "source": [
    "df.to_csv(\"submission_uncertainty_test_8_cdf.csv.gz\", index = False, compression='gzip')"
   ]
  },
  {
   "cell_type": "code",
   "execution_count": null,
   "id": "24770d04-a560-47ad-b160-0915e1e461c0",
   "metadata": {},
   "outputs": [],
   "source": []
  }
 ],
 "metadata": {
  "kernelspec": {
   "display_name": "Python [conda env:dgl]",
   "language": "python",
   "name": "conda-env-dgl-py"
  },
  "language_info": {
   "codemirror_mode": {
    "name": "ipython",
    "version": 3
   },
   "file_extension": ".py",
   "mimetype": "text/x-python",
   "name": "python",
   "nbconvert_exporter": "python",
   "pygments_lexer": "ipython3",
   "version": "3.7.11"
  }
 },
 "nbformat": 4,
 "nbformat_minor": 5
}
