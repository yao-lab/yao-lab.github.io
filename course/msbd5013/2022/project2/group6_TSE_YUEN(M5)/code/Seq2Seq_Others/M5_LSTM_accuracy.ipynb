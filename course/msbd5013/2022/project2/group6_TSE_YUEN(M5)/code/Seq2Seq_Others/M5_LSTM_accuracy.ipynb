{
 "cells": [
  {
   "cell_type": "code",
   "execution_count": 1,
   "id": "b5b839bb-cc21-4c36-91e0-c361381d2aed",
   "metadata": {},
   "outputs": [],
   "source": [
    "import numpy as np\n",
    "import pandas as pd\n",
    "from process_data import process_data\n",
    "from config import Config\n",
    "import shutil\n",
    "from train import Trainer\n",
    "from generate_submission import SubmissionGenerator\n",
    "config = Config"
   ]
  },
  {
   "cell_type": "code",
   "execution_count": 4,
   "id": "53b5a860-b61a-4dac-9d3b-364b361d306c",
   "metadata": {},
   "outputs": [
    {
     "name": "stdout",
     "output_type": "stream",
     "text": [
      "* Processing calendar features\n",
      "* Encoding categorical features\n",
      "-- Mem. usage decreased to 121.20 Mb (73.7% reduction),time spend:1.19 min\n",
      "* Add previous day sales and merge sell prices\n",
      "-- Mem. usage decreased to  0.07 Mb (55.0% reduction),time spend:0.00 min\n",
      "-- Mem. usage decreased to 916.91 Mb (38.4% reduction),time spend:0.02 min\n",
      "* Save processed data\n"
     ]
    }
   ],
   "source": [
    "process_data()"
   ]
  },
  {
   "cell_type": "markdown",
   "id": "cbfd30cd-d7eb-4dee-a37c-362bd8bc4dd9",
   "metadata": {},
   "source": [
    "### Accuracy"
   ]
  },
  {
   "cell_type": "code",
   "execution_count": 2,
   "id": "38fa4875-a540-4618-92b9-28271d01baff",
   "metadata": {
    "tags": []
   },
   "outputs": [
    {
     "name": "stdout",
     "output_type": "stream",
     "text": [
      "************************************* K-fold Training *************************************\n",
      "\n",
      "**************************************** Fold [1/3] ***************************************\n",
      "******************************* Model: seq2seq_w_attn_on_hid ******************************\n",
      "Seq2Seq(\n",
      "  (encoder): Encoder(\n",
      "    (embeddings): ModuleList(\n",
      "      (0): Embedding(3049, 50)\n",
      "      (1): Embedding(7, 4)\n",
      "      (2): Embedding(3, 2)\n",
      "      (3): Embedding(10, 5)\n",
      "      (4): Embedding(3, 2)\n",
      "    )\n",
      "    (cal_embedding): Embedding(31, 16)\n",
      "    (rnns): ModuleList(\n",
      "      (0): LSTM(132, 128, bidirectional=True)\n",
      "      (1): LSTM(256, 128, bidirectional=True)\n",
      "    )\n",
      "    (rnn_dropouts): ModuleList(\n",
      "      (0): Dropout(p=0.2, inplace=False)\n",
      "    )\n",
      "  )\n",
      "  (decoder): AttnDecoder(\n",
      "    (embeddings): ModuleList(\n",
      "      (0): Embedding(3049, 50)\n",
      "      (1): Embedding(7, 4)\n",
      "      (2): Embedding(3, 2)\n",
      "      (3): Embedding(10, 5)\n",
      "      (4): Embedding(3, 2)\n",
      "    )\n",
      "    (cal_embedding): Embedding(31, 16)\n",
      "    (attns): ModuleList(\n",
      "      (0): Linear(in_features=644, out_features=364, bias=True)\n",
      "      (1): Linear(in_features=644, out_features=364, bias=True)\n",
      "    )\n",
      "    (attn_combine): ModuleList(\n",
      "      (0): Linear(in_features=256, out_features=128, bias=True)\n",
      "      (1): Linear(in_features=256, out_features=128, bias=True)\n",
      "    )\n",
      "    (rnns): ModuleList(\n",
      "      (0): LSTM(132, 128, bidirectional=True)\n",
      "      (1): LSTM(256, 128, bidirectional=True)\n",
      "    )\n",
      "    (rnn_dropouts): ModuleList(\n",
      "      (0): Dropout(p=0.0, inplace=False)\n",
      "    )\n",
      "    (pred): Linear(in_features=256, out_features=1, bias=True)\n",
      "  )\n",
      ")\n",
      "\n",
      "*************************************** Loading Data **************************************\n"
     ]
    },
    {
     "name": "stderr",
     "output_type": "stream",
     "text": [
      "/usr/lib/python3/dist-packages/requests/__init__.py:89: RequestsDependencyWarning: urllib3 (1.26.8) or chardet (3.0.4) doesn't match a supported version!\n",
      "  warnings.warn(\"urllib3 ({}) or chardet ({}) doesn't match a supported \"\n",
      "  0%|          | 0/834 [00:00<?, ?it/s]"
     ]
    },
    {
     "name": "stdout",
     "output_type": "stream",
     "text": [
      "***************************************** Training ****************************************\n",
      "\n",
      "xxxxxxxxxxxxxxxxxxxxxxxxxxxxxxxxxxxxxx Epoch [1/200] xxxxxxxxxxxxxxxxxxxxxxxxxxxxxxxxxxxxxx\n"
     ]
    },
    {
     "name": "stderr",
     "output_type": "stream",
     "text": [
      "loss = 0.790 : 100%|██████████| 834/834 [03:41<00:00,  3.76it/s]\n",
      "             : 100%|██████████| 60/60 [00:05<00:00, 11.55it/s]\n",
      "  0%|          | 0/834 [00:00<?, ?it/s]"
     ]
    },
    {
     "name": "stdout",
     "output_type": "stream",
     "text": [
      "Training Loss: 0.7902, Training Error: 1.0981, Training Secondary Error: 0.7520\n",
      "Validation Loss: 0.8656, Validation Error: 0.8792, Validation Secondary Error: 0.7293\n",
      "Best model obtained at the end of epoch 1\n",
      "xxxxxxxxxxxxxxxxxxxxxxxxxxxxxxxxxxxxxx Epoch [2/200] xxxxxxxxxxxxxxxxxxxxxxxxxxxxxxxxxxxxxx\n"
     ]
    },
    {
     "name": "stderr",
     "output_type": "stream",
     "text": [
      "loss = 0.768 : 100%|██████████| 834/834 [03:42<00:00,  3.75it/s]\n",
      "             : 100%|██████████| 60/60 [00:05<00:00, 11.82it/s]\n",
      "  0%|          | 0/834 [00:00<?, ?it/s]"
     ]
    },
    {
     "name": "stdout",
     "output_type": "stream",
     "text": [
      "Training Loss: 0.7683, Training Error: 0.9596, Training Secondary Error: 0.7383\n",
      "Validation Loss: 0.8679, Validation Error: 0.8584, Validation Secondary Error: 0.7302\n",
      "Best model obtained at the end of epoch 2\n",
      "xxxxxxxxxxxxxxxxxxxxxxxxxxxxxxxxxxxxxx Epoch [3/200] xxxxxxxxxxxxxxxxxxxxxxxxxxxxxxxxxxxxxx\n"
     ]
    },
    {
     "name": "stderr",
     "output_type": "stream",
     "text": [
      "loss = 0.758 : 100%|██████████| 834/834 [03:47<00:00,  3.66it/s]\n",
      "             : 100%|██████████| 60/60 [00:05<00:00, 11.44it/s]\n",
      "  0%|          | 0/834 [00:00<?, ?it/s]"
     ]
    },
    {
     "name": "stdout",
     "output_type": "stream",
     "text": [
      "Training Loss: 0.7584, Training Error: 0.8589, Training Secondary Error: 0.7347\n",
      "Validation Loss: 0.8676, Validation Error: 0.8238, Validation Secondary Error: 0.7263\n",
      "Best model obtained at the end of epoch 3\n",
      "xxxxxxxxxxxxxxxxxxxxxxxxxxxxxxxxxxxxxx Epoch [4/200] xxxxxxxxxxxxxxxxxxxxxxxxxxxxxxxxxxxxxx\n"
     ]
    },
    {
     "name": "stderr",
     "output_type": "stream",
     "text": [
      "loss = 0.751 : 100%|██████████| 834/834 [03:46<00:00,  3.68it/s]\n",
      "             : 100%|██████████| 60/60 [00:05<00:00, 11.65it/s]\n",
      "  0%|          | 0/834 [00:00<?, ?it/s]"
     ]
    },
    {
     "name": "stdout",
     "output_type": "stream",
     "text": [
      "Training Loss: 0.7508, Training Error: 0.8396, Training Secondary Error: 0.7323\n",
      "Validation Loss: 0.8620, Validation Error: 1.2094, Validation Secondary Error: 0.7284\n",
      "xxxxxxxxxxxxxxxxxxxxxxxxxxxxxxxxxxxxxx Epoch [5/200] xxxxxxxxxxxxxxxxxxxxxxxxxxxxxxxxxxxxxx\n"
     ]
    },
    {
     "name": "stderr",
     "output_type": "stream",
     "text": [
      "loss = 0.746 : 100%|██████████| 834/834 [03:45<00:00,  3.70it/s]\n",
      "             : 100%|██████████| 60/60 [00:05<00:00, 11.00it/s]\n",
      "  0%|          | 0/834 [00:00<?, ?it/s]"
     ]
    },
    {
     "name": "stdout",
     "output_type": "stream",
     "text": [
      "Training Loss: 0.7459, Training Error: 0.8099, Training Secondary Error: 0.7310\n",
      "Validation Loss: 0.8530, Validation Error: 0.9250, Validation Secondary Error: 0.7261\n",
      "xxxxxxxxxxxxxxxxxxxxxxxxxxxxxxxxxxxxxx Epoch [6/200] xxxxxxxxxxxxxxxxxxxxxxxxxxxxxxxxxxxxxx\n"
     ]
    },
    {
     "name": "stderr",
     "output_type": "stream",
     "text": [
      "loss = 0.742 : 100%|██████████| 834/834 [03:48<00:00,  3.65it/s]\n",
      "             : 100%|██████████| 60/60 [00:04<00:00, 12.20it/s]\n",
      "  0%|          | 0/834 [00:00<?, ?it/s]"
     ]
    },
    {
     "name": "stdout",
     "output_type": "stream",
     "text": [
      "Training Loss: 0.7422, Training Error: 0.7916, Training Secondary Error: 0.7297\n",
      "Validation Loss: 0.8599, Validation Error: 0.7277, Validation Secondary Error: 0.7245\n",
      "Best model obtained at the end of epoch 6\n",
      "xxxxxxxxxxxxxxxxxxxxxxxxxxxxxxxxxxxxxx Epoch [7/200] xxxxxxxxxxxxxxxxxxxxxxxxxxxxxxxxxxxxxx\n"
     ]
    },
    {
     "name": "stderr",
     "output_type": "stream",
     "text": [
      "loss = 0.739 : 100%|██████████| 834/834 [03:45<00:00,  3.69it/s]\n",
      "             : 100%|██████████| 60/60 [00:05<00:00, 11.28it/s]\n",
      "  0%|          | 0/834 [00:00<?, ?it/s]"
     ]
    },
    {
     "name": "stdout",
     "output_type": "stream",
     "text": [
      "Training Loss: 0.7391, Training Error: 0.7906, Training Secondary Error: 0.7298\n",
      "Validation Loss: 0.8584, Validation Error: 0.9653, Validation Secondary Error: 0.7252\n",
      "xxxxxxxxxxxxxxxxxxxxxxxxxxxxxxxxxxxxxx Epoch [8/200] xxxxxxxxxxxxxxxxxxxxxxxxxxxxxxxxxxxxxx\n"
     ]
    },
    {
     "name": "stderr",
     "output_type": "stream",
     "text": [
      "loss = 0.737 : 100%|██████████| 834/834 [03:45<00:00,  3.70it/s]\n",
      "             : 100%|██████████| 60/60 [00:05<00:00, 11.49it/s]\n",
      "  0%|          | 0/834 [00:00<?, ?it/s]"
     ]
    },
    {
     "name": "stdout",
     "output_type": "stream",
     "text": [
      "Training Loss: 0.7366, Training Error: 0.7614, Training Secondary Error: 0.7282\n",
      "Validation Loss: 0.8725, Validation Error: 0.7774, Validation Secondary Error: 0.7276\n",
      "xxxxxxxxxxxxxxxxxxxxxxxxxxxxxxxxxxxxxx Epoch [9/200] xxxxxxxxxxxxxxxxxxxxxxxxxxxxxxxxxxxxxx\n"
     ]
    },
    {
     "name": "stderr",
     "output_type": "stream",
     "text": [
      "loss = 0.734 : 100%|██████████| 834/834 [03:48<00:00,  3.66it/s]\n",
      "             : 100%|██████████| 60/60 [00:05<00:00, 11.49it/s]\n",
      "  0%|          | 0/834 [00:00<?, ?it/s]"
     ]
    },
    {
     "name": "stdout",
     "output_type": "stream",
     "text": [
      "Training Loss: 0.7343, Training Error: 0.7425, Training Secondary Error: 0.7279\n",
      "Validation Loss: 0.8652, Validation Error: 0.8229, Validation Secondary Error: 0.7263\n",
      "xxxxxxxxxxxxxxxxxxxxxxxxxxxxxxxxxxxxxx Epoch [10/200] xxxxxxxxxxxxxxxxxxxxxxxxxxxxxxxxxxxxx\n"
     ]
    },
    {
     "name": "stderr",
     "output_type": "stream",
     "text": [
      "loss = 0.731 : 100%|██████████| 834/834 [03:48<00:00,  3.66it/s]\n",
      "             : 100%|██████████| 60/60 [00:05<00:00, 11.68it/s]\n",
      "  0%|          | 0/834 [00:00<?, ?it/s]"
     ]
    },
    {
     "name": "stdout",
     "output_type": "stream",
     "text": [
      "Training Loss: 0.7314, Training Error: 0.7518, Training Secondary Error: 0.7270\n",
      "Validation Loss: 0.8697, Validation Error: 0.9272, Validation Secondary Error: 0.7264\n",
      "Epoch 00010: reducing learning rate of group 0 to 1.5000e-04.\n",
      "xxxxxxxxxxxxxxxxxxxxxxxxxxxxxxxxxxxxxx Epoch [11/200] xxxxxxxxxxxxxxxxxxxxxxxxxxxxxxxxxxxxx\n"
     ]
    },
    {
     "name": "stderr",
     "output_type": "stream",
     "text": [
      "loss = 0.725 : 100%|██████████| 834/834 [03:43<00:00,  3.73it/s]\n",
      "             : 100%|██████████| 60/60 [00:05<00:00, 11.25it/s]\n",
      "  0%|          | 0/834 [00:00<?, ?it/s]"
     ]
    },
    {
     "name": "stdout",
     "output_type": "stream",
     "text": [
      "Training Loss: 0.7251, Training Error: 0.7090, Training Secondary Error: 0.7259\n",
      "Validation Loss: 0.8661, Validation Error: 0.7924, Validation Secondary Error: 0.7262\n",
      "xxxxxxxxxxxxxxxxxxxxxxxxxxxxxxxxxxxxxx Epoch [12/200] xxxxxxxxxxxxxxxxxxxxxxxxxxxxxxxxxxxxx\n"
     ]
    },
    {
     "name": "stderr",
     "output_type": "stream",
     "text": [
      "loss = 0.723 : 100%|██████████| 834/834 [03:45<00:00,  3.70it/s]\n",
      "             : 100%|██████████| 60/60 [00:05<00:00, 11.80it/s]\n",
      "  0%|          | 0/834 [00:00<?, ?it/s]"
     ]
    },
    {
     "name": "stdout",
     "output_type": "stream",
     "text": [
      "Training Loss: 0.7230, Training Error: 0.7105, Training Secondary Error: 0.7251\n",
      "Validation Loss: 0.8642, Validation Error: 0.8975, Validation Secondary Error: 0.7260\n",
      "xxxxxxxxxxxxxxxxxxxxxxxxxxxxxxxxxxxxxx Epoch [13/200] xxxxxxxxxxxxxxxxxxxxxxxxxxxxxxxxxxxxx\n"
     ]
    },
    {
     "name": "stderr",
     "output_type": "stream",
     "text": [
      "loss = 0.721 : 100%|██████████| 834/834 [03:48<00:00,  3.66it/s]\n",
      "             : 100%|██████████| 60/60 [00:05<00:00, 11.50it/s]\n",
      "  0%|          | 0/834 [00:00<?, ?it/s]"
     ]
    },
    {
     "name": "stdout",
     "output_type": "stream",
     "text": [
      "Training Loss: 0.7209, Training Error: 0.7048, Training Secondary Error: 0.7248\n",
      "Validation Loss: 0.8627, Validation Error: 0.8517, Validation Secondary Error: 0.7264\n",
      "xxxxxxxxxxxxxxxxxxxxxxxxxxxxxxxxxxxxxx Epoch [14/200] xxxxxxxxxxxxxxxxxxxxxxxxxxxxxxxxxxxxx\n"
     ]
    },
    {
     "name": "stderr",
     "output_type": "stream",
     "text": [
      "loss = 0.720 : 100%|██████████| 834/834 [03:44<00:00,  3.71it/s]\n",
      "             : 100%|██████████| 60/60 [00:05<00:00, 11.43it/s]\n",
      "  0%|          | 0/834 [00:00<?, ?it/s]"
     ]
    },
    {
     "name": "stdout",
     "output_type": "stream",
     "text": [
      "Training Loss: 0.7195, Training Error: 0.7221, Training Secondary Error: 0.7247\n",
      "Validation Loss: 0.8658, Validation Error: 0.7610, Validation Secondary Error: 0.7268\n",
      "Epoch 00014: reducing learning rate of group 0 to 7.5000e-05.\n",
      "xxxxxxxxxxxxxxxxxxxxxxxxxxxxxxxxxxxxxx Epoch [15/200] xxxxxxxxxxxxxxxxxxxxxxxxxxxxxxxxxxxxx\n"
     ]
    },
    {
     "name": "stderr",
     "output_type": "stream",
     "text": [
      "loss = 0.716 : 100%|██████████| 834/834 [03:47<00:00,  3.67it/s]\n",
      "             : 100%|██████████| 60/60 [00:05<00:00, 11.96it/s]\n",
      "  0%|          | 0/834 [00:00<?, ?it/s]"
     ]
    },
    {
     "name": "stdout",
     "output_type": "stream",
     "text": [
      "Training Loss: 0.7160, Training Error: 0.7060, Training Secondary Error: 0.7240\n",
      "Validation Loss: 0.8638, Validation Error: 0.7826, Validation Secondary Error: 0.7262\n",
      "xxxxxxxxxxxxxxxxxxxxxxxxxxxxxxxxxxxxxx Epoch [16/200] xxxxxxxxxxxxxxxxxxxxxxxxxxxxxxxxxxxxx\n"
     ]
    },
    {
     "name": "stderr",
     "output_type": "stream",
     "text": [
      "loss = 0.715 : 100%|██████████| 834/834 [03:43<00:00,  3.73it/s]\n",
      "             : 100%|██████████| 60/60 [00:05<00:00, 11.79it/s]\n"
     ]
    },
    {
     "name": "stdout",
     "output_type": "stream",
     "text": [
      "Training Loss: 0.7146, Training Error: 0.7170, Training Secondary Error: 0.7235\n",
      "Validation Loss: 0.8731, Validation Error: 0.8963, Validation Secondary Error: 0.7275\n",
      "************************************* Training Stopped*************************************\n",
      "Early stopping triggered after epoch 16\n",
      "\n",
      "**************************************** Fold [2/3] ***************************************\n",
      "******************************* Model: seq2seq_w_attn_on_hid ******************************\n",
      "Seq2Seq(\n",
      "  (encoder): Encoder(\n",
      "    (embeddings): ModuleList(\n",
      "      (0): Embedding(3049, 50)\n",
      "      (1): Embedding(7, 4)\n",
      "      (2): Embedding(3, 2)\n",
      "      (3): Embedding(10, 5)\n",
      "      (4): Embedding(3, 2)\n",
      "    )\n",
      "    (cal_embedding): Embedding(31, 16)\n",
      "    (rnns): ModuleList(\n",
      "      (0): LSTM(132, 128, bidirectional=True)\n",
      "      (1): LSTM(256, 128, bidirectional=True)\n",
      "    )\n",
      "    (rnn_dropouts): ModuleList(\n",
      "      (0): Dropout(p=0.2, inplace=False)\n",
      "    )\n",
      "  )\n",
      "  (decoder): AttnDecoder(\n",
      "    (embeddings): ModuleList(\n",
      "      (0): Embedding(3049, 50)\n",
      "      (1): Embedding(7, 4)\n",
      "      (2): Embedding(3, 2)\n",
      "      (3): Embedding(10, 5)\n",
      "      (4): Embedding(3, 2)\n",
      "    )\n",
      "    (cal_embedding): Embedding(31, 16)\n",
      "    (attns): ModuleList(\n",
      "      (0): Linear(in_features=644, out_features=364, bias=True)\n",
      "      (1): Linear(in_features=644, out_features=364, bias=True)\n",
      "    )\n",
      "    (attn_combine): ModuleList(\n",
      "      (0): Linear(in_features=256, out_features=128, bias=True)\n",
      "      (1): Linear(in_features=256, out_features=128, bias=True)\n",
      "    )\n",
      "    (rnns): ModuleList(\n",
      "      (0): LSTM(132, 128, bidirectional=True)\n",
      "      (1): LSTM(256, 128, bidirectional=True)\n",
      "    )\n",
      "    (rnn_dropouts): ModuleList(\n",
      "      (0): Dropout(p=0.0, inplace=False)\n",
      "    )\n",
      "    (pred): Linear(in_features=256, out_features=1, bias=True)\n",
      "  )\n",
      ")\n",
      "\n",
      "*************************************** Loading Data **************************************\n"
     ]
    },
    {
     "name": "stderr",
     "output_type": "stream",
     "text": [
      "  0%|          | 0/834 [00:00<?, ?it/s]"
     ]
    },
    {
     "name": "stdout",
     "output_type": "stream",
     "text": [
      "***************************************** Training ****************************************\n",
      "\n",
      "xxxxxxxxxxxxxxxxxxxxxxxxxxxxxxxxxxxxxx Epoch [1/200] xxxxxxxxxxxxxxxxxxxxxxxxxxxxxxxxxxxxxx\n"
     ]
    },
    {
     "name": "stderr",
     "output_type": "stream",
     "text": [
      "loss = 0.798 : 100%|██████████| 834/834 [03:43<00:00,  3.74it/s]\n",
      "             : 100%|██████████| 60/60 [00:05<00:00, 11.35it/s]\n",
      "  0%|          | 0/834 [00:00<?, ?it/s]"
     ]
    },
    {
     "name": "stdout",
     "output_type": "stream",
     "text": [
      "Training Loss: 0.7983, Training Error: 0.9715, Training Secondary Error: 0.7423\n",
      "Validation Loss: 0.8612, Validation Error: 1.2698, Validation Secondary Error: 0.7367\n",
      "Best model obtained at the end of epoch 1\n",
      "xxxxxxxxxxxxxxxxxxxxxxxxxxxxxxxxxxxxxx Epoch [2/200] xxxxxxxxxxxxxxxxxxxxxxxxxxxxxxxxxxxxxx\n"
     ]
    },
    {
     "name": "stderr",
     "output_type": "stream",
     "text": [
      "loss = 0.776 : 100%|██████████| 834/834 [03:45<00:00,  3.70it/s]\n",
      "             : 100%|██████████| 60/60 [00:05<00:00, 11.39it/s]\n",
      "  0%|          | 0/834 [00:00<?, ?it/s]"
     ]
    },
    {
     "name": "stdout",
     "output_type": "stream",
     "text": [
      "Training Loss: 0.7765, Training Error: 0.8742, Training Secondary Error: 0.7287\n",
      "Validation Loss: 0.8427, Validation Error: 0.7813, Validation Secondary Error: 0.7296\n",
      "Best model obtained at the end of epoch 2\n",
      "xxxxxxxxxxxxxxxxxxxxxxxxxxxxxxxxxxxxxx Epoch [3/200] xxxxxxxxxxxxxxxxxxxxxxxxxxxxxxxxxxxxxx\n"
     ]
    },
    {
     "name": "stderr",
     "output_type": "stream",
     "text": [
      "loss = 0.767 : 100%|██████████| 834/834 [03:44<00:00,  3.71it/s]\n",
      "             : 100%|██████████| 60/60 [00:05<00:00, 11.38it/s]\n",
      "  0%|          | 0/834 [00:00<?, ?it/s]"
     ]
    },
    {
     "name": "stdout",
     "output_type": "stream",
     "text": [
      "Training Loss: 0.7670, Training Error: 0.7924, Training Secondary Error: 0.7250\n",
      "Validation Loss: 0.8341, Validation Error: 0.6720, Validation Secondary Error: 0.7270\n",
      "Best model obtained at the end of epoch 3\n",
      "xxxxxxxxxxxxxxxxxxxxxxxxxxxxxxxxxxxxxx Epoch [4/200] xxxxxxxxxxxxxxxxxxxxxxxxxxxxxxxxxxxxxx\n"
     ]
    },
    {
     "name": "stderr",
     "output_type": "stream",
     "text": [
      "loss = 0.761 : 100%|██████████| 834/834 [03:52<00:00,  3.59it/s]\n",
      "             : 100%|██████████| 60/60 [00:05<00:00, 11.81it/s]\n",
      "  0%|          | 0/834 [00:00<?, ?it/s]"
     ]
    },
    {
     "name": "stdout",
     "output_type": "stream",
     "text": [
      "Training Loss: 0.7608, Training Error: 0.7733, Training Secondary Error: 0.7229\n",
      "Validation Loss: 0.8419, Validation Error: 0.6723, Validation Secondary Error: 0.7269\n",
      "xxxxxxxxxxxxxxxxxxxxxxxxxxxxxxxxxxxxxx Epoch [5/200] xxxxxxxxxxxxxxxxxxxxxxxxxxxxxxxxxxxxxx\n"
     ]
    },
    {
     "name": "stderr",
     "output_type": "stream",
     "text": [
      "loss = 0.756 : 100%|██████████| 834/834 [03:52<00:00,  3.59it/s]\n",
      "             : 100%|██████████| 60/60 [00:05<00:00, 11.66it/s]\n",
      "  0%|          | 0/834 [00:00<?, ?it/s]"
     ]
    },
    {
     "name": "stdout",
     "output_type": "stream",
     "text": [
      "Training Loss: 0.7561, Training Error: 0.7783, Training Secondary Error: 0.7215\n",
      "Validation Loss: 0.8503, Validation Error: 1.2154, Validation Secondary Error: 0.7307\n",
      "xxxxxxxxxxxxxxxxxxxxxxxxxxxxxxxxxxxxxx Epoch [6/200] xxxxxxxxxxxxxxxxxxxxxxxxxxxxxxxxxxxxxx\n"
     ]
    },
    {
     "name": "stderr",
     "output_type": "stream",
     "text": [
      "loss = 0.753 : 100%|██████████| 834/834 [03:53<00:00,  3.57it/s]\n",
      "             : 100%|██████████| 60/60 [00:05<00:00, 11.58it/s]\n",
      "  0%|          | 0/834 [00:00<?, ?it/s]"
     ]
    },
    {
     "name": "stdout",
     "output_type": "stream",
     "text": [
      "Training Loss: 0.7528, Training Error: 0.7785, Training Secondary Error: 0.7206\n",
      "Validation Loss: 0.8292, Validation Error: 0.7350, Validation Secondary Error: 0.7258\n",
      "xxxxxxxxxxxxxxxxxxxxxxxxxxxxxxxxxxxxxx Epoch [7/200] xxxxxxxxxxxxxxxxxxxxxxxxxxxxxxxxxxxxxx\n"
     ]
    },
    {
     "name": "stderr",
     "output_type": "stream",
     "text": [
      "loss = 0.749 : 100%|██████████| 834/834 [03:53<00:00,  3.57it/s]\n",
      "             : 100%|██████████| 60/60 [00:05<00:00, 11.38it/s]\n",
      "  0%|          | 0/834 [00:00<?, ?it/s]"
     ]
    },
    {
     "name": "stdout",
     "output_type": "stream",
     "text": [
      "Training Loss: 0.7490, Training Error: 0.7718, Training Secondary Error: 0.7194\n",
      "Validation Loss: 0.8346, Validation Error: 0.6430, Validation Secondary Error: 0.7261\n",
      "Best model obtained at the end of epoch 7\n",
      "xxxxxxxxxxxxxxxxxxxxxxxxxxxxxxxxxxxxxx Epoch [8/200] xxxxxxxxxxxxxxxxxxxxxxxxxxxxxxxxxxxxxx\n"
     ]
    },
    {
     "name": "stderr",
     "output_type": "stream",
     "text": [
      "loss = 0.746 : 100%|██████████| 834/834 [03:53<00:00,  3.57it/s]\n",
      "             : 100%|██████████| 60/60 [00:05<00:00, 11.76it/s]\n",
      "  0%|          | 0/834 [00:00<?, ?it/s]"
     ]
    },
    {
     "name": "stdout",
     "output_type": "stream",
     "text": [
      "Training Loss: 0.7462, Training Error: 0.7605, Training Secondary Error: 0.7187\n",
      "Validation Loss: 0.8334, Validation Error: 1.0068, Validation Secondary Error: 0.7280\n",
      "xxxxxxxxxxxxxxxxxxxxxxxxxxxxxxxxxxxxxx Epoch [9/200] xxxxxxxxxxxxxxxxxxxxxxxxxxxxxxxxxxxxxx\n"
     ]
    },
    {
     "name": "stderr",
     "output_type": "stream",
     "text": [
      "loss = 0.744 : 100%|██████████| 834/834 [03:53<00:00,  3.57it/s]\n",
      "             : 100%|██████████| 60/60 [00:05<00:00, 11.71it/s]\n",
      "  0%|          | 0/834 [00:00<?, ?it/s]"
     ]
    },
    {
     "name": "stdout",
     "output_type": "stream",
     "text": [
      "Training Loss: 0.7436, Training Error: 0.7624, Training Secondary Error: 0.7183\n",
      "Validation Loss: 0.8450, Validation Error: 0.6095, Validation Secondary Error: 0.7297\n",
      "Best model obtained at the end of epoch 9\n",
      "xxxxxxxxxxxxxxxxxxxxxxxxxxxxxxxxxxxxxx Epoch [10/200] xxxxxxxxxxxxxxxxxxxxxxxxxxxxxxxxxxxxx\n"
     ]
    },
    {
     "name": "stderr",
     "output_type": "stream",
     "text": [
      "loss = 0.741 : 100%|██████████| 834/834 [03:52<00:00,  3.58it/s]\n",
      "             : 100%|██████████| 60/60 [00:05<00:00, 11.89it/s]\n",
      "  0%|          | 0/834 [00:00<?, ?it/s]"
     ]
    },
    {
     "name": "stdout",
     "output_type": "stream",
     "text": [
      "Training Loss: 0.7410, Training Error: 0.7601, Training Secondary Error: 0.7176\n",
      "Validation Loss: 0.8493, Validation Error: 0.7555, Validation Secondary Error: 0.7283\n",
      "xxxxxxxxxxxxxxxxxxxxxxxxxxxxxxxxxxxxxx Epoch [11/200] xxxxxxxxxxxxxxxxxxxxxxxxxxxxxxxxxxxxx\n"
     ]
    },
    {
     "name": "stderr",
     "output_type": "stream",
     "text": [
      "loss = 0.739 : 100%|██████████| 834/834 [03:53<00:00,  3.57it/s]\n",
      "             : 100%|██████████| 60/60 [00:05<00:00, 11.29it/s]\n",
      "  0%|          | 0/834 [00:00<?, ?it/s]"
     ]
    },
    {
     "name": "stdout",
     "output_type": "stream",
     "text": [
      "Training Loss: 0.7388, Training Error: 0.7561, Training Secondary Error: 0.7169\n",
      "Validation Loss: 0.8369, Validation Error: 0.5931, Validation Secondary Error: 0.7262\n",
      "Best model obtained at the end of epoch 11\n",
      "xxxxxxxxxxxxxxxxxxxxxxxxxxxxxxxxxxxxxx Epoch [12/200] xxxxxxxxxxxxxxxxxxxxxxxxxxxxxxxxxxxxx\n"
     ]
    },
    {
     "name": "stderr",
     "output_type": "stream",
     "text": [
      "loss = 0.737 : 100%|██████████| 834/834 [03:54<00:00,  3.56it/s]\n",
      "             : 100%|██████████| 60/60 [00:05<00:00, 11.68it/s]\n",
      "  0%|          | 0/834 [00:00<?, ?it/s]"
     ]
    },
    {
     "name": "stdout",
     "output_type": "stream",
     "text": [
      "Training Loss: 0.7365, Training Error: 0.7601, Training Secondary Error: 0.7165\n",
      "Validation Loss: 0.8381, Validation Error: 0.5812, Validation Secondary Error: 0.7292\n",
      "Best model obtained at the end of epoch 12\n",
      "xxxxxxxxxxxxxxxxxxxxxxxxxxxxxxxxxxxxxx Epoch [13/200] xxxxxxxxxxxxxxxxxxxxxxxxxxxxxxxxxxxxx\n"
     ]
    },
    {
     "name": "stderr",
     "output_type": "stream",
     "text": [
      "loss = 0.734 : 100%|██████████| 834/834 [03:54<00:00,  3.56it/s]\n",
      "             : 100%|██████████| 60/60 [00:05<00:00, 11.44it/s]\n",
      "  0%|          | 0/834 [00:00<?, ?it/s]"
     ]
    },
    {
     "name": "stdout",
     "output_type": "stream",
     "text": [
      "Training Loss: 0.7342, Training Error: 0.7357, Training Secondary Error: 0.7164\n",
      "Validation Loss: 0.8355, Validation Error: 0.8082, Validation Secondary Error: 0.7278\n",
      "xxxxxxxxxxxxxxxxxxxxxxxxxxxxxxxxxxxxxx Epoch [14/200] xxxxxxxxxxxxxxxxxxxxxxxxxxxxxxxxxxxxx\n"
     ]
    },
    {
     "name": "stderr",
     "output_type": "stream",
     "text": [
      "loss = 0.732 : 100%|██████████| 834/834 [03:54<00:00,  3.56it/s]\n",
      "             : 100%|██████████| 60/60 [00:05<00:00, 11.63it/s]\n",
      "  0%|          | 0/834 [00:00<?, ?it/s]"
     ]
    },
    {
     "name": "stdout",
     "output_type": "stream",
     "text": [
      "Training Loss: 0.7322, Training Error: 0.7422, Training Secondary Error: 0.7156\n",
      "Validation Loss: 0.8426, Validation Error: 0.6547, Validation Secondary Error: 0.7290\n",
      "xxxxxxxxxxxxxxxxxxxxxxxxxxxxxxxxxxxxxx Epoch [15/200] xxxxxxxxxxxxxxxxxxxxxxxxxxxxxxxxxxxxx\n"
     ]
    },
    {
     "name": "stderr",
     "output_type": "stream",
     "text": [
      "loss = 0.730 : 100%|██████████| 834/834 [03:53<00:00,  3.56it/s]\n",
      "             : 100%|██████████| 60/60 [00:05<00:00, 11.58it/s]\n",
      "  0%|          | 0/834 [00:00<?, ?it/s]"
     ]
    },
    {
     "name": "stdout",
     "output_type": "stream",
     "text": [
      "Training Loss: 0.7303, Training Error: 0.7286, Training Secondary Error: 0.7151\n",
      "Validation Loss: 0.8314, Validation Error: 0.7575, Validation Secondary Error: 0.7267\n",
      "xxxxxxxxxxxxxxxxxxxxxxxxxxxxxxxxxxxxxx Epoch [16/200] xxxxxxxxxxxxxxxxxxxxxxxxxxxxxxxxxxxxx\n"
     ]
    },
    {
     "name": "stderr",
     "output_type": "stream",
     "text": [
      "loss = 0.728 : 100%|██████████| 834/834 [03:53<00:00,  3.58it/s]\n",
      "             : 100%|██████████| 60/60 [00:05<00:00, 11.07it/s]\n",
      "  0%|          | 0/834 [00:00<?, ?it/s]"
     ]
    },
    {
     "name": "stdout",
     "output_type": "stream",
     "text": [
      "Training Loss: 0.7283, Training Error: 0.7277, Training Secondary Error: 0.7148\n",
      "Validation Loss: 0.8414, Validation Error: 0.6969, Validation Secondary Error: 0.7276\n",
      "Epoch 00016: reducing learning rate of group 0 to 1.5000e-04.\n",
      "xxxxxxxxxxxxxxxxxxxxxxxxxxxxxxxxxxxxxx Epoch [17/200] xxxxxxxxxxxxxxxxxxxxxxxxxxxxxxxxxxxxx\n"
     ]
    },
    {
     "name": "stderr",
     "output_type": "stream",
     "text": [
      "loss = 0.722 : 100%|██████████| 834/834 [03:53<00:00,  3.57it/s]\n",
      "             : 100%|██████████| 60/60 [00:05<00:00, 11.49it/s]\n",
      "  0%|          | 0/834 [00:00<?, ?it/s]"
     ]
    },
    {
     "name": "stdout",
     "output_type": "stream",
     "text": [
      "Training Loss: 0.7221, Training Error: 0.7426, Training Secondary Error: 0.7133\n",
      "Validation Loss: 0.8405, Validation Error: 0.7385, Validation Secondary Error: 0.7277\n",
      "xxxxxxxxxxxxxxxxxxxxxxxxxxxxxxxxxxxxxx Epoch [18/200] xxxxxxxxxxxxxxxxxxxxxxxxxxxxxxxxxxxxx\n"
     ]
    },
    {
     "name": "stderr",
     "output_type": "stream",
     "text": [
      "loss = 0.720 : 100%|██████████| 834/834 [03:53<00:00,  3.57it/s]\n",
      "             : 100%|██████████| 60/60 [00:05<00:00, 11.59it/s]\n",
      "  0%|          | 0/834 [00:00<?, ?it/s]"
     ]
    },
    {
     "name": "stdout",
     "output_type": "stream",
     "text": [
      "Training Loss: 0.7198, Training Error: 0.7222, Training Secondary Error: 0.7130\n",
      "Validation Loss: 0.8415, Validation Error: 0.6790, Validation Secondary Error: 0.7280\n",
      "xxxxxxxxxxxxxxxxxxxxxxxxxxxxxxxxxxxxxx Epoch [19/200] xxxxxxxxxxxxxxxxxxxxxxxxxxxxxxxxxxxxx\n"
     ]
    },
    {
     "name": "stderr",
     "output_type": "stream",
     "text": [
      "loss = 0.718 : 100%|██████████| 834/834 [03:53<00:00,  3.57it/s]\n",
      "             : 100%|██████████| 60/60 [00:05<00:00, 11.69it/s]\n",
      "  0%|          | 0/834 [00:00<?, ?it/s]"
     ]
    },
    {
     "name": "stdout",
     "output_type": "stream",
     "text": [
      "Training Loss: 0.7178, Training Error: 0.7288, Training Secondary Error: 0.7126\n",
      "Validation Loss: 0.8427, Validation Error: 0.6129, Validation Secondary Error: 0.7282\n",
      "xxxxxxxxxxxxxxxxxxxxxxxxxxxxxxxxxxxxxx Epoch [20/200] xxxxxxxxxxxxxxxxxxxxxxxxxxxxxxxxxxxxx\n"
     ]
    },
    {
     "name": "stderr",
     "output_type": "stream",
     "text": [
      "loss = 0.717 : 100%|██████████| 834/834 [03:52<00:00,  3.58it/s]\n",
      "             : 100%|██████████| 60/60 [00:05<00:00, 11.86it/s]\n",
      "  0%|          | 0/834 [00:00<?, ?it/s]"
     ]
    },
    {
     "name": "stdout",
     "output_type": "stream",
     "text": [
      "Training Loss: 0.7173, Training Error: 0.7220, Training Secondary Error: 0.7125\n",
      "Validation Loss: 0.8436, Validation Error: 0.5993, Validation Secondary Error: 0.7285\n",
      "Epoch 00020: reducing learning rate of group 0 to 7.5000e-05.\n",
      "xxxxxxxxxxxxxxxxxxxxxxxxxxxxxxxxxxxxxx Epoch [21/200] xxxxxxxxxxxxxxxxxxxxxxxxxxxxxxxxxxxxx\n"
     ]
    },
    {
     "name": "stderr",
     "output_type": "stream",
     "text": [
      "loss = 0.713 : 100%|██████████| 834/834 [03:53<00:00,  3.58it/s]\n",
      "             : 100%|██████████| 60/60 [00:05<00:00, 11.64it/s]\n",
      "  0%|          | 0/834 [00:00<?, ?it/s]"
     ]
    },
    {
     "name": "stdout",
     "output_type": "stream",
     "text": [
      "Training Loss: 0.7132, Training Error: 0.7059, Training Secondary Error: 0.7118\n",
      "Validation Loss: 0.8493, Validation Error: 0.6281, Validation Secondary Error: 0.7288\n",
      "xxxxxxxxxxxxxxxxxxxxxxxxxxxxxxxxxxxxxx Epoch [22/200] xxxxxxxxxxxxxxxxxxxxxxxxxxxxxxxxxxxxx\n"
     ]
    },
    {
     "name": "stderr",
     "output_type": "stream",
     "text": [
      "loss = 0.712 : 100%|██████████| 834/834 [03:53<00:00,  3.57it/s]\n",
      "             : 100%|██████████| 60/60 [00:05<00:00, 11.22it/s]\n"
     ]
    },
    {
     "name": "stdout",
     "output_type": "stream",
     "text": [
      "Training Loss: 0.7117, Training Error: 0.7052, Training Secondary Error: 0.7117\n",
      "Validation Loss: 0.8487, Validation Error: 0.6797, Validation Secondary Error: 0.7288\n",
      "************************************* Training Stopped*************************************\n",
      "Early stopping triggered after epoch 22\n",
      "\n",
      "**************************************** Fold [3/3] ***************************************\n",
      "******************************* Model: seq2seq_w_attn_on_hid ******************************\n",
      "Seq2Seq(\n",
      "  (encoder): Encoder(\n",
      "    (embeddings): ModuleList(\n",
      "      (0): Embedding(3049, 50)\n",
      "      (1): Embedding(7, 4)\n",
      "      (2): Embedding(3, 2)\n",
      "      (3): Embedding(10, 5)\n",
      "      (4): Embedding(3, 2)\n",
      "    )\n",
      "    (cal_embedding): Embedding(31, 16)\n",
      "    (rnns): ModuleList(\n",
      "      (0): LSTM(132, 128, bidirectional=True)\n",
      "      (1): LSTM(256, 128, bidirectional=True)\n",
      "    )\n",
      "    (rnn_dropouts): ModuleList(\n",
      "      (0): Dropout(p=0.2, inplace=False)\n",
      "    )\n",
      "  )\n",
      "  (decoder): AttnDecoder(\n",
      "    (embeddings): ModuleList(\n",
      "      (0): Embedding(3049, 50)\n",
      "      (1): Embedding(7, 4)\n",
      "      (2): Embedding(3, 2)\n",
      "      (3): Embedding(10, 5)\n",
      "      (4): Embedding(3, 2)\n",
      "    )\n",
      "    (cal_embedding): Embedding(31, 16)\n",
      "    (attns): ModuleList(\n",
      "      (0): Linear(in_features=644, out_features=364, bias=True)\n",
      "      (1): Linear(in_features=644, out_features=364, bias=True)\n",
      "    )\n",
      "    (attn_combine): ModuleList(\n",
      "      (0): Linear(in_features=256, out_features=128, bias=True)\n",
      "      (1): Linear(in_features=256, out_features=128, bias=True)\n",
      "    )\n",
      "    (rnns): ModuleList(\n",
      "      (0): LSTM(132, 128, bidirectional=True)\n",
      "      (1): LSTM(256, 128, bidirectional=True)\n",
      "    )\n",
      "    (rnn_dropouts): ModuleList(\n",
      "      (0): Dropout(p=0.0, inplace=False)\n",
      "    )\n",
      "    (pred): Linear(in_features=256, out_features=1, bias=True)\n",
      "  )\n",
      ")\n",
      "\n",
      "*************************************** Loading Data **************************************\n"
     ]
    },
    {
     "name": "stderr",
     "output_type": "stream",
     "text": [
      "  0%|          | 0/834 [00:00<?, ?it/s]"
     ]
    },
    {
     "name": "stdout",
     "output_type": "stream",
     "text": [
      "***************************************** Training ****************************************\n",
      "\n",
      "xxxxxxxxxxxxxxxxxxxxxxxxxxxxxxxxxxxxxx Epoch [1/200] xxxxxxxxxxxxxxxxxxxxxxxxxxxxxxxxxxxxxx\n"
     ]
    },
    {
     "name": "stderr",
     "output_type": "stream",
     "text": [
      "loss = 0.804 : 100%|██████████| 834/834 [03:53<00:00,  3.57it/s]\n",
      "             : 100%|██████████| 60/60 [00:05<00:00, 11.76it/s]\n",
      "  0%|          | 0/834 [00:00<?, ?it/s]"
     ]
    },
    {
     "name": "stdout",
     "output_type": "stream",
     "text": [
      "Training Loss: 0.8041, Training Error: 0.8723, Training Secondary Error: 0.7539\n",
      "Validation Loss: 0.8467, Validation Error: 0.9791, Validation Secondary Error: 0.7582\n",
      "Best model obtained at the end of epoch 1\n",
      "xxxxxxxxxxxxxxxxxxxxxxxxxxxxxxxxxxxxxx Epoch [2/200] xxxxxxxxxxxxxxxxxxxxxxxxxxxxxxxxxxxxxx\n"
     ]
    },
    {
     "name": "stderr",
     "output_type": "stream",
     "text": [
      "loss = 0.782 : 100%|██████████| 834/834 [03:52<00:00,  3.58it/s]\n",
      "             : 100%|██████████| 60/60 [00:05<00:00, 11.76it/s]\n",
      "  0%|          | 0/834 [00:00<?, ?it/s]"
     ]
    },
    {
     "name": "stdout",
     "output_type": "stream",
     "text": [
      "Training Loss: 0.7818, Training Error: 0.7857, Training Secondary Error: 0.7402\n",
      "Validation Loss: 0.8430, Validation Error: 1.0257, Validation Secondary Error: 0.7567\n",
      "xxxxxxxxxxxxxxxxxxxxxxxxxxxxxxxxxxxxxx Epoch [3/200] xxxxxxxxxxxxxxxxxxxxxxxxxxxxxxxxxxxxxx\n"
     ]
    },
    {
     "name": "stderr",
     "output_type": "stream",
     "text": [
      "loss = 0.773 : 100%|██████████| 834/834 [03:53<00:00,  3.58it/s]\n",
      "             : 100%|██████████| 60/60 [00:05<00:00, 11.68it/s]\n",
      "  0%|          | 0/834 [00:00<?, ?it/s]"
     ]
    },
    {
     "name": "stdout",
     "output_type": "stream",
     "text": [
      "Training Loss: 0.7726, Training Error: 0.7319, Training Secondary Error: 0.7361\n",
      "Validation Loss: 0.8380, Validation Error: 0.9863, Validation Secondary Error: 0.7546\n",
      "xxxxxxxxxxxxxxxxxxxxxxxxxxxxxxxxxxxxxx Epoch [4/200] xxxxxxxxxxxxxxxxxxxxxxxxxxxxxxxxxxxxxx\n"
     ]
    },
    {
     "name": "stderr",
     "output_type": "stream",
     "text": [
      "loss = 0.767 : 100%|██████████| 834/834 [03:53<00:00,  3.56it/s]\n",
      "             : 100%|██████████| 60/60 [00:05<00:00, 11.63it/s]\n",
      "  0%|          | 0/834 [00:00<?, ?it/s]"
     ]
    },
    {
     "name": "stdout",
     "output_type": "stream",
     "text": [
      "Training Loss: 0.7673, Training Error: 0.6935, Training Secondary Error: 0.7341\n",
      "Validation Loss: 0.8347, Validation Error: 0.9450, Validation Secondary Error: 0.7552\n",
      "Best model obtained at the end of epoch 4\n",
      "xxxxxxxxxxxxxxxxxxxxxxxxxxxxxxxxxxxxxx Epoch [5/200] xxxxxxxxxxxxxxxxxxxxxxxxxxxxxxxxxxxxxx\n"
     ]
    },
    {
     "name": "stderr",
     "output_type": "stream",
     "text": [
      "loss = 0.763 : 100%|██████████| 834/834 [03:53<00:00,  3.57it/s]\n",
      "             : 100%|██████████| 60/60 [00:05<00:00, 11.29it/s]\n",
      "  0%|          | 0/834 [00:00<?, ?it/s]"
     ]
    },
    {
     "name": "stdout",
     "output_type": "stream",
     "text": [
      "Training Loss: 0.7628, Training Error: 0.6817, Training Secondary Error: 0.7333\n",
      "Validation Loss: 0.8390, Validation Error: 1.1808, Validation Secondary Error: 0.7563\n",
      "xxxxxxxxxxxxxxxxxxxxxxxxxxxxxxxxxxxxxx Epoch [6/200] xxxxxxxxxxxxxxxxxxxxxxxxxxxxxxxxxxxxxx\n"
     ]
    },
    {
     "name": "stderr",
     "output_type": "stream",
     "text": [
      "loss = 0.760 : 100%|██████████| 834/834 [03:53<00:00,  3.56it/s]\n",
      "             : 100%|██████████| 60/60 [00:05<00:00, 11.34it/s]\n",
      "  0%|          | 0/834 [00:00<?, ?it/s]"
     ]
    },
    {
     "name": "stdout",
     "output_type": "stream",
     "text": [
      "Training Loss: 0.7596, Training Error: 0.6830, Training Secondary Error: 0.7324\n",
      "Validation Loss: 0.8312, Validation Error: 0.8864, Validation Secondary Error: 0.7533\n",
      "Best model obtained at the end of epoch 6\n",
      "xxxxxxxxxxxxxxxxxxxxxxxxxxxxxxxxxxxxxx Epoch [7/200] xxxxxxxxxxxxxxxxxxxxxxxxxxxxxxxxxxxxxx\n"
     ]
    },
    {
     "name": "stderr",
     "output_type": "stream",
     "text": [
      "loss = 0.757 : 100%|██████████| 834/834 [03:53<00:00,  3.57it/s]\n",
      "             : 100%|██████████| 60/60 [00:05<00:00, 11.70it/s]\n",
      "  0%|          | 0/834 [00:00<?, ?it/s]"
     ]
    },
    {
     "name": "stdout",
     "output_type": "stream",
     "text": [
      "Training Loss: 0.7566, Training Error: 0.6757, Training Secondary Error: 0.7321\n",
      "Validation Loss: 0.8363, Validation Error: 0.7556, Validation Secondary Error: 0.7540\n",
      "Best model obtained at the end of epoch 7\n",
      "xxxxxxxxxxxxxxxxxxxxxxxxxxxxxxxxxxxxxx Epoch [8/200] xxxxxxxxxxxxxxxxxxxxxxxxxxxxxxxxxxxxxx\n"
     ]
    },
    {
     "name": "stderr",
     "output_type": "stream",
     "text": [
      "loss = 0.753 : 100%|██████████| 834/834 [03:53<00:00,  3.57it/s]\n",
      "             : 100%|██████████| 60/60 [00:05<00:00, 11.45it/s]\n",
      "  0%|          | 0/834 [00:00<?, ?it/s]"
     ]
    },
    {
     "name": "stdout",
     "output_type": "stream",
     "text": [
      "Training Loss: 0.7534, Training Error: 0.6985, Training Secondary Error: 0.7312\n",
      "Validation Loss: 0.8362, Validation Error: 0.9192, Validation Secondary Error: 0.7540\n",
      "xxxxxxxxxxxxxxxxxxxxxxxxxxxxxxxxxxxxxx Epoch [9/200] xxxxxxxxxxxxxxxxxxxxxxxxxxxxxxxxxxxxxx\n"
     ]
    },
    {
     "name": "stderr",
     "output_type": "stream",
     "text": [
      "loss = 0.750 : 100%|██████████| 834/834 [03:54<00:00,  3.56it/s]\n",
      "             : 100%|██████████| 60/60 [00:05<00:00, 11.46it/s]\n",
      "  0%|          | 0/834 [00:00<?, ?it/s]"
     ]
    },
    {
     "name": "stdout",
     "output_type": "stream",
     "text": [
      "Training Loss: 0.7503, Training Error: 0.6804, Training Secondary Error: 0.7306\n",
      "Validation Loss: 0.8408, Validation Error: 1.0948, Validation Secondary Error: 0.7551\n",
      "xxxxxxxxxxxxxxxxxxxxxxxxxxxxxxxxxxxxxx Epoch [10/200] xxxxxxxxxxxxxxxxxxxxxxxxxxxxxxxxxxxxx\n"
     ]
    },
    {
     "name": "stderr",
     "output_type": "stream",
     "text": [
      "loss = 0.748 : 100%|██████████| 834/834 [03:53<00:00,  3.57it/s]\n",
      "             : 100%|██████████| 60/60 [00:05<00:00, 11.68it/s]\n",
      "  0%|          | 0/834 [00:00<?, ?it/s]"
     ]
    },
    {
     "name": "stdout",
     "output_type": "stream",
     "text": [
      "Training Loss: 0.7479, Training Error: 0.6662, Training Secondary Error: 0.7296\n",
      "Validation Loss: 0.8364, Validation Error: 0.9820, Validation Secondary Error: 0.7541\n",
      "xxxxxxxxxxxxxxxxxxxxxxxxxxxxxxxxxxxxxx Epoch [11/200] xxxxxxxxxxxxxxxxxxxxxxxxxxxxxxxxxxxxx\n"
     ]
    },
    {
     "name": "stderr",
     "output_type": "stream",
     "text": [
      "loss = 0.745 : 100%|██████████| 834/834 [03:53<00:00,  3.57it/s]\n",
      "             : 100%|██████████| 60/60 [00:05<00:00, 11.31it/s]\n",
      "  0%|          | 0/834 [00:00<?, ?it/s]"
     ]
    },
    {
     "name": "stdout",
     "output_type": "stream",
     "text": [
      "Training Loss: 0.7454, Training Error: 0.6658, Training Secondary Error: 0.7291\n",
      "Validation Loss: 0.8415, Validation Error: 1.1320, Validation Secondary Error: 0.7553\n",
      "Epoch 00011: reducing learning rate of group 0 to 1.5000e-04.\n",
      "xxxxxxxxxxxxxxxxxxxxxxxxxxxxxxxxxxxxxx Epoch [12/200] xxxxxxxxxxxxxxxxxxxxxxxxxxxxxxxxxxxxx\n"
     ]
    },
    {
     "name": "stderr",
     "output_type": "stream",
     "text": [
      "loss = 0.738 : 100%|██████████| 834/834 [03:53<00:00,  3.57it/s]\n",
      "             : 100%|██████████| 60/60 [00:05<00:00, 11.16it/s]\n",
      "  0%|          | 0/834 [00:00<?, ?it/s]"
     ]
    },
    {
     "name": "stdout",
     "output_type": "stream",
     "text": [
      "Training Loss: 0.7379, Training Error: 0.6554, Training Secondary Error: 0.7274\n",
      "Validation Loss: 0.8449, Validation Error: 0.9492, Validation Secondary Error: 0.7544\n",
      "xxxxxxxxxxxxxxxxxxxxxxxxxxxxxxxxxxxxxx Epoch [13/200] xxxxxxxxxxxxxxxxxxxxxxxxxxxxxxxxxxxxx\n"
     ]
    },
    {
     "name": "stderr",
     "output_type": "stream",
     "text": [
      "loss = 0.736 : 100%|██████████| 834/834 [03:53<00:00,  3.57it/s]\n",
      "             : 100%|██████████| 60/60 [00:05<00:00, 11.61it/s]\n",
      "  0%|          | 0/834 [00:00<?, ?it/s]"
     ]
    },
    {
     "name": "stdout",
     "output_type": "stream",
     "text": [
      "Training Loss: 0.7364, Training Error: 0.6339, Training Secondary Error: 0.7269\n",
      "Validation Loss: 0.8386, Validation Error: 1.0163, Validation Secondary Error: 0.7539\n",
      "xxxxxxxxxxxxxxxxxxxxxxxxxxxxxxxxxxxxxx Epoch [14/200] xxxxxxxxxxxxxxxxxxxxxxxxxxxxxxxxxxxxx\n"
     ]
    },
    {
     "name": "stderr",
     "output_type": "stream",
     "text": [
      "loss = 0.735 : 100%|██████████| 834/834 [03:54<00:00,  3.56it/s]\n",
      "             : 100%|██████████| 60/60 [00:05<00:00, 11.57it/s]\n",
      "  0%|          | 0/834 [00:00<?, ?it/s]"
     ]
    },
    {
     "name": "stdout",
     "output_type": "stream",
     "text": [
      "Training Loss: 0.7345, Training Error: 0.6293, Training Secondary Error: 0.7267\n",
      "Validation Loss: 0.8432, Validation Error: 0.7349, Validation Secondary Error: 0.7534\n",
      "Best model obtained at the end of epoch 14\n",
      "xxxxxxxxxxxxxxxxxxxxxxxxxxxxxxxxxxxxxx Epoch [15/200] xxxxxxxxxxxxxxxxxxxxxxxxxxxxxxxxxxxxx\n"
     ]
    },
    {
     "name": "stderr",
     "output_type": "stream",
     "text": [
      "loss = 0.732 : 100%|██████████| 834/834 [03:53<00:00,  3.57it/s]\n",
      "             : 100%|██████████| 60/60 [00:05<00:00, 11.26it/s]\n",
      "  0%|          | 0/834 [00:00<?, ?it/s]"
     ]
    },
    {
     "name": "stdout",
     "output_type": "stream",
     "text": [
      "Training Loss: 0.7325, Training Error: 0.6351, Training Secondary Error: 0.7268\n",
      "Validation Loss: 0.8465, Validation Error: 0.9661, Validation Secondary Error: 0.7552\n",
      "xxxxxxxxxxxxxxxxxxxxxxxxxxxxxxxxxxxxxx Epoch [16/200] xxxxxxxxxxxxxxxxxxxxxxxxxxxxxxxxxxxxx\n"
     ]
    },
    {
     "name": "stderr",
     "output_type": "stream",
     "text": [
      "loss = 0.731 : 100%|██████████| 834/834 [03:53<00:00,  3.57it/s]\n",
      "             : 100%|██████████| 60/60 [00:05<00:00, 11.55it/s]\n",
      "  0%|          | 0/834 [00:00<?, ?it/s]"
     ]
    },
    {
     "name": "stdout",
     "output_type": "stream",
     "text": [
      "Training Loss: 0.7310, Training Error: 0.6317, Training Secondary Error: 0.7262\n",
      "Validation Loss: 0.8472, Validation Error: 1.0464, Validation Secondary Error: 0.7551\n",
      "xxxxxxxxxxxxxxxxxxxxxxxxxxxxxxxxxxxxxx Epoch [17/200] xxxxxxxxxxxxxxxxxxxxxxxxxxxxxxxxxxxxx\n"
     ]
    },
    {
     "name": "stderr",
     "output_type": "stream",
     "text": [
      "loss = 0.730 : 100%|██████████| 834/834 [03:52<00:00,  3.58it/s]\n",
      "             : 100%|██████████| 60/60 [00:05<00:00, 11.29it/s]\n",
      "  0%|          | 0/834 [00:00<?, ?it/s]"
     ]
    },
    {
     "name": "stdout",
     "output_type": "stream",
     "text": [
      "Training Loss: 0.7298, Training Error: 0.6596, Training Secondary Error: 0.7260\n",
      "Validation Loss: 0.8516, Validation Error: 1.0190, Validation Secondary Error: 0.7560\n",
      "xxxxxxxxxxxxxxxxxxxxxxxxxxxxxxxxxxxxxx Epoch [18/200] xxxxxxxxxxxxxxxxxxxxxxxxxxxxxxxxxxxxx\n"
     ]
    },
    {
     "name": "stderr",
     "output_type": "stream",
     "text": [
      "loss = 0.729 : 100%|██████████| 834/834 [03:53<00:00,  3.58it/s]\n",
      "             : 100%|██████████| 60/60 [00:05<00:00, 11.10it/s]\n",
      "  0%|          | 0/834 [00:00<?, ?it/s]"
     ]
    },
    {
     "name": "stdout",
     "output_type": "stream",
     "text": [
      "Training Loss: 0.7287, Training Error: 0.6201, Training Secondary Error: 0.7259\n",
      "Validation Loss: 0.8489, Validation Error: 0.9057, Validation Secondary Error: 0.7549\n",
      "Epoch 00018: reducing learning rate of group 0 to 7.5000e-05.\n",
      "xxxxxxxxxxxxxxxxxxxxxxxxxxxxxxxxxxxxxx Epoch [19/200] xxxxxxxxxxxxxxxxxxxxxxxxxxxxxxxxxxxxx\n"
     ]
    },
    {
     "name": "stderr",
     "output_type": "stream",
     "text": [
      "loss = 0.724 : 100%|██████████| 834/834 [03:53<00:00,  3.57it/s]\n",
      "             : 100%|██████████| 60/60 [00:05<00:00, 11.38it/s]\n",
      "  0%|          | 0/834 [00:00<?, ?it/s]"
     ]
    },
    {
     "name": "stdout",
     "output_type": "stream",
     "text": [
      "Training Loss: 0.7244, Training Error: 0.6198, Training Secondary Error: 0.7251\n",
      "Validation Loss: 0.8519, Validation Error: 1.1145, Validation Secondary Error: 0.7571\n",
      "xxxxxxxxxxxxxxxxxxxxxxxxxxxxxxxxxxxxxx Epoch [20/200] xxxxxxxxxxxxxxxxxxxxxxxxxxxxxxxxxxxxx\n"
     ]
    },
    {
     "name": "stderr",
     "output_type": "stream",
     "text": [
      "loss = 0.723 : 100%|██████████| 834/834 [03:54<00:00,  3.56it/s]\n",
      "             : 100%|██████████| 60/60 [00:05<00:00, 11.77it/s]\n",
      "  0%|          | 0/834 [00:00<?, ?it/s]"
     ]
    },
    {
     "name": "stdout",
     "output_type": "stream",
     "text": [
      "Training Loss: 0.7226, Training Error: 0.6178, Training Secondary Error: 0.7250\n",
      "Validation Loss: 0.8483, Validation Error: 1.0197, Validation Secondary Error: 0.7558\n",
      "xxxxxxxxxxxxxxxxxxxxxxxxxxxxxxxxxxxxxx Epoch [21/200] xxxxxxxxxxxxxxxxxxxxxxxxxxxxxxxxxxxxx\n"
     ]
    },
    {
     "name": "stderr",
     "output_type": "stream",
     "text": [
      "loss = 0.722 : 100%|██████████| 834/834 [03:54<00:00,  3.56it/s]\n",
      "             : 100%|██████████| 60/60 [00:05<00:00, 11.52it/s]\n",
      "  0%|          | 0/834 [00:00<?, ?it/s]"
     ]
    },
    {
     "name": "stdout",
     "output_type": "stream",
     "text": [
      "Training Loss: 0.7218, Training Error: 0.6222, Training Secondary Error: 0.7249\n",
      "Validation Loss: 0.8551, Validation Error: 1.1688, Validation Secondary Error: 0.7581\n",
      "xxxxxxxxxxxxxxxxxxxxxxxxxxxxxxxxxxxxxx Epoch [22/200] xxxxxxxxxxxxxxxxxxxxxxxxxxxxxxxxxxxxx\n"
     ]
    },
    {
     "name": "stderr",
     "output_type": "stream",
     "text": [
      "loss = 0.721 : 100%|██████████| 834/834 [03:54<00:00,  3.56it/s]\n",
      "             : 100%|██████████| 60/60 [00:05<00:00, 11.84it/s]\n",
      "  0%|          | 0/834 [00:00<?, ?it/s]"
     ]
    },
    {
     "name": "stdout",
     "output_type": "stream",
     "text": [
      "Training Loss: 0.7207, Training Error: 0.6064, Training Secondary Error: 0.7249\n",
      "Validation Loss: 0.8512, Validation Error: 1.0834, Validation Secondary Error: 0.7568\n",
      "Epoch 00022: reducing learning rate of group 0 to 3.7500e-05.\n",
      "xxxxxxxxxxxxxxxxxxxxxxxxxxxxxxxxxxxxxx Epoch [23/200] xxxxxxxxxxxxxxxxxxxxxxxxxxxxxxxxxxxxx\n"
     ]
    },
    {
     "name": "stderr",
     "output_type": "stream",
     "text": [
      "loss = 0.719 : 100%|██████████| 834/834 [03:54<00:00,  3.56it/s]\n",
      "             : 100%|██████████| 60/60 [00:05<00:00, 11.69it/s]\n",
      "  0%|          | 0/834 [00:00<?, ?it/s]"
     ]
    },
    {
     "name": "stdout",
     "output_type": "stream",
     "text": [
      "Training Loss: 0.7187, Training Error: 0.6013, Training Secondary Error: 0.7245\n",
      "Validation Loss: 0.8490, Validation Error: 1.0338, Validation Secondary Error: 0.7561\n",
      "xxxxxxxxxxxxxxxxxxxxxxxxxxxxxxxxxxxxxx Epoch [24/200] xxxxxxxxxxxxxxxxxxxxxxxxxxxxxxxxxxxxx\n"
     ]
    },
    {
     "name": "stderr",
     "output_type": "stream",
     "text": [
      "loss = 0.717 : 100%|██████████| 834/834 [03:53<00:00,  3.57it/s]\n",
      "             : 100%|██████████| 60/60 [00:05<00:00, 11.72it/s]\n"
     ]
    },
    {
     "name": "stdout",
     "output_type": "stream",
     "text": [
      "Training Loss: 0.7174, Training Error: 0.6020, Training Secondary Error: 0.7242\n",
      "Validation Loss: 0.8496, Validation Error: 1.0983, Validation Secondary Error: 0.7567\n",
      "************************************* Training Stopped*************************************\n",
      "Early stopping triggered after epoch 24\n"
     ]
    }
   ],
   "source": [
    "terminal_width = shutil.get_terminal_size((80, 20)).columns\n",
    "# Check if k-fold training is enabled\n",
    "if config.k_fold:\n",
    "    print(f' K-fold Training '.center(terminal_width, '*'))\n",
    "\n",
    "    # If resuming model training, start training from specified fold\n",
    "    start_fold = config.resume_from_fold - 1 if config.resume_training else 0\n",
    "\n",
    "    # Loop over all folds and train model using the corresponding fold config\n",
    "    for fold, [fold_train_ts, fold_val_ts] in enumerate(config.k_fold_splits):\n",
    "        if fold < start_fold:\n",
    "            continue\n",
    "        config.fold = fold + 1\n",
    "        print()\n",
    "        print(f' Fold [{config.fold}/{len(config.k_fold_splits)}] '.center(terminal_width, '*'))\n",
    "        config.training_ts, config.validation_ts = fold_train_ts, fold_val_ts\n",
    "\n",
    "        trainer = Trainer(config)\n",
    "        trainer.train()\n",
    "        config.resume_training = False  # Train future folds from the beginning\n",
    "else:\n",
    "    config.fold = None\n",
    "    trainer = Trainer(config)\n",
    "    trainer.train()"
   ]
  },
  {
   "cell_type": "markdown",
   "id": "ebfb033a-7d5f-481d-bd5d-0eccfd0fa3af",
   "metadata": {},
   "source": [
    "### Submission "
   ]
  },
  {
   "cell_type": "code",
   "execution_count": 3,
   "id": "76fb41d1-fcf7-419e-a4e9-1bb17cf62dfa",
   "metadata": {
    "collapsed": true,
    "jupyter": {
     "outputs_hidden": true
    },
    "tags": []
   },
   "outputs": [
    {
     "name": "stdout",
     "output_type": "stream",
     "text": [
      "******************************* Model: seq2seq_w_attn_on_hid ******************************\n",
      "\n",
      "Seq2Seq(\n",
      "  (encoder): Encoder(\n",
      "    (embeddings): ModuleList(\n",
      "      (0): Embedding(3049, 50)\n",
      "      (1): Embedding(7, 4)\n",
      "      (2): Embedding(3, 2)\n",
      "      (3): Embedding(10, 5)\n",
      "      (4): Embedding(3, 2)\n",
      "    )\n",
      "    (cal_embedding): Embedding(31, 16)\n",
      "    (rnns): ModuleList(\n",
      "      (0): LSTM(132, 128, bidirectional=True)\n",
      "      (1): LSTM(256, 128, bidirectional=True)\n",
      "    )\n",
      "    (rnn_dropouts): ModuleList(\n",
      "      (0): Dropout(p=0.2, inplace=False)\n",
      "    )\n",
      "  )\n",
      "  (decoder): AttnDecoder(\n",
      "    (embeddings): ModuleList(\n",
      "      (0): Embedding(3049, 50)\n",
      "      (1): Embedding(7, 4)\n",
      "      (2): Embedding(3, 2)\n",
      "      (3): Embedding(10, 5)\n",
      "      (4): Embedding(3, 2)\n",
      "    )\n",
      "    (cal_embedding): Embedding(31, 16)\n",
      "    (attns): ModuleList(\n",
      "      (0): Linear(in_features=644, out_features=364, bias=True)\n",
      "      (1): Linear(in_features=644, out_features=364, bias=True)\n",
      "    )\n",
      "    (attn_combine): ModuleList(\n",
      "      (0): Linear(in_features=256, out_features=128, bias=True)\n",
      "      (1): Linear(in_features=256, out_features=128, bias=True)\n",
      "    )\n",
      "    (rnns): ModuleList(\n",
      "      (0): LSTM(132, 128, bidirectional=True)\n",
      "      (1): LSTM(256, 128, bidirectional=True)\n",
      "    )\n",
      "    (rnn_dropouts): ModuleList(\n",
      "      (0): Dropout(p=0.0, inplace=False)\n",
      "    )\n",
      "    (pred): Linear(in_features=256, out_features=1, bias=True)\n",
      "  )\n",
      ")\n",
      "*************************************** Loading data **************************************\n"
     ]
    },
    {
     "name": "stderr",
     "output_type": "stream",
     "text": [
      "  0%|          | 0/60 [00:00<?, ?it/s]"
     ]
    },
    {
     "name": "stdout",
     "output_type": "stream",
     "text": [
      "\n",
      "**************************************** Fold [1/3] ***************************************\n",
      "***************************************** Predict *****************************************\n"
     ]
    },
    {
     "name": "stderr",
     "output_type": "stream",
     "text": [
      "100%|██████████| 60/60 [00:05<00:00, 11.62it/s]\n",
      "  0%|          | 0/60 [00:00<?, ?it/s]"
     ]
    },
    {
     "name": "stdout",
     "output_type": "stream",
     "text": [
      "\n",
      "**************************************** Fold [2/3] ***************************************\n",
      "***************************************** Predict *****************************************\n"
     ]
    },
    {
     "name": "stderr",
     "output_type": "stream",
     "text": [
      "100%|██████████| 60/60 [00:04<00:00, 12.30it/s]\n",
      "  0%|          | 0/60 [00:00<?, ?it/s]"
     ]
    },
    {
     "name": "stdout",
     "output_type": "stream",
     "text": [
      "\n",
      "**************************************** Fold [3/3] ***************************************\n",
      "***************************************** Predict *****************************************\n"
     ]
    },
    {
     "name": "stderr",
     "output_type": "stream",
     "text": [
      "100%|██████████| 60/60 [00:05<00:00, 11.60it/s]\n"
     ]
    },
    {
     "name": "stdout",
     "output_type": "stream",
     "text": [
      "Finished\n"
     ]
    }
   ],
   "source": [
    "predictor = SubmissionGenerator(config)\n",
    "predictor.generate_submission_file()\n",
    "print(\"Finished\")"
   ]
  },
  {
   "cell_type": "markdown",
   "id": "92f7ee8c-2816-41c3-9961-c8769d27cb07",
   "metadata": {},
   "source": [
    "### Ensemble"
   ]
  },
  {
   "cell_type": "code",
   "execution_count": 4,
   "id": "5e559e45-a943-49eb-87dc-1fcb690d0497",
   "metadata": {},
   "outputs": [],
   "source": [
    "acc1 = pd.read_csv('submission_accuracy1.csv')\n",
    "acc2 = pd.read_csv('submission_accuracy2.csv')"
   ]
  },
  {
   "cell_type": "code",
   "execution_count": 15,
   "id": "4b690d2f-bd0f-4814-90b1-7e35bdb6c32a",
   "metadata": {},
   "outputs": [
    {
     "data": {
      "text/html": [
       "<div>\n",
       "<style scoped>\n",
       "    .dataframe tbody tr th:only-of-type {\n",
       "        vertical-align: middle;\n",
       "    }\n",
       "\n",
       "    .dataframe tbody tr th {\n",
       "        vertical-align: top;\n",
       "    }\n",
       "\n",
       "    .dataframe thead th {\n",
       "        text-align: right;\n",
       "    }\n",
       "</style>\n",
       "<table border=\"1\" class=\"dataframe\">\n",
       "  <thead>\n",
       "    <tr style=\"text-align: right;\">\n",
       "      <th></th>\n",
       "      <th>id</th>\n",
       "      <th>F1</th>\n",
       "      <th>F2</th>\n",
       "      <th>F3</th>\n",
       "      <th>F4</th>\n",
       "      <th>F5</th>\n",
       "      <th>F6</th>\n",
       "      <th>F7</th>\n",
       "      <th>F8</th>\n",
       "      <th>F9</th>\n",
       "      <th>...</th>\n",
       "      <th>F19</th>\n",
       "      <th>F20</th>\n",
       "      <th>F21</th>\n",
       "      <th>F22</th>\n",
       "      <th>F23</th>\n",
       "      <th>F24</th>\n",
       "      <th>F25</th>\n",
       "      <th>F26</th>\n",
       "      <th>F27</th>\n",
       "      <th>F28</th>\n",
       "    </tr>\n",
       "  </thead>\n",
       "  <tbody>\n",
       "    <tr>\n",
       "      <th>0</th>\n",
       "      <td>HOBBIES_1_001_CA_1_validation</td>\n",
       "      <td>0.959368</td>\n",
       "      <td>0.827354</td>\n",
       "      <td>0.806894</td>\n",
       "      <td>0.857102</td>\n",
       "      <td>0.993439</td>\n",
       "      <td>1.254688</td>\n",
       "      <td>1.163265</td>\n",
       "      <td>0.785335</td>\n",
       "      <td>0.778847</td>\n",
       "      <td>...</td>\n",
       "      <td>0.939305</td>\n",
       "      <td>1.208617</td>\n",
       "      <td>1.268865</td>\n",
       "      <td>0.865989</td>\n",
       "      <td>0.760668</td>\n",
       "      <td>0.789995</td>\n",
       "      <td>0.792125</td>\n",
       "      <td>0.924004</td>\n",
       "      <td>1.223181</td>\n",
       "      <td>1.134399</td>\n",
       "    </tr>\n",
       "    <tr>\n",
       "      <th>1</th>\n",
       "      <td>HOBBIES_1_002_CA_1_validation</td>\n",
       "      <td>0.280440</td>\n",
       "      <td>0.259012</td>\n",
       "      <td>0.250708</td>\n",
       "      <td>0.251630</td>\n",
       "      <td>0.278000</td>\n",
       "      <td>0.332380</td>\n",
       "      <td>0.336205</td>\n",
       "      <td>0.259463</td>\n",
       "      <td>0.237693</td>\n",
       "      <td>...</td>\n",
       "      <td>0.293774</td>\n",
       "      <td>0.344829</td>\n",
       "      <td>0.359349</td>\n",
       "      <td>0.300316</td>\n",
       "      <td>0.271511</td>\n",
       "      <td>0.287689</td>\n",
       "      <td>0.270545</td>\n",
       "      <td>0.287628</td>\n",
       "      <td>0.360995</td>\n",
       "      <td>0.367237</td>\n",
       "    </tr>\n",
       "    <tr>\n",
       "      <th>2</th>\n",
       "      <td>HOBBIES_1_003_CA_1_validation</td>\n",
       "      <td>0.677685</td>\n",
       "      <td>0.579285</td>\n",
       "      <td>0.595924</td>\n",
       "      <td>0.604197</td>\n",
       "      <td>0.682426</td>\n",
       "      <td>0.862951</td>\n",
       "      <td>0.852613</td>\n",
       "      <td>0.618496</td>\n",
       "      <td>0.537066</td>\n",
       "      <td>...</td>\n",
       "      <td>0.664081</td>\n",
       "      <td>0.821295</td>\n",
       "      <td>0.860839</td>\n",
       "      <td>0.607971</td>\n",
       "      <td>0.520692</td>\n",
       "      <td>0.556793</td>\n",
       "      <td>0.563356</td>\n",
       "      <td>0.639676</td>\n",
       "      <td>0.784885</td>\n",
       "      <td>0.807214</td>\n",
       "    </tr>\n",
       "    <tr>\n",
       "      <th>3</th>\n",
       "      <td>HOBBIES_1_004_CA_1_validation</td>\n",
       "      <td>2.048713</td>\n",
       "      <td>1.630454</td>\n",
       "      <td>1.541550</td>\n",
       "      <td>1.530122</td>\n",
       "      <td>1.724096</td>\n",
       "      <td>2.147000</td>\n",
       "      <td>2.377202</td>\n",
       "      <td>1.753036</td>\n",
       "      <td>1.486690</td>\n",
       "      <td>...</td>\n",
       "      <td>1.725735</td>\n",
       "      <td>2.061411</td>\n",
       "      <td>2.371427</td>\n",
       "      <td>1.974886</td>\n",
       "      <td>1.529414</td>\n",
       "      <td>1.575106</td>\n",
       "      <td>1.481741</td>\n",
       "      <td>1.604859</td>\n",
       "      <td>2.004601</td>\n",
       "      <td>2.179018</td>\n",
       "    </tr>\n",
       "    <tr>\n",
       "      <th>4</th>\n",
       "      <td>HOBBIES_1_005_CA_1_validation</td>\n",
       "      <td>1.249274</td>\n",
       "      <td>1.042946</td>\n",
       "      <td>1.031792</td>\n",
       "      <td>1.072321</td>\n",
       "      <td>1.195399</td>\n",
       "      <td>1.419953</td>\n",
       "      <td>1.478983</td>\n",
       "      <td>1.110036</td>\n",
       "      <td>1.017597</td>\n",
       "      <td>...</td>\n",
       "      <td>1.260768</td>\n",
       "      <td>1.443914</td>\n",
       "      <td>1.626936</td>\n",
       "      <td>1.351698</td>\n",
       "      <td>1.117338</td>\n",
       "      <td>1.123561</td>\n",
       "      <td>1.090819</td>\n",
       "      <td>1.195456</td>\n",
       "      <td>1.427388</td>\n",
       "      <td>1.441214</td>\n",
       "    </tr>\n",
       "    <tr>\n",
       "      <th>...</th>\n",
       "      <td>...</td>\n",
       "      <td>...</td>\n",
       "      <td>...</td>\n",
       "      <td>...</td>\n",
       "      <td>...</td>\n",
       "      <td>...</td>\n",
       "      <td>...</td>\n",
       "      <td>...</td>\n",
       "      <td>...</td>\n",
       "      <td>...</td>\n",
       "      <td>...</td>\n",
       "      <td>...</td>\n",
       "      <td>...</td>\n",
       "      <td>...</td>\n",
       "      <td>...</td>\n",
       "      <td>...</td>\n",
       "      <td>...</td>\n",
       "      <td>...</td>\n",
       "      <td>...</td>\n",
       "      <td>...</td>\n",
       "      <td>...</td>\n",
       "    </tr>\n",
       "    <tr>\n",
       "      <th>60975</th>\n",
       "      <td>FOODS_3_823_WI_3_evaluation</td>\n",
       "      <td>0.565978</td>\n",
       "      <td>0.483851</td>\n",
       "      <td>0.472235</td>\n",
       "      <td>0.512839</td>\n",
       "      <td>0.596433</td>\n",
       "      <td>0.644430</td>\n",
       "      <td>0.608201</td>\n",
       "      <td>0.518622</td>\n",
       "      <td>0.449610</td>\n",
       "      <td>...</td>\n",
       "      <td>0.686820</td>\n",
       "      <td>0.807551</td>\n",
       "      <td>0.833425</td>\n",
       "      <td>0.607921</td>\n",
       "      <td>0.575574</td>\n",
       "      <td>0.597057</td>\n",
       "      <td>0.524966</td>\n",
       "      <td>0.589315</td>\n",
       "      <td>0.735250</td>\n",
       "      <td>0.775785</td>\n",
       "    </tr>\n",
       "    <tr>\n",
       "      <th>60976</th>\n",
       "      <td>FOODS_3_824_WI_3_evaluation</td>\n",
       "      <td>0.128115</td>\n",
       "      <td>0.137164</td>\n",
       "      <td>0.136292</td>\n",
       "      <td>0.131695</td>\n",
       "      <td>0.138286</td>\n",
       "      <td>0.162993</td>\n",
       "      <td>0.169088</td>\n",
       "      <td>0.160532</td>\n",
       "      <td>0.156581</td>\n",
       "      <td>...</td>\n",
       "      <td>0.127142</td>\n",
       "      <td>0.125272</td>\n",
       "      <td>0.133109</td>\n",
       "      <td>0.121551</td>\n",
       "      <td>0.115290</td>\n",
       "      <td>0.108747</td>\n",
       "      <td>0.108442</td>\n",
       "      <td>0.124026</td>\n",
       "      <td>0.143446</td>\n",
       "      <td>0.143909</td>\n",
       "    </tr>\n",
       "    <tr>\n",
       "      <th>60977</th>\n",
       "      <td>FOODS_3_825_WI_3_evaluation</td>\n",
       "      <td>0.775550</td>\n",
       "      <td>0.596548</td>\n",
       "      <td>0.572681</td>\n",
       "      <td>0.572004</td>\n",
       "      <td>0.672388</td>\n",
       "      <td>0.885723</td>\n",
       "      <td>0.872184</td>\n",
       "      <td>0.648712</td>\n",
       "      <td>0.574974</td>\n",
       "      <td>...</td>\n",
       "      <td>0.847448</td>\n",
       "      <td>1.076683</td>\n",
       "      <td>1.175389</td>\n",
       "      <td>0.888691</td>\n",
       "      <td>0.768962</td>\n",
       "      <td>0.807859</td>\n",
       "      <td>0.700208</td>\n",
       "      <td>0.717550</td>\n",
       "      <td>0.858698</td>\n",
       "      <td>1.031268</td>\n",
       "    </tr>\n",
       "    <tr>\n",
       "      <th>60978</th>\n",
       "      <td>FOODS_3_826_WI_3_evaluation</td>\n",
       "      <td>1.220891</td>\n",
       "      <td>1.119734</td>\n",
       "      <td>1.042001</td>\n",
       "      <td>1.068697</td>\n",
       "      <td>1.188250</td>\n",
       "      <td>1.419477</td>\n",
       "      <td>1.482532</td>\n",
       "      <td>1.193560</td>\n",
       "      <td>1.014126</td>\n",
       "      <td>...</td>\n",
       "      <td>1.303673</td>\n",
       "      <td>1.548703</td>\n",
       "      <td>1.715197</td>\n",
       "      <td>1.515316</td>\n",
       "      <td>1.251600</td>\n",
       "      <td>1.266325</td>\n",
       "      <td>1.208384</td>\n",
       "      <td>1.235596</td>\n",
       "      <td>1.460233</td>\n",
       "      <td>1.534962</td>\n",
       "    </tr>\n",
       "    <tr>\n",
       "      <th>60979</th>\n",
       "      <td>FOODS_3_827_WI_3_evaluation</td>\n",
       "      <td>1.797267</td>\n",
       "      <td>1.461622</td>\n",
       "      <td>1.528012</td>\n",
       "      <td>1.611198</td>\n",
       "      <td>1.872818</td>\n",
       "      <td>2.297550</td>\n",
       "      <td>2.285222</td>\n",
       "      <td>1.923780</td>\n",
       "      <td>1.617695</td>\n",
       "      <td>...</td>\n",
       "      <td>2.195318</td>\n",
       "      <td>2.692615</td>\n",
       "      <td>2.800951</td>\n",
       "      <td>2.154773</td>\n",
       "      <td>1.861131</td>\n",
       "      <td>1.899086</td>\n",
       "      <td>1.782346</td>\n",
       "      <td>1.960982</td>\n",
       "      <td>2.407003</td>\n",
       "      <td>2.452910</td>\n",
       "    </tr>\n",
       "  </tbody>\n",
       "</table>\n",
       "<p>60980 rows × 29 columns</p>\n",
       "</div>"
      ],
      "text/plain": [
       "                                  id        F1        F2        F3        F4  \\\n",
       "0      HOBBIES_1_001_CA_1_validation  0.959368  0.827354  0.806894  0.857102   \n",
       "1      HOBBIES_1_002_CA_1_validation  0.280440  0.259012  0.250708  0.251630   \n",
       "2      HOBBIES_1_003_CA_1_validation  0.677685  0.579285  0.595924  0.604197   \n",
       "3      HOBBIES_1_004_CA_1_validation  2.048713  1.630454  1.541550  1.530122   \n",
       "4      HOBBIES_1_005_CA_1_validation  1.249274  1.042946  1.031792  1.072321   \n",
       "...                              ...       ...       ...       ...       ...   \n",
       "60975    FOODS_3_823_WI_3_evaluation  0.565978  0.483851  0.472235  0.512839   \n",
       "60976    FOODS_3_824_WI_3_evaluation  0.128115  0.137164  0.136292  0.131695   \n",
       "60977    FOODS_3_825_WI_3_evaluation  0.775550  0.596548  0.572681  0.572004   \n",
       "60978    FOODS_3_826_WI_3_evaluation  1.220891  1.119734  1.042001  1.068697   \n",
       "60979    FOODS_3_827_WI_3_evaluation  1.797267  1.461622  1.528012  1.611198   \n",
       "\n",
       "             F5        F6        F7        F8        F9  ...       F19  \\\n",
       "0      0.993439  1.254688  1.163265  0.785335  0.778847  ...  0.939305   \n",
       "1      0.278000  0.332380  0.336205  0.259463  0.237693  ...  0.293774   \n",
       "2      0.682426  0.862951  0.852613  0.618496  0.537066  ...  0.664081   \n",
       "3      1.724096  2.147000  2.377202  1.753036  1.486690  ...  1.725735   \n",
       "4      1.195399  1.419953  1.478983  1.110036  1.017597  ...  1.260768   \n",
       "...         ...       ...       ...       ...       ...  ...       ...   \n",
       "60975  0.596433  0.644430  0.608201  0.518622  0.449610  ...  0.686820   \n",
       "60976  0.138286  0.162993  0.169088  0.160532  0.156581  ...  0.127142   \n",
       "60977  0.672388  0.885723  0.872184  0.648712  0.574974  ...  0.847448   \n",
       "60978  1.188250  1.419477  1.482532  1.193560  1.014126  ...  1.303673   \n",
       "60979  1.872818  2.297550  2.285222  1.923780  1.617695  ...  2.195318   \n",
       "\n",
       "            F20       F21       F22       F23       F24       F25       F26  \\\n",
       "0      1.208617  1.268865  0.865989  0.760668  0.789995  0.792125  0.924004   \n",
       "1      0.344829  0.359349  0.300316  0.271511  0.287689  0.270545  0.287628   \n",
       "2      0.821295  0.860839  0.607971  0.520692  0.556793  0.563356  0.639676   \n",
       "3      2.061411  2.371427  1.974886  1.529414  1.575106  1.481741  1.604859   \n",
       "4      1.443914  1.626936  1.351698  1.117338  1.123561  1.090819  1.195456   \n",
       "...         ...       ...       ...       ...       ...       ...       ...   \n",
       "60975  0.807551  0.833425  0.607921  0.575574  0.597057  0.524966  0.589315   \n",
       "60976  0.125272  0.133109  0.121551  0.115290  0.108747  0.108442  0.124026   \n",
       "60977  1.076683  1.175389  0.888691  0.768962  0.807859  0.700208  0.717550   \n",
       "60978  1.548703  1.715197  1.515316  1.251600  1.266325  1.208384  1.235596   \n",
       "60979  2.692615  2.800951  2.154773  1.861131  1.899086  1.782346  1.960982   \n",
       "\n",
       "            F27       F28  \n",
       "0      1.223181  1.134399  \n",
       "1      0.360995  0.367237  \n",
       "2      0.784885  0.807214  \n",
       "3      2.004601  2.179018  \n",
       "4      1.427388  1.441214  \n",
       "...         ...       ...  \n",
       "60975  0.735250  0.775785  \n",
       "60976  0.143446  0.143909  \n",
       "60977  0.858698  1.031268  \n",
       "60978  1.460233  1.534962  \n",
       "60979  2.407003  2.452910  \n",
       "\n",
       "[60980 rows x 29 columns]"
      ]
     },
     "execution_count": 15,
     "metadata": {},
     "output_type": "execute_result"
    }
   ],
   "source": [
    "acc1"
   ]
  },
  {
   "cell_type": "code",
   "execution_count": 29,
   "id": "385b4750-fcb8-4baa-bd88-10c43521e8ff",
   "metadata": {},
   "outputs": [],
   "source": [
    "index = acc1['id']\n",
    "col = acc1.iloc[:,1:].columns\n",
    "ensemble_result = pd.DataFrame(np.mean([acc1.iloc[:,1:].to_numpy(), acc2.iloc[:,1:].to_numpy()], axis=0), columns=col)\n",
    "ensemble_result =  pd.concat([index, ensemble_result], axis=1)\n",
    "ensemble_result.to_csv('submission_accuray3.csv.gz', index=False, compression='gzip')"
   ]
  },
  {
   "cell_type": "code",
   "execution_count": null,
   "id": "e9493357-70b0-42b4-9ffd-440efc78eb57",
   "metadata": {},
   "outputs": [],
   "source": []
  }
 ],
 "metadata": {
  "kernelspec": {
   "display_name": "Python 3",
   "language": "python",
   "name": "python3"
  },
  "language_info": {
   "codemirror_mode": {
    "name": "ipython",
    "version": 3
   },
   "file_extension": ".py",
   "mimetype": "text/x-python",
   "name": "python",
   "nbconvert_exporter": "python",
   "pygments_lexer": "ipython3",
   "version": "3.8.10"
  }
 },
 "nbformat": 4,
 "nbformat_minor": 5
}
