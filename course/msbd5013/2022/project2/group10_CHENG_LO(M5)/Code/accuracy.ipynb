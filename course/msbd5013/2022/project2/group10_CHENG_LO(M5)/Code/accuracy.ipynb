{
 "cells": [
  {
   "cell_type": "code",
   "execution_count": 2,
   "metadata": {},
   "outputs": [],
   "source": [
    "import pandas as pd\n",
    "import numpy as np\n",
    "import seaborn as sns\n",
    "import matplotlib.pyplot as plt\n",
    "import sys\n",
    "sys.path.append('..')\n",
    "from utils import reduce_mem_usage\n",
    "#from catboost import CatBoostRegressor\n",
    "from sklearn.linear_model import LinearRegression\n",
    "import lightgbm as lgbm \n",
    "from sklearn.metrics import roc_auc_score, roc_curve\n",
    "from sklearn.model_selection import KFold, StratifiedKFold\n",
    "from sklearn import preprocessing\n",
    "from tqdm import tqdm_notebook as tqdm\n",
    "from sklearn.metrics import mean_squared_error\n",
    "#%load_ext nb_black\n",
    "import joblib\n",
    "import seaborn as sns\n",
    "#from loguru import logger"
   ]
  },
  {
   "cell_type": "code",
   "execution_count": 3,
   "metadata": {},
   "outputs": [],
   "source": [
    "def read_data():\n",
    "    sales = pd.read_csv(\"sales_train_evaluation.csv\")\n",
    "    calendar = pd.read_csv(\"calendar.csv\")\n",
    "    prices = pd.read_csv(\"sell_prices.csv\")\n",
    "    submission = pd.read_csv(\"sample_submission.csv\")\n",
    "\n",
    "    #     sales = reduce_mem_usage(sales)\n",
    "    #     calendar = reduce_mem_usage(calendar)\n",
    "    #     prices = reduce_mem_usage(prices)\n",
    "    #     submission = reduce_mem_usage(submission)\n",
    "\n",
    "    return sales, calendar, prices, submission"
   ]
  },
  {
   "cell_type": "code",
   "execution_count": 4,
   "metadata": {},
   "outputs": [],
   "source": [
    "sales, calendar, prices, submission = read_data()"
   ]
  },
  {
   "cell_type": "code",
   "execution_count": 5,
   "metadata": {},
   "outputs": [],
   "source": [
    "def create_shifted_feature(\n",
    "    data: pd.DataFrame,\n",
    "    lag: int = 28,\n",
    "    feature_col: str = \"sales\",\n",
    "    id_col: str = \"id\",\n",
    ") -> pd.DataFrame:\n",
    "    feat = data.groupby(id_col)[feature_col].shift(-lag).fillna(0)\n",
    "    return feat\n",
    "\n",
    "\n",
    "def preprocess_calendar(calendar: pd.DataFrame) -> pd.DataFrame:\n",
    "    calendar = calendar.copy()\n",
    "    event_name_map = {mod: i for i, mod in enumerate(calendar[\"event_name_1\"].unique())}\n",
    "    event_type_map = {mod: i for i, mod in enumerate(calendar[\"event_type_1\"].unique())}\n",
    "\n",
    "    calendar[\"event_name\"] = calendar[\"event_name_1\"]\n",
    "    calendar[\"event_type\"] = calendar[\"event_type_1\"]\n",
    "\n",
    "    calendar[\"event_name\"] = calendar[\"event_name\"].map(event_name_map)\n",
    "    calendar[\"event_type\"] = calendar[\"event_type\"].map(event_type_map)\n",
    "    calendar[\"d\"] = calendar[\"d\"].str.replace(\"d_\", \"\").astype(int)\n",
    "    calendar[\"date\"] = pd.to_datetime(calendar[\"date\"])\n",
    "    calendar[\"wday\"] -= 1\n",
    "    calendar[\"month\"] -= 1\n",
    "    calendar[\"year\"] -= 2011\n",
    "\n",
    "    calendar = calendar.sort_values(\"date\")\n",
    "    calendar = calendar.drop(\n",
    "        [\n",
    "            \"event_name_1\",\n",
    "            \"event_name_2\",\n",
    "            \"event_type_1\",\n",
    "            \"event_type_2\",\n",
    "            \"date\",\n",
    "            \"weekday\",\n",
    "        ],\n",
    "        axis=1,\n",
    "    )\n",
    "    return calendar\n",
    "\n",
    "\n",
    "def preprocess_sales(sales):\n",
    "    sales = sales.copy()\n",
    "    series_cols = sales.columns[sales.columns.str.contains(\"d_\")].values\n",
    "    level_cols = sales.columns[~sales.columns.str.contains(\"d_\")].values\n",
    "    sales = sales.melt(level_cols, series_cols, var_name=\"day\", value_name=\"sales\")\n",
    "    sales[\"day\"] = sales[\"day\"].str.replace(\"d_\", \"\").astype(int)\n",
    "    return sales\n",
    "\n",
    "\n",
    "def merge_and_melt(sales, calendar, prices):\n",
    "    #logger.info(\"preprocessing\")\n",
    "    sales = preprocess_sales(sales)\n",
    "    calendar = preprocess_calendar(calendar)\n",
    "\n",
    "    #logger.info(\"merging with calendar, prices\")\n",
    "    # merge with calendar\n",
    "    sales = sales.merge(\n",
    "        calendar, left_on=\"day\", right_on=\"d\", validate=\"many_to_one\", how=\"left\"\n",
    "    )\n",
    "    sales = sales.merge(\n",
    "        prices,\n",
    "        left_on=[\"item_id\", \"store_id\", \"wm_yr_wk\"],\n",
    "        right_on=[\"item_id\", \"store_id\", \"wm_yr_wk\"],\n",
    "        validate=\"many_to_one\",\n",
    "        how=\"left\",\n",
    "    )\n",
    "    return sales\n",
    "\n",
    "\n",
    "def intervaled_cumsum(a, trigger_val=1, start_val=0, invalid_specifier=-1):\n",
    "    out = np.ones(a.size, dtype=int)\n",
    "    idx = np.flatnonzero(a == trigger_val)\n",
    "    if len(idx) == 0:\n",
    "        return np.full(a.size, invalid_specifier)\n",
    "    else:\n",
    "        out[idx[0]] = -idx[0] + 1\n",
    "        out[0] = start_val\n",
    "        out[idx[1:]] = idx[:-1] - idx[1:] + 1\n",
    "        np.cumsum(out, out=out)\n",
    "        out[: idx[0]] = invalid_specifier\n",
    "        return out\n",
    "\n",
    "\n",
    "def feature_engineering(sales: pd.DataFrame) -> pd.DataFrame:\n",
    "\n",
    "    #logger.info(\"feature engineeering\")\n",
    "    # impute missing data on sell price\n",
    "    sales[\"sell_price\"] = sales.groupby(\"item_id\")[\"sell_price\"].apply(\n",
    "        lambda x: x.fillna(x[~x.isnull()].median())\n",
    "    )\n",
    "\n",
    "    # make rolling averages/std for items\n",
    "    windows = [3, 7, 30, 90, 180, 360]\n",
    "    for window in tqdm(windows, desc=\"fe: rolling stats\"):\n",
    "        sales.loc[:, f\"rolling_sales_mean_{window}\"] = (\n",
    "            sales.groupby([\"id\"])[\"sales\"]\n",
    "            .transform(lambda x: x.rolling(window=window).mean())\n",
    "            .astype(np.float16)\n",
    "            .fillna(0)\n",
    "        )\n",
    "        sales.loc[:, f\"rolling_sales_std_{window}\"] = (\n",
    "            sales.groupby([\"id\"])[\"sales\"]\n",
    "            .transform(lambda x: x.rolling(window=window).std())\n",
    "            .astype(np.float16)\n",
    "            .fillna(0)\n",
    "        )\n",
    "\n",
    "    # difference between short-long trends\n",
    "    short_windows = [3, 7, 30]\n",
    "    long_windows = [90, 180, 360]\n",
    "\n",
    "    for short_window in tqdm(short_windows, desc=\"fe: long-short term diff\"):\n",
    "        for long_window in long_windows:\n",
    "            sales.loc[:, f\"trend_diff_{short_window}_{long_window}\"] = (\n",
    "                sales[f\"rolling_sales_mean_{short_window}\"]\n",
    "                - sales[f\"rolling_sales_mean_{long_window}\"]\n",
    "            )\n",
    "\n",
    "    # store-wise rolling average\n",
    "\n",
    "    # see if in a zero plateau\n",
    "    sustained_zero = (\n",
    "        sales.groupby(\"id\")[\"sales\"]\n",
    "        .apply(lambda x: intervaled_cumsum(x == 0))\n",
    "        .explode()\n",
    "        .astype(int)\n",
    "    )\n",
    "    sustained_zero.name = \"days_sustained_zero\"\n",
    "    sustained_zero = sustained_zero.reset_index()\n",
    "    sustained_zero.loc[:, \"day\"] = sustained_zero.groupby(\"id\").transform(\n",
    "        lambda x: np.arange(len(x)) + 1\n",
    "    )\n",
    "\n",
    "    sales = sales.merge(sustained_zero, on=[\"id\", \"day\"], how=\"left\", copy=False)\n",
    "\n",
    "    # create target variable\n",
    "    aheads = [1, 7, 28]\n",
    "    for ahead in tqdm(aheads, desc=\"fe: ahead target\"):\n",
    "        y_ahead = create_shifted_feature(sales, ahead)\n",
    "        sales.loc[:, f\"target_shift_{ahead}\"] = y_ahead\n",
    "\n",
    "    # shift future events back\n",
    "    for ahead in tqdm(aheads, desc=\"fe: ahead events\"):\n",
    "        event_type_ahead = create_shifted_feature(\n",
    "            sales, ahead, feature_col=\"event_type\"\n",
    "        )\n",
    "        sales.loc[:, f\"event_type_shift_{ahead}\"] = event_type_ahead\n",
    "    #         event_name = create_shifted_feature(\n",
    "    #             sales,\n",
    "    #             lage,\n",
    "    #             feature_col=\"event_name\"\n",
    "    #         )\n",
    "\n",
    "    return sales\n"
   ]
  },
  {
   "cell_type": "code",
   "execution_count": 31,
   "metadata": {},
   "outputs": [],
   "source": [
    "# data_saved = os.path.isfile(\"../data/train.h5\")\n",
    "data_saved = True\n",
    "\n",
    "if data_saved:\n",
    "    data = pd.read_hdf(\"train2.h5\")\n",
    "else:\n",
    "    data = merge_and_melt(sales, calendar, prices)\n",
    "    data = feature_engineering(data)\n",
    "    data = reduce_mem_usage(data)\n",
    "\n",
    "    data.to_hdf(\"train2.h5\", key=\"train\", format=\"table\")"
   ]
  },
  {
   "cell_type": "code",
   "execution_count": 32,
   "metadata": {},
   "outputs": [],
   "source": [
    "ahead_by = 28\n",
    "\n",
    "assert ahead_by in [1, 7, 28]\n",
    "\n",
    "dump_cols = [\"id\", \"wm_y_wk\", \"event_name\"] + [\n",
    "    c for c in data.columns if c.startswith(\"target\") or c.startswith(\"event\")\n",
    "]\n",
    "feat_col = [c for c in data.columns if c not in dump_cols] + [\n",
    "    f\"event_type_shift_{ahead_by}\"\n",
    "]\n",
    "target_col = f\"target_shift_{ahead_by}\""
   ]
  },
  {
   "cell_type": "code",
   "execution_count": 10,
   "metadata": {},
   "outputs": [
    {
     "data": {
      "text/plain": [
       "Index(['id', 'item_id', 'dept_id', 'cat_id', 'store_id', 'state_id', 'day',\n",
       "       'sales', 'wm_yr_wk', 'wday', 'month', 'year', 'd', 'snap_CA', 'snap_TX',\n",
       "       'snap_WI', 'event_name', 'event_type', 'sell_price',\n",
       "       'rolling_sales_mean_3', 'rolling_sales_std_3', 'rolling_sales_mean_7',\n",
       "       'rolling_sales_std_7', 'rolling_sales_mean_30', 'rolling_sales_std_30',\n",
       "       'rolling_sales_mean_90', 'rolling_sales_std_90',\n",
       "       'rolling_sales_mean_180', 'rolling_sales_std_180',\n",
       "       'rolling_sales_mean_360', 'rolling_sales_std_360', 'trend_diff_3_90',\n",
       "       'trend_diff_3_180', 'trend_diff_3_360', 'trend_diff_7_90',\n",
       "       'trend_diff_7_180', 'trend_diff_7_360', 'trend_diff_30_90',\n",
       "       'trend_diff_30_180', 'trend_diff_30_360', 'days_sustained_zero',\n",
       "       'target_shift_1', 'target_shift_7', 'target_shift_28',\n",
       "       'event_type_shift_1', 'event_type_shift_7', 'event_type_shift_28'],\n",
       "      dtype='object')"
      ]
     },
     "execution_count": 10,
     "metadata": {},
     "output_type": "execute_result"
    }
   ],
   "source": [
    "data.columns"
   ]
  },
  {
   "cell_type": "code",
   "execution_count": 11,
   "metadata": {},
   "outputs": [
    {
     "data": {
      "text/plain": [
       "days_sustained_zero       59181090\n",
       "id                               0\n",
       "trend_diff_7_180                 0\n",
       "rolling_sales_std_90             0\n",
       "rolling_sales_mean_180           0\n",
       "rolling_sales_std_180            0\n",
       "rolling_sales_mean_360           0\n",
       "rolling_sales_std_360            0\n",
       "trend_diff_3_90                  0\n",
       "trend_diff_3_180                 0\n",
       "trend_diff_3_360                 0\n",
       "trend_diff_7_90                  0\n",
       "trend_diff_7_360                 0\n",
       "rolling_sales_std_30             0\n",
       "trend_diff_30_90                 0\n",
       "trend_diff_30_180                0\n",
       "trend_diff_30_360                0\n",
       "target_shift_1                   0\n",
       "target_shift_7                   0\n",
       "target_shift_28                  0\n",
       "dtype: int64"
      ]
     },
     "execution_count": 11,
     "metadata": {},
     "output_type": "execute_result"
    }
   ],
   "source": [
    "data.isnull().sum().sort_values(ascending=False).head(20)"
   ]
  },
  {
   "cell_type": "markdown",
   "metadata": {},
   "source": [
    "# Model"
   ]
  },
  {
   "cell_type": "markdown",
   "metadata": {},
   "source": [
    "## linear model"
   ]
  },
  {
   "cell_type": "markdown",
   "metadata": {},
   "source": [
    "### use d_1 to d_1885 to forcast next 28 day (For validation)"
   ]
  },
  {
   "cell_type": "code",
   "execution_count": 12,
   "metadata": {},
   "outputs": [],
   "source": [
    "cat_features=[\"item_id\", \"dept_id\",\"cat_id\",\"store_id\",\"state_id\"]\n",
    "encoder_list = []\n",
    "for i in cat_features:\n",
    "    encoder = preprocessing.LabelEncoder()\n",
    "    encoder.fit(data[i])\n",
    "    data[i] = encoder.transform(data[i])\n",
    "    encoder_list.append(encoder)"
   ]
  },
  {
   "cell_type": "code",
   "execution_count": 15,
   "metadata": {},
   "outputs": [],
   "source": [
    "\n",
    "train = data[data['day']<=1885]\n",
    "val = data[(data['day']>=1886) & (data['day']<=1913)]\n",
    "\n",
    "feat_col.remove('days_sustained_zero')\n",
    "\n",
    "X_train, y_train = train[feat_col], train[target_col]\n",
    "X_val, y_val = val[feat_col], val[target_col]"
   ]
  },
  {
   "cell_type": "code",
   "execution_count": 16,
   "metadata": {},
   "outputs": [
    {
     "data": {
      "text/plain": [
       "LinearRegression()"
      ]
     },
     "execution_count": 16,
     "metadata": {},
     "output_type": "execute_result"
    }
   ],
   "source": [
    "liner_clf = LinearRegression()\n",
    "liner_clf.fit(X_train, y_train)"
   ]
  },
  {
   "cell_type": "code",
   "execution_count": 17,
   "metadata": {},
   "outputs": [],
   "source": [
    "pre_val_y = liner_clf.predict(X_val)"
   ]
  },
  {
   "cell_type": "code",
   "execution_count": 18,
   "metadata": {},
   "outputs": [
    {
     "data": {
      "text/plain": [
       "2.239601776021867"
      ]
     },
     "execution_count": 18,
     "metadata": {},
     "output_type": "execute_result"
    }
   ],
   "source": [
    "mean_squared_error(y_val, pre_val_y, squared=False)"
   ]
  },
  {
   "cell_type": "code",
   "execution_count": 19,
   "metadata": {},
   "outputs": [
    {
     "data": {
      "text/plain": [
       "['liner_clf_val2.pth']"
      ]
     },
     "execution_count": 19,
     "metadata": {},
     "output_type": "execute_result"
    }
   ],
   "source": [
    "joblib.dump(liner_clf, 'liner_clf_val2.pth')"
   ]
  },
  {
   "cell_type": "code",
   "execution_count": 20,
   "metadata": {},
   "outputs": [],
   "source": [
    "val_resutl = val.copy()\n",
    "val_resutl = val_resutl[['id', 'day', 'sales']]\n",
    "val_resutl = pd.pivot(val_resutl, index = 'id', columns = 'day', values = 'sales').reset_index()\n",
    "val_resutl.columns = ['id'] + ['F' + str(i + 1) for i in range(28)]"
   ]
  },
  {
   "cell_type": "code",
   "execution_count": 21,
   "metadata": {},
   "outputs": [],
   "source": [
    "pre_resutl = val.copy()\n",
    "pre_resutl = pre_resutl[['id', 'day', 'sales']]\n",
    "pre_resutl['sales'] = pre_val_y\n",
    "pre_resutl = pd.pivot(pre_resutl, index = 'id', columns = 'day', values = 'sales').reset_index()\n",
    "pre_resutl.columns = ['id'] + ['F' + str(i + 1) for i in range(28)]"
   ]
  },
  {
   "cell_type": "code",
   "execution_count": 22,
   "metadata": {},
   "outputs": [
    {
     "data": {
      "image/png": "[encoded data removed]",
      "text/plain": [
       "<Figure size 576x216 with 1 Axes>"
      ]
     },
     "metadata": {
      "needs_background": "light"
     },
     "output_type": "display_data"
    }
   ],
   "source": [
    "x1 = pd.date_range(start=\"2016-04-25\",end=\"2016-5-22\")\n",
    "#x2 = pd.date_range(start=\"2011-01-29\",end=\"2016-04-24)\n",
    "#y1 = np.append(np.array(raw_data[-1:]), real_new_case)\n",
    "#y2 = np.append(np.array(raw_data[-1:]), result_rev)\n",
    "y1 = np.array(val_resutl.sum())\n",
    "y2 = np.array(pre_resutl.sum())\n",
    "\n",
    "fig = plt.figure(figsize=(16,6))\n",
    "plt.plot(x1, y1, color = 'blue', label = 'Real data')\n",
    "#plt.plot(x2,np.array(raw_data[-30:]), color = 'orange', label = 'Real data')\n",
    "plt.title('Total sales (Linear)',fontsize = 21)\n",
    "plt.plot(x1, y2, color = 'orange', label = 'Predicted data')\n",
    "\n",
    "plt.xlabel('Time',fontsize = 21)\n",
    "plt.ylabel('Sales',fontsize = 21)\n",
    "plt.legend()\n",
    "plt.xticks(rotation=45)\n",
    "plt.savefig('liner_pre.png')"
   ]
  },
  {
   "cell_type": "code",
   "execution_count": null,
   "metadata": {},
   "outputs": [],
   "source": []
  },
  {
   "cell_type": "markdown",
   "metadata": {},
   "source": [
    "### use d_1 to d_1941 to forcast next 28 day"
   ]
  },
  {
   "cell_type": "code",
   "execution_count": 127,
   "metadata": {},
   "outputs": [],
   "source": [
    "cat_features=[\"item_id\", \"dept_id\",\"cat_id\",\"store_id\",\"state_id\"]\n",
    "encoder_list = []\n",
    "for i in cat_features:\n",
    "    encoder = preprocessing.LabelEncoder()\n",
    "    encoder.fit(data[i])\n",
    "    data[i] = encoder.transform(data[i])\n",
    "    encoder_list.append(encoder)"
   ]
  },
  {
   "cell_type": "code",
   "execution_count": 23,
   "metadata": {},
   "outputs": [],
   "source": [
    "train = data[data['day']<1914]\n",
    "val = data[(data['day']>=1914) & (data['day']<1942)]\n",
    "test = data[data['day']>=1942]\n"
   ]
  },
  {
   "cell_type": "code",
   "execution_count": 129,
   "metadata": {},
   "outputs": [],
   "source": [
    "feat_col.remove('days_sustained_zero')"
   ]
  },
  {
   "cell_type": "code",
   "execution_count": 24,
   "metadata": {},
   "outputs": [],
   "source": [
    "X_train, y_train = train[feat_col], train[target_col]\n",
    "X_val, y_val = val[feat_col], val[target_col]\n",
    "X_test, y_test = test[feat_col], test[target_col]"
   ]
  },
  {
   "cell_type": "code",
   "execution_count": 25,
   "metadata": {},
   "outputs": [
    {
     "data": {
      "text/plain": [
       "LinearRegression()"
      ]
     },
     "execution_count": 25,
     "metadata": {},
     "output_type": "execute_result"
    }
   ],
   "source": [
    "liner_clf = LinearRegression()\n",
    "liner_clf.fit(X_train, y_train)"
   ]
  },
  {
   "cell_type": "code",
   "execution_count": 26,
   "metadata": {},
   "outputs": [
    {
     "data": {
      "text/plain": [
       "['liner_clf2.pth']"
      ]
     },
     "execution_count": 26,
     "metadata": {},
     "output_type": "execute_result"
    }
   ],
   "source": [
    "joblib.dump(liner_clf, 'liner_clf2.pth')"
   ]
  },
  {
   "cell_type": "code",
   "execution_count": 27,
   "metadata": {},
   "outputs": [],
   "source": [
    "pre_y = liner_clf.predict(X_val)"
   ]
  },
  {
   "cell_type": "code",
   "execution_count": 28,
   "metadata": {},
   "outputs": [],
   "source": [
    "evaluation_result = val.copy()\n",
    "evaluation_result = evaluation_result[['id', 'day', 'sales']]\n",
    "evaluation_result['sales'] = pre_y\n",
    "evaluation_result = pd.pivot(evaluation_result, index = 'id', columns = 'day', values = 'sales').reset_index()\n",
    "evaluation_result.columns = ['id'] + ['F' + str(i + 1) for i in range(28)]"
   ]
  },
  {
   "cell_type": "code",
   "execution_count": 29,
   "metadata": {},
   "outputs": [],
   "source": [
    "val_resutl = val.copy()\n",
    "val_resutl = val_resutl[['id', 'day', 'sales']]\n",
    "val_resutl['id'] = val_resutl['id'].str.replace(\"evaluation\", \"validation\")\n",
    "val_resutl = pd.pivot(val_resutl, index = 'id', columns = 'day', values = 'sales').reset_index()\n",
    "val_resutl.columns = ['id'] + ['F' + str(i + 1) for i in range(28)]"
   ]
  },
  {
   "cell_type": "code",
   "execution_count": 30,
   "metadata": {},
   "outputs": [],
   "source": [
    "final_result = pd.concat([val_resutl, evaluation_result])\n",
    "\n",
    "final_result.to_csv('result2_linear.csv',index=False)"
   ]
  },
  {
   "cell_type": "code",
   "execution_count": null,
   "metadata": {},
   "outputs": [],
   "source": []
  },
  {
   "cell_type": "markdown",
   "metadata": {},
   "source": [
    "# LGBM"
   ]
  },
  {
   "cell_type": "markdown",
   "metadata": {},
   "source": [
    "### use d_1 to d_1885 to forcast next 28 day (For validation)"
   ]
  },
  {
   "cell_type": "code",
   "execution_count": 33,
   "metadata": {},
   "outputs": [],
   "source": [
    "cat_features=[\"item_id\", \"dept_id\",\"cat_id\",\"store_id\",\"state_id\"]"
   ]
  },
  {
   "cell_type": "code",
   "execution_count": 34,
   "metadata": {},
   "outputs": [],
   "source": [
    "\n",
    "train = data[data['day']<=1885]\n",
    "val = data[(data['day']>=1886) & (data['day']<=1913)]\n",
    "\n",
    "X_train, y_train = train[feat_col], train[target_col]\n",
    "X_val, y_val = val[feat_col], val[target_col]\n",
    "\n",
    "y_val_preds = np.zeros(val.shape[0])\n",
    "feature_importances = pd.DataFrame()\n",
    "feature_importances['feature'] = feat_col\n",
    "\n"
   ]
  },
  {
   "cell_type": "code",
   "execution_count": 35,
   "metadata": {},
   "outputs": [],
   "source": [
    "# setup model setting\n",
    "fold_num = 3\n",
    "seed = 501\n",
    "kf = StratifiedKFold(n_splits= fold_num, shuffle=True, random_state=seed)\n",
    "\n",
    "\n",
    "params = {'num_leaves': 100,\n",
    "          'max_depth': 9,\n",
    "          'learning_rate': 0.03,\n",
    "          \"boosting_type\": \"gbdt\",\n",
    "          'objective': 'regression',\n",
    "          \"metric\": 'rmse',\n",
    "          'reg_alpha': 0.2,\n",
    "          'reg_lambda': 0.2,\n",
    "          'subsample': 0.6,\n",
    "          'categorical_feature': cat_features,\n",
    "          'min_split_gain': 0.02,\n",
    "          \n",
    "         }"
   ]
  },
  {
   "cell_type": "code",
   "execution_count": 36,
   "metadata": {},
   "outputs": [
    {
     "name": "stderr",
     "output_type": "stream",
     "text": [
      "/Users/ericlo/opt/anaconda3/lib/python3.8/site-packages/sklearn/model_selection/_split.py:666: UserWarning: The least populated class in y has only 1 members, which is less than n_splits=3.\n",
      "  warnings.warn((\"The least populated class in y has only %d\"\n",
      "/Users/ericlo/opt/anaconda3/lib/python3.8/site-packages/lightgbm/basic.py:840: UserWarning: categorical_feature keyword has been found in `params` and will be ignored.\n",
      "Please use categorical_feature argument of the Dataset constructor to pass this parameter.\n",
      "  warnings.warn('{0} keyword has been found in `params` and will be ignored.\\n'\n",
      "/Users/ericlo/opt/anaconda3/lib/python3.8/site-packages/lightgbm/basic.py:863: UserWarning: categorical_feature in param dict is overridden.\n",
      "  warnings.warn('{} in param dict is overridden.'.format(cat_alias))\n"
     ]
    },
    {
     "name": "stdout",
     "output_type": "stream",
     "text": [
      "Training until validation scores don't improve for 100 rounds\n",
      "[100]\ttraining's rmse: 2.3323\tvalid_1's rmse: 2.35471\n",
      "[200]\ttraining's rmse: 2.26192\tvalid_1's rmse: 2.29843\n",
      "[300]\ttraining's rmse: 2.22494\tvalid_1's rmse: 2.27088\n",
      "Did not meet early stopping. Best iteration is:\n",
      "[300]\ttraining's rmse: 2.22494\tvalid_1's rmse: 2.27088\n",
      "Training until validation scores don't improve for 100 rounds\n",
      "[100]\ttraining's rmse: 2.33576\tvalid_1's rmse: 2.35979\n",
      "[200]\ttraining's rmse: 2.26302\tvalid_1's rmse: 2.30209\n",
      "[300]\ttraining's rmse: 2.22694\tvalid_1's rmse: 2.27543\n",
      "Did not meet early stopping. Best iteration is:\n",
      "[300]\ttraining's rmse: 2.22694\tvalid_1's rmse: 2.27543\n",
      "Training until validation scores don't improve for 100 rounds\n",
      "[100]\ttraining's rmse: 2.33229\tvalid_1's rmse: 2.3584\n",
      "[200]\ttraining's rmse: 2.26321\tvalid_1's rmse: 2.30183\n",
      "[300]\ttraining's rmse: 2.22583\tvalid_1's rmse: 2.27307\n",
      "Did not meet early stopping. Best iteration is:\n",
      "[300]\ttraining's rmse: 2.22583\tvalid_1's rmse: 2.27307\n"
     ]
    }
   ],
   "source": [
    "\n",
    "for fold, (train_set, val_set) in enumerate(kf.split(X_train,y_train)):\n",
    "    \n",
    "    train_x, train_y = X_train.iloc[train_set], y_train.iloc[train_set]\n",
    "    train_dataset = lgbm.Dataset(train_x, label=train_y)\n",
    "    val_x, val_y = X_train.iloc[val_set], y_train.iloc[val_set]\n",
    "    val_dataset = lgbm.Dataset(val_x, label=val_y)\n",
    "    \n",
    "\n",
    "    lgbm_model = lgbm.train(params, train_dataset, 300, valid_sets=[train_dataset,val_dataset], verbose_eval= 100, early_stopping_rounds= 100)\n",
    "    feature_importances[f'fold_{fold + 1}'] = lgbm_model.feature_importance()\n",
    "    \n",
    "    y_val_preds += lgbm_model.predict(X_val, num_iteration=lgbm_model.best_iteration)/fold_num\n",
    "    \n",
    "    \n",
    "\n",
    "    \n",
    "\n",
    "\n"
   ]
  },
  {
   "cell_type": "code",
   "execution_count": 44,
   "metadata": {},
   "outputs": [],
   "source": [
    "feature_importances['mean'] = feature_importances[[f'fold_{fold_n + 1}' for fold_n in range(fold_num)]].mean(axis=1)\n",
    "feature_importances['mean_normalized'] = feature_importances['mean']/feature_importances['mean'].sum()\n",
    "feature_importances.to_csv('feature_importances.csv')"
   ]
  },
  {
   "cell_type": "code",
   "execution_count": 70,
   "metadata": {},
   "outputs": [
    {
     "data": {
      "image/png": "[encoded data removed]",
      "text/plain": [
       "<Figure size 576x576 with 1 Axes>"
      ]
     },
     "metadata": {
      "needs_background": "light"
     },
     "output_type": "display_data"
    }
   ],
   "source": [
    "plt.figure(figsize=(8, 8))\n",
    "sns.barplot(data=feature_importances.sort_values(by='mean_normalized', ascending=False).head(20), x='mean_normalized', y='feature');\n",
    "plt.title('20 TOP feature importance over {} folds average'.format(fold_num))\n",
    "plt.savefig('feature_importances.png')"
   ]
  },
  {
   "cell_type": "code",
   "execution_count": 46,
   "metadata": {},
   "outputs": [
    {
     "data": {
      "text/plain": [
       "2.167525715911492"
      ]
     },
     "execution_count": 46,
     "metadata": {},
     "output_type": "execute_result"
    }
   ],
   "source": [
    "mean_squared_error(y_val, y_val_preds, squared=False)"
   ]
  },
  {
   "cell_type": "code",
   "execution_count": 47,
   "metadata": {},
   "outputs": [
    {
     "data": {
      "text/plain": [
       "<lightgbm.basic.Booster at 0x7fe241c358b0>"
      ]
     },
     "execution_count": 47,
     "metadata": {},
     "output_type": "execute_result"
    }
   ],
   "source": [
    "lgbm_model.save_model('lgbm_model_val2.txt')"
   ]
  },
  {
   "cell_type": "code",
   "execution_count": 67,
   "metadata": {},
   "outputs": [],
   "source": [
    "val_resutl = val.copy()\n",
    "val_resutl = val_resutl[['id', 'day', 'sales']]\n",
    "val_resutl = pd.pivot(val_resutl, index = 'id', columns = 'day', values = 'sales').reset_index()\n",
    "val_resutl.columns = ['id'] + ['F' + str(i + 1) for i in range(28)]"
   ]
  },
  {
   "cell_type": "code",
   "execution_count": 68,
   "metadata": {},
   "outputs": [],
   "source": [
    "pre_resutl = val.copy()\n",
    "pre_resutl = pre_resutl[['id', 'day', 'sales']]\n",
    "pre_resutl['sales'] = y_val_preds\n",
    "pre_resutl = pd.pivot(pre_resutl, index = 'id', columns = 'day', values = 'sales').reset_index()\n",
    "pre_resutl.columns = ['id'] + ['F' + str(i + 1) for i in range(28)]"
   ]
  },
  {
   "cell_type": "code",
   "execution_count": 69,
   "metadata": {},
   "outputs": [
    {
     "data": {
      "image/png": "[encoded data removed]",
      "text/plain": [
       "<Figure size 576x216 with 1 Axes>"
      ]
     },
     "metadata": {
      "needs_background": "light"
     },
     "output_type": "display_data"
    }
   ],
   "source": [
    "x1 = pd.date_range(start=\"2016-04-25\",end=\"2016-5-22\")\n",
    "#x2 = pd.date_range(start=\"2011-01-29\",end=\"2016-04-24)\n",
    "#y1 = np.append(np.array(raw_data[-1:]), real_new_case)\n",
    "#y2 = np.append(np.array(raw_data[-1:]), result_rev)\n",
    "y1 = np.array(val_resutl.sum())\n",
    "y2 = np.array(pre_resutl.sum())\n",
    "\n",
    "fig = plt.figure(figsize=(8,3))\n",
    "plt.plot(x1, y1, color = 'blue', label = 'Real data')\n",
    "#plt.plot(x2,np.array(raw_data[-30:]), color = 'orange', label = 'Real data')\n",
    "plt.title('Total sales (LightGBM)',fontsize = 21)\n",
    "plt.plot(x1, y2, color = 'orange', label = 'Predicted data')\n",
    "\n",
    "plt.xlabel('Time',fontsize = 21)\n",
    "plt.ylabel('Sales',fontsize = 21)\n",
    "plt.legend()\n",
    "plt.xticks(rotation=45)\n",
    "plt.savefig('lgbm_total_sales.png')"
   ]
  },
  {
   "cell_type": "markdown",
   "metadata": {},
   "source": [
    "### use d_1 to d_1941 to forcast next 28 day "
   ]
  },
  {
   "cell_type": "code",
   "execution_count": 92,
   "metadata": {},
   "outputs": [],
   "source": [
    "cat_features=[\"item_id\", \"dept_id\",\"cat_id\",\"store_id\",\"state_id\"]"
   ]
  },
  {
   "cell_type": "code",
   "execution_count": 51,
   "metadata": {},
   "outputs": [],
   "source": [
    "train = data[data['day']<1914]\n",
    "val = data[(data['day']>=1914) & (data['day']<1942)]\n",
    "test = data[data['day']>=1942]\n",
    "X_train, y_train = train[feat_col], train[target_col]\n",
    "X_val, y_val = val[feat_col], val[target_col]\n",
    "X_test, y_test = test[feat_col], test[target_col]"
   ]
  },
  {
   "cell_type": "code",
   "execution_count": 52,
   "metadata": {},
   "outputs": [],
   "source": [
    "# setup model setting\n",
    "fold_num = 3\n",
    "seed = 501\n",
    "kf = StratifiedKFold(n_splits= fold_num, shuffle=True, random_state=seed)\n"
   ]
  },
  {
   "cell_type": "code",
   "execution_count": 53,
   "metadata": {},
   "outputs": [],
   "source": [
    "\n",
    "params = {'num_leaves': 100,\n",
    "          'max_depth': 9,\n",
    "          'learning_rate': 0.03,\n",
    "          \"boosting_type\": \"gbdt\",\n",
    "          'objective': 'regression',\n",
    "          \"metric\": 'rmse',\n",
    "          'reg_alpha': 0.2,\n",
    "          'reg_lambda': 0.2,\n",
    "          'subsample': 0.6,\n",
    "          'categorical_feature': cat_features,\n",
    "          'min_split_gain': 0.02,\n",
    "          \n",
    "         }"
   ]
  },
  {
   "cell_type": "code",
   "execution_count": 54,
   "metadata": {},
   "outputs": [
    {
     "name": "stderr",
     "output_type": "stream",
     "text": [
      "/Users/ericlo/opt/anaconda3/lib/python3.8/site-packages/sklearn/model_selection/_split.py:666: UserWarning: The least populated class in y has only 1 members, which is less than n_splits=3.\n",
      "  warnings.warn((\"The least populated class in y has only %d\"\n",
      "/Users/ericlo/opt/anaconda3/lib/python3.8/site-packages/lightgbm/basic.py:840: UserWarning: categorical_feature keyword has been found in `params` and will be ignored.\n",
      "Please use categorical_feature argument of the Dataset constructor to pass this parameter.\n",
      "  warnings.warn('{0} keyword has been found in `params` and will be ignored.\\n'\n",
      "/Users/ericlo/opt/anaconda3/lib/python3.8/site-packages/lightgbm/basic.py:863: UserWarning: categorical_feature in param dict is overridden.\n",
      "  warnings.warn('{} in param dict is overridden.'.format(cat_alias))\n"
     ]
    },
    {
     "name": "stdout",
     "output_type": "stream",
     "text": [
      "Training until validation scores don't improve for 100 rounds\n",
      "[100]\ttraining's rmse: 2.33087\tvalid_1's rmse: 2.36056\n",
      "[200]\ttraining's rmse: 2.25868\tvalid_1's rmse: 2.30318\n",
      "[300]\ttraining's rmse: 2.22218\tvalid_1's rmse: 2.27609\n",
      "Did not meet early stopping. Best iteration is:\n",
      "[300]\ttraining's rmse: 2.22218\tvalid_1's rmse: 2.27609\n",
      "Training until validation scores don't improve for 100 rounds\n",
      "[100]\ttraining's rmse: 2.33301\tvalid_1's rmse: 2.35184\n",
      "[200]\ttraining's rmse: 2.26285\tvalid_1's rmse: 2.29489\n",
      "[300]\ttraining's rmse: 2.22548\tvalid_1's rmse: 2.26767\n",
      "Did not meet early stopping. Best iteration is:\n",
      "[300]\ttraining's rmse: 2.22548\tvalid_1's rmse: 2.26767\n",
      "Training until validation scores don't improve for 100 rounds\n",
      "[100]\ttraining's rmse: 2.33084\tvalid_1's rmse: 2.35286\n",
      "[200]\ttraining's rmse: 2.26098\tvalid_1's rmse: 2.29526\n",
      "[300]\ttraining's rmse: 2.22406\tvalid_1's rmse: 2.26676\n",
      "Did not meet early stopping. Best iteration is:\n",
      "[300]\ttraining's rmse: 2.22406\tvalid_1's rmse: 2.26676\n"
     ]
    }
   ],
   "source": [
    "y_preds = np.zeros(val.shape[0])\n",
    "\n",
    "for fold, (train_set, val_set) in enumerate(kf.split(X_train,y_train)):\n",
    "    \n",
    "    train_x, train_y = X_train.iloc[train_set], y_train.iloc[train_set]\n",
    "    train_dataset = lgbm.Dataset(train_x, label=train_y)\n",
    "    val_x, val_y = X_train.iloc[val_set], y_train.iloc[val_set]\n",
    "    val_dataset = lgbm.Dataset(val_x, label=val_y)\n",
    "    \n",
    "\n",
    "    lgbm_model = lgbm.train(params, train_dataset, 300, valid_sets=[train_dataset,val_dataset], verbose_eval= 100, early_stopping_rounds= 100)\n",
    "\n",
    "    y_preds += lgbm_model.predict(X_val, num_iteration=lgbm_model.best_iteration)/fold_num\n",
    "    \n",
    "    \n",
    "\n",
    "    \n",
    "\n"
   ]
  },
  {
   "cell_type": "code",
   "execution_count": 61,
   "metadata": {},
   "outputs": [
    {
     "data": {
      "text/plain": [
       "<lightgbm.basic.Booster at 0x7fe241d44430>"
      ]
     },
     "execution_count": 61,
     "metadata": {},
     "output_type": "execute_result"
    }
   ],
   "source": [
    "lgbm_model.save_model('lgbm_model2.txt')"
   ]
  },
  {
   "cell_type": "code",
   "execution_count": 62,
   "metadata": {},
   "outputs": [
    {
     "data": {
      "text/plain": [
       "array([0.75351872, 0.28130571, 0.51971678, ..., 0.91291922, 1.45875065,\n",
       "       2.06647276])"
      ]
     },
     "execution_count": 62,
     "metadata": {},
     "output_type": "execute_result"
    }
   ],
   "source": [
    "y_preds"
   ]
  },
  {
   "cell_type": "code",
   "execution_count": 63,
   "metadata": {},
   "outputs": [],
   "source": [
    "evaluation_result = val.copy()\n",
    "evaluation_result = evaluation_result[['id', 'day', 'sales']]\n",
    "evaluation_result['sales'] = y_preds\n",
    "evaluation_result = pd.pivot(evaluation_result, index = 'id', columns = 'day', values = 'sales').reset_index()\n",
    "evaluation_result.columns = ['id'] + ['F' + str(i + 1) for i in range(28)]"
   ]
  },
  {
   "cell_type": "code",
   "execution_count": 64,
   "metadata": {},
   "outputs": [],
   "source": [
    "val_resutl = val.copy()\n",
    "val_resutl = val_resutl[['id', 'day', 'sales']]\n",
    "val_resutl['id'] = val_resutl['id'].str.replace(\"evaluation\", \"validation\")\n",
    "val_resutl = pd.pivot(val_resutl, index = 'id', columns = 'day', values = 'sales').reset_index()\n",
    "val_resutl.columns = ['id'] + ['F' + str(i + 1) for i in range(28)]"
   ]
  },
  {
   "cell_type": "code",
   "execution_count": 65,
   "metadata": {},
   "outputs": [],
   "source": [
    "final_result = pd.concat([val_resutl, evaluation_result])\n",
    "\n",
    "final_result.to_csv('result2_lgbm.csv',index=False)"
   ]
  },
  {
   "cell_type": "code",
   "execution_count": 66,
   "metadata": {},
   "outputs": [
    {
     "data": {
      "text/html": [
       "<div>\n",
       "<style scoped>\n",
       "    .dataframe tbody tr th:only-of-type {\n",
       "        vertical-align: middle;\n",
       "    }\n",
       "\n",
       "    .dataframe tbody tr th {\n",
       "        vertical-align: top;\n",
       "    }\n",
       "\n",
       "    .dataframe thead th {\n",
       "        text-align: right;\n",
       "    }\n",
       "</style>\n",
       "<table border=\"1\" class=\"dataframe\">\n",
       "  <thead>\n",
       "    <tr style=\"text-align: right;\">\n",
       "      <th></th>\n",
       "      <th>id</th>\n",
       "      <th>F1</th>\n",
       "      <th>F2</th>\n",
       "      <th>F3</th>\n",
       "      <th>F4</th>\n",
       "      <th>F5</th>\n",
       "      <th>F6</th>\n",
       "      <th>F7</th>\n",
       "      <th>F8</th>\n",
       "      <th>F9</th>\n",
       "      <th>...</th>\n",
       "      <th>F19</th>\n",
       "      <th>F20</th>\n",
       "      <th>F21</th>\n",
       "      <th>F22</th>\n",
       "      <th>F23</th>\n",
       "      <th>F24</th>\n",
       "      <th>F25</th>\n",
       "      <th>F26</th>\n",
       "      <th>F27</th>\n",
       "      <th>F28</th>\n",
       "    </tr>\n",
       "  </thead>\n",
       "  <tbody>\n",
       "    <tr>\n",
       "      <th>0</th>\n",
       "      <td>FOODS_1_001_CA_1_evaluation</td>\n",
       "      <td>0.909674</td>\n",
       "      <td>0.828633</td>\n",
       "      <td>0.791910</td>\n",
       "      <td>0.755656</td>\n",
       "      <td>0.774492</td>\n",
       "      <td>0.990968</td>\n",
       "      <td>0.961038</td>\n",
       "      <td>0.725952</td>\n",
       "      <td>1.018989</td>\n",
       "      <td>...</td>\n",
       "      <td>0.824227</td>\n",
       "      <td>1.175740</td>\n",
       "      <td>1.162344</td>\n",
       "      <td>0.828088</td>\n",
       "      <td>0.760026</td>\n",
       "      <td>0.704647</td>\n",
       "      <td>0.715701</td>\n",
       "      <td>0.735859</td>\n",
       "      <td>0.862227</td>\n",
       "      <td>0.824878</td>\n",
       "    </tr>\n",
       "    <tr>\n",
       "      <th>1</th>\n",
       "      <td>FOODS_1_001_CA_2_evaluation</td>\n",
       "      <td>0.991605</td>\n",
       "      <td>1.068320</td>\n",
       "      <td>0.974023</td>\n",
       "      <td>0.920026</td>\n",
       "      <td>0.946365</td>\n",
       "      <td>1.266698</td>\n",
       "      <td>1.451209</td>\n",
       "      <td>1.033386</td>\n",
       "      <td>0.980943</td>\n",
       "      <td>...</td>\n",
       "      <td>1.000778</td>\n",
       "      <td>1.263384</td>\n",
       "      <td>1.243069</td>\n",
       "      <td>0.965161</td>\n",
       "      <td>0.829450</td>\n",
       "      <td>0.805190</td>\n",
       "      <td>0.778418</td>\n",
       "      <td>0.829946</td>\n",
       "      <td>1.072391</td>\n",
       "      <td>1.004821</td>\n",
       "    </tr>\n",
       "    <tr>\n",
       "      <th>2</th>\n",
       "      <td>FOODS_1_001_CA_3_evaluation</td>\n",
       "      <td>0.861007</td>\n",
       "      <td>0.819222</td>\n",
       "      <td>0.849241</td>\n",
       "      <td>0.824701</td>\n",
       "      <td>1.400823</td>\n",
       "      <td>1.478222</td>\n",
       "      <td>1.463371</td>\n",
       "      <td>1.065438</td>\n",
       "      <td>1.088379</td>\n",
       "      <td>...</td>\n",
       "      <td>0.906073</td>\n",
       "      <td>1.205908</td>\n",
       "      <td>1.349910</td>\n",
       "      <td>0.976777</td>\n",
       "      <td>0.845464</td>\n",
       "      <td>0.875908</td>\n",
       "      <td>0.857050</td>\n",
       "      <td>1.076372</td>\n",
       "      <td>1.279559</td>\n",
       "      <td>1.314690</td>\n",
       "    </tr>\n",
       "    <tr>\n",
       "      <th>3</th>\n",
       "      <td>FOODS_1_001_CA_4_evaluation</td>\n",
       "      <td>0.315325</td>\n",
       "      <td>0.342129</td>\n",
       "      <td>0.304358</td>\n",
       "      <td>0.304358</td>\n",
       "      <td>0.305273</td>\n",
       "      <td>0.318837</td>\n",
       "      <td>0.364642</td>\n",
       "      <td>0.298062</td>\n",
       "      <td>0.291830</td>\n",
       "      <td>...</td>\n",
       "      <td>0.338482</td>\n",
       "      <td>0.333077</td>\n",
       "      <td>0.334097</td>\n",
       "      <td>0.269917</td>\n",
       "      <td>0.259953</td>\n",
       "      <td>0.275437</td>\n",
       "      <td>0.295096</td>\n",
       "      <td>0.308875</td>\n",
       "      <td>0.327195</td>\n",
       "      <td>0.294105</td>\n",
       "    </tr>\n",
       "    <tr>\n",
       "      <th>4</th>\n",
       "      <td>FOODS_1_001_TX_1_evaluation</td>\n",
       "      <td>0.423935</td>\n",
       "      <td>0.416462</td>\n",
       "      <td>0.502392</td>\n",
       "      <td>0.482303</td>\n",
       "      <td>0.554112</td>\n",
       "      <td>0.588456</td>\n",
       "      <td>0.643653</td>\n",
       "      <td>0.561452</td>\n",
       "      <td>0.576073</td>\n",
       "      <td>...</td>\n",
       "      <td>0.611069</td>\n",
       "      <td>0.679695</td>\n",
       "      <td>0.665672</td>\n",
       "      <td>0.569134</td>\n",
       "      <td>0.842691</td>\n",
       "      <td>0.768244</td>\n",
       "      <td>0.858703</td>\n",
       "      <td>0.969897</td>\n",
       "      <td>1.063356</td>\n",
       "      <td>1.145227</td>\n",
       "    </tr>\n",
       "    <tr>\n",
       "      <th>...</th>\n",
       "      <td>...</td>\n",
       "      <td>...</td>\n",
       "      <td>...</td>\n",
       "      <td>...</td>\n",
       "      <td>...</td>\n",
       "      <td>...</td>\n",
       "      <td>...</td>\n",
       "      <td>...</td>\n",
       "      <td>...</td>\n",
       "      <td>...</td>\n",
       "      <td>...</td>\n",
       "      <td>...</td>\n",
       "      <td>...</td>\n",
       "      <td>...</td>\n",
       "      <td>...</td>\n",
       "      <td>...</td>\n",
       "      <td>...</td>\n",
       "      <td>...</td>\n",
       "      <td>...</td>\n",
       "      <td>...</td>\n",
       "      <td>...</td>\n",
       "    </tr>\n",
       "    <tr>\n",
       "      <th>30485</th>\n",
       "      <td>HOUSEHOLD_2_516_TX_2_evaluation</td>\n",
       "      <td>0.233527</td>\n",
       "      <td>0.215004</td>\n",
       "      <td>0.157539</td>\n",
       "      <td>0.154932</td>\n",
       "      <td>0.171064</td>\n",
       "      <td>0.194403</td>\n",
       "      <td>0.194843</td>\n",
       "      <td>0.241133</td>\n",
       "      <td>0.220934</td>\n",
       "      <td>...</td>\n",
       "      <td>0.232265</td>\n",
       "      <td>0.186476</td>\n",
       "      <td>0.187465</td>\n",
       "      <td>0.245465</td>\n",
       "      <td>0.212805</td>\n",
       "      <td>0.212805</td>\n",
       "      <td>0.194536</td>\n",
       "      <td>0.219205</td>\n",
       "      <td>0.245466</td>\n",
       "      <td>0.310372</td>\n",
       "    </tr>\n",
       "    <tr>\n",
       "      <th>30486</th>\n",
       "      <td>HOUSEHOLD_2_516_TX_3_evaluation</td>\n",
       "      <td>0.113020</td>\n",
       "      <td>0.108836</td>\n",
       "      <td>0.108836</td>\n",
       "      <td>0.101332</td>\n",
       "      <td>0.130709</td>\n",
       "      <td>0.131207</td>\n",
       "      <td>0.230351</td>\n",
       "      <td>0.174949</td>\n",
       "      <td>0.172612</td>\n",
       "      <td>...</td>\n",
       "      <td>0.187868</td>\n",
       "      <td>0.241362</td>\n",
       "      <td>0.223657</td>\n",
       "      <td>0.184905</td>\n",
       "      <td>0.160950</td>\n",
       "      <td>0.160950</td>\n",
       "      <td>0.160950</td>\n",
       "      <td>0.223564</td>\n",
       "      <td>0.256064</td>\n",
       "      <td>0.434519</td>\n",
       "    </tr>\n",
       "    <tr>\n",
       "      <th>30487</th>\n",
       "      <td>HOUSEHOLD_2_516_WI_1_evaluation</td>\n",
       "      <td>0.159578</td>\n",
       "      <td>0.141447</td>\n",
       "      <td>0.141447</td>\n",
       "      <td>0.172045</td>\n",
       "      <td>0.186640</td>\n",
       "      <td>0.248455</td>\n",
       "      <td>0.218312</td>\n",
       "      <td>0.122304</td>\n",
       "      <td>0.120630</td>\n",
       "      <td>...</td>\n",
       "      <td>0.182734</td>\n",
       "      <td>0.159174</td>\n",
       "      <td>0.156950</td>\n",
       "      <td>0.107685</td>\n",
       "      <td>0.103688</td>\n",
       "      <td>0.103688</td>\n",
       "      <td>0.103688</td>\n",
       "      <td>0.199818</td>\n",
       "      <td>0.232624</td>\n",
       "      <td>0.228458</td>\n",
       "    </tr>\n",
       "    <tr>\n",
       "      <th>30488</th>\n",
       "      <td>HOUSEHOLD_2_516_WI_2_evaluation</td>\n",
       "      <td>0.136052</td>\n",
       "      <td>0.132055</td>\n",
       "      <td>0.132055</td>\n",
       "      <td>0.100943</td>\n",
       "      <td>0.123789</td>\n",
       "      <td>0.118493</td>\n",
       "      <td>0.115583</td>\n",
       "      <td>0.099064</td>\n",
       "      <td>0.098027</td>\n",
       "      <td>...</td>\n",
       "      <td>0.119969</td>\n",
       "      <td>0.110753</td>\n",
       "      <td>0.200672</td>\n",
       "      <td>0.195196</td>\n",
       "      <td>0.177064</td>\n",
       "      <td>0.168848</td>\n",
       "      <td>0.147050</td>\n",
       "      <td>0.170545</td>\n",
       "      <td>0.181597</td>\n",
       "      <td>0.155391</td>\n",
       "    </tr>\n",
       "    <tr>\n",
       "      <th>30489</th>\n",
       "      <td>HOUSEHOLD_2_516_WI_3_evaluation</td>\n",
       "      <td>0.100034</td>\n",
       "      <td>0.096037</td>\n",
       "      <td>0.096037</td>\n",
       "      <td>0.096037</td>\n",
       "      <td>0.198808</td>\n",
       "      <td>0.199005</td>\n",
       "      <td>0.200630</td>\n",
       "      <td>0.135909</td>\n",
       "      <td>0.134873</td>\n",
       "      <td>...</td>\n",
       "      <td>0.122790</td>\n",
       "      <td>0.208772</td>\n",
       "      <td>0.194629</td>\n",
       "      <td>0.154928</td>\n",
       "      <td>0.129133</td>\n",
       "      <td>0.129133</td>\n",
       "      <td>0.129133</td>\n",
       "      <td>0.156170</td>\n",
       "      <td>0.118602</td>\n",
       "      <td>0.117648</td>\n",
       "    </tr>\n",
       "  </tbody>\n",
       "</table>\n",
       "<p>30490 rows × 29 columns</p>\n",
       "</div>"
      ],
      "text/plain": [
       "                                    id        F1        F2        F3  \\\n",
       "0          FOODS_1_001_CA_1_evaluation  0.909674  0.828633  0.791910   \n",
       "1          FOODS_1_001_CA_2_evaluation  0.991605  1.068320  0.974023   \n",
       "2          FOODS_1_001_CA_3_evaluation  0.861007  0.819222  0.849241   \n",
       "3          FOODS_1_001_CA_4_evaluation  0.315325  0.342129  0.304358   \n",
       "4          FOODS_1_001_TX_1_evaluation  0.423935  0.416462  0.502392   \n",
       "...                                ...       ...       ...       ...   \n",
       "30485  HOUSEHOLD_2_516_TX_2_evaluation  0.233527  0.215004  0.157539   \n",
       "30486  HOUSEHOLD_2_516_TX_3_evaluation  0.113020  0.108836  0.108836   \n",
       "30487  HOUSEHOLD_2_516_WI_1_evaluation  0.159578  0.141447  0.141447   \n",
       "30488  HOUSEHOLD_2_516_WI_2_evaluation  0.136052  0.132055  0.132055   \n",
       "30489  HOUSEHOLD_2_516_WI_3_evaluation  0.100034  0.096037  0.096037   \n",
       "\n",
       "             F4        F5        F6        F7        F8        F9  ...  \\\n",
       "0      0.755656  0.774492  0.990968  0.961038  0.725952  1.018989  ...   \n",
       "1      0.920026  0.946365  1.266698  1.451209  1.033386  0.980943  ...   \n",
       "2      0.824701  1.400823  1.478222  1.463371  1.065438  1.088379  ...   \n",
       "3      0.304358  0.305273  0.318837  0.364642  0.298062  0.291830  ...   \n",
       "4      0.482303  0.554112  0.588456  0.643653  0.561452  0.576073  ...   \n",
       "...         ...       ...       ...       ...       ...       ...  ...   \n",
       "30485  0.154932  0.171064  0.194403  0.194843  0.241133  0.220934  ...   \n",
       "30486  0.101332  0.130709  0.131207  0.230351  0.174949  0.172612  ...   \n",
       "30487  0.172045  0.186640  0.248455  0.218312  0.122304  0.120630  ...   \n",
       "30488  0.100943  0.123789  0.118493  0.115583  0.099064  0.098027  ...   \n",
       "30489  0.096037  0.198808  0.199005  0.200630  0.135909  0.134873  ...   \n",
       "\n",
       "            F19       F20       F21       F22       F23       F24       F25  \\\n",
       "0      0.824227  1.175740  1.162344  0.828088  0.760026  0.704647  0.715701   \n",
       "1      1.000778  1.263384  1.243069  0.965161  0.829450  0.805190  0.778418   \n",
       "2      0.906073  1.205908  1.349910  0.976777  0.845464  0.875908  0.857050   \n",
       "3      0.338482  0.333077  0.334097  0.269917  0.259953  0.275437  0.295096   \n",
       "4      0.611069  0.679695  0.665672  0.569134  0.842691  0.768244  0.858703   \n",
       "...         ...       ...       ...       ...       ...       ...       ...   \n",
       "30485  0.232265  0.186476  0.187465  0.245465  0.212805  0.212805  0.194536   \n",
       "30486  0.187868  0.241362  0.223657  0.184905  0.160950  0.160950  0.160950   \n",
       "30487  0.182734  0.159174  0.156950  0.107685  0.103688  0.103688  0.103688   \n",
       "30488  0.119969  0.110753  0.200672  0.195196  0.177064  0.168848  0.147050   \n",
       "30489  0.122790  0.208772  0.194629  0.154928  0.129133  0.129133  0.129133   \n",
       "\n",
       "            F26       F27       F28  \n",
       "0      0.735859  0.862227  0.824878  \n",
       "1      0.829946  1.072391  1.004821  \n",
       "2      1.076372  1.279559  1.314690  \n",
       "3      0.308875  0.327195  0.294105  \n",
       "4      0.969897  1.063356  1.145227  \n",
       "...         ...       ...       ...  \n",
       "30485  0.219205  0.245466  0.310372  \n",
       "30486  0.223564  0.256064  0.434519  \n",
       "30487  0.199818  0.232624  0.228458  \n",
       "30488  0.170545  0.181597  0.155391  \n",
       "30489  0.156170  0.118602  0.117648  \n",
       "\n",
       "[30490 rows x 29 columns]"
      ]
     },
     "execution_count": 66,
     "metadata": {},
     "output_type": "execute_result"
    }
   ],
   "source": [
    "evaluation_result"
   ]
  },
  {
   "cell_type": "code",
   "execution_count": null,
   "metadata": {},
   "outputs": [],
   "source": []
  }
 ],
 "metadata": {
  "interpreter": {
   "hash": "7fba4287ed53231eeef5f9a77a7d08326737debac3382410fd99561ba313e9a1"
  },
  "kernelspec": {
   "display_name": "msbd",
   "language": "python",
   "name": "msbd"
  },
  "language_info": {
   "codemirror_mode": {
    "name": "ipython",
    "version": 3
   },
   "file_extension": ".py",
   "mimetype": "text/x-python",
   "name": "python",
   "nbconvert_exporter": "python",
   "pygments_lexer": "ipython3",
   "version": "3.8.8"
  }
 },
 "nbformat": 4,
 "nbformat_minor": 4
}
