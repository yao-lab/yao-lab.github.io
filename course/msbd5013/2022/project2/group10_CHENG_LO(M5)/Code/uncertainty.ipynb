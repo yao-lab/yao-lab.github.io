{
 "cells": [
  {
   "cell_type": "code",
   "execution_count": 130,
   "metadata": {
    "scrolled": true
   },
   "outputs": [
    {
     "name": "stdout",
     "output_type": "stream",
     "text": [
      "The nb_black extension is already loaded. To reload it, use:\n",
      "  %reload_ext nb_black\n"
     ]
    },
    {
     "data": {
      "application/javascript": [
       "\n",
       "            setTimeout(function() {\n",
       "                var nbb_cell_id = 130;\n",
       "                var nbb_unformatted_code = \"import pandas as pd\\nimport numpy as np\\nimport seaborn as sns\\nimport matplotlib.pyplot as plt\\nimport gc\\nimport sys\\nimport os\\nimport scipy.stats as stats\\nimport pickle\\nimport lightgbm as lgbm\\n\\n\\npd.set_option(\\\"display.max_rows\\\", 1000)\\n\\nsys.path.append(\\\"..\\\")\\nfrom utils import reduce_mem_usage\\nfrom tqdm import tqdm\\nfrom loguru import logger\\nfrom sklearn.preprocessing import LabelEncoder\\n\\n%load_ext nb_black\";\n",
       "                var nbb_formatted_code = \"import pandas as pd\\nimport numpy as np\\nimport seaborn as sns\\nimport matplotlib.pyplot as plt\\nimport gc\\nimport sys\\nimport os\\nimport scipy.stats as stats\\nimport pickle\\nimport lightgbm as lgbm\\n\\n\\npd.set_option(\\\"display.max_rows\\\", 1000)\\n\\nsys.path.append(\\\"..\\\")\\nfrom utils import reduce_mem_usage\\nfrom tqdm import tqdm\\nfrom loguru import logger\\nfrom sklearn.preprocessing import LabelEncoder\\n\\n%load_ext nb_black\";\n",
       "                var nbb_cells = Jupyter.notebook.get_cells();\n",
       "                for (var i = 0; i < nbb_cells.length; ++i) {\n",
       "                    if (nbb_cells[i].input_prompt_number == nbb_cell_id) {\n",
       "                        if (nbb_cells[i].get_text() == nbb_unformatted_code) {\n",
       "                             nbb_cells[i].set_text(nbb_formatted_code);\n",
       "                        }\n",
       "                        break;\n",
       "                    }\n",
       "                }\n",
       "            }, 500);\n",
       "            "
      ],
      "text/plain": [
       "<IPython.core.display.Javascript object>"
      ]
     },
     "metadata": {},
     "output_type": "display_data"
    }
   ],
   "source": [
    "import pandas as pd\n",
    "import numpy as np\n",
    "import seaborn as sns\n",
    "import matplotlib.pyplot as plt\n",
    "import gc\n",
    "import sys\n",
    "import os\n",
    "import scipy.stats as stats\n",
    "import pickle\n",
    "import lightgbm as lgbm\n",
    "\n",
    "\n",
    "pd.set_option(\"display.max_rows\", 1000)\n",
    "\n",
    "sys.path.append(\"..\")\n",
    "from utils import reduce_mem_usage\n",
    "from tqdm import tqdm\n",
    "from loguru import logger\n",
    "from sklearn.preprocessing import LabelEncoder\n",
    "from sklearn.metrics import mean_squared_error\n",
    "\n",
    "%load_ext nb_black"
   ]
  },
  {
   "cell_type": "code",
   "execution_count": 6,
   "metadata": {},
   "outputs": [
    {
     "data": {
      "application/javascript": [
       "\n",
       "            setTimeout(function() {\n",
       "                var nbb_cell_id = 6;\n",
       "                var nbb_unformatted_code = \"def read_data(data_dir):\\n    sales = pd.read_csv(os.path.join(data_dir, \\\"sales_train_evaluation.csv\\\"))\\n    calendar = pd.read_csv(os.path.join(data_dir, \\\"calendar.csv\\\"))\\n    prices = pd.read_csv(os.path.join(data_dir, \\\"sell_prices.csv\\\"))\\n    submission = pd.read_csv(os.path.join(data_dir, \\\"sample_submission.csv\\\"))\\n\\n    #     sales = reduce_mem_usage(sales)\\n    #     calendar = reduce_mem_usage(calendar)\\n    #     prices = reduce_mem_usage(prices)\\n    #     submission = reduce_mem_usage(submission)\\n\\n    return sales, calendar, prices, submission\";\n",
       "                var nbb_formatted_code = \"def read_data(data_dir):\\n    sales = pd.read_csv(os.path.join(data_dir, \\\"sales_train_evaluation.csv\\\"))\\n    calendar = pd.read_csv(os.path.join(data_dir, \\\"calendar.csv\\\"))\\n    prices = pd.read_csv(os.path.join(data_dir, \\\"sell_prices.csv\\\"))\\n    submission = pd.read_csv(os.path.join(data_dir, \\\"sample_submission.csv\\\"))\\n\\n    #     sales = reduce_mem_usage(sales)\\n    #     calendar = reduce_mem_usage(calendar)\\n    #     prices = reduce_mem_usage(prices)\\n    #     submission = reduce_mem_usage(submission)\\n\\n    return sales, calendar, prices, submission\";\n",
       "                var nbb_cells = Jupyter.notebook.get_cells();\n",
       "                for (var i = 0; i < nbb_cells.length; ++i) {\n",
       "                    if (nbb_cells[i].input_prompt_number == nbb_cell_id) {\n",
       "                        if (nbb_cells[i].get_text() == nbb_unformatted_code) {\n",
       "                             nbb_cells[i].set_text(nbb_formatted_code);\n",
       "                        }\n",
       "                        break;\n",
       "                    }\n",
       "                }\n",
       "            }, 500);\n",
       "            "
      ],
      "text/plain": [
       "<IPython.core.display.Javascript object>"
      ]
     },
     "metadata": {},
     "output_type": "display_data"
    }
   ],
   "source": [
    "def read_data(data_dir):\n",
    "    sales = pd.read_csv(os.path.join(data_dir, \"sales_train_evaluation.csv\"))\n",
    "    calendar = pd.read_csv(os.path.join(data_dir, \"calendar.csv\"))\n",
    "    prices = pd.read_csv(os.path.join(data_dir, \"sell_prices.csv\"))\n",
    "    submission = pd.read_csv(os.path.join(data_dir, \"sample_submission.csv\"))\n",
    "\n",
    "    #     sales = reduce_mem_usage(sales)\n",
    "    #     calendar = reduce_mem_usage(calendar)\n",
    "    #     prices = reduce_mem_usage(prices)\n",
    "    #     submission = reduce_mem_usage(submission)\n",
    "\n",
    "    return sales, calendar, prices, submission"
   ]
  },
  {
   "cell_type": "code",
   "execution_count": 7,
   "metadata": {},
   "outputs": [
    {
     "data": {
      "application/javascript": [
       "\n",
       "            setTimeout(function() {\n",
       "                var nbb_cell_id = 7;\n",
       "                var nbb_unformatted_code = \"sales, calendar, prices, submission = read_data(\\\"../data/\\\")\";\n",
       "                var nbb_formatted_code = \"sales, calendar, prices, submission = read_data(\\\"../data/\\\")\";\n",
       "                var nbb_cells = Jupyter.notebook.get_cells();\n",
       "                for (var i = 0; i < nbb_cells.length; ++i) {\n",
       "                    if (nbb_cells[i].input_prompt_number == nbb_cell_id) {\n",
       "                        if (nbb_cells[i].get_text() == nbb_unformatted_code) {\n",
       "                             nbb_cells[i].set_text(nbb_formatted_code);\n",
       "                        }\n",
       "                        break;\n",
       "                    }\n",
       "                }\n",
       "            }, 500);\n",
       "            "
      ],
      "text/plain": [
       "<IPython.core.display.Javascript object>"
      ]
     },
     "metadata": {},
     "output_type": "display_data"
    }
   ],
   "source": [
    "sales, calendar, prices, submission = read_data(\"../data/\")"
   ]
  },
  {
   "cell_type": "code",
   "execution_count": 11,
   "metadata": {},
   "outputs": [
    {
     "data": {
      "application/javascript": [
       "\n",
       "            setTimeout(function() {\n",
       "                var nbb_cell_id = 11;\n",
       "                var nbb_unformatted_code = \"def create_shifted_feature(\\n    data: pd.DataFrame, lag: int = 28, feature_col: str = \\\"sales\\\", id_col: str = \\\"id\\\",\\n) -> pd.DataFrame:\\n    feat = data.groupby(id_col)[feature_col].shift(-lag).fillna(0)\\n    return feat\\n\\n\\ndef preprocess_calendar(calendar: pd.DataFrame) -> pd.DataFrame:\\n    calendar = calendar.copy()\\n    event_name_map = {mod: i for i, mod in enumerate(calendar[\\\"event_name_1\\\"].unique())}\\n    event_type_map = {mod: i for i, mod in enumerate(calendar[\\\"event_type_1\\\"].unique())}\\n\\n    calendar[\\\"event_name\\\"] = calendar[\\\"event_name_1\\\"]\\n    calendar[\\\"event_type\\\"] = calendar[\\\"event_type_1\\\"]\\n\\n    #     calendar[\\\"event_name\\\"] = calendar[\\\"event_name\\\"].map(event_name_map)\\n    #     calendar[\\\"event_type\\\"] = calendar[\\\"event_type\\\"].map(event_type_map)\\n    calendar[\\\"d\\\"] = calendar[\\\"d\\\"].str.replace(\\\"d_\\\", \\\"\\\").astype(int)\\n    calendar[\\\"wday\\\"] -= 1\\n    calendar[\\\"month\\\"] -= 1\\n    calendar[\\\"year\\\"] -= 2011\\n    calendar[\\\"week_number\\\"] = pd.to_datetime(calendar[\\\"date\\\"]).dt.week\\n\\n    calendar = calendar.sort_values(\\\"date\\\")\\n    calendar = calendar.drop(\\n        [\\n            \\\"event_name_1\\\",\\n            \\\"event_name_2\\\",\\n            \\\"event_type_1\\\",\\n            \\\"event_type_2\\\",\\n            #             \\\"date\\\",\\n            #             \\\"weekday\\\",\\n        ],\\n        axis=1,\\n    )\\n    return calendar\\n\\n\\ndef preprocess_sales(sales):\\n    sales = sales.copy()\\n    series_cols = sales.columns[sales.columns.str.contains(\\\"d_\\\")].values\\n    level_cols = sales.columns[~sales.columns.str.contains(\\\"d_\\\")].values\\n    sales = sales.melt(level_cols, series_cols, var_name=\\\"day\\\", value_name=\\\"sales\\\")\\n    sales[\\\"day\\\"] = sales[\\\"day\\\"].str.replace(\\\"d_\\\", \\\"\\\").astype(int)\\n    return sales\\n\\n\\ndef merge_and_melt(sales, calendar, prices):\\n    logger.info(\\\"preprocessing\\\")\\n    sales = preprocess_sales(sales)\\n    calendar = preprocess_calendar(calendar)\\n\\n    logger.info(\\\"merging with calendar, prices\\\")\\n    # merge with calendar\\n    sales = sales.merge(\\n        calendar, left_on=\\\"day\\\", right_on=\\\"d\\\", validate=\\\"many_to_one\\\", how=\\\"left\\\"\\n    )\\n    sales = sales.merge(\\n        prices,\\n        left_on=[\\\"item_id\\\", \\\"store_id\\\", \\\"wm_yr_wk\\\"],\\n        right_on=[\\\"item_id\\\", \\\"store_id\\\", \\\"wm_yr_wk\\\"],\\n        validate=\\\"many_to_one\\\",\\n        how=\\\"left\\\",\\n    )\\n    return sales\\n\\n\\ndef intervaled_cumsum(a, trigger_val=1, start_val=0, invalid_specifier=-1):\\n    out = np.ones(a.size, dtype=int)\\n    idx = np.flatnonzero(a == trigger_val)\\n    if len(idx) == 0:\\n        return np.full(a.size, invalid_specifier)\\n    else:\\n        out[idx[0]] = -idx[0] + 1\\n        out[0] = start_val\\n        out[idx[1:]] = idx[:-1] - idx[1:] + 1\\n        np.cumsum(out, out=out)\\n        out[: idx[0]] = invalid_specifier\\n        return out\\n\\n\\ndef feature_engineering(\\n    sales: pd.DataFrame, ahead_windows=[3, 7, 14, 28]\\n) -> pd.DataFrame:\\n\\n    logger.info(\\\"feature engineeering\\\")\\n    # impute missing data on sell price\\n    sales[\\\"sell_price\\\"] = sales.groupby(\\\"item_id\\\")[\\\"sell_price\\\"].apply(\\n        lambda x: x.fillna(x[~x.isnull()].median())\\n    )\\n\\n    # make rolling averages/std for items\\n    windows = [3, 7, 30, 90, 180, 360]\\n    for window in tqdm(windows, desc=\\\"fe: rolling stats\\\"):\\n        sales.loc[:, f\\\"rolling_sales_mean_{window}\\\"] = (\\n            sales.groupby([\\\"id\\\"])[\\\"sales\\\"]\\n            .transform(lambda x: x.rolling(window=window).mean())\\n            .astype(np.float16)\\n            .fillna(0)\\n        )\\n        sales.loc[:, f\\\"rolling_sales_std_{window}\\\"] = (\\n            sales.groupby([\\\"id\\\"])[\\\"sales\\\"]\\n            .transform(lambda x: x.rolling(window=window).std())\\n            .astype(np.float16)\\n            .fillna(0)\\n        )\\n\\n    # difference between short-long trends\\n    short_windows = [3, 7, 30]\\n    long_windows = [90, 180, 360]\\n\\n    for short_window in tqdm(short_windows, desc=\\\"fe: long-short term diff\\\"):\\n        for long_window in long_windows:\\n            sales.loc[:, f\\\"trend_diff_{short_window}_{long_window}\\\"] = (\\n                sales[f\\\"rolling_sales_mean_{short_window}\\\"]\\n                - sales[f\\\"rolling_sales_mean_{long_window}\\\"]\\n            )\\n\\n    # store-wise rolling average\\n\\n    # see if in a zero plateau\\n    sustained_zero = (\\n        sales.groupby(\\\"id\\\")[\\\"sales\\\"]\\n        .apply(lambda x: intervaled_cumsum(x == 0))\\n        .explode()\\n        .astype(int)\\n    )\\n    sustained_zero.name = \\\"days_sustained_zero\\\"\\n    sustained_zero = sustained_zero.reset_index()\\n    sustained_zero.loc[:, \\\"day\\\"] = sustained_zero.groupby(\\\"id\\\").transform(\\n        lambda x: np.arange(len(x)) + 1\\n    )\\n\\n    sales = sales.merge(sustained_zero, on=[\\\"id\\\", \\\"day\\\"], how=\\\"left\\\", copy=False)\\n\\n    # create target variable\\n    for ahead in tqdm(ahead_windows, desc=\\\"fe: ahead target\\\"):\\n        y_ahead = create_shifted_feature(sales, ahead)\\n        sales.loc[:, f\\\"target_shift_{ahead}\\\"] = y_ahead\\n\\n    # shift future events back\\n    for ahead in tqdm(ahead_windows, desc=\\\"fe: ahead events\\\"):\\n        event_type_ahead = create_shifted_feature(\\n            sales, ahead, feature_col=\\\"event_type\\\"\\n        ).replace({0: \\\"No events\\\"})\\n        event_name_ahead = create_shifted_feature(\\n            sales, ahead, feature_col=\\\"event_name\\\"\\n        ).replace({0: \\\"No events\\\"})\\n        weekday_ahead = create_shifted_feature(sales, ahead, feature_col=\\\"weekday\\\")\\n\\n        weekend_ahead = weekday_ahead.isin({0, 1}).astype(int)\\n        friday_ahead = (weekday_ahead == 6).astype(int)\\n\\n        sales.loc[:, f\\\"event_type_shift_{ahead}\\\"] = event_type_ahead\\n        sales.loc[:, f\\\"event_name_shift_{ahead}\\\"] = event_name_ahead\\n        sales.loc[:, f\\\"weekend_shift_{ahead}\\\"] = weekend_ahead\\n        sales.loc[:, f\\\"friday_shift_{ahead}\\\"] = friday_ahead\\n\\n    return sales\";\n",
       "                var nbb_formatted_code = \"def create_shifted_feature(\\n    data: pd.DataFrame, lag: int = 28, feature_col: str = \\\"sales\\\", id_col: str = \\\"id\\\",\\n) -> pd.DataFrame:\\n    feat = data.groupby(id_col)[feature_col].shift(-lag).fillna(0)\\n    return feat\\n\\n\\ndef preprocess_calendar(calendar: pd.DataFrame) -> pd.DataFrame:\\n    calendar = calendar.copy()\\n    event_name_map = {mod: i for i, mod in enumerate(calendar[\\\"event_name_1\\\"].unique())}\\n    event_type_map = {mod: i for i, mod in enumerate(calendar[\\\"event_type_1\\\"].unique())}\\n\\n    calendar[\\\"event_name\\\"] = calendar[\\\"event_name_1\\\"]\\n    calendar[\\\"event_type\\\"] = calendar[\\\"event_type_1\\\"]\\n\\n    #     calendar[\\\"event_name\\\"] = calendar[\\\"event_name\\\"].map(event_name_map)\\n    #     calendar[\\\"event_type\\\"] = calendar[\\\"event_type\\\"].map(event_type_map)\\n    calendar[\\\"d\\\"] = calendar[\\\"d\\\"].str.replace(\\\"d_\\\", \\\"\\\").astype(int)\\n    calendar[\\\"wday\\\"] -= 1\\n    calendar[\\\"month\\\"] -= 1\\n    calendar[\\\"year\\\"] -= 2011\\n    calendar[\\\"week_number\\\"] = pd.to_datetime(calendar[\\\"date\\\"]).dt.week\\n\\n    calendar = calendar.sort_values(\\\"date\\\")\\n    calendar = calendar.drop(\\n        [\\n            \\\"event_name_1\\\",\\n            \\\"event_name_2\\\",\\n            \\\"event_type_1\\\",\\n            \\\"event_type_2\\\",\\n            #             \\\"date\\\",\\n            #             \\\"weekday\\\",\\n        ],\\n        axis=1,\\n    )\\n    return calendar\\n\\n\\ndef preprocess_sales(sales):\\n    sales = sales.copy()\\n    series_cols = sales.columns[sales.columns.str.contains(\\\"d_\\\")].values\\n    level_cols = sales.columns[~sales.columns.str.contains(\\\"d_\\\")].values\\n    sales = sales.melt(level_cols, series_cols, var_name=\\\"day\\\", value_name=\\\"sales\\\")\\n    sales[\\\"day\\\"] = sales[\\\"day\\\"].str.replace(\\\"d_\\\", \\\"\\\").astype(int)\\n    return sales\\n\\n\\ndef merge_and_melt(sales, calendar, prices):\\n    logger.info(\\\"preprocessing\\\")\\n    sales = preprocess_sales(sales)\\n    calendar = preprocess_calendar(calendar)\\n\\n    logger.info(\\\"merging with calendar, prices\\\")\\n    # merge with calendar\\n    sales = sales.merge(\\n        calendar, left_on=\\\"day\\\", right_on=\\\"d\\\", validate=\\\"many_to_one\\\", how=\\\"left\\\"\\n    )\\n    sales = sales.merge(\\n        prices,\\n        left_on=[\\\"item_id\\\", \\\"store_id\\\", \\\"wm_yr_wk\\\"],\\n        right_on=[\\\"item_id\\\", \\\"store_id\\\", \\\"wm_yr_wk\\\"],\\n        validate=\\\"many_to_one\\\",\\n        how=\\\"left\\\",\\n    )\\n    return sales\\n\\n\\ndef intervaled_cumsum(a, trigger_val=1, start_val=0, invalid_specifier=-1):\\n    out = np.ones(a.size, dtype=int)\\n    idx = np.flatnonzero(a == trigger_val)\\n    if len(idx) == 0:\\n        return np.full(a.size, invalid_specifier)\\n    else:\\n        out[idx[0]] = -idx[0] + 1\\n        out[0] = start_val\\n        out[idx[1:]] = idx[:-1] - idx[1:] + 1\\n        np.cumsum(out, out=out)\\n        out[: idx[0]] = invalid_specifier\\n        return out\\n\\n\\ndef feature_engineering(\\n    sales: pd.DataFrame, ahead_windows=[3, 7, 14, 28]\\n) -> pd.DataFrame:\\n\\n    logger.info(\\\"feature engineeering\\\")\\n    # impute missing data on sell price\\n    sales[\\\"sell_price\\\"] = sales.groupby(\\\"item_id\\\")[\\\"sell_price\\\"].apply(\\n        lambda x: x.fillna(x[~x.isnull()].median())\\n    )\\n\\n    # make rolling averages/std for items\\n    windows = [3, 7, 30, 90, 180, 360]\\n    for window in tqdm(windows, desc=\\\"fe: rolling stats\\\"):\\n        sales.loc[:, f\\\"rolling_sales_mean_{window}\\\"] = (\\n            sales.groupby([\\\"id\\\"])[\\\"sales\\\"]\\n            .transform(lambda x: x.rolling(window=window).mean())\\n            .astype(np.float16)\\n            .fillna(0)\\n        )\\n        sales.loc[:, f\\\"rolling_sales_std_{window}\\\"] = (\\n            sales.groupby([\\\"id\\\"])[\\\"sales\\\"]\\n            .transform(lambda x: x.rolling(window=window).std())\\n            .astype(np.float16)\\n            .fillna(0)\\n        )\\n\\n    # difference between short-long trends\\n    short_windows = [3, 7, 30]\\n    long_windows = [90, 180, 360]\\n\\n    for short_window in tqdm(short_windows, desc=\\\"fe: long-short term diff\\\"):\\n        for long_window in long_windows:\\n            sales.loc[:, f\\\"trend_diff_{short_window}_{long_window}\\\"] = (\\n                sales[f\\\"rolling_sales_mean_{short_window}\\\"]\\n                - sales[f\\\"rolling_sales_mean_{long_window}\\\"]\\n            )\\n\\n    # store-wise rolling average\\n\\n    # see if in a zero plateau\\n    sustained_zero = (\\n        sales.groupby(\\\"id\\\")[\\\"sales\\\"]\\n        .apply(lambda x: intervaled_cumsum(x == 0))\\n        .explode()\\n        .astype(int)\\n    )\\n    sustained_zero.name = \\\"days_sustained_zero\\\"\\n    sustained_zero = sustained_zero.reset_index()\\n    sustained_zero.loc[:, \\\"day\\\"] = sustained_zero.groupby(\\\"id\\\").transform(\\n        lambda x: np.arange(len(x)) + 1\\n    )\\n\\n    sales = sales.merge(sustained_zero, on=[\\\"id\\\", \\\"day\\\"], how=\\\"left\\\", copy=False)\\n\\n    # create target variable\\n    for ahead in tqdm(ahead_windows, desc=\\\"fe: ahead target\\\"):\\n        y_ahead = create_shifted_feature(sales, ahead)\\n        sales.loc[:, f\\\"target_shift_{ahead}\\\"] = y_ahead\\n\\n    # shift future events back\\n    for ahead in tqdm(ahead_windows, desc=\\\"fe: ahead events\\\"):\\n        event_type_ahead = create_shifted_feature(\\n            sales, ahead, feature_col=\\\"event_type\\\"\\n        ).replace({0: \\\"No events\\\"})\\n        event_name_ahead = create_shifted_feature(\\n            sales, ahead, feature_col=\\\"event_name\\\"\\n        ).replace({0: \\\"No events\\\"})\\n        weekday_ahead = create_shifted_feature(sales, ahead, feature_col=\\\"weekday\\\")\\n\\n        weekend_ahead = weekday_ahead.isin({0, 1}).astype(int)\\n        friday_ahead = (weekday_ahead == 6).astype(int)\\n\\n        sales.loc[:, f\\\"event_type_shift_{ahead}\\\"] = event_type_ahead\\n        sales.loc[:, f\\\"event_name_shift_{ahead}\\\"] = event_name_ahead\\n        sales.loc[:, f\\\"weekend_shift_{ahead}\\\"] = weekend_ahead\\n        sales.loc[:, f\\\"friday_shift_{ahead}\\\"] = friday_ahead\\n\\n    return sales\";\n",
       "                var nbb_cells = Jupyter.notebook.get_cells();\n",
       "                for (var i = 0; i < nbb_cells.length; ++i) {\n",
       "                    if (nbb_cells[i].input_prompt_number == nbb_cell_id) {\n",
       "                        if (nbb_cells[i].get_text() == nbb_unformatted_code) {\n",
       "                             nbb_cells[i].set_text(nbb_formatted_code);\n",
       "                        }\n",
       "                        break;\n",
       "                    }\n",
       "                }\n",
       "            }, 500);\n",
       "            "
      ],
      "text/plain": [
       "<IPython.core.display.Javascript object>"
      ]
     },
     "metadata": {},
     "output_type": "display_data"
    }
   ],
   "source": [
    "def create_shifted_feature(\n",
    "    data: pd.DataFrame, lag: int = 28, feature_col: str = \"sales\", id_col: str = \"id\",\n",
    ") -> pd.DataFrame:\n",
    "    feat = data.groupby(id_col)[feature_col].shift(-lag).fillna(0)\n",
    "    return feat\n",
    "\n",
    "\n",
    "def preprocess_calendar(calendar: pd.DataFrame) -> pd.DataFrame:\n",
    "    calendar = calendar.copy()\n",
    "    event_name_map = {mod: i for i, mod in enumerate(calendar[\"event_name_1\"].unique())}\n",
    "    event_type_map = {mod: i for i, mod in enumerate(calendar[\"event_type_1\"].unique())}\n",
    "\n",
    "    calendar[\"event_name\"] = calendar[\"event_name_1\"]\n",
    "    calendar[\"event_type\"] = calendar[\"event_type_1\"]\n",
    "\n",
    "    #     calendar[\"event_name\"] = calendar[\"event_name\"].map(event_name_map)\n",
    "    #     calendar[\"event_type\"] = calendar[\"event_type\"].map(event_type_map)\n",
    "    calendar[\"d\"] = calendar[\"d\"].str.replace(\"d_\", \"\").astype(int)\n",
    "    calendar[\"wday\"] -= 1\n",
    "    calendar[\"month\"] -= 1\n",
    "    calendar[\"year\"] -= 2011\n",
    "    calendar[\"week_number\"] = pd.to_datetime(calendar[\"date\"]).dt.week\n",
    "\n",
    "    calendar = calendar.sort_values(\"date\")\n",
    "    calendar = calendar.drop(\n",
    "        [\n",
    "            \"event_name_1\",\n",
    "            \"event_name_2\",\n",
    "            \"event_type_1\",\n",
    "            \"event_type_2\",\n",
    "            #             \"date\",\n",
    "            #             \"weekday\",\n",
    "        ],\n",
    "        axis=1,\n",
    "    )\n",
    "    return calendar\n",
    "\n",
    "\n",
    "def preprocess_sales(sales):\n",
    "    sales = sales.copy()\n",
    "    series_cols = sales.columns[sales.columns.str.contains(\"d_\")].values\n",
    "    level_cols = sales.columns[~sales.columns.str.contains(\"d_\")].values\n",
    "    sales = sales.melt(level_cols, series_cols, var_name=\"day\", value_name=\"sales\")\n",
    "    sales[\"day\"] = sales[\"day\"].str.replace(\"d_\", \"\").astype(int)\n",
    "    return sales\n",
    "\n",
    "\n",
    "def merge_and_melt(sales, calendar, prices):\n",
    "    logger.info(\"preprocessing\")\n",
    "    sales = preprocess_sales(sales)\n",
    "    calendar = preprocess_calendar(calendar)\n",
    "\n",
    "    logger.info(\"merging with calendar, prices\")\n",
    "    # merge with calendar\n",
    "    sales = sales.merge(\n",
    "        calendar, left_on=\"day\", right_on=\"d\", validate=\"many_to_one\", how=\"left\"\n",
    "    )\n",
    "    sales = sales.merge(\n",
    "        prices,\n",
    "        left_on=[\"item_id\", \"store_id\", \"wm_yr_wk\"],\n",
    "        right_on=[\"item_id\", \"store_id\", \"wm_yr_wk\"],\n",
    "        validate=\"many_to_one\",\n",
    "        how=\"left\",\n",
    "    )\n",
    "    return sales\n",
    "\n",
    "\n",
    "def intervaled_cumsum(a, trigger_val=1, start_val=0, invalid_specifier=-1):\n",
    "    out = np.ones(a.size, dtype=int)\n",
    "    idx = np.flatnonzero(a == trigger_val)\n",
    "    if len(idx) == 0:\n",
    "        return np.full(a.size, invalid_specifier)\n",
    "    else:\n",
    "        out[idx[0]] = -idx[0] + 1\n",
    "        out[0] = start_val\n",
    "        out[idx[1:]] = idx[:-1] - idx[1:] + 1\n",
    "        np.cumsum(out, out=out)\n",
    "        out[: idx[0]] = invalid_specifier\n",
    "        return out\n",
    "\n",
    "\n",
    "def feature_engineering(\n",
    "    sales: pd.DataFrame, ahead_windows=[3, 7, 14, 28]\n",
    ") -> pd.DataFrame:\n",
    "\n",
    "    logger.info(\"feature engineeering\")\n",
    "    # impute missing data on sell price\n",
    "    sales[\"sell_price\"] = sales.groupby(\"item_id\")[\"sell_price\"].apply(\n",
    "        lambda x: x.fillna(x[~x.isnull()].median())\n",
    "    )\n",
    "\n",
    "    # make rolling averages/std for items\n",
    "    windows = [3, 7, 30, 90, 180, 360]\n",
    "    for window in tqdm(windows, desc=\"fe: rolling stats\"):\n",
    "        sales.loc[:, f\"rolling_sales_mean_{window}\"] = (\n",
    "            sales.groupby([\"id\"])[\"sales\"]\n",
    "            .transform(lambda x: x.rolling(window=window).mean())\n",
    "            .astype(np.float16)\n",
    "            .fillna(0)\n",
    "        )\n",
    "        sales.loc[:, f\"rolling_sales_std_{window}\"] = (\n",
    "            sales.groupby([\"id\"])[\"sales\"]\n",
    "            .transform(lambda x: x.rolling(window=window).std())\n",
    "            .astype(np.float16)\n",
    "            .fillna(0)\n",
    "        )\n",
    "\n",
    "    # difference between short-long trends\n",
    "    short_windows = [3, 7, 30]\n",
    "    long_windows = [90, 180, 360]\n",
    "\n",
    "    for short_window in tqdm(short_windows, desc=\"fe: long-short term diff\"):\n",
    "        for long_window in long_windows:\n",
    "            sales.loc[:, f\"trend_diff_{short_window}_{long_window}\"] = (\n",
    "                sales[f\"rolling_sales_mean_{short_window}\"]\n",
    "                - sales[f\"rolling_sales_mean_{long_window}\"]\n",
    "            )\n",
    "\n",
    "    # store-wise rolling average\n",
    "\n",
    "    # see if in a zero plateau\n",
    "    sustained_zero = (\n",
    "        sales.groupby(\"id\")[\"sales\"]\n",
    "        .apply(lambda x: intervaled_cumsum(x == 0))\n",
    "        .explode()\n",
    "        .astype(int)\n",
    "    )\n",
    "    sustained_zero.name = \"days_sustained_zero\"\n",
    "    sustained_zero = sustained_zero.reset_index()\n",
    "    sustained_zero.loc[:, \"day\"] = sustained_zero.groupby(\"id\").transform(\n",
    "        lambda x: np.arange(len(x)) + 1\n",
    "    )\n",
    "\n",
    "    sales = sales.merge(sustained_zero, on=[\"id\", \"day\"], how=\"left\", copy=False)\n",
    "\n",
    "    # create target variable\n",
    "    for ahead in tqdm(ahead_windows, desc=\"fe: ahead target\"):\n",
    "        y_ahead = create_shifted_feature(sales, ahead)\n",
    "        sales.loc[:, f\"target_shift_{ahead}\"] = y_ahead\n",
    "\n",
    "    # shift future events back\n",
    "    for ahead in tqdm(ahead_windows, desc=\"fe: ahead events\"):\n",
    "        event_type_ahead = create_shifted_feature(\n",
    "            sales, ahead, feature_col=\"event_type\"\n",
    "        ).replace({0: \"No events\"})\n",
    "        event_name_ahead = create_shifted_feature(\n",
    "            sales, ahead, feature_col=\"event_name\"\n",
    "        ).replace({0: \"No events\"})\n",
    "        weekday_ahead = create_shifted_feature(sales, ahead, feature_col=\"weekday\")\n",
    "\n",
    "        weekend_ahead = weekday_ahead.isin({0, 1}).astype(int)\n",
    "        friday_ahead = (weekday_ahead == 6).astype(int)\n",
    "\n",
    "        sales.loc[:, f\"event_type_shift_{ahead}\"] = event_type_ahead\n",
    "        sales.loc[:, f\"event_name_shift_{ahead}\"] = event_name_ahead\n",
    "        sales.loc[:, f\"weekend_shift_{ahead}\"] = weekend_ahead\n",
    "        sales.loc[:, f\"friday_shift_{ahead}\"] = friday_ahead\n",
    "\n",
    "    return sales"
   ]
  },
  {
   "cell_type": "code",
   "execution_count": 9,
   "metadata": {},
   "outputs": [
    {
     "data": {
      "application/javascript": [
       "\n",
       "            setTimeout(function() {\n",
       "                var nbb_cell_id = 9;\n",
       "                var nbb_unformatted_code = \"AHEAD_WINDOWS = [3, 7, 14, 28]\";\n",
       "                var nbb_formatted_code = \"AHEAD_WINDOWS = [3, 7, 14, 28]\";\n",
       "                var nbb_cells = Jupyter.notebook.get_cells();\n",
       "                for (var i = 0; i < nbb_cells.length; ++i) {\n",
       "                    if (nbb_cells[i].input_prompt_number == nbb_cell_id) {\n",
       "                        if (nbb_cells[i].get_text() == nbb_unformatted_code) {\n",
       "                             nbb_cells[i].set_text(nbb_formatted_code);\n",
       "                        }\n",
       "                        break;\n",
       "                    }\n",
       "                }\n",
       "            }, 500);\n",
       "            "
      ],
      "text/plain": [
       "<IPython.core.display.Javascript object>"
      ]
     },
     "metadata": {},
     "output_type": "display_data"
    }
   ],
   "source": [
    "AHEAD_WINDOWS = [3, 7, 14, 28]"
   ]
  },
  {
   "cell_type": "code",
   "execution_count": 12,
   "metadata": {
    "scrolled": true
   },
   "outputs": [
    {
     "name": "stderr",
     "output_type": "stream",
     "text": [
      "2022-04-30 00:05:24.683 | INFO     | __main__:feature_engineering:86 - feature engineeering\n",
      "fe: rolling stats: 100%|████████████████████████████████████████████████████████████████████████████████████████████████████████████████████████████████████████| 6/6 [04:47<00:00, 47.85s/it]\n",
      "fe: long-short term diff: 100%|█████████████████████████████████████████████████████████████████████████████████████████████████████████████████████████████████| 3/3 [00:08<00:00,  2.79s/it]\n",
      "fe: ahead target: 100%|█████████████████████████████████████████████████████████████████████████████████████████████████████████████████████████████████████████| 4/4 [00:22<00:00,  5.59s/it]\n",
      "fe: ahead events: 100%|█████████████████████████████████████████████████████████████████████████████████████████████████████████████████████████████████████████| 4/4 [02:40<00:00, 40.24s/it]\n"
     ]
    },
    {
     "name": "stdout",
     "output_type": "stream",
     "text": [
      "Memory usage of dataframe is 22237.16 MB\n",
      "Memory usage after optimization is: 5984.00 MB\n",
      "Decreased by 73.1%\n"
     ]
    },
    {
     "data": {
      "application/javascript": [
       "\n",
       "            setTimeout(function() {\n",
       "                var nbb_cell_id = 12;\n",
       "                var nbb_unformatted_code = \"# data_saved = os.path.isfile(\\\"../data/train.h5\\\")\\ndata_saved = False\\nif data_saved:\\n    data = pd.read_hdf(\\\"../data/train.h5\\\")\\nelse:\\n#     data = merge_and_melt(sales, calendar, prices)\\n    data = feature_engineering(data, AHEAD_WINDOWS)\\n    data = reduce_mem_usage(data)\\n\\n    data.to_hdf(\\\"../data/train.h5\\\", key=\\\"train\\\", format=\\\"table\\\")\";\n",
       "                var nbb_formatted_code = \"# data_saved = os.path.isfile(\\\"../data/train.h5\\\")\\ndata_saved = False\\nif data_saved:\\n    data = pd.read_hdf(\\\"../data/train.h5\\\")\\nelse:\\n    #     data = merge_and_melt(sales, calendar, prices)\\n    data = feature_engineering(data, AHEAD_WINDOWS)\\n    data = reduce_mem_usage(data)\\n\\n    data.to_hdf(\\\"../data/train.h5\\\", key=\\\"train\\\", format=\\\"table\\\")\";\n",
       "                var nbb_cells = Jupyter.notebook.get_cells();\n",
       "                for (var i = 0; i < nbb_cells.length; ++i) {\n",
       "                    if (nbb_cells[i].input_prompt_number == nbb_cell_id) {\n",
       "                        if (nbb_cells[i].get_text() == nbb_unformatted_code) {\n",
       "                             nbb_cells[i].set_text(nbb_formatted_code);\n",
       "                        }\n",
       "                        break;\n",
       "                    }\n",
       "                }\n",
       "            }, 500);\n",
       "            "
      ],
      "text/plain": [
       "<IPython.core.display.Javascript object>"
      ]
     },
     "metadata": {},
     "output_type": "display_data"
    }
   ],
   "source": [
    "data_saved = os.path.isfile(\"../data/train.h5\")\n",
    "# data_saved = False\n",
    "if data_saved:\n",
    "    data = pd.read_hdf(\"../data/train.h5\")\n",
    "else:\n",
    "    data = merge_and_melt(sales, calendar, prices)\n",
    "    data = feature_engineering(data, AHEAD_WINDOWS)\n",
    "    data = reduce_mem_usage(data)\n",
    "\n",
    "    data.to_hdf(\"../data/train.h5\", key=\"train\", format=\"table\")"
   ]
  },
  {
   "cell_type": "code",
   "execution_count": 153,
   "metadata": {},
   "outputs": [
    {
     "data": {
      "application/javascript": [
       "\n",
       "            setTimeout(function() {\n",
       "                var nbb_cell_id = 153;\n",
       "                var nbb_unformatted_code = \"\\ndump_cols = [\\n    \\\"id\\\",\\n    \\\"wm_y_wk\\\",\\n    \\\"event_name\\\",\\n    \\\"d\\\",\\n    \\\"day\\\",\\n    \\\"event_type\\\",\\n    \\\"wm_yr_wk\\\",\\n    \\\"weekday\\\",\\n    \\\"date\\\",\\n] + [c for c in data.columns if c.startswith(\\\"target\\\")]\\nfeat_cols = [c for c in data.columns if c not in dump_cols]\\ncat_cols = [\\n    \\\"item_id\\\",\\n    \\\"dept_id\\\",\\n    \\\"cat_id\\\",\\n    \\\"store_id\\\",\\n    \\\"state_id\\\",\\n    \\\"event_name_shift_3\\\",\\n    \\\"event_name_shift_7\\\",\\n    \\\"event_name_shift_14\\\",\\n    \\\"event_name_shift_28\\\",\\n    \\\"event_type_shift_3\\\",\\n    \\\"event_type_shift_7\\\",\\n    \\\"event_type_shift_14\\\",\\n    \\\"event_type_shift_28\\\",\\n    'weekend_shift_3', 'friday_shift_3', 'weekend_shift_7',\\n       'friday_shift_7', 'weekend_shift_14', 'friday_shift_14',\\n       'weekend_shift_28', 'friday_shift_28'\\n]\\n\\ncont_cols = [c for c in feat_cols if c not in cat_cols]\";\n",
       "                var nbb_formatted_code = \"dump_cols = [\\n    \\\"id\\\",\\n    \\\"wm_y_wk\\\",\\n    \\\"event_name\\\",\\n    \\\"d\\\",\\n    \\\"day\\\",\\n    \\\"event_type\\\",\\n    \\\"wm_yr_wk\\\",\\n    \\\"weekday\\\",\\n    \\\"date\\\",\\n] + [c for c in data.columns if c.startswith(\\\"target\\\")]\\nfeat_cols = [c for c in data.columns if c not in dump_cols]\\ncat_cols = [\\n    \\\"item_id\\\",\\n    \\\"dept_id\\\",\\n    \\\"cat_id\\\",\\n    \\\"store_id\\\",\\n    \\\"state_id\\\",\\n    \\\"event_name_shift_3\\\",\\n    \\\"event_name_shift_7\\\",\\n    \\\"event_name_shift_14\\\",\\n    \\\"event_name_shift_28\\\",\\n    \\\"event_type_shift_3\\\",\\n    \\\"event_type_shift_7\\\",\\n    \\\"event_type_shift_14\\\",\\n    \\\"event_type_shift_28\\\",\\n    \\\"weekend_shift_3\\\",\\n    \\\"friday_shift_3\\\",\\n    \\\"weekend_shift_7\\\",\\n    \\\"friday_shift_7\\\",\\n    \\\"weekend_shift_14\\\",\\n    \\\"friday_shift_14\\\",\\n    \\\"weekend_shift_28\\\",\\n    \\\"friday_shift_28\\\",\\n]\\n\\ncont_cols = [c for c in feat_cols if c not in cat_cols]\";\n",
       "                var nbb_cells = Jupyter.notebook.get_cells();\n",
       "                for (var i = 0; i < nbb_cells.length; ++i) {\n",
       "                    if (nbb_cells[i].input_prompt_number == nbb_cell_id) {\n",
       "                        if (nbb_cells[i].get_text() == nbb_unformatted_code) {\n",
       "                             nbb_cells[i].set_text(nbb_formatted_code);\n",
       "                        }\n",
       "                        break;\n",
       "                    }\n",
       "                }\n",
       "            }, 500);\n",
       "            "
      ],
      "text/plain": [
       "<IPython.core.display.Javascript object>"
      ]
     },
     "metadata": {},
     "output_type": "display_data"
    }
   ],
   "source": [
    "dump_cols = [\n",
    "    \"id\",\n",
    "    \"wm_y_wk\",\n",
    "    \"event_name\",\n",
    "    \"d\",\n",
    "    \"day\",\n",
    "    \"event_type\",\n",
    "    \"wm_yr_wk\",\n",
    "    \"weekday\",\n",
    "    \"date\",\n",
    "] + [c for c in data.columns if c.startswith(\"target\")]\n",
    "feat_cols = [c for c in data.columns if c not in dump_cols]\n",
    "cat_cols = [\n",
    "    \"item_id\",\n",
    "    \"dept_id\",\n",
    "    \"cat_id\",\n",
    "    \"store_id\",\n",
    "    \"state_id\",\n",
    "    \"event_name_shift_3\",\n",
    "    \"event_name_shift_7\",\n",
    "    \"event_name_shift_14\",\n",
    "    \"event_name_shift_28\",\n",
    "    \"event_type_shift_3\",\n",
    "    \"event_type_shift_7\",\n",
    "    \"event_type_shift_14\",\n",
    "    \"event_type_shift_28\",\n",
    "    \"weekend_shift_3\",\n",
    "    \"friday_shift_3\",\n",
    "    \"weekend_shift_7\",\n",
    "    \"friday_shift_7\",\n",
    "    \"weekend_shift_14\",\n",
    "    \"friday_shift_14\",\n",
    "    \"weekend_shift_28\",\n",
    "    \"friday_shift_28\",\n",
    "]\n",
    "\n",
    "cont_cols = [c for c in feat_cols if c not in cat_cols]"
   ]
  },
  {
   "cell_type": "code",
   "execution_count": 27,
   "metadata": {
    "scrolled": true
   },
   "outputs": [
    {
     "data": {
      "application/javascript": [
       "\n",
       "            setTimeout(function() {\n",
       "                var nbb_cell_id = 27;\n",
       "                var nbb_unformatted_code = \"### ENCODE CATEGORICAL VARIABLES\\n# encode_dict = {}\\n\\nfor col in cat_cols[-4:]:\\n    lbe = LabelEncoder()\\n    lbe.fit(data[col])\\n    data.loc[:, col] = lbe.fit_transform(data[col])\\n    encode_dict[col] = lbe\";\n",
       "                var nbb_formatted_code = \"### ENCODE CATEGORICAL VARIABLES\\n# encode_dict = {}\\n\\nfor col in cat_cols[-4:]:\\n    lbe = LabelEncoder()\\n    lbe.fit(data[col])\\n    data.loc[:, col] = lbe.fit_transform(data[col])\\n    encode_dict[col] = lbe\";\n",
       "                var nbb_cells = Jupyter.notebook.get_cells();\n",
       "                for (var i = 0; i < nbb_cells.length; ++i) {\n",
       "                    if (nbb_cells[i].input_prompt_number == nbb_cell_id) {\n",
       "                        if (nbb_cells[i].get_text() == nbb_unformatted_code) {\n",
       "                             nbb_cells[i].set_text(nbb_formatted_code);\n",
       "                        }\n",
       "                        break;\n",
       "                    }\n",
       "                }\n",
       "            }, 500);\n",
       "            "
      ],
      "text/plain": [
       "<IPython.core.display.Javascript object>"
      ]
     },
     "metadata": {},
     "output_type": "display_data"
    }
   ],
   "source": [
    "### ENCODE CATEGORICAL VARIABLES\n",
    "encode_dict = {}\n",
    "\n",
    "for col in cat_cols:\n",
    "    lbe = LabelEncoder()\n",
    "    lbe.fit(data[col])\n",
    "    data.loc[:, col] = lbe.fit_transform(data[col])\n",
    "    encode_dict[col] = lbe\n",
    "\n",
    "pickle.dump(encode_dict, open(\"../models/encoders.pkl\", \"wb\"))"
   ]
  },
  {
   "cell_type": "code",
   "execution_count": 173,
   "metadata": {},
   "outputs": [
    {
     "data": {
      "application/javascript": [
       "\n",
       "            setTimeout(function() {\n",
       "                var nbb_cell_id = 173;\n",
       "                var nbb_unformatted_code = \"cat_mean_dict = {col: train.groupby(col)[\\\"sales\\\"].mean().to_dict() for col in cat_cols}\";\n",
       "                var nbb_formatted_code = \"cat_mean_dict = {col: train.groupby(col)[\\\"sales\\\"].mean().to_dict() for col in cat_cols}\";\n",
       "                var nbb_cells = Jupyter.notebook.get_cells();\n",
       "                for (var i = 0; i < nbb_cells.length; ++i) {\n",
       "                    if (nbb_cells[i].input_prompt_number == nbb_cell_id) {\n",
       "                        if (nbb_cells[i].get_text() == nbb_unformatted_code) {\n",
       "                             nbb_cells[i].set_text(nbb_formatted_code);\n",
       "                        }\n",
       "                        break;\n",
       "                    }\n",
       "                }\n",
       "            }, 500);\n",
       "            "
      ],
      "text/plain": [
       "<IPython.core.display.Javascript object>"
      ]
     },
     "metadata": {},
     "output_type": "display_data"
    }
   ],
   "source": [
    "cat_mean_dict = {col: train.groupby(col)[\"sales\"].mean().to_dict() for col in cat_cols}"
   ]
  },
  {
   "cell_type": "code",
   "execution_count": null,
   "metadata": {},
   "outputs": [],
   "source": [
    "cat_mean_dict['']"
   ]
  },
  {
   "cell_type": "markdown",
   "metadata": {},
   "source": [
    "### Bayseian Ridge"
   ]
  },
  {
   "cell_type": "code",
   "execution_count": 152,
   "metadata": {},
   "outputs": [
    {
     "data": {
      "application/javascript": [
       "\n",
       "            setTimeout(function() {\n",
       "                var nbb_cell_id = 152;\n",
       "                var nbb_unformatted_code = \"from sklearn.linear_model import BayesianRidge\\nfrom sklearn.preprocessing import StandardScaler\";\n",
       "                var nbb_formatted_code = \"from sklearn.linear_model import BayesianRidge\\nfrom sklearn.preprocessing import StandardScaler\";\n",
       "                var nbb_cells = Jupyter.notebook.get_cells();\n",
       "                for (var i = 0; i < nbb_cells.length; ++i) {\n",
       "                    if (nbb_cells[i].input_prompt_number == nbb_cell_id) {\n",
       "                        if (nbb_cells[i].get_text() == nbb_unformatted_code) {\n",
       "                             nbb_cells[i].set_text(nbb_formatted_code);\n",
       "                        }\n",
       "                        break;\n",
       "                    }\n",
       "                }\n",
       "            }, 500);\n",
       "            "
      ],
      "text/plain": [
       "<IPython.core.display.Javascript object>"
      ]
     },
     "metadata": {},
     "output_type": "display_data"
    }
   ],
   "source": [
    "from sklearn.linear_model import BayesianRidge\n",
    "from sklearn.preprocessing import StandardScaler"
   ]
  },
  {
   "cell_type": "code",
   "execution_count": 174,
   "metadata": {
    "scrolled": true
   },
   "outputs": [
    {
     "name": "stderr",
     "output_type": "stream",
     "text": [
      "  0%|                                                                                                                                                                                                                          | 0/4 [00:00<?, ?it/s]/tmp/ipykernel_3814859/3879309616.py:14: SettingWithCopyWarning: \n",
      "A value is trying to be set on a copy of a slice from a DataFrame.\n",
      "Try using .loc[row_indexer,col_indexer] = value instead\n",
      "\n",
      "See the caveats in the documentation: https://pandas.pydata.org/pandas-docs/stable/user_guide/indexing.html#returning-a-view-versus-a-copy\n",
      "  train[col] = train[col].replace(mean)\n",
      "/tmp/ipykernel_3814859/3879309616.py:15: SettingWithCopyWarning: \n",
      "A value is trying to be set on a copy of a slice from a DataFrame.\n",
      "Try using .loc[row_indexer,col_indexer] = value instead\n",
      "\n",
      "See the caveats in the documentation: https://pandas.pydata.org/pandas-docs/stable/user_guide/indexing.html#returning-a-view-versus-a-copy\n",
      "  val[col] = val[col].replace(mean)\n",
      "/tmp/ipykernel_3814859/3879309616.py:16: SettingWithCopyWarning: \n",
      "A value is trying to be set on a copy of a slice from a DataFrame.\n",
      "Try using .loc[row_indexer,col_indexer] = value instead\n",
      "\n",
      "See the caveats in the documentation: https://pandas.pydata.org/pandas-docs/stable/user_guide/indexing.html#returning-a-view-versus-a-copy\n",
      "  test[col] = test[col].replace(mean)\n",
      "/home/user/anaconda3/envs/py37/lib/python3.9/site-packages/pandas/core/indexing.py:1835: SettingWithCopyWarning: \n",
      "A value is trying to be set on a copy of a slice from a DataFrame.\n",
      "Try using .loc[row_indexer,col_indexer] = value instead\n",
      "\n",
      "See the caveats in the documentation: https://pandas.pydata.org/pandas-docs/stable/user_guide/indexing.html#returning-a-view-versus-a-copy\n",
      "  self._setitem_single_column(loc, value[:, i].tolist(), pi)\n",
      "/home/user/anaconda3/envs/py37/lib/python3.9/site-packages/pandas/core/indexing.py:1835: SettingWithCopyWarning: \n",
      "A value is trying to be set on a copy of a slice from a DataFrame.\n",
      "Try using .loc[row_indexer,col_indexer] = value instead\n",
      "\n",
      "See the caveats in the documentation: https://pandas.pydata.org/pandas-docs/stable/user_guide/indexing.html#returning-a-view-versus-a-copy\n",
      "  self._setitem_single_column(loc, value[:, i].tolist(), pi)\n",
      "/home/user/anaconda3/envs/py37/lib/python3.9/site-packages/pandas/core/indexing.py:1835: SettingWithCopyWarning: \n",
      "A value is trying to be set on a copy of a slice from a DataFrame.\n",
      "Try using .loc[row_indexer,col_indexer] = value instead\n",
      "\n",
      "See the caveats in the documentation: https://pandas.pydata.org/pandas-docs/stable/user_guide/indexing.html#returning-a-view-versus-a-copy\n",
      "  self._setitem_single_column(loc, value[:, i].tolist(), pi)\n",
      " 25%|████████████████████████████████████████████████████▎                                                                                                                                                            | 1/4 [12:25<37:15, 745.13s/it]/tmp/ipykernel_3814859/3879309616.py:14: SettingWithCopyWarning: \n",
      "A value is trying to be set on a copy of a slice from a DataFrame.\n",
      "Try using .loc[row_indexer,col_indexer] = value instead\n",
      "\n",
      "See the caveats in the documentation: https://pandas.pydata.org/pandas-docs/stable/user_guide/indexing.html#returning-a-view-versus-a-copy\n",
      "  train[col] = train[col].replace(mean)\n",
      "/tmp/ipykernel_3814859/3879309616.py:15: SettingWithCopyWarning: \n",
      "A value is trying to be set on a copy of a slice from a DataFrame.\n",
      "Try using .loc[row_indexer,col_indexer] = value instead\n",
      "\n",
      "See the caveats in the documentation: https://pandas.pydata.org/pandas-docs/stable/user_guide/indexing.html#returning-a-view-versus-a-copy\n",
      "  val[col] = val[col].replace(mean)\n",
      "/tmp/ipykernel_3814859/3879309616.py:16: SettingWithCopyWarning: \n",
      "A value is trying to be set on a copy of a slice from a DataFrame.\n",
      "Try using .loc[row_indexer,col_indexer] = value instead\n",
      "\n",
      "See the caveats in the documentation: https://pandas.pydata.org/pandas-docs/stable/user_guide/indexing.html#returning-a-view-versus-a-copy\n",
      "  test[col] = test[col].replace(mean)\n",
      "/home/user/anaconda3/envs/py37/lib/python3.9/site-packages/pandas/core/indexing.py:1835: SettingWithCopyWarning: \n",
      "A value is trying to be set on a copy of a slice from a DataFrame.\n",
      "Try using .loc[row_indexer,col_indexer] = value instead\n",
      "\n",
      "See the caveats in the documentation: https://pandas.pydata.org/pandas-docs/stable/user_guide/indexing.html#returning-a-view-versus-a-copy\n",
      "  self._setitem_single_column(loc, value[:, i].tolist(), pi)\n",
      "/home/user/anaconda3/envs/py37/lib/python3.9/site-packages/pandas/core/indexing.py:1835: SettingWithCopyWarning: \n",
      "A value is trying to be set on a copy of a slice from a DataFrame.\n",
      "Try using .loc[row_indexer,col_indexer] = value instead\n",
      "\n",
      "See the caveats in the documentation: https://pandas.pydata.org/pandas-docs/stable/user_guide/indexing.html#returning-a-view-versus-a-copy\n",
      "  self._setitem_single_column(loc, value[:, i].tolist(), pi)\n",
      "/home/user/anaconda3/envs/py37/lib/python3.9/site-packages/pandas/core/indexing.py:1835: SettingWithCopyWarning: \n",
      "A value is trying to be set on a copy of a slice from a DataFrame.\n",
      "Try using .loc[row_indexer,col_indexer] = value instead\n",
      "\n",
      "See the caveats in the documentation: https://pandas.pydata.org/pandas-docs/stable/user_guide/indexing.html#returning-a-view-versus-a-copy\n",
      "  self._setitem_single_column(loc, value[:, i].tolist(), pi)\n",
      " 50%|████████████████████████████████████████████████████████████████████████████████████████████████████████▌                                                                                                        | 2/4 [25:01<25:04, 752.03s/it]/tmp/ipykernel_3814859/3879309616.py:14: SettingWithCopyWarning: \n",
      "A value is trying to be set on a copy of a slice from a DataFrame.\n",
      "Try using .loc[row_indexer,col_indexer] = value instead\n",
      "\n",
      "See the caveats in the documentation: https://pandas.pydata.org/pandas-docs/stable/user_guide/indexing.html#returning-a-view-versus-a-copy\n",
      "  train[col] = train[col].replace(mean)\n",
      "/tmp/ipykernel_3814859/3879309616.py:15: SettingWithCopyWarning: \n",
      "A value is trying to be set on a copy of a slice from a DataFrame.\n",
      "Try using .loc[row_indexer,col_indexer] = value instead\n",
      "\n",
      "See the caveats in the documentation: https://pandas.pydata.org/pandas-docs/stable/user_guide/indexing.html#returning-a-view-versus-a-copy\n",
      "  val[col] = val[col].replace(mean)\n",
      "/tmp/ipykernel_3814859/3879309616.py:16: SettingWithCopyWarning: \n",
      "A value is trying to be set on a copy of a slice from a DataFrame.\n",
      "Try using .loc[row_indexer,col_indexer] = value instead\n",
      "\n",
      "See the caveats in the documentation: https://pandas.pydata.org/pandas-docs/stable/user_guide/indexing.html#returning-a-view-versus-a-copy\n",
      "  test[col] = test[col].replace(mean)\n",
      "/home/user/anaconda3/envs/py37/lib/python3.9/site-packages/pandas/core/indexing.py:1835: SettingWithCopyWarning: \n",
      "A value is trying to be set on a copy of a slice from a DataFrame.\n",
      "Try using .loc[row_indexer,col_indexer] = value instead\n",
      "\n",
      "See the caveats in the documentation: https://pandas.pydata.org/pandas-docs/stable/user_guide/indexing.html#returning-a-view-versus-a-copy\n",
      "  self._setitem_single_column(loc, value[:, i].tolist(), pi)\n",
      "/home/user/anaconda3/envs/py37/lib/python3.9/site-packages/pandas/core/indexing.py:1835: SettingWithCopyWarning: \n",
      "A value is trying to be set on a copy of a slice from a DataFrame.\n",
      "Try using .loc[row_indexer,col_indexer] = value instead\n",
      "\n",
      "See the caveats in the documentation: https://pandas.pydata.org/pandas-docs/stable/user_guide/indexing.html#returning-a-view-versus-a-copy\n",
      "  self._setitem_single_column(loc, value[:, i].tolist(), pi)\n",
      "/home/user/anaconda3/envs/py37/lib/python3.9/site-packages/pandas/core/indexing.py:1835: SettingWithCopyWarning: \n",
      "A value is trying to be set on a copy of a slice from a DataFrame.\n",
      "Try using .loc[row_indexer,col_indexer] = value instead\n",
      "\n",
      "See the caveats in the documentation: https://pandas.pydata.org/pandas-docs/stable/user_guide/indexing.html#returning-a-view-versus-a-copy\n",
      "  self._setitem_single_column(loc, value[:, i].tolist(), pi)\n",
      " 75%|████████████████████████████████████████████████████████████████████████████████████████████████████████████████████████████████████████████████████████████▊                                                    | 3/4 [37:34<12:32, 752.25s/it]/tmp/ipykernel_3814859/3879309616.py:14: SettingWithCopyWarning: \n",
      "A value is trying to be set on a copy of a slice from a DataFrame.\n",
      "Try using .loc[row_indexer,col_indexer] = value instead\n",
      "\n",
      "See the caveats in the documentation: https://pandas.pydata.org/pandas-docs/stable/user_guide/indexing.html#returning-a-view-versus-a-copy\n",
      "  train[col] = train[col].replace(mean)\n",
      "/tmp/ipykernel_3814859/3879309616.py:15: SettingWithCopyWarning: \n",
      "A value is trying to be set on a copy of a slice from a DataFrame.\n",
      "Try using .loc[row_indexer,col_indexer] = value instead\n",
      "\n",
      "See the caveats in the documentation: https://pandas.pydata.org/pandas-docs/stable/user_guide/indexing.html#returning-a-view-versus-a-copy\n",
      "  val[col] = val[col].replace(mean)\n",
      "/tmp/ipykernel_3814859/3879309616.py:16: SettingWithCopyWarning: \n",
      "A value is trying to be set on a copy of a slice from a DataFrame.\n",
      "Try using .loc[row_indexer,col_indexer] = value instead\n",
      "\n",
      "See the caveats in the documentation: https://pandas.pydata.org/pandas-docs/stable/user_guide/indexing.html#returning-a-view-versus-a-copy\n",
      "  test[col] = test[col].replace(mean)\n",
      "/home/user/anaconda3/envs/py37/lib/python3.9/site-packages/pandas/core/indexing.py:1835: SettingWithCopyWarning: \n",
      "A value is trying to be set on a copy of a slice from a DataFrame.\n",
      "Try using .loc[row_indexer,col_indexer] = value instead\n",
      "\n",
      "See the caveats in the documentation: https://pandas.pydata.org/pandas-docs/stable/user_guide/indexing.html#returning-a-view-versus-a-copy\n",
      "  self._setitem_single_column(loc, value[:, i].tolist(), pi)\n",
      "/home/user/anaconda3/envs/py37/lib/python3.9/site-packages/pandas/core/indexing.py:1835: SettingWithCopyWarning: \n",
      "A value is trying to be set on a copy of a slice from a DataFrame.\n",
      "Try using .loc[row_indexer,col_indexer] = value instead\n",
      "\n",
      "See the caveats in the documentation: https://pandas.pydata.org/pandas-docs/stable/user_guide/indexing.html#returning-a-view-versus-a-copy\n",
      "  self._setitem_single_column(loc, value[:, i].tolist(), pi)\n",
      "/home/user/anaconda3/envs/py37/lib/python3.9/site-packages/pandas/core/indexing.py:1835: SettingWithCopyWarning: \n",
      "A value is trying to be set on a copy of a slice from a DataFrame.\n",
      "Try using .loc[row_indexer,col_indexer] = value instead\n",
      "\n",
      "See the caveats in the documentation: https://pandas.pydata.org/pandas-docs/stable/user_guide/indexing.html#returning-a-view-versus-a-copy\n",
      "  self._setitem_single_column(loc, value[:, i].tolist(), pi)\n",
      "                                                                                                                                                                                                                                                     \r"
     ]
    },
    {
     "data": {
      "application/javascript": [
       "\n",
       "            setTimeout(function() {\n",
       "                var nbb_cell_id = 174;\n",
       "                var nbb_unformatted_code = \"val_preds = []\\ntest_preds = []\\n\\nbayes_models = []\\n\\nfor ahead_by in tqdm(AHEAD_WINDOWS, leave=False):\\n    target_col = f\\\"target_shift_{ahead_by}\\\"\\n\\n    train = data[data[\\\"day\\\"] < 1914 - ahead_by]  # need to subtract lag used\\n    val = data[(1914 - ahead_by <= data[\\\"day\\\"]) & (data[\\\"day\\\"] < 1914)]\\n    test = data[(data[\\\"day\\\"] >= 1914) & (data[\\\"day\\\"] < 1942)]\\n    \\n    for col, mean in cat_mean_dict.items():\\n        train[col] = train[col].replace(mean)\\n        val[col] = val[col].replace(mean)\\n        test[col] = test[col].replace(mean)\\n\\n    X_train, y_train = train[feat_cols], train[target_col]\\n    X_val, y_val = val[feat_cols], val[target_col]\\n    X_test, y_test = test[feat_cols], test[target_col]\\n\\n    ### TRAIN LGBM MODEL\\n    preproc = StandardScaler()\\n    X_train.loc[:, cont_cols] = preproc.fit_transform(X_train[cont_cols])\\n    X_val.loc[:, cont_cols] = preproc.transform(X_val[cont_cols])\\n    X_test.loc[:, cont_cols] = preproc.transform(X_test[cont_cols])\\n\\n    bayes_model = BayesianRidge()\\n    bayes_model.fit(X_train, y_train)\\n\\n    pickle.dump(bayes_model, open(f\\\"../models/bayes_{ahead_by}.pkl\\\", \\\"wb\\\"))\\n\\n    bayes_models.append(bayes_model)\\n\\n    val_pred = bayes_model.predict(X_val)\\n    test_pred = bayes_model.predict(X_test)\\n\\n    val_preds.append(val_pred)\\n    test_preds.append(test_pred)\\n#     break\";\n",
       "                var nbb_formatted_code = \"val_preds = []\\ntest_preds = []\\n\\nbayes_models = []\\n\\nfor ahead_by in tqdm(AHEAD_WINDOWS, leave=False):\\n    target_col = f\\\"target_shift_{ahead_by}\\\"\\n\\n    train = data[data[\\\"day\\\"] < 1914 - ahead_by]  # need to subtract lag used\\n    val = data[(1914 - ahead_by <= data[\\\"day\\\"]) & (data[\\\"day\\\"] < 1914)]\\n    test = data[(data[\\\"day\\\"] >= 1914) & (data[\\\"day\\\"] < 1942)]\\n\\n    for col, mean in cat_mean_dict.items():\\n        train[col] = train[col].replace(mean)\\n        val[col] = val[col].replace(mean)\\n        test[col] = test[col].replace(mean)\\n\\n    X_train, y_train = train[feat_cols], train[target_col]\\n    X_val, y_val = val[feat_cols], val[target_col]\\n    X_test, y_test = test[feat_cols], test[target_col]\\n\\n    ### TRAIN LGBM MODEL\\n    preproc = StandardScaler()\\n    X_train.loc[:, cont_cols] = preproc.fit_transform(X_train[cont_cols])\\n    X_val.loc[:, cont_cols] = preproc.transform(X_val[cont_cols])\\n    X_test.loc[:, cont_cols] = preproc.transform(X_test[cont_cols])\\n\\n    bayes_model = BayesianRidge()\\n    bayes_model.fit(X_train, y_train)\\n\\n    pickle.dump(bayes_model, open(f\\\"../models/bayes_{ahead_by}.pkl\\\", \\\"wb\\\"))\\n\\n    bayes_models.append(bayes_model)\\n\\n    val_pred = bayes_model.predict(X_val)\\n    test_pred = bayes_model.predict(X_test)\\n\\n    val_preds.append(val_pred)\\n    test_preds.append(test_pred)\\n#     break\";\n",
       "                var nbb_cells = Jupyter.notebook.get_cells();\n",
       "                for (var i = 0; i < nbb_cells.length; ++i) {\n",
       "                    if (nbb_cells[i].input_prompt_number == nbb_cell_id) {\n",
       "                        if (nbb_cells[i].get_text() == nbb_unformatted_code) {\n",
       "                             nbb_cells[i].set_text(nbb_formatted_code);\n",
       "                        }\n",
       "                        break;\n",
       "                    }\n",
       "                }\n",
       "            }, 500);\n",
       "            "
      ],
      "text/plain": [
       "<IPython.core.display.Javascript object>"
      ]
     },
     "metadata": {},
     "output_type": "display_data"
    }
   ],
   "source": [
    "val_preds = []\n",
    "test_preds = []\n",
    "\n",
    "bayes_models = []\n",
    "\n",
    "for ahead_by in tqdm(AHEAD_WINDOWS, leave=False):\n",
    "    target_col = f\"target_shift_{ahead_by}\"\n",
    "\n",
    "    train = data[data[\"day\"] < 1914 - ahead_by]  # need to subtract lag used\n",
    "    val = data[(1914 - ahead_by <= data[\"day\"]) & (data[\"day\"] < 1914)]\n",
    "    test = data[(data[\"day\"] >= 1914) & (data[\"day\"] < 1942)]\n",
    "\n",
    "    for col, mean in cat_mean_dict.items():\n",
    "        train[col] = train[col].replace(mean)\n",
    "        val[col] = val[col].replace(mean)\n",
    "        test[col] = test[col].replace(mean)\n",
    "\n",
    "    X_train, y_train = train[feat_cols], train[target_col]\n",
    "    X_val, y_val = val[feat_cols], val[target_col]\n",
    "    X_test, y_test = test[feat_cols], test[target_col]\n",
    "\n",
    "    ### TRAIN LGBM MODEL\n",
    "    preproc = StandardScaler()\n",
    "    X_train.loc[:, cont_cols] = preproc.fit_transform(X_train[cont_cols])\n",
    "    X_val.loc[:, cont_cols] = preproc.transform(X_val[cont_cols])\n",
    "    X_test.loc[:, cont_cols] = preproc.transform(X_test[cont_cols])\n",
    "\n",
    "    bayes_model = BayesianRidge()\n",
    "    bayes_model.fit(X_train, y_train)\n",
    "\n",
    "    pickle.dump(bayes_model, open(f\"../models/bayes_{ahead_by}.pkl\", \"wb\"))\n",
    "\n",
    "    bayes_models.append(bayes_model)\n",
    "\n",
    "    val_pred = bayes_model.predict(X_val)\n",
    "    test_pred = bayes_model.predict(X_test)\n",
    "\n",
    "    val_preds.append(val_pred)\n",
    "    test_preds.append(test_pred)\n",
    "#     break"
   ]
  },
  {
   "cell_type": "code",
   "execution_count": 203,
   "metadata": {},
   "outputs": [
    {
     "data": {
      "application/javascript": [
       "\n",
       "            setTimeout(function() {\n",
       "                var nbb_cell_id = 203;\n",
       "                var nbb_unformatted_code = \"shortest_length = len(min(val_preds, key=len))\\nval_pred_bayes = np.mean([val_pred[-shortest_length:] for val_pred in val_preds], axis=0)\\ntest_pred_bayes = np.mean(test_preds, axis=0)\";\n",
       "                var nbb_formatted_code = \"shortest_length = len(min(val_preds, key=len))\\nval_pred_bayes = np.mean(\\n    [val_pred[-shortest_length:] for val_pred in val_preds], axis=0\\n)\\ntest_pred_bayes = np.mean(test_preds, axis=0)\";\n",
       "                var nbb_cells = Jupyter.notebook.get_cells();\n",
       "                for (var i = 0; i < nbb_cells.length; ++i) {\n",
       "                    if (nbb_cells[i].input_prompt_number == nbb_cell_id) {\n",
       "                        if (nbb_cells[i].get_text() == nbb_unformatted_code) {\n",
       "                             nbb_cells[i].set_text(nbb_formatted_code);\n",
       "                        }\n",
       "                        break;\n",
       "                    }\n",
       "                }\n",
       "            }, 500);\n",
       "            "
      ],
      "text/plain": [
       "<IPython.core.display.Javascript object>"
      ]
     },
     "metadata": {},
     "output_type": "display_data"
    }
   ],
   "source": [
    "shortest_length = len(min(val_preds, key=len))\n",
    "val_pred_bayes = np.mean(\n",
    "    [val_pred[-shortest_length:] for val_pred in val_preds], axis=0\n",
    ")\n",
    "test_pred_bayes = np.mean(test_preds, axis=0)"
   ]
  },
  {
   "cell_type": "code",
   "execution_count": 204,
   "metadata": {},
   "outputs": [
    {
     "data": {
      "text/plain": [
       "2.286640423469562"
      ]
     },
     "execution_count": 204,
     "metadata": {},
     "output_type": "execute_result"
    },
    {
     "data": {
      "application/javascript": [
       "\n",
       "            setTimeout(function() {\n",
       "                var nbb_cell_id = 204;\n",
       "                var nbb_unformatted_code = \"mean_squared_error(y_val.values[-shortest_length:], val_pred_bayes, squared=False)\";\n",
       "                var nbb_formatted_code = \"mean_squared_error(y_val.values[-shortest_length:], val_pred_bayes, squared=False)\";\n",
       "                var nbb_cells = Jupyter.notebook.get_cells();\n",
       "                for (var i = 0; i < nbb_cells.length; ++i) {\n",
       "                    if (nbb_cells[i].input_prompt_number == nbb_cell_id) {\n",
       "                        if (nbb_cells[i].get_text() == nbb_unformatted_code) {\n",
       "                             nbb_cells[i].set_text(nbb_formatted_code);\n",
       "                        }\n",
       "                        break;\n",
       "                    }\n",
       "                }\n",
       "            }, 500);\n",
       "            "
      ],
      "text/plain": [
       "<IPython.core.display.Javascript object>"
      ]
     },
     "metadata": {},
     "output_type": "display_data"
    }
   ],
   "source": [
    "mean_squared_error(y_val.values[-shortest_length:], val_pred_bayes, squared=False)"
   ]
  },
  {
   "cell_type": "markdown",
   "metadata": {},
   "source": [
    "### LGBM"
   ]
  },
  {
   "cell_type": "code",
   "execution_count": 144,
   "metadata": {},
   "outputs": [
    {
     "data": {
      "application/javascript": [
       "\n",
       "            setTimeout(function() {\n",
       "                var nbb_cell_id = 144;\n",
       "                var nbb_unformatted_code = \"model_params = {\\n    \\\"n_estimators\\\": 1000,\\n    \\\"num_leaves\\\": 100,\\n    \\\"max_depth\\\": 9,\\n    \\\"learning_rate\\\": 0.03,\\n    \\\"boosting_type\\\": \\\"gbdt\\\",\\n    \\\"objective\\\": \\\"poisson\\\",\\n    \\\"metric\\\": \\\"rmse\\\",\\n    \\\"reg_alpha\\\": 0.2,\\n    \\\"reg_lambda\\\": 0.2,\\n    \\\"subsample\\\": 0.6,\\n    \\\"categorical_feature\\\": [\\n        i for i in range(len(feat_cols)) if feat_cols[i] in cat_cols\\n    ],\\n    \\\"min_split_gain\\\": 0.02,\\n}\";\n",
       "                var nbb_formatted_code = \"model_params = {\\n    \\\"n_estimators\\\": 1000,\\n    \\\"num_leaves\\\": 100,\\n    \\\"max_depth\\\": 9,\\n    \\\"learning_rate\\\": 0.03,\\n    \\\"boosting_type\\\": \\\"gbdt\\\",\\n    \\\"objective\\\": \\\"poisson\\\",\\n    \\\"metric\\\": \\\"rmse\\\",\\n    \\\"reg_alpha\\\": 0.2,\\n    \\\"reg_lambda\\\": 0.2,\\n    \\\"subsample\\\": 0.6,\\n    \\\"categorical_feature\\\": [\\n        i for i in range(len(feat_cols)) if feat_cols[i] in cat_cols\\n    ],\\n    \\\"min_split_gain\\\": 0.02,\\n}\";\n",
       "                var nbb_cells = Jupyter.notebook.get_cells();\n",
       "                for (var i = 0; i < nbb_cells.length; ++i) {\n",
       "                    if (nbb_cells[i].input_prompt_number == nbb_cell_id) {\n",
       "                        if (nbb_cells[i].get_text() == nbb_unformatted_code) {\n",
       "                             nbb_cells[i].set_text(nbb_formatted_code);\n",
       "                        }\n",
       "                        break;\n",
       "                    }\n",
       "                }\n",
       "            }, 500);\n",
       "            "
      ],
      "text/plain": [
       "<IPython.core.display.Javascript object>"
      ]
     },
     "metadata": {},
     "output_type": "display_data"
    }
   ],
   "source": [
    "model_params = {\n",
    "    \"n_estimators\": 1000,\n",
    "    \"num_leaves\": 100,\n",
    "    \"max_depth\": 9,\n",
    "    \"learning_rate\": 0.03,\n",
    "    \"boosting_type\": \"gbdt\",\n",
    "    \"objective\": \"poisson\",\n",
    "    \"metric\": \"rmse\",\n",
    "    \"reg_alpha\": 0.2,\n",
    "    \"reg_lambda\": 0.2,\n",
    "    \"subsample\": 0.6,\n",
    "    \"categorical_feature\": [\n",
    "        i for i in range(len(feat_cols)) if feat_cols[i] in cat_cols\n",
    "    ],\n",
    "    \"min_split_gain\": 0.02,\n",
    "}"
   ]
  },
  {
   "cell_type": "code",
   "execution_count": 182,
   "metadata": {
    "scrolled": true
   },
   "outputs": [
    {
     "name": "stderr",
     "output_type": "stream",
     "text": [
      "  0%|                                                                                                                                                                                                                          | 0/4 [00:00<?, ?it/s]/home/user/anaconda3/envs/py37/lib/python3.9/site-packages/lightgbm/engine.py:177: UserWarning: Found `n_estimators` in params. Will use it instead of argument\n",
      "  _log_warning(f\"Found `{alias}` in params. Will use it instead of argument\")\n",
      "/home/user/anaconda3/envs/py37/lib/python3.9/site-packages/lightgbm/engine.py:181: UserWarning: 'early_stopping_rounds' argument is deprecated and will be removed in a future release of LightGBM. Pass 'early_stopping()' callback via 'callbacks' argument instead.\n",
      "  _log_warning(\"'early_stopping_rounds' argument is deprecated and will be removed in a future release of LightGBM. \"\n",
      "/home/user/anaconda3/envs/py37/lib/python3.9/site-packages/lightgbm/engine.py:239: UserWarning: 'verbose_eval' argument is deprecated and will be removed in a future release of LightGBM. Pass 'log_evaluation()' callback via 'callbacks' argument instead.\n",
      "  _log_warning(\"'verbose_eval' argument is deprecated and will be removed in a future release of LightGBM. \"\n",
      "/home/user/anaconda3/envs/py37/lib/python3.9/site-packages/lightgbm/basic.py:1487: UserWarning: categorical_feature keyword has been found in `params` and will be ignored.\n",
      "Please use categorical_feature argument of the Dataset constructor to pass this parameter.\n",
      "  _log_warning(f'{key} keyword has been found in `params` and will be ignored.\\n'\n"
     ]
    },
    {
     "name": "stdout",
     "output_type": "stream",
     "text": [
      "[LightGBM] [Warning] Auto-choosing row-wise multi-threading, the overhead of testing was 5.709146 seconds.\n",
      "You can set `force_row_wise=true` to remove the overhead.\n",
      "And if memory is not enough, you can set `force_col_wise=true`.\n",
      "[LightGBM] [Info] Total Bins 9127\n",
      "[LightGBM] [Info] Number of data points in the train set: 58235900, number of used features: 44\n",
      "[LightGBM] [Info] Start training from score 0.119184\n",
      "Training until validation scores don't improve for 100 rounds\n",
      "[100]\ttraining's rmse: 2.28776\tvalid_1's rmse: 1.81545\n",
      "[200]\ttraining's rmse: 2.17794\tvalid_1's rmse: 1.75875\n",
      "[300]\ttraining's rmse: 2.16123\tvalid_1's rmse: 1.75623\n",
      "[400]\ttraining's rmse: 2.14952\tvalid_1's rmse: 1.75344\n",
      "[500]\ttraining's rmse: 2.13818\tvalid_1's rmse: 1.75207\n",
      "[600]\ttraining's rmse: 2.1275\tvalid_1's rmse: 1.75279\n",
      "Early stopping, best iteration is:\n",
      "[512]\ttraining's rmse: 2.13664\tvalid_1's rmse: 1.75169\n"
     ]
    },
    {
     "name": "stderr",
     "output_type": "stream",
     "text": [
      " 25%|████████████████████████████████████████████████████▎                                                                                                                                                            | 1/4 [12:08<36:24, 728.26s/it]"
     ]
    },
    {
     "name": "stdout",
     "output_type": "stream",
     "text": [
      "[LightGBM] [Warning] Auto-choosing row-wise multi-threading, the overhead of testing was 3.554381 seconds.\n",
      "You can set `force_row_wise=true` to remove the overhead.\n",
      "And if memory is not enough, you can set `force_col_wise=true`.\n",
      "[LightGBM] [Info] Total Bins 9123\n",
      "[LightGBM] [Info] Number of data points in the train set: 58113940, number of used features: 44\n",
      "[LightGBM] [Info] Start training from score 0.119728\n",
      "Training until validation scores don't improve for 100 rounds\n",
      "[100]\ttraining's rmse: 2.35788\tvalid_1's rmse: 2.01535\n",
      "[200]\ttraining's rmse: 2.24811\tvalid_1's rmse: 1.92863\n",
      "[300]\ttraining's rmse: 2.23215\tvalid_1's rmse: 1.92335\n",
      "[400]\ttraining's rmse: 2.2217\tvalid_1's rmse: 1.92091\n",
      "[500]\ttraining's rmse: 2.21267\tvalid_1's rmse: 1.91825\n",
      "[600]\ttraining's rmse: 2.20362\tvalid_1's rmse: 1.91452\n",
      "[700]\ttraining's rmse: 2.19683\tvalid_1's rmse: 1.91232\n",
      "[800]\ttraining's rmse: 2.18923\tvalid_1's rmse: 1.91112\n",
      "[900]\ttraining's rmse: 2.18237\tvalid_1's rmse: 1.90957\n",
      "[1000]\ttraining's rmse: 2.17628\tvalid_1's rmse: 1.90844\n",
      "Did not meet early stopping. Best iteration is:\n",
      "[1000]\ttraining's rmse: 2.17628\tvalid_1's rmse: 1.90844\n"
     ]
    },
    {
     "name": "stderr",
     "output_type": "stream",
     "text": [
      " 50%|████████████████████████████████████████████████████████████████████████████████████████████████████████▌                                                                                                        | 2/4 [28:45<29:32, 886.22s/it]"
     ]
    },
    {
     "name": "stdout",
     "output_type": "stream",
     "text": [
      "[LightGBM] [Warning] Auto-choosing row-wise multi-threading, the overhead of testing was 5.486368 seconds.\n",
      "You can set `force_row_wise=true` to remove the overhead.\n",
      "And if memory is not enough, you can set `force_col_wise=true`.\n",
      "[LightGBM] [Info] Total Bins 9128\n",
      "[LightGBM] [Info] Number of data points in the train set: 57900510, number of used features: 44\n",
      "[LightGBM] [Info] Start training from score 0.120454\n",
      "Training until validation scores don't improve for 100 rounds\n",
      "[100]\ttraining's rmse: 2.43186\tvalid_1's rmse: 2.21304\n",
      "[200]\ttraining's rmse: 2.33471\tvalid_1's rmse: 2.11766\n",
      "[300]\ttraining's rmse: 2.31761\tvalid_1's rmse: 2.11091\n",
      "[400]\ttraining's rmse: 2.30183\tvalid_1's rmse: 2.10914\n",
      "[500]\ttraining's rmse: 2.28605\tvalid_1's rmse: 2.10394\n",
      "[600]\ttraining's rmse: 2.27679\tvalid_1's rmse: 2.10228\n",
      "[700]\ttraining's rmse: 2.26595\tvalid_1's rmse: 2.10121\n",
      "[800]\ttraining's rmse: 2.25525\tvalid_1's rmse: 2.09991\n",
      "[900]\ttraining's rmse: 2.24563\tvalid_1's rmse: 2.09838\n",
      "[1000]\ttraining's rmse: 2.23746\tvalid_1's rmse: 2.09744\n",
      "Did not meet early stopping. Best iteration is:\n",
      "[1000]\ttraining's rmse: 2.23746\tvalid_1's rmse: 2.09744\n"
     ]
    },
    {
     "name": "stderr",
     "output_type": "stream",
     "text": [
      " 75%|████████████████████████████████████████████████████████████████████████████████████████████████████████████████████████████████████████████████████████████▊                                                    | 3/4 [45:15<15:33, 933.84s/it]"
     ]
    },
    {
     "name": "stdout",
     "output_type": "stream",
     "text": [
      "[LightGBM] [Warning] Auto-choosing row-wise multi-threading, the overhead of testing was 4.317442 seconds.\n",
      "You can set `force_row_wise=true` to remove the overhead.\n",
      "And if memory is not enough, you can set `force_col_wise=true`.\n",
      "[LightGBM] [Info] Total Bins 9127\n",
      "[LightGBM] [Info] Number of data points in the train set: 57473650, number of used features: 44\n",
      "[LightGBM] [Info] Start training from score 0.122456\n",
      "Training until validation scores don't improve for 100 rounds\n",
      "[100]\ttraining's rmse: 2.48883\tvalid_1's rmse: 2.32329\n",
      "[200]\ttraining's rmse: 2.38911\tvalid_1's rmse: 2.22026\n",
      "[300]\ttraining's rmse: 2.36862\tvalid_1's rmse: 2.2095\n",
      "[400]\ttraining's rmse: 2.3537\tvalid_1's rmse: 2.20359\n",
      "[500]\ttraining's rmse: 2.34046\tvalid_1's rmse: 2.20087\n",
      "[600]\ttraining's rmse: 2.33102\tvalid_1's rmse: 2.19933\n",
      "[700]\ttraining's rmse: 2.3224\tvalid_1's rmse: 2.19905\n",
      "[800]\ttraining's rmse: 2.31315\tvalid_1's rmse: 2.1983\n",
      "[900]\ttraining's rmse: 2.30177\tvalid_1's rmse: 2.19642\n",
      "[1000]\ttraining's rmse: 2.29235\tvalid_1's rmse: 2.19284\n",
      "Did not meet early stopping. Best iteration is:\n",
      "[1000]\ttraining's rmse: 2.29235\tvalid_1's rmse: 2.19284\n"
     ]
    },
    {
     "name": "stderr",
     "output_type": "stream",
     "text": [
      "                                                                                                                                                                                                                                                     \r"
     ]
    },
    {
     "data": {
      "application/javascript": [
       "\n",
       "            setTimeout(function() {\n",
       "                var nbb_cell_id = 182;\n",
       "                var nbb_unformatted_code = \"val_preds_lgbm = []\\ntest_preds_lgbm = []\\n\\nlgbm_models = []\\n\\nfor ahead_by in tqdm(AHEAD_WINDOWS, leave=False):\\n    target_col = f\\\"target_shift_{ahead_by}\\\"\\n\\n    train = data[data[\\\"day\\\"] < 1914 - ahead_by]  # need to subtract lag used\\n    val = data[(1914 - ahead_by <= data[\\\"day\\\"]) & (data[\\\"day\\\"] < 1914)]\\n    test = data[(data[\\\"day\\\"] >= 1914) & (data[\\\"day\\\"] < 1942)]\\n\\n    X_train, y_train = train[feat_cols], train[target_col]\\n    X_val, y_val = val[feat_cols], val[target_col]\\n    X_test, y_test = test[feat_cols], test[target_col]\\n\\n    ### TRAIN LGBM MODEL\\n    train_dataset = lgbm.Dataset(X_train, y_train)\\n    val_dataset = lgbm.Dataset(X_val, y_val)\\n\\n    lgbm_model = lgbm.train(\\n        model_params,\\n        train_dataset,\\n        300,\\n        valid_sets=[train_dataset, val_dataset],\\n        verbose_eval=100,\\n        early_stopping_rounds=100,\\n    )\\n    \\n    pickle.dump(lgbm_model, open(f\\\"../models/lgbm_poisson_{ahead_by}.pkl\\\", \\\"wb\\\"))\\n\\n    lgbm_models.append(lgbm_model)\\n\\n    val_pred = lgbm_model.predict(X_val)\\n    test_pred = lgbm_model.predict(X_test)\\n\\n    val_preds_lgbm.append(val_pred)\\n    test_preds_lgbm.append(test_pred)\\n#     break\";\n",
       "                var nbb_formatted_code = \"val_preds_lgbm = []\\ntest_preds_lgbm = []\\n\\nlgbm_models = []\\n\\nfor ahead_by in tqdm(AHEAD_WINDOWS, leave=False):\\n    target_col = f\\\"target_shift_{ahead_by}\\\"\\n\\n    train = data[data[\\\"day\\\"] < 1914 - ahead_by]  # need to subtract lag used\\n    val = data[(1914 - ahead_by <= data[\\\"day\\\"]) & (data[\\\"day\\\"] < 1914)]\\n    test = data[(data[\\\"day\\\"] >= 1914) & (data[\\\"day\\\"] < 1942)]\\n\\n    X_train, y_train = train[feat_cols], train[target_col]\\n    X_val, y_val = val[feat_cols], val[target_col]\\n    X_test, y_test = test[feat_cols], test[target_col]\\n\\n    ### TRAIN LGBM MODEL\\n    train_dataset = lgbm.Dataset(X_train, y_train)\\n    val_dataset = lgbm.Dataset(X_val, y_val)\\n\\n    lgbm_model = lgbm.train(\\n        model_params,\\n        train_dataset,\\n        300,\\n        valid_sets=[train_dataset, val_dataset],\\n        verbose_eval=100,\\n        early_stopping_rounds=100,\\n    )\\n\\n    pickle.dump(lgbm_model, open(f\\\"../models/lgbm_poisson_{ahead_by}.pkl\\\", \\\"wb\\\"))\\n\\n    lgbm_models.append(lgbm_model)\\n\\n    val_pred = lgbm_model.predict(X_val)\\n    test_pred = lgbm_model.predict(X_test)\\n\\n    val_preds_lgbm.append(val_pred)\\n    test_preds_lgbm.append(test_pred)\\n#     break\";\n",
       "                var nbb_cells = Jupyter.notebook.get_cells();\n",
       "                for (var i = 0; i < nbb_cells.length; ++i) {\n",
       "                    if (nbb_cells[i].input_prompt_number == nbb_cell_id) {\n",
       "                        if (nbb_cells[i].get_text() == nbb_unformatted_code) {\n",
       "                             nbb_cells[i].set_text(nbb_formatted_code);\n",
       "                        }\n",
       "                        break;\n",
       "                    }\n",
       "                }\n",
       "            }, 500);\n",
       "            "
      ],
      "text/plain": [
       "<IPython.core.display.Javascript object>"
      ]
     },
     "metadata": {},
     "output_type": "display_data"
    }
   ],
   "source": [
    "val_preds_lgbm = []\n",
    "test_preds_lgbm = []\n",
    "\n",
    "lgbm_models = []\n",
    "\n",
    "for ahead_by in tqdm(AHEAD_WINDOWS, leave=False):\n",
    "    target_col = f\"target_shift_{ahead_by}\"\n",
    "\n",
    "    train = data[data[\"day\"] < 1914 - ahead_by]  # need to subtract lag used\n",
    "    val = data[(1914 - ahead_by <= data[\"day\"]) & (data[\"day\"] < 1914)]\n",
    "    test = data[(data[\"day\"] >= 1914) & (data[\"day\"] < 1942)]\n",
    "\n",
    "    X_train, y_train = train[feat_cols], train[target_col]\n",
    "    X_val, y_val = val[feat_cols], val[target_col]\n",
    "    X_test, y_test = test[feat_cols], test[target_col]\n",
    "\n",
    "    ### TRAIN LGBM MODEL\n",
    "    train_dataset = lgbm.Dataset(X_train, y_train)\n",
    "    val_dataset = lgbm.Dataset(X_val, y_val)\n",
    "\n",
    "    lgbm_model = lgbm.train(\n",
    "        model_params,\n",
    "        train_dataset,\n",
    "        300,\n",
    "        valid_sets=[train_dataset, val_dataset],\n",
    "        verbose_eval=100,\n",
    "        early_stopping_rounds=100,\n",
    "    )\n",
    "\n",
    "    pickle.dump(lgbm_model, open(f\"../models/lgbm_poisson_{ahead_by}.pkl\", \"wb\"))\n",
    "\n",
    "    lgbm_models.append(lgbm_model)\n",
    "\n",
    "    val_pred = lgbm_model.predict(X_val)\n",
    "    test_pred = lgbm_model.predict(X_test)\n",
    "\n",
    "    val_preds_lgbm.append(val_pred)\n",
    "    test_preds_lgbm.append(test_pred)\n",
    "#     break"
   ]
  },
  {
   "cell_type": "code",
   "execution_count": 205,
   "metadata": {},
   "outputs": [
    {
     "data": {
      "application/javascript": [
       "\n",
       "            setTimeout(function() {\n",
       "                var nbb_cell_id = 205;\n",
       "                var nbb_unformatted_code = \"shortest_length = len(min(val_preds, key=len))\\nval_pred_lgbm = np.mean(\\n    [val_preds_lgbm[1][-shortest_length:], val_preds_lgbm[3][-shortest_length:]], axis=0\\n)\\ntest_pred_lgbm = np.mean([test_preds_lgbm[1], test_preds_lgbm[3]], axis=0)\";\n",
       "                var nbb_formatted_code = \"shortest_length = len(min(val_preds, key=len))\\nval_pred_lgbm = np.mean(\\n    [val_preds_lgbm[1][-shortest_length:], val_preds_lgbm[3][-shortest_length:]], axis=0\\n)\\ntest_pred_lgbm = np.mean([test_preds_lgbm[1], test_preds_lgbm[3]], axis=0)\";\n",
       "                var nbb_cells = Jupyter.notebook.get_cells();\n",
       "                for (var i = 0; i < nbb_cells.length; ++i) {\n",
       "                    if (nbb_cells[i].input_prompt_number == nbb_cell_id) {\n",
       "                        if (nbb_cells[i].get_text() == nbb_unformatted_code) {\n",
       "                             nbb_cells[i].set_text(nbb_formatted_code);\n",
       "                        }\n",
       "                        break;\n",
       "                    }\n",
       "                }\n",
       "            }, 500);\n",
       "            "
      ],
      "text/plain": [
       "<IPython.core.display.Javascript object>"
      ]
     },
     "metadata": {},
     "output_type": "display_data"
    }
   ],
   "source": [
    "shortest_length = len(min(val_preds, key=len))\n",
    "val_pred_lgbm = np.mean(\n",
    "    [val_preds_lgbm[1][-shortest_length:], val_preds_lgbm[3][-shortest_length:]], axis=0\n",
    ")\n",
    "test_pred_lgbm = np.mean([test_preds_lgbm[1], test_preds_lgbm[3]], axis=0)"
   ]
  },
  {
   "cell_type": "code",
   "execution_count": 207,
   "metadata": {
    "scrolled": true
   },
   "outputs": [
    {
     "data": {
      "text/plain": [
       "2.2265583053047227"
      ]
     },
     "execution_count": 207,
     "metadata": {},
     "output_type": "execute_result"
    },
    {
     "data": {
      "application/javascript": [
       "\n",
       "            setTimeout(function() {\n",
       "                var nbb_cell_id = 207;\n",
       "                var nbb_unformatted_code = \"mean_squared_error(\\n    y_val.values[-shortest_length:], val_pred_lgbm, squared=False,\\n)\";\n",
       "                var nbb_formatted_code = \"mean_squared_error(\\n    y_val.values[-shortest_length:], val_pred_lgbm, squared=False,\\n)\";\n",
       "                var nbb_cells = Jupyter.notebook.get_cells();\n",
       "                for (var i = 0; i < nbb_cells.length; ++i) {\n",
       "                    if (nbb_cells[i].input_prompt_number == nbb_cell_id) {\n",
       "                        if (nbb_cells[i].get_text() == nbb_unformatted_code) {\n",
       "                             nbb_cells[i].set_text(nbb_formatted_code);\n",
       "                        }\n",
       "                        break;\n",
       "                    }\n",
       "                }\n",
       "            }, 500);\n",
       "            "
      ],
      "text/plain": [
       "<IPython.core.display.Javascript object>"
      ]
     },
     "metadata": {},
     "output_type": "display_data"
    }
   ],
   "source": [
    "mean_squared_error(\n",
    "    y_val.values[-shortest_length:], val_pred_lgbm, squared=False,\n",
    ")"
   ]
  },
  {
   "cell_type": "markdown",
   "metadata": {},
   "source": [
    "### format to submission"
   ]
  },
  {
   "cell_type": "code",
   "execution_count": 202,
   "metadata": {},
   "outputs": [
    {
     "name": "stderr",
     "output_type": "stream",
     "text": [
      "/home/user/anaconda3/envs/py37/lib/python3.9/site-packages/pandas/core/indexing.py:1678: SettingWithCopyWarning: \n",
      "A value is trying to be set on a copy of a slice from a DataFrame.\n",
      "Try using .loc[row_indexer,col_indexer] = value instead\n",
      "\n",
      "See the caveats in the documentation: https://pandas.pydata.org/pandas-docs/stable/user_guide/indexing.html#returning-a-view-versus-a-copy\n",
      "  self.obj[key] = empty_value\n",
      "/tmp/ipykernel_3814859/684337174.py:126: FutureWarning: The default value of regex will change from True to False in a future version.\n",
      "  df.loc[df.index >= len(df.index) // 2, \"id\"] = df.loc[\n"
     ]
    },
    {
     "data": {
      "application/javascript": [
       "\n",
       "            setTimeout(function() {\n",
       "                var nbb_cell_id = 202;\n",
       "                var nbb_unformatted_code = \"qs = np.array([0.005, 0.025, 0.165, 0.25, 0.5, 0.75, 0.835, 0.975, 0.995])\\n\\n\\ndef get_ratios(coef=0.15):\\n    qs2 = np.log(qs / (1 - qs)) * coef\\n    ratios = stats.norm.cdf(qs2)\\n    ratios /= ratios[4]\\n    ratios = pd.Series(ratios, index=qs)\\n    return ratios.round(3)\\n\\n\\ndef merge_pred_with_submission(pred, test_df):\\n\\n    test_df.loc[test_df.index, \\\"pred\\\"] = pred\\n    submission_test = test.groupby(\\\"id\\\")[\\\"pred\\\"].apply(list).apply(pd.Series)\\n    submission_test.columns = [\\\"F\\\" + str(i + 1) for i in submission_test.columns]\\n    submission_test = submission_test.reset_index()\\n    return submission_test\\n\\n\\n# coef between 0.03 and 0.25 is used, probably suboptimal values for now\\n# If you're not sure about your Accuracy submission, you should make the distribution wider.\\nlevel_coef_dict = {\\n    \\\"_all_\\\": get_ratios(coef=0.03),\\n    \\\"state_id\\\": get_ratios(coef=0.04),\\n    \\\"store_id\\\": get_ratios(coef=0.05),\\n    \\\"cat_id\\\": get_ratios(coef=0.04),\\n    \\\"dept_id\\\": get_ratios(coef=0.05),\\n    (\\\"state_id\\\", \\\"cat_id\\\"): get_ratios(coef=0.05),\\n    (\\\"state_id\\\", \\\"dept_id\\\"): get_ratios(coef=0.07),\\n    (\\\"store_id\\\", \\\"cat_id\\\"): get_ratios(coef=0.07),\\n    (\\\"store_id\\\", \\\"dept_id\\\"): get_ratios(coef=0.08),\\n    \\\"item_id\\\": get_ratios(coef=0.11),\\n    (\\\"state_id\\\", \\\"item_id\\\"): get_ratios(coef=0.15),\\n    \\\"id\\\": get_ratios(coef=0.25),\\n}\\n\\nlevels = [\\\"id\\\", \\\"item_id\\\", \\\"dept_id\\\", \\\"cat_id\\\", \\\"store_id\\\", \\\"state_id\\\", \\\"_all_\\\"]\\ncouples = [\\n    (\\\"state_id\\\", \\\"item_id\\\"),\\n    (\\\"state_id\\\", \\\"dept_id\\\"),\\n    (\\\"store_id\\\", \\\"dept_id\\\"),\\n    (\\\"state_id\\\", \\\"cat_id\\\"),\\n    (\\\"store_id\\\", \\\"cat_id\\\"),\\n]\\ncols = [f\\\"F{i}\\\" for i in range(1, 29)]\\n\\n\\ndef quantile_coefs(q, level):\\n    ratios = level_coef_dict[level]\\n    return ratios.loc[q].values\\n\\n\\ndef get_group_preds(pred, level):\\n    df = pred.groupby(level)[cols].sum()\\n    q = np.repeat(qs, len(df))\\n    df = pd.concat([df] * 9, axis=0, sort=False)\\n    df.reset_index(inplace=True)\\n    df[cols] *= quantile_coefs(q, level)[:, None]\\n    if level != \\\"id\\\":\\n        df[\\\"id\\\"] = [\\n            f\\\"{lev}_X_{q:.3f}_evaluation\\\" for lev, q in zip(df[level].values, q)\\n        ]\\n    else:\\n        df[\\\"id\\\"] = [\\n            f\\\"{lev.replace('_evaluation', '')}_{q:.3f}_evaluation\\\"\\n            for lev, q in zip(df[level].values, q)\\n        ]\\n    df = df[[\\\"id\\\"] + list(cols)]\\n    return df\\n\\n\\ndef get_couple_group_preds(pred, level1, level2):\\n    df = pred.groupby([level1, level2])[cols].sum()\\n    q = np.repeat(qs, len(df))\\n    df = pd.concat([df] * 9, axis=0, sort=False)\\n    df.reset_index(inplace=True)\\n    df[cols] *= quantile_coefs(q, (level1, level2))[:, None]\\n    df[\\\"id\\\"] = [\\n        f\\\"{lev1}_{lev2}_{q:.3f}_evaluation\\\"\\n        for lev1, lev2, q in zip(df[level1].values, df[level2].values, q)\\n    ]\\n    df = df[[\\\"id\\\"] + list(cols)]\\n    return df\\n\\n\\ndef get_submission_format(sub):\\n\\n    levels = [\\\"id\\\", \\\"item_id\\\", \\\"dept_id\\\", \\\"cat_id\\\", \\\"store_id\\\", \\\"state_id\\\", \\\"_all_\\\"]\\n    couples = [\\n        (\\\"state_id\\\", \\\"item_id\\\"),\\n        (\\\"state_id\\\", \\\"dept_id\\\"),\\n        (\\\"store_id\\\", \\\"dept_id\\\"),\\n        (\\\"state_id\\\", \\\"cat_id\\\"),\\n        (\\\"store_id\\\", \\\"cat_id\\\"),\\n    ]\\n    cols = [f\\\"F{i}\\\" for i in range(1, 29)]\\n\\n    df = []\\n    for level in levels:\\n        df.append(get_group_preds(sub, level))\\n    for level1, level2 in couples:\\n        df.append(get_couple_group_preds(sub, level1, level2))\\n    df = pd.concat(df, axis=0, sort=False)\\n    df.reset_index(drop=True, inplace=True)\\n\\n    return df\\n\\n\\nsubmission_test = merge_pred_with_submission(bbb, test)\\n\\nsub_test = submission_test.merge(\\n    sales[[\\\"id\\\", \\\"item_id\\\", \\\"dept_id\\\", \\\"cat_id\\\", \\\"store_id\\\", \\\"state_id\\\"]], on=\\\"id\\\"\\n)\\nsub_test[\\\"_all_\\\"] = \\\"Total\\\"\\n\\n####\\n# need to append validation\\n####\\n# df_val = get_submission_format(sub_val)\\ndf_eval = get_submission_format(sub_test)\\ndf_val = df_eval\\n\\ndf = pd.concat([df_eval, df_val], axis=0, sort=False)\\ndf.reset_index(drop=True, inplace=True)\\ndf.loc[df.index >= len(df.index) // 2, \\\"id\\\"] = df.loc[\\n    df.index >= len(df.index) // 2, \\\"id\\\"\\n].str.replace(\\\"_evaluation$\\\", \\\"_validation\\\")\\n\\ndf.to_csv(\\\"submission_lgbm_7_28.csv\\\", index=False)\";\n",
       "                var nbb_formatted_code = \"qs = np.array([0.005, 0.025, 0.165, 0.25, 0.5, 0.75, 0.835, 0.975, 0.995])\\n\\n\\ndef get_ratios(coef=0.15):\\n    qs2 = np.log(qs / (1 - qs)) * coef\\n    ratios = stats.norm.cdf(qs2)\\n    ratios /= ratios[4]\\n    ratios = pd.Series(ratios, index=qs)\\n    return ratios.round(3)\\n\\n\\ndef merge_pred_with_submission(pred, test_df):\\n\\n    test_df.loc[test_df.index, \\\"pred\\\"] = pred\\n    submission_test = test.groupby(\\\"id\\\")[\\\"pred\\\"].apply(list).apply(pd.Series)\\n    submission_test.columns = [\\\"F\\\" + str(i + 1) for i in submission_test.columns]\\n    submission_test = submission_test.reset_index()\\n    return submission_test\\n\\n\\n# coef between 0.03 and 0.25 is used, probably suboptimal values for now\\n# If you're not sure about your Accuracy submission, you should make the distribution wider.\\nlevel_coef_dict = {\\n    \\\"_all_\\\": get_ratios(coef=0.03),\\n    \\\"state_id\\\": get_ratios(coef=0.04),\\n    \\\"store_id\\\": get_ratios(coef=0.05),\\n    \\\"cat_id\\\": get_ratios(coef=0.04),\\n    \\\"dept_id\\\": get_ratios(coef=0.05),\\n    (\\\"state_id\\\", \\\"cat_id\\\"): get_ratios(coef=0.05),\\n    (\\\"state_id\\\", \\\"dept_id\\\"): get_ratios(coef=0.07),\\n    (\\\"store_id\\\", \\\"cat_id\\\"): get_ratios(coef=0.07),\\n    (\\\"store_id\\\", \\\"dept_id\\\"): get_ratios(coef=0.08),\\n    \\\"item_id\\\": get_ratios(coef=0.11),\\n    (\\\"state_id\\\", \\\"item_id\\\"): get_ratios(coef=0.15),\\n    \\\"id\\\": get_ratios(coef=0.25),\\n}\\n\\nlevels = [\\\"id\\\", \\\"item_id\\\", \\\"dept_id\\\", \\\"cat_id\\\", \\\"store_id\\\", \\\"state_id\\\", \\\"_all_\\\"]\\ncouples = [\\n    (\\\"state_id\\\", \\\"item_id\\\"),\\n    (\\\"state_id\\\", \\\"dept_id\\\"),\\n    (\\\"store_id\\\", \\\"dept_id\\\"),\\n    (\\\"state_id\\\", \\\"cat_id\\\"),\\n    (\\\"store_id\\\", \\\"cat_id\\\"),\\n]\\ncols = [f\\\"F{i}\\\" for i in range(1, 29)]\\n\\n\\ndef quantile_coefs(q, level):\\n    ratios = level_coef_dict[level]\\n    return ratios.loc[q].values\\n\\n\\ndef get_group_preds(pred, level):\\n    df = pred.groupby(level)[cols].sum()\\n    q = np.repeat(qs, len(df))\\n    df = pd.concat([df] * 9, axis=0, sort=False)\\n    df.reset_index(inplace=True)\\n    df[cols] *= quantile_coefs(q, level)[:, None]\\n    if level != \\\"id\\\":\\n        df[\\\"id\\\"] = [\\n            f\\\"{lev}_X_{q:.3f}_evaluation\\\" for lev, q in zip(df[level].values, q)\\n        ]\\n    else:\\n        df[\\\"id\\\"] = [\\n            f\\\"{lev.replace('_evaluation', '')}_{q:.3f}_evaluation\\\"\\n            for lev, q in zip(df[level].values, q)\\n        ]\\n    df = df[[\\\"id\\\"] + list(cols)]\\n    return df\\n\\n\\ndef get_couple_group_preds(pred, level1, level2):\\n    df = pred.groupby([level1, level2])[cols].sum()\\n    q = np.repeat(qs, len(df))\\n    df = pd.concat([df] * 9, axis=0, sort=False)\\n    df.reset_index(inplace=True)\\n    df[cols] *= quantile_coefs(q, (level1, level2))[:, None]\\n    df[\\\"id\\\"] = [\\n        f\\\"{lev1}_{lev2}_{q:.3f}_evaluation\\\"\\n        for lev1, lev2, q in zip(df[level1].values, df[level2].values, q)\\n    ]\\n    df = df[[\\\"id\\\"] + list(cols)]\\n    return df\\n\\n\\ndef get_submission_format(sub):\\n\\n    levels = [\\\"id\\\", \\\"item_id\\\", \\\"dept_id\\\", \\\"cat_id\\\", \\\"store_id\\\", \\\"state_id\\\", \\\"_all_\\\"]\\n    couples = [\\n        (\\\"state_id\\\", \\\"item_id\\\"),\\n        (\\\"state_id\\\", \\\"dept_id\\\"),\\n        (\\\"store_id\\\", \\\"dept_id\\\"),\\n        (\\\"state_id\\\", \\\"cat_id\\\"),\\n        (\\\"store_id\\\", \\\"cat_id\\\"),\\n    ]\\n    cols = [f\\\"F{i}\\\" for i in range(1, 29)]\\n\\n    df = []\\n    for level in levels:\\n        df.append(get_group_preds(sub, level))\\n    for level1, level2 in couples:\\n        df.append(get_couple_group_preds(sub, level1, level2))\\n    df = pd.concat(df, axis=0, sort=False)\\n    df.reset_index(drop=True, inplace=True)\\n\\n    return df\\n\\n\\nsubmission_test = merge_pred_with_submission(bbb, test)\\n\\nsub_test = submission_test.merge(\\n    sales[[\\\"id\\\", \\\"item_id\\\", \\\"dept_id\\\", \\\"cat_id\\\", \\\"store_id\\\", \\\"state_id\\\"]], on=\\\"id\\\"\\n)\\nsub_test[\\\"_all_\\\"] = \\\"Total\\\"\\n\\n####\\n# need to append validation\\n####\\n# df_val = get_submission_format(sub_val)\\ndf_eval = get_submission_format(sub_test)\\ndf_val = df_eval\\n\\ndf = pd.concat([df_eval, df_val], axis=0, sort=False)\\ndf.reset_index(drop=True, inplace=True)\\ndf.loc[df.index >= len(df.index) // 2, \\\"id\\\"] = df.loc[\\n    df.index >= len(df.index) // 2, \\\"id\\\"\\n].str.replace(\\\"_evaluation$\\\", \\\"_validation\\\")\\n\\ndf.to_csv(\\\"submission_lgbm_7_28.csv\\\", index=False)\";\n",
       "                var nbb_cells = Jupyter.notebook.get_cells();\n",
       "                for (var i = 0; i < nbb_cells.length; ++i) {\n",
       "                    if (nbb_cells[i].input_prompt_number == nbb_cell_id) {\n",
       "                        if (nbb_cells[i].get_text() == nbb_unformatted_code) {\n",
       "                             nbb_cells[i].set_text(nbb_formatted_code);\n",
       "                        }\n",
       "                        break;\n",
       "                    }\n",
       "                }\n",
       "            }, 500);\n",
       "            "
      ],
      "text/plain": [
       "<IPython.core.display.Javascript object>"
      ]
     },
     "metadata": {},
     "output_type": "display_data"
    }
   ],
   "source": [
    "qs = np.array([0.005, 0.025, 0.165, 0.25, 0.5, 0.75, 0.835, 0.975, 0.995])\n",
    "\n",
    "\n",
    "def get_ratios(coef=0.15):\n",
    "    qs2 = np.log(qs / (1 - qs)) * coef\n",
    "    ratios = stats.norm.cdf(qs2)\n",
    "    ratios /= ratios[4]\n",
    "    ratios = pd.Series(ratios, index=qs)\n",
    "    return ratios.round(3)\n",
    "\n",
    "\n",
    "def merge_pred_with_submission(pred, test_df):\n",
    "\n",
    "    test_df.loc[test_df.index, \"pred\"] = pred\n",
    "    submission_test = test.groupby(\"id\")[\"pred\"].apply(list).apply(pd.Series)\n",
    "    submission_test.columns = [\"F\" + str(i + 1) for i in submission_test.columns]\n",
    "    submission_test = submission_test.reset_index()\n",
    "    return submission_test\n",
    "\n",
    "\n",
    "# coef between 0.03 and 0.25 is used, probably suboptimal values for now\n",
    "# If you're not sure about your Accuracy submission, you should make the distribution wider.\n",
    "level_coef_dict = {\n",
    "    \"_all_\": get_ratios(coef=0.03),\n",
    "    \"state_id\": get_ratios(coef=0.04),\n",
    "    \"store_id\": get_ratios(coef=0.05),\n",
    "    \"cat_id\": get_ratios(coef=0.04),\n",
    "    \"dept_id\": get_ratios(coef=0.05),\n",
    "    (\"state_id\", \"cat_id\"): get_ratios(coef=0.05),\n",
    "    (\"state_id\", \"dept_id\"): get_ratios(coef=0.07),\n",
    "    (\"store_id\", \"cat_id\"): get_ratios(coef=0.07),\n",
    "    (\"store_id\", \"dept_id\"): get_ratios(coef=0.08),\n",
    "    \"item_id\": get_ratios(coef=0.11),\n",
    "    (\"state_id\", \"item_id\"): get_ratios(coef=0.15),\n",
    "    \"id\": get_ratios(coef=0.25),\n",
    "}\n",
    "\n",
    "levels = [\"id\", \"item_id\", \"dept_id\", \"cat_id\", \"store_id\", \"state_id\", \"_all_\"]\n",
    "couples = [\n",
    "    (\"state_id\", \"item_id\"),\n",
    "    (\"state_id\", \"dept_id\"),\n",
    "    (\"store_id\", \"dept_id\"),\n",
    "    (\"state_id\", \"cat_id\"),\n",
    "    (\"store_id\", \"cat_id\"),\n",
    "]\n",
    "cols = [f\"F{i}\" for i in range(1, 29)]\n",
    "\n",
    "\n",
    "def quantile_coefs(q, level):\n",
    "    ratios = level_coef_dict[level]\n",
    "    return ratios.loc[q].values\n",
    "\n",
    "\n",
    "def get_group_preds(pred, level):\n",
    "    df = pred.groupby(level)[cols].sum()\n",
    "    q = np.repeat(qs, len(df))\n",
    "    df = pd.concat([df] * 9, axis=0, sort=False)\n",
    "    df.reset_index(inplace=True)\n",
    "    df[cols] *= quantile_coefs(q, level)[:, None]\n",
    "    if level != \"id\":\n",
    "        df[\"id\"] = [\n",
    "            f\"{lev}_X_{q:.3f}_evaluation\" for lev, q in zip(df[level].values, q)\n",
    "        ]\n",
    "    else:\n",
    "        df[\"id\"] = [\n",
    "            f\"{lev.replace('_evaluation', '')}_{q:.3f}_evaluation\"\n",
    "            for lev, q in zip(df[level].values, q)\n",
    "        ]\n",
    "    df = df[[\"id\"] + list(cols)]\n",
    "    return df\n",
    "\n",
    "\n",
    "def get_couple_group_preds(pred, level1, level2):\n",
    "    df = pred.groupby([level1, level2])[cols].sum()\n",
    "    q = np.repeat(qs, len(df))\n",
    "    df = pd.concat([df] * 9, axis=0, sort=False)\n",
    "    df.reset_index(inplace=True)\n",
    "    df[cols] *= quantile_coefs(q, (level1, level2))[:, None]\n",
    "    df[\"id\"] = [\n",
    "        f\"{lev1}_{lev2}_{q:.3f}_evaluation\"\n",
    "        for lev1, lev2, q in zip(df[level1].values, df[level2].values, q)\n",
    "    ]\n",
    "    df = df[[\"id\"] + list(cols)]\n",
    "    return df\n",
    "\n",
    "\n",
    "def get_submission_format(sub):\n",
    "\n",
    "    levels = [\"id\", \"item_id\", \"dept_id\", \"cat_id\", \"store_id\", \"state_id\", \"_all_\"]\n",
    "    couples = [\n",
    "        (\"state_id\", \"item_id\"),\n",
    "        (\"state_id\", \"dept_id\"),\n",
    "        (\"store_id\", \"dept_id\"),\n",
    "        (\"state_id\", \"cat_id\"),\n",
    "        (\"store_id\", \"cat_id\"),\n",
    "    ]\n",
    "    cols = [f\"F{i}\" for i in range(1, 29)]\n",
    "\n",
    "    df = []\n",
    "    for level in levels:\n",
    "        df.append(get_group_preds(sub, level))\n",
    "    for level1, level2 in couples:\n",
    "        df.append(get_couple_group_preds(sub, level1, level2))\n",
    "    df = pd.concat(df, axis=0, sort=False)\n",
    "    df.reset_index(drop=True, inplace=True)\n",
    "\n",
    "    return df\n",
    "\n",
    "\n",
    "submission_test = merge_pred_with_submission(test_pred_lgbm, test)\n",
    "\n",
    "sub_test = submission_test.merge(\n",
    "    sales[[\"id\", \"item_id\", \"dept_id\", \"cat_id\", \"store_id\", \"state_id\"]], on=\"id\"\n",
    ")\n",
    "sub_test[\"_all_\"] = \"Total\"\n",
    "\n",
    "####\n",
    "# need to append validation\n",
    "####\n",
    "# df_val = get_submission_format(sub_val)\n",
    "df_eval = get_submission_format(sub_test)\n",
    "df_val = df_eval\n",
    "\n",
    "df = pd.concat([df_eval, df_val], axis=0, sort=False)\n",
    "df.reset_index(drop=True, inplace=True)\n",
    "df.loc[df.index >= len(df.index) // 2, \"id\"] = df.loc[\n",
    "    df.index >= len(df.index) // 2, \"id\"\n",
    "].str.replace(\"_evaluation$\", \"_validation\")\n",
    "\n",
    "df.to_csv(\"submission_lgbm_7_28.csv\", index=False)"
   ]
  },
  {
   "cell_type": "code",
   "execution_count": 211,
   "metadata": {},
   "outputs": [
    {
     "data": {
      "text/plain": [
       "<AxesSubplot:title={'center':'Feature importance'}, xlabel='Feature importance', ylabel='Features'>"
      ]
     },
     "execution_count": 211,
     "metadata": {},
     "output_type": "execute_result"
    },
    {
     "data": {
      "image/png": "[encoded data removed]",
      "text/plain": [
       "<Figure size 720x720 with 1 Axes>"
      ]
     },
     "metadata": {
      "needs_background": "light"
     },
     "output_type": "display_data"
    },
    {
     "data": {
      "application/javascript": [
       "\n",
       "            setTimeout(function() {\n",
       "                var nbb_cell_id = 211;\n",
       "                var nbb_unformatted_code = \"plot_importance(lgbm_models[-1], figsize=(10, 10))\";\n",
       "                var nbb_formatted_code = \"plot_importance(lgbm_models[-1], figsize=(10, 10))\";\n",
       "                var nbb_cells = Jupyter.notebook.get_cells();\n",
       "                for (var i = 0; i < nbb_cells.length; ++i) {\n",
       "                    if (nbb_cells[i].input_prompt_number == nbb_cell_id) {\n",
       "                        if (nbb_cells[i].get_text() == nbb_unformatted_code) {\n",
       "                             nbb_cells[i].set_text(nbb_formatted_code);\n",
       "                        }\n",
       "                        break;\n",
       "                    }\n",
       "                }\n",
       "            }, 500);\n",
       "            "
      ],
      "text/plain": [
       "<IPython.core.display.Javascript object>"
      ]
     },
     "metadata": {},
     "output_type": "display_data"
    }
   ],
   "source": [
    "plot_importance(lgbm_models[-1], figsize=(10, 10))"
   ]
  }
 ],
 "metadata": {
  "interpreter": {
   "hash": "7fba4287ed53231eeef5f9a77a7d08326737debac3382410fd99561ba313e9a1"
  },
  "kernelspec": {
   "display_name": "Python 3 (ipykernel)",
   "language": "python",
   "name": "python3"
  },
  "language_info": {
   "codemirror_mode": {
    "name": "ipython",
    "version": 3
   },
   "file_extension": ".py",
   "mimetype": "text/x-python",
   "name": "python",
   "nbconvert_exporter": "python",
   "pygments_lexer": "ipython3",
   "version": "3.9.7"
  }
 },
 "nbformat": 4,
 "nbformat_minor": 2
}
