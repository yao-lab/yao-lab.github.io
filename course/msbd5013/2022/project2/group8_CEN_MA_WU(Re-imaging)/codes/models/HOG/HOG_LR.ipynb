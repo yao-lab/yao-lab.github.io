{
 "cells": [
  {
   "cell_type": "code",
   "execution_count": 25,
   "id": "6da71abc",
   "metadata": {},
   "outputs": [],
   "source": [
    "import os\n",
    "import numpy as np\n",
    "import pandas as pd\n",
    "from sklearn.model_selection import train_test_split\n",
    "from skimage.io import imread\n",
    "from skimage.transform import resize\n",
    "from skimage.feature import hog\n",
    "from skimage import exposure\n",
    "import matplotlib.pyplot as plt\n",
    "from tqdm import tqdm\n",
    "\n",
    "from sklearn.linear_model import LogisticRegression, SGDClassifier\n",
    "from sklearn.ensemble import AdaBoostClassifier, RandomForestClassifier\n",
    "from sklearn.metrics import roc_curve, auc, accuracy_score, precision_score, recall_score, f1_score\n"
   ]
  },
  {
   "cell_type": "code",
   "execution_count": 2,
   "id": "f335ea62",
   "metadata": {},
   "outputs": [
    {
     "name": "stderr",
     "output_type": "stream",
     "text": [
      "100%|██████████████████████████████████████████████████████████████████████████████████| 19/19 [00:00<00:00, 32.28it/s]\n"
     ]
    },
    {
     "name": "stdout",
     "output_type": "stream",
     "text": [
      "(1403975, 64, 60)\n",
      "(1403975, 35)\n"
     ]
    }
   ],
   "source": [
    "#year_list = np.arange(1993,2001,1) #1993-2000 as training & validation set\n",
    "year_list = np.arange(2001,2020,1) #2001-2019 as test set\n",
    "images = []\n",
    "label_df = []\n",
    "for year in tqdm(year_list):\n",
    "    images.append(np.memmap(os.path.join(\"./monthly_20d\",\\\n",
    "                                         f\"20d_month_has_vb_[20]_ma_{year}_images.dat\"), dtype=np.uint8, mode='r')\n",
    "                   .reshape((-1, 64, 60)))\n",
    "    label_df.append(pd.read_feather(os.path.join(\"./monthly_20d\",\\\n",
    "                                                 f\"20d_month_has_vb_[20]_ma_{year}_labels_w_delay.feather\")))\n",
    "    \n",
    "images = np.concatenate(images)\n",
    "label_df = pd.concat(label_df)\n",
    "\n",
    "print(images.shape)\n",
    "print(label_df.shape)"
   ]
  },
  {
   "cell_type": "code",
   "execution_count": 21,
   "id": "1c780f35",
   "metadata": {},
   "outputs": [
    {
     "data": {
      "text/plain": [
       "(-0.5, 59.5, 63.5, -0.5)"
      ]
     },
     "execution_count": 21,
     "metadata": {},
     "output_type": "execute_result"
    },
    {
     "data": {
      "image/png": "[encoded data removed]",
      "text/plain": [
       "<Figure size 576x1152 with 2 Axes>"
      ]
     },
     "metadata": {
      "needs_background": "light"
     },
     "output_type": "display_data"
    }
   ],
   "source": [
    "_, HOG_fig = hog(images[50,:,:], \n",
    "            orientations=9, \n",
    "            pixels_per_cell=(8, 8),\n",
    "            cells_per_block=(2, 2), \n",
    "            block_norm = 'L1',\n",
    "            visualize=True, \n",
    "            multichannel=False)\n",
    "plt.figure(figsize = (8,16))\n",
    "\n",
    "plt.subplot(121)\n",
    "plt.imshow(images[50,:,:], cmap = 'gray')\n",
    "plt.axis('off')\n",
    "plt.subplot(122)\n",
    "plt.imshow(HOG_fig, cmap = 'gray')\n",
    "plt.axis('off')\n"
   ]
  },
  {
   "cell_type": "code",
   "execution_count": 3,
   "id": "03eff47b",
   "metadata": {},
   "outputs": [
    {
     "name": "stderr",
     "output_type": "stream",
     "text": [
      "100%|██████████| 1403975/1403975 [19:28<00:00, 1201.44it/s]\n"
     ]
    }
   ],
   "source": [
    "feature_hog = []\n",
    "for i in tqdm(np.arange(np.shape(images)[0])):\n",
    "    feature_hog.append(hog(images[i,:,:], \n",
    "                            orientations=9, \n",
    "                            pixels_per_cell=(8, 8),\n",
    "                            cells_per_block=(2, 2), \n",
    "                            block_norm = 'L1',\n",
    "                            visualize=False, \n",
    "                            multichannel=False))\n",
    "    \n",
    "feature_hog = np.array(feature_hog)    "
   ]
  },
  {
   "cell_type": "code",
   "execution_count": null,
   "id": "7829e80c",
   "metadata": {},
   "outputs": [],
   "source": [
    "# Save the HOG feature vectors as npy files\n",
    "# np.save('E:/Study/HKUST/2-Statistical Prediction/Final_Project_Image/HOG_feature_train.npy',feature_hog)\n",
    "# np.save('E:/Study/HKUST/2-Statistical Prediction/Final_Project_Image/HOG_feature_test.npy',feature_hog)"
   ]
  },
  {
   "cell_type": "markdown",
   "id": "e49d9469",
   "metadata": {},
   "source": [
    "## Training the model (Logistic Regression)"
   ]
  },
  {
   "cell_type": "code",
   "execution_count": 22,
   "id": "d5cfb6fd",
   "metadata": {},
   "outputs": [],
   "source": [
    "#%%\n",
    "def get_metrics(labels, predict):\n",
    "    print(\"Accuracy: \", accuracy_score(labels, predict))\n",
    "    print(\"Precision: \", precision_score(labels, predict))\n",
    "    print(\"Recall: \", recall_score(labels, predict))\n",
    "    print(\"F1-score: \", f1_score(labels, predict))\n",
    "    \n",
    "def plot_roc(labels, predict_prob):\n",
    "    false_positive_rate,true_positive_rate,thresholds=roc_curve(labels, predict_prob)\n",
    "    roc_auc=auc(false_positive_rate, true_positive_rate)\n",
    "    plt.figure()\n",
    "    plt.title('ROC')\n",
    "    plt.plot(false_positive_rate, true_positive_rate,'b',label='AUC = %0.4f'% roc_auc)\n",
    "    plt.legend(loc='lower right')\n",
    "    plt.plot([0,1],[0,1],'r--')\n",
    "    plt.ylabel('TPR')\n",
    "    plt.xlabel('FPR')\n",
    "    plt.show()"
   ]
  },
  {
   "cell_type": "code",
   "execution_count": 23,
   "id": "927054d8",
   "metadata": {},
   "outputs": [
    {
     "name": "stderr",
     "output_type": "stream",
     "text": [
      "100%|████████████████████████████████████████████████████████████████████████████████████| 8/8 [00:00<00:00, 14.72it/s]\n"
     ]
    },
    {
     "name": "stdout",
     "output_type": "stream",
     "text": [
      "(787028, 1512) (787028,)\n",
      "(787028,)\n"
     ]
    }
   ],
   "source": [
    "# load in training data and remove samples with nan return\n",
    "feature_hog = np.load('E:/Study/HKUST/2-Statistical Prediction/Final_Project_Image/models/HOG/HOG_feature_train.npy')\n",
    "label_df = []\n",
    "for year in tqdm(np.arange(1993,2001,1)):\n",
    "    label_df.append(pd.read_feather(os.path.join(\"./monthly_20d\",\\\n",
    "                                                 f\"20d_month_has_vb_[20]_ma_{year}_labels_w_delay.feather\")))\n",
    "label_df = pd.concat(label_df)\n",
    "y = label_df['Retx_20d_label'].to_numpy()\n",
    "label_value = label_df['Retx_20d'].to_numpy()\n",
    "tmp = (np.isnan(y) | (y==2))\n",
    "y = y[tmp==False]\n",
    "label_value = label_value[tmp==False]\n",
    "feature_hog = feature_hog[tmp==False, :]\n",
    "print(np.shape(feature_hog), np.shape(y))\n",
    "print(np.shape(label_value))"
   ]
  },
  {
   "cell_type": "code",
   "execution_count": 24,
   "id": "18c97aa0",
   "metadata": {},
   "outputs": [],
   "source": [
    "X_train, X_val, y_train, y_val = train_test_split(feature_hog, y, test_size=0.3, random_state=0)\n",
    "y_train_value, y_val_value = train_test_split(label_value, test_size=0.3, random_state=0)"
   ]
  },
  {
   "cell_type": "code",
   "execution_count": 26,
   "id": "def9a32b",
   "metadata": {
    "scrolled": true
   },
   "outputs": [
    {
     "data": {
      "text/plain": [
       "SGDClassifier(loss='log', random_state=0)"
      ]
     },
     "execution_count": 26,
     "metadata": {},
     "output_type": "execute_result"
    }
   ],
   "source": [
    "# clf_LR = LogisticRegression(penalty = 'l2', random_state = 0, solver = 'sag', verbose = 1)\n",
    "clf = SGDClassifier(loss = 'log', random_state = 0)\n",
    "clf.fit(X_train, y_train)"
   ]
  },
  {
   "cell_type": "code",
   "execution_count": 27,
   "id": "da574593",
   "metadata": {
    "scrolled": false
   },
   "outputs": [
    {
     "data": {
      "image/png": "[encoded data removed]",
      "text/plain": [
       "<Figure size 432x288 with 1 Axes>"
      ]
     },
     "metadata": {
      "needs_background": "light"
     },
     "output_type": "display_data"
    },
    {
     "name": "stdout",
     "output_type": "stream",
     "text": [
      "Accuracy:  0.525041400370168\n",
      "Precision:  0.5152211372774268\n",
      "Recall:  0.31401515814531517\n",
      "F1-score:  0.3902078280823483\n",
      "Correlation Spearman:  SpearmanrResult(correlation=0.06367967332872788, pvalue=1.2114390748292948e-210)\n",
      "Correlation Pearson:  (0.042903125724301765, 1.3286264458155558e-96)\n",
      "Val Loss:  tensor(0.6914)\n"
     ]
    }
   ],
   "source": [
    "from scipy import stats\n",
    "import torch\n",
    "import torch.nn\n",
    "\n",
    "### Prediction result of Logistic Regression on validation set\n",
    "y_proba = clf.predict_proba(X_val)[:,1]\n",
    "y_pred = clf.predict(X_val)\n",
    "y_proba_all = clf.predict_proba(X_val)\n",
    "\n",
    "plot_roc(y_val, y_proba)\n",
    "get_metrics(y_val, y_pred)\n",
    "print(\"Correlation Spearman: \", stats.spearmanr(list(y_proba), list(y_val_value)))\n",
    "print(\"Correlation Pearson: \", stats.pearsonr(list(y_proba), list(y_val_value)))\n",
    "loss_fn = torch.nn.CrossEntropyLoss()\n",
    "print(\"Val Loss: \", loss_fn(torch.Tensor(y_proba_all), torch.LongTensor(y_val)))"
   ]
  },
  {
   "cell_type": "markdown",
   "id": "a8b517a0",
   "metadata": {},
   "source": [
    "## Testing the model on the test set"
   ]
  },
  {
   "cell_type": "code",
   "execution_count": 32,
   "id": "2a771199",
   "metadata": {},
   "outputs": [
    {
     "name": "stderr",
     "output_type": "stream",
     "text": [
      "100%|██████████████████████████████████████████████████████████████████████████████████| 19/19 [00:02<00:00,  6.35it/s]\n"
     ]
    },
    {
     "name": "stdout",
     "output_type": "stream",
     "text": [
      "(1403975, 1512) (1403975,)\n",
      "(1403975,)\n"
     ]
    }
   ],
   "source": [
    "# load in testing data and remove samples with nan return\n",
    "X_test = np.load('E:/Study/HKUST/2-Statistical Prediction/Final_Project_Image/models/HOG/HOG_feature_test.npy')\n",
    "y_test = []\n",
    "for year in tqdm(np.arange(2001,2020,1)):\n",
    "    y_test.append(pd.read_feather(os.path.join(\"./monthly_20d\",\\\n",
    "                                                 f\"20d_month_has_vb_[20]_ma_{year}_labels_w_delay.feather\")))\n",
    "y_test = pd.concat(y_test)\n",
    "y_test_value = y_test['Retx_20d'].to_numpy()\n",
    "y_test = y_test['Retx_20d_label'].to_numpy()\n",
    "tmp = (np.isnan(y_test) | (y_test==2))\n",
    "print(np.shape(X_test), np.shape(y_test))\n",
    "print(np.shape(y_test_value))"
   ]
  },
  {
   "cell_type": "code",
   "execution_count": 34,
   "id": "1abef8e6",
   "metadata": {},
   "outputs": [
    {
     "data": {
      "image/png": "[encoded data removed]",
      "text/plain": [
       "<Figure size 432x288 with 1 Axes>"
      ]
     },
     "metadata": {
      "needs_background": "light"
     },
     "output_type": "display_data"
    },
    {
     "name": "stdout",
     "output_type": "stream",
     "text": [
      "Accuracy:  0.5106646123005292\n",
      "Precision:  0.5290393310542124\n",
      "Recall:  0.34490055134127756\n",
      "F1-score:  0.417570957996962\n",
      "Correlation Spearman:  SpearmanrResult(correlation=0.03829517801259079, pvalue=0.0)\n",
      "Correlation Pearson:  (0.022040105335876296, 2.127426257997058e-149)\n",
      "Test Loss:  tensor(0.6929)\n"
     ]
    }
   ],
   "source": [
    "from scipy import stats\n",
    "import torch\n",
    "import torch.nn\n",
    "\n",
    "### Prediction result of Logistic Regression on test set\n",
    "y_proba = clf.predict_proba(X_test)[:,1]\n",
    "y_pred = clf.predict(X_test)\n",
    "y_proba_all = clf.predict_proba(X_test)\n",
    "\n",
    "tmp = (np.isnan(y_test) | (y_test==2))\n",
    "plot_roc(y_test[tmp==False], y_proba[tmp==False])\n",
    "get_metrics(y_test[tmp==False], y_pred[tmp==False])\n",
    "tmp = (np.isnan(y_test_value) | (y_test_value==2))\n",
    "print(\"Correlation Spearman: \", stats.spearmanr(list(y_proba[tmp==False]), list(y_test_value[tmp==False])))\n",
    "print(\"Correlation Pearson: \", stats.pearsonr(list(y_proba[tmp==False]), list(y_test_value[tmp==False])))\n",
    "loss_fn = torch.nn.CrossEntropyLoss()\n",
    "print(\"Test Loss: \", loss_fn(torch.Tensor(y_proba_all[tmp==False]), torch.LongTensor(y_test[tmp==False])))"
   ]
  },
  {
   "cell_type": "code",
   "execution_count": 37,
   "id": "a32eeae8",
   "metadata": {},
   "outputs": [
    {
     "data": {
      "text/plain": [
       "(1512,)"
      ]
     },
     "execution_count": 37,
     "metadata": {},
     "output_type": "execute_result"
    }
   ],
   "source": [
    "X_test[0].shape"
   ]
  }
 ],
 "metadata": {
  "kernelspec": {
   "display_name": "Python 3",
   "language": "python",
   "name": "python3"
  },
  "language_info": {
   "codemirror_mode": {
    "name": "ipython",
    "version": 3
   },
   "file_extension": ".py",
   "mimetype": "text/x-python",
   "name": "python",
   "nbconvert_exporter": "python",
   "pygments_lexer": "ipython3",
   "version": "3.8.8"
  }
 },
 "nbformat": 4,
 "nbformat_minor": 5
}
