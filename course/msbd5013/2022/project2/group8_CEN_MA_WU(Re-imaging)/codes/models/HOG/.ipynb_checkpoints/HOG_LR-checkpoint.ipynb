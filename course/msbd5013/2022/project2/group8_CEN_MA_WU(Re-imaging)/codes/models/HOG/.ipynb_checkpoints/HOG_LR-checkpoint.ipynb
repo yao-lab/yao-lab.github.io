{
 "cells": [
  {
   "cell_type": "code",
   "execution_count": 14,
   "id": "c5608dfe",
   "metadata": {},
   "outputs": [],
   "source": [
    "import os\n",
    "import numpy as np\n",
    "import pandas as pd\n",
    "from sklearn.model_selection import train_test_split\n",
    "from skimage.io import imread\n",
    "from skimage.transform import resize\n",
    "from skimage.feature import hog\n",
    "from skimage import exposure\n",
    "import matplotlib.pyplot as plt\n",
    "from tqdm import tqdm\n",
    "\n",
    "from sklearn.linear_model import LogisticRegression\n",
    "from sklearn.ensemble import AdaBoostClassifier, RandomForestClassifier\n",
    "from sklearn.metrics import roc_curve, auc, accuracy_score, precision_score, recall_score, f1_score"
   ]
  },
  {
   "cell_type": "code",
   "execution_count": 2,
   "id": "28425186",
   "metadata": {},
   "outputs": [
    {
     "name": "stderr",
     "output_type": "stream",
     "text": [
      "100%|██████████████████████████████████████████████████████████████████████████████████| 19/19 [00:00<00:00, 32.16it/s]\n"
     ]
    },
    {
     "name": "stdout",
     "output_type": "stream",
     "text": [
      "(1403975, 64, 60)\n",
      "(1403975, 35)\n"
     ]
    }
   ],
   "source": [
    "year_list = np.arange(1993,2001,1) #1993-2000 as training & validation set\n",
    "# year_list = np.arange(2001,2020,1) #2001-2019 as test set\n",
    "images = []\n",
    "label_df = []\n",
    "for year in tqdm(year_list):\n",
    "    images.append(np.memmap(os.path.join(\"E:/Study/HKUST/2-Statistical Prediction/Final_Project_Image/monthly_20d\",\\\n",
    "                                         f\"20d_month_has_vb_[20]_ma_{year}_images.dat\"), dtype=np.uint8, mode='r')\n",
    "                   .reshape((-1, 64, 60)))\n",
    "    label_df.append(pd.read_feather(os.path.join(\"E:/Study/HKUST/2-Statistical Prediction/Final_Project_Image/monthly_20d\",\\\n",
    "                                                 f\"20d_month_has_vb_[20]_ma_{year}_labels_w_delay.feather\")))\n",
    "\n",
    "images = np.concatenate(images)\n",
    "label_df = pd.concat(label_df)\n",
    "\n",
    "print(images.shape)\n",
    "print(label_df.shape)"
   ]
  },
  {
   "cell_type": "code",
   "execution_count": 3,
   "id": "43594bc0",
   "metadata": {},
   "outputs": [
    {
     "name": "stderr",
     "output_type": "stream",
     "text": [
      "100%|██████████████████████████████████████████████████████████████████████| 1403975/1403975 [14:51<00:00, 1574.10it/s]\n"
     ]
    }
   ],
   "source": [
    "feature_hog = []\n",
    "for i in tqdm(np.arange(np.shape(images)[0])):\n",
    "    feature_hog.append(hog(images[i,:,:], \n",
    "                            orientations=9, \n",
    "                            pixels_per_cell=(8, 8),\n",
    "                            cells_per_block=(2, 2), \n",
    "                            block_norm = 'L1',\n",
    "                            visualize=False, \n",
    "                            multichannel=False))\n",
    "    \n",
    "feature_hog = np.array(feature_hog)    "
   ]
  },
  {
   "cell_type": "code",
   "execution_count": 4,
   "id": "7b4e21ed",
   "metadata": {},
   "outputs": [],
   "source": [
    "# Save the HOG feature vectors as npy files\n",
    "# np.save('E:/Study/HKUST/2-Statistical Prediction/Final_Project_Image/HOG_feature_train.npy',feature_hog)\n",
    "# np.save('E:/Study/HKUST/2-Statistical Prediction/Final_Project_Image/HOG_feature_test.npy',feature_hog)"
   ]
  },
  {
   "cell_type": "markdown",
   "id": "701d966d",
   "metadata": {},
   "source": [
    "## Training the model (Logistic Regression)"
   ]
  },
  {
   "cell_type": "code",
   "execution_count": 12,
   "id": "af95a5f4",
   "metadata": {},
   "outputs": [],
   "source": [
    "#%%\n",
    "def get_metrics(labels, predict):\n",
    "    print(\"Accuracy: \", accuracy_score(labels, predict))\n",
    "    print(\"Precision: \", precision_score(labels, predict))\n",
    "    print(\"Recall: \", recall_score(labels, predict))\n",
    "    print(\"F1-score: \", f1_score(labels, predict))\n",
    "    \n",
    "def plot_roc(labels, predict_prob):\n",
    "    false_positive_rate,true_positive_rate,thresholds=roc_curve(labels, predict_prob)\n",
    "    roc_auc=auc(false_positive_rate, true_positive_rate)\n",
    "    plt.figure()\n",
    "    plt.title('ROC')\n",
    "    plt.plot(false_positive_rate, true_positive_rate,'b',label='AUC = %0.4f'% roc_auc)\n",
    "    plt.legend(loc='lower right')\n",
    "    plt.plot([0,1],[0,1],'r--')\n",
    "    plt.ylabel('TPR')\n",
    "    plt.xlabel('FPR')\n",
    "    plt.show()"
   ]
  },
  {
   "cell_type": "code",
   "execution_count": 7,
   "id": "30c24e2a",
   "metadata": {},
   "outputs": [
    {
     "name": "stderr",
     "output_type": "stream",
     "text": [
      "100%|████████████████████████████████████████████████████████████████████████████████████| 8/8 [00:00<00:00, 46.71it/s]\n"
     ]
    },
    {
     "name": "stdout",
     "output_type": "stream",
     "text": [
      "(787028, 1512) (787028,)\n"
     ]
    }
   ],
   "source": [
    "# load in training data and remove samples with nan return\n",
    "# feature_hog = np.load('E:/Study/HKUST/2-Statistical Prediction/Final_Project_Image/HOG_feature_train.npy')\n",
    "label_df = []\n",
    "for year in tqdm(np.arange(1993,2001,1)):\n",
    "    label_df.append(pd.read_feather(os.path.join(\"E:/Study/HKUST/2-Statistical Prediction/Final_Project_Image/monthly_20d\",\\\n",
    "                                                 f\"20d_month_has_vb_[20]_ma_{year}_labels_w_delay.feather\")))\n",
    "label_df = pd.concat(label_df)\n",
    "y = label_df['Retx_20d_label'].to_numpy()\n",
    "tmp = (np.isnan(y) | (y==2))\n",
    "y = y[tmp==False]\n",
    "feature_hog = feature_hog[tmp==False, :]\n",
    "print(np.shape(feature_hog), np.shape(y))"
   ]
  },
  {
   "cell_type": "code",
   "execution_count": 11,
   "id": "31d50ac9",
   "metadata": {},
   "outputs": [],
   "source": [
    "X_train, X_val, y_train, y_val = train_test_split(feature_hog, y, test_size=0.3, random_state=0)"
   ]
  },
  {
   "cell_type": "code",
   "execution_count": 34,
   "id": "07f83acf",
   "metadata": {},
   "outputs": [
    {
     "name": "stderr",
     "output_type": "stream",
     "text": [
      "[Parallel(n_jobs=-1)]: Using backend ThreadingBackend with 16 concurrent workers.\n"
     ]
    },
    {
     "name": "stdout",
     "output_type": "stream",
     "text": [
      "rescaling...\n",
      "rescaling...\n",
      "rescaling...\n",
      "rescaling...\n",
      "rescaling...\n",
      "rescaling...\n",
      "rescaling...\n",
      "rescaling...\n",
      "rescaling...\n",
      "rescaling...\n",
      "rescaling...\n",
      "rescaling...\n",
      "rescaling...\n",
      "rescaling...\n",
      "rescaling...\n",
      "rescaling...\n",
      "rescaling...\n",
      "rescaling...\n",
      "rescaling...\n",
      "rescaling...\n",
      "rescaling...\n",
      "rescaling...\n",
      "rescaling...\n",
      "rescaling...\n",
      "rescaling...\n",
      "rescaling...\n",
      "rescaling...\n",
      "rescaling...\n",
      "rescaling...\n",
      "rescaling...\n",
      "rescaling...\n",
      "rescaling...\n",
      "rescaling...\n",
      "rescaling...\n",
      "rescaling...\n",
      "rescaling...\n",
      "rescaling...\n",
      "rescaling...\n",
      "rescaling...\n",
      "rescaling...\n",
      "rescaling...\n",
      "rescaling...\n",
      "rescaling...\n",
      "rescaling...\n",
      "rescaling...\n",
      "rescaling...\n",
      "rescaling...\n",
      "rescaling...\n",
      "rescaling...\n",
      "rescaling...\n",
      "rescaling...\n",
      "rescaling...\n",
      "rescaling...\n",
      "rescaling...\n",
      "rescaling...\n",
      "rescaling...\n",
      "rescaling...\n",
      "rescaling...\n",
      "rescaling...\n",
      "rescaling...\n",
      "rescaling...\n",
      "rescaling...\n",
      "rescaling...\n",
      "rescaling...\n",
      "rescaling...\n",
      "rescaling...\n",
      "rescaling...\n",
      "rescaling...\n",
      "rescaling...\n",
      "rescaling...\n",
      "rescaling...\n",
      "rescaling...\n",
      "rescaling...\n",
      "rescaling...\n",
      "rescaling...\n",
      "rescaling...\n",
      "rescaling...\n",
      "rescaling...\n",
      "rescaling...\n",
      "rescaling...\n",
      "rescaling...\n",
      "rescaling...\n",
      "rescaling...\n",
      "rescaling...\n",
      "rescaling...\n",
      "rescaling...\n",
      "rescaling...\n",
      "rescaling...\n",
      "rescaling...\n",
      "rescaling...\n",
      "rescaling...\n",
      "rescaling...\n",
      "rescaling...\n",
      "rescaling...\n",
      "rescaling...\n",
      "rescaling...\n",
      "rescaling...\n",
      "rescaling...\n",
      "rescaling...\n",
      "rescaling...\n",
      "rescaling...\n",
      "rescaling...\n",
      "rescaling...\n",
      "rescaling...\n",
      "rescaling...\n",
      "rescaling...\n",
      "rescaling...\n",
      "rescaling...\n",
      "rescaling...\n",
      "rescaling...\n",
      "rescaling...\n",
      "rescaling...\n",
      "rescaling...\n",
      "rescaling...\n",
      "rescaling...\n",
      "rescaling...\n",
      "rescaling...\n",
      "rescaling...\n",
      "rescaling...\n",
      "rescaling...\n",
      "rescaling...\n",
      "rescaling...\n",
      "rescaling...\n",
      "rescaling...\n",
      "rescaling...\n",
      "rescaling...\n",
      "rescaling...\n",
      "rescaling...\n",
      "rescaling...\n",
      "rescaling...\n",
      "rescaling...\n",
      "rescaling...\n",
      "rescaling...\n",
      "rescaling...\n",
      "rescaling...\n",
      "rescaling...\n",
      "rescaling...\n",
      "rescaling...\n",
      "rescaling...\n",
      "rescaling...\n",
      "rescaling...\n",
      "rescaling...\n",
      "rescaling...\n",
      "rescaling...\n",
      "rescaling...\n",
      "rescaling...\n",
      "rescaling...\n",
      "rescaling...\n",
      "rescaling...\n",
      "rescaling...\n",
      "rescaling...\n",
      "rescaling...\n",
      "rescaling...\n",
      "rescaling...\n",
      "rescaling...\n",
      "rescaling...\n",
      "rescaling...\n",
      "rescaling...\n",
      "rescaling...\n",
      "rescaling...\n",
      "convergence after 16 epochs took 88 seconds\n"
     ]
    },
    {
     "name": "stderr",
     "output_type": "stream",
     "text": [
      "[Parallel(n_jobs=-1)]: Done   1 out of   1 | elapsed:  1.5min finished\n"
     ]
    },
    {
     "data": {
      "text/plain": [
       "LogisticRegression(C=0.001, n_jobs=-1, random_state=0, solver='sag', verbose=2)"
      ]
     },
     "execution_count": 34,
     "metadata": {},
     "output_type": "execute_result"
    }
   ],
   "source": [
    "# clf_LR = LogisticRegression(penalty = 'l2', random_state = 0, C = 10**3,\\\n",
    "#                             verbose = 2)\n",
    "# clf_LR.fit(X_train, y_train)\n",
    "\n",
    "clf_LR2 = LogisticRegression(penalty = 'l2', random_state = 0, C = 0.001,\\\n",
    "                             solver = 'sag',\n",
    "                             n_jobs = -1,\n",
    "                             verbose = 1)\n",
    "clf_LR2.fit(X_train, y_train)"
   ]
  },
  {
   "cell_type": "code",
   "execution_count": 17,
   "id": "2e681d87",
   "metadata": {
    "scrolled": false
   },
   "outputs": [
    {
     "data": {
      "image/png": "[encoded data removed]",
      "text/plain": [
       "<Figure size 432x288 with 1 Axes>"
      ]
     },
     "metadata": {
      "needs_background": "light"
     },
     "output_type": "display_data"
    },
    {
     "name": "stdout",
     "output_type": "stream",
     "text": [
      "Accuracy:  0.5259816440711705\n",
      "Precision:  0.5149602677772951\n",
      "Recall:  0.35276819940137577\n",
      "F1-score:  0.41870611210371045\n"
     ]
    }
   ],
   "source": [
    "### Prediction result of Logistic Regression on validation set\n",
    "y_proba = clf_LR.predict_proba(X_val)[:,1]\n",
    "y_pred = clf_LR.predict(X_val)\n",
    "\n",
    "plot_roc(y_val, y_proba)\n",
    "get_metrics(y_val, y_pred)"
   ]
  },
  {
   "cell_type": "code",
   "execution_count": 18,
   "id": "a580adf1",
   "metadata": {},
   "outputs": [
    {
     "data": {
      "image/png": "[encoded data removed]",
      "text/plain": [
       "<Figure size 432x288 with 1 Axes>"
      ]
     },
     "metadata": {
      "needs_background": "light"
     },
     "output_type": "display_data"
    },
    {
     "name": "stdout",
     "output_type": "stream",
     "text": [
      "Accuracy:  0.4993710532000051\n",
      "Precision:  0.48327377365057\n",
      "Recall:  0.4982758922476414\n",
      "F1-score:  0.49066018589138666\n"
     ]
    }
   ],
   "source": [
    "### Random Guess\n",
    "y_proba = np.random.normal(loc=0.5, scale=0.1, size=np.shape(y_val))\n",
    "y_pred = (y_proba >= 0.5)\n",
    "\n",
    "plot_roc(y_val, y_proba)\n",
    "get_metrics(y_val, y_pred)"
   ]
  },
  {
   "cell_type": "markdown",
   "id": "904f87bd",
   "metadata": {},
   "source": [
    "## Testing the model on the test set"
   ]
  },
  {
   "cell_type": "code",
   "execution_count": 24,
   "id": "414cbf29",
   "metadata": {},
   "outputs": [
    {
     "name": "stderr",
     "output_type": "stream",
     "text": [
      "100%|██████████████████████████████████████████████████████████████████████████████████| 19/19 [00:01<00:00, 13.04it/s]\n"
     ]
    },
    {
     "name": "stdout",
     "output_type": "stream",
     "text": [
      "(1403975, 1512) (1403975,)\n"
     ]
    }
   ],
   "source": [
    "# load in testing data and remove samples with nan return\n",
    "X_test = np.load('E:/Study/HKUST/2-Statistical Prediction/Final_Project_Image/HOG_feature_test.npy')\n",
    "y_test = []\n",
    "for year in tqdm(np.arange(2001,2020,1)):\n",
    "    y_test.append(pd.read_feather(os.path.join(\"E:/Study/HKUST/2-Statistical Prediction/Final_Project_Image/monthly_20d\",\\\n",
    "                                                 f\"20d_month_has_vb_[20]_ma_{year}_labels_w_delay.feather\")))\n",
    "y_test = pd.concat(y_test)\n",
    "y_test = y_test['Retx_20d_label'].to_numpy()\n",
    "tmp = (np.isnan(y_test) | (y_test==2))\n",
    "print(np.shape(X_test), np.shape(y_test))"
   ]
  },
  {
   "cell_type": "code",
   "execution_count": 29,
   "id": "39f6a801",
   "metadata": {},
   "outputs": [
    {
     "data": {
      "image/png": "[encoded data removed]",
      "text/plain": [
       "<Figure size 432x288 with 1 Axes>"
      ]
     },
     "metadata": {
      "needs_background": "light"
     },
     "output_type": "display_data"
    },
    {
     "name": "stdout",
     "output_type": "stream",
     "text": [
      "Accuracy:  0.513153941952446\n",
      "Precision:  0.5288366282507877\n",
      "Recall:  0.39207258363513076\n",
      "F1-score:  0.4502992053572007\n"
     ]
    }
   ],
   "source": [
    "### Prediction result of Logistic Regression on test set\n",
    "y_proba = clf_LR.predict_proba(X_test)[:,1]\n",
    "y_pred = clf_LR.predict(X_test)\n",
    "\n",
    "plot_roc(y_test[tmp==False], y_proba[tmp==False])\n",
    "get_metrics(y_test[tmp==False], y_pred[tmp==False])"
   ]
  },
  {
   "cell_type": "code",
   "execution_count": 35,
   "id": "07fc6ed7",
   "metadata": {},
   "outputs": [
    {
     "data": {
      "image/png": "[encoded data removed]",
      "text/plain": [
       "<Figure size 432x288 with 1 Axes>"
      ]
     },
     "metadata": {
      "needs_background": "light"
     },
     "output_type": "display_data"
    },
    {
     "name": "stdout",
     "output_type": "stream",
     "text": [
      "Accuracy:  0.5098981683495214\n",
      "Precision:  0.5294023759035046\n",
      "Recall:  0.32730866230311506\n",
      "F1-score:  0.40451908694860583\n"
     ]
    }
   ],
   "source": [
    "### Prediction result of Logistic Regression on test set\n",
    "y_proba = clf_LR2.predict_proba(X_test)[:,1]\n",
    "y_pred = clf_LR2.predict(X_test)\n",
    "\n",
    "plot_roc(y_test[tmp==False], y_proba[tmp==False])\n",
    "get_metrics(y_test[tmp==False], y_pred[tmp==False])"
   ]
  }
 ],
 "metadata": {
  "kernelspec": {
   "display_name": "Python 3",
   "language": "python",
   "name": "python3"
  },
  "language_info": {
   "codemirror_mode": {
    "name": "ipython",
    "version": 3
   },
   "file_extension": ".py",
   "mimetype": "text/x-python",
   "name": "python",
   "nbconvert_exporter": "python",
   "pygments_lexer": "ipython3",
   "version": "3.8.8"
  }
 },
 "nbformat": 4,
 "nbformat_minor": 5
}
