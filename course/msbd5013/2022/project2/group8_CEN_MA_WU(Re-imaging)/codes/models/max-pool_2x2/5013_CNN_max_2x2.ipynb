{
  "cells": [
    {
      "cell_type": "code",
      "execution_count": 3,
      "metadata": {
        "colab": {
          "base_uri": "https://localhost:8080/"
        },
        "id": "ijYPa46IasK3",
        "outputId": "168b0689-f3e8-4476-a348-e2c8a93b037f"
      },
      "outputs": [
        {
          "name": "stdout",
          "output_type": "stream",
          "text": [
            "Requirement already satisfied: pyarrow in /usr/local/lib/python3.7/dist-packages (6.0.1)\n",
            "Requirement already satisfied: numpy>=1.16.6 in /usr/local/lib/python3.7/dist-packages (from pyarrow) (1.21.6)\n"
          ]
        }
      ],
      "source": [
        "pip install pyarrow"
      ]
    },
    {
      "cell_type": "code",
      "execution_count": 2,
      "metadata": {
        "id": "PDfIvxTLpMHt"
      },
      "outputs": [],
      "source": [
        "import os\n",
        "import sys\n",
        "sys.path.insert(0, '..')\n",
        "import matplotlib.pyplot as plt\n",
        "import numpy as np\n",
        "import pandas as pd\n",
        "import time\n",
        "import torch\n",
        "import torch.nn as nn\n",
        "from torch.nn import Module\n",
        "from torch.optim import Adam\n",
        "from torch.nn import MSELoss\n",
        "from torch.utils.data import Dataset, DataLoader\n",
        "from torch.utils.data import random_split\n",
        "from torchvision import transforms, utils\n",
        "from scipy import stats\n",
        "from tqdm import tqdm\n",
        "\n",
        "import warnings\n",
        "warnings.filterwarnings('ignore')\n",
        "\n",
        "np.random.seed(5001)"
      ]
    },
    {
      "cell_type": "code",
      "execution_count": 3,
      "metadata": {
        "id": "a7PfSsxVpMHu"
      },
      "outputs": [],
      "source": [
        "class MyDataset(Dataset):\n",
        "    \n",
        "    def __init__(self, img, label):\n",
        "        self.img = torch.Tensor(img.copy())\n",
        "        self.label = torch.Tensor(label)\n",
        "        self.len = len(img)\n",
        "  \n",
        "    def __len__(self):\n",
        "        return self.len\n",
        "\n",
        "    def __getitem__(self, idx):\n",
        "        return self.img[idx], self.label[idx]"
      ]
    },
    {
      "cell_type": "code",
      "execution_count": 7,
      "metadata": {
        "colab": {
          "base_uri": "https://localhost:8080/"
        },
        "id": "W1xKRzuIpMHv",
        "outputId": "88414dd3-ce09-45eb-a580-34f76f6d575d"
      },
      "outputs": [
        {
          "name": "stdout",
          "output_type": "stream",
          "text": [
            "(787028, 64, 60)\n",
            "(787028, 35)\n"
          ]
        }
      ],
      "source": [
        "image_height = {5: 32, 20: 64, 60: 96}  \n",
        "image_width = {5: 15, 20: 60, 60: 180}\n",
        "train_year = np.arange(1993,2001,1)\n",
        "images = []\n",
        "label_df = []\n",
        "\n",
        "for year in train_year:\n",
        "    images.append(np.memmap(os.path.join(\"./monthly_20d\", f\"20d_month_has_vb_[20]_ma_{year}_images.dat\"), dtype=np.uint8, mode='r').reshape(\n",
        "                        (-1, image_height[20], image_width[20])))\n",
        "    label_df.append(pd.read_feather(os.path.join(\"./monthly_20d\", f\"20d_month_has_vb_[20]_ma_{year}_labels_w_delay.feather\")))\n",
        "    \n",
        "images = np.concatenate(images)\n",
        "label_df = pd.concat(label_df)\n",
        "\n",
        "y = label_df['Retx_20d_label'].to_numpy()\n",
        "tmp = (np.isnan(y) | (y==2))\n",
        "y = y[tmp==False]\n",
        "images = images[tmp==False]\n",
        "label_df = label_df[tmp==False]\n",
        "\n",
        "print(images.shape)\n",
        "print(label_df.shape)"
      ]
    },
    {
      "cell_type": "code",
      "execution_count": 8,
      "metadata": {
        "id": "PlL-_y4IasK8"
      },
      "outputs": [],
      "source": [
        "label = label_df[\"Retx_20d_label\"]\n",
        "label_value = label_df[\"Retx_20d\"]\n",
        "label = np.array(label)\n",
        "label_value = np.array(label_value)"
      ]
    },
    {
      "cell_type": "code",
      "execution_count": 9,
      "metadata": {
        "id": "n3ZBLDncasK9"
      },
      "outputs": [],
      "source": [
        "dataset = MyDataset(images, label)\n",
        "train_val_ratio = 0.7\n",
        "train_dataset, val_dataset = random_split(dataset, \n",
        "                                          [int(dataset.len*train_val_ratio), \n",
        "                                           dataset.len-int(dataset.len*train_val_ratio)], \n",
        "                                          generator=torch.Generator().manual_seed(5001))\n",
        "\n",
        "train_dataset_value, val_dataset_value = random_split(label_value, \n",
        "                                                      [int(dataset.len*train_val_ratio), \n",
        "                                                       dataset.len-int(dataset.len*train_val_ratio)], \n",
        "                                                      generator=torch.Generator().manual_seed(5001))"
      ]
    },
    {
      "cell_type": "code",
      "execution_count": 4,
      "metadata": {
        "id": "LgfmExfwpMHw"
      },
      "outputs": [],
      "source": [
        "class CNN(nn.Module):\n",
        "    def __init__(self):\n",
        "        super().__init__()\n",
        "        self.layer1 = nn.Sequential(\n",
        "            nn.Conv2d(1, 64, kernel_size=(5,3), stride=(3,1), dilation=(2,1), padding=(12,1)),\n",
        "            nn.BatchNorm2d(64),\n",
        "            nn.LeakyReLU(negative_slope=0.01, inplace=True),\n",
        "            nn.MaxPool2d((2, 2), stride=(2, 1)),\n",
        "        )\n",
        "        self.layer2 = nn.Sequential(\n",
        "            nn.Conv2d(64, 128, kernel_size=(5,3), stride=(3,1), dilation=(2,1), padding=(12,1)),\n",
        "            nn.BatchNorm2d(128),\n",
        "            nn.LeakyReLU(negative_slope=0.01, inplace=True),\n",
        "            nn.MaxPool2d((2, 2), stride=(2, 1)),\n",
        "        )\n",
        "        self.layer3 = nn.Sequential(\n",
        "            nn.Conv2d(128, 256, kernel_size=(5,3), stride=(3,1), dilation=(2,1), padding=(12,1)),\n",
        "            nn.BatchNorm2d(256),\n",
        "            nn.LeakyReLU(negative_slope=0.01, inplace=True),\n",
        "            nn.MaxPool2d((2, 2), stride=(2, 1)),\n",
        "        )\n",
        "        self.fc1 = nn.Sequential(\n",
        "            nn.Dropout(p=0.5),\n",
        "            nn.Linear(43776, 2),\n",
        "        )\n",
        "        self.softmax = nn.Softmax(dim=1)\n",
        "       \n",
        "    def forward(self, x):\n",
        "        x = x.reshape(-1,1,64,60)\n",
        "        x = self.layer1(x)\n",
        "        x = self.layer2(x)\n",
        "        x = self.layer3(x)\n",
        "        x = x.reshape(-1,43776)\n",
        "        x = self.fc1(x)\n",
        "        x = self.softmax(x)\n",
        "        return x"
      ]
    },
    {
      "cell_type": "code",
      "execution_count": 5,
      "metadata": {
        "id": "iFQ9lVImpMHx"
      },
      "outputs": [],
      "source": [
        "def train(data, model, opti, loss, device):\n",
        "    model.train()\n",
        "    num = 0.\n",
        "    pred = []\n",
        "    with tqdm(data) as t:\n",
        "        for batch, (X, y) in enumerate(t):\n",
        "            opti.zero_grad()\n",
        "            prediction = model(X.to(device))\n",
        "            loss_batch = loss(prediction, y.long().to(device))\n",
        "            loss_batch.backward()\n",
        "            opti.step()\n",
        "            num += loss_batch.item()\n",
        "            pred += prediction.cpu().tolist()\n",
        "    pred_value = np.array(pred)[:,1]\n",
        "    pred = torch.max(torch.Tensor(pred), 1)[1]\n",
        "        \n",
        "    return num / len(data), pred, pred_value"
      ]
    },
    {
      "cell_type": "code",
      "execution_count": 6,
      "metadata": {
        "id": "QV5DPEbhpMHx"
      },
      "outputs": [],
      "source": [
        "def evaluate(data, model, loss, device):\n",
        "    model.eval()\n",
        "    num = 0.\n",
        "    pred = []\n",
        "    \n",
        "    with torch.no_grad():\n",
        "        with tqdm(data) as t:\n",
        "            for batch, (X, y) in enumerate(t):\n",
        "                prediction = model(X.to(device))\n",
        "                loss_batch = loss(prediction, y.long().to(device))\n",
        "                num += loss_batch.item()\n",
        "                pred += prediction.cpu().tolist()\n",
        "    pred_value = np.array(pred)[:,1]\n",
        "    pred = torch.max(torch.Tensor(pred), 1)[1]\n",
        "        \n",
        "    return num / len(data), pred, pred_value"
      ]
    },
    {
      "cell_type": "code",
      "execution_count": 7,
      "metadata": {
        "id": "A5TGXH_CpMHy"
      },
      "outputs": [],
      "source": [
        "def trainer(trainData, valData, model, opti, loss, epoch, early_stopping_epoch, model_name, verbose, device):\n",
        "    \n",
        "    train_loss = []\n",
        "    val_loss = []\n",
        "    best_results = np.inf\n",
        "    last_min_index = -1\n",
        "    \n",
        "    for i in range(epoch):\n",
        "        start = time.time()\n",
        "        train_results, train_pred, train_value = train(trainData,model,opti,loss,device)\n",
        "        val_results, val_pred, val_value = evaluate(valData,model,loss,device)\n",
        "        \n",
        "        if (verbose):\n",
        "            print(\"Epoch {} | Train Loss: {:.3f} - Val Loss: {:.3f} - in {:.3f} mins.\".format(i+1, train_results, val_results, (time.time()-start)/60))\n",
        "            \n",
        "        if val_results < best_results:\n",
        "            torch.save(model.state_dict(), model_name+'.pth.tar')\n",
        "            best_results = val_results\n",
        "            best_train_pred = train_pred\n",
        "            best_val_pred = val_pred\n",
        "            best_train_value = train_value\n",
        "            best_val_value = val_value\n",
        "            last_min_index = i\n",
        "        elif i - last_min_index >= early_stopping_epoch:\n",
        "            break\n",
        "        \n",
        "        train_loss.append(train_results)\n",
        "        val_loss.append(val_results)\n",
        "        \n",
        "    torch.save({'train_losses': train_loss,\n",
        "                'val_losses': val_loss,\n",
        "                'min_val_loss': min(val_loss)\n",
        "               },model_name+'_loss.pth.tar')\n",
        "    \n",
        "    return torch.load(model_name+'_loss.pth.tar'), best_train_pred, best_val_pred, best_train_value, best_val_value  "
      ]
    },
    {
      "cell_type": "code",
      "execution_count": 8,
      "metadata": {
        "id": "vS2rDKhLasK_"
      },
      "outputs": [],
      "source": [
        "def init_weights(m):\n",
        "    if isinstance(m, nn.Linear):\n",
        "        torch.nn.init.xavier_uniform_(m.weight)\n",
        "        m.bias.data.fill_(0.)\n",
        "    elif isinstance(m, nn.Conv2d):\n",
        "        torch.nn.init.xavier_uniform_(m.weight)"
      ]
    },
    {
      "cell_type": "code",
      "execution_count": 9,
      "metadata": {
        "id": "Rbq28LBTasK_"
      },
      "outputs": [],
      "source": [
        "from sklearn.metrics import roc_curve, auc, accuracy_score, precision_score, recall_score, f1_score\n",
        "def plot_roc(labels, predict_prob):\n",
        "    false_positive_rate,true_positive_rate,thresholds=roc_curve(labels, predict_prob)\n",
        "    roc_auc=auc(false_positive_rate, true_positive_rate)\n",
        "    plt.figure()\n",
        "    plt.title('ROC')\n",
        "    plt.plot(false_positive_rate, true_positive_rate,'b',label='AUC = %0.4f'% roc_auc)\n",
        "    plt.legend(loc='lower right')\n",
        "    plt.plot([0,1],[0,1],'r--')\n",
        "    plt.ylabel('TPR')\n",
        "    plt.xlabel('FPR')\n",
        "    plt.show()"
      ]
    },
    {
      "cell_type": "markdown",
      "metadata": {
        "id": "6D9I3W_BasK_"
      },
      "source": [
        "## BEST Validation results"
      ]
    },
    {
      "cell_type": "code",
      "execution_count": 20,
      "metadata": {
        "colab": {
          "base_uri": "https://localhost:8080/"
        },
        "id": "FD_nB7nTpMHz",
        "outputId": "e30979a2-f927-4d54-b6e4-85b78c74a569"
      },
      "outputs": [
        {
          "name": "stderr",
          "output_type": "stream",
          "text": [
            "100%|██████████| 2153/2153 [03:11<00:00, 11.22it/s]\n",
            "100%|██████████| 923/923 [00:24<00:00, 36.97it/s]\n"
          ]
        },
        {
          "name": "stdout",
          "output_type": "stream",
          "text": [
            "Epoch 1 | Train Loss: 0.740 - Val Loss: 0.697 - in 3.621 mins.\n"
          ]
        },
        {
          "name": "stderr",
          "output_type": "stream",
          "text": [
            "100%|██████████| 2153/2153 [03:10<00:00, 11.31it/s]\n",
            "100%|██████████| 923/923 [00:24<00:00, 36.93it/s]\n"
          ]
        },
        {
          "name": "stdout",
          "output_type": "stream",
          "text": [
            "Epoch 2 | Train Loss: 0.723 - Val Loss: 0.695 - in 3.596 mins.\n"
          ]
        },
        {
          "name": "stderr",
          "output_type": "stream",
          "text": [
            "100%|██████████| 2153/2153 [03:09<00:00, 11.35it/s]\n",
            "100%|██████████| 923/923 [00:24<00:00, 37.39it/s]\n"
          ]
        },
        {
          "name": "stdout",
          "output_type": "stream",
          "text": [
            "Epoch 3 | Train Loss: 0.713 - Val Loss: 0.693 - in 3.580 mins.\n"
          ]
        },
        {
          "name": "stderr",
          "output_type": "stream",
          "text": [
            "100%|██████████| 2153/2153 [03:09<00:00, 11.34it/s]\n",
            "100%|██████████| 923/923 [00:24<00:00, 37.34it/s]\n"
          ]
        },
        {
          "name": "stdout",
          "output_type": "stream",
          "text": [
            "Epoch 4 | Train Loss: 0.707 - Val Loss: 0.691 - in 3.583 mins.\n"
          ]
        },
        {
          "name": "stderr",
          "output_type": "stream",
          "text": [
            "100%|██████████| 2153/2153 [03:09<00:00, 11.35it/s]\n",
            "100%|██████████| 923/923 [00:24<00:00, 37.36it/s]\n"
          ]
        },
        {
          "name": "stdout",
          "output_type": "stream",
          "text": [
            "Epoch 5 | Train Loss: 0.703 - Val Loss: 0.690 - in 3.580 mins.\n"
          ]
        },
        {
          "name": "stderr",
          "output_type": "stream",
          "text": [
            "100%|██████████| 2153/2153 [03:09<00:00, 11.35it/s]\n",
            "100%|██████████| 923/923 [00:24<00:00, 37.12it/s]\n"
          ]
        },
        {
          "name": "stdout",
          "output_type": "stream",
          "text": [
            "Epoch 6 | Train Loss: 0.701 - Val Loss: 0.700 - in 3.584 mins.\n"
          ]
        },
        {
          "name": "stderr",
          "output_type": "stream",
          "text": [
            "100%|██████████| 2153/2153 [03:09<00:00, 11.35it/s]\n",
            "100%|██████████| 923/923 [00:24<00:00, 37.20it/s]\n"
          ]
        },
        {
          "name": "stdout",
          "output_type": "stream",
          "text": [
            "Epoch 7 | Train Loss: 0.699 - Val Loss: 0.689 - in 3.582 mins.\n"
          ]
        },
        {
          "name": "stderr",
          "output_type": "stream",
          "text": [
            "100%|██████████| 2153/2153 [03:09<00:00, 11.35it/s]\n",
            "100%|██████████| 923/923 [00:24<00:00, 37.20it/s]\n"
          ]
        },
        {
          "name": "stdout",
          "output_type": "stream",
          "text": [
            "Epoch 8 | Train Loss: 0.698 - Val Loss: 0.691 - in 3.583 mins.\n"
          ]
        },
        {
          "name": "stderr",
          "output_type": "stream",
          "text": [
            "100%|██████████| 2153/2153 [03:09<00:00, 11.35it/s]\n",
            "100%|██████████| 923/923 [00:24<00:00, 37.21it/s]\n"
          ]
        },
        {
          "name": "stdout",
          "output_type": "stream",
          "text": [
            "Epoch 9 | Train Loss: 0.696 - Val Loss: 0.691 - in 3.582 mins.\n"
          ]
        }
      ],
      "source": [
        "device = torch.device(\"cuda:0\" if torch.cuda.is_available() else 'cpu')\n",
        "\n",
        "bs = 256\n",
        "lr = 1e-5\n",
        "epoch = 20\n",
        "early_stopping_epoch = 2\n",
        "\n",
        "trainData = torch.utils.data.DataLoader(train_dataset, batch_size=bs, shuffle=True, pin_memory=True)\n",
        "valData = torch.utils.data.DataLoader(val_dataset, batch_size=bs, shuffle=False, pin_memory=True)\n",
        "\n",
        "model = CNN().to(device)\n",
        "model.apply(init_weights)\n",
        "opti = Adam(model.parameters(),lr=lr)\n",
        "loss = nn.CrossEntropyLoss()\n",
        "\n",
        "out_results, train_pred, val_pred, train_value, val_value = trainer(trainData, valData, model, opti, loss, epoch, early_stopping_epoch, 'CNN_max_2x2', True, device)"
      ]
    },
    {
      "cell_type": "code",
      "execution_count": 21,
      "metadata": {
        "colab": {
          "base_uri": "https://localhost:8080/",
          "height": 330
        },
        "id": "Icml0fMhasLB",
        "outputId": "956d35e8-0cd0-4778-afab-7cae7cfda6be"
      },
      "outputs": [
        {
          "name": "stdout",
          "output_type": "stream",
          "text": [
            "Batch Size: 256 | Learning Rate: 1e-05 - Min. Val. Loss: 0.6891154734698303 \n",
            "Val Accuracy:  0.5377897496495263\n"
          ]
        },
        {
          "data": {
            "image/png": "[encoded data removed]",
            "text/plain": [
              "<Figure size 432x288 with 1 Axes>"
            ]
          },
          "metadata": {
            "needs_background": "light"
          },
          "output_type": "display_data"
        }
      ],
      "source": [
        "val_label = list()\n",
        "for i in range(len(val_dataset)):\n",
        "    val_label.append(val_dataset[i][1])\n",
        "val_label = np.array(val_label)\n",
        "\n",
        "print(\"Batch Size: {} | Learning Rate: {} - Min. Val. Loss: {} \".format(bs,lr,out_results['min_val_loss']))\n",
        "\n",
        "accuracy = (np.array(val_pred) == val_label).sum().item() / len(val_dataset)\n",
        "print(\"Val Accuracy: \", accuracy)\n",
        "plot_roc(np.array(val_label), np.array(val_value))"
      ]
    },
    {
      "cell_type": "markdown",
      "metadata": {
        "id": "1UGwtQxrasLB"
      },
      "source": [
        "## Test"
      ]
    },
    {
      "cell_type": "code",
      "execution_count": 11,
      "metadata": {
        "colab": {
          "base_uri": "https://localhost:8080/"
        },
        "id": "VnLOwOJniTzT",
        "outputId": "6830c74c-bbc3-4822-96ba-1508043d40a2"
      },
      "outputs": [
        {
          "name": "stdout",
          "output_type": "stream",
          "text": [
            "(721820, 64, 60)\n",
            "(721820, 35)\n"
          ]
        }
      ],
      "source": [
        "image_height = {5: 32, 20: 64, 60: 96}  \n",
        "image_width = {5: 15, 20: 60, 60: 180}\n",
        "\n",
        "test_year = np.arange(2001,2010,1)\n",
        "test_images = []\n",
        "test_label_df = []\n",
        "\n",
        "for year in test_year:\n",
        "    test_images.append(np.memmap(os.path.join(\"./monthly_20d\", f\"20d_month_has_vb_[20]_ma_{year}_images.dat\"), dtype=np.uint8, mode='r').reshape(\n",
        "                        (-1, image_height[20], image_width[20])))\n",
        "    test_label_df.append(pd.read_feather(os.path.join(\"./monthly_20d\", f\"20d_month_has_vb_[20]_ma_{year}_labels_w_delay.feather\")))\n",
        "    \n",
        "test_images = np.concatenate(test_images)\n",
        "test_label_df = pd.concat(test_label_df)\n",
        "\n",
        "y = test_label_df['Retx_20d_label'].to_numpy()\n",
        "tmp = (np.isnan(y) | (y==2))\n",
        "y = y[tmp==False]\n",
        "test_images = test_images[tmp==False]\n",
        "test_label_df = test_label_df[tmp==False]\n",
        "\n",
        "print(test_images.shape)\n",
        "print(test_label_df.shape)"
      ]
    },
    {
      "cell_type": "code",
      "execution_count": 12,
      "metadata": {
        "id": "TUKYOpRJiWqj"
      },
      "outputs": [],
      "source": [
        "test_label = test_label_df[\"Retx_20d_label\"]\n",
        "test_label_value = test_label_df[\"Retx_20d\"]\n",
        "test_label = np.array(test_label)\n",
        "test_label_value = np.array(test_label_value)"
      ]
    },
    {
      "cell_type": "code",
      "execution_count": 13,
      "metadata": {
        "id": "Ra2kgVs2i58x"
      },
      "outputs": [],
      "source": [
        "test_dataset = MyDataset(test_images, test_label)"
      ]
    },
    {
      "cell_type": "code",
      "execution_count": 14,
      "metadata": {
        "colab": {
          "base_uri": "https://localhost:8080/",
          "height": 382
        },
        "id": "BeJJRNUfasLC",
        "outputId": "09cd844d-ddb7-4236-bbcd-dd8ec2ae51ca"
      },
      "outputs": [
        {
          "name": "stderr",
          "output_type": "stream",
          "text": [
            "100%|██████████| 2820/2820 [01:18<00:00, 36.04it/s]\n"
          ]
        },
        {
          "name": "stdout",
          "output_type": "stream",
          "text": [
            "Test Loss:  0.6924489045396764\n",
            "Test Accuracy:  0.5268113934221829\n",
            "Correlation Spearman:  SpearmanrResult(correlation=0.07439081858873026, pvalue=0.0)\n",
            "Correlation Pearson:  (0.0537884532897219, 0.0)\n"
          ]
        },
        {
          "data": {
            "image/png": "[encoded data removed]",
            "text/plain": [
              "<Figure size 432x288 with 1 Axes>"
            ]
          },
          "metadata": {
            "needs_background": "light"
          },
          "output_type": "display_data"
        }
      ],
      "source": [
        "device = torch.device(\"cuda:0\" if torch.cuda.is_available() else 'cpu')\n",
        "loss = nn.CrossEntropyLoss()\n",
        "\n",
        "model = CNN().to(device)\n",
        "model.load_state_dict(torch.load(\"CNN_max_2x2.pth.tar\"))\n",
        "\n",
        "testData = torch.utils.data.DataLoader(test_dataset, batch_size=256, shuffle=False, pin_memory=True)\n",
        "test_results, test_pred, test_value = evaluate(testData, model, loss, device)\n",
        "\n",
        "print(\"Test Loss: \", test_results)\n",
        "accuracy = (test_pred == test_dataset[:][1]).sum().item() / len(test_dataset)\n",
        "print(\"Test Accuracy: \", accuracy)\n",
        "print(\"Correlation Spearman: \", stats.spearmanr(list(test_value), list(test_label_df['Retx_20d'])))\n",
        "print(\"Correlation Pearson: \", stats.pearsonr(list(test_value), list(test_label_df['Retx_20d'])))\n",
        "plot_roc(np.array(test_label_df['Retx_20d_label']), np.array(test_value))"
      ]
    },
    {
      "cell_type": "markdown",
      "metadata": {
        "id": "njrsJCvOjneF"
      },
      "source": [
        "# Test2"
      ]
    },
    {
      "cell_type": "code",
      "execution_count": 10,
      "metadata": {
        "colab": {
          "base_uri": "https://localhost:8080/"
        },
        "id": "9blU6p3rjpKW",
        "outputId": "a5f6a087-24d8-4fc1-eec2-04a7d724dc27"
      },
      "outputs": [
        {
          "name": "stdout",
          "output_type": "stream",
          "text": [
            "(672933, 64, 60)\n",
            "(672933, 35)\n"
          ]
        }
      ],
      "source": [
        "image_height = {5: 32, 20: 64, 60: 96}  \n",
        "image_width = {5: 15, 20: 60, 60: 180}\n",
        "\n",
        "test_year = np.arange(2010,2020,1)\n",
        "test_images = []\n",
        "test_label_df = []\n",
        "\n",
        "for year in test_year:\n",
        "    test_images.append(np.memmap(os.path.join(\"./monthly_20d\", f\"20d_month_has_vb_[20]_ma_{year}_images.dat\"), dtype=np.uint8, mode='r').reshape(\n",
        "                        (-1, image_height[20], image_width[20])))\n",
        "    test_label_df.append(pd.read_feather(os.path.join(\"./monthly_20d\", f\"20d_month_has_vb_[20]_ma_{year}_labels_w_delay.feather\")))\n",
        "    \n",
        "test_images = np.concatenate(test_images)\n",
        "test_label_df = pd.concat(test_label_df)\n",
        "\n",
        "y = test_label_df['Retx_20d_label'].to_numpy()\n",
        "tmp = (np.isnan(y) | (y==2))\n",
        "y = y[tmp==False]\n",
        "test_images = test_images[tmp==False]\n",
        "test_label_df = test_label_df[tmp==False]\n",
        "\n",
        "print(test_images.shape)\n",
        "print(test_label_df.shape)"
      ]
    },
    {
      "cell_type": "code",
      "execution_count": 11,
      "metadata": {
        "id": "9bwpLjlyjDFl"
      },
      "outputs": [],
      "source": [
        "test_label = test_label_df[\"Retx_20d_label\"]\n",
        "test_label_value = test_label_df[\"Retx_20d\"]\n",
        "test_label = np.array(test_label)\n",
        "test_label_value = np.array(test_label_value)"
      ]
    },
    {
      "cell_type": "code",
      "execution_count": 12,
      "metadata": {
        "id": "J4n0MyyEjDHt"
      },
      "outputs": [],
      "source": [
        "test_dataset = MyDataset(test_images, test_label)"
      ]
    },
    {
      "cell_type": "code",
      "execution_count": 14,
      "metadata": {
        "colab": {
          "base_uri": "https://localhost:8080/",
          "height": 382
        },
        "id": "fyVgEIiqjDJf",
        "outputId": "71cbe4ba-3c59-4d2e-9a80-0cc0e45f2ba3"
      },
      "outputs": [
        {
          "name": "stderr",
          "output_type": "stream",
          "text": [
            "100%|██████████| 2629/2629 [01:12<00:00, 36.16it/s]\n"
          ]
        },
        {
          "name": "stdout",
          "output_type": "stream",
          "text": [
            "Test Loss:  0.6960919338199475\n",
            "Test Accuracy:  0.5130287859266821\n",
            "Correlation Spearman:  SpearmanrResult(correlation=0.04347869904853498, pvalue=7.135145663856319e-279)\n",
            "Correlation Pearson:  (0.021566066283570648, 4.730519708839921e-70)\n"
          ]
        },
        {
          "data": {
            "image/png": "[encoded data removed]",
            "text/plain": [
              "<Figure size 432x288 with 1 Axes>"
            ]
          },
          "metadata": {
            "needs_background": "light"
          },
          "output_type": "display_data"
        }
      ],
      "source": [
        "device = torch.device(\"cuda:0\" if torch.cuda.is_available() else 'cpu')\n",
        "loss = nn.CrossEntropyLoss()\n",
        "\n",
        "model = CNN().to(device)\n",
        "model.load_state_dict(torch.load(\"CNN_max_2x2.pth.tar\"))\n",
        "\n",
        "testData = torch.utils.data.DataLoader(test_dataset, batch_size=256, shuffle=False, pin_memory=True)\n",
        "test_results, test_pred, test_value = evaluate(testData, model, loss, device)\n",
        "\n",
        "print(\"Test Loss: \", test_results)\n",
        "accuracy = (test_pred == test_dataset[:][1]).sum().item() / len(test_dataset)\n",
        "print(\"Test Accuracy: \", accuracy)\n",
        "print(\"Correlation Spearman: \", stats.spearmanr(list(test_value), list(test_label_df['Retx_20d'])))\n",
        "print(\"Correlation Pearson: \", stats.pearsonr(list(test_value), list(test_label_df['Retx_20d'])))\n",
        "plot_roc(np.array(test_label_df['Retx_20d_label']), np.array(test_value))"
      ]
    },
    {
      "cell_type": "markdown",
      "metadata": {
        "id": "nRoRH559kNCf"
      },
      "source": [
        "# Plot"
      ]
    },
    {
      "cell_type": "code",
      "execution_count": 15,
      "metadata": {
        "id": "G1wy8ATqpMHz"
      },
      "outputs": [],
      "source": [
        "CNN_out = torch.load('CNN_max_2x2_loss.pth.tar')"
      ]
    },
    {
      "cell_type": "code",
      "execution_count": 16,
      "metadata": {
        "colab": {
          "base_uri": "https://localhost:8080/",
          "height": 295
        },
        "id": "blAgcQSjpMHz",
        "outputId": "0284a167-c24b-4def-f083-60d5143a1e00"
      },
      "outputs": [
        {
          "data": {
            "image/png": "[encoded data removed]",
            "text/plain": [
              "<Figure size 432x288 with 1 Axes>"
            ]
          },
          "metadata": {
            "needs_background": "light"
          },
          "output_type": "display_data"
        }
      ],
      "source": [
        "plt.title('CNN_max_2x2_loss')\n",
        "plt.plot(CNN_out['train_losses'], label='CNN Train.')\n",
        "plt.plot(CNN_out['val_losses'], label='CNN Validation.', linestyle='--')\n",
        "_ = plt.ylabel('Cross Entropy Loss')\n",
        "_ = plt.xlabel('Epoch')\n",
        "_ = plt.legend()\n",
        "plt.savefig('CNN_max_2x2.png', bbox_inches='tight', dpi=200)"
      ]
    }
  ],
  "metadata": {
    "colab": {
      "collapsed_sections": [],
      "name": "5013_CNN_v8.ipynb",
      "provenance": []
    },
    "kernelspec": {
      "display_name": "Python 3",
      "language": "python",
      "name": "python3"
    },
    "language_info": {
      "codemirror_mode": {
        "name": "ipython",
        "version": 3
      },
      "file_extension": ".py",
      "mimetype": "text/x-python",
      "name": "python",
      "nbconvert_exporter": "python",
      "pygments_lexer": "ipython3",
      "version": "3.8.8"
    }
  },
  "nbformat": 4,
  "nbformat_minor": 0
}
