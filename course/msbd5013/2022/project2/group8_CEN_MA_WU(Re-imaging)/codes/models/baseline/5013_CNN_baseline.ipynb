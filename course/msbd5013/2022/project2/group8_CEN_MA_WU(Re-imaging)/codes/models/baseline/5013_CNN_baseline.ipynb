{
 "cells": [
  {
   "cell_type": "code",
   "execution_count": 1,
   "metadata": {
    "id": "PDfIvxTLpMHt"
   },
   "outputs": [],
   "source": [
    "import os\n",
    "import sys\n",
    "sys.path.insert(0, '..')\n",
    "import matplotlib.pyplot as plt\n",
    "import numpy as np\n",
    "import pandas as pd\n",
    "import time\n",
    "import torch\n",
    "import torch.nn as nn\n",
    "from torch.nn import Module\n",
    "from torch.optim import Adam\n",
    "from torch.nn import MSELoss\n",
    "from torch.utils.data import Dataset, DataLoader\n",
    "from torch.utils.data import random_split\n",
    "from torchvision import transforms, utils\n",
    "from scipy import stats\n",
    "from tqdm import tqdm\n",
    "\n",
    "import warnings\n",
    "warnings.filterwarnings('ignore')\n",
    "\n",
    "np.random.seed(5001)"
   ]
  },
  {
   "cell_type": "code",
   "execution_count": 2,
   "metadata": {
    "id": "a7PfSsxVpMHu"
   },
   "outputs": [],
   "source": [
    "class MyDataset(Dataset):\n",
    "    \n",
    "    def __init__(self, img, label):\n",
    "        self.img = torch.Tensor(img.copy())\n",
    "        self.label = torch.Tensor(label)\n",
    "        self.len = len(img)\n",
    "  \n",
    "    def __len__(self):\n",
    "        return self.len\n",
    "\n",
    "    def __getitem__(self, idx):\n",
    "        return self.img[idx], self.label[idx]\n",
    "        "
   ]
  },
  {
   "cell_type": "code",
   "execution_count": 3,
   "metadata": {
    "id": "W1xKRzuIpMHv"
   },
   "outputs": [
    {
     "name": "stdout",
     "output_type": "stream",
     "text": [
      "(787028, 64, 60)\n",
      "(787028, 35)\n",
      "(1394753, 64, 60)\n",
      "(1394753, 35)\n"
     ]
    }
   ],
   "source": [
    "image_height = {5: 32, 20: 64, 60: 96}  \n",
    "image_width = {5: 15, 20: 60, 60: 180}\n",
    "train_year = np.arange(1993,2001,1)\n",
    "images = []\n",
    "label_df = []\n",
    "\n",
    "for year in train_year:\n",
    "    images.append(np.memmap(os.path.join(\"./monthly_20d\", f\"20d_month_has_vb_[20]_ma_{year}_images.dat\"), dtype=np.uint8, mode='r').reshape(\n",
    "                        (-1, image_height[20], image_width[20])))\n",
    "    label_df.append(pd.read_feather(os.path.join(\"./monthly_20d\", f\"20d_month_has_vb_[20]_ma_{year}_labels_w_delay.feather\")))\n",
    "    \n",
    "images = np.concatenate(images)\n",
    "label_df = pd.concat(label_df)\n",
    "\n",
    "y = label_df['Retx_20d_label'].to_numpy()\n",
    "tmp = (np.isnan(y) | (y==2))\n",
    "y = y[tmp==False]\n",
    "images = images[tmp==False]\n",
    "label_df = label_df[tmp==False]\n",
    "\n",
    "test_year = np.arange(2001,2020,1)\n",
    "test_images = []\n",
    "test_label_df = []\n",
    "\n",
    "for year in test_year:\n",
    "    test_images.append(np.memmap(os.path.join(\"./monthly_20d\", f\"20d_month_has_vb_[20]_ma_{year}_images.dat\"), dtype=np.uint8, mode='r').reshape(\n",
    "                        (-1, image_height[20], image_width[20])))\n",
    "    test_label_df.append(pd.read_feather(os.path.join(\"./monthly_20d\", f\"20d_month_has_vb_[20]_ma_{year}_labels_w_delay.feather\")))\n",
    "    \n",
    "test_images = np.concatenate(test_images)\n",
    "test_label_df = pd.concat(test_label_df)\n",
    "\n",
    "y = test_label_df['Retx_20d_label'].to_numpy()\n",
    "tmp = (np.isnan(y) | (y==2))\n",
    "y = y[tmp==False]\n",
    "test_images = test_images[tmp==False]\n",
    "test_label_df = test_label_df[tmp==False]\n",
    "\n",
    "print(images.shape)\n",
    "print(label_df.shape)\n",
    "print(test_images.shape)\n",
    "print(test_label_df.shape)"
   ]
  },
  {
   "cell_type": "code",
   "execution_count": 4,
   "metadata": {},
   "outputs": [],
   "source": [
    "label = label_df[\"Retx_20d_label\"]\n",
    "label_value = label_df[\"Retx_20d\"]\n",
    "label = np.array(label)\n",
    "label_value = np.array(label_value)\n",
    "\n",
    "\n",
    "test_label = test_label_df[\"Retx_20d_label\"]\n",
    "test_label_value = test_label_df[\"Retx_20d\"]\n",
    "test_label = np.array(test_label)\n",
    "test_label_value = np.array(test_label_value)"
   ]
  },
  {
   "cell_type": "code",
   "execution_count": 19,
   "metadata": {
    "scrolled": true
   },
   "outputs": [
    {
     "ename": "MemoryError",
     "evalue": "Unable to allocate 2.81 GiB for an array with shape (787028, 64, 60) and data type uint8",
     "output_type": "error",
     "traceback": [
      "\u001b[1;31m---------------------------------------------------------------------------\u001b[0m",
      "\u001b[1;31mMemoryError\u001b[0m                               Traceback (most recent call last)",
      "\u001b[1;32m<ipython-input-19-1710b510a1d8>\u001b[0m in \u001b[0;36m<module>\u001b[1;34m\u001b[0m\n\u001b[1;32m----> 1\u001b[1;33m \u001b[0mdataset\u001b[0m \u001b[1;33m=\u001b[0m \u001b[0mMyDataset\u001b[0m\u001b[1;33m(\u001b[0m\u001b[0mimages\u001b[0m\u001b[1;33m,\u001b[0m \u001b[0mlabel\u001b[0m\u001b[1;33m)\u001b[0m\u001b[1;33m\u001b[0m\u001b[1;33m\u001b[0m\u001b[0m\n\u001b[0m\u001b[0;32m      2\u001b[0m \u001b[0mtrain_val_ratio\u001b[0m \u001b[1;33m=\u001b[0m \u001b[1;36m0.7\u001b[0m\u001b[1;33m\u001b[0m\u001b[1;33m\u001b[0m\u001b[0m\n\u001b[0;32m      3\u001b[0m train_dataset, val_dataset = random_split(dataset, \n\u001b[0;32m      4\u001b[0m                                           [int(dataset.len*train_val_ratio), \n\u001b[0;32m      5\u001b[0m                                            dataset.len-int(dataset.len*train_val_ratio)], \n",
      "\u001b[1;32m<ipython-input-2-24909b561282>\u001b[0m in \u001b[0;36m__init__\u001b[1;34m(self, img, label)\u001b[0m\n\u001b[0;32m      2\u001b[0m \u001b[1;33m\u001b[0m\u001b[0m\n\u001b[0;32m      3\u001b[0m     \u001b[1;32mdef\u001b[0m \u001b[0m__init__\u001b[0m\u001b[1;33m(\u001b[0m\u001b[0mself\u001b[0m\u001b[1;33m,\u001b[0m \u001b[0mimg\u001b[0m\u001b[1;33m,\u001b[0m \u001b[0mlabel\u001b[0m\u001b[1;33m)\u001b[0m\u001b[1;33m:\u001b[0m\u001b[1;33m\u001b[0m\u001b[1;33m\u001b[0m\u001b[0m\n\u001b[1;32m----> 4\u001b[1;33m         \u001b[0mself\u001b[0m\u001b[1;33m.\u001b[0m\u001b[0mimg\u001b[0m \u001b[1;33m=\u001b[0m \u001b[0mtorch\u001b[0m\u001b[1;33m.\u001b[0m\u001b[0mTensor\u001b[0m\u001b[1;33m(\u001b[0m\u001b[0mimg\u001b[0m\u001b[1;33m.\u001b[0m\u001b[0mcopy\u001b[0m\u001b[1;33m(\u001b[0m\u001b[1;33m)\u001b[0m\u001b[1;33m)\u001b[0m\u001b[1;33m\u001b[0m\u001b[1;33m\u001b[0m\u001b[0m\n\u001b[0m\u001b[0;32m      5\u001b[0m         \u001b[0mself\u001b[0m\u001b[1;33m.\u001b[0m\u001b[0mlabel\u001b[0m \u001b[1;33m=\u001b[0m \u001b[0mtorch\u001b[0m\u001b[1;33m.\u001b[0m\u001b[0mTensor\u001b[0m\u001b[1;33m(\u001b[0m\u001b[0mlabel\u001b[0m\u001b[1;33m)\u001b[0m\u001b[1;33m\u001b[0m\u001b[1;33m\u001b[0m\u001b[0m\n\u001b[0;32m      6\u001b[0m         \u001b[0mself\u001b[0m\u001b[1;33m.\u001b[0m\u001b[0mlen\u001b[0m \u001b[1;33m=\u001b[0m \u001b[0mlen\u001b[0m\u001b[1;33m(\u001b[0m\u001b[0mimg\u001b[0m\u001b[1;33m)\u001b[0m\u001b[1;33m\u001b[0m\u001b[1;33m\u001b[0m\u001b[0m\n",
      "\u001b[1;31mMemoryError\u001b[0m: Unable to allocate 2.81 GiB for an array with shape (787028, 64, 60) and data type uint8"
     ]
    }
   ],
   "source": [
    "dataset = MyDataset(images, label)\n",
    "train_val_ratio = 0.7\n",
    "train_dataset, val_dataset = random_split(dataset, \n",
    "                                          [int(dataset.len*train_val_ratio), \n",
    "                                           dataset.len-int(dataset.len*train_val_ratio)], \n",
    "                                          generator=torch.Generator().manual_seed(5001))\n",
    "\n",
    "test_dataset = MyDataset(test_images, test_label)\n",
    "train_dataset_value, val_dataset_value = random_split(label_value, \n",
    "                                                      [int(dataset.len*train_val_ratio), \n",
    "                                                       dataset.len-int(dataset.len*train_val_ratio)], \n",
    "                                                      generator=torch.Generator().manual_seed(5001))"
   ]
  },
  {
   "cell_type": "code",
   "execution_count": 6,
   "metadata": {
    "id": "LgfmExfwpMHw"
   },
   "outputs": [],
   "source": [
    "class CNN(nn.Module):\n",
    "    def __init__(self):\n",
    "        super().__init__()\n",
    "        self.layer1 = nn.Sequential(\n",
    "            nn.Conv2d(1, 64, kernel_size=(5,3), stride=(3,1), dilation=(2,1), padding=(12,1)),\n",
    "            nn.BatchNorm2d(64),\n",
    "            nn.LeakyReLU(negative_slope=0.01, inplace=True),\n",
    "            nn.MaxPool2d((2, 1), stride=(2, 1)),\n",
    "        )\n",
    "        self.layer2 = nn.Sequential(\n",
    "            nn.Conv2d(64, 128, kernel_size=(5,3), stride=(3,1), dilation=(2,1), padding=(12,1)),\n",
    "            nn.BatchNorm2d(128),\n",
    "            nn.LeakyReLU(negative_slope=0.01, inplace=True),\n",
    "            nn.MaxPool2d((2, 1), stride=(2, 1)),\n",
    "        )\n",
    "        self.layer3 = nn.Sequential(\n",
    "            nn.Conv2d(128, 256, kernel_size=(5,3), stride=(3,1), dilation=(2,1), padding=(12,1)),\n",
    "            nn.BatchNorm2d(256),\n",
    "            nn.LeakyReLU(negative_slope=0.01, inplace=True),\n",
    "            nn.MaxPool2d((2, 1), stride=(2, 1)),\n",
    "        )\n",
    "        self.fc1 = nn.Sequential(\n",
    "            nn.Dropout(p=0.5),\n",
    "            nn.Linear(46080, 2),\n",
    "        )\n",
    "        self.softmax = nn.Softmax(dim=1)\n",
    "       \n",
    "    def forward(self, x):\n",
    "        x = x.reshape(-1,1,64,60)\n",
    "        x = self.layer1(x)\n",
    "        x = self.layer2(x)\n",
    "        x = self.layer3(x)\n",
    "        x = x.reshape(-1,46080)\n",
    "        x = self.fc1(x)\n",
    "        x = self.softmax(x)\n",
    "        return x"
   ]
  },
  {
   "cell_type": "code",
   "execution_count": 7,
   "metadata": {
    "id": "iFQ9lVImpMHx"
   },
   "outputs": [],
   "source": [
    "def train(data, model, opti, loss, device):\n",
    "    model.train()\n",
    "    num = 0.\n",
    "    pred = []\n",
    "    with tqdm(data) as t:\n",
    "        for batch, (X, y) in enumerate(t):\n",
    "            opti.zero_grad()\n",
    "            prediction = model(X.to(device))\n",
    "            loss_batch = loss(prediction, y.long().to(device))\n",
    "            loss_batch.backward()\n",
    "            opti.step()\n",
    "            num += loss_batch.item()\n",
    "            pred += prediction.cpu().tolist()\n",
    "    pred_value = np.array(pred)[:,1]\n",
    "    pred = torch.max(torch.Tensor(pred), 1)[1]\n",
    "        \n",
    "    return num / len(data), pred, pred_value"
   ]
  },
  {
   "cell_type": "code",
   "execution_count": 8,
   "metadata": {
    "id": "QV5DPEbhpMHx"
   },
   "outputs": [],
   "source": [
    "def evaluate(data, model, loss, device):\n",
    "    model.eval()\n",
    "    num = 0.\n",
    "    pred = []\n",
    "    \n",
    "    with torch.no_grad():\n",
    "        with tqdm(data) as t:\n",
    "            for batch, (X, y) in enumerate(t):\n",
    "                prediction = model(X.to(device))\n",
    "                loss_batch = loss(prediction, y.long().to(device))\n",
    "                num += loss_batch.item()\n",
    "                pred += prediction.cpu().tolist()\n",
    "    pred_value = np.array(pred)[:,1]\n",
    "    pred = torch.max(torch.Tensor(pred), 1)[1]\n",
    "        \n",
    "    return num / len(data), pred, pred_value"
   ]
  },
  {
   "cell_type": "code",
   "execution_count": 10,
   "metadata": {
    "id": "A5TGXH_CpMHy"
   },
   "outputs": [],
   "source": [
    "def trainer(trainData, valData, model, opti, loss, epoch, early_stopping_epoch, model_name, verbose, device):\n",
    "    \n",
    "    train_loss = []\n",
    "    val_loss = []\n",
    "    best_results = np.inf\n",
    "    last_min_index = -1\n",
    "    \n",
    "    for i in range(epoch):\n",
    "        start = time.time()\n",
    "        train_results, train_pred, train_value = train(trainData,model,opti,loss,device)\n",
    "        val_results, val_pred, val_value = evaluate(valData,model,loss,device)\n",
    "        \n",
    "        if (verbose):\n",
    "            print(\"Epoch {} | Train Loss: {:.3f} - Val Loss: {:.3f} - in {:.3f} mins.\".format(i+1, train_results, val_results, (time.time()-start)/60))\n",
    "            \n",
    "        if val_results < best_results:\n",
    "            torch.save(model.state_dict(), model_name+'.pth.tar')\n",
    "            best_results = val_results\n",
    "            best_train_pred = train_pred\n",
    "            best_val_pred = val_pred\n",
    "            best_train_value = train_value\n",
    "            best_val_value = val_value\n",
    "            last_min_index = i\n",
    "        elif i - last_min_index >= early_stopping_epoch:\n",
    "            break\n",
    "        \n",
    "        train_loss.append(train_results)\n",
    "        val_loss.append(val_results)\n",
    "        \n",
    "    torch.save({'train_losses': train_loss,\n",
    "                'val_losses': val_loss,\n",
    "                'min_val_loss': min(val_loss)\n",
    "               },model_name+'_loss.pth.tar')\n",
    "    \n",
    "    return torch.load(model_name+'_loss.pth.tar'), best_train_pred, best_val_pred, best_train_value, best_val_value  "
   ]
  },
  {
   "cell_type": "code",
   "execution_count": 11,
   "metadata": {},
   "outputs": [],
   "source": [
    "def init_weights(m):\n",
    "    if isinstance(m, nn.Linear):\n",
    "        torch.nn.init.xavier_uniform_(m.weight)\n",
    "        m.bias.data.fill_(0.)\n",
    "    elif isinstance(m, nn.Conv2d):\n",
    "        torch.nn.init.xavier_uniform_(m.weight)"
   ]
  },
  {
   "cell_type": "code",
   "execution_count": 12,
   "metadata": {},
   "outputs": [],
   "source": [
    "from sklearn.metrics import roc_curve, auc, accuracy_score, precision_score, recall_score, f1_score\n",
    "def plot_roc(labels, predict_prob):\n",
    "    false_positive_rate,true_positive_rate,thresholds=roc_curve(labels, predict_prob)\n",
    "    roc_auc=auc(false_positive_rate, true_positive_rate)\n",
    "    plt.figure()\n",
    "    plt.title('ROC')\n",
    "    plt.plot(false_positive_rate, true_positive_rate,'b',label='AUC = %0.4f'% roc_auc)\n",
    "    plt.legend(loc='lower right')\n",
    "    plt.plot([0,1],[0,1],'r--')\n",
    "    plt.ylabel('TPR')\n",
    "    plt.xlabel('FPR')\n",
    "    plt.show()"
   ]
  },
  {
   "cell_type": "code",
   "execution_count": 23,
   "metadata": {},
   "outputs": [
    {
     "data": {
      "image/png": "[encoded data removed]",
      "text/plain": [
       "<Figure size 432x288 with 1 Axes>"
      ]
     },
     "metadata": {
      "needs_background": "light"
     },
     "output_type": "display_data"
    }
   ],
   "source": [
    "plot_roc(np.array(test_label_df['Retx_20d_label']), np.array(val_value))"
   ]
  },
  {
   "cell_type": "markdown",
   "metadata": {},
   "source": [
    "## BEST Validation results"
   ]
  },
  {
   "cell_type": "code",
   "execution_count": 14,
   "metadata": {
    "colab": {
     "base_uri": "https://localhost:8080/"
    },
    "collapsed": true,
    "id": "FD_nB7nTpMHz",
    "outputId": "4333e79f-2836-41d6-a0d5-5505c8557168"
   },
   "outputs": [
    {
     "name": "stderr",
     "output_type": "stream",
     "text": [
      "100%|██████████████████████████████████████████████████████████████████████████████| 2153/2153 [05:40<00:00,  6.31it/s]\n",
      "100%|████████████████████████████████████████████████████████████████████████████████| 923/923 [00:52<00:00, 17.43it/s]\n"
     ]
    },
    {
     "name": "stdout",
     "output_type": "stream",
     "text": [
      "Epoch 1 | Train Loss: 0.683 - Val Loss: 0.689 - in 6.570 mins.\n",
      "Batch Size: 256 | Learning Rate: 1e-05 - Min. Val. Loss: 0.6891829422468224 \n"
     ]
    },
    {
     "ename": "RuntimeError",
     "evalue": "[enforce fail at ..\\c10\\core\\CPUAllocator.cpp:79] data. DefaultCPUAllocator: not enough memory: you tried to allocate 3626634240 bytes.",
     "output_type": "error",
     "traceback": [
      "\u001b[1;31m---------------------------------------------------------------------------\u001b[0m",
      "\u001b[1;31mRuntimeError\u001b[0m                              Traceback (most recent call last)",
      "\u001b[1;32m<ipython-input-14-4a55075ee5ec>\u001b[0m in \u001b[0;36m<module>\u001b[1;34m\u001b[0m\n\u001b[0;32m     22\u001b[0m                                                                         \u001b[0mout_results\u001b[0m\u001b[1;33m[\u001b[0m\u001b[1;34m'min_val_loss'\u001b[0m\u001b[1;33m]\u001b[0m\u001b[1;33m\u001b[0m\u001b[1;33m\u001b[0m\u001b[0m\n\u001b[0;32m     23\u001b[0m                                                                         ))\n\u001b[1;32m---> 24\u001b[1;33m \u001b[0maccuracy\u001b[0m \u001b[1;33m=\u001b[0m \u001b[1;33m(\u001b[0m\u001b[0mval_pred\u001b[0m \u001b[1;33m==\u001b[0m \u001b[0mval_dataset\u001b[0m\u001b[1;33m[\u001b[0m\u001b[1;33m:\u001b[0m\u001b[1;33m]\u001b[0m\u001b[1;33m[\u001b[0m\u001b[1;36m1\u001b[0m\u001b[1;33m]\u001b[0m\u001b[1;33m)\u001b[0m\u001b[1;33m.\u001b[0m\u001b[0msum\u001b[0m\u001b[1;33m(\u001b[0m\u001b[1;33m)\u001b[0m\u001b[1;33m.\u001b[0m\u001b[0mitem\u001b[0m\u001b[1;33m(\u001b[0m\u001b[1;33m)\u001b[0m \u001b[1;33m/\u001b[0m \u001b[0mlen\u001b[0m\u001b[1;33m(\u001b[0m\u001b[0mval_dataset\u001b[0m\u001b[1;33m)\u001b[0m\u001b[1;33m\u001b[0m\u001b[1;33m\u001b[0m\u001b[0m\n\u001b[0m\u001b[0;32m     25\u001b[0m \u001b[0mprint\u001b[0m\u001b[1;33m(\u001b[0m\u001b[1;34m\"Val Accuracy: \"\u001b[0m\u001b[1;33m,\u001b[0m \u001b[0maccuracy\u001b[0m\u001b[1;33m)\u001b[0m\u001b[1;33m\u001b[0m\u001b[1;33m\u001b[0m\u001b[0m\n\u001b[0;32m     26\u001b[0m \u001b[0mprint\u001b[0m\u001b[1;33m(\u001b[0m\u001b[1;34m\"Correlation Spearman: \"\u001b[0m\u001b[1;33m,\u001b[0m \u001b[0mstats\u001b[0m\u001b[1;33m.\u001b[0m\u001b[0mspearmanr\u001b[0m\u001b[1;33m(\u001b[0m\u001b[0mlist\u001b[0m\u001b[1;33m(\u001b[0m\u001b[0mval_value\u001b[0m\u001b[1;33m)\u001b[0m\u001b[1;33m,\u001b[0m\u001b[0mlist\u001b[0m\u001b[1;33m(\u001b[0m\u001b[0mval_dataset_value\u001b[0m\u001b[1;33m)\u001b[0m\u001b[1;33m)\u001b[0m\u001b[1;33m)\u001b[0m\u001b[1;33m\u001b[0m\u001b[1;33m\u001b[0m\u001b[0m\n",
      "\u001b[1;32mE:\\anaconda3\\lib\\site-packages\\torch\\utils\\data\\dataset.py\u001b[0m in \u001b[0;36m__getitem__\u001b[1;34m(self, idx)\u001b[0m\n\u001b[0;32m    309\u001b[0m \u001b[1;33m\u001b[0m\u001b[0m\n\u001b[0;32m    310\u001b[0m     \u001b[1;32mdef\u001b[0m \u001b[0m__getitem__\u001b[0m\u001b[1;33m(\u001b[0m\u001b[0mself\u001b[0m\u001b[1;33m,\u001b[0m \u001b[0midx\u001b[0m\u001b[1;33m)\u001b[0m\u001b[1;33m:\u001b[0m\u001b[1;33m\u001b[0m\u001b[1;33m\u001b[0m\u001b[0m\n\u001b[1;32m--> 311\u001b[1;33m         \u001b[1;32mreturn\u001b[0m \u001b[0mself\u001b[0m\u001b[1;33m.\u001b[0m\u001b[0mdataset\u001b[0m\u001b[1;33m[\u001b[0m\u001b[0mself\u001b[0m\u001b[1;33m.\u001b[0m\u001b[0mindices\u001b[0m\u001b[1;33m[\u001b[0m\u001b[0midx\u001b[0m\u001b[1;33m]\u001b[0m\u001b[1;33m]\u001b[0m\u001b[1;33m\u001b[0m\u001b[1;33m\u001b[0m\u001b[0m\n\u001b[0m\u001b[0;32m    312\u001b[0m \u001b[1;33m\u001b[0m\u001b[0m\n\u001b[0;32m    313\u001b[0m     \u001b[1;32mdef\u001b[0m \u001b[0m__len__\u001b[0m\u001b[1;33m(\u001b[0m\u001b[0mself\u001b[0m\u001b[1;33m)\u001b[0m\u001b[1;33m:\u001b[0m\u001b[1;33m\u001b[0m\u001b[1;33m\u001b[0m\u001b[0m\n",
      "\u001b[1;32m<ipython-input-2-24909b561282>\u001b[0m in \u001b[0;36m__getitem__\u001b[1;34m(self, idx)\u001b[0m\n\u001b[0;32m     10\u001b[0m \u001b[1;33m\u001b[0m\u001b[0m\n\u001b[0;32m     11\u001b[0m     \u001b[1;32mdef\u001b[0m \u001b[0m__getitem__\u001b[0m\u001b[1;33m(\u001b[0m\u001b[0mself\u001b[0m\u001b[1;33m,\u001b[0m \u001b[0midx\u001b[0m\u001b[1;33m)\u001b[0m\u001b[1;33m:\u001b[0m\u001b[1;33m\u001b[0m\u001b[1;33m\u001b[0m\u001b[0m\n\u001b[1;32m---> 12\u001b[1;33m         \u001b[1;32mreturn\u001b[0m \u001b[0mself\u001b[0m\u001b[1;33m.\u001b[0m\u001b[0mimg\u001b[0m\u001b[1;33m[\u001b[0m\u001b[0midx\u001b[0m\u001b[1;33m]\u001b[0m\u001b[1;33m,\u001b[0m \u001b[0mself\u001b[0m\u001b[1;33m.\u001b[0m\u001b[0mlabel\u001b[0m\u001b[1;33m[\u001b[0m\u001b[0midx\u001b[0m\u001b[1;33m]\u001b[0m\u001b[1;33m\u001b[0m\u001b[1;33m\u001b[0m\u001b[0m\n\u001b[0m\u001b[0;32m     13\u001b[0m \u001b[1;33m\u001b[0m\u001b[0m\n",
      "\u001b[1;31mRuntimeError\u001b[0m: [enforce fail at ..\\c10\\core\\CPUAllocator.cpp:79] data. DefaultCPUAllocator: not enough memory: you tried to allocate 3626634240 bytes."
     ]
    }
   ],
   "source": [
    "device = torch.device(\"cuda:0\" if torch.cuda.is_available() else 'cpu')\n",
    "\n",
    "bs = 256\n",
    "lr = 1e-5\n",
    "epoch = 1\n",
    "early_stopping_epoch = 2\n",
    "\n",
    "trainData = torch.utils.data.DataLoader(train_dataset, batch_size=bs, shuffle=True, pin_memory=True)\n",
    "valData = torch.utils.data.DataLoader(val_dataset, batch_size=bs, shuffle=False, pin_memory=True)\n",
    "\n",
    "# model = CNN().to(device)\n",
    "# model.apply(init_weights)\n",
    "model = CNN().to(device)\n",
    "model.load_state_dict(torch.load(\"CNN_baseline.pth.tar\"))\n",
    "\n",
    "opti = Adam(model.parameters(),lr=lr)\n",
    "loss = nn.CrossEntropyLoss()\n",
    "\n",
    "out_results, train_pred, val_pred, train_value, val_value = trainer(trainData, valData, model, opti, loss, epoch, early_stopping_epoch, 'CNN_baseline_2', True, device)\n",
    "print(\"Batch Size: {} | Learning Rate: {} - Min. Val. Loss: {} \".format(bs, \n",
    "                                                                        lr, \n",
    "                                                                        out_results['min_val_loss']\n",
    "                                                                        ))\n",
    "accuracy = (val_pred == val_dataset[:][1]).sum().item() / len(val_dataset)\n",
    "print(\"Val Accuracy: \", accuracy)\n",
    "print(\"Correlation Spearman: \", stats.spearmanr(list(val_value),list(val_dataset_value)))\n",
    "print(\"Correlation Pearson: \", stats.pearsonr(list(val_value),list(val_dataset_value)))\n",
    "plot_roc(np.array(val_dataset_value), np.array(val_value))"
   ]
  },
  {
   "cell_type": "code",
   "execution_count": 20,
   "metadata": {},
   "outputs": [
    {
     "name": "stdout",
     "output_type": "stream",
     "text": [
      "Batch Size: 256 | Learning Rate: 1e-05 - Min. Val. Loss: 0.6891829422468224 \n",
      "Val Accuracy:  0.5411017792629675\n",
      "Correlation Spearman:  SpearmanrResult(correlation=0.12059736142367139, pvalue=0.0)\n",
      "Correlation Pearson:  (0.09405790254714003, 0.0)\n"
     ]
    },
    {
     "data": {
      "image/png": "[encoded data removed]",
      "text/plain": [
       "<Figure size 432x288 with 1 Axes>"
      ]
     },
     "metadata": {
      "needs_background": "light"
     },
     "output_type": "display_data"
    }
   ],
   "source": [
    "val_label = list()\n",
    "for i in range(len(val_dataset)):\n",
    "    val_label.append(val_dataset[i][1])\n",
    "val_label = np.array(val_label)\n",
    "\n",
    "print(\"Batch Size: {} | Learning Rate: {} - Min. Val. Loss: {} \".format(bs,lr,out_results['min_val_loss']))\n",
    "\n",
    "accuracy = (np.array(val_pred) == val_label).sum().item() / len(val_dataset)\n",
    "print(\"Val Accuracy: \", accuracy)\n",
    "print(\"Correlation Spearman: \", stats.spearmanr(list(val_value),list(val_dataset_value)))\n",
    "print(\"Correlation Pearson: \", stats.pearsonr(list(val_value),list(val_dataset_value)))\n",
    "plot_roc(np.array(val_label), np.array(val_value))"
   ]
  },
  {
   "cell_type": "code",
   "execution_count": 42,
   "metadata": {},
   "outputs": [
    {
     "data": {
      "text/plain": [
       "236109"
      ]
     },
     "execution_count": 42,
     "metadata": {},
     "output_type": "execute_result"
    }
   ],
   "source": [
    "val_label = list()\n",
    "for i in range(len(val_dataset)):\n",
    "    val_label.append(val_dataset[i][1])\n",
    "val_label = np.array(val_label)\n",
    "len(val_label)"
   ]
  },
  {
   "cell_type": "markdown",
   "metadata": {},
   "source": [
    "## Test"
   ]
  },
  {
   "cell_type": "code",
   "execution_count": 22,
   "metadata": {},
   "outputs": [
    {
     "name": "stderr",
     "output_type": "stream",
     "text": [
      "100%|██████████████████████████████████████████████████████████████████████████████| 5449/5449 [04:40<00:00, 19.40it/s]\n"
     ]
    },
    {
     "name": "stdout",
     "output_type": "stream",
     "text": [
      "Test Loss:  0.6945630158606222\n",
      "Test Accuracy:  0.525082218858823\n",
      "Correlation Spearman:  SpearmanrResult(correlation=0.06404911861427999, pvalue=0.0)\n",
      "Correlation Pearson:  (0.04004421586889624, 0.0)\n"
     ]
    },
    {
     "data": {
      "image/png": "[encoded data removed]",
      "text/plain": [
       "<Figure size 432x288 with 1 Axes>"
      ]
     },
     "metadata": {
      "needs_background": "light"
     },
     "output_type": "display_data"
    }
   ],
   "source": [
    "device = torch.device(\"cuda:0\" if torch.cuda.is_available() else 'cpu')\n",
    "loss = nn.CrossEntropyLoss()\n",
    "\n",
    "model = CNN().to(device)\n",
    "model.load_state_dict(torch.load(\"CNN_baseline.pth.tar\"))\n",
    "\n",
    "valData = torch.utils.data.DataLoader(test_dataset, batch_size=bs, shuffle=False, pin_memory=True)\n",
    "val_results, val_pred, val_value = evaluate(valData, model, loss, device)\n",
    "\n",
    "print(\"Test Loss: \", val_results)\n",
    "accuracy = (val_pred == test_dataset[:][1]).sum().item() / len(test_dataset)\n",
    "print(\"Test Accuracy: \", accuracy)\n",
    "print(\"Correlation Spearman: \", stats.spearmanr(list(val_value), list(test_label_df['Retx_20d'])))\n",
    "print(\"Correlation Pearson: \", stats.pearsonr(list(val_value), list(test_label_df['Retx_20d'])))\n",
    "# print(\"AUC,\")\n",
    "plot_roc(np.array(test_label_df['Retx_20d_label']), np.array(val_value))\n",
    "#存下来val_value用来"
   ]
  },
  {
   "cell_type": "code",
   "execution_count": 24,
   "metadata": {
    "id": "G1wy8ATqpMHz"
   },
   "outputs": [],
   "source": [
    "CNN_out = torch.load('CNN_baseline_loss.pth.tar')"
   ]
  },
  {
   "cell_type": "code",
   "execution_count": 27,
   "metadata": {
    "colab": {
     "base_uri": "https://localhost:8080/",
     "height": 295
    },
    "id": "blAgcQSjpMHz",
    "outputId": "1ed34160-6fef-4aac-ba43-1a1585aa9c63"
   },
   "outputs": [
    {
     "data": {
      "image/png": "[encoded data removed]",
      "text/plain": [
       "<Figure size 432x288 with 1 Axes>"
      ]
     },
     "metadata": {
      "needs_background": "light"
     },
     "output_type": "display_data"
    }
   ],
   "source": [
    "plt.title('CNN_baseline_loss')\n",
    "plt.plot(CNN_out['train_losses'], label='CNN Train.')\n",
    "plt.plot(CNN_out['val_losses'], label='CNN Validation.', linestyle='--')\n",
    "_ = plt.ylabel('Cross Entropy Loss')\n",
    "_ = plt.xlabel('Epoch')\n",
    "_ = plt.legend()\n",
    "plt.savefig('CNN.png', bbox_inches='tight', dpi=200)"
   ]
  }
 ],
 "metadata": {
  "colab": {
   "collapsed_sections": [],
   "name": "5001.ipynb",
   "provenance": []
  },
  "kernelspec": {
   "display_name": "Python 3",
   "language": "python",
   "name": "python3"
  },
  "language_info": {
   "codemirror_mode": {
    "name": "ipython",
    "version": 3
   },
   "file_extension": ".py",
   "mimetype": "text/x-python",
   "name": "python",
   "nbconvert_exporter": "python",
   "pygments_lexer": "ipython3",
   "version": "3.8.8"
  }
 },
 "nbformat": 4,
 "nbformat_minor": 1
}
