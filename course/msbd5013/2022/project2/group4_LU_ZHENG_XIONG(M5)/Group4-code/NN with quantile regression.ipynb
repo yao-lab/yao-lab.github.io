{
 "cells": [
  {
   "cell_type": "code",
   "execution_count": null,
   "metadata": {
    "_cell_guid": "b1076dfc-b9ad-4769-8c92-a6c4dae69d19",
    "_uuid": "8f2839f25d086af736a60e9eeb907d3b93b6e0e5",
    "execution": {
     "iopub.execute_input": "2022-04-25T15:54:41.54076Z",
     "iopub.status.busy": "2022-04-25T15:54:41.540416Z",
     "iopub.status.idle": "2022-04-25T15:54:41.5464Z",
     "shell.execute_reply": "2022-04-25T15:54:41.545113Z",
     "shell.execute_reply.started": "2022-04-25T15:54:41.540731Z"
    }
   },
   "outputs": [],
   "source": [
    "import numpy as np\n",
    "import pandas as pd\n",
    "import matplotlib.pyplot as plt\n",
    "import lightgbm as lgb\n",
    "from sklearn.metrics import mean_squared_error\n",
    "from tqdm import tqdm\n",
    "import gc"
   ]
  },
  {
   "cell_type": "code",
   "execution_count": null,
   "metadata": {
    "execution": {
     "iopub.execute_input": "2022-04-25T15:54:42.095917Z",
     "iopub.status.busy": "2022-04-25T15:54:42.095594Z",
     "iopub.status.idle": "2022-04-25T15:54:42.101787Z",
     "shell.execute_reply": "2022-04-25T15:54:42.100239Z",
     "shell.execute_reply.started": "2022-04-25T15:54:42.095889Z"
    }
   },
   "outputs": [],
   "source": [
    "def get_cat(inp):\n",
    "    tokens = inp.split(\"_\")\n",
    "    return tokens[0]\n",
    "\n",
    "def get_dept(inp):\n",
    "    tokens = inp.split(\"_\")\n",
    "    return tokens[0] + \"_\" + tokens[1]\n",
    "l12 = pd.read_csv(\"data/sales_train_evaluation.csv\")\n",
    "l12.id = l12.id.str.replace('_evaluation', '')\n",
    "COLS = [f\"d_{i+1}\" for i in range(1941)]"
   ]
  },
  {
   "cell_type": "code",
   "execution_count": null,
   "metadata": {
    "execution": {
     "iopub.execute_input": "2022-04-25T15:54:47.383025Z",
     "iopub.status.busy": "2022-04-25T15:54:47.382523Z",
     "iopub.status.idle": "2022-04-25T15:54:54.322094Z",
     "shell.execute_reply": "2022-04-25T15:54:54.321085Z",
     "shell.execute_reply.started": "2022-04-25T15:54:47.382986Z"
    }
   },
   "outputs": [],
   "source": [
    "print(\"State & Item\")\n",
    "l11 = l12.groupby(['state_id','item_id']).sum().reset_index()\n",
    "l11[\"store_id\"] = l11[\"state_id\"]\n",
    "l11[\"cat_id\"] = l11[\"item_id\"].apply(get_cat)\n",
    "l11[\"dept_id\"] = l11[\"item_id\"].apply(get_dept)\n",
    "l11[\"id\"] = l11[\"state_id\"] + \"_\" + l11[\"item_id\"]\n",
    "print(\"Item\")\n",
    "l10 = l12.groupby('item_id').sum().reset_index()\n",
    "l10['id'] = l10['item_id'] + '_X'\n",
    "l10[\"cat_id\"] = l10[\"item_id\"].apply(get_cat)\n",
    "l10[\"dept_id\"] = l10[\"item_id\"].apply(get_dept)\n",
    "l10[\"store_id\"] = 'X'\n",
    "l10[\"state_id\"] = 'X'\n",
    "print(\"Store & Dept\")\n",
    "l9 = l12.groupby(['store_id','dept_id']).sum().reset_index()\n",
    "l9[\"cat_id\"] = l9[\"dept_id\"].apply(get_cat)\n",
    "l9[\"state_id\"] = l9[\"store_id\"].apply(get_cat)\n",
    "l9[\"item_id\"] = l9[\"dept_id\"]\n",
    "l9[\"id\"] = l9[\"store_id\"] + '_' + l9[\"dept_id\"]\n",
    "print(\"Store & Cat\")\n",
    "l8 = l12.groupby(['store_id','cat_id']).sum().reset_index()\n",
    "l8['dept_id'] = l8['cat_id']\n",
    "l8['item_id'] = l8['cat_id']\n",
    "l8['state_id'] = l8['store_id'].apply(get_cat)\n",
    "l8[\"id\"] = l8[\"store_id\"] + '_' + l8[\"cat_id\"]\n",
    "print(\"State & Dept\")\n",
    "l7 = l12.groupby(['state_id','dept_id']).sum().reset_index()\n",
    "l7[\"store_id\"] = l7[\"state_id\"]\n",
    "l7[\"cat_id\"] = l7[\"dept_id\"].apply(get_cat)\n",
    "l7[\"item_id\"] = l7[\"dept_id\"]\n",
    "l7[\"id\"] = l7[\"state_id\"] + '_' + l7[\"dept_id\"]\n",
    "print(\"State & Cat\")\n",
    "l6 = l12.groupby(['state_id','cat_id']).sum().reset_index()\n",
    "l6[\"store_id\"] = l6[\"state_id\"]\n",
    "l6[\"dept_id\"] = l6[\"cat_id\"]\n",
    "l6[\"item_id\"] = l6[\"cat_id\"]\n",
    "l6[\"id\"] = l6[\"state_id\"] + \"_\" + l6[\"cat_id\"]\n",
    "print(\"Dept\")\n",
    "l5 = l12.groupby('dept_id').sum().reset_index()\n",
    "l5[\"cat_id\"] = l5[\"dept_id\"].apply(get_cat)\n",
    "l5[\"item_id\"] = l5[\"dept_id\"]\n",
    "l5[\"state_id\"] = \"X\"\n",
    "l5[\"store_id\"] = \"X\"\n",
    "l5[\"id\"] = l5[\"dept_id\"] + \"_X\"\n",
    "print(\"Cat\")\n",
    "l4 = l12.groupby('cat_id').sum().reset_index()\n",
    "l4[\"store_id\"] = l4[\"cat_id\"]\n",
    "l4[\"item_id\"] = l4[\"cat_id\"]\n",
    "l4[\"store_id\"] = \"X\"\n",
    "l4[\"state_id\"] = \"X\"\n",
    "l4[\"id\"] = l4[\"cat_id\"] + \"_X\"\n",
    "print(\"Store\")\n",
    "l3 = l12.groupby('store_id').sum().reset_index()\n",
    "l3[\"state_id\"] = l3[\"store_id\"].apply(get_cat)\n",
    "l3[\"cat_id\"] = \"X\"\n",
    "l3[\"dept_id\"] = \"X\"\n",
    "l3[\"item_id\"] = \"X\"\n",
    "l3[\"id\"] = l3[\"store_id\"] + \"_X\"\n",
    "print(\"State\")\n",
    "l2 = l12.groupby('state_id').sum().reset_index()\n",
    "l2[\"store_id\"] = l2[\"state_id\"]\n",
    "l2[\"cat_id\"] = \"X\"\n",
    "l2[\"dept_id\"] = \"X\"\n",
    "l2[\"item_id\"] = \"X\"\n",
    "l2[\"id\"] = l2[\"state_id\"] + \"_X\"\n",
    "print(\"Total\")\n",
    "l1 = l12[COLS].sum(axis=0).values\n",
    "l1 = pd.DataFrame(l1).T\n",
    "l1.columns = COLS\n",
    "l1[\"id\"] = 'Total_X'\n",
    "l1['state_id'] = 'X'\n",
    "l1['store_id'] = 'X'\n",
    "l1['cat_id'] = 'X'\n",
    "l1['dept_id'] = 'X'\n",
    "l1['item_id'] = 'X'"
   ]
  },
  {
   "cell_type": "code",
   "execution_count": null,
   "metadata": {
    "execution": {
     "iopub.execute_input": "2022-04-25T15:54:54.324603Z",
     "iopub.status.busy": "2022-04-25T15:54:54.324Z",
     "iopub.status.idle": "2022-04-25T15:54:54.578958Z",
     "shell.execute_reply": "2022-04-25T15:54:54.577783Z",
     "shell.execute_reply.started": "2022-04-25T15:54:54.324561Z"
    }
   },
   "outputs": [],
   "source": [
    "df = pd.DataFrame()\n",
    "df = df.append([l12, l11, l10, l9, l8, l7, l6, l5, l4, l3, l2, l1])"
   ]
  },
  {
   "cell_type": "code",
   "execution_count": null,
   "metadata": {
    "execution": {
     "iopub.execute_input": "2022-04-25T15:54:54.581049Z",
     "iopub.status.busy": "2022-04-25T15:54:54.580494Z",
     "iopub.status.idle": "2022-04-25T15:54:56.702134Z",
     "shell.execute_reply": "2022-04-25T15:54:56.701354Z",
     "shell.execute_reply.started": "2022-04-25T15:54:54.581007Z"
    }
   },
   "outputs": [],
   "source": [
    "sub = pd.read_csv(\"data/sample_submission.csv\")\n",
    "sub['id'] = sub.id.str.replace('_evaluation', '')\n",
    "grps =sub.iloc[-42840:, 0].unique()\n",
    "grps = [col.replace(\"_0.995\",\"\") for col in grps]"
   ]
  },
  {
   "cell_type": "code",
   "execution_count": null,
   "metadata": {
    "execution": {
     "iopub.execute_input": "2022-04-25T15:54:56.705516Z",
     "iopub.status.busy": "2022-04-25T15:54:56.705156Z",
     "iopub.status.idle": "2022-04-25T15:54:56.736915Z",
     "shell.execute_reply": "2022-04-25T15:54:56.736096Z",
     "shell.execute_reply.started": "2022-04-25T15:54:56.705481Z"
    }
   },
   "outputs": [],
   "source": [
    "for col in ['id','item_id','dept_id','cat_id','store_id','state_id']:\n",
    "    print(col, df[col].nunique())"
   ]
  },
  {
   "cell_type": "code",
   "execution_count": null,
   "metadata": {
    "execution": {
     "iopub.execute_input": "2022-04-25T15:54:56.739281Z",
     "iopub.status.busy": "2022-04-25T15:54:56.738913Z",
     "iopub.status.idle": "2022-04-25T15:54:58.293003Z",
     "shell.execute_reply": "2022-04-25T15:54:58.292209Z",
     "shell.execute_reply.started": "2022-04-25T15:54:56.739243Z"
    }
   },
   "outputs": [],
   "source": [
    "X = df[COLS].values\n",
    "x = (X>0).cumsum(1)\n",
    "x = x>0\n",
    "st = x.argmax(1)\n",
    "den = 1941 - st - 2\n",
    "diff = np.abs(X[:,1:] - X[:,:-1])\n",
    "norm = diff.sum(1) / den"
   ]
  },
  {
   "cell_type": "code",
   "execution_count": null,
   "metadata": {
    "execution": {
     "iopub.execute_input": "2022-04-25T15:54:58.29473Z",
     "iopub.status.busy": "2022-04-25T15:54:58.294387Z",
     "iopub.status.idle": "2022-04-25T15:54:58.302567Z",
     "shell.execute_reply": "2022-04-25T15:54:58.301718Z",
     "shell.execute_reply.started": "2022-04-25T15:54:58.294694Z"
    }
   },
   "outputs": [],
   "source": [
    "df[\"start\"] = st\n",
    "df[\"scale\"] = norm"
   ]
  },
  {
   "cell_type": "code",
   "execution_count": null,
   "metadata": {
    "execution": {
     "iopub.execute_input": "2022-04-25T15:54:58.30465Z",
     "iopub.status.busy": "2022-04-25T15:54:58.30426Z",
     "iopub.status.idle": "2022-04-25T15:54:58.330501Z",
     "shell.execute_reply": "2022-04-25T15:54:58.329696Z",
     "shell.execute_reply.started": "2022-04-25T15:54:58.304614Z"
    }
   },
   "outputs": [],
   "source": [
    "df.tail(5)"
   ]
  },
  {
   "cell_type": "code",
   "execution_count": null,
   "metadata": {
    "execution": {
     "iopub.execute_input": "2022-04-25T15:54:58.332303Z",
     "iopub.status.busy": "2022-04-25T15:54:58.331756Z",
     "iopub.status.idle": "2022-04-25T15:55:14.028642Z",
     "shell.execute_reply": "2022-04-25T15:55:14.027523Z",
     "shell.execute_reply.started": "2022-04-25T15:54:58.332266Z"
    }
   },
   "outputs": [],
   "source": [
    "df.to_csv(\"data/sales.csv\", index=False)"
   ]
  },
  {
   "cell_type": "code",
   "execution_count": null,
   "metadata": {
    "execution": {
     "iopub.execute_input": "2022-04-25T15:55:14.036116Z",
     "iopub.status.busy": "2022-04-25T15:55:14.033692Z",
     "iopub.status.idle": "2022-04-25T15:55:14.064767Z",
     "shell.execute_reply": "2022-04-25T15:55:14.064017Z",
     "shell.execute_reply.started": "2022-04-25T15:55:14.036068Z"
    }
   },
   "outputs": [],
   "source": [
    "def reduce_mem_usage(df, verbose=True):\n",
    "    numerics = ['int16', 'int32', 'int64', 'float16', 'float32', 'float64']\n",
    "    start_mem = df.memory_usage().sum() / 1024**2    \n",
    "    for col in df.columns:\n",
    "        col_type = df[col].dtypes\n",
    "        if col_type in numerics:\n",
    "            c_min = df[col].min()\n",
    "            c_max = df[col].max()\n",
    "            if str(col_type)[:3] == 'int':\n",
    "                if c_min > np.iinfo(np.int8).min and c_max < np.iinfo(np.int8).max:\n",
    "                    df[col] = df[col].astype(np.int8)\n",
    "                elif c_min > np.iinfo(np.int16).min and c_max < np.iinfo(np.int16).max:\n",
    "                    df[col] = df[col].astype(np.int16)\n",
    "                elif c_min > np.iinfo(np.int32).min and c_max < np.iinfo(np.int32).max:\n",
    "                    df[col] = df[col].astype(np.int32)\n",
    "                elif c_min > np.iinfo(np.int64).min and c_max < np.iinfo(np.int64).max:\n",
    "                    df[col] = df[col].astype(np.int64)  \n",
    "            else:\n",
    "                if c_min > np.finfo(np.float16).min and c_max < np.finfo(np.float16).max:\n",
    "                    df[col] = df[col].astype(np.float16)\n",
    "                elif c_min > np.finfo(np.float32).min and c_max < np.finfo(np.float32).max:\n",
    "                    df[col] = df[col].astype(np.float32)\n",
    "                else:\n",
    "                    df[col] = df[col].astype(np.float64)    \n",
    "    end_mem = df.memory_usage().sum() / 1024**2\n",
    "    if verbose: print('Mem. usage decreased to {:5.2f} Mb ({:.1f}% reduction)'.format(end_mem, 100 * (start_mem - end_mem) / start_mem))\n",
    "    return df\n",
    "\n",
    "def autocorrelation(ys, t=1):\n",
    "    return np.corrcoef(ys[:-t], ys[t:])"
   ]
  },
  {
   "cell_type": "code",
   "execution_count": null,
   "metadata": {
    "execution": {
     "iopub.execute_input": "2022-04-25T15:55:14.066608Z",
     "iopub.status.busy": "2022-04-25T15:55:14.066231Z",
     "iopub.status.idle": "2022-04-25T15:55:14.094714Z",
     "shell.execute_reply": "2022-04-25T15:55:14.09392Z",
     "shell.execute_reply.started": "2022-04-25T15:55:14.066569Z"
    }
   },
   "outputs": [],
   "source": [
    "def preprocess_sales(sales, start=1400, upper=1970):\n",
    "    if start is not None:\n",
    "        print(\"dropping...\")\n",
    "        to_drop = [f\"d_{i+1}\" for i in range(start-1)]\n",
    "        print(sales.shape)\n",
    "        sales.drop(to_drop, axis=1, inplace=True)\n",
    "        print(sales.shape)\n",
    "    \n",
    "    print(\"adding...\")\n",
    "    new_columns = ['d_%i'%i for i in range(1942, upper, 1)]\n",
    "    for col in new_columns:\n",
    "        sales[col] = np.nan\n",
    "    print(\"melting...\")\n",
    "    sales = sales.melt(id_vars=[\"id\", \"item_id\", \"dept_id\", \"cat_id\", \"store_id\", \"state_id\",\"scale\",\"start\"],\n",
    "                        var_name='d', value_name='demand')\n",
    "\n",
    "    print(\"generating order\")\n",
    "    if start is not None:\n",
    "        skip = start\n",
    "    else:\n",
    "        skip = 1\n",
    "    sales[\"nb\"] =sales.index // 42840 + skip\n",
    "    return sales\n",
    "\n",
    "def preprocess_calendar(calendar):\n",
    "    global maps, mods\n",
    "    calendar[\"event_name\"] = calendar[\"event_name_1\"]\n",
    "    calendar[\"event_type\"] = calendar[\"event_type_1\"]\n",
    "\n",
    "    map1 = {mod:i for i,mod in enumerate(calendar['event_name'].unique())}\n",
    "    calendar['event_name'] = calendar['event_name'].map(map1)\n",
    "    map2 = {mod:i for i,mod in enumerate(calendar['event_type'].unique())}\n",
    "    calendar['event_type'] = calendar['event_type'].map(map2)\n",
    "    calendar['nday'] = calendar['date'].str[-2:].astype(int)\n",
    "    maps[\"event_name\"] = map1\n",
    "    maps[\"event_type\"] = map2\n",
    "    mods[\"event_name\"] = len(map1)\n",
    "    mods[\"event_type\"] = len(map2)\n",
    "    calendar[\"wday\"] -=1\n",
    "    calendar[\"month\"] -=1\n",
    "    calendar[\"year\"] -= 2011\n",
    "    mods[\"month\"] = 12\n",
    "    mods[\"year\"] = 6\n",
    "    mods[\"wday\"] = 7\n",
    "    mods['snap_CA'] = 2\n",
    "    mods['snap_TX'] = 2\n",
    "    mods['snap_WI'] = 2\n",
    "\n",
    "    calendar.drop([\"event_name_1\", \"event_name_2\", \"event_type_1\", \"event_type_2\", \"date\", \"weekday\"], \n",
    "                  axis=1, inplace=True)\n",
    "    return calendar\n",
    "\n",
    "def make_dataset(categorize=False ,start=1400, upper= 1970):\n",
    "    global maps, mods\n",
    "    print(\"loading calendar...\")\n",
    "    calendar = pd.read_csv(\"data/calendar.csv\")\n",
    "    print(\"loading sales...\")\n",
    "    sales = pd.read_csv(\"data/sales.csv\")\n",
    "    cols = [\"item_id\", \"dept_id\", \"cat_id\",\"store_id\",\"state_id\"]\n",
    "    if categorize:\n",
    "        for col in cols:\n",
    "            temp_dct = {mod:i for i, mod in enumerate(sales[col].unique())}\n",
    "            mods[col] = len(temp_dct)\n",
    "            maps[col] = temp_dct\n",
    "        for col in cols:\n",
    "            sales[col] = sales[col].map(maps[col])\n",
    "\n",
    "    sales =preprocess_sales(sales, start=start, upper= upper)\n",
    "    calendar = preprocess_calendar(calendar)\n",
    "    calendar = reduce_mem_usage(calendar)\n",
    "    print(\"merge with calendar...\")\n",
    "    sales = sales.merge(calendar, on='d', how='left')\n",
    "    del calendar\n",
    "\n",
    "    print(\"reordering...\")\n",
    "    sales.sort_values(by=[\"id\",\"nb\"], inplace=True)\n",
    "    print(\"re-indexing..\")\n",
    "    sales.reset_index(inplace=True, drop=True)\n",
    "    gc.collect()\n",
    "\n",
    "    sales['n_week'] = (sales['nb']-1)//7\n",
    "    sales[\"nday\"] -= 1\n",
    "    mods['nday'] = 31\n",
    "    sales = reduce_mem_usage(sales)\n",
    "    gc.collect()\n",
    "    return sales"
   ]
  },
  {
   "cell_type": "code",
   "execution_count": null,
   "metadata": {
    "execution": {
     "iopub.execute_input": "2022-04-25T15:55:14.096776Z",
     "iopub.status.busy": "2022-04-25T15:55:14.096494Z",
     "iopub.status.idle": "2022-04-25T15:55:58.995185Z",
     "shell.execute_reply": "2022-04-25T15:55:58.994401Z",
     "shell.execute_reply.started": "2022-04-25T15:55:14.096751Z"
    }
   },
   "outputs": [],
   "source": [
    "CATEGORIZE = True;\n",
    "START = 1400; UPPER = 1970;\n",
    "maps = {}\n",
    "mods = {}\n",
    "sales = make_dataset(categorize=CATEGORIZE ,start=START, upper= UPPER)"
   ]
  },
  {
   "cell_type": "code",
   "execution_count": null,
   "metadata": {
    "execution": {
     "iopub.execute_input": "2022-04-25T15:55:58.9976Z",
     "iopub.status.busy": "2022-04-25T15:55:58.997004Z",
     "iopub.status.idle": "2022-04-25T15:55:59.329978Z",
     "shell.execute_reply": "2022-04-25T15:55:59.32922Z",
     "shell.execute_reply.started": "2022-04-25T15:55:58.997561Z"
    }
   },
   "outputs": [],
   "source": [
    "sales[\"x\"] = sales[\"demand\"] / sales[\"scale\"]"
   ]
  },
  {
   "cell_type": "code",
   "execution_count": null,
   "metadata": {
    "execution": {
     "iopub.execute_input": "2022-04-25T15:55:59.331621Z",
     "iopub.status.busy": "2022-04-25T15:55:59.331282Z",
     "iopub.status.idle": "2022-04-25T15:56:15.000291Z",
     "shell.execute_reply": "2022-04-25T15:56:14.999444Z",
     "shell.execute_reply.started": "2022-04-25T15:55:59.331586Z"
    }
   },
   "outputs": [],
   "source": [
    "LAGS = [28, 35, 42, 49, 56, 63]\n",
    "FEATS = []\n",
    "for lag in tqdm(LAGS):\n",
    "    sales[f\"x_{lag}\"] = sales.groupby(\"id\")[\"x\"].shift(lag)\n",
    "    FEATS.append(f\"x_{lag}\")"
   ]
  },
  {
   "cell_type": "code",
   "execution_count": null,
   "metadata": {
    "execution": {
     "iopub.execute_input": "2022-04-25T15:56:15.006441Z",
     "iopub.status.busy": "2022-04-25T15:56:15.004282Z",
     "iopub.status.idle": "2022-04-25T15:56:17.838102Z",
     "shell.execute_reply": "2022-04-25T15:56:17.836865Z",
     "shell.execute_reply.started": "2022-04-25T15:56:15.006398Z"
    }
   },
   "outputs": [],
   "source": [
    "print(sales.shape)\n",
    "sales = sales.loc[sales.nb>sales.start]\n",
    "print(sales.shape)"
   ]
  },
  {
   "cell_type": "code",
   "execution_count": null,
   "metadata": {
    "execution": {
     "iopub.execute_input": "2022-04-25T15:56:17.840568Z",
     "iopub.status.busy": "2022-04-25T15:56:17.840022Z",
     "iopub.status.idle": "2022-04-25T15:56:17.902656Z",
     "shell.execute_reply": "2022-04-25T15:56:17.901873Z",
     "shell.execute_reply.started": "2022-04-25T15:56:17.840499Z"
    }
   },
   "outputs": [],
   "source": [
    "nb = sales['nb'].values\n",
    "MAX_LAG = max(LAGS)\n",
    "tr_mask = np.logical_and(nb>START + MAX_LAG, nb<=1941) # SORRY THIS IS FAKE VALIDATION. I DIDN'T THINK IT WOULD HAVE HAD LIFTED UP MY SCORE LIKE THAT\n",
    "val_mask = np.logical_and(nb>1913, nb<=1941)\n",
    "te_mask = np.logical_and(nb>1941, nb<=1969)"
   ]
  },
  {
   "cell_type": "code",
   "execution_count": null,
   "metadata": {
    "execution": {
     "iopub.execute_input": "2022-04-25T15:56:17.904369Z",
     "iopub.status.busy": "2022-04-25T15:56:17.903952Z",
     "iopub.status.idle": "2022-04-25T15:56:18.384451Z",
     "shell.execute_reply": "2022-04-25T15:56:18.383644Z",
     "shell.execute_reply.started": "2022-04-25T15:56:17.90433Z"
    }
   },
   "outputs": [],
   "source": [
    "scale = sales['scale'].values\n",
    "ids = sales['id'].values\n",
    "ys = sales['x'].values\n",
    "Z = sales[FEATS].values"
   ]
  },
  {
   "cell_type": "code",
   "execution_count": null,
   "metadata": {
    "execution": {
     "iopub.execute_input": "2022-04-25T15:56:18.387966Z",
     "iopub.status.busy": "2022-04-25T15:56:18.387586Z",
     "iopub.status.idle": "2022-04-25T15:56:18.432639Z",
     "shell.execute_reply": "2022-04-25T15:56:18.431862Z",
     "shell.execute_reply.started": "2022-04-25T15:56:18.387929Z"
    }
   },
   "outputs": [],
   "source": [
    "sv = scale[val_mask]\n",
    "se = scale[te_mask]\n",
    "ids = ids[te_mask]\n",
    "ids = ids.reshape((-1, 28))"
   ]
  },
  {
   "cell_type": "code",
   "execution_count": null,
   "metadata": {
    "execution": {
     "iopub.execute_input": "2022-04-25T15:56:18.434744Z",
     "iopub.status.busy": "2022-04-25T15:56:18.434383Z",
     "iopub.status.idle": "2022-04-25T15:56:18.582888Z",
     "shell.execute_reply": "2022-04-25T15:56:18.582178Z",
     "shell.execute_reply.started": "2022-04-25T15:56:18.434709Z"
    }
   },
   "outputs": [],
   "source": [
    "ca = sales[['snap_CA']].values\n",
    "tx = sales[['snap_TX']].values\n",
    "wi = sales[['snap_WI']].values\n",
    "wday = sales[['wday']].values\n",
    "month = sales[['month']].values\n",
    "year = sales[['year']].values\n",
    "event = sales[['event_name']].values\n",
    "nday = sales[['nday']].values"
   ]
  },
  {
   "cell_type": "code",
   "execution_count": null,
   "metadata": {
    "execution": {
     "iopub.execute_input": "2022-04-25T15:56:18.584773Z",
     "iopub.status.busy": "2022-04-25T15:56:18.584268Z",
     "iopub.status.idle": "2022-04-25T15:56:18.679991Z",
     "shell.execute_reply": "2022-04-25T15:56:18.679219Z",
     "shell.execute_reply.started": "2022-04-25T15:56:18.58473Z"
    }
   },
   "outputs": [],
   "source": [
    "item = sales[['item_id']].values\n",
    "dept = sales[['dept_id']].values\n",
    "cat = sales[['cat_id']].values\n",
    "store = sales[['store_id']].values\n",
    "state = sales[['state_id']].values"
   ]
  },
  {
   "cell_type": "code",
   "execution_count": null,
   "metadata": {
    "execution": {
     "iopub.execute_input": "2022-04-25T15:56:18.681736Z",
     "iopub.status.busy": "2022-04-25T15:56:18.68136Z",
     "iopub.status.idle": "2022-04-25T15:56:18.689375Z",
     "shell.execute_reply": "2022-04-25T15:56:18.688429Z",
     "shell.execute_reply.started": "2022-04-25T15:56:18.681696Z"
    }
   },
   "outputs": [],
   "source": [
    "def make_data(mask):\n",
    "    x = {\"snap_CA\":ca[mask], \"snap_TX\":tx[mask], \"snap_WI\":wi[mask], \"wday\":wday[mask], \n",
    "         \"month\":month[mask], \"year\":year[mask], \"event\":event[mask], \"nday\":nday[mask], \n",
    "         \"item\":item[mask], \"dept\":dept[mask], \"cat\":cat[mask], \"store\":store[mask], \n",
    "         \"state\":state[mask], \"num\":Z[mask]}\n",
    "    t = ys[mask]\n",
    "    return x, t"
   ]
  },
  {
   "cell_type": "code",
   "execution_count": null,
   "metadata": {
    "execution": {
     "iopub.execute_input": "2022-04-25T15:56:18.691533Z",
     "iopub.status.busy": "2022-04-25T15:56:18.690765Z",
     "iopub.status.idle": "2022-04-25T15:56:22.957314Z",
     "shell.execute_reply": "2022-04-25T15:56:22.956282Z",
     "shell.execute_reply.started": "2022-04-25T15:56:18.691451Z"
    }
   },
   "outputs": [],
   "source": [
    "xt, yt = make_data(tr_mask) #train\n",
    "xv, yv = make_data(val_mask) # val\n",
    "xe, ye = make_data(te_mask) # test"
   ]
  },
  {
   "cell_type": "code",
   "execution_count": null,
   "metadata": {
    "execution": {
     "iopub.execute_input": "2022-04-25T15:13:04.045782Z",
     "iopub.status.busy": "2022-04-25T15:13:04.045423Z",
     "iopub.status.idle": "2022-04-25T15:13:09.057403Z",
     "shell.execute_reply": "2022-04-25T15:13:09.056596Z",
     "shell.execute_reply.started": "2022-04-25T15:13:04.04575Z"
    }
   },
   "outputs": [],
   "source": [
    "sales"
   ]
  },
  {
   "cell_type": "markdown",
   "metadata": {},
   "source": [
    "### Training"
   ]
  },
  {
   "cell_type": "code",
   "execution_count": null,
   "metadata": {
    "execution": {
     "iopub.execute_input": "2022-04-25T15:56:22.959428Z",
     "iopub.status.busy": "2022-04-25T15:56:22.958832Z",
     "iopub.status.idle": "2022-04-25T15:56:26.92003Z",
     "shell.execute_reply": "2022-04-25T15:56:26.919177Z",
     "shell.execute_reply.started": "2022-04-25T15:56:22.959388Z"
    }
   },
   "outputs": [],
   "source": [
    "import tensorflow.keras.layers as L\n",
    "import tensorflow.keras.models as M\n",
    "import tensorflow.keras.backend as K\n",
    "from tensorflow.keras.callbacks import ModelCheckpoint, ReduceLROnPlateau, EarlyStopping\n",
    "import tensorflow as tf"
   ]
  },
  {
   "cell_type": "code",
   "execution_count": null,
   "metadata": {
    "execution": {
     "iopub.execute_input": "2022-04-25T15:56:26.922014Z",
     "iopub.status.busy": "2022-04-25T15:56:26.921643Z",
     "iopub.status.idle": "2022-04-25T15:56:26.953269Z",
     "shell.execute_reply": "2022-04-25T15:56:26.95225Z",
     "shell.execute_reply.started": "2022-04-25T15:56:26.921979Z"
    }
   },
   "outputs": [],
   "source": [
    "def qloss(y_true, y_pred):\n",
    "    # Pinball loss for multiple quantiles\n",
    "    qs = [0.005, 0.025, 0.165, 0.250, 0.500, 0.750, 0.835, 0.975, 0.995]\n",
    "    q = tf.constant(np.array([qs]), dtype=tf.float32)\n",
    "    e = y_true - y_pred\n",
    "    v = tf.maximum(q*e, (q-1)*e)\n",
    "    return K.mean(v)\n",
    "\n",
    "def make_model(n_in):\n",
    "    num = L.Input((n_in,), name=\"num\")\n",
    "    \n",
    "    ca = L.Input((1,), name=\"snap_CA\")\n",
    "    tx = L.Input((1,), name=\"snap_TX\")\n",
    "    wi = L.Input((1,), name=\"snap_WI\")\n",
    "    wday = L.Input((1,), name=\"wday\")\n",
    "    month = L.Input((1,), name=\"month\")\n",
    "    year = L.Input((1,), name=\"year\")\n",
    "    event = L.Input((1,), name=\"event\")\n",
    "    nday = L.Input((1,), name=\"nday\")\n",
    "    item = L.Input((1,), name=\"item\")\n",
    "    dept = L.Input((1,), name=\"dept\")\n",
    "    cat = L.Input((1,), name=\"cat\")\n",
    "    store = L.Input((1,), name=\"store\")\n",
    "    state = L.Input((1,), name=\"state\")\n",
    "    inp = {\"snap_CA\":ca, \"snap_TX\":tx, \"snap_WI\":wi, \"wday\":wday, \n",
    "           \"month\":month, \"year\":year, \"event\":event, \"nday\":nday,\n",
    "           \"item\":item, \"dept\":dept, \"cat\":cat, \"store\":store, \n",
    "           \"state\":state, \"num\":num} \n",
    "    \n",
    "    ca_ = L.Embedding(mods[\"snap_CA\"], mods[\"snap_CA\"], name=\"ca_3d\")(ca)\n",
    "    tx_ = L.Embedding(mods[\"snap_TX\"], mods[\"snap_TX\"], name=\"tx_3d\")(tx)\n",
    "    wi_ = L.Embedding(mods[\"snap_WI\"], mods[\"snap_WI\"], name=\"wi_3d\")(wi)\n",
    "    wday_ = L.Embedding(mods[\"wday\"], mods[\"wday\"], name=\"wday_3d\")(wday)\n",
    "    month_ = L.Embedding(mods[\"month\"], mods[\"month\"], name=\"month_3d\")(month)\n",
    "    year_ = L.Embedding(mods[\"year\"], mods[\"year\"], name=\"year_3d\")(year)\n",
    "    event_ = L.Embedding(mods[\"event_name\"], mods[\"event_name\"], name=\"event_3d\")(event)\n",
    "    nday_ = L.Embedding(mods[\"nday\"], mods[\"nday\"], name=\"nday_3d\")(nday)\n",
    "    item_ = L.Embedding(mods[\"item_id\"], 10, name=\"item_3d\")(item)\n",
    "    dept_ = L.Embedding(mods[\"dept_id\"], mods[\"dept_id\"], name=\"dept_3d\")(dept)\n",
    "    cat_ = L.Embedding(mods[\"cat_id\"], mods[\"cat_id\"], name=\"cat_3d\")(cat)\n",
    "    store_ = L.Embedding(mods[\"store_id\"], mods[\"store_id\"], name=\"store_3d\")(store)\n",
    "    state_ = L.Embedding(mods[\"state_id\"], mods[\"state_id\"], name=\"state_3d\")(state)\n",
    "    \n",
    "    p = [ca_, tx_, wi_, wday_, month_, year_, event_, nday_, item_, dept_, cat_, store_, state_]\n",
    "    emb = L.Concatenate(name=\"embds\")(p)\n",
    "    context = L.Flatten(name=\"context\")(emb)\n",
    "    \n",
    "    x = L.Concatenate(name=\"x1\")([context, num])\n",
    "    x = L.Dense(500, activation=\"relu\", name=\"d1\")(x)\n",
    "    x = L.Dropout(0.3)(x)\n",
    "    x = L.Concatenate(name=\"m1\")([x, context])\n",
    "    x = L.Dense(500, activation=\"relu\", name=\"d2\")(x)\n",
    "    x = L.Dropout(0.3)(x)\n",
    "    x = L.Concatenate(name=\"m2\")([x, context])\n",
    "    x = L.Dense(500, activation=\"relu\", name=\"d3\")(x)\n",
    "    preds = L.Dense(9, activation=\"linear\", name=\"preds\")(x)\n",
    "    model = M.Model(inp, preds, name=\"M1\")\n",
    "    model.compile(loss=qloss, optimizer=\"adam\")\n",
    "    return model"
   ]
  },
  {
   "cell_type": "code",
   "execution_count": null,
   "metadata": {
    "execution": {
     "iopub.execute_input": "2022-04-25T15:56:26.955356Z",
     "iopub.status.busy": "2022-04-25T15:56:26.954838Z",
     "iopub.status.idle": "2022-04-25T15:56:29.32044Z",
     "shell.execute_reply": "2022-04-25T15:56:29.319698Z",
     "shell.execute_reply.started": "2022-04-25T15:56:26.955316Z"
    }
   },
   "outputs": [],
   "source": [
    "net = make_model(len(FEATS))\n",
    "ckpt = ModelCheckpoint(\"w.h5\", monitor='val_loss', verbose=1, save_best_only=True,mode='min')\n",
    "reduce_lr = ReduceLROnPlateau(monitor='val_loss', factor=0.2,\n",
    "                              patience=5, min_lr=0.001)\n",
    "es = EarlyStopping(monitor='val_loss', patience=3)\n",
    "print(net.summary())"
   ]
  },
  {
   "cell_type": "code",
   "execution_count": null,
   "metadata": {
    "execution": {
     "iopub.execute_input": "2022-04-15T11:51:54.750959Z",
     "iopub.status.busy": "2022-04-15T11:51:54.750678Z",
     "iopub.status.idle": "2022-04-15T12:08:25.618829Z",
     "shell.execute_reply": "2022-04-15T12:08:25.61806Z",
     "shell.execute_reply.started": "2022-04-15T11:51:54.750916Z"
    }
   },
   "outputs": [],
   "source": [
    "net.fit(xt, yt, batch_size=50_000, epochs=20, validation_data=(xv, yv), callbacks=[ckpt, reduce_lr, es])"
   ]
  },
  {
   "cell_type": "code",
   "execution_count": null,
   "metadata": {
    "execution": {
     "iopub.execute_input": "2022-04-15T12:08:25.620769Z",
     "iopub.status.busy": "2022-04-15T12:08:25.620415Z",
     "iopub.status.idle": "2022-04-15T12:08:25.802863Z",
     "shell.execute_reply": "2022-04-15T12:08:25.802041Z",
     "shell.execute_reply.started": "2022-04-15T12:08:25.620731Z"
    }
   },
   "outputs": [],
   "source": [
    "nett = make_model(len(FEATS))\n",
    "nett.load_weights(\"w.h5\")"
   ]
  },
  {
   "cell_type": "code",
   "execution_count": null,
   "metadata": {
    "execution": {
     "iopub.execute_input": "2022-04-15T12:08:25.805645Z",
     "iopub.status.busy": "2022-04-15T12:08:25.804921Z",
     "iopub.status.idle": "2022-04-15T12:08:27.785797Z",
     "shell.execute_reply": "2022-04-15T12:08:27.785045Z",
     "shell.execute_reply.started": "2022-04-15T12:08:25.805598Z"
    }
   },
   "outputs": [],
   "source": [
    "pv = nett.predict(xv, batch_size=50_000, verbose=1)\n",
    "pe = nett.predict(xe, batch_size=50_000, verbose=1)"
   ]
  },
  {
   "cell_type": "code",
   "execution_count": null,
   "metadata": {
    "execution": {
     "iopub.execute_input": "2022-04-15T12:08:27.79188Z",
     "iopub.status.busy": "2022-04-15T12:08:27.791606Z",
     "iopub.status.idle": "2022-04-15T12:08:28.844618Z",
     "shell.execute_reply": "2022-04-15T12:08:28.843871Z",
     "shell.execute_reply.started": "2022-04-15T12:08:27.791853Z"
    }
   },
   "outputs": [],
   "source": [
    "nett.evaluate(xv, yv, batch_size=50_000)"
   ]
  },
  {
   "cell_type": "code",
   "execution_count": null,
   "metadata": {
    "execution": {
     "iopub.execute_input": "2022-04-15T12:08:28.84749Z",
     "iopub.status.busy": "2022-04-15T12:08:28.847167Z",
     "iopub.status.idle": "2022-04-15T12:08:28.851867Z",
     "shell.execute_reply": "2022-04-15T12:08:28.851037Z",
     "shell.execute_reply.started": "2022-04-15T12:08:28.847461Z"
    }
   },
   "outputs": [],
   "source": [
    "pv = pv.reshape((-1, 28, 9))\n",
    "pe = pe.reshape((-1, 28, 9))"
   ]
  },
  {
   "cell_type": "code",
   "execution_count": null,
   "metadata": {
    "execution": {
     "iopub.execute_input": "2022-04-15T12:08:28.853998Z",
     "iopub.status.busy": "2022-04-15T12:08:28.853413Z",
     "iopub.status.idle": "2022-04-15T12:08:28.86179Z",
     "shell.execute_reply": "2022-04-15T12:08:28.860719Z",
     "shell.execute_reply.started": "2022-04-15T12:08:28.853961Z"
    }
   },
   "outputs": [],
   "source": [
    "sv = sv.reshape((-1, 28))\n",
    "se = se.reshape((-1, 28))"
   ]
  },
  {
   "cell_type": "code",
   "execution_count": null,
   "metadata": {
    "execution": {
     "iopub.execute_input": "2022-04-15T12:08:28.864063Z",
     "iopub.status.busy": "2022-04-15T12:08:28.863585Z",
     "iopub.status.idle": "2022-04-15T12:08:28.870847Z",
     "shell.execute_reply": "2022-04-15T12:08:28.870194Z",
     "shell.execute_reply.started": "2022-04-15T12:08:28.864027Z"
    }
   },
   "outputs": [],
   "source": [
    "Yv = yv.reshape((-1, 28))"
   ]
  },
  {
   "cell_type": "code",
   "execution_count": null,
   "metadata": {
    "execution": {
     "iopub.execute_input": "2022-04-15T12:08:28.874414Z",
     "iopub.status.busy": "2022-04-15T12:08:28.874122Z",
     "iopub.status.idle": "2022-04-15T12:08:29.233735Z",
     "shell.execute_reply": "2022-04-15T12:08:29.23298Z",
     "shell.execute_reply.started": "2022-04-15T12:08:28.874368Z"
    }
   },
   "outputs": [],
   "source": [
    "k = np.random.randint(0, 42840)\n",
    "print(ids[k, 0])\n",
    "plt.plot(np.arange(28, 56), Yv[k], label=\"true\")\n",
    "plt.plot(np.arange(28, 56), pv[k ,:, 3], label=\"q25\")\n",
    "plt.plot(np.arange(28, 56), pv[k ,:, 4], label=\"q50\")\n",
    "plt.plot(np.arange(28, 56), pv[k, :, 5], label=\"q75\")\n",
    "plt.legend(loc=\"best\")\n",
    "plt.show()"
   ]
  },
  {
   "cell_type": "markdown",
   "metadata": {},
   "source": [
    "### Prediction"
   ]
  },
  {
   "cell_type": "code",
   "execution_count": null,
   "metadata": {
    "execution": {
     "iopub.execute_input": "2022-04-15T12:08:29.235435Z",
     "iopub.status.busy": "2022-04-15T12:08:29.235055Z",
     "iopub.status.idle": "2022-04-15T12:08:29.240514Z",
     "shell.execute_reply": "2022-04-15T12:08:29.239678Z",
     "shell.execute_reply.started": "2022-04-15T12:08:29.235384Z"
    }
   },
   "outputs": [],
   "source": [
    "names = [f\"F{i+1}\" for i in range(28)]"
   ]
  },
  {
   "cell_type": "code",
   "execution_count": null,
   "metadata": {
    "execution": {
     "iopub.execute_input": "2022-04-15T12:08:29.242828Z",
     "iopub.status.busy": "2022-04-15T12:08:29.242104Z",
     "iopub.status.idle": "2022-04-15T12:08:29.252476Z",
     "shell.execute_reply": "2022-04-15T12:08:29.251642Z",
     "shell.execute_reply.started": "2022-04-15T12:08:29.242788Z"
    }
   },
   "outputs": [],
   "source": [
    "piv = pd.DataFrame(ids[:, 0], columns=[\"id\"])"
   ]
  },
  {
   "cell_type": "code",
   "execution_count": null,
   "metadata": {
    "execution": {
     "iopub.execute_input": "2022-04-15T12:08:29.255675Z",
     "iopub.status.busy": "2022-04-15T12:08:29.254767Z",
     "iopub.status.idle": "2022-04-15T12:08:29.639231Z",
     "shell.execute_reply": "2022-04-15T12:08:29.638344Z",
     "shell.execute_reply.started": "2022-04-15T12:08:29.255628Z"
    }
   },
   "outputs": [],
   "source": [
    "QUANTILES = [\"0.005\", \"0.025\", \"0.165\", \"0.250\", \"0.500\", \"0.750\", \"0.835\", \"0.975\", \"0.995\"]\n",
    "VALID = []\n",
    "EVAL = []\n",
    "\n",
    "for i, quantile in tqdm(enumerate(QUANTILES)):\n",
    "    t1 = pd.DataFrame(pv[:,:, i]*sv, columns=names)\n",
    "    t1 = piv.join(t1)\n",
    "    t1[\"id\"] = t1[\"id\"] + f\"_{quantile}_validation\"\n",
    "    t2 = pd.DataFrame(pe[:,:, i]*se, columns=names)\n",
    "    t2 = piv.join(t2)\n",
    "    t2[\"id\"] = t2[\"id\"] + f\"_{quantile}_evaluation\"\n",
    "    VALID.append(t1)\n",
    "    EVAL.append(t2)"
   ]
  },
  {
   "cell_type": "code",
   "execution_count": null,
   "metadata": {
    "execution": {
     "iopub.execute_input": "2022-04-15T12:08:29.641154Z",
     "iopub.status.busy": "2022-04-15T12:08:29.640565Z",
     "iopub.status.idle": "2022-04-15T12:08:29.728812Z",
     "shell.execute_reply": "2022-04-15T12:08:29.727972Z",
     "shell.execute_reply.started": "2022-04-15T12:08:29.641114Z"
    }
   },
   "outputs": [],
   "source": [
    "sub = pd.DataFrame()\n",
    "sub = sub.append(VALID + EVAL)\n",
    "del VALID, EVAL, t1, t2"
   ]
  },
  {
   "cell_type": "code",
   "execution_count": null,
   "metadata": {
    "execution": {
     "iopub.execute_input": "2022-04-15T12:08:29.730445Z",
     "iopub.status.busy": "2022-04-15T12:08:29.730098Z",
     "iopub.status.idle": "2022-04-15T12:08:29.761337Z",
     "shell.execute_reply": "2022-04-15T12:08:29.760049Z",
     "shell.execute_reply.started": "2022-04-15T12:08:29.730409Z"
    }
   },
   "outputs": [],
   "source": [
    "sub.head()"
   ]
  },
  {
   "cell_type": "code",
   "execution_count": null,
   "metadata": {
    "execution": {
     "iopub.execute_input": "2022-04-15T12:08:29.763757Z",
     "iopub.status.busy": "2022-04-15T12:08:29.763112Z",
     "iopub.status.idle": "2022-04-15T12:09:06.657166Z",
     "shell.execute_reply": "2022-04-15T12:09:06.656337Z",
     "shell.execute_reply.started": "2022-04-15T12:08:29.763714Z"
    }
   },
   "outputs": [],
   "source": [
    "sub.to_csv(\"data/submission_nn.csv\", index=False)"
   ]
  },
  {
   "cell_type": "code",
   "execution_count": null,
   "metadata": {},
   "outputs": [],
   "source": []
  }
 ],
 "metadata": {
  "kernelspec": {
   "display_name": "Python 3",
   "language": "python",
   "name": "python3"
  },
  "language_info": {
   "codemirror_mode": {
    "name": "ipython",
    "version": 3
   },
   "file_extension": ".py",
   "mimetype": "text/x-python",
   "name": "python",
   "nbconvert_exporter": "python",
   "pygments_lexer": "ipython3",
   "version": "3.8.8"
  }
 },
 "nbformat": 4,
 "nbformat_minor": 4
}
