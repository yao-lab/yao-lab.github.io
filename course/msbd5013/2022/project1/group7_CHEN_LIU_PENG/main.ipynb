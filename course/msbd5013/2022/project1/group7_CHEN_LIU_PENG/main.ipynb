{
 "cells": [
  {
   "cell_type": "code",
   "execution_count": 1,
   "metadata": {},
   "outputs": [],
   "source": [
    "import pandas as pd\n",
    "import numpy as np"
   ]
  },
  {
   "cell_type": "markdown",
   "metadata": {},
   "source": [
    "read data from preprocessing"
   ]
  },
  {
   "cell_type": "code",
   "execution_count": 2,
   "metadata": {},
   "outputs": [],
   "source": [
    "x_train = pd.read_csv(\"train_scale.csv\")\n",
    "x_train.drop(['Unnamed: 0'],axis=1,inplace=True)\n",
    "\n",
    "x_test = pd.read_csv(\"test_scale.csv\")\n",
    "x_test.drop(['Unnamed: 0'],axis=1,inplace=True)\n",
    "\n",
    "y_train = pd.read_csv(\"train.csv\")['TARGET']"
   ]
  },
  {
   "cell_type": "code",
   "execution_count": 3,
   "metadata": {},
   "outputs": [
    {
     "name": "stdout",
     "output_type": "stream",
     "text": [
      "(307511, 275)\n",
      "(307511,)\n",
      "0    282686\n",
      "1     24825\n",
      "Name: TARGET, dtype: int64\n",
      "(48744, 275)\n"
     ]
    }
   ],
   "source": [
    "print(x_train.shape)\n",
    "print(y_train.shape)\n",
    "print(y_train.value_counts())\n",
    "print(x_test.shape)"
   ]
  },
  {
   "cell_type": "markdown",
   "metadata": {},
   "source": [
    "we found that the class is heavily skewed, we take both desample and oversample"
   ]
  },
  {
   "cell_type": "code",
   "execution_count": 4,
   "metadata": {},
   "outputs": [],
   "source": [
    "### desample\n",
    "import random\n",
    "\n",
    "desample_cnt = 25000\n",
    "y_train[y_train == [0]]\n",
    "desample_index = random.sample(y_train[y_train == [0]].index.tolist(), desample_cnt)\n",
    "\n",
    "negative_index = y_train[y_train == [1]].index.tolist()\n",
    "\n",
    "desample_y_train = y_train[negative_index + desample_index]\n",
    "desample_x_train = x_train.iloc[negative_index + desample_index]"
   ]
  },
  {
   "cell_type": "code",
   "execution_count": 5,
   "metadata": {},
   "outputs": [
    {
     "data": {
      "text/plain": [
       "0    25000\n",
       "1    24825\n",
       "Name: TARGET, dtype: int64"
      ]
     },
     "execution_count": 5,
     "metadata": {},
     "output_type": "execute_result"
    }
   ],
   "source": [
    "desample_y_train.value_counts()"
   ]
  },
  {
   "cell_type": "code",
   "execution_count": 6,
   "metadata": {
    "scrolled": true
   },
   "outputs": [],
   "source": [
    "### oversample\n",
    "from imblearn.over_sampling import SMOTE\n",
    "smo = SMOTE(sampling_strategy=1,random_state=42)\n",
    "X_smo, y_smo = smo.fit_resample(x_train, y_train)"
   ]
  },
  {
   "cell_type": "code",
   "execution_count": 7,
   "metadata": {},
   "outputs": [
    {
     "data": {
      "text/plain": [
       "1    282686\n",
       "0    282686\n",
       "Name: TARGET, dtype: int64"
      ]
     },
     "execution_count": 7,
     "metadata": {},
     "output_type": "execute_result"
    }
   ],
   "source": [
    "y_smo.value_counts()"
   ]
  },
  {
   "cell_type": "markdown",
   "metadata": {},
   "source": [
    "normalization"
   ]
  },
  {
   "cell_type": "code",
   "execution_count": 8,
   "metadata": {},
   "outputs": [],
   "source": [
    "from sklearn.preprocessing import MinMaxScaler\n",
    "\n",
    "# Scale each feature to 0-1\n",
    "scaler = MinMaxScaler(feature_range = (0, 1))\n",
    "scaler.fit(x_train)\n",
    "x_train = scaler.transform(x_train)\n",
    "scaler.fit(x_test)\n",
    "x_test = scaler.transform(x_test)"
   ]
  },
  {
   "cell_type": "code",
   "execution_count": 9,
   "metadata": {},
   "outputs": [],
   "source": [
    "x_train = pd.DataFrame(x_train)\n",
    "x_test  = pd.DataFrame(x_test)"
   ]
  },
  {
   "cell_type": "markdown",
   "metadata": {},
   "source": [
    "logistic regression as baseline"
   ]
  },
  {
   "cell_type": "code",
   "execution_count": 11,
   "metadata": {},
   "outputs": [
    {
     "name": "stdout",
     "output_type": "stream",
     "text": [
      "AUC for test:0.7053101374740215\n",
      "AUC for train:0.7216436322279355\n",
      "-----\n",
      "accuracy for test:0.9194307864408543\n",
      "accuracy for train:0.9192916885267937\n",
      "-----\n",
      "F1 for test:0.02395209580838323\n",
      "F1 for train:0.023604699958036095\n",
      "-----\n"
     ]
    }
   ],
   "source": [
    "from sklearn.linear_model import LogisticRegression\n",
    "from sklearn.model_selection import KFold\n",
    "from sklearn.metrics import accuracy_score,roc_auc_score, f1_score\n",
    "from sklearn.model_selection import train_test_split\n",
    "\n",
    "lr = LogisticRegression(random_state=0, n_jobs=-1, penalty = 'l2')\n",
    "X_train, X_valid, Y_train, Y_valid = train_test_split(x_train, y_train, test_size = 0.25, random_state = 42)\n",
    "\n",
    "lr.fit(X_train,Y_train)\n",
    "pred = lr.predict(X_valid)\n",
    "pred2 = lr.predict(X_train)\n",
    "\n",
    "print(\"AUC for test:{}\".format(roc_auc_score(pred,Y_valid)))\n",
    "print(\"AUC for train:{}\".format(roc_auc_score(pred2,Y_train)))\n",
    "print(\"-----\")\n",
    "print(\"accuracy for test:{}\".format(accuracy_score(pred,Y_valid)))\n",
    "print(\"accuracy for train:{}\".format(accuracy_score(pred2,Y_train)))\n",
    "print(\"-----\")\n",
    "print(\"F1 for test:{}\".format(f1_score(pred,Y_valid)))\n",
    "print(\"F1 for train:{}\".format(f1_score(pred2,Y_train)))\n",
    "print(\"-----\")"
   ]
  },
  {
   "cell_type": "code",
   "execution_count": 12,
   "metadata": {},
   "outputs": [
    {
     "name": "stdout",
     "output_type": "stream",
     "text": [
      "AUC for test:0.6851585676384504\n",
      "AUC for train:0.6842624735636281\n",
      "-----\n",
      "accuracy for test:0.6851569398731637\n",
      "accuracy for train:0.6842485549132948\n",
      "-----\n",
      "F1 for test:0.6826347305389222\n",
      "F1 for train:0.6814438834741758\n",
      "-----\n"
     ]
    }
   ],
   "source": [
    "from sklearn.linear_model import LogisticRegression\n",
    "from sklearn.model_selection import KFold\n",
    "from sklearn.metrics import accuracy_score,roc_auc_score, f1_score\n",
    "from sklearn.model_selection import train_test_split\n",
    "\n",
    "lr = LogisticRegression(random_state=0, n_jobs=-1, penalty = 'l2')\n",
    "X_train, X_valid, Y_train, Y_valid = train_test_split(desample_x_train, desample_y_train, test_size = 0.25, random_state = 42)\n",
    "\n",
    "lr.fit(X_train,Y_train)\n",
    "pred = lr.predict(X_valid)\n",
    "pred2 = lr.predict(X_train)\n",
    "\n",
    "print(\"AUC for test:{}\".format(roc_auc_score(pred,Y_valid)))\n",
    "print(\"AUC for train:{}\".format(roc_auc_score(pred2,Y_train)))\n",
    "print(\"-----\")\n",
    "print(\"accuracy for test:{}\".format(accuracy_score(pred,Y_valid)))\n",
    "print(\"accuracy for train:{}\".format(accuracy_score(pred2,Y_train)))\n",
    "print(\"-----\")\n",
    "print(\"F1 for test:{}\".format(f1_score(pred,Y_valid)))\n",
    "print(\"F1 for train:{}\".format(f1_score(pred2,Y_train)))\n",
    "print(\"-----\")"
   ]
  },
  {
   "cell_type": "code",
   "execution_count": 13,
   "metadata": {},
   "outputs": [
    {
     "name": "stdout",
     "output_type": "stream",
     "text": [
      "AUC for test:0.708298608381162\n",
      "AUC for train:0.7104024900875925\n",
      "-----\n",
      "accuracy for test:0.7081284534784178\n",
      "accuracy for train:0.710243874829316\n",
      "-----\n",
      "F1 for test:0.7121987972820248\n",
      "F1 for train:0.7141816963693758\n",
      "-----\n"
     ]
    }
   ],
   "source": [
    "from sklearn.linear_model import LogisticRegression\n",
    "from sklearn.model_selection import KFold\n",
    "from sklearn.metrics import accuracy_score,roc_auc_score, f1_score\n",
    "from sklearn.model_selection import train_test_split\n",
    "\n",
    "lr = LogisticRegression(random_state=0, n_jobs=-1, penalty = 'l2')\n",
    "X_train, X_valid, Y_train, Y_valid = train_test_split(X_smo, y_smo, test_size = 0.25, random_state = 42)\n",
    "\n",
    "lr.fit(X_train,Y_train)\n",
    "pred = lr.predict(X_valid)\n",
    "pred2 = lr.predict(X_train)\n",
    "\n",
    "print(\"AUC for test:{}\".format(roc_auc_score(pred,Y_valid)))\n",
    "print(\"AUC for train:{}\".format(roc_auc_score(pred2,Y_train)))\n",
    "print(\"-----\")\n",
    "print(\"accuracy for test:{}\".format(accuracy_score(pred,Y_valid)))\n",
    "print(\"accuracy for train:{}\".format(accuracy_score(pred2,Y_train)))\n",
    "print(\"-----\")\n",
    "print(\"F1 for test:{}\".format(f1_score(pred,Y_valid)))\n",
    "print(\"F1 for train:{}\".format(f1_score(pred2,Y_train)))\n",
    "print(\"-----\")"
   ]
  },
  {
   "cell_type": "markdown",
   "metadata": {},
   "source": [
    "GBDT"
   ]
  },
  {
   "cell_type": "markdown",
   "metadata": {},
   "source": [
    "K-fold is used for hyperparameters selection"
   ]
  },
  {
   "cell_type": "code",
   "execution_count": 117,
   "metadata": {},
   "outputs": [
    {
     "name": "stdout",
     "output_type": "stream",
     "text": [
      "Experiments 1: n_estimator = 10, lr = 0.01, mean AUC for kfold = 0.656650809802559, all AUCs are:\n",
      "  [0.6628165493523377, 0.6509760736753093, 0.6594849922527997, 0.6523161657405729, 0.657660267991775]\n",
      "Experiments 2: n_estimator = 10, lr = 0.05, mean AUC for kfold = 0.6599237731157599, all AUCs are:\n",
      "  [0.6621228884777692, 0.659179851091184, 0.6532554658332459, 0.6623362703374074, 0.662724389839193]\n",
      "Experiments 3: n_estimator = 10, lr = 0.1, mean AUC for kfold = 0.6657619712509179, all AUCs are:\n",
      "  [0.6728343302441296, 0.6652958989121088, 0.6708674170637635, 0.6559672437613224, 0.6638449662732647]\n",
      "Experiments 4: n_estimator = 25, lr = 0.01, mean AUC for kfold = 0.6578701540072116, all AUCs are:\n",
      "  [0.663426333199776, 0.6493989185124358, 0.6588661624659075, 0.6569903440327567, 0.6606690118251819]\n",
      "Experiments 5: n_estimator = 25, lr = 0.05, mean AUC for kfold = 0.6691756412938114, all AUCs are:\n",
      "  [0.6713330143798362, 0.6696847391396371, 0.6661615588767488, 0.6733086664010302, 0.6653902276718042]\n",
      "Experiments 6: n_estimator = 25, lr = 0.1, mean AUC for kfold = 0.6744983422313027, all AUCs are:\n",
      "  [0.6689810523940393, 0.6738778164768792, 0.6781746785591484, 0.6711561559782661, 0.6803020077481803]\n",
      "Experiments 7: n_estimator = 50, lr = 0.01, mean AUC for kfold = 0.6600387363229212, all AUCs are:\n",
      "  [0.662296520265511, 0.6566809273582225, 0.6618239700680161, 0.6623158956202794, 0.6570763683025773]\n",
      "Experiments 8: n_estimator = 50, lr = 0.05, mean AUC for kfold = 0.6758252988622029, all AUCs are:\n",
      "  [0.675992928560966, 0.6797434094432719, 0.677572201711612, 0.6748623964594838, 0.6709555581356805]\n",
      "Experiments 9: n_estimator = 50, lr = 0.1, mean AUC for kfold = 0.6819363245761874, all AUCs are:\n",
      "  [0.6794093477144325, 0.6799034728316516, 0.6855035224971829, 0.6892004763504543, 0.6756648034872159]\n",
      "Experiments 10: n_estimator = 100, lr = 0.01, mean AUC for kfold = 0.6647802805968032, all AUCs are:\n",
      "  [0.6635750592753993, 0.665822584167297, 0.6640357343679281, 0.6682191347895909, 0.6622488903838009]\n",
      "Experiments 11: n_estimator = 100, lr = 0.05, mean AUC for kfold = 0.6825042885751683, all AUCs are:\n",
      "  [0.6794558959537152, 0.677215409372139, 0.6919881330980966, 0.681634796654958, 0.6822272077969328]\n",
      "Experiments 12: n_estimator = 100, lr = 0.1, mean AUC for kfold = 0.6868560567822949, all AUCs are:\n",
      "  [0.6869798426420877, 0.6850552461146421, 0.6839254445619868, 0.6901145645873605, 0.6882051860053973]\n"
     ]
    }
   ],
   "source": [
    "# sklearn version\n",
    "from sklearn.ensemble import GradientBoostingClassifier\n",
    "from sklearn.metrics import accuracy_score,roc_auc_score\n",
    "from sklearn.model_selection import KFold\n",
    "\n",
    "\n",
    "n_estimators = [15,25,50]\n",
    "learning_rate = [ 0.05, 0.1, 0.2, 0.5]\n",
    "\n",
    "kf = KFold(n_splits=5,shuffle=True)\n",
    "\n",
    "group_cnt = len(n_estimators) * len(learning_rate) \n",
    "results = []\n",
    "index = 0\n",
    "for n in n_estimators:\n",
    "    for lr in learning_rate:\n",
    "        index += 1\n",
    "        gbm = GradientBoostingClassifier(n_estimators=n, learning_rate = lr, random_state=42, max_depth=5)\n",
    "        AUC = []\n",
    "        for train_index, test_index in kf.split(desample_x_train):     ### 获得 train 的 index    ### 获得 test  的 index\n",
    "            X_train, X_valid = desample_x_train.iloc[train_index], desample_x_train.iloc[test_index]\n",
    "            Y_train, Y_valid = desample_y_train.iloc[train_index], desample_y_train.iloc[test_index]\n",
    "            gbm.fit(X_train,Y_train)\n",
    "    \n",
    "            AUC.append(roc_auc_score(gbm.predict(X_valid),Y_valid))\n",
    "        \n",
    "        print(\"Experiments {}: n_estimator = {}, lr = {}, mean AUC for kfold = {}, all AUCs are:\\n\".format(index,n, lr, sum(AUC) / len(AUC)), end=\"  \")\n",
    "        print(AUC)"
   ]
  },
  {
   "cell_type": "markdown",
   "metadata": {},
   "source": [
    "From the above we can learn that     \n",
    "n_estimator : 100 > 50 > 25 > 10  ； lr: 0.1 > 0.05 > 0.01"
   ]
  },
  {
   "cell_type": "code",
   "execution_count": 118,
   "metadata": {},
   "outputs": [
    {
     "name": "stdout",
     "output_type": "stream",
     "text": [
      "Experiments 1: n_estimator = 100, lr = 0.1, mean AUC for kfold = 0.6899266388205039, all AUCs are:\n",
      "  [0.6883032494232421, 0.6915643572335154, 0.6912852993427447, 0.6895777266868184, 0.6889025614161988]\n",
      "Experiments 2: n_estimator = 100, lr = 0.2, mean AUC for kfold = 0.6856045973162752, all AUCs are:\n",
      "  [0.6873897647552081, 0.6821767315107506, 0.6863681256645642, 0.6823245393200594, 0.6897638253307942]\n",
      "Experiments 3: n_estimator = 100, lr = 0.5, mean AUC for kfold = 0.6706089869574089, all AUCs are:\n",
      "  [0.6608148685711965, 0.6719504711605833, 0.6773656761386447, 0.6704461778911031, 0.672467741025517]\n",
      "Experiments 4: n_estimator = 125, lr = 0.1, mean AUC for kfold = 0.6902442082918798, all AUCs are:\n",
      "  [0.6941392578926681, 0.6820064964149402, 0.6877022460080249, 0.6976600314021725, 0.6897130097415939]\n",
      "Experiments 5: n_estimator = 125, lr = 0.2, mean AUC for kfold = 0.6875068675370389, all AUCs are:\n",
      "  [0.6903293088883414, 0.6800997034493321, 0.6884387068051666, 0.686036037088477, 0.6926305814538773]\n",
      "Experiments 6: n_estimator = 125, lr = 0.5, mean AUC for kfold = 0.6671509691840329, all AUCs are:\n",
      "  [0.6628139696478385, 0.6649203218115894, 0.6713598735894835, 0.6668328617033061, 0.6698278191679475]\n",
      "Experiments 7: n_estimator = 150, lr = 0.1, mean AUC for kfold = 0.6910039714169722, all AUCs are:\n",
      "  [0.6894393337069592, 0.6890051765464178, 0.6924467915833318, 0.6853014583276914, 0.6988270969204616]\n",
      "Experiments 8: n_estimator = 150, lr = 0.2, mean AUC for kfold = 0.6860192539165073, all AUCs are:\n",
      "  [0.6863172690889247, 0.6847904767475135, 0.6813406233308932, 0.689237628561631, 0.6884102718535738]\n",
      "Experiments 9: n_estimator = 150, lr = 0.5, mean AUC for kfold = 0.6659292433218826, all AUCs are:\n",
      "  [0.6629793620257244, 0.6672301759705556, 0.6620163389196897, 0.6672721952691056, 0.6701481444243386]\n"
     ]
    }
   ],
   "source": [
    "# sklearn version\n",
    "from sklearn.ensemble import GradientBoostingClassifier\n",
    "from sklearn.metrics import accuracy_score,roc_auc_score\n",
    "from sklearn.model_selection import KFold\n",
    "\n",
    "\n",
    "n_estimators = [100, 125, 150]\n",
    "learning_rate = [ 0.1, 0.2, 0.5]\n",
    "\n",
    "kf = KFold(n_splits=5,shuffle=True)\n",
    "\n",
    "group_cnt = len(n_estimators) * len(learning_rate) \n",
    "results = []\n",
    "index = 0\n",
    "for n in n_estimators:\n",
    "    for lr in learning_rate:\n",
    "        index += 1\n",
    "        gbm = GradientBoostingClassifier(n_estimators=n, learning_rate = lr, random_state=42, max_depth=5)\n",
    "        AUC = []\n",
    "        for train_index, test_index in kf.split(desample_x_train):     ### 获得 train 的 index    ### 获得 test  的 index\n",
    "            X_train, X_valid = desample_x_train.iloc[train_index], desample_x_train.iloc[test_index]\n",
    "            Y_train, Y_valid = desample_y_train.iloc[train_index], desample_y_train.iloc[test_index]\n",
    "            gbm.fit(X_train,Y_train)\n",
    "    \n",
    "            AUC.append(roc_auc_score(gbm.predict(X_valid),Y_valid))"
   ]
  },
  {
   "cell_type": "code",
   "execution_count": 119,
   "metadata": {},
   "outputs": [
    {
     "name": "stdout",
     "output_type": "stream",
     "text": [
      "Experiments 1: n_estimator = 100, lr = 0.1, mean AUC for kfold = 0.6903831771509621, all AUCs are:\n",
      "  [0.6898373880215225, 0.6890156741700985, 0.6823933201795314, 0.7000498765292058, 0.6906196268544527]\n",
      "Experiments 2: n_estimator = 100, lr = 0.15, mean AUC for kfold = 0.6897723596129024, all AUCs are:\n",
      "  [0.6919766700927956, 0.6873844359669512, 0.6849672426667629, 0.6976230835226116, 0.6869103658153906]\n",
      "Experiments 3: n_estimator = 125, lr = 0.1, mean AUC for kfold = 0.6874916010961658, all AUCs are:\n",
      "  [0.6909980694971362, 0.6878880259755474, 0.6881691355330248, 0.6798934867874352, 0.6905092876876854]\n",
      "Experiments 4: n_estimator = 125, lr = 0.15, mean AUC for kfold = 0.6884227824827844, all AUCs are:\n",
      "  [0.6872919305996066, 0.6862654089857226, 0.6887569597453839, 0.6860724385841579, 0.6937271744990514]\n",
      "Experiments 5: n_estimator = 150, lr = 0.1, mean AUC for kfold = 0.6891550538361396, all AUCs are:\n",
      "  [0.6895976116849247, 0.6850358961363584, 0.6932158087122806, 0.6847991063300041, 0.69312684631713]\n",
      "Experiments 6: n_estimator = 150, lr = 0.15, mean AUC for kfold = 0.6908113115697839, all AUCs are:\n",
      "  [0.6922107032782292, 0.6911079055072741, 0.6916990220916345, 0.6877042934892159, 0.6913346334825653]\n",
      "Experiments 7: n_estimator = 175, lr = 0.1, mean AUC for kfold = 0.6900822382274018, all AUCs are:\n",
      "  [0.6948089488784008, 0.685722947385384, 0.6881024202390706, 0.6891420150903289, 0.6926348595438246]\n",
      "Experiments 8: n_estimator = 175, lr = 0.15, mean AUC for kfold = 0.690178092696842, all AUCs are:\n",
      "  [0.6862799559976003, 0.6879832523289663, 0.6869744810906881, 0.7015049082562856, 0.6881478658106694]\n",
      "Experiments 9: n_estimator = 200, lr = 0.1, mean AUC for kfold = 0.6898616470241166, all AUCs are:\n",
      "  [0.699245429750925, 0.6905629196177715, 0.6844230463218662, 0.6898321948095821, 0.685244644620438]\n",
      "Experiments 10: n_estimator = 200, lr = 0.15, mean AUC for kfold = 0.690490730742517, all AUCs are:\n",
      "  [0.6861086586333889, 0.6952525375398215, 0.6935792836839572, 0.6903159451437286, 0.687197228711689]\n",
      "Experiments 11: n_estimator = 225, lr = 0.1, mean AUC for kfold = 0.6911867494322126, all AUCs are:\n",
      "  [0.6935244092592588, 0.6905147190512725, 0.6920862601440071, 0.6890990030547144, 0.6907093556518099]\n",
      "Experiments 12: n_estimator = 225, lr = 0.15, mean AUC for kfold = 0.6872868513916818, all AUCs are:\n",
      "  [0.6839794445075097, 0.6898085915564692, 0.689750905159988, 0.6884029195541924, 0.6844923961802495]\n",
      "Experiments 13: n_estimator = 250, lr = 0.1, mean AUC for kfold = 0.6906759333389444, all AUCs are:\n",
      "  [0.6944445876961536, 0.6901527071039183, 0.6907247401349939, 0.6873288404975338, 0.690728791262123]\n",
      "Experiments 14: n_estimator = 250, lr = 0.15, mean AUC for kfold = 0.6893041396892958, all AUCs are:\n",
      "  [0.6922126679582565, 0.6884696547149248, 0.6879061596080372, 0.6863941888763425, 0.691538027288918]\n"
     ]
    }
   ],
   "source": [
    "# sklearn version\n",
    "from sklearn.ensemble import GradientBoostingClassifier\n",
    "from sklearn.metrics import accuracy_score,roc_auc_score\n",
    "from sklearn.model_selection import KFold\n",
    "\n",
    "\n",
    "n_estimators = [100, 125, 150, 175,200, 225, 250]\n",
    "learning_rate = [ 0.1, 0.15]\n",
    "\n",
    "kf = KFold(n_splits=5,shuffle=True)\n",
    "\n",
    "group_cnt = len(n_estimators) * len(learning_rate) \n",
    "results = []\n",
    "index = 0\n",
    "for n in n_estimators:\n",
    "    for lr in learning_rate:\n",
    "        index += 1\n",
    "        gbm = GradientBoostingClassifier(n_estimators=n, learning_rate = lr, random_state=42, max_depth=5)\n",
    "        AUC = []\n",
    "        for train_index, test_index in kf.split(desample_x_train):     ### 获得 train 的 index    ### 获得 test  的 index\n",
    "            X_train, X_valid = desample_x_train.iloc[train_index], desample_x_train.iloc[test_index]\n",
    "            Y_train, Y_valid = desample_y_train.iloc[train_index], desample_y_train.iloc[test_index]\n",
    "            gbm.fit(X_train,Y_train)\n",
    "    \n",
    "            AUC.append(roc_auc_score(gbm.predict(X_valid),Y_valid))\n",
    "        \n",
    "        print(\"Experiments {}: n_estimator = {}, lr = {}, mean AUC for kfold = {}, all AUCs are:\\n\".format(index,n, lr, sum(AUC) / len(AUC)), end=\"  \")\n",
    "        print(AUC)"
   ]
  },
  {
   "cell_type": "markdown",
   "metadata": {},
   "source": [
    "finally we confirm the hyperparaters:       \n",
    "n_estimator = 100, lr = 0.1"
   ]
  },
  {
   "cell_type": "markdown",
   "metadata": {},
   "source": [
    "after determining hyperparameter, we apply it to different sampled dataset"
   ]
  },
  {
   "cell_type": "code",
   "execution_count": 15,
   "metadata": {},
   "outputs": [
    {
     "name": "stdout",
     "output_type": "stream",
     "text": [
      "AUC for test:0.723511042958193\n",
      "AUC for train:0.8823032018715535\n",
      "-----\n",
      "accuracy for test:0.9196389084003226\n",
      "accuracy for train:0.9216417425086609\n",
      "-----\n",
      "F1 for test:0.040683229813664595\n",
      "F1 for train:0.07103937493574586\n",
      "-----\n"
     ]
    }
   ],
   "source": [
    "from sklearn.ensemble import GradientBoostingClassifier\n",
    "from sklearn.model_selection import KFold\n",
    "from sklearn.metrics import accuracy_score,roc_auc_score, f1_score\n",
    "from sklearn.model_selection import train_test_split\n",
    "\n",
    "gbm = GradientBoostingClassifier(n_estimators=100, learning_rate = 0.1, random_state=42, max_depth=5)\n",
    "X_train, X_valid, Y_train, Y_valid = train_test_split(x_train, y_train, test_size = 0.25, random_state = 42)\n",
    "\n",
    "gbm.fit(X_train,Y_train)\n",
    "pred = gbm.predict(X_valid)\n",
    "pred2 = gbm.predict(X_train)\n",
    "\n",
    "print(\"AUC for test:{}\".format(roc_auc_score(pred,Y_valid)))\n",
    "print(\"AUC for train:{}\".format(roc_auc_score(pred2,Y_train)))\n",
    "print(\"-----\")\n",
    "print(\"accuracy for test:{}\".format(accuracy_score(pred,Y_valid)))\n",
    "print(\"accuracy for train:{}\".format(accuracy_score(pred2,Y_train)))\n",
    "print(\"-----\")\n",
    "print(\"F1 for test:{}\".format(f1_score(pred,Y_valid)))\n",
    "print(\"F1 for train:{}\".format(f1_score(pred2,Y_train)))\n",
    "print(\"-----\")"
   ]
  },
  {
   "cell_type": "code",
   "execution_count": 16,
   "metadata": {},
   "outputs": [
    {
     "name": "stdout",
     "output_type": "stream",
     "text": [
      "AUC for test:0.6921661737575615\n",
      "AUC for train:0.7316151976676741\n",
      "-----\n",
      "accuracy for test:0.6921409649193224\n",
      "accuracy for train:0.7316152858060373\n",
      "-----\n",
      "F1 for test:0.6926344473831851\n",
      "F1 for train:0.7311620426216324\n",
      "-----\n"
     ]
    }
   ],
   "source": [
    "from sklearn.ensemble import GradientBoostingClassifier\n",
    "from sklearn.model_selection import KFold\n",
    "from sklearn.metrics import accuracy_score,roc_auc_score, f1_score\n",
    "from sklearn.model_selection import train_test_split\n",
    "\n",
    "gbm = GradientBoostingClassifier(n_estimators=100, learning_rate = 0.1, random_state=42, max_depth=5)\n",
    "X_train, X_valid, Y_train, Y_valid = train_test_split(desample_x_train, desample_y_train, test_size = 0.25, random_state = 42)\n",
    "\n",
    "gbm.fit(X_train,Y_train)\n",
    "pred = gbm.predict(X_valid)\n",
    "pred2 = gbm.predict(X_train)\n",
    "\n",
    "print(\"AUC for test:{}\".format(roc_auc_score(pred,Y_valid)))\n",
    "print(\"AUC for train:{}\".format(roc_auc_score(pred2,Y_train)))\n",
    "print(\"-----\")\n",
    "print(\"accuracy for test:{}\".format(accuracy_score(pred,Y_valid)))\n",
    "print(\"accuracy for train:{}\".format(accuracy_score(pred2,Y_train)))\n",
    "print(\"-----\")\n",
    "print(\"F1 for test:{}\".format(f1_score(pred,Y_valid)))\n",
    "print(\"F1 for train:{}\".format(f1_score(pred2,Y_train)))\n",
    "print(\"-----\")"
   ]
  },
  {
   "cell_type": "code",
   "execution_count": 17,
   "metadata": {},
   "outputs": [
    {
     "name": "stdout",
     "output_type": "stream",
     "text": [
      "AUC for test:0.956194270802831\n",
      "AUC for train:0.9563357907505107\n",
      "-----\n",
      "accuracy for test:0.9524631570010542\n",
      "accuracy for train:0.952614090074028\n",
      "-----\n",
      "F1 for test:0.9502063926128489\n",
      "F1 for train:0.9503750336505332\n",
      "-----\n"
     ]
    }
   ],
   "source": [
    "from sklearn.ensemble import GradientBoostingClassifier\n",
    "from sklearn.model_selection import KFold\n",
    "from sklearn.metrics import accuracy_score,roc_auc_score, f1_score\n",
    "from sklearn.model_selection import train_test_split\n",
    "\n",
    "gbm = GradientBoostingClassifier(n_estimators=100, learning_rate = 0.1, random_state=42, max_depth=5)\n",
    "X_train, X_valid, Y_train, Y_valid = train_test_split(X_smo, y_smo, test_size = 0.25, random_state = 42)\n",
    "\n",
    "gbm.fit(X_train,Y_train)\n",
    "pred = gbm.predict(X_valid)\n",
    "pred2 = gbm.predict(X_train)\n",
    "\n",
    "print(\"AUC for test:{}\".format(roc_auc_score(pred,Y_valid)))\n",
    "print(\"AUC for train:{}\".format(roc_auc_score(pred2,Y_train)))\n",
    "print(\"-----\")\n",
    "print(\"accuracy for test:{}\".format(accuracy_score(pred,Y_valid)))\n",
    "print(\"accuracy for train:{}\".format(accuracy_score(pred2,Y_train)))\n",
    "print(\"-----\")\n",
    "print(\"F1 for test:{}\".format(f1_score(pred,Y_valid)))\n",
    "print(\"F1 for train:{}\".format(f1_score(pred2,Y_train)))\n",
    "print(\"-----\")"
   ]
  },
  {
   "cell_type": "code",
   "execution_count": null,
   "metadata": {},
   "outputs": [],
   "source": []
  },
  {
   "cell_type": "markdown",
   "metadata": {},
   "source": [
    "Random Forest"
   ]
  },
  {
   "cell_type": "markdown",
   "metadata": {},
   "source": [
    "hyperparameters"
   ]
  },
  {
   "cell_type": "code",
   "execution_count": 121,
   "metadata": {},
   "outputs": [
    {
     "name": "stdout",
     "output_type": "stream",
     "text": [
      "Experiments 1: n_estimator = 100, criterion = gini, mean AUC for kfold = 0.688294676154255, all AUCs are:\n",
      "  [0.6878509546563139, 0.6873880547874367, 0.6920201004231529, 0.6856053199582706, 0.6886089509461006]\n",
      "Experiments 2: n_estimator = 100, criterion = entropy, mean AUC for kfold = 0.6909257060819682, all AUCs are:\n",
      "  [0.6951235649546827, 0.6863428809319927, 0.690625656786026, 0.6880105263098502, 0.6945259014272891]\n",
      "Experiments 3: n_estimator = 125, criterion = gini, mean AUC for kfold = 0.6882427826141599, all AUCs are:\n",
      "  [0.6851728164339529, 0.6798688112039554, 0.6919211449609873, 0.6956134596067192, 0.6886376808651848]\n",
      "Experiments 4: n_estimator = 125, criterion = entropy, mean AUC for kfold = 0.6871917363587712, all AUCs are:\n",
      "  [0.687092411130871, 0.6864973862594805, 0.6858028591668407, 0.6871940518588526, 0.6893719733778111]\n",
      "Experiments 5: n_estimator = 150, criterion = gini, mean AUC for kfold = 0.6857633294214991, all AUCs are:\n",
      "  [0.6856925478348439, 0.6855082245988443, 0.6840988754487262, 0.6860071755718917, 0.6875098236531897]\n",
      "Experiments 6: n_estimator = 150, criterion = entropy, mean AUC for kfold = 0.6892685094274528, all AUCs are:\n",
      "  [0.6850793219450856, 0.6895504444891954, 0.6926552669537207, 0.6905657792341253, 0.6884917345151366]\n",
      "Experiments 7: n_estimator = 175, criterion = gini, mean AUC for kfold = 0.6877683710538449, all AUCs are:\n",
      "  [0.6881160029073959, 0.6861272045888953, 0.6833410395140931, 0.6921180089211056, 0.6891395993377348]\n",
      "Experiments 8: n_estimator = 175, criterion = entropy, mean AUC for kfold = 0.6866110354862519, all AUCs are:\n",
      "  [0.6877991458982748, 0.6895680400146418, 0.6784660973717886, 0.6884204150375707, 0.6888014791089834]\n",
      "Experiments 9: n_estimator = 200, criterion = gini, mean AUC for kfold = 0.6859619539428761, all AUCs are:\n",
      "  [0.6854883915205611, 0.6838749408340635, 0.6841528623020167, 0.6822651957879426, 0.6940283792697967]\n",
      "Experiments 10: n_estimator = 200, criterion = entropy, mean AUC for kfold = 0.6876869714427285, all AUCs are:\n",
      "  [0.6851756980061088, 0.6936064943121395, 0.6866779469825155, 0.6876839149721891, 0.6852908029406899]\n"
     ]
    }
   ],
   "source": [
    "from sklearn.ensemble import RandomForestClassifier\n",
    "\n",
    "\n",
    "n_estimators = [100, 125, 150, 175,200]\n",
    "criterion = {\"gini\",\"entropy\"}\n",
    "kf = KFold(n_splits=5,shuffle=True)\n",
    "\n",
    "group_cnt = len(n_estimators) * len(criterion) \n",
    "results = []\n",
    "index = 0\n",
    "for n in n_estimators:\n",
    "    for c in criterion:\n",
    "        index += 1\n",
    "        rfc = RandomForestClassifier(n_estimators=n, criterion = c, random_state=42, n_jobs=-1)\n",
    "        AUC = []\n",
    "        for train_index, test_index in kf.split(desample_x_train):     ### 获得 train 的 index    ### 获得 test  的 index\n",
    "            X_train, X_valid = desample_x_train.iloc[train_index], desample_x_train.iloc[test_index]\n",
    "            Y_train, Y_valid = desample_y_train.iloc[train_index], desample_y_train.iloc[test_index]\n",
    "            gbm.fit(X_train,Y_train)\n",
    "    \n",
    "            AUC.append(roc_auc_score(gbm.predict(X_valid),Y_valid))\n",
    "        \n",
    "        print(\"Experiments {}: n_estimator = {}, criterion = {}, mean AUC for kfold = {}, all AUCs are:\\n\".format(index,n, c, sum(AUC) / len(AUC)), end=\"  \")\n",
    "        print(AUC)"
   ]
  },
  {
   "cell_type": "markdown",
   "metadata": {},
   "source": [
    "n_estimator= 50, max_depth=10, criterion = \"entropy\""
   ]
  },
  {
   "cell_type": "code",
   "execution_count": 44,
   "metadata": {},
   "outputs": [
    {
     "name": "stdout",
     "output_type": "stream",
     "text": [
      "AUC for test:0.9597468650814298\n",
      "AUC for train:0.9596861976399772\n",
      "-----\n",
      "accuracy for test:0.9194958245531881\n",
      "accuracy for train:0.9193870781718141\n",
      "-----\n",
      "F1 for test:0.0006458905215565962\n",
      "F1 for train:0.004497751124437781\n",
      "-----\n"
     ]
    }
   ],
   "source": [
    "from sklearn.ensemble import RandomForestClassifier\n",
    "\n",
    "from sklearn.model_selection import KFold\n",
    "from sklearn.metrics import accuracy_score,roc_auc_score, f1_score\n",
    "from sklearn.model_selection import train_test_split\n",
    "\n",
    "rfc = RandomForestClassifier(n_estimators=50, criterion = \"entropy\", max_depth=10, max_features=20,random_state=42, n_jobs=-1)\n",
    "X_train, X_valid, Y_train, Y_valid = train_test_split(x_train, y_train, test_size = 0.25, random_state = 42)\n",
    "\n",
    "rfc.fit(X_train,Y_train)\n",
    "pred = rfc.predict(X_valid)\n",
    "pred2 = rfc.predict(X_train)\n",
    "\n",
    "print(\"AUC for test:{}\".format(roc_auc_score(pred,Y_valid)))\n",
    "print(\"AUC for train:{}\".format(roc_auc_score(pred2,Y_train)))\n",
    "print(\"-----\")\n",
    "print(\"accuracy for test:{}\".format(accuracy_score(pred,Y_valid)))\n",
    "print(\"accuracy for train:{}\".format(accuracy_score(pred2,Y_train)))\n",
    "print(\"-----\")\n",
    "print(\"F1 for test:{}\".format(f1_score(pred,Y_valid)))\n",
    "print(\"F1 for train:{}\".format(f1_score(pred2,Y_train)))\n",
    "print(\"-----\")"
   ]
  },
  {
   "cell_type": "code",
   "execution_count": 42,
   "metadata": {},
   "outputs": [
    {
     "name": "stdout",
     "output_type": "stream",
     "text": [
      "AUC for test:0.6788213256430664\n",
      "AUC for train:0.7356646248496366\n",
      "-----\n",
      "accuracy for test:0.6788151240266517\n",
      "accuracy for train:0.7356561764076215\n",
      "-----\n",
      "F1 for test:0.6785570820277979\n",
      "F1 for train:0.7356703237891355\n",
      "-----\n"
     ]
    }
   ],
   "source": [
    "from sklearn.ensemble import RandomForestClassifier\n",
    "\n",
    "from sklearn.model_selection import KFold\n",
    "from sklearn.metrics import accuracy_score,roc_auc_score, f1_score\n",
    "from sklearn.model_selection import train_test_split\n",
    "\n",
    "rfc = RandomForestClassifier(n_estimators=50, criterion = \"entropy\", random_state=42, max_depth = 10,max_features=20,n_jobs=-1)\n",
    "X_train, X_valid, Y_train, Y_valid = train_test_split(desample_x_train, desample_y_train, test_size = 0.25, random_state = 42)\n",
    "\n",
    "rfc.fit(X_train,Y_train)\n",
    "pred = rfc.predict(X_valid)\n",
    "pred2 = rfc.predict(X_train)\n",
    "\n",
    "print(\"AUC for test:{}\".format(roc_auc_score(pred,Y_valid)))\n",
    "print(\"AUC for train:{}\".format(roc_auc_score(pred2,Y_train)))\n",
    "print(\"-----\")\n",
    "print(\"accuracy for test:{}\".format(accuracy_score(pred,Y_valid)))\n",
    "print(\"accuracy for train:{}\".format(accuracy_score(pred2,Y_train)))\n",
    "print(\"-----\")\n",
    "print(\"F1 for test:{}\".format(f1_score(pred,Y_valid)))\n",
    "print(\"F1 for train:{}\".format(f1_score(pred2,Y_train)))\n",
    "print(\"-----\")"
   ]
  },
  {
   "cell_type": "code",
   "execution_count": 78,
   "metadata": {},
   "outputs": [
    {
     "name": "stdout",
     "output_type": "stream",
     "text": [
      "AUC for test:0.9538392342836036\n",
      "AUC for train:0.9999528357505012\n",
      "-----\n",
      "accuracy for test:0.9512604090757943\n",
      "accuracy for train:0.9999528334146957\n",
      "-----\n",
      "F1 for test:0.9493459606914655\n",
      "F1 for train:0.9999528333034612\n",
      "-----\n"
     ]
    }
   ],
   "source": [
    "from sklearn.ensemble import RandomForestClassifier\n",
    "\n",
    "from sklearn.model_selection import KFold\n",
    "from sklearn.metrics import accuracy_score,roc_auc_score, f1_score\n",
    "from sklearn.model_selection import train_test_split\n",
    "\n",
    "rfc = RandomForestClassifier(n_estimators=50, criterion = \"entropy\", random_state=42,n_jobs=-1)\n",
    "X_train, X_valid, Y_train, Y_valid = train_test_split(X_smo, y_smo, test_size = 0.25, random_state = 42)\n",
    "\n",
    "rfc.fit(X_train,Y_train)\n",
    "pred = rfc.predict(X_valid)\n",
    "pred2 = rfc.predict(X_train)\n",
    "\n",
    "print(\"AUC for test:{}\".format(roc_auc_score(pred,Y_valid)))\n",
    "print(\"AUC for train:{}\".format(roc_auc_score(pred2,Y_train)))\n",
    "print(\"-----\")\n",
    "print(\"accuracy for test:{}\".format(accuracy_score(pred,Y_valid)))\n",
    "print(\"accuracy for train:{}\".format(accuracy_score(pred2,Y_train)))\n",
    "print(\"-----\")\n",
    "print(\"F1 for test:{}\".format(f1_score(pred,Y_valid)))\n",
    "print(\"F1 for train:{}\".format(f1_score(pred2,Y_train)))\n",
    "print(\"-----\")"
   ]
  },
  {
   "cell_type": "markdown",
   "metadata": {},
   "source": [
    "results visulization for comparison"
   ]
  },
  {
   "cell_type": "code",
   "execution_count": 107,
   "metadata": {},
   "outputs": [],
   "source": [
    "results = pd.DataFrame([],columns=[\"model\",\"data\",\"f1-score\",\"AUC-score\"])\n",
    "results[\"model\"] = [\"logistic Regression\"] * 3 + [\"GBDT\"] * 3 + [\"Random Forest\"] * 3\n",
    "results[\"data\"] = ([\"Original\",\"desample\",\"overSample\"]  ) * 3\n",
    "results[\"f1-score\"] = [0.0339,0.6826,0.7121,   0.0506, 0.6926, 0.8502,    0.0125, 0.6785, 0.8493]\n",
    "results['AUC-score'] = [0.6053, 0.6851, 0.7082,  0.6235, 0.6921, 0.8561,   0.8597, 0.6788,  0.8538]"
   ]
  },
  {
   "cell_type": "code",
   "execution_count": 108,
   "metadata": {},
   "outputs": [
    {
     "data": {
      "text/html": [
       "<div>\n",
       "<style scoped>\n",
       "    .dataframe tbody tr th:only-of-type {\n",
       "        vertical-align: middle;\n",
       "    }\n",
       "\n",
       "    .dataframe tbody tr th {\n",
       "        vertical-align: top;\n",
       "    }\n",
       "\n",
       "    .dataframe thead th {\n",
       "        text-align: right;\n",
       "    }\n",
       "</style>\n",
       "<table border=\"1\" class=\"dataframe\">\n",
       "  <thead>\n",
       "    <tr style=\"text-align: right;\">\n",
       "      <th></th>\n",
       "      <th>model</th>\n",
       "      <th>data</th>\n",
       "      <th>f1-score</th>\n",
       "      <th>AUC-score</th>\n",
       "    </tr>\n",
       "  </thead>\n",
       "  <tbody>\n",
       "    <tr>\n",
       "      <th>0</th>\n",
       "      <td>logistic Regression</td>\n",
       "      <td>Original</td>\n",
       "      <td>0.0339</td>\n",
       "      <td>0.6053</td>\n",
       "    </tr>\n",
       "    <tr>\n",
       "      <th>1</th>\n",
       "      <td>logistic Regression</td>\n",
       "      <td>desample</td>\n",
       "      <td>0.6826</td>\n",
       "      <td>0.6851</td>\n",
       "    </tr>\n",
       "    <tr>\n",
       "      <th>2</th>\n",
       "      <td>logistic Regression</td>\n",
       "      <td>overSample</td>\n",
       "      <td>0.7121</td>\n",
       "      <td>0.7082</td>\n",
       "    </tr>\n",
       "    <tr>\n",
       "      <th>3</th>\n",
       "      <td>GBDT</td>\n",
       "      <td>Original</td>\n",
       "      <td>0.0506</td>\n",
       "      <td>0.6235</td>\n",
       "    </tr>\n",
       "    <tr>\n",
       "      <th>4</th>\n",
       "      <td>GBDT</td>\n",
       "      <td>desample</td>\n",
       "      <td>0.6926</td>\n",
       "      <td>0.6921</td>\n",
       "    </tr>\n",
       "    <tr>\n",
       "      <th>5</th>\n",
       "      <td>GBDT</td>\n",
       "      <td>overSample</td>\n",
       "      <td>0.8502</td>\n",
       "      <td>0.8561</td>\n",
       "    </tr>\n",
       "    <tr>\n",
       "      <th>6</th>\n",
       "      <td>Random Forest</td>\n",
       "      <td>Original</td>\n",
       "      <td>0.0125</td>\n",
       "      <td>0.8597</td>\n",
       "    </tr>\n",
       "    <tr>\n",
       "      <th>7</th>\n",
       "      <td>Random Forest</td>\n",
       "      <td>desample</td>\n",
       "      <td>0.6785</td>\n",
       "      <td>0.6788</td>\n",
       "    </tr>\n",
       "    <tr>\n",
       "      <th>8</th>\n",
       "      <td>Random Forest</td>\n",
       "      <td>overSample</td>\n",
       "      <td>0.8493</td>\n",
       "      <td>0.8538</td>\n",
       "    </tr>\n",
       "  </tbody>\n",
       "</table>\n",
       "</div>"
      ],
      "text/plain": [
       "                 model        data  f1-score  AUC-score\n",
       "0  logistic Regression    Original    0.0339     0.6053\n",
       "1  logistic Regression    desample    0.6826     0.6851\n",
       "2  logistic Regression  overSample    0.7121     0.7082\n",
       "3                 GBDT    Original    0.0506     0.6235\n",
       "4                 GBDT    desample    0.6926     0.6921\n",
       "5                 GBDT  overSample    0.8502     0.8561\n",
       "6        Random Forest    Original    0.0125     0.8597\n",
       "7        Random Forest    desample    0.6785     0.6788\n",
       "8        Random Forest  overSample    0.8493     0.8538"
      ]
     },
     "execution_count": 108,
     "metadata": {},
     "output_type": "execute_result"
    }
   ],
   "source": [
    "results"
   ]
  },
  {
   "cell_type": "code",
   "execution_count": 109,
   "metadata": {},
   "outputs": [
    {
     "data": {
      "text/plain": [
       "<matplotlib.axes._subplots.AxesSubplot at 0x1e787825898>"
      ]
     },
     "execution_count": 109,
     "metadata": {},
     "output_type": "execute_result"
    },
    {
     "data": {
      "image/png": "[encoded data removed]",
      "text/plain": [
       "<Figure size 432x288 with 1 Axes>"
      ]
     },
     "metadata": {
      "needs_background": "light"
     },
     "output_type": "display_data"
    }
   ],
   "source": [
    "import seaborn as sns\n",
    "\n",
    "sns.barplot(x=\"data\", y=\"f1-score\",hue=\"model\",data=results)"
   ]
  },
  {
   "cell_type": "code",
   "execution_count": 110,
   "metadata": {},
   "outputs": [
    {
     "data": {
      "text/plain": [
       "<matplotlib.axes._subplots.AxesSubplot at 0x1e787a36fd0>"
      ]
     },
     "execution_count": 110,
     "metadata": {},
     "output_type": "execute_result"
    },
    {
     "data": {
      "image/png": "[encoded data removed]",
      "text/plain": [
       "<Figure size 432x288 with 1 Axes>"
      ]
     },
     "metadata": {
      "needs_background": "light"
     },
     "output_type": "display_data"
    }
   ],
   "source": [
    "sns.barplot(x=\"data\", y=\"AUC-score\",hue=\"model\",data=results)"
   ]
  },
  {
   "cell_type": "markdown",
   "metadata": {},
   "source": [
    "output prediction for test data"
   ]
  },
  {
   "cell_type": "code",
   "execution_count": 98,
   "metadata": {},
   "outputs": [
    {
     "name": "stderr",
     "output_type": "stream",
     "text": [
      "D:\\Anaconda3\\lib\\site-packages\\sklearn\\base.py:451: UserWarning: X does not have valid feature names, but RandomForestClassifier was fitted with feature names\n",
      "  \"X does not have valid feature names, but\"\n"
     ]
    },
    {
     "data": {
      "text/html": [
       "<div>\n",
       "<style scoped>\n",
       "    .dataframe tbody tr th:only-of-type {\n",
       "        vertical-align: middle;\n",
       "    }\n",
       "\n",
       "    .dataframe tbody tr th {\n",
       "        vertical-align: top;\n",
       "    }\n",
       "\n",
       "    .dataframe thead th {\n",
       "        text-align: right;\n",
       "    }\n",
       "</style>\n",
       "<table border=\"1\" class=\"dataframe\">\n",
       "  <thead>\n",
       "    <tr style=\"text-align: right;\">\n",
       "      <th></th>\n",
       "      <th>SK_ID_CURR</th>\n",
       "      <th>TARGET</th>\n",
       "    </tr>\n",
       "  </thead>\n",
       "  <tbody>\n",
       "    <tr>\n",
       "      <th>0</th>\n",
       "      <td>100001</td>\n",
       "      <td>0.06</td>\n",
       "    </tr>\n",
       "    <tr>\n",
       "      <th>1</th>\n",
       "      <td>100005</td>\n",
       "      <td>0.34</td>\n",
       "    </tr>\n",
       "    <tr>\n",
       "      <th>2</th>\n",
       "      <td>100013</td>\n",
       "      <td>0.10</td>\n",
       "    </tr>\n",
       "    <tr>\n",
       "      <th>3</th>\n",
       "      <td>100028</td>\n",
       "      <td>0.32</td>\n",
       "    </tr>\n",
       "    <tr>\n",
       "      <th>4</th>\n",
       "      <td>100038</td>\n",
       "      <td>0.90</td>\n",
       "    </tr>\n",
       "  </tbody>\n",
       "</table>\n",
       "</div>"
      ],
      "text/plain": [
       "   SK_ID_CURR  TARGET\n",
       "0      100001    0.06\n",
       "1      100005    0.34\n",
       "2      100013    0.10\n",
       "3      100028    0.32\n",
       "4      100038    0.90"
      ]
     },
     "execution_count": 98,
     "metadata": {},
     "output_type": "execute_result"
    }
   ],
   "source": [
    "rfc_submit = pd.read_csv(\"test.csv\")[['SK_ID_CURR']]\n",
    "rfc_pred = rfc.predict_proba(x_test)[:, 1]\n",
    "rfc_submit['TARGET'] = rfc_pred\n",
    "rfc_submit.to_csv(\"submission.csv\",index=0)\n",
    "rfc_submit.head()"
   ]
  }
 ],
 "metadata": {
  "kernelspec": {
   "display_name": "Python 3 (ipykernel)",
   "language": "python",
   "name": "python3"
  },
  "language_info": {
   "codemirror_mode": {
    "name": "ipython",
    "version": 3
   },
   "file_extension": ".py",
   "mimetype": "text/x-python",
   "name": "python",
   "nbconvert_exporter": "python",
   "pygments_lexer": "ipython3",
   "version": "3.7.0"
  }
 },
 "nbformat": 4,
 "nbformat_minor": 2
}
