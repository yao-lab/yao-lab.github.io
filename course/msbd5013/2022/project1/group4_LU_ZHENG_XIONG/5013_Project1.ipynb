{
 "cells": [
  {
   "cell_type": "code",
   "execution_count": null,
   "metadata": {
    "execution": {
     "iopub.execute_input": "2022-03-16T02:53:17.065896Z",
     "iopub.status.busy": "2022-03-16T02:53:17.065583Z",
     "iopub.status.idle": "2022-03-16T02:53:18.835331Z",
     "shell.execute_reply": "2022-03-16T02:53:18.834535Z",
     "shell.execute_reply.started": "2022-03-16T02:53:17.065868Z"
    }
   },
   "outputs": [],
   "source": [
    "from  datetime import datetime, timedelta\n",
    "import gc\n",
    "import numpy as np, pandas as pd\n",
    "import lightgbm as lgb"
   ]
  },
  {
   "cell_type": "code",
   "execution_count": null,
   "metadata": {
    "execution": {
     "iopub.execute_input": "2022-03-16T02:53:19.588136Z",
     "iopub.status.busy": "2022-03-16T02:53:19.58738Z",
     "iopub.status.idle": "2022-03-16T02:53:19.596688Z",
     "shell.execute_reply": "2022-03-16T02:53:19.5956Z",
     "shell.execute_reply.started": "2022-03-16T02:53:19.588075Z"
    }
   },
   "outputs": [],
   "source": [
    "CAL_DTYPES={\"event_name_1\": \"category\", \"event_name_2\": \"category\", \"event_type_1\": \"category\", \n",
    "         \"event_type_2\": \"category\", \"weekday\": \"category\", 'wm_yr_wk': 'int16', \"wday\": \"int16\",\n",
    "        \"month\": \"int16\", \"year\": \"int16\", \"snap_CA\": \"float32\", 'snap_TX': 'float32', 'snap_WI': 'float32' }\n",
    "PRICE_DTYPES = {\"store_id\": \"category\", \"item_id\": \"category\", \"wm_yr_wk\": \"int16\",\"sell_price\":\"float32\" }\n",
    "tr_last = 1941"
   ]
  },
  {
   "cell_type": "code",
   "execution_count": null,
   "metadata": {
    "execution": {
     "iopub.execute_input": "2022-03-16T02:53:24.246972Z",
     "iopub.status.busy": "2022-03-16T02:53:24.246524Z",
     "iopub.status.idle": "2022-03-16T02:53:24.263902Z",
     "shell.execute_reply": "2022-03-16T02:53:24.263221Z",
     "shell.execute_reply.started": "2022-03-16T02:53:24.246941Z"
    }
   },
   "outputs": [],
   "source": [
    "def create_dt(is_train = True, nrows = None, first_day = 1):\n",
    "    prices = pd.read_csv(\"../input/m5-forecasting-accuracy/sell_prices.csv\", dtype = PRICE_DTYPES)\n",
    "    for col, col_dtype in PRICE_DTYPES.items():\n",
    "        if col_dtype == \"category\":\n",
    "            prices[col] = prices[col].cat.codes.astype(\"int16\")\n",
    "            prices[col] -= prices[col].min()\n",
    "            \n",
    "    cal = pd.read_csv(\"../input/m5-forecasting-accuracy/calendar.csv\", dtype = CAL_DTYPES)\n",
    "    cal[\"date\"] = pd.to_datetime(cal[\"date\"])\n",
    "    for col, col_dtype in CAL_DTYPES.items():\n",
    "        if col_dtype == \"category\":\n",
    "            cal[col] = cal[col].cat.codes.astype(\"int16\")\n",
    "            cal[col] -= cal[col].min()\n",
    "    \n",
    "    start_day = max(1 if is_train  else tr_last-57, first_day)\n",
    "    numcols = [f\"d_{day}\" for day in range(start_day,tr_last+1)]\n",
    "    catcols = ['id', 'item_id', 'dept_id','store_id', 'cat_id', 'state_id']\n",
    "    dtype = {numcol:\"float32\" for numcol in numcols} \n",
    "    dtype.update({col: \"category\" for col in catcols if col != \"id\"})\n",
    "    dt = pd.read_csv(\"../input/m5-forecasting-accuracy/sales_train_evaluation.csv\", \n",
    "                     nrows = nrows, usecols = catcols + numcols, dtype = dtype)\n",
    "    \n",
    "    for col in catcols:\n",
    "        if col != \"id\":\n",
    "            dt[col] = dt[col].cat.codes.astype(\"int16\")\n",
    "            dt[col] -= dt[col].min()\n",
    "    \n",
    "    if not is_train:\n",
    "        for day in range(tr_last+1, tr_last+ 28 +1):\n",
    "            dt[f\"d_{day}\"] = np.nan\n",
    "    \n",
    "    dt = pd.melt(dt,\n",
    "                  id_vars = catcols,\n",
    "                  value_vars = [col for col in dt.columns if col.startswith(\"d_\")],\n",
    "                  var_name = \"d\",\n",
    "                  value_name = \"sales\")\n",
    "    \n",
    "    dt = dt.merge(cal, on= \"d\", copy = False)\n",
    "    dt = dt.merge(prices, on = [\"store_id\", \"item_id\", \"wm_yr_wk\"], copy = False)\n",
    "    \n",
    "    return dt"
   ]
  },
  {
   "cell_type": "code",
   "execution_count": null,
   "metadata": {
    "execution": {
     "iopub.execute_input": "2022-03-16T02:53:33.058122Z",
     "iopub.status.busy": "2022-03-16T02:53:33.057815Z",
     "iopub.status.idle": "2022-03-16T02:54:35.238725Z",
     "shell.execute_reply": "2022-03-16T02:54:35.23755Z",
     "shell.execute_reply.started": "2022-03-16T02:53:33.05809Z"
    }
   },
   "outputs": [],
   "source": [
    "%%time\n",
    "\n",
    "df = create_dt(is_train=True, first_day= 1) # 合成一整个表\n",
    "df.shape"
   ]
  },
  {
   "cell_type": "code",
   "execution_count": null,
   "metadata": {
    "execution": {
     "iopub.execute_input": "2022-03-15T07:57:14.026412Z",
     "iopub.status.busy": "2022-03-15T07:57:14.025811Z",
     "iopub.status.idle": "2022-03-15T07:57:14.049671Z",
     "shell.execute_reply": "2022-03-15T07:57:14.048652Z",
     "shell.execute_reply.started": "2022-03-15T07:57:14.026368Z"
    }
   },
   "outputs": [],
   "source": [
    "df.head()"
   ]
  },
  {
   "cell_type": "code",
   "execution_count": null,
   "metadata": {
    "execution": {
     "iopub.execute_input": "2022-03-15T07:57:14.051781Z",
     "iopub.status.busy": "2022-03-15T07:57:14.051423Z",
     "iopub.status.idle": "2022-03-15T07:57:18.302213Z",
     "shell.execute_reply": "2022-03-15T07:57:18.301372Z",
     "shell.execute_reply.started": "2022-03-15T07:57:14.051741Z"
    }
   },
   "outputs": [],
   "source": [
    "df.info()"
   ]
  },
  {
   "cell_type": "markdown",
   "metadata": {},
   "source": [
    "# 可视化"
   ]
  },
  {
   "cell_type": "code",
   "execution_count": null,
   "metadata": {
    "execution": {
     "iopub.execute_input": "2022-03-16T01:25:03.956224Z",
     "iopub.status.busy": "2022-03-16T01:25:03.95583Z",
     "iopub.status.idle": "2022-03-16T01:25:03.962963Z",
     "shell.execute_reply": "2022-03-16T01:25:03.961739Z",
     "shell.execute_reply.started": "2022-03-16T01:25:03.956189Z"
    }
   },
   "outputs": [],
   "source": [
    "import matplotlib.pyplot as plt\n",
    "import pandas as pd\n",
    "import numpy as np\n",
    "from pandas import DataFrame,Series"
   ]
  },
  {
   "cell_type": "code",
   "execution_count": null,
   "metadata": {
    "execution": {
     "iopub.execute_input": "2022-03-16T01:25:03.965206Z",
     "iopub.status.busy": "2022-03-16T01:25:03.964957Z",
     "iopub.status.idle": "2022-03-16T01:25:04.095094Z",
     "shell.execute_reply": "2022-03-16T01:25:04.093344Z",
     "shell.execute_reply.started": "2022-03-16T01:25:03.965169Z"
    }
   },
   "outputs": [],
   "source": [
    "# 每一行算一个销售额\n",
    "df['sales_volume'] = df['sales'] * df['sell_price']\n",
    "df"
   ]
  },
  {
   "cell_type": "code",
   "execution_count": null,
   "metadata": {
    "execution": {
     "iopub.execute_input": "2022-03-16T01:25:04.096955Z",
     "iopub.status.busy": "2022-03-16T01:25:04.0967Z",
     "iopub.status.idle": "2022-03-16T01:25:12.221729Z",
     "shell.execute_reply": "2022-03-16T01:25:12.220558Z",
     "shell.execute_reply.started": "2022-03-16T01:25:04.096925Z"
    }
   },
   "outputs": [],
   "source": [
    "# id：某个商店的某个物品\n",
    "df_id=df[df['id'] == \"HOBBIES_1_008_CA_1_evaluation\"]\n",
    "# df_id\n",
    "df_id.plot(x='d', y='sales_volume',kind='line',figsize=(30,15))"
   ]
  },
  {
   "cell_type": "code",
   "execution_count": null,
   "metadata": {
    "execution": {
     "iopub.execute_input": "2022-03-16T01:25:12.223752Z",
     "iopub.status.busy": "2022-03-16T01:25:12.223452Z",
     "iopub.status.idle": "2022-03-16T01:25:12.587036Z",
     "shell.execute_reply": "2022-03-16T01:25:12.585618Z",
     "shell.execute_reply.started": "2022-03-16T01:25:12.223712Z"
    }
   },
   "outputs": [],
   "source": [
    "# item_id：某个物品\n",
    "df_item_id=df[df['item_id'] == 107].groupby('d').sum()\n",
    "\n",
    "df_item_id['d_index'] = df_item_id.index\n",
    "df_item_id['d_index'] = df_item_id['d_index'].apply(str)\n",
    "\n",
    "num=[]\n",
    "for i in np.arange(0,df_item_id.shape[0]):\n",
    "    num.append(int(df_item_id['d_index'][i][2:]))\n",
    "\n",
    "df_item_id['num'] = num\n",
    "df_item_id.sort_values(by='num',ascending=True,inplace=True)\n",
    "\n",
    "df_item_id.plot(y='sales_volume',kind='line',figsize=(30,15))"
   ]
  },
  {
   "cell_type": "code",
   "execution_count": null,
   "metadata": {
    "execution": {
     "iopub.execute_input": "2022-03-16T01:25:12.589249Z",
     "iopub.status.busy": "2022-03-16T01:25:12.588906Z",
     "iopub.status.idle": "2022-03-16T01:25:13.537059Z",
     "shell.execute_reply": "2022-03-16T01:25:13.53577Z",
     "shell.execute_reply.started": "2022-03-16T01:25:12.58921Z"
    }
   },
   "outputs": [],
   "source": [
    "# dept_id：某个商品部门\n",
    "df_dept_id=df[df['dept_id'] == 1].groupby('d').sum()\n",
    "\n",
    "df_dept_id['d_index'] = df_dept_id.index\n",
    "df_dept_id['d_index'] = df_dept_id['d_index'].apply(str)\n",
    "\n",
    "num=[]\n",
    "for i in np.arange(0,df_dept_id.shape[0]):\n",
    "    num.append(int(df_dept_id['d_index'][i][2:]))\n",
    "\n",
    "df_dept_id['num'] = num\n",
    "df_dept_id.sort_values(by='num',ascending=True,inplace=True)\n",
    "\n",
    "df_dept_id.plot(y='sales_volume',kind='line',figsize=(30,15))"
   ]
  },
  {
   "cell_type": "code",
   "execution_count": null,
   "metadata": {
    "execution": {
     "iopub.execute_input": "2022-03-16T01:25:13.539372Z",
     "iopub.status.busy": "2022-03-16T01:25:13.539055Z",
     "iopub.status.idle": "2022-03-16T01:25:15.02811Z",
     "shell.execute_reply": "2022-03-16T01:25:15.026455Z",
     "shell.execute_reply.started": "2022-03-16T01:25:13.539338Z"
    }
   },
   "outputs": [],
   "source": [
    "# store_id：某个商店\n",
    "df_store_id=df[df['store_id'] == 1].groupby('d').sum()\n",
    "\n",
    "df_store_id['d_index'] = df_store_id.index\n",
    "df_store_id['d_index'] = df_store_id['d_index'].apply(str)\n",
    "\n",
    "num=[]\n",
    "for i in np.arange(0,df_store_id.shape[0]):\n",
    "    num.append(int(df_store_id['d_index'][i][2:]))\n",
    "\n",
    "df_store_id['num'] = num\n",
    "df_store_id.sort_values(by='num',ascending=True,inplace=True)\n",
    "\n",
    "df_store_id.plot(y='sales_volume',kind='line',figsize=(30,15))"
   ]
  },
  {
   "cell_type": "code",
   "execution_count": null,
   "metadata": {
    "execution": {
     "iopub.execute_input": "2022-03-16T01:46:34.166978Z",
     "iopub.status.busy": "2022-03-16T01:46:34.166584Z",
     "iopub.status.idle": "2022-03-16T01:46:45.37634Z",
     "shell.execute_reply": "2022-03-16T01:46:45.375414Z",
     "shell.execute_reply.started": "2022-03-16T01:46:34.166941Z"
    }
   },
   "outputs": [],
   "source": [
    "# cat_id：某个商品类别\n",
    "def cat(cat_id):\n",
    "    df_cat_id=df[df['cat_id'] == cat_id].groupby('d').sum()\n",
    "\n",
    "    df_cat_id['d_index'] = df_cat_id.index\n",
    "    df_cat_id['d_index'] = df_cat_id['d_index'].apply(str)\n",
    "\n",
    "    num=[]\n",
    "    for i in np.arange(0,df_cat_id.shape[0]):\n",
    "        num.append(int(df_cat_id['d_index'][i][2:]))\n",
    "\n",
    "    df_cat_id['num'] = num\n",
    "    df_cat_id.sort_values(by='num',ascending=True,inplace=True)\n",
    "    \n",
    "    return df_cat_id[::28]\n",
    "\n",
    "df_cat_id_0=cat(0)\n",
    "df_cat_id_1=cat(1)\n",
    "df_cat_id_2=cat(2)\n",
    "ax = df_cat_id_0.plot(y='sales_volume',kind='line',figsize=(30,15),color='r')\n",
    "df_cat_id_1.plot(ax=ax,y='sales_volume',kind='line',figsize=(30,15),color='g')\n",
    "df_cat_id_2.plot(ax=ax,y='sales_volume',kind='line',figsize=(30,15),color='b')\n",
    "plt.ylim(0,150000)"
   ]
  },
  {
   "cell_type": "code",
   "execution_count": null,
   "metadata": {
    "execution": {
     "iopub.execute_input": "2022-03-16T01:46:21.236791Z",
     "iopub.status.busy": "2022-03-16T01:46:21.236442Z",
     "iopub.status.idle": "2022-03-16T01:46:33.278685Z",
     "shell.execute_reply": "2022-03-16T01:46:33.277789Z",
     "shell.execute_reply.started": "2022-03-16T01:46:21.236755Z"
    }
   },
   "outputs": [],
   "source": [
    "# state_id：某个洲\n",
    "def state(state_id):\n",
    "    df_state_id=df[df['state_id'] == state_id].groupby('d').sum()\n",
    "\n",
    "    df_state_id['d_index'] = df_state_id.index\n",
    "    df_state_id['d_index'] = df_state_id['d_index'].apply(str)\n",
    "\n",
    "    num=[]\n",
    "    for i in np.arange(0,df_state_id.shape[0]):\n",
    "        num.append(int(df_state_id['d_index'][i][2:]))\n",
    "\n",
    "    df_state_id['num'] = num\n",
    "    df_state_id.sort_values(by='num',ascending=True,inplace=True)\n",
    "\n",
    "    return df_state_id[::28]\n",
    "\n",
    "df_state_id_0=state(0)\n",
    "df_state_id_1=state(1)\n",
    "df_state_id_2=state(2)\n",
    "ax = df_state_id_0.plot(y='sales_volume',kind='line',figsize=(30,15),color='r')\n",
    "df_state_id_1.plot(ax=ax,y='sales_volume',kind='line',figsize=(30,15),color='g')\n",
    "df_state_id_2.plot(ax=ax,y='sales_volume',kind='line',figsize=(30,15),color='b')\n",
    "plt.ylim(0,100000)"
   ]
  },
  {
   "cell_type": "code",
   "execution_count": null,
   "metadata": {
    "execution": {
     "iopub.execute_input": "2022-03-15T08:50:24.637332Z",
     "iopub.status.busy": "2022-03-15T08:50:24.636974Z"
    }
   },
   "outputs": [],
   "source": [
    "# 总销量\n",
    "df_all=df.groupby('d').sum()\n",
    "\n",
    "df_all['d_index'] = df_all.index\n",
    "df_all['d_index'] = df_all['d_index'].apply(str)\n",
    "\n",
    "num=[]\n",
    "for i in np.arange(0,df_all.shape[0]):\n",
    "    num.append(int(df_all['d_index'][i][2:]))\n",
    "\n",
    "df_all['num'] = num\n",
    "df_all.sort_values(by='num',ascending=True,inplace=True)\n",
    "df_all = df_all[::28]\n",
    "\n",
    "df_all.plot(y='sales_volume',kind='line',figsize=(30,15))"
   ]
  },
  {
   "cell_type": "code",
   "execution_count": null,
   "metadata": {},
   "outputs": [],
   "source": [
    "#change weekdays in regular order\n",
    "def f(row):\n",
    "    if (row+5)%7==0:\n",
    "        return 7\n",
    "    return (row+5)%7"
   ]
  },
  {
   "cell_type": "code",
   "execution_count": null,
   "metadata": {},
   "outputs": [],
   "source": [
    "df['wday'] = df['wday'].apply(f)\n",
    "df"
   ]
  },
  {
   "cell_type": "code",
   "execution_count": null,
   "metadata": {},
   "outputs": [],
   "source": [
    "A = df.groupby(\"date\")[\"sales\"].sum()"
   ]
  },
  {
   "cell_type": "code",
   "execution_count": null,
   "metadata": {},
   "outputs": [],
   "source": [
    "#total sales with trend\n",
    "import statsmodels.api as sm\n",
    "from statsmodels.tsa.seasonal import STL\n",
    "lowess = sm.nonparametric.lowess\n",
    "yest = lowess(A, A.index, frac=1./3.)[:,1]\n",
    "fig = plt.figure(figsize=(14, 8))\n",
    "plt.plot(A.index,A)\n",
    "plt.plot(A.index,yest,color = 'orange')\n",
    "plt.title(\"Total sales\")\n",
    "plt.savefig('Total_with_trend.jpg')\n",
    "plt.show()"
   ]
  },
  {
   "cell_type": "code",
   "execution_count": null,
   "metadata": {},
   "outputs": [],
   "source": [
    "import seaborn as sns\n",
    "sns.set_context({\"figure.figsize\":(12,8)})"
   ]
  },
  {
   "cell_type": "code",
   "execution_count": null,
   "metadata": {},
   "outputs": [],
   "source": [
    "values = []\n",
    "for i in range(1,8):\n",
    "    df_tmp = df[df['wday']==i]\n",
    "    B =  df_tmp.groupby(\"month\")['sales'].sum()\n",
    "    values.append(B.to_list())"
   ]
  },
  {
   "cell_type": "code",
   "execution_count": null,
   "metadata": {},
   "outputs": [],
   "source": [
    "#heatmap building\n",
    "x_ticks = ['Jan', 'Feb', 'Mar', 'Apr', 'May', 'Jun', 'Jul','Aug','Sep','Oct','Nov','Dec']\n",
    "y_ticks = ['Mon', 'Tue', 'Wed','Thur','Fri','Sat','Sun']  # 自定义横纵轴\n",
    "ax = sns.heatmap([[i/1000 for i in values[j]] for j in range(len(values))], cmap=\"YlGnBu\",xticklabels=x_ticks, yticklabels=y_ticks)\n",
    "ax.set_title('Heatmap of sales')  # 图标题\n",
    "ax.set_xlabel('months')  # x轴标题\n",
    "ax.set_ylabel('weekdays')\n",
    "plt.savefig('heatmap.jpg')\n",
    "plt.show()\n"
   ]
  },
  {
   "cell_type": "code",
   "execution_count": null,
   "metadata": {},
   "outputs": [],
   "source": [
    "for i in range(10):\n",
    "    df_tmp = df[df['store_id']==i]['id']\n",
    "    print(i,end = \" \")\n",
    "    print(df_tmp.head)"
   ]
  },
  {
   "cell_type": "code",
   "execution_count": null,
   "metadata": {},
   "outputs": [],
   "source": [
    "#0-3 CA\n",
    "#4-6 TX\n",
    "#7-9 WI"
   ]
  },
  {
   "cell_type": "code",
   "execution_count": null,
   "metadata": {},
   "outputs": [],
   "source": [
    "#state sales with trend\n",
    "from sklearn import preprocessing\n",
    "dict = [[0,1,2,3],[4,5,6],[7,8,9]]\n",
    "df_CA = df[df['store_id']<4]\n",
    "C = df_CA.groupby('date')['sales'].sum()\n",
    "yest1 = lowess(C, C.index, frac=1./3.)[:,1]\n",
    "fig = plt.figure(figsize=(14, 8))\n",
    "plt.plot(C.index,C,color = 'green')\n",
    "plt.plot(C.index,yest1,color = 'black')\n",
    "plt.title(\"CA sales\")\n",
    "plt.savefig('CA_with_trend.jpg')\n",
    "plt.show()\n",
    "\n",
    "\n",
    "    #break\n",
    "    "
   ]
  },
  {
   "cell_type": "code",
   "execution_count": null,
   "metadata": {},
   "outputs": [],
   "source": [
    "df_TX = df[(df['store_id']>=4)&(df['store_id']<7)]\n",
    "T = df_TX.groupby('date')['sales'].sum()\n",
    "yest1 = lowess(T, T.index, frac=1./3.)[:,1]\n",
    "fig = plt.figure(figsize=(14, 8))\n",
    "plt.plot(T.index,T,color = 'blue')\n",
    "plt.plot(T.index,yest1,color = 'black')\n",
    "plt.title(\"TX sales\")\n",
    "plt.savefig('TX_with_trend.jpg')\n",
    "plt.show()"
   ]
  },
  {
   "cell_type": "code",
   "execution_count": null,
   "metadata": {},
   "outputs": [],
   "source": [
    "df_WI = df[(df['store_id']>=7)]\n",
    "W = df_WI.groupby('date')['sales'].sum()\n",
    "yest1 = lowess(W, W.index, frac=1./3.)[:,1]\n",
    "fig = plt.figure(figsize=(14, 8))\n",
    "plt.plot(W.index,W,color = 'grey')\n",
    "plt.plot(W.index,yest1,color = 'black')\n",
    "plt.title(\"WI sales\")\n",
    "plt.savefig('WI_with_trend.jpg')\n",
    "plt.show()"
   ]
  },
  {
   "cell_type": "code",
   "execution_count": null,
   "metadata": {},
   "outputs": [],
   "source": [
    "#sales go with weekdays\n",
    "from sklearn import preprocessing\n",
    "\n",
    "CA_W = preprocessing.scale(df_CA.groupby('wday')['sales'].sum())\n",
    "TX_W = preprocessing.scale(df_TX.groupby('wday')['sales'].sum())\n",
    "WI_W = preprocessing.scale(df_WI.groupby('wday')['sales'].sum())\n",
    "x_axis = ['Mon', 'Tue', 'Wed','Thur','Fri','Sat','Sun']\n",
    "fig = plt.figure(figsize=(14, 8))\n",
    "plt.plot(x_axis,CA_W,color = 'green',label = 'CA')\n",
    "plt.plot(x_axis,TX_W,color = 'blue', label = 'TX')\n",
    "plt.plot(x_axis,WI_W,color = 'grey', label = 'WI')\n",
    "plt.title(\"Total Sales by Weekdays\")\n",
    "plt.legend()\n",
    "plt.savefig('Total_by_wday.jpg')\n",
    "plt.show()"
   ]
  },
  {
   "cell_type": "code",
   "execution_count": null,
   "metadata": {},
   "outputs": [],
   "source": [
    "#sales go with months the followings are similar\n",
    "CA_M = preprocessing.scale(df_CA.groupby('month')['sales'].sum())\n",
    "TX_M = preprocessing.scale(df_TX.groupby('month')['sales'].sum())\n",
    "WI_M = preprocessing.scale(df_WI.groupby('month')['sales'].sum())\n",
    "x_axis = ['Jan', 'Feb', 'Mar', 'Apr', 'May', 'Jun', 'Jul','Aug','Sep','Oct','Nov','Dec']\n",
    "fig = plt.figure(figsize=(14, 8))\n",
    "plt.plot(x_axis,CA_M,color = 'green',label = 'CA')\n",
    "plt.plot(x_axis,TX_M,color = 'blue',label = 'TX')\n",
    "plt.plot(x_axis,WI_M,color = 'grey',label = 'WI')\n",
    "plt.title(\"Total Sales by Months\")\n",
    "plt.legend()\n",
    "plt.savefig('Total_by_mon.jpg')\n",
    "plt.show()"
   ]
  },
  {
   "cell_type": "code",
   "execution_count": null,
   "metadata": {},
   "outputs": [],
   "source": []
  },
  {
   "cell_type": "code",
   "execution_count": null,
   "metadata": {},
   "outputs": [],
   "source": [
    "CA_W = preprocessing.scale(df_CA[df_CA['cat_id']==0].groupby('wday')['sales'].sum())\n",
    "TX_W = preprocessing.scale(df_TX[df_TX['cat_id']==0].groupby('wday')['sales'].sum())\n",
    "WI_W = preprocessing.scale(df_WI[df_WI['cat_id']==0].groupby('wday')['sales'].sum())\n",
    "x_axis = ['Mon', 'Tue', 'Wed','Thur','Fri','Sat','Sun']\n",
    "fig = plt.figure(figsize=(14, 8))\n",
    "plt.plot(x_axis,CA_W,color = 'green',label = 'CA')\n",
    "plt.plot(x_axis,TX_W,color = 'blue', label = 'TX')\n",
    "plt.plot(x_axis,WI_W,color = 'grey', label = 'WI')\n",
    "plt.title(\"Hobbies Sales by Weekdays\")\n",
    "plt.legend()\n",
    "plt.savefig('Hobbies_by_wday.jpg')\n",
    "plt.show()"
   ]
  },
  {
   "cell_type": "code",
   "execution_count": null,
   "metadata": {},
   "outputs": [],
   "source": [
    "CA_W = preprocessing.scale(df_CA[df_CA['cat_id']==1].groupby('wday')['sales'].sum())\n",
    "TX_W = preprocessing.scale(df_TX[df_TX['cat_id']==1].groupby('wday')['sales'].sum())\n",
    "WI_W = preprocessing.scale(df_WI[df_WI['cat_id']==1].groupby('wday')['sales'].sum())\n",
    "x_axis = ['Mon', 'Tue', 'Wed','Thur','Fri','Sat','Sun']\n",
    "fig = plt.figure(figsize=(14, 8))\n",
    "plt.plot(x_axis,CA_W,color = 'green',label = 'CA')\n",
    "plt.plot(x_axis,TX_W,color = 'blue', label = 'TX')\n",
    "plt.plot(x_axis,WI_W,color = 'grey', label = 'WI')\n",
    "plt.title(\"Household Sales by Weekdays\")\n",
    "plt.legend()\n",
    "plt.savefig('Household_by_wday.jpg')\n",
    "plt.show()"
   ]
  },
  {
   "cell_type": "code",
   "execution_count": null,
   "metadata": {},
   "outputs": [],
   "source": [
    "CA_W = preprocessing.scale(df_CA[df_CA['cat_id']==2].groupby('wday')['sales'].sum())\n",
    "TX_W = preprocessing.scale(df_TX[df_TX['cat_id']==2].groupby('wday')['sales'].sum())\n",
    "WI_W = preprocessing.scale(df_WI[df_WI['cat_id']==2].groupby('wday')['sales'].sum())\n",
    "x_axis = ['Mon', 'Tue', 'Wed','Thur','Fri','Sat','Sun']\n",
    "fig = plt.figure(figsize=(14, 8))\n",
    "plt.plot(x_axis,CA_W,color = 'green',label = 'CA')\n",
    "plt.plot(x_axis,TX_W,color = 'blue', label = 'TX')\n",
    "plt.plot(x_axis,WI_W,color = 'grey', label = 'WI')\n",
    "plt.title(\"Foods Sales by Weekdays\")\n",
    "plt.legend()\n",
    "plt.savefig('Foods_by_wday.jpg')\n",
    "plt.show()"
   ]
  },
  {
   "cell_type": "code",
   "execution_count": null,
   "metadata": {},
   "outputs": [],
   "source": [
    "CA_M = preprocessing.scale(df_CA[df_CA['cat_id']==0].groupby('month')['sales'].sum())\n",
    "TX_M = preprocessing.scale(df_TX[df_TX['cat_id']==0].groupby('month')['sales'].sum())\n",
    "WI_M = preprocessing.scale(df_WI[df_WI['cat_id']==0].groupby('month')['sales'].sum())\n",
    "x_axis = ['Jan', 'Feb', 'Mar', 'Apr', 'May', 'Jun', 'Jul','Aug','Sep','Oct','Nov','Dec']\n",
    "fig = plt.figure(figsize=(14, 8))\n",
    "plt.plot(x_axis,CA_M,color = 'green',label = 'CA')\n",
    "plt.plot(x_axis,TX_M,color = 'blue',label = 'TX')\n",
    "plt.plot(x_axis,WI_M,color = 'grey',label = 'WI')\n",
    "plt.title(\"Hobbies Sales by Months\")\n",
    "plt.legend()\n",
    "plt.savefig('Hobbies_by_month.jpg')\n",
    "plt.show()"
   ]
  },
  {
   "cell_type": "code",
   "execution_count": null,
   "metadata": {},
   "outputs": [],
   "source": [
    "CA_M = preprocessing.scale(df_CA[df_CA['cat_id']==1].groupby('month')['sales'].sum())\n",
    "TX_M = preprocessing.scale(df_TX[df_TX['cat_id']==1].groupby('month')['sales'].sum())\n",
    "WI_M = preprocessing.scale(df_WI[df_WI['cat_id']==1].groupby('month')['sales'].sum())\n",
    "x_axis = ['Jan', 'Feb', 'Mar', 'Apr', 'May', 'Jun', 'Jul','Aug','Sep','Oct','Nov','Dec']\n",
    "fig = plt.figure(figsize=(14, 8))\n",
    "plt.plot(x_axis,CA_M,color = 'green',label = 'CA')\n",
    "plt.plot(x_axis,TX_M,color = 'blue',label = 'TX')\n",
    "plt.plot(x_axis,WI_M,color = 'grey',label = 'WI')\n",
    "plt.title(\"Household Sales by Months\")\n",
    "plt.legend()\n",
    "plt.savefig('Household_by_month.jpg')\n",
    "plt.show()"
   ]
  },
  {
   "cell_type": "code",
   "execution_count": null,
   "metadata": {},
   "outputs": [],
   "source": [
    "CA_M = preprocessing.scale(df_CA[df_CA['cat_id']==2].groupby('month')['sales'].sum())\n",
    "TX_M = preprocessing.scale(df_TX[df_TX['cat_id']==2].groupby('month')['sales'].sum())\n",
    "WI_M = preprocessing.scale(df_WI[df_WI['cat_id']==2].groupby('month')['sales'].sum())\n",
    "x_axis = ['Jan', 'Feb', 'Mar', 'Apr', 'May', 'Jun', 'Jul','Aug','Sep','Oct','Nov','Dec']\n",
    "fig = plt.figure(figsize=(14, 8))\n",
    "plt.plot(x_axis,CA_M,color = 'green',label = 'CA')\n",
    "plt.plot(x_axis,TX_M,color = 'blue',label = 'TX')\n",
    "plt.plot(x_axis,WI_M,color = 'grey',label = 'WI')\n",
    "plt.title(\"Foods Sales by Months\")\n",
    "plt.legend()\n",
    "plt.savefig('Foods_by_month.jpg')\n",
    "plt.show()"
   ]
  },
  {
   "cell_type": "code",
   "execution_count": null,
   "metadata": {},
   "outputs": [],
   "source": []
  },
  {
   "cell_type": "code",
   "execution_count": null,
   "metadata": {},
   "outputs": [],
   "source": [
    "# state_id: 0:CA, 1:TX, 2:WI\n",
    "# cat_id: 0:hobbies, 1:HOUSEHOLD  2:FOODS\n",
    "# event to different kinds of category sales\n",
    "# event to different state sales\n",
    "# 对每个类别每天的销售加和汇总\n",
    "# 对每个州每天的销售加和汇总\n",
    "\n",
    "df_event_1 = df[(df[\"event_name_1\"]==0) & (df[\"event_name_2\"]==0)][[\"id\", \"state_id\", \"cat_id\", \"date\", \"sales\"]]\n",
    "df_event_2 = df[(df[\"event_name_1\"]!=0) | (df[\"event_name_2\"]!=0)][[\"id\", \"state_id\", \"cat_id\", \"date\", \"sales\"]]\n",
    "df_event_cat = df_event_1.groupby([\"cat_id\",\"date\"])[\"sales\"].mean()\n",
    "df_event_state = df_event_1.groupby([\"state_id\",\"date\"])[\"sales\"].mean()\n",
    "df_event_cat_withevent = df_event_2.groupby([\"cat_id\",\"date\"])[\"sales\"].mean()\n",
    "df_event_state_withevent = df_event_2.groupby([\"state_id\",\"date\"])[\"sales\"].mean()\n",
    "\n",
    "# SNAP to different state sales\n",
    "df_CA = df[df[\"state_id\"]==0][[\"id\", \"state_id\", \"date\", \"sales\", \"snap_CA\"]].groupby([\"state_id\",\"date\",\"snap_CA\"])[\"sales\"].mean()\n",
    "df_TX = df[df[\"state_id\"]==1][[\"id\", \"state_id\", \"date\", \"sales\", \"snap_TX\"]].groupby([\"state_id\",\"date\",\"snap_TX\"])[\"sales\"].mean()\n",
    "df_WI = df[df[\"state_id\"]==2][[\"id\", \"state_id\", \"date\", \"sales\", \"snap_WI\"]].groupby([\"state_id\",\"date\",\"snap_WI\"])[\"sales\"].mean()\n",
    "df_CA[\"snap_CA\"] = df_CA[\"snap_CA\"].astype(int)\n",
    "df_TX[\"snap_TX\"] = df_TX[\"snap_TX\"].astype(int)\n",
    "df_WI[\"snap_WI\"] = df_WI[\"snap_WI\"].astype(int)\n",
    "\n",
    "df_cat_snap_0 = df[df[\"cat_id\"] == 0][[\"date\",\"sales\",\"snap_CA\",\"snap_TX\",\"snap_WI\"]]\n",
    "df_cat_snap_1 = df[df[\"cat_id\"] == 1][[\"date\",\"sales\",\"snap_CA\",\"snap_TX\",\"snap_WI\"]]\n",
    "df_cat_snap_2 = df[df[\"cat_id\"] == 2][[\"date\",\"sales\",\"snap_CA\",\"snap_TX\",\"snap_WI\"]]\n",
    "df_cat_snap_0[\"is_snap_day\"] = df_cat_snap_0[\"snap_CA\"]+df_cat_snap_0[\"snap_TX\"]+df_cat_snap_0[\"snap_WI\"]\n",
    "df_cat_snap_1[\"is_snap_day\"] = df_cat_snap_1[\"snap_CA\"]+df_cat_snap_1[\"snap_TX\"]+df_cat_snap_1[\"snap_WI\"]\n",
    "df_cat_snap_2[\"is_snap_day\"] = df_cat_snap_2[\"snap_CA\"]+df_cat_snap_2[\"snap_TX\"]+df_cat_snap_2[\"snap_WI\"]\n",
    "df_cat_snap_0 = df_cat_snap_0.groupby([\"date\"])[\"sales\",\"is_snap_day\"].mean()\n",
    "df_cat_snap_1 = df_cat_snap_1.groupby([\"date\"])[\"sales\",\"is_snap_day\"].mean()\n",
    "df_cat_snap_2 = df_cat_snap_2.groupby([\"date\"])[\"sales\",\"is_snap_day\"].mean()"
   ]
  },
  {
   "cell_type": "code",
   "execution_count": null,
   "metadata": {},
   "outputs": [],
   "source": [
    "df_event_cat_0 = df_event_cat\n",
    "df_event_cat_1 = df_event_cat_withevent\n",
    "df_event_state_0 = df_event_sate\n",
    "df_event_state_1 = df_event_sate_withevent\n",
    "df_event_cat_0[\"is_event_day\"] = 0\n",
    "df_event_state_0[\"is_event_day\"] = 0\n",
    "df_event_cat_1[\"is_event_day\"] = 1\n",
    "df_event_state_1[\"is_event_day\"] = 1\n",
    "\n",
    "df_event_cat_0[\"date\"] = pd.to_datetime(df_event_cat_0[\"date\"])\n",
    "df_event_cat_1[\"date\"] = pd.to_datetime(df_event_cat_1[\"date\"])\n",
    "df_event_state_1[\"date\"] = pd.to_datetime(df_event_state_1[\"date\"])\n",
    "df_event_state_0[\"date\"] = pd.to_datetime(df_event_state_0[\"date\"])\n",
    "df_event_cat = df_event_cat_0.append(df_event_cat_1).reset_index(drop = True)\n",
    "df_event_state = df_event_state_0.append(df_event_state_1).reset_index(drop = True)\n",
    "\n",
    "df_event_cat.sort_values(by = \"date\")\n",
    "df_event_state.sort_values(by = \"date\")\n",
    "\n",
    "df_event_cat_all_0 = df_event_cat[df_event_cat[\"cat_id\"]==0]\n",
    "df_event_cat_all_1 = df_event_cat[df_event_cat[\"cat_id\"]==1]\n",
    "df_event_cat_all_2 = df_event_cat[df_event_cat[\"cat_id\"]==2]\n",
    "df_event_state_all_0 = df_event_state[df_event_state[\"state_id\"]==0]\n",
    "df_event_state_all_1 = df_event_state[df_event_state[\"state_id\"]==1]\n",
    "df_event_state_all_2 = df_event_state[df_event_state[\"state_id\"]==2]\n",
    "\n",
    "fig = px.line(df_event_cat_all_0, x='date', y=\"sales\", color = \"is_event_day\", title = \"HOBBIES\")\n",
    "fig.show()\n",
    "fig = px.line(df_event_cat_all_1, x='date', y=\"sales\", color = \"is_event_day\", title = \"HOUSEHOLD\")\n",
    "fig.show()\n",
    "fig = px.line(df_event_cat_all_2, x='date', y=\"sales\", color = \"is_event_day\", title = \"FOODS\")\n",
    "fig.show()\n",
    "\n",
    "fig = px.line(df_event_state_all_0, x='date', y=\"sales\", color = \"is_event_day\", title = \"CA\")\n",
    "fig.show()\n",
    "fig = px.line(df_event_state_all_1, x='date', y=\"sales\", color = \"is_event_day\", title = \"TX\")\n",
    "fig.show()\n",
    "fig = px.line(df_event_state_all_2, x='date', y=\"sales\", color = \"is_event_day\", title = \"WI\")\n",
    "fig.show()"
   ]
  },
  {
   "cell_type": "code",
   "execution_count": null,
   "metadata": {},
   "outputs": [],
   "source": [
    "df_snap_cat0 = df_cat_snap_0\n",
    "df_snap_cat1 = df_cat_snap_1\n",
    "df_snap_cat2 = df_cat_snap_2\n",
    "\n",
    "df_snap_cat0[\"date\"] = pd.to_datetime(df_snap_cat0[\"date\"])\n",
    "df_snap_cat1[\"date\"] = pd.to_datetime(df_snap_cat1[\"date\"])\n",
    "df_snap_cat2[\"date\"] = pd.to_datetime(df_snap_cat2[\"date\"])\n",
    "df_snap_cat0.sort_values(\"date\")\n",
    "df_snap_cat1.sort_values(\"date\")\n",
    "df_snap_cat2.sort_values(\"date\")\n",
    "\n",
    "fig = px.line(df_CA, x='date', y=\"sales\", color = \"snap_CA\", title = \"CA\")\n",
    "fig.show()\n",
    "fig = px.line(df_TX, x='date', y=\"sales\", color = \"snap_TX\", title = \"TX\")\n",
    "fig.show()\n",
    "fig = px.line(df_WI, x='date', y=\"sales\", color = \"snap_WI\", title = \"WI\")\n",
    "fig.show()\n",
    "fig = px.line(df_snap_cat0, x='date', y=\"sales\", color = \"is_snap_day1\", title = \"HOBBIES\")\n",
    "fig.show()\n",
    "fig = px.line(df_snap_cat1, x='date', y=\"sales\", color = \"is_snap_day1\", title = \"HOUSEHOLD\")\n",
    "fig.show()\n",
    "fig = px.line(df_snap_cat2, x='date', y=\"sales\", color = \"is_snap_day1\", title = \"FOODS\")\n",
    "fig.show()"
   ]
  },
  {
   "cell_type": "markdown",
   "metadata": {},
   "source": [
    "# 训练"
   ]
  },
  {
   "cell_type": "code",
   "execution_count": null,
   "metadata": {
    "execution": {
     "iopub.execute_input": "2022-03-16T02:54:35.242138Z",
     "iopub.status.busy": "2022-03-16T02:54:35.241834Z",
     "iopub.status.idle": "2022-03-16T02:54:58.042771Z",
     "shell.execute_reply": "2022-03-16T02:54:58.041971Z",
     "shell.execute_reply.started": "2022-03-16T02:54:35.242106Z"
    }
   },
   "outputs": [],
   "source": [
    "df.dropna(inplace = True)\n",
    "df.shape"
   ]
  },
  {
   "cell_type": "code",
   "execution_count": null,
   "metadata": {
    "execution": {
     "iopub.execute_input": "2022-03-16T02:54:58.044635Z",
     "iopub.status.busy": "2022-03-16T02:54:58.044359Z",
     "iopub.status.idle": "2022-03-16T02:54:58.959712Z",
     "shell.execute_reply": "2022-03-16T02:54:58.95894Z",
     "shell.execute_reply.started": "2022-03-16T02:54:58.04458Z"
    }
   },
   "outputs": [],
   "source": [
    "cat_feats = ['item_id', 'dept_id','store_id', 'cat_id', 'state_id'] + [\"event_name_1\", \"event_name_2\", \"event_type_1\", \"event_type_2\"]\n",
    "useless_cols = [\"id\", \"date\", \"sales\",\"d\", \"wm_yr_wk\", \"weekday\"]\n",
    "train_cols = df.columns[~df.columns.isin(useless_cols)]\n",
    "X_train = df[train_cols]\n",
    "y_train = df[\"sales\"]"
   ]
  },
  {
   "cell_type": "code",
   "execution_count": null,
   "metadata": {
    "execution": {
     "iopub.execute_input": "2022-03-16T02:54:58.961409Z",
     "iopub.status.busy": "2022-03-16T02:54:58.961006Z",
     "iopub.status.idle": "2022-03-16T02:55:23.187893Z",
     "shell.execute_reply": "2022-03-16T02:55:23.186998Z",
     "shell.execute_reply.started": "2022-03-16T02:54:58.961367Z"
    }
   },
   "outputs": [],
   "source": [
    "%%time\n",
    "\n",
    "np.random.seed(5013)\n",
    "\n",
    "fake_valid_inds = np.random.choice(X_train.index.values, 2_000_000, replace = False)\n",
    "train_inds = np.setdiff1d(X_train.index.values, fake_valid_inds)\n",
    "train_data = lgb.Dataset(X_train.loc[train_inds] , label = y_train.loc[train_inds], \n",
    "                         categorical_feature=cat_feats, free_raw_data=False)\n",
    "fake_valid_data = lgb.Dataset(X_train.loc[fake_valid_inds], label = y_train.loc[fake_valid_inds],\n",
    "                              categorical_feature=cat_feats,\n",
    "                 free_raw_data=False)"
   ]
  },
  {
   "cell_type": "code",
   "execution_count": null,
   "metadata": {
    "execution": {
     "iopub.execute_input": "2022-03-16T02:55:23.190978Z",
     "iopub.status.busy": "2022-03-16T02:55:23.190694Z",
     "iopub.status.idle": "2022-03-16T02:55:23.607206Z",
     "shell.execute_reply": "2022-03-16T02:55:23.606169Z",
     "shell.execute_reply.started": "2022-03-16T02:55:23.190946Z"
    }
   },
   "outputs": [],
   "source": [
    "del df, X_train, y_train, fake_valid_inds,train_inds ; gc.collect()"
   ]
  },
  {
   "cell_type": "code",
   "execution_count": null,
   "metadata": {
    "execution": {
     "iopub.execute_input": "2022-03-16T02:55:23.609448Z",
     "iopub.status.busy": "2022-03-16T02:55:23.609165Z",
     "iopub.status.idle": "2022-03-16T02:55:23.616167Z",
     "shell.execute_reply": "2022-03-16T02:55:23.614815Z",
     "shell.execute_reply.started": "2022-03-16T02:55:23.609415Z"
    }
   },
   "outputs": [],
   "source": [
    "params = {\n",
    "    \"objective\" : \"poisson\",\n",
    "    \"metric\" :\"rmse\",\n",
    "    \"force_row_wise\" : True,\n",
    "    \"learning_rate\" : 0.075,\n",
    "    \"sub_row\" : 0.75,\n",
    "    \"bagging_freq\" : 1,\n",
    "    \"lambda_l2\" : 0.1,\n",
    "    \"metric\": [\"rmse\"],\n",
    "    'verbosity': 1,\n",
    "    'num_iterations' : 1500,\n",
    "    'num_leaves': 128,\n",
    "    \"min_data_in_leaf\": 100,\n",
    "}"
   ]
  },
  {
   "cell_type": "code",
   "execution_count": null,
   "metadata": {
    "execution": {
     "iopub.execute_input": "2022-03-16T02:55:23.619936Z",
     "iopub.status.busy": "2022-03-16T02:55:23.619675Z",
     "iopub.status.idle": "2022-03-16T05:14:55.776868Z",
     "shell.execute_reply": "2022-03-16T05:14:55.775156Z",
     "shell.execute_reply.started": "2022-03-16T02:55:23.619908Z"
    }
   },
   "outputs": [],
   "source": [
    "%%time\n",
    "\n",
    "m_lgb = lgb.train(params, train_data, valid_sets = [fake_valid_data], verbose_eval=20)\n",
    "\n",
    "m_lgb.save_model(\"model.lgb\") "
   ]
  },
  {
   "cell_type": "markdown",
   "metadata": {},
   "source": [
    "# 测试"
   ]
  },
  {
   "cell_type": "code",
   "execution_count": null,
   "metadata": {
    "execution": {
     "iopub.execute_input": "2022-03-16T07:42:01.515518Z",
     "iopub.status.busy": "2022-03-16T07:42:01.515142Z",
     "iopub.status.idle": "2022-03-16T08:28:43.644391Z",
     "shell.execute_reply": "2022-03-16T08:28:43.64292Z",
     "shell.execute_reply.started": "2022-03-16T07:42:01.515487Z"
    }
   },
   "outputs": [],
   "source": [
    "%%time\n",
    "\n",
    "fday = datetime(2016,4, 25) + timedelta(days= 28)\n",
    "alphas = [1]\n",
    "weights = [1/len(alphas)]*len(alphas)\n",
    "sub = 0.\n",
    "\n",
    "for icount, (alpha, weight) in enumerate(zip(alphas, weights)):\n",
    "\n",
    "    te = create_dt(False)\n",
    "    cols = [f\"F{i}\" for i in range(1,29)]\n",
    "\n",
    "    for tdelta in range(0, 28):\n",
    "        day = fday + timedelta(days=tdelta)\n",
    "        print(tdelta, day)\n",
    "        tst = te[(te.date >= day - timedelta(days=57)) & (te.date <= day)].copy()\n",
    "        create_fea(tst)\n",
    "        tst = tst.loc[tst.date == day , train_cols]\n",
    "        te.loc[te.date == day, \"sales\"] = alpha*m_lgb.predict(tst) \n",
    "\n",
    "    te_sub = te.loc[te.date >= fday, [\"id\", \"sales\"]].copy()\n",
    "    te_sub[\"F\"] = [f\"F{rank}\" for rank in te_sub.groupby(\"id\")[\"id\"].cumcount()+1]\n",
    "    te_sub = te_sub.set_index([\"id\", \"F\" ]).unstack()[\"sales\"][cols].reset_index()\n",
    "    te_sub.fillna(0., inplace = True)\n",
    "    te_sub.sort_values(\"id\", inplace = True)\n",
    "    te_sub.reset_index(drop=True, inplace = True)\n",
    "    te_sub.to_csv(f\"submission_{icount}.csv\",index=False)\n",
    "    if icount == 0 :\n",
    "        sub = te_sub\n",
    "        sub[cols] *= weight\n",
    "    else:\n",
    "        sub[cols] += te_sub[cols]*weight\n",
    "    print(icount, alpha, weight)\n",
    "\n",
    "sub2 = pd.read_csv(\"../input/m5-forecasting-accuracy/sales_train_evaluation.csv\", usecols = [\"id\"]+ [f\"d_{i}\" for i in range(1914, 1914+28)])\n",
    "sub2.rename(columns = {f\"d_{i}\": f'F{i-1913}' for i in range(1914, 1914+28)}, inplace=True)\n",
    "sub2[\"id\"] = sub2[\"id\"].str.replace(\"evaluation\", \"validation\")\n",
    "\n",
    "sub = pd.concat([sub, sub2], axis=0, sort=False)\n",
    "sub.to_csv(\"submission.csv\",index=False)\n",
    "print(sub.shape)"
   ]
  },
  {
   "cell_type": "code",
   "execution_count": null,
   "metadata": {
    "execution": {
     "iopub.execute_input": "2022-03-16T08:28:43.647059Z",
     "iopub.status.busy": "2022-03-16T08:28:43.646673Z",
     "iopub.status.idle": "2022-03-16T08:28:43.683665Z",
     "shell.execute_reply": "2022-03-16T08:28:43.683001Z",
     "shell.execute_reply.started": "2022-03-16T08:28:43.64703Z"
    }
   },
   "outputs": [],
   "source": [
    "sub.head(10)"
   ]
  }
 ],
 "metadata": {
  "kernelspec": {
   "display_name": "Python 3",
   "language": "python",
   "name": "python3"
  },
  "language_info": {
   "codemirror_mode": {
    "name": "ipython",
    "version": 3
   },
   "file_extension": ".py",
   "mimetype": "text/x-python",
   "name": "python",
   "nbconvert_exporter": "python",
   "pygments_lexer": "ipython3",
   "version": "3.7.4"
  }
 },
 "nbformat": 4,
 "nbformat_minor": 4
}
