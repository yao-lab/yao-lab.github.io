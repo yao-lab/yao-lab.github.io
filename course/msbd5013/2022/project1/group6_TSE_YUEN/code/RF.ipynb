{
 "cells": [
  {
   "cell_type": "code",
   "execution_count": 22,
   "id": "bc0be190-5cd1-4dcb-9ab0-66718ef2fc97",
   "metadata": {},
   "outputs": [],
   "source": [
    "from sklearn.datasets import make_classification\n",
    "from sklearn.model_selection import train_test_split, GridSearchCV\n",
    "from sklearn.pipeline import Pipeline\n",
    "from lightgbm import LGBMClassifier\n",
    "from sklearn.metrics import roc_auc_score, roc_curve\n",
    "import pandas as pd\n",
    "from umap.umap_ import UMAP\n",
    "from tqdm import tqdm\n",
    "import numpy as np\n",
    "from sklearn.preprocessing import MinMaxScaler, StandardScaler\n",
    "import time\n",
    "import warnings\n",
    "from sklearn.ensemble import RandomForestClassifier\n",
    "from sklearn.model_selection import cross_validate\n",
    "warnings.simplefilter('ignore', UserWarning)"
   ]
  },
  {
   "cell_type": "code",
   "execution_count": 2,
   "id": "a86b48c1-b8bb-4834-ba72-160dc1bb8225",
   "metadata": {},
   "outputs": [],
   "source": [
    "# reduce memory\n",
    "def reduce_mem(df):\n",
    "    starttime = time.time()\n",
    "    numerics = ['int16', 'int32', 'int64', 'float16', 'float32', 'float64']\n",
    "    start_mem = df.memory_usage().sum() / 1024**2\n",
    "    for col in df.columns:\n",
    "        col_type = df[col].dtypes\n",
    "        if col_type in numerics:\n",
    "            c_min = df[col].min()\n",
    "            c_max = df[col].max()\n",
    "            if pd.isnull(c_min) or pd.isnull(c_max):\n",
    "                continue\n",
    "            if str(col_type)[:3] == 'int':\n",
    "                if c_min > np.iinfo(np.int8).min and c_max < np.iinfo(np.int8).max:\n",
    "                    df[col] = df[col].astype(np.int8)\n",
    "                elif c_min > np.iinfo(np.int16).min and c_max < np.iinfo(np.int16).max:\n",
    "                    df[col] = df[col].astype(np.int16)\n",
    "                elif c_min > np.iinfo(np.int32).min and c_max < np.iinfo(np.int32).max:\n",
    "                    df[col] = df[col].astype(np.int32)\n",
    "                elif c_min > np.iinfo(np.int64).min and c_max < np.iinfo(np.int64).max:\n",
    "                    df[col] = df[col].astype(np.int64)\n",
    "            else:\n",
    "                if c_min > np.finfo(np.float16).min and c_max < np.finfo(np.float16).max:\n",
    "                    df[col] = df[col].astype(np.float16)\n",
    "                elif c_min > np.finfo(np.float32).min and c_max < np.finfo(np.float32).max:\n",
    "                    df[col] = df[col].astype(np.float32)\n",
    "                else:\n",
    "                    df[col] = df[col].astype(np.float64)\n",
    "    end_mem = df.memory_usage().sum() / 1024**2\n",
    "    print('-- Mem. usage decreased to {:5.2f} Mb ({:.1f}% reduction),time spend:{:2.2f} min'.format(end_mem,\n",
    "                                                                                                           100*(start_mem-end_mem)/start_mem,\n",
    "                                                                                                           (time.time()-starttime)/60))\n",
    "    return df"
   ]
  },
  {
   "cell_type": "code",
   "execution_count": 3,
   "id": "aecf7f45-2b44-4134-a67a-c73ad9ada6ca",
   "metadata": {},
   "outputs": [
    {
     "name": "stdout",
     "output_type": "stream",
     "text": [
      "-- Mem. usage decreased to 521.42 Mb (72.1% reduction),time spend:1.23 min\n"
     ]
    },
    {
     "name": "stderr",
     "output_type": "stream",
     "text": [
      "  0%|          | 0/795 [00:00<?, ?it/s]<ipython-input-3-dcd37d28ee5d>:7: SettingWithCopyWarning: \n",
      "A value is trying to be set on a copy of a slice from a DataFrame.\n",
      "Try using .loc[row_indexer,col_indexer] = value instead\n",
      "\n",
      "See the caveats in the documentation: https://pandas.pydata.org/pandas-docs/stable/user_guide/indexing.html#returning-a-view-versus-a-copy\n",
      "  X[col] = X[col].replace([np.inf, -np.inf], np.nan)\n",
      "<ipython-input-3-dcd37d28ee5d>:9: SettingWithCopyWarning: \n",
      "A value is trying to be set on a copy of a slice from a DataFrame.\n",
      "Try using .loc[row_indexer,col_indexer] = value instead\n",
      "\n",
      "See the caveats in the documentation: https://pandas.pydata.org/pandas-docs/stable/user_guide/indexing.html#returning-a-view-versus-a-copy\n",
      "  X[col] = X[col].fillna(0)\n",
      "100%|██████████| 795/795 [00:02<00:00, 286.31it/s]\n"
     ]
    }
   ],
   "source": [
    "train_df = reduce_mem(pd.read_csv('train.csv'))\n",
    "# fillna with median\n",
    "\n",
    "feats = [f for f in train_df.columns if f not in ['TARGET','SK_ID_CURR','SK_ID_BUREAU','SK_ID_PREV','index']]\n",
    "X, y = train_df[feats], train_df['TARGET']\n",
    "for col in tqdm(X, total=len(X.columns)):\n",
    "    X[col] = X[col].replace([np.inf, -np.inf], np.nan) \n",
    "    np_array = X[col].to_numpy()\n",
    "    X[col] = X[col].fillna(0)\n",
    "    \n",
    "scaler = MinMaxScaler()\n",
    "scaler.fit(X)\n",
    "x = scaler.transform(X)\n",
    "X = pd.DataFrame(x, columns = X.columns)\n",
    "del train_df"
   ]
  },
  {
   "cell_type": "code",
   "execution_count": 27,
   "id": "50150346-1204-4e9a-94e7-cfdb040836fe",
   "metadata": {},
   "outputs": [
    {
     "name": "stdout",
     "output_type": "stream",
     "text": [
      "Fitting 10 folds for each of 4 candidates, totalling 40 fits\n"
     ]
    },
    {
     "name": "stderr",
     "output_type": "stream",
     "text": [
      "[Parallel(n_jobs=10)]: Using backend LokyBackend with 10 concurrent workers.\n",
      "[Parallel(n_jobs=10)]: Done  40 out of  40 | elapsed:  6.2min finished\n",
      "[Parallel(n_jobs=1)]: Using backend SequentialBackend with 1 concurrent workers.\n"
     ]
    },
    {
     "name": "stdout",
     "output_type": "stream",
     "text": [
      "Best params: {'max_depth': 13, 'max_leaf_nodes': 45, 'min_samples_leaf': 40} Best AUC: 0.7254760923256304\n"
     ]
    },
    {
     "name": "stderr",
     "output_type": "stream",
     "text": [
      "[Parallel(n_jobs=1)]: Done 100 out of 100 | elapsed:  1.3min finished\n"
     ]
    }
   ],
   "source": [
    "params_grid_pipeline = {\n",
    "    \"max_depth\": [13],\n",
    "    \"min_samples_leaf\": [40],\n",
    "    #\"max_leaf_nodes\": [30, 35, 40, 45]\n",
    "}\n",
    "rf = RandomForestClassifier(verbose=1)\n",
    "clf_pipeline = GridSearchCV(rf, params_grid_pipeline, n_jobs=10, scoring='roc_auc', verbose=1, cv=10)\n",
    "clf_pipeline.fit(X, y)\n",
    "print('Best params:', clf_pipeline.best_params_, 'Best AUC:', clf_pipeline.best_score_)"
   ]
  },
  {
   "cell_type": "code",
   "execution_count": 28,
   "id": "e2f0b46d-cac9-4056-a56b-ffef95823c82",
   "metadata": {},
   "outputs": [
    {
     "name": "stderr",
     "output_type": "stream",
     "text": [
      "[Parallel(n_jobs=10)]: Using backend LokyBackend with 10 concurrent workers.\n",
      "[Parallel(n_jobs=10)]: Done   2 out of  10 | elapsed:  3.0min remaining: 12.1min\n",
      "[Parallel(n_jobs=10)]: Done  10 out of  10 | elapsed:  3.1min finished\n"
     ]
    }
   ],
   "source": [
    "rf = RandomForestClassifier(verbose=1,  min_samples_leaf=40, max_depth=13)\n",
    "cv_results = cross_validate(rf, X, y, cv=10, scoring='roc_auc', return_train_score=True, n_jobs=10, verbose=1)"
   ]
  },
  {
   "cell_type": "code",
   "execution_count": 29,
   "id": "21ac4b24-0d28-4956-964d-064363337a8e",
   "metadata": {},
   "outputs": [
    {
     "name": "stdout",
     "output_type": "stream",
     "text": [
      "{'fit_time': array([170.91080499, 170.91193986, 174.6656611 , 172.51379371,\n",
      "       170.53094673, 167.67706513, 175.51822948, 174.0527389 ,\n",
      "       176.18240047, 175.21322179]), 'score_time': array([1.04086399, 1.04108572, 1.11758637, 0.98042202, 0.97506738,\n",
      "       0.9072175 , 1.19641209, 0.99444723, 1.25192237, 1.17646861]), 'test_score': array([0.75307526, 0.74825046, 0.74281329, 0.75077893, 0.74319238,\n",
      "       0.74241866, 0.75069893, 0.74809326, 0.74876047, 0.74692632]), 'train_score': array([0.8583123 , 0.8588043 , 0.8575741 , 0.85712793, 0.85851475,\n",
      "       0.85688505, 0.85893629, 0.85781866, 0.85702588, 0.85842494])}\n"
     ]
    }
   ],
   "source": [
    "print(cv_results)"
   ]
  },
  {
   "cell_type": "code",
   "execution_count": 32,
   "id": "a0ebe2b2-68d1-4080-9700-9ba6f08b6215",
   "metadata": {},
   "outputs": [
    {
     "name": "stdout",
     "output_type": "stream",
     "text": [
      "0.7475007975624574\n"
     ]
    }
   ],
   "source": [
    "print(np.array(cv_results['test_score']).mean())"
   ]
  },
  {
   "cell_type": "code",
   "execution_count": null,
   "id": "a838eb31-4e91-4533-a649-589395dcf31b",
   "metadata": {},
   "outputs": [],
   "source": []
  }
 ],
 "metadata": {
  "kernelspec": {
   "display_name": "Python 3",
   "language": "python",
   "name": "python3"
  },
  "language_info": {
   "codemirror_mode": {
    "name": "ipython",
    "version": 3
   },
   "file_extension": ".py",
   "mimetype": "text/x-python",
   "name": "python",
   "nbconvert_exporter": "python",
   "pygments_lexer": "ipython3",
   "version": "3.8.10"
  }
 },
 "nbformat": 4,
 "nbformat_minor": 5
}
