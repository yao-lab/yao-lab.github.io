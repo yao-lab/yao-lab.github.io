{
 "cells": [
  {
   "cell_type": "code",
   "execution_count": 7,
   "id": "032753aa-5a2b-4e75-9a85-20fe09800176",
   "metadata": {},
   "outputs": [],
   "source": [
    "import pandas as pd\n",
    "NN = pd.read_csv('NN_importance2.csv')[[\"feature\", \"importance\"]].groupby(\"feature\").mean().sort_values(by=\"importance\", ascending=False)[:50]\n",
    "lgb = pd.read_csv('LGBM_importance.csv')[[\"feature\", \"importance\"]].groupby(\"feature\").mean().sort_values(by=\"importance\", ascending=False)[:50]"
   ]
  },
  {
   "cell_type": "code",
   "execution_count": 8,
   "id": "d5c4755b-047b-4b5e-800a-3c3c647cf631",
   "metadata": {},
   "outputs": [
    {
     "data": {
      "text/html": [
       "<div>\n",
       "<style scoped>\n",
       "    .dataframe tbody tr th:only-of-type {\n",
       "        vertical-align: middle;\n",
       "    }\n",
       "\n",
       "    .dataframe tbody tr th {\n",
       "        vertical-align: top;\n",
       "    }\n",
       "\n",
       "    .dataframe thead th {\n",
       "        text-align: right;\n",
       "    }\n",
       "</style>\n",
       "<table border=\"1\" class=\"dataframe\">\n",
       "  <thead>\n",
       "    <tr style=\"text-align: right;\">\n",
       "      <th></th>\n",
       "      <th>importance_x</th>\n",
       "      <th>importance_y</th>\n",
       "    </tr>\n",
       "    <tr>\n",
       "      <th>feature</th>\n",
       "      <th></th>\n",
       "      <th></th>\n",
       "    </tr>\n",
       "  </thead>\n",
       "  <tbody>\n",
       "    <tr>\n",
       "      <th>EXT_SOURCE_3</th>\n",
       "      <td>0.033802</td>\n",
       "      <td>962.8</td>\n",
       "    </tr>\n",
       "    <tr>\n",
       "      <th>EXT_SOURCE_2</th>\n",
       "      <td>0.029313</td>\n",
       "      <td>896.7</td>\n",
       "    </tr>\n",
       "    <tr>\n",
       "      <th>EXT_SOURCE_1</th>\n",
       "      <td>0.005297</td>\n",
       "      <td>1002.9</td>\n",
       "    </tr>\n",
       "    <tr>\n",
       "      <th>APPROVED_CNT_PAYMENT_SUM</th>\n",
       "      <td>0.002040</td>\n",
       "      <td>200.7</td>\n",
       "    </tr>\n",
       "    <tr>\n",
       "      <th>DAYS_EMPLOYED_PERC</th>\n",
       "      <td>0.001827</td>\n",
       "      <td>364.5</td>\n",
       "    </tr>\n",
       "    <tr>\n",
       "      <th>PREV_CNT_PAYMENT_MEAN</th>\n",
       "      <td>0.001475</td>\n",
       "      <td>331.0</td>\n",
       "    </tr>\n",
       "    <tr>\n",
       "      <th>DAYS_BIRTH</th>\n",
       "      <td>0.001315</td>\n",
       "      <td>732.5</td>\n",
       "    </tr>\n",
       "    <tr>\n",
       "      <th>AMT_ANNUITY</th>\n",
       "      <td>0.001290</td>\n",
       "      <td>531.3</td>\n",
       "    </tr>\n",
       "    <tr>\n",
       "      <th>AMT_GOODS_PRICE</th>\n",
       "      <td>0.001063</td>\n",
       "      <td>318.6</td>\n",
       "    </tr>\n",
       "    <tr>\n",
       "      <th>APPROVED_CNT_PAYMENT_MEAN</th>\n",
       "      <td>0.000982</td>\n",
       "      <td>435.9</td>\n",
       "    </tr>\n",
       "    <tr>\n",
       "      <th>POS_MONTHS_BALANCE_SIZE</th>\n",
       "      <td>0.000831</td>\n",
       "      <td>252.8</td>\n",
       "    </tr>\n",
       "    <tr>\n",
       "      <th>DAYS_ID_PUBLISH</th>\n",
       "      <td>0.000830</td>\n",
       "      <td>435.0</td>\n",
       "    </tr>\n",
       "    <tr>\n",
       "      <th>ANNUITY_INCOME_PERC</th>\n",
       "      <td>0.000819</td>\n",
       "      <td>361.6</td>\n",
       "    </tr>\n",
       "    <tr>\n",
       "      <th>PAYMENT_RATE</th>\n",
       "      <td>0.000746</td>\n",
       "      <td>1114.7</td>\n",
       "    </tr>\n",
       "    <tr>\n",
       "      <th>DAYS_LAST_PHONE_CHANGE</th>\n",
       "      <td>0.000745</td>\n",
       "      <td>293.0</td>\n",
       "    </tr>\n",
       "    <tr>\n",
       "      <th>INSTAL_DAYS_ENTRY_PAYMENT_MAX</th>\n",
       "      <td>0.000672</td>\n",
       "      <td>398.0</td>\n",
       "    </tr>\n",
       "  </tbody>\n",
       "</table>\n",
       "</div>"
      ],
      "text/plain": [
       "                               importance_x  importance_y\n",
       "feature                                                  \n",
       "EXT_SOURCE_3                       0.033802         962.8\n",
       "EXT_SOURCE_2                       0.029313         896.7\n",
       "EXT_SOURCE_1                       0.005297        1002.9\n",
       "APPROVED_CNT_PAYMENT_SUM           0.002040         200.7\n",
       "DAYS_EMPLOYED_PERC                 0.001827         364.5\n",
       "PREV_CNT_PAYMENT_MEAN              0.001475         331.0\n",
       "DAYS_BIRTH                         0.001315         732.5\n",
       "AMT_ANNUITY                        0.001290         531.3\n",
       "AMT_GOODS_PRICE                    0.001063         318.6\n",
       "APPROVED_CNT_PAYMENT_MEAN          0.000982         435.9\n",
       "POS_MONTHS_BALANCE_SIZE            0.000831         252.8\n",
       "DAYS_ID_PUBLISH                    0.000830         435.0\n",
       "ANNUITY_INCOME_PERC                0.000819         361.6\n",
       "PAYMENT_RATE                       0.000746        1114.7\n",
       "DAYS_LAST_PHONE_CHANGE             0.000745         293.0\n",
       "INSTAL_DAYS_ENTRY_PAYMENT_MAX      0.000672         398.0"
      ]
     },
     "execution_count": 8,
     "metadata": {},
     "output_type": "execute_result"
    }
   ],
   "source": [
    "NN.merge(lgb, left_index=True, right_index=True, how='inner')"
   ]
  },
  {
   "cell_type": "code",
   "execution_count": 57,
   "id": "89b785b5-41b8-4b6d-9405-f9fde27b4658",
   "metadata": {},
   "outputs": [
    {
     "ename": "ImportError",
     "evalue": "cannot import name 'zero_one_score' from 'sklearn.metrics' (/home/samyuen/.local/lib/python3.8/site-packages/sklearn/metrics/__init__.py)",
     "output_type": "error",
     "traceback": [
      "\u001b[0;31m---------------------------------------------------------------------------\u001b[0m",
      "\u001b[0;31mImportError\u001b[0m                               Traceback (most recent call last)",
      "\u001b[0;32m<ipython-input-57-adb394b975a7>\u001b[0m in \u001b[0;36m<module>\u001b[0;34m\u001b[0m\n\u001b[1;32m      2\u001b[0m \u001b[0;32mfrom\u001b[0m \u001b[0msklearn\u001b[0m\u001b[0;34m.\u001b[0m\u001b[0mmetrics\u001b[0m \u001b[0;32mimport\u001b[0m \u001b[0mconfusion_matrix\u001b[0m\u001b[0;34m\u001b[0m\u001b[0;34m\u001b[0m\u001b[0m\n\u001b[1;32m      3\u001b[0m \u001b[0;32mfrom\u001b[0m \u001b[0mtqdm\u001b[0m \u001b[0;32mimport\u001b[0m \u001b[0mtqdm\u001b[0m\u001b[0;34m\u001b[0m\u001b[0;34m\u001b[0m\u001b[0m\n\u001b[0;32m----> 4\u001b[0;31m \u001b[0;32mfrom\u001b[0m \u001b[0msklearn\u001b[0m\u001b[0;34m.\u001b[0m\u001b[0mmetrics\u001b[0m \u001b[0;32mimport\u001b[0m \u001b[0mclassification_report\u001b[0m\u001b[0;34m,\u001b[0m \u001b[0mf1_score\u001b[0m\u001b[0;34m,\u001b[0m \u001b[0mrecall_score\u001b[0m\u001b[0;34m,\u001b[0m \u001b[0mprecision_score\u001b[0m\u001b[0;34m,\u001b[0m \u001b[0mconfusion_matrix\u001b[0m\u001b[0;34m,\u001b[0m \u001b[0mzero_one_score\u001b[0m\u001b[0;34m\u001b[0m\u001b[0;34m\u001b[0m\u001b[0m\n\u001b[0m\u001b[1;32m      5\u001b[0m \u001b[0;32mimport\u001b[0m \u001b[0mcopy\u001b[0m\u001b[0;34m\u001b[0m\u001b[0;34m\u001b[0m\u001b[0m\n\u001b[1;32m      6\u001b[0m \u001b[0;32mimport\u001b[0m \u001b[0mmatplotlib\u001b[0m\u001b[0;34m.\u001b[0m\u001b[0mpyplot\u001b[0m \u001b[0;32mas\u001b[0m \u001b[0mplt\u001b[0m\u001b[0;34m\u001b[0m\u001b[0;34m\u001b[0m\u001b[0m\n",
      "\u001b[0;31mImportError\u001b[0m: cannot import name 'zero_one_score' from 'sklearn.metrics' (/home/samyuen/.local/lib/python3.8/site-packages/sklearn/metrics/__init__.py)"
     ]
    }
   ],
   "source": [
    "import numpy as np\n",
    "from sklearn.metrics import confusion_matrix\n",
    "from tqdm import tqdm\n",
    "from sklearn.metrics import classification_report, f1_score, recall_score, precision_score, confusion_matrix, zero_one_score\n",
    "import copy\n",
    "import matplotlib.pyplot as plt\n",
    "import itertools"
   ]
  },
  {
   "cell_type": "code",
   "execution_count": 52,
   "id": "b3dd5f7f-8472-49a6-b593-fac303210d27",
   "metadata": {},
   "outputs": [],
   "source": [
    "def plot_confusion_matrix(cm, classes, normalize=False, title='Confusion matrix', cmap=plt.cm.Blues):\n",
    "    if normalize:\n",
    "        cm = cm.astype('float') / cm.sum(axis=1)[:, np.newaxis]\n",
    "        print(\"Normalized confusion matrix\")\n",
    "    else:\n",
    "        print('Confusion matrix, without normalization')\n",
    "\n",
    "    print(cm)\n",
    "    plt.imshow(cm, interpolation='nearest', cmap=cmap)\n",
    "    plt.title(title)\n",
    "    plt.colorbar()\n",
    "    tick_marks = np.arange(len(classes))\n",
    "    plt.xticks(tick_marks, classes, rotation=45)\n",
    "    plt.yticks(tick_marks, classes)\n",
    "\n",
    "    fmt = '.2f' if normalize else 'd'\n",
    "    thresh = cm.max() / 2.\n",
    "    for i, j in itertools.product(range(cm.shape[0]), range(cm.shape[1])):\n",
    "        plt.text(j, i, format(cm[i, j], fmt), horizontalalignment=\"center\", color=\"white\" if cm[i, j] > thresh else \"black\")\n",
    "\n",
    "    plt.tight_layout()\n",
    "    plt.ylabel('True label')\n",
    "    plt.xlabel('Predicted label')\n",
    "    plt.savefig('lgbm_confusion2.png')"
   ]
  },
  {
   "cell_type": "code",
   "execution_count": 32,
   "id": "b88a1fe1-3563-48e5-8076-c2a91a526373",
   "metadata": {},
   "outputs": [],
   "source": [
    "y_pred = np.load('validation_pred.npy')\n",
    "target = pd.read_csv('TARGET.csv').to_numpy().reshape(-1,1)"
   ]
  },
  {
   "cell_type": "code",
   "execution_count": 111,
   "id": "cf162f11-31b9-4b1e-ad8a-ff5b210270c7",
   "metadata": {},
   "outputs": [
    {
     "name": "stdout",
     "output_type": "stream",
     "text": [
      "              precision    recall  f1-score   support\n",
      "\n",
      "         0.0       0.97      0.71      0.82    282682\n",
      "         1.0       0.18      0.73      0.29     24825\n",
      "\n",
      "    accuracy                           0.71    307507\n",
      "   macro avg       0.57      0.72      0.56    307507\n",
      "weighted avg       0.90      0.71      0.78    307507\n",
      "\n"
     ]
    }
   ],
   "source": [
    "temp_pred = copy.deepcopy(y_pred)\n",
    "temp_pred[temp_pred >= 0.075] = 1\n",
    "temp_pred[temp_pred < 0.075] = 0\n",
    "print(classification_report(target, temp_pred, output_dict=False))"
   ]
  },
  {
   "cell_type": "code",
   "execution_count": 112,
   "id": "b862f663-6cf4-4c24-bddf-0066ba28e128",
   "metadata": {},
   "outputs": [
    {
     "name": "stdout",
     "output_type": "stream",
     "text": [
      "Confusion matrix, without normalization\n",
      "[[201173  81509]\n",
      " [  6709  18116]]\n"
     ]
    },
    {
     "data": {
      "image/png": "[encoded data removed]",
      "text/plain": [
       "<Figure size 432x288 with 2 Axes>"
      ]
     },
     "metadata": {
      "needs_background": "light"
     },
     "output_type": "display_data"
    }
   ],
   "source": [
    "cm = confusion_matrix(target, temp_pred)\n",
    "plot_confusion_matrix(cm, [0,1], False, 'LightGBM 10-fold Confusion Matrix')"
   ]
  },
  {
   "cell_type": "code",
   "execution_count": 60,
   "id": "c995a72f-68ca-4def-bb45-403de2988991",
   "metadata": {},
   "outputs": [
    {
     "data": {
      "text/plain": [
       "array([[281626,   1056],\n",
       "       [ 23464,   1361]])"
      ]
     },
     "execution_count": 60,
     "metadata": {},
     "output_type": "execute_result"
    }
   ],
   "source": [
    "cm"
   ]
  },
  {
   "cell_type": "code",
   "execution_count": 68,
   "id": "19f81187-9e08-4e57-aad5-60c9d933a844",
   "metadata": {},
   "outputs": [
    {
     "name": "stderr",
     "output_type": "stream",
     "text": [
      "100%|██████████| 200/200 [01:53<00:00,  1.77it/s]\n"
     ]
    }
   ],
   "source": [
    "thresholds = np.arange(0,1,1/200)\n",
    "highest_roc = 0\n",
    "best_threshold = None\n",
    "err_rate0 = []\n",
    "err_rate1 = []\n",
    "for threshold in tqdm(thresholds):\n",
    "    #print(threshold)\n",
    "    temp_pred = copy.deepcopy(y_pred)\n",
    "    temp_pred[temp_pred >= threshold] = 1\n",
    "    temp_pred[temp_pred < threshold] = 0\n",
    "    '''if roc > highest_roc:\n",
    "        highest_roc = roc\n",
    "        best_threshold = threshold'''\n",
    "    \n",
    "    result = classification_report(target, temp_pred, output_dict=True)\n",
    "    cm = confusion_matrix(target, temp_pred)\n",
    "    err_rate0.append(cm[0][1]/(np.sum(cm[0])))\n",
    "    err_rate1.append(cm[1][0]/(np.sum(cm[1])))\n",
    "    '''print('specificity of 0:', result['0.0']['recall'], 'sensitivity of 1:', result['1.0']['recall'])\n",
    "    print('precision of 0:', result['0.0']['precision'], 'precision of 1:', result['1.0']['precision'])\n",
    "    print('f1-score of 0:', result['0.0']['f1-score'], 'f1-score of 1:', result['1.0']['f1-score'])'''"
   ]
  },
  {
   "cell_type": "code",
   "execution_count": 118,
   "id": "2713a36a-118d-4dde-b8ee-59161b95b4f0",
   "metadata": {},
   "outputs": [
    {
     "data": {
      "image/png": "[encoded data removed]",
      "text/plain": [
       "<Figure size 432x288 with 1 Axes>"
      ]
     },
     "metadata": {
      "needs_background": "light"
     },
     "output_type": "display_data"
    }
   ],
   "source": [
    "err_rate0 = np.array(err_rate0)\n",
    "err_rate1 = np.array(err_rate1)\n",
    "plt.plot(thresholds, err_rate0, '-', label='Label 0')\n",
    "plt.plot(thresholds, err_rate1, '-', label='label 1')\n",
    "idx = np.argwhere(np.diff(np.sign(err_rate0 - err_rate1))).flatten()\n",
    "plt.plot(thresholds[idx], err_rate0[idx], 'ro')\n",
    "plt.vlines(thresholds[idx], 0, err_rate0[idx], linestyle=\"dashed\")\n",
    "plt.hlines(err_rate0[idx], 0, thresholds[idx], linestyle=\"dashed\")\n",
    "plt.ylabel('Error Rate')\n",
    "plt.xlabel('Threshold')\n",
    "plt.xlim(0,None)\n",
    "plt.ylim(0,None)\n",
    "#plt.text(thresholds[idx], err_rate0[idx], '({}, {})'.format(np.round(thresholds[idx],2), np.around(err_rate0[idx],2)))\n",
    "plt.annotate('(%.2f, %.2f)' % (thresholds[idx], err_rate1[idx]), xy=(thresholds[idx], err_rate1[idx]))\n",
    "plt.legend()\n",
    "plt.title('Error Rate of Threshold Tradeoff')\n",
    "plt.savefig('tradeoff.png')"
   ]
  },
  {
   "cell_type": "code",
   "execution_count": 107,
   "id": "4d3a3c1b-7981-4a7f-bac6-51dde9fecf9d",
   "metadata": {},
   "outputs": [
    {
     "data": {
      "text/plain": [
       "array([0.075])"
      ]
     },
     "execution_count": 107,
     "metadata": {},
     "output_type": "execute_result"
    }
   ],
   "source": [
    " thresholds[idx]"
   ]
  },
  {
   "cell_type": "code",
   "execution_count": 117,
   "id": "862a6999-8a5c-4493-b9da-686bd4ce39a0",
   "metadata": {},
   "outputs": [
    {
     "data": {
      "text/plain": [
       "array([0.27025176])"
      ]
     },
     "execution_count": 117,
     "metadata": {},
     "output_type": "execute_result"
    }
   ],
   "source": [
    "err_rate1[idx]"
   ]
  },
  {
   "cell_type": "code",
   "execution_count": null,
   "id": "cc53c9de-d8a1-4bf2-8cf7-52e49aacb8e2",
   "metadata": {},
   "outputs": [],
   "source": []
  }
 ],
 "metadata": {
  "kernelspec": {
   "display_name": "Python 3",
   "language": "python",
   "name": "python3"
  },
  "language_info": {
   "codemirror_mode": {
    "name": "ipython",
    "version": 3
   },
   "file_extension": ".py",
   "mimetype": "text/x-python",
   "name": "python",
   "nbconvert_exporter": "python",
   "pygments_lexer": "ipython3",
   "version": "3.8.10"
  }
 },
 "nbformat": 4,
 "nbformat_minor": 5
}
