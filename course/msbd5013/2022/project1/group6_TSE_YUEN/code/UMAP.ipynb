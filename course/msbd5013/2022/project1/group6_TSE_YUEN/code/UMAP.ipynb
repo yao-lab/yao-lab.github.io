{
 "cells": [
  {
   "cell_type": "code",
   "execution_count": 1,
   "id": "d56cd6c3-e56d-4cca-ae83-8eea6f015f5e",
   "metadata": {
    "tags": []
   },
   "outputs": [],
   "source": [
    "from sklearn.datasets import make_classification\n",
    "from sklearn.model_selection import train_test_split, GridSearchCV\n",
    "from sklearn.pipeline import Pipeline\n",
    "from lightgbm import LGBMClassifier\n",
    "from sklearn.metrics import roc_auc_score, roc_curve\n",
    "import pandas as pd\n",
    "from umap.umap_ import UMAP\n",
    "from tqdm import tqdm\n",
    "import numpy as np\n",
    "from sklearn.preprocessing import MinMaxScaler, StandardScaler\n",
    "import time\n",
    "import warnings\n",
    "warnings.simplefilter('ignore', UserWarning)"
   ]
  },
  {
   "cell_type": "code",
   "execution_count": 2,
   "id": "fa6b7ad4-1a29-4bd7-b017-38f0c895420f",
   "metadata": {},
   "outputs": [],
   "source": [
    "# reduce memory\n",
    "def reduce_mem(df):\n",
    "    starttime = time.time()\n",
    "    numerics = ['int16', 'int32', 'int64', 'float16', 'float32', 'float64']\n",
    "    start_mem = df.memory_usage().sum() / 1024**2\n",
    "    for col in df.columns:\n",
    "        col_type = df[col].dtypes\n",
    "        if col_type in numerics:\n",
    "            c_min = df[col].min()\n",
    "            c_max = df[col].max()\n",
    "            if pd.isnull(c_min) or pd.isnull(c_max):\n",
    "                continue\n",
    "            if str(col_type)[:3] == 'int':\n",
    "                if c_min > np.iinfo(np.int8).min and c_max < np.iinfo(np.int8).max:\n",
    "                    df[col] = df[col].astype(np.int8)\n",
    "                elif c_min > np.iinfo(np.int16).min and c_max < np.iinfo(np.int16).max:\n",
    "                    df[col] = df[col].astype(np.int16)\n",
    "                elif c_min > np.iinfo(np.int32).min and c_max < np.iinfo(np.int32).max:\n",
    "                    df[col] = df[col].astype(np.int32)\n",
    "                elif c_min > np.iinfo(np.int64).min and c_max < np.iinfo(np.int64).max:\n",
    "                    df[col] = df[col].astype(np.int64)\n",
    "            else:\n",
    "                if c_min > np.finfo(np.float16).min and c_max < np.finfo(np.float16).max:\n",
    "                    df[col] = df[col].astype(np.float32)\n",
    "                elif c_min > np.finfo(np.float32).min and c_max < np.finfo(np.float32).max:\n",
    "                    df[col] = df[col].astype(np.float32)\n",
    "                else:\n",
    "                    df[col] = df[col].astype(np.float64)\n",
    "    end_mem = df.memory_usage().sum() / 1024**2\n",
    "    print('-- Mem. usage decreased to {:5.2f} Mb ({:.1f}% reduction),time spend:{:2.2f} min'.format(end_mem,\n",
    "                                                                                                           100*(start_mem-end_mem)/start_mem,\n",
    "                                                                                                           (time.time()-starttime)/60))\n",
    "    return df"
   ]
  },
  {
   "cell_type": "code",
   "execution_count": 3,
   "id": "b0fede6a-4a37-458f-a336-9e0dbf2380fd",
   "metadata": {},
   "outputs": [
    {
     "name": "stdout",
     "output_type": "stream",
     "text": [
      "-- Mem. usage decreased to 787.11 Mb (58.0% reduction),time spend:1.22 min\n"
     ]
    },
    {
     "name": "stderr",
     "output_type": "stream",
     "text": [
      "  0%|          | 0/795 [00:00<?, ?it/s]<ipython-input-3-79b491a9f379>:8: SettingWithCopyWarning: \n",
      "A value is trying to be set on a copy of a slice from a DataFrame.\n",
      "Try using .loc[row_indexer,col_indexer] = value instead\n",
      "\n",
      "See the caveats in the documentation: https://pandas.pydata.org/pandas-docs/stable/user_guide/indexing.html#returning-a-view-versus-a-copy\n",
      "  X[col] = X[col].replace([np.inf, -np.inf], np.nan)\n",
      "<ipython-input-3-79b491a9f379>:10: SettingWithCopyWarning: \n",
      "A value is trying to be set on a copy of a slice from a DataFrame.\n",
      "Try using .loc[row_indexer,col_indexer] = value instead\n",
      "\n",
      "See the caveats in the documentation: https://pandas.pydata.org/pandas-docs/stable/user_guide/indexing.html#returning-a-view-versus-a-copy\n",
      "  X[col] = X[col].fillna(0)\n",
      "100%|██████████| 795/795 [00:00<00:00, 1717.73it/s]\n"
     ]
    }
   ],
   "source": [
    "train_df = reduce_mem(pd.read_csv('train.csv'))\n",
    "train_df = train_df.sample(int(len(train_df)*0.3))\n",
    "# fillna with median\n",
    "\n",
    "feats = [f for f in train_df.columns if f not in ['TARGET','SK_ID_CURR','SK_ID_BUREAU','SK_ID_PREV','index']]\n",
    "X, y = train_df[feats], train_df['TARGET']\n",
    "for col in tqdm(X, total=len(X.columns)):\n",
    "    X[col] = X[col].replace([np.inf, -np.inf], np.nan) \n",
    "    np_array = X[col].to_numpy()\n",
    "    X[col] = X[col].fillna(0)\n",
    "    \n",
    "scaler = MinMaxScaler()\n",
    "scaler.fit(X)\n",
    "x = scaler.transform(X)\n",
    "X = pd.DataFrame(x, columns = X.columns)\n",
    "del train_df\n",
    "\n",
    "X_train, X_valid, y_train, y_valid = train_test_split(\n",
    "    X, y, test_size=0.2,\n",
    ")"
   ]
  },
  {
   "cell_type": "code",
   "execution_count": 4,
   "id": "de65afeb-ce61-4be9-a592-3b563964783d",
   "metadata": {},
   "outputs": [
    {
     "name": "stdout",
     "output_type": "stream",
     "text": [
      "Num train data: 73801\n"
     ]
    }
   ],
   "source": [
    "print('Num train data:',len(X_train))"
   ]
  },
  {
   "cell_type": "code",
   "execution_count": 5,
   "id": "c672aacc-7e29-4d22-8e5f-5fd9feb10827",
   "metadata": {},
   "outputs": [
    {
     "name": "stdout",
     "output_type": "stream",
     "text": [
      "[200]\ttraining's auc: 0.828537\ttraining's binary_logloss: 0.227545\tvalid_1's auc: 0.768341\tvalid_1's binary_logloss: 0.248565\n",
      "[400]\ttraining's auc: 0.866747\ttraining's binary_logloss: 0.210678\tvalid_1's auc: 0.773631\tvalid_1's binary_logloss: 0.246154\n",
      "[600]\ttraining's auc: 0.891425\ttraining's binary_logloss: 0.198987\tvalid_1's auc: 0.77574\tvalid_1's binary_logloss: 0.245537\n",
      "[800]\ttraining's auc: 0.910579\ttraining's binary_logloss: 0.189335\tvalid_1's auc: 0.776067\tvalid_1's binary_logloss: 0.245302\n",
      "[1000]\ttraining's auc: 0.926381\ttraining's binary_logloss: 0.180267\tvalid_1's auc: 0.776945\tvalid_1's binary_logloss: 0.245118\n",
      "AUC on the test set with raw data: 0.777\n"
     ]
    }
   ],
   "source": [
    "clf = LGBMClassifier(\n",
    "            n_estimators=10000,\n",
    "            learning_rate=0.02,\n",
    "            num_leaves=34,\n",
    "            colsample_bytree=0.9497036,\n",
    "            subsample=0.8715623,\n",
    "            max_depth=8,\n",
    "            reg_alpha=0.041545473,\n",
    "            reg_lambda=0.0735294,\n",
    "            min_split_gain=0.0222415,\n",
    "            min_child_weight=39.3259775,\n",
    "            silent=-1,\n",
    "            verbose=-1, )\n",
    "\n",
    "clf.fit(X_train, y_train, eval_set=[(X_train, y_train), (X_valid, y_valid)], \n",
    "    eval_metric= 'auc', verbose= 200, early_stopping_rounds= 200)\n",
    "print(\n",
    "    \"AUC on the test set with raw data: {:.3f}\".format(roc_auc_score(y_valid, clf.predict_proba(X_valid, num_iteration=clf.best_iteration_)[:, 1]))\n",
    ")"
   ]
  },
  {
   "cell_type": "code",
   "execution_count": 11,
   "id": "b20e05e6-42b8-4b0b-9735-d8e775dd8f5e",
   "metadata": {},
   "outputs": [
    {
     "name": "stdout",
     "output_type": "stream",
     "text": [
      "Fitting 5 folds for each of 25 candidates, totalling 125 fits\n"
     ]
    },
    {
     "name": "stderr",
     "output_type": "stream",
     "text": [
      "[Parallel(n_jobs=8)]: Using backend LokyBackend with 8 concurrent workers.\n",
      "[Parallel(n_jobs=8)]: Done  34 tasks      | elapsed: 73.7min\n",
      "[Parallel(n_jobs=8)]: Done 125 out of 125 | elapsed: 414.0min finished\n"
     ]
    },
    {
     "name": "stdout",
     "output_type": "stream",
     "text": [
      "Best params: {'umap__n_components': 200, 'umap__n_neighbors': 5} Best AUC: 0.5382312059407495\n"
     ]
    }
   ],
   "source": [
    "umap = UMAP(low_memory=True, n_jobs=-1, metric='hamming')\n",
    "lgbm = clf = LGBMClassifier(\n",
    "            n_estimators=10000,\n",
    "            learning_rate=0.02,\n",
    "            num_leaves=34,\n",
    "            colsample_bytree=0.9497036,\n",
    "            subsample=0.8715623,\n",
    "            max_depth=8,\n",
    "            reg_alpha=0.041545473,\n",
    "            reg_lambda=0.0735294,\n",
    "            min_split_gain=0.0222415,\n",
    "            min_child_weight=39.3259775,\n",
    "            silent=-1,\n",
    "            verbose=-1, )\n",
    "pipeline = Pipeline([(\"umap\", umap), (\"lgbm\", lgbm)])\n",
    "params_grid_pipeline = {\n",
    "    \"umap__n_neighbors\": [5, 8, 12, 20, 25],\n",
    "    \"umap__n_components\": [50, 75, 100, 200, 300],\n",
    "    #\"umap__metric\": [\"euclidean\", \"manhattan\", \"chebyshev\", 'minkowski', \"canberra\", \"braycurtis\", \"mahalanobis\", \"wminkowski\", \"hellinger\", \"seuclidean\", \"cosine\", \"sokalmichener\", \"jaccard\" ,\"hamming\"]\n",
    "}\n",
    "\n",
    "clf_pipeline = GridSearchCV(pipeline, params_grid_pipeline, n_jobs=8, scoring='roc_auc', verbose=1)\n",
    "clf_pipeline.fit(X_train, y_train)\n",
    "print('Best params:', clf_pipeline.best_params_, 'Best AUC:', clf_pipeline.best_score_)"
   ]
  },
  {
   "cell_type": "code",
   "execution_count": 9,
   "id": "b0841659-a80c-4c11-bf8a-3607860646ec",
   "metadata": {},
   "outputs": [
    {
     "data": {
      "text/plain": [
       "{'mean_fit_time': array([158.18233433, 153.08295708, 155.86381807, 125.91379533]),\n",
       " 'std_fit_time': array([ 8.9096794 ,  7.12616972, 13.35945777, 21.41018217]),\n",
       " 'mean_score_time': array([718.49754596, 724.62426105, 725.25295849, 516.45084367]),\n",
       " 'std_score_time': array([  2.90513694,  12.44778434,   3.11154637, 116.97013018]),\n",
       " 'param_umap__n_components': masked_array(data=[20, 25, 30, 45],\n",
       "              mask=[False, False, False, False],\n",
       "        fill_value='?',\n",
       "             dtype=object),\n",
       " 'params': [{'umap__n_components': 20},\n",
       "  {'umap__n_components': 25},\n",
       "  {'umap__n_components': 30},\n",
       "  {'umap__n_components': 45}],\n",
       " 'split0_test_score': array([0.50716228, 0.51772406, 0.50833215, 0.50669489]),\n",
       " 'split1_test_score': array([0.51110058, 0.52147995, 0.51396434, 0.50478204]),\n",
       " 'split2_test_score': array([0.52395165, 0.49916843, 0.52774932, 0.51958577]),\n",
       " 'split3_test_score': array([0.50876129, 0.52486626, 0.51855189, 0.50756025]),\n",
       " 'split4_test_score': array([0.52147675, 0.51288781, 0.50025775, 0.50793595]),\n",
       " 'mean_test_score': array([0.51449051, 0.5152253 , 0.51377109, 0.50931178]),\n",
       " 'std_test_score': array([0.00687516, 0.00896214, 0.00927876, 0.00525133]),\n",
       " 'rank_test_score': array([2, 1, 3, 4], dtype=int32)}"
      ]
     },
     "execution_count": 9,
     "metadata": {},
     "output_type": "execute_result"
    }
   ],
   "source": [
    "clf_pipeline.cv_results_"
   ]
  },
  {
   "cell_type": "code",
   "execution_count": 12,
   "id": "ce6a6f27-ceec-4983-8661-27d916aca7d9",
   "metadata": {},
   "outputs": [
    {
     "data": {
      "text/plain": [
       "{'mean_fit_time': array([321.14483647, 260.86814013, 265.33737822, 287.48063354,\n",
       "        316.51656981, 337.04834895, 277.51453252, 297.34527078,\n",
       "        285.76398306]),\n",
       " 'std_fit_time': array([27.7970851 , 10.78746964, 17.00456529, 49.41398917, 12.40104568,\n",
       "        20.93502246, 35.73049686, 25.60514184, 29.89160006]),\n",
       " 'mean_score_time': array([104.58012695, 105.96834245, 142.40974455, 126.57583685,\n",
       "        135.2874083 , 185.27865949, 126.98369012, 152.4379025 ,\n",
       "        168.76102762]),\n",
       " 'std_score_time': array([20.97290502,  8.51240244, 11.34233769, 24.27628864, 20.4023182 ,\n",
       "        19.0090131 , 18.92411062,  6.83833047, 20.67780607]),\n",
       " 'param_umap__n_components': masked_array(data=[8, 8, 8, 12, 12, 12, 15, 15, 15],\n",
       "              mask=[False, False, False, False, False, False, False, False,\n",
       "                    False],\n",
       "        fill_value='?',\n",
       "             dtype=object),\n",
       " 'param_umap__n_neighbors': masked_array(data=[5, 8, 12, 5, 8, 12, 5, 8, 12],\n",
       "              mask=[False, False, False, False, False, False, False, False,\n",
       "                    False],\n",
       "        fill_value='?',\n",
       "             dtype=object),\n",
       " 'params': [{'umap__n_components': 8, 'umap__n_neighbors': 5},\n",
       "  {'umap__n_components': 8, 'umap__n_neighbors': 8},\n",
       "  {'umap__n_components': 8, 'umap__n_neighbors': 12},\n",
       "  {'umap__n_components': 12, 'umap__n_neighbors': 5},\n",
       "  {'umap__n_components': 12, 'umap__n_neighbors': 8},\n",
       "  {'umap__n_components': 12, 'umap__n_neighbors': 12},\n",
       "  {'umap__n_components': 15, 'umap__n_neighbors': 5},\n",
       "  {'umap__n_components': 15, 'umap__n_neighbors': 8},\n",
       "  {'umap__n_components': 15, 'umap__n_neighbors': 12}],\n",
       " 'split0_test_score': array([0.55410825, 0.54505219, 0.50115121, 0.55916204, 0.53443933,\n",
       "        0.52137602, 0.55530742, 0.54124111, 0.52285401]),\n",
       " 'split1_test_score': array([0.56568746, 0.53955985, 0.50532074, 0.55966643, 0.53825339,\n",
       "        0.51093357, 0.55704392, 0.53241746, 0.52214748]),\n",
       " 'split2_test_score': array([0.55547108, 0.52921481, 0.49794707, 0.56729535, 0.53909645,\n",
       "        0.50933119, 0.55929245, 0.52689637, 0.49450953]),\n",
       " 'split3_test_score': array([0.54804193, 0.53251937, 0.50480774, 0.5553362 , 0.53403131,\n",
       "        0.51236229, 0.55789247, 0.54515112, 0.49872727]),\n",
       " 'split4_test_score': array([0.55145016, 0.537513  , 0.51571045, 0.55665494, 0.54053884,\n",
       "        0.51680332, 0.56256203, 0.53568639, 0.50787721]),\n",
       " 'mean_test_score': array([0.55495178, 0.53677184, 0.50498744, 0.55962299, 0.53727187,\n",
       "        0.51416128, 0.55841966, 0.53627849, 0.5092231 ]),\n",
       " 'std_test_score': array([0.00593706, 0.00551505, 0.00599015, 0.00415368, 0.00258805,\n",
       "        0.00438217, 0.00244039, 0.00642858, 0.01167308]),\n",
       " 'rank_test_score': array([3, 5, 9, 1, 4, 7, 2, 6, 8], dtype=int32)}"
      ]
     },
     "execution_count": 12,
     "metadata": {},
     "output_type": "execute_result"
    }
   ],
   "source": [
    "clf_pipeline.cv_results_"
   ]
  },
  {
   "cell_type": "code",
   "execution_count": null,
   "id": "8883185b-909b-42d7-bd73-9e2ac091383e",
   "metadata": {},
   "outputs": [],
   "source": []
  }
 ],
 "metadata": {
  "kernelspec": {
   "display_name": "Python 3",
   "language": "python",
   "name": "python3"
  },
  "language_info": {
   "codemirror_mode": {
    "name": "ipython",
    "version": 3
   },
   "file_extension": ".py",
   "mimetype": "text/x-python",
   "name": "python",
   "nbconvert_exporter": "python",
   "pygments_lexer": "ipython3",
   "version": "3.8.10"
  }
 },
 "nbformat": 4,
 "nbformat_minor": 5
}
