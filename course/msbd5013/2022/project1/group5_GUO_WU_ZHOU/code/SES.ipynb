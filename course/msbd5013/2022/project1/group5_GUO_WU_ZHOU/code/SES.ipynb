{
 "cells": [
  {
   "cell_type": "code",
   "execution_count": 1,
   "metadata": {
    "id": "7yLLr5_kA-x_"
   },
   "outputs": [],
   "source": [
    "import pandas as pd\n",
    "import numpy as np\n",
    "from tqdm import tqdm\n",
    "from statsmodels.tsa.api import SimpleExpSmoothing\n",
    "import time\n",
    "import warnings\n",
    "warnings.filterwarnings('ignore')"
   ]
  },
  {
   "cell_type": "markdown",
   "metadata": {},
   "source": [
    "# Read data"
   ]
  },
  {
   "cell_type": "code",
   "execution_count": 2,
   "metadata": {
    "id": "n7uv3GMbA-vB"
   },
   "outputs": [],
   "source": [
    "SalesTrain = pd.read_csv(\"data/sales_train_evaluation.csv\")\n",
    "SellPrices = pd.read_csv(\"data/sell_prices.csv\")\n",
    "Calendar = pd.read_csv(\"data/calendar.csv\")"
   ]
  },
  {
   "cell_type": "code",
   "execution_count": 3,
   "metadata": {
    "scrolled": true
   },
   "outputs": [
    {
     "data": {
      "text/plain": [
       "Index(['id', 'item_id', 'dept_id', 'cat_id', 'store_id', 'state_id', 'd_1',\n",
       "       'd_2', 'd_3', 'd_4',\n",
       "       ...\n",
       "       'd_1932', 'd_1933', 'd_1934', 'd_1935', 'd_1936', 'd_1937', 'd_1938',\n",
       "       'd_1939', 'd_1940', 'd_1941'],\n",
       "      dtype='object', length=1947)"
      ]
     },
     "execution_count": 3,
     "metadata": {},
     "output_type": "execute_result"
    }
   ],
   "source": [
    "SalesTrain.columns"
   ]
  },
  {
   "cell_type": "code",
   "execution_count": 4,
   "metadata": {
    "id": "NGTzPSfwWxBK"
   },
   "outputs": [],
   "source": [
    "DateColumns = [date for date in SalesTrain.columns if 'd_' in date] # Get date related columns\n",
    "Train_X = SalesTrain[DateColumns[:1913]]\n",
    "Test_X = SalesTrain[DateColumns]"
   ]
  },
  {
   "cell_type": "markdown",
   "metadata": {},
   "source": [
    "# Performance metrics"
   ]
  },
  {
   "cell_type": "code",
   "execution_count": 5,
   "metadata": {
    "id": "x26BbvH_TnUh"
   },
   "outputs": [],
   "source": [
    "from typing import Union\n",
    "\n",
    "class WRMSSEFunction(object):\n",
    "\n",
    "    def __init__(self, Data_Train: pd.DataFrame, Data_Validation: pd.DataFrame, Calendar: pd.DataFrame, SellPrices: pd.DataFrame):\n",
    "        y_Train = Data_Train.loc[:, Data_Train.columns.str.startswith('d_')]\n",
    "        y_Train_Columns = y_Train.columns.tolist()\n",
    "        Weight_Columns = y_Train.iloc[:, -28:].columns.tolist()\n",
    "\n",
    "        Data_Train['all_id'] = 0  # for lv1 aggregation\n",
    "\n",
    "        ID_Columns = Data_Train.loc[:, ~Data_Train.columns.str.startswith('d_')].columns.tolist()\n",
    "        Data_Validation_Columns = Data_Validation.loc[:, Data_Validation.columns.str.startswith('d_')].columns.tolist()\n",
    "\n",
    "        if not all([c in Data_Validation.columns for c in ID_Columns]):\n",
    "            Data_Validation = pd.concat([Data_Train[ID_Columns], Data_Validation], axis=1, sort=False)\n",
    "\n",
    "        self.Data_Train = Data_Train\n",
    "        self.Data_Validation = Data_Validation\n",
    "        self.Calendar = Calendar\n",
    "        self.SellPrices = SellPrices\n",
    "\n",
    "        self.Weight_Columns = Weight_Columns\n",
    "        self.ID_Columns = ID_Columns\n",
    "        self.Data_Validation_Columns = Data_Validation_Columns\n",
    "\n",
    "        Data_Weight = self.Get_the_Weights()\n",
    "\n",
    "        self.ID_lists = (\n",
    "            'all_id',\n",
    "            'state_id',\n",
    "            'store_id',\n",
    "            'cat_id',\n",
    "            'dept_id',\n",
    "            ['state_id', 'cat_id'],\n",
    "            ['state_id', 'dept_id'],\n",
    "            ['store_id', 'cat_id'],\n",
    "            ['store_id', 'dept_id'],\n",
    "            'item_id',\n",
    "            ['item_id', 'state_id'],\n",
    "            ['item_id', 'store_id']\n",
    "        )\n",
    "\n",
    "        for i, id in enumerate(tqdm(self.ID_lists)):\n",
    "            y_Train = Data_Train.groupby(id)[y_Train_Columns].sum()\n",
    "            Scales = []\n",
    "            for _, row in y_Train.iterrows():\n",
    "                List1 = row.values[np.argmax(row.values != 0):]\n",
    "                Scales.append(((List1[1:] - List1[:-1]) ** 2).mean())\n",
    "            setattr(self, f'lv{i + 1}_Scales', np.array(Scales))\n",
    "            setattr(self, f'lv{i + 1}_Data_Train', y_Train)\n",
    "            setattr(self, f'lv{i + 1}_Data_Validation', Data_Validation.groupby(id)[Data_Validation_Columns].sum())\n",
    "\n",
    "            Weight_l = Data_Weight.groupby(id)[Weight_Columns].sum().sum(axis=1)\n",
    "            setattr(self, f'lv{i + 1}_weight', Weight_l / Weight_l.sum())\n",
    "\n",
    "    def Get_the_Weights(self) -> pd.DataFrame:\n",
    "        day_to_week = self.Calendar.set_index('d')['wm_yr_wk'].to_dict()\n",
    "        Data_Weight = self.Data_Train[['item_id', 'store_id'] + self.Weight_Columns].set_index(['item_id', 'store_id'])\n",
    "        Data_Weight = Data_Weight.stack().reset_index().rename(columns={'level_2': 'd', 0: 'value'})\n",
    "        Data_Weight['wm_yr_wk'] = Data_Weight['d'].map(day_to_week)\n",
    "\n",
    "        Data_Weight = Data_Weight.merge(self.SellPrices, how='left', on=['item_id', 'store_id', 'wm_yr_wk'])\n",
    "        Data_Weight['value'] = Data_Weight['value'] * Data_Weight['sell_price']\n",
    "        Data_Weight = Data_Weight.set_index(['item_id', 'store_id', 'd']).unstack(level=2)['value']\n",
    "        Data_Weight = Data_Weight.loc[zip(self.Data_Train.item_id, self.Data_Train.store_id), :].reset_index(drop=True)\n",
    "        Data_Weight = pd.concat([self.Data_Train[self.ID_Columns], Data_Weight], axis=1, sort=False)\n",
    "        return Data_Weight\n",
    "\n",
    "    def RMSSE(self, FCAST: pd.DataFrame, lv: int) -> pd.Series:\n",
    "        y_Validation = getattr(self, f'lv{lv}_Data_Validation')\n",
    "        Score = ((y_Validation - FCAST) ** 2).mean(axis=1)\n",
    "        Scales = getattr(self, f'lv{lv}_Scales')\n",
    "        return (Score / Scales).map(np.sqrt)\n",
    "\n",
    "    def score(self, FCAST: Union[pd.DataFrame, np.ndarray]) -> float:\n",
    "        assert self.Data_Validation[self.Data_Validation_Columns].shape == FCAST.shape\n",
    "\n",
    "        if isinstance(FCAST, np.ndarray):\n",
    "            FCAST = pd.DataFrame(FCAST, columns=self.Data_Validation_Columns)\n",
    "\n",
    "        FCAST = pd.concat([self.Data_Validation[self.ID_Columns], FCAST], axis=1, sort=False)\n",
    "\n",
    "        Scores_sum = []\n",
    "        for i, id in enumerate(self.ID_lists):\n",
    "            Scores_lv = self.RMSSE(FCAST.groupby(id)[self.Data_Validation_Columns].sum(), i + 1)\n",
    "            Weight = getattr(self, f'lv{i + 1}_weight')\n",
    "            Scores_lv = pd.concat([Weight, Scores_lv], axis=1, sort=False).prod(axis=1)\n",
    "            Scores_sum.append(Scores_lv.sum())\n",
    "\n",
    "        return np.mean(Scores_sum)\n",
    "    \n",
    "# Evaluation metric references\n",
    "# https://www.kaggle.com/c/m5-forecasting-accuracy/discussion/133834"
   ]
  },
  {
   "cell_type": "markdown",
   "metadata": {},
   "source": [
    "# SimpleExpSmoothing\n",
    "Hyper-parameter tuning, try different smoothing_level value and select the parameter with lowest WRMSSE score"
   ]
  },
  {
   "cell_type": "markdown",
   "metadata": {},
   "source": [
    "## smoothing_level = 0.2"
   ]
  },
  {
   "cell_type": "code",
   "execution_count": 6,
   "metadata": {
    "colab": {
     "base_uri": "https://localhost:8080/"
    },
    "id": "vKS5T1wAA-jl",
    "outputId": "25286446-254b-46e8-b5e7-c90c9c4b5423"
   },
   "outputs": [
    {
     "name": "stderr",
     "output_type": "stream",
     "text": [
      "100%|██████████| 30490/30490 [01:43<00:00, 295.56it/s]\n"
     ]
    }
   ],
   "source": [
    "StartTime = time.time()\n",
    "FCAST_1 = []\n",
    "# Train the model\n",
    "for i in tqdm(range(len(SalesTrain))):\n",
    "    SESModel = SimpleExpSmoothing(Train_X.iloc[i]).fit(smoothing_level = 0.2, optimized = False)\n",
    "    FCAST_i = SESModel.forecast(28).values\n",
    "    FCAST_1.append(FCAST_i)\n",
    "    \n",
    "EndTime = time.time()\n",
    "Train_Time_1 = EndTime - StartTime"
   ]
  },
  {
   "cell_type": "code",
   "execution_count": 7,
   "metadata": {
    "colab": {
     "base_uri": "https://localhost:8080/"
    },
    "id": "QsT5HhsZS6ei",
    "outputId": "55eb3dfd-19b5-40b0-b404-a56b56db6490"
   },
   "outputs": [
    {
     "name": "stderr",
     "output_type": "stream",
     "text": [
      "100%|██████████| 12/12 [00:20<00:00,  1.68s/it]"
     ]
    },
    {
     "name": "stdout",
     "output_type": "stream",
     "text": [
      "smoothing_level = 0.2, WRMSSE score of validation data: 1.075649882586048\n"
     ]
    },
    {
     "name": "stderr",
     "output_type": "stream",
     "text": [
      "\n"
     ]
    }
   ],
   "source": [
    "# Split the dataset to training and validating data\n",
    "Sales_Train = SalesTrain.iloc[:,:-28] \n",
    "Sales_Val = SalesTrain.iloc[:,-28:]\n",
    "\n",
    "Forcast = pd.DataFrame(FCAST_1, columns = DateColumns[-28:])\n",
    "\n",
    "# Get the WRMSSE Score\n",
    "WRMSSE_Score1 = WRMSSEFunction(Sales_Train, Sales_Val, Calendar, SellPrices).score(Forcast)\n",
    "print(\"smoothing_level = 0.2, WRMSSE score of validation data:\", WRMSSE_Score1)"
   ]
  },
  {
   "cell_type": "markdown",
   "metadata": {},
   "source": [
    "## smoothing_level = 0.3"
   ]
  },
  {
   "cell_type": "code",
   "execution_count": 8,
   "metadata": {
    "code_folding": [],
    "colab": {
     "base_uri": "https://localhost:8080/"
    },
    "id": "XAyoaZhrS6bZ",
    "outputId": "689ff52f-55c6-4ef1-8f21-07d8939813a1",
    "scrolled": true
   },
   "outputs": [
    {
     "name": "stderr",
     "output_type": "stream",
     "text": [
      "100%|██████████| 30490/30490 [01:43<00:00, 293.75it/s]\n"
     ]
    }
   ],
   "source": [
    "StartTime = time.time()\n",
    "FCAST_2 = []\n",
    "# Train the model\n",
    "for i in tqdm(range(len(SalesTrain))):\n",
    "    SESModel = SimpleExpSmoothing( Train_X.iloc[i]).fit(smoothing_level = 0.3, optimized = False)\n",
    "    FCAST_i = SESModel.forecast(28).values\n",
    "    FCAST_2.append(FCAST_i)\n",
    "    \n",
    "EndTime = time.time()\n",
    "Train_Time_2 = EndTime - StartTime"
   ]
  },
  {
   "cell_type": "code",
   "execution_count": 9,
   "metadata": {
    "colab": {
     "base_uri": "https://localhost:8080/"
    },
    "id": "qlCqofKLaeCd",
    "outputId": "245fe120-244c-410e-ff62-e02431350634",
    "scrolled": true
   },
   "outputs": [
    {
     "name": "stderr",
     "output_type": "stream",
     "text": [
      "100%|██████████| 12/12 [00:19<00:00,  1.62s/it]"
     ]
    },
    {
     "name": "stdout",
     "output_type": "stream",
     "text": [
      "smoothing_level = 0.3, WRMSSE score of validation data: 1.0982107063296165\n"
     ]
    },
    {
     "name": "stderr",
     "output_type": "stream",
     "text": [
      "\n"
     ]
    }
   ],
   "source": [
    "# Split the dataset to training and validating data\n",
    "Sales_Train = SalesTrain.iloc[:,:-28] \n",
    "Sales_Val = SalesTrain.iloc[:,-28:]\n",
    "\n",
    "Forcast = pd.DataFrame(FCAST_2, columns = DateColumns[-28:])\n",
    "\n",
    "# Get the WRMSSE Score\n",
    "WRMSSE_Score2 = WRMSSEFunction(Sales_Train, Sales_Val, Calendar, SellPrices).score(Forcast)\n",
    "print(\"smoothing_level = 0.3, WRMSSE score of validation data:\", WRMSSE_Score2)"
   ]
  },
  {
   "cell_type": "markdown",
   "metadata": {},
   "source": [
    "## smoothing_level = default value set by the model"
   ]
  },
  {
   "cell_type": "code",
   "execution_count": 10,
   "metadata": {
    "colab": {
     "base_uri": "https://localhost:8080/"
    },
    "id": "7YCRkAc8A9fG",
    "outputId": "dc6bd739-4ad0-42ba-81c2-0d9227dac751",
    "scrolled": true
   },
   "outputs": [
    {
     "name": "stderr",
     "output_type": "stream",
     "text": [
      "100%|██████████| 30490/30490 [02:41<00:00, 189.04it/s]\n"
     ]
    }
   ],
   "source": [
    "StartTime = time.time()\n",
    "FCAST_3 = []\n",
    "# Train the model\n",
    "for i in tqdm(range(len(SalesTrain))):\n",
    "    SESModel = SimpleExpSmoothing(Train_X.iloc[i]).fit()\n",
    "    FCAST_i = SESModel.forecast(28).values\n",
    "    FCAST_3.append(FCAST_i)\n",
    "    \n",
    "EndTime = time.time()\n",
    "Train_Time_3 = EndTime - StartTime"
   ]
  },
  {
   "cell_type": "code",
   "execution_count": 11,
   "metadata": {
    "colab": {
     "base_uri": "https://localhost:8080/"
    },
    "id": "32uz-dgpbsSt",
    "outputId": "1d8ad54f-eae4-4225-d56f-d26d5d27d917"
   },
   "outputs": [
    {
     "name": "stderr",
     "output_type": "stream",
     "text": [
      "100%|██████████| 12/12 [00:19<00:00,  1.62s/it]"
     ]
    },
    {
     "name": "stdout",
     "output_type": "stream",
     "text": [
      "Default model, WRMSSE score of validation data: 1.0753478110499255\n"
     ]
    },
    {
     "name": "stderr",
     "output_type": "stream",
     "text": [
      "\n"
     ]
    }
   ],
   "source": [
    "Forcast = pd.DataFrame(FCAST_3, columns = DateColumns[-28:])\n",
    "\n",
    "# Get the WRMSSE Score\n",
    "WRMSSE_Score3 = WRMSSEFunction(Sales_Train, Sales_Val, Calendar, SellPrices).score(Forcast)\n",
    "print(\"Default model, WRMSSE score of validation data:\", WRMSSE_Score3)"
   ]
  },
  {
   "cell_type": "markdown",
   "metadata": {},
   "source": [
    "# Comparison of Smoothing Parameters(alpha) in SES"
   ]
  },
  {
   "cell_type": "code",
   "execution_count": 12,
   "metadata": {},
   "outputs": [
    {
     "data": {
      "text/plain": [
       "1.075649882586048"
      ]
     },
     "execution_count": 12,
     "metadata": {},
     "output_type": "execute_result"
    }
   ],
   "source": [
    "WRMSSE_Score1"
   ]
  },
  {
   "cell_type": "code",
   "execution_count": 13,
   "metadata": {},
   "outputs": [
    {
     "data": {
      "text/plain": [
       "103.17814469337463"
      ]
     },
     "execution_count": 13,
     "metadata": {},
     "output_type": "execute_result"
    }
   ],
   "source": [
    "Train_Time_1"
   ]
  },
  {
   "cell_type": "code",
   "execution_count": 17,
   "metadata": {
    "scrolled": false
   },
   "outputs": [
    {
     "data": {
      "image/png": "[encoded data removed]",
      "text/plain": [
       "<Figure size 432x288 with 2 Axes>"
      ]
     },
     "metadata": {
      "needs_background": "light"
     },
     "output_type": "display_data"
    }
   ],
   "source": [
    "import matplotlib.pyplot as plt\n",
    "\n",
    "width = .5 # width of a bar\n",
    "h = pd.DataFrame({\n",
    "    'WRMSSE_Score': [WRMSSE_Score1, WRMSSE_Score2, WRMSSE_Score3],\n",
    "    'Time Cost': [Train_Time_1, Train_Time_2, Train_Time_3],\n",
    "    })\n",
    "\n",
    "ax1 = h[['WRMSSE_Score']].plot(kind='bar', color='navy', width = width)\n",
    "ax1.legend(loc = 'upper left')\n",
    "ax1.set_ylim([1.05, 1.16])\n",
    "\n",
    "ax2 = ax1.twinx()\n",
    "ax2.plot(ax1.get_xticks(),\n",
    "         h[['Time Cost']].values, color='orange',\n",
    "         linestyle='-', marker='o', linewidth=2.0)\n",
    "\n",
    "ax1.set_xlabel(\"Smoothing Parameters\")\n",
    "ax1.set_ylabel(\"WRMSSE_Score\")\n",
    "ax2.set_ylabel(\"Time cost(s)\")\n",
    "# ax2.legend(loc = 'upper left')\n",
    "ax2.legend(['Time Cost(s)'], loc = 'center left', bbox_to_anchor=(0, 0.6, 0.5, 0.5))\n",
    "\n",
    "ax1.set_xticklabels(['0.2','0.3','Default'], rotation = 0)\n",
    "ax2.set_ylim([60, 200])\n",
    "\n",
    "plt.title(\"Comparison of Smoothing Parameters(alpha) in SES\")\n",
    "plt.show()"
   ]
  },
  {
   "cell_type": "code",
   "execution_count": 15,
   "metadata": {
    "colab": {
     "base_uri": "https://localhost:8080/"
    },
    "id": "mNsB_F-PS6Vh",
    "outputId": "605b8cba-b902-4c2a-90ed-1436abe0d1c0",
    "scrolled": true
   },
   "outputs": [
    {
     "name": "stderr",
     "output_type": "stream",
     "text": [
      "100%|██████████| 30490/30490 [02:40<00:00, 189.65it/s]\n"
     ]
    }
   ],
   "source": [
    "# Use default smoothing level value selected by model\n",
    "FCAST = []\n",
    "for i in tqdm(range(len(SalesTrain))):\n",
    "    SESModel2 = SimpleExpSmoothing(Train_X.iloc[i]).fit()\n",
    "    FCAST_i = SESModel2.forecast(28).values\n",
    "    FCAST.append(FCAST_i)"
   ]
  },
  {
   "cell_type": "code",
   "execution_count": 16,
   "metadata": {
    "id": "rRJPtkUAS6T4"
   },
   "outputs": [],
   "source": [
    "FCAST_3 = np.array(FCAST_3)\n",
    "FCAST = np.array(FCAST)"
   ]
  },
  {
   "cell_type": "markdown",
   "metadata": {},
   "source": [
    "# Output the submission file"
   ]
  },
  {
   "cell_type": "code",
   "execution_count": 18,
   "metadata": {
    "id": "TTa2RJ05S6Rs",
    "scrolled": true
   },
   "outputs": [
    {
     "name": "stdout",
     "output_type": "stream",
     "text": [
      "Index(['id', 'F1', 'F2', 'F3', 'F4', 'F5', 'F6', 'F7', 'F8', 'F9', 'F10',\n",
      "       'F11', 'F12', 'F13', 'F14', 'F15', 'F16', 'F17', 'F18', 'F19', 'F20',\n",
      "       'F21', 'F22', 'F23', 'F24', 'F25', 'F26', 'F27', 'F28'],\n",
      "      dtype='object')\n"
     ]
    }
   ],
   "source": [
    "sample_submission = pd.read_csv('data/sample_submission.csv')\n",
    "# Split the file to do parallel work \n",
    "Submission_1 = sample_submission.iloc[:30490,:]\n",
    "Submission_2 = sample_submission.iloc[30490:,:]\n",
    "\n",
    "print(sample_submission.columns)"
   ]
  },
  {
   "cell_type": "code",
   "execution_count": 19,
   "metadata": {},
   "outputs": [],
   "source": [
    "F_Columns = [i for i in sample_submission.columns if 'F' in i]\n",
    "for i in range(len(F_Columns)):\n",
    "    Submission_1[F_Columns[i]] = FCAST_3[:,i]\n",
    "    Submission_2[F_Columns[i]] = FCAST[:,i]"
   ]
  },
  {
   "cell_type": "code",
   "execution_count": 20,
   "metadata": {
    "colab": {
     "base_uri": "https://localhost:8080/",
     "height": 439
    },
    "id": "OEcpM8_mzVRb",
    "outputId": "5d6f9437-61ea-4f79-eb5e-c4fae0e7773d",
    "scrolled": true
   },
   "outputs": [
    {
     "data": {
      "text/html": [
       "<div>\n",
       "<style scoped>\n",
       "    .dataframe tbody tr th:only-of-type {\n",
       "        vertical-align: middle;\n",
       "    }\n",
       "\n",
       "    .dataframe tbody tr th {\n",
       "        vertical-align: top;\n",
       "    }\n",
       "\n",
       "    .dataframe thead th {\n",
       "        text-align: right;\n",
       "    }\n",
       "</style>\n",
       "<table border=\"1\" class=\"dataframe\">\n",
       "  <thead>\n",
       "    <tr style=\"text-align: right;\">\n",
       "      <th></th>\n",
       "      <th>id</th>\n",
       "      <th>F1</th>\n",
       "      <th>F2</th>\n",
       "      <th>F3</th>\n",
       "      <th>F4</th>\n",
       "      <th>F5</th>\n",
       "      <th>F6</th>\n",
       "      <th>F7</th>\n",
       "      <th>F8</th>\n",
       "      <th>F9</th>\n",
       "      <th>...</th>\n",
       "      <th>F19</th>\n",
       "      <th>F20</th>\n",
       "      <th>F21</th>\n",
       "      <th>F22</th>\n",
       "      <th>F23</th>\n",
       "      <th>F24</th>\n",
       "      <th>F25</th>\n",
       "      <th>F26</th>\n",
       "      <th>F27</th>\n",
       "      <th>F28</th>\n",
       "    </tr>\n",
       "  </thead>\n",
       "  <tbody>\n",
       "    <tr>\n",
       "      <th>0</th>\n",
       "      <td>HOBBIES_1_001_CA_1_validation</td>\n",
       "      <td>0.992402</td>\n",
       "      <td>0.992402</td>\n",
       "      <td>0.992402</td>\n",
       "      <td>0.992402</td>\n",
       "      <td>0.992402</td>\n",
       "      <td>0.992402</td>\n",
       "      <td>0.992402</td>\n",
       "      <td>0.992402</td>\n",
       "      <td>0.992402</td>\n",
       "      <td>...</td>\n",
       "      <td>0.992402</td>\n",
       "      <td>0.992402</td>\n",
       "      <td>0.992402</td>\n",
       "      <td>0.992402</td>\n",
       "      <td>0.992402</td>\n",
       "      <td>0.992402</td>\n",
       "      <td>0.992402</td>\n",
       "      <td>0.992402</td>\n",
       "      <td>0.992402</td>\n",
       "      <td>0.992402</td>\n",
       "    </tr>\n",
       "    <tr>\n",
       "      <th>1</th>\n",
       "      <td>HOBBIES_1_002_CA_1_validation</td>\n",
       "      <td>0.128630</td>\n",
       "      <td>0.128630</td>\n",
       "      <td>0.128630</td>\n",
       "      <td>0.128630</td>\n",
       "      <td>0.128630</td>\n",
       "      <td>0.128630</td>\n",
       "      <td>0.128630</td>\n",
       "      <td>0.128630</td>\n",
       "      <td>0.128630</td>\n",
       "      <td>...</td>\n",
       "      <td>0.128630</td>\n",
       "      <td>0.128630</td>\n",
       "      <td>0.128630</td>\n",
       "      <td>0.128630</td>\n",
       "      <td>0.128630</td>\n",
       "      <td>0.128630</td>\n",
       "      <td>0.128630</td>\n",
       "      <td>0.128630</td>\n",
       "      <td>0.128630</td>\n",
       "      <td>0.128630</td>\n",
       "    </tr>\n",
       "    <tr>\n",
       "      <th>2</th>\n",
       "      <td>HOBBIES_1_003_CA_1_validation</td>\n",
       "      <td>0.816011</td>\n",
       "      <td>0.816011</td>\n",
       "      <td>0.816011</td>\n",
       "      <td>0.816011</td>\n",
       "      <td>0.816011</td>\n",
       "      <td>0.816011</td>\n",
       "      <td>0.816011</td>\n",
       "      <td>0.816011</td>\n",
       "      <td>0.816011</td>\n",
       "      <td>...</td>\n",
       "      <td>0.816011</td>\n",
       "      <td>0.816011</td>\n",
       "      <td>0.816011</td>\n",
       "      <td>0.816011</td>\n",
       "      <td>0.816011</td>\n",
       "      <td>0.816011</td>\n",
       "      <td>0.816011</td>\n",
       "      <td>0.816011</td>\n",
       "      <td>0.816011</td>\n",
       "      <td>0.816011</td>\n",
       "    </tr>\n",
       "    <tr>\n",
       "      <th>3</th>\n",
       "      <td>HOBBIES_1_004_CA_1_validation</td>\n",
       "      <td>2.014205</td>\n",
       "      <td>2.014205</td>\n",
       "      <td>2.014205</td>\n",
       "      <td>2.014205</td>\n",
       "      <td>2.014205</td>\n",
       "      <td>2.014205</td>\n",
       "      <td>2.014205</td>\n",
       "      <td>2.014205</td>\n",
       "      <td>2.014205</td>\n",
       "      <td>...</td>\n",
       "      <td>2.014205</td>\n",
       "      <td>2.014205</td>\n",
       "      <td>2.014205</td>\n",
       "      <td>2.014205</td>\n",
       "      <td>2.014205</td>\n",
       "      <td>2.014205</td>\n",
       "      <td>2.014205</td>\n",
       "      <td>2.014205</td>\n",
       "      <td>2.014205</td>\n",
       "      <td>2.014205</td>\n",
       "    </tr>\n",
       "    <tr>\n",
       "      <th>4</th>\n",
       "      <td>HOBBIES_1_005_CA_1_validation</td>\n",
       "      <td>1.424706</td>\n",
       "      <td>1.424706</td>\n",
       "      <td>1.424706</td>\n",
       "      <td>1.424706</td>\n",
       "      <td>1.424706</td>\n",
       "      <td>1.424706</td>\n",
       "      <td>1.424706</td>\n",
       "      <td>1.424706</td>\n",
       "      <td>1.424706</td>\n",
       "      <td>...</td>\n",
       "      <td>1.424706</td>\n",
       "      <td>1.424706</td>\n",
       "      <td>1.424706</td>\n",
       "      <td>1.424706</td>\n",
       "      <td>1.424706</td>\n",
       "      <td>1.424706</td>\n",
       "      <td>1.424706</td>\n",
       "      <td>1.424706</td>\n",
       "      <td>1.424706</td>\n",
       "      <td>1.424706</td>\n",
       "    </tr>\n",
       "    <tr>\n",
       "      <th>...</th>\n",
       "      <td>...</td>\n",
       "      <td>...</td>\n",
       "      <td>...</td>\n",
       "      <td>...</td>\n",
       "      <td>...</td>\n",
       "      <td>...</td>\n",
       "      <td>...</td>\n",
       "      <td>...</td>\n",
       "      <td>...</td>\n",
       "      <td>...</td>\n",
       "      <td>...</td>\n",
       "      <td>...</td>\n",
       "      <td>...</td>\n",
       "      <td>...</td>\n",
       "      <td>...</td>\n",
       "      <td>...</td>\n",
       "      <td>...</td>\n",
       "      <td>...</td>\n",
       "      <td>...</td>\n",
       "      <td>...</td>\n",
       "      <td>...</td>\n",
       "    </tr>\n",
       "    <tr>\n",
       "      <th>60975</th>\n",
       "      <td>FOODS_3_823_WI_3_evaluation</td>\n",
       "      <td>0.345106</td>\n",
       "      <td>0.345106</td>\n",
       "      <td>0.345106</td>\n",
       "      <td>0.345106</td>\n",
       "      <td>0.345106</td>\n",
       "      <td>0.345106</td>\n",
       "      <td>0.345106</td>\n",
       "      <td>0.345106</td>\n",
       "      <td>0.345106</td>\n",
       "      <td>...</td>\n",
       "      <td>0.345106</td>\n",
       "      <td>0.345106</td>\n",
       "      <td>0.345106</td>\n",
       "      <td>0.345106</td>\n",
       "      <td>0.345106</td>\n",
       "      <td>0.345106</td>\n",
       "      <td>0.345106</td>\n",
       "      <td>0.345106</td>\n",
       "      <td>0.345106</td>\n",
       "      <td>0.345106</td>\n",
       "    </tr>\n",
       "    <tr>\n",
       "      <th>60976</th>\n",
       "      <td>FOODS_3_824_WI_3_evaluation</td>\n",
       "      <td>0.201306</td>\n",
       "      <td>0.201306</td>\n",
       "      <td>0.201306</td>\n",
       "      <td>0.201306</td>\n",
       "      <td>0.201306</td>\n",
       "      <td>0.201306</td>\n",
       "      <td>0.201306</td>\n",
       "      <td>0.201306</td>\n",
       "      <td>0.201306</td>\n",
       "      <td>...</td>\n",
       "      <td>0.201306</td>\n",
       "      <td>0.201306</td>\n",
       "      <td>0.201306</td>\n",
       "      <td>0.201306</td>\n",
       "      <td>0.201306</td>\n",
       "      <td>0.201306</td>\n",
       "      <td>0.201306</td>\n",
       "      <td>0.201306</td>\n",
       "      <td>0.201306</td>\n",
       "      <td>0.201306</td>\n",
       "    </tr>\n",
       "    <tr>\n",
       "      <th>60977</th>\n",
       "      <td>FOODS_3_825_WI_3_evaluation</td>\n",
       "      <td>0.634659</td>\n",
       "      <td>0.634659</td>\n",
       "      <td>0.634659</td>\n",
       "      <td>0.634659</td>\n",
       "      <td>0.634659</td>\n",
       "      <td>0.634659</td>\n",
       "      <td>0.634659</td>\n",
       "      <td>0.634659</td>\n",
       "      <td>0.634659</td>\n",
       "      <td>...</td>\n",
       "      <td>0.634659</td>\n",
       "      <td>0.634659</td>\n",
       "      <td>0.634659</td>\n",
       "      <td>0.634659</td>\n",
       "      <td>0.634659</td>\n",
       "      <td>0.634659</td>\n",
       "      <td>0.634659</td>\n",
       "      <td>0.634659</td>\n",
       "      <td>0.634659</td>\n",
       "      <td>0.634659</td>\n",
       "    </tr>\n",
       "    <tr>\n",
       "      <th>60978</th>\n",
       "      <td>FOODS_3_826_WI_3_evaluation</td>\n",
       "      <td>1.097968</td>\n",
       "      <td>1.097968</td>\n",
       "      <td>1.097968</td>\n",
       "      <td>1.097968</td>\n",
       "      <td>1.097968</td>\n",
       "      <td>1.097968</td>\n",
       "      <td>1.097968</td>\n",
       "      <td>1.097968</td>\n",
       "      <td>1.097968</td>\n",
       "      <td>...</td>\n",
       "      <td>1.097968</td>\n",
       "      <td>1.097968</td>\n",
       "      <td>1.097968</td>\n",
       "      <td>1.097968</td>\n",
       "      <td>1.097968</td>\n",
       "      <td>1.097968</td>\n",
       "      <td>1.097968</td>\n",
       "      <td>1.097968</td>\n",
       "      <td>1.097968</td>\n",
       "      <td>1.097968</td>\n",
       "    </tr>\n",
       "    <tr>\n",
       "      <th>60979</th>\n",
       "      <td>FOODS_3_827_WI_3_evaluation</td>\n",
       "      <td>0.905754</td>\n",
       "      <td>0.905754</td>\n",
       "      <td>0.905754</td>\n",
       "      <td>0.905754</td>\n",
       "      <td>0.905754</td>\n",
       "      <td>0.905754</td>\n",
       "      <td>0.905754</td>\n",
       "      <td>0.905754</td>\n",
       "      <td>0.905754</td>\n",
       "      <td>...</td>\n",
       "      <td>0.905754</td>\n",
       "      <td>0.905754</td>\n",
       "      <td>0.905754</td>\n",
       "      <td>0.905754</td>\n",
       "      <td>0.905754</td>\n",
       "      <td>0.905754</td>\n",
       "      <td>0.905754</td>\n",
       "      <td>0.905754</td>\n",
       "      <td>0.905754</td>\n",
       "      <td>0.905754</td>\n",
       "    </tr>\n",
       "  </tbody>\n",
       "</table>\n",
       "<p>60980 rows × 29 columns</p>\n",
       "</div>"
      ],
      "text/plain": [
       "                                  id        F1        F2        F3        F4  \\\n",
       "0      HOBBIES_1_001_CA_1_validation  0.992402  0.992402  0.992402  0.992402   \n",
       "1      HOBBIES_1_002_CA_1_validation  0.128630  0.128630  0.128630  0.128630   \n",
       "2      HOBBIES_1_003_CA_1_validation  0.816011  0.816011  0.816011  0.816011   \n",
       "3      HOBBIES_1_004_CA_1_validation  2.014205  2.014205  2.014205  2.014205   \n",
       "4      HOBBIES_1_005_CA_1_validation  1.424706  1.424706  1.424706  1.424706   \n",
       "...                              ...       ...       ...       ...       ...   \n",
       "60975    FOODS_3_823_WI_3_evaluation  0.345106  0.345106  0.345106  0.345106   \n",
       "60976    FOODS_3_824_WI_3_evaluation  0.201306  0.201306  0.201306  0.201306   \n",
       "60977    FOODS_3_825_WI_3_evaluation  0.634659  0.634659  0.634659  0.634659   \n",
       "60978    FOODS_3_826_WI_3_evaluation  1.097968  1.097968  1.097968  1.097968   \n",
       "60979    FOODS_3_827_WI_3_evaluation  0.905754  0.905754  0.905754  0.905754   \n",
       "\n",
       "             F5        F6        F7        F8        F9  ...       F19  \\\n",
       "0      0.992402  0.992402  0.992402  0.992402  0.992402  ...  0.992402   \n",
       "1      0.128630  0.128630  0.128630  0.128630  0.128630  ...  0.128630   \n",
       "2      0.816011  0.816011  0.816011  0.816011  0.816011  ...  0.816011   \n",
       "3      2.014205  2.014205  2.014205  2.014205  2.014205  ...  2.014205   \n",
       "4      1.424706  1.424706  1.424706  1.424706  1.424706  ...  1.424706   \n",
       "...         ...       ...       ...       ...       ...  ...       ...   \n",
       "60975  0.345106  0.345106  0.345106  0.345106  0.345106  ...  0.345106   \n",
       "60976  0.201306  0.201306  0.201306  0.201306  0.201306  ...  0.201306   \n",
       "60977  0.634659  0.634659  0.634659  0.634659  0.634659  ...  0.634659   \n",
       "60978  1.097968  1.097968  1.097968  1.097968  1.097968  ...  1.097968   \n",
       "60979  0.905754  0.905754  0.905754  0.905754  0.905754  ...  0.905754   \n",
       "\n",
       "            F20       F21       F22       F23       F24       F25       F26  \\\n",
       "0      0.992402  0.992402  0.992402  0.992402  0.992402  0.992402  0.992402   \n",
       "1      0.128630  0.128630  0.128630  0.128630  0.128630  0.128630  0.128630   \n",
       "2      0.816011  0.816011  0.816011  0.816011  0.816011  0.816011  0.816011   \n",
       "3      2.014205  2.014205  2.014205  2.014205  2.014205  2.014205  2.014205   \n",
       "4      1.424706  1.424706  1.424706  1.424706  1.424706  1.424706  1.424706   \n",
       "...         ...       ...       ...       ...       ...       ...       ...   \n",
       "60975  0.345106  0.345106  0.345106  0.345106  0.345106  0.345106  0.345106   \n",
       "60976  0.201306  0.201306  0.201306  0.201306  0.201306  0.201306  0.201306   \n",
       "60977  0.634659  0.634659  0.634659  0.634659  0.634659  0.634659  0.634659   \n",
       "60978  1.097968  1.097968  1.097968  1.097968  1.097968  1.097968  1.097968   \n",
       "60979  0.905754  0.905754  0.905754  0.905754  0.905754  0.905754  0.905754   \n",
       "\n",
       "            F27       F28  \n",
       "0      0.992402  0.992402  \n",
       "1      0.128630  0.128630  \n",
       "2      0.816011  0.816011  \n",
       "3      2.014205  2.014205  \n",
       "4      1.424706  1.424706  \n",
       "...         ...       ...  \n",
       "60975  0.345106  0.345106  \n",
       "60976  0.201306  0.201306  \n",
       "60977  0.634659  0.634659  \n",
       "60978  1.097968  1.097968  \n",
       "60979  0.905754  0.905754  \n",
       "\n",
       "[60980 rows x 29 columns]"
      ]
     },
     "execution_count": 20,
     "metadata": {},
     "output_type": "execute_result"
    }
   ],
   "source": [
    "# Combine two parts to get the whole forcast result\n",
    "Submission = pd.concat([Submission_1, Submission_2])\n",
    "Submission"
   ]
  },
  {
   "cell_type": "code",
   "execution_count": 21,
   "metadata": {
    "id": "mdmJYURqEPXJ"
   },
   "outputs": [],
   "source": [
    "Submission.to_csv(\"submission.csv\", index = False)"
   ]
  },
  {
   "cell_type": "code",
   "execution_count": null,
   "metadata": {},
   "outputs": [],
   "source": []
  }
 ],
 "metadata": {
  "colab": {
   "collapsed_sections": [],
   "name": "simple_model.ipynb",
   "provenance": []
  },
  "kernelspec": {
   "display_name": "Python 3",
   "language": "python",
   "name": "python3"
  },
  "language_info": {
   "codemirror_mode": {
    "name": "ipython",
    "version": 3
   },
   "file_extension": ".py",
   "mimetype": "text/x-python",
   "name": "python",
   "nbconvert_exporter": "python",
   "pygments_lexer": "ipython3",
   "version": "3.8.3"
  },
  "toc": {
   "base_numbering": 1,
   "nav_menu": {},
   "number_sections": true,
   "sideBar": true,
   "skip_h1_title": false,
   "title_cell": "Table of Contents",
   "title_sidebar": "Contents",
   "toc_cell": false,
   "toc_position": {},
   "toc_section_display": true,
   "toc_window_display": true
  }
 },
 "nbformat": 4,
 "nbformat_minor": 1
}
