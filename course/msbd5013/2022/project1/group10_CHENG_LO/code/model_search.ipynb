{
 "cells": [
  {
   "cell_type": "code",
   "execution_count": 6,
   "id": "69d83165",
   "metadata": {},
   "outputs": [
    {
     "data": {
      "application/javascript": [
       "\n",
       "            setTimeout(function() {\n",
       "                var nbb_cell_id = 6;\n",
       "                var nbb_unformatted_code = \"import sys\\nimport pandas as pd\\nimport re\\nimport numpy as np\\nimport shap\\n\\nsys.path.append(\\\"..\\\")\\n\\nfrom src.features import multitable_merge\\nfrom sklearn.model_selection import StratifiedKFold\\nfrom sklearn.metrics import classification_report, roc_auc_score\\nfrom sklearn.ensemble import RandomForestClassifier\\nfrom sklearn.neighbors import KNeighborsClassifier\\nfrom sklearn.inspection import permutation_importance\\nfrom lightgbm import LGBMClassifier\\nfrom xgboost import XGBClassifier\\n\\n%load_ext nb_black\";\n",
       "                var nbb_formatted_code = \"import sys\\nimport pandas as pd\\nimport re\\nimport numpy as np\\nimport shap\\n\\nsys.path.append(\\\"..\\\")\\n\\nfrom src.features import multitable_merge\\nfrom sklearn.model_selection import StratifiedKFold\\nfrom sklearn.metrics import classification_report, roc_auc_score\\nfrom sklearn.ensemble import RandomForestClassifier\\nfrom sklearn.neighbors import KNeighborsClassifier\\nfrom sklearn.inspection import permutation_importance\\nfrom lightgbm import LGBMClassifier\\nfrom xgboost import XGBClassifier\\n\\n%load_ext nb_black\";\n",
       "                var nbb_cells = Jupyter.notebook.get_cells();\n",
       "                for (var i = 0; i < nbb_cells.length; ++i) {\n",
       "                    if (nbb_cells[i].input_prompt_number == nbb_cell_id) {\n",
       "                        if (nbb_cells[i].get_text() == nbb_unformatted_code) {\n",
       "                             nbb_cells[i].set_text(nbb_formatted_code);\n",
       "                        }\n",
       "                        break;\n",
       "                    }\n",
       "                }\n",
       "            }, 500);\n",
       "            "
      ],
      "text/plain": [
       "<IPython.core.display.Javascript object>"
      ]
     },
     "metadata": {},
     "output_type": "display_data"
    }
   ],
   "source": [
    "import sys\n",
    "import pandas as pd\n",
    "import re\n",
    "import numpy as np\n",
    "import shap\n",
    "\n",
    "sys.path.append(\"..\")\n",
    "\n",
    "from src.features import multitable_merge\n",
    "from sklearn.model_selection import StratifiedKFold\n",
    "from sklearn.metrics import classification_report, roc_auc_score\n",
    "from sklearn.ensemble import RandomForestClassifier\n",
    "from sklearn.neighbors import KNeighborsClassifier\n",
    "from sklearn.inspection import permutation_importance\n",
    "from lightgbm import LGBMClassifier\n",
    "from xgboost import XGBClassifier\n",
    "\n",
    "%load_ext nb_black"
   ]
  },
  {
   "cell_type": "code",
   "execution_count": 7,
   "id": "b56a94ff",
   "metadata": {},
   "outputs": [
    {
     "data": {
      "application/javascript": [
       "\n",
       "            setTimeout(function() {\n",
       "                var nbb_cell_id = 7;\n",
       "                var nbb_unformatted_code = \"data = multitable_merge(\\\"../data\\\")\";\n",
       "                var nbb_formatted_code = \"data = multitable_merge(\\\"../data\\\")\";\n",
       "                var nbb_cells = Jupyter.notebook.get_cells();\n",
       "                for (var i = 0; i < nbb_cells.length; ++i) {\n",
       "                    if (nbb_cells[i].input_prompt_number == nbb_cell_id) {\n",
       "                        if (nbb_cells[i].get_text() == nbb_unformatted_code) {\n",
       "                             nbb_cells[i].set_text(nbb_formatted_code);\n",
       "                        }\n",
       "                        break;\n",
       "                    }\n",
       "                }\n",
       "            }, 500);\n",
       "            "
      ],
      "text/plain": [
       "<IPython.core.display.Javascript object>"
      ]
     },
     "metadata": {},
     "output_type": "display_data"
    }
   ],
   "source": [
    "data = multitable_merge(\"../data\")"
   ]
  },
  {
   "cell_type": "code",
   "execution_count": 8,
   "id": "dd3f57fc",
   "metadata": {},
   "outputs": [
    {
     "name": "stdout",
     "output_type": "stream",
     "text": [
      "(307511, 361)\n"
     ]
    },
    {
     "data": {
      "application/javascript": [
       "\n",
       "            setTimeout(function() {\n",
       "                var nbb_cell_id = 8;\n",
       "                var nbb_unformatted_code = \"x = data[\\\"train\\\"].drop([\\\"TARGET\\\", \\\"SK_ID_CURR\\\"], axis=1)\\ny = data[\\\"train\\\"][\\\"TARGET\\\"]\\n\\nprint(x.shape)\";\n",
       "                var nbb_formatted_code = \"x = data[\\\"train\\\"].drop([\\\"TARGET\\\", \\\"SK_ID_CURR\\\"], axis=1)\\ny = data[\\\"train\\\"][\\\"TARGET\\\"]\\n\\nprint(x.shape)\";\n",
       "                var nbb_cells = Jupyter.notebook.get_cells();\n",
       "                for (var i = 0; i < nbb_cells.length; ++i) {\n",
       "                    if (nbb_cells[i].input_prompt_number == nbb_cell_id) {\n",
       "                        if (nbb_cells[i].get_text() == nbb_unformatted_code) {\n",
       "                             nbb_cells[i].set_text(nbb_formatted_code);\n",
       "                        }\n",
       "                        break;\n",
       "                    }\n",
       "                }\n",
       "            }, 500);\n",
       "            "
      ],
      "text/plain": [
       "<IPython.core.display.Javascript object>"
      ]
     },
     "metadata": {},
     "output_type": "display_data"
    }
   ],
   "source": [
    "x = data[\"train\"].drop([\"TARGET\", \"SK_ID_CURR\"], axis=1)\n",
    "y = data[\"train\"][\"TARGET\"]\n",
    "\n",
    "print(x.shape)"
   ]
  },
  {
   "cell_type": "code",
   "execution_count": 29,
   "id": "a5d2ae8f",
   "metadata": {},
   "outputs": [
    {
     "data": {
      "application/javascript": [
       "\n",
       "            setTimeout(function() {\n",
       "                var nbb_cell_id = 29;\n",
       "                var nbb_unformatted_code = \"x_test = data[\\\"test\\\"].drop([\\\"SK_ID_CURR\\\"], axis=1)\\n\\nfor i in range(len(x.columns)):\\n    col_a = x.columns[i]\\n    \\n    if col_a not in x_test.columns:\\n        x_test[col_a] = 0\";\n",
       "                var nbb_formatted_code = \"x_test = data[\\\"test\\\"].drop([\\\"SK_ID_CURR\\\"], axis=1)\\n\\nfor i in range(len(x.columns)):\\n    col_a = x.columns[i]\\n\\n    if col_a not in x_test.columns:\\n        x_test[col_a] = 0\";\n",
       "                var nbb_cells = Jupyter.notebook.get_cells();\n",
       "                for (var i = 0; i < nbb_cells.length; ++i) {\n",
       "                    if (nbb_cells[i].input_prompt_number == nbb_cell_id) {\n",
       "                        if (nbb_cells[i].get_text() == nbb_unformatted_code) {\n",
       "                             nbb_cells[i].set_text(nbb_formatted_code);\n",
       "                        }\n",
       "                        break;\n",
       "                    }\n",
       "                }\n",
       "            }, 500);\n",
       "            "
      ],
      "text/plain": [
       "<IPython.core.display.Javascript object>"
      ]
     },
     "metadata": {},
     "output_type": "display_data"
    }
   ],
   "source": [
    "x_test = data[\"test\"].drop([\"SK_ID_CURR\"], axis=1)\n",
    "\n",
    "for i in range(len(x.columns)):\n",
    "    col_a = x.columns[i]\n",
    "    \n",
    "    if col_a not in x_test.columns:\n",
    "        x_test[col_a] = 0\n"
   ]
  },
  {
   "cell_type": "code",
   "execution_count": 9,
   "id": "265a7e7f",
   "metadata": {},
   "outputs": [
    {
     "data": {
      "application/javascript": [
       "\n",
       "            setTimeout(function() {\n",
       "                var nbb_cell_id = 9;\n",
       "                var nbb_unformatted_code = \"def stratified_kfold_train(\\n    x, y, model, fold=10, categorical_var=None\\n):\\n    kf = StratifiedKFold(fold)\\n\\n    models = []\\n    scores = []\\n    cls_reports = []\\n\\n    for train_idx, test_idx in kf.split(x, y):\\n        x_train, y_train = x.iloc[train_idx], y.iloc[train_idx]\\n        x_test, y_test = x.iloc[test_idx], y.iloc[test_idx]\\n\\n        model.fit(x_train, y_train)\\n\\n        proba = model.predict_proba(x_test)\\n        pred = proba.argmax(1)\\n\\n        roc = roc_auc_score(y_test, proba[:, 1])\\n        report = classification_report(y_test, pred, digits=4)\\n        print(roc)\\n        print(report)\\n\\n        models.append(model)\\n        scores.append(roc)\\n        cls_reports.append(\\n            classification_report(\\n                y_test,\\n                pred,\\n                digits=4,\\n                output_dict=True,\\n            )\\n        )\\n    \\n    # train final model\\n    model.fit(x, y)\\n    \\n    return {\\n        \\\"model\\\": model,\\n        \\\"kfold_models\\\": models,\\n        \\\"roc_scores\\\": scores,\\n        \\\"classification_reports\\\": cls_reports,\\n    }\";\n",
       "                var nbb_formatted_code = \"def stratified_kfold_train(x, y, model, fold=10, categorical_var=None):\\n    kf = StratifiedKFold(fold)\\n\\n    models = []\\n    scores = []\\n    cls_reports = []\\n\\n    for train_idx, test_idx in kf.split(x, y):\\n        x_train, y_train = x.iloc[train_idx], y.iloc[train_idx]\\n        x_test, y_test = x.iloc[test_idx], y.iloc[test_idx]\\n\\n        model.fit(x_train, y_train)\\n\\n        proba = model.predict_proba(x_test)\\n        pred = proba.argmax(1)\\n\\n        roc = roc_auc_score(y_test, proba[:, 1])\\n        report = classification_report(y_test, pred, digits=4)\\n        print(roc)\\n        print(report)\\n\\n        models.append(model)\\n        scores.append(roc)\\n        cls_reports.append(\\n            classification_report(\\n                y_test,\\n                pred,\\n                digits=4,\\n                output_dict=True,\\n            )\\n        )\\n\\n    # train final model\\n    model.fit(x, y)\\n\\n    return {\\n        \\\"model\\\": model,\\n        \\\"kfold_models\\\": models,\\n        \\\"roc_scores\\\": scores,\\n        \\\"classification_reports\\\": cls_reports,\\n    }\";\n",
       "                var nbb_cells = Jupyter.notebook.get_cells();\n",
       "                for (var i = 0; i < nbb_cells.length; ++i) {\n",
       "                    if (nbb_cells[i].input_prompt_number == nbb_cell_id) {\n",
       "                        if (nbb_cells[i].get_text() == nbb_unformatted_code) {\n",
       "                             nbb_cells[i].set_text(nbb_formatted_code);\n",
       "                        }\n",
       "                        break;\n",
       "                    }\n",
       "                }\n",
       "            }, 500);\n",
       "            "
      ],
      "text/plain": [
       "<IPython.core.display.Javascript object>"
      ]
     },
     "metadata": {},
     "output_type": "display_data"
    }
   ],
   "source": [
    "def stratified_kfold_train(x, y, model, fold=10, categorical_var=None):\n",
    "    kf = StratifiedKFold(fold)\n",
    "\n",
    "    models = []\n",
    "    scores = []\n",
    "    cls_reports = []\n",
    "\n",
    "    for train_idx, test_idx in kf.split(x, y):\n",
    "        x_train, y_train = x.iloc[train_idx], y.iloc[train_idx]\n",
    "        x_test, y_test = x.iloc[test_idx], y.iloc[test_idx]\n",
    "\n",
    "        model.fit(x_train, y_train)\n",
    "\n",
    "        proba = model.predict_proba(x_test)\n",
    "        pred = proba.argmax(1)\n",
    "\n",
    "        roc = roc_auc_score(y_test, proba[:, 1])\n",
    "        report = classification_report(y_test, pred, digits=4)\n",
    "        print(roc)\n",
    "        print(report)\n",
    "\n",
    "        models.append(model)\n",
    "        scores.append(roc)\n",
    "        cls_reports.append(\n",
    "            classification_report(\n",
    "                y_test,\n",
    "                pred,\n",
    "                digits=4,\n",
    "                output_dict=True,\n",
    "            )\n",
    "        )\n",
    "\n",
    "    # train final model\n",
    "    model.fit(x, y)\n",
    "\n",
    "    return {\n",
    "        \"model\": model,\n",
    "        \"kfold_models\": models,\n",
    "        \"roc_scores\": scores,\n",
    "        \"classification_reports\": cls_reports,\n",
    "    }"
   ]
  },
  {
   "cell_type": "code",
   "execution_count": 35,
   "id": "39cd4c60",
   "metadata": {},
   "outputs": [
    {
     "data": {
      "application/javascript": [
       "\n",
       "            setTimeout(function() {\n",
       "                var nbb_cell_id = 35;\n",
       "                var nbb_unformatted_code = \"def tree_like_featture_importance(model, x_test, y_test):\\n    return model.feature_importances_\\n\\n\\ndef permutation_feature_importances(model, x_test, y_test):\\n    r = permutation_importance(\\n        model, x_test, y_test, n_repeats=30, random_state=0, n_jobs=8\\n    )\\n    return r.importances_mean\\n\\n\\ndef shap_feature_importances(model, x_test, y_test, tree=False):\\n    if tree:\\n        explainer = shap.TreeExplainer(model, x_test)\\n    else:\\n        proba = model.predict_proba(x_test)\\n        explainer = shap.KernelExplainer(proba, x_test)\\n    shap_val = explainer.shap_values(x_test, check_additivity=False)\\n    return shap_val\";\n",
       "                var nbb_formatted_code = \"def tree_like_featture_importance(model, x_test, y_test):\\n    return model.feature_importances_\\n\\n\\ndef permutation_feature_importances(model, x_test, y_test):\\n    r = permutation_importance(\\n        model, x_test, y_test, n_repeats=30, random_state=0, n_jobs=8\\n    )\\n    return r.importances_mean\\n\\n\\ndef shap_feature_importances(model, x_test, y_test, tree=False):\\n    if tree:\\n        explainer = shap.TreeExplainer(model, x_test)\\n    else:\\n        proba = model.predict_proba(x_test)\\n        explainer = shap.KernelExplainer(proba, x_test)\\n    shap_val = explainer.shap_values(x_test, check_additivity=False)\\n    return shap_val\";\n",
       "                var nbb_cells = Jupyter.notebook.get_cells();\n",
       "                for (var i = 0; i < nbb_cells.length; ++i) {\n",
       "                    if (nbb_cells[i].input_prompt_number == nbb_cell_id) {\n",
       "                        if (nbb_cells[i].get_text() == nbb_unformatted_code) {\n",
       "                             nbb_cells[i].set_text(nbb_formatted_code);\n",
       "                        }\n",
       "                        break;\n",
       "                    }\n",
       "                }\n",
       "            }, 500);\n",
       "            "
      ],
      "text/plain": [
       "<IPython.core.display.Javascript object>"
      ]
     },
     "metadata": {},
     "output_type": "display_data"
    }
   ],
   "source": [
    "def tree_like_featture_importance(model, x_test, y_test):\n",
    "    return model.feature_importances_\n",
    "\n",
    "\n",
    "def permutation_feature_importances(model, x_test, y_test):\n",
    "    r = permutation_importance(\n",
    "        model, x_test, y_test, n_repeats=30, random_state=0, n_jobs=8\n",
    "    )\n",
    "    return r.importances_mean\n",
    "\n",
    "\n",
    "def shap_feature_importances(model, x_test, y_test, tree=False):\n",
    "    if tree:\n",
    "        explainer = shap.TreeExplainer(model, x_test)\n",
    "    else:\n",
    "        proba = model.predict_proba(x_test)\n",
    "        explainer = shap.KernelExplainer(proba, x_test)\n",
    "    shap_val = explainer.shap_values(x_test, check_additivity=False)\n",
    "    return shap_val"
   ]
  },
  {
   "cell_type": "code",
   "execution_count": 97,
   "id": "68acfa66",
   "metadata": {},
   "outputs": [
    {
     "data": {
      "application/javascript": [
       "\n",
       "            setTimeout(function() {\n",
       "                var nbb_cell_id = 97;\n",
       "                var nbb_unformatted_code = \"knn = KNeighborsClassifier(5, n_jobs=4)\\nrf = RandomForestClassifier(n_estimators=500, n_jobs=4, class_weight=\\\"balanced\\\")\\nlgbm = LGBMClassifier(\\n    n_estimators=500, n_jobs=4, scale_pos_weight=(len(y) - y.sum()) / y.sum()\\n)\\nxgb = XGBClassifier(\\n    n_estimators=500, n_jobs=4, scale_pos_weight=(len(y) - y.sum()) / y.sum()\\n)\";\n",
       "                var nbb_formatted_code = \"knn = KNeighborsClassifier(5, n_jobs=4)\\nrf = RandomForestClassifier(n_estimators=500, n_jobs=4, class_weight=\\\"balanced\\\")\\nlgbm = LGBMClassifier(\\n    n_estimators=500, n_jobs=4, scale_pos_weight=(len(y) - y.sum()) / y.sum()\\n)\\nxgb = XGBClassifier(\\n    n_estimators=500, n_jobs=4, scale_pos_weight=(len(y) - y.sum()) / y.sum()\\n)\";\n",
       "                var nbb_cells = Jupyter.notebook.get_cells();\n",
       "                for (var i = 0; i < nbb_cells.length; ++i) {\n",
       "                    if (nbb_cells[i].input_prompt_number == nbb_cell_id) {\n",
       "                        if (nbb_cells[i].get_text() == nbb_unformatted_code) {\n",
       "                             nbb_cells[i].set_text(nbb_formatted_code);\n",
       "                        }\n",
       "                        break;\n",
       "                    }\n",
       "                }\n",
       "            }, 500);\n",
       "            "
      ],
      "text/plain": [
       "<IPython.core.display.Javascript object>"
      ]
     },
     "metadata": {},
     "output_type": "display_data"
    }
   ],
   "source": [
    "knn = KNeighborsClassifier(5, n_jobs=4)\n",
    "rf = RandomForestClassifier(n_estimators=500, n_jobs=4, class_weight=\"balanced\")\n",
    "lgbm = LGBMClassifier(\n",
    "    n_estimators=500, n_jobs=4, scale_pos_weight=(len(y) - y.sum()) / y.sum()\n",
    ")\n",
    "xgb = XGBClassifier(\n",
    "    n_estimators=500, n_jobs=4, scale_pos_weight=(len(y) - y.sum()) / y.sum()\n",
    ")"
   ]
  },
  {
   "cell_type": "code",
   "execution_count": 98,
   "id": "c44aea55",
   "metadata": {
    "scrolled": true
   },
   "outputs": [
    {
     "name": "stdout",
     "output_type": "stream",
     "text": [
      "0.5455246312428537\n",
      "              precision    recall  f1-score   support\n",
      "\n",
      "           0     0.9200    0.9933    0.9552     56538\n",
      "           1     0.1751    0.0161    0.0295      4965\n",
      "\n",
      "    accuracy                         0.9144     61503\n",
      "   macro avg     0.5475    0.5047    0.4924     61503\n",
      "weighted avg     0.8598    0.9144    0.8805     61503\n",
      "\n",
      "0.5458414073889104\n",
      "              precision    recall  f1-score   support\n",
      "\n",
      "           0     0.9199    0.9931    0.9551     56537\n",
      "           1     0.1674    0.0157    0.0287      4965\n",
      "\n",
      "    accuracy                         0.9142     61502\n",
      "   macro avg     0.5437    0.5044    0.4919     61502\n",
      "weighted avg     0.8592    0.9142    0.8803     61502\n",
      "\n",
      "0.5471224407027269\n",
      "              precision    recall  f1-score   support\n",
      "\n",
      "           0     0.9197    0.9920    0.9545     56537\n",
      "           1     0.1344    0.0141    0.0255      4965\n",
      "\n",
      "    accuracy                         0.9131     61502\n",
      "   macro avg     0.5270    0.5031    0.4900     61502\n",
      "weighted avg     0.8563    0.9131    0.8795     61502\n",
      "\n",
      "0.5435182079427137\n",
      "              precision    recall  f1-score   support\n",
      "\n",
      "           0     0.9199    0.9929    0.9550     56537\n",
      "           1     0.1636    0.0159    0.0290      4965\n",
      "\n",
      "    accuracy                         0.9140     61502\n",
      "   macro avg     0.5417    0.5044    0.4920     61502\n",
      "weighted avg     0.8589    0.9140    0.8802     61502\n",
      "\n",
      "0.5393075778285699\n",
      "              precision    recall  f1-score   support\n",
      "\n",
      "           0     0.9201    0.9928    0.9551     56537\n",
      "           1     0.1840    0.0185    0.0337      4965\n",
      "\n",
      "    accuracy                         0.9141     61502\n",
      "   macro avg     0.5521    0.5057    0.4944     61502\n",
      "weighted avg     0.8607    0.9141    0.8807     61502\n",
      "\n"
     ]
    },
    {
     "data": {
      "application/javascript": [
       "\n",
       "            setTimeout(function() {\n",
       "                var nbb_cell_id = 98;\n",
       "                var nbb_unformatted_code = \"r_knn = stratified_kfold_train(x.fillna(-1), y, knn, 5)\";\n",
       "                var nbb_formatted_code = \"r_knn = stratified_kfold_train(x.fillna(-1), y, knn, 5)\";\n",
       "                var nbb_cells = Jupyter.notebook.get_cells();\n",
       "                for (var i = 0; i < nbb_cells.length; ++i) {\n",
       "                    if (nbb_cells[i].input_prompt_number == nbb_cell_id) {\n",
       "                        if (nbb_cells[i].get_text() == nbb_unformatted_code) {\n",
       "                             nbb_cells[i].set_text(nbb_formatted_code);\n",
       "                        }\n",
       "                        break;\n",
       "                    }\n",
       "                }\n",
       "            }, 500);\n",
       "            "
      ],
      "text/plain": [
       "<IPython.core.display.Javascript object>"
      ]
     },
     "metadata": {},
     "output_type": "display_data"
    }
   ],
   "source": [
    "r_knn = stratified_kfold_train(x.fillna(-1), y, knn, 5)"
   ]
  },
  {
   "cell_type": "code",
   "execution_count": 15,
   "id": "dc553cb5",
   "metadata": {
    "scrolled": true
   },
   "outputs": [
    {
     "name": "stdout",
     "output_type": "stream",
     "text": [
      "0.7532937057688156\n",
      "              precision    recall  f1-score   support\n",
      "\n",
      "           0     0.9194    0.9999    0.9580     56538\n",
      "           1     0.6000    0.0018    0.0036      4965\n",
      "\n",
      "    accuracy                         0.9193     61503\n",
      "   macro avg     0.7597    0.5009    0.4808     61503\n",
      "weighted avg     0.8936    0.9193    0.8809     61503\n",
      "\n",
      "0.756340756699696\n",
      "              precision    recall  f1-score   support\n",
      "\n",
      "           0     0.9193    0.9998    0.9579     56537\n",
      "           1     0.3750    0.0012    0.0024      4965\n",
      "\n",
      "    accuracy                         0.9192     61502\n",
      "   macro avg     0.6472    0.5005    0.4802     61502\n",
      "weighted avg     0.8754    0.9192    0.8808     61502\n",
      "\n",
      "0.7498858049824727\n",
      "              precision    recall  f1-score   support\n",
      "\n",
      "           0     0.9194    0.9999    0.9580     56537\n",
      "           1     0.6667    0.0016    0.0032      4965\n",
      "\n",
      "    accuracy                         0.9193     61502\n",
      "   macro avg     0.7930    0.5008    0.4806     61502\n",
      "weighted avg     0.8990    0.9193    0.8809     61502\n",
      "\n",
      "0.7564865318883849\n",
      "              precision    recall  f1-score   support\n",
      "\n",
      "           0     0.9193    1.0000    0.9580     56537\n",
      "           1     0.8000    0.0008    0.0016      4965\n",
      "\n",
      "    accuracy                         0.9193     61502\n",
      "   macro avg     0.8597    0.5004    0.4798     61502\n",
      "weighted avg     0.9097    0.9193    0.8808     61502\n",
      "\n",
      "0.7585572787747958\n",
      "              precision    recall  f1-score   support\n",
      "\n",
      "           0     0.9194    0.9999    0.9580     56537\n",
      "           1     0.6667    0.0012    0.0024      4965\n",
      "\n",
      "    accuracy                         0.9193     61502\n",
      "   macro avg     0.7930    0.5006    0.4802     61502\n",
      "weighted avg     0.8990    0.9193    0.8808     61502\n",
      "\n"
     ]
    },
    {
     "data": {
      "application/javascript": [
       "\n",
       "            setTimeout(function() {\n",
       "                var nbb_cell_id = 15;\n",
       "                var nbb_unformatted_code = \"r_rf = stratified_kfold_train(x.fillna(-1), y, rf, 5)\";\n",
       "                var nbb_formatted_code = \"r_rf = stratified_kfold_train(x.fillna(-1), y, rf, 5)\";\n",
       "                var nbb_cells = Jupyter.notebook.get_cells();\n",
       "                for (var i = 0; i < nbb_cells.length; ++i) {\n",
       "                    if (nbb_cells[i].input_prompt_number == nbb_cell_id) {\n",
       "                        if (nbb_cells[i].get_text() == nbb_unformatted_code) {\n",
       "                             nbb_cells[i].set_text(nbb_formatted_code);\n",
       "                        }\n",
       "                        break;\n",
       "                    }\n",
       "                }\n",
       "            }, 500);\n",
       "            "
      ],
      "text/plain": [
       "<IPython.core.display.Javascript object>"
      ]
     },
     "metadata": {},
     "output_type": "display_data"
    }
   ],
   "source": [
    "r_rf = stratified_kfold_train(x.fillna(-1), y, rf, 5)"
   ]
  },
  {
   "cell_type": "code",
   "execution_count": 16,
   "id": "5c674485",
   "metadata": {
    "scrolled": true
   },
   "outputs": [
    {
     "name": "stderr",
     "output_type": "stream",
     "text": [
      "The use of label encoder in XGBClassifier is deprecated and will be removed in a future release. To remove this warning, do the following: 1) Pass option use_label_encoder=False when constructing XGBClassifier object; and 2) Encode your labels (y) as integers starting with 0, i.e. 0, 1, 2, ..., [num_class - 1].\n"
     ]
    },
    {
     "name": "stdout",
     "output_type": "stream",
     "text": [
      "[18:05:55] WARNING: C:/Users/Administrator/workspace/xgboost-win64_release_1.5.1/src/learner.cc:1115: Starting in XGBoost 1.3.0, the default evaluation metric used with the objective 'binary:logistic' was changed from 'error' to 'logloss'. Explicitly set eval_metric if you'd like to restore the old behavior.\n",
      "0.7340885740314502\n",
      "              precision    recall  f1-score   support\n",
      "\n",
      "           0     0.9455    0.8707    0.9066     56538\n",
      "           1     0.2256    0.4290    0.2957      4965\n",
      "\n",
      "    accuracy                         0.8350     61503\n",
      "   macro avg     0.5856    0.6499    0.6012     61503\n",
      "weighted avg     0.8874    0.8350    0.8573     61503\n",
      "\n"
     ]
    },
    {
     "name": "stderr",
     "output_type": "stream",
     "text": [
      "The use of label encoder in XGBClassifier is deprecated and will be removed in a future release. To remove this warning, do the following: 1) Pass option use_label_encoder=False when constructing XGBClassifier object; and 2) Encode your labels (y) as integers starting with 0, i.e. 0, 1, 2, ..., [num_class - 1].\n"
     ]
    },
    {
     "name": "stdout",
     "output_type": "stream",
     "text": [
      "[18:14:08] WARNING: C:/Users/Administrator/workspace/xgboost-win64_release_1.5.1/src/learner.cc:1115: Starting in XGBoost 1.3.0, the default evaluation metric used with the objective 'binary:logistic' was changed from 'error' to 'logloss'. Explicitly set eval_metric if you'd like to restore the old behavior.\n",
      "0.7385301635922157\n",
      "              precision    recall  f1-score   support\n",
      "\n",
      "           0     0.9454    0.8710    0.9067     56537\n",
      "           1     0.2251    0.4268    0.2948      4965\n",
      "\n",
      "    accuracy                         0.8351     61502\n",
      "   macro avg     0.5852    0.6489    0.6007     61502\n",
      "weighted avg     0.8872    0.8351    0.8573     61502\n",
      "\n"
     ]
    },
    {
     "name": "stderr",
     "output_type": "stream",
     "text": [
      "The use of label encoder in XGBClassifier is deprecated and will be removed in a future release. To remove this warning, do the following: 1) Pass option use_label_encoder=False when constructing XGBClassifier object; and 2) Encode your labels (y) as integers starting with 0, i.e. 0, 1, 2, ..., [num_class - 1].\n"
     ]
    },
    {
     "name": "stdout",
     "output_type": "stream",
     "text": [
      "[18:22:22] WARNING: C:/Users/Administrator/workspace/xgboost-win64_release_1.5.1/src/learner.cc:1115: Starting in XGBoost 1.3.0, the default evaluation metric used with the objective 'binary:logistic' was changed from 'error' to 'logloss'. Explicitly set eval_metric if you'd like to restore the old behavior.\n",
      "0.7305857684905825\n",
      "              precision    recall  f1-score   support\n",
      "\n",
      "           0     0.9443    0.8701    0.9057     56537\n",
      "           1     0.2192    0.4151    0.2869      4965\n",
      "\n",
      "    accuracy                         0.8334     61502\n",
      "   macro avg     0.5817    0.6426    0.5963     61502\n",
      "weighted avg     0.8857    0.8334    0.8557     61502\n",
      "\n"
     ]
    },
    {
     "name": "stderr",
     "output_type": "stream",
     "text": [
      "The use of label encoder in XGBClassifier is deprecated and will be removed in a future release. To remove this warning, do the following: 1) Pass option use_label_encoder=False when constructing XGBClassifier object; and 2) Encode your labels (y) as integers starting with 0, i.e. 0, 1, 2, ..., [num_class - 1].\n"
     ]
    },
    {
     "name": "stdout",
     "output_type": "stream",
     "text": [
      "[18:30:36] WARNING: C:/Users/Administrator/workspace/xgboost-win64_release_1.5.1/src/learner.cc:1115: Starting in XGBoost 1.3.0, the default evaluation metric used with the objective 'binary:logistic' was changed from 'error' to 'logloss'. Explicitly set eval_metric if you'd like to restore the old behavior.\n",
      "0.7347878273656259\n",
      "              precision    recall  f1-score   support\n",
      "\n",
      "           0     0.9456    0.8712    0.9069     56537\n",
      "           1     0.2266    0.4296    0.2967      4965\n",
      "\n",
      "    accuracy                         0.8356     61502\n",
      "   macro avg     0.5861    0.6504    0.6018     61502\n",
      "weighted avg     0.8876    0.8356    0.8576     61502\n",
      "\n"
     ]
    },
    {
     "name": "stderr",
     "output_type": "stream",
     "text": [
      "The use of label encoder in XGBClassifier is deprecated and will be removed in a future release. To remove this warning, do the following: 1) Pass option use_label_encoder=False when constructing XGBClassifier object; and 2) Encode your labels (y) as integers starting with 0, i.e. 0, 1, 2, ..., [num_class - 1].\n"
     ]
    },
    {
     "name": "stdout",
     "output_type": "stream",
     "text": [
      "[18:38:48] WARNING: C:/Users/Administrator/workspace/xgboost-win64_release_1.5.1/src/learner.cc:1115: Starting in XGBoost 1.3.0, the default evaluation metric used with the objective 'binary:logistic' was changed from 'error' to 'logloss'. Explicitly set eval_metric if you'd like to restore the old behavior.\n",
      "0.7386119822324555\n",
      "              precision    recall  f1-score   support\n",
      "\n",
      "           0     0.9453    0.8700    0.9061     56537\n",
      "           1     0.2239    0.4272    0.2938      4965\n",
      "\n",
      "    accuracy                         0.8342     61502\n",
      "   macro avg     0.5846    0.6486    0.6000     61502\n",
      "weighted avg     0.8871    0.8342    0.8567     61502\n",
      "\n"
     ]
    },
    {
     "name": "stderr",
     "output_type": "stream",
     "text": [
      "The use of label encoder in XGBClassifier is deprecated and will be removed in a future release. To remove this warning, do the following: 1) Pass option use_label_encoder=False when constructing XGBClassifier object; and 2) Encode your labels (y) as integers starting with 0, i.e. 0, 1, 2, ..., [num_class - 1].\n"
     ]
    },
    {
     "name": "stdout",
     "output_type": "stream",
     "text": [
      "[18:47:01] WARNING: C:/Users/Administrator/workspace/xgboost-win64_release_1.5.1/src/learner.cc:1115: Starting in XGBoost 1.3.0, the default evaluation metric used with the objective 'binary:logistic' was changed from 'error' to 'logloss'. Explicitly set eval_metric if you'd like to restore the old behavior.\n"
     ]
    },
    {
     "data": {
      "application/javascript": [
       "\n",
       "            setTimeout(function() {\n",
       "                var nbb_cell_id = 16;\n",
       "                var nbb_unformatted_code = \"r_xgb = stratified_kfold_train(x.fillna(-1), y, xgb, 5)\";\n",
       "                var nbb_formatted_code = \"r_xgb = stratified_kfold_train(x.fillna(-1), y, xgb, 5)\";\n",
       "                var nbb_cells = Jupyter.notebook.get_cells();\n",
       "                for (var i = 0; i < nbb_cells.length; ++i) {\n",
       "                    if (nbb_cells[i].input_prompt_number == nbb_cell_id) {\n",
       "                        if (nbb_cells[i].get_text() == nbb_unformatted_code) {\n",
       "                             nbb_cells[i].set_text(nbb_formatted_code);\n",
       "                        }\n",
       "                        break;\n",
       "                    }\n",
       "                }\n",
       "            }, 500);\n",
       "            "
      ],
      "text/plain": [
       "<IPython.core.display.Javascript object>"
      ]
     },
     "metadata": {},
     "output_type": "display_data"
    }
   ],
   "source": [
    "r_xgb = stratified_kfold_train(x.fillna(-1), y, xgb, 5)"
   ]
  },
  {
   "cell_type": "code",
   "execution_count": 17,
   "id": "b40979e7",
   "metadata": {
    "scrolled": true
   },
   "outputs": [
    {
     "name": "stdout",
     "output_type": "stream",
     "text": [
      "0.7717170926970951\n",
      "              precision    recall  f1-score   support\n",
      "\n",
      "           0     0.9585    0.7834    0.8621     56538\n",
      "           1     0.1992    0.6135    0.3007      4965\n",
      "\n",
      "    accuracy                         0.7697     61503\n",
      "   macro avg     0.5788    0.6984    0.5814     61503\n",
      "weighted avg     0.8972    0.7697    0.8168     61503\n",
      "\n",
      "0.7755612420466445\n",
      "              precision    recall  f1-score   support\n",
      "\n",
      "           0     0.9593    0.7832    0.8623     56537\n",
      "           1     0.2011    0.6213    0.3038      4965\n",
      "\n",
      "    accuracy                         0.7701     61502\n",
      "   macro avg     0.5802    0.7023    0.5831     61502\n",
      "weighted avg     0.8981    0.7701    0.8173     61502\n",
      "\n",
      "0.7689690507553975\n",
      "              precision    recall  f1-score   support\n",
      "\n",
      "           0     0.9576    0.7846    0.8625     56537\n",
      "           1     0.1978    0.6048    0.2981      4965\n",
      "\n",
      "    accuracy                         0.7701     61502\n",
      "   macro avg     0.5777    0.6947    0.5803     61502\n",
      "weighted avg     0.8963    0.7701    0.8169     61502\n",
      "\n",
      "0.7729587488099879\n",
      "              precision    recall  f1-score   support\n",
      "\n",
      "           0     0.9571    0.7894    0.8652     56537\n",
      "           1     0.1993    0.5968    0.2988      4965\n",
      "\n",
      "    accuracy                         0.7739     61502\n",
      "   macro avg     0.5782    0.6931    0.5820     61502\n",
      "weighted avg     0.8959    0.7739    0.8195     61502\n",
      "\n",
      "0.7760220369905966\n",
      "              precision    recall  f1-score   support\n",
      "\n",
      "           0     0.9586    0.7862    0.8639     56537\n",
      "           1     0.2013    0.6133    0.3031      4965\n",
      "\n",
      "    accuracy                         0.7723     61502\n",
      "   macro avg     0.5799    0.6998    0.5835     61502\n",
      "weighted avg     0.8975    0.7723    0.8186     61502\n",
      "\n"
     ]
    },
    {
     "data": {
      "application/javascript": [
       "\n",
       "            setTimeout(function() {\n",
       "                var nbb_cell_id = 17;\n",
       "                var nbb_unformatted_code = \"r_lgbm = stratified_kfold_train(\\n    x.fillna(-1).rename(columns=lambda x: re.sub(\\\"[^A-Za-z0-9_]+\\\", \\\"\\\", x)),\\n    y,\\n    lgbm,\\n    5,\\n)\";\n",
       "                var nbb_formatted_code = \"r_lgbm = stratified_kfold_train(\\n    x.fillna(-1).rename(columns=lambda x: re.sub(\\\"[^A-Za-z0-9_]+\\\", \\\"\\\", x)),\\n    y,\\n    lgbm,\\n    5,\\n)\";\n",
       "                var nbb_cells = Jupyter.notebook.get_cells();\n",
       "                for (var i = 0; i < nbb_cells.length; ++i) {\n",
       "                    if (nbb_cells[i].input_prompt_number == nbb_cell_id) {\n",
       "                        if (nbb_cells[i].get_text() == nbb_unformatted_code) {\n",
       "                             nbb_cells[i].set_text(nbb_formatted_code);\n",
       "                        }\n",
       "                        break;\n",
       "                    }\n",
       "                }\n",
       "            }, 500);\n",
       "            "
      ],
      "text/plain": [
       "<IPython.core.display.Javascript object>"
      ]
     },
     "metadata": {},
     "output_type": "display_data"
    }
   ],
   "source": [
    "r_lgbm = stratified_kfold_train(\n",
    "    x.fillna(-1).rename(columns=lambda x: re.sub(\"[^A-Za-z0-9_]+\", \"\", x)),\n",
    "    y,\n",
    "    lgbm,\n",
    "    5,\n",
    ")"
   ]
  },
  {
   "cell_type": "code",
   "execution_count": 85,
   "id": "79fc3bb5",
   "metadata": {},
   "outputs": [
    {
     "data": {
      "application/javascript": [
       "\n",
       "            setTimeout(function() {\n",
       "                var nbb_cell_id = 85;\n",
       "                var nbb_unformatted_code = \"scores = []\\nfor name, r in [\\n    (\\\"knn\\\", r_knn),\\n    (\\\"random forest\\\", r_rf),\\n    (\\\"lgbm\\\", r_lgbm),\\n    (\\\"xgb\\\", r_xgb),\\n]:\\n    for i in range(len(r[\\\"roc_scores\\\"])):\\n        scores.append(\\n            {\\n                \\\"model\\\": name,\\n                \\\"fold\\\": i + 1,\\n                \\\"roc\\\": r[\\\"roc_scores\\\"][i],\\n                \\\"f1-score\\\": r[\\\"classification_reports\\\"][i][\\\"1\\\"][\\\"f1-score\\\"],\\n                \\\"precision\\\": r[\\\"classification_reports\\\"][i][\\\"1\\\"][\\\"precision\\\"],\\n                \\\"recall\\\": r[\\\"classification_reports\\\"][i][\\\"1\\\"][\\\"recall\\\"],\\n            }\\n        )\\nscores = pd.DataFrame(scores)\";\n",
       "                var nbb_formatted_code = \"scores = []\\nfor name, r in [\\n    (\\\"knn\\\", r_knn),\\n    (\\\"random forest\\\", r_rf),\\n    (\\\"lgbm\\\", r_lgbm),\\n    (\\\"xgb\\\", r_xgb),\\n]:\\n    for i in range(len(r[\\\"roc_scores\\\"])):\\n        scores.append(\\n            {\\n                \\\"model\\\": name,\\n                \\\"fold\\\": i + 1,\\n                \\\"roc\\\": r[\\\"roc_scores\\\"][i],\\n                \\\"f1-score\\\": r[\\\"classification_reports\\\"][i][\\\"1\\\"][\\\"f1-score\\\"],\\n                \\\"precision\\\": r[\\\"classification_reports\\\"][i][\\\"1\\\"][\\\"precision\\\"],\\n                \\\"recall\\\": r[\\\"classification_reports\\\"][i][\\\"1\\\"][\\\"recall\\\"],\\n            }\\n        )\\nscores = pd.DataFrame(scores)\";\n",
       "                var nbb_cells = Jupyter.notebook.get_cells();\n",
       "                for (var i = 0; i < nbb_cells.length; ++i) {\n",
       "                    if (nbb_cells[i].input_prompt_number == nbb_cell_id) {\n",
       "                        if (nbb_cells[i].get_text() == nbb_unformatted_code) {\n",
       "                             nbb_cells[i].set_text(nbb_formatted_code);\n",
       "                        }\n",
       "                        break;\n",
       "                    }\n",
       "                }\n",
       "            }, 500);\n",
       "            "
      ],
      "text/plain": [
       "<IPython.core.display.Javascript object>"
      ]
     },
     "metadata": {},
     "output_type": "display_data"
    }
   ],
   "source": [
    "scores = []\n",
    "for name, r in [\n",
    "    (\"knn\", r_knn),\n",
    "    (\"random forest\", r_rf),\n",
    "    (\"lgbm\", r_lgbm),\n",
    "    (\"xgb\", r_xgb),\n",
    "]:\n",
    "    for i in range(len(r[\"roc_scores\"])):\n",
    "        scores.append(\n",
    "            {\n",
    "                \"model\": name,\n",
    "                \"fold\": i + 1,\n",
    "                \"roc\": r[\"roc_scores\"][i],\n",
    "                \"f1-score\": r[\"classification_reports\"][i][\"1\"][\"f1-score\"],\n",
    "                \"precision\": r[\"classification_reports\"][i][\"1\"][\"precision\"],\n",
    "                \"recall\": r[\"classification_reports\"][i][\"1\"][\"recall\"],\n",
    "            }\n",
    "        )\n",
    "scores = pd.DataFrame(scores)"
   ]
  },
  {
   "cell_type": "code",
   "execution_count": 86,
   "id": "b36f90c7",
   "metadata": {
    "scrolled": true
   },
   "outputs": [
    {
     "data": {
      "text/html": [
       "<div>\n",
       "<style scoped>\n",
       "    .dataframe tbody tr th:only-of-type {\n",
       "        vertical-align: middle;\n",
       "    }\n",
       "\n",
       "    .dataframe tbody tr th {\n",
       "        vertical-align: top;\n",
       "    }\n",
       "\n",
       "    .dataframe thead th {\n",
       "        text-align: right;\n",
       "    }\n",
       "</style>\n",
       "<table border=\"1\" class=\"dataframe\">\n",
       "  <thead>\n",
       "    <tr style=\"text-align: right;\">\n",
       "      <th></th>\n",
       "      <th>model</th>\n",
       "      <th>fold</th>\n",
       "      <th>roc</th>\n",
       "      <th>f1-score</th>\n",
       "      <th>precision</th>\n",
       "      <th>recall</th>\n",
       "    </tr>\n",
       "  </thead>\n",
       "  <tbody>\n",
       "    <tr>\n",
       "      <th>0</th>\n",
       "      <td>knn</td>\n",
       "      <td>1</td>\n",
       "      <td>0.586897</td>\n",
       "      <td>0.000000</td>\n",
       "      <td>0.000000</td>\n",
       "      <td>0.000000</td>\n",
       "    </tr>\n",
       "    <tr>\n",
       "      <th>1</th>\n",
       "      <td>knn</td>\n",
       "      <td>2</td>\n",
       "      <td>0.595229</td>\n",
       "      <td>0.000000</td>\n",
       "      <td>0.000000</td>\n",
       "      <td>0.000000</td>\n",
       "    </tr>\n",
       "    <tr>\n",
       "      <th>2</th>\n",
       "      <td>knn</td>\n",
       "      <td>3</td>\n",
       "      <td>0.585586</td>\n",
       "      <td>0.000000</td>\n",
       "      <td>0.000000</td>\n",
       "      <td>0.000000</td>\n",
       "    </tr>\n",
       "    <tr>\n",
       "      <th>3</th>\n",
       "      <td>knn</td>\n",
       "      <td>4</td>\n",
       "      <td>0.591523</td>\n",
       "      <td>0.000000</td>\n",
       "      <td>0.000000</td>\n",
       "      <td>0.000000</td>\n",
       "    </tr>\n",
       "    <tr>\n",
       "      <th>4</th>\n",
       "      <td>knn</td>\n",
       "      <td>5</td>\n",
       "      <td>0.583988</td>\n",
       "      <td>0.000000</td>\n",
       "      <td>0.000000</td>\n",
       "      <td>0.000000</td>\n",
       "    </tr>\n",
       "    <tr>\n",
       "      <th>5</th>\n",
       "      <td>random forest</td>\n",
       "      <td>1</td>\n",
       "      <td>0.753294</td>\n",
       "      <td>0.003614</td>\n",
       "      <td>0.600000</td>\n",
       "      <td>0.001813</td>\n",
       "    </tr>\n",
       "    <tr>\n",
       "      <th>6</th>\n",
       "      <td>random forest</td>\n",
       "      <td>2</td>\n",
       "      <td>0.756341</td>\n",
       "      <td>0.002409</td>\n",
       "      <td>0.375000</td>\n",
       "      <td>0.001208</td>\n",
       "    </tr>\n",
       "    <tr>\n",
       "      <th>7</th>\n",
       "      <td>random forest</td>\n",
       "      <td>3</td>\n",
       "      <td>0.749886</td>\n",
       "      <td>0.003215</td>\n",
       "      <td>0.666667</td>\n",
       "      <td>0.001611</td>\n",
       "    </tr>\n",
       "    <tr>\n",
       "      <th>8</th>\n",
       "      <td>random forest</td>\n",
       "      <td>4</td>\n",
       "      <td>0.756487</td>\n",
       "      <td>0.001610</td>\n",
       "      <td>0.800000</td>\n",
       "      <td>0.000806</td>\n",
       "    </tr>\n",
       "    <tr>\n",
       "      <th>9</th>\n",
       "      <td>random forest</td>\n",
       "      <td>5</td>\n",
       "      <td>0.758557</td>\n",
       "      <td>0.002413</td>\n",
       "      <td>0.666667</td>\n",
       "      <td>0.001208</td>\n",
       "    </tr>\n",
       "    <tr>\n",
       "      <th>10</th>\n",
       "      <td>lgbm</td>\n",
       "      <td>1</td>\n",
       "      <td>0.771717</td>\n",
       "      <td>0.300736</td>\n",
       "      <td>0.199189</td>\n",
       "      <td>0.613494</td>\n",
       "    </tr>\n",
       "    <tr>\n",
       "      <th>11</th>\n",
       "      <td>lgbm</td>\n",
       "      <td>2</td>\n",
       "      <td>0.775561</td>\n",
       "      <td>0.303836</td>\n",
       "      <td>0.201082</td>\n",
       "      <td>0.621349</td>\n",
       "    </tr>\n",
       "    <tr>\n",
       "      <th>12</th>\n",
       "      <td>lgbm</td>\n",
       "      <td>3</td>\n",
       "      <td>0.768969</td>\n",
       "      <td>0.298094</td>\n",
       "      <td>0.197787</td>\n",
       "      <td>0.604834</td>\n",
       "    </tr>\n",
       "    <tr>\n",
       "      <th>13</th>\n",
       "      <td>lgbm</td>\n",
       "      <td>4</td>\n",
       "      <td>0.772959</td>\n",
       "      <td>0.298810</td>\n",
       "      <td>0.199300</td>\n",
       "      <td>0.596777</td>\n",
       "    </tr>\n",
       "    <tr>\n",
       "      <th>14</th>\n",
       "      <td>lgbm</td>\n",
       "      <td>5</td>\n",
       "      <td>0.776022</td>\n",
       "      <td>0.303060</td>\n",
       "      <td>0.201256</td>\n",
       "      <td>0.613293</td>\n",
       "    </tr>\n",
       "    <tr>\n",
       "      <th>15</th>\n",
       "      <td>xgb</td>\n",
       "      <td>1</td>\n",
       "      <td>0.734089</td>\n",
       "      <td>0.295731</td>\n",
       "      <td>0.225636</td>\n",
       "      <td>0.429003</td>\n",
       "    </tr>\n",
       "    <tr>\n",
       "      <th>16</th>\n",
       "      <td>xgb</td>\n",
       "      <td>2</td>\n",
       "      <td>0.738530</td>\n",
       "      <td>0.294756</td>\n",
       "      <td>0.225114</td>\n",
       "      <td>0.426788</td>\n",
       "    </tr>\n",
       "    <tr>\n",
       "      <th>17</th>\n",
       "      <td>xgb</td>\n",
       "      <td>3</td>\n",
       "      <td>0.730586</td>\n",
       "      <td>0.286888</td>\n",
       "      <td>0.219185</td>\n",
       "      <td>0.415106</td>\n",
       "    </tr>\n",
       "    <tr>\n",
       "      <th>18</th>\n",
       "      <td>xgb</td>\n",
       "      <td>4</td>\n",
       "      <td>0.734788</td>\n",
       "      <td>0.296703</td>\n",
       "      <td>0.226602</td>\n",
       "      <td>0.429607</td>\n",
       "    </tr>\n",
       "    <tr>\n",
       "      <th>19</th>\n",
       "      <td>xgb</td>\n",
       "      <td>5</td>\n",
       "      <td>0.738612</td>\n",
       "      <td>0.293828</td>\n",
       "      <td>0.223923</td>\n",
       "      <td>0.427190</td>\n",
       "    </tr>\n",
       "  </tbody>\n",
       "</table>\n",
       "</div>"
      ],
      "text/plain": [
       "            model  fold       roc  f1-score  precision    recall\n",
       "0             knn     1  0.586897  0.000000   0.000000  0.000000\n",
       "1             knn     2  0.595229  0.000000   0.000000  0.000000\n",
       "2             knn     3  0.585586  0.000000   0.000000  0.000000\n",
       "3             knn     4  0.591523  0.000000   0.000000  0.000000\n",
       "4             knn     5  0.583988  0.000000   0.000000  0.000000\n",
       "5   random forest     1  0.753294  0.003614   0.600000  0.001813\n",
       "6   random forest     2  0.756341  0.002409   0.375000  0.001208\n",
       "7   random forest     3  0.749886  0.003215   0.666667  0.001611\n",
       "8   random forest     4  0.756487  0.001610   0.800000  0.000806\n",
       "9   random forest     5  0.758557  0.002413   0.666667  0.001208\n",
       "10           lgbm     1  0.771717  0.300736   0.199189  0.613494\n",
       "11           lgbm     2  0.775561  0.303836   0.201082  0.621349\n",
       "12           lgbm     3  0.768969  0.298094   0.197787  0.604834\n",
       "13           lgbm     4  0.772959  0.298810   0.199300  0.596777\n",
       "14           lgbm     5  0.776022  0.303060   0.201256  0.613293\n",
       "15            xgb     1  0.734089  0.295731   0.225636  0.429003\n",
       "16            xgb     2  0.738530  0.294756   0.225114  0.426788\n",
       "17            xgb     3  0.730586  0.286888   0.219185  0.415106\n",
       "18            xgb     4  0.734788  0.296703   0.226602  0.429607\n",
       "19            xgb     5  0.738612  0.293828   0.223923  0.427190"
      ]
     },
     "execution_count": 86,
     "metadata": {},
     "output_type": "execute_result"
    },
    {
     "data": {
      "application/javascript": [
       "\n",
       "            setTimeout(function() {\n",
       "                var nbb_cell_id = 86;\n",
       "                var nbb_unformatted_code = \"scores\";\n",
       "                var nbb_formatted_code = \"scores\";\n",
       "                var nbb_cells = Jupyter.notebook.get_cells();\n",
       "                for (var i = 0; i < nbb_cells.length; ++i) {\n",
       "                    if (nbb_cells[i].input_prompt_number == nbb_cell_id) {\n",
       "                        if (nbb_cells[i].get_text() == nbb_unformatted_code) {\n",
       "                             nbb_cells[i].set_text(nbb_formatted_code);\n",
       "                        }\n",
       "                        break;\n",
       "                    }\n",
       "                }\n",
       "            }, 500);\n",
       "            "
      ],
      "text/plain": [
       "<IPython.core.display.Javascript object>"
      ]
     },
     "metadata": {},
     "output_type": "display_data"
    }
   ],
   "source": [
    "scores"
   ]
  },
  {
   "cell_type": "code",
   "execution_count": 96,
   "id": "ae7dac94",
   "metadata": {},
   "outputs": [
    {
     "data": {
      "text/html": [
       "<div>\n",
       "<style scoped>\n",
       "    .dataframe tbody tr th:only-of-type {\n",
       "        vertical-align: middle;\n",
       "    }\n",
       "\n",
       "    .dataframe tbody tr th {\n",
       "        vertical-align: top;\n",
       "    }\n",
       "\n",
       "    .dataframe thead tr th {\n",
       "        text-align: left;\n",
       "    }\n",
       "\n",
       "    .dataframe thead tr:last-of-type th {\n",
       "        text-align: right;\n",
       "    }\n",
       "</style>\n",
       "<table border=\"1\" class=\"dataframe\">\n",
       "  <thead>\n",
       "    <tr>\n",
       "      <th></th>\n",
       "      <th>roc</th>\n",
       "      <th>f1-score</th>\n",
       "      <th>precision</th>\n",
       "      <th>recall</th>\n",
       "    </tr>\n",
       "    <tr>\n",
       "      <th></th>\n",
       "      <th>mean</th>\n",
       "      <th>mean</th>\n",
       "      <th>mean</th>\n",
       "      <th>mean</th>\n",
       "    </tr>\n",
       "    <tr>\n",
       "      <th>model</th>\n",
       "      <th></th>\n",
       "      <th></th>\n",
       "      <th></th>\n",
       "      <th></th>\n",
       "    </tr>\n",
       "  </thead>\n",
       "  <tbody>\n",
       "    <tr>\n",
       "      <th>knn</th>\n",
       "      <td>0.589</td>\n",
       "      <td>0.000</td>\n",
       "      <td>0.000</td>\n",
       "      <td>0.000</td>\n",
       "    </tr>\n",
       "    <tr>\n",
       "      <th>lgbm</th>\n",
       "      <td>0.773</td>\n",
       "      <td>0.301</td>\n",
       "      <td>0.200</td>\n",
       "      <td>0.610</td>\n",
       "    </tr>\n",
       "    <tr>\n",
       "      <th>random forest</th>\n",
       "      <td>0.755</td>\n",
       "      <td>0.003</td>\n",
       "      <td>0.622</td>\n",
       "      <td>0.001</td>\n",
       "    </tr>\n",
       "    <tr>\n",
       "      <th>xgb</th>\n",
       "      <td>0.735</td>\n",
       "      <td>0.294</td>\n",
       "      <td>0.224</td>\n",
       "      <td>0.426</td>\n",
       "    </tr>\n",
       "  </tbody>\n",
       "</table>\n",
       "</div>"
      ],
      "text/plain": [
       "                 roc f1-score precision recall\n",
       "                mean     mean      mean   mean\n",
       "model                                         \n",
       "knn            0.589    0.000     0.000  0.000\n",
       "lgbm           0.773    0.301     0.200  0.610\n",
       "random forest  0.755    0.003     0.622  0.001\n",
       "xgb            0.735    0.294     0.224  0.426"
      ]
     },
     "execution_count": 96,
     "metadata": {},
     "output_type": "execute_result"
    },
    {
     "data": {
      "application/javascript": [
       "\n",
       "            setTimeout(function() {\n",
       "                var nbb_cell_id = 96;\n",
       "                var nbb_unformatted_code = \"np.round(\\n    scores.groupby([\\\"model\\\"]).agg(\\n        {\\n            \\\"roc\\\": [\\\"mean\\\"],\\n            \\\"f1-score\\\": [\\\"mean\\\"],\\n            \\\"precision\\\": [\\\"mean\\\"],\\n            \\\"recall\\\": [\\\"mean\\\"],\\n        }\\n    ),\\n    3,\\n)\";\n",
       "                var nbb_formatted_code = \"np.round(\\n    scores.groupby([\\\"model\\\"]).agg(\\n        {\\n            \\\"roc\\\": [\\\"mean\\\"],\\n            \\\"f1-score\\\": [\\\"mean\\\"],\\n            \\\"precision\\\": [\\\"mean\\\"],\\n            \\\"recall\\\": [\\\"mean\\\"],\\n        }\\n    ),\\n    3,\\n)\";\n",
       "                var nbb_cells = Jupyter.notebook.get_cells();\n",
       "                for (var i = 0; i < nbb_cells.length; ++i) {\n",
       "                    if (nbb_cells[i].input_prompt_number == nbb_cell_id) {\n",
       "                        if (nbb_cells[i].get_text() == nbb_unformatted_code) {\n",
       "                             nbb_cells[i].set_text(nbb_formatted_code);\n",
       "                        }\n",
       "                        break;\n",
       "                    }\n",
       "                }\n",
       "            }, 500);\n",
       "            "
      ],
      "text/plain": [
       "<IPython.core.display.Javascript object>"
      ]
     },
     "metadata": {},
     "output_type": "display_data"
    }
   ],
   "source": [
    "np.round(\n",
    "    scores.groupby([\"model\"]).agg(\n",
    "        {\n",
    "            \"roc\": [\"mean\"],\n",
    "            \"f1-score\": [\"mean\"],\n",
    "            \"precision\": [\"mean\"],\n",
    "            \"recall\": [\"mean\"],\n",
    "        }\n",
    "    ),\n",
    "    3,\n",
    ")"
   ]
  },
  {
   "cell_type": "code",
   "execution_count": 36,
   "id": "13070097",
   "metadata": {},
   "outputs": [
    {
     "name": "stderr",
     "output_type": "stream",
     "text": [
      "100%|===================| 48729/48744 [08:30<00:00]        "
     ]
    },
    {
     "data": {
      "application/javascript": [
       "\n",
       "            setTimeout(function() {\n",
       "                var nbb_cell_id = 36;\n",
       "                var nbb_unformatted_code = \"shap_val_lgbm = shap_feature_importances(r_lgbm[\\\"model\\\"], x_test, None, True)\";\n",
       "                var nbb_formatted_code = \"shap_val_lgbm = shap_feature_importances(r_lgbm[\\\"model\\\"], x_test, None, True)\";\n",
       "                var nbb_cells = Jupyter.notebook.get_cells();\n",
       "                for (var i = 0; i < nbb_cells.length; ++i) {\n",
       "                    if (nbb_cells[i].input_prompt_number == nbb_cell_id) {\n",
       "                        if (nbb_cells[i].get_text() == nbb_unformatted_code) {\n",
       "                             nbb_cells[i].set_text(nbb_formatted_code);\n",
       "                        }\n",
       "                        break;\n",
       "                    }\n",
       "                }\n",
       "            }, 500);\n",
       "            "
      ],
      "text/plain": [
       "<IPython.core.display.Javascript object>"
      ]
     },
     "metadata": {},
     "output_type": "display_data"
    }
   ],
   "source": [
    "shap_val_lgbm = shap_feature_importances(r_lgbm[\"model\"], x_test, None, True)"
   ]
  },
  {
   "cell_type": "code",
   "execution_count": 39,
   "id": "31c1e353",
   "metadata": {},
   "outputs": [
    {
     "data": {
      "text/plain": [
       "(48744, 361)"
      ]
     },
     "execution_count": 39,
     "metadata": {},
     "output_type": "execute_result"
    },
    {
     "data": {
      "application/javascript": [
       "\n",
       "            setTimeout(function() {\n",
       "                var nbb_cell_id = 39;\n",
       "                var nbb_unformatted_code = \"shap_val_lgbm.shape\";\n",
       "                var nbb_formatted_code = \"shap_val_lgbm.shape\";\n",
       "                var nbb_cells = Jupyter.notebook.get_cells();\n",
       "                for (var i = 0; i < nbb_cells.length; ++i) {\n",
       "                    if (nbb_cells[i].input_prompt_number == nbb_cell_id) {\n",
       "                        if (nbb_cells[i].get_text() == nbb_unformatted_code) {\n",
       "                             nbb_cells[i].set_text(nbb_formatted_code);\n",
       "                        }\n",
       "                        break;\n",
       "                    }\n",
       "                }\n",
       "            }, 500);\n",
       "            "
      ],
      "text/plain": [
       "<IPython.core.display.Javascript object>"
      ]
     },
     "metadata": {},
     "output_type": "display_data"
    }
   ],
   "source": [
    "shap_val_lgbm.shape"
   ]
  },
  {
   "cell_type": "code",
   "execution_count": 83,
   "id": "3e98ac0c",
   "metadata": {},
   "outputs": [
    {
     "data": {
      "image/png": "[encoded data removed]",
      "text/plain": [
       "<Figure size 360x360 with 1 Axes>"
      ]
     },
     "metadata": {
      "needs_background": "light"
     },
     "output_type": "display_data"
    },
    {
     "data": {
      "application/javascript": [
       "\n",
       "            setTimeout(function() {\n",
       "                var nbb_cell_id = 83;\n",
       "                var nbb_unformatted_code = \"shap.summary_plot(shap_val_lgbm, x_test, plot_type=\\\"bar\\\", plot_size=(5, 5))\";\n",
       "                var nbb_formatted_code = \"shap.summary_plot(shap_val_lgbm, x_test, plot_type=\\\"bar\\\", plot_size=(5, 5))\";\n",
       "                var nbb_cells = Jupyter.notebook.get_cells();\n",
       "                for (var i = 0; i < nbb_cells.length; ++i) {\n",
       "                    if (nbb_cells[i].input_prompt_number == nbb_cell_id) {\n",
       "                        if (nbb_cells[i].get_text() == nbb_unformatted_code) {\n",
       "                             nbb_cells[i].set_text(nbb_formatted_code);\n",
       "                        }\n",
       "                        break;\n",
       "                    }\n",
       "                }\n",
       "            }, 500);\n",
       "            "
      ],
      "text/plain": [
       "<IPython.core.display.Javascript object>"
      ]
     },
     "metadata": {},
     "output_type": "display_data"
    }
   ],
   "source": [
    "shap.summary_plot(shap_val_lgbm, x_test, plot_type=\"bar\", plot_size=(5, 5))"
   ]
  },
  {
   "cell_type": "code",
   "execution_count": 162,
   "id": "f3224035",
   "metadata": {},
   "outputs": [
    {
     "data": {
      "image/png": "[encoded data removed]",
      "text/plain": [
       "<Figure size 576x684 with 2 Axes>"
      ]
     },
     "metadata": {
      "needs_background": "light"
     },
     "output_type": "display_data"
    },
    {
     "data": {
      "application/javascript": [
       "\n",
       "            setTimeout(function() {\n",
       "                var nbb_cell_id = 162;\n",
       "                var nbb_unformatted_code = \"shap.summary_plot(shap_val_lgbm, x_test,)\";\n",
       "                var nbb_formatted_code = \"shap.summary_plot(\\n    shap_val_lgbm,\\n    x_test,\\n)\";\n",
       "                var nbb_cells = Jupyter.notebook.get_cells();\n",
       "                for (var i = 0; i < nbb_cells.length; ++i) {\n",
       "                    if (nbb_cells[i].input_prompt_number == nbb_cell_id) {\n",
       "                        if (nbb_cells[i].get_text() == nbb_unformatted_code) {\n",
       "                             nbb_cells[i].set_text(nbb_formatted_code);\n",
       "                        }\n",
       "                        break;\n",
       "                    }\n",
       "                }\n",
       "            }, 500);\n",
       "            "
      ],
      "text/plain": [
       "<IPython.core.display.Javascript object>"
      ]
     },
     "metadata": {},
     "output_type": "display_data"
    }
   ],
   "source": [
    "shap.summary_plot(\n",
    "    shap_val_lgbm,\n",
    "    x_test,\n",
    ")"
   ]
  },
  {
   "cell_type": "markdown",
   "id": "fc624c6d",
   "metadata": {},
   "source": [
    "### Save models"
   ]
  },
  {
   "cell_type": "code",
   "execution_count": 163,
   "id": "9e1c3d90",
   "metadata": {},
   "outputs": [
    {
     "data": {
      "application/javascript": [
       "\n",
       "            setTimeout(function() {\n",
       "                var nbb_cell_id = 163;\n",
       "                var nbb_unformatted_code = \"import joblib\";\n",
       "                var nbb_formatted_code = \"import joblib\";\n",
       "                var nbb_cells = Jupyter.notebook.get_cells();\n",
       "                for (var i = 0; i < nbb_cells.length; ++i) {\n",
       "                    if (nbb_cells[i].input_prompt_number == nbb_cell_id) {\n",
       "                        if (nbb_cells[i].get_text() == nbb_unformatted_code) {\n",
       "                             nbb_cells[i].set_text(nbb_formatted_code);\n",
       "                        }\n",
       "                        break;\n",
       "                    }\n",
       "                }\n",
       "            }, 500);\n",
       "            "
      ],
      "text/plain": [
       "<IPython.core.display.Javascript object>"
      ]
     },
     "metadata": {},
     "output_type": "display_data"
    }
   ],
   "source": [
    "import joblib"
   ]
  },
  {
   "cell_type": "code",
   "execution_count": 165,
   "id": "0bb6a830",
   "metadata": {},
   "outputs": [
    {
     "data": {
      "application/javascript": [
       "\n",
       "            setTimeout(function() {\n",
       "                var nbb_cell_id = 165;\n",
       "                var nbb_unformatted_code = \"scores = []\\nfor name, r in [\\n    (\\\"knn\\\", r_knn),\\n    (\\\"random forest\\\", r_rf),\\n    (\\\"lgbm\\\", r_lgbm),\\n    (\\\"xgb\\\", r_xgb),\\n]:\\n    with open(\\\"../models/{}.pkl\\\".format(name), \\\"wb\\\") as f:\\n        joblib.dump(r, f)\";\n",
       "                var nbb_formatted_code = \"scores = []\\nfor name, r in [\\n    (\\\"knn\\\", r_knn),\\n    (\\\"random forest\\\", r_rf),\\n    (\\\"lgbm\\\", r_lgbm),\\n    (\\\"xgb\\\", r_xgb),\\n]:\\n    with open(\\\"../models/{}.pkl\\\".format(name), \\\"wb\\\") as f:\\n        joblib.dump(r, f)\";\n",
       "                var nbb_cells = Jupyter.notebook.get_cells();\n",
       "                for (var i = 0; i < nbb_cells.length; ++i) {\n",
       "                    if (nbb_cells[i].input_prompt_number == nbb_cell_id) {\n",
       "                        if (nbb_cells[i].get_text() == nbb_unformatted_code) {\n",
       "                             nbb_cells[i].set_text(nbb_formatted_code);\n",
       "                        }\n",
       "                        break;\n",
       "                    }\n",
       "                }\n",
       "            }, 500);\n",
       "            "
      ],
      "text/plain": [
       "<IPython.core.display.Javascript object>"
      ]
     },
     "metadata": {},
     "output_type": "display_data"
    }
   ],
   "source": [
    "scores = []\n",
    "for name, r in [\n",
    "    (\"knn\", r_knn),\n",
    "    (\"random forest\", r_rf),\n",
    "    (\"lgbm\", r_lgbm),\n",
    "    (\"xgb\", r_xgb),\n",
    "]:\n",
    "    with open(\"../models/{}.pkl\".format(name), \"wb\") as f:\n",
    "        joblib.dump(r, f)"
   ]
  }
 ],
 "metadata": {
  "kernelspec": {
   "display_name": "Python 3 (ipykernel)",
   "language": "python",
   "name": "python3"
  },
  "language_info": {
   "codemirror_mode": {
    "name": "ipython",
    "version": 3
   },
   "file_extension": ".py",
   "mimetype": "text/x-python",
   "name": "python",
   "nbconvert_exporter": "python",
   "pygments_lexer": "ipython3",
   "version": "3.7.11"
  }
 },
 "nbformat": 4,
 "nbformat_minor": 5
}
