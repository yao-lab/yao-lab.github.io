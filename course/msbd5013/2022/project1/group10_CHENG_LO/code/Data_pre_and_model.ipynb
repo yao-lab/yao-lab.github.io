{
 "cells": [
  {
   "cell_type": "code",
   "execution_count": 53,
   "id": "1def4ce5-804b-430b-8a7d-fd8fa836427b",
   "metadata": {},
   "outputs": [],
   "source": [
    "import numpy as np\n",
    "import pandas as pd\n",
    "\n",
    "from lightgbm import LGBMClassifier \n",
    "from sklearn.metrics import roc_auc_score, roc_curve\n",
    "from sklearn.model_selection import KFold, StratifiedKFold\n",
    "import warnings\n",
    "from sklearn.ensemble import RandomForestClassifier\n",
    "from xgboost import XGBClassifier"
   ]
  },
  {
   "cell_type": "markdown",
   "id": "1378fc6e-571c-49fd-8013-d312ac0122ad",
   "metadata": {},
   "source": [
    "# Application Training Data"
   ]
  },
  {
   "cell_type": "markdown",
   "id": "57b6ceed-de4f-4a15-b08e-c0d0867366a6",
   "metadata": {},
   "source": [
    "## Analyst"
   ]
  },
  {
   "cell_type": "code",
   "execution_count": 2,
   "id": "373933b7-4f5c-4de9-9450-88915e285346",
   "metadata": {},
   "outputs": [],
   "source": [
    "train_data = pd.read_csv('Data/application_train.csv')\n",
    "test_data = pd.read_csv('Data/application_test.csv')"
   ]
  },
  {
   "cell_type": "code",
   "execution_count": 3,
   "id": "71697735-1f94-42ae-8ac7-50f60847bda1",
   "metadata": {},
   "outputs": [
    {
     "data": {
      "text/plain": [
       "TARGET                          1.000000\n",
       "DAYS_BIRTH                      0.078239\n",
       "REGION_RATING_CLIENT_W_CITY     0.060893\n",
       "REGION_RATING_CLIENT            0.058899\n",
       "DAYS_LAST_PHONE_CHANGE          0.055218\n",
       "DAYS_ID_PUBLISH                 0.051457\n",
       "REG_CITY_NOT_WORK_CITY          0.050994\n",
       "FLAG_EMP_PHONE                  0.045982\n",
       "REG_CITY_NOT_LIVE_CITY          0.044395\n",
       "FLAG_DOCUMENT_3                 0.044346\n",
       "DAYS_REGISTRATION               0.041975\n",
       "OWN_CAR_AGE                     0.037612\n",
       "LIVE_CITY_NOT_WORK_CITY         0.032518\n",
       "DEF_30_CNT_SOCIAL_CIRCLE        0.032248\n",
       "DEF_60_CNT_SOCIAL_CIRCLE        0.031276\n",
       "FLAG_WORK_PHONE                 0.028524\n",
       "AMT_REQ_CREDIT_BUREAU_YEAR      0.019930\n",
       "CNT_CHILDREN                    0.019187\n",
       "CNT_FAM_MEMBERS                 0.009308\n",
       "OBS_30_CNT_SOCIAL_CIRCLE        0.009131\n",
       "OBS_60_CNT_SOCIAL_CIRCLE        0.009022\n",
       "REG_REGION_NOT_WORK_REGION      0.006942\n",
       "REG_REGION_NOT_LIVE_REGION      0.005576\n",
       "FLAG_DOCUMENT_2                 0.005417\n",
       "FLAG_DOCUMENT_21                0.003709\n",
       "LIVE_REGION_NOT_WORK_REGION     0.002819\n",
       "AMT_REQ_CREDIT_BUREAU_DAY       0.002704\n",
       "AMT_REQ_CREDIT_BUREAU_HOUR      0.000930\n",
       "AMT_REQ_CREDIT_BUREAU_WEEK      0.000788\n",
       "FLAG_MOBIL                      0.000534\n",
       "FLAG_CONT_MOBILE                0.000370\n",
       "FLAG_DOCUMENT_20                0.000215\n",
       "FLAG_DOCUMENT_5                -0.000316\n",
       "FLAG_DOCUMENT_12               -0.000756\n",
       "FLAG_DOCUMENT_19               -0.001358\n",
       "FLAG_DOCUMENT_10               -0.001414\n",
       "FLAG_DOCUMENT_7                -0.001520\n",
       "NONLIVINGAPARTMENTS_MODE       -0.001557\n",
       "FLAG_EMAIL                     -0.001758\n",
       "AMT_REQ_CREDIT_BUREAU_QRT      -0.002022\n",
       "SK_ID_CURR                     -0.002108\n",
       "FLAG_DOCUMENT_4                -0.002672\n",
       "NONLIVINGAPARTMENTS_MEDI       -0.002757\n",
       "NONLIVINGAPARTMENTS_AVG        -0.003176\n",
       "FLAG_DOCUMENT_17               -0.003378\n",
       "AMT_INCOME_TOTAL               -0.003982\n",
       "FLAG_DOCUMENT_11               -0.004229\n",
       "FLAG_DOCUMENT_9                -0.004352\n",
       "FLAG_DOCUMENT_15               -0.006536\n",
       "FLAG_DOCUMENT_18               -0.007952\n",
       "FLAG_DOCUMENT_8                -0.008040\n",
       "YEARS_BEGINEXPLUATATION_MODE   -0.009036\n",
       "FLAG_DOCUMENT_14               -0.009464\n",
       "Name: TARGET, dtype: float64"
      ]
     },
     "execution_count": 3,
     "metadata": {},
     "output_type": "execute_result"
    }
   ],
   "source": [
    "corr_array = train_data.corr(method ='pearson')\n",
    "corr_array['TARGET'].sort_values(ascending=False).head(53)"
   ]
  },
  {
   "cell_type": "code",
   "execution_count": 4,
   "id": "403fd4f2-3c6a-43f7-95fe-a3f0966395eb",
   "metadata": {},
   "outputs": [
    {
     "data": {
      "text/plain": [
       "EXT_SOURCE_3                   -0.178919\n",
       "EXT_SOURCE_2                   -0.160472\n",
       "EXT_SOURCE_1                   -0.155317\n",
       "DAYS_EMPLOYED                  -0.044932\n",
       "FLOORSMAX_AVG                  -0.044003\n",
       "FLOORSMAX_MEDI                 -0.043768\n",
       "FLOORSMAX_MODE                 -0.043226\n",
       "AMT_GOODS_PRICE                -0.039645\n",
       "REGION_POPULATION_RELATIVE     -0.037227\n",
       "ELEVATORS_AVG                  -0.034199\n",
       "ELEVATORS_MEDI                 -0.033863\n",
       "FLOORSMIN_AVG                  -0.033614\n",
       "FLOORSMIN_MEDI                 -0.033394\n",
       "LIVINGAREA_AVG                 -0.032997\n",
       "LIVINGAREA_MEDI                -0.032739\n",
       "FLOORSMIN_MODE                 -0.032698\n",
       "TOTALAREA_MODE                 -0.032596\n",
       "ELEVATORS_MODE                 -0.032131\n",
       "LIVINGAREA_MODE                -0.030685\n",
       "AMT_CREDIT                     -0.030369\n",
       "APARTMENTS_AVG                 -0.029498\n",
       "APARTMENTS_MEDI                -0.029184\n",
       "FLAG_DOCUMENT_6                -0.028602\n",
       "APARTMENTS_MODE                -0.027284\n",
       "LIVINGAPARTMENTS_AVG           -0.025031\n",
       "LIVINGAPARTMENTS_MEDI          -0.024621\n",
       "HOUR_APPR_PROCESS_START        -0.024166\n",
       "FLAG_PHONE                     -0.023806\n",
       "LIVINGAPARTMENTS_MODE          -0.023393\n",
       "BASEMENTAREA_AVG               -0.022746\n",
       "YEARS_BUILD_MEDI               -0.022326\n",
       "YEARS_BUILD_AVG                -0.022149\n",
       "BASEMENTAREA_MEDI              -0.022081\n",
       "YEARS_BUILD_MODE               -0.022068\n",
       "BASEMENTAREA_MODE              -0.019952\n",
       "ENTRANCES_AVG                  -0.019172\n",
       "ENTRANCES_MEDI                 -0.019025\n",
       "COMMONAREA_MEDI                -0.018573\n",
       "COMMONAREA_AVG                 -0.018550\n",
       "ENTRANCES_MODE                 -0.017387\n",
       "COMMONAREA_MODE                -0.016340\n",
       "NONLIVINGAREA_AVG              -0.013578\n",
       "NONLIVINGAREA_MEDI             -0.013337\n",
       "AMT_ANNUITY                    -0.012817\n",
       "NONLIVINGAREA_MODE             -0.012711\n",
       "AMT_REQ_CREDIT_BUREAU_MON      -0.012462\n",
       "FLAG_DOCUMENT_16               -0.011615\n",
       "FLAG_DOCUMENT_13               -0.011583\n",
       "LANDAREA_MEDI                  -0.011256\n",
       "LANDAREA_AVG                   -0.010885\n",
       "LANDAREA_MODE                  -0.010174\n",
       "YEARS_BEGINEXPLUATATION_MEDI   -0.009993\n",
       "YEARS_BEGINEXPLUATATION_AVG    -0.009728\n",
       "Name: TARGET, dtype: float64"
      ]
     },
     "execution_count": 4,
     "metadata": {},
     "output_type": "execute_result"
    }
   ],
   "source": [
    "corr_array['TARGET'].sort_values(ascending=True).head(53)"
   ]
  },
  {
   "cell_type": "code",
   "execution_count": 5,
   "id": "293cb41a-3d42-4298-8d44-694f4a523f02",
   "metadata": {},
   "outputs": [
    {
     "data": {
      "text/plain": [
       "['NAME_CONTRACT_TYPE',\n",
       " 'CODE_GENDER',\n",
       " 'FLAG_OWN_CAR',\n",
       " 'FLAG_OWN_REALTY',\n",
       " 'NAME_TYPE_SUITE',\n",
       " 'NAME_INCOME_TYPE',\n",
       " 'NAME_EDUCATION_TYPE',\n",
       " 'NAME_FAMILY_STATUS',\n",
       " 'NAME_HOUSING_TYPE',\n",
       " 'OCCUPATION_TYPE',\n",
       " 'WEEKDAY_APPR_PROCESS_START',\n",
       " 'ORGANIZATION_TYPE',\n",
       " 'FONDKAPREMONT_MODE',\n",
       " 'HOUSETYPE_MODE',\n",
       " 'WALLSMATERIAL_MODE',\n",
       " 'EMERGENCYSTATE_MODE']"
      ]
     },
     "execution_count": 5,
     "metadata": {},
     "output_type": "execute_result"
    }
   ],
   "source": [
    "categorical_columns = [col for col in train_data.columns if train_data[col].dtype == 'object']\n",
    "categorical_columns"
   ]
  },
  {
   "cell_type": "markdown",
   "id": "efd7877a-e820-443e-940a-f1c7356c2228",
   "metadata": {},
   "source": [
    "# Functions for pre-processing"
   ]
  },
  {
   "cell_type": "code",
   "execution_count": 6,
   "id": "3ad18a46-a499-4583-b19a-6108bd88b272",
   "metadata": {},
   "outputs": [],
   "source": [
    "def categorical_to_onehot(data, nan_flag = True):\n",
    "    columns_list = list(data.columns)\n",
    "    categorical_feature = [col for col in data.columns if data[col].dtype == 'object']\n",
    "    result = pd.get_dummies(data, columns= categorical_feature, dummy_na= nan_flag)\n",
    "    new_columns = [c for c in result.columns if c not in columns_list]\n",
    "    return result, new_columns\n",
    "\n",
    "def groupby_rename(data, groupby_key, agg_list, rename_prefix = None):\n",
    "    result = data.groupby(groupby_key).agg(agg_list)\n",
    "    if rename_prefix == None:\n",
    "        result.columns = pd.Index([feature[0] + \"_\" + feature[1].upper() for feature in result.columns.tolist()])\n",
    "    else:\n",
    "        result.columns = pd.Index([rename_prefix + \"_\" +feature[0] + \"_\" + feature[1].upper() for feature in result.columns.tolist()])\n",
    "    return result\n",
    "\n",
    "def test_corr (df1, df2):\n",
    "    join_df = df1.merge(df2, how='left', on='SK_ID_CURR')\n",
    "    corr_array = join_df.corr(method ='pearson')\n",
    "    print(corr_array['TARGET'].sort_values(ascending=False).head(60))\n",
    "    return"
   ]
  },
  {
   "cell_type": "markdown",
   "id": "bad1d0b3-8f61-4067-bf2f-1b6399bf7088",
   "metadata": {},
   "source": [
    "## Pre-Processing"
   ]
  },
  {
   "cell_type": "code",
   "execution_count": 7,
   "id": "d8e62ffd-3d3b-41e4-86bc-d0bc7125038c",
   "metadata": {},
   "outputs": [],
   "source": [
    "data = train_data.append(test_data).reset_index()\n",
    "data = data[data['CODE_GENDER']!= 'XNA'] # drop the row with CODE_GENDER = XNA"
   ]
  },
  {
   "cell_type": "code",
   "execution_count": 8,
   "id": "5fa2ad52-5c0a-41df-80f3-0a06f0b42a5b",
   "metadata": {},
   "outputs": [],
   "source": [
    "# feature intergation on EXT_SOURCES related features\n",
    "\n",
    "data['EXT_SOURCES_SUM'] = data['EXT_SOURCE_1'] + data['EXT_SOURCE_2'] + data['EXT_SOURCE_3']\n",
    "data['EXT_SOURCES_MEAN'] = data[['EXT_SOURCE_1', 'EXT_SOURCE_2', 'EXT_SOURCE_3']].mean(axis=1)\n",
    "data['EXT_SOURCES_STD'] = data[['EXT_SOURCE_1', 'EXT_SOURCE_2', 'EXT_SOURCE_3']].std(axis=1)\n",
    "\n",
    "#fill nan value with mean\n",
    "data['EXT_SOURCE_1'] = data['EXT_SOURCE_1'].fillna(data['EXT_SOURCE_1'].mean())\n",
    "data['EXT_SOURCE_2'] = data['EXT_SOURCE_2'].fillna(data['EXT_SOURCE_2'].mean())\n",
    "data['EXT_SOURCE_3'] = data['EXT_SOURCE_3'].fillna(data['EXT_SOURCE_3'].mean())\n",
    "\n",
    "#fill nan value with mean\n",
    "data['EXT_SOURCES_SUM'] = data['EXT_SOURCES_SUM'].fillna(data['EXT_SOURCES_SUM'].mean())\n",
    "data['EXT_SOURCES_MEAN'] = data['EXT_SOURCES_MEAN'].fillna(data['EXT_SOURCES_MEAN'].mean())\n",
    "data['EXT_SOURCES_STD'] = data['EXT_SOURCES_STD'].fillna(data['EXT_SOURCES_STD'].mean())\n"
   ]
  },
  {
   "cell_type": "code",
   "execution_count": 9,
   "id": "b368ef79-4275-4685-8400-eeaaccf84fea",
   "metadata": {},
   "outputs": [],
   "source": [
    "# feature intergation on other features\n",
    "data['HAS_CHILDREN'] = (data['CNT_CHILDREN']!=0).astype(int)\n",
    "\n",
    "data['AGE_GROUP'] = data['DAYS_BIRTH']//-365\n",
    "data = data[data['AGE_GROUP']> 0]\n",
    "data = data[data['AGE_GROUP']< 120]\n",
    "bins= [0,30,45,65,120]\n",
    "labels = [1,2,3,4]\n",
    "data['AGE_GROUP'] = pd.cut(data['AGE_GROUP'], bins=bins, labels=labels, right=False)"
   ]
  },
  {
   "cell_type": "code",
   "execution_count": 10,
   "id": "6051d84d-30eb-4a01-8513-2a19df4e3cbb",
   "metadata": {},
   "outputs": [],
   "source": [
    "# Transform categorical_feature into one hot vectors\n",
    "categorical_feature = ['NAME_CONTRACT_TYPE','CODE_GENDER','FLAG_OWN_CAR','FLAG_OWN_REALTY', 'NAME_TYPE_SUITE', 'NAME_EDUCATION_TYPE', 'NAME_FAMILY_STATUS', \n",
    "                       'NAME_HOUSING_TYPE', 'OCCUPATION_TYPE', 'WEEKDAY_APPR_PROCESS_START', 'ORGANIZATION_TYPE', 'WALLSMATERIAL_MODE','NAME_INCOME_TYPE']\n",
    "\n",
    "data = pd.get_dummies(data, columns=categorical_feature, dummy_na=True)\n"
   ]
  },
  {
   "cell_type": "code",
   "execution_count": 11,
   "id": "5ee7a645-4ed7-4092-8fa7-0af731ff7235",
   "metadata": {
    "tags": []
   },
   "outputs": [],
   "source": [
    "# drop the column with low pearson correlation with TARGET or more than 60% is null value\n",
    "drop_column = ['FLAG_DOCUMENT_2','FLAG_DOCUMENT_4','FLAG_DOCUMENT_5','FLAG_DOCUMENT_7','FLAG_DOCUMENT_9','FLAG_DOCUMENT_10','FLAG_DOCUMENT_11','FLAG_DOCUMENT_12','FLAG_DOCUMENT_13', \n",
    "               'FLAG_DOCUMENT_14', 'FLAG_DOCUMENT_15', 'FLAG_DOCUMENT_16', 'FLAG_DOCUMENT_17','FLAG_DOCUMENT_19','FLAG_DOCUMENT_20','FLAG_DOCUMENT_21', 'LIVE_REGION_NOT_WORK_REGION', \n",
    "               'CNT_CHILDREN', 'FLAG_CONT_MOBILE', 'FLAG_EMP_PHONE','FLAG_WORK_PHONE', 'FLAG_PHONE','FLAG_EMAIL','CNT_FAM_MEMBERS','HOUR_APPR_PROCESS_START','REG_REGION_NOT_LIVE_REGION',\n",
    "               'REG_REGION_NOT_WORK_REGION','BASEMENTAREA_AVG', 'BASEMENTAREA_MODE', 'BASEMENTAREA_MEDI', 'YEARS_BEGINEXPLUATATION_AVG', 'YEARS_BEGINEXPLUATATION_MODE','YEARS_BUILD_AVG',\n",
    "              'YEARS_BUILD_MODE', 'YEARS_BUILD_MEDI', 'COMMONAREA_AVG', 'COMMONAREA_MODE', 'COMMONAREA_MEDI', 'ELEVATORS_MODE', 'ELEVATORS_MEDI', 'ENTRANCES_MODE', 'ENTRANCES_MEDI', \n",
    "              'FLOORSMIN_AVG', 'FLOORSMIN_MODE', 'FLOORSMIN_MEDI', 'LANDAREA_AVG', 'LANDAREA_MODE', 'LANDAREA_MEDI', 'LIVINGAPARTMENTS_AVG', 'LIVINGAPARTMENTS_MODE', 'LIVINGAPARTMENTS_MEDI',\n",
    "              'LIVINGAREA_MODE', 'NONLIVINGAPARTMENTS_AVG', 'NONLIVINGAPARTMENTS_MODE', 'NONLIVINGAPARTMENTS_MEDI', 'NONLIVINGAREA_AVG', 'NONLIVINGAREA_MODE', 'NONLIVINGAREA_MEDI',\n",
    "              'FONDKAPREMONT_MODE', 'HOUSETYPE_MODE', 'OBS_30_CNT_SOCIAL_CIRCLE', 'OBS_60_CNT_SOCIAL_CIRCLE', 'AMT_REQ_CREDIT_BUREAU_DAY', 'AMT_REQ_CREDIT_BUREAU_HOUR', 'AMT_REQ_CREDIT_BUREAU_WEEK',\n",
    "              'AMT_REQ_CREDIT_BUREAU_QRT', 'EMERGENCYSTATE_MODE',]\n",
    "\n",
    "data.drop(columns=drop_column,axis=1, inplace=True)"
   ]
  },
  {
   "cell_type": "code",
   "execution_count": 12,
   "id": "356fddcd-cc58-419f-8b11-ebb6afb7d881",
   "metadata": {},
   "outputs": [],
   "source": [
    "# handle reminding nan values\n",
    "data['OWN_CAR_AGE'] = data['OWN_CAR_AGE'].fillna(value=0)\n",
    "#data = data.fillna(value=data.mean())\n",
    "\n",
    "# handle abnormal value:\n",
    "data['DAYS_EMPLOYED'].replace(365243, 0, inplace= True)\n",
    "\n",
    "label_curr = data[['SK_ID_CURR', 'TARGET']]"
   ]
  },
  {
   "cell_type": "markdown",
   "id": "be437aad-e8eb-496f-9698-51c2d49ba124",
   "metadata": {},
   "source": [
    "# Bureau Data and bureau_balance Data"
   ]
  },
  {
   "cell_type": "code",
   "execution_count": 13,
   "id": "5a6ed886-5e22-40ae-ba23-08c1d7fa9755",
   "metadata": {},
   "outputs": [],
   "source": [
    "bureau_data  = pd.read_csv('Data/bureau.csv')\n",
    "bureau_balance_data = pd.read_csv('Data/bureau_balance.csv')"
   ]
  },
  {
   "cell_type": "code",
   "execution_count": 14,
   "id": "b8b84e89-05ed-4173-b4ac-87379be567c1",
   "metadata": {},
   "outputs": [],
   "source": [
    "# Transform categorical_feature into one hot vector\n",
    "bureau_data, bureau_new_col = categorical_to_onehot(bureau_data, True)\n",
    "bureau_balance_data, bureau_balance_new_col = categorical_to_onehot(bureau_balance_data, True)\n"
   ]
  },
  {
   "cell_type": "code",
   "execution_count": 15,
   "id": "82694386-cc42-4bfd-95cf-66e281afba69",
   "metadata": {},
   "outputs": [],
   "source": [
    "# Perform aggregations on bureau_balance \n",
    "aggregations = {'MONTHS_BALANCE': ['min', 'max', 'size']}\n",
    "for col in bureau_balance_new_col:\n",
    "    aggregations[col] = ['mean']\n",
    "agg_result = groupby_rename(bureau_balance_data, 'SK_ID_BUREAU', aggregations)\n",
    "# merge with bureau.csv\n",
    "bureau_data = bureau_data.merge(agg_result, how='left', on='SK_ID_BUREAU')\n",
    "bureau_data.drop(['SK_ID_BUREAU'], axis=1, inplace= True)"
   ]
  },
  {
   "cell_type": "code",
   "execution_count": 16,
   "id": "dc550e54-1c99-480d-827d-5e66c1e31b8e",
   "metadata": {},
   "outputs": [],
   "source": [
    "# aggregations on numerical features\n",
    "numerical_agg = {\n",
    "    'DAYS_CREDIT': ['min', 'max', 'mean', 'var'],\n",
    "    'DAYS_CREDIT_ENDDATE': ['min', 'max', 'mean'],\n",
    "    'DAYS_CREDIT_UPDATE': ['mean'],\n",
    "    'CREDIT_DAY_OVERDUE': ['max', 'mean'],\n",
    "    'AMT_CREDIT_MAX_OVERDUE': ['mean'],\n",
    "    'AMT_CREDIT_SUM': ['max', 'mean', 'sum'],\n",
    "    'AMT_CREDIT_SUM_DEBT': ['max', 'mean', 'sum'],\n",
    "    'AMT_CREDIT_SUM_OVERDUE': ['mean'],\n",
    "    'AMT_CREDIT_SUM_LIMIT': ['mean', 'sum'],\n",
    "    'AMT_ANNUITY': ['max', 'mean'],\n",
    "    'CNT_CREDIT_PROLONG': ['sum'],\n",
    "    'MONTHS_BALANCE_MIN': ['min'],\n",
    "    'MONTHS_BALANCE_MAX': ['max'],\n",
    "    'MONTHS_BALANCE_SIZE': ['mean', 'sum']\n",
    "}\n",
    "\n",
    "categorical_agg = {}\n",
    "for col in bureau_new_col: \n",
    "    categorical_agg[col] = ['mean']\n",
    "for col in bureau_balance_new_col: \n",
    "    categorical_agg[col + \"_MEAN\"] = ['mean'] \n",
    "\n",
    "aggregations = {**numerical_agg, **categorical_agg}"
   ]
  },
  {
   "cell_type": "code",
   "execution_count": 17,
   "id": "8cee4d0d-9762-4b64-a207-bcebc5071e0b",
   "metadata": {},
   "outputs": [],
   "source": [
    "bureau_agg_result = groupby_rename(bureau_data, 'SK_ID_CURR', aggregations, rename_prefix='BUREAU')\n",
    "\n",
    "bureau_active = bureau_data[bureau_data['CREDIT_ACTIVE_Active'] == 1]\n",
    "bureau_active_agg = groupby_rename(bureau_active, 'SK_ID_CURR', numerical_agg, rename_prefix='ACTIVE')\n",
    "bureau_agg_result = bureau_agg_result.merge(bureau_active_agg, how='left', on='SK_ID_CURR')\n",
    "\n",
    "bureau_closed = bureau_data[bureau_data['CREDIT_ACTIVE_Closed'] == 1]\n",
    "bureau_closed_agg = groupby_rename(bureau_closed, 'SK_ID_CURR', numerical_agg, rename_prefix='CLOSED')\n",
    "\n",
    "bureau_agg_result = bureau_agg_result.merge(bureau_closed_agg, how='left', on='SK_ID_CURR')"
   ]
  },
  {
   "cell_type": "code",
   "execution_count": 18,
   "id": "83f04b81-f7f7-4ea4-a9d0-088765b5523c",
   "metadata": {},
   "outputs": [],
   "source": [
    "data = data.merge(bureau_agg_result, how='left', on='SK_ID_CURR')"
   ]
  },
  {
   "cell_type": "markdown",
   "id": "1d3ef770-4f69-4d47-91fa-0e18a80294c8",
   "metadata": {},
   "source": [
    "# previous_applications.csv"
   ]
  },
  {
   "cell_type": "code",
   "execution_count": 19,
   "id": "485327cb-9668-4608-b2ee-899cdb29627b",
   "metadata": {},
   "outputs": [],
   "source": [
    "previous_data = pd.read_csv('Data/previous_application.csv')"
   ]
  },
  {
   "cell_type": "code",
   "execution_count": 20,
   "id": "bf0da84b-bdc3-455f-835f-e619f4d67f45",
   "metadata": {},
   "outputs": [],
   "source": [
    "# Transform categorical_feature into one hot vector\n",
    "previous_data, previous_new_col = categorical_to_onehot(previous_data, True)\n",
    "\n",
    "# handle abnormal value:\n",
    "abnormal_column = ['DAYS_FIRST_DRAWING', 'DAYS_FIRST_DUE', 'DAYS_LAST_DUE_1ST_VERSION', 'DAYS_LAST_DUE', 'DAYS_TERMINATION']\n",
    "for col in abnormal_column: previous_data[col].replace(365243, np.nan, inplace= True)\n"
   ]
  },
  {
   "cell_type": "code",
   "execution_count": 21,
   "id": "c36122dc-768e-495c-9e61-26cd225fac49",
   "metadata": {},
   "outputs": [],
   "source": [
    "# setup aggregations setting on numerical and categorical feature\n",
    "numerical_agg = {\n",
    "    'AMT_ANNUITY': ['min', 'max', 'mean'],\n",
    "    'AMT_APPLICATION': ['min', 'max', 'mean'],\n",
    "    'AMT_CREDIT': ['min', 'max', 'mean'],\n",
    "    'AMT_DOWN_PAYMENT': ['min', 'max', 'mean'],\n",
    "    'AMT_GOODS_PRICE': ['min', 'max', 'mean'],\n",
    "    'HOUR_APPR_PROCESS_START': ['min', 'max', 'mean'],\n",
    "    'RATE_DOWN_PAYMENT': ['min', 'max', 'mean'],\n",
    "    'DAYS_DECISION': ['min', 'max', 'mean'],\n",
    "    'CNT_PAYMENT': ['mean', 'sum'],\n",
    "}\n",
    "\n",
    "categorical_agg = {}\n",
    "for col in previous_new_col: \n",
    "    categorical_agg[col] = ['mean']\n",
    "    \n",
    "aggregations = {**numerical_agg, **categorical_agg}"
   ]
  },
  {
   "cell_type": "code",
   "execution_count": 22,
   "id": "db415439-44ca-4d69-b6d5-fd993a32e02d",
   "metadata": {},
   "outputs": [],
   "source": [
    "# start aggregations\n",
    "previous_agg_result = groupby_rename(previous_data, 'SK_ID_CURR', aggregations, rename_prefix='PREVIOUS')\n",
    "\n",
    "previous_approved = previous_data[previous_data['NAME_CONTRACT_STATUS_Approved'] == 1]\n",
    "previous_refused = previous_data[previous_data['NAME_CONTRACT_STATUS_Refused'] == 1]\n",
    "\n",
    "previous_approved_agg = groupby_rename(previous_approved, 'SK_ID_CURR', numerical_agg, rename_prefix='APPROVED')\n",
    "previous_refused_agg = groupby_rename(previous_refused, 'SK_ID_CURR', numerical_agg, rename_prefix='REFUSED')\n",
    "\n",
    "previous_agg_result = previous_agg_result.merge(previous_approved_agg, how='left', on='SK_ID_CURR')\n",
    "previous_agg_result = previous_agg_result.merge(previous_refused_agg, how='left', on='SK_ID_CURR')\n"
   ]
  },
  {
   "cell_type": "code",
   "execution_count": 23,
   "id": "fe3c7a63-1731-4dd3-a8a7-c1e6ca4d593b",
   "metadata": {},
   "outputs": [],
   "source": [
    "data = data.merge(previous_agg_result, how='left', on='SK_ID_CURR')"
   ]
  },
  {
   "cell_type": "markdown",
   "id": "b64f729f-da15-426c-b17d-14d62442cf5a",
   "metadata": {},
   "source": [
    "# credit_card_balance.csv"
   ]
  },
  {
   "cell_type": "code",
   "execution_count": 24,
   "id": "6c00d373-9064-4ab1-b84c-8557756e311f",
   "metadata": {},
   "outputs": [],
   "source": [
    "credit_card_data = pd.read_csv('Data/credit_card_balance.csv')"
   ]
  },
  {
   "cell_type": "code",
   "execution_count": 25,
   "id": "1a3f3316-2404-4327-8232-a6e6257baa68",
   "metadata": {},
   "outputs": [],
   "source": [
    "# Transform categorical_feature into one hot vector\n",
    "credit_card_data, credit_card_new_col = categorical_to_onehot(credit_card_data, True)"
   ]
  },
  {
   "cell_type": "code",
   "execution_count": 26,
   "id": "6cf5f52f-feea-48ff-bb50-ed9b29eec692",
   "metadata": {},
   "outputs": [],
   "source": [
    "# setup aggregations setting on numerical and categorical feature\n",
    "numerical_agg = {\n",
    "    'MONTHS_BALANCE': ['min', 'max', 'mean'],\n",
    "    'AMT_BALANCE': ['min', 'max', 'mean'],\n",
    "    'AMT_CREDIT_LIMIT_ACTUAL': ['min', 'max', 'mean'],\n",
    "    'AMT_DRAWINGS_ATM_CURRENT': ['min', 'max', 'mean'],\n",
    "    'AMT_DRAWINGS_CURRENT': ['min', 'max', 'mean'],\n",
    "    'AMT_DRAWINGS_OTHER_CURRENT': ['min', 'max', 'mean'],\n",
    "    'AMT_INST_MIN_REGULARITY': ['min', 'mean'],\n",
    "    'AMT_PAYMENT_CURRENT': ['mean'],\n",
    "    'AMT_PAYMENT_TOTAL_CURRENT':['mean', 'sum'],\n",
    "    'AMT_RECEIVABLE_PRINCIPAL':['mean'],\n",
    "    'AMT_RECIVABLE':['mean'],\n",
    "    'AMT_TOTAL_RECEIVABLE':['mean'],\n",
    "    'CNT_DRAWINGS_ATM_CURRENT':['min', 'max', 'mean'],\n",
    "    'CNT_DRAWINGS_CURRENT':['min', 'max', 'mean'],\n",
    "    'CNT_DRAWINGS_OTHER_CURRENT':['min', 'max', 'mean']\n",
    "}\n",
    "\n",
    "categorical_agg = {}\n",
    "for col in credit_card_new_col: \n",
    "    categorical_agg[col] = ['mean']\n",
    "    \n",
    "aggregations = {**numerical_agg, **categorical_agg}"
   ]
  },
  {
   "cell_type": "code",
   "execution_count": 27,
   "id": "9e52ea38-ec19-4576-b0be-4e584ef9d55b",
   "metadata": {},
   "outputs": [],
   "source": [
    "# start aggregations\n",
    "credit_card_agg_result = groupby_rename(credit_card_data, 'SK_ID_CURR', aggregations, rename_prefix='CREDIT')"
   ]
  },
  {
   "cell_type": "code",
   "execution_count": 28,
   "id": "cf755100-a550-433a-9316-b550028958f7",
   "metadata": {},
   "outputs": [],
   "source": [
    "data = data.merge(credit_card_agg_result, how='left', on='SK_ID_CURR')"
   ]
  },
  {
   "cell_type": "markdown",
   "id": "3e87ff72-a77f-4947-a116-f61b47e28d78",
   "metadata": {},
   "source": [
    "# installments_payments.csv"
   ]
  },
  {
   "cell_type": "code",
   "execution_count": 29,
   "id": "f1a259a1-dfa4-4dd2-a34f-94502a70c1da",
   "metadata": {},
   "outputs": [],
   "source": [
    "install_pay_data = pd.read_csv('Data/installments_payments.csv')"
   ]
  },
  {
   "cell_type": "code",
   "execution_count": 30,
   "id": "521eb05c-692a-4296-bc29-e2d488256e65",
   "metadata": {},
   "outputs": [],
   "source": [
    "# Transform categorical_feature into one hot vector\n",
    "install_pay_data, install_pay_new_col = categorical_to_onehot(install_pay_data, True)"
   ]
  },
  {
   "cell_type": "code",
   "execution_count": 31,
   "id": "55688154-f72b-425d-8ee7-25628f30f03e",
   "metadata": {},
   "outputs": [],
   "source": [
    "# Feature engineering\n",
    "install_pay_data['PAY_DAY_DIFF'] = install_pay_data['DAYS_ENTRY_PAYMENT'] - install_pay_data['DAYS_INSTALMENT']\n",
    "install_pay_data['PAY_DAY_DIFF'] = install_pay_data['PAY_DAY_DIFF'].apply(lambda x: 1 if x >= 0 else 0) #transform into binary: early or on time pay; 1 late pay\n",
    "\n",
    "install_pay_data['AMT_DIFF'] = install_pay_data['AMT_INSTALMENT'] - install_pay_data['AMT_PAYMENT']"
   ]
  },
  {
   "cell_type": "code",
   "execution_count": 32,
   "id": "89231c37-e52c-409b-9e5c-b8f19c716214",
   "metadata": {},
   "outputs": [],
   "source": [
    "# setup aggregations setting on numerical and categorical feature\n",
    "numerical_agg = {\n",
    "    'NUM_INSTALMENT_VERSION': ['nunique'],\n",
    "    'PAY_DAY_DIFF': ['mean', 'sum'],\n",
    "    'AMT_DIFF': ['mean', 'sum'],\n",
    "    'AMT_INSTALMENT': ['max', 'min'],\n",
    "    'AMT_PAYMENT': ['mean'], \n",
    "}\n",
    "\n",
    "categorical_agg = {}\n",
    "for col in install_pay_new_col: \n",
    "    categorical_agg[col] = ['mean']\n",
    "\n",
    "aggregations = {**numerical_agg, **categorical_agg}"
   ]
  },
  {
   "cell_type": "code",
   "execution_count": 33,
   "id": "9f69edd5-a224-4990-88aa-6c83e063683e",
   "metadata": {},
   "outputs": [],
   "source": [
    "install_pay_agg_result = groupby_rename(install_pay_data, 'SK_ID_CURR', aggregations, rename_prefix='INSTALL')"
   ]
  },
  {
   "cell_type": "code",
   "execution_count": 34,
   "id": "da1ea0ff-a049-46d8-a53a-9c215cc143a3",
   "metadata": {},
   "outputs": [],
   "source": [
    "data = data.merge(install_pay_agg_result, how='left', on='SK_ID_CURR')"
   ]
  },
  {
   "cell_type": "markdown",
   "id": "2aab273e-ee87-4cd2-9a1c-a5dfe84781e9",
   "metadata": {},
   "source": [
    "# POS_CASH_balance.csv"
   ]
  },
  {
   "cell_type": "code",
   "execution_count": 35,
   "id": "d6c506ce-fa11-4a7f-8a47-88cd43915564",
   "metadata": {},
   "outputs": [],
   "source": [
    "pos_data = pd.read_csv('Data/POS_CASH_balance.csv')"
   ]
  },
  {
   "cell_type": "code",
   "execution_count": 36,
   "id": "2303f937-09b2-48fa-ab99-ed768a314046",
   "metadata": {},
   "outputs": [
    {
     "data": {
      "text/plain": [
       "SK_ID_PREV                 int64\n",
       "SK_ID_CURR                 int64\n",
       "MONTHS_BALANCE             int64\n",
       "CNT_INSTALMENT           float64\n",
       "CNT_INSTALMENT_FUTURE    float64\n",
       "NAME_CONTRACT_STATUS      object\n",
       "SK_DPD                     int64\n",
       "SK_DPD_DEF                 int64\n",
       "dtype: object"
      ]
     },
     "execution_count": 36,
     "metadata": {},
     "output_type": "execute_result"
    }
   ],
   "source": [
    "pos_data.dtypes"
   ]
  },
  {
   "cell_type": "code",
   "execution_count": 37,
   "id": "e18abcca-a41c-425a-9025-8a506deeb052",
   "metadata": {},
   "outputs": [],
   "source": [
    "# Transform categorical_feature into one hot vector\n",
    "pos_data, pos_new_col = categorical_to_onehot(pos_data, True)"
   ]
  },
  {
   "cell_type": "code",
   "execution_count": 38,
   "id": "51d6ec77-3d00-4bc7-9de0-9105c94d96d9",
   "metadata": {},
   "outputs": [],
   "source": [
    "# setup aggregations setting on numerical and categorical feature\n",
    "numerical_agg = {\n",
    "    'MONTHS_BALANCE': ['min', 'max', 'mean'],\n",
    "    'CNT_INSTALMENT': ['mean', 'sum'],\n",
    "    'CNT_INSTALMENT_FUTURE': ['mean', 'sum'] \n",
    "}\n",
    "\n",
    "categorical_agg = {}\n",
    "for col in pos_new_col: \n",
    "    categorical_agg[col] = ['mean']\n",
    "\n",
    "aggregations = {**numerical_agg, **categorical_agg}"
   ]
  },
  {
   "cell_type": "code",
   "execution_count": 39,
   "id": "d07c1c72-3701-4b19-99bf-c1de0e2f5c41",
   "metadata": {},
   "outputs": [],
   "source": [
    "pos_agg_result = groupby_rename(pos_data, 'SK_ID_CURR', aggregations, rename_prefix='POS')"
   ]
  },
  {
   "cell_type": "code",
   "execution_count": 40,
   "id": "3fb23280-5588-4a37-81b9-d14a29a40ff9",
   "metadata": {},
   "outputs": [],
   "source": [
    "data = data.merge(pos_agg_result, how='left', on='SK_ID_CURR')"
   ]
  },
  {
   "cell_type": "markdown",
   "id": "babce774-392f-4cef-b169-4099f5aaf585",
   "metadata": {},
   "source": [
    "## Model Construction"
   ]
  },
  {
   "cell_type": "code",
   "execution_count": 41,
   "id": "8cb42c55-c88f-4847-acda-78fed0a9e47e",
   "metadata": {},
   "outputs": [],
   "source": [
    "import re\n",
    "data = data.rename(columns = lambda x:re.sub('[^A-Za-z0-9_]+', '', x))"
   ]
  },
  {
   "cell_type": "code",
   "execution_count": 42,
   "id": "df228cbc-fb72-4d95-8c9f-4a5d899560c9",
   "metadata": {},
   "outputs": [],
   "source": [
    "# Separate pre-processed data into train and test set\n",
    "final_train_data = data[data['TARGET'].notnull()]\n",
    "final_test_data = data[data['TARGET'].isnull()]"
   ]
  },
  {
   "cell_type": "code",
   "execution_count": 43,
   "id": "bfbb4d65-f95a-48fd-95c8-3364196dd543",
   "metadata": {},
   "outputs": [],
   "source": [
    "# setup model setting\n",
    "fold_num = 5\n",
    "seed = 501\n",
    "kf = StratifiedKFold(n_splits= fold_num, shuffle=True, random_state=seed)\n",
    "sample = final_train_data.drop(['TARGET','SK_ID_CURR'], axis=1)\n",
    "label = final_train_data['TARGET']\n",
    "result = np.zeros(final_train_data.shape[0])\n",
    "\n",
    "test_sample = final_test_data.drop(['TARGET','SK_ID_CURR'], axis=1)\n",
    "test_result = np.zeros(final_test_data.shape[0])"
   ]
  },
  {
   "cell_type": "code",
   "execution_count": 44,
   "id": "8cc9fabd-ae80-47fd-a0db-2ba6e80c719a",
   "metadata": {},
   "outputs": [
    {
     "name": "stdout",
     "output_type": "stream",
     "text": [
      "Training until validation scores don't improve for 100 rounds\n",
      "[100]\ttraining's auc: 0.785509\ttraining's binary_logloss: 0.239174\tvalid_1's auc: 0.77156\tvalid_1's binary_logloss: 0.243319\n",
      "[200]\ttraining's auc: 0.812919\ttraining's binary_logloss: 0.228797\tvalid_1's auc: 0.78276\tvalid_1's binary_logloss: 0.238677\n",
      "[300]\ttraining's auc: 0.833193\ttraining's binary_logloss: 0.221321\tvalid_1's auc: 0.786708\tvalid_1's binary_logloss: 0.237055\n",
      "[400]\ttraining's auc: 0.850005\ttraining's binary_logloss: 0.21509\tvalid_1's auc: 0.788324\tvalid_1's binary_logloss: 0.236343\n",
      "[500]\ttraining's auc: 0.864153\ttraining's binary_logloss: 0.20966\tvalid_1's auc: 0.788906\tvalid_1's binary_logloss: 0.236081\n",
      "[600]\ttraining's auc: 0.876493\ttraining's binary_logloss: 0.204702\tvalid_1's auc: 0.789155\tvalid_1's binary_logloss: 0.235956\n",
      "[700]\ttraining's auc: 0.887241\ttraining's binary_logloss: 0.200063\tvalid_1's auc: 0.789335\tvalid_1's binary_logloss: 0.235851\n",
      "[800]\ttraining's auc: 0.896427\ttraining's binary_logloss: 0.195786\tvalid_1's auc: 0.789488\tvalid_1's binary_logloss: 0.235741\n",
      "Early stopping, best iteration is:\n",
      "[761]\ttraining's auc: 0.892777\ttraining's binary_logloss: 0.19747\tvalid_1's auc: 0.789617\tvalid_1's binary_logloss: 0.235742\n",
      "Fold: 1 AUC: 0.7896166670059895\n",
      "Training until validation scores don't improve for 100 rounds\n",
      "[100]\ttraining's auc: 0.787861\ttraining's binary_logloss: 0.238228\tvalid_1's auc: 0.758266\tvalid_1's binary_logloss: 0.246557\n",
      "[200]\ttraining's auc: 0.814329\ttraining's binary_logloss: 0.227866\tvalid_1's auc: 0.770608\tvalid_1's binary_logloss: 0.242286\n",
      "[300]\ttraining's auc: 0.83428\ttraining's binary_logloss: 0.220436\tvalid_1's auc: 0.775203\tvalid_1's binary_logloss: 0.240733\n",
      "[400]\ttraining's auc: 0.850806\ttraining's binary_logloss: 0.214317\tvalid_1's auc: 0.776768\tvalid_1's binary_logloss: 0.240207\n",
      "[500]\ttraining's auc: 0.864724\ttraining's binary_logloss: 0.208971\tvalid_1's auc: 0.777565\tvalid_1's binary_logloss: 0.239914\n",
      "[600]\ttraining's auc: 0.877152\ttraining's binary_logloss: 0.203979\tvalid_1's auc: 0.778146\tvalid_1's binary_logloss: 0.239731\n",
      "[700]\ttraining's auc: 0.88758\ttraining's binary_logloss: 0.199466\tvalid_1's auc: 0.778331\tvalid_1's binary_logloss: 0.239639\n",
      "[800]\ttraining's auc: 0.897648\ttraining's binary_logloss: 0.195023\tvalid_1's auc: 0.778494\tvalid_1's binary_logloss: 0.239562\n",
      "Early stopping, best iteration is:\n",
      "[758]\ttraining's auc: 0.893668\ttraining's binary_logloss: 0.196829\tvalid_1's auc: 0.778607\tvalid_1's binary_logloss: 0.239535\n",
      "Fold: 2 AUC: 0.7786066503232446\n",
      "Training until validation scores don't improve for 100 rounds\n",
      "[100]\ttraining's auc: 0.787482\ttraining's binary_logloss: 0.238561\tvalid_1's auc: 0.763118\tvalid_1's binary_logloss: 0.245736\n",
      "[200]\ttraining's auc: 0.814244\ttraining's binary_logloss: 0.228106\tvalid_1's auc: 0.774602\tvalid_1's binary_logloss: 0.241507\n",
      "[300]\ttraining's auc: 0.833915\ttraining's binary_logloss: 0.220686\tvalid_1's auc: 0.779334\tvalid_1's binary_logloss: 0.239911\n",
      "[400]\ttraining's auc: 0.850538\ttraining's binary_logloss: 0.2146\tvalid_1's auc: 0.78104\tvalid_1's binary_logloss: 0.239365\n",
      "[500]\ttraining's auc: 0.864694\ttraining's binary_logloss: 0.209257\tvalid_1's auc: 0.781576\tvalid_1's binary_logloss: 0.239227\n",
      "[600]\ttraining's auc: 0.877105\ttraining's binary_logloss: 0.204288\tvalid_1's auc: 0.781872\tvalid_1's binary_logloss: 0.239153\n",
      "[700]\ttraining's auc: 0.887109\ttraining's binary_logloss: 0.199783\tvalid_1's auc: 0.782084\tvalid_1's binary_logloss: 0.239109\n",
      "Early stopping, best iteration is:\n",
      "[684]\ttraining's auc: 0.885553\ttraining's binary_logloss: 0.200503\tvalid_1's auc: 0.78211\tvalid_1's binary_logloss: 0.239091\n",
      "Fold: 3 AUC: 0.7821099365289585\n",
      "Training until validation scores don't improve for 100 rounds\n",
      "[100]\ttraining's auc: 0.786485\ttraining's binary_logloss: 0.238921\tvalid_1's auc: 0.764297\tvalid_1's binary_logloss: 0.244849\n",
      "[200]\ttraining's auc: 0.814216\ttraining's binary_logloss: 0.22838\tvalid_1's auc: 0.776718\tvalid_1's binary_logloss: 0.240219\n",
      "[300]\ttraining's auc: 0.833875\ttraining's binary_logloss: 0.220928\tvalid_1's auc: 0.781247\tvalid_1's binary_logloss: 0.238543\n",
      "[400]\ttraining's auc: 0.850367\ttraining's binary_logloss: 0.214833\tvalid_1's auc: 0.782919\tvalid_1's binary_logloss: 0.237966\n",
      "[500]\ttraining's auc: 0.864832\ttraining's binary_logloss: 0.209316\tvalid_1's auc: 0.783829\tvalid_1's binary_logloss: 0.23767\n",
      "[600]\ttraining's auc: 0.877026\ttraining's binary_logloss: 0.204368\tvalid_1's auc: 0.784062\tvalid_1's binary_logloss: 0.237587\n",
      "[700]\ttraining's auc: 0.887851\ttraining's binary_logloss: 0.1997\tvalid_1's auc: 0.784384\tvalid_1's binary_logloss: 0.237481\n",
      "[800]\ttraining's auc: 0.897323\ttraining's binary_logloss: 0.195326\tvalid_1's auc: 0.784436\tvalid_1's binary_logloss: 0.237453\n",
      "Early stopping, best iteration is:\n",
      "[715]\ttraining's auc: 0.889479\ttraining's binary_logloss: 0.198992\tvalid_1's auc: 0.784498\tvalid_1's binary_logloss: 0.23746\n",
      "Fold: 4 AUC: 0.7844979452174847\n",
      "Training until validation scores don't improve for 100 rounds\n",
      "[100]\ttraining's auc: 0.787891\ttraining's binary_logloss: 0.238246\tvalid_1's auc: 0.757214\tvalid_1's binary_logloss: 0.247201\n",
      "[200]\ttraining's auc: 0.815091\ttraining's binary_logloss: 0.227732\tvalid_1's auc: 0.770212\tvalid_1's binary_logloss: 0.242876\n",
      "[300]\ttraining's auc: 0.834719\ttraining's binary_logloss: 0.220317\tvalid_1's auc: 0.775008\tvalid_1's binary_logloss: 0.241358\n",
      "[400]\ttraining's auc: 0.851731\ttraining's binary_logloss: 0.214142\tvalid_1's auc: 0.776785\tvalid_1's binary_logloss: 0.24086\n",
      "[500]\ttraining's auc: 0.865698\ttraining's binary_logloss: 0.208766\tvalid_1's auc: 0.777374\tvalid_1's binary_logloss: 0.240729\n",
      "[600]\ttraining's auc: 0.877216\ttraining's binary_logloss: 0.203885\tvalid_1's auc: 0.778074\tvalid_1's binary_logloss: 0.240518\n",
      "[700]\ttraining's auc: 0.887226\ttraining's binary_logloss: 0.199363\tvalid_1's auc: 0.778117\tvalid_1's binary_logloss: 0.24048\n",
      "Early stopping, best iteration is:\n",
      "[617]\ttraining's auc: 0.87905\ttraining's binary_logloss: 0.203057\tvalid_1's auc: 0.778159\tvalid_1's binary_logloss: 0.240484\n",
      "Fold: 5 AUC: 0.7781585432255305\n",
      "Full AUC score: 0.7825960099225935\n"
     ]
    }
   ],
   "source": [
    "for fold, (train_set, val_set) in enumerate(kf.split(sample,label)):\n",
    "    train_x, train_y = sample.iloc[train_set], label.iloc[train_set]\n",
    "    val_x, val_y = sample.iloc[val_set], label.iloc[val_set]\n",
    "    \n",
    "    clf = LGBMClassifier(\n",
    "        n_estimators=1500,\n",
    "        learning_rate=0.03,\n",
    "        num_leaves=35,\n",
    "        subsample=0.6,\n",
    "        max_depth=10,\n",
    "        reg_alpha=0.04,\n",
    "        min_split_gain = 0.02,\n",
    "        )\n",
    "\n",
    "    clf.fit(train_x, train_y, eval_set=[(train_x, train_y), (val_x, val_y)], \n",
    "        eval_metric= 'auc', verbose= 100, early_stopping_rounds= 100)\n",
    "\n",
    "    result[val_set] = clf.predict_proba(val_x, num_iteration=clf.best_iteration_)[:, 1]\n",
    "    test_result += clf.predict_proba(test_sample, num_iteration=clf.best_iteration_)[:, 1] / fold_num\n",
    "    \n",
    "    print('Fold: {} AUC: {}'.format(fold + 1, roc_auc_score(val_y, result[val_set])))\n",
    "    \n",
    "\n",
    "print('Full AUC score: {}'.format( roc_auc_score(label, result)))"
   ]
  },
  {
   "cell_type": "code",
   "execution_count": 45,
   "id": "85f7cf30-1431-42a1-ad31-ffbd84ad512e",
   "metadata": {},
   "outputs": [
    {
     "name": "stderr",
     "output_type": "stream",
     "text": [
      "H:\\ProgramData\\Anaconda3\\envs\\test1\\lib\\site-packages\\ipykernel_launcher.py:2: SettingWithCopyWarning: \n",
      "A value is trying to be set on a copy of a slice from a DataFrame.\n",
      "Try using .loc[row_indexer,col_indexer] = value instead\n",
      "\n",
      "See the caveats in the documentation: https://pandas.pydata.org/pandas-docs/stable/user_guide/indexing.html#returning-a-view-versus-a-copy\n",
      "  \n"
     ]
    }
   ],
   "source": [
    "submit_result =  final_test_data[['SK_ID_CURR', 'TARGET']]\n",
    "submit_result['TARGET'] = test_result\n",
    "submit_result.to_csv('submit_result.csv', index= False)"
   ]
  },
  {
   "cell_type": "markdown",
   "id": "425c5643-3584-4d83-8103-b62e2b98408c",
   "metadata": {},
   "source": [
    "## other model"
   ]
  },
  {
   "cell_type": "code",
   "execution_count": 57,
   "id": "4acfcdd5-7d12-42f6-b031-8d2ffdc9886d",
   "metadata": {},
   "outputs": [
    {
     "data": {
      "text/plain": [
       "CategoricalDtype(categories=[1, 2, 3, 4], ordered=True)"
      ]
     },
     "execution_count": 57,
     "metadata": {},
     "output_type": "execute_result"
    }
   ],
   "source": [
    "data['AGE_GROUP'].dtypes"
   ]
  },
  {
   "cell_type": "code",
   "execution_count": 54,
   "id": "6d64210a-73cb-45bd-854c-371b1e976a24",
   "metadata": {},
   "outputs": [],
   "source": [
    "result = np.zeros(final_train_data.shape[0])\n",
    "test_result = np.zeros(final_test_data.shape[0])"
   ]
  },
  {
   "cell_type": "code",
   "execution_count": 58,
   "id": "c830b32f-c5e2-4275-ac5e-1c039eda15fe",
   "metadata": {},
   "outputs": [
    {
     "name": "stderr",
     "output_type": "stream",
     "text": [
      "H:\\ProgramData\\Anaconda3\\envs\\test1\\lib\\site-packages\\xgboost\\sklearn.py:1224: UserWarning: The use of label encoder in XGBClassifier is deprecated and will be removed in a future release. To remove this warning, do the following: 1) Pass option use_label_encoder=False when constructing XGBClassifier object; and 2) Encode your labels (y) as integers starting with 0, i.e. 0, 1, 2, ..., [num_class - 1].\n",
      "  warnings.warn(label_encoder_deprecation_msg, UserWarning)\n"
     ]
    },
    {
     "name": "stdout",
     "output_type": "stream",
     "text": [
      "[0]\tvalidation_0-auc:0.73018\tvalidation_1-auc:0.72972\n",
      "[100]\tvalidation_0-auc:0.89845\tvalidation_1-auc:0.77721\n",
      "[143]\tvalidation_0-auc:0.92500\tvalidation_1-auc:0.77289\n",
      "Fold: 1 AUC: 0.7796735255638543\n"
     ]
    },
    {
     "name": "stderr",
     "output_type": "stream",
     "text": [
      "H:\\ProgramData\\Anaconda3\\envs\\test1\\lib\\site-packages\\xgboost\\sklearn.py:1224: UserWarning: The use of label encoder in XGBClassifier is deprecated and will be removed in a future release. To remove this warning, do the following: 1) Pass option use_label_encoder=False when constructing XGBClassifier object; and 2) Encode your labels (y) as integers starting with 0, i.e. 0, 1, 2, ..., [num_class - 1].\n",
      "  warnings.warn(label_encoder_deprecation_msg, UserWarning)\n"
     ]
    },
    {
     "name": "stdout",
     "output_type": "stream",
     "text": [
      "[0]\tvalidation_0-auc:0.73163\tvalidation_1-auc:0.72139\n",
      "[100]\tvalidation_0-auc:0.89778\tvalidation_1-auc:0.76619\n",
      "[153]\tvalidation_0-auc:0.92693\tvalidation_1-auc:0.76273\n",
      "Fold: 2 AUC: 0.7706395393005296\n"
     ]
    },
    {
     "name": "stderr",
     "output_type": "stream",
     "text": [
      "H:\\ProgramData\\Anaconda3\\envs\\test1\\lib\\site-packages\\xgboost\\sklearn.py:1224: UserWarning: The use of label encoder in XGBClassifier is deprecated and will be removed in a future release. To remove this warning, do the following: 1) Pass option use_label_encoder=False when constructing XGBClassifier object; and 2) Encode your labels (y) as integers starting with 0, i.e. 0, 1, 2, ..., [num_class - 1].\n",
      "  warnings.warn(label_encoder_deprecation_msg, UserWarning)\n"
     ]
    },
    {
     "name": "stdout",
     "output_type": "stream",
     "text": [
      "[0]\tvalidation_0-auc:0.73171\tvalidation_1-auc:0.72209\n",
      "[100]\tvalidation_0-auc:0.89839\tvalidation_1-auc:0.77024\n",
      "[156]\tvalidation_0-auc:0.92993\tvalidation_1-auc:0.76642\n",
      "Fold: 3 AUC: 0.7723904924680774\n"
     ]
    },
    {
     "name": "stderr",
     "output_type": "stream",
     "text": [
      "H:\\ProgramData\\Anaconda3\\envs\\test1\\lib\\site-packages\\xgboost\\sklearn.py:1224: UserWarning: The use of label encoder in XGBClassifier is deprecated and will be removed in a future release. To remove this warning, do the following: 1) Pass option use_label_encoder=False when constructing XGBClassifier object; and 2) Encode your labels (y) as integers starting with 0, i.e. 0, 1, 2, ..., [num_class - 1].\n",
      "  warnings.warn(label_encoder_deprecation_msg, UserWarning)\n"
     ]
    },
    {
     "name": "stdout",
     "output_type": "stream",
     "text": [
      "[0]\tvalidation_0-auc:0.73119\tvalidation_1-auc:0.72739\n",
      "[100]\tvalidation_0-auc:0.90314\tvalidation_1-auc:0.77331\n",
      "[169]\tvalidation_0-auc:0.93719\tvalidation_1-auc:0.76662\n",
      "Fold: 4 AUC: 0.7741980263428833\n"
     ]
    },
    {
     "name": "stderr",
     "output_type": "stream",
     "text": [
      "H:\\ProgramData\\Anaconda3\\envs\\test1\\lib\\site-packages\\xgboost\\sklearn.py:1224: UserWarning: The use of label encoder in XGBClassifier is deprecated and will be removed in a future release. To remove this warning, do the following: 1) Pass option use_label_encoder=False when constructing XGBClassifier object; and 2) Encode your labels (y) as integers starting with 0, i.e. 0, 1, 2, ..., [num_class - 1].\n",
      "  warnings.warn(label_encoder_deprecation_msg, UserWarning)\n"
     ]
    },
    {
     "name": "stdout",
     "output_type": "stream",
     "text": [
      "[0]\tvalidation_0-auc:0.73477\tvalidation_1-auc:0.71710\n",
      "[100]\tvalidation_0-auc:0.89775\tvalidation_1-auc:0.76602\n",
      "[159]\tvalidation_0-auc:0.93205\tvalidation_1-auc:0.76275\n",
      "Fold: 5 AUC: 0.7678535691541655\n",
      "Full AUC score: 0.7728949886026604\n"
     ]
    }
   ],
   "source": [
    "for fold, (train_set, val_set) in enumerate(kf.split(sample,label)):\n",
    "    train_x, train_y = sample.iloc[train_set], label.iloc[train_set]\n",
    "    val_x, val_y = sample.iloc[val_set], label.iloc[val_set]\n",
    "   \n",
    "    xgboostModel = XGBClassifier(n_estimators=250, learning_rate= 0.3, tree_method='gpu_hist', enable_categorical=True)\n",
    "    xgboostModel.fit(train_x, train_y, eval_set=[(train_x, train_y), (val_x, val_y)], \n",
    "        eval_metric= 'auc', verbose= 100, early_stopping_rounds= 100)\n",
    "    \n",
    "\n",
    "    result[val_set] = xgboostModel.predict_proba(val_x)[:, 1]\n",
    "    test_result += xgboostModel.predict_proba(test_sample)[:, 1] / fold_num\n",
    "\n",
    "    print('Fold: {} AUC: {}'.format(fold + 1, roc_auc_score(val_y, result[val_set])))\n",
    "    \n",
    "\n",
    "print('Full AUC score: {}'.format( roc_auc_score(label, result)))"
   ]
  },
  {
   "cell_type": "code",
   "execution_count": null,
   "id": "7ac09f51-5575-4651-a302-bd20bf47659f",
   "metadata": {},
   "outputs": [],
   "source": []
  },
  {
   "cell_type": "code",
   "execution_count": 46,
   "id": "20143b46-a3b5-4b94-b37f-8c79b3517949",
   "metadata": {},
   "outputs": [
    {
     "name": "stdout",
     "output_type": "stream",
     "text": [
      "bureau_agg_result\n",
      "TARGET                                                            1.000000\n",
      "BUREAU_DAYS_CREDIT_MEAN                                           0.089731\n",
      "BUREAU_CREDIT_ACTIVE_Active_MEAN                                  0.077356\n",
      "BUREAU_DAYS_CREDIT_MIN                                            0.075248\n",
      "BUREAU_MONTHS_BALANCE_MIN_MIN                                     0.073225\n",
      "BUREAU_DAYS_CREDIT_UPDATE_MEAN                                    0.068929\n",
      "ACTIVE_DAYS_CREDIT_MEAN                                           0.064041\n",
      "CLOSED_MONTHS_BALANCE_MIN_MIN                                     0.061319\n",
      "CLOSED_DAYS_CREDIT_MIN                                            0.061194\n",
      "BUREAU_STATUS_1_MEAN_MEAN                                         0.061183\n",
      "ACTIVE_DAYS_CREDIT_MAX                                            0.060414\n",
      "CLOSED_DAYS_CREDIT_MEAN                                           0.058491\n",
      "BUREAU_DAYS_CREDIT_MAX                                            0.049785\n",
      "BUREAU_DAYS_CREDIT_ENDDATE_MEAN                                   0.046982\n",
      "BUREAU_CREDIT_TYPE_Microloan_MEAN                                 0.044439\n",
      "ACTIVE_DAYS_CREDIT_ENDDATE_MAX                                    0.044414\n",
      "BUREAU_STATUS_0_MEAN_MEAN                                         0.044198\n",
      "ACTIVE_DAYS_CREDIT_MIN                                            0.043232\n",
      "CLOSED_DAYS_CREDIT_UPDATE_MEAN                                    0.039511\n",
      "ACTIVE_MONTHS_BALANCE_MIN_MIN                                     0.038492\n",
      "BUREAU_DAYS_CREDIT_ENDDATE_MAX                                    0.036588\n",
      "BUREAU_CREDIT_TYPE_Credit card_MEAN                               0.034686\n",
      "BUREAU_DAYS_CREDIT_ENDDATE_MIN                                    0.034281\n",
      "ACTIVE_DAYS_CREDIT_ENDDATE_MEAN                                   0.029431\n",
      "CLOSED_DAYS_CREDIT_MAX                                            0.027435\n",
      "ACTIVE_DAYS_CREDIT_UPDATE_MEAN                                    0.027357\n",
      "CLOSED_DAYS_CREDIT_ENDDATE_MIN                                    0.025242\n",
      "ACTIVE_AMT_CREDIT_MAX_OVERDUE_MEAN                                0.019525\n",
      "BUREAU_STATUS_5_MEAN_MEAN                                         0.018951\n",
      "BUREAU_STATUS_2_MEAN_MEAN                                         0.018552\n",
      "BUREAU_STATUS_3_MEAN_MEAN                                         0.017464\n",
      "BUREAU_CREDIT_ACTIVE_Sold_MEAN                                    0.016534\n",
      "BUREAU_STATUS_4_MEAN_MEAN                                         0.016216\n",
      "ACTIVE_MONTHS_BALANCE_MAX_MAX                                     0.012810\n",
      "ACTIVE_DAYS_CREDIT_ENDDATE_MIN                                    0.010323\n",
      "ACTIVE_AMT_ANNUITY_MAX                                            0.008893\n",
      "CLOSED_DAYS_CREDIT_ENDDATE_MEAN                                   0.008838\n",
      "ACTIVE_AMT_ANNUITY_MEAN                                           0.008562\n",
      "BUREAU_CREDIT_DAY_OVERDUE_MEAN                                    0.008118\n",
      "ACTIVE_CNT_CREDIT_PROLONG_SUM                                     0.007362\n",
      "BUREAU_AMT_CREDIT_SUM_OVERDUE_MEAN                                0.007150\n",
      "BUREAU_AMT_CREDIT_SUM_DEBT_SUM                                    0.007145\n",
      "BUREAU_CREDIT_CURRENCY_currency 1_MEAN                            0.006037\n",
      "ACTIVE_AMT_CREDIT_SUM_OVERDUE_MEAN                                0.005879\n",
      "BUREAU_CREDIT_DAY_OVERDUE_MAX                                     0.005493\n",
      "BUREAU_MONTHS_BALANCE_MAX_MAX                                     0.005119\n",
      "BUREAU_CREDIT_ACTIVE_Bad debt_MEAN                                0.004638\n",
      "BUREAU_CNT_CREDIT_PROLONG_SUM                                     0.004058\n",
      "ACTIVE_CREDIT_DAY_OVERDUE_MAX                                     0.003858\n",
      "CLOSED_AMT_CREDIT_SUM_LIMIT_MEAN                                  0.002809\n",
      "BUREAU_CREDIT_CURRENCY_currency 3_MEAN                            0.002782\n",
      "ACTIVE_CREDIT_DAY_OVERDUE_MEAN                                    0.002768\n",
      "BUREAU_AMT_CREDIT_MAX_OVERDUE_MEAN                                0.002435\n",
      "CLOSED_AMT_CREDIT_SUM_LIMIT_SUM                                   0.001733\n",
      "CLOSED_CREDIT_DAY_OVERDUE_MAX                                     0.001673\n",
      "BUREAU_CREDIT_TYPE_Loan for working capital replenishment_MEAN    0.001605\n",
      "CLOSED_CREDIT_DAY_OVERDUE_MEAN                                    0.001256\n",
      "CLOSED_AMT_CREDIT_SUM_DEBT_MEAN                                   0.001164\n",
      "BUREAU_AMT_ANNUITY_MAX                                            0.001120\n",
      "CLOSED_AMT_CREDIT_SUM_DEBT_MAX                                    0.001090\n",
      "Name: TARGET, dtype: float64\n",
      "previous_agg_result\n",
      "TARGET                                                               1.000000\n",
      "PREVIOUS_NAME_CONTRACT_STATUS_Refused_MEAN                           0.077681\n",
      "REFUSED_DAYS_DECISION_MAX                                            0.064230\n",
      "REFUSED_DAYS_DECISION_MEAN                                           0.060621\n",
      "PREVIOUS_NAME_PRODUCT_TYPE_walk-in_MEAN                              0.057412\n",
      "PREVIOUS_CODE_REJECT_REASON_SCOFR_MEAN                               0.055867\n",
      "PREVIOUS_CODE_REJECT_REASON_HC_MEAN                                  0.054542\n",
      "APPROVED_DAYS_DECISION_MIN                                           0.053512\n",
      "PREVIOUS_DAYS_DECISION_MIN                                           0.053431\n",
      "REFUSED_DAYS_DECISION_MIN                                            0.049591\n",
      "PREVIOUS_DAYS_DECISION_MEAN                                          0.046865\n",
      "PREVIOUS_NAME_YIELD_GROUP_XNA_MEAN                                   0.042851\n",
      "PREVIOUS_PRODUCT_COMBINATION_Card Street_MEAN                        0.040242\n",
      "PREVIOUS_CODE_REJECT_REASON_LIMIT_MEAN                               0.039842\n",
      "APPROVED_DAYS_DECISION_MEAN                                          0.038888\n",
      "PREVIOUS_NAME_CONTRACT_TYPE_Revolving loans_MEAN                     0.038728\n",
      "PREVIOUS_NAME_YIELD_GROUP_high_MEAN                                  0.037568\n",
      "REFUSED_CNT_PAYMENT_SUM                                              0.036360\n",
      "PREVIOUS_NAME_PAYMENT_TYPE_XNA_MEAN                                  0.034947\n",
      "PREVIOUS_CHANNEL_TYPE_AP+ (Cash loan)_MEAN                           0.034842\n",
      "PREVIOUS_NAME_TYPE_SUITE_nan_MEAN                                    0.032972\n",
      "PREVIOUS_NAME_GOODS_CATEGORY_XNA_MEAN                                0.032134\n",
      "PREVIOUS_NAME_PORTFOLIO_Cards_MEAN                                   0.031732\n",
      "PREVIOUS_PRODUCT_COMBINATION_Cash X-Sell: high_MEAN                  0.030155\n",
      "PREVIOUS_PRODUCT_COMBINATION_Cash Street: high_MEAN                  0.030138\n",
      "PREVIOUS_NAME_PORTFOLIO_XNA_MEAN                                     0.029432\n",
      "REFUSED_CNT_PAYMENT_MEAN                                             0.028611\n",
      "PREVIOUS_NAME_SELLER_INDUSTRY_Connectivity_MEAN                      0.028463\n",
      "PREVIOUS_CNT_PAYMENT_MEAN                                            0.027744\n",
      "PREVIOUS_CNT_PAYMENT_SUM                                             0.027722\n",
      "PREVIOUS_NAME_SELLER_INDUSTRY_XNA_MEAN                               0.024810\n",
      "PREVIOUS_NAME_CASH_LOAN_PURPOSE_Repairs_MEAN                         0.022966\n",
      "PREVIOUS_PRODUCT_COMBINATION_POS mobile with interest_MEAN           0.021578\n",
      "PREVIOUS_NAME_CLIENT_TYPE_New_MEAN                                   0.021297\n",
      "PREVIOUS_NAME_CASH_LOAN_PURPOSE_Other_MEAN                           0.019144\n",
      "PREVIOUS_NAME_CASH_LOAN_PURPOSE_Urgent needs_MEAN                    0.019126\n",
      "PREVIOUS_PRODUCT_COMBINATION_Cash_MEAN                               0.018579\n",
      "PREVIOUS_PRODUCT_COMBINATION_Cash Street: middle_MEAN                0.018416\n",
      "PREVIOUS_NAME_GOODS_CATEGORY_Mobile_MEAN                             0.018338\n",
      "PREVIOUS_DAYS_DECISION_MAX                                           0.016401\n",
      "PREVIOUS_NAME_CONTRACT_TYPE_Cash loans_MEAN                          0.015007\n",
      "APPROVED_CNT_PAYMENT_MEAN                                            0.012394\n",
      "PREVIOUS_NAME_CASH_LOAN_PURPOSE_Payments on other loans_MEAN         0.012261\n",
      "PREVIOUS_NAME_CONTRACT_STATUS_Canceled_MEAN                          0.012200\n",
      "PREVIOUS_CODE_REJECT_REASON_SCO_MEAN                                 0.012185\n",
      "PREVIOUS_CHANNEL_TYPE_Contact center_MEAN                            0.012147\n",
      "PREVIOUS_NAME_CASH_LOAN_PURPOSE_Car repairs_MEAN                     0.011602\n",
      "PREVIOUS_NAME_CASH_LOAN_PURPOSE_Building a house or an annex_MEAN    0.010628\n",
      "PREVIOUS_CHANNEL_TYPE_Credit and cash offices_MEAN                   0.010359\n",
      "PREVIOUS_PRODUCT_COMBINATION_Card X-Sell_MEAN                        0.010030\n",
      "PREVIOUS_NAME_CASH_LOAN_PURPOSE_Medicine_MEAN                        0.009215\n",
      "PREVIOUS_PRODUCT_COMBINATION_nan_MEAN                                0.008607\n",
      "PREVIOUS_NAME_CONTRACT_TYPE_XNA_MEAN                                 0.008607\n",
      "PREVIOUS_FLAG_LAST_APPL_PER_CONTRACT_N_MEAN                          0.008527\n",
      "PREVIOUS_NAME_CASH_LOAN_PURPOSE_Gasification / water supply_MEAN     0.008170\n",
      "PREVIOUS_NAME_CASH_LOAN_PURPOSE_Buying a used car_MEAN               0.007555\n",
      "PREVIOUS_NAME_PORTFOLIO_Cash_MEAN                                    0.006104\n",
      "PREVIOUS_WEEKDAY_APPR_PROCESS_START_MONDAY_MEAN                      0.005777\n",
      "PREVIOUS_NAME_SELLER_INDUSTRY_Auto technology_MEAN                   0.005629\n",
      "PREVIOUS_NAME_TYPE_SUITE_Other_A_MEAN                                0.005298\n",
      "Name: TARGET, dtype: float64\n",
      "install_pay_agg_result\n",
      "TARGET                                    1.000000\n",
      "INSTALL_PAY_DAY_DIFF_MEAN                 0.051708\n",
      "INSTALL_AMT_DIFF_MEAN                     0.029340\n",
      "INSTALL_AMT_DIFF_SUM                      0.027328\n",
      "INSTALL_AMT_INSTALMENT_MAX                0.002323\n",
      "INSTALL_PAY_DAY_DIFF_SUM                  0.000549\n",
      "SK_ID_CURR                               -0.002111\n",
      "INSTALL_NUM_INSTALMENT_VERSION_NUNIQUE   -0.010274\n",
      "INSTALL_AMT_INSTALMENT_MIN               -0.020257\n",
      "INSTALL_AMT_PAYMENT_MEAN                 -0.023170\n",
      "Name: TARGET, dtype: float64\n",
      "credit_card_agg_result\n",
      "TARGET                                            1.000000\n",
      "CREDIT_CNT_DRAWINGS_ATM_CURRENT_MEAN              0.107692\n",
      "CREDIT_CNT_DRAWINGS_CURRENT_MAX                   0.101389\n",
      "CREDIT_AMT_BALANCE_MEAN                           0.087177\n",
      "CREDIT_AMT_TOTAL_RECEIVABLE_MEAN                  0.086490\n",
      "CREDIT_AMT_RECIVABLE_MEAN                         0.086478\n",
      "CREDIT_AMT_RECEIVABLE_PRINCIPAL_MEAN              0.086062\n",
      "CREDIT_CNT_DRAWINGS_CURRENT_MEAN                  0.082520\n",
      "CREDIT_AMT_INST_MIN_REGULARITY_MEAN               0.073724\n",
      "CREDIT_AMT_BALANCE_MAX                            0.068798\n",
      "CREDIT_AMT_BALANCE_MIN                            0.064163\n",
      "CREDIT_CNT_DRAWINGS_ATM_CURRENT_MAX               0.063729\n",
      "CREDIT_MONTHS_BALANCE_MEAN                        0.062081\n",
      "CREDIT_MONTHS_BALANCE_MIN                         0.061359\n",
      "CREDIT_AMT_DRAWINGS_ATM_CURRENT_MEAN              0.059925\n",
      "CREDIT_AMT_DRAWINGS_CURRENT_MEAN                  0.058732\n",
      "CREDIT_AMT_DRAWINGS_CURRENT_MAX                   0.052318\n",
      "CREDIT_MONTHS_BALANCE_MAX                         0.025251\n",
      "CREDIT_CNT_DRAWINGS_CURRENT_MIN                   0.024957\n",
      "CREDIT_AMT_DRAWINGS_ATM_CURRENT_MAX               0.024087\n",
      "CREDIT_CNT_DRAWINGS_ATM_CURRENT_MIN               0.022825\n",
      "CREDIT_AMT_PAYMENT_TOTAL_CURRENT_MEAN             0.022665\n",
      "CREDIT_NAME_CONTRACT_STATUS_Active_MEAN           0.019900\n",
      "CREDIT_CNT_DRAWINGS_OTHER_CURRENT_MEAN            0.014756\n",
      "CREDIT_AMT_DRAWINGS_ATM_CURRENT_MIN               0.012955\n",
      "CREDIT_AMT_DRAWINGS_CURRENT_MIN                   0.010938\n",
      "CREDIT_AMT_DRAWINGS_OTHER_CURRENT_MEAN            0.009798\n",
      "CREDIT_AMT_PAYMENT_CURRENT_MEAN                   0.005274\n",
      "CREDIT_NAME_CONTRACT_STATUS_Demand_MEAN           0.004008\n",
      "CREDIT_AMT_DRAWINGS_OTHER_CURRENT_MAX             0.004003\n",
      "CREDIT_AMT_INST_MIN_REGULARITY_MIN                0.003177\n",
      "CREDIT_NAME_CONTRACT_STATUS_Refused_MEAN          0.001987\n",
      "CREDIT_NAME_CONTRACT_STATUS_Signed_MEAN           0.000570\n",
      "CREDIT_CNT_DRAWINGS_OTHER_CURRENT_MAX             0.000008\n",
      "CREDIT_AMT_CREDIT_LIMIT_ACTUAL_MIN               -0.001352\n",
      "SK_ID_CURR                                       -0.002111\n",
      "CREDIT_NAME_CONTRACT_STATUS_Approved_MEAN        -0.002335\n",
      "CREDIT_AMT_DRAWINGS_OTHER_CURRENT_MIN            -0.002700\n",
      "CREDIT_CNT_DRAWINGS_OTHER_CURRENT_MIN            -0.002867\n",
      "CREDIT_AMT_PAYMENT_TOTAL_CURRENT_SUM             -0.004898\n",
      "CREDIT_AMT_CREDIT_LIMIT_ACTUAL_MEAN              -0.008852\n",
      "CREDIT_AMT_CREDIT_LIMIT_ACTUAL_MAX               -0.011679\n",
      "CREDIT_NAME_CONTRACT_STATUS_Sent proposal_MEAN   -0.012527\n",
      "CREDIT_NAME_CONTRACT_STATUS_Completed_MEAN       -0.021314\n",
      "CREDIT_NAME_CONTRACT_STATUS_nan_MEAN                   NaN\n",
      "Name: TARGET, dtype: float64\n",
      "pos_agg_result\n",
      "TARGET                                                 1.000000\n",
      "POS_MONTHS_BALANCE_MIN                                 0.055305\n",
      "POS_MONTHS_BALANCE_MEAN                                0.034543\n",
      "POS_CNT_INSTALMENT_FUTURE_MEAN                         0.027831\n",
      "POS_CNT_INSTALMENT_MEAN                                0.018069\n",
      "POS_NAME_CONTRACT_STATUS_Returned to the store_MEAN    0.012036\n",
      "POS_NAME_CONTRACT_STATUS_Signed_MEAN                   0.010492\n",
      "POS_NAME_CONTRACT_STATUS_Demand_MEAN                   0.007201\n",
      "POS_NAME_CONTRACT_STATUS_Amortized debt_MEAN           0.006389\n",
      "POS_NAME_CONTRACT_STATUS_Approved_MEAN                 0.000698\n",
      "POS_NAME_CONTRACT_STATUS_Completed_MEAN                0.000433\n",
      "POS_NAME_CONTRACT_STATUS_Canceled_MEAN                -0.000248\n",
      "POS_NAME_CONTRACT_STATUS_XNA_MEAN                     -0.000784\n",
      "SK_ID_CURR                                            -0.002111\n",
      "POS_MONTHS_BALANCE_MAX                                -0.004319\n",
      "POS_CNT_INSTALMENT_FUTURE_SUM                         -0.005878\n",
      "POS_NAME_CONTRACT_STATUS_Active_MEAN                  -0.008030\n",
      "POS_CNT_INSTALMENT_SUM                                -0.014667\n",
      "POS_NAME_CONTRACT_STATUS_nan_MEAN                           NaN\n",
      "Name: TARGET, dtype: float64\n"
     ]
    }
   ],
   "source": [
    "print('bureau_agg_result')\n",
    "test_corr(label_curr,bureau_agg_result)\n",
    "print('previous_agg_result')\n",
    "test_corr(label_curr,previous_agg_result)\n",
    "print('install_pay_agg_result')\n",
    "test_corr(label_curr,install_pay_agg_result)\n",
    "print('credit_card_agg_result')\n",
    "test_corr(label_curr,credit_card_agg_result)\n",
    "print('pos_agg_result')\n",
    "test_corr(label_curr,pos_agg_result)"
   ]
  },
  {
   "cell_type": "code",
   "execution_count": null,
   "id": "e42505a7-7c84-46a3-8db1-c4f4d4f7a405",
   "metadata": {},
   "outputs": [],
   "source": []
  },
  {
   "cell_type": "code",
   "execution_count": null,
   "id": "30de792e-0f39-4005-bd15-f136fda0843a",
   "metadata": {},
   "outputs": [],
   "source": []
  }
 ],
 "metadata": {
  "kernelspec": {
   "display_name": "test1",
   "language": "python",
   "name": "test1"
  },
  "language_info": {
   "codemirror_mode": {
    "name": "ipython",
    "version": 3
   },
   "file_extension": ".py",
   "mimetype": "text/x-python",
   "name": "python",
   "nbconvert_exporter": "python",
   "pygments_lexer": "ipython3",
   "version": "3.6.13"
  }
 },
 "nbformat": 4,
 "nbformat_minor": 5
}
