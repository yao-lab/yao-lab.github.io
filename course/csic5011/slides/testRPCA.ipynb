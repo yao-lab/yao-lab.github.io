{
  "nbformat": 4,
  "nbformat_minor": 0,
  "metadata": {
    "colab": {
      "provenance": []
    },
    "kernelspec": {
      "name": "python3",
      "display_name": "Python 3"
    },
    "language_info": {
      "name": "python"
    }
  },
  "cells": [
    {
      "cell_type": "markdown",
      "source": [
        "# Demonstration of Robust PCA using cvxpy"
      ],
      "metadata": {
        "id": "DraQGuP2viME"
      }
    },
    {
      "cell_type": "code",
      "execution_count": 1,
      "metadata": {
        "id": "__GoPrULvNe2"
      },
      "outputs": [],
      "source": [
        "import cvxpy as cp\n",
        "import numpy as np\n"
      ]
    },
    {
      "cell_type": "code",
      "source": [
        "# Construct a random 20-by-20 Gaussian matrix and construct a rank-1 matrix using its top-1 singular vectors\n",
        "R = np.random.randn(20, 20)\n",
        "U, S, Vt = np.linalg.svd(R, full_matrices=False)\n",
        "L0 = np.outer(U[:, 0], Vt[0, :])\n",
        "\n",
        "# Construct a 90% uniformly sparse matrix\n",
        "E0 = np.random.rand(20, 20)\n",
        "S0 = 1 * (E0 > 0.9)\n",
        "X = L0 + S0\n",
        "\n",
        "# Choose the regularization parameter\n",
        "lambda_val = 1/np.sqrt(20) # try different lambda\n"
      ],
      "metadata": {
        "id": "gyyRlIycv0_0"
      },
      "execution_count": 15,
      "outputs": []
    },
    {
      "cell_type": "code",
      "source": [
        "# Define and solve the cvxpy problem\n",
        "L = cp.Variable((20, 20))\n",
        "S = cp.Variable((20, 20))\n",
        "W1 = cp.Variable((20, 20), PSD=True)\n",
        "W2 = cp.Variable((20, 20), PSD=True)\n",
        "Y = cp.Variable((40, 40), symmetric=True)\n",
        "\n",
        "constraints = [\n",
        "    L + S >= X - 1e-5,\n",
        "    L + S <= X + 1e-5,\n",
        "    Y == cp.bmat([[W1, L.T], [L, W2]]),\n",
        "    Y >> 0  # PSD constraint\n",
        "]\n",
        "\n",
        "objective = cp.Minimize(0.5 * cp.trace(W1) + 0.5 * cp.trace(W2) + lambda_val * cp.norm(S, 1))\n",
        "prob = cp.Problem(objective, constraints)\n",
        "prob.solve()"
      ],
      "metadata": {
        "colab": {
          "base_uri": "https://localhost:8080/"
        },
        "id": "yXQz2zxov_n7",
        "outputId": "7d0b4b9c-735a-4051-cdd6-ba31b0a107d3"
      },
      "execution_count": 16,
      "outputs": [
        {
          "output_type": "execute_result",
          "data": {
            "text/plain": [
              "0.9468970391099748"
            ]
          },
          "metadata": {},
          "execution_count": 16
        }
      ]
    },
    {
      "cell_type": "code",
      "source": [
        "# The difference between sparse solution S and true S0\n",
        "print('||S-S0||_infty:')\n",
        "print(np.linalg.norm(S.value - S0, np.inf))\n",
        "# The difference between the low rank solution L and true L0\n",
        "print('||L-L0||:')\n",
        "print(np.linalg.norm(L.value - L0))\n"
      ],
      "metadata": {
        "colab": {
          "base_uri": "https://localhost:8080/"
        },
        "id": "JUrJAb7HwD8E",
        "outputId": "ab13f557-319b-452d-ed75-baae65a3d4b4"
      },
      "execution_count": 17,
      "outputs": [
        {
          "output_type": "stream",
          "name": "stdout",
          "text": [
            "||S-S0||_infty:\n",
            "1.8052520493891562\n",
            "||L-L0||:\n",
            "0.9999750493089251\n"
          ]
        }
      ]
    },
    {
      "cell_type": "code",
      "source": [
        "# Another simple cvxpy implementation directly using matrix nuclear norm\n",
        "X_1 = cp.Variable((20, 20))\n",
        "X_2 = cp.Variable((20, 20))\n",
        "\n",
        "objective_nuc = cp.Minimize(cp.normNuc(X_1) + lambda_val * cp.norm(X_2, 1))\n",
        "constraints_nuc = [\n",
        "    X_1 + X_2 == X\n",
        "]\n",
        "prob_nuc = cp.Problem(objective_nuc, constraints_nuc)\n",
        "prob_nuc.solve(solver=cp.SCS, verbose=True)\n",
        "\n",
        "# The difference between sparse solution X_2 and true S0\n",
        "print('||X_2-S0||_infty:')\n",
        "print(np.linalg.norm(X_2.value - S0, np.inf))\n",
        "# The difference between the low rank solution X_1 and true L0\n",
        "print('||X_1-L0||:')\n",
        "print(np.linalg.norm(X_1.value - L0))"
      ],
      "metadata": {
        "colab": {
          "base_uri": "https://localhost:8080/"
        },
        "id": "2kMnh_pBwK_D",
        "outputId": "c1c03012-8803-44d7-ca8f-45079ec086b1"
      },
      "execution_count": 18,
      "outputs": [
        {
          "output_type": "stream",
          "name": "stdout",
          "text": [
            "===============================================================================\n",
            "                                     CVXPY                                     \n",
            "                                     v1.3.3                                    \n",
            "===============================================================================\n",
            "(CVXPY) Mar 13 12:25:11 PM: Your problem has 800 variables, 1 constraints, and 0 parameters.\n",
            "(CVXPY) Mar 13 12:25:11 PM: It is compliant with the following grammars: DCP, DQCP\n",
            "(CVXPY) Mar 13 12:25:11 PM: (If you need to solve this problem multiple times, but with different data, consider using parameters.)\n",
            "(CVXPY) Mar 13 12:25:11 PM: CVXPY will first compile your problem; then, it will invoke a numerical solver to obtain a solution.\n",
            "-------------------------------------------------------------------------------\n",
            "                                  Compilation                                  \n",
            "-------------------------------------------------------------------------------\n",
            "(CVXPY) Mar 13 12:25:11 PM: Compiling problem (target solver=SCS).\n",
            "(CVXPY) Mar 13 12:25:11 PM: Reduction chain: Dcp2Cone -> CvxAttr2Constr -> ConeMatrixStuffing -> SCS\n",
            "(CVXPY) Mar 13 12:25:11 PM: Applying reduction Dcp2Cone\n",
            "(CVXPY) Mar 13 12:25:11 PM: Applying reduction CvxAttr2Constr\n",
            "(CVXPY) Mar 13 12:25:11 PM: Applying reduction ConeMatrixStuffing\n",
            "(CVXPY) Mar 13 12:25:11 PM: Applying reduction SCS\n",
            "(CVXPY) Mar 13 12:25:11 PM: Finished problem compilation (took 4.758e-02 seconds).\n",
            "-------------------------------------------------------------------------------\n",
            "                                Numerical solver                               \n",
            "-------------------------------------------------------------------------------\n",
            "(CVXPY) Mar 13 12:25:11 PM: Invoking solver SCS  to obtain a solution.\n",
            "------------------------------------------------------------------\n",
            "\t       SCS v3.2.4 - Splitting Conic Solver\n",
            "\t(c) Brendan O'Donoghue, Stanford University, 2012\n",
            "------------------------------------------------------------------\n",
            "problem:  variables n: 1621, constraints m: 2040\n",
            "cones: \t  z: primal zero / dual free vars: 400\n",
            "\t  l: linear vars: 820\n",
            "\t  s: psd vars: 820, ssize: 1\n",
            "settings: eps_abs: 1.0e-05, eps_rel: 1.0e-05, eps_infeas: 1.0e-07\n",
            "\t  alpha: 1.50, scale: 1.00e-01, adaptive_scale: 1\n",
            "\t  max_iters: 100000, normalize: 1, rho_x: 1.00e-06\n",
            "\t  acceleration_lookback: 10, acceleration_interval: 10\n",
            "lin-sys:  sparse-direct-amd-qdldl\n",
            "\t  nnz(A): 3640, nnz(P): 0\n",
            "------------------------------------------------------------------\n",
            " iter | pri res | dua res |   gap   |   obj   |  scale  | time (s)\n",
            "------------------------------------------------------------------\n",
            "     0| 1.41e+01  5.00e-01  2.90e+02 -1.39e+02  1.00e-01  3.82e-02 \n",
            "   250| 1.66e-03  3.35e-05  2.93e-05  9.46e-01  1.00e-01  1.58e-01 \n",
            "   500| 4.35e-04  2.50e-07  2.10e-06  9.46e-01  1.00e-01  2.70e-01 \n",
            "   750| 4.33e-04  2.17e-05  1.88e-05  9.46e-01  2.88e+00  3.80e-01 \n",
            "  1000| 1.47e-04  1.63e-05  4.37e-06  9.47e-01  2.88e+00  4.99e-01 \n",
            "  1250| 1.46e-04  1.19e-05  9.76e-06  9.47e-01  2.88e+00  6.15e-01 \n",
            "  1450| 1.15e-05  8.77e-07  8.48e-07  9.47e-01  2.88e+00  7.16e-01 \n",
            "------------------------------------------------------------------\n",
            "status:  solved\n",
            "timings: total: 7.16e-01s = setup: 9.39e-03s + solve: 7.07e-01s\n",
            "\t lin-sys: 9.92e-02s, cones: 5.35e-01s, accel: 7.91e-03s\n",
            "------------------------------------------------------------------\n",
            "objective = 0.946972\n",
            "------------------------------------------------------------------\n",
            "-------------------------------------------------------------------------------\n",
            "                                    Summary                                    \n",
            "-------------------------------------------------------------------------------\n",
            "(CVXPY) Mar 13 12:25:11 PM: Problem status: optimal\n",
            "(CVXPY) Mar 13 12:25:11 PM: Optimal value: 9.470e-01\n",
            "(CVXPY) Mar 13 12:25:11 PM: Compilation took 4.758e-02 seconds\n",
            "(CVXPY) Mar 13 12:25:11 PM: Solver (including time spent in interface) took 7.683e-01 seconds\n",
            "||X_2-S0||_infty:\n",
            "1.8050265440962874\n",
            "||X_1-L0||:\n",
            "0.9999845249390682\n"
          ]
        }
      ]
    }
  ]
}