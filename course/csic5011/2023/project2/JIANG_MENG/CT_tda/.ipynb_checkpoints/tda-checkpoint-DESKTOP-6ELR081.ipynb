{
 "cells": [
  {
   "cell_type": "code",
   "execution_count": 7,
   "id": "06c36674",
   "metadata": {},
   "outputs": [],
   "source": [
    "import cv2 as cv\n",
    "import SimpleITK as sitk\n",
    "import numpy as np\n",
    "from numpy import inf\n",
    "import pandas as pd\n",
    "import glob\n",
    "import os\n",
    "import skimage.morphology as m\n",
    "from skimage import measure\n",
    "\n",
    "import seaborn as sns\n",
    "import codecs, json \n",
    "from ipywidgets import IntProgress\n",
    "from collections import defaultdict\n",
    "from operator import itemgetter\n",
    "\n",
    "import gudhi as gd\n",
    "import gudhi.representations\n",
    "import matplotlib.pyplot as plt\n",
    "from tqdm import tqdm\n",
    "\n",
    "from sklearn.svm import LinearSVC\n",
    "import sklearn.linear_model as lm\n",
    "from sklearn import metrics\n",
    "from sklearn.model_selection import cross_val_score, train_test_split, ShuffleSplit\n",
    "\n",
    "import sys\n",
    "sys.path.append(r'../CT_scan_oa')"
   ]
  },
  {
   "cell_type": "code",
   "execution_count": 8,
   "id": "fc169279",
   "metadata": {},
   "outputs": [],
   "source": [
    "def load_meta_img(fn):\n",
    "    reader =sitk.ImageFileReader()\n",
    "    reader.SetImageIO(\"MetaImageIO\")\n",
    "    reader.SetFileName(fn)\n",
    "    image = reader.Execute()\n",
    "    img = list(np.int16(sitk.GetArrayViewFromImage(image)))\n",
    "    return img\n",
    "\n",
    "def mask_to_boundary_pts(mask):\n",
    "    for i, slide in enumerate(mask):\n",
    "        if len(np.unique(slide)) == 1: # check the whether the slide contains the patella mask  \n",
    "            pass\n",
    "        elif len(np.unique(slide)) == 2:\n",
    "        boundary_pts = measure.find_contours(slide)[0]\n",
    "    return boundary_pts"
   ]
  },
  {
   "cell_type": "code",
   "execution_count": 9,
   "id": "87fccb37",
   "metadata": {},
   "outputs": [],
   "source": [
    "fn = '../CT_scan_oa/Mako 001/ST0/SE1_mask.mha'\n",
    "mask = load_meta_img(fn)"
   ]
  },
  {
   "cell_type": "code",
   "execution_count": 15,
   "id": "6f2b80d6",
   "metadata": {},
   "outputs": [
    {
     "data": {
      "text/plain": [
       "2"
      ]
     },
     "execution_count": 15,
     "metadata": {},
     "output_type": "execute_result"
    }
   ],
   "source": [
    "len(np.unique(mask[250]))"
   ]
  },
  {
   "cell_type": "code",
   "execution_count": 13,
   "id": "d74b52de",
   "metadata": {},
   "outputs": [
    {
     "data": {
      "text/plain": [
       "390"
      ]
     },
     "execution_count": 13,
     "metadata": {},
     "output_type": "execute_result"
    }
   ],
   "source": [
    "len(mask)"
   ]
  },
  {
   "cell_type": "code",
   "execution_count": null,
   "id": "3e9d85c8",
   "metadata": {},
   "outputs": [],
   "source": [
    "def tda_feat_extract(shape_data, repre_model_params:dict):\n",
    "    X_tda = []\n",
    "    for ID in tqdm(list(shape_data)):\n",
    "        \n",
    "        # Calculating single tda representation vector\n",
    "        def tda_single_feat(repre, multi_pers, kth_pers):\n",
    "            acX = gd.AlphaComplex(points=shape_data[ID]).create_simplex_tree()\n",
    "            dgmX = acX.persistence()\n",
    "            gd.plot_persistence_diagram(dgmX)\n",
    "            \n",
    "            if repre == 'poly':\n",
    "                CP = gd.representations.vector_methods.ComplexPolynomial()\n",
    "            elif repre == 'sil':\n",
    "                CP = gd.representations.vector_methods.Silhouette(resolution=100)\n",
    "            elif repre == 'entropy':\n",
    "                CP = gd.representations.vector_methods.Entropy(mode='scalar')\n",
    "            elif repre == 'landscape':\n",
    "                CP = gd.representations.vector_methods.Landscape() \n",
    "            elif repre == 'pi':\n",
    "                CP = gd.representations.vector_methods.PersistenceImage(bandwidth=1.0)\n",
    "\n",
    "            if multi_pers == True:\n",
    "                persistence_0th = acX.persistence_intervals_in_dimension(0)\n",
    "                persistence_1st = acX.persistence_intervals_in_dimension(1)\n",
    "                persistence_0th[persistence_0th ==inf] = 0\n",
    "                persistence_1st[persistence_1st ==inf] = 0\n",
    "\n",
    "                # Representation of 0th persistence\n",
    "                CP.fit([persistence_0th])\n",
    "                cp_0 = CP.transform([persistence_0th])\n",
    "                cp_0 = cp_0.real.flatten()\n",
    "\n",
    "                # Representation of 1st persistence\n",
    "                CP.fit([persistence_1st])\n",
    "                cp_1 = CP.transform([persistence_1st])\n",
    "                cp_1 = cp_1.real.flatten()\n",
    "\n",
    "                single_tda = np.hstack((cp_0, cp_1)).flatten()\n",
    "\n",
    "            else:\n",
    "                persistence = acX.persistence_intervals_in_dimension(kth_pers)\n",
    "                persistence[persistence == inf] = 0\n",
    "                CP.fit([persistence])\n",
    "                cp = CP.transform([persistence])\n",
    "                single_tda = cp.real.flatten()\n",
    "                \n",
    "            return single_tda\n",
    "        \n",
    "        # Stack all tda representations horizontally to form a multi-tda vector\n",
    "        if len(repre_model_params['representation']) > 1:\n",
    "            b = []\n",
    "            for repre in list(zip(*repre_model_params.values())):\n",
    "                a = tda_single_feat(*repre)\n",
    "                b.append(a)\n",
    "            multi_tda = np.hstack(b)\n",
    "            X_tda.append(multi_tda)\n",
    "            \n",
    "        else:\n",
    "            single_tda = tda_single_feat(*list(zip(*repre_model_params.values()))[0])\n",
    "            X_tda.append(single_tda)\n",
    "            \n",
    "    return X_tda\n",
    "\n",
    "repre_model_params = {'representation': ['sil', 'entropy'],\n",
    "                      'multi_pers': [False, False],\n",
    "                      'kth_pers':[0, 1]}"
   ]
  }
 ],
 "metadata": {
  "kernelspec": {
   "display_name": "Python 3 (ipykernel)",
   "language": "python",
   "name": "python3"
  },
  "language_info": {
   "codemirror_mode": {
    "name": "ipython",
    "version": 3
   },
   "file_extension": ".py",
   "mimetype": "text/x-python",
   "name": "python",
   "nbconvert_exporter": "python",
   "pygments_lexer": "ipython3",
   "version": "3.7.11"
  }
 },
 "nbformat": 4,
 "nbformat_minor": 5
}
