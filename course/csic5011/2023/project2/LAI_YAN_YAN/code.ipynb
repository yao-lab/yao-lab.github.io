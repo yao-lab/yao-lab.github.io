{
 "cells": [
  {
   "cell_type": "markdown",
   "metadata": {},
   "source": [
    "## Data preprocessing"
   ]
  },
  {
   "cell_type": "code",
   "execution_count": null,
   "metadata": {},
   "outputs": [],
   "source": [
    "import os\n",
    "import pandas as pd\n",
    "\n",
    "# import xlsread\n",
    "  \n",
    "raw = pd.read_excel(io=r'C:/Users/xiang-group/YNY/CSIS/GW1.xlsx')\n",
    "\n",
    "l = [] # the index of cells with genes less than 1000\n",
    "sum0 = (raw == 0).sum(axis=0)\n",
    "for i in range(2395):\n",
    "    if sum0[i]>=23153:\n",
    "        l.append(i)\n",
    "\n",
    "column = [j for j in raw]\n",
    "new1 = raw\n",
    "for i in l:\n",
    "    new1 = new1.drop(column[i+1],axis=1)\n",
    "\n",
    "k = [] # the index of genes with express cell less than 3\n",
    "sum0 = raw.iloc[:,1:].ge(1).sum(axis = 1)\n",
    "for i in range(24153):\n",
    "    if sum0[i]<=100:\n",
    "        k.append(i)\n",
    "\n",
    "row = raw.index.values\n",
    "new2 = new1\n",
    "for i in k:\n",
    "    new2 = new2.drop(row[i],axis=0)\n",
    "\n",
    "new2.to_excel('C:/Users/xiang-group/YNY/CSIS/newda.xlsx')\n",
    "#new2 is the final dataset with the size 19712 × 2345"
   ]
  },
  {
   "cell_type": "markdown",
   "metadata": {},
   "source": [
    "## Generate the color list"
   ]
  },
  {
   "cell_type": "code",
   "execution_count": null,
   "metadata": {},
   "outputs": [],
   "source": [
    "X = new2.values\n",
    "co = []\n",
    "for i in new2.columns.values[1:]:\n",
    "    co.append( int(i.split(\"_\")[0][2:4]))"
   ]
  },
  {
   "cell_type": "markdown",
   "metadata": {},
   "source": [
    "## LLE & MLLE"
   ]
  },
  {
   "cell_type": "code",
   "execution_count": null,
   "metadata": {},
   "outputs": [],
   "source": [
    "%matplotlib inline\n",
    "from sklearn.manifold import LocallyLinearEmbedding\n",
    "from sklearn.datasets import make_swiss_roll\n",
    "import matplotlib.pyplot as plt\n",
    "\n",
    "\n",
    "lle = LocallyLinearEmbedding(method='standard',n_neighbors=12, n_components=2) # or method = 'modified'\n",
    "X_lle = lle.fit_transform(np.transpose(X[:,1:]))\n",
    "\n",
    "scatter = plt.scatter(X_lle[:, 0], X_lle[:, 1], c=co, s=5)\n",
    "plt.xlabel('component1')\n",
    "plt.ylabel('component2')\n",
    "plt.tick_params(axis='both', which='both', bottom=False, top=False, left=False, right=False)\n",
    "plt.xticks([])\n",
    "plt.yticks([])\n",
    "plt.legend(*scatter.legend_elements(),\n",
    "                     title=\"gestational \\n weeks\",loc='upper left', bbox_to_anchor=(1.02, 1.0))\n",
    "\n",
    "plt.savefig('C:/Users/xiang-group/YNY/CSIS/LLE.png',dpi=300, bbox_inches='tight',facecolor='white', edgecolor='white')\n",
    "plt.show()"
   ]
  },
  {
   "cell_type": "markdown",
   "metadata": {},
   "source": [
    "## MDS"
   ]
  },
  {
   "cell_type": "code",
   "execution_count": null,
   "metadata": {},
   "outputs": [],
   "source": [
    "from sklearn.manifold import MDS\n",
    "\n",
    "mds = MDS(n_components=2)\n",
    "X_mds = mds.fit_transform(np.transpose(X[:,1:]))\n",
    "\n",
    "scatter = plt.scatter(X_mds[:, 0], X_mds[:, 1], c=co, s=5)\n",
    "# plt.set_title('LLE embedded data')\n",
    "# plt.title('LLE')\n",
    "plt.xlabel('component1')\n",
    "plt.ylabel('component2')\n",
    "plt.tick_params(axis='both', which='both', bottom=False, top=False, left=False, right=False)\n",
    "plt.xticks([])\n",
    "plt.yticks([])\n",
    "plt.xlim(-100000, 200000)\n",
    "plt.ylim(-120000, 100000)\n",
    "plt.legend(*scatter.legend_elements(),\n",
    "                     title=\"gestational \\n weeks\",loc='upper left', bbox_to_anchor=(1.02, 1.0))\n",
    "\n",
    "plt.savefig('C:/Users/xiang-group/YNY/CSIS/MDS.png',dpi=300, bbox_inches='tight',facecolor='white', edgecolor='white')\n",
    "plt.show()"
   ]
  },
  {
   "cell_type": "markdown",
   "metadata": {},
   "source": [
    "## t-SNE"
   ]
  },
  {
   "cell_type": "code",
   "execution_count": null,
   "metadata": {},
   "outputs": [],
   "source": [
    "from sklearn.manifold import TSNE\n",
    "\n",
    "tsne = TSNE(n_components=2)\n",
    "X_tsne = tsne.fit_transform(np.transpose(X[:,1:]))\n",
    "\n",
    "scatter = plt.scatter(X_tsne[:, 0], X_tsne[:, 1], c=co, s=5)\n",
    "# plt.set_title('LLE embedded data')\n",
    "# plt.title('LLE')\n",
    "plt.xlabel('component1')\n",
    "plt.ylabel('component2')\n",
    "plt.tick_params(axis='both', which='both', bottom=False, top=False, left=False, right=False)\n",
    "plt.xticks([])\n",
    "plt.yticks([])\n",
    "plt.xlim(-40, 50)\n",
    "plt.ylim(-25, 30)\n",
    "plt.legend(*scatter.legend_elements(),\n",
    "                     title=\"gestational \\n weeks\",loc='upper left', bbox_to_anchor=(1.02, 1.0))\n",
    "\n",
    "plt.savefig('C:/Users/xiang-group/YNY/CSIS/tSNE.png',dpi=300, bbox_inches='tight',facecolor='white', edgecolor='white')\n",
    "plt.show()"
   ]
  },
  {
   "cell_type": "markdown",
   "metadata": {},
   "source": [
    "## Isomap"
   ]
  },
  {
   "cell_type": "code",
   "execution_count": null,
   "metadata": {},
   "outputs": [],
   "source": [
    "from sklearn.manifold import Isomap\n",
    "\n",
    "isomap = Isomap(n_components=10)\n",
    "X_isomap = isomap.fit_transform(np.transpose(X[:,1:]))\n",
    "\n",
    "scatter = plt.scatter(X_isomap[:, 0], X_isomap[:, 1], c=co, s=5)\n",
    "plt.xlabel('component1')\n",
    "plt.ylabel('component2')\n",
    "plt.tick_params(axis='both', which='both', bottom=False, top=False, left=False, right=False)\n",
    "plt.xticks([])\n",
    "plt.yticks([])\n",
    "plt.xlim(-200000, 150000)\n",
    "plt.ylim(-150000, 100000)\n",
    "plt.legend(*scatter.legend_elements(),\n",
    "                     title=\"gestational \\n weeks\",loc='upper left', bbox_to_anchor=(1.02, 1.0))\n",
    "\n",
    "plt.savefig('C:/Users/xiang-group/YNY/CSIS/isomap.png',dpi=300, bbox_inches='tight',facecolor='white', edgecolor='white')\n",
    "plt.show()"
   ]
  },
  {
   "cell_type": "markdown",
   "metadata": {},
   "source": [
    "## SpectralEmbedding"
   ]
  },
  {
   "cell_type": "code",
   "execution_count": null,
   "metadata": {},
   "outputs": [],
   "source": [
    "from sklearn.manifold import SpectralEmbedding\n",
    "\n",
    "embedding = SpectralEmbedding(n_components=2, random_state=42)\n",
    "X_transformed = embedding.fit_transform(np.transpose(X[:,1:]))\n",
    "\n",
    "scatter = plt.scatter(X_transformed[:, 0], X_transformed[:, 1], c=co, s=5)\n",
    "plt.xlabel('component1')\n",
    "plt.ylabel('component2')\n",
    "plt.tick_params(axis='both', which='both', bottom=False, top=False, left=False, right=False)\n",
    "plt.xticks([])\n",
    "plt.yticks([])\n",
    "plt.legend(*scatter.legend_elements(),\n",
    "                     title=\"gestational \\n weeks\",loc='upper left', bbox_to_anchor=(1.02, 1.0))\n",
    "\n",
    "plt.savefig('C:/Users/xiang-group/YNY/CSIS/SE.png',dpi=300, bbox_inches='tight',facecolor='white', edgecolor='white')\n",
    "plt.show()"
   ]
  },
  {
   "cell_type": "markdown",
   "metadata": {},
   "source": [
    "## Calculate contour coefficient for clustering"
   ]
  },
  {
   "cell_type": "code",
   "execution_count": null,
   "metadata": {},
   "outputs": [],
   "source": [
    "import numpy as np\n",
    "import matplotlib.pyplot as plt\n",
    "from sklearn.cluster import KMeans\n",
    "from sklearn.metrics import silhouette_samples, silhouette_score\n",
    "from sklearn.datasets import make_blobs\n",
    "# Calculate contour coefficient for different number of clusters\n",
    "range_n_clusters = [2, 3, 4, 5, 6]\n",
    "for n_clusters in range_n_clusters:\n",
    "    fig, ax = plt.subplots()\n",
    "    kmeans = KMeans(n_clusters=n_clusters, random_state=42)\n",
    "    cluster_labels = kmeans.fit_predict(X_tsne)\n",
    "    silhouette_avg = silhouette_score(X_tsne, cluster_labels)\n",
    "    sample_silhouette_values = silhouette_samples(X_tsne, cluster_labels)\n",
    "    y_lower, y_upper = 0, 0\n",
    "    for i in range(n_clusters):\n",
    "        ith_cluster_silhouette_values = sample_silhouette_values[cluster_labels == i]\n",
    "        ith_cluster_silhouette_values.sort()\n",
    "        size_cluster_i = ith_cluster_silhouette_values.shape[0]\n",
    "        y_upper += size_cluster_i\n",
    "        color = plt.cm.get_cmap(\"Spectral\")(float(i) / n_clusters)\n",
    "        ax.barh(range(y_lower, y_upper), ith_cluster_silhouette_values, height=1.0, edgecolor='none', color=color)\n",
    "        y_lower += size_cluster_i\n",
    "    ax.axvline(x=silhouette_avg, color=\"red\", linestyle=\"--\")\n",
    "    ax.set_yticks([])\n",
    "    ax.set_xlim([-0.1, 1])\n",
    "    ax.set_xlabel(\"Silhouette coefficient values\")\n",
    "    ax.set_ylabel(\"Cluster labels\")\n",
    "    ax.set_title(\"Cluster silhouette plot of n_clusters = {}\".format(n_clusters))\n",
    "    plt.savefig(f'C:/Users/xiang-group/YNY/CSIS/cluster{n_clusters}.png',dpi=300, bbox_inches='tight',facecolor='white', edgecolor='white')\n",
    "    plt.show()"
   ]
  },
  {
   "cell_type": "markdown",
   "metadata": {},
   "source": [
    "## Kmeans + t-SNE (similar to other data reduction methods)"
   ]
  },
  {
   "cell_type": "code",
   "execution_count": null,
   "metadata": {},
   "outputs": [],
   "source": [
    "from sklearn.cluster import KMeans\n",
    "from sklearn.metrics import silhouette_samples, silhouette_score\n",
    "from sklearn.datasets import make_blobs\n",
    "\n",
    "kmeans = KMeans(n_clusters=6, random_state=0)\n",
    "kmeans.fit(X_tsne)\n",
    "labels = kmeans.labels_\n",
    "\n",
    "\n",
    "# Obtain the center point of each cluster and the distance from each data point to the center point\n",
    "centers = kmeans.cluster_centers_\n",
    "distances = np.sqrt(((X_tsne - centers[:, np.newaxis])**2).sum(axis=2))\n",
    "\n",
    "# Eliminate noise points based on threshold\n",
    "threshold = 120\n",
    "is_noise = distances > threshold\n",
    "cleaned_X_tsne = X_tsne[~np.any(is_noise, axis=0)]\n",
    "\n",
    "label_new = labels[~np.any(is_noise, axis=0)]\n",
    "co_new = np.array(co)[~np.any(is_noise, axis=0)]\n",
    "\n",
    "fig, ax = plt.subplots()\n",
    "scatter = ax.scatter(cleaned_X_tsne[:, 0], cleaned_X_tsne[:, 1], c=label_new, cmap='viridis',s=5)\n",
    "\n",
    "\n",
    "plt.legend(*scatter.legend_elements(),\n",
    "                     title=\"categories \\n number\",loc='upper left', bbox_to_anchor=(1.02, 1.0))\n",
    "plt.xlabel('Component1')\n",
    "plt.ylabel('Component2')\n",
    "plt.xticks([])\n",
    "plt.yticks([])\n",
    "plt.title('K-Means Clustering for data processed by Standard tSNE')\n",
    "plt.savefig('C:/Users/xiang-group/YNY/CSIS/KM+tsne.png',dpi=300, bbox_inches='tight',facecolor='white', edgecolor='white')\n",
    "plt.show()"
   ]
  },
  {
   "cell_type": "markdown",
   "metadata": {},
   "source": [
    "## Spectral clustering + t-SNE"
   ]
  },
  {
   "cell_type": "code",
   "execution_count": null,
   "metadata": {},
   "outputs": [],
   "source": [
    "import matplotlib.pyplot as plt\n",
    "from sklearn.datasets import make_blobs\n",
    "from sklearn.cluster import SpectralClustering\n",
    "\n",
    "\n",
    "sc = SpectralClustering(n_clusters=6, affinity='nearest_neighbors', assign_labels='kmeans')\n",
    "sc.fit(X_tsne)\n",
    "labels = sc.labels_\n",
    "\n",
    "\n",
    "# Obtain the center point of each cluster and the distance from each data point to the center point\n",
    "# Compute the cluster centers\n",
    "centers = []\n",
    "for i in range(sc.n_clusters):\n",
    "    cluster_points = X_tsne[labels == i]\n",
    "    center = np.mean(cluster_points, axis=0)\n",
    "    centers.append(center)\n",
    "centers = np.array(centers)\n",
    "distances = np.sqrt(((X_tsne - centers[:, np.newaxis])**2).sum(axis=2))\n",
    "\n",
    "# Eliminate noise points based on threshold\n",
    "threshold = 86\n",
    "is_noise = distances > threshold\n",
    "cleaned_X_tsne = X_tsne[~np.any(is_noise, axis=0)]\n",
    "\n",
    "label_new = labels[~np.any(is_noise, axis=0)]\n",
    "co_new = np.array(co)[~np.any(is_noise, axis=0)]\n",
    "\n",
    "fig, ax = plt.subplots()\n",
    "scatter = ax.scatter(cleaned_X_tsne[:, 0], cleaned_X_tsne[:, 1], c=label_new, cmap='viridis',s=5)\n",
    "\n",
    "\n",
    "plt.legend(*scatter.legend_elements(),\n",
    "                     title=\"categories \\n number\",loc='upper left', bbox_to_anchor=(1.02, 1.0))\n",
    "plt.xlabel('Component1')\n",
    "plt.ylabel('Component2')\n",
    "plt.xticks([])\n",
    "plt.yticks([])\n",
    "plt.title('Spectral Clustering for data processed by tSNE')\n",
    "plt.savefig('C:/Users/xiang-group/YNY/CSIS/SC+tsne.png',dpi=300, bbox_inches='tight',facecolor='white', edgecolor='white')\n",
    "plt.show()"
   ]
  },
  {
   "cell_type": "markdown",
   "metadata": {},
   "source": [
    "## (ward) Hierarchical clustering + t-SNE"
   ]
  },
  {
   "cell_type": "code",
   "execution_count": null,
   "metadata": {},
   "outputs": [],
   "source": [
    "import matplotlib.pyplot as plt\n",
    "from sklearn.datasets import make_blobs\n",
    "from sklearn.cluster import AgglomerativeClustering\n",
    "\n",
    "\n",
    "hc = AgglomerativeClustering(n_clusters=6)\n",
    "hc.fit(X_tsne)\n",
    "labels = hc.labels_\n",
    "\n",
    "\n",
    "# Obtain the center point of each cluster and the distance from each data point to the center point\n",
    "# Compute the cluster centers\n",
    "centers = []\n",
    "for i in range(hc.n_clusters):\n",
    "    cluster_points = X_tsne[labels == i]\n",
    "    center = np.mean(cluster_points, axis=0)\n",
    "    centers.append(center)\n",
    "centers = np.array(centers)\n",
    "distances = np.sqrt(((X_tsne - centers[:, np.newaxis])**2).sum(axis=2))\n",
    "\n",
    "# Eliminate noise points based on threshold\n",
    "threshold = 90\n",
    "is_noise = distances > threshold\n",
    "cleaned_X_tsne = X_tsne[~np.any(is_noise, axis=0)]\n",
    "\n",
    "label_new = labels[~np.any(is_noise, axis=0)]\n",
    "co_new = np.array(co)[~np.any(is_noise, axis=0)]\n",
    "\n",
    "fig, ax = plt.subplots()\n",
    "scatter = ax.scatter(cleaned_X_tsne[:, 0], cleaned_X_tsne[:, 1], c=label_new, cmap='viridis',s=5)\n",
    "\n",
    "\n",
    "plt.legend(*scatter.legend_elements(),\n",
    "                     title=\"categories \\n number\",loc='upper left', bbox_to_anchor=(1.02, 1.0))\n",
    "plt.xlabel('Component1')\n",
    "plt.ylabel('Component2')\n",
    "plt.xticks([])\n",
    "plt.yticks([])\n",
    "plt.title('Hierarchical Clustering for data processed by tSNE')\n",
    "plt.savefig('C:/Users/xiang-group/YNY/CSIS/HC+tsne.png',dpi=300, bbox_inches='tight',facecolor='white', edgecolor='white')\n",
    "plt.show()"
   ]
  },
  {
   "cell_type": "markdown",
   "metadata": {},
   "source": [
    "## BIRCH clustering + t-SNE"
   ]
  },
  {
   "cell_type": "code",
   "execution_count": null,
   "metadata": {},
   "outputs": [],
   "source": [
    "import matplotlib.pyplot as plt\n",
    "from sklearn.datasets import make_blobs\n",
    "from sklearn.cluster import Birch\n",
    "\n",
    "\n",
    "birch = Birch(threshold=0.1, n_clusters=6)\n",
    "birch.fit(X_tsne)\n",
    "labels = birch.labels_\n",
    "\n",
    "\n",
    "\n",
    "# Obtain the center point of each cluster and the distance from each data point to the center point\n",
    "# Compute the cluster centers\n",
    "centers = birch.subcluster_centers_\n",
    "distances = np.sqrt(((X_tsne - centers[:, np.newaxis])**2).sum(axis=2))\n",
    "\n",
    "# Get the number of clusters\n",
    "n_clusters = len(centers)\n",
    "\n",
    "# Eliminate noise points based on threshold\n",
    "threshold = 103.5\n",
    "is_noise = distances > threshold\n",
    "cleaned_X_tsne = X_tsne[~np.any(is_noise, axis=0)]\n",
    "\n",
    "label_new = labels[~np.any(is_noise, axis=0)]\n",
    "co_new = np.array(co)[~np.any(is_noise, axis=0)]\n",
    "\n",
    "fig, ax = plt.subplots()\n",
    "scatter = ax.scatter(cleaned_X_tsne[:, 0], cleaned_X_tsne[:, 1], c=label_new, cmap='viridis',s=5)\n",
    "\n",
    "\n",
    "plt.legend(*scatter.legend_elements(),\n",
    "                     title=\"categories \\n number\",loc='upper left', bbox_to_anchor=(1.02, 1.0))\n",
    "plt.xlabel('Component1')\n",
    "plt.ylabel('Component2')\n",
    "plt.xticks([])\n",
    "plt.yticks([])\n",
    "plt.title('BIRCH Clustering for data processed by tSNE')\n",
    "plt.savefig('C:/Users/xiang-group/YNY/CSIS/birch+tsne.png',dpi=300, bbox_inches='tight',facecolor='white', edgecolor='white')\n",
    "plt.show()"
   ]
  }
 ],
 "metadata": {
  "kernelspec": {
   "display_name": "Python 3",
   "language": "python",
   "name": "python3"
  },
  "language_info": {
   "codemirror_mode": {
    "name": "ipython",
    "version": 3
   },
   "file_extension": ".py",
   "mimetype": "text/x-python",
   "name": "python",
   "nbconvert_exporter": "python",
   "pygments_lexer": "ipython3",
   "version": "3.8.5"
  }
 },
 "nbformat": 4,
 "nbformat_minor": 4
}
