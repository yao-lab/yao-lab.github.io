{
 "cells": [
  {
   "cell_type": "markdown",
   "id": "b91bff14",
   "metadata": {},
   "source": [
    "**Author: ZHONG, Ziyu** &nbsp;&nbsp;&nbsp; **Student ID: 20923387**"
   ]
  },
  {
   "cell_type": "markdown",
   "id": "94263742",
   "metadata": {},
   "source": [
    "## Problem 2: Exploring S&P500 Stock Prices"
   ]
  },
  {
   "cell_type": "markdown",
   "id": "b90009c2",
   "metadata": {},
   "source": [
    "### (a) Take the logarithmic prices"
   ]
  },
  {
   "cell_type": "code",
   "execution_count": 1,
   "id": "13278271",
   "metadata": {},
   "outputs": [],
   "source": [
    "import numpy as np\n",
    "import scipy.io as scio"
   ]
  },
  {
   "cell_type": "code",
   "execution_count": 2,
   "id": "6348cf68",
   "metadata": {},
   "outputs": [],
   "source": [
    "data = scio.loadmat('snp452-data.mat')"
   ]
  },
  {
   "cell_type": "code",
   "execution_count": 3,
   "id": "4d283f80",
   "metadata": {},
   "outputs": [
    {
     "data": {
      "text/plain": [
       "(452, 1258)"
      ]
     },
     "execution_count": 3,
     "metadata": {},
     "output_type": "execute_result"
    }
   ],
   "source": [
    "X = data['X'].T\n",
    "Y = np.log(X)\n",
    "Y.shape"
   ]
  },
  {
   "cell_type": "markdown",
   "id": "59321ceb",
   "metadata": {},
   "source": [
    "### (b) Calculate logarithmic price jumps"
   ]
  },
  {
   "cell_type": "code",
   "execution_count": 4,
   "id": "aafdeb95",
   "metadata": {},
   "outputs": [
    {
     "data": {
      "text/plain": [
       "(452, 1257)"
      ]
     },
     "execution_count": 4,
     "metadata": {},
     "output_type": "execute_result"
    }
   ],
   "source": [
    "dY = Y[:,1:]-Y[:,:-1]\n",
    "p, n = dY.shape\n",
    "p, n"
   ]
  },
  {
   "cell_type": "markdown",
   "id": "8ef13766",
   "metadata": {},
   "source": [
    "### (c) Construct the realized covariance matrix"
   ]
  },
  {
   "cell_type": "code",
   "execution_count": 5,
   "id": "9a19fba4",
   "metadata": {},
   "outputs": [
    {
     "data": {
      "text/plain": [
       "(452, 452)"
      ]
     },
     "execution_count": 5,
     "metadata": {},
     "output_type": "execute_result"
    }
   ],
   "source": [
    "Sigma = dY.dot(dY.T)/n\n",
    "Sigma.shape"
   ]
  },
  {
   "cell_type": "markdown",
   "id": "317429fb",
   "metadata": {},
   "source": [
    "### (c) Compute the eigenvalues and store them in a descending order"
   ]
  },
  {
   "cell_type": "code",
   "execution_count": 6,
   "id": "11a64fcf",
   "metadata": {},
   "outputs": [],
   "source": [
    "lmd, V = np.linalg.eigh(Sigma)\n",
    "lmd = lmd[::-1]"
   ]
  },
  {
   "cell_type": "markdown",
   "id": "d96d4d7f",
   "metadata": {},
   "source": [
    "### (d) Horn's Parallel Analysis"
   ]
  },
  {
   "cell_type": "code",
   "execution_count": 7,
   "id": "942643b0",
   "metadata": {},
   "outputs": [],
   "source": [
    "R = 500\n",
    "pvals = np.zeros(p,dtype='float32')\n",
    "dY_random = dY[:,:]\n",
    "for _ in range(R):\n",
    "    for i in range(p-1):\n",
    "        np.random.shuffle(dY_random[i+1])\n",
    "    Sigma_random = dY_random.dot(dY_random.T)/n\n",
    "    lmd_random = np.linalg.eigh(Sigma_random)[0][::-1]\n",
    "    pvals = pvals + (lmd < lmd_random)\n",
    "pvals = (pvals + 1)/(R + 1)"
   ]
  },
  {
   "cell_type": "code",
   "execution_count": 8,
   "id": "1e6a1de9",
   "metadata": {},
   "outputs": [
    {
     "data": {
      "text/plain": [
       "array([0.00199601, 0.00199601, 0.00199601, 0.00199601, 0.00199601,\n",
       "       0.00199601, 0.00199601, 0.00199601, 0.00199601, 0.00199601,\n",
       "       0.00399202, 0.00798403, 0.00798403, 0.11576846, 0.14171657,\n",
       "       0.14371258, 0.5189621 , 0.5988024 , 0.8502994 , 0.9540918 ,\n",
       "       1.        , 1.        , 1.        , 1.        , 1.        ,\n",
       "       1.        , 1.        , 1.        , 1.        , 1.        ,\n",
       "       1.        , 1.        , 1.        , 1.        , 1.        ,\n",
       "       1.        , 1.        , 1.        , 1.        , 1.        ,\n",
       "       1.        , 1.        , 1.        , 1.        , 1.        ,\n",
       "       1.        , 1.        , 1.        , 1.        , 1.        ,\n",
       "       1.        , 1.        , 1.        , 1.        , 1.        ,\n",
       "       1.        , 1.        , 1.        , 1.        , 1.        ,\n",
       "       1.        , 1.        , 1.        , 1.        , 1.        ,\n",
       "       1.        , 1.        , 1.        , 1.        , 1.        ,\n",
       "       1.        , 1.        , 1.        , 1.        , 1.        ,\n",
       "       1.        , 1.        , 1.        , 1.        , 1.        ,\n",
       "       1.        , 1.        , 1.        , 1.        , 1.        ,\n",
       "       1.        , 1.        , 1.        , 1.        , 1.        ,\n",
       "       1.        , 1.        , 1.        , 1.        , 1.        ,\n",
       "       1.        , 1.        , 1.        , 1.        , 1.        ,\n",
       "       1.        , 1.        , 1.        , 1.        , 1.        ,\n",
       "       1.        , 1.        , 1.        , 1.        , 1.        ,\n",
       "       1.        , 1.        , 1.        , 1.        , 1.        ,\n",
       "       1.        , 1.        , 1.        , 1.        , 1.        ,\n",
       "       1.        , 1.        , 1.        , 1.        , 1.        ,\n",
       "       1.        , 1.        , 1.        , 1.        , 1.        ,\n",
       "       1.        , 1.        , 1.        , 1.        , 1.        ,\n",
       "       1.        , 1.        , 1.        , 1.        , 1.        ,\n",
       "       1.        , 1.        , 1.        , 1.        , 1.        ,\n",
       "       1.        , 1.        , 1.        , 1.        , 1.        ,\n",
       "       1.        , 1.        , 1.        , 1.        , 1.        ,\n",
       "       1.        , 1.        , 1.        , 1.        , 1.        ,\n",
       "       1.        , 1.        , 1.        , 1.        , 1.        ,\n",
       "       1.        , 1.        , 1.        , 1.        , 1.        ,\n",
       "       1.        , 1.        , 1.        , 1.        , 1.        ,\n",
       "       1.        , 1.        , 1.        , 1.        , 1.        ,\n",
       "       1.        , 1.        , 1.        , 1.        , 1.        ,\n",
       "       1.        , 1.        , 1.        , 1.        , 1.        ,\n",
       "       1.        , 1.        , 1.        , 1.        , 1.        ,\n",
       "       1.        , 1.        , 1.        , 1.        , 1.        ,\n",
       "       1.        , 1.        , 1.        , 1.        , 1.        ,\n",
       "       1.        , 1.        , 1.        , 1.        , 1.        ,\n",
       "       1.        , 1.        , 1.        , 1.        , 1.        ,\n",
       "       1.        , 1.        , 1.        , 1.        , 1.        ,\n",
       "       1.        , 1.        , 1.        , 1.        , 1.        ,\n",
       "       1.        , 1.        , 1.        , 1.        , 1.        ,\n",
       "       1.        , 1.        , 1.        , 1.        , 1.        ,\n",
       "       1.        , 1.        , 1.        , 1.        , 1.        ,\n",
       "       1.        , 1.        , 1.        , 1.        , 1.        ,\n",
       "       1.        , 1.        , 1.        , 1.        , 1.        ,\n",
       "       1.        , 1.        , 1.        , 1.        , 1.        ,\n",
       "       1.        , 1.        , 1.        , 1.        , 1.        ,\n",
       "       1.        , 1.        , 1.        , 1.        , 1.        ,\n",
       "       1.        , 1.        , 1.        , 1.        , 1.        ,\n",
       "       1.        , 1.        , 1.        , 1.        , 1.        ,\n",
       "       1.        , 1.        , 1.        , 1.        , 1.        ,\n",
       "       1.        , 1.        , 1.        , 1.        , 1.        ,\n",
       "       1.        , 1.        , 1.        , 1.        , 1.        ,\n",
       "       1.        , 1.        , 1.        , 1.        , 1.        ,\n",
       "       1.        , 1.        , 1.        , 1.        , 1.        ,\n",
       "       1.        , 1.        , 1.        , 1.        , 1.        ,\n",
       "       1.        , 1.        , 1.        , 1.        , 1.        ,\n",
       "       1.        , 1.        , 1.        , 1.        , 1.        ,\n",
       "       1.        , 1.        , 1.        , 1.        , 1.        ,\n",
       "       1.        , 1.        , 1.        , 1.        , 1.        ,\n",
       "       1.        , 1.        , 1.        , 1.        , 1.        ,\n",
       "       1.        , 1.        , 1.        , 1.        , 1.        ,\n",
       "       1.        , 1.        , 1.        , 1.        , 1.        ,\n",
       "       1.        , 1.        , 1.        , 1.        , 1.        ,\n",
       "       1.        , 1.        , 1.        , 1.        , 1.        ,\n",
       "       1.        , 1.        , 1.        , 1.        , 1.        ,\n",
       "       1.        , 1.        , 1.        , 1.        , 1.        ,\n",
       "       1.        , 1.        , 1.        , 1.        , 1.        ,\n",
       "       1.        , 1.        , 1.        , 1.        , 1.        ,\n",
       "       1.        , 1.        , 1.        , 1.        , 1.        ,\n",
       "       1.        , 1.        , 1.        , 1.        , 1.        ,\n",
       "       1.        , 1.        , 1.        , 1.        , 1.        ,\n",
       "       1.        , 1.        , 1.        , 1.        , 1.        ,\n",
       "       1.        , 1.        , 1.        , 1.        , 1.        ,\n",
       "       1.        , 1.        , 1.        , 1.        , 1.        ,\n",
       "       1.        , 1.        , 1.        , 1.        , 1.        ,\n",
       "       1.        , 1.        , 1.        , 1.        , 1.        ,\n",
       "       1.        , 1.        , 1.        , 1.        , 1.        ,\n",
       "       1.        , 1.        , 1.        , 1.        , 1.        ,\n",
       "       1.        , 1.        , 1.        , 1.        , 1.        ,\n",
       "       1.        , 1.        , 1.        , 1.        , 1.        ,\n",
       "       1.        , 1.        , 1.        , 1.        , 1.        ,\n",
       "       1.        , 1.        , 1.        , 1.        , 1.        ,\n",
       "       1.        , 1.        , 1.        , 1.        , 1.        ,\n",
       "       1.        , 1.        , 1.        , 1.        , 1.        ,\n",
       "       1.        , 1.        ], dtype=float32)"
      ]
     },
     "execution_count": 8,
     "metadata": {},
     "output_type": "execute_result"
    }
   ],
   "source": [
    "pvals"
   ]
  },
  {
   "cell_type": "code",
   "execution_count": 9,
   "id": "114f2b88",
   "metadata": {},
   "outputs": [
    {
     "data": {
      "text/plain": [
       "13"
      ]
     },
     "execution_count": 9,
     "metadata": {},
     "output_type": "execute_result"
    }
   ],
   "source": [
    "np.sum(pvals<0.05)"
   ]
  },
  {
   "cell_type": "markdown",
   "id": "5f345e00",
   "metadata": {},
   "source": [
    "The first 13 largest eigenvalues are of 0.05 significance according to Horn's."
   ]
  }
 ],
 "metadata": {
  "kernelspec": {
   "display_name": "Python 3 (ipykernel)",
   "language": "python",
   "name": "python3"
  },
  "language_info": {
   "codemirror_mode": {
    "name": "ipython",
    "version": 3
   },
   "file_extension": ".py",
   "mimetype": "text/x-python",
   "name": "python",
   "nbconvert_exporter": "python",
   "pygments_lexer": "ipython3",
   "version": "3.10.4"
  }
 },
 "nbformat": 4,
 "nbformat_minor": 5
}
