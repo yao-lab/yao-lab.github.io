{
 "cells": [
  {
   "cell_type": "markdown",
   "id": "54ec90fb",
   "metadata": {},
   "source": [
    "# Homework 2. Random Matrix Theory and PCA"
   ]
  },
  {
   "cell_type": "markdown",
   "id": "26c2bed5",
   "metadata": {},
   "source": [
    "**Author: ZHONG, Ziyu** &nbsp;&nbsp;&nbsp; **Student ID: 20923387**"
   ]
  },
  {
   "cell_type": "markdown",
   "id": "e565d38e",
   "metadata": {},
   "source": [
    "## Problem 1: Phase transition in PCA \"spike\" model:"
   ]
  },
  {
   "cell_type": "markdown",
   "id": "79b7fa1c",
   "metadata": {},
   "source": [
    "### (a) Find $\\lambda$ given SNR $> \\sqrt{\\gamma}$."
   ]
  },
  {
   "cell_type": "markdown",
   "id": "42500971",
   "metadata": {},
   "source": [
    "*Answer:*\n",
    "\n",
    "$\\lambda \\to (\\sigma^2 + \\lambda_0)(1+\\dfrac{\\gamma \\sigma^2}{\\lambda_0}) = (1 + \\text{SNR})(1+\\dfrac{\\gamma}{\\text{SNR}})\\sigma^2$"
   ]
  },
  {
   "cell_type": "markdown",
   "id": "667b80fc",
   "metadata": {},
   "source": [
    "### (b) Explain how the SNR can be estimated from the eigenvalues of the sample covariance matrix."
   ]
  },
  {
   "cell_type": "markdown",
   "id": "b922b232",
   "metadata": {},
   "source": [
    "*Answer:*\n",
    "\n",
    "Intuitively, first estimate $\\sigma^2$ (REF, KN,... estimators), then solve $\\lambda = (1 + \\text{SNR})(1+\\dfrac{\\gamma}{\\text{SNR}})\\hat{\\sigma^2}$ to estimate SNR."
   ]
  },
  {
   "cell_type": "markdown",
   "id": "f4a8f871",
   "metadata": {},
   "source": [
    "### (c) Find the squared correlation between the eigenvector $v$ of the sample covariance matrix and the \"true\" signal component $u$. That is, find $|\\langle u, v\\rangle |^2$."
   ]
  },
  {
   "cell_type": "markdown",
   "id": "5c9f9300",
   "metadata": {},
   "source": [
    "*Answer:*\n",
    "\n",
    "$|\\langle u, v\\rangle |^2 \\to\n",
    "\\begin{cases}\n",
    "0 & \\text{SNR}\\leqslant \\sqrt{\\gamma}\\\\[2ex] \n",
    "\\dfrac{1-\\frac{\\gamma}{\\text{SNR}^2}}{1+\\frac{\\gamma}{\\text{SNR}}} & \\text{SNR} > \\sqrt{\\gamma}\n",
    "\\end{cases}\n",
    "$"
   ]
  },
  {
   "cell_type": "markdown",
   "id": "8b232199",
   "metadata": {},
   "source": [
    "### (d) Conirm your result using Python simulations"
   ]
  },
  {
   "cell_type": "markdown",
   "id": "8cc9d800",
   "metadata": {},
   "source": [
    "Set $n = 2000; p = 720; u = e=(1,0,0,...0)^T; \\sigma = 1; \\lambda_0 = 0.1, 0.2, 0.4, 0.6, 0.8, 1, 5, 10$\n",
    "\n",
    "Thus we know, $\\sqrt{\\gamma} = 0.6$ and $\\text{SNR} = 0.2, 0.4, 0.6, 0.8, 1.0$\n",
    "\n",
    "The true covariance matrix is $diag(\\lambda_0 + 1, 1, 1,..., 1)$. The largest eigenvalue is $\\lambda_0 + 1$, and the corresponding eigenvector is $e = (1,0,0,...0)^T$.\n",
    "\n",
    "$\\lambda \\to\n",
    "\\begin{cases}\n",
    "(1 + \\sqrt{\\gamma})^2 = 2.56 & \\text{SNR}\\leqslant \\sqrt{\\gamma}\\\\[2ex] \n",
    "(1 + \\text{SNR})(1+\\dfrac{\\gamma}{\\text{SNR}})\\sigma^2 & \\text{SNR} > \\sqrt{\\gamma}\n",
    "\\end{cases}\n",
    "= [2.56, 2.56, 2.56, 2.56, 2.61, 2.72, 6.432, 11.396]\n",
    "$\n",
    "\n",
    "$|\\langle u, v\\rangle |^2 \\to\n",
    "\\begin{cases}\n",
    "0 & \\text{SNR}\\leqslant \\sqrt{\\gamma}\\\\[2ex] \n",
    "\\dfrac{1-\\frac{\\gamma}{\\text{SNR}^2}}{1+\\frac{\\gamma}{\\text{SNR}}} & \\text{SNR} > \\sqrt{\\gamma}\n",
    "\\end{cases}\n",
    "= [0, 0, 0, 0, 0.3017,0.4706,0.9194,0.9618]\n",
    "$"
   ]
  },
  {
   "cell_type": "code",
   "execution_count": 1,
   "id": "8afc292a",
   "metadata": {},
   "outputs": [],
   "source": [
    "import numpy as np"
   ]
  },
  {
   "cell_type": "code",
   "execution_count": 2,
   "id": "3518e554",
   "metadata": {},
   "outputs": [],
   "source": [
    "n = 2000\n",
    "p = 720\n",
    "gamma = p/n\n",
    "lambda_0_list = [0.1, 0.2, 0.4, 0.6, 0.8, 1.0, 5.0, 10.0]\n",
    "lambda_list = []\n",
    "eigenvector_list = []"
   ]
  },
  {
   "cell_type": "code",
   "execution_count": 3,
   "id": "24b9c45d",
   "metadata": {},
   "outputs": [],
   "source": [
    "for lambda_0 in lambda_0_list:\n",
    "    X = np.zeros((p,n))\n",
    "    X[0] = np.random.randn(n) * np.sqrt(lambda_0 + 1)\n",
    "    X[1:,] = np.random.randn(p - 1, n)\n",
    "    sample_Sigma = X.dot(X.T)/n\n",
    "    lmd, V = np.linalg.eigh(sample_Sigma)\n",
    "    lambda_list.append(lmd[-1])\n",
    "    eigenvector_list.append(V[:,-1])"
   ]
  },
  {
   "cell_type": "markdown",
   "id": "da27adbc",
   "metadata": {},
   "source": [
    "Show the largest eigenvalues $\\lambda$ from $\\hat{\\Sigma}_n$ when $\\lambda_0 = 0.1, 0.2, 0.4, 0.6, 0.8, 1, 5, 10$ :"
   ]
  },
  {
   "cell_type": "code",
   "execution_count": 4,
   "id": "08d722be",
   "metadata": {},
   "outputs": [
    {
     "data": {
      "text/plain": [
       "[2.559201761378905,\n",
       " 2.495637008832004,\n",
       " 2.5378018284615114,\n",
       " 2.5898547346869587,\n",
       " 2.5973704445025825,\n",
       " 2.7373192419005554,\n",
       " 6.414114533814038,\n",
       " 11.841110472678308]"
      ]
     },
     "execution_count": 4,
     "metadata": {},
     "output_type": "execute_result"
    }
   ],
   "source": [
    "lambda_list"
   ]
  },
  {
   "cell_type": "markdown",
   "id": "4bfac329",
   "metadata": {},
   "source": [
    "While the theoretical result is:"
   ]
  },
  {
   "cell_type": "code",
   "execution_count": 5,
   "id": "665e6f69",
   "metadata": {},
   "outputs": [
    {
     "data": {
      "text/plain": [
       "[2.5600000000000005,\n",
       " 2.5600000000000005,\n",
       " 2.5600000000000005,\n",
       " 2.5600000000000005,\n",
       " 2.61,\n",
       " 2.7199999999999998,\n",
       " 6.432,\n",
       " 11.396]"
      ]
     },
     "execution_count": 5,
     "metadata": {},
     "output_type": "execute_result"
    }
   ],
   "source": [
    "lambda_theoretical_list = [(1+np.sqrt(gamma))**2 if lmd <= np.sqrt(gamma) else (1+lmd)*(1+gamma/lmd) for lmd in lambda_0_list]\n",
    "lambda_theoretical_list"
   ]
  },
  {
   "cell_type": "markdown",
   "id": "0c991afe",
   "metadata": {},
   "source": [
    "The difference between experimental and theoretical result is:"
   ]
  },
  {
   "cell_type": "code",
   "execution_count": 6,
   "id": "7c619c1b",
   "metadata": {},
   "outputs": [
    {
     "data": {
      "text/plain": [
       "array([-0.00079824, -0.06436299, -0.02219817,  0.02985473, -0.01262956,\n",
       "        0.01731924, -0.01788547,  0.44511047])"
      ]
     },
     "execution_count": 6,
     "metadata": {},
     "output_type": "execute_result"
    }
   ],
   "source": [
    "np.array(lambda_list) - np.array(lambda_theoretical_list)"
   ]
  },
  {
   "cell_type": "markdown",
   "id": "3df78715",
   "metadata": {},
   "source": [
    "Show the squared correlation between the eigenvector and the \"true\" signal component $u$ when $\\lambda_0 = 0.1, 0.2, 0.4, 0.6, 0.8, 1, 5, 10$ :"
   ]
  },
  {
   "cell_type": "code",
   "execution_count": 7,
   "id": "c40f7d2f",
   "metadata": {},
   "outputs": [
    {
     "data": {
      "text/plain": [
       "[0.000510921684067232,\n",
       " 0.0013595979385948504,\n",
       " 0.0016087595867976105,\n",
       " 0.17476720632086912,\n",
       " 0.3322391578680066,\n",
       " 0.49644985784248097,\n",
       " 0.9139039638577818,\n",
       " 0.9656893197187227]"
      ]
     },
     "execution_count": 7,
     "metadata": {},
     "output_type": "execute_result"
    }
   ],
   "source": [
    "sqcorr_list = [eigenvector[0]**2 for eigenvector in eigenvector_list]\n",
    "sqcorr_list"
   ]
  },
  {
   "cell_type": "markdown",
   "id": "2f200115",
   "metadata": {},
   "source": [
    "While the theoretical result is:"
   ]
  },
  {
   "cell_type": "code",
   "execution_count": 8,
   "id": "5dfb33ce",
   "metadata": {},
   "outputs": [
    {
     "data": {
      "text/plain": [
       "[0,\n",
       " 0,\n",
       " 0,\n",
       " 0,\n",
       " 0.3017241379310346,\n",
       " 0.4705882352941177,\n",
       " 0.9194029850746268,\n",
       " 0.9617760617760617]"
      ]
     },
     "execution_count": 8,
     "metadata": {},
     "output_type": "execute_result"
    }
   ],
   "source": [
    "sqcorr_theoretical_list = [0 if lmd <= np.sqrt(gamma) else (1-gamma/lmd**2)/(1+gamma/lmd) for lmd in lambda_0_list]\n",
    "sqcorr_theoretical_list"
   ]
  },
  {
   "cell_type": "markdown",
   "id": "b6822554",
   "metadata": {},
   "source": [
    "The difference between experimental and theoretical result is:"
   ]
  },
  {
   "cell_type": "code",
   "execution_count": 9,
   "id": "9fd21a66",
   "metadata": {},
   "outputs": [
    {
     "data": {
      "text/plain": [
       "array([ 0.00051092,  0.0013596 ,  0.00160876,  0.17476721,  0.03051502,\n",
       "        0.02586162, -0.00549902,  0.00391326])"
      ]
     },
     "execution_count": 9,
     "metadata": {},
     "output_type": "execute_result"
    }
   ],
   "source": [
    "np.array(sqcorr_list) - np.array(sqcorr_theoretical_list)"
   ]
  },
  {
   "cell_type": "markdown",
   "id": "d5295690",
   "metadata": {},
   "source": [
    "The above results show the simulations fit the theoretical conclusion."
   ]
  }
 ],
 "metadata": {
  "kernelspec": {
   "display_name": "Python 3 (ipykernel)",
   "language": "python",
   "name": "python3"
  },
  "language_info": {
   "codemirror_mode": {
    "name": "ipython",
    "version": 3
   },
   "file_extension": ".py",
   "mimetype": "text/x-python",
   "name": "python",
   "nbconvert_exporter": "python",
   "pygments_lexer": "ipython3",
   "version": "3.10.4"
  }
 },
 "nbformat": 4,
 "nbformat_minor": 5
}
