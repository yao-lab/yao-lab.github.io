{
 "cells": [
  {
   "cell_type": "code",
   "execution_count": 2,
   "id": "851515f2",
   "metadata": {},
   "outputs": [],
   "source": [
    "import numpy as np\n",
    "import numpy.linalg as alg\n",
    "import matplotlib.pyplot as plt\n",
    "import pandas as pd"
   ]
  },
  {
   "cell_type": "markdown",
   "id": "6a210b52",
   "metadata": {},
   "source": [
    "Two variables in snp452-data.mat: \\\n",
    "stock(code, name, class),\\\n",
    "X (n*p size):  n=1258 (time/date), p=452 (stock price) "
   ]
  },
  {
   "cell_type": "code",
   "execution_count": 34,
   "id": "408a8ac8",
   "metadata": {},
   "outputs": [
    {
     "name": "stdout",
     "output_type": "stream",
     "text": [
      ".mat data: <class 'dict'>\n",
      "\n",
      "X: <class 'numpy.ndarray'> (452, 1258)\n"
     ]
    }
   ],
   "source": [
    "import scipy.io as scio\n",
    "\n",
    "# data = scio.loadmat('./X-snp452-data.mat')\n",
    "# print('.mat data:\\n',type(data))\n",
    "# print(data)\n",
    "# X = np.array(data['X'])\n",
    "\n",
    "data = scio.loadmat('./snp452-data.mat')\n",
    "print('.mat data:',type(data))\n",
    "X = np.array(data['X'])\n",
    "\n",
    "print()\n",
    "X = X.T\n",
    "print('X:', type(X), X.shape)\n",
    "p = X.shape[0]\n",
    "n = X.shape[1]\n",
    "# print(p,n)"
   ]
  },
  {
   "cell_type": "code",
   "execution_count": 69,
   "id": "62f10e30",
   "metadata": {},
   "outputs": [
    {
     "name": "stdout",
     "output_type": "stream",
     "text": [
      "(452, 1257)\n",
      "(452, 452)\n"
     ]
    }
   ],
   "source": [
    "Y = np.log(X)\n",
    "dy = np.diff(Y, axis=1)\n",
    "print(dy.shape)\n",
    "cov = 1/(n-1)* np.dot(dy, dy.T)\n",
    "print(cov.shape)\n",
    "\n",
    "# or calculated as\n",
    "if 0:\n",
    "    cov1 = np.cov(dy)\n",
    "    print(cov.shape,cov1.shape)\n",
    "    print(cov)\n",
    "    print()\n",
    "    print(cov1)"
   ]
  },
  {
   "cell_type": "code",
   "execution_count": 67,
   "id": "45ae4d57",
   "metadata": {},
   "outputs": [],
   "source": [
    "values, vectors = alg.eig(cov)\n",
    "sort_des_id = np.argsort(values)[::-1]  # [::-1] is for reverse the whole array, then obtaining the descending indeces\n",
    "eigenvalues = values[sort_des_id]\n",
    "eigenvectors = vectors[sort_des_id]\n",
    "\n",
    "if 0:\n",
    "    a = np.array([5,4,3,1,2])\n",
    "    b = np.argsort(a)[::-1]\n",
    "    d = a[b]\n",
    "\n",
    "    c = np.sort(a)[::-1]\n",
    "\n",
    "    print(b)\n",
    "    print(d)\n",
    "    print(c)"
   ]
  },
  {
   "cell_type": "code",
   "execution_count": 80,
   "id": "9775b773",
   "metadata": {},
   "outputs": [],
   "source": [
    "# random permutation ('r' means random)\n",
    "# repeat R=100 times\n",
    "\n",
    "R = 100\n",
    "N = np.zeros(p)\n",
    "for j in range(R):\n",
    "    dy_r = np.zeros(dy.shape)  # p*n\n",
    "    for i in range(p):  # each row\n",
    "        perm = np.random.permutation(n-1)  # a random permutation pi of the numbers [1 to n]\n",
    "        dy_r[i,:] = dy[i,perm]\n",
    "\n",
    "\n",
    "    # covirance matrix\n",
    "    cov_r = 1/(n-1)* np.dot(dy_r, dy_r.T)\n",
    "\n",
    "    values_r, vectors_r = alg.eig(cov_r)\n",
    "    sort_des_id = np.argsort(values_r)[::-1]  # [::-1] is for reverse the whole array, then obtaining the descending indeces\n",
    "    eigenvalues_r = values_r[sort_des_id]\n",
    "    eigenvectors_r = vectors_r[sort_des_id]\n",
    "    \n",
    "    for i in range(p):\n",
    "        if eigenvalues[i] < eigenvalues_r[i]:\n",
    "            N[i] += 1\n",
    "\n",
    "\n",
    "            \n",
    "# Or, direct permutation on the cov matrix\n",
    "# cov_r = np.zeros(cov.shape)  # p*p\n",
    "# for i in range(p):  # each row\n",
    "#     perm = np.random.permutation(p)  # a random permutation pi of the numbers [1 to p]\n",
    "#     cov_r[i,:] = cov[i,perm]"
   ]
  },
  {
   "cell_type": "markdown",
   "id": "fed42cab",
   "metadata": {},
   "source": [
    "Eigenvalues with small p-values (small $N[i]$) indicate\n",
    "that they are less likely arising from the spectrum of a randomly permuted matrix\n",
    "and thus considered to be signal."
   ]
  },
  {
   "cell_type": "code",
   "execution_count": 85,
   "id": "9becf522",
   "metadata": {},
   "outputs": [
    {
     "data": {
      "image/png": "[encoded data removed]",
      "text/plain": [
       "<Figure size 432x288 with 1 Axes>"
      ]
     },
     "metadata": {
      "needs_background": "light"
     },
     "output_type": "display_data"
    },
    {
     "data": {
      "image/png": "[encoded data removed]",
      "text/plain": [
       "<Figure size 432x288 with 1 Axes>"
      ]
     },
     "metadata": {
      "needs_background": "light"
     },
     "output_type": "display_data"
    }
   ],
   "source": [
    "p_values = [(N[i]+1)/(R+1) for i in range(p)]\n",
    "plt.figure()\n",
    "plt.plot(p_values[:])\n",
    "plt.xlabel('k-th eigenvalue');\n",
    "plt.figure()\n",
    "plt.plot(p_values[:15])\n",
    "plt.xlabel('k-th eigenvalue');\n"
   ]
  },
  {
   "cell_type": "markdown",
   "id": "aec63728",
   "metadata": {},
   "source": [
    "Or, direct permutation on the cov matrix"
   ]
  },
  {
   "cell_type": "code",
   "execution_count": 86,
   "id": "818fbcf3",
   "metadata": {},
   "outputs": [
    {
     "data": {
      "image/png": "[encoded data removed]",
      "text/plain": [
       "<Figure size 432x288 with 1 Axes>"
      ]
     },
     "metadata": {
      "needs_background": "light"
     },
     "output_type": "display_data"
    }
   ],
   "source": [
    "# Or, direct permutation on the cov matrix\n",
    "R = 100\n",
    "N = np.zeros(p)\n",
    "for j in range(R):\n",
    "    cov_r = np.zeros(cov.shape)  # p*p\n",
    "    for i in range(p):  # each row\n",
    "        perm = np.random.permutation(p)  # a random permutation pi of the numbers [1 to p]\n",
    "        cov_r[i,:] = cov[i,perm]\n",
    "        \n",
    "    values_r, vectors_r = alg.eig(cov_r)\n",
    "    sort_des_id = np.argsort(values_r)[::-1]  # [::-1] is for reverse the whole array, then obtaining the descending indeces\n",
    "    eigenvalues_r = values_r[sort_des_id]\n",
    "    eigenvectors_r = vectors_r[sort_des_id]\n",
    "    \n",
    "    for i in range(p):\n",
    "        if eigenvalues[i] < eigenvalues_r[i]:\n",
    "            N[i] += 1\n",
    "            \n",
    "p_values = [(N[i]+1)/(R+1) for i in range(p)]\n",
    "plt.plot(p_values)\n",
    "plt.xlabel('k-th eigenvalue');"
   ]
  }
 ],
 "metadata": {
  "kernelspec": {
   "display_name": "Python 3",
   "language": "python",
   "name": "python3"
  },
  "language_info": {
   "codemirror_mode": {
    "name": "ipython",
    "version": 3
   },
   "file_extension": ".py",
   "mimetype": "text/x-python",
   "name": "python",
   "nbconvert_exporter": "python",
   "pygments_lexer": "ipython3",
   "version": "3.8.8"
  }
 },
 "nbformat": 4,
 "nbformat_minor": 5
}
