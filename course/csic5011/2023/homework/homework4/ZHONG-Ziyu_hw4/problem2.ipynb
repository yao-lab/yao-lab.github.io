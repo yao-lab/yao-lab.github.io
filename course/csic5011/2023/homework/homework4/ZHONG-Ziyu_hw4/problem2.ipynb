{
 "cells": [
  {
   "cell_type": "markdown",
   "id": "50d1b04a",
   "metadata": {},
   "source": [
    "**Author: ZHONG, Ziyu** &nbsp;&nbsp;&nbsp; **Student ID: 20923387 &nbsp;&nbsp;&nbsp; Date: 2023/03/07**"
   ]
  },
  {
   "cell_type": "markdown",
   "id": "a6d0f904",
   "metadata": {},
   "source": [
    "# Problem 2: Phase Transition in Compressed Sensing"
   ]
  },
  {
   "cell_type": "markdown",
   "id": "657d768c",
   "metadata": {},
   "source": [
    "Let $A\\in \\mathbb{R}^{n\\times d}$ be a Gaussian random matrix, i.e. $A_{ij}\\sim \\mathcal{N}(0,1)$. In the following experiments, fix $d = 20$. For each $n = 1,...,d$, and each $k = 1,...,d$, repeat the following procedure 50 times: "
   ]
  },
  {
   "cell_type": "markdown",
   "id": "64801e49",
   "metadata": {},
   "source": [
    "(a) Construct a sparse vector $x_0 \\in \\mathbb{R}^d$ with $k$ nonzero entries. The locations of the nonzero entries are selected at random and each nonzero equals $\\pm$ 1 with equal probability;\n",
    "\n",
    "(b) Draw a standard Gaussian random matrix $A\\in \\mathbb{R}^{n\\times d}$, and set $b = Ax_0$;\n",
    "\n",
    "(c) Solve the following linear programming problem to obtain an optimal point $\\hat{x}$,\n",
    "\n",
    "\\begin{equation}\n",
    "\\min_x\\quad \\lVert x \\rVert_1 \\\\\n",
    "s.t\\quad Ax=b\n",
    "\\end{equation}\n",
    "\n",
    "(d) Declare success if $\\lVert \\hat{x} - x_0 \\rVert \\leqslant 10^{-3}$;"
   ]
  },
  {
   "cell_type": "code",
   "execution_count": 1,
   "id": "9bb20111",
   "metadata": {},
   "outputs": [],
   "source": [
    "import numpy as np\n",
    "import cvxpy as cp\n",
    "import matplotlib.pyplot as plt"
   ]
  },
  {
   "cell_type": "code",
   "execution_count": 2,
   "id": "0f6982f8",
   "metadata": {},
   "outputs": [],
   "source": [
    "d = 20\n",
    "T = 50\n",
    "p = np.zeros([d,d]) # success probability matrix\n",
    "for n in range(1,d+1):\n",
    "    for k in range(1,d+1):\n",
    "        for _ in range(T):\n",
    "            # generate random data\n",
    "            x_0 = np.random.choice([-1.,1.],d)\n",
    "            x_0[np.random.choice(d,d-k,replace=False)] = 0\n",
    "            A = np.random.randn(n,d)\n",
    "            b = A @ x_0\n",
    "\n",
    "            # solve the problem\n",
    "            x = cp.Variable(d)\n",
    "            objective = cp.Minimize(cp.norm(x, 1))\n",
    "            constraints = [A @ x == b]\n",
    "            prob = cp.Problem(objective, constraints)\n",
    "            result = prob.solve()\n",
    "            p[n-1, k-1] += sum(abs(x.value-x_0))<1e-3\n",
    "p /= T"
   ]
  },
  {
   "cell_type": "markdown",
   "id": "fe8db6e4",
   "metadata": {},
   "source": [
    "Draw a figure with x-axis for k and y-axis for n, to visualize the success probability"
   ]
  },
  {
   "cell_type": "code",
   "execution_count": 3,
   "id": "e1a5a883",
   "metadata": {},
   "outputs": [
    {
     "data": {
      "image/png": "[encoded data removed]",
      "text/plain": [
       "<Figure size 640x480 with 2 Axes>"
      ]
     },
     "metadata": {},
     "output_type": "display_data"
    }
   ],
   "source": [
    "plt.imshow(p, origin='lower')\n",
    "plt.colorbar()\n",
    "plt.xlabel('k')\n",
    "plt.ylabel('n')\n",
    "plt.show()"
   ]
  },
  {
   "cell_type": "markdown",
   "id": "01f09ef2",
   "metadata": {},
   "source": [
    "Let $f(x) = \\lVert x \\rVert_1$, the descent cone $\\mathscr{D}(f,x_0)$ describe the cone formed from $\\{x: f(x)\\leqslant f(x_0)\\}$, which represents the feasible space of $\\min{f(x)}$.\n",
    "\n",
    "For $n$ equations in $Ax = b$, the null space almost surely has a statistical dimension $\\delta(\\mathscr{N}(A)) = d - n$, while the objective $\\min{f(x)}$ contributes a statistical dimension $\\delta(\\mathscr{D}(f,x_0))$. And by Approximate kinematic formula, when $\\delta(\\mathscr{N}(A)) + \\delta(\\mathscr{D}(f,x_0)) = d - n + \\delta(\\mathscr{D}(f,x_0)) \\approx d$, i.e. $\\delta(\\mathscr{D}(f,x_0)) \\approx n$, the phase transition takes place. And $\\delta(\\mathscr{D}(f,x_0)) > n + a_\\eta\\sqrt{d}$ will lead to $\\mathbb{P}\\{\\mathscr{D}(f,x_0)\\cap \\mathscr{N}(A) = \\{0\\}\\} \\leqslant \\eta$, i.e. succeeds with probability $\\leqslant \\eta$.\n",
    "\n",
    "Since the statistical dimension increases with the size of a cone, $\\delta(\\mathscr{D}(f,x_0))$ will be larger as $k$ increases, this explains the figure."
   ]
  }
 ],
 "metadata": {
  "kernelspec": {
   "display_name": "Python 3 (ipykernel)",
   "language": "python",
   "name": "python3"
  },
  "language_info": {
   "codemirror_mode": {
    "name": "ipython",
    "version": 3
   },
   "file_extension": ".py",
   "mimetype": "text/x-python",
   "name": "python",
   "nbconvert_exporter": "python",
   "pygments_lexer": "ipython3",
   "version": "3.10.4"
  }
 },
 "nbformat": 4,
 "nbformat_minor": 5
}
