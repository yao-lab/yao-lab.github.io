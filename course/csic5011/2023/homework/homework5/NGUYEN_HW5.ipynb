{
 "cells": [
  {
   "attachments": {},
   "cell_type": "markdown",
   "metadata": {},
   "source": [
    "# CSIC 5011 - HW5\n",
    "\n",
    "----\n",
    "### NGUYEN Huu Canh\n",
    "### SID: 20818623\n",
    "----"
   ]
  },
  {
   "attachments": {},
   "cell_type": "markdown",
   "metadata": {},
   "source": [
    "## Q1. RPCA"
   ]
  },
  {
   "cell_type": "code",
   "execution_count": 1,
   "metadata": {},
   "outputs": [
    {
     "name": "stdout",
     "output_type": "stream",
     "text": [
      "(CVXPY) Mar 13 02:00:28 PM: Encountered unexpected exception importing solver GLPK:\n",
      "ImportError(\"cannot import name 'glpk' from 'cvxopt' (/home/chris/anaconda3/envs/torch/lib/python3.11/site-packages/cvxopt/__init__.py)\")\n",
      "(CVXPY) Mar 13 02:00:28 PM: Encountered unexpected exception importing solver GLPK_MI:\n",
      "ImportError(\"cannot import name 'glpk' from 'cvxopt' (/home/chris/anaconda3/envs/torch/lib/python3.11/site-packages/cvxopt/__init__.py)\")\n"
     ]
    }
   ],
   "source": [
    "import numpy as np\n",
    "import cvxpy as cp\n",
    "import matplotlib.pyplot as plt"
   ]
  },
  {
   "attachments": {},
   "cell_type": "markdown",
   "metadata": {},
   "source": [
    "#### a. Implementation in CXV"
   ]
  },
  {
   "cell_type": "code",
   "execution_count": 2,
   "metadata": {},
   "outputs": [],
   "source": [
    "m = n = 20\n",
    "r = 1\n",
    "p = 0.1\n",
    "\n",
    "A = np.random.normal(size=(m,n))\n",
    "u, s, vh = np.linalg.svd(A, full_matrices=False)\n",
    "L0=0\n",
    "for i in range(r):\n",
    "    L0 += np.expand_dims(vh[:,i], axis=1)@np.expand_dims(vh[:,i], axis=0)\n",
    "\n",
    "S0 = np.where(np.random.random(size=(m, n))>(1-p), 1, 0)\n",
    "M = L0+S0"
   ]
  },
  {
   "cell_type": "code",
   "execution_count": 3,
   "metadata": {},
   "outputs": [
    {
     "name": "stdout",
     "output_type": "stream",
     "text": [
      "|S-S0| 0.00017279956838164328\n",
      "|L-L0| 0.0002499818773407146\n"
     ]
    }
   ],
   "source": [
    "ld = 0.25\n",
    "L = cp.Variable((m, n))\n",
    "S = cp.Variable((m, n))\n",
    "W1 = cp.Variable((m, n))\n",
    "W2 = cp.Variable((m, n))\n",
    "objective = cp.Minimize(0.5*(cp.trace(W1)+cp.trace(W2)) + ld*cp.sum(cp.abs(S)))\n",
    "constraints = [L+S>=M-1e-5, L+S<=M+1e-5, cp.bmat([[W1, L],[L.T, W2]]) >> 0]\n",
    "problem = cp.Problem(objective, constraints)\n",
    "problem.solve()\n",
    "\n",
    "print(\"|S-S0|\", np.linalg.norm(S0-S.value))\n",
    "print(\"|L-L0|\", np.linalg.norm(L0-L.value))"
   ]
  },
  {
   "attachments": {},
   "cell_type": "markdown",
   "metadata": {},
   "source": [
    "#### b. *p* varies"
   ]
  },
  {
   "cell_type": "code",
   "execution_count": 4,
   "metadata": {},
   "outputs": [],
   "source": [
    "number_p = 21\n",
    "trials = 50\n",
    "\n",
    "success = np.zeros(number_p)\n",
    "\n",
    "m = n = 20\n",
    "r = 1\n",
    "for p_i, p in enumerate(np.linspace(0,1,number_p)):\n",
    "    success_count=0\n",
    "    for _ in range(trials):\n",
    "        # Set up\n",
    "        A = np.random.normal(size=(m,n))\n",
    "        u, s, vh = np.linalg.svd(A, full_matrices=False)\n",
    "        L0=0\n",
    "        for i in range(r):\n",
    "            L0 += np.expand_dims(vh[:,i], axis=1)@np.expand_dims(vh[:,i], axis=0)\n",
    "        S0 = np.where(np.random.random(size=(m, n))>(1-p), 1, 0)\n",
    "        M = L0+S0\n",
    "\n",
    "        # Solve\n",
    "        L = cp.Variable((m, n))\n",
    "        S = cp.Variable((m, n))\n",
    "        W1 = cp.Variable((m, m))\n",
    "        W2 = cp.Variable((n, n))\n",
    "        objective = cp.Minimize(0.5*(cp.trace(W1)+cp.trace(W2)) + ld*cp.sum(cp.abs(S)))\n",
    "        constraints = [L+S>=M-1e-5, L+S<=M+1e-5, cp.bmat([[W1, L],[L.T, W2]]) >> 0]\n",
    "        problem = cp.Problem(objective, constraints)\n",
    "        problem.solve()\n",
    "\n",
    "        if problem.status not in [\"infeasible\", \"unbounded\"]:\n",
    "            if np.linalg.norm(S0-S.value, ord=2) <= 1e-3:\n",
    "                success_count+=1\n",
    "    \n",
    "    success[p_i] = success_count/trials"
   ]
  },
  {
   "cell_type": "code",
   "execution_count": 5,
   "metadata": {},
   "outputs": [
    {
     "data": {
      "image/png": "[encoded data removed]",
      "text/plain": [
       "<Figure size 640x480 with 1 Axes>"
      ]
     },
     "metadata": {},
     "output_type": "display_data"
    }
   ],
   "source": [
    "plt.plot(np.linspace(0,1,number_p), success)\n",
    "plt.xlabel(\"p: percentage of nonzero entries\")\n",
    "plt.ylabel(\"Probability of successful recovery\")\n",
    "plt.show()"
   ]
  },
  {
   "attachments": {},
   "cell_type": "markdown",
   "metadata": {},
   "source": [
    "#### c. *r* varies"
   ]
  },
  {
   "cell_type": "code",
   "execution_count": 6,
   "metadata": {},
   "outputs": [],
   "source": [
    "trials = 50\n",
    "success = np.zeros(min(m,n))\n",
    "\n",
    "m = n = 20\n",
    "p = 0.1\n",
    "for r_i, r in enumerate(range(min(m,n))):\n",
    "    success_count=0\n",
    "    for _ in range(trials):\n",
    "        # Set up\n",
    "        A = np.random.normal(size=(m,n))\n",
    "        u, s, vh = np.linalg.svd(A, full_matrices=False)\n",
    "        L0=0\n",
    "        for i in range(r):\n",
    "            L0 += np.expand_dims(vh[:,i], axis=1)@np.expand_dims(vh[:,i], axis=0)\n",
    "        S0 = np.where(np.random.random(size=(m, n))>(1-p), 1, 0)\n",
    "        M = L0+S0\n",
    "\n",
    "        # Solve\n",
    "        L = cp.Variable((m, n))\n",
    "        S = cp.Variable((m, n))\n",
    "        W1 = cp.Variable((m, m))\n",
    "        W2 = cp.Variable((n, n))\n",
    "        objective = cp.Minimize(0.5*(cp.trace(W1)+cp.trace(W2)) + ld*cp.sum(cp.abs(S)))\n",
    "        constraints = [L+S>=M-1e-5, L+S<=M+1e-5, cp.bmat([[W1, L],[L.T, W2]]) >> 0]\n",
    "        problem = cp.Problem(objective, constraints)\n",
    "        problem.solve()\n",
    "\n",
    "        if problem.status not in [\"infeasible\", \"unbounded\"]:\n",
    "            if np.linalg.norm(S0-S.value, ord=2) <= 1e-3:\n",
    "                success_count+=1\n",
    "    \n",
    "    success[r_i] = success_count/trials"
   ]
  },
  {
   "cell_type": "code",
   "execution_count": 7,
   "metadata": {},
   "outputs": [
    {
     "data": {
      "image/png": "[encoded data removed]",
      "text/plain": [
       "<Figure size 640x480 with 1 Axes>"
      ]
     },
     "metadata": {},
     "output_type": "display_data"
    }
   ],
   "source": [
    "plt.plot(range(min(m,n)), success)\n",
    "plt.xlabel(\"r: rank of A\")\n",
    "plt.xticks(list(range(min(m,n))))\n",
    "plt.ylabel(\"Probability of successful recovery\")\n",
    "plt.show()"
   ]
  },
  {
   "attachments": {},
   "cell_type": "markdown",
   "metadata": {},
   "source": [
    "## Q2. SPCA"
   ]
  },
  {
   "attachments": {},
   "cell_type": "markdown",
   "metadata": {},
   "source": [
    "#### a. Covariance matrix"
   ]
  },
  {
   "attachments": {},
   "cell_type": "markdown",
   "metadata": {},
   "source": [
    "$$\n",
    "\\begin{bmatrix}\n",
    "290 & 290 & 290 & 290 & 0 & 0 & 0 & 0 & -87 & -87 \\\\\n",
    "290 & 290 & 290 & 290 & 0 & 0 & 0 & 0 & -87 & -87 \\\\\n",
    "290 & 290 & 290 & 290 & 0 & 0 & 0 & 0 & -87 & -87 \\\\\n",
    "290 & 290 & 290 & 290 & 0 & 0 & 0 & 0 & -87 & -87 \\\\\n",
    "0 & 0 & 0 & 0 & 300 & 300 & 300 & 300 & 277.5 & 277.5 \\\\\n",
    "0 & 0 & 0 & 0 & 300 & 300 & 300 & 300 & 277.5 & 277.5 \\\\\n",
    "0 & 0 & 0 & 0 & 300 & 300 & 300 & 300 & 277.5 & 277.5 \\\\\n",
    "0 & 0 & 0 & 0 & 300 & 300 & 300 & 300 & 277.5 & 277.5 \\\\\n",
    "-87 & -87 & -87 & -87 & 277.5 & 277.5 & 277.5 & 277.5 & 282.7875 & 282.7875\\\\\n",
    "-87 & -87 & -87 & -87 & 277.5 & 277.5 & 277.5 & 277.5 & 282.7875 & 282.7875\\\\\n",
    "\\end{bmatrix}\n",
    "$$"
   ]
  },
  {
   "cell_type": "code",
   "execution_count": 8,
   "metadata": {},
   "outputs": [
    {
     "name": "stdout",
     "output_type": "stream",
     "text": [
      "[[302.75836544 301.89415254 301.41742391 301.74892064  -9.73138081\n",
      "   -9.54650078 -10.16493247 -10.09295544 -99.38875158 -99.74123841]\n",
      " [301.89415254 303.04610141 301.58087443 301.87612444  -9.83659429\n",
      "   -9.70225675 -10.26956841 -10.18426118 -99.52348165 -99.92510622]\n",
      " [301.41742391 301.58087443 302.11342654 301.37092302  -9.90982004\n",
      "   -9.79104213 -10.45286232 -10.27219994 -99.44260746 -99.90991261]\n",
      " [301.74892064 301.87612444 301.37092302 302.77260992  -9.50819867\n",
      "   -9.3327646   -9.97117807  -9.87816177 -99.12255716 -99.56165366]\n",
      " [ -9.73138081  -9.83659429  -9.90982004  -9.50819867 310.6872715\n",
      "  309.12354979 309.56665562 309.46761842 288.42112681 289.09474328]\n",
      " [ -9.54650078  -9.70225675  -9.79104213  -9.3327646  309.12354979\n",
      "  309.61306751 309.02899733 308.96481882 287.82211173 288.53757452]\n",
      " [-10.16493247 -10.26956841 -10.45286232  -9.97117807 309.56665562\n",
      "  309.02899733 310.36974699 309.36858125 288.41512604 289.10992912]\n",
      " [-10.09295544 -10.18426118 -10.27219994  -9.87816177 309.46761842\n",
      "  308.96481882 309.36858125 310.3016871  288.32690709 289.01780039]\n",
      " [-99.38875158 -99.52348165 -99.44260746 -99.12255716 288.42112681\n",
      "  287.82211173 288.41512604 288.32690709 296.66354028 296.40990667]\n",
      " [-99.74123841 -99.92510622 -99.90991261 -99.56165366 289.09474328\n",
      "  288.53757452 289.10992912 289.01780039 296.40990667 298.17599244]]\n"
     ]
    }
   ],
   "source": [
    "n_samples = 2000\n",
    "obs = np.zeros((n_samples, 10))\n",
    "for s in range(n_samples):\n",
    "    v1 = np.random.normal(0,np.sqrt(290))\n",
    "    v2 = np.random.normal(0,np.sqrt(300))\n",
    "    v3 = -0.3*v1+0.925*v2\n",
    "    for i in range(4):\n",
    "        obs[s, i] = v1 + np.random.normal(0,1)\n",
    "    \n",
    "    for i in range(4, 8):  \n",
    "        obs[s, i] = v2 + np.random.normal(0,1)\n",
    "\n",
    "    for i in range(8, 10):  \n",
    "        obs[s, i] = v3 + np.random.normal(0,1)\n",
    "\n",
    "cov_matrix = np.cov(obs.transpose())\n",
    "print(cov_matrix)"
   ]
  },
  {
   "attachments": {},
   "cell_type": "markdown",
   "metadata": {},
   "source": [
    "The variance of the three underlying factors is 290, 300, and 283.8, respectively. The numbers of variables associated with the three factors are 4, 4, and 2. Therefore V2 and\n",
    "V1 are almost equally important, and they are much more important than V3. These facts suggest that we only need to consider two derived variables with “correct” sparse representations."
   ]
  },
  {
   "attachments": {},
   "cell_type": "markdown",
   "metadata": {},
   "source": [
    "#### b. Principle components"
   ]
  },
  {
   "cell_type": "code",
   "execution_count": 9,
   "metadata": {},
   "outputs": [
    {
     "data": {
      "text/plain": [
       "array([[-0.11574657, -0.47850213, -0.84893429, -0.13963389],\n",
       "       [-0.11574657, -0.47850213,  0.44835403, -0.41680183],\n",
       "       [-0.11574657, -0.47850213,  0.16448031,  0.64064058],\n",
       "       [-0.11574657, -0.47850213,  0.20234741, -0.11138572],\n",
       "       [ 0.39546361, -0.14488009,  0.00830987,  0.32839749],\n",
       "       [ 0.39546361, -0.14488009,  0.00830987,  0.32839749],\n",
       "       [ 0.39546361, -0.14488009,  0.0437253 , -0.28649365],\n",
       "       [ 0.39546361, -0.14488009,  0.0437253 , -0.28649365],\n",
       "       [ 0.40052781,  0.00953655, -0.05625424, -0.04530145],\n",
       "       [ 0.40052781,  0.00953655, -0.05625424, -0.04530145]])"
      ]
     },
     "execution_count": 9,
     "metadata": {},
     "output_type": "execute_result"
    }
   ],
   "source": [
    "cov_matrix = [[290,290,290,290,0,0,0,0,-87,-87],\n",
    "              [290,290,290,290,0,0,0,0,-87,-87],\n",
    "              [290,290,290,290,0,0,0,0,-87,-87],\n",
    "              [290,290,290,290,0,0,0,0,-87,-87],\n",
    "              [0,0,0,0,300,300,300,300,277.5,277.5],\n",
    "              [0,0,0,0,300,300,300,300,277.5,277.5],\n",
    "              [0,0,0,0,300,300,300,300,277.5,277.5],\n",
    "              [0,0,0,0,300,300,300,300,277.5,277.5],\n",
    "              [-87,-87,-87,-87,277.5,277.5,277.5,277.5,282.7875,282.7875],\n",
    "              [-87,-87,-87,-87,277.5,277.5,277.5,277.5,282.7875,282.7875]\n",
    "              ]\n",
    "\n",
    "u, s, vh = np.linalg.svd(cov_matrix, hermitian=True)\n",
    "u[:,:4]\n"
   ]
  },
  {
   "attachments": {},
   "cell_type": "markdown",
   "metadata": {},
   "source": [
    "#### c. SDP problem"
   ]
  },
  {
   "cell_type": "code",
   "execution_count": 10,
   "metadata": {},
   "outputs": [
    {
     "name": "stdout",
     "output_type": "stream",
     "text": [
      "First component from Sparse PCA\n",
      " [-1.24336696e-06 -1.24336703e-06 -1.24336708e-06 -1.24336724e-06\n",
      " -5.00000000e-01 -5.00000000e-01 -5.00000000e-01 -5.00000000e-01\n",
      "  2.64208697e-05  2.64208662e-05]\n"
     ]
    }
   ],
   "source": [
    "ld = 0.0\n",
    "X = cp.Variable((10, 10), PSD=True)\n",
    "objective = cp.Maximize(cp.trace(cov_matrix@X) - ld*cp.sum(cp.abs(X)))\n",
    "constraints = [cp.trace(X) == 1, cp.sum(cp.abs(X)) <= 4]\n",
    "problem = cp.Problem(objective, constraints)\n",
    "problem.solve()\n",
    "\n",
    "w,v = np.linalg.eig(X.value)\n",
    "x1=v[:,0]\n",
    "print(\"First component from Sparse PCA\\n\", x1)"
   ]
  },
  {
   "attachments": {},
   "cell_type": "markdown",
   "metadata": {},
   "source": [
    "This is similar to the result of the papers *Sparse Principal Component Analysis* and *A Direct Formulation for Sparse PCA Using Semidefinite Programming*.\n",
    "\n",
    "Unlike normal PCA, the first component from SPCA explains only 40.9% of the total variance. "
   ]
  },
  {
   "attachments": {},
   "cell_type": "markdown",
   "metadata": {},
   "source": [
    "#### d. Remove first and second sparse PCA"
   ]
  },
  {
   "cell_type": "code",
   "execution_count": 11,
   "metadata": {},
   "outputs": [
    {
     "name": "stdout",
     "output_type": "stream",
     "text": [
      "Second component from Sparse PCA\n",
      " [ 5.00000000e-01  5.00000000e-01  5.00000000e-01  5.00000000e-01\n",
      " -7.68196505e-09 -7.68197843e-09 -7.68197012e-09 -7.68195184e-09\n",
      "  4.56451038e-10  4.56233743e-10]\n"
     ]
    }
   ],
   "source": [
    "cov_matrix_1_remove = cov_matrix - (np.expand_dims(x1, axis=0)@cov_matrix@np.expand_dims(x1, axis=1))*np.expand_dims(x1, axis=1)@np.expand_dims(x1, axis=0)\n",
    "X = cp.Variable((10, 10), PSD=True)\n",
    "objective = cp.Maximize(cp.trace(cov_matrix_1_remove@X) - ld*cp.sum(cp.abs(X)))\n",
    "constraints = [cp.trace(X) == 1, cp.sum(cp.abs(X)) <= 4]\n",
    "problem = cp.Problem(objective, constraints)\n",
    "problem.solve()\n",
    "\n",
    "w,v = np.linalg.eig(X.value)\n",
    "x1=v[:,0]\n",
    "print(\"Second component from Sparse PCA\\n\", x1)"
   ]
  },
  {
   "attachments": {},
   "cell_type": "markdown",
   "metadata": {},
   "source": [
    "Not surprisingly, this result is again equal to the ones of the two above-mentioned papers. \n",
    "\n",
    "Although the first component obtained from SPCA explains less variance than from PCA, the second component from SPCA explains much higher than from PCA. In total, the first two components from SPCA explains 80.4%, but they do show the “correct” sparse representations."
   ]
  },
  {
   "attachments": {},
   "cell_type": "markdown",
   "metadata": {},
   "source": [
    "After the first removal of X, applying SDP on the new covariance matrix yields the first column of X equal to the second eigenvector. "
   ]
  },
  {
   "cell_type": "code",
   "execution_count": 12,
   "metadata": {},
   "outputs": [
    {
     "name": "stdout",
     "output_type": "stream",
     "text": [
      "Third component from Sparse PCA\n",
      " [2.54601170e-05 2.54601169e-05 2.54601168e-05 2.54601169e-05\n",
      " 1.61004116e-01 1.61004116e-01 1.61004116e-01 1.61004116e-01\n",
      " 6.69444059e-01 6.69444059e-01]\n"
     ]
    }
   ],
   "source": [
    "cov_matrix_2_remove = cov_matrix_1_remove - (np.expand_dims(x1, axis=0)@cov_matrix_1_remove@np.expand_dims(x1, axis=1))*np.expand_dims(x1, axis=1)@np.expand_dims(x1, axis=0)\n",
    "X = cp.Variable((10, 10), PSD=True)\n",
    "objective = cp.Maximize(cp.trace(cov_matrix_2_remove@X) - ld*cp.sum(cp.abs(X)))\n",
    "constraints = [cp.trace(X) == 1, cp.sum(cp.abs(X)) <= 4]\n",
    "problem = cp.Problem(objective, constraints)\n",
    "problem.solve()\n",
    "\n",
    "w,v = np.linalg.eig(X.value)\n",
    "x1=v[:,0]\n",
    "print(\"Third component from Sparse PCA\\n\", x1)"
   ]
  },
  {
   "attachments": {},
   "cell_type": "markdown",
   "metadata": {},
   "source": [
    "The third component mainly concentrates on (V_9, V_10)"
   ]
  },
  {
   "attachments": {},
   "cell_type": "markdown",
   "metadata": {},
   "source": [
    "#### e. Third and Fourth removal"
   ]
  },
  {
   "cell_type": "code",
   "execution_count": 13,
   "metadata": {},
   "outputs": [
    {
     "name": "stdout",
     "output_type": "stream",
     "text": [
      "Fourth component from Sparse PCA\n",
      " [-1.96097155e-06 -1.96097166e-06 -1.96097146e-06 -1.96097147e-06\n",
      "  3.82269722e-01  3.82270032e-01  3.82269823e-01  3.82269946e-01\n",
      "  4.55784379e-01  4.55784546e-01]\n"
     ]
    }
   ],
   "source": [
    "cov_matrix_3_remove = cov_matrix_2_remove -  (np.expand_dims(x1, axis=0)@cov_matrix_2_remove@np.expand_dims(x1, axis=1))*np.expand_dims(x1, axis=1)@np.expand_dims(x1, axis=0)\n",
    "X = cp.Variable((10, 10), PSD=True)\n",
    "objective = cp.Maximize(cp.trace(cov_matrix_3_remove@X) - ld*cp.sum(cp.abs(X)))\n",
    "constraints = [cp.trace(X) == 1, cp.sum(cp.abs(X)) <= 4]\n",
    "problem = cp.Problem(objective, constraints)\n",
    "problem.solve()\n",
    "\n",
    "w,v = np.linalg.eig(X.value)\n",
    "x1=v[:,0]\n",
    "print(\"Fourth component from Sparse PCA\\n\", x1)"
   ]
  },
  {
   "cell_type": "code",
   "execution_count": 14,
   "metadata": {},
   "outputs": [
    {
     "name": "stdout",
     "output_type": "stream",
     "text": [
      "Fifth component from Sparse PCA\n",
      " [ 0.44013043  0.44013071  0.44013088  0.44013253 -0.08117651 -0.08039652\n",
      " -0.08092204 -0.08061237 -0.32771001 -0.30272845]\n"
     ]
    }
   ],
   "source": [
    "cov_matrix_4_remove = cov_matrix_3_remove - (np.expand_dims(x1, axis=0)@cov_matrix_3_remove@np.expand_dims(x1, axis=1))*np.expand_dims(x1, axis=1)@np.expand_dims(x1, axis=0)\n",
    "X = cp.Variable((10, 10), PSD=True)\n",
    "objective = cp.Maximize(cp.trace(cov_matrix_4_remove@X) - ld*cp.sum(cp.abs(X)))\n",
    "constraints = [cp.trace(X) == 1, cp.sum(cp.abs(X)) <= 4]\n",
    "problem = cp.Problem(objective, constraints)\n",
    "problem.solve()\n",
    "\n",
    "w,v = np.linalg.eig(X.value)\n",
    "x1=v[:,0]\n",
    "print(\"Fifth component from Sparse PCA\\n\", x1)"
   ]
  }
 ],
 "metadata": {
  "kernelspec": {
   "display_name": "torch",
   "language": "python",
   "name": "python3"
  },
  "language_info": {
   "codemirror_mode": {
    "name": "ipython",
    "version": 3
   },
   "file_extension": ".py",
   "mimetype": "text/x-python",
   "name": "python",
   "nbconvert_exporter": "python",
   "pygments_lexer": "ipython3",
   "version": "3.11.0"
  },
  "orig_nbformat": 4
 },
 "nbformat": 4,
 "nbformat_minor": 2
}
