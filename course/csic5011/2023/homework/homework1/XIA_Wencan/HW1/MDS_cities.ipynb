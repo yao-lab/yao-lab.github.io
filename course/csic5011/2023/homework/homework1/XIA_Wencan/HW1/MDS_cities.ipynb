{
 "cells": [
  {
   "cell_type": "code",
   "execution_count": 1,
   "id": "e9546ef7",
   "metadata": {},
   "outputs": [],
   "source": [
    "import numpy as np\n",
    "import pandas as pd\n",
    "import numpy.linalg as alg\n",
    "import scipy as sp\n",
    "import matplotlib.pyplot as plt"
   ]
  },
  {
   "cell_type": "markdown",
   "id": "c373739b",
   "metadata": {},
   "source": [
    "## (a) Data collection"
   ]
  },
  {
   "cell_type": "code",
   "execution_count": 2,
   "id": "4ba69d4e",
   "metadata": {},
   "outputs": [
    {
     "name": "stdout",
     "output_type": "stream",
     "text": [
      "   Beijing  Shanghai  Guangzhou  Hongkong  Chengdu   London  Bangkok\n",
      "0     0.00   1068.00    1890.00   1974.00  1516.00  8138.09  3297.79\n",
      "1  1068.00      0.00    1206.63   1227.83  1658.00  9196.34  2886.89\n",
      "2  1890.00   1206.63       0.00    129.07  1238.00  9497.75  1702.96\n",
      "3  1974.00   1227.83     129.07      0.00  1369.30  9626.00  1725.68\n",
      "4  1516.00   1658.00    1238.00   1369.30     0.00  8279.42  1916.29\n",
      "5  8138.09   9196.34    9497.75   9626.00  8279.42     0.00  9532.18\n",
      "6  3297.79   2886.89    1702.96   1725.68  1916.29  9532.18     0.00\n"
     ]
    }
   ],
   "source": [
    "data = pd.read_csv(r'C:\\Users\\kosta\\Jupyter Notes\\MATH5473\\HW1\\distance2.csv')\n",
    "Data = np.array(data)\n",
    "n = len(Data)\n",
    "cities = np.array(data.columns)\n",
    "print(data)"
   ]
  },
  {
   "cell_type": "markdown",
   "id": "63e86695",
   "metadata": {},
   "source": [
    "## (b) MDS"
   ]
  },
  {
   "cell_type": "code",
   "execution_count": 3,
   "id": "a59e8ac0",
   "metadata": {},
   "outputs": [],
   "source": [
    "def mds(D, dim=[]):\n",
    "    H = -np.ones((n, n))/n\n",
    "    H = -H.dot(D ** 2).dot(H)/2\n",
    "    evals, evecs = alg.eigh(H)\n",
    "\n",
    "    # Sort by eigenvalu in descending order\n",
    "    idx = np.argsort(evals)[::-1]\n",
    "    evals = evals[idx]\n",
    "    evecs = evecs[:, idx]\n",
    "\n",
    "    #Compute the coordinates using positive eigenvalued components only\n",
    "    w, = np.where(evals > 0)\n",
    "    if dim!=[]:\n",
    "        arr = evals\n",
    "        w = arr.argsort()[-dim:][::-1]\n",
    "    if np.any(evals[w]<0):\n",
    "        print('Error: Not enough positive eigenvalues for the selected dim.')\n",
    "        return []\n",
    "    L = np.diag(np.sqrt(evals[w]))\n",
    "    V = evecs[:, w]\n",
    "    Y = V.dot(L)\n",
    "    return Y, evals, evecs"
   ]
  },
  {
   "cell_type": "markdown",
   "id": "d40684f0",
   "metadata": {},
   "source": [
    "## (c) Eigenvalue Plot"
   ]
  },
  {
   "cell_type": "code",
   "execution_count": 8,
   "id": "06f3d1cc",
   "metadata": {},
   "outputs": [
    {
     "name": "stdout",
     "output_type": "stream",
     "text": [
      "Normed Eigenvalues are:\n",
      " [-1.20307317e-16 -2.31402840e-32  6.58540852e-65  1.05450821e-48\n",
      "  4.44077060e-33  2.40614633e-17  1.00000000e+00]\n"
     ]
    },
    {
     "data": {
      "image/png": "[encoded data removed]",
      "text/plain": [
       "<Figure size 432x288 with 1 Axes>"
      ]
     },
     "metadata": {
      "needs_background": "light"
     },
     "output_type": "display_data"
    }
   ],
   "source": [
    "X2, eigen_values, eigen_vectors = mds(Data, dim=2)\n",
    "\n",
    "normed_eigen_values = eigen_values/np.sum(eigen_values)\n",
    "print(\"Normed Eigenvalues are:\\n\", normed_eigen_values)\n",
    "\n",
    "plt.figure()\n",
    "plt.plot([n-1-i for i in range(n)], normed_eigen_values)\n",
    "plt.show()"
   ]
  },
  {
   "cell_type": "markdown",
   "id": "573b3cd2",
   "metadata": {},
   "source": [
    "## (d) Scatter Plot"
   ]
  },
  {
   "cell_type": "code",
   "execution_count": 9,
   "id": "bee37e0f",
   "metadata": {},
   "outputs": [
    {
     "data": {
      "image/png": "[encoded data removed]",
      "text/plain": [
       "<Figure size 432x288 with 1 Axes>"
      ]
     },
     "metadata": {
      "needs_background": "light"
     },
     "output_type": "display_data"
    }
   ],
   "source": [
    "plt.figure()\n",
    "for i in range(n):\n",
    "    plt.scatter(X2[i, 0], X2[i, 1], alpha=.8, label=cities[i])\n",
    "plt.legend()\n",
    "plt.title('MDS of City dataset')\n",
    "plt.show()"
   ]
  },
  {
   "cell_type": "markdown",
   "id": "badcf3d0",
   "metadata": {},
   "source": [
    "The graph basically reflect the position relationship: Bangkok is west of most cities. London is far away from those cities, so the scatter hasn't show up."
   ]
  },
  {
   "cell_type": "code",
   "execution_count": null,
   "id": "4e5b6906",
   "metadata": {},
   "outputs": [],
   "source": []
  }
 ],
 "metadata": {
  "kernelspec": {
   "display_name": "Python 3 (ipykernel)",
   "language": "python",
   "name": "python3"
  },
  "language_info": {
   "codemirror_mode": {
    "name": "ipython",
    "version": 3
   },
   "file_extension": ".py",
   "mimetype": "text/x-python",
   "name": "python",
   "nbconvert_exporter": "python",
   "pygments_lexer": "ipython3",
   "version": "3.9.12"
  }
 },
 "nbformat": 4,
 "nbformat_minor": 5
}
