{
 "cells": [
  {
   "cell_type": "markdown",
   "id": "73f6033b",
   "metadata": {},
   "source": [
    "# Homework 7\n",
    "\n",
    "### NGUYEN, Huu Canh\n",
    "### SID: 20818623"
   ]
  },
  {
   "cell_type": "markdown",
   "id": "ee5341ab",
   "metadata": {},
   "source": [
    "## Q1. PageRank"
   ]
  },
  {
   "cell_type": "code",
   "execution_count": 1,
   "id": "024b9aa5",
   "metadata": {},
   "outputs": [],
   "source": [
    "import scipy.io\n",
    "import numpy as np\n",
    "import matplotlib.pyplot as plt\n",
    "\n",
    "mat = scipy.io.loadmat('univ_cn.mat')\n",
    "W = mat['W_cn']\n",
    "webpage = np.array([web[0] for web in mat['univ_cn'][0]])\n",
    "rank = mat['rank_cn'].reshape(-1)"
   ]
  },
  {
   "cell_type": "markdown",
   "id": "957e3ea8",
   "metadata": {},
   "source": [
    "### a. PageRank"
   ]
  },
  {
   "cell_type": "code",
   "execution_count": 2,
   "id": "54c93366",
   "metadata": {},
   "outputs": [
    {
     "name": "stdout",
     "output_type": "stream",
     "text": [
      "Top 5 universities by PageRank\n",
      "['tsinghua.edu.cn' 'pku.edu.cn' 'sjtu.edu.cn' 'nju.edu.cn' 'uestc.edu.cn']\n"
     ]
    }
   ],
   "source": [
    "# Compute the row-normalized transition matrix T\n",
    "D = W.sum(axis=1)\n",
    "mask = D == 0\n",
    "D_inv = np.zeros(D.shape)\n",
    "D_inv[~mask] = 1/D[~mask]\n",
    "T = np.diag(D_inv) @ W\n",
    "T[:,mask] = 0\n",
    "\n",
    "# Set the hyperparameters alpha\n",
    "alpha = 0.85\n",
    "\n",
    "# Compute the PageRank scores for each alpha\n",
    "score_page = np.zeros(W.shape[0])\n",
    "\n",
    "T1 = alpha * T + (1 - alpha) * np.ones(W.shape) / W.shape[0]\n",
    "evals, evecs = np.linalg.eig(T1.T)\n",
    "evec = evecs[:, np.argmax(evals)]\n",
    "score_page = evec / np.sum(evec)\n",
    "\n",
    "# Print the top 5 universities by PageRank score with alpha=0.85\n",
    "pagerank = np.argsort(score_page)[::-1]\n",
    "print('Top 5 universities by PageRank')\n",
    "print(webpage[pagerank[:5]])"
   ]
  },
  {
   "cell_type": "markdown",
   "id": "d0750e60",
   "metadata": {},
   "source": [
    "### b. HITS"
   ]
  },
  {
   "cell_type": "code",
   "execution_count": 3,
   "id": "d9cb6308",
   "metadata": {},
   "outputs": [
    {
     "name": "stdout",
     "output_type": "stream",
     "text": [
      "Top 5 universities by relative hub ranking\n",
      "['pku.edu.cn' 'ustc.edu.cn' 'zsu.edu.cn' 'njau.edu.cn' 'sjtu.edu.cn']\n",
      "Top 5 universities by relative authority ranking\n",
      "['tsinghua.edu.cn' 'pku.edu.cn' 'uestc.edu.cn' 'sjtu.edu.cn' 'nju.edu.cn']\n",
      "HITS top 5 universities by hub ranking\n",
      "['pku.edu.cn' 'ustc.edu.cn' 'zsu.edu.cn' 'sjtu.edu.cn' 'zju.edu.cn']\n",
      "HITS top 5 universities by authority ranking\n",
      "['tsinghua.edu.cn' 'pku.edu.cn' 'uestc.edu.cn' 'sjtu.edu.cn' 'nju.edu.cn']\n"
     ]
    }
   ],
   "source": [
    "# Compute the out-degree and in-degree scores\n",
    "score_out = D\n",
    "score_in = W.sum(axis=0)\n",
    "\n",
    "# Print the top 5 universities by out-degree score (hub ranking)\n",
    "idx = np.argsort(score_out)[::-1]\n",
    "print('Top 5 universities by relative hub ranking')\n",
    "print(webpage[idx[:5]])\n",
    "\n",
    "# Print the top 5 universities by in-degree score (authority ranking)\n",
    "idx = np.argsort(score_in)[::-1]\n",
    "print('Top 5 universities by relative authority ranking')\n",
    "print(webpage[idx[:5]])\n",
    "\n",
    "# Compute the HITS rank\n",
    "u, s, vt = np.linalg.svd(W)\n",
    "u1 = u[:, 0] / np.sum(u[:, 0])\n",
    "v1 = vt[0, :] / np.sum(vt[0, :])\n",
    "\n",
    "# Print the top 5 universities by hub ranking\n",
    "hits_hub = np.argsort(u1)[::-1]\n",
    "print('HITS top 5 universities by hub ranking')\n",
    "print(webpage[hits_hub[:5]])\n",
    "\n",
    "# Print the top 5 universities by authority ranking\n",
    "hits_aut = np.argsort(v1)[::-1]\n",
    "print('HITS top 5 universities by authority ranking')\n",
    "print(webpage[hits_aut[:5]])"
   ]
  },
  {
   "cell_type": "markdown",
   "id": "0730d27e",
   "metadata": {},
   "source": [
    "### c. Compare"
   ]
  },
  {
   "cell_type": "code",
   "execution_count": 4,
   "id": "ee7a3285",
   "metadata": {},
   "outputs": [
    {
     "name": "stdout",
     "output_type": "stream",
     "text": [
      "Distance of PageRank:               0.24105263157894738\n",
      "Distance of HITS hub ranking:       0.3003508771929825\n",
      "Distance of HITS authority ranking: 0.2063157894736842\n"
     ]
    }
   ],
   "source": [
    "def kendall(r1, r2):\n",
    "    # Define the number of pairwise disagreements\n",
    "    disagreements = 0\n",
    "    for i in range(len(r1)):\n",
    "        for j in range(i + 1, len(r1)):\n",
    "            if (r1[i] < r1[j] and r2[i] > r2[j]) or (r1[i] > r1[j] and r2[i] < r2[j]):\n",
    "                disagreements += 1\n",
    "\n",
    "    # Compute the total number of pairwise comparisons\n",
    "    n = len(r1)\n",
    "    total_comparisons = n * (n - 1) / 2\n",
    "\n",
    "    # Compute the Kendall distance\n",
    "    kendall_distance = disagreements / total_comparisons\n",
    "    return kendall_distance\n",
    "\n",
    "print(f'Distance of PageRank:               {kendall(pagerank, rank)}')\n",
    "print(f'Distance of HITS hub ranking:       {kendall(hits_hub, rank)}')\n",
    "print(f'Distance of HITS authority ranking: {kendall(hits_aut, rank)}')"
   ]
  },
  {
   "cell_type": "markdown",
   "id": "7a857825",
   "metadata": {},
   "source": [
    "### d. *$\\alpha$* varies"
   ]
  },
  {
   "cell_type": "code",
   "execution_count": 5,
   "id": "b2295bd6",
   "metadata": {},
   "outputs": [
    {
     "name": "stdout",
     "output_type": "stream",
     "text": [
      "alpha = 0.1: ['tsinghua.edu.cn' 'pku.edu.cn' 'uestc.edu.cn' 'nju.edu.cn' 'sjtu.edu.cn']\n",
      "alpha = 0.2: ['tsinghua.edu.cn' 'pku.edu.cn' 'uestc.edu.cn' 'nju.edu.cn' 'sjtu.edu.cn']\n",
      "alpha = 0.3: ['tsinghua.edu.cn' 'pku.edu.cn' 'nju.edu.cn' 'sjtu.edu.cn' 'uestc.edu.cn']\n",
      "alpha = 0.4: ['tsinghua.edu.cn' 'pku.edu.cn' 'sjtu.edu.cn' 'nju.edu.cn' 'uestc.edu.cn']\n",
      "alpha = 0.5: ['tsinghua.edu.cn' 'pku.edu.cn' 'sjtu.edu.cn' 'nju.edu.cn' 'uestc.edu.cn']\n",
      "alpha = 0.6: ['tsinghua.edu.cn' 'pku.edu.cn' 'sjtu.edu.cn' 'nju.edu.cn' 'uestc.edu.cn']\n",
      "alpha = 0.7: ['tsinghua.edu.cn' 'pku.edu.cn' 'sjtu.edu.cn' 'nju.edu.cn' 'uestc.edu.cn']\n",
      "alpha = 0.85: ['tsinghua.edu.cn' 'pku.edu.cn' 'sjtu.edu.cn' 'nju.edu.cn' 'uestc.edu.cn']\n",
      "alpha = 0.9: ['tsinghua.edu.cn' 'pku.edu.cn' 'sjtu.edu.cn' 'nju.edu.cn' 'uestc.edu.cn']\n"
     ]
    }
   ],
   "source": [
    "# Set the hyperparameters alpha\n",
    "alphas = [0.1, 0.2, 0.3, 0.4, 0.5, 0.6, 0.7, 0.85, 0.9]\n",
    "kendall_d = []\n",
    "for alpha in alphas:\n",
    "    T1 = alpha * T + (1 - alpha) * np.ones(W.shape) / W.shape[0]\n",
    "    evals, evecs = np.linalg.eig(T1.T)\n",
    "    evec = evecs[:, np.argmax(evals)]\n",
    "    score_page = evec / np.sum(evec)\n",
    "    pagerank = np.argsort(score_page)[::-1]\n",
    "    print(f'alpha = {alpha}: {webpage[pagerank[:5]]}')\n",
    "    kendall_d.append(kendall(pagerank, rank))"
   ]
  },
  {
   "cell_type": "code",
   "execution_count": 6,
   "id": "4fb14c01",
   "metadata": {},
   "outputs": [
    {
     "data": {
      "image/png": "[encoded data removed]",
      "text/plain": [
       "<Figure size 432x288 with 1 Axes>"
      ]
     },
     "metadata": {
      "needs_background": "light"
     },
     "output_type": "display_data"
    }
   ],
   "source": [
    "# Create a scatter plot of the data\n",
    "plt.plot(alphas, kendall_d)\n",
    "\n",
    "# Add labels and a title\n",
    "plt.xlabel('alpha')\n",
    "plt.ylabel(\"Kedall's distance\")\n",
    "\n",
    "# Show the plot\n",
    "plt.show()"
   ]
  },
  {
   "cell_type": "markdown",
   "id": "91796e3b",
   "metadata": {},
   "source": [
    "In general, larger values of $\\alpha$ tend to produce more stable rankings. Intuitively, this is because larger values of $\\alpha$ place more emphasis on the underlying structure of the graph, while smaller values of $\\alpha$ allow for more random jumps between nodes. When $\\alpha$ is large, the PageRank algorithm is more likely to converge to a unique ranking, since the algorithm is primarily driven by the link structure of the graph. When $\\alpha$ is small, the PageRank algorithm is more likely to produce different rankings for different runs of the algorithm, since the algorithm is more influenced by the random teleportation."
   ]
  },
  {
   "cell_type": "markdown",
   "id": "2637d25c",
   "metadata": {},
   "source": [
    "## 4. Spectral Bipartition"
   ]
  },
  {
   "cell_type": "code",
   "execution_count": 7,
   "id": "27775834",
   "metadata": {},
   "outputs": [],
   "source": [
    "mat = scipy.io.loadmat('karate.mat')\n",
    "A = mat['A']\n",
    "# Compute the degree matrix D\n",
    "D = np.diag(np.sum(A, axis=1))"
   ]
  },
  {
   "cell_type": "code",
   "execution_count": 8,
   "id": "8adbb5c0",
   "metadata": {},
   "outputs": [
    {
     "name": "stdout",
     "output_type": "stream",
     "text": [
      "A is connected? True\n"
     ]
    }
   ],
   "source": [
    "def is_connected(adj_matrix):\n",
    "    \"\"\"\n",
    "    Check if a graph is connected given its adjacency matrix.\n",
    "\n",
    "    Args:\n",
    "    adj_matrix: A square matrix representing the adjacency matrix of the graph.\n",
    "\n",
    "    Returns:\n",
    "    A boolean value indicating if the graph is connected.\n",
    "    \"\"\"\n",
    "    n = len(adj_matrix)\n",
    "    visited = set()\n",
    "    stack = [0]  # start from vertex 0\n",
    "    while stack:\n",
    "        vertex = stack.pop()\n",
    "        visited.add(vertex)\n",
    "        for neighbor in range(n):\n",
    "            if adj_matrix[vertex][neighbor] == 1 and neighbor not in visited:\n",
    "                stack.append(neighbor)\n",
    "    return len(visited) == n\n",
    "\n",
    "print(f'A is connected? {is_connected(A)}')"
   ]
  },
  {
   "cell_type": "markdown",
   "id": "adb69c86",
   "metadata": {},
   "source": [
    "### a. Second smallest generalized eigenvector"
   ]
  },
  {
   "cell_type": "code",
   "execution_count": 9,
   "id": "1289fb6c",
   "metadata": {},
   "outputs": [],
   "source": [
    "# Compute the Laplacian matrix L\n",
    "L = D.astype(np.float64) - A.astype(np.float64)\n",
    "\n",
    "# Compute the generalized eigenvalues and eigenvectors of L\n",
    "eigvals, eigvecs = np.linalg.eig(L)\n",
    "\n",
    "# Find the index of the second smallest eigenvalue\n",
    "idx = np.argsort(eigvals)[1]\n",
    "\n",
    "# Extract the corresponding eigenvector\n",
    "f = eigvecs[:, idx]"
   ]
  },
  {
   "cell_type": "markdown",
   "id": "82638407",
   "metadata": {},
   "source": [
    "### b. Sort the nodes"
   ]
  },
  {
   "cell_type": "code",
   "execution_count": 10,
   "id": "83c2da25",
   "metadata": {},
   "outputs": [],
   "source": [
    "# Sort the nodes based on the entries of the eigenvector f\n",
    "sorted_nodes = np.argsort(f)"
   ]
  },
  {
   "cell_type": "markdown",
   "id": "0b650441",
   "metadata": {},
   "source": [
    "### c. Find the optimal subset"
   ]
  },
  {
   "cell_type": "code",
   "execution_count": 11,
   "id": "3996e631",
   "metadata": {},
   "outputs": [
    {
     "name": "stdout",
     "output_type": "stream",
     "text": [
      "alpha_f: 0.625. First cluster includes [26 29 18 15 22 14 20 25 23 24 32 27 33 31 28  9 30  8]\n"
     ]
    }
   ],
   "source": [
    "af = []\n",
    "for i in range(1, A.shape[0]):\n",
    "    Si = sorted_nodes[:i]\n",
    "    S_ = sorted_nodes[i:]\n",
    "    Cut_S = np.sum(A[Si][:,S_])\n",
    "    af.append(Cut_S/min(i, A.shape[0]-i))\n",
    "    \n",
    "alpha_f = min(af)\n",
    "index = af.index(alpha_f)\n",
    "print(f'alpha_f: {alpha_f}. First cluster includes {sorted_nodes[:index+1]}')"
   ]
  },
  {
   "cell_type": "markdown",
   "id": "3a940cf1",
   "metadata": {},
   "source": [
    "### d. Check if  $\\lambda_2 > \\alpha_f$"
   ]
  },
  {
   "cell_type": "code",
   "execution_count": 12,
   "id": "0a832fb9",
   "metadata": {},
   "outputs": [
    {
     "data": {
      "text/plain": [
       "False"
      ]
     },
     "execution_count": 12,
     "metadata": {},
     "output_type": "execute_result"
    }
   ],
   "source": [
    "eigvals[idx] > alpha_f"
   ]
  },
  {
   "cell_type": "markdown",
   "id": "10619965",
   "metadata": {},
   "source": [
    "### e. Cheeger ratio"
   ]
  },
  {
   "cell_type": "code",
   "execution_count": 13,
   "id": "248a81a8",
   "metadata": {},
   "outputs": [],
   "source": [
    "indices_plus = np.where(f >= 0)[0]\n",
    "indices_minus = np.where(f < 0)[0]\n",
    "Cut_S = np.sum(A[indices_plus][:,indices_minus])\n",
    "h_Splus = Cut_S/min(len(indices_plus), len(indices_minus))"
   ]
  },
  {
   "cell_type": "code",
   "execution_count": 14,
   "id": "cc6b7437",
   "metadata": {},
   "outputs": [
    {
     "name": "stdout",
     "output_type": "stream",
     "text": [
      "Cheeger ratio > a_f:      True\n",
      "Cheeger ratio > lambda_2: True\n"
     ]
    }
   ],
   "source": [
    "print(f'Cheeger ratio > a_f:      {h_Splus> alpha_f}')\n",
    "print(f'Cheeger ratio > lambda_2: {h_Splus> eigvals[idx]}')"
   ]
  },
  {
   "cell_type": "markdown",
   "id": "aed81031",
   "metadata": {},
   "source": [
    "## 5. Degree Corrected Stochastic Block Model (DCSBM)"
   ]
  },
  {
   "cell_type": "code",
   "execution_count": 15,
   "id": "95f4b764",
   "metadata": {},
   "outputs": [],
   "source": [
    "\n",
    "def generate_DCSBM(n, k, p, theta):\n",
    "    \"\"\"\n",
    "    Generates a synthetic network using the DCSBM.\n",
    "\n",
    "    Parameters:\n",
    "        n: int\n",
    "            Number of nodes in the network.\n",
    "        k: int\n",
    "            Number of communities.\n",
    "        p: ndarray\n",
    "            Probability matrix of connection within a community.\n",
    "            Shape should be (k, k).\n",
    "        theta: ndarray\n",
    "            Array of node degrees.\n",
    "            Shape should be (n,).\n",
    "\n",
    "    Returns:\n",
    "        A: ndarray\n",
    "            The adjacency matrix of the generated network.\n",
    "            Shape is (n, n).\n",
    "        labels: ndarray\n",
    "            The community assignments for each node.\n",
    "            Shape is (n,).\n",
    "    \"\"\"\n",
    "    # Generate community assignments for each node\n",
    "    labels = np.random.choice(k, size=n)\n",
    "\n",
    "    # Generate node degrees\n",
    "    degrees = np.random.poisson(theta)\n",
    "\n",
    "    # Initialize empty adjacency matrix\n",
    "    A = np.zeros((n, n))\n",
    "\n",
    "    # Add edges between nodes based on community assignments and probability matrix\n",
    "    for i in range(n):\n",
    "        for j in range(i+1, n):\n",
    "            if labels[i] == labels[j]:\n",
    "                prob = p[labels[i]][labels[j]]\n",
    "                if np.random.rand() < prob:\n",
    "                    A[i, j] = A[j, i] = 1\n",
    "\n",
    "    return A, labels\n",
    "\n",
    "\n",
    "n = 500\n",
    "k = 4\n",
    "p = np.array([[0.1, 0.01, 0.01, 0.01],\n",
    "              [0.01, 0.1, 0.01, 0.01],\n",
    "              [0.01, 0.01, 0.1, 0.01],\n",
    "              [0.01, 0.01, 0.01, 0.1]])\n",
    "theta = np.ones(n)\n",
    "A, labels = generate_DCSBM(n, k, p, theta)\n",
    "d = np.sum(A, axis=1)\n",
    "D = np.diag(d)"
   ]
  },
  {
   "cell_type": "code",
   "execution_count": 16,
   "id": "c931540c",
   "metadata": {},
   "outputs": [],
   "source": [
    "# algorithm A\n",
    "from sklearn.cluster import KMeans\n",
    "from scipy.linalg import eig\n",
    "\n",
    "eigvals, eigvecs = eig(D-A, D)\n",
    "idx = np.argsort(eigvals)[::-1][n-k:n]\n",
    "top_evecs = eigvecs[:, idx]\n",
    "\n",
    "kmeans = KMeans(n_clusters=k).fit(top_evecs)\n",
    "cidxa = kmeans.labels_"
   ]
  },
  {
   "cell_type": "code",
   "execution_count": 17,
   "id": "9844b13e",
   "metadata": {},
   "outputs": [],
   "source": [
    "# Algorithm B\n",
    "\n",
    "# Compute the Laplacian matrix of the graph\n",
    "L = np.diag(1/np.sqrt(d)) @ (D-A) @ np.diag(1/np.sqrt(d))\n",
    "\n",
    "# Compute the eigenvalues and eigenvectors of the Laplacian matrix\n",
    "evals, evecs = eig(L)\n",
    "\n",
    "# Sort the eigenvectors by increasing eigenvalues and extract the k smallest ones\n",
    "idx = np.argsort(evals)[:k]\n",
    "eigvecs_smallest = evecs[:,idx]\n",
    "\n",
    "# Normalize the rows of the eigenvector matrix to have unit norm\n",
    "for i in range(A.shape[0]):\n",
    "    eigvecs_smallest[i,:] /= np.linalg.norm(eigvecs_smallest[i,:], 2)\n",
    "\n",
    "# Cluster the nodes using k-means on the normalized eigenvector matrix\n",
    "kmeans = KMeans(n_clusters=k).fit(eigvecs_smallest)\n",
    "cidxb = kmeans.labels_"
   ]
  },
  {
   "cell_type": "code",
   "execution_count": 18,
   "id": "657b7bf4",
   "metadata": {},
   "outputs": [
    {
     "name": "stdout",
     "output_type": "stream",
     "text": [
      "NMI of algo A: 1.000000\n",
      "NMI of algo B: 1.000000\n"
     ]
    }
   ],
   "source": [
    "from sklearn.metrics.cluster import normalized_mutual_info_score\n",
    "# Compute NMI\n",
    "nmi_a = normalized_mutual_info_score(labels, cidxa)\n",
    "print(f\"NMI of algo A: {nmi_a:4f}\")\n",
    "nmi_b = normalized_mutual_info_score(labels, cidxb)\n",
    "print(f\"NMI of algo B: {nmi_b:4f}\")"
   ]
  },
  {
   "cell_type": "code",
   "execution_count": null,
   "id": "5d05f504",
   "metadata": {},
   "outputs": [],
   "source": []
  }
 ],
 "metadata": {
  "kernelspec": {
   "display_name": "Python 3 (ipykernel)",
   "language": "python",
   "name": "python3"
  },
  "language_info": {
   "codemirror_mode": {
    "name": "ipython",
    "version": 3
   },
   "file_extension": ".py",
   "mimetype": "text/x-python",
   "name": "python",
   "nbconvert_exporter": "python",
   "pygments_lexer": "ipython3",
   "version": "3.9.7"
  }
 },
 "nbformat": 4,
 "nbformat_minor": 5
}
