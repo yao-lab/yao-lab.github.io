{
 "cells": [
  {
   "cell_type": "markdown",
   "id": "f9f83d08",
   "metadata": {},
   "source": [
    "# CSIC5011 - HW9\n",
    "\n",
    "----\n",
    "\n",
    "## NGUYEN, Huu Canh\n",
    "## 20818623"
   ]
  },
  {
   "cell_type": "markdown",
   "id": "b079c934",
   "metadata": {},
   "source": [
    "## Q1\n",
    "----"
   ]
  },
  {
   "cell_type": "markdown",
   "id": "e102511f",
   "metadata": {},
   "source": [
    "### 16 videos\n",
    "After running ```Hodgerank``` on the *incomp* matrix, we got a 16-by-4\n",
    "matrix as scores of 16 videos in 4 models: Uniform noise, Bradley-Terry, Thurstone-Mosteller and Arcsin as follows:"
   ]
  },
  {
   "cell_type": "raw",
   "id": "60c46efe",
   "metadata": {},
   "source": [
    "    0.5172    5.5838    3.2501    0.8498\n",
    "   -0.3844   -2.5336   -1.4972   -0.4620\n",
    "   -0.5389   -3.6338   -2.0955   -0.5975\n",
    "    0.3331    3.8542    2.1827    0.5958\n",
    "   -1.5424   -6.8411   -3.9479   -0.9349\n",
    "    0.4581    4.8141    2.8016    0.7672\n",
    "   -0.1241   -1.6228   -0.8766   -0.2231\n",
    "   -0.2393   -2.1136   -1.1840   -0.3328\n",
    "    0.3493    3.4841    2.0312    0.5931\n",
    "    0.4647    5.1628    2.9743    0.7879\n",
    "   -1.9410   -7.6796   -4.4067   -0.9714\n",
    "   -1.5245   -7.4137   -4.2137   -0.9471\n",
    "    0.4867    5.4093    3.1260    0.8191\n",
    "    0.4083    5.1225    2.8778    0.7350\n",
    "   -0.4848   -2.9024   -1.7181   -0.5288\n",
    "    0.0770    1.3099    0.6961    0.1685"
   ]
  },
  {
   "cell_type": "markdown",
   "id": "f8de519c",
   "metadata": {},
   "source": [
    "Besides, we also obtain two inconsistency measurements: total inconsistency ```totalIncon``` and harmonic inconsistency ```harmIncon```. Hence the percentage of harmonic inconsistency in the total inconsistency (residue):\n",
    "\n",
    "$$ \\dfrac{harmIncon}{totalIncon}= 10^{-11} \\times [0.2249, 0.1553, 0.1669, 0.1980]$$"
   ]
  },
  {
   "cell_type": "markdown",
   "id": "fcc2949e",
   "metadata": {},
   "source": [
    "### Weblink data"
   ]
  },
  {
   "cell_type": "markdown",
   "id": "3c0964ef",
   "metadata": {},
   "source": [
    "Firstly, we need to change the link matrix into a n-to-2 matrix: value at ij means the number of times that j is voted over i."
   ]
  },
  {
   "cell_type": "code",
   "execution_count": 14,
   "id": "b396e708",
   "metadata": {},
   "outputs": [],
   "source": [
    "import scipy.io\n",
    "import numpy as np\n",
    "\n",
    "mat = scipy.io.loadmat('univ_cn.mat')\n",
    "W = mat['W_cn']\n",
    "univ_cn = []\n",
    "\n",
    "for i in range(W.shape[0]):\n",
    "    for j in range(W.shape[0]):\n",
    "        for _ in range(W[i,j]):\n",
    "            univ_cn.append([j+1, i+1])\n",
    "\n",
    "univ_cn = np.array(univ_cn)\n",
    "scipy.io.savemat('univ.mat', {'univ': univ_cn})"
   ]
  },
  {
   "cell_type": "markdown",
   "id": "b4a66e8a",
   "metadata": {},
   "source": [
    "Following the same procedure, by apply ```Hodgerank``` on the *univ* matrix, we COULD obtain the scores of those universities given by 4 models. HOWEVER, as the numNode should be changed to 76 (the number of universities), a matrix during calculation got the size of 39712x39712, resulting in an out-of-memory error: Requested 39712x39712 (11.7GB) array exceeds maximum array size preference (5.0GB). This might cause MATLAB to become unresponsive."
   ]
  },
  {
   "cell_type": "markdown",
   "id": "c435e15c",
   "metadata": {},
   "source": [
    "## Q2\n",
    "----"
   ]
  },
  {
   "cell_type": "markdown",
   "id": "fc35146e",
   "metadata": {},
   "source": [
    "### PROOF 1: $\\ker \\Delta = \\ker A^\\top + \\ker B$\n",
    "\n",
    "- LET $x \\in \\ker A^\\top  \\cap \\ker B$, then $A^\\top x = B x = 0 \\Rightarrow \\Delta x = 0$\n",
    "\n",
    "$\\Rightarrow x \\in \\ker \\Delta \\Rightarrow \\ker \\Delta \\supseteq \\ker A^\\top  \\cap \\ker B$.\n",
    "\n",
    "\n",
    "- SUPPOSE $x \\in \\ker \\Delta$, then $\\Delta x =0$. Hence\n",
    "\n",
    "$$\n",
    "\\begin{aligned}\n",
    "\\langle \\Delta x, x \\rangle &= \\langle A A^\\top x + B^\\top B x, x \\rangle \\\\\n",
    "&=\\langle A A^\\top x, x \\rangle+\\langle B^\\top B x, x \\rangle\\\\\n",
    "&=\\langle A^\\top x, A^\\top x \\rangle+\\langle B x, B x \\rangle\\\\\n",
    "&=\\lVert A^\\top x \\rVert_2 + \\lVert B x \\rVert_2\n",
    "\\end{aligned}\n",
    "$$\n",
    "$\\Rightarrow A^\\top x = B x = 0$, therefore $x\\in \\ker A^\\top  \\cap \\ker B$\n",
    "$\\Rightarrow \\ker \\Delta \\subseteq \\ker A^\\top \\cap \\ker B$\n",
    "\n",
    "- We complete the proof of our assertion."
   ]
  },
  {
   "cell_type": "markdown",
   "id": "262a8633",
   "metadata": {},
   "source": [
    "### PROOF 2: $\\operatorname{Im} A \\oplus \\ker \\Delta \\oplus \\operatorname{Im} B \\subseteq Y$\n",
    "\n",
    "- Let $d \\in \\ker(\\Delta)$, $A^\\top x =Bx=0$.\n",
    "\n",
    "- Assume that $y \\in \\operatorname{Im} A$, we write $y=Ax$ for $x\\in \\mathcal{X}$.\n",
    "\n",
    "- Assume that $y' \\in \\operatorname{Im}B$. We write $y' = B^\\top z$ for some $z \\in Z$.\n"
   ]
  },
  {
   "cell_type": "markdown",
   "id": "267ac818",
   "metadata": {},
   "source": [
    "- We prove that $\\ker(\\Delta) \\perp \\operatorname{Im} A$ because\n",
    "$$\\langle d,y \\rangle = \\langle d,Ax \\rangle = \\langle A^\\top d,x \\rangle = \\langle 0 ,x \\rangle = 0$$"
   ]
  },
  {
   "cell_type": "markdown",
   "id": "0ae9f9c0",
   "metadata": {},
   "source": [
    "- Similarly, we prove that $\\ker\\Delta \\perp \\operatorname{Im} B^\\top$ since\n",
    "$$\\langle d,y' \\rangle = \\langle d,B^\\top z \\rangle = \\langle B d,z \\rangle = \\langle 0 ,z \\rangle = 0$$"
   ]
  },
  {
   "cell_type": "markdown",
   "id": "ca88bc30",
   "metadata": {},
   "source": [
    "- Let us compute $\\langle y, y' \\rangle$:\n",
    "$$\\langle y,y' \\rangle = \\langle Ax,B^\\top z \\rangle = \\langle BA x,z \\rangle = \\langle 0 ,z \\rangle = 0$$\n",
    "$\\Rightarrow \\operatorname{Im} A \\perp \\operatorname{Im} B^\\top$"
   ]
  },
  {
   "cell_type": "markdown",
   "id": "ec4d7b2d",
   "metadata": {},
   "source": [
    "Hence, $\\operatorname{Im} A \\oplus \\ker \\Delta \\oplus \\operatorname{Im} B \\subseteq Y$"
   ]
  },
  {
   "cell_type": "markdown",
   "id": "cc3db3c4",
   "metadata": {},
   "source": [
    "### PROOF 3: $im A \\oplus \\ker \\Delta \\oplus im B \\supseteq Y$"
   ]
  },
  {
   "cell_type": "markdown",
   "id": "d7709af9",
   "metadata": {},
   "source": [
    "- It follows from the definition that $\\Delta: Y \\rightarrow Y$ is a self-adjoint operator. By spectral theorem, $Y$ can be decomposed into orthogonal direct sum of eigenspaces of $\\Delta$, i.e.\n",
    "$$\n",
    "Y=\\bigoplus_\\lambda E_{\\Delta}(\\lambda)=\\operatorname{ker} \\Delta \\oplus \\bigoplus_{\\lambda \\neq 0} E_{\\Delta}(\\lambda)\n",
    "$$"
   ]
  },
  {
   "cell_type": "markdown",
   "id": "5bc14571",
   "metadata": {},
   "source": [
    "where $E_{\\Delta}(\\lambda)=\\operatorname{ker}\\left(\\Delta-\\lambda I\\right)$. For each $x \\in Y$, we can write $x=x_0+\\sum_{\\lambda \\neq 0} x_\\lambda$ where $x_0 \\in \\operatorname{ker} \\Delta$ and $x_\\lambda \\in E_{\\Delta}(\\lambda)$ with $\\lambda \\neq 0$. Then $\\Delta x=\\sum_\\lambda \\lambda x_\\lambda \\in \\bigoplus_{\\lambda \\neq 0} E_{\\Delta}(\\lambda)$. In other words, Im $\\Delta \\subseteq \\bigoplus_{\\lambda \\neq 0} E_{\\Delta}(\\lambda)$. \n",
    "\n",
    "- For each $x=x_\\lambda \\in E_{\\Delta}(\\lambda)$, $\\Delta x=\\lambda x$ which implies that $x=\\Delta(x / \\lambda) \\in \\operatorname{Im} \\Delta$. We find that $E_{\\Delta}(\\lambda) \\subseteq \\operatorname{Im} \\Delta$ for any $\\lambda \\neq 0$. Since $\\operatorname{Im} \\Delta$ is a vector subspace of $Y, \\bigoplus_{\\lambda \\neq 0} E_{\\Delta}(\\lambda) \\subseteq \\operatorname{Im} \\Delta$. We prove the equation\n",
    "$$\n",
    "\\operatorname{Im} \\Delta=\\bigoplus_{\\lambda \\neq 0} E_{\\Delta}(\\lambda)\n",
    "$$"
   ]
  },
  {
   "cell_type": "markdown",
   "id": "bb920160",
   "metadata": {},
   "source": [
    "- We find that $Y=\\operatorname{ker} \\Delta \\oplus \\operatorname{Im} \\Delta$. \n",
    "\n",
    "- For each $x \\in Y$, let us write $x=x_1+x_2$ where $x_1 \\in \\operatorname{ker} \\Delta$ and $x_2 \\in \\operatorname{Im} \\Delta$. By definition, choose $y \\in Y$ so that\n",
    "$$\n",
    "x_2=\\Delta y=A A^\\top y + B^\\top B y \\in \\operatorname{Im} A^\\top \\oplus \\operatorname{Im}B\n",
    "$$\n"
   ]
  },
  {
   "cell_type": "markdown",
   "id": "af824c16",
   "metadata": {},
   "source": [
    "- This implies that $x \\in \\ker \\Delta \\oplus \\operatorname{Im} A^\\top \\oplus \\operatorname{Im}B$ for any $x \\in Y$. We obtain that\n",
    "$$\n",
    "Y \\subseteq \\ker \\Delta \\oplus \\operatorname{Im} A^\\top \\oplus \\operatorname{Im}B\n",
    "$$"
   ]
  },
  {
   "cell_type": "markdown",
   "id": "a40380e0",
   "metadata": {},
   "source": [
    "### From PROOF2 and PROOF3, we prove that $Y = im A + \\ker \\Delta + im B$."
   ]
  },
  {
   "cell_type": "markdown",
   "id": "c19a3236",
   "metadata": {},
   "source": [
    "## Q3\n",
    "----"
   ]
  },
  {
   "cell_type": "markdown",
   "id": "ed966e1e",
   "metadata": {},
   "source": [
    "### Prisoner's Dilemma\n",
    "\n",
    "(c,c) --- 2 ----→ (c,d)\n",
    "\n",
    "(c,c) --- 2 ----→ (d,c)\n",
    "\n",
    "(c,d) --- 1 ----→ (d,d)\n",
    "\n",
    "(d,c) --- 1 ----→ (d,d)\n",
    "\n",
    "It is obvious that the game is quadrangular-curl free, thus potential."
   ]
  }
 ],
 "metadata": {
  "kernelspec": {
   "display_name": "Python 3 (ipykernel)",
   "language": "python",
   "name": "python3"
  },
  "language_info": {
   "codemirror_mode": {
    "name": "ipython",
    "version": 3
   },
   "file_extension": ".py",
   "mimetype": "text/x-python",
   "name": "python",
   "nbconvert_exporter": "python",
   "pygments_lexer": "ipython3",
   "version": "3.9.7"
  }
 },
 "nbformat": 4,
 "nbformat_minor": 5
}
