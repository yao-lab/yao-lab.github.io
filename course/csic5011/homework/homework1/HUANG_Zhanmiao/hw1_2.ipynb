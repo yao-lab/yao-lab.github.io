{
 "cells": [
  {
   "cell_type": "markdown",
   "id": "24cad4af",
   "metadata": {},
   "source": []
  },
  {
   "cell_type": "code",
   "execution_count": 17,
   "id": "6955a727",
   "metadata": {},
   "outputs": [],
   "source": [
    "import pandas as pd\n",
    "import io\n",
    "import requests\n",
    "\n",
    "import numpy as np\n",
    "import matplotlib.pyplot as plt\n",
    "\n",
    "import scipy.linalg as alg"
   ]
  },
  {
   "cell_type": "markdown",
   "id": "a608bc55",
   "metadata": {},
   "source": [
    "set up a distance matrix $D$"
   ]
  },
  {
   "cell_type": "code",
   "execution_count": 5,
   "id": "4f1399cf",
   "metadata": {},
   "outputs": [],
   "source": [
    "D = np.array([[0,1068,1212,1658,1676,2906,161],\n",
    "             [1068,0,1890,1516,1057,2564,1122],\n",
    "             [1212,1890,0,1238,2792,2318,1052],\n",
    "             [1658,1516,1238,0,2573,1251,1541],\n",
    "             [1676,1057,2792,2573,0,3562,1809],\n",
    "             [2906,2564,2318,1251,3562,0,2792],\n",
    "             [161,1122,1052,1541,1809,2792,0]])\n",
    "cities = ['Shanghai','Beijing','Guangzhou','Chengdu','Harerbin','Lhasa','Hangzhou']"
   ]
  },
  {
   "cell_type": "markdown",
   "id": "b0294da9",
   "metadata": {},
   "source": [
    "MDS on $D$"
   ]
  },
  {
   "cell_type": "code",
   "execution_count": 38,
   "id": "304d1561",
   "metadata": {},
   "outputs": [
    {
     "name": "stdout",
     "output_type": "stream",
     "text": [
      "eigenvalues:  [ 8.39728539e+06  3.26396911e+06  1.08839742e+04  5.63886715e-11\n",
      " -1.67997185e+02 -1.17072935e+03 -1.62017473e+04]\n"
     ]
    },
    {
     "name": "stderr",
     "output_type": "stream",
     "text": [
      "<ipython-input-38-1cb7046395f0>:17: RuntimeWarning: invalid value encountered in sqrt\n",
      "  Y = vectors @ np.diag(np.sqrt(values))\n"
     ]
    },
    {
     "data": {
      "text/plain": [
       "(7, 7)"
      ]
     },
     "execution_count": 38,
     "metadata": {},
     "output_type": "execute_result"
    },
    {
     "data": {
      "image/png": "[encoded data removed]",
      "text/plain": [
       "<Figure size 432x288 with 1 Axes>"
      ]
     },
     "metadata": {
      "needs_background": "light"
     },
     "output_type": "display_data"
    }
   ],
   "source": [
    "assert D.shape[0]==D.shape[1]\n",
    "n = D.shape[0]\n",
    "\n",
    "H = np.eye(n,n) - np.ones((n,n))/n\n",
    "D1 = - 0.5 * H @ (D*D) @ H  # scaled square distance = Y^T Y\n",
    "values, vectors = alg.eigh(D1)\n",
    "\n",
    "sorted_id = np.argsort(-values)\n",
    "values = values[sorted_id]\n",
    "vectors = vectors[:,sorted_id]\n",
    "\n",
    "plt.plot(values,'o');\n",
    "plt.hlines(0,0,6,linestyle='--');\n",
    "print('eigenvalues: ',values)\n",
    "\n",
    "\n",
    "Y = vectors @ np.diag(np.sqrt(values))\n",
    "Y.shape\n"
   ]
  },
  {
   "cell_type": "code",
   "execution_count": 40,
   "id": "7a825df7",
   "metadata": {},
   "outputs": [
    {
     "data": {
      "image/png": "[encoded data removed]",
      "text/plain": [
       "<Figure size 432x288 with 1 Axes>"
      ]
     },
     "metadata": {
      "needs_background": "light"
     },
     "output_type": "display_data"
    }
   ],
   "source": [
    "plt.figure()\n",
    "for i in range(n):\n",
    "    plt.plot(Y[i,0], Y[i,1],'o')\n",
    "    plt.text(Y[i,0]*1.02, Y[i,1]*1.02,cities[i])"
   ]
  },
  {
   "cell_type": "code",
   "execution_count": null,
   "id": "b9e92153",
   "metadata": {},
   "outputs": [],
   "source": []
  },
  {
   "cell_type": "code",
   "execution_count": null,
   "id": "fc82555b",
   "metadata": {},
   "outputs": [],
   "source": []
  }
 ],
 "metadata": {
  "kernelspec": {
   "display_name": "Python 3",
   "language": "python",
   "name": "python3"
  },
  "language_info": {
   "codemirror_mode": {
    "name": "ipython",
    "version": 3
   },
   "file_extension": ".py",
   "mimetype": "text/x-python",
   "name": "python",
   "nbconvert_exporter": "python",
   "pygments_lexer": "ipython3",
   "version": "3.8.8"
  }
 },
 "nbformat": 4,
 "nbformat_minor": 5
}
