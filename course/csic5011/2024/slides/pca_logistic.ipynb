{
 "cells": [
  {
   "cell_type": "code",
   "execution_count": 1,
   "metadata": {
    "collapsed": false
   },
   "outputs": [],
   "source": [
    "%matplotlib inline"
   ]
  },
  {
   "cell_type": "markdown",
   "metadata": {},
   "source": [
    "\n",
    "=========================================================\n",
    "Pipelining: chaining a PCA and a logistic regression\n",
    "=========================================================\n",
    "\n",
    "The PCA does an unsupervised dimensionality reduction, while the logistic\n",
    "regression does the prediction.\n",
    "\n",
    "We use a GridSearchCV to set the dimensionality of the PCA\n",
    "\n"
   ]
  },
  {
   "cell_type": "code",
   "execution_count": 2,
   "metadata": {
    "collapsed": false
   },
   "outputs": [
    {
     "name": "stdout",
     "output_type": "stream",
     "text": [
      "Automatically created module for IPython interactive environment\n"
     ]
    }
   ],
   "source": [
    "print(__doc__)\n",
    "\n",
    "\n",
    "# Code source: Gaël Varoquaux\n",
    "# Modified for documentation by Jaques Grobler\n",
    "# License: BSD 3 clause\n",
    "\n",
    "\n",
    "import numpy as np\n",
    "import matplotlib.pyplot as plt\n",
    "\n",
    "from sklearn import linear_model, decomposition, datasets\n",
    "from sklearn.pipeline import Pipeline\n",
    "from sklearn.model_selection import GridSearchCV\n",
    "\n",
    "logistic = linear_model.LogisticRegression()\n",
    "\n",
    "pca = decomposition.PCA()\n",
    "pipe = Pipeline(steps=[('pca', pca), ('logistic', logistic)])\n",
    "\n",
    "digits = datasets.load_digits()\n",
    "X_digits = digits.data\n",
    "y_digits = digits.target"
   ]
  },
  {
   "cell_type": "markdown",
   "metadata": {},
   "source": [
    "Plot the PCA spectrum\n"
   ]
  },
  {
   "cell_type": "code",
   "execution_count": 3,
   "metadata": {
    "collapsed": false
   },
   "outputs": [
    {
     "data": {
      "text/plain": [
       "<matplotlib.text.Text at 0x10a60f3d0>"
      ]
     },
     "execution_count": 3,
     "metadata": {},
     "output_type": "execute_result"
    },
    {
     "data": {
      "image/png": "[encoded data removed]",
      "text/plain": [
       "<matplotlib.figure.Figure at 0x1099812d0>"
      ]
     },
     "metadata": {},
     "output_type": "display_data"
    }
   ],
   "source": [
    "pca.fit(X_digits)\n",
    "\n",
    "plt.figure(1, figsize=(4, 3))\n",
    "plt.clf()\n",
    "plt.axes([.2, .2, .7, .7])\n",
    "plt.plot(pca.explained_variance_ratio_, linewidth=2)\n",
    "plt.axis('tight')\n",
    "plt.xlabel('n_components')\n",
    "plt.ylabel('explained_variance_ratio_')"
   ]
  },
  {
   "cell_type": "markdown",
   "metadata": {},
   "source": [
    "Prediction\n"
   ]
  },
  {
   "cell_type": "code",
   "execution_count": 4,
   "metadata": {
    "collapsed": false
   },
   "outputs": [
    {
     "data": {
      "image/png": "[encoded data removed]",
      "text/plain": [
       "<matplotlib.figure.Figure at 0x10a77af50>"
      ]
     },
     "metadata": {},
     "output_type": "display_data"
    }
   ],
   "source": [
    "n_components = [20, 40, 64]\n",
    "Cs = np.logspace(-4, 4, 3)\n",
    "\n",
    "#Parameters of pipelines can be set using ‘__’ separated parameter names:\n",
    "\n",
    "estimator = GridSearchCV(pipe,\n",
    "                         dict(pca__n_components=n_components,\n",
    "                              logistic__C=Cs))\n",
    "estimator.fit(X_digits, y_digits)\n",
    "\n",
    "plt.axvline(estimator.best_estimator_.named_steps['pca'].n_components,\n",
    "            linestyle=':', label='n_components chosen')\n",
    "plt.legend(prop=dict(size=12))\n",
    "plt.show()"
   ]
  },
  {
   "cell_type": "code",
   "execution_count": 5,
   "metadata": {
    "collapsed": false
   },
   "outputs": [
    {
     "data": {
      "text/plain": [
       "['mean_fit_time',\n",
       " 'mean_score_time',\n",
       " 'mean_test_score',\n",
       " 'mean_train_score',\n",
       " 'param_logistic__C',\n",
       " 'param_pca__n_components',\n",
       " 'params',\n",
       " 'rank_test_score',\n",
       " 'split0_test_score',\n",
       " 'split0_train_score',\n",
       " 'split1_test_score',\n",
       " 'split1_train_score',\n",
       " 'split2_test_score',\n",
       " 'split2_train_score',\n",
       " 'std_fit_time',\n",
       " 'std_score_time',\n",
       " 'std_test_score',\n",
       " 'std_train_score']"
      ]
     },
     "execution_count": 5,
     "metadata": {},
     "output_type": "execute_result"
    }
   ],
   "source": [
    "sorted(estimator.cv_results_.keys())"
   ]
  },
  {
   "cell_type": "code",
   "execution_count": 9,
   "metadata": {
    "collapsed": false
   },
   "outputs": [
    {
     "name": "stdout",
     "output_type": "stream",
     "text": [
      "{'std_train_score': array([ 0.00635134,  0.00515636,  0.00567639,  0.00181507,  0.00116574,\n",
      "        0.0006918 ,  0.00240656,  0.00039399,  0.        ]), 'rank_test_score': array([9, 7, 8, 3, 1, 2, 4, 5, 6], dtype=int32), 'mean_score_time': array([ 0.00081205,  0.00078233,  0.00086737,  0.00079568,  0.00085966,\n",
      "        0.0008293 ,  0.00073536,  0.00080697,  0.001007  ]), 'param_pca__n_components': masked_array(data = [20 40 64 20 40 64 20 40 64],\n",
      "             mask = [False False False False False False False False False],\n",
      "       fill_value = ?)\n",
      ", 'std_test_score': array([ 0.00801541,  0.00612248,  0.00559584,  0.00658545,  0.01577153,\n",
      "        0.01965211,  0.00391254,  0.02677113,  0.02293259]), 'split1_train_score': array([ 0.91986644,  0.92737896,  0.92737896,  0.96661102,  0.98998331,\n",
      "        0.99499165,  0.97913189,  0.99916528,  1.        ]), 'split0_test_score': array([ 0.88538206,  0.89368771,  0.89202658,  0.92358804,  0.910299  ,\n",
      "        0.90863787,  0.8986711 ,  0.86710963,  0.86710963]), 'mean_test_score': array([ 0.8753478 ,  0.88759043,  0.88703395,  0.91652755,  0.92264886,\n",
      "        0.91764051,  0.90372844,  0.90261547,  0.89482471]), 'split2_train_score': array([ 0.92589509,  0.9367194 ,  0.93838468,  0.97085762,  0.99000833,\n",
      "        0.9958368 ,  0.98501249,  1.        ,  1.        ]), 'split0_train_score': array([ 0.91046025,  0.92468619,  0.92552301,  0.96987448,  0.99246862,\n",
      "        0.99414226,  0.98242678,  0.99916318,  1.        ]), 'params': ({'logistic__C': 0.0001, 'pca__n_components': 20}, {'logistic__C': 0.0001, 'pca__n_components': 40}, {'logistic__C': 0.0001, 'pca__n_components': 64}, {'logistic__C': 1.0, 'pca__n_components': 20}, {'logistic__C': 1.0, 'pca__n_components': 40}, {'logistic__C': 1.0, 'pca__n_components': 64}, {'logistic__C': 10000.0, 'pca__n_components': 20}, {'logistic__C': 10000.0, 'pca__n_components': 40}, {'logistic__C': 10000.0, 'pca__n_components': 64}), 'std_fit_time': array([ 0.00469015,  0.0027585 ,  0.01685348,  0.01087548,  0.00526928,\n",
      "        0.02174512,  0.00440988,  0.04809345,  0.04860443]), 'std_score_time': array([  9.14672197e-05,   3.23344195e-05,   7.44006050e-05,\n",
      "         3.84981823e-05,   7.35106339e-05,   2.84923226e-05,\n",
      "         2.82156634e-05,   1.16302224e-05,   1.33324433e-04]), 'split2_test_score': array([ 0.86577181,  0.87919463,  0.87919463,  0.90771812,  0.91275168,\n",
      "        0.89932886,  0.90436242,  0.90939597,  0.8942953 ]), 'param_logistic__C': masked_array(data = [0.0001 0.0001 0.0001 1.0 1.0 1.0 10000.0 10000.0 10000.0],\n",
      "             mask = [False False False False False False False False False],\n",
      "       fill_value = ?)\n",
      ", 'mean_train_score': array([ 0.91874059,  0.92959485,  0.93042889,  0.96911437,  0.99082008,\n",
      "        0.99499024,  0.98219038,  0.99944282,  1.        ]), 'mean_fit_time': array([ 0.03305896,  0.04568632,  0.06899325,  0.105112  ,  0.17722472,\n",
      "        0.32130535,  0.15720526,  0.43923942,  0.66639137]), 'split1_test_score': array([ 0.87479132,  0.88981636,  0.88981636,  0.91819699,  0.94490818,\n",
      "        0.94490818,  0.9081803 ,  0.93155259,  0.92320534])}\n"
     ]
    }
   ],
   "source": [
    "print(estimator.cv_results_)"
   ]
  },
  {
   "cell_type": "code",
   "execution_count": 5,
   "metadata": {
    "collapsed": false
   },
   "outputs": [
    {
     "name": "stdout",
     "output_type": "stream",
     "text": [
      "[ 0.87590428  0.88759043  0.88703395  0.91652755  0.92264886  0.91764051\n",
      "  0.90539789  0.90261547  0.89538119]\n"
     ]
    }
   ],
   "source": [
    "print estimator.cv_results_.get('mean_test_score')"
   ]
  },
  {
   "cell_type": "code",
   "execution_count": null,
   "metadata": {
    "collapsed": true
   },
   "outputs": [],
   "source": []
  }
 ],
 "metadata": {
  "kernelspec": {
   "display_name": "Python 2",
   "language": "python",
   "name": "python2"
  },
  "language_info": {
   "codemirror_mode": {
    "name": "ipython",
    "version": 2
   },
   "file_extension": ".py",
   "mimetype": "text/x-python",
   "name": "python",
   "nbconvert_exporter": "python",
   "pygments_lexer": "ipython2",
   "version": "2.7.13"
  }
 },
 "nbformat": 4,
 "nbformat_minor": 0
}
