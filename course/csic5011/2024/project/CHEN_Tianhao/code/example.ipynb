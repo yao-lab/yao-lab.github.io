{
 "cells": [
  {
   "cell_type": "markdown",
   "metadata": {},
   "source": [
    "# Protein structure reconstruction based on contact map"
   ]
  },
  {
   "cell_type": "markdown",
   "metadata": {},
   "source": [
    "## Setup"
   ]
  },
  {
   "cell_type": "code",
   "execution_count": 1,
   "metadata": {},
   "outputs": [
    {
     "data": {
      "application/vnd.jupyter.widget-view+json": {
       "model_id": "1189c291640f4803a93e658e0c806571",
       "version_major": 2,
       "version_minor": 0
      },
      "text/plain": []
     },
     "metadata": {},
     "output_type": "display_data"
    },
    {
     "name": "stdout",
     "output_type": "stream",
     "text": [
      "Using cached data from /tmp/chroma_weights/90e339502ae6b372797414167ce5a632/weights.pt\n",
      "Loaded from cache\n",
      "Using cached data from /tmp/chroma_weights/03a3a9af343ae74998768a2711c8b7ce/weights.pt\n",
      "Loaded from cache\n"
     ]
    }
   ],
   "source": [
    "# @title Setup\n",
    "\n",
    "# @markdown [Get your API key here](https://chroma-weights.generatebiomedicines.com) and enter it below before running.\n",
    "\n",
    "from google.colab import output\n",
    "\n",
    "output.enable_custom_widget_manager()\n",
    "\n",
    "import os\n",
    "\n",
    "os.environ[\"CUBLAS_WORKSPACE_CONFIG\"] = \":4096:8\"\n",
    "import contextlib\n",
    "\n",
    "api_key = \"YOUR_API_KEY\"  # @param {type:\"string\"}\n",
    "\n",
    "!pip install git+https://github.com/generatebio/chroma.git > /dev/null 2>&1\n",
    "\n",
    "import torch\n",
    "\n",
    "torch.use_deterministic_algorithms(True, warn_only=True)\n",
    "\n",
    "import warnings\n",
    "from tqdm import tqdm, TqdmExperimentalWarning\n",
    "\n",
    "warnings.filterwarnings(\"ignore\", category=TqdmExperimentalWarning)\n",
    "from functools import partialmethod\n",
    "\n",
    "tqdm.__init__ = partialmethod(tqdm.__init__, leave=False)\n",
    "\n",
    "from google.colab import files\n",
    "import ipywidgets as widgets\n",
    "\n",
    "\n",
    "def create_button(filename, description=\"\"):\n",
    "    button = widgets.Button(description=description)\n",
    "    display(button)\n",
    "\n",
    "    def on_button_click(b):\n",
    "        files.download(filename)\n",
    "\n",
    "    button.on_click(on_button_click)\n",
    "\n",
    "\n",
    "def render(protein, trajectories=None, output=\"protein.cif\"):\n",
    "    display(protein)\n",
    "    print(protein)\n",
    "    protein.to_CIF(output)\n",
    "    create_button(output, description=\"Download sample\")\n",
    "    if trajectories is not None:\n",
    "        traj_output = output.replace(\".cif\", \"_trajectory.cif\")\n",
    "        trajectories[\"trajectory\"].to_CIF(traj_output)\n",
    "        create_button(traj_output, description=\"Download trajectory\")\n",
    "\n",
    "\n",
    "import locale\n",
    "\n",
    "locale.getpreferredencoding = lambda: \"UTF-8\"\n",
    "\n",
    "from chroma import Chroma, Protein, conditioners\n",
    "from chroma.models import graph_classifier, procap\n",
    "from chroma.utility.api import register_key\n",
    "from chroma.utility.chroma import letter_to_point_cloud, plane_split_protein\n",
    "\n",
    "register_key(api_key)\n",
    "\n",
    "device = \"cuda\" if torch.cuda.is_available() else 'cpu'\n",
    "chroma = Chroma(device=device)"
   ]
  },
  {
   "cell_type": "markdown",
   "metadata": {},
   "source": [
    "## Contact map conditional generation"
   ]
  },
  {
   "cell_type": "markdown",
   "metadata": {},
   "source": [
    "### Conditional and unconditional generation"
   ]
  },
  {
   "cell_type": "code",
   "execution_count": 51,
   "metadata": {},
   "outputs": [
    {
     "data": {
      "application/vnd.jupyter.widget-view+json": {
       "model_id": "343fabbfe4c5412786eeeee8eb09a9c4",
       "version_major": 2,
       "version_minor": 0
      },
      "text/plain": [
       "Integrating SDE:   0%|          | 0/500 [00:00<?, ?it/s]"
      ]
     },
     "metadata": {},
     "output_type": "display_data"
    },
    {
     "data": {
      "application/vnd.jupyter.widget-view+json": {
       "model_id": "480125ae42a84945a0605717f67531f5",
       "version_major": 2,
       "version_minor": 0
      },
      "text/plain": [
       "Potts Sampling:   0%|          | 0/500 [00:00<?, ?it/s]"
      ]
     },
     "metadata": {},
     "output_type": "display_data"
    },
    {
     "data": {
      "application/vnd.jupyter.widget-view+json": {
       "model_id": "84cbfc63414c41caa9b61e75d2683593",
       "version_major": 2,
       "version_minor": 0
      },
      "text/plain": [
       "Sequential decoding:   0%|          | 0/64 [00:00<?, ?it/s]"
      ]
     },
     "metadata": {},
     "output_type": "display_data"
    },
    {
     "data": {
      "application/vnd.jupyter.widget-view+json": {
       "model_id": "524921a350444076910ef9711e89aff0",
       "version_major": 2,
       "version_minor": 0
      },
      "text/plain": [
       "Integrating SDE:   0%|          | 0/500 [00:00<?, ?it/s]"
      ]
     },
     "metadata": {},
     "output_type": "display_data"
    },
    {
     "data": {
      "application/vnd.jupyter.widget-view+json": {
       "model_id": "6b4df04caf0d4d0b9018a8ebd4e60d72",
       "version_major": 2,
       "version_minor": 0
      },
      "text/plain": [
       "Potts Sampling:   0%|          | 0/500 [00:00<?, ?it/s]"
      ]
     },
     "metadata": {},
     "output_type": "display_data"
    },
    {
     "data": {
      "application/vnd.jupyter.widget-view+json": {
       "model_id": "4df648e978574a42a6daeda89fa199f6",
       "version_major": 2,
       "version_minor": 0
      },
      "text/plain": [
       "Sequential decoding:   0%|          | 0/64 [00:00<?, ?it/s]"
      ]
     },
     "metadata": {},
     "output_type": "display_data"
    }
   ],
   "source": [
    "from contact_map_conditioner import ContactMapConditioner\n",
    "\n",
    "# contact map function\n",
    "def distance(X, eps=1e-6):\n",
    "    \"\"\"X: backbone coordinates\"\"\"\n",
    "    dX = X.unsqueeze(2) - X.unsqueeze(1)\n",
    "    D = torch.sqrt((dX**2).sum(-1) + eps)\n",
    "    return D\n",
    "\n",
    "# choose a protein with pdb id\n",
    "PDB_ID = '2HDA'\n",
    "protein = Protein(PDB_ID, canonicalize=True, device=device)\n",
    "\n",
    "# or use a randomly generated protein\n",
    "# protein = chroma.sample(\n",
    "#     chain_lengths=[50],\n",
    "#     langevin_factor=8,\n",
    "#     inverse_temperature=8,\n",
    "#     sde_func=\"langevin\",\n",
    "#     steps=500,\n",
    "# )\n",
    "\n",
    "# X: spatial coordinates of protein backbone, [batch_size, num_residue, num_atom_type, 3]\n",
    "X, C, S = protein.to_XCS(device=device)\n",
    "\n",
    "# contact map of selected protein\n",
    "D_inter = distance(X)\n",
    "\n",
    "# custom contact map conditioner\n",
    "noise_schedule = chroma.backbone_network.noise_schedule\n",
    "contact_conditioner = ContactMapConditioner(\n",
    "    D_inter[..., 1:2],\n",
    "    noise_schedule,\n",
    "    weight=0.05,\n",
    "    eps=1e-6,\n",
    "    ca_only=True\n",
    ")\n",
    "\n",
    "# do generation\n",
    "# contact map conditioned protein\n",
    "contact_cond_protein = chroma.sample(\n",
    "    chain_lengths=[X.size(1)],\n",
    "    conditioner=contact_conditioner,\n",
    "    langevin_factor=8,\n",
    "    inverse_temperature=8,\n",
    "    sde_func=\"langevin\",\n",
    "    steps=500,\n",
    ")\n",
    "\n",
    "# random protein with same number of residues\n",
    "random_protein = chroma.sample(\n",
    "    chain_lengths=[X.size(1)],\n",
    "    langevin_factor=8,\n",
    "    inverse_temperature=8,\n",
    "    sde_func=\"langevin\",\n",
    "    steps=500,\n",
    ")"
   ]
  },
  {
   "cell_type": "markdown",
   "metadata": {},
   "source": [
    "### Visualization"
   ]
  },
  {
   "cell_type": "code",
   "execution_count": 52,
   "metadata": {},
   "outputs": [
    {
     "data": {
      "application/vnd.jupyter.widget-view+json": {
       "model_id": "c5581933a912431aa2c64d74a6d6db2c",
       "version_major": 2,
       "version_minor": 0
      },
      "text/plain": [
       "NGLWidget()"
      ]
     },
     "metadata": {},
     "output_type": "display_data"
    },
    {
     "name": "stdout",
     "output_type": "stream",
     "text": [
      "Protein: 2HDA\n",
      "> Chain A (64 residues)\n",
      "MGGGVTIFVALYDYEARTTEDLSFKKGERFQIINNTEGDWWEARSIATGKNGYIPSNYVAPADS\n",
      "\n",
      "\n"
     ]
    },
    {
     "data": {
      "application/vnd.jupyter.widget-view+json": {
       "model_id": "f65cdf63ee434c00ab4d1c0890375752",
       "version_major": 2,
       "version_minor": 0
      },
      "text/plain": [
       "Button(description='Download sample', style=ButtonStyle())"
      ]
     },
     "metadata": {},
     "output_type": "display_data"
    }
   ],
   "source": [
    "# ground truth protein\n",
    "render(protein)"
   ]
  },
  {
   "cell_type": "code",
   "execution_count": 53,
   "metadata": {},
   "outputs": [
    {
     "data": {
      "application/vnd.jupyter.widget-view+json": {
       "model_id": "f7faadfbdbed4b7ab79fc40e8fef0dc7",
       "version_major": 2,
       "version_minor": 0
      },
      "text/plain": [
       "NGLWidget()"
      ]
     },
     "metadata": {},
     "output_type": "display_data"
    },
    {
     "name": "stdout",
     "output_type": "stream",
     "text": [
      "Protein: system\n",
      "> Chain A (64 residues)\n",
      "AAPPGPAGSCASGLPTDRPAAVCQCDGCETLVGASPDERTPVALCCGPDGTACQYGGGAAAPSA\n",
      "\n",
      "\n"
     ]
    },
    {
     "data": {
      "application/vnd.jupyter.widget-view+json": {
       "model_id": "752c9f3b26134b1da302896330e3df88",
       "version_major": 2,
       "version_minor": 0
      },
      "text/plain": [
       "Button(description='Download sample', style=ButtonStyle())"
      ]
     },
     "metadata": {},
     "output_type": "display_data"
    }
   ],
   "source": [
    "# reconstructed protein based on contact map\n",
    "render(contact_cond_protein)"
   ]
  },
  {
   "cell_type": "code",
   "execution_count": 54,
   "metadata": {},
   "outputs": [
    {
     "data": {
      "application/vnd.jupyter.widget-view+json": {
       "model_id": "6b96ebf82bee4ad6958b3ed3ff10417d",
       "version_major": 2,
       "version_minor": 0
      },
      "text/plain": [
       "NGLWidget()"
      ]
     },
     "metadata": {},
     "output_type": "display_data"
    },
    {
     "name": "stdout",
     "output_type": "stream",
     "text": [
      "Protein: system\n",
      "> Chain A (64 residues)\n",
      "EETKKKKELEDLCKKAVEQNIFERYQKILEKLSKEVRPLTEEEKKAIDLYDNCLYLKGKKKKKS\n",
      "\n",
      "\n"
     ]
    },
    {
     "data": {
      "application/vnd.jupyter.widget-view+json": {
       "model_id": "149517536f4c4838a16840e656ea1416",
       "version_major": 2,
       "version_minor": 0
      },
      "text/plain": [
       "Button(description='Download sample', style=ButtonStyle())"
      ]
     },
     "metadata": {},
     "output_type": "display_data"
    }
   ],
   "source": [
    "# randomly generated protein\n",
    "render(random_protein)"
   ]
  },
  {
   "cell_type": "markdown",
   "metadata": {},
   "source": [
    "### Evaluation"
   ]
  },
  {
   "cell_type": "markdown",
   "metadata": {},
   "source": [
    "#### Contact map error"
   ]
  },
  {
   "cell_type": "code",
   "execution_count": 55,
   "metadata": {},
   "outputs": [
    {
     "name": "stdout",
     "output_type": "stream",
     "text": [
      "random error: 6.179 cond error: 2.463\n"
     ]
    }
   ],
   "source": [
    "# compare contact map of generated protein with ground truth\n",
    "X_cond, _, _ = contact_cond_protein.to_XCS()\n",
    "D_cond = distance(X_cond)\n",
    "err = (D_cond - D_inter).abs().mean()\n",
    "\n",
    "X_rand, _, _ = random_protein.to_XCS()\n",
    "D_rand = distance(X_rand)\n",
    "random_err = (D_rand - D_inter).abs().mean()\n",
    "\n",
    "print(f\"random error: {random_err.item():.4} cond error: {err.item():.4}\")"
   ]
  },
  {
   "cell_type": "markdown",
   "metadata": {},
   "source": [
    "#### Structural similarity"
   ]
  },
  {
   "cell_type": "markdown",
   "metadata": {},
   "source": [
    "Calculate TM-align score, RMSD, and Sequence Identity between target protein and predicted protein."
   ]
  },
  {
   "cell_type": "code",
   "execution_count": null,
   "metadata": {},
   "outputs": [],
   "source": [
    "# install TM-align\n",
    "# skip if already installed\n",
    "!wget https://zhanggroup.org/RNA-align/TMalign/TMalign.zip\n",
    "!unzip TMalign.zip"
   ]
  },
  {
   "cell_type": "code",
   "execution_count": 49,
   "metadata": {},
   "outputs": [
    {
     "name": "stdout",
     "output_type": "stream",
     "text": [
      "\n",
      " **********************************************************************\n",
      " * TM-align (Version 20190425): protein and RNA structure alignment   *\n",
      " * References: Y Zhang, J Skolnick. Nucl Acids Res 33, 2302-9 (2005)  *\n",
      " *             S Gong, C Zhang, Y Zhang. Bioinformatics, bz282 (2019) *\n",
      " * Please email comments and suggestions to yangzhanglab@umich.edu    *\n",
      " **********************************************************************\n",
      "\n",
      "Name of Chain_1: ./TMalign/PDB1.pdb (to be superimposed onto Chain_2)\n",
      "Name of Chain_2: ./TMalign/PDB2.pdb\n",
      "Length of Chain_1: 250 residues\n",
      "Length of Chain_2: 166 residues\n",
      "\n",
      "Aligned length= 119, RMSD=   2.20, Seq_ID=n_identical/n_aligned= 0.824\n",
      "TM-score= 0.42654 (if normalized by length of Chain_1, i.e., LN=250, d0=5.85)\n",
      "TM-score= 0.61629 (if normalized by length of Chain_2, i.e., LN=166, d0=4.80)\n",
      "(You should use TM-score normalized by length of the reference structure)\n",
      "\n",
      "(\":\" denotes residue pairs of d <  5.0 Angstrom, \".\" denotes other aligned residues)\n",
      "CQDVVQDVPNVDVQMLELYDRMSFKDIDGGVWKQGWNIKYDPLKY---------------------------------------------NAHHKLKVFVVPHSHNDPGWIQTFEEYYQH-DTKHILSNALRHLHDNPEMKFIWAEISYFARFYHDLGEN-KKLQMKSIVKNGQLEFVTGGWVMPDEANSHWRNVLLQLTEGQTWLKQFMNVTPTASWAIDPFGHSPTMPYILQKSGFKNMLIQRTHYSVKKELAQQRQLEFLWRQIWDNKGDTALFTHMMPFYSYDIPHTCGPDPK\n",
      "                                                                                          .::::::::::::::::::::::::: ::: ::::::::::::::::::: ::::::::::::::::::: ::::::::::::::::.:::::::::::::::::::::::::::::::::::                                                                                    \n",
      "---------------------------------------------CQDVVQDVPNVDVQMLELYDRMSFKDIDGGVWKQGWNIKYDPLKYNAHHKLKVFVVPHSHNDPGWIQTFEE-YYQHDTKHILSNALRHLHDNPEM-KFIWAEISYFARFYHDLGENKKLQMKSIVKNGQLEFVTGGWVMPDEANSHWRNVLLQLTEGQTWLKQFMNVT------------------------------------------------------------------------------------\n",
      "\n",
      "Total CPU time is  0.01 seconds\n",
      "\n",
      "{'rmsd': 2.2, 'tm_score': (0.42654, 0.61629), 'seq_id': 0.824}\n"
     ]
    }
   ],
   "source": [
    "# verify installation\n",
    "import subprocess, shlex\n",
    "\n",
    "def extract_metrics(tm_output):\n",
    "    \"\"\"\n",
    "    extract RMSD, TM-score, Seq-Id from TMalign output\n",
    "    \"\"\"\n",
    "    # locate metrics\n",
    "    rmsd_start = tm_output.find(b\"RMSD\")\n",
    "    rmsd_end = tm_output.find(b\",\", rmsd_start)\n",
    "    tm1_start = tm_output.find(b\"TM-score\")\n",
    "    tm1_end = tm_output.find(b\"(\", tm1_start)\n",
    "    seq_id_start = tm_output.find(b'Seq_ID=n_identical/n_aligned=', rmsd_end) + len('Seq_ID=n_identical/n_aligned=')\n",
    "    seq_id_end = tm1_start\n",
    "    tm2_start = tm_output.find(b\"TM-score\", tm1_end)\n",
    "    tm2_end = tm_output.find(b\"(\", tm2_start)\n",
    "    # extract metrics\n",
    "    rmsd = float(tm_output[rmsd_start+5:rmsd_end])\n",
    "    seq_id = float(tm_output[seq_id_start:seq_id_end])\n",
    "    tm_score = float(tm_output[tm1_start+9:tm1_end]), float(tm_output[tm2_start+9:tm2_end])\n",
    "    return {'rmsd': rmsd, 'tm_score': tm_score, 'seq_id': seq_id}\n",
    "\n",
    "\n",
    "tm_align = './TMalign/TMalign'\n",
    "cmd = f\"{tm_align} ./TMalign/PDB1.pdb ./TMalign/PDB2.pdb\"\n",
    "test_tm_output = subprocess.check_output(shlex.split(cmd))\n",
    "test_metrics = extract_metrics(test_tm_output)\n",
    "print(test_tm_output.decode())\n",
    "print(test_metrics)"
   ]
  },
  {
   "cell_type": "code",
   "execution_count": 56,
   "metadata": {},
   "outputs": [
    {
     "name": "stdout",
     "output_type": "stream",
     "text": [
      "cond: {'rmsd': 2.78, 'tm_score': (0.56338, 0.53962), 'seq_id': 0.053}\n",
      "rand: {'rmsd': 4.0, 'tm_score': (0.24682, 0.23707), 'seq_id': 0.069}\n"
     ]
    }
   ],
   "source": [
    "# calculate metrics\n",
    "protein.to_PDB('gt.pdb')\n",
    "contact_cond_protein.to_PDB('cond.pdb')\n",
    "random_protein.to_PDB('rand.pdb')\n",
    "\n",
    "cmd = f\"{tm_align} gt.pdb cond.pdb\"\n",
    "metrics_cond = extract_metrics(subprocess.check_output(shlex.split(cmd)))\n",
    "cmd = f\"{tm_align} gt.pdb rand.pdb\"\n",
    "metrics_rand = extract_metrics(subprocess.check_output(shlex.split(cmd)))\n",
    "\n",
    "print(f\"cond: {metrics_cond}\")\n",
    "print(f\"rand: {metrics_rand}\")"
   ]
  }
 ],
 "metadata": {
  "kernelspec": {
   "display_name": "Python 3 (ipykernel)",
   "language": "python",
   "name": "python3"
  },
  "language_info": {
   "codemirror_mode": {
    "name": "ipython",
    "version": 3
   },
   "file_extension": ".py",
   "mimetype": "text/x-python",
   "name": "python",
   "nbconvert_exporter": "python",
   "pygments_lexer": "ipython3",
   "version": "3.8.19"
  }
 },
 "nbformat": 4,
 "nbformat_minor": 2
}
