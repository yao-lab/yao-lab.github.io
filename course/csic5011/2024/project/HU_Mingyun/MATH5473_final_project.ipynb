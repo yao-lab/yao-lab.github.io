{
  "nbformat": 4,
  "nbformat_minor": 0,
  "metadata": {
    "colab": {
      "provenance": []
    },
    "kernelspec": {
      "name": "python3",
      "display_name": "Python 3"
    },
    "language_info": {
      "name": "python"
    }
  },
  "cells": [
    {
      "cell_type": "code",
      "execution_count": null,
      "metadata": {
        "id": "zjynPI6er_Pj"
      },
      "outputs": [],
      "source": [
        "import numpy as np\n",
        "import pandas as pd\n",
        "import matplotlib.pyplot as plt\n",
        "import scipy.io\n",
        "from scipy.sparse.linalg import eigs\n",
        "from scipy import stats"
      ]
    },
    {
      "cell_type": "markdown",
      "source": [
        "# Load dataset"
      ],
      "metadata": {
        "id": "AYZnPEuGsgsk"
      }
    },
    {
      "cell_type": "code",
      "source": [
        "file = scipy.io.loadmat('univ_cn.mat')\n",
        "univ_cn = file['univ_cn']\n",
        "rank_cn = file['rank_cn']\n",
        "W_cn = file['W_cn']"
      ],
      "metadata": {
        "id": "O69E7aFes1ho"
      },
      "execution_count": null,
      "outputs": []
    },
    {
      "cell_type": "code",
      "source": [
        "# get the number of the universities\n",
        "n = univ_cn.shape[1]\n",
        "\n",
        "# get the names of the universities\n",
        "univ = [univ_cn[0][i][0].split('.')[0] for i in range(n)]\n",
        "\n",
        "# get the research ranking of these universities\n",
        "research_rank = file['rank_cn'].reshape((n,))\n",
        "research_idx = np.arange(n,)"
      ],
      "metadata": {
        "id": "3e4_e-e-uAXE"
      },
      "execution_count": null,
      "outputs": []
    },
    {
      "cell_type": "code",
      "source": [
        "import matplotlib.pyplot as plt\n",
        "import networkx as nx\n",
        "import numpy as np\n",
        "\n",
        "G = nx.from_numpy_array(np.matrix(W_cn), create_using=nx.DiGraph)"
      ],
      "metadata": {
        "id": "5QGRaydYdOSU"
      },
      "execution_count": null,
      "outputs": []
    },
    {
      "cell_type": "markdown",
      "source": [
        "# PageRank"
      ],
      "metadata": {
        "id": "DGxPEXauvlpC"
      }
    },
    {
      "cell_type": "code",
      "source": [
        "def PageRank(alpha, W):\n",
        "\n",
        "    D = np.sum(W, axis = 1)\n",
        "    n = W.shape[0]\n",
        "    indices = [i for i in range(n) if D[i]>0]\n",
        "    T = np.zeros((n,n))\n",
        "    for i in indices:\n",
        "        T[i,:] = W[i,:] / D[i]\n",
        "\n",
        "    T1 = T * alpha + (1 - alpha) * np.ones((n,n)) / n\n",
        "    leval, levec = eigs(T1.T,1)\n",
        "    levec = levec.reshape((n,))\n",
        "\n",
        "    pagerank_score = np.abs(levec/np.sum(levec))\n",
        "\n",
        "    pagerank_idx = np.argsort(-pagerank_score)\n",
        "\n",
        "    univ_pagerank = [univ[i] for i in pagerank_idx]\n",
        "\n",
        "    return pagerank_score, pagerank_idx, univ_pagerank"
      ],
      "metadata": {
        "id": "XhnIF0_Tz3-t"
      },
      "execution_count": null,
      "outputs": []
    },
    {
      "cell_type": "code",
      "source": [
        "pagerank_score, pagerank_idx, univ_pagerank = PageRank(0.85,W_cn)\n",
        "print(univ_pagerank)"
      ],
      "metadata": {
        "colab": {
          "base_uri": "https://localhost:8080/"
        },
        "id": "2iuIWm95z-dk",
        "outputId": "6e3a65b3-8c82-4d74-e791-3ce329590c6e"
      },
      "execution_count": null,
      "outputs": [
        {
          "output_type": "stream",
          "name": "stdout",
          "text": [
            "['tsinghua', 'pku', 'sjtu', 'nju', 'uestc', 'scut', 'zsu', 'dlut', 'fudan', 'seu', 'zju', 'ustc', 'hust', 'gzsums', 'jnu', 'whu', 'bnu', 'tju', 'lzu', 'ecnu', 'tongji', 'swjtu', 'xmu', 'nankai', 'jlu', 'bupt', 'ruc', 'bfsu', 'njau', 'sdu', 'fzu', 'nuaa', 'hit', 'cau', 'cumt', 'njtu', 'swufe', 'xidian', 'bit', 'neu', 'njust', 'buaa', 'cqu', 'ecust', 'nwu', 'nwpu', 'shufe', 'cug', 'nenu', 'tyut', 'ccnu', 'njmu', 'xju', 'scau', 'dlmu', 'ouqd', 'znufe', 'shsmu', 'shisu', 'ustb', 'sicau', 'hfut', 'njim', 'ccom', 'cupl', 'scu', 'uibe', 'henu', 'cpums', 'usst', 'hzau', 'csu', 'cdut', 'cun', 'sdust', 'nip']\n"
          ]
        }
      ]
    },
    {
      "cell_type": "markdown",
      "source": [
        "# HITS authority ranking"
      ],
      "metadata": {
        "id": "cMLWATph3GHd"
      }
    },
    {
      "cell_type": "code",
      "source": [
        "U,S,V = np.linalg.svd(W_cn)\n",
        "authority_score = V[0,:] / np.sum(V[0,:])\n",
        "authority_idx = np.argsort(-authority_score)\n",
        "univ_authrank = [univ[i] for i in authority_idx]\n",
        "print(univ_authrank)\n",
        "rou, p_value = stats.spearmanr(research_idx,authority_idx)\n",
        "print(\"rou = \" + str(rou))\n",
        "tau, p_value = stats.kendalltau(research_idx,authority_idx)\n",
        "print(\"tau = \" + str(tau))"
      ],
      "metadata": {
        "colab": {
          "base_uri": "https://localhost:8080/"
        },
        "id": "I7EjLI-K3IYm",
        "outputId": "0d69e85c-f519-4245-ed98-b5521d570a23"
      },
      "execution_count": null,
      "outputs": [
        {
          "output_type": "stream",
          "name": "stdout",
          "text": [
            "['tsinghua', 'pku', 'uestc', 'sjtu', 'nju', 'fudan', 'zsu', 'scut', 'zju', 'gzsums', 'seu', 'tju', 'whu', 'hust', 'ecnu', 'tongji', 'dlut', 'xmu', 'jlu', 'nankai', 'bnu', 'ustc', 'ruc', 'hit', 'cau', 'bupt', 'sdu', 'jnu', 'buaa', 'lzu', 'cqu', 'njtu', 'fzu', 'cumt', 'njust', 'nwpu', 'ecust', 'swjtu', 'neu', 'nuaa', 'xidian', 'njau', 'nwu', 'bit', 'swufe', 'ccnu', 'nenu', 'tyut', 'cug', 'scau', 'shufe', 'hfut', 'njmu', 'shsmu', 'sicau', 'xju', 'ouqd', 'shisu', 'ccom', 'znufe', 'ustb', 'njim', 'dlmu', 'scu', 'uibe', 'henu', 'bfsu', 'cpums', 'cupl', 'hzau', 'usst', 'csu', 'cun', 'sdust', 'cdut', 'nip']\n",
            "rou = 0.7505126452494874\n",
            "tau = 0.5719298245614035\n"
          ]
        }
      ]
    },
    {
      "cell_type": "markdown",
      "source": [
        "# HITS hub ranking"
      ],
      "metadata": {
        "id": "Sd4OnOQF37jr"
      }
    },
    {
      "cell_type": "code",
      "source": [
        "hub_score = U[:,0] / np.sum(U[:,0])\n",
        "hub_idx = np.argsort(-hub_score)\n",
        "univ_hubrank = [univ[i] for i in hub_idx]\n",
        "print(univ_hubrank)\n",
        "rou, p_value = stats.spearmanr(research_idx,hub_idx)\n",
        "print(\"rou = \" + str(rou))\n",
        "tau, p_value = stats.kendalltau(research_idx,hub_idx)\n",
        "print(\"tau = \" + str(tau))"
      ],
      "metadata": {
        "colab": {
          "base_uri": "https://localhost:8080/"
        },
        "id": "_G0-0g7d4Bab",
        "outputId": "3f222323-eaa4-405d-f841-29bb9f69e7ae"
      },
      "execution_count": null,
      "outputs": [
        {
          "output_type": "stream",
          "name": "stdout",
          "text": [
            "['pku', 'ustc', 'zsu', 'sjtu', 'zju', 'seu', 'njau', 'whu', 'tju', 'tsinghua', 'hit', 'sdu', 'cau', 'lzu', 'swufe', 'fudan', 'nju', 'scu', 'scau', 'jlu', 'bnu', 'tyut', 'nenu', 'cug', 'gzsums', 'hzau', 'neu', 'ccnu', 'ecnu', 'hust', 'scut', 'tongji', 'swjtu', 'nwpu', 'jnu', 'nankai', 'dlut', 'fzu', 'shufe', 'nwu', 'bfsu', 'xidian', 'sicau', 'ruc', 'cun', 'znufe', 'sdust', 'cqu', 'njust', 'dlmu', 'xju', 'cdut', 'njtu', 'nip', 'bupt', 'cupl', 'henu', 'ouqd', 'csu', 'nuaa', 'shisu', 'bit', 'uestc', 'cumt', 'njim', 'njmu', 'ustb', 'cpums', 'buaa', 'xmu', 'uibe', 'hfut', 'usst', 'ecust', 'ccom', 'shsmu']\n",
            "rou = 0.5395762132604237\n",
            "tau = 0.3782456140350878\n"
          ]
        }
      ]
    },
    {
      "cell_type": "markdown",
      "source": [
        "# Weighted PageRank"
      ],
      "metadata": {
        "id": "4U0cGvh25Ccl"
      }
    },
    {
      "cell_type": "code",
      "source": [
        "def W_in(W):\n",
        "\n",
        "    I = np.sum(W, axis = 0)\n",
        "    n = W.shape[0]\n",
        "\n",
        "    W_in = np.zeros((n,n))\n",
        "    for i in range(n):\n",
        "      temp = np.zeros(n)\n",
        "      for j in range(n):\n",
        "        if W[i][j]>0:\n",
        "          temp[j]=I[j]\n",
        "      for j in range(n):\n",
        "        if W[i][j]>0:\n",
        "          W_in[i][j]=temp[j]/np.sum(temp)\n",
        "\n",
        "    return W_in"
      ],
      "metadata": {
        "id": "zqdPEUZwVFyb"
      },
      "execution_count": null,
      "outputs": []
    },
    {
      "cell_type": "code",
      "source": [
        "def W_out(W):\n",
        "\n",
        "    O = np.sum(W, axis = 1)\n",
        "    n = W.shape[0]\n",
        "\n",
        "    W_out = np.zeros((n,n))\n",
        "    for i in range(n):\n",
        "      temp = np.zeros(n)\n",
        "      for j in range(n):\n",
        "        if W[i][j]>0:\n",
        "          temp[j]=O[j]\n",
        "      for j in range(n):\n",
        "        if W[i][j]>0:\n",
        "          W_out[i][j]=temp[j]/np.sum(temp)\n",
        "\n",
        "    return W_out"
      ],
      "metadata": {
        "id": "RBnqKlXihjoD"
      },
      "execution_count": null,
      "outputs": []
    },
    {
      "cell_type": "code",
      "source": [
        "def WeightedPageRank(alpha, W, W_in, W_out):\n",
        "\n",
        "    D = np.sum(W, axis = 1)\n",
        "    n = W.shape[0]\n",
        "    indices = [i for i in range(n) if D[i]>0]\n",
        "    T = np.zeros((n,n))\n",
        "    for i in range(n):\n",
        "      for j in range(n):\n",
        "        T[i,j] = W[i,j] * W_in[i,j] * W_out[i,j]\n",
        "\n",
        "    T1 = T * alpha + (1 - alpha) * np.ones((n,n)) / n\n",
        "    leval, levec = eigs(T1.T,1)\n",
        "    levec = levec.reshape((n,))\n",
        "\n",
        "    pagerank_score = np.abs(levec/np.sum(levec))\n",
        "\n",
        "    pagerank_idx = np.argsort(-pagerank_score)\n",
        "\n",
        "    univ_pagerank = [univ[i] for i in pagerank_idx]\n",
        "\n",
        "    return pagerank_score, pagerank_idx, univ_pagerank"
      ],
      "metadata": {
        "id": "cC318vqQh9zm"
      },
      "execution_count": null,
      "outputs": []
    },
    {
      "cell_type": "code",
      "source": [
        "Win = W_in(W_cn)\n",
        "Wout = W_out(W_cn)\n",
        "pagerank_score, pagerank_idx, univ_pagerank = WeightedPageRank(0.9,Win,Wout,W_cn)\n",
        "print(univ_pagerank)\n",
        "rou, p_value = stats.spearmanr(research_idx,pagerank_idx)\n",
        "print(\"rou = \" + str(rou))\n",
        "tau, p_value = stats.kendalltau(research_idx,pagerank_idx)\n",
        "print(\"tau = \" + str(tau))"
      ],
      "metadata": {
        "colab": {
          "base_uri": "https://localhost:8080/"
        },
        "id": "LBuWPSEw5OJ4",
        "outputId": "9afbdb9c-71bd-4f52-f1a5-9f09e8526f4d"
      },
      "execution_count": null,
      "outputs": [
        {
          "output_type": "stream",
          "name": "stdout",
          "text": [
            "['tsinghua', 'pku', 'sjtu', 'zsu', 'whu', 'nju', 'seu', 'ustc', 'zju', 'fudan', 'tju', 'hust', 'njau', 'cau', 'bfsu', 'hit', 'sdu', 'scut', 'gzsums', 'lzu', 'jlu', 'ecnu', 'bnu', 'swufe', 'tyut', 'nenu', 'fzu', 'jnu', 'scu', 'scau', 'neu', 'ccnu', 'cug', 'nankai', 'swjtu', 'dlut', 'tongji', 'nwpu', 'ruc', 'xidian', 'shufe', 'sicau', 'nwu', 'uestc', 'znufe', 'xju', 'cqu', 'njust', 'dlmu', 'njtu', 'bupt', 'cumt', 'nuaa', 'xmu', 'ouqd', 'njmu', 'shisu', 'njim', 'henu', 'bit', 'buaa', 'hzau', 'cupl', 'uibe', 'ustb', 'cpums', 'cun', 'csu', 'cdut', 'sdust', 'hfut', 'ecust', 'ccom', 'nip', 'shsmu', 'usst']\n",
            "rou = 0.5933287764866713\n",
            "tau = 0.4175438596491229\n"
          ]
        }
      ]
    },
    {
      "cell_type": "markdown",
      "source": [
        "# Change the Google's hyperparameters"
      ],
      "metadata": {
        "id": "7w3nboTJrkfn"
      }
    },
    {
      "cell_type": "markdown",
      "source": [
        "Spearman’s $\\rho$ rank correlation coefficient"
      ],
      "metadata": {
        "id": "RPkePqplsDNO"
      }
    },
    {
      "cell_type": "code",
      "source": [
        "from scipy import stats\n",
        "\n",
        "alphaset = np.array([0.1, 0.2, 0.3, 0.4, 0.5, 0.6, 0.7, 0.85, 0.9])\n",
        "n_alpha = alphaset.shape[0] # shape of alphaset\n",
        "pageranks_idx = np.zeros((n,n_alpha))\n",
        "\n",
        "for i in range (n_alpha):\n",
        "    print(\"alpha = \" + str(alphaset[i]))\n",
        "    pageranks_idx[:,i] = PageRank(alphaset[i],W_cn)[1]\n",
        "    rou, p_value = stats.spearmanr(research_idx,pageranks_idx[:,i])\n",
        "    print(\"rou = \" + str(rou))\n",
        "    tau, p_value = stats.kendalltau(research_idx,pageranks_idx[:,i])\n",
        "    print(\"tau = \" + str(tau))\n",
        "\n",
        "    univ_pagerank = PageRank(alphaset[i],W_cn)[2]\n",
        "    print(univ_pagerank[0:5])"
      ],
      "metadata": {
        "colab": {
          "base_uri": "https://localhost:8080/",
          "height": 224
        },
        "id": "HvRWH2czrl_i",
        "outputId": "1e54ae3a-223d-4136-e166-ab228471103b"
      },
      "execution_count": null,
      "outputs": [
        {
          "output_type": "stream",
          "name": "stdout",
          "text": [
            "alpha = 0.1\n"
          ]
        },
        {
          "output_type": "error",
          "ename": "NameError",
          "evalue": "name 'PageRank' is not defined",
          "traceback": [
            "\u001b[0;31m---------------------------------------------------------------------------\u001b[0m",
            "\u001b[0;31mNameError\u001b[0m                                 Traceback (most recent call last)",
            "\u001b[0;32m<ipython-input-20-21eac3cbcea9>\u001b[0m in \u001b[0;36m<cell line: 7>\u001b[0;34m()\u001b[0m\n\u001b[1;32m      7\u001b[0m \u001b[0;32mfor\u001b[0m \u001b[0mi\u001b[0m \u001b[0;32min\u001b[0m \u001b[0mrange\u001b[0m \u001b[0;34m(\u001b[0m\u001b[0mn_alpha\u001b[0m\u001b[0;34m)\u001b[0m\u001b[0;34m:\u001b[0m\u001b[0;34m\u001b[0m\u001b[0;34m\u001b[0m\u001b[0m\n\u001b[1;32m      8\u001b[0m     \u001b[0mprint\u001b[0m\u001b[0;34m(\u001b[0m\u001b[0;34m\"alpha = \"\u001b[0m \u001b[0;34m+\u001b[0m \u001b[0mstr\u001b[0m\u001b[0;34m(\u001b[0m\u001b[0malphaset\u001b[0m\u001b[0;34m[\u001b[0m\u001b[0mi\u001b[0m\u001b[0;34m]\u001b[0m\u001b[0;34m)\u001b[0m\u001b[0;34m)\u001b[0m\u001b[0;34m\u001b[0m\u001b[0;34m\u001b[0m\u001b[0m\n\u001b[0;32m----> 9\u001b[0;31m     \u001b[0mpageranks_idx\u001b[0m\u001b[0;34m[\u001b[0m\u001b[0;34m:\u001b[0m\u001b[0;34m,\u001b[0m\u001b[0mi\u001b[0m\u001b[0;34m]\u001b[0m \u001b[0;34m=\u001b[0m \u001b[0mPageRank\u001b[0m\u001b[0;34m(\u001b[0m\u001b[0malphaset\u001b[0m\u001b[0;34m[\u001b[0m\u001b[0mi\u001b[0m\u001b[0;34m]\u001b[0m\u001b[0;34m,\u001b[0m\u001b[0mW_cn\u001b[0m\u001b[0;34m)\u001b[0m\u001b[0;34m[\u001b[0m\u001b[0;36m1\u001b[0m\u001b[0;34m]\u001b[0m\u001b[0;34m\u001b[0m\u001b[0;34m\u001b[0m\u001b[0m\n\u001b[0m\u001b[1;32m     10\u001b[0m     \u001b[0mrou\u001b[0m\u001b[0;34m,\u001b[0m \u001b[0mp_value\u001b[0m \u001b[0;34m=\u001b[0m \u001b[0mstats\u001b[0m\u001b[0;34m.\u001b[0m\u001b[0mspearmanr\u001b[0m\u001b[0;34m(\u001b[0m\u001b[0mresearch_idx\u001b[0m\u001b[0;34m,\u001b[0m\u001b[0mpageranks_idx\u001b[0m\u001b[0;34m[\u001b[0m\u001b[0;34m:\u001b[0m\u001b[0;34m,\u001b[0m\u001b[0mi\u001b[0m\u001b[0;34m]\u001b[0m\u001b[0;34m)\u001b[0m\u001b[0;34m\u001b[0m\u001b[0;34m\u001b[0m\u001b[0m\n\u001b[1;32m     11\u001b[0m     \u001b[0mprint\u001b[0m\u001b[0;34m(\u001b[0m\u001b[0;34m\"rou = \"\u001b[0m \u001b[0;34m+\u001b[0m \u001b[0mstr\u001b[0m\u001b[0;34m(\u001b[0m\u001b[0mrou\u001b[0m\u001b[0;34m)\u001b[0m\u001b[0;34m)\u001b[0m\u001b[0;34m\u001b[0m\u001b[0;34m\u001b[0m\u001b[0m\n",
            "\u001b[0;31mNameError\u001b[0m: name 'PageRank' is not defined"
          ]
        }
      ]
    },
    {
      "cell_type": "markdown",
      "source": [
        "# Node ranking based on centralities"
      ],
      "metadata": {
        "id": "IAINL4hetBzq"
      }
    },
    {
      "cell_type": "code",
      "source": [
        "d=nx.degree_centrality(G)\n",
        "degree_centrality_idx = np.argsort(list(d.values()))[::-1]\n",
        "univ_degree_centrality = [univ[i] for i in degree_centrality_idx]\n",
        "print(univ_degree_centrality)\n",
        "rou, p_value = stats.spearmanr(research_idx,degree_centrality_idx)\n",
        "print(\"rou = \" + str(rou))\n",
        "tau, p_value = stats.kendalltau(research_idx,degree_centrality_idx)\n",
        "print(\"tau = \" + str(tau))"
      ],
      "metadata": {
        "colab": {
          "base_uri": "https://localhost:8080/"
        },
        "id": "hQhyvXVre4vS",
        "outputId": "cda32090-3ce4-47fe-be94-1e05df4b2f86"
      },
      "execution_count": null,
      "outputs": [
        {
          "output_type": "stream",
          "name": "stdout",
          "text": [
            "['pku', 'tsinghua', 'nju', 'zsu', 'sjtu', 'scut', 'ecnu', 'swjtu', 'whu', 'njau', 'hit', 'seu', 'sdu', 'ustc', 'lzu', 'fudan', 'bnu', 'tju', 'jlu', 'cug', 'neu', 'tyut', 'gzsums', 'hust', 'xidian', 'shufe', 'xju', 'fzu', 'sicau', 'znufe', 'jnu', 'cau', 'nwpu', 'nenu', 'swufe', 'scau', 'ccnu', 'dlmu', 'scu', 'bfsu', 'zju', 'nwu', 'ruc', 'sdust', 'nankai', 'dlut', 'njtu', 'tongji', 'cqu', 'uestc', 'cdut', 'njust', 'cun', 'henu', 'cumt', 'nuaa', 'shisu', 'bupt', 'xmu', 'njmu', 'njim', 'ouqd', 'buaa', 'ecust', 'ustb', 'shsmu', 'ccom', 'bit', 'hfut', 'uibe', 'cupl', 'cpums', 'nip', 'hzau', 'usst', 'csu']\n",
            "rou = 0.4388243335611756\n",
            "tau = 0.3087719298245615\n"
          ]
        }
      ]
    },
    {
      "cell_type": "code",
      "source": [
        "d = nx.closeness_centrality(G)\n",
        "closeness_centrality_idx = np.argsort(list(d.values()))[::-1]\n",
        "univ_closeness_centrality = [univ[i] for i in closeness_centrality_idx]\n",
        "print(univ_closeness_centrality)\n",
        "rou, p_value = stats.spearmanr(research_idx,closeness_centrality_idx)\n",
        "print(\"rou = \" + str(rou))\n",
        "tau, p_value = stats.kendalltau(research_idx,closeness_centrality_idx)\n",
        "print(\"tau = \" + str(tau))"
      ],
      "metadata": {
        "colab": {
          "base_uri": "https://localhost:8080/"
        },
        "id": "j2XZ_xjYgrOV",
        "outputId": "2e137826-e062-4d3d-ed56-cf6e3ae3a5c5"
      },
      "execution_count": null,
      "outputs": [
        {
          "output_type": "stream",
          "name": "stdout",
          "text": [
            "['pku', 'tsinghua', 'nju', 'uestc', 'sjtu', 'scut', 'zsu', 'zju', 'dlut', 'seu', 'whu', 'fudan', 'ustc', 'jnu', 'njau', 'xmu', 'nankai', 'bnu', 'tju', 'tongji', 'nuaa', 'swjtu', 'hit', 'ecnu', 'fzu', 'bupt', 'gzsums', 'neu', 'lzu', 'cumt', 'njtu', 'hust', 'njust', 'jlu', 'buaa', 'ecust', 'sdu', 'ruc', 'cqu', 'xidian', 'nwu', 'shisu', 'njmu', 'shufe', 'xju', 'tyut', 'dlmu', 'nenu', 'scau', 'cau', 'njim', 'ouqd', 'cug', 'nwpu', 'shsmu', 'ccom', 'hfut', 'ustb', 'henu', 'ccnu', 'znufe', 'sicau', 'swufe', 'bit', 'uibe', 'cpums', 'bfsu', 'scu', 'cupl', 'usst', 'hzau', 'csu', 'cun', 'cdut', 'sdust', 'nip']\n",
            "rou = 0.6454135338345864\n",
            "tau = 0.472280701754386\n"
          ]
        }
      ]
    },
    {
      "cell_type": "code",
      "source": [
        "d = nx.betweenness_centrality(G)\n",
        "betweenness_centrality_idx = np.argsort(list(d.values()))[::-1]\n",
        "univ_betweenness_centrality = [univ[i] for i in betweenness_centrality_idx]\n",
        "print(univ_betweenness_centrality)\n",
        "rou, p_value = stats.spearmanr(research_idx,betweenness_centrality_idx)\n",
        "print(\"rou = \" + str(rou))\n",
        "tau, p_value = stats.kendalltau(research_idx,betweenness_centrality_idx)\n",
        "print(\"tau = \" + str(tau))"
      ],
      "metadata": {
        "colab": {
          "base_uri": "https://localhost:8080/"
        },
        "id": "SsSOLpZThhOU",
        "outputId": "64d99544-185b-4419-bebe-75b43e92c418"
      },
      "execution_count": null,
      "outputs": [
        {
          "output_type": "stream",
          "name": "stdout",
          "text": [
            "['pku', 'tsinghua', 'sdu', 'bfsu', 'sjtu', 'nju', 'swjtu', 'ecnu', 'scut', 'lzu', 'zsu', 'njau', 'seu', 'jnu', 'bnu', 'fudan', 'whu', 'ustc', 'gzsums', 'swufe', 'hust', 'tju', 'ruc', 'jlu', 'cqu', 'fzu', 'hit', 'zju', 'cug', 'tyut', 'neu', 'shufe', 'xidian', 'dlut', 'scu', 'znufe', 'sicau', 'xju', 'dlmu', 'cau', 'nankai', 'ccnu', 'nenu', 'uestc', 'cumt', 'nwu', 'cdut', 'nwpu', 'njtu', 'scau', 'tongji', 'cupl', 'nuaa', 'njust', 'njmu', 'cun', 'bupt', 'henu', 'bit', 'ouqd', 'shisu', 'xmu', 'uibe', 'cpums', 'buaa', 'njim', 'hzau', 'usst', 'hfut', 'sdust', 'ustb', 'csu', 'ccom', 'nip', 'ecust', 'shsmu']\n",
            "rou = 0.44855775803144227\n",
            "tau = 0.29684210526315796\n"
          ]
        }
      ]
    }
  ]
}