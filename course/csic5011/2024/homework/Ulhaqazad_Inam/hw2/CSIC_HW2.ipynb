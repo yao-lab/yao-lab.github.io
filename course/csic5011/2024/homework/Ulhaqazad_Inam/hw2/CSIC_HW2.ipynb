{
  "nbformat": 4,
  "nbformat_minor": 0,
  "metadata": {
    "colab": {
      "provenance": []
    },
    "kernelspec": {
      "name": "python3",
      "display_name": "Python 3"
    },
    "language_info": {
      "name": "python"
    }
  },
  "cells": [
    {
      "cell_type": "markdown",
      "source": [
        "Question 1"
      ],
      "metadata": {
        "id": "RD_SPuuiu1iS"
      }
    },
    {
      "cell_type": "code",
      "source": [
        "# Question 1\n",
        "\n",
        "import numpy as np\n",
        "from scipy.io import loadmat\n",
        "data = loadmat('snp452-data.mat')"
      ],
      "metadata": {
        "id": "8yLGrVs9u0Va"
      },
      "execution_count": null,
      "outputs": []
    },
    {
      "cell_type": "code",
      "source": [
        "X = data['X']\n",
        "stock_info = data['stock']"
      ],
      "metadata": {
        "id": "i5_caOkmtByq"
      },
      "execution_count": 57,
      "outputs": []
    },
    {
      "cell_type": "code",
      "source": [
        "print(X.shape)\n",
        "print(stock_info.shape)"
      ],
      "metadata": {
        "colab": {
          "base_uri": "https://localhost:8080/",
          "height": 0
        },
        "id": "gQfJ0wB-u5hZ",
        "outputId": "b00bf25f-434f-4134-e3da-6cdaae29620b"
      },
      "execution_count": 63,
      "outputs": [
        {
          "output_type": "stream",
          "name": "stdout",
          "text": [
            "(1258, 452)\n",
            "(1, 452)\n"
          ]
        }
      ]
    },
    {
      "cell_type": "code",
      "source": [
        "Y = np.log(X)"
      ],
      "metadata": {
        "id": "RywIAyq3vdKP"
      },
      "execution_count": 64,
      "outputs": []
    },
    {
      "cell_type": "code",
      "source": [
        "price_jumps = np.diff(Y, axis=1)\n"
      ],
      "metadata": {
        "id": "yKWjO8HWvdOA"
      },
      "execution_count": 65,
      "outputs": []
    },
    {
      "cell_type": "code",
      "source": [
        "price_jumps.shape"
      ],
      "metadata": {
        "colab": {
          "base_uri": "https://localhost:8080/",
          "height": 0
        },
        "id": "6hIY-XpTvdRs",
        "outputId": "68b25b34-3553-466c-ea1e-4442931562eb"
      },
      "execution_count": 67,
      "outputs": [
        {
          "output_type": "execute_result",
          "data": {
            "text/plain": [
              "(1258, 451)"
            ]
          },
          "metadata": {},
          "execution_count": 67
        }
      ]
    },
    {
      "cell_type": "code",
      "source": [
        "cov_matrix = np.cov(price_jumps)"
      ],
      "metadata": {
        "id": "3KHKAp45yp4-"
      },
      "execution_count": 68,
      "outputs": []
    },
    {
      "cell_type": "code",
      "source": [
        "import pandas as pd\n",
        "\n",
        "eigenvalues, eigenvectors = eigh(cov_matrix)\n",
        "\n",
        "# Sort in descending order\n",
        "sorted_indices = np.argsort(eigenvalues)[::-1]\n",
        "sorted_eigenvalues = eigenvalues[sorted_indices]\n",
        "sorted_eigenvectors = eigenvectors[:, sorted_indices]\n",
        "\n",
        "# make a dataframe\n",
        "result_df = pd.DataFrame({\n",
        "    'Eigenvalues': sorted_eigenvalues,\n",
        "    'Eigenvectors': list(sorted_eigenvectors.T),\n",
        "})\n",
        "\n",
        "print(result_df.head()) # this displays first few rows"
      ],
      "metadata": {
        "colab": {
          "base_uri": "https://localhost:8080/",
          "height": 0
        },
        "id": "dkxo-jFKyveD",
        "outputId": "bd38de28-1bb5-459a-a083-44eadf4cf179"
      },
      "execution_count": 69,
      "outputs": [
        {
          "output_type": "stream",
          "name": "stdout",
          "text": [
            "   Eigenvalues                                       Eigenvectors\n",
            "0   694.088129  [-0.03038999146761359, -0.030309033130975216, ...\n",
            "1   104.606713  [-0.04211784119134051, -0.04213677582158021, -...\n",
            "2    21.384423  [-0.046751198471665714, -0.04783480195123477, ...\n",
            "3    11.546673  [0.0031617107234427244, 0.0031205321154990735,...\n",
            "4     8.880331  [-0.08527944465108396, -0.08554893663007064, -...\n"
          ]
        }
      ]
    },
    {
      "cell_type": "code",
      "source": [
        "result_df.shape"
      ],
      "metadata": {
        "colab": {
          "base_uri": "https://localhost:8080/",
          "height": 0
        },
        "id": "2l0OzTYWzBCq",
        "outputId": "7dcaa621-e8a7-4ef0-9389-3611dfc2dd2e"
      },
      "execution_count": 70,
      "outputs": [
        {
          "output_type": "execute_result",
          "data": {
            "text/plain": [
              "(1258, 2)"
            ]
          },
          "metadata": {},
          "execution_count": 70
        }
      ]
    },
    {
      "cell_type": "code",
      "source": [
        "from scipy.linalg import eigh\n",
        "\n",
        "def horn(data_matrix, num_permutations):\n",
        "    n, t = data_matrix.shape\n",
        "    observed_covariance = np.cov(data_matrix)\n",
        "\n",
        "    eigenvalues_observed, _ = eigh(observed_covariance)\n",
        "\n",
        "    random_eigenvalues = []\n",
        "    for _ in range(num_permutations):\n",
        "        # random permutations\n",
        "        permuted_data_matrix = data_matrix[:, np.random.permutation(t)]\n",
        "\n",
        "        # Compute covariance matrix\n",
        "        permuted_covariance = np.cov(permuted_data_matrix)\n",
        "        eigenvalues_permuted, _ = eigh(permuted_covariance)\n",
        "\n",
        "        random_eigenvalues.append(eigenvalues_permuted)\n",
        "\n",
        "    random_eigenvalues = np.array(random_eigenvalues)\n",
        "\n",
        "    # check the condition\n",
        "    counts_greater = np.sum(random_eigenvalues[:, None, :] > eigenvalues_observed, axis=0)\n",
        "\n",
        "\n",
        "    p_values = (counts_greater + 1) / (num_permutations + 1)\n",
        "\n",
        "    return eigenvalues_observed, p_values\n",
        "\n",
        "# matrix\n",
        "data_matrix = price_jumps\n",
        "\n",
        "num_permutations = 100\n",
        "\n",
        "# Horn Analysis\n",
        "observed_eigenvalues, p_values = horn(data_matrix, num_permutations)\n",
        "\n",
        "result_df_parallel_analysis = pd.DataFrame({\n",
        "    'Observed Eigenvalues': observed_eigenvalues.flatten(),\n",
        "    'P-Values': p_values.flatten()\n",
        "})\n",
        "\n",
        "print(result_df_parallel_analysis.head())\n"
      ],
      "metadata": {
        "colab": {
          "base_uri": "https://localhost:8080/",
          "height": 0
        },
        "id": "8gbVweZZzl3u",
        "outputId": "90ad023c-e98c-4851-89fb-7dafaeb882da"
      },
      "execution_count": 98,
      "outputs": [
        {
          "output_type": "stream",
          "name": "stdout",
          "text": [
            "   Observed Eigenvalues  P-Values\n",
            "0         -7.175024e-14  0.049505\n",
            "1         -1.972688e-14  0.405941\n",
            "2         -1.301411e-14  0.485149\n",
            "3         -1.201932e-14  0.663366\n",
            "4         -1.088658e-14  0.752475\n"
          ]
        }
      ]
    },
    {
      "cell_type": "code",
      "source": [
        "result_df_parallel_analysis"
      ],
      "metadata": {
        "colab": {
          "base_uri": "https://localhost:8080/",
          "height": 424
        },
        "id": "YDp_7fJ7AYuk",
        "outputId": "bc0e1f34-5540-4e44-87ac-23db078e50f5"
      },
      "execution_count": 99,
      "outputs": [
        {
          "output_type": "execute_result",
          "data": {
            "text/plain": [
              "      Observed Eigenvalues  P-Values\n",
              "0            -7.175024e-14  0.049505\n",
              "1            -1.972688e-14  0.405941\n",
              "2            -1.301411e-14  0.485149\n",
              "3            -1.201932e-14  0.663366\n",
              "4            -1.088658e-14  0.752475\n",
              "...                    ...       ...\n",
              "1253          8.880331e+00  0.376238\n",
              "1254          1.154667e+01  0.356436\n",
              "1255          2.138442e+01  0.574257\n",
              "1256          1.046067e+02  0.524752\n",
              "1257          6.940881e+02  0.514851\n",
              "\n",
              "[1258 rows x 2 columns]"
            ],
            "text/html": [
              "\n",
              "  <div id=\"df-4b435ef9-b62a-463b-9cfc-2bb34e9cfac7\" class=\"colab-df-container\">\n",
              "    <div>\n",
              "<style scoped>\n",
              "    .dataframe tbody tr th:only-of-type {\n",
              "        vertical-align: middle;\n",
              "    }\n",
              "\n",
              "    .dataframe tbody tr th {\n",
              "        vertical-align: top;\n",
              "    }\n",
              "\n",
              "    .dataframe thead th {\n",
              "        text-align: right;\n",
              "    }\n",
              "</style>\n",
              "<table border=\"1\" class=\"dataframe\">\n",
              "  <thead>\n",
              "    <tr style=\"text-align: right;\">\n",
              "      <th></th>\n",
              "      <th>Observed Eigenvalues</th>\n",
              "      <th>P-Values</th>\n",
              "    </tr>\n",
              "  </thead>\n",
              "  <tbody>\n",
              "    <tr>\n",
              "      <th>0</th>\n",
              "      <td>-7.175024e-14</td>\n",
              "      <td>0.049505</td>\n",
              "    </tr>\n",
              "    <tr>\n",
              "      <th>1</th>\n",
              "      <td>-1.972688e-14</td>\n",
              "      <td>0.405941</td>\n",
              "    </tr>\n",
              "    <tr>\n",
              "      <th>2</th>\n",
              "      <td>-1.301411e-14</td>\n",
              "      <td>0.485149</td>\n",
              "    </tr>\n",
              "    <tr>\n",
              "      <th>3</th>\n",
              "      <td>-1.201932e-14</td>\n",
              "      <td>0.663366</td>\n",
              "    </tr>\n",
              "    <tr>\n",
              "      <th>4</th>\n",
              "      <td>-1.088658e-14</td>\n",
              "      <td>0.752475</td>\n",
              "    </tr>\n",
              "    <tr>\n",
              "      <th>...</th>\n",
              "      <td>...</td>\n",
              "      <td>...</td>\n",
              "    </tr>\n",
              "    <tr>\n",
              "      <th>1253</th>\n",
              "      <td>8.880331e+00</td>\n",
              "      <td>0.376238</td>\n",
              "    </tr>\n",
              "    <tr>\n",
              "      <th>1254</th>\n",
              "      <td>1.154667e+01</td>\n",
              "      <td>0.356436</td>\n",
              "    </tr>\n",
              "    <tr>\n",
              "      <th>1255</th>\n",
              "      <td>2.138442e+01</td>\n",
              "      <td>0.574257</td>\n",
              "    </tr>\n",
              "    <tr>\n",
              "      <th>1256</th>\n",
              "      <td>1.046067e+02</td>\n",
              "      <td>0.524752</td>\n",
              "    </tr>\n",
              "    <tr>\n",
              "      <th>1257</th>\n",
              "      <td>6.940881e+02</td>\n",
              "      <td>0.514851</td>\n",
              "    </tr>\n",
              "  </tbody>\n",
              "</table>\n",
              "<p>1258 rows × 2 columns</p>\n",
              "</div>\n",
              "    <div class=\"colab-df-buttons\">\n",
              "\n",
              "  <div class=\"colab-df-container\">\n",
              "    <button class=\"colab-df-convert\" onclick=\"convertToInteractive('df-4b435ef9-b62a-463b-9cfc-2bb34e9cfac7')\"\n",
              "            title=\"Convert this dataframe to an interactive table.\"\n",
              "            style=\"display:none;\">\n",
              "\n",
              "  <svg xmlns=\"http://www.w3.org/2000/svg\" height=\"24px\" viewBox=\"0 -960 960 960\">\n",
              "    <path d=\"M120-120v-720h720v720H120Zm60-500h600v-160H180v160Zm220 220h160v-160H400v160Zm0 220h160v-160H400v160ZM180-400h160v-160H180v160Zm440 0h160v-160H620v160ZM180-180h160v-160H180v160Zm440 0h160v-160H620v160Z\"/>\n",
              "  </svg>\n",
              "    </button>\n",
              "\n",
              "  <style>\n",
              "    .colab-df-container {\n",
              "      display:flex;\n",
              "      gap: 12px;\n",
              "    }\n",
              "\n",
              "    .colab-df-convert {\n",
              "      background-color: #E8F0FE;\n",
              "      border: none;\n",
              "      border-radius: 50%;\n",
              "      cursor: pointer;\n",
              "      display: none;\n",
              "      fill: #1967D2;\n",
              "      height: 32px;\n",
              "      padding: 0 0 0 0;\n",
              "      width: 32px;\n",
              "    }\n",
              "\n",
              "    .colab-df-convert:hover {\n",
              "      background-color: #E2EBFA;\n",
              "      box-shadow: 0px 1px 2px rgba(60, 64, 67, 0.3), 0px 1px 3px 1px rgba(60, 64, 67, 0.15);\n",
              "      fill: #174EA6;\n",
              "    }\n",
              "\n",
              "    .colab-df-buttons div {\n",
              "      margin-bottom: 4px;\n",
              "    }\n",
              "\n",
              "    [theme=dark] .colab-df-convert {\n",
              "      background-color: #3B4455;\n",
              "      fill: #D2E3FC;\n",
              "    }\n",
              "\n",
              "    [theme=dark] .colab-df-convert:hover {\n",
              "      background-color: #434B5C;\n",
              "      box-shadow: 0px 1px 3px 1px rgba(0, 0, 0, 0.15);\n",
              "      filter: drop-shadow(0px 1px 2px rgba(0, 0, 0, 0.3));\n",
              "      fill: #FFFFFF;\n",
              "    }\n",
              "  </style>\n",
              "\n",
              "    <script>\n",
              "      const buttonEl =\n",
              "        document.querySelector('#df-4b435ef9-b62a-463b-9cfc-2bb34e9cfac7 button.colab-df-convert');\n",
              "      buttonEl.style.display =\n",
              "        google.colab.kernel.accessAllowed ? 'block' : 'none';\n",
              "\n",
              "      async function convertToInteractive(key) {\n",
              "        const element = document.querySelector('#df-4b435ef9-b62a-463b-9cfc-2bb34e9cfac7');\n",
              "        const dataTable =\n",
              "          await google.colab.kernel.invokeFunction('convertToInteractive',\n",
              "                                                    [key], {});\n",
              "        if (!dataTable) return;\n",
              "\n",
              "        const docLinkHtml = 'Like what you see? Visit the ' +\n",
              "          '<a target=\"_blank\" href=https://colab.research.google.com/notebooks/data_table.ipynb>data table notebook</a>'\n",
              "          + ' to learn more about interactive tables.';\n",
              "        element.innerHTML = '';\n",
              "        dataTable['output_type'] = 'display_data';\n",
              "        await google.colab.output.renderOutput(dataTable, element);\n",
              "        const docLink = document.createElement('div');\n",
              "        docLink.innerHTML = docLinkHtml;\n",
              "        element.appendChild(docLink);\n",
              "      }\n",
              "    </script>\n",
              "  </div>\n",
              "\n",
              "\n",
              "<div id=\"df-b3792434-a73b-40dd-b4ed-dc5d1941405e\">\n",
              "  <button class=\"colab-df-quickchart\" onclick=\"quickchart('df-b3792434-a73b-40dd-b4ed-dc5d1941405e')\"\n",
              "            title=\"Suggest charts\"\n",
              "            style=\"display:none;\">\n",
              "\n",
              "<svg xmlns=\"http://www.w3.org/2000/svg\" height=\"24px\"viewBox=\"0 0 24 24\"\n",
              "     width=\"24px\">\n",
              "    <g>\n",
              "        <path d=\"M19 3H5c-1.1 0-2 .9-2 2v14c0 1.1.9 2 2 2h14c1.1 0 2-.9 2-2V5c0-1.1-.9-2-2-2zM9 17H7v-7h2v7zm4 0h-2V7h2v10zm4 0h-2v-4h2v4z\"/>\n",
              "    </g>\n",
              "</svg>\n",
              "  </button>\n",
              "\n",
              "<style>\n",
              "  .colab-df-quickchart {\n",
              "      --bg-color: #E8F0FE;\n",
              "      --fill-color: #1967D2;\n",
              "      --hover-bg-color: #E2EBFA;\n",
              "      --hover-fill-color: #174EA6;\n",
              "      --disabled-fill-color: #AAA;\n",
              "      --disabled-bg-color: #DDD;\n",
              "  }\n",
              "\n",
              "  [theme=dark] .colab-df-quickchart {\n",
              "      --bg-color: #3B4455;\n",
              "      --fill-color: #D2E3FC;\n",
              "      --hover-bg-color: #434B5C;\n",
              "      --hover-fill-color: #FFFFFF;\n",
              "      --disabled-bg-color: #3B4455;\n",
              "      --disabled-fill-color: #666;\n",
              "  }\n",
              "\n",
              "  .colab-df-quickchart {\n",
              "    background-color: var(--bg-color);\n",
              "    border: none;\n",
              "    border-radius: 50%;\n",
              "    cursor: pointer;\n",
              "    display: none;\n",
              "    fill: var(--fill-color);\n",
              "    height: 32px;\n",
              "    padding: 0;\n",
              "    width: 32px;\n",
              "  }\n",
              "\n",
              "  .colab-df-quickchart:hover {\n",
              "    background-color: var(--hover-bg-color);\n",
              "    box-shadow: 0 1px 2px rgba(60, 64, 67, 0.3), 0 1px 3px 1px rgba(60, 64, 67, 0.15);\n",
              "    fill: var(--button-hover-fill-color);\n",
              "  }\n",
              "\n",
              "  .colab-df-quickchart-complete:disabled,\n",
              "  .colab-df-quickchart-complete:disabled:hover {\n",
              "    background-color: var(--disabled-bg-color);\n",
              "    fill: var(--disabled-fill-color);\n",
              "    box-shadow: none;\n",
              "  }\n",
              "\n",
              "  .colab-df-spinner {\n",
              "    border: 2px solid var(--fill-color);\n",
              "    border-color: transparent;\n",
              "    border-bottom-color: var(--fill-color);\n",
              "    animation:\n",
              "      spin 1s steps(1) infinite;\n",
              "  }\n",
              "\n",
              "  @keyframes spin {\n",
              "    0% {\n",
              "      border-color: transparent;\n",
              "      border-bottom-color: var(--fill-color);\n",
              "      border-left-color: var(--fill-color);\n",
              "    }\n",
              "    20% {\n",
              "      border-color: transparent;\n",
              "      border-left-color: var(--fill-color);\n",
              "      border-top-color: var(--fill-color);\n",
              "    }\n",
              "    30% {\n",
              "      border-color: transparent;\n",
              "      border-left-color: var(--fill-color);\n",
              "      border-top-color: var(--fill-color);\n",
              "      border-right-color: var(--fill-color);\n",
              "    }\n",
              "    40% {\n",
              "      border-color: transparent;\n",
              "      border-right-color: var(--fill-color);\n",
              "      border-top-color: var(--fill-color);\n",
              "    }\n",
              "    60% {\n",
              "      border-color: transparent;\n",
              "      border-right-color: var(--fill-color);\n",
              "    }\n",
              "    80% {\n",
              "      border-color: transparent;\n",
              "      border-right-color: var(--fill-color);\n",
              "      border-bottom-color: var(--fill-color);\n",
              "    }\n",
              "    90% {\n",
              "      border-color: transparent;\n",
              "      border-bottom-color: var(--fill-color);\n",
              "    }\n",
              "  }\n",
              "</style>\n",
              "\n",
              "  <script>\n",
              "    async function quickchart(key) {\n",
              "      const quickchartButtonEl =\n",
              "        document.querySelector('#' + key + ' button');\n",
              "      quickchartButtonEl.disabled = true;  // To prevent multiple clicks.\n",
              "      quickchartButtonEl.classList.add('colab-df-spinner');\n",
              "      try {\n",
              "        const charts = await google.colab.kernel.invokeFunction(\n",
              "            'suggestCharts', [key], {});\n",
              "      } catch (error) {\n",
              "        console.error('Error during call to suggestCharts:', error);\n",
              "      }\n",
              "      quickchartButtonEl.classList.remove('colab-df-spinner');\n",
              "      quickchartButtonEl.classList.add('colab-df-quickchart-complete');\n",
              "    }\n",
              "    (() => {\n",
              "      let quickchartButtonEl =\n",
              "        document.querySelector('#df-b3792434-a73b-40dd-b4ed-dc5d1941405e button');\n",
              "      quickchartButtonEl.style.display =\n",
              "        google.colab.kernel.accessAllowed ? 'block' : 'none';\n",
              "    })();\n",
              "  </script>\n",
              "</div>\n",
              "    </div>\n",
              "  </div>\n"
            ],
            "application/vnd.google.colaboratory.intrinsic+json": {
              "type": "dataframe",
              "variable_name": "result_df_parallel_analysis",
              "summary": "{\n  \"name\": \"result_df_parallel_analysis\",\n  \"rows\": 1258,\n  \"fields\": [\n    {\n      \"column\": \"Observed Eigenvalues\",\n      \"properties\": {\n        \"dtype\": \"number\",\n        \"std\": 19.80100623412645,\n        \"min\": -7.175023566511903e-14,\n        \"max\": 694.0881288419436,\n        \"num_unique_values\": 1258,\n        \"samples\": [\n          1.3756084278290306e-16,\n          -3.446113635302456e-16,\n          -4.742266496804024e-16\n        ],\n        \"semantic_type\": \"\",\n        \"description\": \"\"\n      }\n    },\n    {\n      \"column\": \"P-Values\",\n      \"properties\": {\n        \"dtype\": \"number\",\n        \"std\": 0.2867726953686516,\n        \"min\": 0.009900990099009901,\n        \"max\": 1.0,\n        \"num_unique_values\": 101,\n        \"samples\": [\n          0.8514851485148515,\n          0.44554455445544555,\n          0.6435643564356436\n        ],\n        \"semantic_type\": \"\",\n        \"description\": \"\"\n      }\n    }\n  ]\n}"
            }
          },
          "metadata": {},
          "execution_count": 99
        }
      ]
    },
    {
      "cell_type": "code",
      "source": [
        "# Assuming result_df_parallel_analysis is your DataFrame\n",
        "result_df_sorted = result_df_parallel_analysis.sort_values(by='P-Values', ignore_index=True)\n",
        "\n",
        "# Display the sorted DataFrame\n",
        "print(result_df_sorted)\n",
        "\n",
        "\n"
      ],
      "metadata": {
        "colab": {
          "base_uri": "https://localhost:8080/",
          "height": 0
        },
        "id": "YUMRLIb_AI4k",
        "outputId": "5dbae4bb-281d-4d2a-972e-a4deb960a4d8"
      },
      "execution_count": 100,
      "outputs": [
        {
          "output_type": "stream",
          "name": "stdout",
          "text": [
            "      Observed Eigenvalues  P-Values\n",
            "0                 0.058544  0.009901\n",
            "1                 0.157052  0.009901\n",
            "2                 0.000106  0.009901\n",
            "3                 0.000048  0.009901\n",
            "4                 0.000194  0.009901\n",
            "...                    ...       ...\n",
            "1253              0.000125  1.000000\n",
            "1254              0.000005  1.000000\n",
            "1255              0.031064  1.000000\n",
            "1256              0.000546  1.000000\n",
            "1257              0.000118  1.000000\n",
            "\n",
            "[1258 rows x 2 columns]\n"
          ]
        }
      ]
    },
    {
      "cell_type": "code",
      "source": [
        "np.sum(p_values<0.05)"
      ],
      "metadata": {
        "colab": {
          "base_uri": "https://localhost:8080/",
          "height": 0
        },
        "id": "PZkPCYHgDP7B",
        "outputId": "558a04e3-3b09-45db-a8a7-9dc0a1f1f452"
      },
      "execution_count": 101,
      "outputs": [
        {
          "output_type": "execute_result",
          "data": {
            "text/plain": [
              "103"
            ]
          },
          "metadata": {},
          "execution_count": 101
        }
      ]
    },
    {
      "cell_type": "code",
      "source": [
        "import numpy as np\n",
        "import matplotlib.pyplot as plt\n",
        "\n",
        "# Assuming result_df_sorted is the DataFrame with sorted P-Values\n",
        "p_value_threshold = 0.05\n",
        "\n",
        "# Find the index corresponding to the first p-value less than or equal to 0.05\n",
        "index_at_threshold = np.argmin(result_df_sorted['P-Values'] <= p_value_threshold)\n",
        "\n",
        "# Plot the P-Values\n",
        "plt.plot(result_df_sorted['P-Values'])\n",
        "plt.axvline(x=index_at_threshold, color='red', linestyle='--', label=f'P-Value = {p_value_threshold} Threshold')\n",
        "plt.xlabel('Index')\n",
        "plt.ylabel('P-Values')\n",
        "plt.title('Sorted P-Values')\n",
        "plt.legend()\n",
        "plt.show()\n",
        "\n",
        "print(f'Index corresponding to p-value = {p_value_threshold}: {index_at_threshold}')\n"
      ],
      "metadata": {
        "colab": {
          "base_uri": "https://localhost:8080/",
          "height": 489
        },
        "id": "fu0lCR4YS8JY",
        "outputId": "5d036cda-1c43-48a4-b20b-f42fe98aa143"
      },
      "execution_count": 103,
      "outputs": [
        {
          "output_type": "display_data",
          "data": {
            "text/plain": [
              "<Figure size 640x480 with 1 Axes>"
            ],
            "image/png": "[encoded data removed]"
          },
          "metadata": {}
        },
        {
          "output_type": "stream",
          "name": "stdout",
          "text": [
            "Index corresponding to p-value = 0.05: 103\n"
          ]
        }
      ]
    },
    {
      "cell_type": "markdown",
      "source": [
        "Only 103 eigenvalues convey the useful information. They can be considered a signal and not a noise."
      ],
      "metadata": {
        "id": "6FKonF9StCCL"
      }
    },
    {
      "cell_type": "markdown",
      "source": [
        "Question 2\n"
      ],
      "metadata": {
        "id": "eHtIxWNyu9RB"
      }
    },
    {
      "cell_type": "code",
      "source": [
        "#Question 2\n",
        "\n",
        "import numpy as np\n",
        "from scipy.linalg import eigh\n",
        "\n",
        "p=100\n",
        "n=400\n",
        "gamma = p/n\n",
        "\n",
        "def simulate_pca(gamma, lambda0, sigma=1):\n",
        "    u = np.eye(p)[0]\n",
        "\n",
        "    X = np.random.multivariate_normal(np.zeros(p), sigma**2 * np.eye(p) + lambda0 * np.outer(u, u), size=n)\n",
        "\n",
        "    # sample covariance matrix\n",
        "    Sn = np.cov(X, rowvar=False)\n",
        "\n",
        "    # eigenvalue\n",
        "    eigenvalues, eigenvectors = eigh(Sn)\n",
        "\n",
        "    idx = np.argmax(eigenvalues)\n",
        "    lambda_max = eigenvalues[idx]\n",
        "    v_max = eigenvectors[:, idx]\n",
        "\n",
        "    correlation_squared = np.abs(np.dot(u, v_max))**2\n",
        "\n",
        "    return lambda_max, correlation_squared, X, Sn\n",
        "\n",
        "\n",
        "lambda0_values = np.linspace(np.sqrt(gamma) - 2, np.sqrt(gamma) + 2, 11)\n",
        "\n",
        "\n",
        "results = []\n",
        "for lambda0 in lambda0_values:\n",
        "    lambda_max, correlation_squared, X, Sn = simulate_pca(gamma, lambda0)\n",
        "    results.append((lambda_max, correlation_squared))\n",
        "\n",
        "#\n",
        "print(\"Lambda_max and Squared Correlation Results:\")\n",
        "for lambda_max, correlation_squared in results:\n",
        "    print(f\"Lambda_max: {lambda_max}, Squared Correlation: {correlation_squared}\")"
      ],
      "metadata": {
        "colab": {
          "base_uri": "https://localhost:8080/",
          "height": 0
        },
        "id": "69oxN5_EsSIM",
        "outputId": "8721e4ca-8111-4964-99ef-4c1e52444619"
      },
      "execution_count": 51,
      "outputs": [
        {
          "output_type": "stream",
          "name": "stderr",
          "text": [
            "<ipython-input-51-ab4b09ba379b>:11: RuntimeWarning: covariance is not symmetric positive-semidefinite.\n",
            "  X = np.random.multivariate_normal(np.zeros(p), sigma**2 * np.eye(p) + lambda0 * np.outer(u, u), size=n)\n"
          ]
        },
        {
          "output_type": "stream",
          "name": "stdout",
          "text": [
            "Lambda_max and Squared Correlation Results:\n",
            "Lambda_max: 2.0437907772784474, Squared Correlation: 4.8751901542024426e-06\n",
            "Lambda_max: 2.192563491777583, Squared Correlation: 0.0002960354778463027\n",
            "Lambda_max: 2.2919265497106176, Squared Correlation: 5.5236129128363924e-05\n",
            "Lambda_max: 2.196530734227987, Squared Correlation: 0.004227659897259152\n",
            "Lambda_max: 2.093135928264208, Squared Correlation: 0.00017629710197062846\n",
            "Lambda_max: 2.2121069523225865, Squared Correlation: 0.09772894233705412\n",
            "Lambda_max: 2.372667763552977, Squared Correlation: 0.5319639726932597\n",
            "Lambda_max: 2.6313499651431647, Squared Correlation: 0.7916041253009575\n",
            "Lambda_max: 3.029137696274714, Squared Correlation: 0.7673176179375535\n",
            "Lambda_max: 3.692600203373087, Squared Correlation: 0.865310313099874\n",
            "Lambda_max: 3.6572795469644763, Squared Correlation: 0.8682043174103771\n"
          ]
        }
      ]
    },
    {
      "cell_type": "code",
      "source": [
        "results_array = np.array(results)\n",
        "lambda_max = results_array[:, 0]\n",
        "print(lambda_max)"
      ],
      "metadata": {
        "colab": {
          "base_uri": "https://localhost:8080/",
          "height": 0
        },
        "id": "3Gw8xC0yod9d",
        "outputId": "4acab38b-6ba3-4d2b-f398-eb32aec416f7"
      },
      "execution_count": 48,
      "outputs": [
        {
          "output_type": "stream",
          "name": "stdout",
          "text": [
            "[2.20445724 2.19696609 2.15813514 2.19005372 2.20901562 2.21535518\n",
            " 2.41905183 2.8571356  3.3597788  3.45539294 3.6149538 ]\n"
          ]
        }
      ]
    },
    {
      "cell_type": "code",
      "source": [
        "lambda0_values"
      ],
      "metadata": {
        "colab": {
          "base_uri": "https://localhost:8080/",
          "height": 0
        },
        "id": "0T-MiJYV8qnA",
        "outputId": "bbe526cb-2077-48fe-9276-ac5c6987c9f0"
      },
      "execution_count": 38,
      "outputs": [
        {
          "output_type": "execute_result",
          "data": {
            "text/plain": [
              "array([-1.5, -1.1, -0.7, -0.3,  0.1,  0.5,  0.9,  1.3,  1.7,  2.1,  2.5])"
            ]
          },
          "metadata": {},
          "execution_count": 38
        }
      ]
    },
    {
      "cell_type": "code",
      "source": [
        "threshold = np.sqrt(gamma)\n",
        "lambda_theory = [(1+np.sqrt(gamma))**2 if SNR <= np.sqrt(gamma) else (1+SNR)*(1+gamma/SNR) for SNR in lambda0_values]\n",
        "lambda_theory"
      ],
      "metadata": {
        "colab": {
          "base_uri": "https://localhost:8080/",
          "height": 0
        },
        "id": "9a-GuRIKXr50",
        "outputId": "aa1c9a09-d9b3-4a80-9638-bdef86d8b3c3"
      },
      "execution_count": 39,
      "outputs": [
        {
          "output_type": "execute_result",
          "data": {
            "text/plain": [
              "[2.25,\n",
              " 2.25,\n",
              " 2.25,\n",
              " 2.25,\n",
              " 2.25,\n",
              " 2.25,\n",
              " 2.427777777777778,\n",
              " 2.742307692307693,\n",
              " 3.097058823529412,\n",
              " 3.469047619047619,\n",
              " 3.8500000000000005]"
            ]
          },
          "metadata": {},
          "execution_count": 39
        }
      ]
    },
    {
      "cell_type": "code",
      "source": [
        "import matplotlib.pyplot as plt\n",
        "plt.plot(lambda0_values, lambda_max, 'ro-', label='Simulated Lambda_max')\n",
        "plt.plot(lambda0_values,lambda_theory, 'k--', label='Theoretical Lambda_max')\n",
        "plt.xlabel('SNR')\n",
        "plt.ylabel('λ')\n",
        "plt.title('Plot of SNR vs λ (γ=0.5)')\n",
        "plt.xticks([np.sqrt(gamma)])\n",
        "plt.legend()\n",
        "plt.show()\n"
      ],
      "metadata": {
        "colab": {
          "base_uri": "https://localhost:8080/",
          "height": 472
        },
        "id": "K37ld_YadGmG",
        "outputId": "13e05ce7-b958-40d6-8d84-d43950dbb6d6"
      },
      "execution_count": 50,
      "outputs": [
        {
          "output_type": "display_data",
          "data": {
            "text/plain": [
              "<Figure size 640x480 with 1 Axes>"
            ],
            "image/png": "[encoded data removed]"
          },
          "metadata": {}
        }
      ]
    },
    {
      "cell_type": "markdown",
      "source": [
        "The theoretical results match the simulated results\n"
      ],
      "metadata": {
        "id": "box15Hd4sb7V"
      }
    },
    {
      "cell_type": "markdown",
      "source": [
        "Question 3"
      ],
      "metadata": {
        "id": "BiKyOnUvvA-V"
      }
    },
    {
      "cell_type": "code",
      "source": [
        "# Question 3"
      ],
      "metadata": {
        "id": "MJEWvflrvBIt"
      },
      "execution_count": null,
      "outputs": []
    },
    {
      "cell_type": "code",
      "source": [
        "import numpy as np\n",
        "import matplotlib.pyplot as plt\n",
        "\n",
        "def wigner_semi_circle(t):\n",
        "    return (2 / np.pi) * np.sqrt(1 - t**2)\n",
        "\n",
        "def generate_wigner_matrix(n):\n",
        "    sigma = 1 / (4 * n)\n",
        "    wigner_matrix = np.random.normal(0, np.sqrt(sigma), size=(n, n))\n",
        "    wigner_matrix = (wigner_matrix + wigner_matrix.T)/np.sqrt(2)   # Symmetrization\n",
        "    np.fill_diagonal(wigner_matrix, 0)\n",
        "    return wigner_matrix\n",
        "\n",
        "def rank_1_perturbation_eigenvalues(n, lambda0, u):\n",
        "    wigner_matrix = generate_wigner_matrix(n)\n",
        "    rank_1_perturbation = wigner_matrix + lambda0 * np.outer(u, u)\n",
        "    eigenvalues, _ = np.linalg.eigh(rank_1_perturbation)\n",
        "    return eigenvalues\n"
      ],
      "metadata": {
        "id": "siCemtMevhKb"
      },
      "execution_count": 42,
      "outputs": []
    },
    {
      "cell_type": "code",
      "source": [
        "# Confirm Wigner's semi-circle law\n",
        "n = 400\n",
        "wigner_matrix = generate_wigner_matrix(n)\n",
        "\n",
        "#W = np.zeros((n, n))\n",
        "\n",
        "#for j in range(n):\n",
        "#    for i in range(j):\n",
        "#        W[i, j] = np.sqrt(1 / (4 * n)) * np.random.randn()\n",
        "#        W[j, i] = W[i, j]\n",
        "\n",
        "eigenvalues_wigner, _ = np.linalg.eigh(wigner_matrix)\n",
        "#eigenvalues_wigner = np.linalg.eigvals(W)\n",
        "\n",
        "t_values = np.linspace(-1, 1, 100)\n",
        "semi_circle_values = wigner_semi_circle(t_values)\n",
        "\n"
      ],
      "metadata": {
        "id": "TMyCMrLYvlTL"
      },
      "execution_count": 50,
      "outputs": []
    },
    {
      "cell_type": "code",
      "source": [
        "plt.hist(eigenvalues_wigner, bins=50, density=1, alpha=0.7, label='Eigenvalues of Wigner Matrix')\n",
        "plt.plot(t_values, semi_circle_values, label=\"Wigner's Semi-circle Law\")\n",
        "plt.title(\"Eigenvalue Distribution of Wigner Matrix\")\n",
        "plt.xlabel(\"Eigenvalue\")\n",
        "plt.ylabel(\"Density\")\n",
        "plt.legend()\n",
        "\n",
        "plt.show()"
      ],
      "metadata": {
        "colab": {
          "base_uri": "https://localhost:8080/",
          "height": 472
        },
        "id": "ZWduBzo0_of0",
        "outputId": "794777fd-f97e-404c-ae39-4719f83630bf"
      },
      "execution_count": 51,
      "outputs": [
        {
          "output_type": "display_data",
          "data": {
            "text/plain": [
              "<Figure size 640x480 with 1 Axes>"
            ],
            "image/png": "[encoded data removed]"
          },
          "metadata": {}
        }
      ]
    },
    {
      "cell_type": "code",
      "source": [
        "# Find the largest eigenvalue of a rank-1 perturbation\n",
        "lambda0_values = np.linspace(-2, 2, 100)\n",
        "correlations = []\n",
        "\n",
        "for lambda0 in lambda0_values:\n",
        "    u = np.random.normal(0, 1, n)\n",
        "    u /= np.linalg.norm(u)\n",
        "\n",
        "    rank_1_perturbation = wigner_matrix + lambda0 * np.outer(u, u)\n",
        "\n",
        "    eigenvalues_perturbation = rank_1_perturbation_eigenvalues(n, lambda0, u)\n",
        "    largest_eigenvalue = np.max(eigenvalues_perturbation)\n",
        "\n",
        "    # Correlation between the top eigenvector and vector u\n",
        "    top_eigenvector = np.linalg.eigh(rank_1_perturbation)[1][:, -1]\n",
        "    correlation = np.abs(np.dot(u, top_eigenvector))**2\n",
        "\n",
        "    correlations.append(correlation)\n",
        "\n",
        "# Plot the phase transition and correlation\n",
        "plt.plot(lambda0_values, correlations, label='Correlation with u')\n",
        "plt.axvline(x=1 / np.sqrt(n), color='red', linestyle='--', label='Phase Transition')\n",
        "plt.title(\"Phase Transition and Correlation with Rank-1 Perturbation\")\n",
        "plt.xlabel(\"λ0\")\n",
        "plt.ylabel(\"Correlation\")\n",
        "plt.legend()\n",
        "plt.show()"
      ],
      "metadata": {
        "colab": {
          "base_uri": "https://localhost:8080/",
          "height": 472
        },
        "id": "BIv3G3S3vQ4G",
        "outputId": "5f1a5ace-0229-43b3-b2d2-4065cd3e9627"
      },
      "execution_count": 7,
      "outputs": [
        {
          "output_type": "display_data",
          "data": {
            "text/plain": [
              "<Figure size 640x480 with 1 Axes>"
            ],
            "image/png": "[encoded data removed]"
          },
          "metadata": {}
        }
      ]
    },
    {
      "cell_type": "markdown",
      "source": [
        "Theoretical results match when lambda > sigma"
      ],
      "metadata": {
        "id": "CDITF5z5Em0W"
      }
    }
  ]
}