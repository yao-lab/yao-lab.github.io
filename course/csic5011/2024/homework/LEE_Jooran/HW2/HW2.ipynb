{
 "cells": [
  {
   "cell_type": "code",
   "execution_count": 3,
   "metadata": {},
   "outputs": [],
   "source": [
    "import os\n",
    "os.chdir('/Users/jooranlee/Library/CloudStorage/OneDrive-HKUSTConnect/1-2/CSIC5100/HW2') "
   ]
  },
  {
   "cell_type": "markdown",
   "metadata": {},
   "source": [
    "### Question 1"
   ]
  },
  {
   "cell_type": "code",
   "execution_count": 13,
   "metadata": {},
   "outputs": [
    {
     "name": "stdout",
     "output_type": "stream",
     "text": [
      "(1258, 452)\n",
      "(1258, 452)\n",
      "(1257, 452)\n",
      "(452, 452)\n",
      "[0.00990099 0.00990099 0.00990099 0.00990099 0.00990099 0.00990099\n",
      " 0.00990099 0.00990099 0.00990099 0.00990099 0.00990099 0.00990099\n",
      " 0.00990099 0.14851485 0.14851485 0.14851485 0.4950495  0.6039604\n",
      " 0.85148515 0.96039604 1.         1.         1.         1.\n",
      " 1.         1.         1.         1.         1.         1.\n",
      " 1.         1.         1.         1.         1.         1.\n",
      " 1.         1.         1.         1.         1.         1.\n",
      " 1.         1.         1.         1.         1.         1.\n",
      " 1.         1.         1.         1.         1.         1.\n",
      " 1.         1.         1.         1.         1.         1.\n",
      " 1.         1.         1.         1.         1.         1.\n",
      " 1.         1.         1.         1.         1.         1.\n",
      " 1.         1.         1.         1.         1.         1.\n",
      " 1.         1.         1.         1.         1.         1.\n",
      " 1.         1.         1.         1.         1.         1.\n",
      " 1.         1.         1.         1.         1.         1.\n",
      " 1.         1.         1.         1.         1.         1.\n",
      " 1.         1.         1.         1.         1.         1.\n",
      " 1.         1.         1.         1.         1.         1.\n",
      " 1.         1.         1.         1.         1.         1.\n",
      " 1.         1.         1.         1.         1.         1.\n",
      " 1.         1.         1.         1.         1.         1.\n",
      " 1.         1.         1.         1.         1.         1.\n",
      " 1.         1.         1.         1.         1.         1.\n",
      " 1.         1.         1.         1.         1.         1.\n",
      " 1.         1.         1.         1.         1.         1.\n",
      " 1.         1.         1.         1.         1.         1.\n",
      " 1.         1.         1.         1.         1.         1.\n",
      " 1.         1.         1.         1.         1.         1.\n",
      " 1.         1.         1.         1.         1.         1.\n",
      " 1.         1.         1.         1.         1.         1.\n",
      " 1.         1.         1.         1.         1.         1.\n",
      " 1.         1.         1.         1.         1.         1.\n",
      " 1.         1.         1.         1.         1.         1.\n",
      " 1.         1.         1.         1.         1.         1.\n",
      " 1.         1.         1.         1.         1.         1.\n",
      " 1.         1.         1.         1.         1.         1.\n",
      " 1.         1.         1.         1.         1.         1.\n",
      " 1.         1.         1.         1.         1.         1.\n",
      " 1.         1.         1.         1.         1.         1.\n",
      " 1.         1.         1.         1.         1.         1.\n",
      " 1.         1.         1.         1.         1.         1.\n",
      " 1.         1.         1.         1.         1.         1.\n",
      " 1.         1.         1.         1.         1.         1.\n",
      " 1.         1.         1.         1.         1.         1.\n",
      " 1.         1.         1.         1.         1.         1.\n",
      " 1.         1.         1.         1.         1.         1.\n",
      " 1.         1.         1.         1.         1.         1.\n",
      " 1.         1.         1.         1.         1.         1.\n",
      " 1.         1.         1.         1.         1.         1.\n",
      " 1.         1.         1.         1.         1.         1.\n",
      " 1.         1.         1.         1.         1.         1.\n",
      " 1.         1.         1.         1.         1.         1.\n",
      " 1.         1.         1.         1.         1.         1.\n",
      " 1.         1.         1.         1.         1.         1.\n",
      " 1.         1.         1.         1.         1.         1.\n",
      " 1.         1.         1.         1.         1.         1.\n",
      " 1.         1.         1.         1.         1.         1.\n",
      " 1.         1.         1.         1.         1.         1.\n",
      " 1.         1.         1.         1.         1.         1.\n",
      " 1.         1.         1.         1.         1.         1.\n",
      " 1.         1.         1.         1.         1.         1.\n",
      " 1.         1.         1.         1.         1.         1.\n",
      " 1.         1.         1.         1.         1.         1.\n",
      " 1.         1.         1.         1.         1.         1.\n",
      " 1.         1.         1.         1.         1.         1.\n",
      " 1.         1.         1.         1.         1.         1.\n",
      " 1.         1.         1.         1.         1.         1.\n",
      " 1.         1.         1.         1.         1.         1.\n",
      " 1.         1.         1.         1.         1.         1.\n",
      " 1.         1.         1.         1.         1.         1.\n",
      " 1.         1.         1.         1.         1.         1.\n",
      " 1.         1.         1.         1.         1.         1.\n",
      " 1.         1.         1.         1.         1.         1.\n",
      " 1.         1.         1.         1.         1.         1.\n",
      " 1.         1.        ]\n"
     ]
    }
   ],
   "source": [
    "import scipy.io\n",
    "import numpy as np\n",
    "\n",
    "data = scipy.io.loadmat('snp452-data.mat')\n",
    "X = np.array(data['X'])\n",
    "Y = np.log(X) #taking log (Q1-a)\n",
    "print(Y.shape)\n",
    "deltaY = Y[1:] - Y[:-1] # (Q1-b)\n",
    "print(deltaY.shape)\n",
    "t = deltaY.shape[0]\n",
    "dim = deltaY.shape[1]\n",
    "sigma_hat = np.cov(deltaY.T) #contructing Cov Matrix (Q1-c)\n",
    "print(sigma_hat.shape)\n",
    "eig_val,_ = np.linalg.eig(sigma_hat) #computing eigen values \n",
    "eig_val= np.sort(eig_val.astype('float64'))[::-1] # (Q1-d)\n",
    "\n",
    "R = 100\n",
    "N_full = np.zeros(eig_val.shape)\n",
    "for i in range(R):\n",
    "    deltaY_per = np.zeros(deltaY.shape)\n",
    "    idx = np.array([np.arange(t)]+[np.random.permutation(t) for i in range(dim-1)])\n",
    "    #print(idx.shape)\n",
    "    for j in range(dim):\n",
    "        deltaY_per[:,j] = deltaY[:,j][idx[j]]\n",
    "    sigma_hat_per = np.cov(deltaY_per.T)\n",
    "    eig_val_per,_ = np.linalg.eig(sigma_hat_per)\n",
    "    eig_val_per= np.sort(eig_val_per.astype('float64'))[::-1]\n",
    "    N = ((eig_val-eig_val_per)<0).astype('float64')\n",
    "    N_full+=N\n",
    "N_full+=1\n",
    "N_full/=R+1\n",
    "print(N_full) #Horn's Parallel analysis (Q1- e)\n",
    "# it seems that k = 14 (p-val gets > 0.05 from 14th value)"
   ]
  },
  {
   "cell_type": "markdown",
   "metadata": {},
   "source": [
    "### Question2 (d)"
   ]
  },
  {
   "cell_type": "code",
   "execution_count": 8,
   "metadata": {},
   "outputs": [
    {
     "data": {
      "image/png": "[encoded data removed]",
      "text/plain": [
       "<Figure size 432x288 with 1 Axes>"
      ]
     },
     "metadata": {
      "needs_background": "light"
     },
     "output_type": "display_data"
    },
    {
     "data": {
      "image/png": "[encoded data removed]",
      "text/plain": [
       "<Figure size 432x288 with 1 Axes>"
      ]
     },
     "metadata": {
      "needs_background": "light"
     },
     "output_type": "display_data"
    }
   ],
   "source": [
    "#Q2(d)\n",
    "import matplotlib.pyplot as plt\n",
    "lambda0=0.8\n",
    "\n",
    "for i in range(100):\n",
    "    \n",
    "    # Initialization\n",
    "    lambda0 = lambda0 + 1/100\n",
    "   \n",
    "    gamma = 1/2\n",
    "    n = int(400)  # number of samples\n",
    "    p = int(n * gamma*gamma)  # dimension\n",
    "    u = np.ones((p,1))/np.sqrt(p)  # np.linalg.norm(u) = 1\n",
    "\n",
    "    sigma = lambda0 * np.dot(u,u.T) + np.identity(p)\n",
    "    mean = np.zeros((p))\n",
    "\n",
    "\n",
    "    #Sampling\n",
    "    X = np.random.multivariate_normal(mean=mean, cov=sigma, size=n).T  # shape of X: (p,n)\n",
    "\n",
    "\n",
    "    # Compute sample covariance matrix and its eigenvalues & eigenvectors\n",
    "    cov_mat = np.dot(X,X.T)/n\n",
    "    eigenvalues, eigenvectors = np.linalg.eig(cov_mat)\n",
    "\n",
    "    # Rearrange them in descending order\n",
    "    sorted_indices = np.argsort(eigenvalues)[::-1]  # the index of eigenvalues in descending order\n",
    "\n",
    "    desc_evals = eigenvalues[sorted_indices]  # eigenvalues in descending order\n",
    "    desc_evecs = eigenvectors[:,sorted_indices]  # eigenvectors in descending order\n",
    "\n",
    "\n",
    "    # Compute largest eigenvalue and its associated eigenvector using methods in (a) and (c)\n",
    "    lamda_hat = (1+lambda0) * (1+gamma/lambda0)\n",
    "    u_v_inner_prod=(1-gamma/(lambda0*lambda0)) / (1+gamma/lambda0)\n",
    "    \n",
    "\n",
    "    \n",
    "    # plot\n",
    "    \n",
    "    # difference of true largest eigenvalue of computed eigenvalue\n",
    "    plt.figure(1)\n",
    "    plt.xlabel('$\\lambda_0$')\n",
    "    plt.ylabel('true largest eval $-\\hat{\\lambda}$')\n",
    "    plt.plot(lambda0, desc_evals[0]-lamda_hat, marker = '+', linestyle = '')\n",
    "    \n",
    "    # inner product of u and v\n",
    "    plt.figure(2)\n",
    "    plt.xlabel('$\\lambda_0$')\n",
    "    plt.ylabel('$<u,v>^2$')\n",
    "    plt.plot(lambda0, u_v_inner_prod, marker = '+', linestyle = '')\n",
    "plt.show()"
   ]
  },
  {
   "cell_type": "code",
   "execution_count": null,
   "metadata": {},
   "outputs": [],
   "source": []
  }
 ],
 "metadata": {
  "kernelspec": {
   "display_name": "scanpy",
   "language": "python",
   "name": "scanpy"
  },
  "language_info": {
   "codemirror_mode": {
    "name": "ipython",
    "version": 3
   },
   "file_extension": ".py",
   "mimetype": "text/x-python",
   "name": "python",
   "nbconvert_exporter": "python",
   "pygments_lexer": "ipython3",
   "version": "3.8.5"
  }
 },
 "nbformat": 4,
 "nbformat_minor": 2
}
