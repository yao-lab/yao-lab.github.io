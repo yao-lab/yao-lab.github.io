{
 "cells": [
  {
   "cell_type": "markdown",
   "id": "6c18d3d1",
   "metadata": {},
   "source": [
    "# Homework 1-Exercise 1"
   ]
  },
  {
   "cell_type": "code",
   "execution_count": 123,
   "id": "e82cbdbf",
   "metadata": {},
   "outputs": [
    {
     "data": {
      "text/plain": [
       "'\\nName：Martin ECHAVARRIA GALINDO\\nDepartment: Chemical and Biological Engineering\\nProgram: PhD in Bioengineering\\nStudent ID: 21000651\\n'"
      ]
     },
     "execution_count": 123,
     "metadata": {},
     "output_type": "execute_result"
    }
   ],
   "source": [
    "'''\n",
    "Name：Martin ECHAVARRIA GALINDO\n",
    "Department: Chemical and Biological Engineering\n",
    "Program: PhD in Bioengineering\n",
    "Student ID: 21000651\n",
    "'''"
   ]
  },
  {
   "cell_type": "code",
   "execution_count": 124,
   "id": "264fc135",
   "metadata": {},
   "outputs": [
    {
     "name": "stdout",
     "output_type": "stream",
     "text": [
      "(452, 1258)\n",
      "      0       1       2       3       4       5       6       7       8     \\\n",
      "V1  126.75  126.27  127.19  127.07  125.70  127.69  126.62  126.54  127.98   \n",
      "V2   30.51   30.69   31.97   31.78   31.17   31.87   31.60   31.00   30.52   \n",
      "V3   40.05   40.44   40.70   38.87   39.85   39.98   39.78   39.43   39.06   \n",
      "V4   21.75   21.34   22.11   22.07   22.40   26.03   26.39   26.51   27.00   \n",
      "V5   25.60   26.30   27.51   28.51   27.13   28.24   28.65   28.55   29.11   \n",
      "\n",
      "      9     ...   1248   1249   1250   1251   1252   1253   1254   1255  \\\n",
      "V1  127.02  ...  85.78  85.85  84.93  84.49  86.05  86.26  86.07  85.40   \n",
      "V2   30.27  ...  61.01  60.83  60.11  60.75  61.91  63.15  62.86  61.32   \n",
      "V3   37.95  ...  56.77  57.69  57.23  57.60  58.26  58.35  57.88  56.98   \n",
      "V4   26.65  ...  81.25  82.00  81.85  82.24  82.89  83.85  82.54  80.50   \n",
      "V5   27.97  ...  40.90  42.03  41.87  42.17  42.18  42.84  43.12  42.34   \n",
      "\n",
      "     1256   1257  \n",
      "V1  85.09  84.32  \n",
      "V2  61.90  61.78  \n",
      "V3  57.23  56.15  \n",
      "V4  79.98  79.97  \n",
      "V5  42.93  42.73  \n",
      "\n",
      "[5 rows x 1258 columns]\n"
     ]
    }
   ],
   "source": [
    "import pandas as pd\n",
    "import numpy as np\n",
    "\n",
    "data=pd.read_csv('snp_price.csv')\n",
    "data=data.T\n",
    "print(data.shape)\n",
    "print(data.head())"
   ]
  },
  {
   "cell_type": "markdown",
   "id": "31d06052",
   "metadata": {},
   "source": [
    "## 1) Take the logarithmic prices Y = log X "
   ]
  },
  {
   "cell_type": "code",
   "execution_count": 125,
   "id": "769a7385",
   "metadata": {},
   "outputs": [
    {
     "name": "stdout",
     "output_type": "stream",
     "text": [
      "[[126.75 126.27 127.19 ...  85.4   85.09  84.32]\n",
      " [ 30.51  30.69  31.97 ...  61.32  61.9   61.78]\n",
      " [ 40.05  40.44  40.7  ...  56.98  57.23  56.15]\n",
      " ...\n",
      " [ 25.12  24.55  24.99 ...  37.96  38.54  38.27]\n",
      " [ 40.3   40.4   40.66 ...  66.41  66.45  66.15]\n",
      " [ 40.64  40.27  41.39 ...  46.32  46.14  46.69]]\n"
     ]
    }
   ],
   "source": [
    "data=data.to_numpy()\n",
    "print(data)"
   ]
  },
  {
   "cell_type": "code",
   "execution_count": 126,
   "id": "b735e579",
   "metadata": {},
   "outputs": [
    {
     "name": "stdout",
     "output_type": "stream",
     "text": [
      "[[4.84221664 4.83842247 4.84568203 ... 4.4473461  4.44370952 4.43461908]\n",
      " [3.4180545  3.42393687 3.46479796 ... 4.11610605 4.12552018 4.12357969]\n",
      " [3.69012867 3.69981939 3.70622809 ... 4.04270033 4.04707824 4.02802668]\n",
      " ...\n",
      " [3.22366434 3.20071185 3.21847574 ... 3.63653297 3.65169666 3.6446663 ]\n",
      " [3.69635147 3.69882978 3.70524481 ... 4.19584765 4.19644979 4.19192489]\n",
      " [3.7047528  3.69560677 3.72303931 ... 3.83557383 3.83168025 3.84353001]]\n"
     ]
    }
   ],
   "source": [
    "data=np.log(data)\n",
    "print(data)"
   ]
  },
  {
   "cell_type": "markdown",
   "id": "7bb627db",
   "metadata": {},
   "source": [
    "## 2) For each observation time t ∈ {1, . . . , 1257}, calculate logarithmic price jumps "
   ]
  },
  {
   "cell_type": "code",
   "execution_count": 127,
   "id": "7c7a7774",
   "metadata": {},
   "outputs": [
    {
     "name": "stdout",
     "output_type": "stream",
     "text": [
      "[[-0.00379417  0.00725956 -0.00094392 ... -0.00781482 -0.00363658\n",
      "  -0.00909044]\n",
      " [ 0.00588237  0.04086109 -0.0059608  ... -0.02480398  0.00941413\n",
      "  -0.00194049]\n",
      " [ 0.00969072  0.0064087  -0.04600535 ... -0.01567157  0.00437791\n",
      "  -0.01905156]\n",
      " ...\n",
      " [-0.02295249  0.01776389  0.00638215 ... -0.01956499  0.01516369\n",
      "  -0.00703036]\n",
      " [ 0.00247832  0.00641502 -0.00988639 ... -0.01078339  0.00060214\n",
      "  -0.00452489]\n",
      " [-0.00914603  0.02743253  0.00482045 ... -0.03770834 -0.00389358\n",
      "   0.01184976]]\n"
     ]
    }
   ],
   "source": [
    "def calc_log_jump(data):\n",
    "    num_cols=data.shape[1]-1\n",
    "    num_rows=data.shape[0]\n",
    "    new_array=np.zeros(shape=(num_rows, num_cols))\n",
    "    for id_row in range(num_rows):\n",
    "        for id_col in range(num_cols):\n",
    "            new_array[id_row, id_col]=data[id_row, id_col+1]-data[id_row, id_col]\n",
    "    return new_array\n",
    "\n",
    "log_price_jump_data=calc_log_jump(data)\n",
    "print(log_price_jump_data)"
   ]
  },
  {
   "cell_type": "markdown",
   "id": "af0444ae",
   "metadata": {},
   "source": [
    "## 3) Construct the realized covariance matrix Σˆ ∈ Rˆ452×452  "
   ]
  },
  {
   "cell_type": "code",
   "execution_count": 128,
   "id": "b7dabc0c",
   "metadata": {},
   "outputs": [
    {
     "name": "stdout",
     "output_type": "stream",
     "text": [
      "The shape of the realized covariance matrix is:  (452, 452)\n",
      "Realized covariance matrix:\n",
      "[[5.35845269e-04 6.24812574e-05 3.98493742e-05 ... 4.61173857e-05\n",
      "  5.40264775e-05 5.53879871e-05]\n",
      " [6.24812574e-05 2.42609108e-04 6.01798711e-05 ... 7.52021679e-05\n",
      "  6.78525062e-05 8.75404542e-05]\n",
      " [3.98493742e-05 6.01798711e-05 1.55521933e-04 ... 4.73863603e-05\n",
      "  4.29047678e-05 4.85833936e-05]\n",
      " ...\n",
      " [4.61173857e-05 7.52021679e-05 4.73863603e-05 ... 5.92676917e-04\n",
      "  4.73411215e-05 6.49664135e-05]\n",
      " [5.40264775e-05 6.78525062e-05 4.29047678e-05 ... 4.73411215e-05\n",
      "  2.81773441e-04 5.56696168e-05]\n",
      " [5.53879871e-05 8.75404542e-05 4.85833936e-05 ... 6.49664135e-05\n",
      "  5.56696168e-05 1.60644502e-04]]\n"
     ]
    }
   ],
   "source": [
    "def calc_realized_cov_matrix(data):\n",
    "    num_elems=data.shape[0]\n",
    "    realized_cov_matrix=np.zeros(shape=(num_elems, num_elems))\n",
    "    for i in range(num_elems):\n",
    "        for j in range(num_elems):\n",
    "            val=(1/1257)*(np.dot(data[i],data[j]))\n",
    "            realized_cov_matrix[i, j]=val\n",
    "    return realized_cov_matrix\n",
    "\n",
    "realized_cov_matrix=calc_realized_cov_matrix(log_price_jump_data)\n",
    "\n",
    "\n",
    "print('The shape of the realized covariance matrix is: ', realized_cov_matrix.shape)\n",
    "print('Realized covariance matrix:')\n",
    "print(realized_cov_matrix)\n",
    "\n",
    "\n"
   ]
  },
  {
   "cell_type": "markdown",
   "id": "7ce99488",
   "metadata": {},
   "source": [
    "## 4) Compute the eigenvalues (and eigenvectors) of Σ and store them in a descending order ˆby {λˆk, k = 1, . . . , p}. "
   ]
  },
  {
   "cell_type": "code",
   "execution_count": 129,
   "id": "ba90b143",
   "metadata": {},
   "outputs": [
    {
     "name": "stdout",
     "output_type": "stream",
     "text": [
      "The total number of eigenvalues is:  452\n"
     ]
    }
   ],
   "source": [
    "from numpy import linalg\n",
    "\n",
    "eigenvalues, eigenvectors = linalg.eig(realized_cov_matrix)\n",
    "\n",
    "print('The total number of eigenvalues is: ', len(eigenvalues))\n",
    "\n",
    "ordered_eigenvalues=eigenvalues[np.argsort(eigenvalues)[::-1]]\n",
    "ordered_eigenvectors=eigenvectors[np.argsort(eigenvalues)[::-1]]\n"
   ]
  },
  {
   "cell_type": "markdown",
   "id": "211bd076",
   "metadata": {},
   "source": [
    "## 5) Horn’s Parallel Analysis "
   ]
  },
  {
   "cell_type": "code",
   "execution_count": 134,
   "id": "1ad611a2",
   "metadata": {},
   "outputs": [
    {
     "name": "stdout",
     "output_type": "stream",
     "text": [
      "(300, 452)\n",
      "(452,)\n"
     ]
    }
   ],
   "source": [
    "from sklearn.utils import shuffle\n",
    "num_permuted_matrices=300\n",
    "random_eig_vals=np.zeros(shape=(num_permuted_matrices, log_price_jump_data.shape[0]))\n",
    "for id_permutation in range(num_permuted_matrices):\n",
    "    permuted_data = np.array([shuffle(log_price_jump_data[j,:]) for j in range(log_price_jump_data.shape[0])])\n",
    "    null_cov_matrix=(1/1257)*(permuted_data @ permuted_data.T)\n",
    "    eigenvalues, eigenvectors = linalg.eig(null_cov_matrix)\n",
    "    ordered_random_eigenvalues=eigenvalues[np.argsort(eigenvalues)[::-1]]\n",
    "    random_eig_vals[id_permutation,:]=ordered_random_eigenvalues\n",
    "\n",
    "print(random_eig_vals.shape)\n",
    "    \n",
    "count=np.array([np.sum(random_eig_vals[:,i] > ordered_eigenvalues[i]) for i in range(len(ordered_eigenvalues))])\n",
    "\n",
    "p_vals=(count+1)/(num_permuted_matrices+1)\n",
    "print(p_vals.shape)\n"
   ]
  },
  {
   "cell_type": "code",
   "execution_count": 135,
   "id": "bbf412dc",
   "metadata": {},
   "outputs": [
    {
     "name": "stdout",
     "output_type": "stream",
     "text": [
      "Number eigenvalues:  13\n"
     ]
    }
   ],
   "source": [
    "p_value_threshold = 0.05\n",
    "\n",
    "significant_eigenvalues = ordered_eigenvalues[p_vals < p_value_threshold]\n",
    "\n",
    "print(f\"Number eigenvalues: \", len(significant_eigenvalues))\n"
   ]
  },
  {
   "cell_type": "code",
   "execution_count": 136,
   "id": "8b2bcb05",
   "metadata": {},
   "outputs": [],
   "source": [
    "mean_random = np.array([np.mean(random_eig_vals[:,i]) for i in range(len(eigenvalues))])\n"
   ]
  },
  {
   "cell_type": "code",
   "execution_count": 137,
   "id": "c9426772",
   "metadata": {},
   "outputs": [
    {
     "data": {
      "image/png": "[encoded data removed]",
      "text/plain": [
       "<Figure size 640x480 with 1 Axes>"
      ]
     },
     "metadata": {},
     "output_type": "display_data"
    }
   ],
   "source": [
    "plt.plot(range(25),mean_random[:25], c='blue', label='Random Eigenvalues')\n",
    "plt.plot(range(25),ordered_eigenvalues[:25], c='green', label='Original Eigenvalues')\n",
    "plt.vlines(13, ymin=0.0001, ymax=0.04, colors='red',label='P-value (5%)')\n",
    "plt.xlabel('Eigenvalue Position')\n",
    "plt.ylabel('Eigenvalue')\n",
    "plt.legend()\n",
    "plt.show()"
   ]
  },
  {
   "cell_type": "code",
   "execution_count": null,
   "id": "15299ab0",
   "metadata": {},
   "outputs": [],
   "source": [
    "'''\n",
    "The eigendecomposition of the covariance matrix provides valuable insights into the underlying structure and \n",
    "relationships between variables in a multivariate dataset, as it provides information regarding the amount of spread and\n",
    "the direction of spread in the form of variance and covariance. In this case, through Horn's parallel analysis, it was possible\n",
    "to demostrate that the information contained in the covariance matrix of the given dataset could be explained by using only \n",
    "13 eigenvalues, while the rest of them may be associated with the inherent noise of the data. This allows us to reduce \n",
    "the dimensionality of the data by selecting a subset of the most important components, which can lead to more efficient \n",
    "and accurate data analysis and modeling. \n",
    "\n",
    "'''"
   ]
  }
 ],
 "metadata": {
  "kernelspec": {
   "display_name": "Python 3 (ipykernel)",
   "language": "python",
   "name": "python3"
  },
  "language_info": {
   "codemirror_mode": {
    "name": "ipython",
    "version": 3
   },
   "file_extension": ".py",
   "mimetype": "text/x-python",
   "name": "python",
   "nbconvert_exporter": "python",
   "pygments_lexer": "ipython3",
   "version": "3.11.5"
  }
 },
 "nbformat": 4,
 "nbformat_minor": 5
}
