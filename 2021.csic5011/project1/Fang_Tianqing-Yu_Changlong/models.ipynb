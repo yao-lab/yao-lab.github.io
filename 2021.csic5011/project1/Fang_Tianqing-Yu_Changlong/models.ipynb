{
 "cells": [
  {
   "cell_type": "code",
   "execution_count": 7,
   "metadata": {},
   "outputs": [],
   "source": [
    "import numpy as np\n",
    "import time\n",
    "from sklearn.multiclass import OneVsRestClassifier\n",
    "from sklearn.svm import SVC\n",
    "from sklearn.linear_model import LogisticRegression\n",
    "from sklearn.neural_network import MLPClassifier\n",
    "import warnings\n",
    "import os\n",
    "import pickle\n",
    "os.environ[\"PYTHONWARNINGS\"] = \"ignore\"\n",
    "import warnings\n",
    "warnings.filterwarnings(\"ignore\")\n",
    "def get_hit_k(preds, ground, k = 10):\n",
    "  pred_labels = np.zeros(preds.shape)\n",
    "  for i in range(preds.shape[0]):\n",
    "    idxes = np.argsort(preds[i, :])[::-1][:k]\n",
    "    idxes = np.array([idx for idx in idxes if preds[i, idx]>0])\n",
    "    pred_labels[i, idxes] = 1\n",
    "  return sum(sum(np.array(ground, dtype=np.bool) \\\n",
    "                       & np.array(pred_labels, dtype=np.bool))) / np.sum(ground)\n",
    "\n",
    "\n",
    "def get_clf(model_name, emb_type, emb_size):\n",
    "  clf_path = 'clf_save/{}_{}{}.pkl'.format(model_name, emb_type, emb_size)\n",
    "  if os.path.exists(clf_path):\n",
    "    with open(clf_path, 'rb') as fid:\n",
    "      classif = pickle.load(fid)\n",
    "  else:\n",
    "    if model_name == \"lr\":\n",
    "      classif = OneVsRestClassifier(LogisticRegression())\n",
    "    elif model_name == \"svm\":\n",
    "      classif = OneVsRestClassifier(SVC(kernel='linear',probability=True), n_jobs=20)\n",
    "    elif model_name == \"mlp\":\n",
    "      classif = OneVsRestClassifier(MLPClassifier(), n_jobs=20)\n",
    "    s = time.time()\n",
    "    classif.fit(X_train, Y_train)\n",
    "    e = time.time()\n",
    "    print(\"time\", e - s)\n",
    "    with open(clf_path, 'wb') as fid:\n",
    "      pickle.dump(classif, fid)\n",
    "  return classif\n"
   ]
  },
  {
   "cell_type": "code",
   "execution_count": 24,
   "metadata": {},
   "outputs": [],
   "source": [
    "word_acc = dict(\n",
    "  [(emb_size, dict(\n",
    "      [(clf_name, {}) for clf_name in [\"lr\", \"svm\", \"mlp\"]]\n",
    "    ) \n",
    "  ) for emb_size in [50, 100, 150, 200, 250, 300]]\n",
    ")\n",
    "\n",
    "for emb_size in [50, 100, 150, 200, 250, 300]:\n",
    "  data = np.load(\"data/word_{}d.npy\".format(emb_size), allow_pickle=True)[()]\n",
    "  X_train, Y_train = data[\"trn\"]\n",
    "  X_val, Y_val = data[\"val\"]\n",
    "  X_tst, Y_tst = data[\"tst\"]\n",
    "  for clf_name in [\"lr\", \"svm\", \"mlp\"]:\n",
    "    classif = get_clf(clf_name, \"word\", emb_size)\n",
    "    pred_tst = classif.predict_proba(X_tst)\n",
    "    for k in [1, 2, 5, 10, 50]:\n",
    "      word_acc[emb_size][clf_name][k] = get_hit_k(pred_tst, Y_tst, k)"
   ]
  },
  {
   "cell_type": "markdown",
   "metadata": {},
   "source": [
    "# phrase"
   ]
  },
  {
   "cell_type": "code",
   "execution_count": 9,
   "metadata": {},
   "outputs": [
    {
     "name": "stdout",
     "output_type": "stream",
     "text": [
      "time 722.2039077281952\n",
      "time 138.03082656860352\n",
      "time 746.0128943920135\n",
      "time 666.1711282730103\n",
      "time 178.43770360946655\n",
      "time 922.7475826740265\n"
     ]
    }
   ],
   "source": [
    "phrase_acc = dict(\n",
    "  [(emb_size, dict(\n",
    "      [(clf_name, {}) for clf_name in [\"lr\", \"svm\", \"mlp\"]]\n",
    "    ) \n",
    "  ) for emb_size in [50, 100, 150, 200]]\n",
    ")\n",
    "\n",
    "for emb_size in [50, 100, 150, 200]:\n",
    "  data = np.load(\"data/phrase_{}d.npy\".format(emb_size), allow_pickle=True)[()]\n",
    "  X_train, Y_train = data[\"trn\"]\n",
    "  X_val, Y_val = data[\"val\"]\n",
    "  X_tst, Y_tst = data[\"tst\"]\n",
    "  for clf_name in [\"lr\", \"svm\", \"mlp\"]:\n",
    "    classif = get_clf(clf_name, \"phrase\", emb_size)\n",
    "    pred_tst = classif.predict_proba(X_tst)\n",
    "    for k in [1, 2, 5, 10, 50]:\n",
    "      phrase_acc[emb_size][clf_name][k] = get_hit_k(pred_tst, Y_tst, k)"
   ]
  },
  {
   "cell_type": "markdown",
   "metadata": {},
   "source": [
    "# Plot"
   ]
  },
  {
   "cell_type": "code",
   "execution_count": 26,
   "metadata": {},
   "outputs": [
    {
     "data": {
      "image/png": "[encoded data removed]",
      "text/plain": [
       "<Figure size 288x158.4 with 1 Axes>"
      ]
     },
     "metadata": {
      "needs_background": "light"
     },
     "output_type": "display_data"
    }
   ],
   "source": [
    "import matplotlib.pyplot as plt\n",
    "\n",
    "\n",
    "plt.figure(figsize=(4,2.2))\n",
    "xaxis = [50, 100, 150, 200, 250, 300]\n",
    "k = 50\n",
    "for clf_name in [\"lr\", \"mlp\", \"svm\"]:\n",
    "  plt.plot(xaxis, [word_acc[es][clf_name][k] for es in xaxis],\n",
    "           'o-', label=clf_name.upper())\n",
    "plt.legend()\n",
    "plt.xlabel(\"embedding size\")\n",
    "plt.ylabel(\"HITS@50\")\n",
    "plt.ylim(0, 0.3)\n",
    "plt.xticks(xaxis)\n",
    "plt.savefig(\"emb_size_hits_50.png\", dpi=600, bbox_inches=\"tight\")\n",
    "plt.show()\n"
   ]
  },
  {
   "cell_type": "code",
   "execution_count": 30,
   "metadata": {},
   "outputs": [
    {
     "data": {
      "text/plain": [
       "[5.87, 9.31, 13.91, 17.45, 28.16]"
      ]
     },
     "execution_count": 30,
     "metadata": {},
     "output_type": "execute_result"
    }
   ],
   "source": [
    "[ round(word_acc[200][\"svm\"][k]*100, 2) for k in [1, 2, 5, 10, 50]]"
   ]
  },
  {
   "cell_type": "code",
   "execution_count": 31,
   "metadata": {},
   "outputs": [
    {
     "data": {
      "text/plain": [
       "[6.45, 9.45, 14.64, 18.42, 28.26]"
      ]
     },
     "execution_count": 31,
     "metadata": {},
     "output_type": "execute_result"
    }
   ],
   "source": [
    "[ round(phrase_acc[200][\"svm\"][k]*100, 2) for k in [1, 2, 5, 10, 50]]"
   ]
  },
  {
   "cell_type": "code",
   "execution_count": null,
   "metadata": {},
   "outputs": [],
   "source": []
  }
 ],
 "metadata": {
  "kernelspec": {
   "display_name": "Python 3",
   "language": "python",
   "name": "python3"
  },
  "language_info": {
   "codemirror_mode": {
    "name": "ipython",
    "version": 3
   },
   "file_extension": ".py",
   "mimetype": "text/x-python",
   "name": "python",
   "nbconvert_exporter": "python",
   "pygments_lexer": "ipython3",
   "version": "3.8.5"
  }
 },
 "nbformat": 4,
 "nbformat_minor": 4
}
