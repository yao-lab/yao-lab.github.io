{
 "cells": [
  {
   "cell_type": "code",
   "execution_count": 48,
   "id": "premium-update",
   "metadata": {},
   "outputs": [],
   "source": [
    "import numpy as np\n",
    "import numpy.linalg as alg\n",
    "import pandas as pd\n",
    "from sklearn.preprocessing import StandardScaler\n",
    "from sklearn.model_selection import train_test_split\n",
    "import matplotlib.pyplot as plt\n",
    "import matplotlib.ticker as mtick\n",
    "import matplotlib.cm as cm\n",
    "N = 643\n",
    "p = 256"
   ]
  },
  {
   "cell_type": "markdown",
   "id": "separated-bangladesh",
   "metadata": {},
   "source": [
    "### A.Set up data matrix"
   ]
  },
  {
   "cell_type": "code",
   "execution_count": 18,
   "id": "developing-removal",
   "metadata": {
    "scrolled": true
   },
   "outputs": [],
   "source": [
    "data = pd.read_csv('/Users/zhamengyue/Documents/UST2021Spring/MATH5473/Homework/Number9.csv')\n",
    "X = np.array(data)\n",
    "# Transpose X\n",
    "X = X.T"
   ]
  },
  {
   "cell_type": "markdown",
   "id": "royal-scientist",
   "metadata": {},
   "source": [
    "### B.Compute the sample mean"
   ]
  },
  {
   "cell_type": "code",
   "execution_count": 19,
   "id": "criminal-operation",
   "metadata": {},
   "outputs": [
    {
     "name": "stdout",
     "output_type": "stream",
     "text": [
      "The sample mean is [-0.46229688 -0.24723828 -0.46779687 -0.62843359 -0.36808984 -0.21039844\n",
      " -0.40610937 -0.65199219 -0.69292969 -0.49521875 -0.38617187 -0.68297656\n",
      " -0.67689453 -0.36660937 -0.60403516 -0.429375   -0.78020313 -0.61183984\n",
      " -0.62086328 -0.3645     -0.657875   -0.42457031 -0.50245312 -0.43923828\n",
      " -0.42525781 -0.48873437 -0.64326172 -0.53224609 -0.53852734 -0.56931641\n",
      " -0.50891406 -0.77583203 -0.59842969 -0.60232422 -0.59732422 -0.47514453\n",
      " -0.54558203 -0.62248047 -0.54113281 -0.64683984 -0.58739063 -0.34621484\n",
      " -0.63504297 -0.51871094 -0.55680859 -0.73421094 -0.56474609 -0.68000391\n",
      " -0.69390625 -0.51968359 -0.67631641 -0.67790234 -0.49236328 -0.19095312\n",
      " -0.67402344 -0.44324609 -0.68830078 -0.39165625 -0.60630859 -0.54438281\n",
      " -0.48382813 -0.48316406 -0.67035156 -0.56521094 -0.50174609 -0.71842969\n",
      " -0.57321875 -0.34834766 -0.39607031 -0.64219531 -0.68119922 -0.44360547\n",
      " -0.58938672 -0.38252734 -0.67373438 -0.67177734 -0.49496875 -0.36984766\n",
      " -0.40754688 -0.615      -0.56976562 -0.30281641 -0.44533203 -0.58989844\n",
      " -0.536625   -0.68421094 -0.64077734 -0.548625   -0.40280469 -0.34505469\n",
      " -0.36507031 -0.39523047 -0.69599219 -0.63143359 -0.73416797 -0.51627344\n",
      " -0.65221484 -0.55095313 -0.45176953 -0.48834766 -0.60657031 -0.68867969\n",
      " -0.58408594 -0.65278125 -0.6384375  -0.44707813 -0.36596094 -0.60015625\n",
      " -0.52362109 -0.53280078 -0.66969922 -0.50783594 -0.33276172 -0.48338672\n",
      " -0.46508984 -0.70118359 -0.6879375  -0.54240625 -0.50014453 -0.59859766\n",
      " -0.57341016 -0.49692187 -0.43203906 -0.47833594 -0.48959766 -0.63483594\n",
      " -0.54019531 -0.5236875  -0.54747266 -0.61982422 -0.44133984 -0.56666406\n",
      " -0.60839844 -0.64672266 -0.65344141 -0.70221484 -0.69785547 -0.60701172\n",
      " -0.15564844 -0.42055469 -0.56348828 -0.45608984 -0.41593359 -0.29042578\n",
      " -0.54544531 -0.64873047 -0.59425391 -0.43042969 -0.65766797 -0.39344922\n",
      " -0.4845625  -0.64953906 -0.33930078 -0.17492969 -0.23746094 -0.59594922\n",
      " -0.32913672 -0.39096484 -0.63693359 -0.42176562 -0.24854688 -0.53939844\n",
      " -0.51608594 -0.08727734 -0.46815625 -0.64987109 -0.75419922 -0.33528125\n",
      " -0.35420312 -0.60010547 -0.67229297 -0.67008594 -0.41779688 -0.64204687\n",
      " -0.64853516 -0.38714844 -0.54549609 -0.52085156 -0.49807031 -0.54851563\n",
      " -0.56319141 -0.51403125 -0.64557031 -0.60736719 -0.639875   -0.37230859\n",
      " -0.46813281 -0.33727734 -0.56213672 -0.62242187 -0.71332422 -0.68148438\n",
      " -0.72579688 -0.64796094 -0.61895312 -0.23852734 -0.43683203 -0.51984375\n",
      " -0.46671094 -0.43196484 -0.38663672 -0.33613281 -0.59209766 -0.51309766\n",
      " -0.73875391 -0.71978906 -0.65280859 -0.56746875 -0.36264453 -0.61063672\n",
      " -0.37336328 -0.30386328 -0.35449609 -0.60705859 -0.54580078 -0.68662109\n",
      " -0.29469531 -0.61614062 -0.66569922 -0.51845312 -0.67931641 -0.24955078\n",
      " -0.32922656 -0.64452734 -0.52257813 -0.58511328 -0.47266016 -0.35200391\n",
      " -0.48700781 -0.46673828 -0.60188672 -0.73314062 -0.51096875 -0.52894531\n",
      " -0.54575391 -0.58344531 -0.62377344 -0.73892969 -0.73174609 -0.64152734\n",
      " -0.55148438 -0.57280078 -0.51576563 -0.37698437 -0.53240234 -0.475375\n",
      " -0.40250781 -0.65482422 -0.6710625  -0.71580078 -0.61500781 -0.67202344\n",
      " -0.54859375 -0.50812891 -0.65801953 -0.46586328 -0.74320313 -0.58693359\n",
      " -0.3839375  -0.59954688 -0.57853516 -0.56439453 -0.46398047 -0.24594141\n",
      " -0.38486328 -0.58713672 -0.59545703 -0.71494141 -0.638625   -0.73324609\n",
      " -0.71094922 -0.7313125  -0.71492578 -0.45041406 -0.35028125 -0.79139844\n",
      " -0.51878906 -0.47317187 -0.52574219 -0.44692187 -0.64170312 -0.57892578\n",
      " -0.34904687 -0.68160937 -0.70309375 -0.58175391 -0.53748828 -0.37805469\n",
      " -0.59413281 -0.66415234 -0.49169922 -0.6359375  -0.64723437 -0.45708594\n",
      " -0.64814844 -0.56939844 -0.62383203 -0.34547656 -0.45416797 -0.35212109\n",
      " -0.60701562 -0.68742187 -0.39122656 -0.56334766 -0.56267969 -0.54812109\n",
      " -0.59353906 -0.55850391 -0.31866016 -0.70325781 -0.64030469 -0.60607422\n",
      " -0.63056641 -0.52208203 -0.39032813 -0.50891016 -0.68947656 -0.56227734\n",
      " -0.50197656 -0.68049219 -0.70882812 -0.74007422 -0.60146875 -0.58228906\n",
      " -0.1605     -0.40298047 -0.64878516 -0.47865625 -0.43944141 -0.67935156\n",
      " -0.69247266 -0.56565234 -0.48401172 -0.27663281 -0.83346094 -0.79188672\n",
      " -0.70809766 -0.62907422 -0.57561719 -0.52555859 -0.55834375 -0.58130469\n",
      " -0.59284766 -0.49335937 -0.42940625 -0.43969141 -0.70900781 -0.72285938\n",
      " -0.34180469 -0.35244141 -0.63371094 -0.53233203 -0.63938281 -0.70842578\n",
      " -0.54839844 -0.54276953 -0.69061719 -0.63903125 -0.65154297 -0.69242578\n",
      " -0.48661328 -0.48552734 -0.51221484 -0.56689062 -0.59015234 -0.64650781\n",
      " -0.27779688 -0.43938672 -0.72859766 -0.75801172 -0.46984375 -0.57521484\n",
      " -0.41484375 -0.47923437 -0.29292578 -0.37891797 -0.18338281 -0.34810937\n",
      " -0.49601953 -0.56516406 -0.57599219 -0.29781641 -0.58996484 -0.59590625\n",
      " -0.60592188 -0.50635547 -0.60969531 -0.63421094 -0.6383125  -0.6389375\n",
      " -0.6390625  -0.44215234 -0.7633125  -0.35767578 -0.74125    -0.50761719\n",
      " -0.41320703 -0.54755078 -0.66935937 -0.59320312 -0.46778125 -0.76210547\n",
      " -0.7665625  -0.54391016 -0.59863281 -0.68248438 -0.46123828 -0.65527734\n",
      " -0.61471484 -0.63734766 -0.51308203 -0.58644141 -0.62259766 -0.61704297\n",
      " -0.53808984 -0.54446094 -0.66073828 -0.46185547 -0.54154297 -0.55246875\n",
      " -0.61043359 -0.64903906 -0.68082031 -0.47589453 -0.60380859 -0.66950391\n",
      " -0.59010938 -0.75073438 -0.73400391 -0.71702344 -0.72992188 -0.30028906\n",
      " -0.65778516 -0.44357422 -0.63219922 -0.46464844 -0.69939062 -0.62905859\n",
      " -0.61921484 -0.68713672 -0.82167969 -0.67969141 -0.58258203 -0.66258203\n",
      " -0.60528906 -0.64692969 -0.69910156 -0.69430859 -0.53464062 -0.52500781\n",
      " -0.62069922 -0.69022266 -0.61805859 -0.6025     -0.71950391 -0.582625\n",
      " -0.69546484 -0.54112891 -0.61954297 -0.65859766 -0.58448437 -0.48226172\n",
      " -0.7065     -0.64318359 -0.49922266 -0.21978516 -0.79299219 -0.46077344\n",
      " -0.60051563 -0.71978906 -0.71773828 -0.65225391 -0.51096484 -0.45762109\n",
      " -0.56400391 -0.80864453 -0.545125   -0.52819141 -0.53903906 -0.60010156\n",
      " -0.67378906 -0.41840234 -0.56307812 -0.47546875 -0.62710547 -0.65062109\n",
      " -0.80725781 -0.54512109 -0.69748047 -0.55298047 -0.45273828 -0.64262891\n",
      " -0.60198438 -0.64204297 -0.51725391 -0.57656641 -0.50605859 -0.67849609\n",
      " -0.51553516 -0.421375   -0.40238281 -0.63445703 -0.71589844 -0.55623047\n",
      " -0.54163672 -0.60817188 -0.63978125 -0.48509375 -0.65872266 -0.53857812\n",
      " -0.38133203 -0.58342187 -0.56464453 -0.75905859 -0.69952734 -0.70990234\n",
      " -0.70195703 -0.52181641 -0.534625   -0.58920313 -0.68369922 -0.72981641\n",
      " -0.65675    -0.65756641 -0.59417578 -0.44672656 -0.51112109 -0.2504375\n",
      " -0.52111328 -0.60556641 -0.47107422 -0.13449609 -0.21039453 -0.20688281\n",
      " -0.06491016 -0.37850391 -0.67155859 -0.62224219 -0.63797656 -0.54292969\n",
      " -0.51942969 -0.54314453 -0.67423828 -0.71844531 -0.67566406 -0.66109766\n",
      " -0.46316406 -0.48574609 -0.70305078 -0.67171875 -0.61352734 -0.37483984\n",
      " -0.54346875 -0.66744141 -0.60707422 -0.57698828 -0.39492187 -0.52365234\n",
      " -0.15751953 -0.51931641 -0.47982031 -0.39438672 -0.45583594 -0.62763672\n",
      " -0.62028906 -0.60195703 -0.49360156 -0.52316797 -0.62320312 -0.501875\n",
      " -0.58277734 -0.67583984 -0.32228125 -0.35257031 -0.57198047 -0.51050391\n",
      " -0.697625   -0.76503906 -0.5084375  -0.56119141 -0.44853516 -0.52838281\n",
      " -0.69215234 -0.76737891 -0.61706641 -0.34407031 -0.70347656 -0.47398047\n",
      " -0.48294531 -0.66825781 -0.4055     -0.62198437 -0.53003516 -0.46312891\n",
      " -0.45503125 -0.44778906 -0.52595703 -0.39371875 -0.58304688 -0.71875391\n",
      " -0.64695312 -0.69655859 -0.56446484 -0.50094922 -0.67785547 -0.471\n",
      " -0.48432812 -0.58205859 -0.47960156 -0.57137109 -0.41795313 -0.54977344\n",
      " -0.51581641 -0.48547656 -0.38504297 -0.53201562 -0.45153906 -0.64975391\n",
      " -0.58478516 -0.59974609 -0.72656641 -0.7443125  -0.59698047 -0.68272656\n",
      " -0.72625391 -0.43350781 -0.55766797 -0.6945625  -0.31619922 -0.59789063\n",
      " -0.35357812 -0.36633984 -0.42692578 -0.4909375  -0.40765625 -0.63365234\n",
      " -0.69778906 -0.51378516 -0.48450391 -0.47863281 -0.51563672 -0.67685937\n",
      " -0.47752344] \n",
      "\n"
     ]
    }
   ],
   "source": [
    "mu = np.mean(X, axis=0)\n",
    "print('The sample mean is', mu, '\\n')"
   ]
  },
  {
   "cell_type": "markdown",
   "id": "subject-allocation",
   "metadata": {},
   "source": [
    "### Normalization"
   ]
  },
  {
   "cell_type": "code",
   "execution_count": 20,
   "id": "invalid-borough",
   "metadata": {},
   "outputs": [
    {
     "name": "stdout",
     "output_type": "stream",
     "text": [
      "[[-0.67506425 -0.88947572 -0.67974422 ... -0.6315352  -0.51791646\n",
      "  -0.67511087]\n",
      " [-0.67506425 -0.88947572 -0.67974422 ... -0.6315352  -0.51791646\n",
      "  -0.67511087]\n",
      " [-0.67506425 -0.88947572 -0.67974422 ... -0.6315352  -0.51791646\n",
      "  -0.67511087]\n",
      " ...\n",
      " [-0.67506425  1.39104426 -0.67974422 ... -0.6315352  -0.51791646\n",
      "  -0.67511087]\n",
      " [-0.67506425 -0.0824316  -0.67974422 ... -0.6315352  -0.51791646\n",
      "  -0.67511087]\n",
      " [-0.67506425 -0.88947572 -0.67974422 ... -0.6315352  -0.51791646\n",
      "  -0.67511087]] \n",
      "\n"
     ]
    }
   ],
   "source": [
    "# Normalize X\n",
    "scalar = StandardScaler()\n",
    "scalar.fit(X)\n",
    "X = scalar.transform(X)\n",
    "print(X, '\\n')"
   ]
  },
  {
   "cell_type": "markdown",
   "id": "forbidden-fruit",
   "metadata": {},
   "source": [
    "### C.SVD\n",
    "\n",
    "with K =20 for simplicity"
   ]
  },
  {
   "cell_type": "code",
   "execution_count": 21,
   "id": "current-copying",
   "metadata": {},
   "outputs": [
    {
     "name": "stdout",
     "output_type": "stream",
     "text": [
      "The shape of u is  (256, 256)\n",
      "The shape of v is  (643, 643) \n",
      "\n",
      "The top 1/20 eigen value of SVD is 298.592224569705\n",
      "The top 2/20 eigen value of SVD is 132.4015414313267\n",
      "The top 3/20 eigen value of SVD is 91.40466075326047\n",
      "The top 4/20 eigen value of SVD is 72.63096469367042\n",
      "The top 5/20 eigen value of SVD is 67.16830454895056\n",
      "The top 6/20 eigen value of SVD is 61.13846545599896\n",
      "The top 7/20 eigen value of SVD is 56.08141021045025\n",
      "The top 8/20 eigen value of SVD is 50.577669739687785\n",
      "The top 9/20 eigen value of SVD is 48.27111038642805\n",
      "The top 10/20 eigen value of SVD is 42.009867536395866\n",
      "The top 11/20 eigen value of SVD is 38.44065028935104\n",
      "The top 12/20 eigen value of SVD is 36.063714365324245\n",
      "The top 13/20 eigen value of SVD is 35.84413073133\n",
      "The top 14/20 eigen value of SVD is 34.43030580953305\n",
      "The top 15/20 eigen value of SVD is 33.564949193374126\n",
      "The top 16/20 eigen value of SVD is 32.19438970335029\n",
      "The top 17/20 eigen value of SVD is 31.056275242034033\n",
      "The top 18/20 eigen value of SVD is 30.225745062227357\n",
      "The top 19/20 eigen value of SVD is 27.957533487138246\n",
      "The top 20/20 eigen value of SVD is 27.156088416541113\n"
     ]
    },
    {
     "data": {
      "text/plain": [
       "[None,\n",
       " None,\n",
       " None,\n",
       " None,\n",
       " None,\n",
       " None,\n",
       " None,\n",
       " None,\n",
       " None,\n",
       " None,\n",
       " None,\n",
       " None,\n",
       " None,\n",
       " None,\n",
       " None,\n",
       " None,\n",
       " None,\n",
       " None,\n",
       " None,\n",
       " None]"
      ]
     },
     "execution_count": 21,
     "metadata": {},
     "output_type": "execute_result"
    }
   ],
   "source": [
    "u, s, v = alg.svd(X)\n",
    "\n",
    "print('The shape of u is ',u.shape)\n",
    "print('The shape of v is ',v.shape, '\\n')\n",
    "\n",
    "[print('The top {}/20 eigen value of SVD is {}'.format(i+1, s[i])) for i in range(20)]"
   ]
  },
  {
   "cell_type": "markdown",
   "id": "destroyed-territory",
   "metadata": {},
   "source": [
    "##  D.Plot the eigenvalue curve"
   ]
  },
  {
   "cell_type": "markdown",
   "id": "normal-agency",
   "metadata": {},
   "source": [
    "#### Calculate the covariance matrix"
   ]
  },
  {
   "cell_type": "code",
   "execution_count": 3,
   "id": "southwest-sleeping",
   "metadata": {},
   "outputs": [
    {
     "name": "stdout",
     "output_type": "stream",
     "text": [
      "[[0.01078115 0.01058453 0.01019181 ... 0.00973327 0.01045406 0.01079594]\n",
      " [0.01058453 0.01193494 0.01313443 ... 0.00941415 0.01013911 0.01048294]\n",
      " [0.01019181 0.01313443 0.01698891 ... 0.00888731 0.00962203 0.00997043]\n",
      " ...\n",
      " [0.00973327 0.00941415 0.00888731 ... 0.01686956 0.01227738 0.00975728]\n",
      " [0.01045406 0.01013911 0.00962203 ... 0.01227738 0.01114895 0.01047775]\n",
      " [0.01079594 0.01048294 0.00997043 ... 0.00975728 0.01047775 0.01081949]] \n",
      "\n"
     ]
    }
   ],
   "source": [
    "cov_matrix = np.cov(X)\n",
    "print(cov_matrix, '\\n')"
   ]
  },
  {
   "cell_type": "markdown",
   "id": "serious-jordan",
   "metadata": {},
   "source": [
    "#### Eigen decomposition of covariance matrix"
   ]
  },
  {
   "cell_type": "code",
   "execution_count": 16,
   "id": "regulated-check",
   "metadata": {},
   "outputs": [
    {
     "name": "stdout",
     "output_type": "stream",
     "text": [
      "[ 2.88241479e+01+0.00000000e+00j  1.31187951e+01+0.00000000e+00j\n",
      "  1.10501617e+01+0.00000000e+00j  7.06650554e+00+0.00000000e+00j\n",
      "  5.98259288e+00+0.00000000e+00j  4.90120109e+00+0.00000000e+00j\n",
      "  4.03267123e+00+0.00000000e+00j  3.67055446e+00+0.00000000e+00j\n",
      "  3.28866201e+00+0.00000000e+00j  2.30194505e+00+0.00000000e+00j\n",
      "  2.19068973e+00+0.00000000e+00j  2.02464123e+00+0.00000000e+00j\n",
      "  1.89092301e+00+0.00000000e+00j  1.77038207e+00+0.00000000e+00j\n",
      "  1.68698544e+00+0.00000000e+00j  1.56740575e+00+0.00000000e+00j\n",
      "  1.44812323e+00+0.00000000e+00j  1.34414311e+00+0.00000000e+00j\n",
      "  1.20432383e+00+0.00000000e+00j  1.12826745e+00+0.00000000e+00j\n",
      "  1.05990528e+00+0.00000000e+00j  9.53447993e-01+0.00000000e+00j\n",
      "  9.27638812e-01+0.00000000e+00j  7.97584711e-01+0.00000000e+00j\n",
      "  7.63838270e-01+0.00000000e+00j  7.04535081e-01+0.00000000e+00j\n",
      "  6.80980158e-01+0.00000000e+00j  6.59052106e-01+0.00000000e+00j\n",
      "  6.45109378e-01+0.00000000e+00j  6.11598155e-01+0.00000000e+00j\n",
      "  5.84047000e-01+0.00000000e+00j  5.46888729e-01+0.00000000e+00j\n",
      "  5.26203457e-01+0.00000000e+00j  4.84484908e-01+0.00000000e+00j\n",
      "  4.70510294e-01+0.00000000e+00j  4.67881223e-01+0.00000000e+00j\n",
      "  4.46904942e-01+0.00000000e+00j  4.16697386e-01+0.00000000e+00j\n",
      "  3.94653012e-01+0.00000000e+00j  3.76122786e-01+0.00000000e+00j\n",
      "  3.69226015e-01+0.00000000e+00j  3.44159392e-01+0.00000000e+00j\n",
      "  3.42422969e-01+0.00000000e+00j  3.33849886e-01+0.00000000e+00j\n",
      "  3.06202917e-01+0.00000000e+00j  2.99604961e-01+0.00000000e+00j\n",
      "  2.96079594e-01+0.00000000e+00j  2.81452059e-01+0.00000000e+00j\n",
      "  2.73577928e-01+0.00000000e+00j  2.55064153e-01+0.00000000e+00j\n",
      "  2.46928876e-01+0.00000000e+00j  2.35503711e-01+0.00000000e+00j\n",
      "  2.21828635e-01+0.00000000e+00j  2.13966741e-01+0.00000000e+00j\n",
      "  2.10068344e-01+0.00000000e+00j  2.06386541e-01+0.00000000e+00j\n",
      "  1.97615796e-01+0.00000000e+00j  1.90356423e-01+0.00000000e+00j\n",
      "  1.81681688e-01+0.00000000e+00j  1.73425500e-01+0.00000000e+00j\n",
      "  1.67800532e-01+0.00000000e+00j  1.61891087e-01+0.00000000e+00j\n",
      "  1.60719360e-01+0.00000000e+00j  1.56006602e-01+0.00000000e+00j\n",
      "  1.53799502e-01+0.00000000e+00j  1.47193271e-01+0.00000000e+00j\n",
      "  1.41242665e-01+0.00000000e+00j  1.38812226e-01+0.00000000e+00j\n",
      "  1.31037033e-01+0.00000000e+00j  1.27665446e-01+0.00000000e+00j\n",
      "  1.15531798e-01+0.00000000e+00j  1.17442668e-01+0.00000000e+00j\n",
      "  1.20187700e-01+0.00000000e+00j  1.22670303e-01+0.00000000e+00j\n",
      "  1.11372901e-01+0.00000000e+00j  1.08122881e-01+0.00000000e+00j\n",
      "  1.04959187e-01+0.00000000e+00j  1.02282822e-01+0.00000000e+00j\n",
      "  1.00967350e-01+0.00000000e+00j  9.95204894e-02+0.00000000e+00j\n",
      "  8.09631064e-02+0.00000000e+00j  8.33643808e-02+0.00000000e+00j\n",
      "  9.51019319e-02+0.00000000e+00j  9.23348759e-02+0.00000000e+00j\n",
      "  8.97039414e-02+0.00000000e+00j  8.64876460e-02+0.00000000e+00j\n",
      "  7.95333493e-02+0.00000000e+00j  7.74939928e-02+0.00000000e+00j\n",
      "  7.50641893e-02+0.00000000e+00j  7.34009131e-02+0.00000000e+00j\n",
      "  7.16306549e-02+0.00000000e+00j  6.89035673e-02+0.00000000e+00j\n",
      "  6.64978158e-02+0.00000000e+00j  6.41628816e-02+0.00000000e+00j\n",
      "  6.49241030e-02+0.00000000e+00j  6.04954814e-02+0.00000000e+00j\n",
      "  5.93680530e-02+0.00000000e+00j  5.75317146e-02+0.00000000e+00j\n",
      "  5.58123269e-02+0.00000000e+00j  5.50171251e-02+0.00000000e+00j\n",
      "  4.97803514e-02+0.00000000e+00j  5.17769678e-02+0.00000000e+00j\n",
      "  5.09416572e-02+0.00000000e+00j  4.87366534e-02+0.00000000e+00j\n",
      "  4.79087531e-02+0.00000000e+00j  4.68588580e-02+0.00000000e+00j\n",
      "  4.43855765e-02+0.00000000e+00j  4.32684243e-02+0.00000000e+00j\n",
      "  4.37208776e-02+0.00000000e+00j  4.25014450e-02+0.00000000e+00j\n",
      "  4.03235026e-02+0.00000000e+00j  3.92311054e-02+0.00000000e+00j\n",
      "  3.77162710e-02+0.00000000e+00j  3.55463568e-02+0.00000000e+00j\n",
      "  3.64574110e-02+0.00000000e+00j  2.80364797e-02+0.00000000e+00j\n",
      "  3.47599274e-02+0.00000000e+00j  3.34718085e-02+0.00000000e+00j\n",
      "  3.29372988e-02+0.00000000e+00j  3.23349560e-02+0.00000000e+00j\n",
      "  2.93554066e-02+0.00000000e+00j  3.01278974e-02+0.00000000e+00j\n",
      "  3.04441271e-02+0.00000000e+00j  2.27085137e-02+0.00000000e+00j\n",
      "  2.77029939e-02+0.00000000e+00j  2.71426344e-02+0.00000000e+00j\n",
      "  2.42784039e-02+0.00000000e+00j  2.50699669e-02+0.00000000e+00j\n",
      "  2.55668167e-02+0.00000000e+00j  2.59081031e-02+0.00000000e+00j\n",
      "  2.22922257e-02+0.00000000e+00j  2.15528032e-02+0.00000000e+00j\n",
      "  2.01737206e-02+0.00000000e+00j  1.99067459e-02+0.00000000e+00j\n",
      "  1.95754907e-02+0.00000000e+00j  1.86991379e-02+0.00000000e+00j\n",
      "  1.85244795e-02+0.00000000e+00j  1.77875102e-02+0.00000000e+00j\n",
      "  1.65916213e-02+0.00000000e+00j  1.59071681e-02+0.00000000e+00j\n",
      "  1.61036188e-02+0.00000000e+00j  1.49725309e-02+0.00000000e+00j\n",
      "  1.44330589e-02+0.00000000e+00j  1.36583463e-02+0.00000000e+00j\n",
      "  1.35531970e-02+0.00000000e+00j  1.30148601e-02+0.00000000e+00j\n",
      "  1.25401388e-02+0.00000000e+00j  1.23293265e-02+0.00000000e+00j\n",
      "  9.74181686e-03+0.00000000e+00j  1.02819607e-02+0.00000000e+00j\n",
      "  1.16242103e-02+0.00000000e+00j  1.07888734e-02+0.00000000e+00j\n",
      "  1.10775963e-02+0.00000000e+00j  1.09583658e-02+0.00000000e+00j\n",
      "  8.91797735e-03+0.00000000e+00j  9.07780979e-03+0.00000000e+00j\n",
      "  8.68269544e-03+0.00000000e+00j  8.25668440e-03+0.00000000e+00j\n",
      "  7.88993130e-03+0.00000000e+00j  7.14954527e-03+0.00000000e+00j\n",
      "  6.86445890e-03+0.00000000e+00j  6.49747677e-03+0.00000000e+00j\n",
      "  6.35956998e-03+0.00000000e+00j  6.05648249e-03+0.00000000e+00j\n",
      "  5.71744554e-03+0.00000000e+00j  4.24763053e-03+0.00000000e+00j\n",
      "  5.34659201e-03+0.00000000e+00j  4.54842869e-03+0.00000000e+00j\n",
      "  4.62203623e-03+0.00000000e+00j  5.00684126e-03+0.00000000e+00j\n",
      "  4.87716894e-03+0.00000000e+00j  3.69692985e-03+0.00000000e+00j\n",
      "  3.88446888e-03+0.00000000e+00j  3.51241510e-03+0.00000000e+00j\n",
      "  3.24164845e-03+0.00000000e+00j  2.69352420e-03+0.00000000e+00j\n",
      "  2.92469964e-03+0.00000000e+00j  3.04891509e-03+0.00000000e+00j\n",
      "  2.48802000e-03+0.00000000e+00j  2.28978235e-03+0.00000000e+00j\n",
      "  2.19093639e-03+0.00000000e+00j  2.05714340e-03+0.00000000e+00j\n",
      "  1.96297035e-03+0.00000000e+00j  1.79319385e-03+0.00000000e+00j\n",
      "  1.75465274e-03+0.00000000e+00j  1.34837013e-03+0.00000000e+00j\n",
      "  1.54445557e-03+0.00000000e+00j  1.48946826e-03+0.00000000e+00j\n",
      "  1.18478487e-03+0.00000000e+00j  1.10113322e-03+0.00000000e+00j\n",
      "  9.10848255e-04+0.00000000e+00j  9.06181026e-04+0.00000000e+00j\n",
      "  8.13669820e-04+0.00000000e+00j  7.15734660e-04+0.00000000e+00j\n",
      "  6.60096099e-04+0.00000000e+00j  5.26868360e-04+0.00000000e+00j\n",
      "  4.29210322e-04+0.00000000e+00j  3.83014213e-04+0.00000000e+00j\n",
      "  3.37415194e-04+0.00000000e+00j  2.82760900e-04+0.00000000e+00j\n",
      "  2.43233598e-04+0.00000000e+00j  2.03964545e-04+0.00000000e+00j\n",
      "  2.08797347e-04+0.00000000e+00j  1.82067700e-04+0.00000000e+00j\n",
      "  1.41525795e-04+0.00000000e+00j  1.38027918e-04+0.00000000e+00j\n",
      "  5.25143973e-05+0.00000000e+00j  4.77557420e-05+0.00000000e+00j\n",
      "  4.39042561e-05+0.00000000e+00j  3.31735923e-05+0.00000000e+00j\n",
      "  1.99958367e-05+0.00000000e+00j  9.98706148e-06+0.00000000e+00j\n",
      "  9.18374828e-06+0.00000000e+00j  7.03357065e-06+0.00000000e+00j\n",
      "  4.89469128e-06+0.00000000e+00j  4.33519849e-06+0.00000000e+00j\n",
      "  2.90298334e-06+0.00000000e+00j  2.62258974e-06+0.00000000e+00j\n",
      "  1.45044330e-06+0.00000000e+00j  5.18143252e-07+0.00000000e+00j\n",
      "  1.30565487e-07+0.00000000e+00j  1.62497940e-09+0.00000000e+00j\n",
      "  6.34514638e-10+0.00000000e+00j  5.17679138e-12+0.00000000e+00j\n",
      "  3.06037064e-16+0.00000000e+00j -8.78286886e-16+0.00000000e+00j\n",
      " -1.68149770e-16+0.00000000e+00j  7.29086342e-17+0.00000000e+00j\n",
      "  3.11059801e-17+0.00000000e+00j -2.32807565e-17+0.00000000e+00j\n",
      " -1.31741732e-17+0.00000000e+00j -2.91122149e-19+1.10716296e-17j\n",
      " -2.91122149e-19-1.10716296e-17j  9.68792138e-18+2.52742959e-18j\n",
      "  9.68792138e-18-2.52742959e-18j  4.02456586e-18+8.15352131e-18j\n",
      "  4.02456586e-18-8.15352131e-18j -7.84486282e-18+0.00000000e+00j\n",
      " -6.16280819e-19+2.47648598e-18j -6.16280819e-19-2.47648598e-18j\n",
      " -1.13764687e-18+0.00000000e+00j -3.82924167e-19+3.85791749e-19j\n",
      " -3.82924167e-19-3.85791749e-19j  1.14108212e-19+1.24270146e-19j\n",
      "  1.14108212e-19-1.24270146e-19j  2.51286565e-20+0.00000000e+00j\n",
      "  2.44224238e-23+0.00000000e+00j  7.70050328e-28+0.00000000e+00j\n",
      "  1.15005167e-31+0.00000000e+00j  2.80933547e-32+9.63696770e-32j\n",
      "  2.80933547e-32-9.63696770e-32j -1.23876146e-31+0.00000000e+00j\n",
      " -4.26261470e-32+0.00000000e+00j  1.86476264e-35+0.00000000e+00j\n",
      " -3.82957222e-35+4.62561082e-35j -3.82957222e-35-4.62561082e-35j] \n",
      "\n"
     ]
    }
   ],
   "source": [
    "eigen_values, eigen_vectors = alg.eig(cov_matrix)\n",
    "print(eigen_values, '\\n')"
   ]
  },
  {
   "cell_type": "markdown",
   "id": "robust-buffer",
   "metadata": {},
   "source": [
    "#### Visualize the eigenvalues"
   ]
  },
  {
   "cell_type": "code",
   "execution_count": 5,
   "id": "patient-motorcycle",
   "metadata": {},
   "outputs": [
    {
     "name": "stderr",
     "output_type": "stream",
     "text": [
      "/opt/anaconda3/envs/MATH5473/lib/python3.7/site-packages/numpy/core/_asarray.py:83: ComplexWarning: Casting complex values to real discards the imaginary part\n",
      "  return array(a, dtype, copy=False, order=order)\n"
     ]
    },
    {
     "data": {
      "image/png": "[encoded data removed]",
      "text/plain": [
       "<Figure size 432x288 with 1 Axes>"
      ]
     },
     "metadata": {
      "needs_background": "light"
     },
     "output_type": "display_data"
    }
   ],
   "source": [
    "# Making eigen tuples\n",
    "eigen_pairs = [ (np.abs(eigen_values[i]), eigen_vectors[:, i]) for i in range(len(eigen_values))]\n",
    "\n",
    "# Sort the tuples\n",
    "eigen_pairs.sort(key = lambda eigen_pairs: eigen_pairs[0])\n",
    "eigen_pairs.reverse()\n",
    "\n",
    "# Visualize the eigenvalues\n",
    "t = [i for i in range(len(eigen_values))]\n",
    "plt.plot(t, eigen_values)\n",
    "plt.show()"
   ]
  },
  {
   "cell_type": "markdown",
   "id": "altered-football",
   "metadata": {},
   "source": [
    "#### Plot the ratio of variance explained"
   ]
  },
  {
   "cell_type": "code",
   "execution_count": 6,
   "id": "dependent-airline",
   "metadata": {},
   "outputs": [
    {
     "name": "stderr",
     "output_type": "stream",
     "text": [
      "/opt/anaconda3/envs/MATH5473/lib/python3.7/site-packages/numpy/core/_asarray.py:136: ComplexWarning: Casting complex values to real discards the imaginary part\n",
      "  return array(a, dtype, copy=False, order=order, subok=True)\n"
     ]
    },
    {
     "data": {
      "image/png": "[encoded data removed]",
      "text/plain": [
       "<Figure size 432x288 with 1 Axes>"
      ]
     },
     "metadata": {
      "needs_background": "light"
     },
     "output_type": "display_data"
    }
   ],
   "source": [
    "# Explained variance ratio\n",
    "total = sum(eigen_values)\n",
    "# A smarter way\n",
    "var_exped_np = [(i/total) for i in sorted(eigen_values, reverse=True)]\n",
    "cum_var_exped_np = np.cumsum(var_exped_np)\n",
    "\n",
    "fig = plt.figure()\n",
    "ax = fig.subplots(1, 1)\n",
    "ax.scatter(range(1, len(cum_var_exped_np)+1), cum_var_exped_np)\n",
    "\n",
    "plt.xlabel = ('Number of Principal Components')\n",
    "plt.ylabel = ('Cumulatice Explained Variance in Percent')\n",
    "ax.yaxis.set_major_formatter(mtick.PercentFormatter(1))\n",
    "plt.show()"
   ]
  },
  {
   "cell_type": "markdown",
   "id": "proud-calendar",
   "metadata": {},
   "source": [
    "### E.Visualize top-20 right singular vector"
   ]
  },
  {
   "cell_type": "code",
   "execution_count": 27,
   "id": "radio-explorer",
   "metadata": {},
   "outputs": [
    {
     "data": {
      "image/png": "[encoded data removed]",
      "text/plain": [
       "<Figure size 432x288 with 20 Axes>"
      ]
     },
     "metadata": {},
     "output_type": "display_data"
    }
   ],
   "source": [
    "plt.figure()\n",
    "cmap  = cm.gray_r\n",
    "for i in range(1,21):\n",
    "    pc = u[:, i]\n",
    "    pc_matrix = np.reshape(pc, (16, 16))\n",
    "    \n",
    "    plt.subplot(4, 5, i)\n",
    "    plt.imshow(pc_matrix, cmap=cmap)\n",
    "    plt.xticks([])\n",
    "    plt.yticks([])\n",
    "    \n",
    "plt.show()\n",
    "\n"
   ]
  },
  {
   "cell_type": "markdown",
   "id": "incorporate-blind",
   "metadata": {},
   "source": [
    "### F.Order the image"
   ]
  },
  {
   "cell_type": "code",
   "execution_count": 50,
   "id": "naughty-judgment",
   "metadata": {},
   "outputs": [
    {
     "name": "stdout",
     "output_type": "stream",
     "text": [
      "Let's have a look at the rank of images projected on the first principal component\n",
      "\n",
      "The smallest images are:\n",
      "The 1/643 samllest image is 568-th with value (-11.054464572472456+0j) on projection\n",
      "The 2/643 samllest image is 48-th with value (-10.862345709102394+0j) on projection\n",
      "The 3/643 samllest image is 37-th with value (-10.837568362590535+0j) on projection\n",
      "The 4/643 samllest image is 184-th with value (-10.779770818159191+0j) on projection\n",
      "The 5/643 samllest image is 58-th with value (-10.761947038097292+0j) on projection\n",
      "The 6/643 samllest image is 191-th with value (-10.734473542277406+0j) on projection\n",
      "The 7/643 samllest image is 456-th with value (-10.711050716919784+0j) on projection\n",
      "The 8/643 samllest image is 94-th with value (-10.69797252866018+0j) on projection\n",
      "The 9/643 samllest image is 368-th with value (-10.619600415637514+0j) on projection\n",
      "The 10/643 samllest image is 432-th with value (-10.595291018962067+0j) on projection\n",
      "\n",
      "\n",
      "The biggest images are:\n",
      "The length of proj1_tuple is 643\n",
      "The 1/643 samllest image is 546-th with value (9.694347128654664+0j) on projection\n",
      "The 2/643 samllest image is 34-th with value (9.48380195013904+0j) on projection\n",
      "The 3/643 samllest image is 585-th with value (9.42895752462828+0j) on projection\n",
      "The 4/643 samllest image is 293-th with value (9.35731446256557+0j) on projection\n",
      "The 5/643 samllest image is 362-th with value (9.122553965098847+0j) on projection\n",
      "The 6/643 samllest image is 638-th with value (9.118296551236266+0j) on projection\n",
      "The 7/643 samllest image is 245-th with value (9.004404480761327+0j) on projection\n",
      "The 8/643 samllest image is 547-th with value (8.987764541823895+0j) on projection\n",
      "The 9/643 samllest image is 639-th with value (8.867041302261557+0j) on projection\n",
      "The 10/643 samllest image is 363-th with value (8.63702384161231+0j) on projection\n"
     ]
    },
    {
     "data": {
      "text/plain": [
       "[None, None, None, None, None, None, None, None, None, None]"
      ]
     },
     "execution_count": 50,
     "metadata": {},
     "output_type": "execute_result"
    }
   ],
   "source": [
    "# print('The shape of X is', X.shape)\n",
    "v1 = eigen_vectors[:, 0]\n",
    "proj1 = np.dot(X.T, v1)\n",
    "#print(proj1.shape)\n",
    "proj1_tuple = [(i, proj1[i]) for i in range(N)]\n",
    "proj1_tuple.sort(key= lambda proj1_tuple: proj1_tuple[1])\n",
    "print(\"Let's have a look at the rank of images projected on the first principal component\\n\")\n",
    "print(\"The smallest images are:\")\n",
    "[print(\"The {}/643 samllest image is {}-th with value {} on projection\".format(i+1, proj1_tuple[i][0], proj1_tuple[i][1])) for i in range(10)]\n",
    "print('\\n')\n",
    "print(\"The biggest images are:\")\n",
    "print(\"The length of proj1_tuple is {}\".format(len(proj1_tuple)))\n",
    "[print(\"The {}/643 samllest image is {}-th with value {} on projection\".format(i+1, proj1_tuple[N-i-1][0], proj1_tuple[N-i-1][1])) for i in range(10)]"
   ]
  },
  {
   "cell_type": "markdown",
   "id": "fitted-bidder",
   "metadata": {},
   "source": [
    "### G.Scatter Plot"
   ]
  },
  {
   "cell_type": "code",
   "execution_count": 57,
   "id": "tribal-academy",
   "metadata": {},
   "outputs": [
    {
     "data": {
      "image/png": "[encoded data removed]",
      "text/plain": [
       "<Figure size 720x720 with 1 Axes>"
      ]
     },
     "metadata": {
      "needs_background": "light"
     },
     "output_type": "display_data"
    }
   ],
   "source": [
    "pc1 = eigen_pairs[0][1][:, np.newaxis]\n",
    "pc2 = eigen_pairs[1][1][:, np.newaxis]\n",
    "\n",
    "W = np.hstack((pc1, pc2))\n",
    "#print(W.shape)\n",
    "#print(X.shape)\n",
    "X_pca = np.dot(X.T, W)\n",
    "\n",
    "plt.figure(figsize=(10, 10))\n",
    "x = np.array(X_pca[:, 0])\n",
    "y = np.array(X_pca[:, 1])\n",
    "plt.scatter(x, y)\n",
    "plt.xlabel = ('pca1')\n",
    "plt.ylabel = ('pca2')\n",
    "plt.title = ('Samples projected onto 2-D by PCA')\n",
    "plt.show()\n"
   ]
  },
  {
   "cell_type": "markdown",
   "id": "revised-render",
   "metadata": {},
   "source": [
    "The remaining part of problem G is left."
   ]
  },
  {
   "cell_type": "code",
   "execution_count": null,
   "id": "neutral-irrigation",
   "metadata": {},
   "outputs": [],
   "source": []
  }
 ],
 "metadata": {
  "kernelspec": {
   "display_name": "Python 3",
   "language": "python",
   "name": "python3"
  },
  "language_info": {
   "codemirror_mode": {
    "name": "ipython",
    "version": 3
   },
   "file_extension": ".py",
   "mimetype": "text/x-python",
   "name": "python",
   "nbconvert_exporter": "python",
   "pygments_lexer": "ipython3",
   "version": "3.7.9"
  }
 },
 "nbformat": 4,
 "nbformat_minor": 5
}
