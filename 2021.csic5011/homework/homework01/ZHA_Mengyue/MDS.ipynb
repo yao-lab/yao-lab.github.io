{
 "cells": [
  {
   "cell_type": "code",
   "execution_count": 16,
   "id": "representative-stocks",
   "metadata": {},
   "outputs": [],
   "source": [
    "import numpy as np\n",
    "import pandas as pd\n",
    "import numpy.linalg as alg\n",
    "import scipy as sp\n",
    "import matplotlib.pyplot as plt"
   ]
  },
  {
   "cell_type": "markdown",
   "id": "polish-effects",
   "metadata": {},
   "source": [
    "### A. Load the Data"
   ]
  },
  {
   "cell_type": "code",
   "execution_count": 17,
   "id": "adequate-merchandise",
   "metadata": {},
   "outputs": [
    {
     "name": "stdout",
     "output_type": "stream",
     "text": [
      "   Beijing  Shanghai  HongKong    Dubai   Turku  Berlin  NewYork\n",
      "0      0.0    1075.0    1970.5   5840.2  6443.0  7358.0  10985.8\n",
      "1   1075.0       0.0    1214.7   6417.4  7504.9  8402.5  11870.3\n",
      "2   1970.5    1214.7       0.0   5952.5  7966.0  8751.6  12956.0\n",
      "3   5840.2    6417.4    5952.5      0.0  4652.7  4622.8  11002.3\n",
      "4   6443.0    7504.9    7966.0   4652.7     0.0  1035.1   6470.8\n",
      "5   7358.0    8402.5    8751.6   4622.8  1035.1     0.0   6380.8\n",
      "6  10985.8   11870.3   12956.0  11002.3  6470.8  6380.8      0.0\n"
     ]
    }
   ],
   "source": [
    "data = pd.read_csv('/Users/zhamengyue/Documents/UST2021Spring/MATH5473/Homework/CityDistance.csv')\n",
    "\n",
    "print(data)"
   ]
  },
  {
   "cell_type": "code",
   "execution_count": 18,
   "id": "steady-indiana",
   "metadata": {},
   "outputs": [],
   "source": [
    "Data = np.array(data)\n",
    "n = len(Data)\n",
    "cities = np.array(data.columns)"
   ]
  },
  {
   "cell_type": "markdown",
   "id": "alternate-madison",
   "metadata": {},
   "source": [
    "### B. My own MDS"
   ]
  },
  {
   "cell_type": "code",
   "execution_count": 19,
   "id": "athletic-boating",
   "metadata": {},
   "outputs": [],
   "source": [
    "def mds(D, dim=[]):\n",
    "    H = -np.ones((n, n))/n\n",
    "    H = -H.dot(D ** 2).dot(H)/2\n",
    "    evals, evecs = alg.eigh(H)\n",
    "\n",
    "    # Sort by eigenvalu in descending order\n",
    "    idx = np.argsort(evals)[::-1]\n",
    "    evals = evals[idx]\n",
    "    evecs = evecs[:, idx]\n",
    "\n",
    "    #Compute the coordinates using positive eigenvalued components only\n",
    "    w, = np.where(evals > 0)\n",
    "    if dim!=[]:\n",
    "        arr = evals\n",
    "        w = arr.argsort()[-dim:][::-1]\n",
    "    if np.any(evals[w]<0):\n",
    "        print('Error: Not enough positive eigenvalues for the selected dim.')\n",
    "        return []\n",
    "    L = np.diag(np.sqrt(evals[w]))\n",
    "    V = evecs[:, w]\n",
    "    Y = V.dot(L)\n",
    "    return Y, evals, evecs"
   ]
  },
  {
   "cell_type": "markdown",
   "id": "further-healthcare",
   "metadata": {},
   "source": [
    "### C. 2-D Embedding with 2 Principal Components"
   ]
  },
  {
   "cell_type": "code",
   "execution_count": 20,
   "id": "united-precipitation",
   "metadata": {},
   "outputs": [],
   "source": [
    "X2, eigen_values, eigen_vectors = mds(Data, dim=2)"
   ]
  },
  {
   "cell_type": "markdown",
   "id": "desperate-solomon",
   "metadata": {},
   "source": [
    "### D. Plot Cumsum Eigenvalues"
   ]
  },
  {
   "cell_type": "code",
   "execution_count": 21,
   "id": "hearing-bosnia",
   "metadata": {},
   "outputs": [
    {
     "name": "stdout",
     "output_type": "stream",
     "text": [
      "Eigenvalues are:\n",
      " [ 1.97760133e-09  1.42359021e-24  2.42610861e-25 -1.08922722e-41\n",
      " -1.92832396e-08 -3.14654136e-08 -1.65291195e+08]\n",
      "Normed Eigenvalues are:\n",
      " [-1.19643477e-17 -8.61261973e-33 -1.46777849e-33  6.58974739e-50\n",
      "  1.16662231e-16  1.90363520e-16  1.00000000e+00]\n"
     ]
    }
   ],
   "source": [
    "total = np.sum(eigen_values)\n",
    "normed_eigen_values = eigen_values/total\n",
    "print(\"Eigenvalues are:\\n\",eigen_values)\n",
    "print(\"Normed Eigenvalues are:\\n\", normed_eigen_values)"
   ]
  },
  {
   "cell_type": "markdown",
   "id": "sudden-mounting",
   "metadata": {},
   "source": [
    "Yes, there are some negative eigenvalues"
   ]
  },
  {
   "cell_type": "code",
   "execution_count": 22,
   "id": "instructional-jersey",
   "metadata": {},
   "outputs": [
    {
     "data": {
      "image/png": "[encoded data removed]",
      "text/plain": [
       "<Figure size 432x288 with 1 Axes>"
      ]
     },
     "metadata": {
      "needs_background": "light"
     },
     "output_type": "display_data"
    }
   ],
   "source": [
    "plt.figure()\n",
    "plt.plot(range(n), normed_eigen_values)\n",
    "plt.show()"
   ]
  },
  {
   "cell_type": "markdown",
   "id": "liable-proportion",
   "metadata": {},
   "source": [
    "### E. Scatter plot of cities"
   ]
  },
  {
   "cell_type": "code",
   "execution_count": 23,
   "id": "urban-kitchen",
   "metadata": {},
   "outputs": [
    {
     "data": {
      "image/png": "[encoded data removed]",
      "text/plain": [
       "<Figure size 432x288 with 1 Axes>"
      ]
     },
     "metadata": {
      "needs_background": "light"
     },
     "output_type": "display_data"
    }
   ],
   "source": [
    "plt.figure()\n",
    "colors = ['navy', 'turquoise', 'darkorange']\n",
    "for i in range(n):\n",
    "    plt.scatter(X2[i, 0], X2[i, 1], alpha=.8, label=cities[i])\n",
    "plt.legend(loc='best', shadow=False, scatterpoints=1)\n",
    "plt.title('MDS of City dataset')\n",
    "plt.show()\n"
   ]
  },
  {
   "cell_type": "markdown",
   "id": "civic-scout",
   "metadata": {},
   "source": [
    "If you revert the graph above 90 degree to the right. Then the graph will basically reflect the position relationship like Dubai is in the West of east Asian countries like Beijing and Hong Kong. However, there is not much cities near New york, so New york looks liek an outlier and lacks information to help it being embedded better. "
   ]
  },
  {
   "cell_type": "code",
   "execution_count": null,
   "id": "likely-paraguay",
   "metadata": {},
   "outputs": [],
   "source": []
  }
 ],
 "metadata": {
  "kernelspec": {
   "display_name": "Python 3",
   "language": "python",
   "name": "python3"
  },
  "language_info": {
   "codemirror_mode": {
    "name": "ipython",
    "version": 3
   },
   "file_extension": ".py",
   "mimetype": "text/x-python",
   "name": "python",
   "nbconvert_exporter": "python",
   "pygments_lexer": "ipython3",
   "version": "3.7.9"
  }
 },
 "nbformat": 4,
 "nbformat_minor": 5
}
