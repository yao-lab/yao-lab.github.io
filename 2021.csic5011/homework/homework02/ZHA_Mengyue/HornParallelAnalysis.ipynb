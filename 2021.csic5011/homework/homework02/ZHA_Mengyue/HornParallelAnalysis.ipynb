{
 "cells": [
  {
   "cell_type": "code",
   "execution_count": 35,
   "id": "rental-sacramento",
   "metadata": {},
   "outputs": [],
   "source": [
    "import numpy as np\n",
    "import numpy.linalg as alg\n",
    "import pandas as pd\n",
    "import matplotlib.pyplot as plt"
   ]
  },
  {
   "cell_type": "markdown",
   "id": "color-journal",
   "metadata": {},
   "source": [
    "### Load the Data"
   ]
  },
  {
   "cell_type": "code",
   "execution_count": 36,
   "id": "mexican-fourth",
   "metadata": {},
   "outputs": [
    {
     "data": {
      "text/html": [
       "<div>\n",
       "<style scoped>\n",
       "    .dataframe tbody tr th:only-of-type {\n",
       "        vertical-align: middle;\n",
       "    }\n",
       "\n",
       "    .dataframe tbody tr th {\n",
       "        vertical-align: top;\n",
       "    }\n",
       "\n",
       "    .dataframe thead th {\n",
       "        text-align: right;\n",
       "    }\n",
       "</style>\n",
       "<table border=\"1\" class=\"dataframe\">\n",
       "  <thead>\n",
       "    <tr style=\"text-align: right;\">\n",
       "      <th></th>\n",
       "      <th>D1</th>\n",
       "      <th>D2</th>\n",
       "      <th>D3</th>\n",
       "      <th>D4</th>\n",
       "      <th>D5</th>\n",
       "      <th>D6</th>\n",
       "      <th>D7</th>\n",
       "      <th>D8</th>\n",
       "      <th>D9</th>\n",
       "      <th>D10</th>\n",
       "      <th>...</th>\n",
       "      <th>D443</th>\n",
       "      <th>D444</th>\n",
       "      <th>D445</th>\n",
       "      <th>D446</th>\n",
       "      <th>D447</th>\n",
       "      <th>D448</th>\n",
       "      <th>D449</th>\n",
       "      <th>D450</th>\n",
       "      <th>D451</th>\n",
       "      <th>D452</th>\n",
       "    </tr>\n",
       "  </thead>\n",
       "  <tbody>\n",
       "    <tr>\n",
       "      <th>0</th>\n",
       "      <td>126.75</td>\n",
       "      <td>30.51</td>\n",
       "      <td>40.05</td>\n",
       "      <td>21.75</td>\n",
       "      <td>25.60</td>\n",
       "      <td>7.01</td>\n",
       "      <td>3.24</td>\n",
       "      <td>42.04</td>\n",
       "      <td>31.59</td>\n",
       "      <td>19.14</td>\n",
       "      <td>...</td>\n",
       "      <td>25.65</td>\n",
       "      <td>13.50</td>\n",
       "      <td>11.35</td>\n",
       "      <td>8.16</td>\n",
       "      <td>22.03</td>\n",
       "      <td>80.23</td>\n",
       "      <td>17.60</td>\n",
       "      <td>25.12</td>\n",
       "      <td>40.30</td>\n",
       "      <td>40.64</td>\n",
       "    </tr>\n",
       "    <tr>\n",
       "      <th>1</th>\n",
       "      <td>126.27</td>\n",
       "      <td>30.69</td>\n",
       "      <td>40.44</td>\n",
       "      <td>21.34</td>\n",
       "      <td>26.30</td>\n",
       "      <td>6.94</td>\n",
       "      <td>3.45</td>\n",
       "      <td>42.33</td>\n",
       "      <td>31.60</td>\n",
       "      <td>19.05</td>\n",
       "      <td>...</td>\n",
       "      <td>25.59</td>\n",
       "      <td>13.40</td>\n",
       "      <td>11.54</td>\n",
       "      <td>8.28</td>\n",
       "      <td>22.94</td>\n",
       "      <td>80.70</td>\n",
       "      <td>18.10</td>\n",
       "      <td>24.55</td>\n",
       "      <td>40.40</td>\n",
       "      <td>40.27</td>\n",
       "    </tr>\n",
       "    <tr>\n",
       "      <th>2</th>\n",
       "      <td>127.19</td>\n",
       "      <td>31.97</td>\n",
       "      <td>40.70</td>\n",
       "      <td>22.11</td>\n",
       "      <td>27.51</td>\n",
       "      <td>7.16</td>\n",
       "      <td>3.45</td>\n",
       "      <td>42.75</td>\n",
       "      <td>32.00</td>\n",
       "      <td>19.96</td>\n",
       "      <td>...</td>\n",
       "      <td>26.48</td>\n",
       "      <td>13.29</td>\n",
       "      <td>12.25</td>\n",
       "      <td>8.44</td>\n",
       "      <td>24.24</td>\n",
       "      <td>82.97</td>\n",
       "      <td>18.94</td>\n",
       "      <td>24.99</td>\n",
       "      <td>40.66</td>\n",
       "      <td>41.39</td>\n",
       "    </tr>\n",
       "    <tr>\n",
       "      <th>3</th>\n",
       "      <td>127.07</td>\n",
       "      <td>31.78</td>\n",
       "      <td>38.87</td>\n",
       "      <td>22.07</td>\n",
       "      <td>28.51</td>\n",
       "      <td>7.17</td>\n",
       "      <td>3.37</td>\n",
       "      <td>42.18</td>\n",
       "      <td>31.73</td>\n",
       "      <td>19.78</td>\n",
       "      <td>...</td>\n",
       "      <td>26.05</td>\n",
       "      <td>13.31</td>\n",
       "      <td>11.80</td>\n",
       "      <td>8.31</td>\n",
       "      <td>25.45</td>\n",
       "      <td>82.51</td>\n",
       "      <td>19.15</td>\n",
       "      <td>25.15</td>\n",
       "      <td>40.26</td>\n",
       "      <td>41.59</td>\n",
       "    </tr>\n",
       "    <tr>\n",
       "      <th>4</th>\n",
       "      <td>125.70</td>\n",
       "      <td>31.17</td>\n",
       "      <td>39.85</td>\n",
       "      <td>22.40</td>\n",
       "      <td>27.13</td>\n",
       "      <td>6.69</td>\n",
       "      <td>3.35</td>\n",
       "      <td>42.23</td>\n",
       "      <td>31.80</td>\n",
       "      <td>18.82</td>\n",
       "      <td>...</td>\n",
       "      <td>26.11</td>\n",
       "      <td>13.02</td>\n",
       "      <td>12.60</td>\n",
       "      <td>8.27</td>\n",
       "      <td>24.71</td>\n",
       "      <td>81.47</td>\n",
       "      <td>18.75</td>\n",
       "      <td>25.27</td>\n",
       "      <td>40.00</td>\n",
       "      <td>42.03</td>\n",
       "    </tr>\n",
       "    <tr>\n",
       "      <th>5</th>\n",
       "      <td>127.69</td>\n",
       "      <td>31.87</td>\n",
       "      <td>39.98</td>\n",
       "      <td>26.03</td>\n",
       "      <td>28.24</td>\n",
       "      <td>6.91</td>\n",
       "      <td>3.49</td>\n",
       "      <td>43.03</td>\n",
       "      <td>32.20</td>\n",
       "      <td>19.57</td>\n",
       "      <td>...</td>\n",
       "      <td>25.91</td>\n",
       "      <td>13.00</td>\n",
       "      <td>12.42</td>\n",
       "      <td>8.38</td>\n",
       "      <td>25.47</td>\n",
       "      <td>83.42</td>\n",
       "      <td>19.44</td>\n",
       "      <td>25.04</td>\n",
       "      <td>40.25</td>\n",
       "      <td>42.79</td>\n",
       "    </tr>\n",
       "  </tbody>\n",
       "</table>\n",
       "<p>6 rows × 452 columns</p>\n",
       "</div>"
      ],
      "text/plain": [
       "       D1     D2     D3     D4     D5    D6    D7     D8     D9    D10  ...  \\\n",
       "0  126.75  30.51  40.05  21.75  25.60  7.01  3.24  42.04  31.59  19.14  ...   \n",
       "1  126.27  30.69  40.44  21.34  26.30  6.94  3.45  42.33  31.60  19.05  ...   \n",
       "2  127.19  31.97  40.70  22.11  27.51  7.16  3.45  42.75  32.00  19.96  ...   \n",
       "3  127.07  31.78  38.87  22.07  28.51  7.17  3.37  42.18  31.73  19.78  ...   \n",
       "4  125.70  31.17  39.85  22.40  27.13  6.69  3.35  42.23  31.80  18.82  ...   \n",
       "5  127.69  31.87  39.98  26.03  28.24  6.91  3.49  43.03  32.20  19.57  ...   \n",
       "\n",
       "    D443   D444   D445  D446   D447   D448   D449   D450   D451   D452  \n",
       "0  25.65  13.50  11.35  8.16  22.03  80.23  17.60  25.12  40.30  40.64  \n",
       "1  25.59  13.40  11.54  8.28  22.94  80.70  18.10  24.55  40.40  40.27  \n",
       "2  26.48  13.29  12.25  8.44  24.24  82.97  18.94  24.99  40.66  41.39  \n",
       "3  26.05  13.31  11.80  8.31  25.45  82.51  19.15  25.15  40.26  41.59  \n",
       "4  26.11  13.02  12.60  8.27  24.71  81.47  18.75  25.27  40.00  42.03  \n",
       "5  25.91  13.00  12.42  8.38  25.47  83.42  19.44  25.04  40.25  42.79  \n",
       "\n",
       "[6 rows x 452 columns]"
      ]
     },
     "execution_count": 36,
     "metadata": {},
     "output_type": "execute_result"
    }
   ],
   "source": [
    "p = 452\n",
    "n = 1258\n",
    "R = 1000\n",
    "\n",
    "df = pd.read_csv('snp452-data.csv')\n",
    "df.head(6)"
   ]
  },
  {
   "cell_type": "code",
   "execution_count": 37,
   "id": "focused-rates",
   "metadata": {},
   "outputs": [
    {
     "name": "stdout",
     "output_type": "stream",
     "text": [
      "Now the shape of X is (452, 1258)\n"
     ]
    }
   ],
   "source": [
    "X = np.asarray(df)\n",
    "X = X.T\n",
    "print(\"Now the shape of X is {}\".format(X.shape))\n"
   ]
  },
  {
   "cell_type": "markdown",
   "id": "animal-atlanta",
   "metadata": {},
   "source": [
    "### A. Take the log price"
   ]
  },
  {
   "cell_type": "code",
   "execution_count": 38,
   "id": "traditional-appendix",
   "metadata": {},
   "outputs": [],
   "source": [
    "Y = np.log(X)"
   ]
  },
  {
   "cell_type": "markdown",
   "id": "special-controversy",
   "metadata": {},
   "source": [
    "### B. Compute the log price jump"
   ]
  },
  {
   "cell_type": "code",
   "execution_count": 39,
   "id": "structural-relay",
   "metadata": {},
   "outputs": [
    {
     "name": "stdout",
     "output_type": "stream",
     "text": [
      "The shape of Y after differentiating is (452, 1257)\n"
     ]
    }
   ],
   "source": [
    "dY = np.diff(Y, axis = 1)\n",
    "print(\"The shape of Y after differentiating is {}\".format(dY.shape))\n",
    "p, n = dY.shape"
   ]
  },
  {
   "cell_type": "markdown",
   "id": "twenty-passenger",
   "metadata": {},
   "source": [
    "### C. construct the realized covatiance matrix S"
   ]
  },
  {
   "cell_type": "code",
   "execution_count": 40,
   "id": "complex-postage",
   "metadata": {},
   "outputs": [
    {
     "data": {
      "text/plain": [
       "(452, 452)"
      ]
     },
     "execution_count": 40,
     "metadata": {},
     "output_type": "execute_result"
    }
   ],
   "source": [
    "S = np.cov(dY)\n",
    "S.shape"
   ]
  },
  {
   "cell_type": "markdown",
   "id": "knowing-fifteen",
   "metadata": {},
   "source": [
    "### D. Compute the eigenvalues of S and store them in a descendign order"
   ]
  },
  {
   "cell_type": "code",
   "execution_count": 41,
   "id": "typical-carrier",
   "metadata": {},
   "outputs": [],
   "source": [
    "eigen_values, eigen_vectors = alg.eig(S)\n",
    "eigen_pairs = [(eigen_values[i], eigen_vectors[:, i]) for i in range(len(eigen_values))]\n",
    "eigen_pairs.sort(key=lambda eigen_pairs: eigen_pairs[0], reverse=True)"
   ]
  },
  {
   "cell_type": "markdown",
   "id": "innocent-singer",
   "metadata": {},
   "source": [
    "### H. Horn's Parallel Analysis"
   ]
  },
  {
   "cell_type": "code",
   "execution_count": 42,
   "id": "alert-swiss",
   "metadata": {},
   "outputs": [],
   "source": [
    "\"\"\"\n",
    "Args:\n",
    "    N: is an array to count\n",
    "    N[k]: counts the number of events where Sr's k-th biggest eigenvalue > S's k-th biggest eigenvalue\n",
    "    Sr: A permutated random matrix\n",
    "    r : the index for permutation experiments\n",
    "    R : the total number of permutation experiments\n",
    "\"\"\"\n",
    "N = np.zeros(p)\n",
    "\n",
    "for r in range(R):\n",
    "    Sr = np.zeros(shape=(p, p))\n",
    "    # Create a permutated Sr\n",
    "    for i in range(p):\n",
    "        permu = np.random.permutation(p)\n",
    "        Sr[i, :] = S[i, permu]\n",
    "    # Find the eigenvalues and eigenvectors of Sr\n",
    "    Sr_eigen_values, Sr_eigen_vectors = alg.eig(Sr)\n",
    "    Sr_eigen_pairs = [(Sr_eigen_values[j], Sr_eigen_vectors[:, j]) for j in range(len(Sr_eigen_values))]\n",
    "    # Sort the eigen_pairs of Sr\n",
    "    Sr_eigen_pairs.sort(key=lambda Sr_eigen_pairs: Sr_eigen_pairs[0],\n",
    "                       reverse=True)\n",
    "    # Update Nk over the new Sr_eigen_values\n",
    "    for k in range(p):\n",
    "        if eigen_values[k] < Sr_eigen_values[k]:\n",
    "            N[k] += 1"
   ]
  },
  {
   "cell_type": "markdown",
   "id": "governing-ethnic",
   "metadata": {},
   "source": [
    "### Calculate the p-value for all eigenvalues of S and visualize them"
   ]
  },
  {
   "cell_type": "code",
   "execution_count": 43,
   "id": "sunset-playback",
   "metadata": {},
   "outputs": [],
   "source": [
    "P_values = [(N[k]+1)/(R+1) for k in range(p)]"
   ]
  },
  {
   "cell_type": "code",
   "execution_count": 44,
   "id": "second-language",
   "metadata": {},
   "outputs": [
    {
     "data": {
      "image/png": "[encoded data removed]",
      "text/plain": [
       "<Figure size 432x288 with 1 Axes>"
      ]
     },
     "metadata": {
      "needs_background": "light"
     },
     "output_type": "display_data"
    }
   ],
   "source": [
    "plt.plot(P_values)\n",
    "plt.show()"
   ]
  },
  {
   "cell_type": "markdown",
   "id": "another-locking",
   "metadata": {},
   "source": [
    "### Find the first doubtful eigenvalue"
   ]
  },
  {
   "cell_type": "code",
   "execution_count": 45,
   "id": "operational-harrison",
   "metadata": {},
   "outputs": [
    {
     "name": "stdout",
     "output_type": "stream",
     "text": [
      "The first eigenvalue that has bigger competitor from Sr's is the 63-th\n",
      " its value is 3.0 with p-value 0.003996003996003996 \n"
     ]
    }
   ],
   "source": [
    "for k in range(p):\n",
    "    if N[k] > 0:\n",
    "        print(\"The first eigenvalue that has bigger competitor from Sr's is the {}-th\\n its value is {} with p-value {} \".format(k, N[k], P_values[k]))\n",
    "        break"
   ]
  },
  {
   "cell_type": "markdown",
   "id": "fundamental-brooklyn",
   "metadata": {},
   "source": [
    "Thus, we have evidence to believe PCA can be conducted to this dataset efficiently and effectively. "
   ]
  },
  {
   "cell_type": "code",
   "execution_count": null,
   "id": "determined-medium",
   "metadata": {},
   "outputs": [],
   "source": []
  }
 ],
 "metadata": {
  "kernelspec": {
   "display_name": "Python 3",
   "language": "python",
   "name": "python3"
  },
  "language_info": {
   "codemirror_mode": {
    "name": "ipython",
    "version": 3
   },
   "file_extension": ".py",
   "mimetype": "text/x-python",
   "name": "python",
   "nbconvert_exporter": "python",
   "pygments_lexer": "ipython3",
   "version": "3.7.9"
  }
 },
 "nbformat": 4,
 "nbformat_minor": 5
}
