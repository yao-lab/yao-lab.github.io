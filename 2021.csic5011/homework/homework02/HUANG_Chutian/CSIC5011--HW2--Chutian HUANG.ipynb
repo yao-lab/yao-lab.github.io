{
 "cells": [
  {
   "cell_type": "code",
   "execution_count": 15,
   "metadata": {},
   "outputs": [],
   "source": [
    "import numpy as np\n",
    "import pandas as pd\n",
    "import matplotlib.pyplot as plt\n",
    "%matplotlib inline"
   ]
  },
  {
   "cell_type": "markdown",
   "metadata": {},
   "source": [
    "### Problem 1"
   ]
  },
  {
   "cell_type": "markdown",
   "metadata": {},
   "source": [
    "Since we choose $\\sigma=1$, the signal-to-noise ratio (SNR) is $\\frac{\\lambda_0}{\\sigma^2}=\\lambda_0$"
   ]
  },
  {
   "cell_type": "code",
   "execution_count": 262,
   "metadata": {},
   "outputs": [
    {
     "data": {
      "image/png": "[encoded data removed]",
      "text/plain": [
       "<Figure size 432x288 with 1 Axes>"
      ]
     },
     "metadata": {
      "needs_background": "light"
     },
     "output_type": "display_data"
    },
    {
     "data": {
      "image/png": "[encoded data removed]",
      "text/plain": [
       "<Figure size 432x288 with 1 Axes>"
      ]
     },
     "metadata": {
      "needs_background": "light"
     },
     "output_type": "display_data"
    }
   ],
   "source": [
    "lambda0=0.8\n",
    "\n",
    "for i in range(100):\n",
    "    \n",
    "    # Initialization\n",
    "    lambda0 = lambda0 + 1/100\n",
    "   \n",
    "    gamma = 1/2\n",
    "    n = int(400)  # number of samples\n",
    "    p = int(n * gamma*gamma)  # dimension\n",
    "    u = np.ones((p,1))/np.sqrt(p)  # np.linalg.norm(u) = 1\n",
    "\n",
    "    sigma = lamda0 * np.dot(u,u.T) + np.identity(p)\n",
    "    mean = np.zeros((p))\n",
    "\n",
    "\n",
    "    #Sampling\n",
    "    X = np.random.multivariate_normal(mean=mean, cov=sigma, size=n).T  # shape of X: (p,n)\n",
    "\n",
    "\n",
    "    # Compute sample covariance matrix and its eigenvalues & eigenvectors\n",
    "    cov_mat = np.dot(X,X.T)/n\n",
    "    eigenvalues, eigenvectors = np.linalg.eig(cov_mat)\n",
    "\n",
    "    # Rearrange them in descending order\n",
    "    sorted_indices = np.argsort(eigenvalues)[::-1]  # the index of eigenvalues in descending order\n",
    "\n",
    "    desc_evals = eigenvalues[sorted_indices]  # eigenvalues in descending order\n",
    "    desc_evecs = eigenvectors[:,sorted_indices]  # eigenvectors in descending order\n",
    "\n",
    "\n",
    "    # Compute largest eigenvalue and its associated eigenvector using methods in (a) and (c)\n",
    "    lamda_hat = (1+lambda0) * (1+gamma/lambda0)\n",
    "    u_v_inner_prod=(1-gamma/(lambda0*lambda0)) / (1+gamma/lambda0)\n",
    "    \n",
    "\n",
    "    \n",
    "    # plot\n",
    "    \n",
    "    # difference of true largest eigenvalue of computed eigenvalue\n",
    "    plt.figure(1)\n",
    "    plt.xlabel('$\\lambda_0$')\n",
    "    plt.ylabel('true largest eval $-\\hat{\\lambda}$')\n",
    "    plt.plot(lambda0, desc_evals[0]-lamda_hat, marker = '+', linestyle = '')\n",
    "    \n",
    "    # inner product of u and v\n",
    "    plt.figure(2)\n",
    "    plt.xlabel('$\\lambda_0$')\n",
    "    plt.ylabel('$<u,v>^2$')\n",
    "    plt.plot(lambda0, u_v_inner_prod, marker = '+', linestyle = '')\n",
    "plt.show()"
   ]
  },
  {
   "cell_type": "markdown",
   "metadata": {},
   "source": [
    "### Problem 2"
   ]
  },
  {
   "cell_type": "code",
   "execution_count": 143,
   "metadata": {},
   "outputs": [
    {
     "data": {
      "text/plain": [
       "dict_keys(['__header__', '__version__', '__globals__', 'stock', 'X'])"
      ]
     },
     "execution_count": 143,
     "metadata": {},
     "output_type": "execute_result"
    }
   ],
   "source": [
    "import scipy.io\n",
    "file = scipy.io.loadmat('snp452-data.mat')\n",
    "file.keys()"
   ]
  },
  {
   "cell_type": "code",
   "execution_count": 145,
   "metadata": {},
   "outputs": [
    {
     "name": "stdout",
     "output_type": "stream",
     "text": [
      "[[126.75  30.51  40.05 ...  25.12  40.3   40.64]\n",
      " [126.27  30.69  40.44 ...  24.55  40.4   40.27]\n",
      " [127.19  31.97  40.7  ...  24.99  40.66  41.39]\n",
      " ...\n",
      " [ 85.4   61.32  56.98 ...  37.96  66.41  46.32]\n",
      " [ 85.09  61.9   57.23 ...  38.54  66.45  46.14]\n",
      " [ 84.32  61.78  56.15 ...  38.27  66.15  46.69]]\n",
      "(1258, 452)\n"
     ]
    }
   ],
   "source": [
    "print(file['X'])\n",
    "print(file['X'].shape)"
   ]
  },
  {
   "cell_type": "code",
   "execution_count": 227,
   "metadata": {},
   "outputs": [],
   "source": [
    "# Stock data\n",
    "X = file['X'].T\n",
    "\n",
    "# Logarithmic prices\n",
    "Y = np.log(X)\n",
    "\n",
    "# Logarithmic price jumps\n",
    "Y_jump = Y[:,1:1278] - Y[:,0:1257]"
   ]
  },
  {
   "cell_type": "code",
   "execution_count": 228,
   "metadata": {},
   "outputs": [],
   "source": [
    "# Compute sample covariance matrix and its eigenvalues & eigenvectors\n",
    "cov_matrix = np.dot(Y_jump, Y_jump.T)/Y_jump.shape[1]\n",
    "\n",
    "eigenvalues_2, eigenvectors_2 = np.linalg.eig(cov_matrix)\n",
    "\n",
    "# Rearrange them in descending order\n",
    "sorted_indices_2 = np.argsort(eigenvalues_2)[::-1]  # the index of eigenvalues in descending order\n",
    "\n",
    "desc_evals_2 = eigenvalues_2[sorted_indices_2]  # eigenvalues in descending order\n",
    "desc_evecs_2 = eigenvectors_2[:,sorted_indices_2]  # eigenvectors in descending order\n"
   ]
  },
  {
   "cell_type": "markdown",
   "metadata": {},
   "source": [
    "#### Parallel Analysis"
   ]
  },
  {
   "cell_type": "code",
   "execution_count": 258,
   "metadata": {},
   "outputs": [
    {
     "data": {
      "text/plain": [
       "array([[3.83452400e-02, 8.92081483e-03, 7.59199409e-03, ...,\n",
       "        1.46588235e-05, 1.32870875e-05, 1.17506867e-05],\n",
       "       [3.83452400e-02, 8.92081483e-03, 7.59199409e-03, ...,\n",
       "        1.46588235e-05, 1.32870875e-05, 1.17506867e-05],\n",
       "       [3.83452400e-02, 8.92081483e-03, 7.59199409e-03, ...,\n",
       "        1.46588235e-05, 1.32870875e-05, 1.17506867e-05],\n",
       "       ...,\n",
       "       [3.83452400e-02, 8.92081483e-03, 7.59199409e-03, ...,\n",
       "        1.46588235e-05, 1.32870875e-05, 1.17506867e-05],\n",
       "       [3.83452400e-02, 8.92081483e-03, 7.59199409e-03, ...,\n",
       "        1.46588235e-05, 1.32870875e-05, 1.17506867e-05],\n",
       "       [3.83452400e-02, 8.92081483e-03, 7.59199409e-03, ...,\n",
       "        1.46588235e-05, 1.32870875e-05, 1.17506867e-05]])"
      ]
     },
     "execution_count": 258,
     "metadata": {},
     "output_type": "execute_result"
    }
   ],
   "source": [
    "R = int(50)\n",
    "permuted_eigen_matrix = np.zeros((R,Y_jump.shape[0]))\n",
    "\n",
    "for i in range(R):\n",
    "    Y_jump_permuted = np.random.permutation(Y_jump.T).T # random permutation within each row of Y_jump\n",
    "    cov_permuted = np.dot(Y_jump_permuted, Y_jump_permuted.T)/Y_jump_permuted.shape[1]\n",
    "    \n",
    "    eigenvalues_permuted, eigenvectors_permuted = np.linalg.eig(cov_permuted)\n",
    "\n",
    "    sorted_indices_permuted = np.argsort(eigenvalues_permuted)[::-1]  # the index of eigenvalues in descending order\n",
    "\n",
    "    desc_evals_permuted = eigenvalues_permuted[sorted_indices_permuted]  # eigenvalues in descending order\n",
    "    desc_evecs_permuted = eigenvectors_permuted[:,sorted_indices_permuted]  # eigenvectors in descending order\n",
    "    permuted_eigen_matrix[i,:]=desc_evals_permuted\n",
    "    \n",
    "permuted_eigen_matrix"
   ]
  },
  {
   "cell_type": "code",
   "execution_count": 259,
   "metadata": {
    "scrolled": true
   },
   "outputs": [
    {
     "name": "stdout",
     "output_type": "stream",
     "text": [
      "[0.04 0.26 0.32 0.04 0.1  0.46 0.92 0.36 0.6  0.28 0.08 0.88 0.48 0.62\n",
      " 0.56 0.1  0.4  0.18 0.3  0.1  0.66 0.02 0.02 0.5  0.54 0.64 0.12 0.72\n",
      " 0.58 0.24 0.78 0.38 0.82 0.92 0.26 0.52 0.1  0.22 0.9  0.86 0.48 0.8\n",
      " 0.18 0.32 0.14 0.72 0.4  0.52 0.54 0.16 0.24 0.5  0.52 0.74 0.42 0.88\n",
      " 0.78 0.54 1.   0.2  0.82 0.5  0.24 0.4  0.98 0.8  0.1  0.32 0.46 0.24\n",
      " 0.54 0.46 0.56 0.44 0.88 0.34 0.32 0.62 0.7  0.28 0.44 0.36 0.68 0.08\n",
      " 0.02 0.02 0.86 0.02 0.04 0.28 0.   0.5  0.04 0.02 0.1  0.2  0.56 0.46\n",
      " 0.96 0.76 0.14 0.32 0.08 0.84 0.   0.04 0.18 0.32 0.56 0.62 0.4  0.68\n",
      " 0.2  0.3  0.24 0.22 0.1  0.8  0.1  1.   0.18 0.78 0.08 0.92 0.8  0.38\n",
      " 0.74 0.28 0.18 0.4  0.84 0.02 0.6  0.54 0.34 0.08 0.34 0.72 0.22 0.18\n",
      " 0.02 0.54 0.44 0.58 0.24 0.46 0.34 0.88 0.34 0.66 0.72 0.46 0.28 0.84\n",
      " 0.3  0.16 0.16 0.24 0.   0.14 0.54 0.58 0.64 0.76 0.8  0.   0.46 0.28\n",
      " 0.88 0.52 0.08 0.94 0.92 0.92 0.82 0.62 0.84 0.78 0.88 0.7  0.84 0.84\n",
      " 0.66 0.9  0.02 0.18 0.78 0.28 1.   0.24 0.4  0.72 0.88 0.94 0.64 0.42\n",
      " 0.58 1.   0.78 0.4  0.96 0.94 0.74 0.04 0.6  0.46 0.46 0.82 0.24 0.62\n",
      " 0.12 0.8  0.08 0.72 0.26 0.68 0.76 0.9  0.16 0.08 0.4  0.04 0.32 0.52\n",
      " 0.12 0.44 0.58 0.44 0.56 0.38 0.04 0.36 0.58 0.14 0.82 0.9  0.04 0.82\n",
      " 0.34 0.26 0.26 0.02 0.6  0.82 0.3  0.04 0.14 0.42 0.3  0.08 0.46 0.08\n",
      " 0.38 0.78 0.44 0.22 0.22 0.76 0.36 0.24 0.68 0.18 0.04 0.3  0.16 0.68\n",
      " 0.16 0.76 0.   0.26 0.2  0.18 0.   0.08 0.12 0.38 0.68 0.64 0.12 0.28\n",
      " 0.66 0.52 0.34 0.02 0.84 0.52 0.68 0.8  0.9  1.   0.6  0.54 0.84 0.68\n",
      " 0.8  0.4  0.1  0.94 0.9  0.46 0.9  0.56 0.58 0.28 0.2  0.4  0.9  0.86\n",
      " 0.68 0.42 0.38 0.24 0.02 0.32 0.66 0.8  0.8  0.42 0.44 0.78 0.56 0.76\n",
      " 0.1  0.   0.82 0.26 0.   0.46 0.16 0.5  0.98 0.56 0.9  0.32 0.16 1.\n",
      " 0.32 0.58 0.24 0.46 0.62 0.62 0.76 0.96 0.22 0.7  0.68 0.2  0.3  0.66\n",
      " 0.16 0.92 0.34 0.2  0.5  0.26 0.26 0.2  0.14 0.98 0.14 0.   0.08 0.22\n",
      " 0.34 0.68 0.66 0.12 0.6  0.08 0.32 0.06 0.32 0.46 0.66 0.04 0.5  0.06\n",
      " 0.14 0.02 1.   0.24 0.32 0.26 0.78 0.26 0.84 0.22 0.04 0.1  0.84 0.78\n",
      " 0.56 0.62 0.48 0.1  0.8  0.54 0.82 0.04 0.46 0.08 0.78 0.7  0.82 0.46\n",
      " 0.5  0.22 0.1  0.14 0.46 0.9  0.28 0.02 0.32 0.74 0.98 0.66 0.84 0.08\n",
      " 0.84 0.   0.88 0.44 0.38 0.88 0.04 0.82 0.32 0.28 0.16 0.12 0.28 0.34\n",
      " 0.92 0.12 0.44 0.36 0.28 0.28 0.1  0.64 0.76 0.7  0.3  0.44 0.54 0.7\n",
      " 0.64 0.22 0.76 0.42]\n"
     ]
    }
   ],
   "source": [
    "eigen_compare_index = (permuted_eigen_matrix>eigen_matrix)\n",
    "pval = np.sum(eigen_compare_index, axis=0)/R\n",
    "print(pval)"
   ]
  },
  {
   "cell_type": "code",
   "execution_count": 260,
   "metadata": {},
   "outputs": [
    {
     "name": "stdout",
     "output_type": "stream",
     "text": [
      "the sumber of true signal is: 39\n"
     ]
    }
   ],
   "source": [
    "pval_compare_index = (pval < 0.05)\n",
    "print('the sumber of true signal is:',np.sum(pval_compare_index))"
   ]
  },
  {
   "cell_type": "code",
   "execution_count": 261,
   "metadata": {},
   "outputs": [
    {
     "name": "stdout",
     "output_type": "stream",
     "text": [
      "the true signals are: \n",
      " [3.83452400e-02 5.04734993e-03 1.50075443e-03 1.46995083e-03\n",
      " 6.83403300e-04 6.78292584e-04 6.62521474e-04 6.59970347e-04\n",
      " 6.50502675e-04 6.43255410e-04 6.34733523e-04 5.88675653e-04\n",
      " 5.83140744e-04 4.89802042e-04 4.58452805e-04 4.01588576e-04\n",
      " 3.85391232e-04 3.20493623e-04 2.64854213e-04 2.22409190e-04\n",
      " 2.06781760e-04 1.93629249e-04 1.85225330e-04 1.77227740e-04\n",
      " 1.50363174e-04 1.43447040e-04 1.35173729e-04 1.21951035e-04\n",
      " 9.23171227e-05 8.21504804e-05 7.98192044e-05 5.75033187e-05\n",
      " 4.92296049e-05 4.69348075e-05 4.17185562e-05 3.72145652e-05\n",
      " 3.05078917e-05 2.71081586e-05 2.49389930e-05]\n"
     ]
    }
   ],
   "source": [
    "true_signal = desc_evals_2[pval_compare_index]\n",
    "print('the true signals are:', '\\n', true_signal)"
   ]
  }
 ],
 "metadata": {
  "kernelspec": {
   "display_name": "Python 3",
   "language": "python",
   "name": "python3"
  },
  "language_info": {
   "codemirror_mode": {
    "name": "ipython",
    "version": 3
   },
   "file_extension": ".py",
   "mimetype": "text/x-python",
   "name": "python",
   "nbconvert_exporter": "python",
   "pygments_lexer": "ipython3",
   "version": "3.7.2"
  }
 },
 "nbformat": 4,
 "nbformat_minor": 2
}
